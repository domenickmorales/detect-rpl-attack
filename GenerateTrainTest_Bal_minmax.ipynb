{
 "cells": [
  {
   "cell_type": "markdown",
   "metadata": {},
   "source": [
    "# Dataset tidying, class balance, encoding, normalization -> regular train and test subsets"
   ]
  },
  {
   "cell_type": "markdown",
   "metadata": {},
   "source": [
    "<font color='blue'>Creation of balanced dataset</font>"
   ]
  },
  {
   "cell_type": "markdown",
   "metadata": {},
   "source": [
    "#### 1.1 Module loading"
   ]
  },
  {
   "cell_type": "code",
   "execution_count": 1,
   "metadata": {},
   "outputs": [],
   "source": [
    "import pandas as pd\n",
    "import numpy as np\n",
    "import matplotlib.pyplot as plt\n",
    "import imblearn\n",
    "from sklearn.preprocessing import LabelEncoder, MinMaxScaler, FunctionTransformer, OneHotEncoder\n",
    "from sklearn.compose import ColumnTransformer, make_column_transformer\n",
    "import os.path"
   ]
  },
  {
   "cell_type": "markdown",
   "metadata": {},
   "source": [
    "#### 0. Variables"
   ]
  },
  {
   "cell_type": "code",
   "execution_count": 2,
   "metadata": {},
   "outputs": [],
   "source": [
    "ds = \"100\"\n",
    "fraction_factor = 1"
   ]
  },
  {
   "cell_type": "markdown",
   "metadata": {},
   "source": [
    "#### 1.2 Dataset loading"
   ]
  },
  {
   "cell_type": "code",
   "execution_count": 3,
   "metadata": {},
   "outputs": [
    {
     "name": "stdout",
     "output_type": "stream",
     "text": [
      "/home/user/01Code/00Datasets_final/sybil_100n_with-malicious_labelled.csv\n"
     ]
    }
   ],
   "source": [
    "#pathds = '/home/user/01Code/00Datasets_final/helpers/'\n",
    "pathds = os.path.abspath('/home/user/01Code/00Datasets_final/')\n",
    "file_name = \"sybil_\"+ds+\"n_with-malicious_labelled.csv\"\n",
    "full_path = os.path.join(pathds,file_name)\n",
    "print(full_path)"
   ]
  },
  {
   "cell_type": "code",
   "execution_count": 4,
   "metadata": {},
   "outputs": [],
   "source": [
    "#Columns\n",
    "columns_csv = \"frame_time_delta,frame_time_epoch,frame_time_relative,frame_cap_len,frame_len,frame_number,ipv6_src,ipv6_dst,ipv6_plen,sixlowpan_pattern,wpan_ack_request,wpan_dst_addr_mode,wpan_fcf,wpan_fcs,wpan_frame_length,wpan_pending,wpan_seq_no,icmpv6_checksum,icmpv6_code,class\".split(\",\")"
   ]
  },
  {
   "cell_type": "code",
   "execution_count": 5,
   "metadata": {},
   "outputs": [],
   "source": [
    "#Full DS\n",
    "df_full = pd.read_csv(full_path, low_memory=False, sep=',', names=columns_csv, skiprows=1)\n",
    "df_full_size = df_full.shape[0]"
   ]
  },
  {
   "cell_type": "code",
   "execution_count": 6,
   "metadata": {},
   "outputs": [],
   "source": [
    "#DS third of the total\n",
    "df_chunk = pd.read_csv(full_path, low_memory=False, sep=',', names=columns_csv, skiprows=1, chunksize=1000)\n",
    "df = df_chunk.get_chunk(int(df_full_size/fraction_factor))"
   ]
  },
  {
   "cell_type": "code",
   "execution_count": 7,
   "metadata": {},
   "outputs": [
    {
     "name": "stdout",
     "output_type": "stream",
     "text": [
      "(1492578, 20)\n",
      "(1492578, 20)\n"
     ]
    }
   ],
   "source": [
    "print(df.shape)\n",
    "print(df_full.shape)"
   ]
  },
  {
   "cell_type": "code",
   "execution_count": 8,
   "metadata": {},
   "outputs": [
    {
     "data": {
      "text/html": [
       "<div>\n",
       "<style scoped>\n",
       "    .dataframe tbody tr th:only-of-type {\n",
       "        vertical-align: middle;\n",
       "    }\n",
       "\n",
       "    .dataframe tbody tr th {\n",
       "        vertical-align: top;\n",
       "    }\n",
       "\n",
       "    .dataframe thead th {\n",
       "        text-align: right;\n",
       "    }\n",
       "</style>\n",
       "<table border=\"1\" class=\"dataframe\">\n",
       "  <thead>\n",
       "    <tr style=\"text-align: right;\">\n",
       "      <th></th>\n",
       "      <th>frame_time_delta</th>\n",
       "      <th>frame_time_epoch</th>\n",
       "      <th>frame_time_relative</th>\n",
       "      <th>frame_cap_len</th>\n",
       "      <th>frame_len</th>\n",
       "      <th>frame_number</th>\n",
       "      <th>ipv6_src</th>\n",
       "      <th>ipv6_dst</th>\n",
       "      <th>ipv6_plen</th>\n",
       "      <th>sixlowpan_pattern</th>\n",
       "      <th>wpan_ack_request</th>\n",
       "      <th>wpan_dst_addr_mode</th>\n",
       "      <th>wpan_fcf</th>\n",
       "      <th>wpan_fcs</th>\n",
       "      <th>wpan_frame_length</th>\n",
       "      <th>wpan_pending</th>\n",
       "      <th>wpan_seq_no</th>\n",
       "      <th>icmpv6_checksum</th>\n",
       "      <th>icmpv6_code</th>\n",
       "      <th>class</th>\n",
       "    </tr>\n",
       "  </thead>\n",
       "  <tbody>\n",
       "    <tr>\n",
       "      <th>0</th>\n",
       "      <td>0.000000</td>\n",
       "      <td>1.553720e+09</td>\n",
       "      <td>0.000000</td>\n",
       "      <td>64</td>\n",
       "      <td>64</td>\n",
       "      <td>1</td>\n",
       "      <td>fe80::c30c:0:0:27</td>\n",
       "      <td>ff02::1a</td>\n",
       "      <td>6</td>\n",
       "      <td>0x00000041</td>\n",
       "      <td>0</td>\n",
       "      <td>0x00000002</td>\n",
       "      <td>0x0000d841</td>\n",
       "      <td>0x000010ce</td>\n",
       "      <td>64</td>\n",
       "      <td>0</td>\n",
       "      <td>64</td>\n",
       "      <td>0x0000a3ed</td>\n",
       "      <td>0</td>\n",
       "      <td>0</td>\n",
       "    </tr>\n",
       "    <tr>\n",
       "      <th>1</th>\n",
       "      <td>0.003288</td>\n",
       "      <td>1.553720e+09</td>\n",
       "      <td>0.003288</td>\n",
       "      <td>64</td>\n",
       "      <td>64</td>\n",
       "      <td>2</td>\n",
       "      <td>fe80::c30c:0:0:27</td>\n",
       "      <td>ff02::1a</td>\n",
       "      <td>6</td>\n",
       "      <td>0x00000041</td>\n",
       "      <td>0</td>\n",
       "      <td>0x00000002</td>\n",
       "      <td>0x0000d841</td>\n",
       "      <td>0x000010ce</td>\n",
       "      <td>64</td>\n",
       "      <td>0</td>\n",
       "      <td>64</td>\n",
       "      <td>0x0000a3ed</td>\n",
       "      <td>0</td>\n",
       "      <td>0</td>\n",
       "    </tr>\n",
       "    <tr>\n",
       "      <th>2</th>\n",
       "      <td>0.003264</td>\n",
       "      <td>1.553720e+09</td>\n",
       "      <td>0.006552</td>\n",
       "      <td>64</td>\n",
       "      <td>64</td>\n",
       "      <td>3</td>\n",
       "      <td>fe80::c30c:0:0:27</td>\n",
       "      <td>ff02::1a</td>\n",
       "      <td>6</td>\n",
       "      <td>0x00000041</td>\n",
       "      <td>0</td>\n",
       "      <td>0x00000002</td>\n",
       "      <td>0x0000d841</td>\n",
       "      <td>0x000010ce</td>\n",
       "      <td>64</td>\n",
       "      <td>0</td>\n",
       "      <td>64</td>\n",
       "      <td>0x0000a3ed</td>\n",
       "      <td>0</td>\n",
       "      <td>0</td>\n",
       "    </tr>\n",
       "    <tr>\n",
       "      <th>3</th>\n",
       "      <td>0.003296</td>\n",
       "      <td>1.553720e+09</td>\n",
       "      <td>0.009848</td>\n",
       "      <td>64</td>\n",
       "      <td>64</td>\n",
       "      <td>4</td>\n",
       "      <td>fe80::c30c:0:0:27</td>\n",
       "      <td>ff02::1a</td>\n",
       "      <td>6</td>\n",
       "      <td>0x00000041</td>\n",
       "      <td>0</td>\n",
       "      <td>0x00000002</td>\n",
       "      <td>0x0000d841</td>\n",
       "      <td>0x000010ce</td>\n",
       "      <td>64</td>\n",
       "      <td>0</td>\n",
       "      <td>64</td>\n",
       "      <td>0x0000a3ed</td>\n",
       "      <td>0</td>\n",
       "      <td>0</td>\n",
       "    </tr>\n",
       "    <tr>\n",
       "      <th>4</th>\n",
       "      <td>0.003273</td>\n",
       "      <td>1.553720e+09</td>\n",
       "      <td>0.013121</td>\n",
       "      <td>64</td>\n",
       "      <td>64</td>\n",
       "      <td>5</td>\n",
       "      <td>fe80::c30c:0:0:27</td>\n",
       "      <td>ff02::1a</td>\n",
       "      <td>6</td>\n",
       "      <td>0x00000041</td>\n",
       "      <td>0</td>\n",
       "      <td>0x00000002</td>\n",
       "      <td>0x0000d841</td>\n",
       "      <td>0x000010ce</td>\n",
       "      <td>64</td>\n",
       "      <td>0</td>\n",
       "      <td>64</td>\n",
       "      <td>0x0000a3ed</td>\n",
       "      <td>0</td>\n",
       "      <td>0</td>\n",
       "    </tr>\n",
       "  </tbody>\n",
       "</table>\n",
       "</div>"
      ],
      "text/plain": [
       "   frame_time_delta  frame_time_epoch  frame_time_relative  frame_cap_len  \\\n",
       "0          0.000000      1.553720e+09             0.000000             64   \n",
       "1          0.003288      1.553720e+09             0.003288             64   \n",
       "2          0.003264      1.553720e+09             0.006552             64   \n",
       "3          0.003296      1.553720e+09             0.009848             64   \n",
       "4          0.003273      1.553720e+09             0.013121             64   \n",
       "\n",
       "   frame_len  frame_number           ipv6_src  ipv6_dst  ipv6_plen  \\\n",
       "0         64             1  fe80::c30c:0:0:27  ff02::1a          6   \n",
       "1         64             2  fe80::c30c:0:0:27  ff02::1a          6   \n",
       "2         64             3  fe80::c30c:0:0:27  ff02::1a          6   \n",
       "3         64             4  fe80::c30c:0:0:27  ff02::1a          6   \n",
       "4         64             5  fe80::c30c:0:0:27  ff02::1a          6   \n",
       "\n",
       "  sixlowpan_pattern  wpan_ack_request wpan_dst_addr_mode    wpan_fcf  \\\n",
       "0        0x00000041                 0         0x00000002  0x0000d841   \n",
       "1        0x00000041                 0         0x00000002  0x0000d841   \n",
       "2        0x00000041                 0         0x00000002  0x0000d841   \n",
       "3        0x00000041                 0         0x00000002  0x0000d841   \n",
       "4        0x00000041                 0         0x00000002  0x0000d841   \n",
       "\n",
       "     wpan_fcs  wpan_frame_length  wpan_pending  wpan_seq_no icmpv6_checksum  \\\n",
       "0  0x000010ce                 64             0           64      0x0000a3ed   \n",
       "1  0x000010ce                 64             0           64      0x0000a3ed   \n",
       "2  0x000010ce                 64             0           64      0x0000a3ed   \n",
       "3  0x000010ce                 64             0           64      0x0000a3ed   \n",
       "4  0x000010ce                 64             0           64      0x0000a3ed   \n",
       "\n",
       "   icmpv6_code  class  \n",
       "0            0      0  \n",
       "1            0      0  \n",
       "2            0      0  \n",
       "3            0      0  \n",
       "4            0      0  "
      ]
     },
     "execution_count": 8,
     "metadata": {},
     "output_type": "execute_result"
    }
   ],
   "source": [
    "df.head()"
   ]
  },
  {
   "cell_type": "markdown",
   "metadata": {},
   "source": [
    "> I fixed the *names = columns_csv* for more fexibility"
   ]
  },
  {
   "cell_type": "markdown",
   "metadata": {},
   "source": [
    "### 2. Dropping of nan values in rows and columns"
   ]
  },
  {
   "cell_type": "markdown",
   "metadata": {},
   "source": [
    "#### 2.1 Finding if there is any column or row with nan values"
   ]
  },
  {
   "cell_type": "code",
   "execution_count": 9,
   "metadata": {},
   "outputs": [
    {
     "name": "stdout",
     "output_type": "stream",
     "text": [
      "No nans df\n"
     ]
    }
   ],
   "source": [
    "nan_df = df.isnull().any().tolist()\n",
    "\n",
    "if True in nan_df: print('**There is nans in df_test!**\\n\\n', df.isnull().any())\n",
    "else: print(\"No nans df\")"
   ]
  },
  {
   "cell_type": "markdown",
   "metadata": {},
   "source": [
    "> As it is True in some columns (features) It was required to remove this samples"
   ]
  },
  {
   "cell_type": "code",
   "execution_count": 10,
   "metadata": {},
   "outputs": [
    {
     "data": {
      "text/plain": [
       "frame_time_delta       0\n",
       "frame_time_epoch       0\n",
       "frame_time_relative    0\n",
       "frame_cap_len          0\n",
       "frame_len              0\n",
       "frame_number           0\n",
       "ipv6_src               0\n",
       "ipv6_dst               0\n",
       "ipv6_plen              0\n",
       "sixlowpan_pattern      0\n",
       "wpan_ack_request       0\n",
       "wpan_dst_addr_mode     0\n",
       "wpan_fcf               0\n",
       "wpan_fcs               0\n",
       "wpan_frame_length      0\n",
       "wpan_pending           0\n",
       "wpan_seq_no            0\n",
       "icmpv6_checksum        0\n",
       "icmpv6_code            0\n",
       "class                  0\n",
       "dtype: int64"
      ]
     },
     "execution_count": 10,
     "metadata": {},
     "output_type": "execute_result"
    }
   ],
   "source": [
    "df.isnull().sum()"
   ]
  },
  {
   "cell_type": "markdown",
   "metadata": {},
   "source": [
    "#### 2.2 Removing any nan value in any row or column"
   ]
  },
  {
   "cell_type": "code",
   "execution_count": 11,
   "metadata": {},
   "outputs": [],
   "source": [
    "df_nonan_row = df.dropna(axis=0, how='all') #dropping rows whose any value is nan "
   ]
  },
  {
   "cell_type": "code",
   "execution_count": 12,
   "metadata": {},
   "outputs": [],
   "source": [
    "df_nonan_rowcol = df_nonan_row.dropna(axis=1, how='any') #dropping columns whose any value is nan "
   ]
  },
  {
   "cell_type": "code",
   "execution_count": 13,
   "metadata": {},
   "outputs": [],
   "source": [
    "df = df_nonan_rowcol # dataset without nan values"
   ]
  },
  {
   "cell_type": "code",
   "execution_count": 14,
   "metadata": {},
   "outputs": [
    {
     "name": "stdout",
     "output_type": "stream",
     "text": [
      "No nans df\n"
     ]
    }
   ],
   "source": [
    "nan_df = df.isnull().any().tolist()\n",
    "\n",
    "if True in nan_df: print('**There is nans in df_test!**\\n\\n', df.isnull().any())\n",
    "else: print(\"No nans df\")"
   ]
  },
  {
   "cell_type": "markdown",
   "metadata": {},
   "source": [
    "> As is expected the dataset is now ready to the next step"
   ]
  },
  {
   "cell_type": "code",
   "execution_count": 15,
   "metadata": {},
   "outputs": [
    {
     "data": {
      "text/plain": [
       "(1492578, 20)"
      ]
     },
     "execution_count": 15,
     "metadata": {},
     "output_type": "execute_result"
    }
   ],
   "source": [
    "df.shape"
   ]
  },
  {
   "cell_type": "markdown",
   "metadata": {},
   "source": [
    "### 3. Special care of hex values in string format"
   ]
  },
  {
   "cell_type": "markdown",
   "metadata": {},
   "source": [
    "#### 3.1 Conversion of sring values into int"
   ]
  },
  {
   "cell_type": "code",
   "execution_count": 16,
   "metadata": {},
   "outputs": [],
   "source": [
    "df['wpan_dst_addr_mode'] = df.wpan_dst_addr_mode.apply(int, base=16)\n",
    "df['wpan_fcf'] = df.wpan_fcf.apply(int, base=16)\n",
    "df['wpan_fcs'] = df.wpan_fcs.apply(int, base=16)\n",
    "df['sixlowpan_pattern'] = df.sixlowpan_pattern.apply(int, base=16)\n",
    "df['icmpv6_checksum'] = df.icmpv6_checksum.apply(int, base=16)"
   ]
  },
  {
   "cell_type": "markdown",
   "metadata": {},
   "source": [
    "> Two features exhibited values in unsigned byte type (string hex values), therefore it was necessary to convert them into int values"
   ]
  },
  {
   "cell_type": "code",
   "execution_count": 17,
   "metadata": {},
   "outputs": [
    {
     "data": {
      "text/html": [
       "<div>\n",
       "<style scoped>\n",
       "    .dataframe tbody tr th:only-of-type {\n",
       "        vertical-align: middle;\n",
       "    }\n",
       "\n",
       "    .dataframe tbody tr th {\n",
       "        vertical-align: top;\n",
       "    }\n",
       "\n",
       "    .dataframe thead th {\n",
       "        text-align: right;\n",
       "    }\n",
       "</style>\n",
       "<table border=\"1\" class=\"dataframe\">\n",
       "  <thead>\n",
       "    <tr style=\"text-align: right;\">\n",
       "      <th></th>\n",
       "      <th>frame_time_delta</th>\n",
       "      <th>frame_time_epoch</th>\n",
       "      <th>frame_time_relative</th>\n",
       "      <th>frame_cap_len</th>\n",
       "      <th>frame_len</th>\n",
       "      <th>frame_number</th>\n",
       "      <th>ipv6_src</th>\n",
       "      <th>ipv6_dst</th>\n",
       "      <th>ipv6_plen</th>\n",
       "      <th>sixlowpan_pattern</th>\n",
       "      <th>wpan_ack_request</th>\n",
       "      <th>wpan_dst_addr_mode</th>\n",
       "      <th>wpan_fcf</th>\n",
       "      <th>wpan_fcs</th>\n",
       "      <th>wpan_frame_length</th>\n",
       "      <th>wpan_pending</th>\n",
       "      <th>wpan_seq_no</th>\n",
       "      <th>icmpv6_checksum</th>\n",
       "      <th>icmpv6_code</th>\n",
       "      <th>class</th>\n",
       "    </tr>\n",
       "  </thead>\n",
       "  <tbody>\n",
       "    <tr>\n",
       "      <th>0</th>\n",
       "      <td>0.000000</td>\n",
       "      <td>1.553720e+09</td>\n",
       "      <td>0.000000</td>\n",
       "      <td>64</td>\n",
       "      <td>64</td>\n",
       "      <td>1</td>\n",
       "      <td>fe80::c30c:0:0:27</td>\n",
       "      <td>ff02::1a</td>\n",
       "      <td>6</td>\n",
       "      <td>65</td>\n",
       "      <td>0</td>\n",
       "      <td>2</td>\n",
       "      <td>55361</td>\n",
       "      <td>4302</td>\n",
       "      <td>64</td>\n",
       "      <td>0</td>\n",
       "      <td>64</td>\n",
       "      <td>41965</td>\n",
       "      <td>0</td>\n",
       "      <td>0</td>\n",
       "    </tr>\n",
       "    <tr>\n",
       "      <th>1</th>\n",
       "      <td>0.003288</td>\n",
       "      <td>1.553720e+09</td>\n",
       "      <td>0.003288</td>\n",
       "      <td>64</td>\n",
       "      <td>64</td>\n",
       "      <td>2</td>\n",
       "      <td>fe80::c30c:0:0:27</td>\n",
       "      <td>ff02::1a</td>\n",
       "      <td>6</td>\n",
       "      <td>65</td>\n",
       "      <td>0</td>\n",
       "      <td>2</td>\n",
       "      <td>55361</td>\n",
       "      <td>4302</td>\n",
       "      <td>64</td>\n",
       "      <td>0</td>\n",
       "      <td>64</td>\n",
       "      <td>41965</td>\n",
       "      <td>0</td>\n",
       "      <td>0</td>\n",
       "    </tr>\n",
       "    <tr>\n",
       "      <th>2</th>\n",
       "      <td>0.003264</td>\n",
       "      <td>1.553720e+09</td>\n",
       "      <td>0.006552</td>\n",
       "      <td>64</td>\n",
       "      <td>64</td>\n",
       "      <td>3</td>\n",
       "      <td>fe80::c30c:0:0:27</td>\n",
       "      <td>ff02::1a</td>\n",
       "      <td>6</td>\n",
       "      <td>65</td>\n",
       "      <td>0</td>\n",
       "      <td>2</td>\n",
       "      <td>55361</td>\n",
       "      <td>4302</td>\n",
       "      <td>64</td>\n",
       "      <td>0</td>\n",
       "      <td>64</td>\n",
       "      <td>41965</td>\n",
       "      <td>0</td>\n",
       "      <td>0</td>\n",
       "    </tr>\n",
       "    <tr>\n",
       "      <th>3</th>\n",
       "      <td>0.003296</td>\n",
       "      <td>1.553720e+09</td>\n",
       "      <td>0.009848</td>\n",
       "      <td>64</td>\n",
       "      <td>64</td>\n",
       "      <td>4</td>\n",
       "      <td>fe80::c30c:0:0:27</td>\n",
       "      <td>ff02::1a</td>\n",
       "      <td>6</td>\n",
       "      <td>65</td>\n",
       "      <td>0</td>\n",
       "      <td>2</td>\n",
       "      <td>55361</td>\n",
       "      <td>4302</td>\n",
       "      <td>64</td>\n",
       "      <td>0</td>\n",
       "      <td>64</td>\n",
       "      <td>41965</td>\n",
       "      <td>0</td>\n",
       "      <td>0</td>\n",
       "    </tr>\n",
       "    <tr>\n",
       "      <th>4</th>\n",
       "      <td>0.003273</td>\n",
       "      <td>1.553720e+09</td>\n",
       "      <td>0.013121</td>\n",
       "      <td>64</td>\n",
       "      <td>64</td>\n",
       "      <td>5</td>\n",
       "      <td>fe80::c30c:0:0:27</td>\n",
       "      <td>ff02::1a</td>\n",
       "      <td>6</td>\n",
       "      <td>65</td>\n",
       "      <td>0</td>\n",
       "      <td>2</td>\n",
       "      <td>55361</td>\n",
       "      <td>4302</td>\n",
       "      <td>64</td>\n",
       "      <td>0</td>\n",
       "      <td>64</td>\n",
       "      <td>41965</td>\n",
       "      <td>0</td>\n",
       "      <td>0</td>\n",
       "    </tr>\n",
       "  </tbody>\n",
       "</table>\n",
       "</div>"
      ],
      "text/plain": [
       "   frame_time_delta  frame_time_epoch  frame_time_relative  frame_cap_len  \\\n",
       "0          0.000000      1.553720e+09             0.000000             64   \n",
       "1          0.003288      1.553720e+09             0.003288             64   \n",
       "2          0.003264      1.553720e+09             0.006552             64   \n",
       "3          0.003296      1.553720e+09             0.009848             64   \n",
       "4          0.003273      1.553720e+09             0.013121             64   \n",
       "\n",
       "   frame_len  frame_number           ipv6_src  ipv6_dst  ipv6_plen  \\\n",
       "0         64             1  fe80::c30c:0:0:27  ff02::1a          6   \n",
       "1         64             2  fe80::c30c:0:0:27  ff02::1a          6   \n",
       "2         64             3  fe80::c30c:0:0:27  ff02::1a          6   \n",
       "3         64             4  fe80::c30c:0:0:27  ff02::1a          6   \n",
       "4         64             5  fe80::c30c:0:0:27  ff02::1a          6   \n",
       "\n",
       "   sixlowpan_pattern  wpan_ack_request  wpan_dst_addr_mode  wpan_fcf  \\\n",
       "0                 65                 0                   2     55361   \n",
       "1                 65                 0                   2     55361   \n",
       "2                 65                 0                   2     55361   \n",
       "3                 65                 0                   2     55361   \n",
       "4                 65                 0                   2     55361   \n",
       "\n",
       "   wpan_fcs  wpan_frame_length  wpan_pending  wpan_seq_no  icmpv6_checksum  \\\n",
       "0      4302                 64             0           64            41965   \n",
       "1      4302                 64             0           64            41965   \n",
       "2      4302                 64             0           64            41965   \n",
       "3      4302                 64             0           64            41965   \n",
       "4      4302                 64             0           64            41965   \n",
       "\n",
       "   icmpv6_code  class  \n",
       "0            0      0  \n",
       "1            0      0  \n",
       "2            0      0  \n",
       "3            0      0  \n",
       "4            0      0  "
      ]
     },
     "execution_count": 17,
     "metadata": {},
     "output_type": "execute_result"
    }
   ],
   "source": [
    "df.head()"
   ]
  },
  {
   "cell_type": "markdown",
   "metadata": {},
   "source": [
    "### 4. Dataset Pre-processing "
   ]
  },
  {
   "cell_type": "markdown",
   "metadata": {},
   "source": [
    "#### 4.1 Finding out features data type "
   ]
  },
  {
   "cell_type": "code",
   "execution_count": 18,
   "metadata": {},
   "outputs": [
    {
     "data": {
      "text/plain": [
       "Index(['frame_time_delta', 'frame_time_epoch', 'frame_time_relative',\n",
       "       'frame_cap_len', 'frame_len', 'frame_number', 'ipv6_src', 'ipv6_dst',\n",
       "       'ipv6_plen', 'sixlowpan_pattern', 'wpan_ack_request',\n",
       "       'wpan_dst_addr_mode', 'wpan_fcf', 'wpan_fcs', 'wpan_frame_length',\n",
       "       'wpan_pending', 'wpan_seq_no', 'icmpv6_checksum', 'icmpv6_code',\n",
       "       'class'],\n",
       "      dtype='object')"
      ]
     },
     "execution_count": 18,
     "metadata": {},
     "output_type": "execute_result"
    }
   ],
   "source": [
    "df.columns"
   ]
  },
  {
   "cell_type": "code",
   "execution_count": 19,
   "metadata": {},
   "outputs": [
    {
     "data": {
      "text/plain": [
       "float64     3\n",
       "int64      15\n",
       "object      2\n",
       "dtype: int64"
      ]
     },
     "execution_count": 19,
     "metadata": {},
     "output_type": "execute_result"
    }
   ],
   "source": [
    "df.get_dtype_counts()"
   ]
  },
  {
   "cell_type": "code",
   "execution_count": 20,
   "metadata": {},
   "outputs": [
    {
     "data": {
      "text/plain": [
       "Index(['ipv6_src', 'ipv6_dst'], dtype='object')"
      ]
     },
     "execution_count": 20,
     "metadata": {},
     "output_type": "execute_result"
    }
   ],
   "source": [
    "df.select_dtypes('object').columns"
   ]
  },
  {
   "cell_type": "markdown",
   "metadata": {},
   "source": [
    "> It is necessary to encode the object dtype features into numerical, using Label Encoding. Also it is indispensable to encode any others categorical features such as icmpv6.type, icmpv6.code , 6lowpan.pattern, wpan.dst_addr_mode using one-hot (1-to-n) encoding."
   ]
  },
  {
   "cell_type": "markdown",
   "metadata": {},
   "source": [
    "#### 4.2 Explaining the data"
   ]
  },
  {
   "cell_type": "code",
   "execution_count": 21,
   "metadata": {},
   "outputs": [
    {
     "name": "stdout",
     "output_type": "stream",
     "text": [
      "Class 0: 1039416\n",
      "Class 1: 453162\n",
      "Proportion: 2.294 : 1\n"
     ]
    },
    {
     "data": {
      "image/png": "[encoded data removed]",
      "text/plain": [
       "<Figure size 432x288 with 1 Axes>"
      ]
     },
     "metadata": {
      "needs_background": "light"
     },
     "output_type": "display_data"
    }
   ],
   "source": [
    "#if you don't have an intuitive sense of how imbalanced these two classes are, let's go visual\n",
    "count_classes = pd.value_counts(df['class'], sort = True)\n",
    "print('Class 0:', count_classes[0])\n",
    "print('Class 1:', count_classes[1])\n",
    "print('Proportion:', round(count_classes[0] / count_classes[1], 3), ': 1')\n",
    "\n",
    "count_classes.plot(kind = 'bar', rot=0)\n",
    "plt.xticks(range(2), ['Normal [0]','Malicious [1]'])\n",
    "plt.title(\"Frequency by observation number\")\n",
    "plt.xlabel(\"Class\")\n",
    "plt.ylabel(\"Number of Observations\");"
   ]
  },
  {
   "cell_type": "markdown",
   "metadata": {},
   "source": [
    "##### 4.2.1 Dataset Balancing by ROS"
   ]
  },
  {
   "cell_type": "code",
   "execution_count": 22,
   "metadata": {},
   "outputs": [],
   "source": [
    "X = df.iloc[:, 0:19] \n",
    "y = df.iloc[:, 19]"
   ]
  },
  {
   "cell_type": "code",
   "execution_count": 23,
   "metadata": {},
   "outputs": [
    {
     "name": "stdout",
     "output_type": "stream",
     "text": [
      "586254 new random picked points\n",
      "Class 0: 1039416\n",
      "Class 1: 1039416\n",
      "Proportion: 1.0 : 1\n"
     ]
    },
    {
     "data": {
      "image/png": "[encoded data removed]",
      "text/plain": [
       "<Figure size 432x288 with 1 Axes>"
      ]
     },
     "metadata": {
      "needs_background": "light"
     },
     "output_type": "display_data"
    }
   ],
   "source": [
    "from imblearn.over_sampling import RandomOverSampler\n",
    "\n",
    "ros = RandomOverSampler()\n",
    "X_ros, y_ros = ros.fit_sample(X, y)\n",
    "\n",
    "print(X_ros.shape[0] - X.shape[0], 'new random picked points')\n",
    "\n",
    "count_classes_ros = pd.value_counts(y_ros, sort = True)\n",
    "print('Class 0:', count_classes_ros[0])\n",
    "print('Class 1:', count_classes_ros[1])\n",
    "print('Proportion:', round(count_classes_ros[0] / count_classes_ros[1], 2), ': 1')\n",
    "\n",
    "count_classes_ros.plot(kind = 'bar', rot=0)\n",
    "plt.xticks(range(2), ['Normal [0]','Malicious [1]'])\n",
    "plt.title(\"Frequency by observation number with ROS (Random over Sampler)\")\n",
    "plt.xlabel(\"Class\")\n",
    "plt.ylabel(\"Number of Observations\");"
   ]
  },
  {
   "cell_type": "code",
   "execution_count": 24,
   "metadata": {},
   "outputs": [],
   "source": [
    "columns_csv_ros = df.columns.tolist()[:-1]\n",
    "# columns_csv_ros"
   ]
  },
  {
   "cell_type": "code",
   "execution_count": 25,
   "metadata": {},
   "outputs": [
    {
     "name": "stdout",
     "output_type": "stream",
     "text": [
      "(2078832, 1)\n",
      "(2078832, 19)\n"
     ]
    }
   ],
   "source": [
    "df_y_ros = pd.DataFrame(y_ros, columns=['class'])\n",
    "print(df_y_ros.shape)\n",
    "\n",
    "df_x_ros = pd.DataFrame(X_ros, columns=columns_csv_ros)\n",
    "print(df_x_ros.shape)"
   ]
  },
  {
   "cell_type": "code",
   "execution_count": 26,
   "metadata": {},
   "outputs": [
    {
     "name": "stdout",
     "output_type": "stream",
     "text": [
      "(2078832, 20)\n"
     ]
    }
   ],
   "source": [
    "df_ros = pd.concat([df_x_ros, df_y_ros], axis=1, ignore_index=False)\n",
    "print(df_ros.shape)"
   ]
  },
  {
   "cell_type": "code",
   "execution_count": 27,
   "metadata": {},
   "outputs": [],
   "source": [
    "df = df_ros"
   ]
  },
  {
   "cell_type": "code",
   "execution_count": 28,
   "metadata": {},
   "outputs": [
    {
     "data": {
      "text/html": [
       "<div>\n",
       "<style scoped>\n",
       "    .dataframe tbody tr th:only-of-type {\n",
       "        vertical-align: middle;\n",
       "    }\n",
       "\n",
       "    .dataframe tbody tr th {\n",
       "        vertical-align: top;\n",
       "    }\n",
       "\n",
       "    .dataframe thead th {\n",
       "        text-align: right;\n",
       "    }\n",
       "</style>\n",
       "<table border=\"1\" class=\"dataframe\">\n",
       "  <thead>\n",
       "    <tr style=\"text-align: right;\">\n",
       "      <th></th>\n",
       "      <th>frame_time_delta</th>\n",
       "      <th>frame_time_epoch</th>\n",
       "      <th>frame_time_relative</th>\n",
       "      <th>frame_cap_len</th>\n",
       "      <th>frame_len</th>\n",
       "      <th>frame_number</th>\n",
       "      <th>ipv6_src</th>\n",
       "      <th>ipv6_dst</th>\n",
       "      <th>ipv6_plen</th>\n",
       "      <th>sixlowpan_pattern</th>\n",
       "      <th>wpan_ack_request</th>\n",
       "      <th>wpan_dst_addr_mode</th>\n",
       "      <th>wpan_fcf</th>\n",
       "      <th>wpan_fcs</th>\n",
       "      <th>wpan_frame_length</th>\n",
       "      <th>wpan_pending</th>\n",
       "      <th>wpan_seq_no</th>\n",
       "      <th>icmpv6_checksum</th>\n",
       "      <th>icmpv6_code</th>\n",
       "      <th>class</th>\n",
       "    </tr>\n",
       "  </thead>\n",
       "  <tbody>\n",
       "    <tr>\n",
       "      <th>0</th>\n",
       "      <td>0</td>\n",
       "      <td>1.55372e+09</td>\n",
       "      <td>0</td>\n",
       "      <td>64</td>\n",
       "      <td>64</td>\n",
       "      <td>1</td>\n",
       "      <td>fe80::c30c:0:0:27</td>\n",
       "      <td>ff02::1a</td>\n",
       "      <td>6</td>\n",
       "      <td>65</td>\n",
       "      <td>0</td>\n",
       "      <td>2</td>\n",
       "      <td>55361</td>\n",
       "      <td>4302</td>\n",
       "      <td>64</td>\n",
       "      <td>0</td>\n",
       "      <td>64</td>\n",
       "      <td>41965</td>\n",
       "      <td>0</td>\n",
       "      <td>0</td>\n",
       "    </tr>\n",
       "    <tr>\n",
       "      <th>1</th>\n",
       "      <td>0.003288</td>\n",
       "      <td>1.55372e+09</td>\n",
       "      <td>0.003288</td>\n",
       "      <td>64</td>\n",
       "      <td>64</td>\n",
       "      <td>2</td>\n",
       "      <td>fe80::c30c:0:0:27</td>\n",
       "      <td>ff02::1a</td>\n",
       "      <td>6</td>\n",
       "      <td>65</td>\n",
       "      <td>0</td>\n",
       "      <td>2</td>\n",
       "      <td>55361</td>\n",
       "      <td>4302</td>\n",
       "      <td>64</td>\n",
       "      <td>0</td>\n",
       "      <td>64</td>\n",
       "      <td>41965</td>\n",
       "      <td>0</td>\n",
       "      <td>0</td>\n",
       "    </tr>\n",
       "    <tr>\n",
       "      <th>2</th>\n",
       "      <td>0.003264</td>\n",
       "      <td>1.55372e+09</td>\n",
       "      <td>0.006552</td>\n",
       "      <td>64</td>\n",
       "      <td>64</td>\n",
       "      <td>3</td>\n",
       "      <td>fe80::c30c:0:0:27</td>\n",
       "      <td>ff02::1a</td>\n",
       "      <td>6</td>\n",
       "      <td>65</td>\n",
       "      <td>0</td>\n",
       "      <td>2</td>\n",
       "      <td>55361</td>\n",
       "      <td>4302</td>\n",
       "      <td>64</td>\n",
       "      <td>0</td>\n",
       "      <td>64</td>\n",
       "      <td>41965</td>\n",
       "      <td>0</td>\n",
       "      <td>0</td>\n",
       "    </tr>\n",
       "    <tr>\n",
       "      <th>3</th>\n",
       "      <td>0.003296</td>\n",
       "      <td>1.55372e+09</td>\n",
       "      <td>0.009848</td>\n",
       "      <td>64</td>\n",
       "      <td>64</td>\n",
       "      <td>4</td>\n",
       "      <td>fe80::c30c:0:0:27</td>\n",
       "      <td>ff02::1a</td>\n",
       "      <td>6</td>\n",
       "      <td>65</td>\n",
       "      <td>0</td>\n",
       "      <td>2</td>\n",
       "      <td>55361</td>\n",
       "      <td>4302</td>\n",
       "      <td>64</td>\n",
       "      <td>0</td>\n",
       "      <td>64</td>\n",
       "      <td>41965</td>\n",
       "      <td>0</td>\n",
       "      <td>0</td>\n",
       "    </tr>\n",
       "    <tr>\n",
       "      <th>4</th>\n",
       "      <td>0.003273</td>\n",
       "      <td>1.55372e+09</td>\n",
       "      <td>0.013121</td>\n",
       "      <td>64</td>\n",
       "      <td>64</td>\n",
       "      <td>5</td>\n",
       "      <td>fe80::c30c:0:0:27</td>\n",
       "      <td>ff02::1a</td>\n",
       "      <td>6</td>\n",
       "      <td>65</td>\n",
       "      <td>0</td>\n",
       "      <td>2</td>\n",
       "      <td>55361</td>\n",
       "      <td>4302</td>\n",
       "      <td>64</td>\n",
       "      <td>0</td>\n",
       "      <td>64</td>\n",
       "      <td>41965</td>\n",
       "      <td>0</td>\n",
       "      <td>0</td>\n",
       "    </tr>\n",
       "  </tbody>\n",
       "</table>\n",
       "</div>"
      ],
      "text/plain": [
       "  frame_time_delta frame_time_epoch frame_time_relative frame_cap_len  \\\n",
       "0                0      1.55372e+09                   0            64   \n",
       "1         0.003288      1.55372e+09            0.003288            64   \n",
       "2         0.003264      1.55372e+09            0.006552            64   \n",
       "3         0.003296      1.55372e+09            0.009848            64   \n",
       "4         0.003273      1.55372e+09            0.013121            64   \n",
       "\n",
       "  frame_len frame_number           ipv6_src  ipv6_dst ipv6_plen  \\\n",
       "0        64            1  fe80::c30c:0:0:27  ff02::1a         6   \n",
       "1        64            2  fe80::c30c:0:0:27  ff02::1a         6   \n",
       "2        64            3  fe80::c30c:0:0:27  ff02::1a         6   \n",
       "3        64            4  fe80::c30c:0:0:27  ff02::1a         6   \n",
       "4        64            5  fe80::c30c:0:0:27  ff02::1a         6   \n",
       "\n",
       "  sixlowpan_pattern wpan_ack_request wpan_dst_addr_mode wpan_fcf wpan_fcs  \\\n",
       "0                65                0                  2    55361     4302   \n",
       "1                65                0                  2    55361     4302   \n",
       "2                65                0                  2    55361     4302   \n",
       "3                65                0                  2    55361     4302   \n",
       "4                65                0                  2    55361     4302   \n",
       "\n",
       "  wpan_frame_length wpan_pending wpan_seq_no icmpv6_checksum icmpv6_code  \\\n",
       "0                64            0          64           41965           0   \n",
       "1                64            0          64           41965           0   \n",
       "2                64            0          64           41965           0   \n",
       "3                64            0          64           41965           0   \n",
       "4                64            0          64           41965           0   \n",
       "\n",
       "   class  \n",
       "0      0  \n",
       "1      0  \n",
       "2      0  \n",
       "3      0  \n",
       "4      0  "
      ]
     },
     "execution_count": 28,
     "metadata": {},
     "output_type": "execute_result"
    }
   ],
   "source": [
    "df.head()"
   ]
  },
  {
   "cell_type": "markdown",
   "metadata": {},
   "source": [
    "#### 4.2 Label encoding for columns 'ipv6_src', 'ipv6_dst'"
   ]
  },
  {
   "cell_type": "code",
   "execution_count": 29,
   "metadata": {},
   "outputs": [],
   "source": [
    "le = LabelEncoder()\n",
    "df.iloc[:,6] = le.fit_transform(df.iloc[:,6])\n",
    "df.iloc[:,7] = le.fit_transform(df.iloc[:,7])"
   ]
  },
  {
   "cell_type": "code",
   "execution_count": 30,
   "metadata": {},
   "outputs": [
    {
     "name": "stdout",
     "output_type": "stream",
     "text": [
      "Unique values for ipv6_src feature [26 42 22 84 18 10 39 66 79 81 46 71 59 27 43 23 50 14 55 51  1 19 88 72\n",
      "  3 62 31 30  6 69 67 63 11  7 34  2 76 75 56 36  0 47 15 85 24 40 74 60\n",
      " 21 37 38 78 58  4 89 29 83 44 53 80 64 87 48 70 20 35 54  9  8 28 65 57\n",
      " 45 32 17 86 73 41 52 12 68 82 77 16 49 13 61 25 90  5 33]\n",
      "Unique values for ipv6_dst feature [91  0 18 21 37 24 11 23 74  2 70 78 20 88 72  9 38 86 68 32 66 79 46 22\n",
      " 39 42 26 82 48 81 10 16 36 31 85 50 60 76 13  1 73 69 43 14 67 63 34 17\n",
      " 53 65 40 55 12 71 89 57 47 30  4 84 41 77  6 28 33  7 64 29 27 51 49 58\n",
      " 15 59 87 90 83 61 19 45 80 52  5 35 44 62 75  3 54 56  8 25]\n"
     ]
    }
   ],
   "source": [
    "print(\"Unique values for ipv6_src feature\",df.iloc[:,6].unique())\n",
    "print(\"Unique values for ipv6_dst feature\",df.iloc[:,7].unique())"
   ]
  },
  {
   "cell_type": "markdown",
   "metadata": {},
   "source": [
    "> As it is showed, the former object values are now numerical "
   ]
  },
  {
   "cell_type": "markdown",
   "metadata": {},
   "source": [
    "#### 4.3 Normalization of frame_time_epoch"
   ]
  },
  {
   "cell_type": "code",
   "execution_count": 31,
   "metadata": {},
   "outputs": [],
   "source": [
    "df['frame_time_epoch'] = df['frame_time_epoch'].astype(float)"
   ]
  },
  {
   "cell_type": "code",
   "execution_count": 32,
   "metadata": {},
   "outputs": [],
   "source": [
    "# df['frame_time_epoch'] = df['frame_time_epoch'] - df.frame_time_epoch.min()"
   ]
  },
  {
   "cell_type": "code",
   "execution_count": 33,
   "metadata": {},
   "outputs": [
    {
     "data": {
      "text/plain": [
       "count    2.078832e+06\n",
       "mean     1.554087e+09\n",
       "std      1.633915e+05\n",
       "min      1.553720e+09\n",
       "25%      1.553964e+09\n",
       "50%      1.554168e+09\n",
       "75%      1.554206e+09\n",
       "max      1.554215e+09\n",
       "Name: frame_time_epoch, dtype: float64"
      ]
     },
     "execution_count": 33,
     "metadata": {},
     "output_type": "execute_result"
    }
   ],
   "source": [
    "df.frame_time_epoch.describe()"
   ]
  },
  {
   "cell_type": "code",
   "execution_count": 34,
   "metadata": {},
   "outputs": [],
   "source": [
    "df['frame_time_epoch'] = np.log1p(df['frame_time_epoch'])"
   ]
  },
  {
   "cell_type": "code",
   "execution_count": 35,
   "metadata": {},
   "outputs": [
    {
     "data": {
      "text/plain": [
       "count    2.078832e+06\n",
       "mean     2.116415e+01\n",
       "std      1.051426e-04\n",
       "min      2.116392e+01\n",
       "25%      2.116407e+01\n",
       "50%      2.116421e+01\n",
       "75%      2.116423e+01\n",
       "max      2.116424e+01\n",
       "Name: frame_time_epoch, dtype: float64"
      ]
     },
     "execution_count": 35,
     "metadata": {},
     "output_type": "execute_result"
    }
   ],
   "source": [
    "df.frame_time_epoch.describe()"
   ]
  },
  {
   "cell_type": "code",
   "execution_count": 36,
   "metadata": {},
   "outputs": [],
   "source": [
    "# df.head()"
   ]
  },
  {
   "cell_type": "markdown",
   "metadata": {},
   "source": [
    "#### 4.4 One hot encoding of categorical features using ColumnTransformer and min-max normalization"
   ]
  },
  {
   "cell_type": "code",
   "execution_count": 37,
   "metadata": {},
   "outputs": [],
   "source": [
    "onehot_col = ['ipv6_dst', 'ipv6_src', 'icmpv6_code', 'wpan_dst_addr_mode', 'wpan_fcf', 'sixlowpan_pattern']\n",
    "#onehot_col"
   ]
  },
  {
   "cell_type": "code",
   "execution_count": 38,
   "metadata": {},
   "outputs": [],
   "source": [
    "#log_col = df.select_dtypes('float').columns.tolist()\n",
    "#log_col = ['frame_time_delta', 'frame_time_epoch', 'frame_time_relative']\n",
    "#log_col = []"
   ]
  },
  {
   "cell_type": "code",
   "execution_count": 39,
   "metadata": {},
   "outputs": [],
   "source": [
    "int_col = ['frame_time_delta', 'frame_time_epoch', 'frame_time_relative', 'frame_cap_len', 'frame_len', 'frame_number', 'wpan_fcs', 'wpan_frame_length', 'wpan_seq_no', 'ipv6_plen', 'icmpv6_checksum']\n",
    "#int_col"
   ]
  },
  {
   "cell_type": "code",
   "execution_count": 40,
   "metadata": {},
   "outputs": [],
   "source": [
    "#minmax_col = log_col+ int_col + onehot_col \n",
    "minmax_col = int_col + onehot_col \n",
    "#minmax_col"
   ]
  },
  {
   "cell_type": "code",
   "execution_count": 41,
   "metadata": {},
   "outputs": [],
   "source": [
    "# transformer = FunctionTransformer(np.log1p)"
   ]
  },
  {
   "cell_type": "code",
   "execution_count": 42,
   "metadata": {},
   "outputs": [],
   "source": [
    "preprocess = make_column_transformer(\n",
    "    #(transformer, log_col),\n",
    "    (MinMaxScaler(copy=True, feature_range=(0, 1)), minmax_col),\n",
    "    (OneHotEncoder(categories='auto', sparse=False), onehot_col)\n",
    ")"
   ]
  },
  {
   "cell_type": "code",
   "execution_count": 43,
   "metadata": {},
   "outputs": [
    {
     "data": {
      "text/plain": [
       "(2078832, 20)"
      ]
     },
     "execution_count": 43,
     "metadata": {},
     "output_type": "execute_result"
    }
   ],
   "source": [
    "df.shape"
   ]
  },
  {
   "cell_type": "code",
   "execution_count": 44,
   "metadata": {},
   "outputs": [
    {
     "data": {
      "text/plain": [
       "19"
      ]
     },
     "execution_count": 44,
     "metadata": {},
     "output_type": "execute_result"
    }
   ],
   "source": [
    "df.columns.get_loc('class')"
   ]
  },
  {
   "cell_type": "code",
   "execution_count": 45,
   "metadata": {},
   "outputs": [],
   "source": [
    "X = df.iloc[:, 0:19] \n",
    "y = df.iloc[:, 19]"
   ]
  },
  {
   "cell_type": "code",
   "execution_count": 46,
   "metadata": {},
   "outputs": [
    {
     "name": "stderr",
     "output_type": "stream",
     "text": [
      "/home/user/.local/lib/python3.6/site-packages/sklearn/preprocessing/data.py:334: DataConversionWarning: Data with input dtype int64, float64, object were all converted to float64 by MinMaxScaler.\n",
      "  return self.partial_fit(X, y)\n"
     ]
    }
   ],
   "source": [
    "X_norm = preprocess.fit_transform(X)"
   ]
  },
  {
   "cell_type": "code",
   "execution_count": 47,
   "metadata": {},
   "outputs": [],
   "source": [
    "# for i in range(0,48):\n",
    "#     print(i, X_norm[:,i].mean())"
   ]
  },
  {
   "cell_type": "markdown",
   "metadata": {},
   "source": [
    "#### 4.5 Comparison between Original Dataset and Balanced Dataset"
   ]
  },
  {
   "cell_type": "code",
   "execution_count": 48,
   "metadata": {},
   "outputs": [
    {
     "name": "stdout",
     "output_type": "stream",
     "text": [
      "Label Encoded Dataset shape: (2078832, 19)\n",
      "Normalized Dataset shape: (2078832, 210)\n"
     ]
    }
   ],
   "source": [
    "print('Label Encoded Dataset shape:', df.iloc[:, 0:19].shape)\n",
    "print('Normalized Dataset shape:', X_norm.shape)"
   ]
  },
  {
   "cell_type": "code",
   "execution_count": 49,
   "metadata": {},
   "outputs": [
    {
     "name": "stdout",
     "output_type": "stream",
     "text": [
      "Class subset shape: (2078832,)\n"
     ]
    }
   ],
   "source": [
    "print('Class subset shape:', y.shape)"
   ]
  },
  {
   "cell_type": "code",
   "execution_count": 50,
   "metadata": {},
   "outputs": [
    {
     "name": "stdout",
     "output_type": "stream",
     "text": [
      "(2078832, 1)\n",
      "(2078832, 210)\n"
     ]
    }
   ],
   "source": [
    "df_y_csv = pd.DataFrame(y)\n",
    "print(df_y_csv.shape)\n",
    "\n",
    "df_x_csv = pd.DataFrame(X_norm)\n",
    "print(df_x_csv.shape)"
   ]
  },
  {
   "cell_type": "code",
   "execution_count": 51,
   "metadata": {},
   "outputs": [],
   "source": [
    "df_x_csv.reset_index(drop=True, inplace=True)\n",
    "df_y_csv.reset_index(drop=True, inplace=True)"
   ]
  },
  {
   "cell_type": "code",
   "execution_count": 52,
   "metadata": {},
   "outputs": [],
   "source": [
    "df_allsamples_norm = pd.concat((df_x_csv,df_y_csv), axis=1)"
   ]
  },
  {
   "cell_type": "code",
   "execution_count": 53,
   "metadata": {},
   "outputs": [
    {
     "name": "stdout",
     "output_type": "stream",
     "text": [
      "(2078832, 211)\n"
     ]
    }
   ],
   "source": [
    "print(df_allsamples_norm.shape)"
   ]
  },
  {
   "cell_type": "code",
   "execution_count": 54,
   "metadata": {},
   "outputs": [
    {
     "name": "stdout",
     "output_type": "stream",
     "text": [
      "No nans in df_allsamples_norm\n"
     ]
    }
   ],
   "source": [
    "nan_df_allsamples_norm = df_allsamples_norm.isnull().any().tolist()\n",
    "\n",
    "if True in nan_df_allsamples_norm: print('**There is nans in df_test!**\\n\\n', df_allsamples_norm.isnull().any())\n",
    "else: print(\"No nans in df_allsamples_norm\")"
   ]
  },
  {
   "cell_type": "markdown",
   "metadata": {},
   "source": [
    "#### 5. Writing Balanced Dataset"
   ]
  },
  {
   "cell_type": "code",
   "execution_count": null,
   "metadata": {},
   "outputs": [
    {
     "name": "stdout",
     "output_type": "stream",
     "text": [
      "Full\n"
     ]
    }
   ],
   "source": [
    "if fraction_factor == 3:\n",
    "    ds_prefix = \"Third\"\n",
    "elif fraction_factor == 2:\n",
    "    ds_prefix = \"Half\"\n",
    "elif fraction_factor == 1:\n",
    "    ds_prefix = \"Full\"\n",
    "print(ds_prefix)"
   ]
  },
  {
   "cell_type": "code",
   "execution_count": null,
   "metadata": {},
   "outputs": [],
   "source": [
    "df_allsamples_norm.to_csv(os.path.join(pathds,\"00BalancedDS/\"+ds_prefix+\"CloneID\"+ds+\"bal_minmax.csv\"), index=False)"
   ]
  },
  {
   "cell_type": "code",
   "execution_count": null,
   "metadata": {},
   "outputs": [
    {
     "name": "stdout",
     "output_type": "stream",
     "text": [
      "(2078832, 211)\n"
     ]
    }
   ],
   "source": [
    "print(df_allsamples_norm.shape)"
   ]
  },
  {
   "cell_type": "code",
   "execution_count": null,
   "metadata": {},
   "outputs": [],
   "source": [
    "df_from_csv = pd.read_csv(os.path.join(pathds,\"00BalancedDS/\"+ds_prefix+\"CloneID\"+ds+\"bal_minmax.csv\"))"
   ]
  },
  {
   "cell_type": "code",
   "execution_count": null,
   "metadata": {},
   "outputs": [],
   "source": [
    "nan_df_from_csv = df_from_csv.isnull().any().tolist()\n",
    "\n",
    "if True in nan_df_from_csv: print('**There is nans in df_test!**\\n\\n', df_from_csv.isnull().any())\n",
    "else: print(\"No nans in df_allsamples_norm\")"
   ]
  },
  {
   "cell_type": "code",
   "execution_count": null,
   "metadata": {},
   "outputs": [],
   "source": [
    "print(df_from_csv.shape)\n",
    "print(df_from_csv.shape[1])"
   ]
  },
  {
   "cell_type": "code",
   "execution_count": null,
   "metadata": {},
   "outputs": [],
   "source": [
    "df_from_csv.head()"
   ]
  },
  {
   "cell_type": "code",
   "execution_count": null,
   "metadata": {},
   "outputs": [],
   "source": [
    "X_ = df_from_csv.iloc[:, 0:df_from_csv.shape[1]-1] \n",
    "X_.describe()"
   ]
  },
  {
   "cell_type": "code",
   "execution_count": null,
   "metadata": {},
   "outputs": [],
   "source": [
    "y_ = df_from_csv.iloc[:, df_from_csv.shape[1]-1]"
   ]
  },
  {
   "cell_type": "code",
   "execution_count": null,
   "metadata": {},
   "outputs": [],
   "source": [
    "y_.describe()"
   ]
  },
  {
   "cell_type": "code",
   "execution_count": null,
   "metadata": {},
   "outputs": [],
   "source": [
    "del df\n",
    "del df_from_csv\n",
    "del X_\n",
    "del y_\n",
    "del df_allsamples_norm\n",
    "del X\n",
    "del y\n",
    "del X_norm\n",
    "del df_full"
   ]
  },
  {
   "cell_type": "code",
   "execution_count": null,
   "metadata": {},
   "outputs": [],
   "source": []
  },
  {
   "cell_type": "code",
   "execution_count": null,
   "metadata": {},
   "outputs": [],
   "source": []
  }
 ],
 "metadata": {
  "kernelspec": {
   "display_name": "Python 3",
   "language": "python",
   "name": "python3"
  },
  "language_info": {
   "codemirror_mode": {
    "name": "ipython",
    "version": 3
   },
   "file_extension": ".py",
   "mimetype": "text/x-python",
   "name": "python",
   "nbconvert_exporter": "python",
   "pygments_lexer": "ipython3",
   "version": "3.6.9"
  }
 },
 "nbformat": 4,
 "nbformat_minor": 4
}
