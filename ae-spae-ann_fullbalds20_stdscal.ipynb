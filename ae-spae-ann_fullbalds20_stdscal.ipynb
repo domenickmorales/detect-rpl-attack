{
 "cells": [
  {
   "cell_type": "code",
   "execution_count": 1,
   "metadata": {},
   "outputs": [],
   "source": [
    "import os\n",
    "os.environ[\"CUDA_DEVICE_ORDER\"]=\"PCI_BUS_ID\"\n",
    "os.environ[\"CUDA_VISIBLE_DEVICES\"]=\"0\""
   ]
  },
  {
   "cell_type": "code",
   "execution_count": 2,
   "metadata": {},
   "outputs": [
    {
     "name": "stderr",
     "output_type": "stream",
     "text": [
      "Using TensorFlow backend.\n"
     ]
    }
   ],
   "source": [
    "###################################\n",
    "# TensorFlow wizardry\n",
    "import tensorflow as tf\n",
    "config = tf.ConfigProto()\n",
    " \n",
    "# Don’t pre-allocate memory; allocate as-needed\n",
    "config.gpu_options.allow_growth = True\n",
    " \n",
    "# Only allow a total of half the GPU memory to be allocated\n",
    "config.gpu_options.per_process_gpu_memory_fraction = 0.05\n",
    "#gpu_options = tf.GPUOptions(per_process_gpu_memory_fraction=0.333)\n",
    " \n",
    "# Create a session with the above options specified.\n",
    "from keras import optimizers, regularizers\n",
    "from keras.layers.normalization import BatchNormalization\n",
    "from keras.utils import to_categorical\n",
    "from keras.wrappers.scikit_learn import KerasClassifier\n",
    "from keras import optimizers\n",
    "from keras.constraints import maxnorm\n",
    "from keras.callbacks import ModelCheckpoint, TensorBoard, EarlyStopping\n",
    "\n",
    "from keras.models import Sequential, Model, load_model\n",
    "from keras.layers import Activation, Dense, Dropout, Input\n",
    "from keras import backend as k\n",
    "\n",
    "k.tensorflow_backend.set_session(tf.Session(config=config))\n",
    "#k.tensorflow_backend.set_session(tf.Session(config=tf.ConfigProto(gpu_options=gpu_options))\n",
    "###################################"
   ]
  },
  {
   "cell_type": "code",
   "execution_count": 3,
   "metadata": {},
   "outputs": [],
   "source": [
    "#----------------------------------Import modules------------------------------\n",
    "import numpy as np\n",
    "import pandas as pd\n",
    "import matplotlib.pyplot as plt\n",
    "import seaborn as sns\n",
    "from sklearn.model_selection import train_test_split\n",
    "from sklearn.metrics import confusion_matrix,accuracy_score, roc_curve, auc\n",
    "from sklearn import preprocessing\n",
    "sns.set_style(\"whitegrid\")\n",
    "np.random.seed(23)\n",
    "import time\n",
    "from sklearn.decomposition import PCA\n",
    "from sklearn.model_selection import GridSearchCV\n",
    "import sklearn.metrics as sm\n",
    "from sklearn.model_selection import KFold\n",
    "from sklearn.model_selection import cross_val_predict\n",
    "from datetime import datetime \n",
    "import os.path\n",
    "\n",
    "dsnum=20\n",
    "verbose_level=1"
   ]
  },
  {
   "cell_type": "code",
   "execution_count": 4,
   "metadata": {},
   "outputs": [
    {
     "name": "stdout",
     "output_type": "stream",
     "text": [
      "Default GPU Device: /device:GPU:0\n"
     ]
    }
   ],
   "source": [
    "if tf.test.gpu_device_name():\n",
    "    print('Default GPU Device: {}'.format(tf.test.gpu_device_name()))\n",
    "else:\n",
    "    print(\"Please install GPU version of TF\")"
   ]
  },
  {
   "cell_type": "code",
   "execution_count": 5,
   "metadata": {},
   "outputs": [
    {
     "name": "stdout",
     "output_type": "stream",
     "text": [
      "/home/user/01Code/00Datasets_final/00BalancedDS/FullCloneID20bal_stdscal.csv\n"
     ]
    }
   ],
   "source": [
    "pathds = os.path.abspath('/home/user/01Code/00Datasets_final/00BalancedDS')\n",
    "file_name = \"FullCloneID\"+str(dsnum)+\"bal_stdscal.csv\"\n",
    "full_path = os.path.join(pathds,file_name)\n",
    "print(full_path)"
   ]
  },
  {
   "cell_type": "code",
   "execution_count": 6,
   "metadata": {},
   "outputs": [],
   "source": [
    "df = pd.read_csv(full_path)"
   ]
  },
  {
   "cell_type": "code",
   "execution_count": 7,
   "metadata": {},
   "outputs": [
    {
     "data": {
      "text/plain": [
       "(2686202, 67)"
      ]
     },
     "execution_count": 7,
     "metadata": {},
     "output_type": "execute_result"
    }
   ],
   "source": [
    "df.shape"
   ]
  },
  {
   "cell_type": "code",
   "execution_count": 8,
   "metadata": {},
   "outputs": [
    {
     "name": "stdout",
     "output_type": "stream",
     "text": [
      "66\n",
      "66\n"
     ]
    }
   ],
   "source": [
    "neurons=df.shape[1]-1\n",
    "batch_size=df.shape[1]-1\n",
    "print(neurons)\n",
    "print(batch_size)"
   ]
  },
  {
   "cell_type": "markdown",
   "metadata": {},
   "source": [
    "#### 4.2 Explaining the data"
   ]
  },
  {
   "cell_type": "code",
   "execution_count": 9,
   "metadata": {},
   "outputs": [
    {
     "name": "stdout",
     "output_type": "stream",
     "text": [
      "Class 0: 1343101\n",
      "Class 1: 1343101\n",
      "Proportion: 1.0 : 1\n"
     ]
    }
   ],
   "source": [
    "#if you don't have an intuitive sense of how imbalanced these two classes are, let's go visual\n",
    "count_classes = pd.value_counts(df['class'], sort = True)\n",
    "print('Class 0:', count_classes[0])\n",
    "print('Class 1:', count_classes[1])\n",
    "print('Proportion:', round(count_classes[0] / count_classes[1], 3), ': 1')"
   ]
  },
  {
   "cell_type": "code",
   "execution_count": 10,
   "metadata": {},
   "outputs": [
    {
     "data": {
      "image/png": "[encoded data removed]",
      "text/plain": [
       "<Figure size 432x288 with 1 Axes>"
      ]
     },
     "metadata": {
      "needs_background": "light"
     },
     "output_type": "display_data"
    }
   ],
   "source": [
    "count_classes.plot(kind = 'bar', rot=0)\n",
    "plt.xticks(range(2), ['Normal [0]','Malicious [1]'])\n",
    "plt.title(\"Frequency by observation number\")\n",
    "plt.xlabel(\"Class\")\n",
    "plt.ylabel(\"Number of Observations\");"
   ]
  },
  {
   "cell_type": "code",
   "execution_count": 11,
   "metadata": {},
   "outputs": [],
   "source": [
    "#set random seed and percentage of test data\n",
    "RANDOM_SEED = 23 #used to help randomly select the data points\n",
    "TEST_PCT = 0.20 # 20% of the data"
   ]
  },
  {
   "cell_type": "code",
   "execution_count": 12,
   "metadata": {},
   "outputs": [],
   "source": [
    "train, test_df = train_test_split(df, test_size=TEST_PCT, random_state=RANDOM_SEED)"
   ]
  },
  {
   "cell_type": "markdown",
   "metadata": {},
   "source": [
    "+ df -> original dataset \n",
    "+ train -> subset of 80% from original dataset \n",
    "+ test_df -> subset of 20% from original dataset "
   ]
  },
  {
   "cell_type": "code",
   "execution_count": 13,
   "metadata": {},
   "outputs": [],
   "source": [
    "train_df, dev_df = train_test_split(train, test_size=TEST_PCT, random_state=RANDOM_SEED)"
   ]
  },
  {
   "cell_type": "markdown",
   "metadata": {},
   "source": [
    "+ train -> subset of 80% from original dataset \n",
    "+ train_df -> subset of 80% from train\n",
    "+ dev_df -> subset of 20% from train"
   ]
  },
  {
   "cell_type": "code",
   "execution_count": 14,
   "metadata": {},
   "outputs": [
    {
     "name": "stdout",
     "output_type": "stream",
     "text": [
      "0.5000465341374433\n",
      "0.49896578120164825\n",
      "0.5006784664610482\n"
     ]
    }
   ],
   "source": [
    "# Check distribution of mal samples in train and test set\n",
    "print(train_df.iloc[:, batch_size].sum()/train_df.shape[0]) \n",
    "print(dev_df.iloc[:, batch_size].sum()/dev_df.shape[0]) \n",
    "print(test_df.iloc[:, batch_size].sum()/test_df.shape[0])"
   ]
  },
  {
   "cell_type": "code",
   "execution_count": 15,
   "metadata": {},
   "outputs": [],
   "source": [
    "train_x = train_df.iloc[:, :batch_size] \n",
    "dev_x = dev_df.iloc[:, :batch_size] \n",
    "test_x = test_df.iloc[:, :batch_size] "
   ]
  },
  {
   "cell_type": "markdown",
   "metadata": {},
   "source": [
    "+ train_x -> features of train_df **Training subset for AE**\n",
    "+ dev_x -> features of dev_df **Validation subset for AE**\n",
    "+ test_x -> features of test_df **Testing subset for ANN**"
   ]
  },
  {
   "cell_type": "code",
   "execution_count": null,
   "metadata": {},
   "outputs": [],
   "source": [
    "# Define the final train and test sets\n",
    "train_y = train_df.iloc[:,batch_size]\n",
    "dev_y = dev_df.iloc[:,batch_size]\n",
    "test_y = test_df.iloc[:,batch_size]"
   ]
  },
  {
   "cell_type": "markdown",
   "metadata": {},
   "source": [
    "+ train_y -> **Labels for supervised training of ANN**\n",
    "+ dev_y -> labels of dev_df  *not used for AE neither ANN*\n",
    "+ test_y -> labels of test_df  **Ground Truth for predictions of supervised ANN**"
   ]
  },
  {
   "cell_type": "code",
   "execution_count": null,
   "metadata": {},
   "outputs": [
    {
     "name": "stdout",
     "output_type": "stream",
     "text": [
      "66\n"
     ]
    }
   ],
   "source": [
    "train_x =np.array(train_x)\n",
    "dev_x =np.array(dev_x)\n",
    "test_x = np.array(test_x)\n",
    "\n",
    "train_y = np.array(train_y)\n",
    "dev_y = np.array(dev_y)\n",
    "test_y = np.array(test_y)\n",
    "\n",
    "print(train_x.shape[1])"
   ]
  },
  {
   "cell_type": "markdown",
   "metadata": {},
   "source": [
    "### Autoencoder Function"
   ]
  },
  {
   "cell_type": "code",
   "execution_count": null,
   "metadata": {},
   "outputs": [],
   "source": [
    "def ae(factor_enc_dim, enc_activation, dec_activation, \n",
    "                optimizer, loss):\n",
    "\n",
    "    encoding_dim = int(int(train_x.shape[1])/factor_enc_dim)\n",
    "    ### Define input layer\n",
    "    input_data = Input(shape=(train_x.shape[1],))\n",
    "    ### Define encoding layer #RELU\n",
    "    encoded = Dense(encoding_dim, activation=enc_activation, name='encoded_bottle_neck')(input_data)\n",
    "    ### Define decoding layer #SIMOID\n",
    "    decoded = Dense(train_x.shape[1], activation=dec_activation)(encoded)\n",
    "    ### Create the autoencoder model\n",
    "    autoencoder = Model(input_data, decoded)\n",
    "    autoencoder.compile(optimizer=optimizer,\n",
    "                        loss=loss,\n",
    "                        metrics=['accuracy'])\n",
    "    \n",
    "    print(autoencoder.summary())\n",
    "    \n",
    "    encoder = Model(input_data, encoded)\n",
    "    encoded_train_x = encoder.predict(train_x)\n",
    "    encoded_test_x = encoder.predict(test_x)\n",
    "    \n",
    "    return autoencoder,encoded_train_x,encoded_test_x"
   ]
  },
  {
   "cell_type": "code",
   "execution_count": null,
   "metadata": {},
   "outputs": [],
   "source": [
    "def spae(factor_enc_dim,dec_activation,enc_activation,\n",
    "         optimizer,loss):\n",
    "\n",
    "    encoding_dim = int(int(train_x.shape[1])/factor_enc_dim)\n",
    "    ### Define input layer\n",
    "    input_data = Input(shape=(train_x.shape[1],))\n",
    "    ### Define encoding layer\n",
    "    encoded = Dense(encoding_dim, activity_regularizer=regularizers.l1(1e-4), activation=enc_activation, name='encoded_bottle_neck')(input_data)\n",
    "    ### Define decoding layer\n",
    "    decoded = Dense(train_x.shape[1], activation=dec_activation)(encoded)\n",
    "    ### Create the autoencoder model\n",
    "    autoencoder = Model(input_data, decoded)\n",
    "    autoencoder.compile(optimizer=optimizer,\n",
    "                        loss=loss,\n",
    "                        metrics=['accuracy'])\n",
    "    \n",
    "    print(autoencoder.summary())\n",
    "    \n",
    "    encoder = Model(input_data, encoded)\n",
    "    encoded_train_x = encoder.predict(train_x)\n",
    "    encoded_test_x = encoder.predict(test_x)\n",
    "    \n",
    "    return autoencoder,encoded_train_x,encoded_test_x"
   ]
  },
  {
   "cell_type": "code",
   "execution_count": null,
   "metadata": {},
   "outputs": [],
   "source": [
    "def to_pca(thr):\n",
    "    #train_x_pca,test_x_pca = to_pca(0.95)\n",
    "    pca = PCA(n_components = thr, svd_solver = 'full')\n",
    "    train_x_ = np.array(train_x)\n",
    "    print(type(train_x_))\n",
    "\n",
    "    test_x_ = np.array(test_x)\n",
    "    print(type(test_x_))\n",
    "    \n",
    "    start_time = time.time()\n",
    "    print(time.ctime(start_time))\n",
    "\n",
    "    train_x_pca = pca.fit_transform(train_x_)\n",
    "    print(train_x_pca.shape)\n",
    "\n",
    "    test_x_pca = pca.fit_transform(test_x_)\n",
    "    print(test_x_pca.shape)\n",
    "\n",
    "    elapsed_time = (time.time() - start_time)\n",
    "\n",
    "    print(\"--- PCA spent %s seconds ---\" %elapsed_time )\n",
    "    \n",
    "    return  train_x_pca,test_x_pca"
   ]
  },
  {
   "cell_type": "code",
   "execution_count": null,
   "metadata": {},
   "outputs": [],
   "source": []
  },
  {
   "cell_type": "code",
   "execution_count": null,
   "metadata": {},
   "outputs": [],
   "source": [
    "def fit_ae(checkpoint_file, autoencoder,\n",
    "           epochs, batch_size, shuffle):\n",
    "    \n",
    "    early_stopping = EarlyStopping(monitor='val_loss', patience=5)\n",
    "\n",
    "    cp = ModelCheckpoint(filepath=checkpoint_file,\n",
    "                                   save_best_only=True,\n",
    "                                   verbose=verbose_level)\n",
    "\n",
    "    tb = TensorBoard(log_dir='./logs',\n",
    "                    histogram_freq=0,\n",
    "                    write_graph=True,\n",
    "                    write_images=True)\n",
    "\n",
    "    start_time = datetime.now()\n",
    "    print(datetime.ctime(start_time))\n",
    "\n",
    "    hist_auto = autoencoder.fit(train_x, train_x,\n",
    "                    epochs=epochs,\n",
    "                    batch_size=batch_size,\n",
    "                    shuffle=shuffle,\n",
    "                    verbose=verbose_level,\n",
    "                    callbacks=[early_stopping, cp, tb],\n",
    "                    validation_data=(dev_x, dev_x))\n",
    "\n",
    "    time_elapsed = datetime.now() - start_time \n",
    "    print(\"Time elapsed (hh:mm:ss.ms) {}\".format(time_elapsed))\n",
    "    \n",
    "    return hist_auto"
   ]
  },
  {
   "cell_type": "code",
   "execution_count": null,
   "metadata": {},
   "outputs": [],
   "source": [
    "def plot_hist_auto(hist_auto, fig_file):\n",
    "    best_loss_value = hist_auto.history['loss'][-1]\n",
    "    print('Best loss value:', best_loss_value)\n",
    "\n",
    "    # Summarize history for loss\n",
    "    plt.figure()\n",
    "    plt.plot(hist_auto.history['loss'])\n",
    "    plt.plot(hist_auto.history['val_loss'])\n",
    "    plt.title('Model loss')\n",
    "    plt.ylabel('loss')\n",
    "    plt.xlabel('epoch')\n",
    "    plt.legend(['train', 'test'], loc='upper right')\n",
    "    plt.savefig(fig_file)\n",
    "    plt.show()\n",
    "    \n",
    "    return best_loss_value"
   ]
  },
  {
   "cell_type": "code",
   "execution_count": null,
   "metadata": {},
   "outputs": [],
   "source": [
    "def ann_2h(neurons,encoded_train_x,init_mode,activation_input,\n",
    "               weight_constraint,dropout_rate,activation_output,\n",
    "               loss,optimizer):\n",
    "\n",
    "    # create model\n",
    "    model = Sequential()\n",
    "\n",
    "    model.add(Dense(neurons, input_dim=encoded_train_x.shape[1],\n",
    "                    kernel_initializer=init_mode,\n",
    "                    #kernel_regularizer=regularizers.l2(0.02), #from example\n",
    "                    activation=activation_input,\n",
    "                    kernel_constraint=maxnorm(weight_constraint)\n",
    "                    )\n",
    "              )\n",
    "\n",
    "#     #Hidden Layer\n",
    "    model.add(Dense(int(neurons-int(neurons/4)), activation=\"relu\", kernel_initializer=init_mode)) #rezvy\n",
    "\n",
    "    model.add(Dense(int(neurons-int((neurons/4)*2)), activation=\"relu\", kernel_initializer=init_mode)) #rezvy\n",
    "    model.add(BatchNormalization()) #commented for ex\n",
    "    model.add(Dropout(dropout_rate))\n",
    "    \n",
    "    model.add(Dense(1, activation=activation_output)) #example\n",
    "    \n",
    "    # Compile model\n",
    "    model.compile(loss=loss, \n",
    "                  optimizer=optimizer, \n",
    "                  metrics=['accuracy'])\n",
    "    \n",
    "    print(model.summary())\n",
    "    \n",
    "    return model"
   ]
  },
  {
   "cell_type": "code",
   "execution_count": null,
   "metadata": {},
   "outputs": [],
   "source": [
    "def ann_2h_():\n",
    "\n",
    "    # create model\n",
    "    model = Sequential()\n",
    "\n",
    "    model.add(Dense(neurons, input_dim=input_dim,\n",
    "                    kernel_initializer=init_mode,\n",
    "                    #kernel_regularizer=regularizers.l2(0.02), #from example\n",
    "                    activation=activation_input,\n",
    "                    kernel_constraint=maxnorm(weight_constraint)\n",
    "                    )\n",
    "              )\n",
    "\n",
    "#     #Hidden Layer\n",
    "    model.add(Dense(int(neurons-int(neurons/4)), activation=\"relu\", kernel_initializer=init_mode)) #rezvy\n",
    "\n",
    "    model.add(Dense(int(neurons-int((neurons/4)*2)), activation=\"relu\", kernel_initializer=init_mode)) #rezvy\n",
    "    model.add(BatchNormalization()) #commented for ex\n",
    "    model.add(Dropout(dropout_rate))\n",
    "    \n",
    "    model.add(Dense(1, activation=activation_output)) #example\n",
    "    \n",
    "    # Compile model\n",
    "    model.compile(loss=loss, \n",
    "                  optimizer=optimizer, \n",
    "                  metrics=['accuracy'])\n",
    "    \n",
    "    print(model.summary())\n",
    "    \n",
    "    return model"
   ]
  },
  {
   "cell_type": "code",
   "execution_count": null,
   "metadata": {},
   "outputs": [],
   "source": [
    "def ann_fit(checkpoint_file,ann,enc_train_x,train_y,epochs,shuffle,batch_size):\n",
    "    early_stopping = EarlyStopping(monitor='val_loss', patience=5)\n",
    "\n",
    "    cp = ModelCheckpoint(filepath=checkpoint_file,\n",
    "                                   save_best_only=True,\n",
    "                                   verbose=verbose_level)\n",
    "\n",
    "    tb = TensorBoard(log_dir='./logs',\n",
    "                    histogram_freq=0,\n",
    "                    write_graph=True,\n",
    "                    write_images=True)\n",
    "\n",
    "    start_time = datetime.now()\n",
    "    print(datetime.ctime(start_time))\n",
    "\n",
    "    history = ann.fit(enc_train_x,\n",
    "                      train_y,\n",
    "                      validation_split=0.2,\n",
    "                      callbacks=[early_stopping, cp, tb],\n",
    "                      epochs=epochs,\n",
    "                      shuffle=shuffle,\n",
    "                      batch_size=batch_size,\n",
    "                      verbose=verbose_level)\n",
    "\n",
    "    time_elapsed = datetime.now() - start_time \n",
    "    print(\"Time elapsed (hh:mm:ss.ms) {}\".format(time_elapsed))\n",
    "\n",
    "    return history"
   ]
  },
  {
   "cell_type": "code",
   "execution_count": null,
   "metadata": {},
   "outputs": [],
   "source": [
    "def ann_predict(ann,enc_test_x):\n",
    "    pred_ann_prob = ann.predict(enc_test_x)\n",
    "    pred_ann_prob.shape\n",
    "    pred_ann_prob = pred_ann_prob[:,0]\n",
    "    pred_ann_01 = np.where(pred_ann_prob > 0.5, 1, 0)\n",
    "    \n",
    "    #Print accuracy\n",
    "    acc_ann = accuracy_score(test_y, pred_ann_01)\n",
    "    print('Overall accuracy of Neural Network model:', acc_ann)\n",
    "\n",
    "    classiBM = \"NN\"\n",
    "    preBM = (sm.precision_score(test_y, pred_ann_01)*100) \n",
    "    recallBM = (sm.recall_score(test_y, pred_ann_01)*100) \n",
    "    f1scoreBM = (sm.f1_score(test_y, pred_ann_01)*100)\n",
    "    print(sm.classification_report(test_y, pred_ann_01,digits=4))\n",
    "    \n",
    "    return pred_ann_prob, pred_ann_01"
   ]
  },
  {
   "cell_type": "code",
   "execution_count": null,
   "metadata": {},
   "outputs": [],
   "source": [
    "def ann_predict_():\n",
    "    early_stopping = EarlyStopping(monitor='loss', patience=10)\n",
    "\n",
    "    start_time = datetime.now()\n",
    "    print(datetime.ctime(start_time))  \n",
    "\n",
    "    modelk = KerasClassifier(build_fn=ann_2h_,\n",
    "                             epochs=epochs, \n",
    "                             batch_size=batch_size, \n",
    "                             verbose=verbose_level\n",
    "                            )\n",
    "\n",
    "    pred_ann_prob = cross_val_predict(modelk,\n",
    "                                      enc_test_x,\n",
    "                                      test_y,\n",
    "                                      cv=KFold(n_splits=5, random_state=23),\n",
    "                                      verbose=1)\n",
    "\n",
    "    time_elapsed = datetime.now() - start_time \n",
    "    print(\"Time elapsed (hh:mm:ss.ms) {}\".format(time_elapsed))\n",
    "\n",
    "    pred_ann_prob.shape\n",
    "    pred_ann_prob = pred_ann_prob[:,0]\n",
    "    pred_ann_01 = np.where(pred_ann_prob > 0.5, 1, 0)\n",
    "\n",
    "    #Print accuracy\n",
    "    acc_ann = accuracy_score(test_y, pred_ann_01)\n",
    "    print('Overall accuracy of Neural Network model:', acc_ann)\n",
    "\n",
    "    classiBM = \"NN\"\n",
    "    preBM = (sm.precision_score(test_y, pred_ann_01)*100) \n",
    "    recallBM = (sm.recall_score(test_y, pred_ann_01)*100) \n",
    "    f1scoreBM = (sm.f1_score(test_y, pred_ann_01)*100)\n",
    "    print(sm.classification_report(test_y, pred_ann_01,digits=4))\n",
    "    \n",
    "    return pred_ann_prob,pred_ann_01"
   ]
  },
  {
   "cell_type": "code",
   "execution_count": null,
   "metadata": {},
   "outputs": [],
   "source": [
    "def plot_roc_cm(pred_ann_prob, pred_ann_01, roc_file, cm_file):\n",
    "    false_positive_rate, recall, thresholds = roc_curve(test_y, pred_ann_prob)\n",
    "    roc_auc = auc(false_positive_rate, recall)\n",
    "    plt.figure()\n",
    "    plt.title('Receiver Operating Characteristic (ROC)')\n",
    "    plt.plot(false_positive_rate, recall, 'b', label = 'AUC = %0.3f' %roc_auc)\n",
    "    plt.legend(loc='lower right')\n",
    "    plt.plot([0,1], [0,1], 'r--')\n",
    "    plt.xlim([0.0,1.0])\n",
    "    plt.ylim([0.0,1.0])\n",
    "    plt.ylabel('Recall')\n",
    "    plt.xlabel('Fall-out (1-Specificity)')\n",
    "    plt.savefig(roc_file)\n",
    "    plt.show()\n",
    "    \n",
    "    cm = confusion_matrix(test_y, pred_ann_01)\n",
    "    labels = ['Normal', 'Malicious']\n",
    "    plt.figure(figsize=(8,6))\n",
    "    sns.heatmap(cm,xticklabels=labels, yticklabels=labels, annot=True, fmt='d', cmap=\"RdYlGn\", vmin = 0.2);\n",
    "    plt.title('Confusion Matrix')\n",
    "    plt.ylabel('True Class')\n",
    "    plt.xlabel('Predicted Class')\n",
    "    plt.savefig(cm_file)\n",
    "    plt.show()"
   ]
  },
  {
   "cell_type": "code",
   "execution_count": null,
   "metadata": {},
   "outputs": [],
   "source": []
  },
  {
   "cell_type": "markdown",
   "metadata": {},
   "source": [
    "### **---------- PCA Dimensionality reduction ----------**"
   ]
  },
  {
   "cell_type": "code",
   "execution_count": null,
   "metadata": {},
   "outputs": [],
   "source": [
    "# train_x_pca,test_x_pca = to_pca(0.95)"
   ]
  },
  {
   "cell_type": "markdown",
   "metadata": {},
   "source": [
    "### **---------- AE Dimensionality reduction ----------**"
   ]
  },
  {
   "cell_type": "code",
   "execution_count": null,
   "metadata": {},
   "outputs": [
    {
     "name": "stdout",
     "output_type": "stream",
     "text": [
      "WARNING:tensorflow:From /home/user/anaconda3/envs/deepl/lib/python3.6/site-packages/tensorflow/python/framework/op_def_library.py:263: colocate_with (from tensorflow.python.framework.ops) is deprecated and will be removed in a future version.\n",
      "Instructions for updating:\n",
      "Colocations handled automatically by placer.\n",
      "_________________________________________________________________\n",
      "Layer (type)                 Output Shape              Param #   \n",
      "=================================================================\n",
      "input_1 (InputLayer)         (None, 66)                0         \n",
      "_________________________________________________________________\n",
      "encoded_bottle_neck (Dense)  (None, 44)                2948      \n",
      "_________________________________________________________________\n",
      "dense_1 (Dense)              (None, 66)                2970      \n",
      "=================================================================\n",
      "Total params: 5,918\n",
      "Trainable params: 5,918\n",
      "Non-trainable params: 0\n",
      "_________________________________________________________________\n",
      "None\n"
     ]
    }
   ],
   "source": [
    "ae_sigmoid_adam_mse,enc_train_x_asam,enc_test_x_asam = ae(factor_enc_dim = 1.5,\n",
    "                                                          enc_activation = 'relu',\n",
    "                                                          dec_activation = 'sigmoid',\n",
    "                                                          optimizer='Adam',\n",
    "                                                          loss='mean_squared_error')"
   ]
  },
  {
   "cell_type": "code",
   "execution_count": null,
   "metadata": {},
   "outputs": [],
   "source": [
    "#ae_sigmoid_adam_mse = load_model('ae_sigmoid_adam_mse_redds10bal.h5')"
   ]
  },
  {
   "cell_type": "code",
   "execution_count": null,
   "metadata": {},
   "outputs": [
    {
     "name": "stdout",
     "output_type": "stream",
     "text": [
      "Mon Jul  8 16:16:04 2019\n",
      "WARNING:tensorflow:From /home/user/anaconda3/envs/deepl/lib/python3.6/site-packages/tensorflow/python/ops/math_ops.py:3066: to_int32 (from tensorflow.python.ops.math_ops) is deprecated and will be removed in a future version.\n",
      "Instructions for updating:\n",
      "Use tf.cast instead.\n",
      "Train on 1719168 samples, validate on 429793 samples\n",
      "Epoch 1/200\n",
      "1719168/1719168 [==============================] - 48s 28us/step - loss: 0.1590 - acc: 0.1868 - val_loss: 0.1575 - val_acc: 0.2005\n",
      "\n",
      "Epoch 00001: val_loss improved from inf to 0.15752, saving model to ./H5files/ae_sigmoid_adam_mse_redds20bal.h5\n",
      "Epoch 2/200\n",
      "1719168/1719168 [==============================] - 46s 27us/step - loss: 0.1568 - acc: 0.2160 - val_loss: 0.1575 - val_acc: 0.2100\n",
      "\n",
      "Epoch 00002: val_loss improved from 0.15752 to 0.15752, saving model to ./H5files/ae_sigmoid_adam_mse_redds20bal.h5\n",
      "Epoch 3/200\n",
      "1719168/1719168 [==============================] - 46s 27us/step - loss: 0.1568 - acc: 0.1984 - val_loss: 0.1575 - val_acc: 0.1826\n",
      "\n",
      "Epoch 00003: val_loss did not improve from 0.15752\n",
      "Epoch 4/200\n",
      "1719168/1719168 [==============================] - 45s 26us/step - loss: 0.1568 - acc: 0.1524 - val_loss: 0.1575 - val_acc: 0.1356\n",
      "\n",
      "Epoch 00004: val_loss improved from 0.15752 to 0.15752, saving model to ./H5files/ae_sigmoid_adam_mse_redds20bal.h5\n",
      "Epoch 5/200\n",
      "1719168/1719168 [==============================] - 45s 26us/step - loss: 0.1568 - acc: 0.1332 - val_loss: 0.1575 - val_acc: 0.1277\n",
      "\n",
      "Epoch 00005: val_loss improved from 0.15752 to 0.15751, saving model to ./H5files/ae_sigmoid_adam_mse_redds20bal.h5\n",
      "Epoch 6/200\n",
      "1719168/1719168 [==============================] - 44s 26us/step - loss: 0.1568 - acc: 0.1366 - val_loss: 0.1575 - val_acc: 0.1458\n",
      "\n",
      "Epoch 00006: val_loss improved from 0.15751 to 0.15751, saving model to ./H5files/ae_sigmoid_adam_mse_redds20bal.h5\n",
      "Epoch 7/200\n",
      "1719168/1719168 [==============================] - 44s 26us/step - loss: 0.1568 - acc: 0.1491 - val_loss: 0.1575 - val_acc: 0.1192\n",
      "\n",
      "Epoch 00007: val_loss did not improve from 0.15751\n",
      "Epoch 8/200\n",
      "1719168/1719168 [==============================] - 43s 25us/step - loss: 0.1568 - acc: 0.1492 - val_loss: 0.1575 - val_acc: 0.1558\n",
      "\n",
      "Epoch 00008: val_loss improved from 0.15751 to 0.15751, saving model to ./H5files/ae_sigmoid_adam_mse_redds20bal.h5\n",
      "Epoch 9/200\n",
      "1719168/1719168 [==============================] - 43s 25us/step - loss: 0.1568 - acc: 0.1599 - val_loss: 0.1575 - val_acc: 0.1294\n",
      "\n",
      "Epoch 00009: val_loss improved from 0.15751 to 0.15751, saving model to ./H5files/ae_sigmoid_adam_mse_redds20bal.h5\n",
      "Epoch 10/200\n",
      "1719168/1719168 [==============================] - 43s 25us/step - loss: 0.1567 - acc: 0.1610 - val_loss: 0.1575 - val_acc: 0.1857\n",
      "\n",
      "Epoch 00010: val_loss improved from 0.15751 to 0.15751, saving model to ./H5files/ae_sigmoid_adam_mse_redds20bal.h5\n",
      "Epoch 11/200\n",
      "1719168/1719168 [==============================] - 42s 25us/step - loss: 0.1567 - acc: 0.1659 - val_loss: 0.1575 - val_acc: 0.1683\n",
      "\n",
      "Epoch 00011: val_loss improved from 0.15751 to 0.15751, saving model to ./H5files/ae_sigmoid_adam_mse_redds20bal.h5\n",
      "Epoch 12/200\n",
      "1719168/1719168 [==============================] - 42s 24us/step - loss: 0.1567 - acc: 0.1626 - val_loss: 0.1574 - val_acc: 0.1329\n",
      "\n",
      "Epoch 00012: val_loss improved from 0.15751 to 0.15743, saving model to ./H5files/ae_sigmoid_adam_mse_redds20bal.h5\n",
      "Epoch 13/200\n",
      "1719168/1719168 [==============================] - 42s 24us/step - loss: 0.1567 - acc: 0.1593 - val_loss: 0.1574 - val_acc: 0.1657\n",
      "\n",
      "Epoch 00013: val_loss improved from 0.15743 to 0.15743, saving model to ./H5files/ae_sigmoid_adam_mse_redds20bal.h5\n",
      "Epoch 14/200\n",
      "1719168/1719168 [==============================] - 41s 24us/step - loss: 0.1567 - acc: 0.1565 - val_loss: 0.1574 - val_acc: 0.1688\n",
      "\n",
      "Epoch 00014: val_loss improved from 0.15743 to 0.15743, saving model to ./H5files/ae_sigmoid_adam_mse_redds20bal.h5\n",
      "Epoch 15/200\n",
      "1719168/1719168 [==============================] - 41s 24us/step - loss: 0.1567 - acc: 0.1726 - val_loss: 0.1574 - val_acc: 0.1714\n",
      "\n",
      "Epoch 00015: val_loss did not improve from 0.15743\n",
      "Epoch 16/200\n",
      "1719168/1719168 [==============================] - 41s 24us/step - loss: 0.1567 - acc: 0.1571 - val_loss: 0.1574 - val_acc: 0.1505\n",
      "\n",
      "Epoch 00016: val_loss improved from 0.15743 to 0.15741, saving model to ./H5files/ae_sigmoid_adam_mse_redds20bal.h5\n",
      "Epoch 17/200\n",
      "1719168/1719168 [==============================] - 41s 24us/step - loss: 0.1567 - acc: 0.1522 - val_loss: 0.1574 - val_acc: 0.1645\n",
      "\n",
      "Epoch 00017: val_loss improved from 0.15741 to 0.15741, saving model to ./H5files/ae_sigmoid_adam_mse_redds20bal.h5\n",
      "Epoch 18/200\n",
      "1719168/1719168 [==============================] - 41s 24us/step - loss: 0.1566 - acc: 0.1502 - val_loss: 0.1574 - val_acc: 0.1469\n",
      "\n",
      "Epoch 00018: val_loss improved from 0.15741 to 0.15741, saving model to ./H5files/ae_sigmoid_adam_mse_redds20bal.h5\n",
      "Epoch 19/200\n",
      "1719168/1719168 [==============================] - 41s 24us/step - loss: 0.1566 - acc: 0.1449 - val_loss: 0.1574 - val_acc: 0.1535\n",
      "\n",
      "Epoch 00019: val_loss did not improve from 0.15741\n",
      "Epoch 20/200\n",
      "1719168/1719168 [==============================] - 41s 24us/step - loss: 0.1566 - acc: 0.1607 - val_loss: 0.1574 - val_acc: 0.1900\n",
      "\n",
      "Epoch 00020: val_loss did not improve from 0.15741\n",
      "Epoch 21/200\n",
      "1719168/1719168 [==============================] - 40s 23us/step - loss: 0.1566 - acc: 0.1656 - val_loss: 0.1574 - val_acc: 0.1606\n",
      "\n",
      "Epoch 00021: val_loss improved from 0.15741 to 0.15741, saving model to ./H5files/ae_sigmoid_adam_mse_redds20bal.h5\n",
      "Epoch 22/200\n",
      "1719168/1719168 [==============================] - 41s 24us/step - loss: 0.1566 - acc: 0.1505 - val_loss: 0.1574 - val_acc: 0.1504\n",
      "\n",
      "Epoch 00022: val_loss did not improve from 0.15741\n",
      "Epoch 23/200\n",
      "1719168/1719168 [==============================] - 40s 23us/step - loss: 0.1566 - acc: 0.1442 - val_loss: 0.1574 - val_acc: 0.1448\n",
      "\n",
      "Epoch 00023: val_loss did not improve from 0.15741\n",
      "Epoch 24/200\n",
      "1719168/1719168 [==============================] - 40s 23us/step - loss: 0.1566 - acc: 0.1538 - val_loss: 0.1574 - val_acc: 0.1516\n",
      "\n",
      "Epoch 00024: val_loss improved from 0.15741 to 0.15741, saving model to ./H5files/ae_sigmoid_adam_mse_redds20bal.h5\n",
      "Epoch 25/200\n",
      "1719168/1719168 [==============================] - 40s 23us/step - loss: 0.1566 - acc: 0.1486 - val_loss: 0.1574 - val_acc: 0.1323\n",
      "\n",
      "Epoch 00025: val_loss improved from 0.15741 to 0.15741, saving model to ./H5files/ae_sigmoid_adam_mse_redds20bal.h5\n",
      "Epoch 26/200\n",
      "1719168/1719168 [==============================] - 40s 23us/step - loss: 0.1566 - acc: 0.1254 - val_loss: 0.1574 - val_acc: 0.1434\n",
      "\n",
      "Epoch 00026: val_loss improved from 0.15741 to 0.15741, saving model to ./H5files/ae_sigmoid_adam_mse_redds20bal.h5\n",
      "Epoch 27/200\n",
      "1719168/1719168 [==============================] - 40s 23us/step - loss: 0.1566 - acc: 0.1398 - val_loss: 0.1574 - val_acc: 0.1427\n",
      "\n",
      "Epoch 00027: val_loss improved from 0.15741 to 0.15741, saving model to ./H5files/ae_sigmoid_adam_mse_redds20bal.h5\n",
      "Epoch 28/200\n",
      "1719168/1719168 [==============================] - 40s 23us/step - loss: 0.1566 - acc: 0.1491 - val_loss: 0.1574 - val_acc: 0.1546\n",
      "\n",
      "Epoch 00028: val_loss did not improve from 0.15741\n",
      "Epoch 29/200\n",
      "1719168/1719168 [==============================] - 40s 23us/step - loss: 0.1566 - acc: 0.1533 - val_loss: 0.1574 - val_acc: 0.1587\n",
      "\n",
      "Epoch 00029: val_loss improved from 0.15741 to 0.15741, saving model to ./H5files/ae_sigmoid_adam_mse_redds20bal.h5\n",
      "Epoch 30/200\n",
      "1719168/1719168 [==============================] - 40s 23us/step - loss: 0.1566 - acc: 0.1524 - val_loss: 0.1574 - val_acc: 0.1559\n",
      "\n",
      "Epoch 00030: val_loss did not improve from 0.15741\n",
      "Epoch 31/200\n",
      "1719168/1719168 [==============================] - 40s 23us/step - loss: 0.1566 - acc: 0.1559 - val_loss: 0.1574 - val_acc: 0.1541\n",
      "\n",
      "Epoch 00031: val_loss improved from 0.15741 to 0.15741, saving model to ./H5files/ae_sigmoid_adam_mse_redds20bal.h5\n",
      "Epoch 32/200\n",
      "1719168/1719168 [==============================] - 40s 23us/step - loss: 0.1566 - acc: 0.1491 - val_loss: 0.1574 - val_acc: 0.1622\n",
      "\n",
      "Epoch 00032: val_loss improved from 0.15741 to 0.15741, saving model to ./H5files/ae_sigmoid_adam_mse_redds20bal.h5\n",
      "Epoch 33/200\n",
      "1719168/1719168 [==============================] - 40s 23us/step - loss: 0.1566 - acc: 0.1584 - val_loss: 0.1574 - val_acc: 0.1656\n",
      "\n",
      "Epoch 00033: val_loss did not improve from 0.15741\n",
      "Epoch 34/200\n",
      "1719168/1719168 [==============================] - 40s 23us/step - loss: 0.1566 - acc: 0.1636 - val_loss: 0.1574 - val_acc: 0.1786\n",
      "\n",
      "Epoch 00034: val_loss improved from 0.15741 to 0.15741, saving model to ./H5files/ae_sigmoid_adam_mse_redds20bal.h5\n",
      "Epoch 35/200\n",
      "1719168/1719168 [==============================] - 40s 23us/step - loss: 0.1566 - acc: 0.1629 - val_loss: 0.1574 - val_acc: 0.1497\n",
      "\n",
      "Epoch 00035: val_loss improved from 0.15741 to 0.15741, saving model to ./H5files/ae_sigmoid_adam_mse_redds20bal.h5\n",
      "Epoch 36/200\n",
      "1719168/1719168 [==============================] - 40s 23us/step - loss: 0.1566 - acc: 0.1455 - val_loss: 0.1574 - val_acc: 0.1411\n",
      "\n",
      "Epoch 00036: val_loss improved from 0.15741 to 0.15741, saving model to ./H5files/ae_sigmoid_adam_mse_redds20bal.h5\n",
      "Epoch 37/200\n",
      "1719168/1719168 [==============================] - 40s 23us/step - loss: 0.1566 - acc: 0.1417 - val_loss: 0.1574 - val_acc: 0.1480\n",
      "\n",
      "Epoch 00037: val_loss did not improve from 0.15741\n",
      "Epoch 38/200\n",
      "1719168/1719168 [==============================] - 40s 23us/step - loss: 0.1566 - acc: 0.1314 - val_loss: 0.1574 - val_acc: 0.1302\n",
      "\n",
      "Epoch 00038: val_loss did not improve from 0.15741\n",
      "Epoch 39/200\n",
      "1719168/1719168 [==============================] - 40s 23us/step - loss: 0.1566 - acc: 0.1318 - val_loss: 0.1574 - val_acc: 0.1335\n",
      "\n",
      "Epoch 00039: val_loss improved from 0.15741 to 0.15741, saving model to ./H5files/ae_sigmoid_adam_mse_redds20bal.h5\n",
      "Epoch 40/200\n",
      "1719168/1719168 [==============================] - 40s 23us/step - loss: 0.1566 - acc: 0.1375 - val_loss: 0.1574 - val_acc: 0.1380\n",
      "\n",
      "Epoch 00040: val_loss did not improve from 0.15741\n",
      "Epoch 41/200\n",
      "1719168/1719168 [==============================] - 40s 23us/step - loss: 0.1566 - acc: 0.1439 - val_loss: 0.1574 - val_acc: 0.1273\n",
      "\n",
      "Epoch 00041: val_loss did not improve from 0.15741\n",
      "Epoch 42/200\n",
      "1719168/1719168 [==============================] - 40s 23us/step - loss: 0.1566 - acc: 0.1544 - val_loss: 0.1574 - val_acc: 0.1615\n",
      "\n",
      "Epoch 00042: val_loss improved from 0.15741 to 0.15740, saving model to ./H5files/ae_sigmoid_adam_mse_redds20bal.h5\n",
      "Epoch 43/200\n",
      "1719168/1719168 [==============================] - 40s 23us/step - loss: 0.1566 - acc: 0.1695 - val_loss: 0.1574 - val_acc: 0.1797\n",
      "\n",
      "Epoch 00043: val_loss improved from 0.15740 to 0.15740, saving model to ./H5files/ae_sigmoid_adam_mse_redds20bal.h5\n",
      "Epoch 44/200\n",
      "1719168/1719168 [==============================] - 40s 23us/step - loss: 0.1566 - acc: 0.1749 - val_loss: 0.1574 - val_acc: 0.1716\n",
      "\n",
      "Epoch 00044: val_loss improved from 0.15740 to 0.15740, saving model to ./H5files/ae_sigmoid_adam_mse_redds20bal.h5\n",
      "Epoch 45/200\n",
      "1719168/1719168 [==============================] - 40s 23us/step - loss: 0.1566 - acc: 0.1590 - val_loss: 0.1574 - val_acc: 0.1516\n",
      "\n",
      "Epoch 00045: val_loss did not improve from 0.15740\n",
      "Epoch 46/200\n",
      "1719168/1719168 [==============================] - 40s 23us/step - loss: 0.1566 - acc: 0.1625 - val_loss: 0.1574 - val_acc: 0.1856\n",
      "\n",
      "Epoch 00046: val_loss did not improve from 0.15740\n",
      "Epoch 47/200\n",
      "1719168/1719168 [==============================] - 40s 23us/step - loss: 0.1566 - acc: 0.1598 - val_loss: 0.1574 - val_acc: 0.1388\n",
      "\n",
      "Epoch 00047: val_loss improved from 0.15740 to 0.15740, saving model to ./H5files/ae_sigmoid_adam_mse_redds20bal.h5\n",
      "Epoch 48/200\n",
      "1719168/1719168 [==============================] - 40s 23us/step - loss: 0.1566 - acc: 0.1455 - val_loss: 0.1574 - val_acc: 0.1551\n",
      "\n",
      "Epoch 00048: val_loss did not improve from 0.15740\n",
      "Epoch 49/200\n",
      "1719168/1719168 [==============================] - 40s 23us/step - loss: 0.1566 - acc: 0.1579 - val_loss: 0.1574 - val_acc: 0.1657\n",
      "\n",
      "Epoch 00049: val_loss improved from 0.15740 to 0.15740, saving model to ./H5files/ae_sigmoid_adam_mse_redds20bal.h5\n",
      "Epoch 50/200\n",
      "1719168/1719168 [==============================] - 40s 23us/step - loss: 0.1566 - acc: 0.1649 - val_loss: 0.1574 - val_acc: 0.1722\n",
      "\n",
      "Epoch 00050: val_loss did not improve from 0.15740\n",
      "Epoch 51/200\n",
      "1719168/1719168 [==============================] - 40s 23us/step - loss: 0.1566 - acc: 0.1696 - val_loss: 0.1574 - val_acc: 0.1584\n",
      "\n",
      "Epoch 00051: val_loss did not improve from 0.15740\n",
      "Epoch 52/200\n",
      "1719168/1719168 [==============================] - 40s 23us/step - loss: 0.1566 - acc: 0.1568 - val_loss: 0.1574 - val_acc: 0.1516\n",
      "\n",
      "Epoch 00052: val_loss improved from 0.15740 to 0.15740, saving model to ./H5files/ae_sigmoid_adam_mse_redds20bal.h5\n",
      "Epoch 53/200\n",
      "1719168/1719168 [==============================] - 40s 23us/step - loss: 0.1566 - acc: 0.1581 - val_loss: 0.1574 - val_acc: 0.1419\n",
      "\n",
      "Epoch 00053: val_loss did not improve from 0.15740\n",
      "Epoch 54/200\n",
      "1719168/1719168 [==============================] - 40s 23us/step - loss: 0.1566 - acc: 0.1490 - val_loss: 0.1574 - val_acc: 0.1421\n",
      "\n",
      "Epoch 00054: val_loss did not improve from 0.15740\n",
      "Epoch 55/200\n",
      "1719168/1719168 [==============================] - 40s 23us/step - loss: 0.1566 - acc: 0.1437 - val_loss: 0.1574 - val_acc: 0.1370\n",
      "\n",
      "Epoch 00055: val_loss improved from 0.15740 to 0.15740, saving model to ./H5files/ae_sigmoid_adam_mse_redds20bal.h5\n",
      "Epoch 56/200\n",
      "1719168/1719168 [==============================] - 40s 23us/step - loss: 0.1566 - acc: 0.1526 - val_loss: 0.1574 - val_acc: 0.1570\n",
      "\n",
      "Epoch 00056: val_loss did not improve from 0.15740\n",
      "Epoch 57/200\n",
      "1719168/1719168 [==============================] - 40s 23us/step - loss: 0.1566 - acc: 0.1579 - val_loss: 0.1574 - val_acc: 0.1651\n",
      "\n",
      "Epoch 00057: val_loss improved from 0.15740 to 0.15740, saving model to ./H5files/ae_sigmoid_adam_mse_redds20bal.h5\n",
      "Epoch 58/200\n",
      "1719168/1719168 [==============================] - 40s 23us/step - loss: 0.1566 - acc: 0.1557 - val_loss: 0.1574 - val_acc: 0.1688\n",
      "\n",
      "Epoch 00058: val_loss did not improve from 0.15740\n",
      "Epoch 59/200\n",
      "1719168/1719168 [==============================] - 40s 23us/step - loss: 0.1566 - acc: 0.1624 - val_loss: 0.1574 - val_acc: 0.1442\n",
      "\n",
      "Epoch 00059: val_loss did not improve from 0.15740\n",
      "Epoch 60/200\n",
      "1719168/1719168 [==============================] - 40s 23us/step - loss: 0.1566 - acc: 0.1571 - val_loss: 0.1574 - val_acc: 0.1525\n",
      "\n",
      "Epoch 00060: val_loss improved from 0.15740 to 0.15740, saving model to ./H5files/ae_sigmoid_adam_mse_redds20bal.h5\n",
      "Epoch 61/200\n",
      "1719168/1719168 [==============================] - 40s 23us/step - loss: 0.1566 - acc: 0.1591 - val_loss: 0.1574 - val_acc: 0.1548\n",
      "\n",
      "Epoch 00061: val_loss improved from 0.15740 to 0.15740, saving model to ./H5files/ae_sigmoid_adam_mse_redds20bal.h5\n",
      "Epoch 62/200\n",
      "1719168/1719168 [==============================] - 40s 23us/step - loss: 0.1566 - acc: 0.1700 - val_loss: 0.1574 - val_acc: 0.1953\n",
      "\n",
      "Epoch 00062: val_loss improved from 0.15740 to 0.15740, saving model to ./H5files/ae_sigmoid_adam_mse_redds20bal.h5\n",
      "Epoch 63/200\n",
      "1719168/1719168 [==============================] - 40s 23us/step - loss: 0.1566 - acc: 0.1710 - val_loss: 0.1574 - val_acc: 0.1102\n",
      "\n",
      "Epoch 00063: val_loss improved from 0.15740 to 0.15740, saving model to ./H5files/ae_sigmoid_adam_mse_redds20bal.h5\n",
      "Epoch 64/200\n",
      "1719168/1719168 [==============================] - 40s 23us/step - loss: 0.1566 - acc: 0.1664 - val_loss: 0.1574 - val_acc: 0.1788\n",
      "\n",
      "Epoch 00064: val_loss improved from 0.15740 to 0.15740, saving model to ./H5files/ae_sigmoid_adam_mse_redds20bal.h5\n",
      "Epoch 65/200\n",
      "1719168/1719168 [==============================] - 40s 23us/step - loss: 0.1566 - acc: 0.1713 - val_loss: 0.1574 - val_acc: 0.1941\n",
      "\n",
      "Epoch 00065: val_loss improved from 0.15740 to 0.15739, saving model to ./H5files/ae_sigmoid_adam_mse_redds20bal.h5\n",
      "Epoch 66/200\n",
      "1719168/1719168 [==============================] - 40s 23us/step - loss: 0.1566 - acc: 0.1640 - val_loss: 0.1574 - val_acc: 0.1510\n",
      "\n",
      "Epoch 00066: val_loss improved from 0.15739 to 0.15739, saving model to ./H5files/ae_sigmoid_adam_mse_redds20bal.h5\n",
      "Epoch 67/200\n",
      "1719168/1719168 [==============================] - 40s 23us/step - loss: 0.1566 - acc: 0.1573 - val_loss: 0.1574 - val_acc: 0.1594\n",
      "\n",
      "Epoch 00067: val_loss improved from 0.15739 to 0.15739, saving model to ./H5files/ae_sigmoid_adam_mse_redds20bal.h5\n",
      "Epoch 68/200\n",
      "1719168/1719168 [==============================] - 40s 23us/step - loss: 0.1566 - acc: 0.1629 - val_loss: 0.1574 - val_acc: 0.1644\n",
      "\n",
      "Epoch 00068: val_loss improved from 0.15739 to 0.15739, saving model to ./H5files/ae_sigmoid_adam_mse_redds20bal.h5\n",
      "Epoch 69/200\n",
      "1719168/1719168 [==============================] - 40s 23us/step - loss: 0.1566 - acc: 0.1710 - val_loss: 0.1574 - val_acc: 0.1543\n",
      "\n",
      "Epoch 00069: val_loss did not improve from 0.15739\n",
      "Epoch 70/200\n",
      "1719168/1719168 [==============================] - 40s 23us/step - loss: 0.1566 - acc: 0.1907 - val_loss: 0.1574 - val_acc: 0.1618\n",
      "\n",
      "Epoch 00070: val_loss improved from 0.15739 to 0.15739, saving model to ./H5files/ae_sigmoid_adam_mse_redds20bal.h5\n",
      "Epoch 71/200\n",
      "1719168/1719168 [==============================] - 40s 23us/step - loss: 0.1566 - acc: 0.1883 - val_loss: 0.1574 - val_acc: 0.1862\n",
      "\n",
      "Epoch 00071: val_loss improved from 0.15739 to 0.15739, saving model to ./H5files/ae_sigmoid_adam_mse_redds20bal.h5\n",
      "Epoch 72/200\n",
      "1719168/1719168 [==============================] - 40s 23us/step - loss: 0.1566 - acc: 0.1836 - val_loss: 0.1574 - val_acc: 0.1784\n",
      "\n",
      "Epoch 00072: val_loss improved from 0.15739 to 0.15739, saving model to ./H5files/ae_sigmoid_adam_mse_redds20bal.h5\n",
      "Epoch 73/200\n",
      "1719168/1719168 [==============================] - 40s 23us/step - loss: 0.1566 - acc: 0.1830 - val_loss: 0.1574 - val_acc: 0.1889\n",
      "\n",
      "Epoch 00073: val_loss improved from 0.15739 to 0.15739, saving model to ./H5files/ae_sigmoid_adam_mse_redds20bal.h5\n",
      "Epoch 74/200\n",
      "1719168/1719168 [==============================] - 40s 23us/step - loss: 0.1566 - acc: 0.1939 - val_loss: 0.1574 - val_acc: 0.2348\n",
      "\n",
      "Epoch 00074: val_loss did not improve from 0.15739\n",
      "Epoch 75/200\n",
      "1719168/1719168 [==============================] - 40s 23us/step - loss: 0.1566 - acc: 0.2060 - val_loss: 0.1574 - val_acc: 0.1935\n",
      "\n",
      "Epoch 00075: val_loss did not improve from 0.15739\n",
      "Epoch 76/200\n",
      "1719168/1719168 [==============================] - 40s 23us/step - loss: 0.1566 - acc: 0.2161 - val_loss: 0.1574 - val_acc: 0.2159\n",
      "\n",
      "Epoch 00076: val_loss improved from 0.15739 to 0.15739, saving model to ./H5files/ae_sigmoid_adam_mse_redds20bal.h5\n",
      "Epoch 77/200\n",
      "1719168/1719168 [==============================] - 40s 23us/step - loss: 0.1566 - acc: 0.2122 - val_loss: 0.1574 - val_acc: 0.2107\n",
      "\n",
      "Epoch 00077: val_loss improved from 0.15739 to 0.15739, saving model to ./H5files/ae_sigmoid_adam_mse_redds20bal.h5\n",
      "Epoch 78/200\n",
      "1719168/1719168 [==============================] - 40s 23us/step - loss: 0.1566 - acc: 0.2207 - val_loss: 0.1574 - val_acc: 0.2279\n",
      "\n",
      "Epoch 00078: val_loss did not improve from 0.15739\n",
      "Epoch 79/200\n",
      "1719168/1719168 [==============================] - 40s 23us/step - loss: 0.1566 - acc: 0.2142 - val_loss: 0.1574 - val_acc: 0.2098\n",
      "\n",
      "Epoch 00079: val_loss did not improve from 0.15739\n",
      "Epoch 80/200\n",
      "1719168/1719168 [==============================] - 40s 23us/step - loss: 0.1566 - acc: 0.2058 - val_loss: 0.1574 - val_acc: 0.2136\n",
      "\n",
      "Epoch 00080: val_loss did not improve from 0.15739\n",
      "Epoch 81/200\n",
      "1719168/1719168 [==============================] - 40s 23us/step - loss: 0.1566 - acc: 0.2272 - val_loss: 0.1574 - val_acc: 0.2360\n",
      "\n",
      "Epoch 00081: val_loss improved from 0.15739 to 0.15739, saving model to ./H5files/ae_sigmoid_adam_mse_redds20bal.h5\n",
      "Epoch 82/200\n",
      "1719168/1719168 [==============================] - 40s 23us/step - loss: 0.1566 - acc: 0.2279 - val_loss: 0.1574 - val_acc: 0.2221\n",
      "\n",
      "Epoch 00082: val_loss did not improve from 0.15739\n",
      "Epoch 83/200\n",
      "1719168/1719168 [==============================] - 40s 23us/step - loss: 0.1566 - acc: 0.2163 - val_loss: 0.1574 - val_acc: 0.2250\n",
      "\n",
      "Epoch 00083: val_loss improved from 0.15739 to 0.15739, saving model to ./H5files/ae_sigmoid_adam_mse_redds20bal.h5\n",
      "Epoch 84/200\n",
      "1719168/1719168 [==============================] - 40s 23us/step - loss: 0.1566 - acc: 0.2190 - val_loss: 0.1574 - val_acc: 0.2252\n",
      "\n",
      "Epoch 00084: val_loss did not improve from 0.15739\n",
      "Epoch 85/200\n",
      "1719168/1719168 [==============================] - 40s 23us/step - loss: 0.1566 - acc: 0.2363 - val_loss: 0.1574 - val_acc: 0.2684\n",
      "\n",
      "Epoch 00085: val_loss did not improve from 0.15739\n",
      "Epoch 86/200\n",
      "1719168/1719168 [==============================] - 40s 23us/step - loss: 0.1566 - acc: 0.2307 - val_loss: 0.1574 - val_acc: 0.2322\n",
      "\n",
      "Epoch 00086: val_loss improved from 0.15739 to 0.15739, saving model to ./H5files/ae_sigmoid_adam_mse_redds20bal.h5\n",
      "Epoch 87/200\n",
      "1719168/1719168 [==============================] - 40s 23us/step - loss: 0.1566 - acc: 0.2400 - val_loss: 0.1574 - val_acc: 0.2340\n",
      "\n",
      "Epoch 00087: val_loss did not improve from 0.15739\n",
      "Epoch 88/200\n",
      "1719168/1719168 [==============================] - 40s 23us/step - loss: 0.1566 - acc: 0.2308 - val_loss: 0.1574 - val_acc: 0.2347\n",
      "\n",
      "Epoch 00088: val_loss did not improve from 0.15739\n",
      "Epoch 89/200\n",
      "1719168/1719168 [==============================] - 40s 23us/step - loss: 0.1566 - acc: 0.2259 - val_loss: 0.1574 - val_acc: 0.2059\n",
      "\n",
      "Epoch 00089: val_loss did not improve from 0.15739\n",
      "Epoch 90/200\n",
      "1719168/1719168 [==============================] - 40s 23us/step - loss: 0.1566 - acc: 0.2357 - val_loss: 0.1574 - val_acc: 0.2552\n",
      "\n",
      "Epoch 00090: val_loss did not improve from 0.15739\n",
      "Epoch 91/200\n",
      "1719168/1719168 [==============================] - 40s 23us/step - loss: 0.1566 - acc: 0.2397 - val_loss: 0.1574 - val_acc: 0.2596\n",
      "\n",
      "Epoch 00091: val_loss did not improve from 0.15739\n",
      "Time elapsed (hh:mm:ss.ms) 1:01:43.486101\n"
     ]
    }
   ],
   "source": [
    "hist_ae_sigmoid_adam_mse = fit_ae(checkpoint_file = \"./H5files/ae_sigmoid_adam_mse_redds\"+str(dsnum)+\"bal.h5\",\n",
    "                                  autoencoder = ae_sigmoid_adam_mse, \n",
    "                                  epochs = 200, \n",
    "                                  batch_size = batch_size,\n",
    "                                  shuffle = False)"
   ]
  },
  {
   "cell_type": "code",
   "execution_count": null,
   "metadata": {},
   "outputs": [
    {
     "name": "stdout",
     "output_type": "stream",
     "text": [
      "Best loss value: 0.15662941263750635\n"
     ]
    },
    {
     "data": {
      "image/png": "[encoded data removed]",
      "text/plain": [
       "<Figure size 432x288 with 1 Axes>"
      ]
     },
     "metadata": {
      "needs_background": "light"
     },
     "output_type": "display_data"
    }
   ],
   "source": [
    "best_loss_value_ae_sigmoid_adam_mse  = plot_hist_auto(hist_ae_sigmoid_adam_mse, './Figures/hist_ae_sigmoid_adam_mse.png')"
   ]
  },
  {
   "cell_type": "markdown",
   "metadata": {},
   "source": [
    "### **---------- SPAE Dimensionality reduction ----------**"
   ]
  },
  {
   "cell_type": "code",
   "execution_count": null,
   "metadata": {},
   "outputs": [
    {
     "name": "stdout",
     "output_type": "stream",
     "text": [
      "_________________________________________________________________\n",
      "Layer (type)                 Output Shape              Param #   \n",
      "=================================================================\n",
      "input_2 (InputLayer)         (None, 66)                0         \n",
      "_________________________________________________________________\n",
      "encoded_bottle_neck (Dense)  (None, 44)                2948      \n",
      "_________________________________________________________________\n",
      "dense_2 (Dense)              (None, 66)                2970      \n",
      "=================================================================\n",
      "Total params: 5,918\n",
      "Trainable params: 5,918\n",
      "Non-trainable params: 0\n",
      "_________________________________________________________________\n",
      "None\n"
     ]
    }
   ],
   "source": [
    "spae_sigmoid_adam_mse,enc_train_x_spsam,enc_test_x_spsam = spae(factor_enc_dim = 1.5,\n",
    "                                                          enc_activation = 'relu',\n",
    "                                                          dec_activation = 'sigmoid',\n",
    "                                                          optimizer='Adam',\n",
    "                                                          loss='mean_squared_error')"
   ]
  },
  {
   "cell_type": "code",
   "execution_count": null,
   "metadata": {},
   "outputs": [],
   "source": [
    "#spae_sigmoid_adam_mse = load_model('spae_sigmoid_adam_mse_redds20bal.h5')"
   ]
  },
  {
   "cell_type": "code",
   "execution_count": null,
   "metadata": {},
   "outputs": [
    {
     "name": "stdout",
     "output_type": "stream",
     "text": [
      "Mon Jul  8 17:18:07 2019\n",
      "Train on 1719168 samples, validate on 429793 samples\n",
      "Epoch 1/200\n",
      "1719168/1719168 [==============================] - 42s 24us/step - loss: 0.1953 - acc: 0.1346 - val_loss: 0.1778 - val_acc: 0.1432\n",
      "\n",
      "Epoch 00001: val_loss improved from inf to 0.17776, saving model to ./H5files/spae_sigmoid_adam_mse_redds20bal.h5\n",
      "Epoch 2/200\n",
      "1719168/1719168 [==============================] - 42s 24us/step - loss: 0.1732 - acc: 0.1677 - val_loss: 0.1715 - val_acc: 0.1862\n",
      "\n",
      "Epoch 00002: val_loss improved from 0.17776 to 0.17155, saving model to ./H5files/spae_sigmoid_adam_mse_redds20bal.h5\n",
      "Epoch 3/200\n",
      "1719168/1719168 [==============================] - 42s 24us/step - loss: 0.1690 - acc: 0.2000 - val_loss: 0.1684 - val_acc: 0.2270\n",
      "\n",
      "Epoch 00003: val_loss improved from 0.17155 to 0.16840, saving model to ./H5files/spae_sigmoid_adam_mse_redds20bal.h5\n",
      "Epoch 4/200\n",
      "1719168/1719168 [==============================] - 42s 24us/step - loss: 0.1666 - acc: 0.2282 - val_loss: 0.1664 - val_acc: 0.2334\n",
      "\n",
      "Epoch 00004: val_loss improved from 0.16840 to 0.16642, saving model to ./H5files/spae_sigmoid_adam_mse_redds20bal.h5\n",
      "Epoch 5/200\n",
      "1719168/1719168 [==============================] - 42s 24us/step - loss: 0.1651 - acc: 0.2443 - val_loss: 0.1655 - val_acc: 0.2343\n",
      "\n",
      "Epoch 00005: val_loss improved from 0.16642 to 0.16546, saving model to ./H5files/spae_sigmoid_adam_mse_redds20bal.h5\n",
      "Epoch 6/200\n",
      "1719168/1719168 [==============================] - 42s 24us/step - loss: 0.1642 - acc: 0.2495 - val_loss: 0.1647 - val_acc: 0.2441\n",
      "\n",
      "Epoch 00006: val_loss improved from 0.16546 to 0.16469, saving model to ./H5files/spae_sigmoid_adam_mse_redds20bal.h5\n",
      "Epoch 7/200\n",
      "1718244/1719168 [============================>.] - ETA: 0s - loss: 0.1636 - acc: 0.2597"
     ]
    }
   ],
   "source": [
    "hist_spae_sigmoid_adam_mse = fit_ae(checkpoint_file = \"./H5files/spae_sigmoid_adam_mse_redds\"+str(dsnum)+\"bal.h5\",\n",
    "                                  autoencoder = spae_sigmoid_adam_mse, \n",
    "                                  epochs = 200, \n",
    "                                  batch_size = batch_size,\n",
    "                                  shuffle = False)"
   ]
  },
  {
   "cell_type": "code",
   "execution_count": null,
   "metadata": {},
   "outputs": [],
   "source": [
    "best_loss_value_spae_sigmoid_adam_mse  = plot_hist_auto(hist_spae_sigmoid_adam_mse, './Figures/hist_spae_sigmoid_adam_mse.png')"
   ]
  },
  {
   "cell_type": "code",
   "execution_count": null,
   "metadata": {},
   "outputs": [],
   "source": []
  },
  {
   "cell_type": "code",
   "execution_count": null,
   "metadata": {},
   "outputs": [],
   "source": [
    "loss_valueDict = {\n",
    "    'loss_value_ae_sigmoid_adam_mse': best_loss_value_ae_sigmoid_adam_mse,\n",
    "    'loss_value_spae_sigmoid_adam_mse': best_loss_value_spae_sigmoid_adam_mse\n",
    "    }"
   ]
  },
  {
   "cell_type": "code",
   "execution_count": null,
   "metadata": {},
   "outputs": [],
   "source": [
    "loss_valueDict"
   ]
  },
  {
   "cell_type": "code",
   "execution_count": null,
   "metadata": {},
   "outputs": [],
   "source": [
    "print(enc_train_x_asam.shape)\n",
    "print(enc_test_x_asam.shape)\n",
    "\n",
    "print(enc_train_x_spsam.shape)\n",
    "print(enc_test_x_spsam.shape)"
   ]
  },
  {
   "cell_type": "markdown",
   "metadata": {},
   "source": [
    "### **---------- ANN with ae encoded DS ----------**"
   ]
  },
  {
   "cell_type": "code",
   "execution_count": null,
   "metadata": {},
   "outputs": [],
   "source": [
    "ae_ann_2h_unisoftsigbinlosadam1 = ann_2h(neurons=neurons,\n",
    "                                      encoded_train_x=enc_train_x_asam,\n",
    "                                      init_mode='uniform',\n",
    "                                      activation_input='relu',\n",
    "                                      weight_constraint=5,\n",
    "                                      dropout_rate=0.0,\n",
    "                                      activation_output='sigmoid',\n",
    "                                      loss='binary_crossentropy',\n",
    "                                      optimizer='Adam')"
   ]
  },
  {
   "cell_type": "code",
   "execution_count": null,
   "metadata": {},
   "outputs": [],
   "source": [
    "hist_ae_ann_2h_unisoftsigbinlosadam = ann_fit(checkpoint_file = \"./H5files/ae_ann_2h_unisoftsigbinlosadam_redds\"+str(dsnum)+\"bal.h5\",\n",
    "                                        ann = ae_ann_2h_unisoftsigbinlosadam1,\n",
    "                                        enc_train_x = enc_train_x_asam,\n",
    "                                        train_y = train_y,\n",
    "                                        epochs = 200,\n",
    "                                        shuffle = True,\n",
    "                                        batch_size = batch_size)"
   ]
  },
  {
   "cell_type": "code",
   "execution_count": null,
   "metadata": {},
   "outputs": [],
   "source": [
    "# hist_ae_ann_2h_unisoftsigbinlosadam.model.get_weights()"
   ]
  },
  {
   "cell_type": "code",
   "execution_count": null,
   "metadata": {},
   "outputs": [],
   "source": [
    "# best_loss_value_ae_ann_2h_unisoftsigbinlosadam = plot_hist_auto(hist_ae_ann_2h_unisoftsigbinlosadam, './Figures/ae_ann_2h_unisoftsigbinlosadam'+str(dsnum)+'.png')"
   ]
  },
  {
   "cell_type": "code",
   "execution_count": null,
   "metadata": {},
   "outputs": [],
   "source": [
    "# pred_ae_ann_2h_prob_unisoftsigbinlosadam, pred_ae_ann_2h_01_unisoftsigbinlosadam = ann_predict(ae_ann_2h_unisoftsigbinlosadam,enc_test_x_asam)"
   ]
  },
  {
   "cell_type": "code",
   "execution_count": null,
   "metadata": {},
   "outputs": [],
   "source": [
    "# plot_roc_cm(pred_ae_ann_2h_01_unisoftsigbinlosadam, pred_ae_ann_2h_01_unisoftsigbinlosadam, './Figures/ROC_ae_ann_2h_unisoftsigbinlosadam_redds'+str(dsnum)+'bal.png', './Figures/CM_ae_ann_2h_unisoftsigbinlosadam_redds'+str(dsnum)+'bal.png')"
   ]
  },
  {
   "cell_type": "code",
   "execution_count": null,
   "metadata": {},
   "outputs": [],
   "source": [
    "enc_train_x=enc_train_x_asam\n",
    "input_dim=enc_train_x.shape[1]\n",
    "enc_test_x=enc_test_x_asam\n",
    "test_y=test_y\n",
    "train_y=train_y\n",
    "init_mode='uniform'\n",
    "activation_input='relu'\n",
    "weight_constraint=5\n",
    "dropout_rate=0.0\n",
    "activation_output='sigmoid'\n",
    "loss='binary_crossentropy'\n",
    "optimizer='Adam'\n",
    "\n",
    "epochs=100"
   ]
  },
  {
   "cell_type": "code",
   "execution_count": null,
   "metadata": {},
   "outputs": [],
   "source": [
    "pred_ae_ann_2h_prob_unisoftsigbinlosadam,pred_ae_ann_2h_01_unisoftsigbinlosadam = ann_predict_()"
   ]
  },
  {
   "cell_type": "code",
   "execution_count": null,
   "metadata": {},
   "outputs": [],
   "source": [
    "plot_roc_cm(pred_ae_ann_2h_01_unisoftsigbinlosadam, pred_ae_ann_2h_01_unisoftsigbinlosadam, './Figures/ROC_ae_ann_2h_unisoftsigbinlosadam_redds'+str(dsnum)+'bal.png', './Figures/CM_ae_ann_2h_unisoftsigbinlosadam_redds'+str(dsnum)+'bal.png')"
   ]
  },
  {
   "cell_type": "markdown",
   "metadata": {},
   "source": [
    "### **---------- ANN with spae encoded DS ----------**"
   ]
  },
  {
   "cell_type": "code",
   "execution_count": null,
   "metadata": {},
   "outputs": [],
   "source": [
    "sp_ann_2h_unisoftsigbinlosadam1 = ann_2h(neurons=neurons,\n",
    "                                      encoded_train_x=enc_train_x_spsam,\n",
    "                                      init_mode='uniform',\n",
    "                                      activation_input='relu',\n",
    "                                      weight_constraint=5,\n",
    "                                      dropout_rate=0.0,\n",
    "                                      activation_output='sigmoid',\n",
    "                                      loss='binary_crossentropy',\n",
    "                                      optimizer='Adam')"
   ]
  },
  {
   "cell_type": "code",
   "execution_count": null,
   "metadata": {},
   "outputs": [],
   "source": [
    "hist_sp_ann_2h_unisoftsigbinlosadam = ann_fit(checkpoint_file = \"./H5files/ann_2h_unisoftsigbinlosadam_redds\"+str(dsnum)+\"bal.h5\",\n",
    "                                        ann = sp_ann_2h_unisoftsigbinlosadam1,\n",
    "                                        enc_train_x = enc_train_x_spsam,\n",
    "                                        train_y = train_y,\n",
    "                                        epochs = 200,\n",
    "                                        shuffle = True,\n",
    "                                        batch_size = batch_size)"
   ]
  },
  {
   "cell_type": "code",
   "execution_count": null,
   "metadata": {},
   "outputs": [],
   "source": [
    "# hist_sp_ann_2h_unisoftsigbinlosadam.model.get_weights()"
   ]
  },
  {
   "cell_type": "code",
   "execution_count": null,
   "metadata": {},
   "outputs": [],
   "source": [
    "# best_loss_value_sp_ann_2h_unisoftsigbinlosadam = plot_hist_auto(hist_sp_ann_2h_unisoftsigbinlosadam, './Figures/sp_ann_2h_unisoftsigbinlosadam'+str(dsnum)+'.png')"
   ]
  },
  {
   "cell_type": "code",
   "execution_count": null,
   "metadata": {},
   "outputs": [],
   "source": [
    "# pred_sp_ann_2h_prob_unisoftsigbinlosadam, pred_sp_ann_2h_01_unisoftsigbinlosadam = ann_predict(sp_ann_2h_unisoftsigbinlosadam,enc_test_x_spsam)"
   ]
  },
  {
   "cell_type": "code",
   "execution_count": null,
   "metadata": {},
   "outputs": [],
   "source": [
    "# plot_roc_cm(pred_sp_ann_2h_prob_unisoftsigbinlosadam, pred_sp_ann_2h_01_unisoftsigbinlosadam, './Figures/ROC_sp_ann_2h_unisoftsigbinlosadam_redds'+str(dsnum)+'bal.png', './Figures/CM_sp_ann_2h_unisoftsigbinlosadam_redds'+str(dsnum)+'bal.png')"
   ]
  },
  {
   "cell_type": "code",
   "execution_count": null,
   "metadata": {},
   "outputs": [],
   "source": [
    "enc_train_x=enc_train_x_asam\n",
    "input_dim=enc_train_x.shape[1]\n",
    "enc_test_x=enc_test_x_spsam\n",
    "test_y=test_y\n",
    "train_y=train_y\n",
    "init_mode='uniform'\n",
    "activation_input='relu'\n",
    "weight_constraint=5\n",
    "dropout_rate=0.0\n",
    "activation_output='sigmoid'\n",
    "loss='binary_crossentropy'\n",
    "optimizer='Adam'\n",
    "\n",
    "epochs=100"
   ]
  },
  {
   "cell_type": "code",
   "execution_count": null,
   "metadata": {},
   "outputs": [],
   "source": [
    "pred_sp_ann_2h_prob_unisoftsigbinlosadam,pred_sp_ann_2h_01_unisoftsigbinlosadam = ann_predict_()"
   ]
  },
  {
   "cell_type": "code",
   "execution_count": null,
   "metadata": {},
   "outputs": [],
   "source": [
    "plot_roc_cm(pred_sp_ann_2h_prob_unisoftsigbinlosadam, pred_sp_ann_2h_01_unisoftsigbinlosadam, './Figures/ROC_sp_ann_2h_unisoftsigbinlosadam_redds'+str(dsnum)+'bal.png', './Figures/CM_sp_ann_2h_unisoftsigbinlosadam_redds'+str(dsnum)+'bal.png')"
   ]
  },
  {
   "cell_type": "code",
   "execution_count": null,
   "metadata": {},
   "outputs": [],
   "source": []
  },
  {
   "cell_type": "markdown",
   "metadata": {},
   "source": [
    "### **---------- ANN with no encoded DS ----------**"
   ]
  },
  {
   "cell_type": "code",
   "execution_count": null,
   "metadata": {},
   "outputs": [],
   "source": [
    "nodr_ann_2h_unisoftsigbinlosadam1 = ann_2h(neurons=neurons,\n",
    "                                      encoded_train_x=train_x,\n",
    "                                      init_mode='uniform',\n",
    "                                      activation_input='relu',\n",
    "                                      weight_constraint=5,\n",
    "                                      dropout_rate=0.0,\n",
    "                                      activation_output='sigmoid',\n",
    "                                      loss='binary_crossentropy',\n",
    "                                      optimizer='Adam')"
   ]
  },
  {
   "cell_type": "code",
   "execution_count": null,
   "metadata": {},
   "outputs": [],
   "source": [
    "hist_nodr_ann_2h_unisoftsigbinlosadam = ann_fit(checkpoint_file = \"./H5files/ann_2h_unisoftsigbinlosadam_redds\"+str(dsnum)+\"bal.h5\",\n",
    "                                        ann = nodr_ann_2h_unisoftsigbinlosadam1,\n",
    "                                        enc_train_x = train_x,\n",
    "                                        train_y = train_y,\n",
    "                                        epochs = 200,\n",
    "                                        shuffle = True,\n",
    "                                        batch_size = batch_size)"
   ]
  },
  {
   "cell_type": "code",
   "execution_count": null,
   "metadata": {},
   "outputs": [],
   "source": [
    "# hist_nodr_ann_2h_unisoftsigbinlosadam.model.get_weights()"
   ]
  },
  {
   "cell_type": "code",
   "execution_count": null,
   "metadata": {},
   "outputs": [],
   "source": [
    "# best_loss_value_nodr_ann_2h_unisoftsigbinlosadam = plot_hist_auto(hist_nodr_ann_2h_unisoftsigbinlosadam, './Figures/nodr_ann_2h_unisoftsigbinlosadam'+str(dsnum)+'.png')"
   ]
  },
  {
   "cell_type": "code",
   "execution_count": null,
   "metadata": {},
   "outputs": [],
   "source": [
    "# pred_nodr_ann_2h_prob_unisoftsigbinlosadam, pred_nodr_ann_2h_01_unisoftsigbinlosadam = ann_predict(nodr_ann_2h_unisoftsigbinlosadam,test_x)"
   ]
  },
  {
   "cell_type": "code",
   "execution_count": null,
   "metadata": {},
   "outputs": [],
   "source": [
    "# plot_roc_cm(pred_nodr_ann_2h_01_unisoftsigbinlosadam, pred_nodr_ann_2h_01_unisoftsigbinlosadam, './Figures/ROC_nodr_ann_2h_unisoftsigbinlosadam_redds'+str(dsnum)+'bal.png', './Figures/CM_nodr_ann_2h_unisoftsigbinlosadam_redds'+str(dsnum)+'bal.png')"
   ]
  },
  {
   "cell_type": "code",
   "execution_count": null,
   "metadata": {},
   "outputs": [],
   "source": []
  },
  {
   "cell_type": "code",
   "execution_count": null,
   "metadata": {},
   "outputs": [],
   "source": [
    "enc_train_x=train_x\n",
    "input_dim=enc_train_x.shape[1]\n",
    "enc_test_x=test_x\n",
    "test_y=test_y\n",
    "train_y=train_y\n",
    "init_mode='uniform'\n",
    "activation_input='relu'\n",
    "weight_constraint=5\n",
    "dropout_rate=0.0\n",
    "activation_output='sigmoid'\n",
    "loss='binary_crossentropy'\n",
    "optimizer='Adam'\n",
    "\n",
    "epochs=100"
   ]
  },
  {
   "cell_type": "code",
   "execution_count": null,
   "metadata": {},
   "outputs": [],
   "source": [
    "pred_nodr_ann_2h_prob_unisoftsigbinlosadam, pred_nodr_ann_2h_01_unisoftsigbinlosadam = ann_predict_()"
   ]
  },
  {
   "cell_type": "code",
   "execution_count": null,
   "metadata": {},
   "outputs": [],
   "source": [
    "plot_roc_cm(pred_nodr_ann_2h_01_unisoftsigbinlosadam, pred_nodr_ann_2h_01_unisoftsigbinlosadam, './Figures/ROC_nodr_ann_2h_unisoftsigbinlosadam_redds'+str(dsnum)+'bal.png', './Figures/CM_nodr_ann_2h_unisoftsigbinlosadam_redds'+str(dsnum)+'bal.png')"
   ]
  },
  {
   "cell_type": "markdown",
   "metadata": {},
   "source": [
    "### **---------- RF with ae encoded DS ----------**"
   ]
  },
  {
   "cell_type": "code",
   "execution_count": null,
   "metadata": {},
   "outputs": [],
   "source": [
    "# from sklearn.ensemble import RandomForestClassifier"
   ]
  },
  {
   "cell_type": "code",
   "execution_count": null,
   "metadata": {},
   "outputs": [],
   "source": [
    "# pca_ = PCA(n_components = 0.95, svd_solver = 'full').fit(train_x)\n",
    "\n",
    "# plt.figure(figsize=(8,5))\n",
    "# n_coml = [pca_.n_components_]\n",
    "\n",
    "# plt.plot(np.cumsum(pca_.explained_variance_ratio_))\n",
    "# plt.xlabel('Number of Components', fontsize=14)\n",
    "# plt.ylabel('Variance (%)', fontsize=14) #for each component\n",
    "# plt.title('Pulsar Dataset Explained Variance '+str(dsnum)+' node DS', fontsize=14)\n",
    "\n",
    "# n_coml = [*n_coml]\n",
    "\n",
    "# for i, v in enumerate(n_coml):\n",
    "#     plt.text(v-0.8, i+0.94, '{:.0f}'.format(v), color='navy', fontsize=14)\n",
    "\n",
    "# plt.savefig('./Figures/PCA_components_ds'+str(dsnum)+'bal.png')\n",
    "# plt.show()"
   ]
  },
  {
   "cell_type": "code",
   "execution_count": null,
   "metadata": {},
   "outputs": [],
   "source": [
    "# clf = RandomForestClassifier(n_estimators=300, \n",
    "#                              criterion='gini', \n",
    "#                              max_depth=16, \n",
    "#                              #min_samples_split=2, \n",
    "#                              #min_samples_leaf=1, \n",
    "#                              max_features=0.3, \n",
    "#                              #bootstrap=True,\n",
    "#                              oob_score=True,\n",
    "#                              random_state=23)  "
   ]
  },
  {
   "cell_type": "code",
   "execution_count": null,
   "metadata": {},
   "outputs": [],
   "source": [
    "# start_time = datetime.now()\n",
    "# print(datetime.ctime(start_time))\n",
    "\n",
    "# clf.fit(enc_train_x_asam, train_y)\n",
    "\n",
    "# pred_y_ae_RF = cross_val_predict(estimator=clf,\n",
    "#                               X=np.array(enc_test_x_asam),\n",
    "#                               y=test_y,\n",
    "#                               cv=KFold(n_splits=5, random_state=23),\n",
    "#                               n_jobs=2)\n",
    "\n",
    "# time_elapsed = datetime.now() - start_time \n",
    "# print(\"Time elapsed (hh:mm:ss.ms) {}\".format(time_elapsed))\n",
    "\n",
    "# print(sm.classification_report(test_y, pred_y_ae_RF,digits=4))"
   ]
  },
  {
   "cell_type": "code",
   "execution_count": null,
   "metadata": {},
   "outputs": [],
   "source": [
    "# plot_roc_cm(pred_y_ae_RF, pred_y_ae_RF, './Figures/ROC_ae_rf_E100MaxfautoMaxdnoneBootT_redds'+str(dsnum)+'bal.png', './Figures/CM_ae_rf_E100MaxfautoMaxdnoneBootT_redds'+str(dsnum)+'bal.png')"
   ]
  },
  {
   "cell_type": "markdown",
   "metadata": {},
   "source": [
    "### **---------- RF with spae encoded DS ----------**"
   ]
  },
  {
   "cell_type": "code",
   "execution_count": null,
   "metadata": {},
   "outputs": [],
   "source": [
    "# start_time = datetime.now()\n",
    "# print(datetime.ctime(start_time))\n",
    "\n",
    "# clf.fit(enc_train_x_spsam, train_y)\n",
    "\n",
    "# pred_y_spae_RF = cross_val_predict(estimator=clf,\n",
    "#                               X=np.array(enc_test_x_spsam),\n",
    "#                               y=test_y,\n",
    "#                               cv=KFold(n_splits=5, random_state=23),\n",
    "#                               n_jobs=2)\n",
    "\n",
    "# time_elapsed = datetime.now() - start_time \n",
    "# print(\"Time elapsed (hh:mm:ss.ms) {}\".format(time_elapsed))\n",
    "\n",
    "# print(sm.classification_report(test_y, pred_y_spae_RF,digits=4))"
   ]
  },
  {
   "cell_type": "code",
   "execution_count": null,
   "metadata": {},
   "outputs": [],
   "source": [
    "# plot_roc_cm(pred_y_spae_RF, pred_y_spae_RF, './Figures/ROC_spae_rf_E100MaxfautoMaxdnoneBootT_redds'+str(dsnum)+'bal.png', './Figures/CM_spae_rf_E100MaxfautoMaxdnoneBootT_redds'+str(dsnum)+'bal.png')"
   ]
  },
  {
   "cell_type": "markdown",
   "metadata": {},
   "source": [
    "### **---------- RF with pca DS ----------**"
   ]
  },
  {
   "cell_type": "code",
   "execution_count": null,
   "metadata": {},
   "outputs": [],
   "source": [
    "# start_time = datetime.now()\n",
    "# print(datetime.ctime(start_time))\n",
    "\n",
    "# clf.fit(train_x_pca, train_y)\n",
    "\n",
    "# pred_y_pca_RF = cross_val_predict(estimator=clf,\n",
    "#                               X=np.array(test_x_pca),\n",
    "#                               y=test_y,\n",
    "#                               cv=KFold(n_splits=5, random_state=23),\n",
    "#                               n_jobs=2)\n",
    "\n",
    "# time_elapsed = datetime.now() - start_time \n",
    "# print(\"Time elapsed (hh:mm:ss.ms) {}\".format(time_elapsed))\n",
    "\n",
    "# print(sm.classification_report(test_y, pred_y_pca_RF,digits=4))"
   ]
  },
  {
   "cell_type": "code",
   "execution_count": null,
   "metadata": {},
   "outputs": [],
   "source": [
    "# plot_roc_cm(pred_y_pca_RF, pred_y_pca_RF, './Figures/ROC_pca_rf_E100MaxfautoMaxdnoneBootT_redds'+str(dsnum)+'bal.png', './Figures/CM_pca_rf_E100MaxfautoMaxdnoneBootT_redds'+str(dsnum)+'bal.png')"
   ]
  },
  {
   "cell_type": "code",
   "execution_count": null,
   "metadata": {},
   "outputs": [],
   "source": []
  },
  {
   "cell_type": "code",
   "execution_count": null,
   "metadata": {},
   "outputs": [],
   "source": [
    "print(pred_ae_ann_2h_01_unisoftsigbinlosadam.shape)\n",
    "print(pred_ae_ann_2h_prob_unisoftsigbinlosadam.shape)\n",
    "print(pred_sp_ann_2h_01_unisoftsigbinlosadam.shape)\n",
    "print(pred_sp_ann_2h_prob_unisoftsigbinlosadam.shape)\n",
    "print(pred_nodr_ann_2h_01_unisoftsigbinlosadam.shape)\n",
    "print(pred_nodr_ann_2h_prob_unisoftsigbinlosadam.shape)\n",
    "# print(pred_y_ae_RF.shape)\n",
    "# print(pred_y_spae_RF.shape)\n",
    "# print(pred_y_pca_RF.shape)"
   ]
  },
  {
   "cell_type": "code",
   "execution_count": null,
   "metadata": {},
   "outputs": [],
   "source": [
    "false_positive_rate_ae_ann, recall_ae_ann, thresholds_ae_ann = roc_curve(test_y, pred_ae_ann_2h_01_unisoftsigbinlosadam)\n",
    "roc_auc_ae_ann = auc(false_positive_rate_ae_ann, recall_ae_ann)\n",
    "false_positive_rate_sp_ann, recall_sp_ann, thresholds_sp_ann = roc_curve(test_y, pred_sp_ann_2h_01_unisoftsigbinlosadam)\n",
    "roc_auc_sp_ann = auc(false_positive_rate_sp_ann, recall_sp_ann)\n",
    "false_positive_rate_nodr_ann, recall_nodr_ann, thresholds_nodr_ann = roc_curve(test_y, pred_nodr_ann_2h_01_unisoftsigbinlosadam)\n",
    "roc_auc_nodr_ann = auc(false_positive_rate_nodr_ann, recall_nodr_ann)\n",
    "\n",
    "# false_positive_rate_ae_RF, recall_ae_RF, thresholds_ae_RF = roc_curve(test_y, pred_y_ae_RF)\n",
    "# roc_auc_ae_RF = auc(false_positive_rate_ae_RF, recall_ae_RF)\n",
    "# false_positive_rate_spae_RF, recall_spae_RF, thresholds_spae_RF = roc_curve(test_y, pred_y_spae_RF)\n",
    "# roc_auc_spae_RF = auc(false_positive_rate_spae_RF, recall_spae_RF)\n",
    "# false_positive_rate_pca_RF, recall_pca_RF, thresholds_pca_RF = roc_curve(test_y, pred_y_pca_RF)\n",
    "# roc_auc_pca_RF = auc(false_positive_rate_pca_RF, recall_pca_RF)\n",
    "\n",
    "plt.figure(figsize=(15,7))\n",
    "plt.title('Receiver Operating Characteristic (ROC)', fontsize=16)\n",
    "\n",
    "plt.plot(false_positive_rate_ae_ann, recall_ae_ann, 'b', label = 'AUC AE + DNN = %0.3f' %roc_auc_ae_ann)\n",
    "plt.plot(false_positive_rate_sp_ann, recall_sp_ann, 'g', label = 'AUC SAE + DNN = %0.3f' %roc_auc_sp_ann)\n",
    "plt.plot(false_positive_rate_nodr_ann, recall_nodr_ann, 'r', label = 'AUC DNN = %0.3f' %roc_auc_nodr_ann)\n",
    "# plt.plot(false_positive_rate_ae_RF, recall_ae_RF, 'c', label = 'AUC AE + RF = %0.3f' %roc_auc_ae_RF)\n",
    "# plt.plot(false_positive_rate_spae_RF, recall_spae_RF, 'm', label = 'AUC SAE + RF = %0.3f' %roc_auc_spae_RF)\n",
    "# plt.plot(false_positive_rate_pca_RF, recall_pca_RF, 'black', label = 'AUC PCA + RF = %0.3f' %roc_auc_pca_RF)\n",
    "\n",
    "plt.legend(loc='lower right', fontsize=14)\n",
    "plt.plot([0,1], [0,1], 'r--')\n",
    "plt.xlim([0.0,1.0])\n",
    "plt.ylim([0.0,1.0])\n",
    "# plt.ylim([0.97,1.0])\n",
    "\n",
    "plt.ylabel('Recall - TPR', fontsize=14)\n",
    "plt.xlabel('Fall-out (1-Specificity) - FPR', fontsize=14)\n",
    "plt.savefig('./Figures/ROC_allmodels'+str(dsnum)+'bal.png')\n",
    "plt.show()\n"
   ]
  },
  {
   "cell_type": "code",
   "execution_count": null,
   "metadata": {},
   "outputs": [],
   "source": [
    "plt.figure(figsize=(15,7))\n",
    "plt.title('Receiver Operating Characteristic (ROC) Zoom in', fontsize=16)\n",
    "\n",
    "plt.plot(false_positive_rate_ae_ann, recall_ae_ann, 'b', label = 'AUC AE + DNN = %0.3f' %roc_auc_ae_ann)\n",
    "plt.plot(false_positive_rate_sp_ann, recall_sp_ann, 'g', label = 'AUC SAE + DNN = %0.3f' %roc_auc_sp_ann)\n",
    "plt.plot(false_positive_rate_nodr_ann, recall_nodr_ann, 'r', label = 'AUC DNN = %0.3f' %roc_auc_nodr_ann)\n",
    "# plt.plot(false_positive_rate_ae_RF, recall_ae_RF, 'c', label = 'AUC AE + RF = %0.3f' %roc_auc_ae_RF)\n",
    "# plt.plot(false_positive_rate_spae_RF, recall_spae_RF, 'm', label = 'AUC SAE + RF = %0.3f' %roc_auc_spae_RF)\n",
    "# plt.plot(false_positive_rate_pca_RF, recall_pca_RF, 'black', label = 'AUC PCA + RF = %0.3f' %roc_auc_pca_RF)\n",
    "\n",
    "plt.legend(loc='lower right', fontsize=14)\n",
    "plt.plot([0,1], [0,1], 'r--')\n",
    "plt.xlim([0.0,1.0])\n",
    "# plt.ylim([0.0,1.0])\n",
    "plt.ylim([0.955,1.0])\n",
    "\n",
    "plt.ylabel('Recall - TPR', fontsize=14)\n",
    "plt.xlabel('Fall-out (1-Specificity) - FPR', fontsize=14)\n",
    "plt.savefig('./Figures/ROC_allmodels'+str(dsnum)+'bal_zoom.png')\n",
    "plt.show()"
   ]
  },
  {
   "cell_type": "code",
   "execution_count": null,
   "metadata": {},
   "outputs": [],
   "source": [
    "classi_ae_ann = \"AE+DNN\"\n",
    "acc_ae_ann = (sm.accuracy_score(test_y, pred_ae_ann_2h_01_unisoftsigbinlosadam)*100) \n",
    "pre_ae_ann = (sm.precision_score(test_y, pred_ae_ann_2h_01_unisoftsigbinlosadam)*100) \n",
    "recall_ae_ann = (sm.recall_score(test_y, pred_ae_ann_2h_01_unisoftsigbinlosadam)*100) \n",
    "f1score_ae_ann = (sm.f1_score(test_y, pred_ae_ann_2h_01_unisoftsigbinlosadam)*100)\n",
    "\n",
    "classi_sp_ann = \"SAE+DNN\"\n",
    "acc_sp_ann = (sm.accuracy_score(test_y, pred_sp_ann_2h_01_unisoftsigbinlosadam)*100) \n",
    "pre_sp_ann = (sm.precision_score(test_y, pred_sp_ann_2h_01_unisoftsigbinlosadam)*100) \n",
    "recall_sp_ann = (sm.recall_score(test_y, pred_sp_ann_2h_01_unisoftsigbinlosadam)*100) \n",
    "f1score_sp_ann = (sm.f1_score(test_y, pred_sp_ann_2h_01_unisoftsigbinlosadam)*100)\n",
    "\n",
    "classi_nodr_ann = \"DNN\"\n",
    "acc_nodr_ann = (sm.accuracy_score(test_y, pred_nodr_ann_2h_01_unisoftsigbinlosadam)*100) \n",
    "pre_nodr_ann = (sm.precision_score(test_y, pred_nodr_ann_2h_01_unisoftsigbinlosadam)*100) \n",
    "recall_nodr_ann = (sm.recall_score(test_y, pred_nodr_ann_2h_01_unisoftsigbinlosadam)*100) \n",
    "f1score_nodr_ann = (sm.f1_score(test_y, pred_nodr_ann_2h_01_unisoftsigbinlosadam)*100)\n",
    "\n",
    "# classi_ae_RF = \"AE+RF\"\n",
    "# acc_ae_RF = (sm.accuracy_score(test_y, pred_y_ae_RF)*100) \n",
    "# pre_ae_RF = (sm.precision_score(test_y, pred_y_ae_RF)*100) \n",
    "# recall_ae_RF = (sm.recall_score(test_y, pred_y_ae_RF)*100) \n",
    "# f1score_ae_RF = (sm.f1_score(test_y, pred_y_ae_RF)*100)\n",
    "\n",
    "# classi_spae_RF = \"SAE+RF\"\n",
    "# acc_spae_RF = (sm.accuracy_score(test_y, pred_y_spae_RF)*100) \n",
    "# pre_spae_RF = (sm.precision_score(test_y, pred_y_spae_RF)*100) \n",
    "# recall_spae_RF = (sm.recall_score(test_y, pred_y_spae_RF)*100) \n",
    "# f1score_spae_RF = (sm.f1_score(test_y, pred_y_spae_RF)*100)\n",
    "\n",
    "# classi_pca_RF = \"PCA+RF\"\n",
    "# acc_pca_RF = (sm.accuracy_score(test_y, pred_y_pca_RF)*100) \n",
    "# pre_pca_RF = (sm.precision_score(test_y, pred_y_pca_RF)*100) \n",
    "# recall_pca_RF = (sm.recall_score(test_y, pred_y_pca_RF)*100) \n",
    "# f1score_pca_RF = (sm.f1_score(test_y, pred_y_pca_RF)*100)\n",
    "\n",
    "\n",
    "print('Classifier\\tAcc\\tPreci\\tRecall\\tF1Score')\n",
    "print('{0:}\\t\\t{1:.2f}\\t{2:.2f}\\t{3:.2f}\\t{4:.2f}'.format(classi_ae_ann, acc_ae_ann, pre_ae_ann, recall_ae_ann, f1score_ae_ann))\n",
    "print('{0:}\\t\\t{1:.2f}\\t{2:.2f}\\t{3:.2f}\\t{4:.2f}'.format(classi_sp_ann, acc_sp_ann, pre_sp_ann, recall_sp_ann, f1score_sp_ann))\n",
    "print('{0:}\\t\\t{1:.2f}\\t{2:.2f}\\t{3:.2f}\\t{4:.2f}'.format(classi_nodr_ann, acc_nodr_ann, pre_nodr_ann, recall_nodr_ann, f1score_nodr_ann))\n",
    "# print('{0:}\\t\\t{1:.2f}\\t{2:.2f}\\t{3:.2f}\\t{4:.2f}'.format(classi_ae_RF, acc_ae_RF, pre_ae_RF, recall_ae_RF, f1score_ae_RF))\n",
    "# print('{0:}\\t\\t{1:.2f}\\t{2:.2f}\\t{3:.2f}\\t{4:.2f}'.format(classi_spae_RF, acc_spae_RF, pre_spae_RF, recall_spae_RF, f1score_spae_RF))\n",
    "# print('{0:}\\t\\t{1:.2f}\\t{2:.2f}\\t{3:.2f}\\t{4:.2f}'.format(classi_pca_RF, acc_pca_RF, pre_pca_RF, recall_pca_RF, f1score_pca_RF))"
   ]
  },
  {
   "cell_type": "code",
   "execution_count": null,
   "metadata": {},
   "outputs": [],
   "source": [
    "f1list = [[\"AE+DNN\",f1score_ae_ann],[\"SAE+DNN\",f1score_sp_ann],[\"DNN\",f1score_nodr_ann]]#,\n",
    "#           [\"AE+RF\",f1score_ae_RF],[\"SAE+RF\",f1score_spae_RF],[\"PCA+RF\",f1score_pca_RF]]\n",
    "\n",
    "xs, ys = [*zip(*f1list)]\n",
    "\n",
    "'{:.2f}'.format(f1score_ae_ann)\n",
    "\n",
    "plt.figure(figsize=(8,6), )\n",
    "plt.barh(xs, ys, color = \"purple\")\n",
    "plt.title(\"F1 score vs Classifier\", fontsize=16)\n",
    "plt.xlabel(\"Classifier\", fontsize=14)\n",
    "plt.ylabel(\"F1 score\", fontsize=14)\n",
    "plt.xticks(np.arange(0, 101, 10), fontsize=12)\n",
    "plt.yticks(fontsize=12, fontweight='bold')\n",
    "\n",
    "for i, v in enumerate(ys):\n",
    "    plt.text(v+1, i+0.1, '{:.2f}'.format(v), color='purple', fontsize=14)\n",
    "\n",
    "plt.savefig('./Figures/F1scoreplot_allmodels'+str(dsnum)+'bal.png')\n",
    "plt.show()\n"
   ]
  },
  {
   "cell_type": "code",
   "execution_count": null,
   "metadata": {},
   "outputs": [],
   "source": []
  },
  {
   "cell_type": "code",
   "execution_count": null,
   "metadata": {},
   "outputs": [],
   "source": []
  }
 ],
 "metadata": {
  "kernelspec": {
   "display_name": "Python 3",
   "language": "python",
   "name": "python3"
  },
  "language_info": {
   "codemirror_mode": {
    "name": "ipython",
    "version": 3
   },
   "file_extension": ".py",
   "mimetype": "text/x-python",
   "name": "python",
   "nbconvert_exporter": "python",
   "pygments_lexer": "ipython3",
   "version": "3.6.8"
  }
 },
 "nbformat": 4,
 "nbformat_minor": 2
}
