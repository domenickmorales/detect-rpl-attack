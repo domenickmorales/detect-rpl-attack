{
 "cells": [
  {
   "cell_type": "code",
   "execution_count": 1,
   "metadata": {},
   "outputs": [],
   "source": [
    "import os\n",
    "os.environ[\"CUDA_DEVICE_ORDER\"]=\"PCI_BUS_ID\"\n",
    "os.environ[\"CUDA_VISIBLE_DEVICES\"]=\"0\""
   ]
  },
  {
   "cell_type": "code",
   "execution_count": 2,
   "metadata": {},
   "outputs": [
    {
     "name": "stderr",
     "output_type": "stream",
     "text": [
      "Using TensorFlow backend.\n"
     ]
    }
   ],
   "source": [
    "###################################\n",
    "# TensorFlow wizardry\n",
    "import tensorflow as tf\n",
    "config = tf.ConfigProto()\n",
    " \n",
    "# Don’t pre-allocate memory; allocate as-needed\n",
    "config.gpu_options.allow_growth = True\n",
    " \n",
    "# Only allow a total of half the GPU memory to be allocated\n",
    "config.gpu_options.per_process_gpu_memory_fraction = 0.05\n",
    "#gpu_options = tf.GPUOptions(per_process_gpu_memory_fraction=0.333)\n",
    " \n",
    "# Create a session with the above options specified.\n",
    "from keras import optimizers, regularizers\n",
    "from keras.layers.normalization import BatchNormalization\n",
    "from keras.utils import to_categorical\n",
    "from keras.wrappers.scikit_learn import KerasClassifier\n",
    "from keras import optimizers\n",
    "from keras.constraints import maxnorm\n",
    "from keras.callbacks import ModelCheckpoint, TensorBoard, EarlyStopping\n",
    "\n",
    "from keras.models import Sequential, Model, load_model\n",
    "from keras.layers import Activation, Dense, Dropout, Input\n",
    "from keras import backend as k\n",
    "\n",
    "k.tensorflow_backend.set_session(tf.Session(config=config))\n",
    "#k.tensorflow_backend.set_session(tf.Session(config=tf.ConfigProto(gpu_options=gpu_options))\n",
    "###################################"
   ]
  },
  {
   "cell_type": "code",
   "execution_count": 3,
   "metadata": {},
   "outputs": [],
   "source": [
    "#----------------------------------Import modules------------------------------\n",
    "import numpy as np\n",
    "import pandas as pd\n",
    "import matplotlib.pyplot as plt\n",
    "import seaborn as sns\n",
    "from sklearn.model_selection import train_test_split\n",
    "from sklearn.metrics import confusion_matrix,accuracy_score, roc_curve, auc\n",
    "from sklearn import preprocessing\n",
    "sns.set_style(\"whitegrid\")\n",
    "np.random.seed(23)\n",
    "import time\n",
    "from sklearn.decomposition import PCA\n",
    "from sklearn.model_selection import GridSearchCV\n",
    "import sklearn.metrics as sm\n",
    "from sklearn.model_selection import KFold\n",
    "from sklearn.model_selection import cross_val_predict\n",
    "from datetime import datetime \n",
    "import os.path\n",
    "\n",
    "dsnum=50\n",
    "verbose_level=1"
   ]
  },
  {
   "cell_type": "code",
   "execution_count": 4,
   "metadata": {},
   "outputs": [
    {
     "name": "stdout",
     "output_type": "stream",
     "text": [
      "Default GPU Device: /device:GPU:0\n"
     ]
    }
   ],
   "source": [
    "if tf.test.gpu_device_name():\n",
    "    print('Default GPU Device: {}'.format(tf.test.gpu_device_name()))\n",
    "else:\n",
    "    print(\"Please install GPU version of TF\")"
   ]
  },
  {
   "cell_type": "code",
   "execution_count": 5,
   "metadata": {},
   "outputs": [
    {
     "name": "stdout",
     "output_type": "stream",
     "text": [
      "/home/user/01Code/00Datasets_final/00BalancedDS/FullCloneID50bal_stdscal.csv\n"
     ]
    }
   ],
   "source": [
    "pathds = os.path.abspath('/home/user/01Code/00Datasets_final/00BalancedDS')\n",
    "file_name = \"FullCloneID\"+str(dsnum)+\"bal_stdscal.csv\"\n",
    "full_path = os.path.join(pathds,file_name)\n",
    "print(full_path)"
   ]
  },
  {
   "cell_type": "code",
   "execution_count": 6,
   "metadata": {},
   "outputs": [],
   "source": [
    "df = pd.read_csv(full_path)"
   ]
  },
  {
   "cell_type": "code",
   "execution_count": 7,
   "metadata": {},
   "outputs": [
    {
     "data": {
      "text/plain": [
       "(2131328, 121)"
      ]
     },
     "execution_count": 7,
     "metadata": {},
     "output_type": "execute_result"
    }
   ],
   "source": [
    "df.shape"
   ]
  },
  {
   "cell_type": "code",
   "execution_count": 8,
   "metadata": {},
   "outputs": [
    {
     "name": "stdout",
     "output_type": "stream",
     "text": [
      "120\n",
      "120\n"
     ]
    }
   ],
   "source": [
    "neurons=df.shape[1]-1\n",
    "batch_size=df.shape[1]-1\n",
    "print(neurons)\n",
    "print(batch_size)"
   ]
  },
  {
   "cell_type": "markdown",
   "metadata": {},
   "source": [
    "#### 4.2 Explaining the data"
   ]
  },
  {
   "cell_type": "code",
   "execution_count": 9,
   "metadata": {},
   "outputs": [
    {
     "name": "stdout",
     "output_type": "stream",
     "text": [
      "Class 0: 1065664\n",
      "Class 1: 1065664\n",
      "Proportion: 1.0 : 1\n"
     ]
    }
   ],
   "source": [
    "#if you don't have an intuitive sense of how imbalanced these two classes are, let's go visual\n",
    "count_classes = pd.value_counts(df['class'], sort = True)\n",
    "print('Class 0:', count_classes[0])\n",
    "print('Class 1:', count_classes[1])\n",
    "print('Proportion:', round(count_classes[0] / count_classes[1], 3), ': 1')"
   ]
  },
  {
   "cell_type": "code",
   "execution_count": 10,
   "metadata": {},
   "outputs": [
    {
     "data": {
      "image/png": "[encoded data removed]",
      "text/plain": [
       "<Figure size 432x288 with 1 Axes>"
      ]
     },
     "metadata": {
      "needs_background": "light"
     },
     "output_type": "display_data"
    }
   ],
   "source": [
    "count_classes.plot(kind = 'bar', rot=0)\n",
    "plt.xticks(range(2), ['Normal [0]','Malicious [1]'])\n",
    "plt.title(\"Frequency by observation number\")\n",
    "plt.xlabel(\"Class\")\n",
    "plt.ylabel(\"Number of Observations\");"
   ]
  },
  {
   "cell_type": "code",
   "execution_count": 11,
   "metadata": {},
   "outputs": [],
   "source": [
    "#set random seed and percentage of test data\n",
    "RANDOM_SEED = 23 #used to help randomly select the data points\n",
    "TEST_PCT = 0.20 # 20% of the data"
   ]
  },
  {
   "cell_type": "code",
   "execution_count": 12,
   "metadata": {},
   "outputs": [],
   "source": [
    "train, test_df = train_test_split(df, test_size=TEST_PCT, random_state=RANDOM_SEED)"
   ]
  },
  {
   "cell_type": "markdown",
   "metadata": {},
   "source": [
    "+ df -> original dataset \n",
    "+ train -> subset of 80% from original dataset \n",
    "+ test_df -> subset of 20% from original dataset "
   ]
  },
  {
   "cell_type": "code",
   "execution_count": 13,
   "metadata": {},
   "outputs": [],
   "source": [
    "train_df, dev_df = train_test_split(train, test_size=TEST_PCT, random_state=RANDOM_SEED)"
   ]
  },
  {
   "cell_type": "markdown",
   "metadata": {},
   "source": [
    "+ train -> subset of 80% from original dataset \n",
    "+ train_df -> subset of 80% from train\n",
    "+ dev_df -> subset of 20% from train"
   ]
  },
  {
   "cell_type": "code",
   "execution_count": 14,
   "metadata": {},
   "outputs": [
    {
     "name": "stdout",
     "output_type": "stream",
     "text": [
      "0.500630109328917\n",
      "0.4991070721644043\n",
      "0.4986979960869504\n"
     ]
    }
   ],
   "source": [
    "# Check distribution of mal samples in train and test set\n",
    "print(train_df.iloc[:, batch_size].sum()/train_df.shape[0]) \n",
    "print(dev_df.iloc[:, batch_size].sum()/dev_df.shape[0]) \n",
    "print(test_df.iloc[:, batch_size].sum()/test_df.shape[0])"
   ]
  },
  {
   "cell_type": "code",
   "execution_count": 15,
   "metadata": {},
   "outputs": [],
   "source": [
    "train_x = train_df.iloc[:, :batch_size] \n",
    "dev_x = dev_df.iloc[:, :batch_size] \n",
    "test_x = test_df.iloc[:, :batch_size] "
   ]
  },
  {
   "cell_type": "markdown",
   "metadata": {},
   "source": [
    "+ train_x -> features of train_df **Training subset for AE**\n",
    "+ dev_x -> features of dev_df **Validation subset for AE**\n",
    "+ test_x -> features of test_df **Testing subset for ANN**"
   ]
  },
  {
   "cell_type": "code",
   "execution_count": 16,
   "metadata": {},
   "outputs": [],
   "source": [
    "# Define the final train and test sets\n",
    "train_y = train_df.iloc[:,batch_size]\n",
    "dev_y = dev_df.iloc[:,batch_size]\n",
    "test_y = test_df.iloc[:,batch_size]"
   ]
  },
  {
   "cell_type": "markdown",
   "metadata": {},
   "source": [
    "+ train_y -> **Labels for supervised training of ANN**\n",
    "+ dev_y -> labels of dev_df  *not used for AE neither ANN*\n",
    "+ test_y -> labels of test_df  **Ground Truth for predictions of supervised ANN**"
   ]
  },
  {
   "cell_type": "code",
   "execution_count": 17,
   "metadata": {},
   "outputs": [
    {
     "name": "stdout",
     "output_type": "stream",
     "text": [
      "120\n"
     ]
    }
   ],
   "source": [
    "train_x =np.array(train_x)\n",
    "dev_x =np.array(dev_x)\n",
    "test_x = np.array(test_x)\n",
    "\n",
    "train_y = np.array(train_y)\n",
    "dev_y = np.array(dev_y)\n",
    "test_y = np.array(test_y)\n",
    "\n",
    "print(train_x.shape[1])"
   ]
  },
  {
   "cell_type": "markdown",
   "metadata": {},
   "source": [
    "### Autoencoder Function"
   ]
  },
  {
   "cell_type": "code",
   "execution_count": 18,
   "metadata": {},
   "outputs": [],
   "source": [
    "def ae(factor_enc_dim, enc_activation, dec_activation, \n",
    "                optimizer, loss):\n",
    "\n",
    "    encoding_dim = int(int(train_x.shape[1])/factor_enc_dim)\n",
    "    ### Define input layer\n",
    "    input_data = Input(shape=(train_x.shape[1],))\n",
    "    ### Define encoding layer #RELU\n",
    "    encoded = Dense(encoding_dim, activation=enc_activation, name='encoded_bottle_neck')(input_data)\n",
    "    ### Define decoding layer #SIMOID\n",
    "    decoded = Dense(train_x.shape[1], activation=dec_activation)(encoded)\n",
    "    ### Create the autoencoder model\n",
    "    autoencoder = Model(input_data, decoded)\n",
    "    autoencoder.compile(optimizer=optimizer,\n",
    "                        loss=loss,\n",
    "                        metrics=['accuracy'])\n",
    "    \n",
    "    print(autoencoder.summary())\n",
    "    \n",
    "    encoder = Model(input_data, encoded)\n",
    "    encoded_train_x = encoder.predict(train_x)\n",
    "    encoded_test_x = encoder.predict(test_x)\n",
    "    \n",
    "    return autoencoder,encoded_train_x,encoded_test_x"
   ]
  },
  {
   "cell_type": "code",
   "execution_count": 19,
   "metadata": {},
   "outputs": [],
   "source": [
    "def spae(factor_enc_dim,dec_activation,enc_activation,\n",
    "         optimizer,loss):\n",
    "\n",
    "    encoding_dim = int(int(train_x.shape[1])/factor_enc_dim)\n",
    "    ### Define input layer\n",
    "    input_data = Input(shape=(train_x.shape[1],))\n",
    "    ### Define encoding layer\n",
    "    encoded = Dense(encoding_dim, activity_regularizer=regularizers.l1(1e-4), activation=enc_activation, name='encoded_bottle_neck')(input_data)\n",
    "    ### Define decoding layer\n",
    "    decoded = Dense(train_x.shape[1], activation=dec_activation)(encoded)\n",
    "    ### Create the autoencoder model\n",
    "    autoencoder = Model(input_data, decoded)\n",
    "    autoencoder.compile(optimizer=optimizer,\n",
    "                        loss=loss,\n",
    "                        metrics=['accuracy'])\n",
    "    \n",
    "    print(autoencoder.summary())\n",
    "    \n",
    "    encoder = Model(input_data, encoded)\n",
    "    encoded_train_x = encoder.predict(train_x)\n",
    "    encoded_test_x = encoder.predict(test_x)\n",
    "    \n",
    "    return autoencoder,encoded_train_x,encoded_test_x"
   ]
  },
  {
   "cell_type": "code",
   "execution_count": 20,
   "metadata": {},
   "outputs": [],
   "source": [
    "def to_pca(thr):\n",
    "    #train_x_pca,test_x_pca = to_pca(0.95)\n",
    "    pca = PCA(n_components = thr, svd_solver = 'full')\n",
    "    train_x_ = np.array(train_x)\n",
    "    print(type(train_x_))\n",
    "\n",
    "    test_x_ = np.array(test_x)\n",
    "    print(type(test_x_))\n",
    "    \n",
    "    start_time = time.time()\n",
    "    print(time.ctime(start_time))\n",
    "\n",
    "    train_x_pca = pca.fit_transform(train_x_)\n",
    "    print(train_x_pca.shape)\n",
    "\n",
    "    test_x_pca = pca.fit_transform(test_x_)\n",
    "    print(test_x_pca.shape)\n",
    "\n",
    "    elapsed_time = (time.time() - start_time)\n",
    "\n",
    "    print(\"--- PCA spent %s seconds ---\" %elapsed_time )\n",
    "    \n",
    "    return  train_x_pca,test_x_pca"
   ]
  },
  {
   "cell_type": "code",
   "execution_count": null,
   "metadata": {},
   "outputs": [],
   "source": []
  },
  {
   "cell_type": "code",
   "execution_count": 21,
   "metadata": {},
   "outputs": [],
   "source": [
    "def fit_ae(checkpoint_file, autoencoder,\n",
    "           epochs, batch_size, shuffle):\n",
    "    \n",
    "    early_stopping = EarlyStopping(monitor='val_loss', patience=5)\n",
    "\n",
    "    cp = ModelCheckpoint(filepath=checkpoint_file,\n",
    "                                   save_best_only=True,\n",
    "                                   verbose=verbose_level)\n",
    "\n",
    "    tb = TensorBoard(log_dir='./logs',\n",
    "                    histogram_freq=0,\n",
    "                    write_graph=True,\n",
    "                    write_images=True)\n",
    "\n",
    "    start_time = datetime.now()\n",
    "    print(datetime.ctime(start_time))\n",
    "\n",
    "    hist_auto = autoencoder.fit(train_x, train_x,\n",
    "                    epochs=epochs,\n",
    "                    batch_size=batch_size,\n",
    "                    shuffle=shuffle,\n",
    "                    verbose=verbose_level,\n",
    "                    callbacks=[early_stopping, cp, tb],\n",
    "                    validation_data=(dev_x, dev_x))\n",
    "\n",
    "    time_elapsed = datetime.now() - start_time \n",
    "    print(\"Time elapsed (hh:mm:ss.ms) {}\".format(time_elapsed))\n",
    "    \n",
    "    return hist_auto"
   ]
  },
  {
   "cell_type": "code",
   "execution_count": 22,
   "metadata": {},
   "outputs": [],
   "source": [
    "def plot_hist_auto(hist_auto, fig_file):\n",
    "    best_loss_value = hist_auto.history['loss'][-1]\n",
    "    print('Best loss value:', best_loss_value)\n",
    "\n",
    "    # Summarize history for loss\n",
    "    plt.figure()\n",
    "    plt.plot(hist_auto.history['loss'])\n",
    "    plt.plot(hist_auto.history['val_loss'])\n",
    "    plt.title('Model loss')\n",
    "    plt.ylabel('loss')\n",
    "    plt.xlabel('epoch')\n",
    "    plt.legend(['train', 'test'], loc='upper right')\n",
    "    plt.savefig(fig_file)\n",
    "    plt.show()\n",
    "    \n",
    "    return best_loss_value"
   ]
  },
  {
   "cell_type": "code",
   "execution_count": 23,
   "metadata": {},
   "outputs": [],
   "source": [
    "def ann_2h(neurons,encoded_train_x,init_mode,activation_input,\n",
    "               weight_constraint,dropout_rate,activation_output,\n",
    "               loss,optimizer):\n",
    "\n",
    "    # create model\n",
    "    model = Sequential()\n",
    "\n",
    "    model.add(Dense(neurons, input_dim=encoded_train_x.shape[1],\n",
    "                    kernel_initializer=init_mode,\n",
    "                    #kernel_regularizer=regularizers.l2(0.02), #from example\n",
    "                    activation=activation_input,\n",
    "                    kernel_constraint=maxnorm(weight_constraint)\n",
    "                    )\n",
    "              )\n",
    "\n",
    "#     #Hidden Layer\n",
    "    model.add(Dense(int(neurons-int(neurons/4)), activation=\"relu\", kernel_initializer=init_mode)) #rezvy\n",
    "\n",
    "    model.add(Dense(int(neurons-int((neurons/4)*2)), activation=\"relu\", kernel_initializer=init_mode)) #rezvy\n",
    "    model.add(BatchNormalization()) #commented for ex\n",
    "    model.add(Dropout(dropout_rate))\n",
    "    \n",
    "    model.add(Dense(1, activation=activation_output)) #example\n",
    "    \n",
    "    # Compile model\n",
    "    model.compile(loss=loss, \n",
    "                  optimizer=optimizer, \n",
    "                  metrics=['accuracy'])\n",
    "    \n",
    "    print(model.summary())\n",
    "    \n",
    "    return model"
   ]
  },
  {
   "cell_type": "code",
   "execution_count": 24,
   "metadata": {},
   "outputs": [],
   "source": [
    "def ann_2h_():\n",
    "\n",
    "    # create model\n",
    "    model = Sequential()\n",
    "\n",
    "    model.add(Dense(neurons, input_dim=input_dim,\n",
    "                    kernel_initializer=init_mode,\n",
    "                    #kernel_regularizer=regularizers.l2(0.02), #from example\n",
    "                    activation=activation_input,\n",
    "                    kernel_constraint=maxnorm(weight_constraint)\n",
    "                    )\n",
    "              )\n",
    "\n",
    "#     #Hidden Layer\n",
    "    model.add(Dense(int(neurons-int(neurons/4)), activation=\"relu\", kernel_initializer=init_mode)) #rezvy\n",
    "\n",
    "    model.add(Dense(int(neurons-int((neurons/4)*2)), activation=\"relu\", kernel_initializer=init_mode)) #rezvy\n",
    "    model.add(BatchNormalization()) #commented for ex\n",
    "    model.add(Dropout(dropout_rate))\n",
    "    \n",
    "    model.add(Dense(1, activation=activation_output)) #example\n",
    "    \n",
    "    # Compile model\n",
    "    model.compile(loss=loss, \n",
    "                  optimizer=optimizer, \n",
    "                  metrics=['accuracy'])\n",
    "    \n",
    "    print(model.summary())\n",
    "    \n",
    "    return model"
   ]
  },
  {
   "cell_type": "code",
   "execution_count": 25,
   "metadata": {},
   "outputs": [],
   "source": [
    "def ann_fit(checkpoint_file,ann,enc_train_x,train_y,epochs,shuffle,batch_size):\n",
    "    early_stopping = EarlyStopping(monitor='val_loss', patience=5)\n",
    "\n",
    "    cp = ModelCheckpoint(filepath=checkpoint_file,\n",
    "                                   save_best_only=True,\n",
    "                                   verbose=verbose_level)\n",
    "\n",
    "    tb = TensorBoard(log_dir='./logs',\n",
    "                    histogram_freq=0,\n",
    "                    write_graph=True,\n",
    "                    write_images=True)\n",
    "\n",
    "    start_time = datetime.now()\n",
    "    print(datetime.ctime(start_time))\n",
    "\n",
    "    history = ann.fit(enc_train_x,\n",
    "                      train_y,\n",
    "                      validation_split=0.2,\n",
    "                      callbacks=[early_stopping, cp, tb],\n",
    "                      epochs=epochs,\n",
    "                      shuffle=shuffle,\n",
    "                      batch_size=batch_size,\n",
    "                      verbose=verbose_level)\n",
    "\n",
    "    time_elapsed = datetime.now() - start_time \n",
    "    print(\"Time elapsed (hh:mm:ss.ms) {}\".format(time_elapsed))\n",
    "\n",
    "    return history"
   ]
  },
  {
   "cell_type": "code",
   "execution_count": 26,
   "metadata": {},
   "outputs": [],
   "source": [
    "def ann_predict(ann,enc_test_x):\n",
    "    pred_ann_prob = ann.predict(enc_test_x)\n",
    "    pred_ann_prob.shape\n",
    "    pred_ann_prob = pred_ann_prob[:,0]\n",
    "    pred_ann_01 = np.where(pred_ann_prob > 0.5, 1, 0)\n",
    "    \n",
    "    #Print accuracy\n",
    "    acc_ann = accuracy_score(test_y, pred_ann_01)\n",
    "    print('Overall accuracy of Neural Network model:', acc_ann)\n",
    "\n",
    "    classiBM = \"NN\"\n",
    "    preBM = (sm.precision_score(test_y, pred_ann_01)*100) \n",
    "    recallBM = (sm.recall_score(test_y, pred_ann_01)*100) \n",
    "    f1scoreBM = (sm.f1_score(test_y, pred_ann_01)*100)\n",
    "    print(sm.classification_report(test_y, pred_ann_01,digits=4))\n",
    "    \n",
    "    return pred_ann_prob, pred_ann_01"
   ]
  },
  {
   "cell_type": "code",
   "execution_count": 27,
   "metadata": {},
   "outputs": [],
   "source": [
    "def ann_predict_():\n",
    "    early_stopping = EarlyStopping(monitor='loss', patience=10)\n",
    "\n",
    "    start_time = datetime.now()\n",
    "    print(datetime.ctime(start_time))  \n",
    "\n",
    "    modelk = KerasClassifier(build_fn=ann_2h_,\n",
    "                             epochs=epochs, \n",
    "                             batch_size=batch_size, \n",
    "                             verbose=verbose_level\n",
    "                            )\n",
    "\n",
    "    pred_ann_prob = cross_val_predict(modelk,\n",
    "                                      enc_test_x,\n",
    "                                      test_y,\n",
    "                                      cv=KFold(n_splits=5, random_state=23),\n",
    "                                      verbose=1)\n",
    "\n",
    "    time_elapsed = datetime.now() - start_time \n",
    "    print(\"Time elapsed (hh:mm:ss.ms) {}\".format(time_elapsed))\n",
    "\n",
    "    pred_ann_prob.shape\n",
    "    pred_ann_prob = pred_ann_prob[:,0]\n",
    "    pred_ann_01 = np.where(pred_ann_prob > 0.5, 1, 0)\n",
    "\n",
    "    #Print accuracy\n",
    "    acc_ann = accuracy_score(test_y, pred_ann_01)\n",
    "    print('Overall accuracy of Neural Network model:', acc_ann)\n",
    "\n",
    "    classiBM = \"NN\"\n",
    "    preBM = (sm.precision_score(test_y, pred_ann_01)*100) \n",
    "    recallBM = (sm.recall_score(test_y, pred_ann_01)*100) \n",
    "    f1scoreBM = (sm.f1_score(test_y, pred_ann_01)*100)\n",
    "    print(sm.classification_report(test_y, pred_ann_01,digits=4))\n",
    "    \n",
    "    return pred_ann_prob,pred_ann_01"
   ]
  },
  {
   "cell_type": "code",
   "execution_count": 28,
   "metadata": {},
   "outputs": [],
   "source": [
    "def plot_roc_cm(pred_ann_prob, pred_ann_01, roc_file, cm_file):\n",
    "    false_positive_rate, recall, thresholds = roc_curve(test_y, pred_ann_prob)\n",
    "    roc_auc = auc(false_positive_rate, recall)\n",
    "    plt.figure()\n",
    "    plt.title('Receiver Operating Characteristic (ROC)')\n",
    "    plt.plot(false_positive_rate, recall, 'b', label = 'AUC = %0.3f' %roc_auc)\n",
    "    plt.legend(loc='lower right')\n",
    "    plt.plot([0,1], [0,1], 'r--')\n",
    "    plt.xlim([0.0,1.0])\n",
    "    plt.ylim([0.0,1.0])\n",
    "    plt.ylabel('Recall')\n",
    "    plt.xlabel('Fall-out (1-Specificity)')\n",
    "    plt.savefig(roc_file)\n",
    "    plt.show()\n",
    "    \n",
    "    cm = confusion_matrix(test_y, pred_ann_01)\n",
    "    labels = ['Normal', 'Malicious']\n",
    "    plt.figure(figsize=(8,6))\n",
    "    sns.heatmap(cm,xticklabels=labels, yticklabels=labels, annot=True, fmt='d', cmap=\"RdYlGn\", vmin = 0.2);\n",
    "    plt.title('Confusion Matrix')\n",
    "    plt.ylabel('True Class')\n",
    "    plt.xlabel('Predicted Class')\n",
    "    plt.savefig(cm_file)\n",
    "    plt.show()"
   ]
  },
  {
   "cell_type": "code",
   "execution_count": null,
   "metadata": {},
   "outputs": [],
   "source": []
  },
  {
   "cell_type": "markdown",
   "metadata": {},
   "source": [
    "### **---------- PCA Dimensionality reduction ----------**"
   ]
  },
  {
   "cell_type": "code",
   "execution_count": 29,
   "metadata": {},
   "outputs": [
    {
     "name": "stdout",
     "output_type": "stream",
     "text": [
      "<class 'numpy.ndarray'>\n",
      "<class 'numpy.ndarray'>\n",
      "Mon Jul 15 17:46:36 2019\n",
      "(1364049, 37)\n",
      "(426266, 38)\n",
      "--- PCA spent 49.95854997634888 seconds ---\n"
     ]
    }
   ],
   "source": [
    "train_x_pca,test_x_pca = to_pca(0.95)"
   ]
  },
  {
   "cell_type": "markdown",
   "metadata": {},
   "source": [
    "### **---------- AE Dimensionality reduction ----------**"
   ]
  },
  {
   "cell_type": "code",
   "execution_count": 30,
   "metadata": {},
   "outputs": [
    {
     "name": "stdout",
     "output_type": "stream",
     "text": [
      "WARNING:tensorflow:From /home/user/anaconda3/envs/deepl/lib/python3.6/site-packages/tensorflow/python/framework/op_def_library.py:263: colocate_with (from tensorflow.python.framework.ops) is deprecated and will be removed in a future version.\n",
      "Instructions for updating:\n",
      "Colocations handled automatically by placer.\n",
      "_________________________________________________________________\n",
      "Layer (type)                 Output Shape              Param #   \n",
      "=================================================================\n",
      "input_1 (InputLayer)         (None, 120)               0         \n",
      "_________________________________________________________________\n",
      "encoded_bottle_neck (Dense)  (None, 80)                9680      \n",
      "_________________________________________________________________\n",
      "dense_1 (Dense)              (None, 120)               9720      \n",
      "=================================================================\n",
      "Total params: 19,400\n",
      "Trainable params: 19,400\n",
      "Non-trainable params: 0\n",
      "_________________________________________________________________\n",
      "None\n"
     ]
    }
   ],
   "source": [
    "ae_sigmoid_adam_mse,enc_train_x_asam,enc_test_x_asam = ae(factor_enc_dim = 1.5,\n",
    "                                                          enc_activation = 'relu',\n",
    "                                                          dec_activation = 'sigmoid',\n",
    "                                                          optimizer='Adam',\n",
    "                                                          loss='mean_squared_error')"
   ]
  },
  {
   "cell_type": "code",
   "execution_count": 31,
   "metadata": {},
   "outputs": [],
   "source": [
    "#ae_sigmoid_adam_mse = load_model('ae_sigmoid_adam_mse_redds10bal.h5')"
   ]
  },
  {
   "cell_type": "code",
   "execution_count": 32,
   "metadata": {},
   "outputs": [
    {
     "name": "stdout",
     "output_type": "stream",
     "text": [
      "Mon Jul 15 17:47:45 2019\n",
      "WARNING:tensorflow:From /home/user/anaconda3/envs/deepl/lib/python3.6/site-packages/tensorflow/python/ops/math_ops.py:3066: to_int32 (from tensorflow.python.ops.math_ops) is deprecated and will be removed in a future version.\n",
      "Instructions for updating:\n",
      "Use tf.cast instead.\n",
      "Train on 1364049 samples, validate on 341013 samples\n",
      "Epoch 1/200\n",
      "1364049/1364049 [==============================] - 21s 15us/step - loss: 0.0895 - acc: 0.2179 - val_loss: 0.0870 - val_acc: 0.1426\n",
      "\n",
      "Epoch 00001: val_loss improved from inf to 0.08698, saving model to ./H5files/ae_sigmoid_adam_mse_redds50bal.h5\n",
      "Epoch 2/200\n",
      "1364049/1364049 [==============================] - 21s 15us/step - loss: 0.0861 - acc: 0.1108 - val_loss: 0.0870 - val_acc: 0.0632\n",
      "\n",
      "Epoch 00002: val_loss improved from 0.08698 to 0.08697, saving model to ./H5files/ae_sigmoid_adam_mse_redds50bal.h5\n",
      "Epoch 3/200\n",
      "1364049/1364049 [==============================] - 21s 16us/step - loss: 0.0861 - acc: 0.0595 - val_loss: 0.0870 - val_acc: 0.0548\n",
      "\n",
      "Epoch 00003: val_loss improved from 0.08697 to 0.08697, saving model to ./H5files/ae_sigmoid_adam_mse_redds50bal.h5\n",
      "Epoch 4/200\n",
      "1364049/1364049 [==============================] - 21s 16us/step - loss: 0.0861 - acc: 0.0557 - val_loss: 0.0870 - val_acc: 0.0506\n",
      "\n",
      "Epoch 00004: val_loss improved from 0.08697 to 0.08697, saving model to ./H5files/ae_sigmoid_adam_mse_redds50bal.h5\n",
      "Epoch 5/200\n",
      "1364049/1364049 [==============================] - 21s 15us/step - loss: 0.0861 - acc: 0.0560 - val_loss: 0.0870 - val_acc: 0.0554\n",
      "\n",
      "Epoch 00005: val_loss improved from 0.08697 to 0.08697, saving model to ./H5files/ae_sigmoid_adam_mse_redds50bal.h5\n",
      "Epoch 6/200\n",
      "1364049/1364049 [==============================] - 21s 16us/step - loss: 0.0861 - acc: 0.0460 - val_loss: 0.0870 - val_acc: 0.0513\n",
      "\n",
      "Epoch 00006: val_loss improved from 0.08697 to 0.08697, saving model to ./H5files/ae_sigmoid_adam_mse_redds50bal.h5\n",
      "Epoch 7/200\n",
      "1364049/1364049 [==============================] - 21s 15us/step - loss: 0.0861 - acc: 0.0503 - val_loss: 0.0870 - val_acc: 0.0417\n",
      "\n",
      "Epoch 00007: val_loss improved from 0.08697 to 0.08697, saving model to ./H5files/ae_sigmoid_adam_mse_redds50bal.h5\n",
      "Epoch 8/200\n",
      "1364049/1364049 [==============================] - 21s 15us/step - loss: 0.0861 - acc: 0.0428 - val_loss: 0.0870 - val_acc: 0.0424\n",
      "\n",
      "Epoch 00008: val_loss improved from 0.08697 to 0.08696, saving model to ./H5files/ae_sigmoid_adam_mse_redds50bal.h5\n",
      "Epoch 9/200\n",
      "1364049/1364049 [==============================] - 21s 15us/step - loss: 0.0861 - acc: 0.0470 - val_loss: 0.0870 - val_acc: 0.0383\n",
      "\n",
      "Epoch 00009: val_loss improved from 0.08696 to 0.08696, saving model to ./H5files/ae_sigmoid_adam_mse_redds50bal.h5\n",
      "Epoch 10/200\n",
      "1364049/1364049 [==============================] - 21s 15us/step - loss: 0.0861 - acc: 0.0364 - val_loss: 0.0870 - val_acc: 0.0371\n",
      "\n",
      "Epoch 00010: val_loss improved from 0.08696 to 0.08696, saving model to ./H5files/ae_sigmoid_adam_mse_redds50bal.h5\n",
      "Epoch 11/200\n",
      "1364049/1364049 [==============================] - 21s 15us/step - loss: 0.0861 - acc: 0.0455 - val_loss: 0.0870 - val_acc: 0.0445\n",
      "\n",
      "Epoch 00011: val_loss improved from 0.08696 to 0.08696, saving model to ./H5files/ae_sigmoid_adam_mse_redds50bal.h5\n",
      "Epoch 12/200\n",
      "1364049/1364049 [==============================] - 21s 15us/step - loss: 0.0861 - acc: 0.0448 - val_loss: 0.0870 - val_acc: 0.0408\n",
      "\n",
      "Epoch 00012: val_loss improved from 0.08696 to 0.08696, saving model to ./H5files/ae_sigmoid_adam_mse_redds50bal.h5\n",
      "Epoch 13/200\n",
      "1364049/1364049 [==============================] - 20s 15us/step - loss: 0.0861 - acc: 0.0356 - val_loss: 0.0870 - val_acc: 0.0393\n",
      "\n",
      "Epoch 00013: val_loss improved from 0.08696 to 0.08695, saving model to ./H5files/ae_sigmoid_adam_mse_redds50bal.h5\n",
      "Epoch 14/200\n",
      "1364049/1364049 [==============================] - 20s 15us/step - loss: 0.0861 - acc: 0.0482 - val_loss: 0.0870 - val_acc: 0.0459\n",
      "\n",
      "Epoch 00014: val_loss improved from 0.08695 to 0.08695, saving model to ./H5files/ae_sigmoid_adam_mse_redds50bal.h5\n",
      "Epoch 15/200\n",
      "1364049/1364049 [==============================] - 20s 15us/step - loss: 0.0861 - acc: 0.0393 - val_loss: 0.0870 - val_acc: 0.0441\n",
      "\n",
      "Epoch 00015: val_loss improved from 0.08695 to 0.08695, saving model to ./H5files/ae_sigmoid_adam_mse_redds50bal.h5\n",
      "Epoch 16/200\n",
      "1364049/1364049 [==============================] - 20s 15us/step - loss: 0.0861 - acc: 0.0459 - val_loss: 0.0870 - val_acc: 0.0470\n",
      "\n",
      "Epoch 00016: val_loss improved from 0.08695 to 0.08695, saving model to ./H5files/ae_sigmoid_adam_mse_redds50bal.h5\n",
      "Epoch 17/200\n",
      "1364049/1364049 [==============================] - 20s 15us/step - loss: 0.0861 - acc: 0.0670 - val_loss: 0.0870 - val_acc: 0.0770\n",
      "\n",
      "Epoch 00017: val_loss improved from 0.08695 to 0.08695, saving model to ./H5files/ae_sigmoid_adam_mse_redds50bal.h5\n",
      "Epoch 18/200\n",
      "1364049/1364049 [==============================] - 20s 15us/step - loss: 0.0861 - acc: 0.0715 - val_loss: 0.0870 - val_acc: 0.0682\n",
      "\n",
      "Epoch 00018: val_loss did not improve from 0.08695\n",
      "Epoch 19/200\n",
      "1364049/1364049 [==============================] - 20s 14us/step - loss: 0.0861 - acc: 0.0635 - val_loss: 0.0870 - val_acc: 0.0604\n",
      "\n",
      "Epoch 00019: val_loss improved from 0.08695 to 0.08695, saving model to ./H5files/ae_sigmoid_adam_mse_redds50bal.h5\n",
      "Epoch 20/200\n",
      "1364049/1364049 [==============================] - 20s 14us/step - loss: 0.0861 - acc: 0.0608 - val_loss: 0.0870 - val_acc: 0.0623\n",
      "\n",
      "Epoch 00020: val_loss improved from 0.08695 to 0.08695, saving model to ./H5files/ae_sigmoid_adam_mse_redds50bal.h5\n",
      "Epoch 21/200\n",
      "1364049/1364049 [==============================] - 20s 14us/step - loss: 0.0861 - acc: 0.0624 - val_loss: 0.0870 - val_acc: 0.0638\n",
      "\n",
      "Epoch 00021: val_loss improved from 0.08695 to 0.08695, saving model to ./H5files/ae_sigmoid_adam_mse_redds50bal.h5\n",
      "Epoch 22/200\n",
      "1364049/1364049 [==============================] - 19s 14us/step - loss: 0.0861 - acc: 0.0666 - val_loss: 0.0869 - val_acc: 0.0761\n",
      "\n",
      "Epoch 00022: val_loss improved from 0.08695 to 0.08695, saving model to ./H5files/ae_sigmoid_adam_mse_redds50bal.h5\n",
      "Epoch 23/200\n",
      "1364049/1364049 [==============================] - 19s 14us/step - loss: 0.0861 - acc: 0.0529 - val_loss: 0.0869 - val_acc: 0.0368\n",
      "\n",
      "Epoch 00023: val_loss improved from 0.08695 to 0.08695, saving model to ./H5files/ae_sigmoid_adam_mse_redds50bal.h5\n",
      "Epoch 24/200\n",
      "1364049/1364049 [==============================] - 19s 14us/step - loss: 0.0861 - acc: 0.0574 - val_loss: 0.0869 - val_acc: 0.0640\n",
      "\n",
      "Epoch 00024: val_loss did not improve from 0.08695\n",
      "Epoch 25/200\n",
      "1364049/1364049 [==============================] - 19s 14us/step - loss: 0.0861 - acc: 0.0470 - val_loss: 0.0869 - val_acc: 0.0521\n",
      "\n",
      "Epoch 00025: val_loss improved from 0.08695 to 0.08695, saving model to ./H5files/ae_sigmoid_adam_mse_redds50bal.h5\n",
      "Epoch 26/200\n",
      "1364049/1364049 [==============================] - 19s 14us/step - loss: 0.0861 - acc: 0.0668 - val_loss: 0.0869 - val_acc: 0.0700\n",
      "\n",
      "Epoch 00026: val_loss improved from 0.08695 to 0.08695, saving model to ./H5files/ae_sigmoid_adam_mse_redds50bal.h5\n",
      "Epoch 27/200\n",
      "1364049/1364049 [==============================] - 19s 14us/step - loss: 0.0861 - acc: 0.0649 - val_loss: 0.0869 - val_acc: 0.0684\n",
      "\n",
      "Epoch 00027: val_loss improved from 0.08695 to 0.08695, saving model to ./H5files/ae_sigmoid_adam_mse_redds50bal.h5\n",
      "Epoch 28/200\n",
      "1364049/1364049 [==============================] - 19s 14us/step - loss: 0.0861 - acc: 0.0854 - val_loss: 0.0869 - val_acc: 0.0863\n",
      "\n",
      "Epoch 00028: val_loss did not improve from 0.08695\n",
      "Epoch 29/200\n",
      "1364049/1364049 [==============================] - 19s 14us/step - loss: 0.0861 - acc: 0.0933 - val_loss: 0.0869 - val_acc: 0.0859\n",
      "\n",
      "Epoch 00029: val_loss improved from 0.08695 to 0.08695, saving model to ./H5files/ae_sigmoid_adam_mse_redds50bal.h5\n",
      "Epoch 30/200\n",
      "1364049/1364049 [==============================] - 19s 14us/step - loss: 0.0861 - acc: 0.0908 - val_loss: 0.0869 - val_acc: 0.0870\n",
      "\n",
      "Epoch 00030: val_loss improved from 0.08695 to 0.08695, saving model to ./H5files/ae_sigmoid_adam_mse_redds50bal.h5\n",
      "Epoch 31/200\n",
      "1364049/1364049 [==============================] - 19s 14us/step - loss: 0.0861 - acc: 0.0779 - val_loss: 0.0869 - val_acc: 0.0750\n",
      "\n",
      "Epoch 00031: val_loss did not improve from 0.08695\n",
      "Epoch 32/200\n",
      "1364049/1364049 [==============================] - 19s 14us/step - loss: 0.0861 - acc: 0.0755 - val_loss: 0.0869 - val_acc: 0.0797\n",
      "\n",
      "Epoch 00032: val_loss improved from 0.08695 to 0.08695, saving model to ./H5files/ae_sigmoid_adam_mse_redds50bal.h5\n",
      "Epoch 33/200\n",
      "1364049/1364049 [==============================] - 19s 14us/step - loss: 0.0861 - acc: 0.0661 - val_loss: 0.0869 - val_acc: 0.0392\n",
      "\n",
      "Epoch 00033: val_loss improved from 0.08695 to 0.08695, saving model to ./H5files/ae_sigmoid_adam_mse_redds50bal.h5\n",
      "Epoch 34/200\n",
      "1364049/1364049 [==============================] - 19s 14us/step - loss: 0.0861 - acc: 0.0709 - val_loss: 0.0869 - val_acc: 0.0783\n",
      "\n",
      "Epoch 00034: val_loss did not improve from 0.08695\n",
      "Epoch 35/200\n",
      "1364049/1364049 [==============================] - 19s 14us/step - loss: 0.0861 - acc: 0.0811 - val_loss: 0.0869 - val_acc: 0.0465\n",
      "\n",
      "Epoch 00035: val_loss improved from 0.08695 to 0.08695, saving model to ./H5files/ae_sigmoid_adam_mse_redds50bal.h5\n",
      "Epoch 36/200\n",
      "1364049/1364049 [==============================] - 19s 14us/step - loss: 0.0861 - acc: 0.0754 - val_loss: 0.0869 - val_acc: 0.0847\n",
      "\n",
      "Epoch 00036: val_loss improved from 0.08695 to 0.08694, saving model to ./H5files/ae_sigmoid_adam_mse_redds50bal.h5\n",
      "Epoch 37/200\n",
      "1364049/1364049 [==============================] - 19s 14us/step - loss: 0.0861 - acc: 0.0874 - val_loss: 0.0869 - val_acc: 0.0790\n",
      "\n",
      "Epoch 00037: val_loss improved from 0.08694 to 0.08694, saving model to ./H5files/ae_sigmoid_adam_mse_redds50bal.h5\n",
      "Epoch 38/200\n",
      "1364049/1364049 [==============================] - 19s 14us/step - loss: 0.0861 - acc: 0.0798 - val_loss: 0.0869 - val_acc: 0.0867\n",
      "\n",
      "Epoch 00038: val_loss improved from 0.08694 to 0.08694, saving model to ./H5files/ae_sigmoid_adam_mse_redds50bal.h5\n",
      "Epoch 39/200\n",
      "1364049/1364049 [==============================] - 19s 14us/step - loss: 0.0861 - acc: 0.0861 - val_loss: 0.0869 - val_acc: 0.0871\n",
      "\n",
      "Epoch 00039: val_loss did not improve from 0.08694\n",
      "Epoch 40/200\n",
      "1364049/1364049 [==============================] - 19s 14us/step - loss: 0.0861 - acc: 0.0806 - val_loss: 0.0869 - val_acc: 0.0826\n",
      "\n",
      "Epoch 00040: val_loss improved from 0.08694 to 0.08694, saving model to ./H5files/ae_sigmoid_adam_mse_redds50bal.h5\n",
      "Epoch 41/200\n",
      "1364049/1364049 [==============================] - 19s 14us/step - loss: 0.0861 - acc: 0.0817 - val_loss: 0.0869 - val_acc: 0.0828\n",
      "\n",
      "Epoch 00041: val_loss improved from 0.08694 to 0.08694, saving model to ./H5files/ae_sigmoid_adam_mse_redds50bal.h5\n",
      "Epoch 42/200\n",
      "1364049/1364049 [==============================] - 19s 14us/step - loss: 0.0861 - acc: 0.0765 - val_loss: 0.0869 - val_acc: 0.0825\n",
      "\n",
      "Epoch 00042: val_loss improved from 0.08694 to 0.08694, saving model to ./H5files/ae_sigmoid_adam_mse_redds50bal.h5\n",
      "Epoch 43/200\n",
      "1364049/1364049 [==============================] - 19s 14us/step - loss: 0.0861 - acc: 0.0650 - val_loss: 0.0869 - val_acc: 0.0702\n",
      "\n",
      "Epoch 00043: val_loss improved from 0.08694 to 0.08694, saving model to ./H5files/ae_sigmoid_adam_mse_redds50bal.h5\n",
      "Epoch 44/200\n",
      "1364049/1364049 [==============================] - 19s 14us/step - loss: 0.0861 - acc: 0.0964 - val_loss: 0.0869 - val_acc: 0.0931\n",
      "\n",
      "Epoch 00044: val_loss did not improve from 0.08694\n",
      "Epoch 45/200\n",
      "1364049/1364049 [==============================] - 19s 14us/step - loss: 0.0861 - acc: 0.0828 - val_loss: 0.0869 - val_acc: 0.0911\n",
      "\n",
      "Epoch 00045: val_loss improved from 0.08694 to 0.08694, saving model to ./H5files/ae_sigmoid_adam_mse_redds50bal.h5\n",
      "Epoch 46/200\n",
      "1364049/1364049 [==============================] - 19s 14us/step - loss: 0.0861 - acc: 0.0890 - val_loss: 0.0869 - val_acc: 0.0888\n",
      "\n",
      "Epoch 00046: val_loss improved from 0.08694 to 0.08694, saving model to ./H5files/ae_sigmoid_adam_mse_redds50bal.h5\n",
      "Epoch 47/200\n",
      "1364049/1364049 [==============================] - 19s 14us/step - loss: 0.0861 - acc: 0.0922 - val_loss: 0.0869 - val_acc: 0.0878\n",
      "\n",
      "Epoch 00047: val_loss improved from 0.08694 to 0.08694, saving model to ./H5files/ae_sigmoid_adam_mse_redds50bal.h5\n",
      "Epoch 48/200\n",
      "1364049/1364049 [==============================] - 19s 14us/step - loss: 0.0861 - acc: 0.0872 - val_loss: 0.0869 - val_acc: 0.0850\n",
      "\n",
      "Epoch 00048: val_loss improved from 0.08694 to 0.08694, saving model to ./H5files/ae_sigmoid_adam_mse_redds50bal.h5\n",
      "Epoch 49/200\n",
      "1364049/1364049 [==============================] - 19s 14us/step - loss: 0.0861 - acc: 0.0907 - val_loss: 0.0869 - val_acc: 0.0939\n",
      "\n",
      "Epoch 00049: val_loss improved from 0.08694 to 0.08693, saving model to ./H5files/ae_sigmoid_adam_mse_redds50bal.h5\n",
      "Epoch 50/200\n",
      "1364049/1364049 [==============================] - 19s 14us/step - loss: 0.0861 - acc: 0.0823 - val_loss: 0.0869 - val_acc: 0.0881\n",
      "\n",
      "Epoch 00050: val_loss improved from 0.08693 to 0.08693, saving model to ./H5files/ae_sigmoid_adam_mse_redds50bal.h5\n",
      "Epoch 51/200\n",
      "1364049/1364049 [==============================] - 19s 14us/step - loss: 0.0861 - acc: 0.0895 - val_loss: 0.0869 - val_acc: 0.0903\n",
      "\n",
      "Epoch 00051: val_loss improved from 0.08693 to 0.08693, saving model to ./H5files/ae_sigmoid_adam_mse_redds50bal.h5\n",
      "Epoch 52/200\n",
      "1364049/1364049 [==============================] - 19s 14us/step - loss: 0.0861 - acc: 0.0957 - val_loss: 0.0869 - val_acc: 0.1014\n",
      "\n",
      "Epoch 00052: val_loss improved from 0.08693 to 0.08693, saving model to ./H5files/ae_sigmoid_adam_mse_redds50bal.h5\n",
      "Epoch 53/200\n",
      "1364049/1364049 [==============================] - 19s 14us/step - loss: 0.0861 - acc: 0.0986 - val_loss: 0.0869 - val_acc: 0.1024\n",
      "\n",
      "Epoch 00053: val_loss improved from 0.08693 to 0.08693, saving model to ./H5files/ae_sigmoid_adam_mse_redds50bal.h5\n",
      "Epoch 54/200\n",
      "1364049/1364049 [==============================] - 19s 14us/step - loss: 0.0861 - acc: 0.0949 - val_loss: 0.0869 - val_acc: 0.0970\n",
      "\n",
      "Epoch 00054: val_loss improved from 0.08693 to 0.08693, saving model to ./H5files/ae_sigmoid_adam_mse_redds50bal.h5\n",
      "Epoch 55/200\n",
      "1364049/1364049 [==============================] - 19s 14us/step - loss: 0.0861 - acc: 0.1066 - val_loss: 0.0869 - val_acc: 0.1047\n",
      "\n",
      "Epoch 00055: val_loss improved from 0.08693 to 0.08693, saving model to ./H5files/ae_sigmoid_adam_mse_redds50bal.h5\n",
      "Epoch 56/200\n",
      "1364049/1364049 [==============================] - 19s 14us/step - loss: 0.0861 - acc: 0.1068 - val_loss: 0.0869 - val_acc: 0.1056\n",
      "\n",
      "Epoch 00056: val_loss improved from 0.08693 to 0.08693, saving model to ./H5files/ae_sigmoid_adam_mse_redds50bal.h5\n",
      "Epoch 57/200\n",
      "1364049/1364049 [==============================] - 19s 14us/step - loss: 0.0861 - acc: 0.1080 - val_loss: 0.0870 - val_acc: 0.1176\n",
      "\n",
      "Epoch 00057: val_loss did not improve from 0.08693\n",
      "Epoch 58/200\n",
      "1364049/1364049 [==============================] - 19s 14us/step - loss: 0.0861 - acc: 0.0996 - val_loss: 0.0869 - val_acc: 0.1067\n",
      "\n",
      "Epoch 00058: val_loss did not improve from 0.08693\n",
      "Epoch 59/200\n",
      "1364049/1364049 [==============================] - 19s 14us/step - loss: 0.0861 - acc: 0.1089 - val_loss: 0.0869 - val_acc: 0.1118\n",
      "\n",
      "Epoch 00059: val_loss improved from 0.08693 to 0.08693, saving model to ./H5files/ae_sigmoid_adam_mse_redds50bal.h5\n",
      "Epoch 60/200\n",
      "1364049/1364049 [==============================] - 19s 14us/step - loss: 0.0861 - acc: 0.1016 - val_loss: 0.0869 - val_acc: 0.1089\n",
      "\n",
      "Epoch 00060: val_loss improved from 0.08693 to 0.08693, saving model to ./H5files/ae_sigmoid_adam_mse_redds50bal.h5\n",
      "Epoch 61/200\n",
      "1364049/1364049 [==============================] - 19s 14us/step - loss: 0.0861 - acc: 0.0978 - val_loss: 0.0869 - val_acc: 0.0988\n",
      "\n",
      "Epoch 00061: val_loss did not improve from 0.08693\n",
      "Epoch 62/200\n",
      "1364049/1364049 [==============================] - 19s 14us/step - loss: 0.0861 - acc: 0.1039 - val_loss: 0.0869 - val_acc: 0.1030\n",
      "\n",
      "Epoch 00062: val_loss did not improve from 0.08693\n",
      "Epoch 63/200\n",
      "1364049/1364049 [==============================] - 19s 14us/step - loss: 0.0861 - acc: 0.1061 - val_loss: 0.0869 - val_acc: 0.1033\n",
      "\n",
      "Epoch 00063: val_loss did not improve from 0.08693\n",
      "Epoch 64/200\n",
      "1364049/1364049 [==============================] - 19s 14us/step - loss: 0.0861 - acc: 0.1030 - val_loss: 0.0869 - val_acc: 0.1100\n",
      "\n",
      "Epoch 00064: val_loss did not improve from 0.08693\n",
      "Epoch 65/200\n",
      "1364049/1364049 [==============================] - 19s 14us/step - loss: 0.0861 - acc: 0.1107 - val_loss: 0.0869 - val_acc: 0.1124\n",
      "\n",
      "Epoch 00065: val_loss did not improve from 0.08693\n",
      "Time elapsed (hh:mm:ss.ms) 0:21:15.030726\n"
     ]
    }
   ],
   "source": [
    "hist_ae_sigmoid_adam_mse = fit_ae(checkpoint_file = \"./H5files/ae_sigmoid_adam_mse_redds\"+str(dsnum)+\"bal.h5\",\n",
    "                                  autoencoder = ae_sigmoid_adam_mse, \n",
    "                                  epochs = 200, \n",
    "                                  batch_size = batch_size,\n",
    "                                  shuffle = False)"
   ]
  },
  {
   "cell_type": "code",
   "execution_count": 33,
   "metadata": {},
   "outputs": [
    {
     "name": "stdout",
     "output_type": "stream",
     "text": [
      "Best loss value: 0.08609797587480222\n"
     ]
    },
    {
     "data": {
      "image/png": "[encoded data removed]",
      "text/plain": [
       "<Figure size 432x288 with 1 Axes>"
      ]
     },
     "metadata": {
      "needs_background": "light"
     },
     "output_type": "display_data"
    }
   ],
   "source": [
    "best_loss_value_ae_sigmoid_adam_mse  = plot_hist_auto(hist_ae_sigmoid_adam_mse, './Figures/hist_ae_sigmoid_adam_mse.png')"
   ]
  },
  {
   "cell_type": "markdown",
   "metadata": {},
   "source": [
    "### **---------- SPAE Dimensionality reduction ----------**"
   ]
  },
  {
   "cell_type": "code",
   "execution_count": 34,
   "metadata": {},
   "outputs": [
    {
     "name": "stdout",
     "output_type": "stream",
     "text": [
      "_________________________________________________________________\n",
      "Layer (type)                 Output Shape              Param #   \n",
      "=================================================================\n",
      "input_2 (InputLayer)         (None, 120)               0         \n",
      "_________________________________________________________________\n",
      "encoded_bottle_neck (Dense)  (None, 80)                9680      \n",
      "_________________________________________________________________\n",
      "dense_2 (Dense)              (None, 120)               9720      \n",
      "=================================================================\n",
      "Total params: 19,400\n",
      "Trainable params: 19,400\n",
      "Non-trainable params: 0\n",
      "_________________________________________________________________\n",
      "None\n"
     ]
    }
   ],
   "source": [
    "spae_sigmoid_adam_mse,enc_train_x_spsam,enc_test_x_spsam = spae(factor_enc_dim = 1.5,\n",
    "                                                          enc_activation = 'relu',\n",
    "                                                          dec_activation = 'sigmoid',\n",
    "                                                          optimizer='Adam',\n",
    "                                                          loss='mean_squared_error')"
   ]
  },
  {
   "cell_type": "code",
   "execution_count": 35,
   "metadata": {},
   "outputs": [],
   "source": [
    "#spae_sigmoid_adam_mse = load_model('spae_sigmoid_adam_mse_redds20bal.h5')"
   ]
  },
  {
   "cell_type": "code",
   "execution_count": 36,
   "metadata": {},
   "outputs": [
    {
     "name": "stdout",
     "output_type": "stream",
     "text": [
      "Mon Jul 15 18:09:17 2019\n",
      "Train on 1364049 samples, validate on 341013 samples\n",
      "Epoch 1/200\n",
      "1364049/1364049 [==============================] - 20s 15us/step - loss: 0.1439 - acc: 0.0157 - val_loss: 0.1270 - val_acc: 0.0253\n",
      "\n",
      "Epoch 00001: val_loss improved from inf to 0.12697, saving model to ./H5files/spae_sigmoid_adam_mse_redds50bal.h5\n",
      "Epoch 2/200\n",
      "1364049/1364049 [==============================] - 20s 15us/step - loss: 0.1229 - acc: 0.0256 - val_loss: 0.1216 - val_acc: 0.0257\n",
      "\n",
      "Epoch 00002: val_loss improved from 0.12697 to 0.12160, saving model to ./H5files/spae_sigmoid_adam_mse_redds50bal.h5\n",
      "Epoch 3/200\n",
      "1364049/1364049 [==============================] - 21s 15us/step - loss: 0.1197 - acc: 0.0267 - val_loss: 0.1197 - val_acc: 0.0316\n",
      "\n",
      "Epoch 00003: val_loss improved from 0.12160 to 0.11971, saving model to ./H5files/spae_sigmoid_adam_mse_redds50bal.h5\n",
      "Epoch 4/200\n",
      "1364049/1364049 [==============================] - 23s 17us/step - loss: 0.1183 - acc: 0.0410 - val_loss: 0.1187 - val_acc: 0.0540\n",
      "\n",
      "Epoch 00004: val_loss improved from 0.11971 to 0.11868, saving model to ./H5files/spae_sigmoid_adam_mse_redds50bal.h5\n",
      "Epoch 5/200\n",
      "1364049/1364049 [==============================] - 23s 17us/step - loss: 0.1175 - acc: 0.0615 - val_loss: 0.1180 - val_acc: 0.0680\n",
      "\n",
      "Epoch 00005: val_loss improved from 0.11868 to 0.11797, saving model to ./H5files/spae_sigmoid_adam_mse_redds50bal.h5\n",
      "Epoch 6/200\n",
      "1364049/1364049 [==============================] - 23s 16us/step - loss: 0.1169 - acc: 0.0809 - val_loss: 0.1175 - val_acc: 0.0898\n",
      "\n",
      "Epoch 00006: val_loss improved from 0.11797 to 0.11753, saving model to ./H5files/spae_sigmoid_adam_mse_redds50bal.h5\n",
      "Epoch 7/200\n",
      "1364049/1364049 [==============================] - 22s 16us/step - loss: 0.1165 - acc: 0.1046 - val_loss: 0.1172 - val_acc: 0.1172\n",
      "\n",
      "Epoch 00007: val_loss improved from 0.11753 to 0.11718, saving model to ./H5files/spae_sigmoid_adam_mse_redds50bal.h5\n",
      "Epoch 8/200\n",
      "1364049/1364049 [==============================] - 22s 16us/step - loss: 0.1161 - acc: 0.1139 - val_loss: 0.1167 - val_acc: 0.1263\n",
      "\n",
      "Epoch 00008: val_loss improved from 0.11718 to 0.11675, saving model to ./H5files/spae_sigmoid_adam_mse_redds50bal.h5\n",
      "Epoch 9/200\n",
      "1364049/1364049 [==============================] - 22s 16us/step - loss: 0.1157 - acc: 0.1339 - val_loss: 0.1165 - val_acc: 0.1434\n",
      "\n",
      "Epoch 00009: val_loss improved from 0.11675 to 0.11648, saving model to ./H5files/spae_sigmoid_adam_mse_redds50bal.h5\n",
      "Epoch 10/200\n",
      "1364049/1364049 [==============================] - 22s 16us/step - loss: 0.1154 - acc: 0.1463 - val_loss: 0.1162 - val_acc: 0.1509\n",
      "\n",
      "Epoch 00010: val_loss improved from 0.11648 to 0.11623, saving model to ./H5files/spae_sigmoid_adam_mse_redds50bal.h5\n",
      "Epoch 11/200\n",
      "1364049/1364049 [==============================] - 22s 16us/step - loss: 0.1152 - acc: 0.1537 - val_loss: 0.1160 - val_acc: 0.1560\n",
      "\n",
      "Epoch 00011: val_loss improved from 0.11623 to 0.11601, saving model to ./H5files/spae_sigmoid_adam_mse_redds50bal.h5\n",
      "Epoch 12/200\n",
      "1364049/1364049 [==============================] - 22s 16us/step - loss: 0.1150 - acc: 0.1606 - val_loss: 0.1158 - val_acc: 0.1640\n",
      "\n",
      "Epoch 00012: val_loss improved from 0.11601 to 0.11581, saving model to ./H5files/spae_sigmoid_adam_mse_redds50bal.h5\n",
      "Epoch 13/200\n",
      "1364049/1364049 [==============================] - 22s 16us/step - loss: 0.1148 - acc: 0.1678 - val_loss: 0.1157 - val_acc: 0.1710\n",
      "\n",
      "Epoch 00013: val_loss improved from 0.11581 to 0.11567, saving model to ./H5files/spae_sigmoid_adam_mse_redds50bal.h5\n",
      "Epoch 14/200\n",
      "1364049/1364049 [==============================] - 21s 16us/step - loss: 0.1147 - acc: 0.1740 - val_loss: 0.1155 - val_acc: 0.1790\n",
      "\n",
      "Epoch 00014: val_loss improved from 0.11567 to 0.11555, saving model to ./H5files/spae_sigmoid_adam_mse_redds50bal.h5\n",
      "Epoch 15/200\n",
      "1364049/1364049 [==============================] - 21s 16us/step - loss: 0.1146 - acc: 0.1796 - val_loss: 0.1154 - val_acc: 0.1848\n",
      "\n",
      "Epoch 00015: val_loss improved from 0.11555 to 0.11543, saving model to ./H5files/spae_sigmoid_adam_mse_redds50bal.h5\n",
      "Epoch 16/200\n",
      "1364049/1364049 [==============================] - 21s 16us/step - loss: 0.1145 - acc: 0.1838 - val_loss: 0.1153 - val_acc: 0.1859\n",
      "\n",
      "Epoch 00016: val_loss improved from 0.11543 to 0.11532, saving model to ./H5files/spae_sigmoid_adam_mse_redds50bal.h5\n",
      "Epoch 17/200\n",
      "1364049/1364049 [==============================] - 21s 16us/step - loss: 0.1144 - acc: 0.1876 - val_loss: 0.1152 - val_acc: 0.1893\n",
      "\n",
      "Epoch 00017: val_loss improved from 0.11532 to 0.11521, saving model to ./H5files/spae_sigmoid_adam_mse_redds50bal.h5\n",
      "Epoch 18/200\n",
      "1364049/1364049 [==============================] - 21s 15us/step - loss: 0.1143 - acc: 0.1924 - val_loss: 0.1151 - val_acc: 0.1906\n",
      "\n",
      "Epoch 00018: val_loss improved from 0.11521 to 0.11514, saving model to ./H5files/spae_sigmoid_adam_mse_redds50bal.h5\n",
      "Epoch 19/200\n",
      "1364049/1364049 [==============================] - 21s 15us/step - loss: 0.1142 - acc: 0.1951 - val_loss: 0.1150 - val_acc: 0.2005\n",
      "\n",
      "Epoch 00019: val_loss improved from 0.11514 to 0.11503, saving model to ./H5files/spae_sigmoid_adam_mse_redds50bal.h5\n",
      "Epoch 20/200\n",
      "1364049/1364049 [==============================] - 21s 15us/step - loss: 0.1142 - acc: 0.1956 - val_loss: 0.1150 - val_acc: 0.2057\n",
      "\n",
      "Epoch 00020: val_loss improved from 0.11503 to 0.11498, saving model to ./H5files/spae_sigmoid_adam_mse_redds50bal.h5\n",
      "Epoch 21/200\n",
      "1364049/1364049 [==============================] - 20s 15us/step - loss: 0.1141 - acc: 0.1960 - val_loss: 0.1149 - val_acc: 0.1907\n",
      "\n",
      "Epoch 00021: val_loss improved from 0.11498 to 0.11489, saving model to ./H5files/spae_sigmoid_adam_mse_redds50bal.h5\n",
      "Epoch 22/200\n",
      "1364049/1364049 [==============================] - 20s 15us/step - loss: 0.1140 - acc: 0.1964 - val_loss: 0.1148 - val_acc: 0.1893\n",
      "\n",
      "Epoch 00022: val_loss improved from 0.11489 to 0.11482, saving model to ./H5files/spae_sigmoid_adam_mse_redds50bal.h5\n",
      "Epoch 23/200\n",
      "1364049/1364049 [==============================] - 21s 15us/step - loss: 0.1140 - acc: 0.1984 - val_loss: 0.1148 - val_acc: 0.1914\n",
      "\n",
      "Epoch 00023: val_loss improved from 0.11482 to 0.11475, saving model to ./H5files/spae_sigmoid_adam_mse_redds50bal.h5\n",
      "Epoch 24/200\n",
      "1364049/1364049 [==============================] - 20s 15us/step - loss: 0.1139 - acc: 0.1996 - val_loss: 0.1147 - val_acc: 0.1949\n",
      "\n",
      "Epoch 00024: val_loss improved from 0.11475 to 0.11470, saving model to ./H5files/spae_sigmoid_adam_mse_redds50bal.h5\n",
      "Epoch 25/200\n",
      "1364049/1364049 [==============================] - 20s 15us/step - loss: 0.1139 - acc: 0.1988 - val_loss: 0.1147 - val_acc: 0.1935\n",
      "\n",
      "Epoch 00025: val_loss improved from 0.11470 to 0.11466, saving model to ./H5files/spae_sigmoid_adam_mse_redds50bal.h5\n",
      "Epoch 26/200\n",
      "1364049/1364049 [==============================] - 20s 15us/step - loss: 0.1138 - acc: 0.1980 - val_loss: 0.1146 - val_acc: 0.1912\n",
      "\n",
      "Epoch 00026: val_loss improved from 0.11466 to 0.11462, saving model to ./H5files/spae_sigmoid_adam_mse_redds50bal.h5\n",
      "Epoch 27/200\n",
      "1364049/1364049 [==============================] - 20s 15us/step - loss: 0.1137 - acc: 0.1982 - val_loss: 0.1145 - val_acc: 0.1922\n",
      "\n",
      "Epoch 00027: val_loss improved from 0.11462 to 0.11447, saving model to ./H5files/spae_sigmoid_adam_mse_redds50bal.h5\n",
      "Epoch 28/200\n",
      "1364049/1364049 [==============================] - 20s 15us/step - loss: 0.1133 - acc: 0.1873 - val_loss: 0.1138 - val_acc: 0.1852\n",
      "\n",
      "Epoch 00028: val_loss improved from 0.11447 to 0.11381, saving model to ./H5files/spae_sigmoid_adam_mse_redds50bal.h5\n",
      "Epoch 29/200\n",
      "1364049/1364049 [==============================] - 20s 15us/step - loss: 0.1128 - acc: 0.1849 - val_loss: 0.1135 - val_acc: 0.1871\n",
      "\n",
      "Epoch 00029: val_loss improved from 0.11381 to 0.11351, saving model to ./H5files/spae_sigmoid_adam_mse_redds50bal.h5\n",
      "Epoch 30/200\n",
      "1364049/1364049 [==============================] - 20s 15us/step - loss: 0.1126 - acc: 0.1896 - val_loss: 0.1133 - val_acc: 0.1906\n",
      "\n",
      "Epoch 00030: val_loss improved from 0.11351 to 0.11330, saving model to ./H5files/spae_sigmoid_adam_mse_redds50bal.h5\n",
      "Epoch 31/200\n",
      "1364049/1364049 [==============================] - 20s 15us/step - loss: 0.1124 - acc: 0.1937 - val_loss: 0.1132 - val_acc: 0.1947\n",
      "\n",
      "Epoch 00031: val_loss improved from 0.11330 to 0.11318, saving model to ./H5files/spae_sigmoid_adam_mse_redds50bal.h5\n",
      "Epoch 32/200\n",
      "1364049/1364049 [==============================] - 20s 15us/step - loss: 0.1123 - acc: 0.1907 - val_loss: 0.1132 - val_acc: 0.1884\n",
      "\n",
      "Epoch 00032: val_loss improved from 0.11318 to 0.11315, saving model to ./H5files/spae_sigmoid_adam_mse_redds50bal.h5\n",
      "Epoch 33/200\n",
      "1364049/1364049 [==============================] - 20s 15us/step - loss: 0.1122 - acc: 0.1902 - val_loss: 0.1130 - val_acc: 0.1974\n",
      "\n",
      "Epoch 00033: val_loss improved from 0.11315 to 0.11303, saving model to ./H5files/spae_sigmoid_adam_mse_redds50bal.h5\n",
      "Epoch 34/200\n",
      "1364049/1364049 [==============================] - 20s 15us/step - loss: 0.1122 - acc: 0.1963 - val_loss: 0.1130 - val_acc: 0.1886\n",
      "\n",
      "Epoch 00034: val_loss improved from 0.11303 to 0.11296, saving model to ./H5files/spae_sigmoid_adam_mse_redds50bal.h5\n",
      "Epoch 35/200\n",
      "1364049/1364049 [==============================] - 20s 15us/step - loss: 0.1121 - acc: 0.1990 - val_loss: 0.1129 - val_acc: 0.1879\n",
      "\n",
      "Epoch 00035: val_loss improved from 0.11296 to 0.11289, saving model to ./H5files/spae_sigmoid_adam_mse_redds50bal.h5\n",
      "Epoch 36/200\n",
      "1364049/1364049 [==============================] - 20s 15us/step - loss: 0.1121 - acc: 0.2002 - val_loss: 0.1129 - val_acc: 0.2041\n",
      "\n",
      "Epoch 00036: val_loss improved from 0.11289 to 0.11287, saving model to ./H5files/spae_sigmoid_adam_mse_redds50bal.h5\n",
      "Epoch 37/200\n",
      "1364049/1364049 [==============================] - 20s 15us/step - loss: 0.1120 - acc: 0.2026 - val_loss: 0.1128 - val_acc: 0.2035\n",
      "\n",
      "Epoch 00037: val_loss improved from 0.11287 to 0.11282, saving model to ./H5files/spae_sigmoid_adam_mse_redds50bal.h5\n",
      "Epoch 38/200\n",
      "1364049/1364049 [==============================] - 20s 15us/step - loss: 0.1120 - acc: 0.2044 - val_loss: 0.1128 - val_acc: 0.2080\n",
      "\n",
      "Epoch 00038: val_loss did not improve from 0.11282\n",
      "Epoch 39/200\n",
      "1364049/1364049 [==============================] - 20s 15us/step - loss: 0.1120 - acc: 0.2066 - val_loss: 0.1127 - val_acc: 0.2099\n",
      "\n",
      "Epoch 00039: val_loss improved from 0.11282 to 0.11269, saving model to ./H5files/spae_sigmoid_adam_mse_redds50bal.h5\n",
      "Epoch 40/200\n",
      "1364049/1364049 [==============================] - 20s 15us/step - loss: 0.1119 - acc: 0.2076 - val_loss: 0.1129 - val_acc: 0.1975\n",
      "\n",
      "Epoch 00040: val_loss did not improve from 0.11269\n",
      "Epoch 41/200\n",
      "1364049/1364049 [==============================] - 20s 15us/step - loss: 0.1119 - acc: 0.2095 - val_loss: 0.1127 - val_acc: 0.1971\n",
      "\n",
      "Epoch 00041: val_loss improved from 0.11269 to 0.11269, saving model to ./H5files/spae_sigmoid_adam_mse_redds50bal.h5\n",
      "Epoch 42/200\n",
      "1364049/1364049 [==============================] - 20s 15us/step - loss: 0.1119 - acc: 0.2124 - val_loss: 0.1127 - val_acc: 0.2152\n",
      "\n",
      "Epoch 00042: val_loss did not improve from 0.11269\n",
      "Epoch 43/200\n",
      "1364049/1364049 [==============================] - 20s 15us/step - loss: 0.1119 - acc: 0.2135 - val_loss: 0.1126 - val_acc: 0.2147\n",
      "\n",
      "Epoch 00043: val_loss improved from 0.11269 to 0.11258, saving model to ./H5files/spae_sigmoid_adam_mse_redds50bal.h5\n",
      "Epoch 44/200\n",
      "1364049/1364049 [==============================] - 20s 15us/step - loss: 0.1119 - acc: 0.2153 - val_loss: 0.1127 - val_acc: 0.2096\n",
      "\n",
      "Epoch 00044: val_loss did not improve from 0.11258\n",
      "Epoch 45/200\n",
      "1364049/1364049 [==============================] - 20s 15us/step - loss: 0.1119 - acc: 0.2167 - val_loss: 0.1125 - val_acc: 0.2197\n",
      "\n",
      "Epoch 00045: val_loss improved from 0.11258 to 0.11252, saving model to ./H5files/spae_sigmoid_adam_mse_redds50bal.h5\n",
      "Epoch 46/200\n",
      "1364049/1364049 [==============================] - 20s 15us/step - loss: 0.1118 - acc: 0.2181 - val_loss: 0.1127 - val_acc: 0.2053\n",
      "\n",
      "Epoch 00046: val_loss did not improve from 0.11252\n",
      "Epoch 47/200\n",
      "1364049/1364049 [==============================] - 20s 15us/step - loss: 0.1118 - acc: 0.2192 - val_loss: 0.1125 - val_acc: 0.2209\n",
      "\n",
      "Epoch 00047: val_loss improved from 0.11252 to 0.11248, saving model to ./H5files/spae_sigmoid_adam_mse_redds50bal.h5\n",
      "Epoch 48/200\n",
      "1364049/1364049 [==============================] - 20s 15us/step - loss: 0.1118 - acc: 0.2202 - val_loss: 0.1125 - val_acc: 0.2229\n",
      "\n",
      "Epoch 00048: val_loss did not improve from 0.11248\n",
      "Epoch 49/200\n",
      "1364049/1364049 [==============================] - 20s 15us/step - loss: 0.1118 - acc: 0.2214 - val_loss: 0.1125 - val_acc: 0.2235\n",
      "\n",
      "Epoch 00049: val_loss improved from 0.11248 to 0.11248, saving model to ./H5files/spae_sigmoid_adam_mse_redds50bal.h5\n",
      "Epoch 50/200\n",
      "1364049/1364049 [==============================] - 20s 15us/step - loss: 0.1115 - acc: 0.2290 - val_loss: 0.1115 - val_acc: 0.2486\n",
      "\n",
      "Epoch 00050: val_loss improved from 0.11248 to 0.11154, saving model to ./H5files/spae_sigmoid_adam_mse_redds50bal.h5\n",
      "Epoch 51/200\n",
      "1364049/1364049 [==============================] - 20s 15us/step - loss: 0.1108 - acc: 0.2444 - val_loss: 0.1114 - val_acc: 0.2577\n",
      "\n",
      "Epoch 00051: val_loss improved from 0.11154 to 0.11145, saving model to ./H5files/spae_sigmoid_adam_mse_redds50bal.h5\n",
      "Epoch 52/200\n",
      "1364049/1364049 [==============================] - 20s 15us/step - loss: 0.1107 - acc: 0.2487 - val_loss: 0.1115 - val_acc: 0.2403\n",
      "\n",
      "Epoch 00052: val_loss did not improve from 0.11145\n",
      "Epoch 53/200\n",
      "1364049/1364049 [==============================] - 20s 15us/step - loss: 0.1107 - acc: 0.2528 - val_loss: 0.1114 - val_acc: 0.2597\n",
      "\n",
      "Epoch 00053: val_loss improved from 0.11145 to 0.11137, saving model to ./H5files/spae_sigmoid_adam_mse_redds50bal.h5\n",
      "Epoch 54/200\n",
      "1364049/1364049 [==============================] - 20s 15us/step - loss: 0.1106 - acc: 0.2535 - val_loss: 0.1112 - val_acc: 0.2589\n",
      "\n",
      "Epoch 00054: val_loss improved from 0.11137 to 0.11125, saving model to ./H5files/spae_sigmoid_adam_mse_redds50bal.h5\n",
      "Epoch 55/200\n",
      "1364049/1364049 [==============================] - 20s 15us/step - loss: 0.1104 - acc: 0.2556 - val_loss: 0.1111 - val_acc: 0.2696\n",
      "\n",
      "Epoch 00055: val_loss improved from 0.11125 to 0.11110, saving model to ./H5files/spae_sigmoid_adam_mse_redds50bal.h5\n",
      "Epoch 56/200\n",
      "1364049/1364049 [==============================] - 20s 15us/step - loss: 0.1103 - acc: 0.2578 - val_loss: 0.1111 - val_acc: 0.2629\n",
      "\n",
      "Epoch 00056: val_loss did not improve from 0.11110\n",
      "Epoch 57/200\n",
      "1364049/1364049 [==============================] - 20s 15us/step - loss: 0.1103 - acc: 0.2606 - val_loss: 0.1111 - val_acc: 0.2612\n",
      "\n",
      "Epoch 00057: val_loss did not improve from 0.11110\n",
      "Epoch 58/200\n",
      "1364049/1364049 [==============================] - 20s 15us/step - loss: 0.1102 - acc: 0.2620 - val_loss: 0.1109 - val_acc: 0.2687\n",
      "\n",
      "Epoch 00058: val_loss improved from 0.11110 to 0.11093, saving model to ./H5files/spae_sigmoid_adam_mse_redds50bal.h5\n",
      "Epoch 59/200\n",
      "1364049/1364049 [==============================] - 20s 15us/step - loss: 0.1102 - acc: 0.2642 - val_loss: 0.1109 - val_acc: 0.2670\n",
      "\n",
      "Epoch 00059: val_loss improved from 0.11093 to 0.11090, saving model to ./H5files/spae_sigmoid_adam_mse_redds50bal.h5\n",
      "Epoch 60/200\n",
      "1364049/1364049 [==============================] - 20s 15us/step - loss: 0.1102 - acc: 0.2656 - val_loss: 0.1109 - val_acc: 0.2705\n",
      "\n",
      "Epoch 00060: val_loss did not improve from 0.11090\n",
      "Epoch 61/200\n",
      "1364049/1364049 [==============================] - 20s 15us/step - loss: 0.1101 - acc: 0.2669 - val_loss: 0.1110 - val_acc: 0.2689\n",
      "\n",
      "Epoch 00061: val_loss did not improve from 0.11090\n",
      "Epoch 62/200\n",
      "1364049/1364049 [==============================] - 20s 15us/step - loss: 0.1101 - acc: 0.2675 - val_loss: 0.1111 - val_acc: 0.2657\n",
      "\n",
      "Epoch 00062: val_loss did not improve from 0.11090\n",
      "Epoch 63/200\n",
      "1364049/1364049 [==============================] - 20s 15us/step - loss: 0.1101 - acc: 0.2676 - val_loss: 0.1109 - val_acc: 0.2680\n",
      "\n",
      "Epoch 00063: val_loss improved from 0.11090 to 0.11088, saving model to ./H5files/spae_sigmoid_adam_mse_redds50bal.h5\n",
      "Epoch 64/200\n",
      "1364049/1364049 [==============================] - 20s 15us/step - loss: 0.1101 - acc: 0.2681 - val_loss: 0.1109 - val_acc: 0.2793\n",
      "\n",
      "Epoch 00064: val_loss did not improve from 0.11088\n",
      "Epoch 65/200\n",
      "1364049/1364049 [==============================] - 20s 15us/step - loss: 0.1101 - acc: 0.2692 - val_loss: 0.1109 - val_acc: 0.2662\n",
      "\n",
      "Epoch 00065: val_loss did not improve from 0.11088\n",
      "Epoch 66/200\n",
      "1364049/1364049 [==============================] - 20s 15us/step - loss: 0.1101 - acc: 0.2692 - val_loss: 0.1108 - val_acc: 0.2679\n",
      "\n",
      "Epoch 00066: val_loss improved from 0.11088 to 0.11082, saving model to ./H5files/spae_sigmoid_adam_mse_redds50bal.h5\n",
      "Epoch 67/200\n",
      "1364049/1364049 [==============================] - 20s 15us/step - loss: 0.1101 - acc: 0.2694 - val_loss: 0.1108 - val_acc: 0.2706\n",
      "\n",
      "Epoch 00067: val_loss improved from 0.11082 to 0.11076, saving model to ./H5files/spae_sigmoid_adam_mse_redds50bal.h5\n",
      "Epoch 68/200\n",
      "1364049/1364049 [==============================] - 20s 15us/step - loss: 0.1100 - acc: 0.2700 - val_loss: 0.1110 - val_acc: 0.2612\n",
      "\n",
      "Epoch 00068: val_loss did not improve from 0.11076\n",
      "Epoch 69/200\n",
      "1364049/1364049 [==============================] - 20s 15us/step - loss: 0.1100 - acc: 0.2713 - val_loss: 0.1108 - val_acc: 0.2774\n",
      "\n",
      "Epoch 00069: val_loss did not improve from 0.11076\n",
      "Epoch 70/200\n",
      "1364049/1364049 [==============================] - 20s 15us/step - loss: 0.1100 - acc: 0.2712 - val_loss: 0.1108 - val_acc: 0.2724\n",
      "\n",
      "Epoch 00070: val_loss did not improve from 0.11076\n",
      "Epoch 71/200\n",
      "1364049/1364049 [==============================] - 20s 15us/step - loss: 0.1100 - acc: 0.2714 - val_loss: 0.1110 - val_acc: 0.2676\n",
      "\n",
      "Epoch 00071: val_loss did not improve from 0.11076\n",
      "Epoch 72/200\n",
      "1364049/1364049 [==============================] - 20s 15us/step - loss: 0.1100 - acc: 0.2720 - val_loss: 0.1108 - val_acc: 0.2768\n",
      "\n",
      "Epoch 00072: val_loss did not improve from 0.11076\n",
      "Time elapsed (hh:mm:ss.ms) 0:24:45.243149\n"
     ]
    }
   ],
   "source": [
    "hist_spae_sigmoid_adam_mse = fit_ae(checkpoint_file = \"./H5files/spae_sigmoid_adam_mse_redds\"+str(dsnum)+\"bal.h5\",\n",
    "                                  autoencoder = spae_sigmoid_adam_mse, \n",
    "                                  epochs = 200, \n",
    "                                  batch_size = batch_size,\n",
    "                                  shuffle = False)"
   ]
  },
  {
   "cell_type": "code",
   "execution_count": 37,
   "metadata": {},
   "outputs": [
    {
     "name": "stdout",
     "output_type": "stream",
     "text": [
      "Best loss value: 0.11000568301143161\n"
     ]
    },
    {
     "data": {
      "image/png": "[encoded data removed]",
      "text/plain": [
       "<Figure size 432x288 with 1 Axes>"
      ]
     },
     "metadata": {
      "needs_background": "light"
     },
     "output_type": "display_data"
    }
   ],
   "source": [
    "best_loss_value_spae_sigmoid_adam_mse  = plot_hist_auto(hist_spae_sigmoid_adam_mse, './Figures/hist_spae_sigmoid_adam_mse.png')"
   ]
  },
  {
   "cell_type": "code",
   "execution_count": null,
   "metadata": {},
   "outputs": [],
   "source": []
  },
  {
   "cell_type": "code",
   "execution_count": 38,
   "metadata": {},
   "outputs": [],
   "source": [
    "loss_valueDict = {\n",
    "    'loss_value_ae_sigmoid_adam_mse': best_loss_value_ae_sigmoid_adam_mse,\n",
    "    'loss_value_spae_sigmoid_adam_mse': best_loss_value_spae_sigmoid_adam_mse\n",
    "    }"
   ]
  },
  {
   "cell_type": "code",
   "execution_count": 39,
   "metadata": {},
   "outputs": [
    {
     "data": {
      "text/plain": [
       "{'loss_value_ae_sigmoid_adam_mse': 0.08609797587480222,\n",
       " 'loss_value_spae_sigmoid_adam_mse': 0.11000568301143161}"
      ]
     },
     "execution_count": 39,
     "metadata": {},
     "output_type": "execute_result"
    }
   ],
   "source": [
    "loss_valueDict"
   ]
  },
  {
   "cell_type": "code",
   "execution_count": 40,
   "metadata": {},
   "outputs": [
    {
     "name": "stdout",
     "output_type": "stream",
     "text": [
      "(1364049, 80)\n",
      "(426266, 80)\n",
      "(1364049, 80)\n",
      "(426266, 80)\n"
     ]
    }
   ],
   "source": [
    "print(enc_train_x_asam.shape)\n",
    "print(enc_test_x_asam.shape)\n",
    "\n",
    "print(enc_train_x_spsam.shape)\n",
    "print(enc_test_x_spsam.shape)"
   ]
  },
  {
   "cell_type": "markdown",
   "metadata": {},
   "source": [
    "### **---------- RF with ae encoded DS ----------**"
   ]
  },
  {
   "cell_type": "code",
   "execution_count": 41,
   "metadata": {},
   "outputs": [],
   "source": [
    "from sklearn.ensemble import RandomForestClassifier"
   ]
  },
  {
   "cell_type": "code",
   "execution_count": 42,
   "metadata": {},
   "outputs": [
    {
     "data": {
      "image/png": "[encoded data removed]",
      "text/plain": [
       "<Figure size 576x360 with 1 Axes>"
      ]
     },
     "metadata": {
      "needs_background": "light"
     },
     "output_type": "display_data"
    }
   ],
   "source": [
    "pca_ = PCA(n_components = 0.95, svd_solver = 'full').fit(train_x)\n",
    "\n",
    "plt.figure(figsize=(8,5))\n",
    "n_coml = [pca_.n_components_]\n",
    "\n",
    "plt.plot(np.cumsum(pca_.explained_variance_ratio_))\n",
    "plt.xlabel('Number of Components', fontsize=14)\n",
    "plt.ylabel('Variance (%)', fontsize=14) #for each component\n",
    "plt.title('Pulsar Dataset Explained Variance '+str(dsnum)+' node DS', fontsize=14)\n",
    "\n",
    "n_coml = [*n_coml]\n",
    "\n",
    "for i, v in enumerate(n_coml):\n",
    "    plt.text(v-0.8, i+0.94, '{:.0f}'.format(v), color='navy', fontsize=14)\n",
    "\n",
    "plt.savefig('./Figures/PCA_components_ds'+str(dsnum)+'bal.png')\n",
    "plt.show()"
   ]
  },
  {
   "cell_type": "code",
   "execution_count": 43,
   "metadata": {},
   "outputs": [],
   "source": [
    "clf = RandomForestClassifier(n_estimators=300, \n",
    "                             criterion='gini', \n",
    "                             max_depth=16, \n",
    "                             #min_samples_split=2, \n",
    "                             #min_samples_leaf=1, \n",
    "                             max_features=0.3, \n",
    "                             #bootstrap=True,\n",
    "                             oob_score=True,\n",
    "                             random_state=23)  "
   ]
  },
  {
   "cell_type": "code",
   "execution_count": 44,
   "metadata": {},
   "outputs": [
    {
     "name": "stdout",
     "output_type": "stream",
     "text": [
      "Mon Jul 15 18:34:42 2019\n",
      "Time elapsed (hh:mm:ss.ms) 4:18:03.014623\n",
      "              precision    recall  f1-score   support\n",
      "\n",
      "           0     0.9919    0.9974    0.9946    213688\n",
      "           1     0.9974    0.9918    0.9946    212578\n",
      "\n",
      "   micro avg     0.9946    0.9946    0.9946    426266\n",
      "   macro avg     0.9946    0.9946    0.9946    426266\n",
      "weighted avg     0.9946    0.9946    0.9946    426266\n",
      "\n"
     ]
    }
   ],
   "source": [
    "start_time = datetime.now()\n",
    "print(datetime.ctime(start_time))\n",
    "\n",
    "clf.fit(enc_train_x_asam, train_y)\n",
    "\n",
    "pred_y_ae_RF = cross_val_predict(estimator=clf,\n",
    "                              X=np.array(enc_test_x_asam),\n",
    "                              y=test_y,\n",
    "                              cv=KFold(n_splits=5, random_state=23),\n",
    "                              n_jobs=2)\n",
    "\n",
    "time_elapsed = datetime.now() - start_time \n",
    "print(\"Time elapsed (hh:mm:ss.ms) {}\".format(time_elapsed))\n",
    "\n",
    "print(sm.classification_report(test_y, pred_y_ae_RF,digits=4))"
   ]
  },
  {
   "cell_type": "code",
   "execution_count": 45,
   "metadata": {},
   "outputs": [
    {
     "data": {
      "image/png": "[encoded data removed]",
      "text/plain": [
       "<Figure size 432x288 with 1 Axes>"
      ]
     },
     "metadata": {
      "needs_background": "light"
     },
     "output_type": "display_data"
    },
    {
     "data": {
      "image/png": "[encoded data removed]",
      "text/plain": [
       "<Figure size 576x432 with 2 Axes>"
      ]
     },
     "metadata": {
      "needs_background": "light"
     },
     "output_type": "display_data"
    }
   ],
   "source": [
    "plot_roc_cm(pred_y_ae_RF, pred_y_ae_RF, './Figures/ROC_ae_rf_E100MaxfautoMaxdnoneBootT_redds'+str(dsnum)+'bal.png', './Figures/CM_ae_rf_E100MaxfautoMaxdnoneBootT_redds'+str(dsnum)+'bal.png')"
   ]
  },
  {
   "cell_type": "markdown",
   "metadata": {},
   "source": [
    "### **---------- RF with spae encoded DS ----------**"
   ]
  },
  {
   "cell_type": "code",
   "execution_count": 46,
   "metadata": {},
   "outputs": [
    {
     "name": "stdout",
     "output_type": "stream",
     "text": [
      "Mon Jul 15 22:52:47 2019\n",
      "Time elapsed (hh:mm:ss.ms) 4:11:47.629190\n",
      "              precision    recall  f1-score   support\n",
      "\n",
      "           0     0.9964    0.9952    0.9958    213688\n",
      "           1     0.9952    0.9964    0.9958    212578\n",
      "\n",
      "   micro avg     0.9958    0.9958    0.9958    426266\n",
      "   macro avg     0.9958    0.9958    0.9958    426266\n",
      "weighted avg     0.9958    0.9958    0.9958    426266\n",
      "\n"
     ]
    }
   ],
   "source": [
    "start_time = datetime.now()\n",
    "print(datetime.ctime(start_time))\n",
    "\n",
    "clf.fit(enc_train_x_spsam, train_y)\n",
    "\n",
    "pred_y_spae_RF = cross_val_predict(estimator=clf,\n",
    "                              X=np.array(enc_test_x_spsam),\n",
    "                              y=test_y,\n",
    "                              cv=KFold(n_splits=5, random_state=23),\n",
    "                              n_jobs=2)\n",
    "\n",
    "time_elapsed = datetime.now() - start_time \n",
    "print(\"Time elapsed (hh:mm:ss.ms) {}\".format(time_elapsed))\n",
    "\n",
    "print(sm.classification_report(test_y, pred_y_spae_RF,digits=4))"
   ]
  },
  {
   "cell_type": "code",
   "execution_count": 47,
   "metadata": {},
   "outputs": [
    {
     "data": {
      "image/png": "[encoded data removed]",
      "text/plain": [
       "<Figure size 432x288 with 1 Axes>"
      ]
     },
     "metadata": {
      "needs_background": "light"
     },
     "output_type": "display_data"
    },
    {
     "data": {
      "image/png": "[encoded data removed]",
      "text/plain": [
       "<Figure size 576x432 with 2 Axes>"
      ]
     },
     "metadata": {
      "needs_background": "light"
     },
     "output_type": "display_data"
    }
   ],
   "source": [
    "plot_roc_cm(pred_y_spae_RF, pred_y_spae_RF, './Figures/ROC_spae_rf_E100MaxfautoMaxdnoneBootT_redds'+str(dsnum)+'bal.png', './Figures/CM_spae_rf_E100MaxfautoMaxdnoneBootT_redds'+str(dsnum)+'bal.png')"
   ]
  },
  {
   "cell_type": "markdown",
   "metadata": {},
   "source": [
    "### **---------- RF with pca DS ----------**"
   ]
  },
  {
   "cell_type": "code",
   "execution_count": 48,
   "metadata": {},
   "outputs": [
    {
     "name": "stdout",
     "output_type": "stream",
     "text": [
      "Tue Jul 16 03:04:35 2019\n",
      "Time elapsed (hh:mm:ss.ms) 2:52:35.201352\n",
      "              precision    recall  f1-score   support\n",
      "\n",
      "           0     0.9789    0.9986    0.9886    213688\n",
      "           1     0.9986    0.9783    0.9883    212578\n",
      "\n",
      "   micro avg     0.9885    0.9885    0.9885    426266\n",
      "   macro avg     0.9887    0.9885    0.9885    426266\n",
      "weighted avg     0.9887    0.9885    0.9885    426266\n",
      "\n"
     ]
    }
   ],
   "source": [
    "start_time = datetime.now()\n",
    "print(datetime.ctime(start_time))\n",
    "\n",
    "clf.fit(train_x_pca, train_y)\n",
    "\n",
    "pred_y_pca_RF = cross_val_predict(estimator=clf,\n",
    "                              X=np.array(test_x_pca),\n",
    "                              y=test_y,\n",
    "                              cv=KFold(n_splits=5, random_state=23),\n",
    "                              n_jobs=2)\n",
    "\n",
    "time_elapsed = datetime.now() - start_time \n",
    "print(\"Time elapsed (hh:mm:ss.ms) {}\".format(time_elapsed))\n",
    "\n",
    "print(sm.classification_report(test_y, pred_y_pca_RF,digits=4))"
   ]
  },
  {
   "cell_type": "code",
   "execution_count": 49,
   "metadata": {},
   "outputs": [
    {
     "data": {
      "image/png": "[encoded data removed]",
      "text/plain": [
       "<Figure size 432x288 with 1 Axes>"
      ]
     },
     "metadata": {
      "needs_background": "light"
     },
     "output_type": "display_data"
    },
    {
     "data": {
      "image/png": "[encoded data removed]",
      "text/plain": [
       "<Figure size 576x432 with 2 Axes>"
      ]
     },
     "metadata": {
      "needs_background": "light"
     },
     "output_type": "display_data"
    }
   ],
   "source": [
    "plot_roc_cm(pred_y_pca_RF, pred_y_pca_RF, './Figures/ROC_pca_rf_E100MaxfautoMaxdnoneBootT_redds'+str(dsnum)+'bal.png', './Figures/CM_pca_rf_E100MaxfautoMaxdnoneBootT_redds'+str(dsnum)+'bal.png')"
   ]
  },
  {
   "cell_type": "code",
   "execution_count": null,
   "metadata": {},
   "outputs": [],
   "source": []
  },
  {
   "cell_type": "code",
   "execution_count": 50,
   "metadata": {},
   "outputs": [
    {
     "name": "stdout",
     "output_type": "stream",
     "text": [
      "(426266,)\n",
      "(426266,)\n",
      "(426266,)\n"
     ]
    }
   ],
   "source": [
    "print(pred_y_ae_RF.shape)\n",
    "print(pred_y_spae_RF.shape)\n",
    "print(pred_y_pca_RF.shape)"
   ]
  },
  {
   "cell_type": "code",
   "execution_count": 51,
   "metadata": {},
   "outputs": [
    {
     "data": {
      "image/png": "[encoded data removed]",
      "text/plain": [
       "<Figure size 1080x504 with 1 Axes>"
      ]
     },
     "metadata": {
      "needs_background": "light"
     },
     "output_type": "display_data"
    }
   ],
   "source": [
    "false_positive_rate_ae_RF, recall_ae_RF, thresholds_ae_RF = roc_curve(test_y, pred_y_ae_RF)\n",
    "roc_auc_ae_RF = auc(false_positive_rate_ae_RF, recall_ae_RF)\n",
    "false_positive_rate_spae_RF, recall_spae_RF, thresholds_spae_RF = roc_curve(test_y, pred_y_spae_RF)\n",
    "roc_auc_spae_RF = auc(false_positive_rate_spae_RF, recall_spae_RF)\n",
    "false_positive_rate_pca_RF, recall_pca_RF, thresholds_pca_RF = roc_curve(test_y, pred_y_pca_RF)\n",
    "roc_auc_pca_RF = auc(false_positive_rate_pca_RF, recall_pca_RF)\n",
    "\n",
    "plt.figure(figsize=(15,7))\n",
    "plt.title('Receiver Operating Characteristic (ROC)', fontsize=16)\n",
    "\n",
    "plt.plot(false_positive_rate_ae_RF, recall_ae_RF, 'c', label = 'AUC AE + RF = %0.3f' %roc_auc_ae_RF)\n",
    "plt.plot(false_positive_rate_spae_RF, recall_spae_RF, 'm', label = 'AUC SAE + RF = %0.3f' %roc_auc_spae_RF)\n",
    "plt.plot(false_positive_rate_pca_RF, recall_pca_RF, 'black', label = 'AUC PCA + RF = %0.3f' %roc_auc_pca_RF)\n",
    "\n",
    "plt.legend(loc='lower right', fontsize=14)\n",
    "plt.plot([0,1], [0,1], 'r--')\n",
    "plt.xlim([0.0,1.0])\n",
    "plt.ylim([0.0,1.0])\n",
    "# plt.ylim([0.97,1.0])\n",
    "\n",
    "plt.ylabel('Recall - TPR', fontsize=14)\n",
    "plt.xlabel('Fall-out (1-Specificity) - FPR', fontsize=14)\n",
    "plt.savefig('./Figures/ROC_allRFmodels'+str(dsnum)+'bal.png')\n",
    "plt.show()\n"
   ]
  },
  {
   "cell_type": "code",
   "execution_count": 52,
   "metadata": {},
   "outputs": [
    {
     "data": {
      "image/png": "[encoded data removed]",
      "text/plain": [
       "<Figure size 1080x504 with 1 Axes>"
      ]
     },
     "metadata": {
      "needs_background": "light"
     },
     "output_type": "display_data"
    }
   ],
   "source": [
    "plt.figure(figsize=(15,7))\n",
    "plt.title('Receiver Operating Characteristic (ROC) Zoom in', fontsize=16)\n",
    "\n",
    "plt.plot(false_positive_rate_ae_RF, recall_ae_RF, 'c', label = 'AUC AE + RF = %0.3f' %roc_auc_ae_RF)\n",
    "plt.plot(false_positive_rate_spae_RF, recall_spae_RF, 'm', label = 'AUC SAE + RF = %0.3f' %roc_auc_spae_RF)\n",
    "plt.plot(false_positive_rate_pca_RF, recall_pca_RF, 'black', label = 'AUC PCA + RF = %0.3f' %roc_auc_pca_RF)\n",
    "\n",
    "plt.legend(loc='lower right', fontsize=14)\n",
    "plt.plot([0,1], [0,1], 'r--')\n",
    "plt.xlim([0.0,1.0])\n",
    "# plt.ylim([0.0,1.0])\n",
    "plt.ylim([0.955,1.0])\n",
    "\n",
    "plt.ylabel('Recall - TPR', fontsize=14)\n",
    "plt.xlabel('Fall-out (1-Specificity) - FPR', fontsize=14)\n",
    "plt.savefig('./Figures/ROC_allRFmodels'+str(dsnum)+'bal_zoom.png')\n",
    "plt.show()"
   ]
  },
  {
   "cell_type": "code",
   "execution_count": 53,
   "metadata": {},
   "outputs": [
    {
     "name": "stdout",
     "output_type": "stream",
     "text": [
      "Classifier\tAcc\tPreci\tRecall\tF1Score\n",
      "AE+RF\t\t99.46\t99.74\t99.18\t99.46\n",
      "SAE+RF\t\t99.58\t99.52\t99.64\t99.58\n",
      "PCA+RF\t\t98.85\t99.86\t97.83\t98.83\n"
     ]
    }
   ],
   "source": [
    "classi_ae_RF = \"AE+RF\"\n",
    "acc_ae_RF = (sm.accuracy_score(test_y, pred_y_ae_RF)*100) \n",
    "pre_ae_RF = (sm.precision_score(test_y, pred_y_ae_RF)*100) \n",
    "recall_ae_RF = (sm.recall_score(test_y, pred_y_ae_RF)*100) \n",
    "f1score_ae_RF = (sm.f1_score(test_y, pred_y_ae_RF)*100)\n",
    "\n",
    "classi_spae_RF = \"SAE+RF\"\n",
    "acc_spae_RF = (sm.accuracy_score(test_y, pred_y_spae_RF)*100) \n",
    "pre_spae_RF = (sm.precision_score(test_y, pred_y_spae_RF)*100) \n",
    "recall_spae_RF = (sm.recall_score(test_y, pred_y_spae_RF)*100) \n",
    "f1score_spae_RF = (sm.f1_score(test_y, pred_y_spae_RF)*100)\n",
    "\n",
    "classi_pca_RF = \"PCA+RF\"\n",
    "acc_pca_RF = (sm.accuracy_score(test_y, pred_y_pca_RF)*100) \n",
    "pre_pca_RF = (sm.precision_score(test_y, pred_y_pca_RF)*100) \n",
    "recall_pca_RF = (sm.recall_score(test_y, pred_y_pca_RF)*100) \n",
    "f1score_pca_RF = (sm.f1_score(test_y, pred_y_pca_RF)*100)\n",
    "\n",
    "\n",
    "print('Classifier\\tAcc\\tPreci\\tRecall\\tF1Score')\n",
    "print('{0:}\\t\\t{1:.2f}\\t{2:.2f}\\t{3:.2f}\\t{4:.2f}'.format(classi_ae_RF, acc_ae_RF, pre_ae_RF, recall_ae_RF, f1score_ae_RF))\n",
    "print('{0:}\\t\\t{1:.2f}\\t{2:.2f}\\t{3:.2f}\\t{4:.2f}'.format(classi_spae_RF, acc_spae_RF, pre_spae_RF, recall_spae_RF, f1score_spae_RF))\n",
    "print('{0:}\\t\\t{1:.2f}\\t{2:.2f}\\t{3:.2f}\\t{4:.2f}'.format(classi_pca_RF, acc_pca_RF, pre_pca_RF, recall_pca_RF, f1score_pca_RF))"
   ]
  },
  {
   "cell_type": "code",
   "execution_count": 54,
   "metadata": {},
   "outputs": [
    {
     "data": {
      "image/png": "[encoded data removed]",
      "text/plain": [
       "<Figure size 576x432 with 1 Axes>"
      ]
     },
     "metadata": {
      "needs_background": "light"
     },
     "output_type": "display_data"
    }
   ],
   "source": [
    "f1list = [[\"AE+RF\",f1score_ae_RF],[\"SAE+RF\",f1score_spae_RF],[\"PCA+RF\",f1score_pca_RF]]\n",
    "\n",
    "xs, ys = [*zip(*f1list)]\n",
    "\n",
    "# '{:.2f}'.format(f1score_ae_ann)\n",
    "\n",
    "plt.figure(figsize=(8,6), )\n",
    "plt.barh(xs, ys, color = \"purple\")\n",
    "plt.title(\"F1 score vs Classifier\", fontsize=16)\n",
    "plt.xlabel(\"Classifier\", fontsize=14)\n",
    "plt.ylabel(\"F1 score\", fontsize=14)\n",
    "plt.xticks(np.arange(0, 101, 10), fontsize=12)\n",
    "plt.yticks(fontsize=12, fontweight='bold')\n",
    "\n",
    "for i, v in enumerate(ys):\n",
    "    plt.text(v+1, i+0.1, '{:.2f}'.format(v), color='purple', fontsize=14)\n",
    "\n",
    "plt.savefig('./Figures/F1scoreplot_allRFmodels'+str(dsnum)+'bal.png')\n",
    "plt.show()"
   ]
  },
  {
   "cell_type": "code",
   "execution_count": null,
   "metadata": {},
   "outputs": [],
   "source": []
  },
  {
   "cell_type": "code",
   "execution_count": null,
   "metadata": {},
   "outputs": [],
   "source": []
  }
 ],
 "metadata": {
  "kernelspec": {
   "display_name": "Python 3",
   "language": "python",
   "name": "python3"
  },
  "language_info": {
   "codemirror_mode": {
    "name": "ipython",
    "version": 3
   },
   "file_extension": ".py",
   "mimetype": "text/x-python",
   "name": "python",
   "nbconvert_exporter": "python",
   "pygments_lexer": "ipython3",
   "version": "3.6.8"
  }
 },
 "nbformat": 4,
 "nbformat_minor": 2
}
