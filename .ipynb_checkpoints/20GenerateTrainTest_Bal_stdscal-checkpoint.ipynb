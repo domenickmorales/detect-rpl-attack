{
 "cells": [
  {
   "cell_type": "markdown",
   "metadata": {},
   "source": [
    "# Dataset tidying, class balance, encoding, normalization -> regular train and test subsets"
   ]
  },
  {
   "cell_type": "markdown",
   "metadata": {},
   "source": [
    "<font color='blue'>Creation of balanced dataset</font>"
   ]
  },
  {
   "cell_type": "markdown",
   "metadata": {},
   "source": [
    "#### 1.1 Module loading"
   ]
  },
  {
   "cell_type": "code",
   "execution_count": 2,
   "metadata": {},
   "outputs": [],
   "source": [
    "import pandas as pd\n",
    "import numpy as np\n",
    "import seaborn as sns\n",
    "import matplotlib.pyplot as plt\n",
    "import imblearn\n",
    "from sklearn.preprocessing import LabelEncoder, StandardScaler, FunctionTransformer, OneHotEncoder\n",
    "from sklearn.compose import ColumnTransformer, make_column_transformer"
   ]
  },
  {
   "cell_type": "markdown",
   "metadata": {},
   "source": [
    "#### 1.2 Dataset loading"
   ]
  },
  {
   "cell_type": "code",
   "execution_count": 3,
   "metadata": {},
   "outputs": [],
   "source": [
    "#pathds = '/home/user/01Code/00Datasets_final/helpers/'\n",
    "pathds = '/home/user/01Code/00Datasets_final/'"
   ]
  },
  {
   "cell_type": "code",
   "execution_count": 4,
   "metadata": {},
   "outputs": [],
   "source": [
    "# #Final\n",
    "columns_csv = \"frame_time_delta,frame_time_epoch,frame_time_relative,frame_cap_len,frame_len,frame_number,ipv6_src,ipv6_dst,ipv6_plen,sixlowpan_pattern,wpan_ack_request,wpan_dst_addr_mode,wpan_fcf,wpan_fcs,wpan_frame_length,wpan_pending,wpan_seq_no,icmpv6_checksum,icmpv6_code,class\".split(\",\")"
   ]
  },
  {
   "cell_type": "code",
   "execution_count": 5,
   "metadata": {},
   "outputs": [
    {
     "data": {
      "text/plain": [
       "20"
      ]
     },
     "execution_count": 5,
     "metadata": {},
     "output_type": "execute_result"
    }
   ],
   "source": [
    "len(columns_csv)"
   ]
  },
  {
   "cell_type": "code",
   "execution_count": 6,
   "metadata": {},
   "outputs": [],
   "source": [
    "df_chunk = pd.read_csv(pathds+\"sybil_20n_with-malicious_labelled.csv\", low_memory=False, sep=',', names=columns_csv, skiprows=1, chunksize=1000)\n",
    "df = df_chunk.get_chunk(350000)\n",
    "#reduced\n",
    "# df = df_chunk.get_chunk(80000)\n",
    "# df = pd.read_csv(pathds+\"sybil_20n_with-malicious_labelled.csv\", low_memory=False, sep=',', names=columns_csv, skiprows=1)\n"
   ]
  },
  {
   "cell_type": "code",
   "execution_count": 7,
   "metadata": {},
   "outputs": [
    {
     "name": "stdout",
     "output_type": "stream",
     "text": [
      "(350000, 20)\n"
     ]
    }
   ],
   "source": [
    "print(df.shape)\n",
    "# print(dff.shape)"
   ]
  },
  {
   "cell_type": "code",
   "execution_count": 8,
   "metadata": {},
   "outputs": [
    {
     "data": {
      "text/html": [
       "<div>\n",
       "<style scoped>\n",
       "    .dataframe tbody tr th:only-of-type {\n",
       "        vertical-align: middle;\n",
       "    }\n",
       "\n",
       "    .dataframe tbody tr th {\n",
       "        vertical-align: top;\n",
       "    }\n",
       "\n",
       "    .dataframe thead th {\n",
       "        text-align: right;\n",
       "    }\n",
       "</style>\n",
       "<table border=\"1\" class=\"dataframe\">\n",
       "  <thead>\n",
       "    <tr style=\"text-align: right;\">\n",
       "      <th></th>\n",
       "      <th>frame_time_delta</th>\n",
       "      <th>frame_time_epoch</th>\n",
       "      <th>frame_time_relative</th>\n",
       "      <th>frame_cap_len</th>\n",
       "      <th>frame_len</th>\n",
       "      <th>frame_number</th>\n",
       "      <th>ipv6_src</th>\n",
       "      <th>ipv6_dst</th>\n",
       "      <th>ipv6_plen</th>\n",
       "      <th>sixlowpan_pattern</th>\n",
       "      <th>wpan_ack_request</th>\n",
       "      <th>wpan_dst_addr_mode</th>\n",
       "      <th>wpan_fcf</th>\n",
       "      <th>wpan_fcs</th>\n",
       "      <th>wpan_frame_length</th>\n",
       "      <th>wpan_pending</th>\n",
       "      <th>wpan_seq_no</th>\n",
       "      <th>icmpv6_checksum</th>\n",
       "      <th>icmpv6_code</th>\n",
       "      <th>class</th>\n",
       "    </tr>\n",
       "  </thead>\n",
       "  <tbody>\n",
       "    <tr>\n",
       "      <th>0</th>\n",
       "      <td>0.000000</td>\n",
       "      <td>1.554230e+09</td>\n",
       "      <td>0.000000</td>\n",
       "      <td>64</td>\n",
       "      <td>64</td>\n",
       "      <td>1</td>\n",
       "      <td>fe80::c30c:0:0:5</td>\n",
       "      <td>ff02::1a</td>\n",
       "      <td>6</td>\n",
       "      <td>0x00000041</td>\n",
       "      <td>0</td>\n",
       "      <td>0x00000002</td>\n",
       "      <td>0x0000d841</td>\n",
       "      <td>0x0000342b</td>\n",
       "      <td>64</td>\n",
       "      <td>0</td>\n",
       "      <td>38</td>\n",
       "      <td>0x0000a40f</td>\n",
       "      <td>0</td>\n",
       "      <td>0</td>\n",
       "    </tr>\n",
       "    <tr>\n",
       "      <th>1</th>\n",
       "      <td>0.003288</td>\n",
       "      <td>1.554230e+09</td>\n",
       "      <td>0.003288</td>\n",
       "      <td>64</td>\n",
       "      <td>64</td>\n",
       "      <td>2</td>\n",
       "      <td>fe80::c30c:0:0:5</td>\n",
       "      <td>ff02::1a</td>\n",
       "      <td>6</td>\n",
       "      <td>0x00000041</td>\n",
       "      <td>0</td>\n",
       "      <td>0x00000002</td>\n",
       "      <td>0x0000d841</td>\n",
       "      <td>0x0000342b</td>\n",
       "      <td>64</td>\n",
       "      <td>0</td>\n",
       "      <td>38</td>\n",
       "      <td>0x0000a40f</td>\n",
       "      <td>0</td>\n",
       "      <td>0</td>\n",
       "    </tr>\n",
       "    <tr>\n",
       "      <th>2</th>\n",
       "      <td>0.003264</td>\n",
       "      <td>1.554230e+09</td>\n",
       "      <td>0.006552</td>\n",
       "      <td>64</td>\n",
       "      <td>64</td>\n",
       "      <td>3</td>\n",
       "      <td>fe80::c30c:0:0:5</td>\n",
       "      <td>ff02::1a</td>\n",
       "      <td>6</td>\n",
       "      <td>0x00000041</td>\n",
       "      <td>0</td>\n",
       "      <td>0x00000002</td>\n",
       "      <td>0x0000d841</td>\n",
       "      <td>0x0000342b</td>\n",
       "      <td>64</td>\n",
       "      <td>0</td>\n",
       "      <td>38</td>\n",
       "      <td>0x0000a40f</td>\n",
       "      <td>0</td>\n",
       "      <td>0</td>\n",
       "    </tr>\n",
       "    <tr>\n",
       "      <th>3</th>\n",
       "      <td>0.003296</td>\n",
       "      <td>1.554230e+09</td>\n",
       "      <td>0.009848</td>\n",
       "      <td>64</td>\n",
       "      <td>64</td>\n",
       "      <td>4</td>\n",
       "      <td>fe80::c30c:0:0:5</td>\n",
       "      <td>ff02::1a</td>\n",
       "      <td>6</td>\n",
       "      <td>0x00000041</td>\n",
       "      <td>0</td>\n",
       "      <td>0x00000002</td>\n",
       "      <td>0x0000d841</td>\n",
       "      <td>0x0000342b</td>\n",
       "      <td>64</td>\n",
       "      <td>0</td>\n",
       "      <td>38</td>\n",
       "      <td>0x0000a40f</td>\n",
       "      <td>0</td>\n",
       "      <td>0</td>\n",
       "    </tr>\n",
       "    <tr>\n",
       "      <th>4</th>\n",
       "      <td>0.003273</td>\n",
       "      <td>1.554230e+09</td>\n",
       "      <td>0.013121</td>\n",
       "      <td>64</td>\n",
       "      <td>64</td>\n",
       "      <td>5</td>\n",
       "      <td>fe80::c30c:0:0:5</td>\n",
       "      <td>ff02::1a</td>\n",
       "      <td>6</td>\n",
       "      <td>0x00000041</td>\n",
       "      <td>0</td>\n",
       "      <td>0x00000002</td>\n",
       "      <td>0x0000d841</td>\n",
       "      <td>0x0000342b</td>\n",
       "      <td>64</td>\n",
       "      <td>0</td>\n",
       "      <td>38</td>\n",
       "      <td>0x0000a40f</td>\n",
       "      <td>0</td>\n",
       "      <td>0</td>\n",
       "    </tr>\n",
       "  </tbody>\n",
       "</table>\n",
       "</div>"
      ],
      "text/plain": [
       "   frame_time_delta  frame_time_epoch  frame_time_relative  frame_cap_len  \\\n",
       "0          0.000000      1.554230e+09             0.000000             64   \n",
       "1          0.003288      1.554230e+09             0.003288             64   \n",
       "2          0.003264      1.554230e+09             0.006552             64   \n",
       "3          0.003296      1.554230e+09             0.009848             64   \n",
       "4          0.003273      1.554230e+09             0.013121             64   \n",
       "\n",
       "   frame_len  frame_number          ipv6_src  ipv6_dst  ipv6_plen  \\\n",
       "0         64             1  fe80::c30c:0:0:5  ff02::1a          6   \n",
       "1         64             2  fe80::c30c:0:0:5  ff02::1a          6   \n",
       "2         64             3  fe80::c30c:0:0:5  ff02::1a          6   \n",
       "3         64             4  fe80::c30c:0:0:5  ff02::1a          6   \n",
       "4         64             5  fe80::c30c:0:0:5  ff02::1a          6   \n",
       "\n",
       "  sixlowpan_pattern  wpan_ack_request wpan_dst_addr_mode    wpan_fcf  \\\n",
       "0        0x00000041                 0         0x00000002  0x0000d841   \n",
       "1        0x00000041                 0         0x00000002  0x0000d841   \n",
       "2        0x00000041                 0         0x00000002  0x0000d841   \n",
       "3        0x00000041                 0         0x00000002  0x0000d841   \n",
       "4        0x00000041                 0         0x00000002  0x0000d841   \n",
       "\n",
       "     wpan_fcs  wpan_frame_length  wpan_pending  wpan_seq_no icmpv6_checksum  \\\n",
       "0  0x0000342b                 64             0           38      0x0000a40f   \n",
       "1  0x0000342b                 64             0           38      0x0000a40f   \n",
       "2  0x0000342b                 64             0           38      0x0000a40f   \n",
       "3  0x0000342b                 64             0           38      0x0000a40f   \n",
       "4  0x0000342b                 64             0           38      0x0000a40f   \n",
       "\n",
       "   icmpv6_code  class  \n",
       "0            0      0  \n",
       "1            0      0  \n",
       "2            0      0  \n",
       "3            0      0  \n",
       "4            0      0  "
      ]
     },
     "execution_count": 8,
     "metadata": {},
     "output_type": "execute_result"
    }
   ],
   "source": [
    "df.head()"
   ]
  },
  {
   "cell_type": "markdown",
   "metadata": {},
   "source": [
    "> I fixed the *names = columns_csv* for more fexibility"
   ]
  },
  {
   "cell_type": "code",
   "execution_count": 9,
   "metadata": {},
   "outputs": [],
   "source": [
    "X = df.iloc[:, 0:19] \n",
    "y = df.iloc[:, 19]"
   ]
  },
  {
   "cell_type": "code",
   "execution_count": 10,
   "metadata": {},
   "outputs": [
    {
     "data": {
      "text/html": [
       "<div>\n",
       "<style scoped>\n",
       "    .dataframe tbody tr th:only-of-type {\n",
       "        vertical-align: middle;\n",
       "    }\n",
       "\n",
       "    .dataframe tbody tr th {\n",
       "        vertical-align: top;\n",
       "    }\n",
       "\n",
       "    .dataframe thead th {\n",
       "        text-align: right;\n",
       "    }\n",
       "</style>\n",
       "<table border=\"1\" class=\"dataframe\">\n",
       "  <thead>\n",
       "    <tr style=\"text-align: right;\">\n",
       "      <th></th>\n",
       "      <th>frame_time_delta</th>\n",
       "      <th>frame_time_epoch</th>\n",
       "      <th>frame_time_relative</th>\n",
       "      <th>frame_cap_len</th>\n",
       "      <th>frame_len</th>\n",
       "      <th>frame_number</th>\n",
       "      <th>ipv6_plen</th>\n",
       "      <th>wpan_ack_request</th>\n",
       "      <th>wpan_frame_length</th>\n",
       "      <th>wpan_pending</th>\n",
       "      <th>wpan_seq_no</th>\n",
       "      <th>icmpv6_code</th>\n",
       "    </tr>\n",
       "  </thead>\n",
       "  <tbody>\n",
       "    <tr>\n",
       "      <th>count</th>\n",
       "      <td>350000.000000</td>\n",
       "      <td>3.500000e+05</td>\n",
       "      <td>350000.000000</td>\n",
       "      <td>350000.000000</td>\n",
       "      <td>350000.000000</td>\n",
       "      <td>350000.000000</td>\n",
       "      <td>350000.000000</td>\n",
       "      <td>350000.000000</td>\n",
       "      <td>350000.000000</td>\n",
       "      <td>350000.000000</td>\n",
       "      <td>350000.000000</td>\n",
       "      <td>350000.000000</td>\n",
       "    </tr>\n",
       "    <tr>\n",
       "      <th>mean</th>\n",
       "      <td>0.008336</td>\n",
       "      <td>1.554202e+09</td>\n",
       "      <td>53.731534</td>\n",
       "      <td>85.221820</td>\n",
       "      <td>85.221820</td>\n",
       "      <td>12649.565389</td>\n",
       "      <td>59.497589</td>\n",
       "      <td>0.799849</td>\n",
       "      <td>85.221820</td>\n",
       "      <td>0.003117</td>\n",
       "      <td>96.889757</td>\n",
       "      <td>1.562360</td>\n",
       "    </tr>\n",
       "    <tr>\n",
       "      <th>std</th>\n",
       "      <td>0.122428</td>\n",
       "      <td>4.155683e+04</td>\n",
       "      <td>57.018957</td>\n",
       "      <td>12.029225</td>\n",
       "      <td>12.029225</td>\n",
       "      <td>8266.023691</td>\n",
       "      <td>14.733775</td>\n",
       "      <td>0.400114</td>\n",
       "      <td>12.029225</td>\n",
       "      <td>0.055744</td>\n",
       "      <td>69.812237</td>\n",
       "      <td>0.534135</td>\n",
       "    </tr>\n",
       "    <tr>\n",
       "      <th>min</th>\n",
       "      <td>-0.003099</td>\n",
       "      <td>1.554113e+09</td>\n",
       "      <td>0.000000</td>\n",
       "      <td>64.000000</td>\n",
       "      <td>64.000000</td>\n",
       "      <td>1.000000</td>\n",
       "      <td>6.000000</td>\n",
       "      <td>0.000000</td>\n",
       "      <td>64.000000</td>\n",
       "      <td>0.000000</td>\n",
       "      <td>0.000000</td>\n",
       "      <td>0.000000</td>\n",
       "    </tr>\n",
       "    <tr>\n",
       "      <th>25%</th>\n",
       "      <td>0.000875</td>\n",
       "      <td>1.554167e+09</td>\n",
       "      <td>16.598442</td>\n",
       "      <td>76.000000</td>\n",
       "      <td>76.000000</td>\n",
       "      <td>5853.000000</td>\n",
       "      <td>50.000000</td>\n",
       "      <td>1.000000</td>\n",
       "      <td>76.000000</td>\n",
       "      <td>0.000000</td>\n",
       "      <td>39.000000</td>\n",
       "      <td>1.000000</td>\n",
       "    </tr>\n",
       "    <tr>\n",
       "      <th>50%</th>\n",
       "      <td>0.001953</td>\n",
       "      <td>1.554229e+09</td>\n",
       "      <td>32.682114</td>\n",
       "      <td>76.000000</td>\n",
       "      <td>76.000000</td>\n",
       "      <td>11718.000000</td>\n",
       "      <td>50.000000</td>\n",
       "      <td>1.000000</td>\n",
       "      <td>76.000000</td>\n",
       "      <td>0.000000</td>\n",
       "      <td>88.000000</td>\n",
       "      <td>2.000000</td>\n",
       "    </tr>\n",
       "    <tr>\n",
       "      <th>75%</th>\n",
       "      <td>0.003326</td>\n",
       "      <td>1.554235e+09</td>\n",
       "      <td>66.785449</td>\n",
       "      <td>97.000000</td>\n",
       "      <td>97.000000</td>\n",
       "      <td>18348.000000</td>\n",
       "      <td>76.000000</td>\n",
       "      <td>1.000000</td>\n",
       "      <td>97.000000</td>\n",
       "      <td>0.000000</td>\n",
       "      <td>159.000000</td>\n",
       "      <td>2.000000</td>\n",
       "    </tr>\n",
       "    <tr>\n",
       "      <th>max</th>\n",
       "      <td>11.119377</td>\n",
       "      <td>1.554242e+09</td>\n",
       "      <td>298.014694</td>\n",
       "      <td>102.000000</td>\n",
       "      <td>102.000000</td>\n",
       "      <td>38686.000000</td>\n",
       "      <td>76.000000</td>\n",
       "      <td>1.000000</td>\n",
       "      <td>102.000000</td>\n",
       "      <td>1.000000</td>\n",
       "      <td>255.000000</td>\n",
       "      <td>2.000000</td>\n",
       "    </tr>\n",
       "  </tbody>\n",
       "</table>\n",
       "</div>"
      ],
      "text/plain": [
       "       frame_time_delta  frame_time_epoch  frame_time_relative  frame_cap_len  \\\n",
       "count     350000.000000      3.500000e+05        350000.000000  350000.000000   \n",
       "mean           0.008336      1.554202e+09            53.731534      85.221820   \n",
       "std            0.122428      4.155683e+04            57.018957      12.029225   \n",
       "min           -0.003099      1.554113e+09             0.000000      64.000000   \n",
       "25%            0.000875      1.554167e+09            16.598442      76.000000   \n",
       "50%            0.001953      1.554229e+09            32.682114      76.000000   \n",
       "75%            0.003326      1.554235e+09            66.785449      97.000000   \n",
       "max           11.119377      1.554242e+09           298.014694     102.000000   \n",
       "\n",
       "           frame_len   frame_number      ipv6_plen  wpan_ack_request  \\\n",
       "count  350000.000000  350000.000000  350000.000000     350000.000000   \n",
       "mean       85.221820   12649.565389      59.497589          0.799849   \n",
       "std        12.029225    8266.023691      14.733775          0.400114   \n",
       "min        64.000000       1.000000       6.000000          0.000000   \n",
       "25%        76.000000    5853.000000      50.000000          1.000000   \n",
       "50%        76.000000   11718.000000      50.000000          1.000000   \n",
       "75%        97.000000   18348.000000      76.000000          1.000000   \n",
       "max       102.000000   38686.000000      76.000000          1.000000   \n",
       "\n",
       "       wpan_frame_length   wpan_pending    wpan_seq_no    icmpv6_code  \n",
       "count      350000.000000  350000.000000  350000.000000  350000.000000  \n",
       "mean           85.221820       0.003117      96.889757       1.562360  \n",
       "std            12.029225       0.055744      69.812237       0.534135  \n",
       "min            64.000000       0.000000       0.000000       0.000000  \n",
       "25%            76.000000       0.000000      39.000000       1.000000  \n",
       "50%            76.000000       0.000000      88.000000       2.000000  \n",
       "75%            97.000000       0.000000     159.000000       2.000000  \n",
       "max           102.000000       1.000000     255.000000       2.000000  "
      ]
     },
     "execution_count": 10,
     "metadata": {},
     "output_type": "execute_result"
    }
   ],
   "source": [
    "X.describe()"
   ]
  },
  {
   "cell_type": "code",
   "execution_count": 11,
   "metadata": {},
   "outputs": [
    {
     "data": {
      "image/png": "[encoded data removed]",
      "text/plain": [
       "<Figure size 360x360 with 1 Axes>"
      ]
     },
     "metadata": {
      "needs_background": "light"
     },
     "output_type": "display_data"
    }
   ],
   "source": [
    "plt.figure(figsize=(5,5))\n",
    "\n",
    "sns.boxplot(x='class', y='frame_time_relative', data=df, palette=\"Set1\")\n",
    "\n",
    "# Changing default seaborn/matplotlib to be more readable\n",
    "plt.xlabel('class', fontsize = 12)\n",
    "plt.ylabel('frame_time_relative', fontsize = 12)\n",
    "plt.xticks(fontsize = 10)\n",
    "plt.yticks(fontsize = 10)\n",
    "\n",
    "plt.savefig('area_delta_class.png')"
   ]
  },
  {
   "cell_type": "code",
   "execution_count": null,
   "metadata": {},
   "outputs": [],
   "source": []
  },
  {
   "cell_type": "markdown",
   "metadata": {},
   "source": [
    "### 2. Dropping of nan values in rows and columns"
   ]
  },
  {
   "cell_type": "markdown",
   "metadata": {},
   "source": [
    "#### 2.1 Finding if there is any column or row with nan values"
   ]
  },
  {
   "cell_type": "code",
   "execution_count": 12,
   "metadata": {},
   "outputs": [
    {
     "name": "stdout",
     "output_type": "stream",
     "text": [
      "No nans df\n"
     ]
    }
   ],
   "source": [
    "nan_df = df.isnull().any().tolist()\n",
    "\n",
    "if True in nan_df: print('**There is nans in df_test!**\\n\\n', df.isnull().any())\n",
    "else: print(\"No nans df\")"
   ]
  },
  {
   "cell_type": "markdown",
   "metadata": {},
   "source": [
    "> As it is True in some columns (features) It was required to remove this samples"
   ]
  },
  {
   "cell_type": "code",
   "execution_count": 13,
   "metadata": {},
   "outputs": [
    {
     "data": {
      "text/plain": [
       "frame_time_delta       0\n",
       "frame_time_epoch       0\n",
       "frame_time_relative    0\n",
       "frame_cap_len          0\n",
       "frame_len              0\n",
       "frame_number           0\n",
       "ipv6_src               0\n",
       "ipv6_dst               0\n",
       "ipv6_plen              0\n",
       "sixlowpan_pattern      0\n",
       "wpan_ack_request       0\n",
       "wpan_dst_addr_mode     0\n",
       "wpan_fcf               0\n",
       "wpan_fcs               0\n",
       "wpan_frame_length      0\n",
       "wpan_pending           0\n",
       "wpan_seq_no            0\n",
       "icmpv6_checksum        0\n",
       "icmpv6_code            0\n",
       "class                  0\n",
       "dtype: int64"
      ]
     },
     "execution_count": 13,
     "metadata": {},
     "output_type": "execute_result"
    }
   ],
   "source": [
    "df.isnull().sum()"
   ]
  },
  {
   "cell_type": "markdown",
   "metadata": {},
   "source": [
    "#### 2.2 Removing any nan value in any row or column"
   ]
  },
  {
   "cell_type": "code",
   "execution_count": 14,
   "metadata": {},
   "outputs": [],
   "source": [
    "df_nonan_row = df.dropna(axis=0, how='all') #dropping rows whose any value is nan "
   ]
  },
  {
   "cell_type": "code",
   "execution_count": 15,
   "metadata": {},
   "outputs": [],
   "source": [
    "df_nonan_rowcol = df_nonan_row.dropna(axis=1, how='any') #dropping columns whose any value is nan "
   ]
  },
  {
   "cell_type": "code",
   "execution_count": 16,
   "metadata": {},
   "outputs": [],
   "source": [
    "df = df_nonan_rowcol # dataset without nan values"
   ]
  },
  {
   "cell_type": "code",
   "execution_count": 17,
   "metadata": {},
   "outputs": [
    {
     "name": "stdout",
     "output_type": "stream",
     "text": [
      "No nans df\n"
     ]
    }
   ],
   "source": [
    "nan_df = df.isnull().any().tolist()\n",
    "\n",
    "if True in nan_df: print('**There is nans in df_test!**\\n\\n', df.isnull().any())\n",
    "else: print(\"No nans df\")"
   ]
  },
  {
   "cell_type": "markdown",
   "metadata": {},
   "source": [
    "> As is expected the dataset is now ready to the next step"
   ]
  },
  {
   "cell_type": "code",
   "execution_count": 18,
   "metadata": {},
   "outputs": [
    {
     "data": {
      "text/plain": [
       "(350000, 20)"
      ]
     },
     "execution_count": 18,
     "metadata": {},
     "output_type": "execute_result"
    }
   ],
   "source": [
    "df.shape"
   ]
  },
  {
   "cell_type": "markdown",
   "metadata": {},
   "source": [
    "### 3. Special care of hex values in string format"
   ]
  },
  {
   "cell_type": "markdown",
   "metadata": {},
   "source": [
    "#### 3.1 Conversion of sring values into int"
   ]
  },
  {
   "cell_type": "code",
   "execution_count": 19,
   "metadata": {},
   "outputs": [],
   "source": [
    "df['wpan_dst_addr_mode'] = df.wpan_dst_addr_mode.apply(int, base=16)\n",
    "df['wpan_fcf'] = df.wpan_fcf.apply(int, base=16)\n",
    "df['wpan_fcs'] = df.wpan_fcs.apply(int, base=16)\n",
    "df['sixlowpan_pattern'] = df.sixlowpan_pattern.apply(int, base=16)\n",
    "df['icmpv6_checksum'] = df.icmpv6_checksum.apply(int, base=16)"
   ]
  },
  {
   "cell_type": "markdown",
   "metadata": {},
   "source": [
    "> Two features exhibited values in unsigned byte type (string hex values), therefore it was necessary to convert them into int values"
   ]
  },
  {
   "cell_type": "code",
   "execution_count": 20,
   "metadata": {},
   "outputs": [
    {
     "data": {
      "text/html": [
       "<div>\n",
       "<style scoped>\n",
       "    .dataframe tbody tr th:only-of-type {\n",
       "        vertical-align: middle;\n",
       "    }\n",
       "\n",
       "    .dataframe tbody tr th {\n",
       "        vertical-align: top;\n",
       "    }\n",
       "\n",
       "    .dataframe thead th {\n",
       "        text-align: right;\n",
       "    }\n",
       "</style>\n",
       "<table border=\"1\" class=\"dataframe\">\n",
       "  <thead>\n",
       "    <tr style=\"text-align: right;\">\n",
       "      <th></th>\n",
       "      <th>frame_time_delta</th>\n",
       "      <th>frame_time_epoch</th>\n",
       "      <th>frame_time_relative</th>\n",
       "      <th>frame_cap_len</th>\n",
       "      <th>frame_len</th>\n",
       "      <th>frame_number</th>\n",
       "      <th>ipv6_src</th>\n",
       "      <th>ipv6_dst</th>\n",
       "      <th>ipv6_plen</th>\n",
       "      <th>sixlowpan_pattern</th>\n",
       "      <th>wpan_ack_request</th>\n",
       "      <th>wpan_dst_addr_mode</th>\n",
       "      <th>wpan_fcf</th>\n",
       "      <th>wpan_fcs</th>\n",
       "      <th>wpan_frame_length</th>\n",
       "      <th>wpan_pending</th>\n",
       "      <th>wpan_seq_no</th>\n",
       "      <th>icmpv6_checksum</th>\n",
       "      <th>icmpv6_code</th>\n",
       "      <th>class</th>\n",
       "    </tr>\n",
       "  </thead>\n",
       "  <tbody>\n",
       "    <tr>\n",
       "      <th>0</th>\n",
       "      <td>0.000000</td>\n",
       "      <td>1.554230e+09</td>\n",
       "      <td>0.000000</td>\n",
       "      <td>64</td>\n",
       "      <td>64</td>\n",
       "      <td>1</td>\n",
       "      <td>fe80::c30c:0:0:5</td>\n",
       "      <td>ff02::1a</td>\n",
       "      <td>6</td>\n",
       "      <td>65</td>\n",
       "      <td>0</td>\n",
       "      <td>2</td>\n",
       "      <td>55361</td>\n",
       "      <td>13355</td>\n",
       "      <td>64</td>\n",
       "      <td>0</td>\n",
       "      <td>38</td>\n",
       "      <td>41999</td>\n",
       "      <td>0</td>\n",
       "      <td>0</td>\n",
       "    </tr>\n",
       "    <tr>\n",
       "      <th>1</th>\n",
       "      <td>0.003288</td>\n",
       "      <td>1.554230e+09</td>\n",
       "      <td>0.003288</td>\n",
       "      <td>64</td>\n",
       "      <td>64</td>\n",
       "      <td>2</td>\n",
       "      <td>fe80::c30c:0:0:5</td>\n",
       "      <td>ff02::1a</td>\n",
       "      <td>6</td>\n",
       "      <td>65</td>\n",
       "      <td>0</td>\n",
       "      <td>2</td>\n",
       "      <td>55361</td>\n",
       "      <td>13355</td>\n",
       "      <td>64</td>\n",
       "      <td>0</td>\n",
       "      <td>38</td>\n",
       "      <td>41999</td>\n",
       "      <td>0</td>\n",
       "      <td>0</td>\n",
       "    </tr>\n",
       "    <tr>\n",
       "      <th>2</th>\n",
       "      <td>0.003264</td>\n",
       "      <td>1.554230e+09</td>\n",
       "      <td>0.006552</td>\n",
       "      <td>64</td>\n",
       "      <td>64</td>\n",
       "      <td>3</td>\n",
       "      <td>fe80::c30c:0:0:5</td>\n",
       "      <td>ff02::1a</td>\n",
       "      <td>6</td>\n",
       "      <td>65</td>\n",
       "      <td>0</td>\n",
       "      <td>2</td>\n",
       "      <td>55361</td>\n",
       "      <td>13355</td>\n",
       "      <td>64</td>\n",
       "      <td>0</td>\n",
       "      <td>38</td>\n",
       "      <td>41999</td>\n",
       "      <td>0</td>\n",
       "      <td>0</td>\n",
       "    </tr>\n",
       "    <tr>\n",
       "      <th>3</th>\n",
       "      <td>0.003296</td>\n",
       "      <td>1.554230e+09</td>\n",
       "      <td>0.009848</td>\n",
       "      <td>64</td>\n",
       "      <td>64</td>\n",
       "      <td>4</td>\n",
       "      <td>fe80::c30c:0:0:5</td>\n",
       "      <td>ff02::1a</td>\n",
       "      <td>6</td>\n",
       "      <td>65</td>\n",
       "      <td>0</td>\n",
       "      <td>2</td>\n",
       "      <td>55361</td>\n",
       "      <td>13355</td>\n",
       "      <td>64</td>\n",
       "      <td>0</td>\n",
       "      <td>38</td>\n",
       "      <td>41999</td>\n",
       "      <td>0</td>\n",
       "      <td>0</td>\n",
       "    </tr>\n",
       "    <tr>\n",
       "      <th>4</th>\n",
       "      <td>0.003273</td>\n",
       "      <td>1.554230e+09</td>\n",
       "      <td>0.013121</td>\n",
       "      <td>64</td>\n",
       "      <td>64</td>\n",
       "      <td>5</td>\n",
       "      <td>fe80::c30c:0:0:5</td>\n",
       "      <td>ff02::1a</td>\n",
       "      <td>6</td>\n",
       "      <td>65</td>\n",
       "      <td>0</td>\n",
       "      <td>2</td>\n",
       "      <td>55361</td>\n",
       "      <td>13355</td>\n",
       "      <td>64</td>\n",
       "      <td>0</td>\n",
       "      <td>38</td>\n",
       "      <td>41999</td>\n",
       "      <td>0</td>\n",
       "      <td>0</td>\n",
       "    </tr>\n",
       "  </tbody>\n",
       "</table>\n",
       "</div>"
      ],
      "text/plain": [
       "   frame_time_delta  frame_time_epoch  frame_time_relative  frame_cap_len  \\\n",
       "0          0.000000      1.554230e+09             0.000000             64   \n",
       "1          0.003288      1.554230e+09             0.003288             64   \n",
       "2          0.003264      1.554230e+09             0.006552             64   \n",
       "3          0.003296      1.554230e+09             0.009848             64   \n",
       "4          0.003273      1.554230e+09             0.013121             64   \n",
       "\n",
       "   frame_len  frame_number          ipv6_src  ipv6_dst  ipv6_plen  \\\n",
       "0         64             1  fe80::c30c:0:0:5  ff02::1a          6   \n",
       "1         64             2  fe80::c30c:0:0:5  ff02::1a          6   \n",
       "2         64             3  fe80::c30c:0:0:5  ff02::1a          6   \n",
       "3         64             4  fe80::c30c:0:0:5  ff02::1a          6   \n",
       "4         64             5  fe80::c30c:0:0:5  ff02::1a          6   \n",
       "\n",
       "   sixlowpan_pattern  wpan_ack_request  wpan_dst_addr_mode  wpan_fcf  \\\n",
       "0                 65                 0                   2     55361   \n",
       "1                 65                 0                   2     55361   \n",
       "2                 65                 0                   2     55361   \n",
       "3                 65                 0                   2     55361   \n",
       "4                 65                 0                   2     55361   \n",
       "\n",
       "   wpan_fcs  wpan_frame_length  wpan_pending  wpan_seq_no  icmpv6_checksum  \\\n",
       "0     13355                 64             0           38            41999   \n",
       "1     13355                 64             0           38            41999   \n",
       "2     13355                 64             0           38            41999   \n",
       "3     13355                 64             0           38            41999   \n",
       "4     13355                 64             0           38            41999   \n",
       "\n",
       "   icmpv6_code  class  \n",
       "0            0      0  \n",
       "1            0      0  \n",
       "2            0      0  \n",
       "3            0      0  \n",
       "4            0      0  "
      ]
     },
     "execution_count": 20,
     "metadata": {},
     "output_type": "execute_result"
    }
   ],
   "source": [
    "df.head()"
   ]
  },
  {
   "cell_type": "markdown",
   "metadata": {},
   "source": [
    "### 4. Dataset Pre-processing "
   ]
  },
  {
   "cell_type": "markdown",
   "metadata": {},
   "source": [
    "#### 4.1 Finding out features data type "
   ]
  },
  {
   "cell_type": "code",
   "execution_count": 21,
   "metadata": {},
   "outputs": [
    {
     "data": {
      "text/plain": [
       "Index(['frame_time_delta', 'frame_time_epoch', 'frame_time_relative',\n",
       "       'frame_cap_len', 'frame_len', 'frame_number', 'ipv6_src', 'ipv6_dst',\n",
       "       'ipv6_plen', 'sixlowpan_pattern', 'wpan_ack_request',\n",
       "       'wpan_dst_addr_mode', 'wpan_fcf', 'wpan_fcs', 'wpan_frame_length',\n",
       "       'wpan_pending', 'wpan_seq_no', 'icmpv6_checksum', 'icmpv6_code',\n",
       "       'class'],\n",
       "      dtype='object')"
      ]
     },
     "execution_count": 21,
     "metadata": {},
     "output_type": "execute_result"
    }
   ],
   "source": [
    "df.columns"
   ]
  },
  {
   "cell_type": "code",
   "execution_count": 22,
   "metadata": {},
   "outputs": [
    {
     "data": {
      "text/plain": [
       "float64     3\n",
       "int64      15\n",
       "object      2\n",
       "dtype: int64"
      ]
     },
     "execution_count": 22,
     "metadata": {},
     "output_type": "execute_result"
    }
   ],
   "source": [
    "df.get_dtype_counts()"
   ]
  },
  {
   "cell_type": "code",
   "execution_count": 23,
   "metadata": {},
   "outputs": [
    {
     "data": {
      "text/plain": [
       "Index(['ipv6_src', 'ipv6_dst'], dtype='object')"
      ]
     },
     "execution_count": 23,
     "metadata": {},
     "output_type": "execute_result"
    }
   ],
   "source": [
    "df.select_dtypes('object').columns"
   ]
  },
  {
   "cell_type": "markdown",
   "metadata": {},
   "source": [
    "> It is necessary to encode the object dtype features into numerical, using Label Encoding. Also it is indispensable to encode any others categorical features such as icmpv6.type, icmpv6.code , 6lowpan.pattern, wpan.dst_addr_mode using one-hot (1-to-n) encoding."
   ]
  },
  {
   "cell_type": "markdown",
   "metadata": {},
   "source": [
    "#### 4.2 Explaining the data"
   ]
  },
  {
   "cell_type": "code",
   "execution_count": 25,
   "metadata": {},
   "outputs": [
    {
     "name": "stdout",
     "output_type": "stream",
     "text": [
      "Normal [0]: 252288\n",
      "Malicious [1]: 97712\n",
      "Proportion: 2.582 : 1\n"
     ]
    },
    {
     "data": {
      "image/png": "[encoded data removed]",
      "text/plain": [
       "<Figure size 432x288 with 1 Axes>"
      ]
     },
     "metadata": {
      "needs_background": "light"
     },
     "output_type": "display_data"
    }
   ],
   "source": [
    "#if you don't have an intuitive sense of how imbalanced these two classes are, let's go visual\n",
    "count_classes = pd.value_counts(df['class'], sort = True)\n",
    "print('Normal [0]:', count_classes[0])\n",
    "print('Malicious [1]:', count_classes[1])\n",
    "print('Proportion:', round(count_classes[0] / count_classes[1], 3), ': 1')\n",
    "\n",
    "count_classes.plot(kind = 'bar', rot=0)\n",
    "plt.xticks(range(2), ['Normal [0]','Malicious [1]'])\n",
    "plt.title(\"Frequency by observation number\")\n",
    "plt.xlabel(\"Class\")\n",
    "plt.ylabel(\"Number of Observations\");"
   ]
  },
  {
   "cell_type": "markdown",
   "metadata": {},
   "source": [
    "##### 4.2.1 Dataset Balancing by ROS"
   ]
  },
  {
   "cell_type": "code",
   "execution_count": 24,
   "metadata": {},
   "outputs": [],
   "source": [
    "X = df.iloc[:, 0:19] \n",
    "y = df.iloc[:, 19]"
   ]
  },
  {
   "cell_type": "code",
   "execution_count": 25,
   "metadata": {},
   "outputs": [
    {
     "name": "stdout",
     "output_type": "stream",
     "text": [
      "836908 new random picked points\n",
      "Class 0: 1343101\n",
      "Class 1: 1343101\n",
      "Proportion: 1.0 : 1\n"
     ]
    },
    {
     "data": {
      "image/png": "[encoded data removed]",
      "text/plain": [
       "<Figure size 432x288 with 1 Axes>"
      ]
     },
     "metadata": {
      "needs_background": "light"
     },
     "output_type": "display_data"
    }
   ],
   "source": [
    "from imblearn.over_sampling import RandomOverSampler\n",
    "\n",
    "ros = RandomOverSampler()\n",
    "X_ros, y_ros = ros.fit_sample(X, y)\n",
    "\n",
    "print(X_ros.shape[0] - X.shape[0], 'new random picked points')\n",
    "\n",
    "count_classes_ros = pd.value_counts(y_ros, sort = True)\n",
    "print('Class 0:', count_classes_ros[0])\n",
    "print('Class 1:', count_classes_ros[1])\n",
    "print('Proportion:', round(count_classes_ros[0] / count_classes_ros[1], 2), ': 1')\n",
    "\n",
    "count_classes_ros.plot(kind = 'bar', rot=0)\n",
    "plt.xticks(range(2), ['Normal [0]','Malicious [1]'])\n",
    "plt.title(\"Frequency by observation number with ROS (Random over Sampler)\")\n",
    "plt.xlabel(\"Class\")\n",
    "plt.ylabel(\"Number of Observations\");"
   ]
  },
  {
   "cell_type": "code",
   "execution_count": 26,
   "metadata": {},
   "outputs": [],
   "source": [
    "columns_csv_ros = df.columns.tolist()[:-1]\n",
    "# columns_csv_ros"
   ]
  },
  {
   "cell_type": "code",
   "execution_count": 27,
   "metadata": {},
   "outputs": [
    {
     "name": "stdout",
     "output_type": "stream",
     "text": [
      "(2686202, 1)\n",
      "(2686202, 19)\n"
     ]
    }
   ],
   "source": [
    "df_y_ros = pd.DataFrame(y_ros, columns=['class'])\n",
    "print(df_y_ros.shape)\n",
    "\n",
    "df_x_ros = pd.DataFrame(X_ros, columns=columns_csv_ros)\n",
    "print(df_x_ros.shape)"
   ]
  },
  {
   "cell_type": "code",
   "execution_count": 28,
   "metadata": {},
   "outputs": [
    {
     "name": "stdout",
     "output_type": "stream",
     "text": [
      "(2686202, 20)\n"
     ]
    }
   ],
   "source": [
    "df_ros = pd.concat([df_x_ros, df_y_ros], axis=1, ignore_index=False)\n",
    "print(df_ros.shape)"
   ]
  },
  {
   "cell_type": "code",
   "execution_count": 29,
   "metadata": {},
   "outputs": [],
   "source": [
    "df = df_ros"
   ]
  },
  {
   "cell_type": "code",
   "execution_count": 30,
   "metadata": {},
   "outputs": [
    {
     "data": {
      "text/html": [
       "<div>\n",
       "<style scoped>\n",
       "    .dataframe tbody tr th:only-of-type {\n",
       "        vertical-align: middle;\n",
       "    }\n",
       "\n",
       "    .dataframe tbody tr th {\n",
       "        vertical-align: top;\n",
       "    }\n",
       "\n",
       "    .dataframe thead th {\n",
       "        text-align: right;\n",
       "    }\n",
       "</style>\n",
       "<table border=\"1\" class=\"dataframe\">\n",
       "  <thead>\n",
       "    <tr style=\"text-align: right;\">\n",
       "      <th></th>\n",
       "      <th>frame_time_delta</th>\n",
       "      <th>frame_time_epoch</th>\n",
       "      <th>frame_time_relative</th>\n",
       "      <th>frame_cap_len</th>\n",
       "      <th>frame_len</th>\n",
       "      <th>frame_number</th>\n",
       "      <th>ipv6_src</th>\n",
       "      <th>ipv6_dst</th>\n",
       "      <th>ipv6_plen</th>\n",
       "      <th>sixlowpan_pattern</th>\n",
       "      <th>wpan_ack_request</th>\n",
       "      <th>wpan_dst_addr_mode</th>\n",
       "      <th>wpan_fcf</th>\n",
       "      <th>wpan_fcs</th>\n",
       "      <th>wpan_frame_length</th>\n",
       "      <th>wpan_pending</th>\n",
       "      <th>wpan_seq_no</th>\n",
       "      <th>icmpv6_checksum</th>\n",
       "      <th>icmpv6_code</th>\n",
       "      <th>class</th>\n",
       "    </tr>\n",
       "  </thead>\n",
       "  <tbody>\n",
       "    <tr>\n",
       "      <th>0</th>\n",
       "      <td>0</td>\n",
       "      <td>1.55423e+09</td>\n",
       "      <td>0</td>\n",
       "      <td>64</td>\n",
       "      <td>64</td>\n",
       "      <td>1</td>\n",
       "      <td>fe80::c30c:0:0:5</td>\n",
       "      <td>ff02::1a</td>\n",
       "      <td>6</td>\n",
       "      <td>65</td>\n",
       "      <td>0</td>\n",
       "      <td>2</td>\n",
       "      <td>55361</td>\n",
       "      <td>13355</td>\n",
       "      <td>64</td>\n",
       "      <td>0</td>\n",
       "      <td>38</td>\n",
       "      <td>41999</td>\n",
       "      <td>0</td>\n",
       "      <td>0</td>\n",
       "    </tr>\n",
       "    <tr>\n",
       "      <th>1</th>\n",
       "      <td>0.003288</td>\n",
       "      <td>1.55423e+09</td>\n",
       "      <td>0.003288</td>\n",
       "      <td>64</td>\n",
       "      <td>64</td>\n",
       "      <td>2</td>\n",
       "      <td>fe80::c30c:0:0:5</td>\n",
       "      <td>ff02::1a</td>\n",
       "      <td>6</td>\n",
       "      <td>65</td>\n",
       "      <td>0</td>\n",
       "      <td>2</td>\n",
       "      <td>55361</td>\n",
       "      <td>13355</td>\n",
       "      <td>64</td>\n",
       "      <td>0</td>\n",
       "      <td>38</td>\n",
       "      <td>41999</td>\n",
       "      <td>0</td>\n",
       "      <td>0</td>\n",
       "    </tr>\n",
       "    <tr>\n",
       "      <th>2</th>\n",
       "      <td>0.003264</td>\n",
       "      <td>1.55423e+09</td>\n",
       "      <td>0.006552</td>\n",
       "      <td>64</td>\n",
       "      <td>64</td>\n",
       "      <td>3</td>\n",
       "      <td>fe80::c30c:0:0:5</td>\n",
       "      <td>ff02::1a</td>\n",
       "      <td>6</td>\n",
       "      <td>65</td>\n",
       "      <td>0</td>\n",
       "      <td>2</td>\n",
       "      <td>55361</td>\n",
       "      <td>13355</td>\n",
       "      <td>64</td>\n",
       "      <td>0</td>\n",
       "      <td>38</td>\n",
       "      <td>41999</td>\n",
       "      <td>0</td>\n",
       "      <td>0</td>\n",
       "    </tr>\n",
       "    <tr>\n",
       "      <th>3</th>\n",
       "      <td>0.003296</td>\n",
       "      <td>1.55423e+09</td>\n",
       "      <td>0.009848</td>\n",
       "      <td>64</td>\n",
       "      <td>64</td>\n",
       "      <td>4</td>\n",
       "      <td>fe80::c30c:0:0:5</td>\n",
       "      <td>ff02::1a</td>\n",
       "      <td>6</td>\n",
       "      <td>65</td>\n",
       "      <td>0</td>\n",
       "      <td>2</td>\n",
       "      <td>55361</td>\n",
       "      <td>13355</td>\n",
       "      <td>64</td>\n",
       "      <td>0</td>\n",
       "      <td>38</td>\n",
       "      <td>41999</td>\n",
       "      <td>0</td>\n",
       "      <td>0</td>\n",
       "    </tr>\n",
       "    <tr>\n",
       "      <th>4</th>\n",
       "      <td>0.003273</td>\n",
       "      <td>1.55423e+09</td>\n",
       "      <td>0.013121</td>\n",
       "      <td>64</td>\n",
       "      <td>64</td>\n",
       "      <td>5</td>\n",
       "      <td>fe80::c30c:0:0:5</td>\n",
       "      <td>ff02::1a</td>\n",
       "      <td>6</td>\n",
       "      <td>65</td>\n",
       "      <td>0</td>\n",
       "      <td>2</td>\n",
       "      <td>55361</td>\n",
       "      <td>13355</td>\n",
       "      <td>64</td>\n",
       "      <td>0</td>\n",
       "      <td>38</td>\n",
       "      <td>41999</td>\n",
       "      <td>0</td>\n",
       "      <td>0</td>\n",
       "    </tr>\n",
       "  </tbody>\n",
       "</table>\n",
       "</div>"
      ],
      "text/plain": [
       "  frame_time_delta frame_time_epoch frame_time_relative frame_cap_len  \\\n",
       "0                0      1.55423e+09                   0            64   \n",
       "1         0.003288      1.55423e+09            0.003288            64   \n",
       "2         0.003264      1.55423e+09            0.006552            64   \n",
       "3         0.003296      1.55423e+09            0.009848            64   \n",
       "4         0.003273      1.55423e+09            0.013121            64   \n",
       "\n",
       "  frame_len frame_number          ipv6_src  ipv6_dst ipv6_plen  \\\n",
       "0        64            1  fe80::c30c:0:0:5  ff02::1a         6   \n",
       "1        64            2  fe80::c30c:0:0:5  ff02::1a         6   \n",
       "2        64            3  fe80::c30c:0:0:5  ff02::1a         6   \n",
       "3        64            4  fe80::c30c:0:0:5  ff02::1a         6   \n",
       "4        64            5  fe80::c30c:0:0:5  ff02::1a         6   \n",
       "\n",
       "  sixlowpan_pattern wpan_ack_request wpan_dst_addr_mode wpan_fcf wpan_fcs  \\\n",
       "0                65                0                  2    55361    13355   \n",
       "1                65                0                  2    55361    13355   \n",
       "2                65                0                  2    55361    13355   \n",
       "3                65                0                  2    55361    13355   \n",
       "4                65                0                  2    55361    13355   \n",
       "\n",
       "  wpan_frame_length wpan_pending wpan_seq_no icmpv6_checksum icmpv6_code  \\\n",
       "0                64            0          38           41999           0   \n",
       "1                64            0          38           41999           0   \n",
       "2                64            0          38           41999           0   \n",
       "3                64            0          38           41999           0   \n",
       "4                64            0          38           41999           0   \n",
       "\n",
       "   class  \n",
       "0      0  \n",
       "1      0  \n",
       "2      0  \n",
       "3      0  \n",
       "4      0  "
      ]
     },
     "execution_count": 30,
     "metadata": {},
     "output_type": "execute_result"
    }
   ],
   "source": [
    "df.head()"
   ]
  },
  {
   "cell_type": "markdown",
   "metadata": {},
   "source": [
    "#### 4.2 Label encoding for columns 'ipv6_src', 'ipv6_dst'"
   ]
  },
  {
   "cell_type": "code",
   "execution_count": 31,
   "metadata": {},
   "outputs": [],
   "source": [
    "le = LabelEncoder()\n",
    "df.iloc[:,6] = le.fit_transform(df.iloc[:,6])\n",
    "df.iloc[:,7] = le.fit_transform(df.iloc[:,7])"
   ]
  },
  {
   "cell_type": "code",
   "execution_count": 32,
   "metadata": {},
   "outputs": [
    {
     "name": "stdout",
     "output_type": "stream",
     "text": [
      "Unique values for ipv6_src feature [ 8  5  1  3  9 16 12  2  0 13 18 17 10  7  6  4 11 15 14]\n",
      "Unique values for ipv6_dst feature [19  0 18 17  6  2  7 16 15 10 14  3 13  4 11  8  5  9  1 12]\n"
     ]
    }
   ],
   "source": [
    "print(\"Unique values for ipv6_src feature\",df.iloc[:,6].unique())\n",
    "print(\"Unique values for ipv6_dst feature\",df.iloc[:,7].unique())"
   ]
  },
  {
   "cell_type": "markdown",
   "metadata": {},
   "source": [
    "> As it is showed, the former object values are now numerical "
   ]
  },
  {
   "cell_type": "markdown",
   "metadata": {},
   "source": [
    "#### 4.3 Normalization of frame_time_epoch"
   ]
  },
  {
   "cell_type": "code",
   "execution_count": 33,
   "metadata": {},
   "outputs": [],
   "source": [
    "df['frame_time_epoch'] = df['frame_time_epoch'].astype(float)"
   ]
  },
  {
   "cell_type": "code",
   "execution_count": 34,
   "metadata": {},
   "outputs": [],
   "source": [
    "# df['frame_time_epoch'] = df['frame_time_epoch'] - df.frame_time_epoch.min()"
   ]
  },
  {
   "cell_type": "code",
   "execution_count": 35,
   "metadata": {},
   "outputs": [
    {
     "data": {
      "text/plain": [
       "count    2.686202e+06\n",
       "mean     1.554156e+09\n",
       "std      1.304076e+05\n",
       "min      1.553718e+09\n",
       "25%      1.554158e+09\n",
       "50%      1.554228e+09\n",
       "75%      1.554235e+09\n",
       "max      1.554242e+09\n",
       "Name: frame_time_epoch, dtype: float64"
      ]
     },
     "execution_count": 35,
     "metadata": {},
     "output_type": "execute_result"
    }
   ],
   "source": [
    "df.frame_time_epoch.describe()"
   ]
  },
  {
   "cell_type": "code",
   "execution_count": 36,
   "metadata": {},
   "outputs": [],
   "source": [
    "df['frame_time_epoch'] = np.log1p(df['frame_time_epoch'])"
   ]
  },
  {
   "cell_type": "code",
   "execution_count": 37,
   "metadata": {},
   "outputs": [
    {
     "data": {
      "text/plain": [
       "count    2.686202e+06\n",
       "mean     2.116420e+01\n",
       "std      8.391532e-05\n",
       "min      2.116392e+01\n",
       "25%      2.116420e+01\n",
       "50%      2.116424e+01\n",
       "75%      2.116425e+01\n",
       "max      2.116425e+01\n",
       "Name: frame_time_epoch, dtype: float64"
      ]
     },
     "execution_count": 37,
     "metadata": {},
     "output_type": "execute_result"
    }
   ],
   "source": [
    "df.frame_time_epoch.describe()"
   ]
  },
  {
   "cell_type": "code",
   "execution_count": 38,
   "metadata": {},
   "outputs": [],
   "source": [
    "# df.head()"
   ]
  },
  {
   "cell_type": "markdown",
   "metadata": {},
   "source": [
    "#### 4.4 One hot encoding of categorical features using ColumnTransformer and min-max normalization"
   ]
  },
  {
   "cell_type": "code",
   "execution_count": 39,
   "metadata": {},
   "outputs": [],
   "source": [
    "onehot_col = ['ipv6_dst', 'ipv6_src', 'icmpv6_code', 'wpan_dst_addr_mode', 'wpan_fcf', 'sixlowpan_pattern']\n",
    "#onehot_col"
   ]
  },
  {
   "cell_type": "code",
   "execution_count": 40,
   "metadata": {},
   "outputs": [],
   "source": [
    "#log_col = df.select_dtypes('float').columns.tolist()\n",
    "#log_col = ['frame_time_delta', 'frame_time_epoch', 'frame_time_relative']\n",
    "#log_col = []"
   ]
  },
  {
   "cell_type": "code",
   "execution_count": 41,
   "metadata": {},
   "outputs": [],
   "source": [
    "int_col = ['frame_time_delta', 'frame_time_epoch', 'frame_time_relative', 'frame_cap_len', 'frame_len', 'frame_number', 'wpan_fcs', 'wpan_frame_length', 'wpan_seq_no', 'ipv6_plen', 'icmpv6_checksum']\n",
    "#int_col"
   ]
  },
  {
   "cell_type": "code",
   "execution_count": 42,
   "metadata": {},
   "outputs": [],
   "source": [
    "#minmax_col = log_col+ int_col + onehot_col \n",
    "minmax_col = int_col + onehot_col \n",
    "#minmax_col\n"
   ]
  },
  {
   "cell_type": "code",
   "execution_count": 43,
   "metadata": {},
   "outputs": [],
   "source": [
    "# transformer = FunctionTransformer(np.log1p)"
   ]
  },
  {
   "cell_type": "code",
   "execution_count": 44,
   "metadata": {},
   "outputs": [],
   "source": [
    "preprocess = make_column_transformer(\n",
    "    (StandardScaler(copy=True), minmax_col),\n",
    "    (OneHotEncoder(categories='auto', sparse=False), onehot_col)\n",
    ")"
   ]
  },
  {
   "cell_type": "code",
   "execution_count": 45,
   "metadata": {},
   "outputs": [
    {
     "data": {
      "text/plain": [
       "(2686202, 20)"
      ]
     },
     "execution_count": 45,
     "metadata": {},
     "output_type": "execute_result"
    }
   ],
   "source": [
    "df.shape"
   ]
  },
  {
   "cell_type": "code",
   "execution_count": 46,
   "metadata": {},
   "outputs": [
    {
     "data": {
      "text/plain": [
       "19"
      ]
     },
     "execution_count": 46,
     "metadata": {},
     "output_type": "execute_result"
    }
   ],
   "source": [
    "df.columns.get_loc('class')"
   ]
  },
  {
   "cell_type": "code",
   "execution_count": 47,
   "metadata": {},
   "outputs": [],
   "source": [
    "X = df.iloc[:, 0:19] \n",
    "y = df.iloc[:, 19]"
   ]
  },
  {
   "cell_type": "code",
   "execution_count": 48,
   "metadata": {},
   "outputs": [
    {
     "name": "stderr",
     "output_type": "stream",
     "text": [
      "/home/user/.local/lib/python3.6/site-packages/sklearn/preprocessing/data.py:645: DataConversionWarning: Data with input dtype int64, float64, object were all converted to float64 by StandardScaler.\n",
      "  return self.partial_fit(X, y)\n",
      "/home/user/.local/lib/python3.6/site-packages/sklearn/base.py:464: DataConversionWarning: Data with input dtype int64, float64, object were all converted to float64 by StandardScaler.\n",
      "  return self.fit(X, **fit_params).transform(X)\n"
     ]
    }
   ],
   "source": [
    "X_norm = preprocess.fit_transform(X)"
   ]
  },
  {
   "cell_type": "code",
   "execution_count": 49,
   "metadata": {},
   "outputs": [],
   "source": [
    "# for i in range(0,48):\n",
    "#     print(i, X_norm[:,i].mean())"
   ]
  },
  {
   "cell_type": "code",
   "execution_count": 50,
   "metadata": {},
   "outputs": [
    {
     "name": "stdout",
     "output_type": "stream",
     "text": [
      "Label Encoded Dataset shape: (2686202, 19)\n",
      "Normalized Dataset shape: (2686202, 66)\n"
     ]
    }
   ],
   "source": [
    "print('Label Encoded Dataset shape:', df.iloc[:, 0:19].shape)\n",
    "print('Normalized Dataset shape:', X_norm.shape)"
   ]
  },
  {
   "cell_type": "code",
   "execution_count": 51,
   "metadata": {},
   "outputs": [
    {
     "name": "stdout",
     "output_type": "stream",
     "text": [
      "Class subset shape: (2686202,)\n"
     ]
    }
   ],
   "source": [
    "print('Class subset shape:', y.shape)"
   ]
  },
  {
   "cell_type": "code",
   "execution_count": null,
   "metadata": {},
   "outputs": [],
   "source": []
  },
  {
   "cell_type": "code",
   "execution_count": 52,
   "metadata": {},
   "outputs": [
    {
     "name": "stdout",
     "output_type": "stream",
     "text": [
      "(2686202, 1)\n",
      "(2686202, 66)\n"
     ]
    }
   ],
   "source": [
    "df_y_csv = pd.DataFrame(y)\n",
    "print(df_y_csv.shape)\n",
    "\n",
    "df_x_csv = pd.DataFrame(X_norm)\n",
    "print(df_x_csv.shape)"
   ]
  },
  {
   "cell_type": "code",
   "execution_count": 53,
   "metadata": {},
   "outputs": [],
   "source": [
    "# print(df_y_csv.isna().any())\n",
    "# print(df_x_csv.isna().any())"
   ]
  },
  {
   "cell_type": "code",
   "execution_count": null,
   "metadata": {},
   "outputs": [],
   "source": []
  },
  {
   "cell_type": "code",
   "execution_count": 54,
   "metadata": {},
   "outputs": [],
   "source": [
    "df_x_csv.reset_index(drop=True, inplace=True)\n",
    "df_y_csv.reset_index(drop=True, inplace=True)"
   ]
  },
  {
   "cell_type": "code",
   "execution_count": null,
   "metadata": {},
   "outputs": [],
   "source": []
  },
  {
   "cell_type": "code",
   "execution_count": 55,
   "metadata": {},
   "outputs": [],
   "source": [
    "df_allsamples_norm = pd.concat((df_x_csv,df_y_csv), axis=1)"
   ]
  },
  {
   "cell_type": "code",
   "execution_count": 56,
   "metadata": {},
   "outputs": [
    {
     "name": "stdout",
     "output_type": "stream",
     "text": [
      "(2686202, 67)\n"
     ]
    }
   ],
   "source": [
    "print(df_allsamples_norm.shape)"
   ]
  },
  {
   "cell_type": "code",
   "execution_count": 57,
   "metadata": {},
   "outputs": [
    {
     "name": "stdout",
     "output_type": "stream",
     "text": [
      "No nans in df_allsamples_norm\n"
     ]
    }
   ],
   "source": [
    "nan_df_allsamples_norm = df_allsamples_norm.isnull().any().tolist()\n",
    "\n",
    "if True in nan_df_allsamples_norm: print('**There is nans in df_test!**\\n\\n', df_allsamples_norm.isnull().any())\n",
    "else: print(\"No nans in df_allsamples_norm\")"
   ]
  },
  {
   "cell_type": "code",
   "execution_count": 58,
   "metadata": {},
   "outputs": [],
   "source": [
    "# "
   ]
  },
  {
   "cell_type": "code",
   "execution_count": 59,
   "metadata": {},
   "outputs": [],
   "source": [
    "df_allsamples_norm.to_csv(pathds+'SubsetAllSamples/CloneID20bal_stdscal.csv', index=False)\n",
    "#df_allsamples_norm.to_csv(pathds+'SubsetAllSamples/ReducedCloneID10bal_norm.csv', index=False)\n",
    "# df_allsamples_norm.to_csv(pathds+'SubsetAllSamples/ThirdCloneID20bal_stdscal.csv', index=False)"
   ]
  },
  {
   "cell_type": "code",
   "execution_count": 60,
   "metadata": {},
   "outputs": [
    {
     "name": "stdout",
     "output_type": "stream",
     "text": [
      "(2686202, 67)\n"
     ]
    }
   ],
   "source": [
    "print(df_allsamples_norm.shape)"
   ]
  },
  {
   "cell_type": "code",
   "execution_count": null,
   "metadata": {},
   "outputs": [],
   "source": []
  },
  {
   "cell_type": "code",
   "execution_count": 61,
   "metadata": {},
   "outputs": [],
   "source": [
    "# df_from_csv = pd.read_csv(pathds+'SubsetAllSamples/ThirdCloneID20bal_stdscal.csv')\n",
    "df_from_csv = pd.read_csv(pathds+'SubsetAllSamples/CloneID20bal_stdscal.csv')"
   ]
  },
  {
   "cell_type": "code",
   "execution_count": 62,
   "metadata": {},
   "outputs": [
    {
     "name": "stdout",
     "output_type": "stream",
     "text": [
      "No nans in df_allsamples_norm\n"
     ]
    }
   ],
   "source": [
    "nan_df_from_csv = df_from_csv.isnull().any().tolist()\n",
    "\n",
    "if True in nan_df_from_csv: print('**There is nans in df_test!**\\n\\n', df_from_csv.isnull().any())\n",
    "else: print(\"No nans in df_allsamples_norm\")"
   ]
  },
  {
   "cell_type": "code",
   "execution_count": 63,
   "metadata": {},
   "outputs": [
    {
     "name": "stdout",
     "output_type": "stream",
     "text": [
      "(2686202, 67)\n"
     ]
    }
   ],
   "source": [
    "print(df_from_csv.shape)"
   ]
  },
  {
   "cell_type": "code",
   "execution_count": 64,
   "metadata": {},
   "outputs": [
    {
     "name": "stdout",
     "output_type": "stream",
     "text": [
      "(2686202, 67)\n"
     ]
    },
    {
     "data": {
      "text/html": [
       "<div>\n",
       "<style scoped>\n",
       "    .dataframe tbody tr th:only-of-type {\n",
       "        vertical-align: middle;\n",
       "    }\n",
       "\n",
       "    .dataframe tbody tr th {\n",
       "        vertical-align: top;\n",
       "    }\n",
       "\n",
       "    .dataframe thead th {\n",
       "        text-align: right;\n",
       "    }\n",
       "</style>\n",
       "<table border=\"1\" class=\"dataframe\">\n",
       "  <thead>\n",
       "    <tr style=\"text-align: right;\">\n",
       "      <th></th>\n",
       "      <th>0</th>\n",
       "      <th>1</th>\n",
       "      <th>2</th>\n",
       "      <th>3</th>\n",
       "      <th>4</th>\n",
       "      <th>5</th>\n",
       "      <th>6</th>\n",
       "      <th>7</th>\n",
       "      <th>8</th>\n",
       "      <th>9</th>\n",
       "      <th>...</th>\n",
       "      <th>57</th>\n",
       "      <th>58</th>\n",
       "      <th>59</th>\n",
       "      <th>60</th>\n",
       "      <th>61</th>\n",
       "      <th>62</th>\n",
       "      <th>63</th>\n",
       "      <th>64</th>\n",
       "      <th>65</th>\n",
       "      <th>class</th>\n",
       "    </tr>\n",
       "  </thead>\n",
       "  <tbody>\n",
       "    <tr>\n",
       "      <th>0</th>\n",
       "      <td>-0.063959</td>\n",
       "      <td>0.568582</td>\n",
       "      <td>-0.916158</td>\n",
       "      <td>-1.742719</td>\n",
       "      <td>-1.742719</td>\n",
       "      <td>-1.553624</td>\n",
       "      <td>-1.041852</td>\n",
       "      <td>-1.742719</td>\n",
       "      <td>-0.870754</td>\n",
       "      <td>-3.507488</td>\n",
       "      <td>...</td>\n",
       "      <td>0.0</td>\n",
       "      <td>0.0</td>\n",
       "      <td>1.0</td>\n",
       "      <td>0.0</td>\n",
       "      <td>1.0</td>\n",
       "      <td>0.0</td>\n",
       "      <td>0.0</td>\n",
       "      <td>0.0</td>\n",
       "      <td>1.0</td>\n",
       "      <td>0</td>\n",
       "    </tr>\n",
       "    <tr>\n",
       "      <th>1</th>\n",
       "      <td>-0.041253</td>\n",
       "      <td>0.568582</td>\n",
       "      <td>-0.916101</td>\n",
       "      <td>-1.742719</td>\n",
       "      <td>-1.742719</td>\n",
       "      <td>-1.553492</td>\n",
       "      <td>-1.041852</td>\n",
       "      <td>-1.742719</td>\n",
       "      <td>-0.870754</td>\n",
       "      <td>-3.507488</td>\n",
       "      <td>...</td>\n",
       "      <td>0.0</td>\n",
       "      <td>0.0</td>\n",
       "      <td>1.0</td>\n",
       "      <td>0.0</td>\n",
       "      <td>1.0</td>\n",
       "      <td>0.0</td>\n",
       "      <td>0.0</td>\n",
       "      <td>0.0</td>\n",
       "      <td>1.0</td>\n",
       "      <td>0</td>\n",
       "    </tr>\n",
       "    <tr>\n",
       "      <th>2</th>\n",
       "      <td>-0.041419</td>\n",
       "      <td>0.568582</td>\n",
       "      <td>-0.916044</td>\n",
       "      <td>-1.742719</td>\n",
       "      <td>-1.742719</td>\n",
       "      <td>-1.553360</td>\n",
       "      <td>-1.041852</td>\n",
       "      <td>-1.742719</td>\n",
       "      <td>-0.870754</td>\n",
       "      <td>-3.507488</td>\n",
       "      <td>...</td>\n",
       "      <td>0.0</td>\n",
       "      <td>0.0</td>\n",
       "      <td>1.0</td>\n",
       "      <td>0.0</td>\n",
       "      <td>1.0</td>\n",
       "      <td>0.0</td>\n",
       "      <td>0.0</td>\n",
       "      <td>0.0</td>\n",
       "      <td>1.0</td>\n",
       "      <td>0</td>\n",
       "    </tr>\n",
       "    <tr>\n",
       "      <th>3</th>\n",
       "      <td>-0.041198</td>\n",
       "      <td>0.568582</td>\n",
       "      <td>-0.915987</td>\n",
       "      <td>-1.742719</td>\n",
       "      <td>-1.742719</td>\n",
       "      <td>-1.553228</td>\n",
       "      <td>-1.041852</td>\n",
       "      <td>-1.742719</td>\n",
       "      <td>-0.870754</td>\n",
       "      <td>-3.507488</td>\n",
       "      <td>...</td>\n",
       "      <td>0.0</td>\n",
       "      <td>0.0</td>\n",
       "      <td>1.0</td>\n",
       "      <td>0.0</td>\n",
       "      <td>1.0</td>\n",
       "      <td>0.0</td>\n",
       "      <td>0.0</td>\n",
       "      <td>0.0</td>\n",
       "      <td>1.0</td>\n",
       "      <td>0</td>\n",
       "    </tr>\n",
       "    <tr>\n",
       "      <th>4</th>\n",
       "      <td>-0.041357</td>\n",
       "      <td>0.568582</td>\n",
       "      <td>-0.915930</td>\n",
       "      <td>-1.742719</td>\n",
       "      <td>-1.742719</td>\n",
       "      <td>-1.553096</td>\n",
       "      <td>-1.041852</td>\n",
       "      <td>-1.742719</td>\n",
       "      <td>-0.870754</td>\n",
       "      <td>-3.507488</td>\n",
       "      <td>...</td>\n",
       "      <td>0.0</td>\n",
       "      <td>0.0</td>\n",
       "      <td>1.0</td>\n",
       "      <td>0.0</td>\n",
       "      <td>1.0</td>\n",
       "      <td>0.0</td>\n",
       "      <td>0.0</td>\n",
       "      <td>0.0</td>\n",
       "      <td>1.0</td>\n",
       "      <td>0</td>\n",
       "    </tr>\n",
       "  </tbody>\n",
       "</table>\n",
       "<p>5 rows × 67 columns</p>\n",
       "</div>"
      ],
      "text/plain": [
       "          0         1         2         3         4         5         6  \\\n",
       "0 -0.063959  0.568582 -0.916158 -1.742719 -1.742719 -1.553624 -1.041852   \n",
       "1 -0.041253  0.568582 -0.916101 -1.742719 -1.742719 -1.553492 -1.041852   \n",
       "2 -0.041419  0.568582 -0.916044 -1.742719 -1.742719 -1.553360 -1.041852   \n",
       "3 -0.041198  0.568582 -0.915987 -1.742719 -1.742719 -1.553228 -1.041852   \n",
       "4 -0.041357  0.568582 -0.915930 -1.742719 -1.742719 -1.553096 -1.041852   \n",
       "\n",
       "          7         8         9  ...   57   58   59   60   61   62   63   64  \\\n",
       "0 -1.742719 -0.870754 -3.507488  ...  0.0  0.0  1.0  0.0  1.0  0.0  0.0  0.0   \n",
       "1 -1.742719 -0.870754 -3.507488  ...  0.0  0.0  1.0  0.0  1.0  0.0  0.0  0.0   \n",
       "2 -1.742719 -0.870754 -3.507488  ...  0.0  0.0  1.0  0.0  1.0  0.0  0.0  0.0   \n",
       "3 -1.742719 -0.870754 -3.507488  ...  0.0  0.0  1.0  0.0  1.0  0.0  0.0  0.0   \n",
       "4 -1.742719 -0.870754 -3.507488  ...  0.0  0.0  1.0  0.0  1.0  0.0  0.0  0.0   \n",
       "\n",
       "    65  class  \n",
       "0  1.0      0  \n",
       "1  1.0      0  \n",
       "2  1.0      0  \n",
       "3  1.0      0  \n",
       "4  1.0      0  \n",
       "\n",
       "[5 rows x 67 columns]"
      ]
     },
     "execution_count": 64,
     "metadata": {},
     "output_type": "execute_result"
    }
   ],
   "source": [
    "print((df_from_csv.shape))\n",
    "df_from_csv.head()"
   ]
  },
  {
   "cell_type": "code",
   "execution_count": null,
   "metadata": {},
   "outputs": [],
   "source": []
  },
  {
   "cell_type": "code",
   "execution_count": 65,
   "metadata": {},
   "outputs": [
    {
     "data": {
      "text/html": [
       "<div>\n",
       "<style scoped>\n",
       "    .dataframe tbody tr th:only-of-type {\n",
       "        vertical-align: middle;\n",
       "    }\n",
       "\n",
       "    .dataframe tbody tr th {\n",
       "        vertical-align: top;\n",
       "    }\n",
       "\n",
       "    .dataframe thead th {\n",
       "        text-align: right;\n",
       "    }\n",
       "</style>\n",
       "<table border=\"1\" class=\"dataframe\">\n",
       "  <thead>\n",
       "    <tr style=\"text-align: right;\">\n",
       "      <th></th>\n",
       "      <th>0</th>\n",
       "      <th>1</th>\n",
       "      <th>2</th>\n",
       "      <th>3</th>\n",
       "      <th>4</th>\n",
       "      <th>5</th>\n",
       "      <th>6</th>\n",
       "      <th>7</th>\n",
       "      <th>8</th>\n",
       "      <th>9</th>\n",
       "      <th>...</th>\n",
       "      <th>56</th>\n",
       "      <th>57</th>\n",
       "      <th>58</th>\n",
       "      <th>59</th>\n",
       "      <th>60</th>\n",
       "      <th>61</th>\n",
       "      <th>62</th>\n",
       "      <th>63</th>\n",
       "      <th>64</th>\n",
       "      <th>65</th>\n",
       "    </tr>\n",
       "  </thead>\n",
       "  <tbody>\n",
       "    <tr>\n",
       "      <th>count</th>\n",
       "      <td>2.686202e+06</td>\n",
       "      <td>2.686202e+06</td>\n",
       "      <td>2.686202e+06</td>\n",
       "      <td>2.686202e+06</td>\n",
       "      <td>2.686202e+06</td>\n",
       "      <td>2.686202e+06</td>\n",
       "      <td>2.686202e+06</td>\n",
       "      <td>2.686202e+06</td>\n",
       "      <td>2.686202e+06</td>\n",
       "      <td>2.686202e+06</td>\n",
       "      <td>...</td>\n",
       "      <td>2.686202e+06</td>\n",
       "      <td>2.686202e+06</td>\n",
       "      <td>2.686202e+06</td>\n",
       "      <td>2.686202e+06</td>\n",
       "      <td>2.686202e+06</td>\n",
       "      <td>2.686202e+06</td>\n",
       "      <td>2.686202e+06</td>\n",
       "      <td>2.686202e+06</td>\n",
       "      <td>2.686202e+06</td>\n",
       "      <td>2.686202e+06</td>\n",
       "    </tr>\n",
       "    <tr>\n",
       "      <th>mean</th>\n",
       "      <td>2.079623e-17</td>\n",
       "      <td>6.972844e-11</td>\n",
       "      <td>-1.651425e-16</td>\n",
       "      <td>-4.499201e-16</td>\n",
       "      <td>-4.499201e-16</td>\n",
       "      <td>-1.375482e-17</td>\n",
       "      <td>5.478915e-17</td>\n",
       "      <td>-4.499201e-16</td>\n",
       "      <td>3.478911e-17</td>\n",
       "      <td>2.726840e-16</td>\n",
       "      <td>...</td>\n",
       "      <td>2.453725e-02</td>\n",
       "      <td>3.981100e-01</td>\n",
       "      <td>5.773527e-01</td>\n",
       "      <td>1.928038e-01</td>\n",
       "      <td>8.071962e-01</td>\n",
       "      <td>1.928038e-01</td>\n",
       "      <td>8.039872e-01</td>\n",
       "      <td>3.208992e-03</td>\n",
       "      <td>9.754628e-01</td>\n",
       "      <td>2.453725e-02</td>\n",
       "    </tr>\n",
       "    <tr>\n",
       "      <th>std</th>\n",
       "      <td>1.000000e+00</td>\n",
       "      <td>1.000000e+00</td>\n",
       "      <td>1.000000e+00</td>\n",
       "      <td>1.000000e+00</td>\n",
       "      <td>1.000000e+00</td>\n",
       "      <td>1.000000e+00</td>\n",
       "      <td>1.000000e+00</td>\n",
       "      <td>1.000000e+00</td>\n",
       "      <td>1.000000e+00</td>\n",
       "      <td>1.000000e+00</td>\n",
       "      <td>...</td>\n",
       "      <td>1.547100e-01</td>\n",
       "      <td>4.895085e-01</td>\n",
       "      <td>4.939804e-01</td>\n",
       "      <td>3.945004e-01</td>\n",
       "      <td>3.945004e-01</td>\n",
       "      <td>3.945004e-01</td>\n",
       "      <td>3.969784e-01</td>\n",
       "      <td>5.655701e-02</td>\n",
       "      <td>1.547100e-01</td>\n",
       "      <td>1.547100e-01</td>\n",
       "    </tr>\n",
       "    <tr>\n",
       "      <th>min</th>\n",
       "      <td>-8.535858e-02</td>\n",
       "      <td>-3.356331e+00</td>\n",
       "      <td>-9.161582e-01</td>\n",
       "      <td>-1.742719e+00</td>\n",
       "      <td>-1.742719e+00</td>\n",
       "      <td>-1.553624e+00</td>\n",
       "      <td>-1.752721e+00</td>\n",
       "      <td>-1.742719e+00</td>\n",
       "      <td>-1.386354e+00</td>\n",
       "      <td>-3.507488e+00</td>\n",
       "      <td>...</td>\n",
       "      <td>0.000000e+00</td>\n",
       "      <td>0.000000e+00</td>\n",
       "      <td>0.000000e+00</td>\n",
       "      <td>0.000000e+00</td>\n",
       "      <td>0.000000e+00</td>\n",
       "      <td>0.000000e+00</td>\n",
       "      <td>0.000000e+00</td>\n",
       "      <td>0.000000e+00</td>\n",
       "      <td>0.000000e+00</td>\n",
       "      <td>0.000000e+00</td>\n",
       "    </tr>\n",
       "    <tr>\n",
       "      <th>25%</th>\n",
       "      <td>-5.786800e-02</td>\n",
       "      <td>1.812831e-02</td>\n",
       "      <td>-6.504922e-01</td>\n",
       "      <td>-7.569755e-01</td>\n",
       "      <td>-7.569755e-01</td>\n",
       "      <td>-8.360861e-01</td>\n",
       "      <td>-8.472335e-01</td>\n",
       "      <td>-7.569755e-01</td>\n",
       "      <td>-8.300484e-01</td>\n",
       "      <td>-6.104366e-01</td>\n",
       "      <td>...</td>\n",
       "      <td>0.000000e+00</td>\n",
       "      <td>0.000000e+00</td>\n",
       "      <td>0.000000e+00</td>\n",
       "      <td>0.000000e+00</td>\n",
       "      <td>1.000000e+00</td>\n",
       "      <td>0.000000e+00</td>\n",
       "      <td>1.000000e+00</td>\n",
       "      <td>0.000000e+00</td>\n",
       "      <td>1.000000e+00</td>\n",
       "      <td>0.000000e+00</td>\n",
       "    </tr>\n",
       "    <tr>\n",
       "      <th>50%</th>\n",
       "      <td>-5.038249e-02</td>\n",
       "      <td>5.524776e-01</td>\n",
       "      <td>-3.629008e-01</td>\n",
       "      <td>-7.569755e-01</td>\n",
       "      <td>-7.569755e-01</td>\n",
       "      <td>-9.690459e-02</td>\n",
       "      <td>-3.634058e-02</td>\n",
       "      <td>-7.569755e-01</td>\n",
       "      <td>-1.516268e-01</td>\n",
       "      <td>-6.104366e-01</td>\n",
       "      <td>...</td>\n",
       "      <td>0.000000e+00</td>\n",
       "      <td>0.000000e+00</td>\n",
       "      <td>1.000000e+00</td>\n",
       "      <td>0.000000e+00</td>\n",
       "      <td>1.000000e+00</td>\n",
       "      <td>0.000000e+00</td>\n",
       "      <td>1.000000e+00</td>\n",
       "      <td>0.000000e+00</td>\n",
       "      <td>1.000000e+00</td>\n",
       "      <td>0.000000e+00</td>\n",
       "    </tr>\n",
       "    <tr>\n",
       "      <th>75%</th>\n",
       "      <td>-4.099109e-02</td>\n",
       "      <td>6.071696e-01</td>\n",
       "      <td>2.219296e-01</td>\n",
       "      <td>9.680755e-01</td>\n",
       "      <td>9.680755e-01</td>\n",
       "      <td>7.124867e-01</td>\n",
       "      <td>8.900139e-01</td>\n",
       "      <td>9.680755e-01</td>\n",
       "      <td>8.931424e-01</td>\n",
       "      <td>1.101458e+00</td>\n",
       "      <td>...</td>\n",
       "      <td>0.000000e+00</td>\n",
       "      <td>1.000000e+00</td>\n",
       "      <td>1.000000e+00</td>\n",
       "      <td>0.000000e+00</td>\n",
       "      <td>1.000000e+00</td>\n",
       "      <td>0.000000e+00</td>\n",
       "      <td>1.000000e+00</td>\n",
       "      <td>0.000000e+00</td>\n",
       "      <td>1.000000e+00</td>\n",
       "      <td>0.000000e+00</td>\n",
       "    </tr>\n",
       "    <tr>\n",
       "      <th>max</th>\n",
       "      <td>1.756986e+02</td>\n",
       "      <td>6.591543e-01</td>\n",
       "      <td>4.270968e+00</td>\n",
       "      <td>1.378802e+00</td>\n",
       "      <td>1.378802e+00</td>\n",
       "      <td>3.551757e+00</td>\n",
       "      <td>1.735508e+00</td>\n",
       "      <td>1.378802e+00</td>\n",
       "      <td>2.073596e+00</td>\n",
       "      <td>1.101458e+00</td>\n",
       "      <td>...</td>\n",
       "      <td>1.000000e+00</td>\n",
       "      <td>1.000000e+00</td>\n",
       "      <td>1.000000e+00</td>\n",
       "      <td>1.000000e+00</td>\n",
       "      <td>1.000000e+00</td>\n",
       "      <td>1.000000e+00</td>\n",
       "      <td>1.000000e+00</td>\n",
       "      <td>1.000000e+00</td>\n",
       "      <td>1.000000e+00</td>\n",
       "      <td>1.000000e+00</td>\n",
       "    </tr>\n",
       "  </tbody>\n",
       "</table>\n",
       "<p>8 rows × 66 columns</p>\n",
       "</div>"
      ],
      "text/plain": [
       "                  0             1             2             3             4  \\\n",
       "count  2.686202e+06  2.686202e+06  2.686202e+06  2.686202e+06  2.686202e+06   \n",
       "mean   2.079623e-17  6.972844e-11 -1.651425e-16 -4.499201e-16 -4.499201e-16   \n",
       "std    1.000000e+00  1.000000e+00  1.000000e+00  1.000000e+00  1.000000e+00   \n",
       "min   -8.535858e-02 -3.356331e+00 -9.161582e-01 -1.742719e+00 -1.742719e+00   \n",
       "25%   -5.786800e-02  1.812831e-02 -6.504922e-01 -7.569755e-01 -7.569755e-01   \n",
       "50%   -5.038249e-02  5.524776e-01 -3.629008e-01 -7.569755e-01 -7.569755e-01   \n",
       "75%   -4.099109e-02  6.071696e-01  2.219296e-01  9.680755e-01  9.680755e-01   \n",
       "max    1.756986e+02  6.591543e-01  4.270968e+00  1.378802e+00  1.378802e+00   \n",
       "\n",
       "                  5             6             7             8             9  \\\n",
       "count  2.686202e+06  2.686202e+06  2.686202e+06  2.686202e+06  2.686202e+06   \n",
       "mean  -1.375482e-17  5.478915e-17 -4.499201e-16  3.478911e-17  2.726840e-16   \n",
       "std    1.000000e+00  1.000000e+00  1.000000e+00  1.000000e+00  1.000000e+00   \n",
       "min   -1.553624e+00 -1.752721e+00 -1.742719e+00 -1.386354e+00 -3.507488e+00   \n",
       "25%   -8.360861e-01 -8.472335e-01 -7.569755e-01 -8.300484e-01 -6.104366e-01   \n",
       "50%   -9.690459e-02 -3.634058e-02 -7.569755e-01 -1.516268e-01 -6.104366e-01   \n",
       "75%    7.124867e-01  8.900139e-01  9.680755e-01  8.931424e-01  1.101458e+00   \n",
       "max    3.551757e+00  1.735508e+00  1.378802e+00  2.073596e+00  1.101458e+00   \n",
       "\n",
       "       ...            56            57            58            59  \\\n",
       "count  ...  2.686202e+06  2.686202e+06  2.686202e+06  2.686202e+06   \n",
       "mean   ...  2.453725e-02  3.981100e-01  5.773527e-01  1.928038e-01   \n",
       "std    ...  1.547100e-01  4.895085e-01  4.939804e-01  3.945004e-01   \n",
       "min    ...  0.000000e+00  0.000000e+00  0.000000e+00  0.000000e+00   \n",
       "25%    ...  0.000000e+00  0.000000e+00  0.000000e+00  0.000000e+00   \n",
       "50%    ...  0.000000e+00  0.000000e+00  1.000000e+00  0.000000e+00   \n",
       "75%    ...  0.000000e+00  1.000000e+00  1.000000e+00  0.000000e+00   \n",
       "max    ...  1.000000e+00  1.000000e+00  1.000000e+00  1.000000e+00   \n",
       "\n",
       "                 60            61            62            63            64  \\\n",
       "count  2.686202e+06  2.686202e+06  2.686202e+06  2.686202e+06  2.686202e+06   \n",
       "mean   8.071962e-01  1.928038e-01  8.039872e-01  3.208992e-03  9.754628e-01   \n",
       "std    3.945004e-01  3.945004e-01  3.969784e-01  5.655701e-02  1.547100e-01   \n",
       "min    0.000000e+00  0.000000e+00  0.000000e+00  0.000000e+00  0.000000e+00   \n",
       "25%    1.000000e+00  0.000000e+00  1.000000e+00  0.000000e+00  1.000000e+00   \n",
       "50%    1.000000e+00  0.000000e+00  1.000000e+00  0.000000e+00  1.000000e+00   \n",
       "75%    1.000000e+00  0.000000e+00  1.000000e+00  0.000000e+00  1.000000e+00   \n",
       "max    1.000000e+00  1.000000e+00  1.000000e+00  1.000000e+00  1.000000e+00   \n",
       "\n",
       "                 65  \n",
       "count  2.686202e+06  \n",
       "mean   2.453725e-02  \n",
       "std    1.547100e-01  \n",
       "min    0.000000e+00  \n",
       "25%    0.000000e+00  \n",
       "50%    0.000000e+00  \n",
       "75%    0.000000e+00  \n",
       "max    1.000000e+00  \n",
       "\n",
       "[8 rows x 66 columns]"
      ]
     },
     "execution_count": 65,
     "metadata": {},
     "output_type": "execute_result"
    }
   ],
   "source": [
    "X_ = df_from_csv.iloc[:, 0:66] \n",
    "X_.describe()"
   ]
  },
  {
   "cell_type": "code",
   "execution_count": 66,
   "metadata": {},
   "outputs": [],
   "source": [
    "y_ = df_from_csv.iloc[:, 66]"
   ]
  },
  {
   "cell_type": "code",
   "execution_count": 67,
   "metadata": {},
   "outputs": [
    {
     "data": {
      "text/plain": [
       "count    2686202.0\n",
       "mean           0.5\n",
       "std            0.5\n",
       "min            0.0\n",
       "25%            0.0\n",
       "50%            0.5\n",
       "75%            1.0\n",
       "max            1.0\n",
       "Name: class, dtype: float64"
      ]
     },
     "execution_count": 67,
     "metadata": {},
     "output_type": "execute_result"
    }
   ],
   "source": [
    "y_.describe()"
   ]
  },
  {
   "cell_type": "code",
   "execution_count": null,
   "metadata": {},
   "outputs": [],
   "source": []
  },
  {
   "cell_type": "code",
   "execution_count": null,
   "metadata": {},
   "outputs": [],
   "source": []
  },
  {
   "cell_type": "code",
   "execution_count": null,
   "metadata": {},
   "outputs": [],
   "source": []
  }
 ],
 "metadata": {
  "kernelspec": {
   "display_name": "Python 3",
   "language": "python",
   "name": "python3"
  },
  "language_info": {
   "codemirror_mode": {
    "name": "ipython",
    "version": 3
   },
   "file_extension": ".py",
   "mimetype": "text/x-python",
   "name": "python",
   "nbconvert_exporter": "python",
   "pygments_lexer": "ipython3",
   "version": "3.6.8"
  }
 },
 "nbformat": 4,
 "nbformat_minor": 2
}
