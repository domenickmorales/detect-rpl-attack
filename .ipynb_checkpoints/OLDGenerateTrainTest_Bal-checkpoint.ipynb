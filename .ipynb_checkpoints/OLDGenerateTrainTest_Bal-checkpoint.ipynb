{
 "cells": [
  {
   "cell_type": "markdown",
   "metadata": {},
   "source": [
    "# Dataset tidying, class balance, encoding, normalization -> regular train and test subsets"
   ]
  },
  {
   "cell_type": "markdown",
   "metadata": {},
   "source": [
    "#### 1.1 Module loading"
   ]
  },
  {
   "cell_type": "code",
   "execution_count": 1,
   "metadata": {},
   "outputs": [
    {
     "name": "stderr",
     "output_type": "stream",
     "text": [
      "Using TensorFlow backend.\n"
     ]
    }
   ],
   "source": [
    "import pandas as pd\n",
    "import matplotlib.pyplot as plt\n",
    "import imblearn\n",
    "from sklearn.preprocessing import LabelEncoder\n",
    "from sklearn.preprocessing import OneHotEncoder\n",
    "import keras.utils "
   ]
  },
  {
   "cell_type": "markdown",
   "metadata": {},
   "source": [
    "#### 1.2 Dataset loading"
   ]
  },
  {
   "cell_type": "code",
   "execution_count": 2,
   "metadata": {},
   "outputs": [],
   "source": [
    "pathds = '/home/user/01Code/00Datasets_final/'"
   ]
  },
  {
   "cell_type": "code",
   "execution_count": 3,
   "metadata": {},
   "outputs": [],
   "source": [
    "columns_csv = \"frame_time_delta,frame_len,icmpv6_type,ipv6_src,ipv6_dst,icmpv6_code,sixlowpan_pattern,wpan_ack_request,wpan_dst_addr_mode,wpan_seq_no,class\".split(\",\")\n",
    "df = pd.read_csv(pathds+\"sybil_10n_with-malicious_labelled.csv\" , names = columns_csv, skiprows=1)\n",
    "#df = pd.read_csv(\"../00Datasets_final/sybil_10n_with-malicious_labelled.csv\")"
   ]
  },
  {
   "cell_type": "code",
   "execution_count": 4,
   "metadata": {},
   "outputs": [
    {
     "data": {
      "text/plain": [
       "(932581, 11)"
      ]
     },
     "execution_count": 4,
     "metadata": {},
     "output_type": "execute_result"
    }
   ],
   "source": [
    "#df2 = pd.read_csv(pathds+\"sybil_10n_without-malicious_labelled.csv\" , names = columns_csv, skiprows=1)\n",
    "#df3 = pd.concat([df, df2], ignore_index=True)\n",
    "#df = df3\n",
    "df.shape"
   ]
  },
  {
   "cell_type": "markdown",
   "metadata": {},
   "source": [
    "> I fixed the *names = columns_csv* for more fexibility"
   ]
  },
  {
   "cell_type": "markdown",
   "metadata": {},
   "source": [
    "### 2. Dropping of nan values in rows and columns"
   ]
  },
  {
   "cell_type": "markdown",
   "metadata": {},
   "source": [
    "#### 2.1 Finding if there is any column or row with nan values"
   ]
  },
  {
   "cell_type": "code",
   "execution_count": 5,
   "metadata": {},
   "outputs": [
    {
     "data": {
      "text/plain": [
       "frame_time_delta      False\n",
       "frame_len             False\n",
       "icmpv6_type            True\n",
       "ipv6_src               True\n",
       "ipv6_dst               True\n",
       "icmpv6_code            True\n",
       "sixlowpan_pattern      True\n",
       "wpan_ack_request      False\n",
       "wpan_dst_addr_mode    False\n",
       "wpan_seq_no           False\n",
       "class                 False\n",
       "dtype: bool"
      ]
     },
     "execution_count": 5,
     "metadata": {},
     "output_type": "execute_result"
    }
   ],
   "source": [
    "df.isnull().any()"
   ]
  },
  {
   "cell_type": "markdown",
   "metadata": {},
   "source": [
    "> As it is True in some columns (features) It was required to remove this samples"
   ]
  },
  {
   "cell_type": "markdown",
   "metadata": {},
   "source": [
    "#### 2.2 Removing any nan value in any row or column"
   ]
  },
  {
   "cell_type": "code",
   "execution_count": 6,
   "metadata": {},
   "outputs": [],
   "source": [
    "df_nonan_row = df.dropna(axis=0, how='any') #dropping rows whose any value is nan \n",
    "df_nonan_rowcol = df_nonan_row.dropna(axis=1, how='any') #dropping columns whose any value is nan \n",
    "df = df_nonan_rowcol # dataset without nan values"
   ]
  },
  {
   "cell_type": "code",
   "execution_count": 7,
   "metadata": {},
   "outputs": [
    {
     "data": {
      "text/plain": [
       "frame_time_delta      False\n",
       "frame_len             False\n",
       "icmpv6_type           False\n",
       "ipv6_src              False\n",
       "ipv6_dst              False\n",
       "icmpv6_code           False\n",
       "sixlowpan_pattern     False\n",
       "wpan_ack_request      False\n",
       "wpan_dst_addr_mode    False\n",
       "wpan_seq_no           False\n",
       "class                 False\n",
       "dtype: bool"
      ]
     },
     "execution_count": 7,
     "metadata": {},
     "output_type": "execute_result"
    }
   ],
   "source": [
    "df.isnull().any()"
   ]
  },
  {
   "cell_type": "code",
   "execution_count": 8,
   "metadata": {},
   "outputs": [
    {
     "data": {
      "text/plain": [
       "frame_time_delta      0\n",
       "frame_len             0\n",
       "icmpv6_type           0\n",
       "ipv6_src              0\n",
       "ipv6_dst              0\n",
       "icmpv6_code           0\n",
       "sixlowpan_pattern     0\n",
       "wpan_ack_request      0\n",
       "wpan_dst_addr_mode    0\n",
       "wpan_seq_no           0\n",
       "class                 0\n",
       "dtype: int64"
      ]
     },
     "execution_count": 8,
     "metadata": {},
     "output_type": "execute_result"
    }
   ],
   "source": [
    "df.isna().sum()"
   ]
  },
  {
   "cell_type": "code",
   "execution_count": 9,
   "metadata": {},
   "outputs": [
    {
     "data": {
      "text/plain": [
       "(919886, 11)"
      ]
     },
     "execution_count": 9,
     "metadata": {},
     "output_type": "execute_result"
    }
   ],
   "source": [
    "df.shape"
   ]
  },
  {
   "cell_type": "markdown",
   "metadata": {},
   "source": [
    "> As is expected the dataset is now ready to the next step"
   ]
  },
  {
   "cell_type": "markdown",
   "metadata": {},
   "source": [
    "### 3. Special care of hex values in string format"
   ]
  },
  {
   "cell_type": "markdown",
   "metadata": {},
   "source": [
    "#### 3.1 Conversion of sring values into int"
   ]
  },
  {
   "cell_type": "code",
   "execution_count": 10,
   "metadata": {},
   "outputs": [],
   "source": [
    "df['sixlowpan_pattern'] = df.sixlowpan_pattern.apply(int, base=16)\n",
    "df['wpan_dst_addr_mode'] = df.wpan_dst_addr_mode.apply(int, base=16)"
   ]
  },
  {
   "cell_type": "markdown",
   "metadata": {},
   "source": [
    "> Two features exhibited values in unsigned byte type (string hex values), therefore it was necessary to convert them into int values"
   ]
  },
  {
   "cell_type": "markdown",
   "metadata": {},
   "source": [
    "### 4. Dataset Pre-processing "
   ]
  },
  {
   "cell_type": "markdown",
   "metadata": {},
   "source": [
    "#### 4.1 Finding out features data type "
   ]
  },
  {
   "cell_type": "code",
   "execution_count": 11,
   "metadata": {},
   "outputs": [
    {
     "data": {
      "text/plain": [
       "Index(['frame_time_delta', 'frame_len', 'icmpv6_type', 'ipv6_src', 'ipv6_dst',\n",
       "       'icmpv6_code', 'sixlowpan_pattern', 'wpan_ack_request',\n",
       "       'wpan_dst_addr_mode', 'wpan_seq_no', 'class'],\n",
       "      dtype='object')"
      ]
     },
     "execution_count": 11,
     "metadata": {},
     "output_type": "execute_result"
    }
   ],
   "source": [
    "df.columns"
   ]
  },
  {
   "cell_type": "code",
   "execution_count": 12,
   "metadata": {},
   "outputs": [
    {
     "data": {
      "text/plain": [
       "float64    3\n",
       "int64      6\n",
       "object     2\n",
       "dtype: int64"
      ]
     },
     "execution_count": 12,
     "metadata": {},
     "output_type": "execute_result"
    }
   ],
   "source": [
    "df.get_dtype_counts()"
   ]
  },
  {
   "cell_type": "code",
   "execution_count": 13,
   "metadata": {},
   "outputs": [
    {
     "data": {
      "text/plain": [
       "Index(['ipv6_src', 'ipv6_dst'], dtype='object')"
      ]
     },
     "execution_count": 13,
     "metadata": {},
     "output_type": "execute_result"
    }
   ],
   "source": [
    "df.select_dtypes('object').columns"
   ]
  },
  {
   "cell_type": "markdown",
   "metadata": {},
   "source": [
    "> It is necessary to encode the object dtype features into numerical, using Label Encoding. Also it is indispensable to encode any others categorical features such as icmpv6.type, icmpv6.code , 6lowpan.pattern, wpan.dst_addr_mode using one-hot (1-to-n) encoding."
   ]
  },
  {
   "cell_type": "markdown",
   "metadata": {},
   "source": [
    "#### 4.2 Explaining the data"
   ]
  },
  {
   "cell_type": "code",
   "execution_count": 14,
   "metadata": {},
   "outputs": [
    {
     "name": "stdout",
     "output_type": "stream",
     "text": [
      "Class 0: 684242\n",
      "Class 1: 235644\n",
      "Proportion: 2.904 : 1\n"
     ]
    },
    {
     "data": {
      "image/png": "[encoded data removed]",
      "text/plain": [
       "<Figure size 432x288 with 1 Axes>"
      ]
     },
     "metadata": {
      "needs_background": "light"
     },
     "output_type": "display_data"
    }
   ],
   "source": [
    "#if you don't have an intuitive sense of how imbalanced these two classes are, let's go visual\n",
    "count_classes = pd.value_counts(df['class'], sort = True)\n",
    "print('Class 0:', count_classes[0])\n",
    "print('Class 1:', count_classes[1])\n",
    "print('Proportion:', round(count_classes[0] / count_classes[1], 3), ': 1')\n",
    "\n",
    "count_classes.plot(kind = 'bar', rot=0)\n",
    "plt.xticks(range(2), ['Normal [0]','Malicious [1]'])\n",
    "plt.title(\"Frequency by observation number\")\n",
    "plt.xlabel(\"Class\")\n",
    "plt.ylabel(\"Number of Observations\");"
   ]
  },
  {
   "cell_type": "code",
   "execution_count": null,
   "metadata": {},
   "outputs": [],
   "source": []
  },
  {
   "cell_type": "code",
   "execution_count": 15,
   "metadata": {},
   "outputs": [],
   "source": [
    "X = df.iloc[:, 0:10] \n",
    "y = df.iloc[:, 10]"
   ]
  },
  {
   "cell_type": "code",
   "execution_count": 16,
   "metadata": {},
   "outputs": [
    {
     "name": "stdout",
     "output_type": "stream",
     "text": [
      "448598 new random picked points\n",
      "Class 0: 684242\n",
      "Class 1: 684242\n",
      "Proportion: 1.0 : 1\n"
     ]
    },
    {
     "data": {
      "image/png": "[encoded data removed]",
      "text/plain": [
       "<Figure size 432x288 with 1 Axes>"
      ]
     },
     "metadata": {
      "needs_background": "light"
     },
     "output_type": "display_data"
    }
   ],
   "source": [
    "from imblearn.over_sampling import RandomOverSampler\n",
    "\n",
    "ros = RandomOverSampler()\n",
    "X_ros, y_ros = ros.fit_sample(X, y)\n",
    "\n",
    "print(X_ros.shape[0] - X.shape[0], 'new random picked points')\n",
    "\n",
    "count_classes_ros = pd.value_counts(y_ros, sort = True)\n",
    "print('Class 0:', count_classes_ros[0])\n",
    "print('Class 1:', count_classes_ros[1])\n",
    "print('Proportion:', round(count_classes_ros[0] / count_classes_ros[1], 2), ': 1')\n",
    "\n",
    "count_classes_ros.plot(kind = 'bar', rot=0)\n",
    "plt.xticks(range(2), ['Normal [0]','Malicious [1]'])\n",
    "plt.title(\"Frequency by observation number with ROS (Random over Sampler)\")\n",
    "plt.xlabel(\"Class\")\n",
    "plt.ylabel(\"Number of Observations\");"
   ]
  },
  {
   "cell_type": "code",
   "execution_count": 17,
   "metadata": {},
   "outputs": [
    {
     "name": "stdout",
     "output_type": "stream",
     "text": [
      "(1368484, 1)\n",
      "(1368484, 10)\n"
     ]
    }
   ],
   "source": [
    "columns_csv_ros = \"frame_time_delta,frame_len,icmpv6_type,ipv6_src,ipv6_dst,icmpv6_code,sixlowpan_pattern,wpan_ack_request,wpan_dst_addr_mode,wpan_seq_no\".split(\",\")\n",
    "\n",
    "df_y_ros = pd.DataFrame(y_ros, columns=['class'])\n",
    "print(df_y_ros.shape)\n",
    "\n",
    "df_x_ros = pd.DataFrame(X_ros, columns=columns_csv_ros)\n",
    "print(df_x_ros.shape)"
   ]
  },
  {
   "cell_type": "code",
   "execution_count": 18,
   "metadata": {},
   "outputs": [
    {
     "name": "stdout",
     "output_type": "stream",
     "text": [
      "(1368484, 11)\n"
     ]
    }
   ],
   "source": [
    "df_ros = pd.concat([df_x_ros, df_y_ros], axis=1, ignore_index=False)\n",
    "print(df_ros.shape)"
   ]
  },
  {
   "cell_type": "code",
   "execution_count": 19,
   "metadata": {},
   "outputs": [],
   "source": [
    "df = df_ros"
   ]
  },
  {
   "cell_type": "markdown",
   "metadata": {},
   "source": [
    "#### 4.2 Label encoding for columns 'ipv6_src', 'ipv6_dst'"
   ]
  },
  {
   "cell_type": "code",
   "execution_count": null,
   "metadata": {},
   "outputs": [],
   "source": []
  },
  {
   "cell_type": "code",
   "execution_count": 20,
   "metadata": {},
   "outputs": [],
   "source": [
    "#Integer encode\n",
    "#Transform object values to int 'ipv6_src', 'ipv6_dst'\n",
    "### df.iloc[:, 3].head() #ipv6_src\n",
    "### df.iloc[:, 4].head() #ipv6_dst\n",
    "le = LabelEncoder()\n",
    "df.iloc[:, 3] = le.fit_transform(df.iloc[:, 3])\n",
    "df.iloc[:, 4] = le.fit_transform(df.iloc[:, 4])"
   ]
  },
  {
   "cell_type": "code",
   "execution_count": 21,
   "metadata": {},
   "outputs": [
    {
     "name": "stdout",
     "output_type": "stream",
     "text": [
      "Unique values for ipv6_src feature [2 9 5 6 1 0 8 3 7 4]\n",
      "Unique values for ipv6_dst feature [10  2  0  6  8  5  1  3  4  9  7]\n"
     ]
    }
   ],
   "source": [
    "print(\"Unique values for ipv6_src feature\",df.iloc[:, 3].unique())\n",
    "print(\"Unique values for ipv6_dst feature\",df.iloc[:, 4].unique())"
   ]
  },
  {
   "cell_type": "markdown",
   "metadata": {},
   "source": [
    "> As it is showed, the former object values are now numerical "
   ]
  },
  {
   "cell_type": "markdown",
   "metadata": {},
   "source": [
    "#### 4.3 One hot encoding of categorical features using ColumnTransformer and min-max normalization"
   ]
  },
  {
   "cell_type": "code",
   "execution_count": 22,
   "metadata": {},
   "outputs": [],
   "source": [
    "from sklearn.preprocessing import MinMaxScaler\n",
    "from sklearn.compose import ColumnTransformer, make_column_transformer"
   ]
  },
  {
   "cell_type": "code",
   "execution_count": 23,
   "metadata": {},
   "outputs": [],
   "source": [
    "preprocess = make_column_transformer(\n",
    "    (MinMaxScaler(copy=True, feature_range=(0, 1)),\n",
    "     ['frame_time_delta', 'frame_len', 'icmpv6_type', \n",
    "      'ipv6_src', 'ipv6_dst', 'icmpv6_code', 'sixlowpan_pattern',\n",
    "      'wpan_ack_request', 'wpan_dst_addr_mode', 'wpan_seq_no']),\n",
    "     (OneHotEncoder(categories='auto', sparse=False),\n",
    "     ['icmpv6_type', 'ipv6_src', 'ipv6_dst',\n",
    "      'icmpv6_code', 'sixlowpan_pattern',\n",
    "      'wpan_dst_addr_mode'])\n",
    ")"
   ]
  },
  {
   "cell_type": "code",
   "execution_count": 24,
   "metadata": {},
   "outputs": [],
   "source": [
    "X = df.iloc[:, 0:10] \n",
    "y = df.iloc[:, 10]"
   ]
  },
  {
   "cell_type": "code",
   "execution_count": 25,
   "metadata": {},
   "outputs": [
    {
     "name": "stderr",
     "output_type": "stream",
     "text": [
      "/home/user/.local/lib/python3.6/site-packages/sklearn/preprocessing/data.py:334: DataConversionWarning: Data with input dtype int64, object were all converted to float64 by MinMaxScaler.\n",
      "  return self.partial_fit(X, y)\n"
     ]
    }
   ],
   "source": [
    "X_norm = preprocess.fit_transform(X)"
   ]
  },
  {
   "cell_type": "code",
   "execution_count": 26,
   "metadata": {},
   "outputs": [
    {
     "name": "stdout",
     "output_type": "stream",
     "text": [
      "Label Encoded Dataset shape: (1368484, 10)\n",
      "Normalized Dataset shape: (1368484, 39)\n"
     ]
    }
   ],
   "source": [
    "print('Label Encoded Dataset shape:', df.iloc[:, 0:10] .shape)\n",
    "print('Normalized Dataset shape:', X_norm.shape)"
   ]
  },
  {
   "cell_type": "code",
   "execution_count": 27,
   "metadata": {},
   "outputs": [
    {
     "name": "stdout",
     "output_type": "stream",
     "text": [
      "Class subset shape: (1368484,)\n"
     ]
    }
   ],
   "source": [
    "print('Class subset shape:', y.shape)"
   ]
  },
  {
   "cell_type": "code",
   "execution_count": null,
   "metadata": {},
   "outputs": [],
   "source": []
  },
  {
   "cell_type": "code",
   "execution_count": 28,
   "metadata": {},
   "outputs": [
    {
     "name": "stdout",
     "output_type": "stream",
     "text": [
      "(1368484, 1)\n",
      "(1368484, 39)\n"
     ]
    }
   ],
   "source": [
    "df_y_csv = pd.DataFrame(y)\n",
    "print(df_y_csv.shape)\n",
    "\n",
    "df_x_csv = pd.DataFrame(X_norm)\n",
    "print(df_x_csv.shape)"
   ]
  },
  {
   "cell_type": "code",
   "execution_count": 29,
   "metadata": {},
   "outputs": [
    {
     "name": "stdout",
     "output_type": "stream",
     "text": [
      "(1368484, 40)\n"
     ]
    }
   ],
   "source": [
    "df_allsamples_norm = pd.concat([df_x_csv, df_y_csv], axis=1, ignore_index=False)\n",
    "print(df_allsamples_norm.shape)"
   ]
  },
  {
   "cell_type": "code",
   "execution_count": 30,
   "metadata": {},
   "outputs": [
    {
     "data": {
      "text/plain": [
       "0        0\n",
       "1        0\n",
       "2        0\n",
       "3        0\n",
       "4        0\n",
       "5        0\n",
       "6        0\n",
       "7        0\n",
       "8        0\n",
       "9        0\n",
       "10       0\n",
       "11       0\n",
       "12       0\n",
       "13       0\n",
       "14       0\n",
       "15       0\n",
       "16       0\n",
       "17       0\n",
       "18       0\n",
       "19       0\n",
       "20       0\n",
       "21       0\n",
       "22       0\n",
       "23       0\n",
       "24       0\n",
       "25       0\n",
       "26       0\n",
       "27       0\n",
       "28       0\n",
       "29       0\n",
       "30       0\n",
       "31       0\n",
       "32       0\n",
       "33       0\n",
       "34       0\n",
       "35       0\n",
       "36       0\n",
       "37       0\n",
       "38       0\n",
       "class    0\n",
       "dtype: int64"
      ]
     },
     "execution_count": 30,
     "metadata": {},
     "output_type": "execute_result"
    }
   ],
   "source": [
    "df_allsamples_norm.isnull().sum()"
   ]
  },
  {
   "cell_type": "code",
   "execution_count": null,
   "metadata": {},
   "outputs": [],
   "source": []
  },
  {
   "cell_type": "code",
   "execution_count": 31,
   "metadata": {},
   "outputs": [],
   "source": [
    "df_allsamples_norm.to_csv(pathds+'SubsetAllSamples/Sybil_allsamples_norm.csv', index=False)"
   ]
  },
  {
   "cell_type": "code",
   "execution_count": 32,
   "metadata": {},
   "outputs": [],
   "source": [
    "df_from_csv = pd.read_csv(pathds+'SubsetAllSamples/Sybil_allsamples_norm.csv')"
   ]
  },
  {
   "cell_type": "code",
   "execution_count": 33,
   "metadata": {},
   "outputs": [
    {
     "data": {
      "text/plain": [
       "0        0\n",
       "1        0\n",
       "2        0\n",
       "3        0\n",
       "4        0\n",
       "5        0\n",
       "6        0\n",
       "7        0\n",
       "8        0\n",
       "9        0\n",
       "10       0\n",
       "11       0\n",
       "12       0\n",
       "13       0\n",
       "14       0\n",
       "15       0\n",
       "16       0\n",
       "17       0\n",
       "18       0\n",
       "19       0\n",
       "20       0\n",
       "21       0\n",
       "22       0\n",
       "23       0\n",
       "24       0\n",
       "25       0\n",
       "26       0\n",
       "27       0\n",
       "28       0\n",
       "29       0\n",
       "30       0\n",
       "31       0\n",
       "32       0\n",
       "33       0\n",
       "34       0\n",
       "35       0\n",
       "36       0\n",
       "37       0\n",
       "38       0\n",
       "class    0\n",
       "dtype: int64"
      ]
     },
     "execution_count": 33,
     "metadata": {},
     "output_type": "execute_result"
    }
   ],
   "source": [
    "df_from_csv.isnull().sum()"
   ]
  },
  {
   "cell_type": "code",
   "execution_count": 34,
   "metadata": {},
   "outputs": [
    {
     "name": "stdout",
     "output_type": "stream",
     "text": [
      "(1368484, 40)\n"
     ]
    },
    {
     "data": {
      "text/html": [
       "<div>\n",
       "<style scoped>\n",
       "    .dataframe tbody tr th:only-of-type {\n",
       "        vertical-align: middle;\n",
       "    }\n",
       "\n",
       "    .dataframe tbody tr th {\n",
       "        vertical-align: top;\n",
       "    }\n",
       "\n",
       "    .dataframe thead th {\n",
       "        text-align: right;\n",
       "    }\n",
       "</style>\n",
       "<table border=\"1\" class=\"dataframe\">\n",
       "  <thead>\n",
       "    <tr style=\"text-align: right;\">\n",
       "      <th></th>\n",
       "      <th>0</th>\n",
       "      <th>1</th>\n",
       "      <th>2</th>\n",
       "      <th>3</th>\n",
       "      <th>4</th>\n",
       "      <th>5</th>\n",
       "      <th>6</th>\n",
       "      <th>7</th>\n",
       "      <th>8</th>\n",
       "      <th>9</th>\n",
       "      <th>...</th>\n",
       "      <th>30</th>\n",
       "      <th>31</th>\n",
       "      <th>32</th>\n",
       "      <th>33</th>\n",
       "      <th>34</th>\n",
       "      <th>35</th>\n",
       "      <th>36</th>\n",
       "      <th>37</th>\n",
       "      <th>38</th>\n",
       "      <th>class</th>\n",
       "    </tr>\n",
       "  </thead>\n",
       "  <tbody>\n",
       "    <tr>\n",
       "      <th>0</th>\n",
       "      <td>0.000054</td>\n",
       "      <td>0.0</td>\n",
       "      <td>0.0</td>\n",
       "      <td>0.222222</td>\n",
       "      <td>1.0</td>\n",
       "      <td>0.0</td>\n",
       "      <td>1.0</td>\n",
       "      <td>0.0</td>\n",
       "      <td>0.0</td>\n",
       "      <td>0.435294</td>\n",
       "      <td>...</td>\n",
       "      <td>0.0</td>\n",
       "      <td>1.0</td>\n",
       "      <td>1.0</td>\n",
       "      <td>0.0</td>\n",
       "      <td>0.0</td>\n",
       "      <td>0.0</td>\n",
       "      <td>1.0</td>\n",
       "      <td>1.0</td>\n",
       "      <td>0.0</td>\n",
       "      <td>0</td>\n",
       "    </tr>\n",
       "    <tr>\n",
       "      <th>1</th>\n",
       "      <td>0.000113</td>\n",
       "      <td>0.0</td>\n",
       "      <td>0.0</td>\n",
       "      <td>0.222222</td>\n",
       "      <td>1.0</td>\n",
       "      <td>0.0</td>\n",
       "      <td>1.0</td>\n",
       "      <td>0.0</td>\n",
       "      <td>0.0</td>\n",
       "      <td>0.435294</td>\n",
       "      <td>...</td>\n",
       "      <td>0.0</td>\n",
       "      <td>1.0</td>\n",
       "      <td>1.0</td>\n",
       "      <td>0.0</td>\n",
       "      <td>0.0</td>\n",
       "      <td>0.0</td>\n",
       "      <td>1.0</td>\n",
       "      <td>1.0</td>\n",
       "      <td>0.0</td>\n",
       "      <td>0</td>\n",
       "    </tr>\n",
       "    <tr>\n",
       "      <th>2</th>\n",
       "      <td>0.000113</td>\n",
       "      <td>0.0</td>\n",
       "      <td>0.0</td>\n",
       "      <td>0.222222</td>\n",
       "      <td>1.0</td>\n",
       "      <td>0.0</td>\n",
       "      <td>1.0</td>\n",
       "      <td>0.0</td>\n",
       "      <td>0.0</td>\n",
       "      <td>0.435294</td>\n",
       "      <td>...</td>\n",
       "      <td>0.0</td>\n",
       "      <td>1.0</td>\n",
       "      <td>1.0</td>\n",
       "      <td>0.0</td>\n",
       "      <td>0.0</td>\n",
       "      <td>0.0</td>\n",
       "      <td>1.0</td>\n",
       "      <td>1.0</td>\n",
       "      <td>0.0</td>\n",
       "      <td>0</td>\n",
       "    </tr>\n",
       "    <tr>\n",
       "      <th>3</th>\n",
       "      <td>0.000113</td>\n",
       "      <td>0.0</td>\n",
       "      <td>0.0</td>\n",
       "      <td>0.222222</td>\n",
       "      <td>1.0</td>\n",
       "      <td>0.0</td>\n",
       "      <td>1.0</td>\n",
       "      <td>0.0</td>\n",
       "      <td>0.0</td>\n",
       "      <td>0.435294</td>\n",
       "      <td>...</td>\n",
       "      <td>0.0</td>\n",
       "      <td>1.0</td>\n",
       "      <td>1.0</td>\n",
       "      <td>0.0</td>\n",
       "      <td>0.0</td>\n",
       "      <td>0.0</td>\n",
       "      <td>1.0</td>\n",
       "      <td>1.0</td>\n",
       "      <td>0.0</td>\n",
       "      <td>0</td>\n",
       "    </tr>\n",
       "    <tr>\n",
       "      <th>4</th>\n",
       "      <td>0.000113</td>\n",
       "      <td>0.0</td>\n",
       "      <td>0.0</td>\n",
       "      <td>0.222222</td>\n",
       "      <td>1.0</td>\n",
       "      <td>0.0</td>\n",
       "      <td>1.0</td>\n",
       "      <td>0.0</td>\n",
       "      <td>0.0</td>\n",
       "      <td>0.435294</td>\n",
       "      <td>...</td>\n",
       "      <td>0.0</td>\n",
       "      <td>1.0</td>\n",
       "      <td>1.0</td>\n",
       "      <td>0.0</td>\n",
       "      <td>0.0</td>\n",
       "      <td>0.0</td>\n",
       "      <td>1.0</td>\n",
       "      <td>1.0</td>\n",
       "      <td>0.0</td>\n",
       "      <td>0</td>\n",
       "    </tr>\n",
       "  </tbody>\n",
       "</table>\n",
       "<p>5 rows × 40 columns</p>\n",
       "</div>"
      ],
      "text/plain": [
       "          0    1    2         3    4    5    6    7    8         9  ...   30  \\\n",
       "0  0.000054  0.0  0.0  0.222222  1.0  0.0  1.0  0.0  0.0  0.435294  ...  0.0   \n",
       "1  0.000113  0.0  0.0  0.222222  1.0  0.0  1.0  0.0  0.0  0.435294  ...  0.0   \n",
       "2  0.000113  0.0  0.0  0.222222  1.0  0.0  1.0  0.0  0.0  0.435294  ...  0.0   \n",
       "3  0.000113  0.0  0.0  0.222222  1.0  0.0  1.0  0.0  0.0  0.435294  ...  0.0   \n",
       "4  0.000113  0.0  0.0  0.222222  1.0  0.0  1.0  0.0  0.0  0.435294  ...  0.0   \n",
       "\n",
       "    31   32   33   34   35   36   37   38  class  \n",
       "0  1.0  1.0  0.0  0.0  0.0  1.0  1.0  0.0      0  \n",
       "1  1.0  1.0  0.0  0.0  0.0  1.0  1.0  0.0      0  \n",
       "2  1.0  1.0  0.0  0.0  0.0  1.0  1.0  0.0      0  \n",
       "3  1.0  1.0  0.0  0.0  0.0  1.0  1.0  0.0      0  \n",
       "4  1.0  1.0  0.0  0.0  0.0  1.0  1.0  0.0      0  \n",
       "\n",
       "[5 rows x 40 columns]"
      ]
     },
     "execution_count": 34,
     "metadata": {},
     "output_type": "execute_result"
    }
   ],
   "source": [
    "print((df_from_csv.shape))\n",
    "df_from_csv.head()"
   ]
  },
  {
   "cell_type": "code",
   "execution_count": 36,
   "metadata": {},
   "outputs": [],
   "source": [
    "X_ = df_from_csv.iloc[:, 0:39] \n",
    "y_ = df_from_csv.iloc[:, 39]"
   ]
  },
  {
   "cell_type": "code",
   "execution_count": 37,
   "metadata": {},
   "outputs": [
    {
     "data": {
      "text/plain": [
       "count    1368484.0\n",
       "mean           0.5\n",
       "std            0.5\n",
       "min            0.0\n",
       "25%            0.0\n",
       "50%            0.5\n",
       "75%            1.0\n",
       "max            1.0\n",
       "Name: class, dtype: float64"
      ]
     },
     "execution_count": 37,
     "metadata": {},
     "output_type": "execute_result"
    }
   ],
   "source": [
    "y_.describe()"
   ]
  },
  {
   "cell_type": "code",
   "execution_count": 38,
   "metadata": {},
   "outputs": [
    {
     "data": {
      "text/html": [
       "<div>\n",
       "<style scoped>\n",
       "    .dataframe tbody tr th:only-of-type {\n",
       "        vertical-align: middle;\n",
       "    }\n",
       "\n",
       "    .dataframe tbody tr th {\n",
       "        vertical-align: top;\n",
       "    }\n",
       "\n",
       "    .dataframe thead th {\n",
       "        text-align: right;\n",
       "    }\n",
       "</style>\n",
       "<table border=\"1\" class=\"dataframe\">\n",
       "  <thead>\n",
       "    <tr style=\"text-align: right;\">\n",
       "      <th></th>\n",
       "      <th>0</th>\n",
       "      <th>1</th>\n",
       "      <th>2</th>\n",
       "      <th>3</th>\n",
       "      <th>4</th>\n",
       "      <th>5</th>\n",
       "      <th>6</th>\n",
       "      <th>7</th>\n",
       "      <th>8</th>\n",
       "      <th>9</th>\n",
       "      <th>...</th>\n",
       "      <th>29</th>\n",
       "      <th>30</th>\n",
       "      <th>31</th>\n",
       "      <th>32</th>\n",
       "      <th>33</th>\n",
       "      <th>34</th>\n",
       "      <th>35</th>\n",
       "      <th>36</th>\n",
       "      <th>37</th>\n",
       "      <th>38</th>\n",
       "    </tr>\n",
       "  </thead>\n",
       "  <tbody>\n",
       "    <tr>\n",
       "      <th>count</th>\n",
       "      <td>1.368484e+06</td>\n",
       "      <td>1.368484e+06</td>\n",
       "      <td>1368484.0</td>\n",
       "      <td>1.368484e+06</td>\n",
       "      <td>1.368484e+06</td>\n",
       "      <td>1.368484e+06</td>\n",
       "      <td>1.368484e+06</td>\n",
       "      <td>1.368484e+06</td>\n",
       "      <td>1.368484e+06</td>\n",
       "      <td>1.368484e+06</td>\n",
       "      <td>...</td>\n",
       "      <td>1.368484e+06</td>\n",
       "      <td>1.368484e+06</td>\n",
       "      <td>1.368484e+06</td>\n",
       "      <td>1.368484e+06</td>\n",
       "      <td>1.368484e+06</td>\n",
       "      <td>1.368484e+06</td>\n",
       "      <td>1.368484e+06</td>\n",
       "      <td>1.368484e+06</td>\n",
       "      <td>1.368484e+06</td>\n",
       "      <td>1.368484e+06</td>\n",
       "    </tr>\n",
       "    <tr>\n",
       "      <th>mean</th>\n",
       "      <td>9.212427e-04</td>\n",
       "      <td>5.777632e-01</td>\n",
       "      <td>0.0</td>\n",
       "      <td>5.083016e-01</td>\n",
       "      <td>4.362370e-01</td>\n",
       "      <td>7.282274e-01</td>\n",
       "      <td>4.589166e-02</td>\n",
       "      <td>7.060864e-01</td>\n",
       "      <td>7.060864e-01</td>\n",
       "      <td>4.613657e-01</td>\n",
       "      <td>...</td>\n",
       "      <td>2.320305e-02</td>\n",
       "      <td>2.663824e-02</td>\n",
       "      <td>2.939136e-01</td>\n",
       "      <td>4.589166e-02</td>\n",
       "      <td>4.517619e-01</td>\n",
       "      <td>5.023464e-01</td>\n",
       "      <td>9.541083e-01</td>\n",
       "      <td>4.589166e-02</td>\n",
       "      <td>2.939136e-01</td>\n",
       "      <td>7.060864e-01</td>\n",
       "    </tr>\n",
       "    <tr>\n",
       "      <th>std</th>\n",
       "      <td>1.240628e-02</td>\n",
       "      <td>3.272190e-01</td>\n",
       "      <td>0.0</td>\n",
       "      <td>2.762788e-01</td>\n",
       "      <td>4.347174e-01</td>\n",
       "      <td>2.914993e-01</td>\n",
       "      <td>2.092502e-01</td>\n",
       "      <td>4.555530e-01</td>\n",
       "      <td>4.555530e-01</td>\n",
       "      <td>2.645081e-01</td>\n",
       "      <td>...</td>\n",
       "      <td>1.505479e-01</td>\n",
       "      <td>1.610238e-01</td>\n",
       "      <td>4.555530e-01</td>\n",
       "      <td>2.092502e-01</td>\n",
       "      <td>4.976678e-01</td>\n",
       "      <td>4.999947e-01</td>\n",
       "      <td>2.092502e-01</td>\n",
       "      <td>2.092502e-01</td>\n",
       "      <td>4.555530e-01</td>\n",
       "      <td>4.555530e-01</td>\n",
       "    </tr>\n",
       "    <tr>\n",
       "      <th>min</th>\n",
       "      <td>0.000000e+00</td>\n",
       "      <td>0.000000e+00</td>\n",
       "      <td>0.0</td>\n",
       "      <td>0.000000e+00</td>\n",
       "      <td>0.000000e+00</td>\n",
       "      <td>0.000000e+00</td>\n",
       "      <td>0.000000e+00</td>\n",
       "      <td>0.000000e+00</td>\n",
       "      <td>0.000000e+00</td>\n",
       "      <td>0.000000e+00</td>\n",
       "      <td>...</td>\n",
       "      <td>0.000000e+00</td>\n",
       "      <td>0.000000e+00</td>\n",
       "      <td>0.000000e+00</td>\n",
       "      <td>0.000000e+00</td>\n",
       "      <td>0.000000e+00</td>\n",
       "      <td>0.000000e+00</td>\n",
       "      <td>0.000000e+00</td>\n",
       "      <td>0.000000e+00</td>\n",
       "      <td>0.000000e+00</td>\n",
       "      <td>0.000000e+00</td>\n",
       "    </tr>\n",
       "    <tr>\n",
       "      <th>25%</th>\n",
       "      <td>8.342864e-05</td>\n",
       "      <td>3.157895e-01</td>\n",
       "      <td>0.0</td>\n",
       "      <td>3.333333e-01</td>\n",
       "      <td>0.000000e+00</td>\n",
       "      <td>5.000000e-01</td>\n",
       "      <td>0.000000e+00</td>\n",
       "      <td>0.000000e+00</td>\n",
       "      <td>0.000000e+00</td>\n",
       "      <td>2.078431e-01</td>\n",
       "      <td>...</td>\n",
       "      <td>0.000000e+00</td>\n",
       "      <td>0.000000e+00</td>\n",
       "      <td>0.000000e+00</td>\n",
       "      <td>0.000000e+00</td>\n",
       "      <td>0.000000e+00</td>\n",
       "      <td>0.000000e+00</td>\n",
       "      <td>1.000000e+00</td>\n",
       "      <td>0.000000e+00</td>\n",
       "      <td>0.000000e+00</td>\n",
       "      <td>0.000000e+00</td>\n",
       "    </tr>\n",
       "    <tr>\n",
       "      <th>50%</th>\n",
       "      <td>1.137942e-04</td>\n",
       "      <td>3.157895e-01</td>\n",
       "      <td>0.0</td>\n",
       "      <td>4.444444e-01</td>\n",
       "      <td>3.000000e-01</td>\n",
       "      <td>1.000000e+00</td>\n",
       "      <td>0.000000e+00</td>\n",
       "      <td>1.000000e+00</td>\n",
       "      <td>1.000000e+00</td>\n",
       "      <td>4.431373e-01</td>\n",
       "      <td>...</td>\n",
       "      <td>0.000000e+00</td>\n",
       "      <td>0.000000e+00</td>\n",
       "      <td>0.000000e+00</td>\n",
       "      <td>0.000000e+00</td>\n",
       "      <td>0.000000e+00</td>\n",
       "      <td>1.000000e+00</td>\n",
       "      <td>1.000000e+00</td>\n",
       "      <td>0.000000e+00</td>\n",
       "      <td>0.000000e+00</td>\n",
       "      <td>1.000000e+00</td>\n",
       "    </tr>\n",
       "    <tr>\n",
       "      <th>75%</th>\n",
       "      <td>1.286973e-04</td>\n",
       "      <td>8.684211e-01</td>\n",
       "      <td>0.0</td>\n",
       "      <td>6.666667e-01</td>\n",
       "      <td>1.000000e+00</td>\n",
       "      <td>1.000000e+00</td>\n",
       "      <td>0.000000e+00</td>\n",
       "      <td>1.000000e+00</td>\n",
       "      <td>1.000000e+00</td>\n",
       "      <td>6.627451e-01</td>\n",
       "      <td>...</td>\n",
       "      <td>0.000000e+00</td>\n",
       "      <td>0.000000e+00</td>\n",
       "      <td>1.000000e+00</td>\n",
       "      <td>0.000000e+00</td>\n",
       "      <td>1.000000e+00</td>\n",
       "      <td>1.000000e+00</td>\n",
       "      <td>1.000000e+00</td>\n",
       "      <td>0.000000e+00</td>\n",
       "      <td>1.000000e+00</td>\n",
       "      <td>1.000000e+00</td>\n",
       "    </tr>\n",
       "    <tr>\n",
       "      <th>max</th>\n",
       "      <td>1.000000e+00</td>\n",
       "      <td>1.000000e+00</td>\n",
       "      <td>0.0</td>\n",
       "      <td>1.000000e+00</td>\n",
       "      <td>1.000000e+00</td>\n",
       "      <td>1.000000e+00</td>\n",
       "      <td>1.000000e+00</td>\n",
       "      <td>1.000000e+00</td>\n",
       "      <td>1.000000e+00</td>\n",
       "      <td>1.000000e+00</td>\n",
       "      <td>...</td>\n",
       "      <td>1.000000e+00</td>\n",
       "      <td>1.000000e+00</td>\n",
       "      <td>1.000000e+00</td>\n",
       "      <td>1.000000e+00</td>\n",
       "      <td>1.000000e+00</td>\n",
       "      <td>1.000000e+00</td>\n",
       "      <td>1.000000e+00</td>\n",
       "      <td>1.000000e+00</td>\n",
       "      <td>1.000000e+00</td>\n",
       "      <td>1.000000e+00</td>\n",
       "    </tr>\n",
       "  </tbody>\n",
       "</table>\n",
       "<p>8 rows × 39 columns</p>\n",
       "</div>"
      ],
      "text/plain": [
       "                  0             1          2             3             4  \\\n",
       "count  1.368484e+06  1.368484e+06  1368484.0  1.368484e+06  1.368484e+06   \n",
       "mean   9.212427e-04  5.777632e-01        0.0  5.083016e-01  4.362370e-01   \n",
       "std    1.240628e-02  3.272190e-01        0.0  2.762788e-01  4.347174e-01   \n",
       "min    0.000000e+00  0.000000e+00        0.0  0.000000e+00  0.000000e+00   \n",
       "25%    8.342864e-05  3.157895e-01        0.0  3.333333e-01  0.000000e+00   \n",
       "50%    1.137942e-04  3.157895e-01        0.0  4.444444e-01  3.000000e-01   \n",
       "75%    1.286973e-04  8.684211e-01        0.0  6.666667e-01  1.000000e+00   \n",
       "max    1.000000e+00  1.000000e+00        0.0  1.000000e+00  1.000000e+00   \n",
       "\n",
       "                  5             6             7             8             9  \\\n",
       "count  1.368484e+06  1.368484e+06  1.368484e+06  1.368484e+06  1.368484e+06   \n",
       "mean   7.282274e-01  4.589166e-02  7.060864e-01  7.060864e-01  4.613657e-01   \n",
       "std    2.914993e-01  2.092502e-01  4.555530e-01  4.555530e-01  2.645081e-01   \n",
       "min    0.000000e+00  0.000000e+00  0.000000e+00  0.000000e+00  0.000000e+00   \n",
       "25%    5.000000e-01  0.000000e+00  0.000000e+00  0.000000e+00  2.078431e-01   \n",
       "50%    1.000000e+00  0.000000e+00  1.000000e+00  1.000000e+00  4.431373e-01   \n",
       "75%    1.000000e+00  0.000000e+00  1.000000e+00  1.000000e+00  6.627451e-01   \n",
       "max    1.000000e+00  1.000000e+00  1.000000e+00  1.000000e+00  1.000000e+00   \n",
       "\n",
       "       ...            29            30            31            32  \\\n",
       "count  ...  1.368484e+06  1.368484e+06  1.368484e+06  1.368484e+06   \n",
       "mean   ...  2.320305e-02  2.663824e-02  2.939136e-01  4.589166e-02   \n",
       "std    ...  1.505479e-01  1.610238e-01  4.555530e-01  2.092502e-01   \n",
       "min    ...  0.000000e+00  0.000000e+00  0.000000e+00  0.000000e+00   \n",
       "25%    ...  0.000000e+00  0.000000e+00  0.000000e+00  0.000000e+00   \n",
       "50%    ...  0.000000e+00  0.000000e+00  0.000000e+00  0.000000e+00   \n",
       "75%    ...  0.000000e+00  0.000000e+00  1.000000e+00  0.000000e+00   \n",
       "max    ...  1.000000e+00  1.000000e+00  1.000000e+00  1.000000e+00   \n",
       "\n",
       "                 33            34            35            36            37  \\\n",
       "count  1.368484e+06  1.368484e+06  1.368484e+06  1.368484e+06  1.368484e+06   \n",
       "mean   4.517619e-01  5.023464e-01  9.541083e-01  4.589166e-02  2.939136e-01   \n",
       "std    4.976678e-01  4.999947e-01  2.092502e-01  2.092502e-01  4.555530e-01   \n",
       "min    0.000000e+00  0.000000e+00  0.000000e+00  0.000000e+00  0.000000e+00   \n",
       "25%    0.000000e+00  0.000000e+00  1.000000e+00  0.000000e+00  0.000000e+00   \n",
       "50%    0.000000e+00  1.000000e+00  1.000000e+00  0.000000e+00  0.000000e+00   \n",
       "75%    1.000000e+00  1.000000e+00  1.000000e+00  0.000000e+00  1.000000e+00   \n",
       "max    1.000000e+00  1.000000e+00  1.000000e+00  1.000000e+00  1.000000e+00   \n",
       "\n",
       "                 38  \n",
       "count  1.368484e+06  \n",
       "mean   7.060864e-01  \n",
       "std    4.555530e-01  \n",
       "min    0.000000e+00  \n",
       "25%    0.000000e+00  \n",
       "50%    1.000000e+00  \n",
       "75%    1.000000e+00  \n",
       "max    1.000000e+00  \n",
       "\n",
       "[8 rows x 39 columns]"
      ]
     },
     "execution_count": 38,
     "metadata": {},
     "output_type": "execute_result"
    }
   ],
   "source": [
    "X_.describe()"
   ]
  },
  {
   "cell_type": "code",
   "execution_count": null,
   "metadata": {},
   "outputs": [],
   "source": []
  }
 ],
 "metadata": {
  "kernelspec": {
   "display_name": "Python 3",
   "language": "python",
   "name": "python3"
  },
  "language_info": {
   "codemirror_mode": {
    "name": "ipython",
    "version": 3
   },
   "file_extension": ".py",
   "mimetype": "text/x-python",
   "name": "python",
   "nbconvert_exporter": "python",
   "pygments_lexer": "ipython3",
   "version": "3.6.8"
  }
 },
 "nbformat": 4,
 "nbformat_minor": 2
}
