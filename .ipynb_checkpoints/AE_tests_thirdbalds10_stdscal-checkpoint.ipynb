{
 "cells": [
  {
   "cell_type": "code",
   "execution_count": 1,
   "metadata": {},
   "outputs": [],
   "source": [
    "import os\n",
    "os.environ[\"CUDA_DEVICE_ORDER\"]=\"PCI_BUS_ID\"\n",
    "os.environ[\"CUDA_VISIBLE_DEVICES\"]=\"0\""
   ]
  },
  {
   "cell_type": "code",
   "execution_count": 2,
   "metadata": {},
   "outputs": [
    {
     "name": "stderr",
     "output_type": "stream",
     "text": [
      "Using TensorFlow backend.\n"
     ]
    }
   ],
   "source": [
    "###################################\n",
    "# TensorFlow wizardry\n",
    "import tensorflow as tf\n",
    "config = tf.ConfigProto()\n",
    " \n",
    "# Don’t pre-allocate memory; allocate as-needed\n",
    "config.gpu_options.allow_growth = True\n",
    " \n",
    "# Only allow a total of half the GPU memory to be allocated\n",
    "config.gpu_options.per_process_gpu_memory_fraction = 0.05\n",
    "#gpu_options = tf.GPUOptions(per_process_gpu_memory_fraction=0.333)\n",
    " \n",
    "# Create a session with the above options specified.\n",
    "from keras import optimizers, regularizers\n",
    "from keras.layers.normalization import BatchNormalization\n",
    "from keras.utils import to_categorical\n",
    "from keras.wrappers.scikit_learn import KerasClassifier\n",
    "from keras import optimizers\n",
    "from keras.constraints import maxnorm\n",
    "from keras.callbacks import ModelCheckpoint, TensorBoard, EarlyStopping\n",
    "\n",
    "from keras.models import Sequential, Model, load_model\n",
    "from keras.layers import Activation, Dense, Dropout, Input\n",
    "from keras import backend as k\n",
    "\n",
    "k.tensorflow_backend.set_session(tf.Session(config=config))\n",
    "#k.tensorflow_backend.set_session(tf.Session(config=tf.ConfigProto(gpu_options=gpu_options))\n",
    "###################################"
   ]
  },
  {
   "cell_type": "code",
   "execution_count": 3,
   "metadata": {},
   "outputs": [],
   "source": [
    "#----------------------------------Import modules------------------------------\n",
    "import numpy as np\n",
    "import pandas as pd\n",
    "import matplotlib.pyplot as plt\n",
    "import seaborn as sns\n",
    "from sklearn.model_selection import train_test_split\n",
    "from sklearn.metrics import confusion_matrix,accuracy_score, roc_curve, auc\n",
    "from sklearn import preprocessing\n",
    "sns.set_style(\"whitegrid\")\n",
    "np.random.seed(23)\n",
    "import time\n",
    "from sklearn.model_selection import GridSearchCV\n",
    "import sklearn.metrics as sm\n",
    "from sklearn.model_selection import KFold\n",
    "from sklearn.model_selection import cross_val_predict\n"
   ]
  },
  {
   "cell_type": "code",
   "execution_count": 4,
   "metadata": {},
   "outputs": [
    {
     "name": "stdout",
     "output_type": "stream",
     "text": [
      "Default GPU Device: /device:GPU:0\n"
     ]
    }
   ],
   "source": [
    "if tf.test.gpu_device_name():\n",
    "    print('Default GPU Device: {}'.format(tf.test.gpu_device_name()))\n",
    "else:\n",
    "    print(\"Please install GPU version of TF\")"
   ]
  },
  {
   "cell_type": "code",
   "execution_count": 5,
   "metadata": {},
   "outputs": [],
   "source": [
    "pathds = '/home/user/01Code/00Datasets_final/'"
   ]
  },
  {
   "cell_type": "code",
   "execution_count": 6,
   "metadata": {},
   "outputs": [],
   "source": [
    "#df_chunk = pd.read_csv(pathds+'SubsetAllSamples/CloneID10bal_norm.csv', chunksize=1000)\n",
    "#df = df_chunk.get_chunk(300000)\n",
    "df = pd.read_csv(pathds+'SubsetAllSamples/ThirdCloneID10bal_stdscal.csv')"
   ]
  },
  {
   "cell_type": "code",
   "execution_count": 7,
   "metadata": {},
   "outputs": [
    {
     "data": {
      "text/plain": [
       "(455154, 49)"
      ]
     },
     "execution_count": 7,
     "metadata": {},
     "output_type": "execute_result"
    }
   ],
   "source": [
    "df.shape"
   ]
  },
  {
   "cell_type": "markdown",
   "metadata": {},
   "source": [
    "#### 4.2 Explaining the data"
   ]
  },
  {
   "cell_type": "code",
   "execution_count": 8,
   "metadata": {},
   "outputs": [
    {
     "name": "stdout",
     "output_type": "stream",
     "text": [
      "Class 0: 227577\n",
      "Class 1: 227577\n",
      "Proportion: 1.0 : 1\n"
     ]
    }
   ],
   "source": [
    "#if you don't have an intuitive sense of how imbalanced these two classes are, let's go visual\n",
    "count_classes = pd.value_counts(df['class'], sort = True)\n",
    "print('Class 0:', count_classes[0])\n",
    "print('Class 1:', count_classes[1])\n",
    "print('Proportion:', round(count_classes[0] / count_classes[1], 3), ': 1')"
   ]
  },
  {
   "cell_type": "code",
   "execution_count": 9,
   "metadata": {},
   "outputs": [
    {
     "data": {
      "image/png": "[encoded data removed]",
      "text/plain": [
       "<Figure size 432x288 with 1 Axes>"
      ]
     },
     "metadata": {
      "needs_background": "light"
     },
     "output_type": "display_data"
    }
   ],
   "source": [
    "count_classes.plot(kind = 'bar', rot=0)\n",
    "plt.xticks(range(2), ['Normal [0]','Malicious [1]'])\n",
    "plt.title(\"Frequency by observation number\")\n",
    "plt.xlabel(\"Class\")\n",
    "plt.ylabel(\"Number of Observations\");"
   ]
  },
  {
   "cell_type": "code",
   "execution_count": 10,
   "metadata": {},
   "outputs": [],
   "source": [
    "#set random seed and percentage of test data\n",
    "RANDOM_SEED = 23 #used to help randomly select the data points\n",
    "TEST_PCT = 0.20 # 20% of the data"
   ]
  },
  {
   "cell_type": "code",
   "execution_count": 11,
   "metadata": {},
   "outputs": [],
   "source": [
    "train, test_df = train_test_split(df, test_size=TEST_PCT, random_state=RANDOM_SEED)"
   ]
  },
  {
   "cell_type": "markdown",
   "metadata": {},
   "source": [
    "+ df -> original dataset \n",
    "+ train -> subset of 80% from original dataset \n",
    "+ test_df -> subset of 20% from original dataset "
   ]
  },
  {
   "cell_type": "code",
   "execution_count": 12,
   "metadata": {},
   "outputs": [],
   "source": [
    "train_df, dev_df = train_test_split(train, test_size=TEST_PCT, random_state=RANDOM_SEED)"
   ]
  },
  {
   "cell_type": "markdown",
   "metadata": {},
   "source": [
    "+ train -> subset of 80% from original dataset \n",
    "+ train_df -> subset of 80% from train\n",
    "+ dev_df -> subset of 20% from train"
   ]
  },
  {
   "cell_type": "code",
   "execution_count": 13,
   "metadata": {},
   "outputs": [
    {
     "name": "stdout",
     "output_type": "stream",
     "text": [
      "0.5006728504830106\n",
      "0.5012838997596979\n",
      "0.4968197646955433\n"
     ]
    }
   ],
   "source": [
    "# Check distribution of mal samples in train and test set\n",
    "print(train_df.iloc[:, 48].sum()/train_df.shape[0]) \n",
    "print(dev_df.iloc[:, 48].sum()/dev_df.shape[0]) \n",
    "print(test_df.iloc[:, 48].sum()/test_df.shape[0])"
   ]
  },
  {
   "cell_type": "code",
   "execution_count": 14,
   "metadata": {},
   "outputs": [],
   "source": [
    "train_x = train_df.iloc[:, :48] \n",
    "dev_x = dev_df.iloc[:, :48] \n",
    "test_x = test_df.iloc[:, :48] "
   ]
  },
  {
   "cell_type": "markdown",
   "metadata": {},
   "source": [
    "+ train_x -> features of train_df **Training subset for AE**\n",
    "+ dev_x -> features of dev_df **Validation subset for AE**\n",
    "+ test_x -> features of test_df **Testing subset for ANN**"
   ]
  },
  {
   "cell_type": "code",
   "execution_count": 15,
   "metadata": {},
   "outputs": [],
   "source": [
    "# Define the final train and test sets\n",
    "train_y = train_df.iloc[:, 48]\n",
    "dev_y = dev_df.iloc[:, 48]\n",
    "test_y = test_df.iloc[:, 48]"
   ]
  },
  {
   "cell_type": "markdown",
   "metadata": {},
   "source": [
    "+ train_y -> **Labels for supervised training of ANN**\n",
    "+ dev_y -> labels of dev_df  *not used for AE neither ANN*\n",
    "+ test_y -> labels of test_df  **Ground Truth for predictions of supervised ANN**"
   ]
  },
  {
   "cell_type": "code",
   "execution_count": 16,
   "metadata": {},
   "outputs": [
    {
     "name": "stdout",
     "output_type": "stream",
     "text": [
      "48\n"
     ]
    }
   ],
   "source": [
    "train_x =np.array(train_x)\n",
    "dev_x =np.array(dev_x)\n",
    "test_x = np.array(test_x)\n",
    "\n",
    "train_y = np.array(train_y)\n",
    "dev_y = np.array(dev_y)\n",
    "test_y = np.array(test_y)\n",
    "\n",
    "print(train_x.shape[1])"
   ]
  },
  {
   "cell_type": "markdown",
   "metadata": {},
   "source": [
    "### Autoencoder Function"
   ]
  },
  {
   "cell_type": "markdown",
   "metadata": {},
   "source": [
    "encoding_dim - 2\n",
    "\n",
    "Epoch 94/300 78596/78596 [==============================] - 10s 125us/step \n",
    "- loss: 3.8990e-05 - acc: 0.0237 - \n",
    "        val_loss: 3.9704e-05 - val_acc: 0.0236"
   ]
  },
  {
   "cell_type": "code",
   "execution_count": 17,
   "metadata": {},
   "outputs": [],
   "source": [
    "def ae(factor_enc_dim, enc_activation, dec_activation, \n",
    "                optimizer, loss):\n",
    "\n",
    "    encoding_dim = int(int(train_x.shape[1])/factor_enc_dim)\n",
    "    ### Define input layer\n",
    "    input_data = Input(shape=(train_x.shape[1],))\n",
    "    ### Define encoding layer #RELU\n",
    "    encoded = Dense(encoding_dim, activation=enc_activation, name='encoded_bottle_neck')(input_data)\n",
    "    ### Define decoding layer #SIMOID\n",
    "    decoded = Dense(train_x.shape[1], activation=dec_activation)(encoded)\n",
    "    ### Create the autoencoder model\n",
    "    autoencoder = Model(input_data, decoded)\n",
    "    autoencoder.compile(optimizer=optimizer,\n",
    "                        loss=loss,\n",
    "                        metrics=['accuracy'])\n",
    "    \n",
    "    print(autoencoder.summary())\n",
    "    \n",
    "    encoder = Model(input_data, encoded)\n",
    "    encoded_train_x = encoder.predict(train_x)\n",
    "    encoded_test_x = encoder.predict(test_x)\n",
    "    \n",
    "    return autoencoder,encoded_train_x,encoded_test_x"
   ]
  },
  {
   "cell_type": "code",
   "execution_count": 18,
   "metadata": {},
   "outputs": [],
   "source": [
    "def sae(factor_enc_dim, output_activation,\n",
    "        optimizer, loss):\n",
    "\n",
    "    encoding_dim = int(int(train_x.shape[1])/factor_enc_dim)\n",
    "    ### Define input layer\n",
    "    input_data = Input(shape=(train_x.shape[1],))\n",
    "    ### Define encoding layer\n",
    "    encoded = Dense(encoding_dim, activation='relu', name='input_layer')(input_data)\n",
    "    encoded = Dense(int(encoding_dim/2), activation='relu')(encoded) ##Stacked AE\n",
    "    encoded_bottle_neck = Dense(int(encoding_dim/4), activation='relu', name='enc_bottle_neck')(encoded) ##Stacked AE\n",
    "    \n",
    "    ### Define decoding layer\n",
    "    decoded = Dense(int(encoding_dim/2), activation='relu')(encoded_bottle_neck) ##Stacked AE\n",
    "    decoded = Dense(encoding_dim, activation='relu')(decoded) ##Stacked AE\n",
    "    decoded = Dense(train_x.shape[1], activation=output_activation)(decoded)\n",
    "    \n",
    "    ### Create the autoencoder model\n",
    "    sae = Model(input_data, decoded)\n",
    "    sae.compile(optimizer=optimizer,\n",
    "                loss=loss,\n",
    "                metrics=['accuracy'])\n",
    "    \n",
    "    print(sae.summary())\n",
    "\n",
    "    encoder = Model(input_data, encoded_bottle_neck)\n",
    "    encoded_train_x = encoder.predict(train_x)\n",
    "    encoded_test_x = encoder.predict(test_x)\n",
    "    \n",
    "    return sae,encoded_train_x,encoded_test_x"
   ]
  },
  {
   "cell_type": "code",
   "execution_count": 19,
   "metadata": {},
   "outputs": [],
   "source": [
    "def spae(factor_enc_dim, output_activation, \n",
    "                optimizer, loss):\n",
    "\n",
    "    encoding_dim = int(int(train_x.shape[1])/factor_enc_dim)\n",
    "    ### Define input layer\n",
    "    input_data = Input(shape=(train_x.shape[1],))\n",
    "    ### Define encoding layer\n",
    "    encoded = Dense(encoding_dim, activity_regularizer=regularizers.l1(1e-4), activation='relu', name='encoded_bottle_neck')(input_data)\n",
    "    ### Define decoding layer\n",
    "    decoded = Dense(train_x.shape[1], activation=output_activation)(encoded)\n",
    "    ### Create the autoencoder model\n",
    "    autoencoder = Model(input_data, decoded)\n",
    "    autoencoder.compile(optimizer=optimizer,\n",
    "                        loss=loss,\n",
    "                        metrics=['accuracy'])\n",
    "    \n",
    "    print(autoencoder.summary())\n",
    "    \n",
    "    encoder = Model(input_data, encoded)\n",
    "    encoded_train_x = encoder.predict(train_x)\n",
    "    encoded_test_x = encoder.predict(test_x)\n",
    "    \n",
    "    return autoencoder,encoded_train_x,encoded_test_x"
   ]
  },
  {
   "cell_type": "code",
   "execution_count": null,
   "metadata": {},
   "outputs": [],
   "source": []
  },
  {
   "cell_type": "code",
   "execution_count": 20,
   "metadata": {},
   "outputs": [],
   "source": [
    "def fit_ae(checkpoint_file, autoencoder,\n",
    "           epochs, batch_size, shuffle):\n",
    "    \n",
    "    early_stopping = EarlyStopping(monitor='val_loss', patience=5)\n",
    "\n",
    "    cp = ModelCheckpoint(filepath=checkpoint_file,\n",
    "                                   save_best_only=True,\n",
    "                                   verbose=0)\n",
    "\n",
    "    tb = TensorBoard(log_dir='./logs',\n",
    "                    histogram_freq=0,\n",
    "                    write_graph=True,\n",
    "                    write_images=True)\n",
    "\n",
    "    start_time = time.time()\n",
    "    print(time.ctime(start_time))\n",
    "\n",
    "    hist_auto = autoencoder.fit(train_x, train_x,\n",
    "                    epochs=epochs,\n",
    "                    batch_size=batch_size,\n",
    "                    shuffle=shuffle,\n",
    "                    verbose=1,\n",
    "                    callbacks=[early_stopping, cp, tb],\n",
    "                    validation_data=(dev_x, dev_x))\n",
    "\n",
    "    elapsed_time = (time.time() - start_time)\n",
    "    print(\"--- AE spent %s seconds ---\" % elapsed_time)\n",
    "    \n",
    "    return hist_auto"
   ]
  },
  {
   "cell_type": "code",
   "execution_count": 21,
   "metadata": {},
   "outputs": [],
   "source": [
    "def plot_hist_auto(hist_auto, fig_file):\n",
    "    best_loss_value = hist_auto.history['loss'][-1]\n",
    "    print('Best loss value:', best_loss_value)\n",
    "\n",
    "    # Summarize history for loss\n",
    "    plt.figure()\n",
    "    plt.plot(hist_auto.history['loss'])\n",
    "    plt.plot(hist_auto.history['val_loss'])\n",
    "    plt.title('Autoencoder model loss')\n",
    "    plt.ylabel('loss')\n",
    "    plt.xlabel('epoch')\n",
    "    plt.legend(['train', 'test'], loc='upper right')\n",
    "    plt.savefig(fig_file)\n",
    "    plt.show()\n",
    "    \n",
    "    return best_loss_value"
   ]
  },
  {
   "cell_type": "code",
   "execution_count": 22,
   "metadata": {},
   "outputs": [],
   "source": [
    "def ann_2h(neurons,encoded_train_x,init_mode,activation_input,\n",
    "               weight_constraint,dropout_rate,activation_output,\n",
    "               loss,optimizer):\n",
    "\n",
    "    # create model\n",
    "    model = Sequential()\n",
    "\n",
    "    model.add(Dense(neurons, input_dim=encoded_train_x.shape[1],\n",
    "                    kernel_initializer=init_mode,\n",
    "                    #kernel_regularizer=regularizers.l2(0.02), #from example\n",
    "                    activation=activation_input,\n",
    "                    kernel_constraint=maxnorm(weight_constraint)\n",
    "                    )\n",
    "              )\n",
    "\n",
    "#     #Hidden Layer\n",
    "    model.add(Dense(36, activation=\"relu\", kernel_initializer=init_mode)) #rezvy\n",
    "\n",
    "    model.add(Dense(24, activation=\"relu\", kernel_initializer=init_mode)) #rezvy\n",
    "    model.add(BatchNormalization()) #commented for ex\n",
    "    model.add(Dropout(dropout_rate))\n",
    "    \n",
    "    model.add(Dense(1, activation=activation_output)) #example\n",
    "    \n",
    "    # Compile model\n",
    "    model.compile(loss=loss, \n",
    "                  optimizer=optimizer, \n",
    "                  metrics=['accuracy'])\n",
    "    \n",
    "    print(model.summary())\n",
    "    \n",
    "    return model"
   ]
  },
  {
   "cell_type": "code",
   "execution_count": 23,
   "metadata": {},
   "outputs": [],
   "source": [
    "def ann_1h_36n(neurons,encoded_train_x,init_mode,activation_input,\n",
    "               weight_constraint,dropout_rate,activation_output,\n",
    "               loss,optimizer):\n",
    "\n",
    "    # create model\n",
    "    model = Sequential()\n",
    "\n",
    "    model.add(Dense(neurons, input_dim=encoded_train_x.shape[1],\n",
    "                    kernel_initializer=init_mode,\n",
    "                    #kernel_regularizer=regularizers.l2(0.02), #from example\n",
    "                    activation=activation_input,\n",
    "                    kernel_constraint=maxnorm(weight_constraint)\n",
    "                    )\n",
    "              )\n",
    "\n",
    "#     #Hidden Layer\n",
    "    model.add(Dense(36, activation=\"relu\", kernel_initializer=init_mode)) #rezvy\n",
    "    model.add(BatchNormalization()) #commented for ex\n",
    "    model.add(Dropout(dropout_rate))\n",
    "    \n",
    "    model.add(Dense(1, activation=activation_output)) #example\n",
    "    \n",
    "    # Compile model\n",
    "    model.compile(loss=loss, \n",
    "                  optimizer=optimizer, \n",
    "                  metrics=['accuracy'])\n",
    "    \n",
    "    print(model.summary())\n",
    "    \n",
    "    return model"
   ]
  },
  {
   "cell_type": "code",
   "execution_count": 24,
   "metadata": {},
   "outputs": [],
   "source": [
    "def ann_1h_24n(neurons,encoded_train_x,init_mode,activation_input,\n",
    "               weight_constraint,dropout_rate,activation_output,\n",
    "               loss,optimizer):\n",
    "\n",
    "    # create model\n",
    "    model = Sequential()\n",
    "\n",
    "    model.add(Dense(neurons, input_dim=encoded_train_x.shape[1],\n",
    "                    kernel_initializer=init_mode,\n",
    "                    #kernel_regularizer=regularizers.l2(0.02), #from example\n",
    "                    activation=activation_input,\n",
    "                    kernel_constraint=maxnorm(weight_constraint)\n",
    "                    )\n",
    "              )\n",
    "\n",
    "#     #Hidden Layer\n",
    "    model.add(Dense(24, activation=\"relu\", kernel_initializer=init_mode)) #rezvy\n",
    "    model.add(BatchNormalization()) #commented for ex\n",
    "    model.add(Dropout(dropout_rate))\n",
    "    \n",
    "    model.add(Dense(1, activation=activation_output)) #example\n",
    "    \n",
    "    # Compile model\n",
    "    model.compile(loss=loss, \n",
    "                  optimizer=optimizer, \n",
    "                  metrics=['accuracy'])\n",
    "    \n",
    "    print(model.summary())\n",
    "    \n",
    "    return model"
   ]
  },
  {
   "cell_type": "code",
   "execution_count": 25,
   "metadata": {},
   "outputs": [],
   "source": [
    "def ann_fit(checkpoint_file,ann,enc_train_x,train_y,epochs,shuffle,batch_size):\n",
    "    early_stopping = EarlyStopping(monitor='val_loss', patience=5)\n",
    "\n",
    "    cp = ModelCheckpoint(filepath=checkpoint_file,\n",
    "                                   save_best_only=True,\n",
    "                                   verbose=0)\n",
    "\n",
    "    tb = TensorBoard(log_dir='./logs',\n",
    "                    histogram_freq=0,\n",
    "                    write_graph=True,\n",
    "                    write_images=True)\n",
    "\n",
    "    start_time = time.time()\n",
    "    print(time.ctime(start_time))\n",
    "\n",
    "    history = ann.fit(enc_train_x,\n",
    "                      train_y,\n",
    "                      validation_split=0.2,\n",
    "                      callbacks=[early_stopping],\n",
    "                      epochs=epochs,\n",
    "                      shuffle=shuffle,\n",
    "                      batch_size=batch_size,\n",
    "                      verbose=1)\n",
    "\n",
    "    elapsed_time = (time.time() - start_time)\n",
    "    print(\"--- ANN spent %s seconds ---\" % elapsed_time)\n",
    "\n",
    "    return history"
   ]
  },
  {
   "cell_type": "code",
   "execution_count": 26,
   "metadata": {},
   "outputs": [],
   "source": [
    "def ann_predict(ann,enc_test_x):\n",
    "    pred_ann_prob = ann.predict(enc_test_x)\n",
    "    pred_ann_prob.shape\n",
    "    pred_ann_prob = pred_ann_prob[:,0]\n",
    "    pred_ann_01 = np.where(pred_ann_prob > 0.5, 1, 0)\n",
    "    \n",
    "    #Print accuracy\n",
    "    acc_ann = accuracy_score(test_y, pred_ann_01)\n",
    "    print('Overall accuracy of Neural Network model:', acc_ann)\n",
    "\n",
    "    classiBM = \"NN\"\n",
    "    preBM = (sm.precision_score(test_y, pred_ann_01)*100) \n",
    "    recallBM = (sm.recall_score(test_y, pred_ann_01)*100) \n",
    "    f1scoreBM = (sm.f1_score(test_y, pred_ann_01)*100)\n",
    "    print(sm.classification_report(test_y, pred_ann_01))\n",
    "    \n",
    "    return pred_ann_prob, pred_ann_01"
   ]
  },
  {
   "cell_type": "code",
   "execution_count": 27,
   "metadata": {},
   "outputs": [],
   "source": [
    "def plot_roc_cm(pred_ann_prob, pred_ann_01, roc_file, cm_file):\n",
    "    false_positive_rate, recall, thresholds = roc_curve(test_y, pred_ann_prob)\n",
    "    roc_auc = auc(false_positive_rate, recall)\n",
    "    plt.figure()\n",
    "    plt.title('Receiver Operating Characteristic (ROC)')\n",
    "    plt.plot(false_positive_rate, recall, 'b', label = 'AUC = %0.3f' %roc_auc)\n",
    "    plt.legend(loc='lower right')\n",
    "    plt.plot([0,1], [0,1], 'r--')\n",
    "    plt.xlim([0.0,1.0])\n",
    "    plt.ylim([0.0,1.0])\n",
    "    plt.ylabel('Recall')\n",
    "    plt.xlabel('Fall-out (1-Specificity)')\n",
    "    plt.savefig(roc_file)\n",
    "    plt.show()\n",
    "    \n",
    "    cm = confusion_matrix(test_y, pred_ann_01)\n",
    "    labels = ['Normal', 'Malicious']\n",
    "    plt.figure(figsize=(8,6))\n",
    "    sns.heatmap(cm,xticklabels=labels, yticklabels=labels, annot=True, fmt='d', cmap=\"RdYlGn\", vmin = 0.2);\n",
    "    plt.title('Confusion Matrix')\n",
    "    plt.ylabel('True Class')\n",
    "    plt.xlabel('Predicted Class')\n",
    "    plt.savefig(cm_file)\n",
    "    plt.show()\n",
    "    "
   ]
  },
  {
   "cell_type": "markdown",
   "metadata": {},
   "source": [
    "loss: 2.7516e-05 - acc: 0.0407 \n",
    "\n",
    "val_loss: 2.7072e-05 - val_acc: 0.0399"
   ]
  },
  {
   "cell_type": "code",
   "execution_count": 28,
   "metadata": {},
   "outputs": [
    {
     "name": "stdout",
     "output_type": "stream",
     "text": [
      "WARNING:tensorflow:From /home/user/anaconda3/envs/deepl/lib/python3.6/site-packages/tensorflow/python/framework/op_def_library.py:263: colocate_with (from tensorflow.python.framework.ops) is deprecated and will be removed in a future version.\n",
      "Instructions for updating:\n",
      "Colocations handled automatically by placer.\n",
      "_________________________________________________________________\n",
      "Layer (type)                 Output Shape              Param #   \n",
      "=================================================================\n",
      "input_1 (InputLayer)         (None, 48)                0         \n",
      "_________________________________________________________________\n",
      "encoded_bottle_neck (Dense)  (None, 32)                1568      \n",
      "_________________________________________________________________\n",
      "dense_1 (Dense)              (None, 48)                1584      \n",
      "=================================================================\n",
      "Total params: 3,152\n",
      "Trainable params: 3,152\n",
      "Non-trainable params: 0\n",
      "_________________________________________________________________\n",
      "None\n"
     ]
    }
   ],
   "source": [
    "ae_sigmoid_adam_logcosh,enc_train_x_asal,enc_test_x_asal = ae(factor_enc_dim = 1.5,\n",
    "                                                              enc_activation = 'relu',\n",
    "                                                              dec_activation = 'sigmoid',\n",
    "                                                              optimizer='Adam',\n",
    "                                                              loss='logcosh')"
   ]
  },
  {
   "cell_type": "code",
   "execution_count": 29,
   "metadata": {},
   "outputs": [],
   "source": [
    "#ae_sigmoid_adam_logcosh = load_model('ae_sigmoid_adam_logcosh_redds10bal.h5')"
   ]
  },
  {
   "cell_type": "code",
   "execution_count": 30,
   "metadata": {},
   "outputs": [
    {
     "name": "stdout",
     "output_type": "stream",
     "text": [
      "Thu Jun  6 10:41:06 2019\n",
      "WARNING:tensorflow:From /home/user/anaconda3/envs/deepl/lib/python3.6/site-packages/tensorflow/python/ops/math_ops.py:3066: to_int32 (from tensorflow.python.ops.math_ops) is deprecated and will be removed in a future version.\n",
      "Instructions for updating:\n",
      "Use tf.cast instead.\n",
      "Train on 291298 samples, validate on 72825 samples\n",
      "Epoch 1/200\n",
      "291298/291298 [==============================] - 13s 46us/step - loss: 0.0789 - acc: 0.1733 - val_loss: 0.0740 - val_acc: 0.1909\n",
      "Epoch 2/200\n",
      "291298/291298 [==============================] - 13s 46us/step - loss: 0.0739 - acc: 0.1917 - val_loss: 0.0740 - val_acc: 0.1783\n",
      "Epoch 3/200\n",
      "291298/291298 [==============================] - 13s 44us/step - loss: 0.0739 - acc: 0.1782 - val_loss: 0.0740 - val_acc: 0.1711\n",
      "Epoch 4/200\n",
      "291298/291298 [==============================] - 13s 45us/step - loss: 0.0739 - acc: 0.1729 - val_loss: 0.0740 - val_acc: 0.1671\n",
      "Epoch 5/200\n",
      "291298/291298 [==============================] - 13s 44us/step - loss: 0.0739 - acc: 0.1709 - val_loss: 0.0740 - val_acc: 0.1676\n",
      "Epoch 6/200\n",
      "291298/291298 [==============================] - 13s 44us/step - loss: 0.0739 - acc: 0.1723 - val_loss: 0.0740 - val_acc: 0.1686\n",
      "Epoch 7/200\n",
      "291298/291298 [==============================] - 13s 45us/step - loss: 0.0739 - acc: 0.1737 - val_loss: 0.0740 - val_acc: 0.1711\n",
      "Epoch 8/200\n",
      "291298/291298 [==============================] - 13s 45us/step - loss: 0.0739 - acc: 0.1752 - val_loss: 0.0740 - val_acc: 0.1725\n",
      "Epoch 9/200\n",
      "291298/291298 [==============================] - 13s 45us/step - loss: 0.0739 - acc: 0.1770 - val_loss: 0.0740 - val_acc: 0.1745\n",
      "Epoch 10/200\n",
      "291298/291298 [==============================] - 13s 46us/step - loss: 0.0739 - acc: 0.1798 - val_loss: 0.0740 - val_acc: 0.1788\n",
      "Epoch 11/200\n",
      "291298/291298 [==============================] - 13s 46us/step - loss: 0.0739 - acc: 0.1829 - val_loss: 0.0740 - val_acc: 0.1805\n",
      "Epoch 12/200\n",
      "291298/291298 [==============================] - 13s 46us/step - loss: 0.0739 - acc: 0.1855 - val_loss: 0.0740 - val_acc: 0.1829\n",
      "Epoch 13/200\n",
      "291298/291298 [==============================] - 13s 46us/step - loss: 0.0739 - acc: 0.1885 - val_loss: 0.0740 - val_acc: 0.1874\n",
      "Epoch 14/200\n",
      "291298/291298 [==============================] - 14s 47us/step - loss: 0.0739 - acc: 0.1933 - val_loss: 0.0740 - val_acc: 0.1931\n",
      "Epoch 15/200\n",
      "291298/291298 [==============================] - 13s 46us/step - loss: 0.0739 - acc: 0.1998 - val_loss: 0.0740 - val_acc: 0.2000\n",
      "Epoch 16/200\n",
      "291298/291298 [==============================] - 14s 47us/step - loss: 0.0739 - acc: 0.2079 - val_loss: 0.0740 - val_acc: 0.2097\n",
      "Epoch 17/200\n",
      "291298/291298 [==============================] - 14s 47us/step - loss: 0.0739 - acc: 0.2154 - val_loss: 0.0740 - val_acc: 0.2161\n",
      "Epoch 18/200\n",
      "291298/291298 [==============================] - 14s 47us/step - loss: 0.0739 - acc: 0.2227 - val_loss: 0.0740 - val_acc: 0.2251\n",
      "Epoch 19/200\n",
      "291298/291298 [==============================] - 14s 47us/step - loss: 0.0739 - acc: 0.2284 - val_loss: 0.0740 - val_acc: 0.2290\n",
      "Epoch 20/200\n",
      "291298/291298 [==============================] - 13s 46us/step - loss: 0.0739 - acc: 0.2326 - val_loss: 0.0740 - val_acc: 0.2331\n",
      "Epoch 21/200\n",
      "291298/291298 [==============================] - 14s 47us/step - loss: 0.0739 - acc: 0.2364 - val_loss: 0.0740 - val_acc: 0.2364\n",
      "Epoch 22/200\n",
      "291298/291298 [==============================] - 14s 47us/step - loss: 0.0739 - acc: 0.2412 - val_loss: 0.0740 - val_acc: 0.2404\n",
      "Epoch 23/200\n",
      "291298/291298 [==============================] - 14s 47us/step - loss: 0.0739 - acc: 0.2431 - val_loss: 0.0740 - val_acc: 0.2423\n",
      "Epoch 24/200\n",
      "291298/291298 [==============================] - 14s 47us/step - loss: 0.0739 - acc: 0.2430 - val_loss: 0.0740 - val_acc: 0.2412\n",
      "Epoch 25/200\n",
      "291298/291298 [==============================] - 14s 47us/step - loss: 0.0739 - acc: 0.2395 - val_loss: 0.0740 - val_acc: 0.2363\n",
      "Epoch 26/200\n",
      "291298/291298 [==============================] - 14s 47us/step - loss: 0.0739 - acc: 0.2385 - val_loss: 0.0740 - val_acc: 0.2359\n",
      "Epoch 27/200\n",
      "291298/291298 [==============================] - 14s 47us/step - loss: 0.0739 - acc: 0.2372 - val_loss: 0.0740 - val_acc: 0.2336\n",
      "Epoch 28/200\n",
      "291298/291298 [==============================] - 14s 48us/step - loss: 0.0739 - acc: 0.2358 - val_loss: 0.0740 - val_acc: 0.2334\n",
      "Epoch 29/200\n",
      "291298/291298 [==============================] - 14s 48us/step - loss: 0.0739 - acc: 0.2354 - val_loss: 0.0740 - val_acc: 0.2330\n",
      "Epoch 30/200\n",
      "291298/291298 [==============================] - 14s 47us/step - loss: 0.0739 - acc: 0.2351 - val_loss: 0.0740 - val_acc: 0.2325\n",
      "Epoch 31/200\n",
      "291298/291298 [==============================] - 14s 47us/step - loss: 0.0739 - acc: 0.2345 - val_loss: 0.0740 - val_acc: 0.2324\n",
      "Epoch 32/200\n",
      "291298/291298 [==============================] - 14s 48us/step - loss: 0.0739 - acc: 0.2349 - val_loss: 0.0740 - val_acc: 0.2333\n",
      "Epoch 33/200\n",
      "291298/291298 [==============================] - 14s 48us/step - loss: 0.0739 - acc: 0.2345 - val_loss: 0.0740 - val_acc: 0.2323\n",
      "Epoch 34/200\n",
      "291298/291298 [==============================] - 14s 48us/step - loss: 0.0739 - acc: 0.2348 - val_loss: 0.0740 - val_acc: 0.2356\n",
      "Epoch 35/200\n",
      "291298/291298 [==============================] - 14s 47us/step - loss: 0.0739 - acc: 0.2362 - val_loss: 0.0740 - val_acc: 0.2361\n",
      "Epoch 36/200\n",
      "291298/291298 [==============================] - 14s 48us/step - loss: 0.0739 - acc: 0.2385 - val_loss: 0.0740 - val_acc: 0.2365\n",
      "Epoch 37/200\n",
      "291298/291298 [==============================] - 14s 48us/step - loss: 0.0739 - acc: 0.2384 - val_loss: 0.0740 - val_acc: 0.2365\n",
      "Epoch 38/200\n",
      "291298/291298 [==============================] - 14s 48us/step - loss: 0.0739 - acc: 0.2376 - val_loss: 0.0740 - val_acc: 0.2368\n",
      "Epoch 39/200\n",
      "291298/291298 [==============================] - 14s 49us/step - loss: 0.0739 - acc: 0.2362 - val_loss: 0.0740 - val_acc: 0.2340\n",
      "Epoch 40/200\n",
      "291298/291298 [==============================] - 14s 48us/step - loss: 0.0739 - acc: 0.2356 - val_loss: 0.0740 - val_acc: 0.2332\n",
      "Epoch 41/200\n",
      "291298/291298 [==============================] - 12s 41us/step - loss: 0.0739 - acc: 0.2362 - val_loss: 0.0740 - val_acc: 0.2357\n",
      "Epoch 42/200\n",
      "291298/291298 [==============================] - 12s 42us/step - loss: 0.0739 - acc: 0.2366 - val_loss: 0.0740 - val_acc: 0.2334\n",
      "Epoch 43/200\n",
      "291298/291298 [==============================] - 13s 46us/step - loss: 0.0739 - acc: 0.2360 - val_loss: 0.0740 - val_acc: 0.2336\n",
      "Epoch 44/200\n",
      "291298/291298 [==============================] - 12s 41us/step - loss: 0.0739 - acc: 0.2368 - val_loss: 0.0740 - val_acc: 0.2348\n",
      "Epoch 45/200\n",
      "291298/291298 [==============================] - 12s 42us/step - loss: 0.0739 - acc: 0.2384 - val_loss: 0.0740 - val_acc: 0.2370\n",
      "Epoch 46/200\n",
      "291298/291298 [==============================] - 12s 40us/step - loss: 0.0739 - acc: 0.2404 - val_loss: 0.0740 - val_acc: 0.2386\n",
      "Epoch 47/200\n",
      "291298/291298 [==============================] - 11s 39us/step - loss: 0.0739 - acc: 0.2404 - val_loss: 0.0740 - val_acc: 0.2371\n",
      "Epoch 48/200\n",
      "291298/291298 [==============================] - 11s 38us/step - loss: 0.0739 - acc: 0.2346 - val_loss: 0.0740 - val_acc: 0.2251\n",
      "Epoch 49/200\n",
      "291298/291298 [==============================] - 11s 39us/step - loss: 0.0739 - acc: 0.2339 - val_loss: 0.0740 - val_acc: 0.2313\n",
      "Epoch 50/200\n",
      "291298/291298 [==============================] - 12s 41us/step - loss: 0.0739 - acc: 0.2363 - val_loss: 0.0740 - val_acc: 0.2310\n",
      "Epoch 51/200\n",
      "291298/291298 [==============================] - 11s 37us/step - loss: 0.0739 - acc: 0.2350 - val_loss: 0.0740 - val_acc: 0.2300\n",
      "Epoch 52/200\n",
      "291298/291298 [==============================] - 11s 37us/step - loss: 0.0739 - acc: 0.2330 - val_loss: 0.0740 - val_acc: 0.2297\n",
      "Epoch 53/200\n",
      "291298/291298 [==============================] - 11s 36us/step - loss: 0.0739 - acc: 0.2324 - val_loss: 0.0740 - val_acc: 0.2292\n",
      "Epoch 54/200\n",
      "291298/291298 [==============================] - 11s 36us/step - loss: 0.0739 - acc: 0.2335 - val_loss: 0.0740 - val_acc: 0.2308\n",
      "Epoch 55/200\n",
      "291298/291298 [==============================] - 11s 37us/step - loss: 0.0739 - acc: 0.2335 - val_loss: 0.0740 - val_acc: 0.2302\n",
      "Epoch 56/200\n",
      "291298/291298 [==============================] - 11s 38us/step - loss: 0.0739 - acc: 0.2330 - val_loss: 0.0740 - val_acc: 0.2299\n",
      "Epoch 57/200\n",
      "291298/291298 [==============================] - 11s 36us/step - loss: 0.0739 - acc: 0.2348 - val_loss: 0.0740 - val_acc: 0.2284\n",
      "Epoch 58/200\n",
      "291298/291298 [==============================] - 11s 38us/step - loss: 0.0739 - acc: 0.2327 - val_loss: 0.0740 - val_acc: 0.2317\n",
      "Epoch 59/200\n",
      "291298/291298 [==============================] - 11s 38us/step - loss: 0.0739 - acc: 0.2350 - val_loss: 0.0740 - val_acc: 0.2303\n",
      "Epoch 60/200\n",
      "291298/291298 [==============================] - 11s 38us/step - loss: 0.0739 - acc: 0.2375 - val_loss: 0.0740 - val_acc: 0.2326\n",
      "Epoch 61/200\n",
      "291298/291298 [==============================] - 11s 38us/step - loss: 0.0739 - acc: 0.2359 - val_loss: 0.0740 - val_acc: 0.2281\n",
      "Epoch 62/200\n",
      "291298/291298 [==============================] - 11s 38us/step - loss: 0.0739 - acc: 0.2340 - val_loss: 0.0740 - val_acc: 0.2277\n",
      "Epoch 63/200\n",
      "291298/291298 [==============================] - 11s 38us/step - loss: 0.0739 - acc: 0.2332 - val_loss: 0.0740 - val_acc: 0.2282\n",
      "Epoch 64/200\n",
      "291298/291298 [==============================] - 11s 38us/step - loss: 0.0739 - acc: 0.2368 - val_loss: 0.0740 - val_acc: 0.2273\n",
      "Epoch 65/200\n",
      "291298/291298 [==============================] - 11s 38us/step - loss: 0.0739 - acc: 0.2304 - val_loss: 0.0740 - val_acc: 0.2244\n",
      "Epoch 66/200\n",
      "291298/291298 [==============================] - 11s 38us/step - loss: 0.0739 - acc: 0.2304 - val_loss: 0.0740 - val_acc: 0.2244\n",
      "Epoch 67/200\n",
      "291298/291298 [==============================] - 11s 39us/step - loss: 0.0739 - acc: 0.2300 - val_loss: 0.0740 - val_acc: 0.2261\n",
      "Epoch 68/200\n",
      "291298/291298 [==============================] - 11s 39us/step - loss: 0.0739 - acc: 0.2356 - val_loss: 0.0740 - val_acc: 0.2273\n",
      "Epoch 69/200\n",
      "291298/291298 [==============================] - 11s 38us/step - loss: 0.0739 - acc: 0.2341 - val_loss: 0.0740 - val_acc: 0.2284\n",
      "Epoch 70/200\n",
      "291298/291298 [==============================] - 11s 38us/step - loss: 0.0739 - acc: 0.2365 - val_loss: 0.0740 - val_acc: 0.2294\n",
      "--- AE spent 882.5350301265717 seconds ---\n"
     ]
    }
   ],
   "source": [
    "hist_ae_sigmoid_adam_logcosh = fit_ae(checkpoint_file = \"ae_sigmoid_adam_logcosh_redds10bal.h5\",\n",
    "                                        autoencoder = ae_sigmoid_adam_logcosh, \n",
    "                                        epochs = 200, \n",
    "                                        batch_size = 48, \n",
    "                                        shuffle = False)"
   ]
  },
  {
   "cell_type": "code",
   "execution_count": 31,
   "metadata": {},
   "outputs": [
    {
     "name": "stdout",
     "output_type": "stream",
     "text": [
      "Best loss value: 0.07389111688260577\n"
     ]
    },
    {
     "data": {
      "image/png": "[encoded data removed]",
      "text/plain": [
       "<Figure size 432x288 with 1 Axes>"
      ]
     },
     "metadata": {
      "needs_background": "light"
     },
     "output_type": "display_data"
    }
   ],
   "source": [
    "best_loss_value_ae_sigmoid_adam_logcosh = plot_hist_auto(hist_ae_sigmoid_adam_logcosh, './Figures/ae_sigmoid_adam_logcosh.png')"
   ]
  },
  {
   "cell_type": "code",
   "execution_count": null,
   "metadata": {},
   "outputs": [],
   "source": []
  },
  {
   "cell_type": "code",
   "execution_count": null,
   "metadata": {},
   "outputs": [],
   "source": []
  },
  {
   "cell_type": "markdown",
   "metadata": {},
   "source": [
    "# Grid Search AE"
   ]
  },
  {
   "cell_type": "code",
   "execution_count": null,
   "metadata": {},
   "outputs": [],
   "source": [
    "# def aegs(factor_enc_dim=1.5,enc_activation='relu',dec_activation='sigmoid',optimizer='Adam',loss='logcosh'):\n",
    "\n",
    "#     encoding_dim = int(int(train_x.shape[1])/1.5)\n",
    "#     ### Define input layer\n",
    "#     input_data = Input(shape=(train_x.shape[1],))\n",
    "#     ### Define encoding layer #RELU\n",
    "#     encoded = Dense(encoding_dim, activation=enc_activation, name='encoded_bottle_neck')(input_data)\n",
    "#     ### Define decoding layer #SIMOID\n",
    "#     decoded = Dense(train_x.shape[1], activation=dec_activation)(encoded)\n",
    "#     ### Create the autoencoder model\n",
    "#     autoencoder = Model(input_data, decoded)\n",
    "#     autoencoder.compile(optimizer=optimizer,\n",
    "#                         loss=loss,\n",
    "#                         metrics=['accuracy'])\n",
    "    \n",
    "#     return autoencoder"
   ]
  },
  {
   "cell_type": "code",
   "execution_count": null,
   "metadata": {},
   "outputs": [],
   "source": [
    "# modelAE = KerasClassifier(build_fn = aegs)"
   ]
  },
  {
   "cell_type": "code",
   "execution_count": null,
   "metadata": {},
   "outputs": [],
   "source": [
    "# epochs = [100]\n",
    "# batch_size = [48]\n",
    "\n",
    "# factor_enc_dim = [1.5]\n",
    "# enc_activation = ['relu', 'sigmoid']\n",
    "# dec_activation = ['linear', 'sigmoid']\n",
    "# optimizer = ['Adam']\n",
    "# loss=['logcosh', 'mse']"
   ]
  },
  {
   "cell_type": "code",
   "execution_count": null,
   "metadata": {},
   "outputs": [],
   "source": [
    "# param_gridAE = dict(epochs=epochs, batch_size=batch_size, factor_enc_dim=factor_enc_dim, enc_activation=enc_activation, dec_activation=dec_activation, optimizer=optimizer, loss=loss)"
   ]
  },
  {
   "cell_type": "code",
   "execution_count": null,
   "metadata": {},
   "outputs": [],
   "source": [
    "# gridAE = GridSearchCV(estimator=modelAE, param_grid=param_gridAE, verbose=1, cv=2)\n",
    "# early_stopping = EarlyStopping(monitor='val_loss', patience=5)"
   ]
  },
  {
   "cell_type": "code",
   "execution_count": null,
   "metadata": {},
   "outputs": [],
   "source": [
    "# start_time = time.time()\n",
    "# print(time.ctime(start_time))"
   ]
  },
  {
   "cell_type": "code",
   "execution_count": null,
   "metadata": {},
   "outputs": [],
   "source": [
    "# resultAE = gridAE.fit(train_x, train_x,\n",
    "#                 shuffle=True,\n",
    "#                 verbose=1, \n",
    "#                 callbacks=[early_stopping],\n",
    "#                 validation_data=(dev_x, dev_x))\n",
    "# elapsed_time = (time.time() - start_time)"
   ]
  },
  {
   "cell_type": "code",
   "execution_count": null,
   "metadata": {},
   "outputs": [],
   "source": [
    "# print(\"--- AE spent %s seconds ---\" %elapsed_time)"
   ]
  },
  {
   "cell_type": "code",
   "execution_count": null,
   "metadata": {},
   "outputs": [],
   "source": [
    "# print(\"Best: %f using %s\" % (resultAE.best_score_, resultAE.best_params_))\n",
    "# means = resultAE.cv_results_['mean_test_score']\n",
    "# stds = resultAE.cv_results_['std_test_score']\n",
    "# params = resultAE.cv_results_['params']\n",
    "# for mean, stdev, param in zip(means, stds, params):\n",
    "#     print(\"%f (%f) with: %r\" % (mean, stdev, param))"
   ]
  },
  {
   "cell_type": "markdown",
   "metadata": {},
   "source": [
    "39298/39298 [==============================] - 2s 41us/step - loss: 2.9830e-06 - acc: 0.1110 - val_loss: 4.9964e-06 - val_acc: 0.0225"
   ]
  },
  {
   "cell_type": "markdown",
   "metadata": {},
   "source": [
    "0.084215 (0.044213) with: {'batch_size': 48, 'dec_activation': 'linear', 'enc_activation': 'sigmoid', 'epochs': 100, 'factor_enc_dim': 1.5, 'loss': 'logcosh', 'optimizer': 'Adam'}"
   ]
  },
  {
   "cell_type": "code",
   "execution_count": 32,
   "metadata": {},
   "outputs": [
    {
     "name": "stdout",
     "output_type": "stream",
     "text": [
      "_________________________________________________________________\n",
      "Layer (type)                 Output Shape              Param #   \n",
      "=================================================================\n",
      "input_2 (InputLayer)         (None, 48)                0         \n",
      "_________________________________________________________________\n",
      "encoded_bottle_neck (Dense)  (None, 32)                1568      \n",
      "_________________________________________________________________\n",
      "dense_2 (Dense)              (None, 48)                1584      \n",
      "=================================================================\n",
      "Total params: 3,152\n",
      "Trainable params: 3,152\n",
      "Non-trainable params: 0\n",
      "_________________________________________________________________\n",
      "None\n"
     ]
    }
   ],
   "source": [
    "ae_siglin_adam_logcosh,enc_train_x_aslal,enc_test_x_aslal = ae(factor_enc_dim = 1.5,\n",
    "                                                              enc_activation = 'sigmoid',\n",
    "                                                              dec_activation = 'linear',\n",
    "                                                              optimizer='Adam',\n",
    "                                                              loss='logcosh')"
   ]
  },
  {
   "cell_type": "code",
   "execution_count": 33,
   "metadata": {},
   "outputs": [],
   "source": [
    "#ae_siglin_adam_logcosh = load_model('ae_siglin_adam_logcosh_redds10bal.h5')"
   ]
  },
  {
   "cell_type": "code",
   "execution_count": 34,
   "metadata": {},
   "outputs": [
    {
     "name": "stdout",
     "output_type": "stream",
     "text": [
      "Thu Jun  6 11:02:15 2019\n",
      "Train on 291298 samples, validate on 72825 samples\n",
      "Epoch 1/200\n",
      "291298/291298 [==============================] - 13s 43us/step - loss: 0.0103 - acc: 0.6411 - val_loss: 0.0013 - val_acc: 0.7677\n",
      "Epoch 2/200\n",
      "291298/291298 [==============================] - 12s 42us/step - loss: 7.3642e-04 - acc: 0.7533 - val_loss: 4.3296e-04 - val_acc: 0.7791\n",
      "Epoch 3/200\n",
      "291298/291298 [==============================] - 12s 43us/step - loss: 3.1811e-04 - acc: 0.7683 - val_loss: 2.5262e-04 - val_acc: 0.7719\n",
      "Epoch 4/200\n",
      "291298/291298 [==============================] - 13s 46us/step - loss: 2.0524e-04 - acc: 0.7743 - val_loss: 1.8247e-04 - val_acc: 0.7909\n",
      "Epoch 5/200\n",
      "291298/291298 [==============================] - 14s 47us/step - loss: 1.5712e-04 - acc: 0.7772 - val_loss: 1.5434e-04 - val_acc: 0.7557\n",
      "Epoch 6/200\n",
      "291298/291298 [==============================] - 14s 47us/step - loss: 1.3116e-04 - acc: 0.7782 - val_loss: 1.3681e-04 - val_acc: 0.7522\n",
      "Epoch 7/200\n",
      "291298/291298 [==============================] - 13s 45us/step - loss: 1.1465e-04 - acc: 0.7780 - val_loss: 1.2304e-04 - val_acc: 0.7531\n",
      "Epoch 8/200\n",
      "291298/291298 [==============================] - 14s 48us/step - loss: 1.0317e-04 - acc: 0.7773 - val_loss: 1.1128e-04 - val_acc: 0.7491\n",
      "Epoch 9/200\n",
      "291298/291298 [==============================] - 14s 49us/step - loss: 9.4602e-05 - acc: 0.7777 - val_loss: 1.0141e-04 - val_acc: 0.8062\n",
      "Epoch 10/200\n",
      "291298/291298 [==============================] - 14s 48us/step - loss: 8.7851e-05 - acc: 0.7774 - val_loss: 9.3942e-05 - val_acc: 0.7769\n",
      "Epoch 11/200\n",
      "291298/291298 [==============================] - 14s 47us/step - loss: 8.2427e-05 - acc: 0.7774 - val_loss: 8.8826e-05 - val_acc: 0.7235\n",
      "Epoch 12/200\n",
      "291298/291298 [==============================] - 14s 47us/step - loss: 7.7977e-05 - acc: 0.7781 - val_loss: 8.5473e-05 - val_acc: 0.7790\n",
      "Epoch 13/200\n",
      "291298/291298 [==============================] - 14s 48us/step - loss: 7.4194e-05 - acc: 0.7779 - val_loss: 8.2692e-05 - val_acc: 0.7834\n",
      "Epoch 14/200\n",
      "291298/291298 [==============================] - 14s 47us/step - loss: 7.0870e-05 - acc: 0.7785 - val_loss: 7.9891e-05 - val_acc: 0.7577\n",
      "Epoch 15/200\n",
      "291298/291298 [==============================] - 14s 47us/step - loss: 6.7845e-05 - acc: 0.7790 - val_loss: 7.6854e-05 - val_acc: 0.7474\n",
      "Epoch 16/200\n",
      "291298/291298 [==============================] - 13s 46us/step - loss: 6.4981e-05 - acc: 0.7796 - val_loss: 7.2912e-05 - val_acc: 0.7473\n",
      "Epoch 17/200\n",
      "291298/291298 [==============================] - 13s 46us/step - loss: 6.2206e-05 - acc: 0.7798 - val_loss: 6.7571e-05 - val_acc: 0.7503\n",
      "Epoch 18/200\n",
      "291298/291298 [==============================] - 13s 46us/step - loss: 5.9521e-05 - acc: 0.7800 - val_loss: 6.1543e-05 - val_acc: 0.7555\n",
      "Epoch 19/200\n",
      "291298/291298 [==============================] - 14s 47us/step - loss: 5.7054e-05 - acc: 0.7800 - val_loss: 5.6547e-05 - val_acc: 0.7624\n",
      "Epoch 20/200\n",
      "291298/291298 [==============================] - 13s 46us/step - loss: 5.4809e-05 - acc: 0.7804 - val_loss: 5.4024e-05 - val_acc: 0.7874\n",
      "Epoch 21/200\n",
      "291298/291298 [==============================] - 14s 47us/step - loss: 5.2862e-05 - acc: 0.7807 - val_loss: 5.3311e-05 - val_acc: 0.8014\n",
      "Epoch 22/200\n",
      "291298/291298 [==============================] - 14s 47us/step - loss: 5.1178e-05 - acc: 0.7811 - val_loss: 5.3401e-05 - val_acc: 0.8052\n",
      "Epoch 23/200\n",
      "291298/291298 [==============================] - 14s 47us/step - loss: 4.9679e-05 - acc: 0.7809 - val_loss: 5.3765e-05 - val_acc: 0.8049\n",
      "Epoch 24/200\n",
      "291298/291298 [==============================] - 14s 48us/step - loss: 4.8311e-05 - acc: 0.7816 - val_loss: 5.4136e-05 - val_acc: 0.8040\n",
      "Epoch 25/200\n",
      "291298/291298 [==============================] - 14s 48us/step - loss: 4.7050e-05 - acc: 0.7818 - val_loss: 5.4417e-05 - val_acc: 0.8030\n",
      "Epoch 26/200\n",
      "291298/291298 [==============================] - 14s 48us/step - loss: 4.5891e-05 - acc: 0.7815 - val_loss: 5.4546e-05 - val_acc: 0.8000\n",
      "--- AE spent 353.4925379753113 seconds ---\n"
     ]
    }
   ],
   "source": [
    "hist_ae_siglin_adam_logcosh = fit_ae(checkpoint_file = \"ae_siglin_adam_logcosh_redds10bal.h5\",\n",
    "                                        autoencoder = ae_siglin_adam_logcosh, \n",
    "                                        epochs = 200, \n",
    "                                        batch_size = 48, \n",
    "                                        shuffle = False)"
   ]
  },
  {
   "cell_type": "code",
   "execution_count": 35,
   "metadata": {},
   "outputs": [
    {
     "name": "stdout",
     "output_type": "stream",
     "text": [
      "Best loss value: 4.5890981827637295e-05\n"
     ]
    },
    {
     "data": {
      "image/png": "[encoded data removed]",
      "text/plain": [
       "<Figure size 432x288 with 1 Axes>"
      ]
     },
     "metadata": {
      "needs_background": "light"
     },
     "output_type": "display_data"
    }
   ],
   "source": [
    "best_loss_value_ae_siglin_adam_logcosh = plot_hist_auto(hist_ae_siglin_adam_logcosh, './Figures/hist_ae_siglin_adam_logcosh.png')"
   ]
  },
  {
   "cell_type": "code",
   "execution_count": null,
   "metadata": {},
   "outputs": [],
   "source": []
  },
  {
   "cell_type": "code",
   "execution_count": 36,
   "metadata": {},
   "outputs": [
    {
     "name": "stdout",
     "output_type": "stream",
     "text": [
      "_________________________________________________________________\n",
      "Layer (type)                 Output Shape              Param #   \n",
      "=================================================================\n",
      "input_3 (InputLayer)         (None, 48)                0         \n",
      "_________________________________________________________________\n",
      "encoded_bottle_neck (Dense)  (None, 32)                1568      \n",
      "_________________________________________________________________\n",
      "dense_3 (Dense)              (None, 48)                1584      \n",
      "=================================================================\n",
      "Total params: 3,152\n",
      "Trainable params: 3,152\n",
      "Non-trainable params: 0\n",
      "_________________________________________________________________\n",
      "None\n"
     ]
    }
   ],
   "source": [
    "ae_sigmoid_adam_mse,enc_train_x_asam,enc_test_x_asam = ae(factor_enc_dim = 1.5,\n",
    "                                                          enc_activation = 'relu',\n",
    "                                                          dec_activation = 'sigmoid',\n",
    "                                                          optimizer='Adam',\n",
    "                                                          loss='mean_squared_error')"
   ]
  },
  {
   "cell_type": "code",
   "execution_count": 37,
   "metadata": {},
   "outputs": [],
   "source": [
    "#ae_sigmoid_adam_mse = load_model('ae_sigmoid_adam_mse_redds10bal.h5')"
   ]
  },
  {
   "cell_type": "code",
   "execution_count": 38,
   "metadata": {},
   "outputs": [
    {
     "name": "stdout",
     "output_type": "stream",
     "text": [
      "Thu Jun  6 11:09:42 2019\n",
      "Train on 291298 samples, validate on 72825 samples\n",
      "Epoch 1/200\n",
      "291298/291298 [==============================] - 12s 43us/step - loss: 0.2218 - acc: 0.2191 - val_loss: 0.2120 - val_acc: 0.2432\n",
      "Epoch 2/200\n",
      "291298/291298 [==============================] - 12s 40us/step - loss: 0.2107 - acc: 0.2433 - val_loss: 0.2111 - val_acc: 0.2414\n",
      "Epoch 3/200\n",
      "291298/291298 [==============================] - 12s 40us/step - loss: 0.2103 - acc: 0.2515 - val_loss: 0.2110 - val_acc: 0.2471\n",
      "Epoch 4/200\n",
      "291298/291298 [==============================] - 12s 40us/step - loss: 0.2103 - acc: 0.2486 - val_loss: 0.2110 - val_acc: 0.2444\n",
      "Epoch 5/200\n",
      "291298/291298 [==============================] - 11s 39us/step - loss: 0.2103 - acc: 0.2472 - val_loss: 0.2110 - val_acc: 0.2438\n",
      "Epoch 6/200\n",
      "291298/291298 [==============================] - 11s 39us/step - loss: 0.2103 - acc: 0.2464 - val_loss: 0.2110 - val_acc: 0.2427\n",
      "Epoch 7/200\n",
      "291298/291298 [==============================] - 11s 39us/step - loss: 0.2103 - acc: 0.2455 - val_loss: 0.2110 - val_acc: 0.2419\n",
      "Epoch 8/200\n",
      "291298/291298 [==============================] - 11s 39us/step - loss: 0.2103 - acc: 0.2448 - val_loss: 0.2110 - val_acc: 0.2410\n",
      "Epoch 9/200\n",
      "291298/291298 [==============================] - 11s 39us/step - loss: 0.2103 - acc: 0.2442 - val_loss: 0.2110 - val_acc: 0.2408\n",
      "Epoch 10/200\n",
      "291298/291298 [==============================] - 11s 39us/step - loss: 0.2103 - acc: 0.2437 - val_loss: 0.2110 - val_acc: 0.2402\n",
      "Epoch 11/200\n",
      "291298/291298 [==============================] - 11s 38us/step - loss: 0.2103 - acc: 0.2432 - val_loss: 0.2110 - val_acc: 0.2399\n",
      "Epoch 12/200\n",
      "291298/291298 [==============================] - 11s 39us/step - loss: 0.2103 - acc: 0.2426 - val_loss: 0.2110 - val_acc: 0.2394\n",
      "Epoch 13/200\n",
      "291298/291298 [==============================] - 11s 38us/step - loss: 0.2103 - acc: 0.2423 - val_loss: 0.2110 - val_acc: 0.2385\n",
      "Epoch 14/200\n",
      "291298/291298 [==============================] - 11s 38us/step - loss: 0.2103 - acc: 0.2418 - val_loss: 0.2110 - val_acc: 0.2379\n",
      "Epoch 15/200\n",
      "291298/291298 [==============================] - 11s 38us/step - loss: 0.2103 - acc: 0.2416 - val_loss: 0.2110 - val_acc: 0.2375\n",
      "Epoch 16/200\n",
      "291298/291298 [==============================] - 11s 38us/step - loss: 0.2103 - acc: 0.2416 - val_loss: 0.2110 - val_acc: 0.2373\n",
      "Epoch 17/200\n",
      "291298/291298 [==============================] - 11s 38us/step - loss: 0.2103 - acc: 0.2415 - val_loss: 0.2110 - val_acc: 0.2378\n",
      "Epoch 18/200\n",
      "291298/291298 [==============================] - 11s 38us/step - loss: 0.2103 - acc: 0.2421 - val_loss: 0.2110 - val_acc: 0.2407\n",
      "Epoch 19/200\n",
      "291298/291298 [==============================] - 11s 38us/step - loss: 0.2103 - acc: 0.2435 - val_loss: 0.2110 - val_acc: 0.2435\n",
      "Epoch 20/200\n",
      "291298/291298 [==============================] - 11s 38us/step - loss: 0.2103 - acc: 0.2527 - val_loss: 0.2109 - val_acc: 0.2645\n",
      "Epoch 21/200\n",
      "291298/291298 [==============================] - 11s 38us/step - loss: 0.2102 - acc: 0.2614 - val_loss: 0.2109 - val_acc: 0.2553\n",
      "Epoch 22/200\n",
      "291298/291298 [==============================] - 11s 37us/step - loss: 0.2102 - acc: 0.2577 - val_loss: 0.2109 - val_acc: 0.2547\n",
      "Epoch 23/200\n",
      "291298/291298 [==============================] - 11s 37us/step - loss: 0.2102 - acc: 0.2598 - val_loss: 0.2109 - val_acc: 0.2548\n",
      "Epoch 24/200\n",
      "291298/291298 [==============================] - 11s 37us/step - loss: 0.2102 - acc: 0.2590 - val_loss: 0.2109 - val_acc: 0.2571\n",
      "Epoch 25/200\n",
      "291298/291298 [==============================] - 11s 37us/step - loss: 0.2102 - acc: 0.2592 - val_loss: 0.2109 - val_acc: 0.2588\n",
      "Epoch 26/200\n",
      "291298/291298 [==============================] - 11s 37us/step - loss: 0.2102 - acc: 0.2637 - val_loss: 0.2109 - val_acc: 0.2596\n",
      "Epoch 27/200\n",
      "291298/291298 [==============================] - 11s 37us/step - loss: 0.2102 - acc: 0.2618 - val_loss: 0.2109 - val_acc: 0.2582\n",
      "Epoch 28/200\n",
      "291298/291298 [==============================] - 11s 37us/step - loss: 0.2102 - acc: 0.2630 - val_loss: 0.2109 - val_acc: 0.2600\n",
      "Epoch 29/200\n",
      "291298/291298 [==============================] - 11s 37us/step - loss: 0.2102 - acc: 0.2633 - val_loss: 0.2109 - val_acc: 0.2604\n",
      "Epoch 30/200\n",
      "291298/291298 [==============================] - 11s 37us/step - loss: 0.2102 - acc: 0.2608 - val_loss: 0.2109 - val_acc: 0.2575\n",
      "Epoch 31/200\n",
      "291298/291298 [==============================] - 11s 36us/step - loss: 0.2102 - acc: 0.2606 - val_loss: 0.2109 - val_acc: 0.2586\n",
      "Epoch 32/200\n",
      "291298/291298 [==============================] - 10s 36us/step - loss: 0.2102 - acc: 0.2606 - val_loss: 0.2109 - val_acc: 0.2616\n",
      "Epoch 33/200\n",
      "291298/291298 [==============================] - 11s 36us/step - loss: 0.2102 - acc: 0.2620 - val_loss: 0.2109 - val_acc: 0.2660\n",
      "Epoch 34/200\n",
      "291298/291298 [==============================] - 10s 36us/step - loss: 0.2102 - acc: 0.2646 - val_loss: 0.2109 - val_acc: 0.2667\n",
      "Epoch 35/200\n",
      "291298/291298 [==============================] - 11s 36us/step - loss: 0.2102 - acc: 0.2662 - val_loss: 0.2109 - val_acc: 0.2655\n",
      "Epoch 36/200\n",
      "291298/291298 [==============================] - 10s 36us/step - loss: 0.2102 - acc: 0.2689 - val_loss: 0.2109 - val_acc: 0.2665\n",
      "Epoch 37/200\n",
      "291298/291298 [==============================] - 10s 36us/step - loss: 0.2102 - acc: 0.2704 - val_loss: 0.2109 - val_acc: 0.2667\n",
      "Epoch 38/200\n",
      "291298/291298 [==============================] - 10s 36us/step - loss: 0.2102 - acc: 0.2705 - val_loss: 0.2109 - val_acc: 0.2678\n",
      "Epoch 39/200\n",
      "291298/291298 [==============================] - 10s 36us/step - loss: 0.2102 - acc: 0.2705 - val_loss: 0.2109 - val_acc: 0.2677\n",
      "Epoch 40/200\n",
      "291298/291298 [==============================] - 10s 36us/step - loss: 0.2102 - acc: 0.2678 - val_loss: 0.2109 - val_acc: 0.2648\n",
      "Epoch 41/200\n",
      "291298/291298 [==============================] - 10s 35us/step - loss: 0.2102 - acc: 0.2617 - val_loss: 0.2109 - val_acc: 0.2577\n",
      "Epoch 42/200\n",
      "291298/291298 [==============================] - 10s 35us/step - loss: 0.2102 - acc: 0.2616 - val_loss: 0.2109 - val_acc: 0.2602\n",
      "Epoch 43/200\n",
      "291298/291298 [==============================] - 10s 35us/step - loss: 0.2102 - acc: 0.2620 - val_loss: 0.2109 - val_acc: 0.2570\n",
      "Epoch 44/200\n",
      "291298/291298 [==============================] - 10s 35us/step - loss: 0.2102 - acc: 0.2598 - val_loss: 0.2109 - val_acc: 0.2587\n",
      "Epoch 45/200\n",
      "291298/291298 [==============================] - 10s 35us/step - loss: 0.2102 - acc: 0.2612 - val_loss: 0.2109 - val_acc: 0.2595\n",
      "Epoch 46/200\n",
      "291298/291298 [==============================] - 10s 35us/step - loss: 0.2102 - acc: 0.2634 - val_loss: 0.2109 - val_acc: 0.2611\n",
      "Epoch 47/200\n",
      "291298/291298 [==============================] - 10s 36us/step - loss: 0.2102 - acc: 0.2630 - val_loss: 0.2109 - val_acc: 0.2604\n",
      "Epoch 48/200\n",
      "291298/291298 [==============================] - 10s 35us/step - loss: 0.2102 - acc: 0.2623 - val_loss: 0.2109 - val_acc: 0.2589\n",
      "Epoch 49/200\n",
      "291298/291298 [==============================] - 10s 35us/step - loss: 0.2102 - acc: 0.2611 - val_loss: 0.2109 - val_acc: 0.2584\n",
      "Epoch 50/200\n",
      "291298/291298 [==============================] - 10s 35us/step - loss: 0.2102 - acc: 0.2589 - val_loss: 0.2109 - val_acc: 0.2565\n",
      "Epoch 51/200\n",
      "291298/291298 [==============================] - 10s 35us/step - loss: 0.2102 - acc: 0.2582 - val_loss: 0.2109 - val_acc: 0.2534\n",
      "Epoch 52/200\n",
      "291298/291298 [==============================] - 10s 35us/step - loss: 0.2102 - acc: 0.2573 - val_loss: 0.2109 - val_acc: 0.2535\n",
      "Epoch 53/200\n",
      "291298/291298 [==============================] - 10s 35us/step - loss: 0.2102 - acc: 0.2575 - val_loss: 0.2109 - val_acc: 0.2536\n",
      "Epoch 54/200\n",
      "291298/291298 [==============================] - 10s 35us/step - loss: 0.2102 - acc: 0.2572 - val_loss: 0.2109 - val_acc: 0.2533\n",
      "Epoch 55/200\n",
      "291298/291298 [==============================] - 10s 35us/step - loss: 0.2102 - acc: 0.2559 - val_loss: 0.2109 - val_acc: 0.2482\n",
      "Epoch 56/200\n",
      "291298/291298 [==============================] - 10s 35us/step - loss: 0.2102 - acc: 0.2544 - val_loss: 0.2109 - val_acc: 0.2488\n",
      "Epoch 57/200\n",
      "291298/291298 [==============================] - 10s 36us/step - loss: 0.2102 - acc: 0.2590 - val_loss: 0.2109 - val_acc: 0.2536\n",
      "Epoch 58/200\n",
      "291298/291298 [==============================] - 10s 36us/step - loss: 0.2102 - acc: 0.2557 - val_loss: 0.2109 - val_acc: 0.2501\n",
      "Epoch 59/200\n",
      "291298/291298 [==============================] - 10s 35us/step - loss: 0.2102 - acc: 0.2531 - val_loss: 0.2109 - val_acc: 0.2493\n",
      "Epoch 60/200\n",
      "291298/291298 [==============================] - 10s 35us/step - loss: 0.2102 - acc: 0.2538 - val_loss: 0.2109 - val_acc: 0.2504\n",
      "Epoch 61/200\n",
      "291298/291298 [==============================] - 10s 35us/step - loss: 0.2102 - acc: 0.2532 - val_loss: 0.2109 - val_acc: 0.2475\n",
      "Epoch 62/200\n",
      "291298/291298 [==============================] - 10s 35us/step - loss: 0.2102 - acc: 0.2512 - val_loss: 0.2109 - val_acc: 0.2447\n",
      "Epoch 63/200\n",
      "291298/291298 [==============================] - 10s 35us/step - loss: 0.2102 - acc: 0.2507 - val_loss: 0.2109 - val_acc: 0.2441\n",
      "Epoch 64/200\n",
      "291298/291298 [==============================] - 10s 35us/step - loss: 0.2102 - acc: 0.2475 - val_loss: 0.2109 - val_acc: 0.2426\n",
      "Epoch 65/200\n",
      "291298/291298 [==============================] - 10s 35us/step - loss: 0.2102 - acc: 0.2447 - val_loss: 0.2109 - val_acc: 0.2399\n",
      "Epoch 66/200\n",
      "291298/291298 [==============================] - 10s 35us/step - loss: 0.2102 - acc: 0.2424 - val_loss: 0.2109 - val_acc: 0.2365\n",
      "Epoch 67/200\n",
      "291298/291298 [==============================] - 10s 35us/step - loss: 0.2102 - acc: 0.2491 - val_loss: 0.2109 - val_acc: 0.2377\n",
      "--- AE spent 716.9877796173096 seconds ---\n"
     ]
    }
   ],
   "source": [
    "hist_ae_sigmoid_adam_mse = fit_ae(checkpoint_file = \"ae_sigmoid_adam_mse_redds10bal.h5\",\n",
    "                                  autoencoder = ae_sigmoid_adam_mse, \n",
    "                                  epochs = 200, \n",
    "                                  batch_size = 48,\n",
    "                                  shuffle = False)"
   ]
  },
  {
   "cell_type": "code",
   "execution_count": 39,
   "metadata": {},
   "outputs": [
    {
     "name": "stdout",
     "output_type": "stream",
     "text": [
      "Best loss value: 0.21015174702664263\n"
     ]
    },
    {
     "data": {
      "image/png": "[encoded data removed]",
      "text/plain": [
       "<Figure size 432x288 with 1 Axes>"
      ]
     },
     "metadata": {
      "needs_background": "light"
     },
     "output_type": "display_data"
    }
   ],
   "source": [
    "best_loss_value_ae_sigmoid_adam_mse  = plot_hist_auto(hist_ae_sigmoid_adam_mse, './Figures/hist_ae_sigmoid_adam_mse.png')"
   ]
  },
  {
   "cell_type": "code",
   "execution_count": 40,
   "metadata": {},
   "outputs": [
    {
     "name": "stdout",
     "output_type": "stream",
     "text": [
      "_________________________________________________________________\n",
      "Layer (type)                 Output Shape              Param #   \n",
      "=================================================================\n",
      "input_4 (InputLayer)         (None, 48)                0         \n",
      "_________________________________________________________________\n",
      "input_layer (Dense)          (None, 32)                1568      \n",
      "_________________________________________________________________\n",
      "dense_4 (Dense)              (None, 16)                528       \n",
      "_________________________________________________________________\n",
      "enc_bottle_neck (Dense)      (None, 8)                 136       \n",
      "_________________________________________________________________\n",
      "dense_5 (Dense)              (None, 16)                144       \n",
      "_________________________________________________________________\n",
      "dense_6 (Dense)              (None, 32)                544       \n",
      "_________________________________________________________________\n",
      "dense_7 (Dense)              (None, 48)                1584      \n",
      "=================================================================\n",
      "Total params: 4,504\n",
      "Trainable params: 4,504\n",
      "Non-trainable params: 0\n",
      "_________________________________________________________________\n",
      "None\n"
     ]
    }
   ],
   "source": [
    "sae_sigmoid_adam_mse,enc_train_x_ssam,enc_test_x_ssam = sae(factor_enc_dim = 1.5,\n",
    "                                                          output_activation = 'sigmoid',\n",
    "                                                          optimizer='Adam',\n",
    "                                                          loss='mean_squared_error')"
   ]
  },
  {
   "cell_type": "code",
   "execution_count": 41,
   "metadata": {},
   "outputs": [],
   "source": [
    "#sae_sigmoid_adam_mse = load_model('sae_sigmoid_adam_mse_redds10bal.h5')"
   ]
  },
  {
   "cell_type": "code",
   "execution_count": 42,
   "metadata": {},
   "outputs": [
    {
     "name": "stdout",
     "output_type": "stream",
     "text": [
      "Thu Jun  6 11:26:02 2019\n",
      "Train on 291298 samples, validate on 72825 samples\n",
      "Epoch 1/200\n",
      "291298/291298 [==============================] - 21s 71us/step - loss: 0.2745 - acc: 0.1000 - val_loss: 0.2623 - val_acc: 0.1323\n",
      "Epoch 2/200\n",
      "291298/291298 [==============================] - 21s 71us/step - loss: 0.2585 - acc: 0.1417 - val_loss: 0.2581 - val_acc: 0.1280\n",
      "Epoch 3/200\n",
      "291298/291298 [==============================] - 21s 71us/step - loss: 0.2571 - acc: 0.1090 - val_loss: 0.2574 - val_acc: 0.0655\n",
      "Epoch 4/200\n",
      "291298/291298 [==============================] - 20s 69us/step - loss: 0.2563 - acc: 0.0409 - val_loss: 0.2567 - val_acc: 0.0398\n",
      "Epoch 5/200\n",
      "291298/291298 [==============================] - 20s 69us/step - loss: 0.2547 - acc: 0.0722 - val_loss: 0.2549 - val_acc: 0.1076\n",
      "Epoch 6/200\n",
      "291298/291298 [==============================] - 20s 70us/step - loss: 0.2540 - acc: 0.1351 - val_loss: 0.2545 - val_acc: 0.1640\n",
      "Epoch 7/200\n",
      "291298/291298 [==============================] - 20s 70us/step - loss: 0.2538 - acc: 0.1610 - val_loss: 0.2545 - val_acc: 0.1545\n",
      "Epoch 8/200\n",
      "291298/291298 [==============================] - 20s 70us/step - loss: 0.2537 - acc: 0.1527 - val_loss: 0.2544 - val_acc: 0.1582\n",
      "Epoch 9/200\n",
      "291298/291298 [==============================] - 20s 70us/step - loss: 0.2537 - acc: 0.1439 - val_loss: 0.2544 - val_acc: 0.1334\n",
      "Epoch 10/200\n",
      "291298/291298 [==============================] - 20s 70us/step - loss: 0.2537 - acc: 0.1248 - val_loss: 0.2544 - val_acc: 0.1033\n",
      "Epoch 11/200\n",
      "291298/291298 [==============================] - 21s 71us/step - loss: 0.2535 - acc: 0.0967 - val_loss: 0.2541 - val_acc: 0.0884\n",
      "Epoch 12/200\n",
      "291298/291298 [==============================] - 21s 71us/step - loss: 0.2531 - acc: 0.0879 - val_loss: 0.2528 - val_acc: 0.0849\n",
      "Epoch 13/200\n",
      "291298/291298 [==============================] - 21s 71us/step - loss: 0.2517 - acc: 0.0908 - val_loss: 0.2521 - val_acc: 0.0775\n",
      "Epoch 14/200\n",
      "291298/291298 [==============================] - 21s 70us/step - loss: 0.2510 - acc: 0.0798 - val_loss: 0.2519 - val_acc: 0.0584\n",
      "Epoch 15/200\n",
      "291298/291298 [==============================] - 21s 72us/step - loss: 0.2509 - acc: 0.0505 - val_loss: 0.2517 - val_acc: 0.0504\n",
      "Epoch 16/200\n",
      "291298/291298 [==============================] - 21s 73us/step - loss: 0.2471 - acc: 0.0831 - val_loss: 0.2472 - val_acc: 0.0844\n",
      "Epoch 17/200\n",
      "291298/291298 [==============================] - 21s 72us/step - loss: 0.2464 - acc: 0.0712 - val_loss: 0.2472 - val_acc: 0.0696\n",
      "Epoch 18/200\n",
      "291298/291298 [==============================] - 21s 72us/step - loss: 0.2463 - acc: 0.0739 - val_loss: 0.2467 - val_acc: 0.0662\n",
      "Epoch 19/200\n",
      "291298/291298 [==============================] - 21s 71us/step - loss: 0.2457 - acc: 0.0557 - val_loss: 0.2464 - val_acc: 0.0651\n",
      "Epoch 20/200\n",
      "291298/291298 [==============================] - 21s 72us/step - loss: 0.2456 - acc: 0.0652 - val_loss: 0.2464 - val_acc: 0.0554\n",
      "Epoch 21/200\n",
      "291298/291298 [==============================] - 21s 72us/step - loss: 0.2454 - acc: 0.0472 - val_loss: 0.2463 - val_acc: 0.0450\n",
      "Epoch 22/200\n",
      "291298/291298 [==============================] - 21s 72us/step - loss: 0.2456 - acc: 0.0747 - val_loss: 0.2462 - val_acc: 0.0491\n",
      "Epoch 23/200\n",
      "291298/291298 [==============================] - 21s 72us/step - loss: 0.2454 - acc: 0.0470 - val_loss: 0.2460 - val_acc: 0.0525\n",
      "Epoch 24/200\n",
      "291298/291298 [==============================] - 21s 72us/step - loss: 0.2449 - acc: 0.0510 - val_loss: 0.2457 - val_acc: 0.0664\n",
      "Epoch 25/200\n",
      "291298/291298 [==============================] - 21s 73us/step - loss: 0.2448 - acc: 0.0636 - val_loss: 0.2457 - val_acc: 0.0634\n",
      "Epoch 26/200\n",
      "291298/291298 [==============================] - 21s 72us/step - loss: 0.2449 - acc: 0.0621 - val_loss: 0.2456 - val_acc: 0.0664\n",
      "Epoch 27/200\n",
      "291298/291298 [==============================] - 21s 74us/step - loss: 0.2448 - acc: 0.0586 - val_loss: 0.2457 - val_acc: 0.0414\n",
      "Epoch 28/200\n",
      "291298/291298 [==============================] - 21s 72us/step - loss: 0.2448 - acc: 0.0551 - val_loss: 0.2456 - val_acc: 0.0441\n",
      "Epoch 29/200\n",
      "291298/291298 [==============================] - 21s 71us/step - loss: 0.2448 - acc: 0.0456 - val_loss: 0.2456 - val_acc: 0.0453\n",
      "Epoch 30/200\n",
      "291298/291298 [==============================] - 21s 72us/step - loss: 0.2449 - acc: 0.0695 - val_loss: 0.2456 - val_acc: 0.0655\n",
      "Epoch 31/200\n",
      "291298/291298 [==============================] - 21s 72us/step - loss: 0.2448 - acc: 0.0472 - val_loss: 0.2457 - val_acc: 0.0477\n",
      "Epoch 32/200\n",
      "291298/291298 [==============================] - 21s 72us/step - loss: 0.2447 - acc: 0.0456 - val_loss: 0.2458 - val_acc: 0.0481\n",
      "Epoch 33/200\n",
      "291298/291298 [==============================] - 18s 63us/step - loss: 0.2447 - acc: 0.0493 - val_loss: 0.2456 - val_acc: 0.0499\n",
      "Epoch 34/200\n",
      "291298/291298 [==============================] - 17s 58us/step - loss: 0.2445 - acc: 0.0639 - val_loss: 0.2452 - val_acc: 0.0741\n",
      "Epoch 35/200\n",
      "291298/291298 [==============================] - 17s 57us/step - loss: 0.2444 - acc: 0.0734 - val_loss: 0.2453 - val_acc: 0.0739\n",
      "Epoch 36/200\n",
      "291298/291298 [==============================] - 17s 57us/step - loss: 0.2444 - acc: 0.0698 - val_loss: 0.2453 - val_acc: 0.0933\n",
      "Epoch 37/200\n",
      "291298/291298 [==============================] - 18s 60us/step - loss: 0.2444 - acc: 0.0849 - val_loss: 0.2453 - val_acc: 0.0878\n",
      "Epoch 38/200\n",
      "291298/291298 [==============================] - 20s 70us/step - loss: 0.2444 - acc: 0.0815 - val_loss: 0.2451 - val_acc: 0.0862\n",
      "Epoch 39/200\n",
      "291298/291298 [==============================] - 20s 68us/step - loss: 0.2444 - acc: 0.0866 - val_loss: 0.2452 - val_acc: 0.0860\n",
      "Epoch 40/200\n",
      "291298/291298 [==============================] - 20s 67us/step - loss: 0.2443 - acc: 0.0916 - val_loss: 0.2451 - val_acc: 0.0903\n",
      "Epoch 41/200\n",
      "291298/291298 [==============================] - 20s 67us/step - loss: 0.2443 - acc: 0.0914 - val_loss: 0.2451 - val_acc: 0.1065\n",
      "Epoch 42/200\n",
      "291298/291298 [==============================] - 19s 65us/step - loss: 0.2443 - acc: 0.0939 - val_loss: 0.2451 - val_acc: 0.0937\n",
      "Epoch 43/200\n",
      "291298/291298 [==============================] - 19s 64us/step - loss: 0.2443 - acc: 0.0925 - val_loss: 0.2451 - val_acc: 0.0960\n",
      "Epoch 44/200\n",
      "291298/291298 [==============================] - 18s 61us/step - loss: 0.2443 - acc: 0.0926 - val_loss: 0.2451 - val_acc: 0.0979\n",
      "Epoch 45/200\n",
      "291298/291298 [==============================] - 18s 62us/step - loss: 0.2443 - acc: 0.0838 - val_loss: 0.2451 - val_acc: 0.0828\n",
      "Epoch 46/200\n",
      "291298/291298 [==============================] - 18s 62us/step - loss: 0.2443 - acc: 0.0853 - val_loss: 0.2451 - val_acc: 0.0902\n",
      "Epoch 47/200\n",
      "291298/291298 [==============================] - 18s 63us/step - loss: 0.2443 - acc: 0.0832 - val_loss: 0.2451 - val_acc: 0.0872\n",
      "Epoch 48/200\n",
      "291298/291298 [==============================] - 18s 62us/step - loss: 0.2442 - acc: 0.0977 - val_loss: 0.2453 - val_acc: 0.1277\n",
      "Epoch 49/200\n",
      "291298/291298 [==============================] - 17s 58us/step - loss: 0.2440 - acc: 0.0993 - val_loss: 0.2448 - val_acc: 0.0942\n",
      "Epoch 50/200\n",
      "291298/291298 [==============================] - 17s 57us/step - loss: 0.2440 - acc: 0.0834 - val_loss: 0.2448 - val_acc: 0.0819\n",
      "Epoch 51/200\n",
      "291298/291298 [==============================] - 17s 57us/step - loss: 0.2440 - acc: 0.0830 - val_loss: 0.2448 - val_acc: 0.0795\n",
      "Epoch 52/200\n",
      "291298/291298 [==============================] - 17s 57us/step - loss: 0.2439 - acc: 0.0798 - val_loss: 0.2448 - val_acc: 0.0717\n",
      "Epoch 53/200\n",
      "291298/291298 [==============================] - 16s 56us/step - loss: 0.2440 - acc: 0.0779 - val_loss: 0.2448 - val_acc: 0.0730\n",
      "Epoch 54/200\n",
      "291298/291298 [==============================] - 17s 57us/step - loss: 0.2440 - acc: 0.1094 - val_loss: 0.2448 - val_acc: 0.1413\n",
      "Epoch 55/200\n",
      "291298/291298 [==============================] - 17s 57us/step - loss: 0.2440 - acc: 0.1388 - val_loss: 0.2448 - val_acc: 0.1473\n",
      "Epoch 56/200\n",
      "291298/291298 [==============================] - 17s 57us/step - loss: 0.2439 - acc: 0.1288 - val_loss: 0.2448 - val_acc: 0.1526\n",
      "Epoch 57/200\n",
      "291298/291298 [==============================] - 17s 57us/step - loss: 0.2440 - acc: 0.1248 - val_loss: 0.2448 - val_acc: 0.1198\n",
      "Epoch 58/200\n",
      "291298/291298 [==============================] - 16s 56us/step - loss: 0.2440 - acc: 0.1073 - val_loss: 0.2448 - val_acc: 0.1739\n",
      "Epoch 59/200\n",
      "291298/291298 [==============================] - 17s 57us/step - loss: 0.2440 - acc: 0.1262 - val_loss: 0.2449 - val_acc: 0.1372\n",
      "Epoch 60/200\n",
      "291298/291298 [==============================] - 16s 56us/step - loss: 0.2439 - acc: 0.1347 - val_loss: 0.2448 - val_acc: 0.1349\n",
      "Epoch 61/200\n",
      "291298/291298 [==============================] - 17s 57us/step - loss: 0.2440 - acc: 0.1310 - val_loss: 0.2448 - val_acc: 0.1184\n",
      "Epoch 62/200\n",
      "291298/291298 [==============================] - 16s 56us/step - loss: 0.2439 - acc: 0.1159 - val_loss: 0.2448 - val_acc: 0.1275\n",
      "Epoch 63/200\n",
      "291298/291298 [==============================] - 17s 57us/step - loss: 0.2440 - acc: 0.1274 - val_loss: 0.2448 - val_acc: 0.1814\n",
      "Epoch 64/200\n",
      "291298/291298 [==============================] - 16s 56us/step - loss: 0.2439 - acc: 0.1604 - val_loss: 0.2447 - val_acc: 0.1579\n",
      "Epoch 65/200\n",
      "291298/291298 [==============================] - 16s 56us/step - loss: 0.2438 - acc: 0.1347 - val_loss: 0.2445 - val_acc: 0.1900\n",
      "Epoch 66/200\n",
      "291298/291298 [==============================] - 17s 57us/step - loss: 0.2437 - acc: 0.1512 - val_loss: 0.2445 - val_acc: 0.1515\n",
      "Epoch 67/200\n",
      "291298/291298 [==============================] - 16s 57us/step - loss: 0.2436 - acc: 0.1267 - val_loss: 0.2447 - val_acc: 0.1375\n",
      "Epoch 68/200\n",
      "291298/291298 [==============================] - 16s 56us/step - loss: 0.2436 - acc: 0.1287 - val_loss: 0.2448 - val_acc: 0.1372\n",
      "Epoch 69/200\n",
      "291298/291298 [==============================] - 16s 56us/step - loss: 0.2431 - acc: 0.1147 - val_loss: 0.2432 - val_acc: 0.0980\n",
      "Epoch 70/200\n",
      "291298/291298 [==============================] - 16s 56us/step - loss: 0.2424 - acc: 0.1182 - val_loss: 0.2432 - val_acc: 0.1076\n",
      "Epoch 71/200\n",
      "291298/291298 [==============================] - 16s 56us/step - loss: 0.2424 - acc: 0.1091 - val_loss: 0.2432 - val_acc: 0.1666\n",
      "Epoch 72/200\n",
      "291298/291298 [==============================] - 16s 56us/step - loss: 0.2424 - acc: 0.1256 - val_loss: 0.2432 - val_acc: 0.1672\n",
      "Epoch 73/200\n",
      "291298/291298 [==============================] - 16s 56us/step - loss: 0.2424 - acc: 0.1327 - val_loss: 0.2430 - val_acc: 0.1131\n",
      "Epoch 74/200\n",
      "291298/291298 [==============================] - 16s 57us/step - loss: 0.2422 - acc: 0.1125 - val_loss: 0.2430 - val_acc: 0.1248\n",
      "Epoch 75/200\n",
      "291298/291298 [==============================] - 16s 56us/step - loss: 0.2422 - acc: 0.1206 - val_loss: 0.2430 - val_acc: 0.1075\n",
      "Epoch 76/200\n",
      "291298/291298 [==============================] - 16s 56us/step - loss: 0.2422 - acc: 0.0949 - val_loss: 0.2430 - val_acc: 0.0987\n",
      "Epoch 77/200\n",
      "291298/291298 [==============================] - 16s 56us/step - loss: 0.2422 - acc: 0.1166 - val_loss: 0.2429 - val_acc: 0.1163\n",
      "Epoch 78/200\n",
      "291298/291298 [==============================] - 16s 56us/step - loss: 0.2422 - acc: 0.1103 - val_loss: 0.2432 - val_acc: 0.0952\n",
      "Epoch 79/200\n",
      "291298/291298 [==============================] - 16s 56us/step - loss: 0.2422 - acc: 0.0882 - val_loss: 0.2430 - val_acc: 0.1369\n",
      "Epoch 80/200\n",
      "291298/291298 [==============================] - 16s 56us/step - loss: 0.2421 - acc: 0.0869 - val_loss: 0.2429 - val_acc: 0.0851\n",
      "Epoch 81/200\n",
      "291298/291298 [==============================] - 16s 56us/step - loss: 0.2422 - acc: 0.1091 - val_loss: 0.2429 - val_acc: 0.1526\n",
      "Epoch 82/200\n",
      "291298/291298 [==============================] - 16s 56us/step - loss: 0.2421 - acc: 0.1170 - val_loss: 0.2429 - val_acc: 0.1198\n",
      "Epoch 83/200\n",
      "291298/291298 [==============================] - 16s 56us/step - loss: 0.2421 - acc: 0.0875 - val_loss: 0.2429 - val_acc: 0.1092\n",
      "Epoch 84/200\n",
      "291298/291298 [==============================] - 16s 56us/step - loss: 0.2421 - acc: 0.1086 - val_loss: 0.2429 - val_acc: 0.0831\n",
      "Epoch 85/200\n",
      "291298/291298 [==============================] - 16s 56us/step - loss: 0.2421 - acc: 0.0912 - val_loss: 0.2430 - val_acc: 0.1120\n",
      "Epoch 86/200\n",
      "291298/291298 [==============================] - 16s 56us/step - loss: 0.2422 - acc: 0.1231 - val_loss: 0.2429 - val_acc: 0.0798\n",
      "Epoch 87/200\n",
      "291298/291298 [==============================] - 16s 56us/step - loss: 0.2421 - acc: 0.0844 - val_loss: 0.2429 - val_acc: 0.0758\n",
      "Epoch 88/200\n",
      "291298/291298 [==============================] - 16s 56us/step - loss: 0.2422 - acc: 0.1054 - val_loss: 0.2430 - val_acc: 0.1955\n",
      "Epoch 89/200\n",
      "291298/291298 [==============================] - 16s 56us/step - loss: 0.2421 - acc: 0.1802 - val_loss: 0.2429 - val_acc: 0.1915\n",
      "Epoch 90/200\n",
      "291298/291298 [==============================] - 16s 56us/step - loss: 0.2415 - acc: 0.1234 - val_loss: 0.2422 - val_acc: 0.1670\n",
      "Epoch 91/200\n",
      "291298/291298 [==============================] - 16s 56us/step - loss: 0.2414 - acc: 0.1457 - val_loss: 0.2421 - val_acc: 0.1187\n",
      "Epoch 92/200\n",
      "291298/291298 [==============================] - 18s 63us/step - loss: 0.2413 - acc: 0.1117 - val_loss: 0.2421 - val_acc: 0.1125\n",
      "Epoch 93/200\n",
      "291298/291298 [==============================] - 20s 68us/step - loss: 0.2413 - acc: 0.1304 - val_loss: 0.2421 - val_acc: 0.1643\n",
      "Epoch 94/200\n",
      "291298/291298 [==============================] - 17s 57us/step - loss: 0.2413 - acc: 0.1385 - val_loss: 0.2421 - val_acc: 0.1026\n",
      "Epoch 95/200\n",
      "291298/291298 [==============================] - 16s 56us/step - loss: 0.2413 - acc: 0.1031 - val_loss: 0.2424 - val_acc: 0.0857\n",
      "Epoch 96/200\n",
      "291298/291298 [==============================] - 16s 56us/step - loss: 0.2413 - acc: 0.1259 - val_loss: 0.2421 - val_acc: 0.1216\n",
      "--- AE spent 1755.3377804756165 seconds ---\n"
     ]
    }
   ],
   "source": [
    "hist_sae_sigmoid_adam_mse = fit_ae(checkpoint_file = \"sae_sigmoid_adam_mse_redds10bal.h5\",\n",
    "                                        autoencoder = sae_sigmoid_adam_mse, \n",
    "                                        epochs = 200, \n",
    "                                        batch_size = 48, \n",
    "                                        shuffle = False)"
   ]
  },
  {
   "cell_type": "code",
   "execution_count": 43,
   "metadata": {},
   "outputs": [
    {
     "name": "stdout",
     "output_type": "stream",
     "text": [
      "Best loss value: 0.24134397109131991\n"
     ]
    },
    {
     "data": {
      "image/png": "[encoded data removed]",
      "text/plain": [
       "<Figure size 432x288 with 1 Axes>"
      ]
     },
     "metadata": {
      "needs_background": "light"
     },
     "output_type": "display_data"
    }
   ],
   "source": [
    "best_loss_value_sae_sigmoid_adam_mse  = plot_hist_auto(hist_sae_sigmoid_adam_mse, './Figures/hist_sae_sigmoid_adam_mse.png')"
   ]
  },
  {
   "cell_type": "code",
   "execution_count": 44,
   "metadata": {},
   "outputs": [
    {
     "name": "stdout",
     "output_type": "stream",
     "text": [
      "_________________________________________________________________\n",
      "Layer (type)                 Output Shape              Param #   \n",
      "=================================================================\n",
      "input_5 (InputLayer)         (None, 48)                0         \n",
      "_________________________________________________________________\n",
      "input_layer (Dense)          (None, 32)                1568      \n",
      "_________________________________________________________________\n",
      "dense_8 (Dense)              (None, 16)                528       \n",
      "_________________________________________________________________\n",
      "enc_bottle_neck (Dense)      (None, 8)                 136       \n",
      "_________________________________________________________________\n",
      "dense_9 (Dense)              (None, 16)                144       \n",
      "_________________________________________________________________\n",
      "dense_10 (Dense)             (None, 32)                544       \n",
      "_________________________________________________________________\n",
      "dense_11 (Dense)             (None, 48)                1584      \n",
      "=================================================================\n",
      "Total params: 4,504\n",
      "Trainable params: 4,504\n",
      "Non-trainable params: 0\n",
      "_________________________________________________________________\n",
      "None\n"
     ]
    }
   ],
   "source": [
    "sae_sigmoid_adam_logcosh,enc_train_x_ssal,enc_test_x_ssal = sae(factor_enc_dim = 1.5,\n",
    "                                                              output_activation = 'sigmoid',\n",
    "                                                              optimizer='Adam',\n",
    "                                                              loss='logcosh')"
   ]
  },
  {
   "cell_type": "code",
   "execution_count": 46,
   "metadata": {},
   "outputs": [],
   "source": [
    "# from keras.utils import plot_model \n",
    "# plot_model(sae_sigmoid_adam_logcosh, to_file='sae_sigmoid_adam_logcosh.png')\n",
    "# from PIL import Image\n",
    "# image = Image.open('sae_sigmoid_adam_logcosh.png')\n",
    "# image.show()"
   ]
  },
  {
   "cell_type": "code",
   "execution_count": 47,
   "metadata": {},
   "outputs": [],
   "source": [
    "#sae_sigmoid_adam_logcosh = load_model('sae_sigmoid_adam_logcosh_redds10bal.h5')"
   ]
  },
  {
   "cell_type": "code",
   "execution_count": 48,
   "metadata": {},
   "outputs": [
    {
     "name": "stdout",
     "output_type": "stream",
     "text": [
      "Thu Jun  6 12:05:50 2019\n",
      "Train on 291298 samples, validate on 72825 samples\n",
      "Epoch 1/200\n",
      "291298/291298 [==============================] - 22s 74us/step - loss: 0.1057 - acc: 0.0333 - val_loss: 0.1000 - val_acc: 0.0780\n",
      "Epoch 2/200\n",
      "291298/291298 [==============================] - 21s 73us/step - loss: 0.0989 - acc: 0.0859 - val_loss: 0.0989 - val_acc: 0.0923\n",
      "Epoch 3/200\n",
      "291298/291298 [==============================] - 21s 72us/step - loss: 0.0986 - acc: 0.0935 - val_loss: 0.0987 - val_acc: 0.0989\n",
      "Epoch 4/200\n",
      "291298/291298 [==============================] - 21s 72us/step - loss: 0.0984 - acc: 0.0976 - val_loss: 0.0986 - val_acc: 0.0971\n",
      "Epoch 5/200\n",
      "291298/291298 [==============================] - 21s 72us/step - loss: 0.0983 - acc: 0.0949 - val_loss: 0.0985 - val_acc: 0.0965\n",
      "Epoch 6/200\n",
      "291298/291298 [==============================] - 21s 72us/step - loss: 0.0983 - acc: 0.0968 - val_loss: 0.0985 - val_acc: 0.0989\n",
      "Epoch 7/200\n",
      "291298/291298 [==============================] - 21s 73us/step - loss: 0.0983 - acc: 0.0973 - val_loss: 0.0985 - val_acc: 0.0989\n",
      "Epoch 8/200\n",
      "291298/291298 [==============================] - 21s 73us/step - loss: 0.0983 - acc: 0.0957 - val_loss: 0.0985 - val_acc: 0.0945\n",
      "Epoch 9/200\n",
      "291298/291298 [==============================] - 21s 73us/step - loss: 0.0978 - acc: 0.0949 - val_loss: 0.0976 - val_acc: 0.0918\n",
      "Epoch 10/200\n",
      "291298/291298 [==============================] - 21s 74us/step - loss: 0.0974 - acc: 0.0937 - val_loss: 0.0976 - val_acc: 0.0964\n",
      "Epoch 11/200\n",
      "291298/291298 [==============================] - 22s 74us/step - loss: 0.0974 - acc: 0.0962 - val_loss: 0.0976 - val_acc: 0.0970\n",
      "Epoch 12/200\n",
      "291298/291298 [==============================] - 22s 74us/step - loss: 0.0974 - acc: 0.0953 - val_loss: 0.0976 - val_acc: 0.0944\n",
      "Epoch 13/200\n",
      "291298/291298 [==============================] - 21s 74us/step - loss: 0.0974 - acc: 0.0942 - val_loss: 0.0976 - val_acc: 0.0915\n",
      "Epoch 14/200\n",
      "291298/291298 [==============================] - 22s 74us/step - loss: 0.0973 - acc: 0.0933 - val_loss: 0.0976 - val_acc: 0.0958\n",
      "Epoch 15/200\n",
      "291298/291298 [==============================] - 22s 76us/step - loss: 0.0971 - acc: 0.0930 - val_loss: 0.0972 - val_acc: 0.0914\n",
      "Epoch 16/200\n",
      "291298/291298 [==============================] - 22s 75us/step - loss: 0.0970 - acc: 0.0937 - val_loss: 0.0972 - val_acc: 0.0954\n",
      "Epoch 17/200\n",
      "291298/291298 [==============================] - 22s 75us/step - loss: 0.0970 - acc: 0.0932 - val_loss: 0.0973 - val_acc: 0.0933\n",
      "Epoch 18/200\n",
      "291298/291298 [==============================] - 22s 76us/step - loss: 0.0970 - acc: 0.0905 - val_loss: 0.0973 - val_acc: 0.0880\n",
      "Epoch 19/200\n",
      "291298/291298 [==============================] - 21s 73us/step - loss: 0.0970 - acc: 0.0889 - val_loss: 0.0972 - val_acc: 0.0921\n",
      "Epoch 20/200\n",
      "291298/291298 [==============================] - 22s 75us/step - loss: 0.0970 - acc: 0.0901 - val_loss: 0.0972 - val_acc: 0.0910\n",
      "Epoch 21/200\n",
      "291298/291298 [==============================] - 22s 74us/step - loss: 0.0968 - acc: 0.0901 - val_loss: 0.0970 - val_acc: 0.0925\n",
      "Epoch 22/200\n",
      "291298/291298 [==============================] - 22s 76us/step - loss: 0.0968 - acc: 0.0906 - val_loss: 0.0970 - val_acc: 0.0922\n",
      "Epoch 23/200\n",
      "291298/291298 [==============================] - 22s 75us/step - loss: 0.0968 - acc: 0.0919 - val_loss: 0.0970 - val_acc: 0.0948\n",
      "Epoch 24/200\n",
      "291298/291298 [==============================] - 22s 76us/step - loss: 0.0968 - acc: 0.0913 - val_loss: 0.0970 - val_acc: 0.0937\n",
      "Epoch 25/200\n",
      "291298/291298 [==============================] - 22s 76us/step - loss: 0.0968 - acc: 0.0919 - val_loss: 0.0970 - val_acc: 0.0947\n",
      "Epoch 26/200\n",
      "291298/291298 [==============================] - 22s 75us/step - loss: 0.0968 - acc: 0.0987 - val_loss: 0.0970 - val_acc: 0.1402\n",
      "Epoch 27/200\n",
      "291298/291298 [==============================] - 22s 74us/step - loss: 0.0968 - acc: 0.1519 - val_loss: 0.0970 - val_acc: 0.1537\n",
      "--- AE spent 583.9147551059723 seconds ---\n"
     ]
    }
   ],
   "source": [
    "hist_sae_sigmoid_adam_logcosh = fit_ae(checkpoint_file = \"sae_sigmoid_adam_logcosh_redds10bal.h5\",\n",
    "                                        autoencoder = sae_sigmoid_adam_logcosh, \n",
    "                                        epochs = 200, \n",
    "                                        batch_size = 48, \n",
    "                                        shuffle = False)"
   ]
  },
  {
   "cell_type": "code",
   "execution_count": 49,
   "metadata": {},
   "outputs": [
    {
     "name": "stdout",
     "output_type": "stream",
     "text": [
      "Best loss value: 0.096761487314801\n"
     ]
    },
    {
     "data": {
      "image/png": "[encoded data removed]",
      "text/plain": [
       "<Figure size 432x288 with 1 Axes>"
      ]
     },
     "metadata": {
      "needs_background": "light"
     },
     "output_type": "display_data"
    }
   ],
   "source": [
    "best_loss_value_sae_sigmoid_adam_logcosh  = plot_hist_auto(hist_sae_sigmoid_adam_logcosh, './Figures/hist_sae_sigmoid_adam_logcosh.png')"
   ]
  },
  {
   "cell_type": "code",
   "execution_count": null,
   "metadata": {},
   "outputs": [],
   "source": []
  },
  {
   "cell_type": "code",
   "execution_count": 52,
   "metadata": {},
   "outputs": [
    {
     "name": "stdout",
     "output_type": "stream",
     "text": [
      "_________________________________________________________________\n",
      "Layer (type)                 Output Shape              Param #   \n",
      "=================================================================\n",
      "input_6 (InputLayer)         (None, 48)                0         \n",
      "_________________________________________________________________\n",
      "encoded_bottle_neck (Dense)  (None, 32)                1568      \n",
      "_________________________________________________________________\n",
      "dense_12 (Dense)             (None, 48)                1584      \n",
      "=================================================================\n",
      "Total params: 3,152\n",
      "Trainable params: 3,152\n",
      "Non-trainable params: 0\n",
      "_________________________________________________________________\n",
      "None\n"
     ]
    }
   ],
   "source": [
    "spae_sigmoid_adam_logcosh,enc_train_x_spaesal,enc_test_x_spaesal = spae(factor_enc_dim = 1.5,\n",
    "                                                              output_activation = 'sigmoid',\n",
    "                                                              optimizer='Adam',\n",
    "                                                              loss='logcosh')"
   ]
  },
  {
   "cell_type": "code",
   "execution_count": 53,
   "metadata": {},
   "outputs": [],
   "source": [
    "#spae_sigmoid_adam_logcosh = load_model('spae_sigmoid_adam_logcosh_redds10bal.h5')"
   ]
  },
  {
   "cell_type": "code",
   "execution_count": 54,
   "metadata": {},
   "outputs": [
    {
     "name": "stdout",
     "output_type": "stream",
     "text": [
      "Thu Jun  6 12:16:54 2019\n",
      "Train on 291298 samples, validate on 72825 samples\n",
      "Epoch 1/200\n",
      "291298/291298 [==============================] - 14s 47us/step - loss: 0.1163 - acc: 0.1173 - val_loss: 0.1017 - val_acc: 0.1357\n",
      "Epoch 2/200\n",
      "291298/291298 [==============================] - 13s 45us/step - loss: 0.0972 - acc: 0.1076 - val_loss: 0.0939 - val_acc: 0.0908\n",
      "Epoch 3/200\n",
      "291298/291298 [==============================] - 13s 45us/step - loss: 0.0916 - acc: 0.1036 - val_loss: 0.0900 - val_acc: 0.1046\n",
      "Epoch 4/200\n",
      "291298/291298 [==============================] - 14s 48us/step - loss: 0.0887 - acc: 0.1137 - val_loss: 0.0878 - val_acc: 0.1250\n",
      "Epoch 5/200\n",
      "291298/291298 [==============================] - 15s 51us/step - loss: 0.0869 - acc: 0.1150 - val_loss: 0.0864 - val_acc: 0.1232\n",
      "Epoch 6/200\n",
      "291298/291298 [==============================] - 15s 51us/step - loss: 0.0858 - acc: 0.1171 - val_loss: 0.0854 - val_acc: 0.1213\n",
      "Epoch 7/200\n",
      "291298/291298 [==============================] - 15s 50us/step - loss: 0.0849 - acc: 0.1250 - val_loss: 0.0846 - val_acc: 0.1295\n",
      "Epoch 8/200\n",
      "291298/291298 [==============================] - 15s 51us/step - loss: 0.0842 - acc: 0.1270 - val_loss: 0.0840 - val_acc: 0.1367\n",
      "Epoch 9/200\n",
      "291298/291298 [==============================] - 15s 53us/step - loss: 0.0837 - acc: 0.1332 - val_loss: 0.0836 - val_acc: 0.1500\n",
      "Epoch 10/200\n",
      "291298/291298 [==============================] - 15s 52us/step - loss: 0.0832 - acc: 0.1456 - val_loss: 0.0832 - val_acc: 0.1657\n",
      "Epoch 11/200\n",
      "291298/291298 [==============================] - 15s 52us/step - loss: 0.0829 - acc: 0.1579 - val_loss: 0.0829 - val_acc: 0.1678\n",
      "Epoch 12/200\n",
      "291298/291298 [==============================] - 15s 53us/step - loss: 0.0826 - acc: 0.1657 - val_loss: 0.0826 - val_acc: 0.1819\n",
      "Epoch 13/200\n",
      "291298/291298 [==============================] - 15s 53us/step - loss: 0.0823 - acc: 0.1715 - val_loss: 0.0824 - val_acc: 0.1866\n",
      "Epoch 14/200\n",
      "291298/291298 [==============================] - 15s 51us/step - loss: 0.0821 - acc: 0.1774 - val_loss: 0.0822 - val_acc: 0.1926\n",
      "Epoch 15/200\n",
      "291298/291298 [==============================] - 15s 51us/step - loss: 0.0819 - acc: 0.1810 - val_loss: 0.0821 - val_acc: 0.1916\n",
      "Epoch 16/200\n",
      "291298/291298 [==============================] - 15s 50us/step - loss: 0.0817 - acc: 0.1848 - val_loss: 0.0819 - val_acc: 0.1880\n",
      "Epoch 17/200\n",
      "291298/291298 [==============================] - 15s 52us/step - loss: 0.0816 - acc: 0.1875 - val_loss: 0.0817 - val_acc: 0.1943\n",
      "Epoch 18/200\n",
      "291298/291298 [==============================] - 15s 53us/step - loss: 0.0814 - acc: 0.1893 - val_loss: 0.0816 - val_acc: 0.1952\n",
      "Epoch 19/200\n",
      "291298/291298 [==============================] - 15s 52us/step - loss: 0.0813 - acc: 0.1912 - val_loss: 0.0814 - val_acc: 0.1964\n",
      "Epoch 20/200\n",
      "291298/291298 [==============================] - 15s 53us/step - loss: 0.0812 - acc: 0.1937 - val_loss: 0.0813 - val_acc: 0.2026\n",
      "Epoch 21/200\n",
      "291298/291298 [==============================] - 15s 53us/step - loss: 0.0811 - acc: 0.1956 - val_loss: 0.0812 - val_acc: 0.1947\n",
      "Epoch 22/200\n",
      "291298/291298 [==============================] - 16s 53us/step - loss: 0.0810 - acc: 0.1984 - val_loss: 0.0812 - val_acc: 0.1968\n",
      "Epoch 23/200\n",
      "291298/291298 [==============================] - 16s 55us/step - loss: 0.0809 - acc: 0.2004 - val_loss: 0.0810 - val_acc: 0.2043\n",
      "Epoch 24/200\n",
      "291298/291298 [==============================] - 16s 55us/step - loss: 0.0808 - acc: 0.2020 - val_loss: 0.0809 - val_acc: 0.2085\n",
      "Epoch 25/200\n",
      "291298/291298 [==============================] - 16s 54us/step - loss: 0.0808 - acc: 0.2037 - val_loss: 0.0809 - val_acc: 0.2054\n",
      "Epoch 26/200\n",
      "291298/291298 [==============================] - 16s 54us/step - loss: 0.0807 - acc: 0.2060 - val_loss: 0.0808 - val_acc: 0.2032\n",
      "Epoch 27/200\n",
      "291298/291298 [==============================] - 16s 54us/step - loss: 0.0806 - acc: 0.2084 - val_loss: 0.0807 - val_acc: 0.2062\n",
      "Epoch 28/200\n",
      "291298/291298 [==============================] - 15s 53us/step - loss: 0.0806 - acc: 0.2107 - val_loss: 0.0807 - val_acc: 0.2160\n",
      "Epoch 29/200\n",
      "291298/291298 [==============================] - 16s 54us/step - loss: 0.0805 - acc: 0.2160 - val_loss: 0.0806 - val_acc: 0.2072\n",
      "Epoch 30/200\n",
      "291298/291298 [==============================] - 16s 54us/step - loss: 0.0805 - acc: 0.2211 - val_loss: 0.0806 - val_acc: 0.2325\n",
      "Epoch 31/200\n",
      "291298/291298 [==============================] - 16s 55us/step - loss: 0.0805 - acc: 0.2259 - val_loss: 0.0806 - val_acc: 0.2056\n",
      "Epoch 32/200\n",
      "291298/291298 [==============================] - 16s 56us/step - loss: 0.0804 - acc: 0.2312 - val_loss: 0.0804 - val_acc: 0.2298\n",
      "Epoch 33/200\n",
      "291298/291298 [==============================] - 16s 56us/step - loss: 0.0803 - acc: 0.2349 - val_loss: 0.0804 - val_acc: 0.2347\n",
      "Epoch 34/200\n",
      "291298/291298 [==============================] - 16s 55us/step - loss: 0.0805 - acc: 0.2391 - val_loss: 0.0806 - val_acc: 0.2459\n",
      "Epoch 35/200\n",
      "291298/291298 [==============================] - 16s 55us/step - loss: 0.0804 - acc: 0.2426 - val_loss: 0.0806 - val_acc: 0.2421\n",
      "Epoch 36/200\n",
      "291298/291298 [==============================] - 16s 55us/step - loss: 0.0804 - acc: 0.2460 - val_loss: 0.0805 - val_acc: 0.2456\n",
      "Epoch 37/200\n",
      "291298/291298 [==============================] - 16s 56us/step - loss: 0.0803 - acc: 0.2446 - val_loss: 0.0805 - val_acc: 0.2242\n",
      "Epoch 38/200\n",
      "291298/291298 [==============================] - 16s 56us/step - loss: 0.0803 - acc: 0.2252 - val_loss: 0.0804 - val_acc: 0.2181\n",
      "Epoch 39/200\n",
      "291298/291298 [==============================] - 16s 55us/step - loss: 0.0803 - acc: 0.2185 - val_loss: 0.0803 - val_acc: 0.2141\n",
      "Epoch 40/200\n",
      "291298/291298 [==============================] - 16s 56us/step - loss: 0.0802 - acc: 0.2193 - val_loss: 0.0802 - val_acc: 0.2220\n",
      "Epoch 41/200\n",
      "291298/291298 [==============================] - 16s 55us/step - loss: 0.0802 - acc: 0.2184 - val_loss: 0.0803 - val_acc: 0.2248\n",
      "Epoch 42/200\n",
      "291298/291298 [==============================] - 16s 56us/step - loss: 0.0802 - acc: 0.2187 - val_loss: 0.0802 - val_acc: 0.2271\n",
      "Epoch 43/200\n",
      "291298/291298 [==============================] - 16s 55us/step - loss: 0.0801 - acc: 0.2196 - val_loss: 0.0803 - val_acc: 0.2248\n",
      "Epoch 44/200\n",
      "291298/291298 [==============================] - 16s 55us/step - loss: 0.0801 - acc: 0.2189 - val_loss: 0.0802 - val_acc: 0.2280\n",
      "Epoch 45/200\n",
      "291298/291298 [==============================] - 16s 54us/step - loss: 0.0801 - acc: 0.2189 - val_loss: 0.0803 - val_acc: 0.2253\n",
      "Epoch 46/200\n",
      "291298/291298 [==============================] - 16s 55us/step - loss: 0.0800 - acc: 0.2193 - val_loss: 0.0801 - val_acc: 0.2248\n",
      "Epoch 47/200\n",
      "291298/291298 [==============================] - 16s 54us/step - loss: 0.0800 - acc: 0.2185 - val_loss: 0.0801 - val_acc: 0.2254\n",
      "Epoch 48/200\n",
      "291298/291298 [==============================] - 16s 54us/step - loss: 0.0800 - acc: 0.2189 - val_loss: 0.0801 - val_acc: 0.2252\n",
      "Epoch 49/200\n",
      "291298/291298 [==============================] - 16s 54us/step - loss: 0.0799 - acc: 0.2193 - val_loss: 0.0801 - val_acc: 0.2241\n",
      "Epoch 50/200\n",
      "291298/291298 [==============================] - 15s 52us/step - loss: 0.0799 - acc: 0.2195 - val_loss: 0.0800 - val_acc: 0.2251\n",
      "Epoch 51/200\n",
      "291298/291298 [==============================] - 15s 51us/step - loss: 0.0799 - acc: 0.2195 - val_loss: 0.0800 - val_acc: 0.2250\n",
      "Epoch 52/200\n",
      "291298/291298 [==============================] - 14s 49us/step - loss: 0.0799 - acc: 0.2196 - val_loss: 0.0800 - val_acc: 0.2260\n",
      "Epoch 53/200\n",
      "291298/291298 [==============================] - 14s 49us/step - loss: 0.0798 - acc: 0.2194 - val_loss: 0.0799 - val_acc: 0.2208\n",
      "Epoch 54/200\n",
      "291298/291298 [==============================] - 14s 48us/step - loss: 0.0798 - acc: 0.2189 - val_loss: 0.0799 - val_acc: 0.2219\n",
      "Epoch 55/200\n",
      "291298/291298 [==============================] - 14s 47us/step - loss: 0.0798 - acc: 0.2187 - val_loss: 0.0799 - val_acc: 0.2214\n",
      "Epoch 56/200\n",
      "291298/291298 [==============================] - 13s 46us/step - loss: 0.0798 - acc: 0.2190 - val_loss: 0.0800 - val_acc: 0.2302\n",
      "Epoch 57/200\n",
      "291298/291298 [==============================] - 13s 45us/step - loss: 0.0798 - acc: 0.2193 - val_loss: 0.0799 - val_acc: 0.2291\n",
      "Epoch 58/200\n",
      "291298/291298 [==============================] - 13s 45us/step - loss: 0.0798 - acc: 0.2199 - val_loss: 0.0799 - val_acc: 0.2253\n",
      "Epoch 59/200\n",
      "291298/291298 [==============================] - 13s 44us/step - loss: 0.0797 - acc: 0.2198 - val_loss: 0.0800 - val_acc: 0.2242\n",
      "Epoch 60/200\n",
      "291298/291298 [==============================] - 13s 44us/step - loss: 0.0797 - acc: 0.2204 - val_loss: 0.0798 - val_acc: 0.2285\n",
      "Epoch 61/200\n",
      "291298/291298 [==============================] - 12s 43us/step - loss: 0.0797 - acc: 0.2205 - val_loss: 0.0798 - val_acc: 0.2246\n",
      "Epoch 62/200\n",
      "291298/291298 [==============================] - 12s 42us/step - loss: 0.0797 - acc: 0.2200 - val_loss: 0.0798 - val_acc: 0.2200\n",
      "Epoch 63/200\n",
      "291298/291298 [==============================] - 12s 42us/step - loss: 0.0797 - acc: 0.2206 - val_loss: 0.0799 - val_acc: 0.2228\n",
      "Epoch 64/200\n",
      "291298/291298 [==============================] - 12s 42us/step - loss: 0.0797 - acc: 0.2217 - val_loss: 0.0797 - val_acc: 0.2234\n",
      "Epoch 65/200\n",
      "291298/291298 [==============================] - 12s 41us/step - loss: 0.0797 - acc: 0.2210 - val_loss: 0.0797 - val_acc: 0.2236\n",
      "Epoch 66/200\n",
      "291298/291298 [==============================] - 12s 41us/step - loss: 0.0796 - acc: 0.2215 - val_loss: 0.0797 - val_acc: 0.2362\n",
      "Epoch 67/200\n",
      "291298/291298 [==============================] - 12s 40us/step - loss: 0.0796 - acc: 0.2219 - val_loss: 0.0798 - val_acc: 0.2237\n",
      "Epoch 68/200\n",
      "291298/291298 [==============================] - 12s 40us/step - loss: 0.0796 - acc: 0.2216 - val_loss: 0.0799 - val_acc: 0.2209\n",
      "Epoch 69/200\n",
      "291298/291298 [==============================] - 12s 40us/step - loss: 0.0796 - acc: 0.2225 - val_loss: 0.0796 - val_acc: 0.2293\n",
      "Epoch 70/200\n",
      "291298/291298 [==============================] - 12s 40us/step - loss: 0.0796 - acc: 0.2227 - val_loss: 0.0797 - val_acc: 0.2256\n",
      "Epoch 71/200\n",
      "291298/291298 [==============================] - 11s 39us/step - loss: 0.0796 - acc: 0.2225 - val_loss: 0.0798 - val_acc: 0.2294\n",
      "Epoch 72/200\n",
      "291298/291298 [==============================] - 11s 39us/step - loss: 0.0796 - acc: 0.2228 - val_loss: 0.0798 - val_acc: 0.2404\n",
      "Epoch 73/200\n",
      "291298/291298 [==============================] - 11s 39us/step - loss: 0.0795 - acc: 0.2225 - val_loss: 0.0796 - val_acc: 0.2407\n",
      "Epoch 74/200\n",
      "291298/291298 [==============================] - 11s 39us/step - loss: 0.0798 - acc: 0.2225 - val_loss: 0.0800 - val_acc: 0.2318\n",
      "--- AE spent 1074.7054512500763 seconds ---\n"
     ]
    }
   ],
   "source": [
    "hist_spae_sigmoid_adam_logcosh = fit_ae(checkpoint_file = \"spae_sigmoid_adam_logcosh_redds10bal.h5\",\n",
    "                                        autoencoder = spae_sigmoid_adam_logcosh, \n",
    "                                        epochs = 200, \n",
    "                                        batch_size = 48, \n",
    "                                        shuffle = False)"
   ]
  },
  {
   "cell_type": "code",
   "execution_count": 55,
   "metadata": {},
   "outputs": [
    {
     "name": "stdout",
     "output_type": "stream",
     "text": [
      "Best loss value: 0.07978371447614736\n"
     ]
    },
    {
     "data": {
      "image/png": "[encoded data removed]",
      "text/plain": [
       "<Figure size 432x288 with 1 Axes>"
      ]
     },
     "metadata": {
      "needs_background": "light"
     },
     "output_type": "display_data"
    }
   ],
   "source": [
    "best_loss_value_spae_sigmoid_adam_logcosh = plot_hist_auto(hist_spae_sigmoid_adam_logcosh, './Figures/spae_sigmoid_adam_logcosh.png')"
   ]
  },
  {
   "cell_type": "code",
   "execution_count": 57,
   "metadata": {},
   "outputs": [],
   "source": [
    "loss_valueDict = {\n",
    "    'loss_value_ae_sigmoid_adam_logcosh': best_loss_value_ae_sigmoid_adam_logcosh,\n",
    "    'loss_value_ae_sigmoid_adam_mse': best_loss_value_ae_sigmoid_adam_mse,\n",
    "    'loss_value_sae_sigmoid_adam_logcosh': best_loss_value_sae_sigmoid_adam_logcosh,\n",
    "    'loss_value_sae_sigmoid_adam_mse': best_loss_value_sae_sigmoid_adam_mse,\n",
    "    'loss_value_spae_sigmoid_adam_logcosh': best_loss_value_spae_sigmoid_adam_logcosh,\n",
    "    'loss_value_ae_siglin_adam_logcosh': best_loss_value_ae_siglin_adam_logcosh\n",
    "    }"
   ]
  },
  {
   "cell_type": "code",
   "execution_count": 58,
   "metadata": {},
   "outputs": [
    {
     "data": {
      "text/plain": [
       "{'loss_value_ae_sigmoid_adam_logcosh': 0.07389111688260577,\n",
       " 'loss_value_ae_sigmoid_adam_mse': 0.21015174702664263,\n",
       " 'loss_value_sae_sigmoid_adam_logcosh': 0.096761487314801,\n",
       " 'loss_value_sae_sigmoid_adam_mse': 0.24134397109131991,\n",
       " 'loss_value_spae_sigmoid_adam_logcosh': 0.07978371447614736,\n",
       " 'loss_value_ae_siglin_adam_logcosh': 4.5890981827637295e-05}"
      ]
     },
     "execution_count": 58,
     "metadata": {},
     "output_type": "execute_result"
    }
   ],
   "source": [
    "loss_valueDict"
   ]
  },
  {
   "cell_type": "code",
   "execution_count": null,
   "metadata": {},
   "outputs": [],
   "source": []
  },
  {
   "cell_type": "code",
   "execution_count": 60,
   "metadata": {},
   "outputs": [
    {
     "name": "stdout",
     "output_type": "stream",
     "text": [
      "32\n",
      "32\n",
      "32\n",
      "32\n",
      "32\n",
      "32\n",
      "8\n",
      "8\n",
      "8\n",
      "8\n"
     ]
    }
   ],
   "source": [
    "print(enc_train_x_asal.shape[1])\n",
    "print(enc_test_x_asal.shape[1])\n",
    "\n",
    "print(enc_train_x_spaesal.shape[1])\n",
    "print(enc_test_x_spaesal.shape[1])\n",
    "\n",
    "print(enc_train_x_asam.shape[1])\n",
    "print(enc_test_x_asam.shape[1])\n",
    "\n",
    "print(enc_train_x_ssal.shape[1])\n",
    "print(enc_test_x_ssal.shape[1])\n",
    "\n",
    "print(enc_train_x_ssam.shape[1])\n",
    "print(enc_test_x_ssam.shape[1])"
   ]
  },
  {
   "cell_type": "code",
   "execution_count": 61,
   "metadata": {},
   "outputs": [
    {
     "name": "stdout",
     "output_type": "stream",
     "text": [
      "(291298, 32)\n",
      "(91031, 32)\n"
     ]
    }
   ],
   "source": [
    "print(enc_train_x_aslal.shape)\n",
    "print(enc_test_x_aslal.shape)"
   ]
  },
  {
   "cell_type": "code",
   "execution_count": 62,
   "metadata": {},
   "outputs": [
    {
     "name": "stdout",
     "output_type": "stream",
     "text": [
      "_________________________________________________________________\n",
      "Layer (type)                 Output Shape              Param #   \n",
      "=================================================================\n",
      "dense_13 (Dense)             (None, 48)                1584      \n",
      "_________________________________________________________________\n",
      "dense_14 (Dense)             (None, 36)                1764      \n",
      "_________________________________________________________________\n",
      "batch_normalization_1 (Batch (None, 36)                144       \n",
      "_________________________________________________________________\n",
      "dropout_1 (Dropout)          (None, 36)                0         \n",
      "_________________________________________________________________\n",
      "dense_15 (Dense)             (None, 1)                 37        \n",
      "=================================================================\n",
      "Total params: 3,529\n",
      "Trainable params: 3,457\n",
      "Non-trainable params: 72\n",
      "_________________________________________________________________\n",
      "None\n"
     ]
    }
   ],
   "source": [
    "ann36n_unisoftsigbinlosadam = ann_1h_36n(neurons=48,\n",
    "                                      encoded_train_x=enc_train_x_aslal,\n",
    "                                      init_mode='uniform',\n",
    "                                      activation_input='softsign',\n",
    "                                      weight_constraint=5,\n",
    "                                      dropout_rate=0.0,\n",
    "                                      activation_output='sigmoid',\n",
    "                                      loss='binary_crossentropy',\n",
    "                                      optimizer='Adam')"
   ]
  },
  {
   "cell_type": "code",
   "execution_count": null,
   "metadata": {},
   "outputs": [],
   "source": []
  },
  {
   "cell_type": "code",
   "execution_count": 63,
   "metadata": {},
   "outputs": [
    {
     "name": "stdout",
     "output_type": "stream",
     "text": [
      "Thu Jun  6 12:43:42 2019\n",
      "Train on 233038 samples, validate on 58260 samples\n",
      "Epoch 1/200\n",
      "233038/233038 [==============================] - 20s 86us/step - loss: 0.6261 - acc: 0.6343 - val_loss: 0.6498 - val_acc: 0.6066\n",
      "Epoch 2/200\n",
      "233038/233038 [==============================] - 20s 85us/step - loss: 0.6075 - acc: 0.6456 - val_loss: 0.6025 - val_acc: 0.6601\n",
      "Epoch 3/200\n",
      "233038/233038 [==============================] - 21s 89us/step - loss: 0.5966 - acc: 0.6566 - val_loss: 0.7235 - val_acc: 0.6191\n",
      "Epoch 4/200\n",
      "233038/233038 [==============================] - 22s 95us/step - loss: 0.5880 - acc: 0.6664 - val_loss: 1.1824 - val_acc: 0.5417\n",
      "Epoch 5/200\n",
      "233038/233038 [==============================] - 20s 85us/step - loss: 0.5785 - acc: 0.6760 - val_loss: 1.7027 - val_acc: 0.5040\n",
      "Epoch 6/200\n",
      "233038/233038 [==============================] - 20s 86us/step - loss: 0.5688 - acc: 0.6845 - val_loss: 2.0578 - val_acc: 0.5025\n",
      "Epoch 7/200\n",
      "233038/233038 [==============================] - 20s 86us/step - loss: 0.5599 - acc: 0.6909 - val_loss: 2.7925 - val_acc: 0.5018\n",
      "--- ANN spent 143.11424350738525 seconds ---\n"
     ]
    }
   ],
   "source": [
    "hist_ann36n_unisoftsigbinlosadam = ann_fit(checkpoint_file = \"ann36n_unisoftsigbinlosadam_redds10bal.h5\",\n",
    "                                        ann = ann36n_unisoftsigbinlosadam,\n",
    "                                        enc_train_x = enc_train_x_aslal,\n",
    "                                        train_y = train_y,\n",
    "                                        epochs = 200,\n",
    "                                        shuffle = False,\n",
    "                                        batch_size = 48)"
   ]
  },
  {
   "cell_type": "code",
   "execution_count": 64,
   "metadata": {},
   "outputs": [
    {
     "name": "stdout",
     "output_type": "stream",
     "text": [
      "Best loss value: 0.5598700174599338\n"
     ]
    },
    {
     "data": {
      "image/png": "[encoded data removed]",
      "text/plain": [
       "<Figure size 432x288 with 1 Axes>"
      ]
     },
     "metadata": {
      "needs_background": "light"
     },
     "output_type": "display_data"
    }
   ],
   "source": [
    "best_loss_value_ann36n_unisoftsigbinlosadam = plot_hist_auto(hist_ann36n_unisoftsigbinlosadam, './Figures/ann36_unisoftsigbinlosadam.png')"
   ]
  },
  {
   "cell_type": "code",
   "execution_count": 65,
   "metadata": {},
   "outputs": [
    {
     "name": "stdout",
     "output_type": "stream",
     "text": [
      "Overall accuracy of Neural Network model: 0.4968197646955433\n",
      "              precision    recall  f1-score   support\n",
      "\n",
      "           0       0.00      0.00      0.00     45805\n",
      "           1       0.50      1.00      0.66     45226\n",
      "\n",
      "   micro avg       0.50      0.50      0.50     91031\n",
      "   macro avg       0.25      0.50      0.33     91031\n",
      "weighted avg       0.25      0.50      0.33     91031\n",
      "\n"
     ]
    },
    {
     "name": "stderr",
     "output_type": "stream",
     "text": [
      "/home/user/.local/lib/python3.6/site-packages/sklearn/metrics/classification.py:1143: UndefinedMetricWarning: Precision and F-score are ill-defined and being set to 0.0 in labels with no predicted samples.\n",
      "  'precision', 'predicted', average, warn_for)\n",
      "/home/user/.local/lib/python3.6/site-packages/sklearn/metrics/classification.py:1143: UndefinedMetricWarning: Precision and F-score are ill-defined and being set to 0.0 in labels with no predicted samples.\n",
      "  'precision', 'predicted', average, warn_for)\n",
      "/home/user/.local/lib/python3.6/site-packages/sklearn/metrics/classification.py:1143: UndefinedMetricWarning: Precision and F-score are ill-defined and being set to 0.0 in labels with no predicted samples.\n",
      "  'precision', 'predicted', average, warn_for)\n"
     ]
    }
   ],
   "source": [
    "pred_ann36n_prob_unisoftsigbinlosadam, pred_ann36n_01_unisoftsigbinlosadam = ann_predict(ann36n_unisoftsigbinlosadam,enc_test_x_aslal)"
   ]
  },
  {
   "cell_type": "code",
   "execution_count": 66,
   "metadata": {},
   "outputs": [
    {
     "data": {
      "image/png": "[encoded data removed]",
      "text/plain": [
       "<Figure size 432x288 with 1 Axes>"
      ]
     },
     "metadata": {
      "needs_background": "light"
     },
     "output_type": "display_data"
    },
    {
     "data": {
      "image/png": "[encoded data removed]",
      "text/plain": [
       "<Figure size 576x432 with 2 Axes>"
      ]
     },
     "metadata": {
      "needs_background": "light"
     },
     "output_type": "display_data"
    }
   ],
   "source": [
    "plot_roc_cm(pred_ann36n_01_unisoftsigbinlosadam, pred_ann36n_01_unisoftsigbinlosadam, './Figures/ROC_ann36n_unisoftsigbinlosadam_redds10bal.png', './Figures/CM_ann36n_unisoftsigbinlosadam_redds10bal.png')"
   ]
  },
  {
   "cell_type": "code",
   "execution_count": null,
   "metadata": {},
   "outputs": [],
   "source": []
  },
  {
   "cell_type": "code",
   "execution_count": null,
   "metadata": {},
   "outputs": [],
   "source": []
  },
  {
   "cell_type": "code",
   "execution_count": 78,
   "metadata": {},
   "outputs": [
    {
     "name": "stdout",
     "output_type": "stream",
     "text": [
      "_________________________________________________________________\n",
      "Layer (type)                 Output Shape              Param #   \n",
      "=================================================================\n",
      "dense_19 (Dense)             (None, 48)                1584      \n",
      "_________________________________________________________________\n",
      "dense_20 (Dense)             (None, 24)                1176      \n",
      "_________________________________________________________________\n",
      "batch_normalization_3 (Batch (None, 24)                96        \n",
      "_________________________________________________________________\n",
      "dropout_3 (Dropout)          (None, 24)                0         \n",
      "_________________________________________________________________\n",
      "dense_21 (Dense)             (None, 1)                 25        \n",
      "=================================================================\n",
      "Total params: 2,881\n",
      "Trainable params: 2,833\n",
      "Non-trainable params: 48\n",
      "_________________________________________________________________\n",
      "None\n"
     ]
    }
   ],
   "source": [
    "ann24n_unisoftsigbinlosadam = ann_1h_24n(neurons=48,\n",
    "                                      encoded_train_x=enc_train_x_aslal,\n",
    "                                      init_mode='uniform',\n",
    "                                      activation_input='softsign',\n",
    "                                      weight_constraint=5,\n",
    "                                      dropout_rate=0.0,\n",
    "                                      activation_output='sigmoid',\n",
    "                                      loss='binary_crossentropy',\n",
    "                                      optimizer='Adam')"
   ]
  },
  {
   "cell_type": "code",
   "execution_count": 79,
   "metadata": {},
   "outputs": [
    {
     "name": "stdout",
     "output_type": "stream",
     "text": [
      "Thu Jun  6 14:00:44 2019\n",
      "Train on 233038 samples, validate on 58260 samples\n",
      "Epoch 1/200\n",
      "233038/233038 [==============================] - 20s 86us/step - loss: 0.6244 - acc: 0.6352 - val_loss: 0.6135 - val_acc: 0.6481\n",
      "Epoch 2/200\n",
      "233038/233038 [==============================] - 18s 79us/step - loss: 0.6031 - acc: 0.6498 - val_loss: 2.0639 - val_acc: 0.5018\n",
      "Epoch 3/200\n",
      "233038/233038 [==============================] - 20s 84us/step - loss: 0.5918 - acc: 0.6628 - val_loss: 4.0185 - val_acc: 0.4982\n",
      "Epoch 4/200\n",
      "233038/233038 [==============================] - 21s 90us/step - loss: 0.5828 - acc: 0.6721 - val_loss: 1.0618 - val_acc: 0.5116\n",
      "Epoch 5/200\n",
      "233038/233038 [==============================] - 21s 91us/step - loss: 0.5742 - acc: 0.6792 - val_loss: 0.5835 - val_acc: 0.6788\n",
      "Epoch 6/200\n",
      "233038/233038 [==============================] - 21s 91us/step - loss: 0.5675 - acc: 0.6845 - val_loss: 1.2258 - val_acc: 0.5059\n",
      "Epoch 7/200\n",
      "233038/233038 [==============================] - 21s 92us/step - loss: 0.5618 - acc: 0.6898 - val_loss: 6.7241 - val_acc: 0.4982\n",
      "Epoch 8/200\n",
      "233038/233038 [==============================] - 21s 91us/step - loss: 0.5564 - acc: 0.6944 - val_loss: 1.3114 - val_acc: 0.5083\n",
      "Epoch 9/200\n",
      "233038/233038 [==============================] - 22s 93us/step - loss: 0.5520 - acc: 0.7000 - val_loss: 0.5965 - val_acc: 0.6470\n",
      "Epoch 10/200\n",
      "233038/233038 [==============================] - 22s 93us/step - loss: 0.5483 - acc: 0.7027 - val_loss: 2.5513 - val_acc: 0.4982\n",
      "--- ANN spent 207.63847637176514 seconds ---\n"
     ]
    }
   ],
   "source": [
    "hist_ann24n_unisoftsigbinlosadam = ann_fit(checkpoint_file = \"ann24n_unisoftsigbinlosadam_redds10bal.h5\",\n",
    "                                        ann = ann24n_unisoftsigbinlosadam,\n",
    "                                        enc_train_x = enc_train_x_aslal,\n",
    "                                        train_y = train_y,\n",
    "                                        epochs = 200,\n",
    "                                        shuffle = True,\n",
    "                                        batch_size = 48)"
   ]
  },
  {
   "cell_type": "code",
   "execution_count": 80,
   "metadata": {},
   "outputs": [
    {
     "name": "stdout",
     "output_type": "stream",
     "text": [
      "Best loss value: 0.5483080201703132\n"
     ]
    },
    {
     "data": {
      "image/png": "[encoded data removed]",
      "text/plain": [
       "<Figure size 432x288 with 1 Axes>"
      ]
     },
     "metadata": {
      "needs_background": "light"
     },
     "output_type": "display_data"
    }
   ],
   "source": [
    "best_loss_value_ann24n_unisoftsigbinlosadam = plot_hist_auto(hist_ann24n_unisoftsigbinlosadam, './Figures/ann24_unisoftsigbinlosadam.png')"
   ]
  },
  {
   "cell_type": "code",
   "execution_count": 81,
   "metadata": {},
   "outputs": [
    {
     "name": "stdout",
     "output_type": "stream",
     "text": [
      "Overall accuracy of Neural Network model: 0.503202205841966\n",
      "              precision    recall  f1-score   support\n",
      "\n",
      "           0       0.50      1.00      0.67     45805\n",
      "           1       0.75      0.00      0.00     45226\n",
      "\n",
      "   micro avg       0.50      0.50      0.50     91031\n",
      "   macro avg       0.63      0.50      0.33     91031\n",
      "weighted avg       0.63      0.50      0.34     91031\n",
      "\n"
     ]
    }
   ],
   "source": [
    "pred_ann24n_prob_unisoftsigbinlosadam, pred_ann24n_01_unisoftsigbinlosadam = ann_predict(ann24n_unisoftsigbinlosadam,enc_test_x_aslal)"
   ]
  },
  {
   "cell_type": "code",
   "execution_count": 82,
   "metadata": {},
   "outputs": [
    {
     "data": {
      "image/png": "[encoded data removed]",
      "text/plain": [
       "<Figure size 432x288 with 1 Axes>"
      ]
     },
     "metadata": {
      "needs_background": "light"
     },
     "output_type": "display_data"
    },
    {
     "data": {
      "image/png": "[encoded data removed]",
      "text/plain": [
       "<Figure size 576x432 with 2 Axes>"
      ]
     },
     "metadata": {
      "needs_background": "light"
     },
     "output_type": "display_data"
    }
   ],
   "source": [
    "plot_roc_cm(pred_ann24n_01_unisoftsigbinlosadam, pred_ann24n_01_unisoftsigbinlosadam, './Figures/ROC_ann24n_unisoftsigbinlosadam_redds10bal.png', './Figures/CM_ann24n_unisoftsigbinlosadam_redds10bal.png')"
   ]
  },
  {
   "cell_type": "code",
   "execution_count": null,
   "metadata": {},
   "outputs": [],
   "source": []
  },
  {
   "cell_type": "code",
   "execution_count": 83,
   "metadata": {},
   "outputs": [
    {
     "name": "stdout",
     "output_type": "stream",
     "text": [
      "_________________________________________________________________\n",
      "Layer (type)                 Output Shape              Param #   \n",
      "=================================================================\n",
      "dense_22 (Dense)             (None, 48)                1584      \n",
      "_________________________________________________________________\n",
      "dense_23 (Dense)             (None, 36)                1764      \n",
      "_________________________________________________________________\n",
      "dense_24 (Dense)             (None, 24)                888       \n",
      "_________________________________________________________________\n",
      "batch_normalization_4 (Batch (None, 24)                96        \n",
      "_________________________________________________________________\n",
      "dropout_4 (Dropout)          (None, 24)                0         \n",
      "_________________________________________________________________\n",
      "dense_25 (Dense)             (None, 1)                 25        \n",
      "=================================================================\n",
      "Total params: 4,357\n",
      "Trainable params: 4,309\n",
      "Non-trainable params: 48\n",
      "_________________________________________________________________\n",
      "None\n"
     ]
    }
   ],
   "source": [
    "ann_2h_unisoftsigbinlosadam = ann_2h(neurons=48,\n",
    "                                      encoded_train_x=enc_train_x_aslal,\n",
    "                                      init_mode='uniform',\n",
    "                                      activation_input='softsign',\n",
    "                                      weight_constraint=5,\n",
    "                                      dropout_rate=0.0,\n",
    "                                      activation_output='sigmoid',\n",
    "                                      loss='binary_crossentropy',\n",
    "                                      optimizer='Adam')"
   ]
  },
  {
   "cell_type": "code",
   "execution_count": 84,
   "metadata": {},
   "outputs": [
    {
     "name": "stdout",
     "output_type": "stream",
     "text": [
      "Thu Jun  6 14:04:15 2019\n",
      "Train on 233038 samples, validate on 58260 samples\n",
      "Epoch 1/200\n",
      "233038/233038 [==============================] - 24s 102us/step - loss: 0.6187 - acc: 0.6384 - val_loss: 0.6803 - val_acc: 0.6099\n",
      "Epoch 2/200\n",
      "233038/233038 [==============================] - 23s 100us/step - loss: 0.5715 - acc: 0.6757 - val_loss: 0.5482 - val_acc: 0.6943\n",
      "Epoch 3/200\n",
      "233038/233038 [==============================] - 23s 99us/step - loss: 0.5362 - acc: 0.7090 - val_loss: 0.5028 - val_acc: 0.7395\n",
      "Epoch 4/200\n",
      "233038/233038 [==============================] - 23s 101us/step - loss: 0.5080 - acc: 0.7303 - val_loss: 0.5081 - val_acc: 0.7248\n",
      "Epoch 5/200\n",
      "233038/233038 [==============================] - 23s 101us/step - loss: 0.4787 - acc: 0.7509 - val_loss: 0.4625 - val_acc: 0.7670\n",
      "Epoch 6/200\n",
      "233038/233038 [==============================] - 24s 101us/step - loss: 0.4586 - acc: 0.7638 - val_loss: 0.4298 - val_acc: 0.7795\n",
      "Epoch 7/200\n",
      "233038/233038 [==============================] - 24s 102us/step - loss: 0.4375 - acc: 0.7776 - val_loss: 0.4221 - val_acc: 0.7861\n",
      "Epoch 8/200\n",
      "233038/233038 [==============================] - 24s 103us/step - loss: 0.4201 - acc: 0.7877 - val_loss: 0.4214 - val_acc: 0.7848\n",
      "Epoch 9/200\n",
      "233038/233038 [==============================] - 27s 118us/step - loss: 0.4047 - acc: 0.7982 - val_loss: 0.3944 - val_acc: 0.8012\n",
      "Epoch 10/200\n",
      "233038/233038 [==============================] - 30s 128us/step - loss: 0.3945 - acc: 0.8069 - val_loss: 0.3762 - val_acc: 0.8226\n",
      "Epoch 11/200\n",
      "233038/233038 [==============================] - 30s 128us/step - loss: 0.3852 - acc: 0.8124 - val_loss: 0.4012 - val_acc: 0.7952\n",
      "Epoch 12/200\n",
      "233038/233038 [==============================] - 29s 125us/step - loss: 0.3763 - acc: 0.8178 - val_loss: 0.3462 - val_acc: 0.8351\n",
      "Epoch 13/200\n",
      "233038/233038 [==============================] - 28s 119us/step - loss: 0.3698 - acc: 0.8215 - val_loss: 0.3644 - val_acc: 0.8200\n",
      "Epoch 14/200\n",
      "233038/233038 [==============================] - 27s 115us/step - loss: 0.3619 - acc: 0.8261 - val_loss: 0.3505 - val_acc: 0.8387\n",
      "Epoch 15/200\n",
      "233038/233038 [==============================] - 26s 110us/step - loss: 0.3570 - acc: 0.8294 - val_loss: 0.3446 - val_acc: 0.8405\n",
      "Epoch 16/200\n",
      "233038/233038 [==============================] - 25s 107us/step - loss: 0.3520 - acc: 0.8320 - val_loss: 0.3360 - val_acc: 0.8404\n",
      "Epoch 17/200\n",
      "233038/233038 [==============================] - 24s 105us/step - loss: 0.3456 - acc: 0.8355 - val_loss: 0.3326 - val_acc: 0.8370\n",
      "Epoch 18/200\n",
      "233038/233038 [==============================] - 24s 103us/step - loss: 0.3413 - acc: 0.8378 - val_loss: 0.3664 - val_acc: 0.8235\n",
      "Epoch 19/200\n",
      "233038/233038 [==============================] - 24s 103us/step - loss: 0.3355 - acc: 0.8413 - val_loss: 0.3255 - val_acc: 0.8390\n",
      "Epoch 20/200\n",
      "233038/233038 [==============================] - 24s 103us/step - loss: 0.3335 - acc: 0.8421 - val_loss: 0.3491 - val_acc: 0.8310\n",
      "Epoch 21/200\n",
      "233038/233038 [==============================] - 24s 103us/step - loss: 0.3286 - acc: 0.8451 - val_loss: 0.3246 - val_acc: 0.8423\n",
      "Epoch 22/200\n",
      "233038/233038 [==============================] - 24s 103us/step - loss: 0.3245 - acc: 0.8464 - val_loss: 0.3408 - val_acc: 0.8389\n",
      "Epoch 23/200\n",
      "233038/233038 [==============================] - 24s 102us/step - loss: 0.3220 - acc: 0.8480 - val_loss: 0.2982 - val_acc: 0.8588\n",
      "Epoch 24/200\n",
      "233038/233038 [==============================] - 24s 103us/step - loss: 0.3182 - acc: 0.8499 - val_loss: 0.3097 - val_acc: 0.8585\n",
      "Epoch 25/200\n",
      "233038/233038 [==============================] - 24s 102us/step - loss: 0.3165 - acc: 0.8500 - val_loss: 0.2932 - val_acc: 0.8621\n",
      "Epoch 26/200\n",
      "233038/233038 [==============================] - 24s 103us/step - loss: 0.3138 - acc: 0.8529 - val_loss: 0.3175 - val_acc: 0.8527\n",
      "Epoch 27/200\n",
      "233038/233038 [==============================] - 24s 103us/step - loss: 0.3097 - acc: 0.8546 - val_loss: 0.2967 - val_acc: 0.8606\n",
      "Epoch 28/200\n",
      "233038/233038 [==============================] - 24s 101us/step - loss: 0.3079 - acc: 0.8559 - val_loss: 0.2932 - val_acc: 0.8691\n",
      "Epoch 29/200\n",
      "233038/233038 [==============================] - 24s 103us/step - loss: 0.3049 - acc: 0.8574 - val_loss: 0.2887 - val_acc: 0.8679\n",
      "Epoch 30/200\n",
      "233038/233038 [==============================] - 24s 102us/step - loss: 0.3042 - acc: 0.8576 - val_loss: 0.3227 - val_acc: 0.8456\n",
      "Epoch 31/200\n",
      "233038/233038 [==============================] - 24s 102us/step - loss: 0.3005 - acc: 0.8588 - val_loss: 0.2878 - val_acc: 0.8678\n",
      "Epoch 32/200\n",
      "233038/233038 [==============================] - 24s 101us/step - loss: 0.3008 - acc: 0.8592 - val_loss: 0.2681 - val_acc: 0.8720\n",
      "Epoch 33/200\n",
      "233038/233038 [==============================] - 24s 102us/step - loss: 0.2987 - acc: 0.8599 - val_loss: 0.2778 - val_acc: 0.8726\n",
      "Epoch 34/200\n",
      "233038/233038 [==============================] - 24s 102us/step - loss: 0.2956 - acc: 0.8618 - val_loss: 0.3450 - val_acc: 0.8392\n",
      "Epoch 35/200\n",
      "233038/233038 [==============================] - 24s 101us/step - loss: 0.2931 - acc: 0.8636 - val_loss: 0.2858 - val_acc: 0.8633\n",
      "Epoch 36/200\n",
      "233038/233038 [==============================] - 24s 102us/step - loss: 0.2904 - acc: 0.8642 - val_loss: 0.3009 - val_acc: 0.8571\n",
      "Epoch 37/200\n",
      "233038/233038 [==============================] - 25s 106us/step - loss: 0.2888 - acc: 0.8653 - val_loss: 0.2740 - val_acc: 0.8758\n",
      "--- ANN spent 912.4317259788513 seconds ---\n"
     ]
    }
   ],
   "source": [
    "hist_ann_2h_unisoftsigbinlosadam = ann_fit(checkpoint_file = \"ann_2h_unisoftsigbinlosadam_redds10bal.h5\",\n",
    "                                        ann = ann_2h_unisoftsigbinlosadam,\n",
    "                                        enc_train_x = enc_train_x_aslal,\n",
    "                                        train_y = train_y,\n",
    "                                        epochs = 200,\n",
    "                                        shuffle = True,\n",
    "                                        batch_size = 48)"
   ]
  },
  {
   "cell_type": "code",
   "execution_count": 85,
   "metadata": {},
   "outputs": [
    {
     "name": "stdout",
     "output_type": "stream",
     "text": [
      "Best loss value: 0.28883684950373983\n"
     ]
    },
    {
     "data": {
      "image/png": "[encoded data removed]",
      "text/plain": [
       "<Figure size 432x288 with 1 Axes>"
      ]
     },
     "metadata": {
      "needs_background": "light"
     },
     "output_type": "display_data"
    }
   ],
   "source": [
    "best_loss_value_ann_2h_unisoftsigbinlosadam = plot_hist_auto(hist_ann_2h_unisoftsigbinlosadam, './Figures/ann_2h_unisoftsigbinlosadam.png')"
   ]
  },
  {
   "cell_type": "code",
   "execution_count": 86,
   "metadata": {},
   "outputs": [
    {
     "name": "stdout",
     "output_type": "stream",
     "text": [
      "Overall accuracy of Neural Network model: 0.8797552482121475\n",
      "              precision    recall  f1-score   support\n",
      "\n",
      "           0       0.91      0.85      0.88     45805\n",
      "           1       0.85      0.91      0.88     45226\n",
      "\n",
      "   micro avg       0.88      0.88      0.88     91031\n",
      "   macro avg       0.88      0.88      0.88     91031\n",
      "weighted avg       0.88      0.88      0.88     91031\n",
      "\n"
     ]
    }
   ],
   "source": [
    "pred_ann_2h_prob_unisoftsigbinlosadam, pred_ann_2h_01_unisoftsigbinlosadam = ann_predict(ann_2h_unisoftsigbinlosadam,enc_test_x_aslal)"
   ]
  },
  {
   "cell_type": "code",
   "execution_count": 87,
   "metadata": {},
   "outputs": [
    {
     "data": {
      "image/png": "[encoded data removed]",
      "text/plain": [
       "<Figure size 432x288 with 1 Axes>"
      ]
     },
     "metadata": {
      "needs_background": "light"
     },
     "output_type": "display_data"
    },
    {
     "data": {
      "image/png": "[encoded data removed]",
      "text/plain": [
       "<Figure size 576x432 with 2 Axes>"
      ]
     },
     "metadata": {
      "needs_background": "light"
     },
     "output_type": "display_data"
    }
   ],
   "source": [
    "plot_roc_cm(pred_ann_2h_01_unisoftsigbinlosadam, pred_ann_2h_01_unisoftsigbinlosadam, './Figures/ROC_ann_2h_unisoftsigbinlosadam_redds10bal.png', './Figures/CM_ann_2h_unisoftsigbinlosadam_redds10bal.png')"
   ]
  },
  {
   "cell_type": "code",
   "execution_count": null,
   "metadata": {},
   "outputs": [],
   "source": []
  },
  {
   "cell_type": "code",
   "execution_count": null,
   "metadata": {},
   "outputs": [],
   "source": []
  },
  {
   "cell_type": "code",
   "execution_count": 68,
   "metadata": {},
   "outputs": [
    {
     "name": "stdout",
     "output_type": "stream",
     "text": [
      "_________________________________________________________________\n",
      "Layer (type)                 Output Shape              Param #   \n",
      "=================================================================\n",
      "dense_16 (Dense)             (None, 48)                2352      \n",
      "_________________________________________________________________\n",
      "dense_17 (Dense)             (None, 24)                1176      \n",
      "_________________________________________________________________\n",
      "batch_normalization_2 (Batch (None, 24)                96        \n",
      "_________________________________________________________________\n",
      "dropout_2 (Dropout)          (None, 24)                0         \n",
      "_________________________________________________________________\n",
      "dense_18 (Dense)             (None, 1)                 25        \n",
      "=================================================================\n",
      "Total params: 3,649\n",
      "Trainable params: 3,601\n",
      "Non-trainable params: 48\n",
      "_________________________________________________________________\n",
      "None\n"
     ]
    }
   ],
   "source": [
    "ann_24n_unisoftsigbinlosadam = ann_1h_24n(neurons=48,\n",
    "                                      encoded_train_x=train_x,\n",
    "                                      init_mode='uniform',\n",
    "                                      activation_input='softsign',\n",
    "                                      weight_constraint=5,\n",
    "                                      dropout_rate=0.0,\n",
    "                                      activation_output='sigmoid',\n",
    "                                      loss='binary_crossentropy',\n",
    "                                      optimizer='Adam')"
   ]
  },
  {
   "cell_type": "code",
   "execution_count": 69,
   "metadata": {},
   "outputs": [
    {
     "name": "stdout",
     "output_type": "stream",
     "text": [
      "Thu Jun  6 12:55:53 2019\n",
      "Train on 233038 samples, validate on 58260 samples\n",
      "Epoch 1/200\n",
      "233038/233038 [==============================] - 20s 85us/step - loss: 0.4540 - acc: 0.7695 - val_loss: 0.3745 - val_acc: 0.8170\n",
      "Epoch 2/200\n",
      "233038/233038 [==============================] - 19s 81us/step - loss: 0.3635 - acc: 0.8240 - val_loss: 0.3246 - val_acc: 0.8482\n",
      "Epoch 3/200\n",
      "233038/233038 [==============================] - 19s 79us/step - loss: 0.3237 - acc: 0.8462 - val_loss: 0.3043 - val_acc: 0.8529\n",
      "Epoch 4/200\n",
      "233038/233038 [==============================] - 18s 79us/step - loss: 0.2990 - acc: 0.8587 - val_loss: 0.2759 - val_acc: 0.8774\n",
      "Epoch 5/200\n",
      "233038/233038 [==============================] - 18s 79us/step - loss: 0.2818 - acc: 0.8686 - val_loss: 0.2603 - val_acc: 0.8818\n",
      "Epoch 6/200\n",
      "233038/233038 [==============================] - 18s 78us/step - loss: 0.2696 - acc: 0.8752 - val_loss: 0.2386 - val_acc: 0.8888\n",
      "Epoch 7/200\n",
      "233038/233038 [==============================] - 18s 78us/step - loss: 0.2593 - acc: 0.8814 - val_loss: 0.2383 - val_acc: 0.8937\n",
      "Epoch 8/200\n",
      "233038/233038 [==============================] - 18s 78us/step - loss: 0.2521 - acc: 0.8841 - val_loss: 0.2333 - val_acc: 0.8966\n",
      "Epoch 9/200\n",
      "233038/233038 [==============================] - 18s 77us/step - loss: 0.2441 - acc: 0.8878 - val_loss: 0.2153 - val_acc: 0.9032\n",
      "Epoch 10/200\n",
      "233038/233038 [==============================] - 18s 77us/step - loss: 0.2372 - acc: 0.8919 - val_loss: 0.2150 - val_acc: 0.9036\n",
      "Epoch 11/200\n",
      "233038/233038 [==============================] - 18s 78us/step - loss: 0.2319 - acc: 0.8942 - val_loss: 0.2127 - val_acc: 0.9018\n",
      "Epoch 12/200\n",
      "233038/233038 [==============================] - 18s 77us/step - loss: 0.2259 - acc: 0.8973 - val_loss: 0.2247 - val_acc: 0.9017\n",
      "Epoch 13/200\n",
      "233038/233038 [==============================] - 18s 76us/step - loss: 0.2210 - acc: 0.8996 - val_loss: 0.2019 - val_acc: 0.9114\n",
      "Epoch 14/200\n",
      "233038/233038 [==============================] - 18s 76us/step - loss: 0.2169 - acc: 0.9015 - val_loss: 0.2007 - val_acc: 0.9134\n",
      "Epoch 15/200\n",
      "233038/233038 [==============================] - 18s 76us/step - loss: 0.2137 - acc: 0.9031 - val_loss: 0.1918 - val_acc: 0.9117\n",
      "Epoch 16/200\n",
      "233038/233038 [==============================] - 17s 75us/step - loss: 0.2107 - acc: 0.9046 - val_loss: 0.1837 - val_acc: 0.9170\n",
      "Epoch 17/200\n",
      "233038/233038 [==============================] - 18s 75us/step - loss: 0.2073 - acc: 0.9061 - val_loss: 0.1949 - val_acc: 0.9151\n",
      "Epoch 18/200\n",
      "233038/233038 [==============================] - 18s 75us/step - loss: 0.2033 - acc: 0.9080 - val_loss: 0.1915 - val_acc: 0.9155\n",
      "Epoch 19/200\n",
      "233038/233038 [==============================] - 17s 74us/step - loss: 0.2011 - acc: 0.9099 - val_loss: 0.1858 - val_acc: 0.9172\n",
      "Epoch 20/200\n",
      "233038/233038 [==============================] - 17s 75us/step - loss: 0.1975 - acc: 0.9107 - val_loss: 0.1783 - val_acc: 0.9205\n",
      "Epoch 21/200\n",
      "233038/233038 [==============================] - 17s 74us/step - loss: 0.1952 - acc: 0.9122 - val_loss: 0.1776 - val_acc: 0.9200\n",
      "Epoch 22/200\n",
      "233038/233038 [==============================] - 17s 74us/step - loss: 0.1959 - acc: 0.9114 - val_loss: 0.1865 - val_acc: 0.9135\n",
      "Epoch 23/200\n",
      "233038/233038 [==============================] - 17s 74us/step - loss: 0.1927 - acc: 0.9129 - val_loss: 0.1686 - val_acc: 0.9265\n",
      "Epoch 24/200\n",
      "233038/233038 [==============================] - 17s 74us/step - loss: 0.1907 - acc: 0.9141 - val_loss: 0.1750 - val_acc: 0.9219\n",
      "Epoch 25/200\n",
      "233038/233038 [==============================] - 17s 73us/step - loss: 0.1895 - acc: 0.9143 - val_loss: 0.1805 - val_acc: 0.9173\n",
      "Epoch 26/200\n",
      "233038/233038 [==============================] - 17s 73us/step - loss: 0.1878 - acc: 0.9157 - val_loss: 0.1686 - val_acc: 0.9245\n",
      "Epoch 27/200\n",
      "233038/233038 [==============================] - 17s 73us/step - loss: 0.1866 - acc: 0.9161 - val_loss: 0.1667 - val_acc: 0.9308\n",
      "Epoch 28/200\n",
      "233038/233038 [==============================] - 17s 73us/step - loss: 0.1849 - acc: 0.9175 - val_loss: 0.1606 - val_acc: 0.9257\n",
      "Epoch 29/200\n",
      "233038/233038 [==============================] - 17s 73us/step - loss: 0.1833 - acc: 0.9181 - val_loss: 0.1655 - val_acc: 0.9233\n",
      "Epoch 30/200\n",
      "233038/233038 [==============================] - 17s 73us/step - loss: 0.1813 - acc: 0.9185 - val_loss: 0.1646 - val_acc: 0.9262\n",
      "Epoch 31/200\n",
      "233038/233038 [==============================] - 17s 73us/step - loss: 0.1809 - acc: 0.9195 - val_loss: 0.1624 - val_acc: 0.9288\n",
      "Epoch 32/200\n",
      "233038/233038 [==============================] - 17s 73us/step - loss: 0.1786 - acc: 0.9200 - val_loss: 0.1594 - val_acc: 0.9268\n",
      "Epoch 33/200\n",
      "233038/233038 [==============================] - 17s 73us/step - loss: 0.1784 - acc: 0.9202 - val_loss: 0.1518 - val_acc: 0.9328\n",
      "Epoch 34/200\n",
      "233038/233038 [==============================] - 17s 73us/step - loss: 0.1762 - acc: 0.9205 - val_loss: 0.1528 - val_acc: 0.9306\n",
      "Epoch 35/200\n",
      "233038/233038 [==============================] - 17s 73us/step - loss: 0.1771 - acc: 0.9205 - val_loss: 0.1577 - val_acc: 0.9324\n",
      "Epoch 36/200\n",
      "233038/233038 [==============================] - 17s 73us/step - loss: 0.1746 - acc: 0.9207 - val_loss: 0.1541 - val_acc: 0.9287\n",
      "Epoch 37/200\n",
      "233038/233038 [==============================] - 17s 73us/step - loss: 0.1736 - acc: 0.9216 - val_loss: 0.1511 - val_acc: 0.9303\n",
      "Epoch 38/200\n",
      "233038/233038 [==============================] - 17s 72us/step - loss: 0.1739 - acc: 0.9227 - val_loss: 0.1544 - val_acc: 0.9315\n",
      "Epoch 39/200\n",
      "233038/233038 [==============================] - 16s 69us/step - loss: 0.1724 - acc: 0.9221 - val_loss: 0.1492 - val_acc: 0.9319\n",
      "Epoch 40/200\n",
      "233038/233038 [==============================] - 16s 69us/step - loss: 0.1734 - acc: 0.9224 - val_loss: 0.1481 - val_acc: 0.9307\n",
      "Epoch 41/200\n",
      "233038/233038 [==============================] - 16s 69us/step - loss: 0.1707 - acc: 0.9237 - val_loss: 0.1515 - val_acc: 0.9328\n",
      "Epoch 42/200\n",
      "233038/233038 [==============================] - 16s 69us/step - loss: 0.1709 - acc: 0.9235 - val_loss: 0.1512 - val_acc: 0.9318\n",
      "Epoch 43/200\n",
      "233038/233038 [==============================] - 16s 69us/step - loss: 0.1699 - acc: 0.9235 - val_loss: 0.1430 - val_acc: 0.9351\n",
      "Epoch 44/200\n",
      "233038/233038 [==============================] - 16s 69us/step - loss: 0.1683 - acc: 0.9244 - val_loss: 0.1535 - val_acc: 0.9283\n",
      "Epoch 45/200\n",
      "233038/233038 [==============================] - 16s 69us/step - loss: 0.1688 - acc: 0.9234 - val_loss: 0.1528 - val_acc: 0.9309\n",
      "Epoch 46/200\n",
      "233038/233038 [==============================] - 16s 69us/step - loss: 0.1692 - acc: 0.9246 - val_loss: 0.1486 - val_acc: 0.9297\n",
      "Epoch 47/200\n",
      "233038/233038 [==============================] - 16s 68us/step - loss: 0.1680 - acc: 0.9248 - val_loss: 0.1499 - val_acc: 0.9332\n",
      "Epoch 48/200\n",
      "233038/233038 [==============================] - 16s 68us/step - loss: 0.1678 - acc: 0.9254 - val_loss: 0.1396 - val_acc: 0.9383\n",
      "Epoch 49/200\n",
      "233038/233038 [==============================] - 16s 68us/step - loss: 0.1660 - acc: 0.9254 - val_loss: 0.1565 - val_acc: 0.9268\n",
      "Epoch 50/200\n",
      "233038/233038 [==============================] - 16s 68us/step - loss: 0.1671 - acc: 0.9249 - val_loss: 0.1474 - val_acc: 0.9334\n",
      "Epoch 51/200\n",
      "233038/233038 [==============================] - 16s 68us/step - loss: 0.1670 - acc: 0.9245 - val_loss: 0.1441 - val_acc: 0.9344\n",
      "Epoch 52/200\n",
      "233038/233038 [==============================] - 16s 68us/step - loss: 0.1659 - acc: 0.9259 - val_loss: 0.1543 - val_acc: 0.9289\n",
      "Epoch 53/200\n",
      "233038/233038 [==============================] - 16s 69us/step - loss: 0.1662 - acc: 0.9260 - val_loss: 0.1462 - val_acc: 0.9332\n",
      "--- ANN spent 908.2895421981812 seconds ---\n"
     ]
    }
   ],
   "source": [
    "hist_ann_24n_unisoftsigbinlosadam = ann_fit(checkpoint_file = \"ann_24n_unisoftsigbinlosadam_redds10bal.h5\",\n",
    "                                        ann = ann_24n_unisoftsigbinlosadam,\n",
    "                                        enc_train_x = train_x,\n",
    "                                        train_y = train_y,\n",
    "                                        epochs = 200,\n",
    "                                        shuffle = True,\n",
    "                                        batch_size = 48)"
   ]
  },
  {
   "cell_type": "code",
   "execution_count": 70,
   "metadata": {},
   "outputs": [
    {
     "name": "stdout",
     "output_type": "stream",
     "text": [
      "Best loss value: 0.1661722753170898\n"
     ]
    },
    {
     "data": {
      "image/png": "[encoded data removed]",
      "text/plain": [
       "<Figure size 432x288 with 1 Axes>"
      ]
     },
     "metadata": {
      "needs_background": "light"
     },
     "output_type": "display_data"
    }
   ],
   "source": [
    "best_loss_value_ann_24n_unisoftsigbinlosadam = plot_hist_auto(hist_ann_24n_unisoftsigbinlosadam, './Figures/ann_24_unisoftsigbinlosadam.png')"
   ]
  },
  {
   "cell_type": "code",
   "execution_count": 71,
   "metadata": {},
   "outputs": [
    {
     "name": "stdout",
     "output_type": "stream",
     "text": [
      "Overall accuracy of Neural Network model: 0.9343849897287737\n",
      "              precision    recall  f1-score   support\n",
      "\n",
      "           0       0.96      0.91      0.93     45805\n",
      "           1       0.91      0.96      0.94     45226\n",
      "\n",
      "   micro avg       0.93      0.93      0.93     91031\n",
      "   macro avg       0.94      0.93      0.93     91031\n",
      "weighted avg       0.94      0.93      0.93     91031\n",
      "\n"
     ]
    }
   ],
   "source": [
    "pred_ann_24n_prob_unisoftsigbinlosadam, pred_ann_24n_01_unisoftsigbinlosadam = ann_predict(ann_24n_unisoftsigbinlosadam,test_x)"
   ]
  },
  {
   "cell_type": "code",
   "execution_count": 72,
   "metadata": {},
   "outputs": [
    {
     "data": {
      "image/png": "[encoded data removed]",
      "text/plain": [
       "<Figure size 432x288 with 1 Axes>"
      ]
     },
     "metadata": {
      "needs_background": "light"
     },
     "output_type": "display_data"
    },
    {
     "data": {
      "image/png": "[encoded data removed]",
      "text/plain": [
       "<Figure size 576x432 with 2 Axes>"
      ]
     },
     "metadata": {
      "needs_background": "light"
     },
     "output_type": "display_data"
    }
   ],
   "source": [
    "plot_roc_cm(pred_ann_24n_01_unisoftsigbinlosadam, pred_ann_24n_01_unisoftsigbinlosadam, './Figures/ROC_ann_24n_unisoftsigbinlosadam_redds10bal.png', './Figures/CM_ann_24n_unisoftsigbinlosadam_redds10bal.png')"
   ]
  },
  {
   "cell_type": "code",
   "execution_count": 73,
   "metadata": {},
   "outputs": [],
   "source": [
    "from sklearn.ensemble import RandomForestClassifier"
   ]
  },
  {
   "cell_type": "code",
   "execution_count": 74,
   "metadata": {},
   "outputs": [],
   "source": [
    "clf = RandomForestClassifier(n_estimators=300, \n",
    "                             criterion='gini', \n",
    "                             max_depth=16, \n",
    "#                              min_samples_split=2, \n",
    "                             #min_samples_leaf=1, \n",
    "                             max_features=0.3, \n",
    "                             #bootstrap=True,\n",
    "                             oob_score=True,\n",
    "                             random_state=23)  "
   ]
  },
  {
   "cell_type": "code",
   "execution_count": 76,
   "metadata": {},
   "outputs": [
    {
     "name": "stdout",
     "output_type": "stream",
     "text": [
      "Thu Jun  6 13:26:08 2019\n",
      "--- 1626.433359861374 seconds ---\n",
      "              precision    recall  f1-score   support\n",
      "\n",
      "           0     0.9960    0.9854    0.9906     45805\n",
      "           1     0.9853    0.9960    0.9906     45226\n",
      "\n",
      "   micro avg     0.9906    0.9906    0.9906     91031\n",
      "   macro avg     0.9907    0.9907    0.9906     91031\n",
      "weighted avg     0.9907    0.9906    0.9906     91031\n",
      "\n"
     ]
    }
   ],
   "source": [
    "start_time = time.time()\n",
    "print(time.ctime(start_time))\n",
    "\n",
    "clf.fit(enc_train_x_aslal, train_y)\n",
    "\n",
    "pred_y_RF = cross_val_predict(estimator=c f,\n",
    "                              X=np.array(enc_test_x_aslal),\n",
    "                              y=test_y,\n",
    "                              cv=KFold(n_splits=10, random_state=23),\n",
    "                              n_jobs=2)\n",
    "\n",
    "elapsed_time = (time.time() - start_time)\n",
    "print(\"--- %s seconds ---\" %elapsed_time)\n",
    "\n",
    "print(sm.classification_report(test_y, pred_y_RF,digits=4))"
   ]
  },
  {
   "cell_type": "code",
   "execution_count": 77,
   "metadata": {},
   "outputs": [
    {
     "data": {
      "image/png": "[encoded data removed]",
      "text/plain": [
       "<Figure size 432x288 with 1 Axes>"
      ]
     },
     "metadata": {
      "needs_background": "light"
     },
     "output_type": "display_data"
    },
    {
     "data": {
      "image/png": "[encoded data removed]",
      "text/plain": [
       "<Figure size 576x432 with 2 Axes>"
      ]
     },
     "metadata": {
      "needs_background": "light"
     },
     "output_type": "display_data"
    }
   ],
   "source": [
    "plot_roc_cm(pred_y_RF, pred_y_RF, './Figures/ROC_rf_E100MaxfautoMaxdnoneBootT_redds10bal.png', './Figures/CM_rf_E100MaxfautoMaxdnoneBootT_redds10bal.png')"
   ]
  },
  {
   "cell_type": "code",
   "execution_count": null,
   "metadata": {},
   "outputs": [],
   "source": []
  },
  {
   "cell_type": "code",
   "execution_count": null,
   "metadata": {},
   "outputs": [],
   "source": []
  },
  {
   "cell_type": "code",
   "execution_count": null,
   "metadata": {},
   "outputs": [],
   "source": []
  }
 ],
 "metadata": {
  "kernelspec": {
   "display_name": "Python 3",
   "language": "python",
   "name": "python3"
  },
  "language_info": {
   "codemirror_mode": {
    "name": "ipython",
    "version": 3
   },
   "file_extension": ".py",
   "mimetype": "text/x-python",
   "name": "python",
   "nbconvert_exporter": "python",
   "pygments_lexer": "ipython3",
   "version": "3.6.8"
  }
 },
 "nbformat": 4,
 "nbformat_minor": 2
}
