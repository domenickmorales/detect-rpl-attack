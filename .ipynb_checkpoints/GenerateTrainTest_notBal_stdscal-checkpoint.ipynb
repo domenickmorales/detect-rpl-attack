{
 "cells": [
  {
   "cell_type": "markdown",
   "metadata": {},
   "source": [
    "# Dataset tidying, -no balance-, encoding, normalization -> regular train and test subsets"
   ]
  },
  {
   "cell_type": "markdown",
   "metadata": {},
   "source": [
    "<font color='red'>Creation of unbalanced dataset</font>"
   ]
  },
  {
   "cell_type": "markdown",
   "metadata": {},
   "source": [
    "#### 1.1 Module loading"
   ]
  },
  {
   "cell_type": "code",
   "execution_count": 1,
   "metadata": {},
   "outputs": [],
   "source": [
    "import pandas as pd\n",
    "import numpy as np\n",
    "import seaborn as sns\n",
    "import matplotlib.pyplot as plt\n",
    "import imblearn\n",
    "from sklearn.preprocessing import LabelEncoder, StandardScaler, FunctionTransformer, OneHotEncoder\n",
    "from sklearn.compose import ColumnTransformer, make_column_transformer\n",
    "import os.path"
   ]
  },
  {
   "cell_type": "markdown",
   "metadata": {},
   "source": [
    "#### 0. Variables"
   ]
  },
  {
   "cell_type": "code",
   "execution_count": 124,
   "metadata": {},
   "outputs": [],
   "source": [
    "ds = \"20\"\n",
    "fraction_factor = 1"
   ]
  },
  {
   "cell_type": "markdown",
   "metadata": {},
   "source": [
    "> I fixed the *names = columns_csv* for more fexibility"
   ]
  },
  {
   "cell_type": "markdown",
   "metadata": {},
   "source": [
    "#### 1.2 Dataset loading"
   ]
  },
  {
   "cell_type": "code",
   "execution_count": 125,
   "metadata": {},
   "outputs": [
    {
     "name": "stdout",
     "output_type": "stream",
     "text": [
      "/home/user/01Code/00Datasets_final/sybil_20n_with-malicious_labelled.csv\n"
     ]
    }
   ],
   "source": [
    "#pathds = '/home/user/01Code/00Datasets_final/helpers/'\n",
    "pathds = os.path.abspath('/home/user/01Code/00Datasets_final/')\n",
    "file_name = \"sybil_\"+ds+\"n_with-malicious_labelled.csv\"\n",
    "full_path = os.path.join(pathds,file_name)\n",
    "print(full_path)"
   ]
  },
  {
   "cell_type": "code",
   "execution_count": 126,
   "metadata": {},
   "outputs": [],
   "source": [
    "#Columns\n",
    "columns_csv = \"frame_time_delta,frame_time_epoch,frame_time_relative,frame_cap_len,frame_len,frame_number,ipv6_src,ipv6_dst,ipv6_plen,sixlowpan_pattern,wpan_ack_request,wpan_dst_addr_mode,wpan_fcf,wpan_fcs,wpan_frame_length,wpan_pending,wpan_seq_no,icmpv6_checksum,icmpv6_code,class\".split(\",\")"
   ]
  },
  {
   "cell_type": "code",
   "execution_count": 127,
   "metadata": {},
   "outputs": [],
   "source": [
    "#Full DS\n",
    "df_full = pd.read_csv(full_path, low_memory=False, sep=',', names=columns_csv, skiprows=1)\n",
    "df_full_size = df_full.shape[0]"
   ]
  },
  {
   "cell_type": "code",
   "execution_count": 128,
   "metadata": {},
   "outputs": [],
   "source": [
    "#DS third of the total\n",
    "df_chunk = pd.read_csv(full_path, low_memory=False, sep=',', names=columns_csv, skiprows=1, chunksize=1000)\n",
    "df = df_chunk.get_chunk(int(df_full_size/fraction_factor))"
   ]
  },
  {
   "cell_type": "code",
   "execution_count": 129,
   "metadata": {},
   "outputs": [
    {
     "name": "stdout",
     "output_type": "stream",
     "text": [
      "(1849294, 20)\n",
      "(1849294, 20)\n"
     ]
    }
   ],
   "source": [
    "print(df.shape)\n",
    "print(df_full.shape)"
   ]
  },
  {
   "cell_type": "code",
   "execution_count": 130,
   "metadata": {},
   "outputs": [
    {
     "data": {
      "text/html": [
       "<div>\n",
       "<style scoped>\n",
       "    .dataframe tbody tr th:only-of-type {\n",
       "        vertical-align: middle;\n",
       "    }\n",
       "\n",
       "    .dataframe tbody tr th {\n",
       "        vertical-align: top;\n",
       "    }\n",
       "\n",
       "    .dataframe thead th {\n",
       "        text-align: right;\n",
       "    }\n",
       "</style>\n",
       "<table border=\"1\" class=\"dataframe\">\n",
       "  <thead>\n",
       "    <tr style=\"text-align: right;\">\n",
       "      <th></th>\n",
       "      <th>frame_time_delta</th>\n",
       "      <th>frame_time_epoch</th>\n",
       "      <th>frame_time_relative</th>\n",
       "      <th>frame_cap_len</th>\n",
       "      <th>frame_len</th>\n",
       "      <th>frame_number</th>\n",
       "      <th>ipv6_src</th>\n",
       "      <th>ipv6_dst</th>\n",
       "      <th>ipv6_plen</th>\n",
       "      <th>sixlowpan_pattern</th>\n",
       "      <th>wpan_ack_request</th>\n",
       "      <th>wpan_dst_addr_mode</th>\n",
       "      <th>wpan_fcf</th>\n",
       "      <th>wpan_fcs</th>\n",
       "      <th>wpan_frame_length</th>\n",
       "      <th>wpan_pending</th>\n",
       "      <th>wpan_seq_no</th>\n",
       "      <th>icmpv6_checksum</th>\n",
       "      <th>icmpv6_code</th>\n",
       "      <th>class</th>\n",
       "    </tr>\n",
       "  </thead>\n",
       "  <tbody>\n",
       "    <tr>\n",
       "      <th>0</th>\n",
       "      <td>0.000000</td>\n",
       "      <td>1.554230e+09</td>\n",
       "      <td>0.000000</td>\n",
       "      <td>64</td>\n",
       "      <td>64</td>\n",
       "      <td>1</td>\n",
       "      <td>fe80::c30c:0:0:5</td>\n",
       "      <td>ff02::1a</td>\n",
       "      <td>6</td>\n",
       "      <td>0x00000041</td>\n",
       "      <td>0</td>\n",
       "      <td>0x00000002</td>\n",
       "      <td>0x0000d841</td>\n",
       "      <td>0x0000342b</td>\n",
       "      <td>64</td>\n",
       "      <td>0</td>\n",
       "      <td>38</td>\n",
       "      <td>0x0000a40f</td>\n",
       "      <td>0</td>\n",
       "      <td>0</td>\n",
       "    </tr>\n",
       "    <tr>\n",
       "      <th>1</th>\n",
       "      <td>0.003288</td>\n",
       "      <td>1.554230e+09</td>\n",
       "      <td>0.003288</td>\n",
       "      <td>64</td>\n",
       "      <td>64</td>\n",
       "      <td>2</td>\n",
       "      <td>fe80::c30c:0:0:5</td>\n",
       "      <td>ff02::1a</td>\n",
       "      <td>6</td>\n",
       "      <td>0x00000041</td>\n",
       "      <td>0</td>\n",
       "      <td>0x00000002</td>\n",
       "      <td>0x0000d841</td>\n",
       "      <td>0x0000342b</td>\n",
       "      <td>64</td>\n",
       "      <td>0</td>\n",
       "      <td>38</td>\n",
       "      <td>0x0000a40f</td>\n",
       "      <td>0</td>\n",
       "      <td>0</td>\n",
       "    </tr>\n",
       "    <tr>\n",
       "      <th>2</th>\n",
       "      <td>0.003264</td>\n",
       "      <td>1.554230e+09</td>\n",
       "      <td>0.006552</td>\n",
       "      <td>64</td>\n",
       "      <td>64</td>\n",
       "      <td>3</td>\n",
       "      <td>fe80::c30c:0:0:5</td>\n",
       "      <td>ff02::1a</td>\n",
       "      <td>6</td>\n",
       "      <td>0x00000041</td>\n",
       "      <td>0</td>\n",
       "      <td>0x00000002</td>\n",
       "      <td>0x0000d841</td>\n",
       "      <td>0x0000342b</td>\n",
       "      <td>64</td>\n",
       "      <td>0</td>\n",
       "      <td>38</td>\n",
       "      <td>0x0000a40f</td>\n",
       "      <td>0</td>\n",
       "      <td>0</td>\n",
       "    </tr>\n",
       "    <tr>\n",
       "      <th>3</th>\n",
       "      <td>0.003296</td>\n",
       "      <td>1.554230e+09</td>\n",
       "      <td>0.009848</td>\n",
       "      <td>64</td>\n",
       "      <td>64</td>\n",
       "      <td>4</td>\n",
       "      <td>fe80::c30c:0:0:5</td>\n",
       "      <td>ff02::1a</td>\n",
       "      <td>6</td>\n",
       "      <td>0x00000041</td>\n",
       "      <td>0</td>\n",
       "      <td>0x00000002</td>\n",
       "      <td>0x0000d841</td>\n",
       "      <td>0x0000342b</td>\n",
       "      <td>64</td>\n",
       "      <td>0</td>\n",
       "      <td>38</td>\n",
       "      <td>0x0000a40f</td>\n",
       "      <td>0</td>\n",
       "      <td>0</td>\n",
       "    </tr>\n",
       "    <tr>\n",
       "      <th>4</th>\n",
       "      <td>0.003273</td>\n",
       "      <td>1.554230e+09</td>\n",
       "      <td>0.013121</td>\n",
       "      <td>64</td>\n",
       "      <td>64</td>\n",
       "      <td>5</td>\n",
       "      <td>fe80::c30c:0:0:5</td>\n",
       "      <td>ff02::1a</td>\n",
       "      <td>6</td>\n",
       "      <td>0x00000041</td>\n",
       "      <td>0</td>\n",
       "      <td>0x00000002</td>\n",
       "      <td>0x0000d841</td>\n",
       "      <td>0x0000342b</td>\n",
       "      <td>64</td>\n",
       "      <td>0</td>\n",
       "      <td>38</td>\n",
       "      <td>0x0000a40f</td>\n",
       "      <td>0</td>\n",
       "      <td>0</td>\n",
       "    </tr>\n",
       "  </tbody>\n",
       "</table>\n",
       "</div>"
      ],
      "text/plain": [
       "   frame_time_delta  frame_time_epoch  frame_time_relative  frame_cap_len  \\\n",
       "0          0.000000      1.554230e+09             0.000000             64   \n",
       "1          0.003288      1.554230e+09             0.003288             64   \n",
       "2          0.003264      1.554230e+09             0.006552             64   \n",
       "3          0.003296      1.554230e+09             0.009848             64   \n",
       "4          0.003273      1.554230e+09             0.013121             64   \n",
       "\n",
       "   frame_len  frame_number          ipv6_src  ipv6_dst  ipv6_plen  \\\n",
       "0         64             1  fe80::c30c:0:0:5  ff02::1a          6   \n",
       "1         64             2  fe80::c30c:0:0:5  ff02::1a          6   \n",
       "2         64             3  fe80::c30c:0:0:5  ff02::1a          6   \n",
       "3         64             4  fe80::c30c:0:0:5  ff02::1a          6   \n",
       "4         64             5  fe80::c30c:0:0:5  ff02::1a          6   \n",
       "\n",
       "  sixlowpan_pattern  wpan_ack_request wpan_dst_addr_mode    wpan_fcf  \\\n",
       "0        0x00000041                 0         0x00000002  0x0000d841   \n",
       "1        0x00000041                 0         0x00000002  0x0000d841   \n",
       "2        0x00000041                 0         0x00000002  0x0000d841   \n",
       "3        0x00000041                 0         0x00000002  0x0000d841   \n",
       "4        0x00000041                 0         0x00000002  0x0000d841   \n",
       "\n",
       "     wpan_fcs  wpan_frame_length  wpan_pending  wpan_seq_no icmpv6_checksum  \\\n",
       "0  0x0000342b                 64             0           38      0x0000a40f   \n",
       "1  0x0000342b                 64             0           38      0x0000a40f   \n",
       "2  0x0000342b                 64             0           38      0x0000a40f   \n",
       "3  0x0000342b                 64             0           38      0x0000a40f   \n",
       "4  0x0000342b                 64             0           38      0x0000a40f   \n",
       "\n",
       "   icmpv6_code  class  \n",
       "0            0      0  \n",
       "1            0      0  \n",
       "2            0      0  \n",
       "3            0      0  \n",
       "4            0      0  "
      ]
     },
     "execution_count": 130,
     "metadata": {},
     "output_type": "execute_result"
    }
   ],
   "source": [
    "df.head()"
   ]
  },
  {
   "cell_type": "code",
   "execution_count": 131,
   "metadata": {},
   "outputs": [],
   "source": [
    "X = df.iloc[:, 0:19] \n",
    "y = df.iloc[:, 19]"
   ]
  },
  {
   "cell_type": "code",
   "execution_count": 132,
   "metadata": {},
   "outputs": [
    {
     "data": {
      "text/html": [
       "<div>\n",
       "<style scoped>\n",
       "    .dataframe tbody tr th:only-of-type {\n",
       "        vertical-align: middle;\n",
       "    }\n",
       "\n",
       "    .dataframe tbody tr th {\n",
       "        vertical-align: top;\n",
       "    }\n",
       "\n",
       "    .dataframe thead th {\n",
       "        text-align: right;\n",
       "    }\n",
       "</style>\n",
       "<table border=\"1\" class=\"dataframe\">\n",
       "  <thead>\n",
       "    <tr style=\"text-align: right;\">\n",
       "      <th></th>\n",
       "      <th>frame_time_delta</th>\n",
       "      <th>frame_time_epoch</th>\n",
       "      <th>frame_time_relative</th>\n",
       "      <th>frame_cap_len</th>\n",
       "      <th>frame_len</th>\n",
       "      <th>frame_number</th>\n",
       "      <th>ipv6_plen</th>\n",
       "      <th>wpan_ack_request</th>\n",
       "      <th>wpan_frame_length</th>\n",
       "      <th>wpan_pending</th>\n",
       "      <th>wpan_seq_no</th>\n",
       "      <th>icmpv6_code</th>\n",
       "    </tr>\n",
       "  </thead>\n",
       "  <tbody>\n",
       "    <tr>\n",
       "      <th>count</th>\n",
       "      <td>1.849294e+06</td>\n",
       "      <td>1.849294e+06</td>\n",
       "      <td>1.849294e+06</td>\n",
       "      <td>1.849294e+06</td>\n",
       "      <td>1.849294e+06</td>\n",
       "      <td>1.849294e+06</td>\n",
       "      <td>1.849294e+06</td>\n",
       "      <td>1.849294e+06</td>\n",
       "      <td>1.849294e+06</td>\n",
       "      <td>1.849294e+06</td>\n",
       "      <td>1.849294e+06</td>\n",
       "      <td>1.849294e+06</td>\n",
       "    </tr>\n",
       "    <tr>\n",
       "      <th>mean</th>\n",
       "      <td>9.528723e-03</td>\n",
       "      <td>1.554154e+09</td>\n",
       "      <td>5.350224e+01</td>\n",
       "      <td>8.538390e+01</td>\n",
       "      <td>8.538390e+01</td>\n",
       "      <td>1.183904e+04</td>\n",
       "      <td>5.946103e+01</td>\n",
       "      <td>7.869619e-01</td>\n",
       "      <td>8.538390e+01</td>\n",
       "      <td>3.613812e-03</td>\n",
       "      <td>1.021124e+02</td>\n",
       "      <td>1.537514e+00</td>\n",
       "    </tr>\n",
       "    <tr>\n",
       "      <th>std</th>\n",
       "      <td>1.475289e-01</td>\n",
       "      <td>1.324341e+05</td>\n",
       "      <td>5.809158e+01</td>\n",
       "      <td>1.218753e+01</td>\n",
       "      <td>1.218753e+01</td>\n",
       "      <td>7.639256e+03</td>\n",
       "      <td>1.545073e+01</td>\n",
       "      <td>4.094544e-01</td>\n",
       "      <td>1.218753e+01</td>\n",
       "      <td>6.000628e-02</td>\n",
       "      <td>7.405492e+01</td>\n",
       "      <td>5.495465e-01</td>\n",
       "    </tr>\n",
       "    <tr>\n",
       "      <th>min</th>\n",
       "      <td>-3.099000e-03</td>\n",
       "      <td>1.553718e+09</td>\n",
       "      <td>0.000000e+00</td>\n",
       "      <td>6.400000e+01</td>\n",
       "      <td>6.400000e+01</td>\n",
       "      <td>1.000000e+00</td>\n",
       "      <td>6.000000e+00</td>\n",
       "      <td>0.000000e+00</td>\n",
       "      <td>6.400000e+01</td>\n",
       "      <td>0.000000e+00</td>\n",
       "      <td>0.000000e+00</td>\n",
       "      <td>0.000000e+00</td>\n",
       "    </tr>\n",
       "    <tr>\n",
       "      <th>25%</th>\n",
       "      <td>8.980000e-04</td>\n",
       "      <td>1.554158e+09</td>\n",
       "      <td>1.533551e+01</td>\n",
       "      <td>7.600000e+01</td>\n",
       "      <td>7.600000e+01</td>\n",
       "      <td>5.457000e+03</td>\n",
       "      <td>5.000000e+01</td>\n",
       "      <td>1.000000e+00</td>\n",
       "      <td>7.600000e+01</td>\n",
       "      <td>0.000000e+00</td>\n",
       "      <td>4.000000e+01</td>\n",
       "      <td>1.000000e+00</td>\n",
       "    </tr>\n",
       "    <tr>\n",
       "      <th>50%</th>\n",
       "      <td>2.010000e-03</td>\n",
       "      <td>1.554228e+09</td>\n",
       "      <td>3.223098e+01</td>\n",
       "      <td>7.600000e+01</td>\n",
       "      <td>7.600000e+01</td>\n",
       "      <td>1.114800e+04</td>\n",
       "      <td>5.000000e+01</td>\n",
       "      <td>1.000000e+00</td>\n",
       "      <td>7.600000e+01</td>\n",
       "      <td>0.000000e+00</td>\n",
       "      <td>9.100000e+01</td>\n",
       "      <td>2.000000e+00</td>\n",
       "    </tr>\n",
       "    <tr>\n",
       "      <th>75%</th>\n",
       "      <td>3.327000e-03</td>\n",
       "      <td>1.554235e+09</td>\n",
       "      <td>6.592111e+01</td>\n",
       "      <td>9.700000e+01</td>\n",
       "      <td>9.700000e+01</td>\n",
       "      <td>1.729500e+04</td>\n",
       "      <td>7.600000e+01</td>\n",
       "      <td>1.000000e+00</td>\n",
       "      <td>9.700000e+01</td>\n",
       "      <td>0.000000e+00</td>\n",
       "      <td>1.680000e+02</td>\n",
       "      <td>2.000000e+00</td>\n",
       "    </tr>\n",
       "    <tr>\n",
       "      <th>max</th>\n",
       "      <td>2.545275e+01</td>\n",
       "      <td>1.554242e+09</td>\n",
       "      <td>2.980743e+02</td>\n",
       "      <td>1.020000e+02</td>\n",
       "      <td>1.020000e+02</td>\n",
       "      <td>3.868600e+04</td>\n",
       "      <td>7.600000e+01</td>\n",
       "      <td>1.000000e+00</td>\n",
       "      <td>1.020000e+02</td>\n",
       "      <td>1.000000e+00</td>\n",
       "      <td>2.550000e+02</td>\n",
       "      <td>2.000000e+00</td>\n",
       "    </tr>\n",
       "  </tbody>\n",
       "</table>\n",
       "</div>"
      ],
      "text/plain": [
       "       frame_time_delta  frame_time_epoch  frame_time_relative  frame_cap_len  \\\n",
       "count      1.849294e+06      1.849294e+06         1.849294e+06   1.849294e+06   \n",
       "mean       9.528723e-03      1.554154e+09         5.350224e+01   8.538390e+01   \n",
       "std        1.475289e-01      1.324341e+05         5.809158e+01   1.218753e+01   \n",
       "min       -3.099000e-03      1.553718e+09         0.000000e+00   6.400000e+01   \n",
       "25%        8.980000e-04      1.554158e+09         1.533551e+01   7.600000e+01   \n",
       "50%        2.010000e-03      1.554228e+09         3.223098e+01   7.600000e+01   \n",
       "75%        3.327000e-03      1.554235e+09         6.592111e+01   9.700000e+01   \n",
       "max        2.545275e+01      1.554242e+09         2.980743e+02   1.020000e+02   \n",
       "\n",
       "          frame_len  frame_number     ipv6_plen  wpan_ack_request  \\\n",
       "count  1.849294e+06  1.849294e+06  1.849294e+06      1.849294e+06   \n",
       "mean   8.538390e+01  1.183904e+04  5.946103e+01      7.869619e-01   \n",
       "std    1.218753e+01  7.639256e+03  1.545073e+01      4.094544e-01   \n",
       "min    6.400000e+01  1.000000e+00  6.000000e+00      0.000000e+00   \n",
       "25%    7.600000e+01  5.457000e+03  5.000000e+01      1.000000e+00   \n",
       "50%    7.600000e+01  1.114800e+04  5.000000e+01      1.000000e+00   \n",
       "75%    9.700000e+01  1.729500e+04  7.600000e+01      1.000000e+00   \n",
       "max    1.020000e+02  3.868600e+04  7.600000e+01      1.000000e+00   \n",
       "\n",
       "       wpan_frame_length  wpan_pending   wpan_seq_no   icmpv6_code  \n",
       "count       1.849294e+06  1.849294e+06  1.849294e+06  1.849294e+06  \n",
       "mean        8.538390e+01  3.613812e-03  1.021124e+02  1.537514e+00  \n",
       "std         1.218753e+01  6.000628e-02  7.405492e+01  5.495465e-01  \n",
       "min         6.400000e+01  0.000000e+00  0.000000e+00  0.000000e+00  \n",
       "25%         7.600000e+01  0.000000e+00  4.000000e+01  1.000000e+00  \n",
       "50%         7.600000e+01  0.000000e+00  9.100000e+01  2.000000e+00  \n",
       "75%         9.700000e+01  0.000000e+00  1.680000e+02  2.000000e+00  \n",
       "max         1.020000e+02  1.000000e+00  2.550000e+02  2.000000e+00  "
      ]
     },
     "execution_count": 132,
     "metadata": {},
     "output_type": "execute_result"
    }
   ],
   "source": [
    "X.describe()"
   ]
  },
  {
   "cell_type": "code",
   "execution_count": 133,
   "metadata": {},
   "outputs": [],
   "source": [
    "# plt.figure(figsize=(5,5))\n",
    "\n",
    "# sns.boxplot(x='class', y='frame_time_relative', data=df, palette=\"Set1\")\n",
    "\n",
    "# # Changing default seaborn/matplotlib to be more readable\n",
    "# plt.xlabel('class', fontsize = 12)\n",
    "# plt.ylabel('frame_time_relative', fontsize = 12)\n",
    "# plt.xticks(fontsize = 10)\n",
    "# plt.yticks(fontsize = 10)\n",
    "\n",
    "# plt.savefig('area_delta_class.png')"
   ]
  },
  {
   "cell_type": "markdown",
   "metadata": {},
   "source": [
    "### 2. Dropping of nan values in rows and columns"
   ]
  },
  {
   "cell_type": "markdown",
   "metadata": {},
   "source": [
    "#### 2.1 Finding if there is any column or row with nan values"
   ]
  },
  {
   "cell_type": "code",
   "execution_count": 134,
   "metadata": {},
   "outputs": [
    {
     "name": "stdout",
     "output_type": "stream",
     "text": [
      "No nans df\n"
     ]
    }
   ],
   "source": [
    "nan_df = df.isnull().any().tolist()\n",
    "\n",
    "if True in nan_df: print('**There is nans in df_test!**\\n\\n', df.isnull().any())\n",
    "else: print(\"No nans df\")"
   ]
  },
  {
   "cell_type": "markdown",
   "metadata": {},
   "source": [
    "> As it is True in some columns (features) It was required to remove this samples"
   ]
  },
  {
   "cell_type": "code",
   "execution_count": 135,
   "metadata": {},
   "outputs": [
    {
     "data": {
      "text/plain": [
       "frame_time_delta       0\n",
       "frame_time_epoch       0\n",
       "frame_time_relative    0\n",
       "frame_cap_len          0\n",
       "frame_len              0\n",
       "frame_number           0\n",
       "ipv6_src               0\n",
       "ipv6_dst               0\n",
       "ipv6_plen              0\n",
       "sixlowpan_pattern      0\n",
       "wpan_ack_request       0\n",
       "wpan_dst_addr_mode     0\n",
       "wpan_fcf               0\n",
       "wpan_fcs               0\n",
       "wpan_frame_length      0\n",
       "wpan_pending           0\n",
       "wpan_seq_no            0\n",
       "icmpv6_checksum        0\n",
       "icmpv6_code            0\n",
       "class                  0\n",
       "dtype: int64"
      ]
     },
     "execution_count": 135,
     "metadata": {},
     "output_type": "execute_result"
    }
   ],
   "source": [
    "df.isnull().sum()"
   ]
  },
  {
   "cell_type": "markdown",
   "metadata": {},
   "source": [
    "#### 2.2 Removing any nan value in any row or column"
   ]
  },
  {
   "cell_type": "code",
   "execution_count": 136,
   "metadata": {},
   "outputs": [],
   "source": [
    "df_nonan_row = df.dropna(axis=0, how='all') #dropping rows whose any value is nan "
   ]
  },
  {
   "cell_type": "code",
   "execution_count": 137,
   "metadata": {},
   "outputs": [],
   "source": [
    "df_nonan_rowcol = df_nonan_row.dropna(axis=1, how='any') #dropping columns whose any value is nan "
   ]
  },
  {
   "cell_type": "code",
   "execution_count": 138,
   "metadata": {},
   "outputs": [],
   "source": [
    "df = df_nonan_rowcol # dataset without nan values"
   ]
  },
  {
   "cell_type": "code",
   "execution_count": 139,
   "metadata": {},
   "outputs": [
    {
     "name": "stdout",
     "output_type": "stream",
     "text": [
      "No nans df\n"
     ]
    }
   ],
   "source": [
    "nan_df = df.isnull().any().tolist()\n",
    "\n",
    "if True in nan_df: print('**There is nans in df_test!**\\n\\n', df.isnull().any())\n",
    "else: print(\"No nans df\")"
   ]
  },
  {
   "cell_type": "markdown",
   "metadata": {},
   "source": [
    "> As is expected the dataset is now ready to the next step"
   ]
  },
  {
   "cell_type": "code",
   "execution_count": 140,
   "metadata": {},
   "outputs": [
    {
     "data": {
      "text/plain": [
       "(1849294, 20)"
      ]
     },
     "execution_count": 140,
     "metadata": {},
     "output_type": "execute_result"
    }
   ],
   "source": [
    "df.shape"
   ]
  },
  {
   "cell_type": "markdown",
   "metadata": {},
   "source": [
    "### 3. Special care of hex values in string format"
   ]
  },
  {
   "cell_type": "markdown",
   "metadata": {},
   "source": [
    "#### 3.1 Conversion of sring values into int"
   ]
  },
  {
   "cell_type": "code",
   "execution_count": 141,
   "metadata": {},
   "outputs": [],
   "source": [
    "df['wpan_dst_addr_mode'] = df.wpan_dst_addr_mode.apply(int, base=16)\n",
    "df['wpan_fcf'] = df.wpan_fcf.apply(int, base=16)\n",
    "df['wpan_fcs'] = df.wpan_fcs.apply(int, base=16)\n",
    "df['sixlowpan_pattern'] = df.sixlowpan_pattern.apply(int, base=16)\n",
    "df['icmpv6_checksum'] = df.icmpv6_checksum.apply(int, base=16)"
   ]
  },
  {
   "cell_type": "markdown",
   "metadata": {},
   "source": [
    "> Two features exhibited values in unsigned byte type (string hex values), therefore it was necessary to convert them into int values"
   ]
  },
  {
   "cell_type": "code",
   "execution_count": 142,
   "metadata": {},
   "outputs": [
    {
     "data": {
      "text/html": [
       "<div>\n",
       "<style scoped>\n",
       "    .dataframe tbody tr th:only-of-type {\n",
       "        vertical-align: middle;\n",
       "    }\n",
       "\n",
       "    .dataframe tbody tr th {\n",
       "        vertical-align: top;\n",
       "    }\n",
       "\n",
       "    .dataframe thead th {\n",
       "        text-align: right;\n",
       "    }\n",
       "</style>\n",
       "<table border=\"1\" class=\"dataframe\">\n",
       "  <thead>\n",
       "    <tr style=\"text-align: right;\">\n",
       "      <th></th>\n",
       "      <th>frame_time_delta</th>\n",
       "      <th>frame_time_epoch</th>\n",
       "      <th>frame_time_relative</th>\n",
       "      <th>frame_cap_len</th>\n",
       "      <th>frame_len</th>\n",
       "      <th>frame_number</th>\n",
       "      <th>ipv6_src</th>\n",
       "      <th>ipv6_dst</th>\n",
       "      <th>ipv6_plen</th>\n",
       "      <th>sixlowpan_pattern</th>\n",
       "      <th>wpan_ack_request</th>\n",
       "      <th>wpan_dst_addr_mode</th>\n",
       "      <th>wpan_fcf</th>\n",
       "      <th>wpan_fcs</th>\n",
       "      <th>wpan_frame_length</th>\n",
       "      <th>wpan_pending</th>\n",
       "      <th>wpan_seq_no</th>\n",
       "      <th>icmpv6_checksum</th>\n",
       "      <th>icmpv6_code</th>\n",
       "      <th>class</th>\n",
       "    </tr>\n",
       "  </thead>\n",
       "  <tbody>\n",
       "    <tr>\n",
       "      <th>0</th>\n",
       "      <td>0.000000</td>\n",
       "      <td>1.554230e+09</td>\n",
       "      <td>0.000000</td>\n",
       "      <td>64</td>\n",
       "      <td>64</td>\n",
       "      <td>1</td>\n",
       "      <td>fe80::c30c:0:0:5</td>\n",
       "      <td>ff02::1a</td>\n",
       "      <td>6</td>\n",
       "      <td>65</td>\n",
       "      <td>0</td>\n",
       "      <td>2</td>\n",
       "      <td>55361</td>\n",
       "      <td>13355</td>\n",
       "      <td>64</td>\n",
       "      <td>0</td>\n",
       "      <td>38</td>\n",
       "      <td>41999</td>\n",
       "      <td>0</td>\n",
       "      <td>0</td>\n",
       "    </tr>\n",
       "    <tr>\n",
       "      <th>1</th>\n",
       "      <td>0.003288</td>\n",
       "      <td>1.554230e+09</td>\n",
       "      <td>0.003288</td>\n",
       "      <td>64</td>\n",
       "      <td>64</td>\n",
       "      <td>2</td>\n",
       "      <td>fe80::c30c:0:0:5</td>\n",
       "      <td>ff02::1a</td>\n",
       "      <td>6</td>\n",
       "      <td>65</td>\n",
       "      <td>0</td>\n",
       "      <td>2</td>\n",
       "      <td>55361</td>\n",
       "      <td>13355</td>\n",
       "      <td>64</td>\n",
       "      <td>0</td>\n",
       "      <td>38</td>\n",
       "      <td>41999</td>\n",
       "      <td>0</td>\n",
       "      <td>0</td>\n",
       "    </tr>\n",
       "    <tr>\n",
       "      <th>2</th>\n",
       "      <td>0.003264</td>\n",
       "      <td>1.554230e+09</td>\n",
       "      <td>0.006552</td>\n",
       "      <td>64</td>\n",
       "      <td>64</td>\n",
       "      <td>3</td>\n",
       "      <td>fe80::c30c:0:0:5</td>\n",
       "      <td>ff02::1a</td>\n",
       "      <td>6</td>\n",
       "      <td>65</td>\n",
       "      <td>0</td>\n",
       "      <td>2</td>\n",
       "      <td>55361</td>\n",
       "      <td>13355</td>\n",
       "      <td>64</td>\n",
       "      <td>0</td>\n",
       "      <td>38</td>\n",
       "      <td>41999</td>\n",
       "      <td>0</td>\n",
       "      <td>0</td>\n",
       "    </tr>\n",
       "    <tr>\n",
       "      <th>3</th>\n",
       "      <td>0.003296</td>\n",
       "      <td>1.554230e+09</td>\n",
       "      <td>0.009848</td>\n",
       "      <td>64</td>\n",
       "      <td>64</td>\n",
       "      <td>4</td>\n",
       "      <td>fe80::c30c:0:0:5</td>\n",
       "      <td>ff02::1a</td>\n",
       "      <td>6</td>\n",
       "      <td>65</td>\n",
       "      <td>0</td>\n",
       "      <td>2</td>\n",
       "      <td>55361</td>\n",
       "      <td>13355</td>\n",
       "      <td>64</td>\n",
       "      <td>0</td>\n",
       "      <td>38</td>\n",
       "      <td>41999</td>\n",
       "      <td>0</td>\n",
       "      <td>0</td>\n",
       "    </tr>\n",
       "    <tr>\n",
       "      <th>4</th>\n",
       "      <td>0.003273</td>\n",
       "      <td>1.554230e+09</td>\n",
       "      <td>0.013121</td>\n",
       "      <td>64</td>\n",
       "      <td>64</td>\n",
       "      <td>5</td>\n",
       "      <td>fe80::c30c:0:0:5</td>\n",
       "      <td>ff02::1a</td>\n",
       "      <td>6</td>\n",
       "      <td>65</td>\n",
       "      <td>0</td>\n",
       "      <td>2</td>\n",
       "      <td>55361</td>\n",
       "      <td>13355</td>\n",
       "      <td>64</td>\n",
       "      <td>0</td>\n",
       "      <td>38</td>\n",
       "      <td>41999</td>\n",
       "      <td>0</td>\n",
       "      <td>0</td>\n",
       "    </tr>\n",
       "  </tbody>\n",
       "</table>\n",
       "</div>"
      ],
      "text/plain": [
       "   frame_time_delta  frame_time_epoch  frame_time_relative  frame_cap_len  \\\n",
       "0          0.000000      1.554230e+09             0.000000             64   \n",
       "1          0.003288      1.554230e+09             0.003288             64   \n",
       "2          0.003264      1.554230e+09             0.006552             64   \n",
       "3          0.003296      1.554230e+09             0.009848             64   \n",
       "4          0.003273      1.554230e+09             0.013121             64   \n",
       "\n",
       "   frame_len  frame_number          ipv6_src  ipv6_dst  ipv6_plen  \\\n",
       "0         64             1  fe80::c30c:0:0:5  ff02::1a          6   \n",
       "1         64             2  fe80::c30c:0:0:5  ff02::1a          6   \n",
       "2         64             3  fe80::c30c:0:0:5  ff02::1a          6   \n",
       "3         64             4  fe80::c30c:0:0:5  ff02::1a          6   \n",
       "4         64             5  fe80::c30c:0:0:5  ff02::1a          6   \n",
       "\n",
       "   sixlowpan_pattern  wpan_ack_request  wpan_dst_addr_mode  wpan_fcf  \\\n",
       "0                 65                 0                   2     55361   \n",
       "1                 65                 0                   2     55361   \n",
       "2                 65                 0                   2     55361   \n",
       "3                 65                 0                   2     55361   \n",
       "4                 65                 0                   2     55361   \n",
       "\n",
       "   wpan_fcs  wpan_frame_length  wpan_pending  wpan_seq_no  icmpv6_checksum  \\\n",
       "0     13355                 64             0           38            41999   \n",
       "1     13355                 64             0           38            41999   \n",
       "2     13355                 64             0           38            41999   \n",
       "3     13355                 64             0           38            41999   \n",
       "4     13355                 64             0           38            41999   \n",
       "\n",
       "   icmpv6_code  class  \n",
       "0            0      0  \n",
       "1            0      0  \n",
       "2            0      0  \n",
       "3            0      0  \n",
       "4            0      0  "
      ]
     },
     "execution_count": 142,
     "metadata": {},
     "output_type": "execute_result"
    }
   ],
   "source": [
    "df.head()"
   ]
  },
  {
   "cell_type": "markdown",
   "metadata": {},
   "source": [
    "### 4. Dataset Pre-processing "
   ]
  },
  {
   "cell_type": "markdown",
   "metadata": {},
   "source": [
    "#### 4.1 Finding out features data type "
   ]
  },
  {
   "cell_type": "code",
   "execution_count": 143,
   "metadata": {},
   "outputs": [
    {
     "data": {
      "text/plain": [
       "Index(['frame_time_delta', 'frame_time_epoch', 'frame_time_relative',\n",
       "       'frame_cap_len', 'frame_len', 'frame_number', 'ipv6_src', 'ipv6_dst',\n",
       "       'ipv6_plen', 'sixlowpan_pattern', 'wpan_ack_request',\n",
       "       'wpan_dst_addr_mode', 'wpan_fcf', 'wpan_fcs', 'wpan_frame_length',\n",
       "       'wpan_pending', 'wpan_seq_no', 'icmpv6_checksum', 'icmpv6_code',\n",
       "       'class'],\n",
       "      dtype='object')"
      ]
     },
     "execution_count": 143,
     "metadata": {},
     "output_type": "execute_result"
    }
   ],
   "source": [
    "df.columns"
   ]
  },
  {
   "cell_type": "code",
   "execution_count": 144,
   "metadata": {},
   "outputs": [
    {
     "data": {
      "text/plain": [
       "float64     3\n",
       "int64      15\n",
       "object      2\n",
       "dtype: int64"
      ]
     },
     "execution_count": 144,
     "metadata": {},
     "output_type": "execute_result"
    }
   ],
   "source": [
    "df.get_dtype_counts()"
   ]
  },
  {
   "cell_type": "code",
   "execution_count": 145,
   "metadata": {},
   "outputs": [
    {
     "data": {
      "text/plain": [
       "Index(['ipv6_src', 'ipv6_dst'], dtype='object')"
      ]
     },
     "execution_count": 145,
     "metadata": {},
     "output_type": "execute_result"
    }
   ],
   "source": [
    "df.select_dtypes('object').columns"
   ]
  },
  {
   "cell_type": "markdown",
   "metadata": {},
   "source": [
    "> It is necessary to encode the object dtype features into numerical, using Label Encoding. Also it is indispensable to encode any others categorical features such as icmpv6.type, icmpv6.code , 6lowpan.pattern, wpan.dst_addr_mode using one-hot (1-to-n) encoding."
   ]
  },
  {
   "cell_type": "markdown",
   "metadata": {},
   "source": [
    "#### 4.2 Explaining the data"
   ]
  },
  {
   "cell_type": "code",
   "execution_count": 146,
   "metadata": {},
   "outputs": [
    {
     "name": "stdout",
     "output_type": "stream",
     "text": [
      "Class 0: 1343101\n",
      "Class 1: 506193\n",
      "Proportion: 2.653 : 1\n"
     ]
    },
    {
     "data": {
      "image/png": "[encoded data removed]",
      "text/plain": [
       "<Figure size 432x288 with 1 Axes>"
      ]
     },
     "metadata": {
      "needs_background": "light"
     },
     "output_type": "display_data"
    }
   ],
   "source": [
    "#if you don't have an intuitive sense of how imbalanced these two classes are, let's go visual\n",
    "count_classes = pd.value_counts(df['class'], sort = True)\n",
    "print('Class 0:', count_classes[0])\n",
    "print('Class 1:', count_classes[1])\n",
    "print('Proportion:', round(count_classes[0] / count_classes[1], 3), ': 1')\n",
    "\n",
    "count_classes.plot(kind = 'bar', rot=0)\n",
    "plt.xticks(range(2), ['Normal [0]','Malicious [1]'])\n",
    "plt.title(\"Frequency by observation number\")\n",
    "plt.xlabel(\"Class\")\n",
    "plt.ylabel(\"Number of Observations\");"
   ]
  },
  {
   "cell_type": "markdown",
   "metadata": {},
   "source": [
    "#### 4.2 Label encoding for columns 'ipv6_src', 'ipv6_dst'"
   ]
  },
  {
   "cell_type": "code",
   "execution_count": 147,
   "metadata": {},
   "outputs": [],
   "source": [
    "le = LabelEncoder()\n",
    "df.iloc[:,6] = le.fit_transform(df.iloc[:,6])\n",
    "df.iloc[:,7] = le.fit_transform(df.iloc[:,7])"
   ]
  },
  {
   "cell_type": "code",
   "execution_count": 148,
   "metadata": {},
   "outputs": [
    {
     "name": "stdout",
     "output_type": "stream",
     "text": [
      "Unique values for ipv6_src feature [ 8  5  1  3  9 16 12  2  0 13 18 17 10  7  6  4 11 15 14]\n",
      "Unique values for ipv6_dst feature [19  0 18 17  6  2  7 16 15 10 14  3 13  4 11  8  5  9  1 12]\n"
     ]
    }
   ],
   "source": [
    "print(\"Unique values for ipv6_src feature\",df.iloc[:,6].unique())\n",
    "print(\"Unique values for ipv6_dst feature\",df.iloc[:,7].unique())"
   ]
  },
  {
   "cell_type": "markdown",
   "metadata": {},
   "source": [
    "> As it is showed, the former object values are now numerical "
   ]
  },
  {
   "cell_type": "markdown",
   "metadata": {},
   "source": [
    "#### 4.3 Normalization of frame_time_epoch"
   ]
  },
  {
   "cell_type": "code",
   "execution_count": 149,
   "metadata": {},
   "outputs": [],
   "source": [
    "df['frame_time_epoch'] = df['frame_time_epoch'].astype(float)"
   ]
  },
  {
   "cell_type": "code",
   "execution_count": 150,
   "metadata": {},
   "outputs": [],
   "source": [
    "# df['frame_time_epoch'] = df['frame_time_epoch'] - df.frame_time_epoch.min()"
   ]
  },
  {
   "cell_type": "code",
   "execution_count": 151,
   "metadata": {},
   "outputs": [
    {
     "data": {
      "text/plain": [
       "count    1.849294e+06\n",
       "mean     1.554154e+09\n",
       "std      1.324341e+05\n",
       "min      1.553718e+09\n",
       "25%      1.554158e+09\n",
       "50%      1.554228e+09\n",
       "75%      1.554235e+09\n",
       "max      1.554242e+09\n",
       "Name: frame_time_epoch, dtype: float64"
      ]
     },
     "execution_count": 151,
     "metadata": {},
     "output_type": "execute_result"
    }
   ],
   "source": [
    "df.frame_time_epoch.describe()"
   ]
  },
  {
   "cell_type": "code",
   "execution_count": 152,
   "metadata": {},
   "outputs": [],
   "source": [
    "df['frame_time_epoch'] = np.log1p(df['frame_time_epoch'])"
   ]
  },
  {
   "cell_type": "code",
   "execution_count": 153,
   "metadata": {},
   "outputs": [
    {
     "data": {
      "text/plain": [
       "count    1.849294e+06\n",
       "mean     2.116420e+01\n",
       "std      8.521947e-05\n",
       "min      2.116392e+01\n",
       "25%      2.116420e+01\n",
       "50%      2.116424e+01\n",
       "75%      2.116425e+01\n",
       "max      2.116425e+01\n",
       "Name: frame_time_epoch, dtype: float64"
      ]
     },
     "execution_count": 153,
     "metadata": {},
     "output_type": "execute_result"
    }
   ],
   "source": [
    "df.frame_time_epoch.describe()"
   ]
  },
  {
   "cell_type": "code",
   "execution_count": 154,
   "metadata": {},
   "outputs": [],
   "source": [
    "# df.head()"
   ]
  },
  {
   "cell_type": "markdown",
   "metadata": {},
   "source": [
    "#### 4.4 One hot encoding of categorical features using ColumnTransformer and standard scaler normalization"
   ]
  },
  {
   "cell_type": "code",
   "execution_count": 155,
   "metadata": {},
   "outputs": [],
   "source": [
    "onehot_col = ['ipv6_dst', 'ipv6_src', 'icmpv6_code', 'wpan_dst_addr_mode', 'wpan_fcf', 'sixlowpan_pattern']\n",
    "#onehot_col"
   ]
  },
  {
   "cell_type": "code",
   "execution_count": 156,
   "metadata": {},
   "outputs": [],
   "source": [
    "#log_col = df.select_dtypes('float').columns.tolist()\n",
    "#log_col = ['frame_time_delta', 'frame_time_epoch', 'frame_time_relative']\n",
    "#log_col = []"
   ]
  },
  {
   "cell_type": "code",
   "execution_count": 157,
   "metadata": {},
   "outputs": [],
   "source": [
    "int_col = ['frame_time_delta', 'frame_time_epoch', 'frame_time_relative', 'frame_cap_len', 'frame_len', 'frame_number', 'wpan_fcs', 'wpan_frame_length', 'wpan_seq_no', 'ipv6_plen', 'icmpv6_checksum']\n",
    "#int_col"
   ]
  },
  {
   "cell_type": "code",
   "execution_count": 158,
   "metadata": {},
   "outputs": [],
   "source": [
    "#stdscal_col = log_col+ int_col + onehot_col \n",
    "stdscal_col = int_col + onehot_col \n",
    "#stdscal_col\n"
   ]
  },
  {
   "cell_type": "code",
   "execution_count": 159,
   "metadata": {},
   "outputs": [],
   "source": [
    "# transformer = FunctionTransformer(np.log1p)"
   ]
  },
  {
   "cell_type": "code",
   "execution_count": 160,
   "metadata": {},
   "outputs": [],
   "source": [
    "preprocess = make_column_transformer(\n",
    "    (StandardScaler(copy=True), stdscal_col),\n",
    "    (OneHotEncoder(categories='auto', sparse=False), onehot_col)\n",
    ")"
   ]
  },
  {
   "cell_type": "code",
   "execution_count": 161,
   "metadata": {},
   "outputs": [
    {
     "data": {
      "text/plain": [
       "(1849294, 20)"
      ]
     },
     "execution_count": 161,
     "metadata": {},
     "output_type": "execute_result"
    }
   ],
   "source": [
    "df.shape"
   ]
  },
  {
   "cell_type": "code",
   "execution_count": 162,
   "metadata": {},
   "outputs": [
    {
     "data": {
      "text/plain": [
       "19"
      ]
     },
     "execution_count": 162,
     "metadata": {},
     "output_type": "execute_result"
    }
   ],
   "source": [
    "df.columns.get_loc('class')"
   ]
  },
  {
   "cell_type": "code",
   "execution_count": 163,
   "metadata": {},
   "outputs": [],
   "source": [
    "X = df.iloc[:, 0:19] \n",
    "y = df.iloc[:, 19]"
   ]
  },
  {
   "cell_type": "code",
   "execution_count": 164,
   "metadata": {},
   "outputs": [
    {
     "name": "stderr",
     "output_type": "stream",
     "text": [
      "/home/user/.local/lib/python3.6/site-packages/sklearn/preprocessing/data.py:645: DataConversionWarning: Data with input dtype int64, float64 were all converted to float64 by StandardScaler.\n",
      "  return self.partial_fit(X, y)\n",
      "/home/user/.local/lib/python3.6/site-packages/sklearn/base.py:464: DataConversionWarning: Data with input dtype int64, float64 were all converted to float64 by StandardScaler.\n",
      "  return self.fit(X, **fit_params).transform(X)\n"
     ]
    }
   ],
   "source": [
    "X_norm = preprocess.fit_transform(X)"
   ]
  },
  {
   "cell_type": "code",
   "execution_count": 165,
   "metadata": {},
   "outputs": [],
   "source": [
    "# for i in range(0,48):\n",
    "#     print(i, X_norm[:,i].mean())"
   ]
  },
  {
   "cell_type": "code",
   "execution_count": 166,
   "metadata": {},
   "outputs": [
    {
     "name": "stdout",
     "output_type": "stream",
     "text": [
      "Label Encoded Dataset shape: (1849294, 19)\n",
      "Normalized Dataset shape: (1849294, 66)\n"
     ]
    }
   ],
   "source": [
    "print('Label Encoded Dataset shape:', df.iloc[:, 0:19].shape)\n",
    "print('Normalized Dataset shape:', X_norm.shape)"
   ]
  },
  {
   "cell_type": "code",
   "execution_count": 167,
   "metadata": {},
   "outputs": [
    {
     "name": "stdout",
     "output_type": "stream",
     "text": [
      "Class subset shape: (1849294,)\n"
     ]
    }
   ],
   "source": [
    "print('Class subset shape:', y.shape)"
   ]
  },
  {
   "cell_type": "code",
   "execution_count": null,
   "metadata": {},
   "outputs": [],
   "source": []
  },
  {
   "cell_type": "code",
   "execution_count": 168,
   "metadata": {},
   "outputs": [
    {
     "name": "stdout",
     "output_type": "stream",
     "text": [
      "(1849294, 1)\n",
      "(1849294, 66)\n"
     ]
    }
   ],
   "source": [
    "df_y_csv = pd.DataFrame(y)\n",
    "print(df_y_csv.shape)\n",
    "\n",
    "df_x_csv = pd.DataFrame(X_norm)\n",
    "print(df_x_csv.shape)"
   ]
  },
  {
   "cell_type": "code",
   "execution_count": 169,
   "metadata": {},
   "outputs": [],
   "source": [
    "# print(df_y_csv.isna().any())\n",
    "# print(df_x_csv.isna().any())"
   ]
  },
  {
   "cell_type": "code",
   "execution_count": null,
   "metadata": {},
   "outputs": [],
   "source": []
  },
  {
   "cell_type": "code",
   "execution_count": 170,
   "metadata": {},
   "outputs": [],
   "source": [
    "df_x_csv.reset_index(drop=True, inplace=True)\n",
    "df_y_csv.reset_index(drop=True, inplace=True)"
   ]
  },
  {
   "cell_type": "code",
   "execution_count": null,
   "metadata": {},
   "outputs": [],
   "source": []
  },
  {
   "cell_type": "code",
   "execution_count": 171,
   "metadata": {},
   "outputs": [],
   "source": [
    "df_allsamples_norm = pd.concat((df_x_csv,df_y_csv), axis=1)"
   ]
  },
  {
   "cell_type": "code",
   "execution_count": 172,
   "metadata": {},
   "outputs": [
    {
     "name": "stdout",
     "output_type": "stream",
     "text": [
      "(1849294, 67)\n"
     ]
    }
   ],
   "source": [
    "print(df_allsamples_norm.shape)"
   ]
  },
  {
   "cell_type": "code",
   "execution_count": 173,
   "metadata": {},
   "outputs": [
    {
     "name": "stdout",
     "output_type": "stream",
     "text": [
      "No nans in df_allsamples_norm\n"
     ]
    }
   ],
   "source": [
    "nan_df_allsamples_norm = df_allsamples_norm.isnull().any().tolist()\n",
    "\n",
    "if True in nan_df_allsamples_norm: print('**There is nans in df_test!**\\n\\n', df_allsamples_norm.isnull().any())\n",
    "else: print(\"No nans in df_allsamples_norm\")"
   ]
  },
  {
   "cell_type": "markdown",
   "metadata": {},
   "source": [
    "#### 5. Writing unBalanced Dataset"
   ]
  },
  {
   "cell_type": "code",
   "execution_count": 174,
   "metadata": {},
   "outputs": [
    {
     "name": "stdout",
     "output_type": "stream",
     "text": [
      "Full\n"
     ]
    }
   ],
   "source": [
    "if fraction_factor == 3:\n",
    "    ds_prefix = \"Third\"\n",
    "elif fraction_factor == 2:\n",
    "    ds_prefix = \"Half\"\n",
    "elif fraction_factor == 1:\n",
    "    ds_prefix = \"Full\"\n",
    "print(ds_prefix)"
   ]
  },
  {
   "cell_type": "code",
   "execution_count": 175,
   "metadata": {},
   "outputs": [],
   "source": [
    "df_allsamples_norm.to_csv(os.path.join(pathds,\"01UnbalancedDS/\"+ds_prefix+\"CloneID\"+ds+\"unbal_stdscal.csv\"), index=False)"
   ]
  },
  {
   "cell_type": "code",
   "execution_count": 176,
   "metadata": {},
   "outputs": [
    {
     "name": "stdout",
     "output_type": "stream",
     "text": [
      "(1849294, 67)\n"
     ]
    }
   ],
   "source": [
    "print(df_allsamples_norm.shape)"
   ]
  },
  {
   "cell_type": "code",
   "execution_count": 177,
   "metadata": {},
   "outputs": [],
   "source": [
    "df_from_csv = pd.read_csv(os.path.join(pathds,\"01UnbalancedDS/\"+ds_prefix+\"CloneID\"+ds+\"unbal_stdscal.csv\"))"
   ]
  },
  {
   "cell_type": "code",
   "execution_count": 178,
   "metadata": {},
   "outputs": [
    {
     "name": "stdout",
     "output_type": "stream",
     "text": [
      "No nans in df_allsamples_norm\n"
     ]
    }
   ],
   "source": [
    "nan_df_from_csv = df_from_csv.isnull().any().tolist()\n",
    "\n",
    "if True in nan_df_from_csv: print('**There is nans in df_test!**\\n\\n', df_from_csv.isnull().any())\n",
    "else: print(\"No nans in df_allsamples_norm\")"
   ]
  },
  {
   "cell_type": "code",
   "execution_count": 179,
   "metadata": {},
   "outputs": [
    {
     "name": "stdout",
     "output_type": "stream",
     "text": [
      "(1849294, 67)\n",
      "67\n"
     ]
    }
   ],
   "source": [
    "print(df_from_csv.shape)\n",
    "print(df_from_csv.shape[1])"
   ]
  },
  {
   "cell_type": "code",
   "execution_count": 180,
   "metadata": {},
   "outputs": [
    {
     "data": {
      "text/html": [
       "<div>\n",
       "<style scoped>\n",
       "    .dataframe tbody tr th:only-of-type {\n",
       "        vertical-align: middle;\n",
       "    }\n",
       "\n",
       "    .dataframe tbody tr th {\n",
       "        vertical-align: top;\n",
       "    }\n",
       "\n",
       "    .dataframe thead th {\n",
       "        text-align: right;\n",
       "    }\n",
       "</style>\n",
       "<table border=\"1\" class=\"dataframe\">\n",
       "  <thead>\n",
       "    <tr style=\"text-align: right;\">\n",
       "      <th></th>\n",
       "      <th>0</th>\n",
       "      <th>1</th>\n",
       "      <th>2</th>\n",
       "      <th>3</th>\n",
       "      <th>4</th>\n",
       "      <th>5</th>\n",
       "      <th>6</th>\n",
       "      <th>7</th>\n",
       "      <th>8</th>\n",
       "      <th>9</th>\n",
       "      <th>...</th>\n",
       "      <th>57</th>\n",
       "      <th>58</th>\n",
       "      <th>59</th>\n",
       "      <th>60</th>\n",
       "      <th>61</th>\n",
       "      <th>62</th>\n",
       "      <th>63</th>\n",
       "      <th>64</th>\n",
       "      <th>65</th>\n",
       "      <th>class</th>\n",
       "    </tr>\n",
       "  </thead>\n",
       "  <tbody>\n",
       "    <tr>\n",
       "      <th>0</th>\n",
       "      <td>-0.064589</td>\n",
       "      <td>0.576554</td>\n",
       "      <td>-0.920998</td>\n",
       "      <td>-1.754572</td>\n",
       "      <td>-1.754572</td>\n",
       "      <td>-1.549633</td>\n",
       "      <td>-1.036744</td>\n",
       "      <td>-1.754572</td>\n",
       "      <td>-0.865742</td>\n",
       "      <td>-3.4601</td>\n",
       "      <td>...</td>\n",
       "      <td>0.0</td>\n",
       "      <td>0.0</td>\n",
       "      <td>1.0</td>\n",
       "      <td>0.0</td>\n",
       "      <td>1.0</td>\n",
       "      <td>0.0</td>\n",
       "      <td>0.0</td>\n",
       "      <td>0.0</td>\n",
       "      <td>1.0</td>\n",
       "      <td>0</td>\n",
       "    </tr>\n",
       "    <tr>\n",
       "      <th>1</th>\n",
       "      <td>-0.042302</td>\n",
       "      <td>0.576554</td>\n",
       "      <td>-0.920942</td>\n",
       "      <td>-1.754572</td>\n",
       "      <td>-1.754572</td>\n",
       "      <td>-1.549502</td>\n",
       "      <td>-1.036744</td>\n",
       "      <td>-1.754572</td>\n",
       "      <td>-0.865742</td>\n",
       "      <td>-3.4601</td>\n",
       "      <td>...</td>\n",
       "      <td>0.0</td>\n",
       "      <td>0.0</td>\n",
       "      <td>1.0</td>\n",
       "      <td>0.0</td>\n",
       "      <td>1.0</td>\n",
       "      <td>0.0</td>\n",
       "      <td>0.0</td>\n",
       "      <td>0.0</td>\n",
       "      <td>1.0</td>\n",
       "      <td>0</td>\n",
       "    </tr>\n",
       "    <tr>\n",
       "      <th>2</th>\n",
       "      <td>-0.042464</td>\n",
       "      <td>0.576554</td>\n",
       "      <td>-0.920886</td>\n",
       "      <td>-1.754572</td>\n",
       "      <td>-1.754572</td>\n",
       "      <td>-1.549371</td>\n",
       "      <td>-1.036744</td>\n",
       "      <td>-1.754572</td>\n",
       "      <td>-0.865742</td>\n",
       "      <td>-3.4601</td>\n",
       "      <td>...</td>\n",
       "      <td>0.0</td>\n",
       "      <td>0.0</td>\n",
       "      <td>1.0</td>\n",
       "      <td>0.0</td>\n",
       "      <td>1.0</td>\n",
       "      <td>0.0</td>\n",
       "      <td>0.0</td>\n",
       "      <td>0.0</td>\n",
       "      <td>1.0</td>\n",
       "      <td>0</td>\n",
       "    </tr>\n",
       "    <tr>\n",
       "      <th>3</th>\n",
       "      <td>-0.042247</td>\n",
       "      <td>0.576554</td>\n",
       "      <td>-0.920829</td>\n",
       "      <td>-1.754572</td>\n",
       "      <td>-1.754572</td>\n",
       "      <td>-1.549240</td>\n",
       "      <td>-1.036744</td>\n",
       "      <td>-1.754572</td>\n",
       "      <td>-0.865742</td>\n",
       "      <td>-3.4601</td>\n",
       "      <td>...</td>\n",
       "      <td>0.0</td>\n",
       "      <td>0.0</td>\n",
       "      <td>1.0</td>\n",
       "      <td>0.0</td>\n",
       "      <td>1.0</td>\n",
       "      <td>0.0</td>\n",
       "      <td>0.0</td>\n",
       "      <td>0.0</td>\n",
       "      <td>1.0</td>\n",
       "      <td>0</td>\n",
       "    </tr>\n",
       "    <tr>\n",
       "      <th>4</th>\n",
       "      <td>-0.042403</td>\n",
       "      <td>0.576554</td>\n",
       "      <td>-0.920773</td>\n",
       "      <td>-1.754572</td>\n",
       "      <td>-1.754572</td>\n",
       "      <td>-1.549109</td>\n",
       "      <td>-1.036744</td>\n",
       "      <td>-1.754572</td>\n",
       "      <td>-0.865742</td>\n",
       "      <td>-3.4601</td>\n",
       "      <td>...</td>\n",
       "      <td>0.0</td>\n",
       "      <td>0.0</td>\n",
       "      <td>1.0</td>\n",
       "      <td>0.0</td>\n",
       "      <td>1.0</td>\n",
       "      <td>0.0</td>\n",
       "      <td>0.0</td>\n",
       "      <td>0.0</td>\n",
       "      <td>1.0</td>\n",
       "      <td>0</td>\n",
       "    </tr>\n",
       "  </tbody>\n",
       "</table>\n",
       "<p>5 rows × 67 columns</p>\n",
       "</div>"
      ],
      "text/plain": [
       "          0         1         2         3         4         5         6  \\\n",
       "0 -0.064589  0.576554 -0.920998 -1.754572 -1.754572 -1.549633 -1.036744   \n",
       "1 -0.042302  0.576554 -0.920942 -1.754572 -1.754572 -1.549502 -1.036744   \n",
       "2 -0.042464  0.576554 -0.920886 -1.754572 -1.754572 -1.549371 -1.036744   \n",
       "3 -0.042247  0.576554 -0.920829 -1.754572 -1.754572 -1.549240 -1.036744   \n",
       "4 -0.042403  0.576554 -0.920773 -1.754572 -1.754572 -1.549109 -1.036744   \n",
       "\n",
       "          7         8       9  ...   57   58   59   60   61   62   63   64  \\\n",
       "0 -1.754572 -0.865742 -3.4601  ...  0.0  0.0  1.0  0.0  1.0  0.0  0.0  0.0   \n",
       "1 -1.754572 -0.865742 -3.4601  ...  0.0  0.0  1.0  0.0  1.0  0.0  0.0  0.0   \n",
       "2 -1.754572 -0.865742 -3.4601  ...  0.0  0.0  1.0  0.0  1.0  0.0  0.0  0.0   \n",
       "3 -1.754572 -0.865742 -3.4601  ...  0.0  0.0  1.0  0.0  1.0  0.0  0.0  0.0   \n",
       "4 -1.754572 -0.865742 -3.4601  ...  0.0  0.0  1.0  0.0  1.0  0.0  0.0  0.0   \n",
       "\n",
       "    65  class  \n",
       "0  1.0      0  \n",
       "1  1.0      0  \n",
       "2  1.0      0  \n",
       "3  1.0      0  \n",
       "4  1.0      0  \n",
       "\n",
       "[5 rows x 67 columns]"
      ]
     },
     "execution_count": 180,
     "metadata": {},
     "output_type": "execute_result"
    }
   ],
   "source": [
    "df_from_csv.head()"
   ]
  },
  {
   "cell_type": "code",
   "execution_count": 181,
   "metadata": {},
   "outputs": [
    {
     "data": {
      "text/html": [
       "<div>\n",
       "<style scoped>\n",
       "    .dataframe tbody tr th:only-of-type {\n",
       "        vertical-align: middle;\n",
       "    }\n",
       "\n",
       "    .dataframe tbody tr th {\n",
       "        vertical-align: top;\n",
       "    }\n",
       "\n",
       "    .dataframe thead th {\n",
       "        text-align: right;\n",
       "    }\n",
       "</style>\n",
       "<table border=\"1\" class=\"dataframe\">\n",
       "  <thead>\n",
       "    <tr style=\"text-align: right;\">\n",
       "      <th></th>\n",
       "      <th>0</th>\n",
       "      <th>1</th>\n",
       "      <th>2</th>\n",
       "      <th>3</th>\n",
       "      <th>4</th>\n",
       "      <th>5</th>\n",
       "      <th>6</th>\n",
       "      <th>7</th>\n",
       "      <th>8</th>\n",
       "      <th>9</th>\n",
       "      <th>...</th>\n",
       "      <th>56</th>\n",
       "      <th>57</th>\n",
       "      <th>58</th>\n",
       "      <th>59</th>\n",
       "      <th>60</th>\n",
       "      <th>61</th>\n",
       "      <th>62</th>\n",
       "      <th>63</th>\n",
       "      <th>64</th>\n",
       "      <th>65</th>\n",
       "    </tr>\n",
       "  </thead>\n",
       "  <tbody>\n",
       "    <tr>\n",
       "      <th>count</th>\n",
       "      <td>1.849294e+06</td>\n",
       "      <td>1.849294e+06</td>\n",
       "      <td>1.849294e+06</td>\n",
       "      <td>1.849294e+06</td>\n",
       "      <td>1.849294e+06</td>\n",
       "      <td>1.849294e+06</td>\n",
       "      <td>1.849294e+06</td>\n",
       "      <td>1.849294e+06</td>\n",
       "      <td>1.849294e+06</td>\n",
       "      <td>1.849294e+06</td>\n",
       "      <td>...</td>\n",
       "      <td>1.849294e+06</td>\n",
       "      <td>1.849294e+06</td>\n",
       "      <td>1.849294e+06</td>\n",
       "      <td>1.849294e+06</td>\n",
       "      <td>1.849294e+06</td>\n",
       "      <td>1.849294e+06</td>\n",
       "      <td>1.849294e+06</td>\n",
       "      <td>1.849294e+06</td>\n",
       "      <td>1.849294e+06</td>\n",
       "      <td>1.849294e+06</td>\n",
       "    </tr>\n",
       "    <tr>\n",
       "      <th>mean</th>\n",
       "      <td>-8.606613e-18</td>\n",
       "      <td>4.775895e-11</td>\n",
       "      <td>-4.308224e-16</td>\n",
       "      <td>5.502085e-17</td>\n",
       "      <td>5.502085e-17</td>\n",
       "      <td>6.590206e-17</td>\n",
       "      <td>7.807427e-17</td>\n",
       "      <td>5.502085e-17</td>\n",
       "      <td>2.299195e-17</td>\n",
       "      <td>-1.906979e-16</td>\n",
       "      <td>...</td>\n",
       "      <td>2.670424e-02</td>\n",
       "      <td>4.090777e-01</td>\n",
       "      <td>5.642180e-01</td>\n",
       "      <td>2.130381e-01</td>\n",
       "      <td>7.869619e-01</td>\n",
       "      <td>2.130381e-01</td>\n",
       "      <td>7.833481e-01</td>\n",
       "      <td>3.613812e-03</td>\n",
       "      <td>9.732958e-01</td>\n",
       "      <td>2.670424e-02</td>\n",
       "    </tr>\n",
       "    <tr>\n",
       "      <th>std</th>\n",
       "      <td>1.000000e+00</td>\n",
       "      <td>1.000000e+00</td>\n",
       "      <td>1.000000e+00</td>\n",
       "      <td>1.000000e+00</td>\n",
       "      <td>1.000000e+00</td>\n",
       "      <td>1.000000e+00</td>\n",
       "      <td>1.000000e+00</td>\n",
       "      <td>1.000000e+00</td>\n",
       "      <td>1.000000e+00</td>\n",
       "      <td>1.000000e+00</td>\n",
       "      <td>...</td>\n",
       "      <td>1.612177e-01</td>\n",
       "      <td>4.916638e-01</td>\n",
       "      <td>4.958590e-01</td>\n",
       "      <td>4.094544e-01</td>\n",
       "      <td>4.094544e-01</td>\n",
       "      <td>4.094544e-01</td>\n",
       "      <td>4.119635e-01</td>\n",
       "      <td>6.000628e-02</td>\n",
       "      <td>1.612177e-01</td>\n",
       "      <td>1.612177e-01</td>\n",
       "    </tr>\n",
       "    <tr>\n",
       "      <th>min</th>\n",
       "      <td>-8.559493e-02</td>\n",
       "      <td>-3.288294e+00</td>\n",
       "      <td>-9.209984e-01</td>\n",
       "      <td>-1.754572e+00</td>\n",
       "      <td>-1.754572e+00</td>\n",
       "      <td>-1.549633e+00</td>\n",
       "      <td>-1.746678e+00</td>\n",
       "      <td>-1.754572e+00</td>\n",
       "      <td>-1.378875e+00</td>\n",
       "      <td>-3.460100e+00</td>\n",
       "      <td>...</td>\n",
       "      <td>0.000000e+00</td>\n",
       "      <td>0.000000e+00</td>\n",
       "      <td>0.000000e+00</td>\n",
       "      <td>0.000000e+00</td>\n",
       "      <td>0.000000e+00</td>\n",
       "      <td>0.000000e+00</td>\n",
       "      <td>0.000000e+00</td>\n",
       "      <td>0.000000e+00</td>\n",
       "      <td>0.000000e+00</td>\n",
       "      <td>0.000000e+00</td>\n",
       "    </tr>\n",
       "    <tr>\n",
       "      <th>25%</th>\n",
       "      <td>-5.850193e-02</td>\n",
       "      <td>3.426404e-02</td>\n",
       "      <td>-6.570099e-01</td>\n",
       "      <td>-7.699592e-01</td>\n",
       "      <td>-7.699592e-01</td>\n",
       "      <td>-8.354272e-01</td>\n",
       "      <td>-8.520042e-01</td>\n",
       "      <td>-7.699592e-01</td>\n",
       "      <td>-8.387347e-01</td>\n",
       "      <td>-6.123361e-01</td>\n",
       "      <td>...</td>\n",
       "      <td>0.000000e+00</td>\n",
       "      <td>0.000000e+00</td>\n",
       "      <td>0.000000e+00</td>\n",
       "      <td>0.000000e+00</td>\n",
       "      <td>1.000000e+00</td>\n",
       "      <td>0.000000e+00</td>\n",
       "      <td>1.000000e+00</td>\n",
       "      <td>0.000000e+00</td>\n",
       "      <td>1.000000e+00</td>\n",
       "      <td>0.000000e+00</td>\n",
       "    </tr>\n",
       "    <tr>\n",
       "      <th>50%</th>\n",
       "      <td>-5.096442e-02</td>\n",
       "      <td>5.602565e-01</td>\n",
       "      <td>-3.661678e-01</td>\n",
       "      <td>-7.699592e-01</td>\n",
       "      <td>-7.699592e-01</td>\n",
       "      <td>-9.045919e-02</td>\n",
       "      <td>-3.399049e-02</td>\n",
       "      <td>-7.699592e-01</td>\n",
       "      <td>-1.500565e-01</td>\n",
       "      <td>-6.123361e-01</td>\n",
       "      <td>...</td>\n",
       "      <td>0.000000e+00</td>\n",
       "      <td>0.000000e+00</td>\n",
       "      <td>1.000000e+00</td>\n",
       "      <td>0.000000e+00</td>\n",
       "      <td>1.000000e+00</td>\n",
       "      <td>0.000000e+00</td>\n",
       "      <td>1.000000e+00</td>\n",
       "      <td>0.000000e+00</td>\n",
       "      <td>1.000000e+00</td>\n",
       "      <td>0.000000e+00</td>\n",
       "    </tr>\n",
       "    <tr>\n",
       "      <th>75%</th>\n",
       "      <td>-4.203735e-02</td>\n",
       "      <td>6.134829e-01</td>\n",
       "      <td>2.137810e-01</td>\n",
       "      <td>9.531134e-01</td>\n",
       "      <td>9.531134e-01</td>\n",
       "      <td>7.142005e-01</td>\n",
       "      <td>8.853512e-01</td>\n",
       "      <td>9.531134e-01</td>\n",
       "      <td>8.897127e-01</td>\n",
       "      <td>1.070433e+00</td>\n",
       "      <td>...</td>\n",
       "      <td>0.000000e+00</td>\n",
       "      <td>1.000000e+00</td>\n",
       "      <td>1.000000e+00</td>\n",
       "      <td>0.000000e+00</td>\n",
       "      <td>1.000000e+00</td>\n",
       "      <td>0.000000e+00</td>\n",
       "      <td>1.000000e+00</td>\n",
       "      <td>0.000000e+00</td>\n",
       "      <td>1.000000e+00</td>\n",
       "      <td>0.000000e+00</td>\n",
       "    </tr>\n",
       "    <tr>\n",
       "      <th>max</th>\n",
       "      <td>1.724626e+02</td>\n",
       "      <td>6.657398e-01</td>\n",
       "      <td>4.210113e+00</td>\n",
       "      <td>1.363369e+00</td>\n",
       "      <td>1.363369e+00</td>\n",
       "      <td>3.514343e+00</td>\n",
       "      <td>1.736964e+00</td>\n",
       "      <td>1.363369e+00</td>\n",
       "      <td>2.064517e+00</td>\n",
       "      <td>1.070433e+00</td>\n",
       "      <td>...</td>\n",
       "      <td>1.000000e+00</td>\n",
       "      <td>1.000000e+00</td>\n",
       "      <td>1.000000e+00</td>\n",
       "      <td>1.000000e+00</td>\n",
       "      <td>1.000000e+00</td>\n",
       "      <td>1.000000e+00</td>\n",
       "      <td>1.000000e+00</td>\n",
       "      <td>1.000000e+00</td>\n",
       "      <td>1.000000e+00</td>\n",
       "      <td>1.000000e+00</td>\n",
       "    </tr>\n",
       "  </tbody>\n",
       "</table>\n",
       "<p>8 rows × 66 columns</p>\n",
       "</div>"
      ],
      "text/plain": [
       "                  0             1             2             3             4  \\\n",
       "count  1.849294e+06  1.849294e+06  1.849294e+06  1.849294e+06  1.849294e+06   \n",
       "mean  -8.606613e-18  4.775895e-11 -4.308224e-16  5.502085e-17  5.502085e-17   \n",
       "std    1.000000e+00  1.000000e+00  1.000000e+00  1.000000e+00  1.000000e+00   \n",
       "min   -8.559493e-02 -3.288294e+00 -9.209984e-01 -1.754572e+00 -1.754572e+00   \n",
       "25%   -5.850193e-02  3.426404e-02 -6.570099e-01 -7.699592e-01 -7.699592e-01   \n",
       "50%   -5.096442e-02  5.602565e-01 -3.661678e-01 -7.699592e-01 -7.699592e-01   \n",
       "75%   -4.203735e-02  6.134829e-01  2.137810e-01  9.531134e-01  9.531134e-01   \n",
       "max    1.724626e+02  6.657398e-01  4.210113e+00  1.363369e+00  1.363369e+00   \n",
       "\n",
       "                  5             6             7             8             9  \\\n",
       "count  1.849294e+06  1.849294e+06  1.849294e+06  1.849294e+06  1.849294e+06   \n",
       "mean   6.590206e-17  7.807427e-17  5.502085e-17  2.299195e-17 -1.906979e-16   \n",
       "std    1.000000e+00  1.000000e+00  1.000000e+00  1.000000e+00  1.000000e+00   \n",
       "min   -1.549633e+00 -1.746678e+00 -1.754572e+00 -1.378875e+00 -3.460100e+00   \n",
       "25%   -8.354272e-01 -8.520042e-01 -7.699592e-01 -8.387347e-01 -6.123361e-01   \n",
       "50%   -9.045919e-02 -3.399049e-02 -7.699592e-01 -1.500565e-01 -6.123361e-01   \n",
       "75%    7.142005e-01  8.853512e-01  9.531134e-01  8.897127e-01  1.070433e+00   \n",
       "max    3.514343e+00  1.736964e+00  1.363369e+00  2.064517e+00  1.070433e+00   \n",
       "\n",
       "       ...            56            57            58            59  \\\n",
       "count  ...  1.849294e+06  1.849294e+06  1.849294e+06  1.849294e+06   \n",
       "mean   ...  2.670424e-02  4.090777e-01  5.642180e-01  2.130381e-01   \n",
       "std    ...  1.612177e-01  4.916638e-01  4.958590e-01  4.094544e-01   \n",
       "min    ...  0.000000e+00  0.000000e+00  0.000000e+00  0.000000e+00   \n",
       "25%    ...  0.000000e+00  0.000000e+00  0.000000e+00  0.000000e+00   \n",
       "50%    ...  0.000000e+00  0.000000e+00  1.000000e+00  0.000000e+00   \n",
       "75%    ...  0.000000e+00  1.000000e+00  1.000000e+00  0.000000e+00   \n",
       "max    ...  1.000000e+00  1.000000e+00  1.000000e+00  1.000000e+00   \n",
       "\n",
       "                 60            61            62            63            64  \\\n",
       "count  1.849294e+06  1.849294e+06  1.849294e+06  1.849294e+06  1.849294e+06   \n",
       "mean   7.869619e-01  2.130381e-01  7.833481e-01  3.613812e-03  9.732958e-01   \n",
       "std    4.094544e-01  4.094544e-01  4.119635e-01  6.000628e-02  1.612177e-01   \n",
       "min    0.000000e+00  0.000000e+00  0.000000e+00  0.000000e+00  0.000000e+00   \n",
       "25%    1.000000e+00  0.000000e+00  1.000000e+00  0.000000e+00  1.000000e+00   \n",
       "50%    1.000000e+00  0.000000e+00  1.000000e+00  0.000000e+00  1.000000e+00   \n",
       "75%    1.000000e+00  0.000000e+00  1.000000e+00  0.000000e+00  1.000000e+00   \n",
       "max    1.000000e+00  1.000000e+00  1.000000e+00  1.000000e+00  1.000000e+00   \n",
       "\n",
       "                 65  \n",
       "count  1.849294e+06  \n",
       "mean   2.670424e-02  \n",
       "std    1.612177e-01  \n",
       "min    0.000000e+00  \n",
       "25%    0.000000e+00  \n",
       "50%    0.000000e+00  \n",
       "75%    0.000000e+00  \n",
       "max    1.000000e+00  \n",
       "\n",
       "[8 rows x 66 columns]"
      ]
     },
     "execution_count": 181,
     "metadata": {},
     "output_type": "execute_result"
    }
   ],
   "source": [
    "X_ = df_from_csv.iloc[:, 0:df_from_csv.shape[1]-1] \n",
    "X_.describe()"
   ]
  },
  {
   "cell_type": "code",
   "execution_count": 182,
   "metadata": {},
   "outputs": [],
   "source": [
    "y_ = df_from_csv.iloc[:, df_from_csv.shape[1]-1]"
   ]
  },
  {
   "cell_type": "code",
   "execution_count": 183,
   "metadata": {},
   "outputs": [
    {
     "data": {
      "text/plain": [
       "count    1.849294e+06\n",
       "mean     2.737223e-01\n",
       "std      4.458683e-01\n",
       "min      0.000000e+00\n",
       "25%      0.000000e+00\n",
       "50%      0.000000e+00\n",
       "75%      1.000000e+00\n",
       "max      1.000000e+00\n",
       "Name: class, dtype: float64"
      ]
     },
     "execution_count": 183,
     "metadata": {},
     "output_type": "execute_result"
    }
   ],
   "source": [
    "y_.describe()"
   ]
  },
  {
   "cell_type": "code",
   "execution_count": 184,
   "metadata": {},
   "outputs": [],
   "source": [
    "del df\n",
    "del df_from_csv\n",
    "del X_\n",
    "del y_\n",
    "del df_allsamples_norm\n",
    "del X\n",
    "del y\n",
    "del X_norm\n",
    "del df_full"
   ]
  },
  {
   "cell_type": "code",
   "execution_count": null,
   "metadata": {},
   "outputs": [],
   "source": []
  },
  {
   "cell_type": "code",
   "execution_count": null,
   "metadata": {},
   "outputs": [],
   "source": []
  },
  {
   "cell_type": "code",
   "execution_count": null,
   "metadata": {},
   "outputs": [],
   "source": []
  }
 ],
 "metadata": {
  "kernelspec": {
   "display_name": "Python 3",
   "language": "python",
   "name": "python3"
  },
  "language_info": {
   "codemirror_mode": {
    "name": "ipython",
    "version": 3
   },
   "file_extension": ".py",
   "mimetype": "text/x-python",
   "name": "python",
   "nbconvert_exporter": "python",
   "pygments_lexer": "ipython3",
   "version": "3.6.8"
  }
 },
 "nbformat": 4,
 "nbformat_minor": 2
}
