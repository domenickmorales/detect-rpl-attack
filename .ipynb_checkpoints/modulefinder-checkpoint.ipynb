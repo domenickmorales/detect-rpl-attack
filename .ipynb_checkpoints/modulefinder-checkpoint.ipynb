{
 "cells": [
  {
   "cell_type": "code",
   "execution_count": null,
   "metadata": {},
   "outputs": [],
   "source": [
    "from modulefinder import ModuleFinder\n",
    "\n",
    "pathds = '/home/user/01Code/03Project/Code/'\n",
    "\n",
    "finder = ModuleFinder()\n",
    "finder.run_script(pathds+'/GenerateTrainTest.py')\n",
    "\n",
    "print('Loaded modules:')\n",
    "for name, mod in finder.modules.items():\n",
    "    print('%s: ' % name, end='')\n",
    "    print(','.join(list(mod.globalnames.keys())[:3]))\n",
    "\n",
    "print('-'*50)\n",
    "print('Modules not imported:')\n",
    "print('\\n'.join(finder.badmodules.keys()))"
   ]
  },
  {
   "cell_type": "code",
   "execution_count": null,
   "metadata": {},
   "outputs": [],
   "source": []
  },
  {
   "cell_type": "code",
   "execution_count": null,
   "metadata": {},
   "outputs": [],
   "source": []
  }
 ],
 "metadata": {
  "kernelspec": {
   "display_name": "Python 3",
   "language": "python",
   "name": "python3"
  },
  "language_info": {
   "codemirror_mode": {
    "name": "ipython",
    "version": 3
   },
   "file_extension": ".py",
   "mimetype": "text/x-python",
   "name": "python",
   "nbconvert_exporter": "python",
   "pygments_lexer": "ipython3",
   "version": "3.6.8"
  }
 },
 "nbformat": 4,
 "nbformat_minor": 2
}
