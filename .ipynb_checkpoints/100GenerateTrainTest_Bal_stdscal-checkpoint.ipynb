{
 "cells": [
  {
   "cell_type": "markdown",
   "metadata": {},
   "source": [
    "# Dataset tidying, class balance, encoding, normalization -> regular train and test subsets"
   ]
  },
  {
   "cell_type": "markdown",
   "metadata": {},
   "source": [
    "<font color='blue'>Creation of balanced dataset</font>"
   ]
  },
  {
   "cell_type": "markdown",
   "metadata": {},
   "source": [
    "#### 1.1 Module loading"
   ]
  },
  {
   "cell_type": "code",
   "execution_count": 1,
   "metadata": {},
   "outputs": [],
   "source": [
    "import pandas as pd\n",
    "import numpy as np\n",
    "import seaborn as sns\n",
    "import matplotlib.pyplot as plt\n",
    "import imblearn\n",
    "from sklearn.preprocessing import LabelEncoder, StandardScaler, FunctionTransformer, OneHotEncoder\n",
    "from sklearn.compose import ColumnTransformer, make_column_transformer"
   ]
  },
  {
   "cell_type": "markdown",
   "metadata": {},
   "source": [
    "#### 1.2 Dataset loading"
   ]
  },
  {
   "cell_type": "code",
   "execution_count": 2,
   "metadata": {},
   "outputs": [],
   "source": [
    "#pathds = '/home/user/01Code/00Datasets_final/helpers/'\n",
    "pathds = '/home/user/01Code/00Datasets_final/'"
   ]
  },
  {
   "cell_type": "code",
   "execution_count": 3,
   "metadata": {},
   "outputs": [],
   "source": [
    "# #Final\n",
    "columns_csv = \"frame_time_delta,frame_time_epoch,frame_time_relative,frame_cap_len,frame_len,frame_number,ipv6_src,ipv6_dst,ipv6_plen,sixlowpan_pattern,wpan_ack_request,wpan_dst_addr_mode,wpan_fcf,wpan_fcs,wpan_frame_length,wpan_pending,wpan_seq_no,icmpv6_checksum,icmpv6_code,class\".split(\",\")"
   ]
  },
  {
   "cell_type": "code",
   "execution_count": 4,
   "metadata": {},
   "outputs": [
    {
     "data": {
      "text/plain": [
       "20"
      ]
     },
     "execution_count": 4,
     "metadata": {},
     "output_type": "execute_result"
    }
   ],
   "source": [
    "len(columns_csv)"
   ]
  },
  {
   "cell_type": "code",
   "execution_count": 32,
   "metadata": {},
   "outputs": [],
   "source": [
    "df_chunk = pd.read_csv(pathds+\"sybil_100n_with-malicious_labelled.csv\", low_memory=False, sep=',', names=columns_csv, skiprows=1, chunksize=1000)\n",
    "df = df_chunk.get_chunk(400000)\n",
    "#reduced\n",
    "# df = df_chunk.get_chunk(80000)\n",
    "# dff = pd.read_csv(pathds+\"sybil_100n_with-malicious_labelled.csv\", low_memory=False, sep=',', names=columns_csv, skiprows=1)\n"
   ]
  },
  {
   "cell_type": "code",
   "execution_count": 33,
   "metadata": {},
   "outputs": [
    {
     "name": "stdout",
     "output_type": "stream",
     "text": [
      "(400000, 20)\n"
     ]
    }
   ],
   "source": [
    "print(df.shape)\n",
    "# print(dff.shape)"
   ]
  },
  {
   "cell_type": "code",
   "execution_count": 34,
   "metadata": {},
   "outputs": [
    {
     "data": {
      "text/html": [
       "<div>\n",
       "<style scoped>\n",
       "    .dataframe tbody tr th:only-of-type {\n",
       "        vertical-align: middle;\n",
       "    }\n",
       "\n",
       "    .dataframe tbody tr th {\n",
       "        vertical-align: top;\n",
       "    }\n",
       "\n",
       "    .dataframe thead th {\n",
       "        text-align: right;\n",
       "    }\n",
       "</style>\n",
       "<table border=\"1\" class=\"dataframe\">\n",
       "  <thead>\n",
       "    <tr style=\"text-align: right;\">\n",
       "      <th></th>\n",
       "      <th>frame_time_delta</th>\n",
       "      <th>frame_time_epoch</th>\n",
       "      <th>frame_time_relative</th>\n",
       "      <th>frame_cap_len</th>\n",
       "      <th>frame_len</th>\n",
       "      <th>frame_number</th>\n",
       "      <th>ipv6_src</th>\n",
       "      <th>ipv6_dst</th>\n",
       "      <th>ipv6_plen</th>\n",
       "      <th>sixlowpan_pattern</th>\n",
       "      <th>wpan_ack_request</th>\n",
       "      <th>wpan_dst_addr_mode</th>\n",
       "      <th>wpan_fcf</th>\n",
       "      <th>wpan_fcs</th>\n",
       "      <th>wpan_frame_length</th>\n",
       "      <th>wpan_pending</th>\n",
       "      <th>wpan_seq_no</th>\n",
       "      <th>icmpv6_checksum</th>\n",
       "      <th>icmpv6_code</th>\n",
       "      <th>class</th>\n",
       "    </tr>\n",
       "  </thead>\n",
       "  <tbody>\n",
       "    <tr>\n",
       "      <th>0</th>\n",
       "      <td>0.000000</td>\n",
       "      <td>1.553720e+09</td>\n",
       "      <td>0.000000</td>\n",
       "      <td>64</td>\n",
       "      <td>64</td>\n",
       "      <td>1</td>\n",
       "      <td>fe80::c30c:0:0:27</td>\n",
       "      <td>ff02::1a</td>\n",
       "      <td>6</td>\n",
       "      <td>0x00000041</td>\n",
       "      <td>0</td>\n",
       "      <td>0x00000002</td>\n",
       "      <td>0x0000d841</td>\n",
       "      <td>0x000010ce</td>\n",
       "      <td>64</td>\n",
       "      <td>0</td>\n",
       "      <td>64</td>\n",
       "      <td>0x0000a3ed</td>\n",
       "      <td>0</td>\n",
       "      <td>0</td>\n",
       "    </tr>\n",
       "    <tr>\n",
       "      <th>1</th>\n",
       "      <td>0.003288</td>\n",
       "      <td>1.553720e+09</td>\n",
       "      <td>0.003288</td>\n",
       "      <td>64</td>\n",
       "      <td>64</td>\n",
       "      <td>2</td>\n",
       "      <td>fe80::c30c:0:0:27</td>\n",
       "      <td>ff02::1a</td>\n",
       "      <td>6</td>\n",
       "      <td>0x00000041</td>\n",
       "      <td>0</td>\n",
       "      <td>0x00000002</td>\n",
       "      <td>0x0000d841</td>\n",
       "      <td>0x000010ce</td>\n",
       "      <td>64</td>\n",
       "      <td>0</td>\n",
       "      <td>64</td>\n",
       "      <td>0x0000a3ed</td>\n",
       "      <td>0</td>\n",
       "      <td>0</td>\n",
       "    </tr>\n",
       "    <tr>\n",
       "      <th>2</th>\n",
       "      <td>0.003264</td>\n",
       "      <td>1.553720e+09</td>\n",
       "      <td>0.006552</td>\n",
       "      <td>64</td>\n",
       "      <td>64</td>\n",
       "      <td>3</td>\n",
       "      <td>fe80::c30c:0:0:27</td>\n",
       "      <td>ff02::1a</td>\n",
       "      <td>6</td>\n",
       "      <td>0x00000041</td>\n",
       "      <td>0</td>\n",
       "      <td>0x00000002</td>\n",
       "      <td>0x0000d841</td>\n",
       "      <td>0x000010ce</td>\n",
       "      <td>64</td>\n",
       "      <td>0</td>\n",
       "      <td>64</td>\n",
       "      <td>0x0000a3ed</td>\n",
       "      <td>0</td>\n",
       "      <td>0</td>\n",
       "    </tr>\n",
       "    <tr>\n",
       "      <th>3</th>\n",
       "      <td>0.003296</td>\n",
       "      <td>1.553720e+09</td>\n",
       "      <td>0.009848</td>\n",
       "      <td>64</td>\n",
       "      <td>64</td>\n",
       "      <td>4</td>\n",
       "      <td>fe80::c30c:0:0:27</td>\n",
       "      <td>ff02::1a</td>\n",
       "      <td>6</td>\n",
       "      <td>0x00000041</td>\n",
       "      <td>0</td>\n",
       "      <td>0x00000002</td>\n",
       "      <td>0x0000d841</td>\n",
       "      <td>0x000010ce</td>\n",
       "      <td>64</td>\n",
       "      <td>0</td>\n",
       "      <td>64</td>\n",
       "      <td>0x0000a3ed</td>\n",
       "      <td>0</td>\n",
       "      <td>0</td>\n",
       "    </tr>\n",
       "    <tr>\n",
       "      <th>4</th>\n",
       "      <td>0.003273</td>\n",
       "      <td>1.553720e+09</td>\n",
       "      <td>0.013121</td>\n",
       "      <td>64</td>\n",
       "      <td>64</td>\n",
       "      <td>5</td>\n",
       "      <td>fe80::c30c:0:0:27</td>\n",
       "      <td>ff02::1a</td>\n",
       "      <td>6</td>\n",
       "      <td>0x00000041</td>\n",
       "      <td>0</td>\n",
       "      <td>0x00000002</td>\n",
       "      <td>0x0000d841</td>\n",
       "      <td>0x000010ce</td>\n",
       "      <td>64</td>\n",
       "      <td>0</td>\n",
       "      <td>64</td>\n",
       "      <td>0x0000a3ed</td>\n",
       "      <td>0</td>\n",
       "      <td>0</td>\n",
       "    </tr>\n",
       "  </tbody>\n",
       "</table>\n",
       "</div>"
      ],
      "text/plain": [
       "   frame_time_delta  frame_time_epoch  frame_time_relative  frame_cap_len  \\\n",
       "0          0.000000      1.553720e+09             0.000000             64   \n",
       "1          0.003288      1.553720e+09             0.003288             64   \n",
       "2          0.003264      1.553720e+09             0.006552             64   \n",
       "3          0.003296      1.553720e+09             0.009848             64   \n",
       "4          0.003273      1.553720e+09             0.013121             64   \n",
       "\n",
       "   frame_len  frame_number           ipv6_src  ipv6_dst  ipv6_plen  \\\n",
       "0         64             1  fe80::c30c:0:0:27  ff02::1a          6   \n",
       "1         64             2  fe80::c30c:0:0:27  ff02::1a          6   \n",
       "2         64             3  fe80::c30c:0:0:27  ff02::1a          6   \n",
       "3         64             4  fe80::c30c:0:0:27  ff02::1a          6   \n",
       "4         64             5  fe80::c30c:0:0:27  ff02::1a          6   \n",
       "\n",
       "  sixlowpan_pattern  wpan_ack_request wpan_dst_addr_mode    wpan_fcf  \\\n",
       "0        0x00000041                 0         0x00000002  0x0000d841   \n",
       "1        0x00000041                 0         0x00000002  0x0000d841   \n",
       "2        0x00000041                 0         0x00000002  0x0000d841   \n",
       "3        0x00000041                 0         0x00000002  0x0000d841   \n",
       "4        0x00000041                 0         0x00000002  0x0000d841   \n",
       "\n",
       "     wpan_fcs  wpan_frame_length  wpan_pending  wpan_seq_no icmpv6_checksum  \\\n",
       "0  0x000010ce                 64             0           64      0x0000a3ed   \n",
       "1  0x000010ce                 64             0           64      0x0000a3ed   \n",
       "2  0x000010ce                 64             0           64      0x0000a3ed   \n",
       "3  0x000010ce                 64             0           64      0x0000a3ed   \n",
       "4  0x000010ce                 64             0           64      0x0000a3ed   \n",
       "\n",
       "   icmpv6_code  class  \n",
       "0            0      0  \n",
       "1            0      0  \n",
       "2            0      0  \n",
       "3            0      0  \n",
       "4            0      0  "
      ]
     },
     "execution_count": 34,
     "metadata": {},
     "output_type": "execute_result"
    }
   ],
   "source": [
    "df.head()"
   ]
  },
  {
   "cell_type": "markdown",
   "metadata": {},
   "source": [
    "> I fixed the *names = columns_csv* for more fexibility"
   ]
  },
  {
   "cell_type": "code",
   "execution_count": 35,
   "metadata": {},
   "outputs": [],
   "source": [
    "X = df.iloc[:, 0:19] \n",
    "y = df.iloc[:, 19]"
   ]
  },
  {
   "cell_type": "code",
   "execution_count": 36,
   "metadata": {},
   "outputs": [
    {
     "data": {
      "text/html": [
       "<div>\n",
       "<style scoped>\n",
       "    .dataframe tbody tr th:only-of-type {\n",
       "        vertical-align: middle;\n",
       "    }\n",
       "\n",
       "    .dataframe tbody tr th {\n",
       "        vertical-align: top;\n",
       "    }\n",
       "\n",
       "    .dataframe thead th {\n",
       "        text-align: right;\n",
       "    }\n",
       "</style>\n",
       "<table border=\"1\" class=\"dataframe\">\n",
       "  <thead>\n",
       "    <tr style=\"text-align: right;\">\n",
       "      <th></th>\n",
       "      <th>frame_time_delta</th>\n",
       "      <th>frame_time_epoch</th>\n",
       "      <th>frame_time_relative</th>\n",
       "      <th>frame_cap_len</th>\n",
       "      <th>frame_len</th>\n",
       "      <th>frame_number</th>\n",
       "      <th>ipv6_plen</th>\n",
       "      <th>wpan_ack_request</th>\n",
       "      <th>wpan_frame_length</th>\n",
       "      <th>wpan_pending</th>\n",
       "      <th>wpan_seq_no</th>\n",
       "      <th>icmpv6_code</th>\n",
       "    </tr>\n",
       "  </thead>\n",
       "  <tbody>\n",
       "    <tr>\n",
       "      <th>count</th>\n",
       "      <td>400000.000000</td>\n",
       "      <td>4.000000e+05</td>\n",
       "      <td>400000.000000</td>\n",
       "      <td>400000.000000</td>\n",
       "      <td>400000.000000</td>\n",
       "      <td>400000.000000</td>\n",
       "      <td>400000.000000</td>\n",
       "      <td>400000.000000</td>\n",
       "      <td>400000.000000</td>\n",
       "      <td>400000.000000</td>\n",
       "      <td>400000.000000</td>\n",
       "      <td>400000.000000</td>\n",
       "    </tr>\n",
       "    <tr>\n",
       "      <th>mean</th>\n",
       "      <td>0.001054</td>\n",
       "      <td>1.554118e+09</td>\n",
       "      <td>23.053214</td>\n",
       "      <td>86.351250</td>\n",
       "      <td>86.351250</td>\n",
       "      <td>20932.133197</td>\n",
       "      <td>59.217965</td>\n",
       "      <td>0.775127</td>\n",
       "      <td>86.351250</td>\n",
       "      <td>0.001347</td>\n",
       "      <td>126.186453</td>\n",
       "      <td>1.420168</td>\n",
       "    </tr>\n",
       "    <tr>\n",
       "      <th>std</th>\n",
       "      <td>0.008593</td>\n",
       "      <td>1.680126e+05</td>\n",
       "      <td>11.296625</td>\n",
       "      <td>13.137875</td>\n",
       "      <td>13.137875</td>\n",
       "      <td>13127.710884</td>\n",
       "      <td>18.510294</td>\n",
       "      <td>0.417499</td>\n",
       "      <td>13.137875</td>\n",
       "      <td>0.036684</td>\n",
       "      <td>71.045360</td>\n",
       "      <td>0.604700</td>\n",
       "    </tr>\n",
       "    <tr>\n",
       "      <th>min</th>\n",
       "      <td>-0.003099</td>\n",
       "      <td>1.553720e+09</td>\n",
       "      <td>0.000000</td>\n",
       "      <td>64.000000</td>\n",
       "      <td>64.000000</td>\n",
       "      <td>1.000000</td>\n",
       "      <td>6.000000</td>\n",
       "      <td>0.000000</td>\n",
       "      <td>64.000000</td>\n",
       "      <td>0.000000</td>\n",
       "      <td>0.000000</td>\n",
       "      <td>0.000000</td>\n",
       "    </tr>\n",
       "    <tr>\n",
       "      <th>25%</th>\n",
       "      <td>0.000270</td>\n",
       "      <td>1.554142e+09</td>\n",
       "      <td>14.068004</td>\n",
       "      <td>76.000000</td>\n",
       "      <td>76.000000</td>\n",
       "      <td>10005.000000</td>\n",
       "      <td>50.000000</td>\n",
       "      <td>1.000000</td>\n",
       "      <td>76.000000</td>\n",
       "      <td>0.000000</td>\n",
       "      <td>67.000000</td>\n",
       "      <td>1.000000</td>\n",
       "    </tr>\n",
       "    <tr>\n",
       "      <th>50%</th>\n",
       "      <td>0.000853</td>\n",
       "      <td>1.554186e+09</td>\n",
       "      <td>22.553218</td>\n",
       "      <td>76.000000</td>\n",
       "      <td>76.000000</td>\n",
       "      <td>20006.000000</td>\n",
       "      <td>50.000000</td>\n",
       "      <td>1.000000</td>\n",
       "      <td>76.000000</td>\n",
       "      <td>0.000000</td>\n",
       "      <td>126.000000</td>\n",
       "      <td>1.000000</td>\n",
       "    </tr>\n",
       "    <tr>\n",
       "      <th>75%</th>\n",
       "      <td>0.001496</td>\n",
       "      <td>1.554207e+09</td>\n",
       "      <td>32.272337</td>\n",
       "      <td>102.000000</td>\n",
       "      <td>102.000000</td>\n",
       "      <td>30614.000000</td>\n",
       "      <td>76.000000</td>\n",
       "      <td>1.000000</td>\n",
       "      <td>102.000000</td>\n",
       "      <td>0.000000</td>\n",
       "      <td>189.000000</td>\n",
       "      <td>2.000000</td>\n",
       "    </tr>\n",
       "    <tr>\n",
       "      <th>max</th>\n",
       "      <td>1.654197</td>\n",
       "      <td>1.554214e+09</td>\n",
       "      <td>48.065546</td>\n",
       "      <td>102.000000</td>\n",
       "      <td>102.000000</td>\n",
       "      <td>59472.000000</td>\n",
       "      <td>76.000000</td>\n",
       "      <td>1.000000</td>\n",
       "      <td>102.000000</td>\n",
       "      <td>1.000000</td>\n",
       "      <td>255.000000</td>\n",
       "      <td>2.000000</td>\n",
       "    </tr>\n",
       "  </tbody>\n",
       "</table>\n",
       "</div>"
      ],
      "text/plain": [
       "       frame_time_delta  frame_time_epoch  frame_time_relative  frame_cap_len  \\\n",
       "count     400000.000000      4.000000e+05        400000.000000  400000.000000   \n",
       "mean           0.001054      1.554118e+09            23.053214      86.351250   \n",
       "std            0.008593      1.680126e+05            11.296625      13.137875   \n",
       "min           -0.003099      1.553720e+09             0.000000      64.000000   \n",
       "25%            0.000270      1.554142e+09            14.068004      76.000000   \n",
       "50%            0.000853      1.554186e+09            22.553218      76.000000   \n",
       "75%            0.001496      1.554207e+09            32.272337     102.000000   \n",
       "max            1.654197      1.554214e+09            48.065546     102.000000   \n",
       "\n",
       "           frame_len   frame_number      ipv6_plen  wpan_ack_request  \\\n",
       "count  400000.000000  400000.000000  400000.000000     400000.000000   \n",
       "mean       86.351250   20932.133197      59.217965          0.775127   \n",
       "std        13.137875   13127.710884      18.510294          0.417499   \n",
       "min        64.000000       1.000000       6.000000          0.000000   \n",
       "25%        76.000000   10005.000000      50.000000          1.000000   \n",
       "50%        76.000000   20006.000000      50.000000          1.000000   \n",
       "75%       102.000000   30614.000000      76.000000          1.000000   \n",
       "max       102.000000   59472.000000      76.000000          1.000000   \n",
       "\n",
       "       wpan_frame_length   wpan_pending    wpan_seq_no    icmpv6_code  \n",
       "count      400000.000000  400000.000000  400000.000000  400000.000000  \n",
       "mean           86.351250       0.001347     126.186453       1.420168  \n",
       "std            13.137875       0.036684      71.045360       0.604700  \n",
       "min            64.000000       0.000000       0.000000       0.000000  \n",
       "25%            76.000000       0.000000      67.000000       1.000000  \n",
       "50%            76.000000       0.000000     126.000000       1.000000  \n",
       "75%           102.000000       0.000000     189.000000       2.000000  \n",
       "max           102.000000       1.000000     255.000000       2.000000  "
      ]
     },
     "execution_count": 36,
     "metadata": {},
     "output_type": "execute_result"
    }
   ],
   "source": [
    "X.describe()"
   ]
  },
  {
   "cell_type": "code",
   "execution_count": 37,
   "metadata": {},
   "outputs": [
    {
     "data": {
      "image/png": "[encoded data removed]",
      "text/plain": [
       "<Figure size 360x360 with 1 Axes>"
      ]
     },
     "metadata": {
      "needs_background": "light"
     },
     "output_type": "display_data"
    }
   ],
   "source": [
    "plt.figure(figsize=(5,5))\n",
    "\n",
    "sns.boxplot(x='class', y='frame_time_relative', data=df, palette=\"Set1\")\n",
    "\n",
    "# Changing default seaborn/matplotlib to be more readable\n",
    "plt.xlabel('class', fontsize = 12)\n",
    "plt.ylabel('frame_time_relative', fontsize = 12)\n",
    "plt.xticks(fontsize = 10)\n",
    "plt.yticks(fontsize = 10)\n",
    "\n",
    "plt.savefig('area_delta_class.png')"
   ]
  },
  {
   "cell_type": "code",
   "execution_count": null,
   "metadata": {},
   "outputs": [],
   "source": []
  },
  {
   "cell_type": "markdown",
   "metadata": {},
   "source": [
    "### 2. Dropping of nan values in rows and columns"
   ]
  },
  {
   "cell_type": "markdown",
   "metadata": {},
   "source": [
    "#### 2.1 Finding if there is any column or row with nan values"
   ]
  },
  {
   "cell_type": "code",
   "execution_count": 38,
   "metadata": {},
   "outputs": [
    {
     "name": "stdout",
     "output_type": "stream",
     "text": [
      "No nans df\n"
     ]
    }
   ],
   "source": [
    "nan_df = df.isnull().any().tolist()\n",
    "\n",
    "if True in nan_df: print('**There is nans in df_test!**\\n\\n', df.isnull().any())\n",
    "else: print(\"No nans df\")"
   ]
  },
  {
   "cell_type": "markdown",
   "metadata": {},
   "source": [
    "> As it is True in some columns (features) It was required to remove this samples"
   ]
  },
  {
   "cell_type": "code",
   "execution_count": 39,
   "metadata": {},
   "outputs": [
    {
     "data": {
      "text/plain": [
       "frame_time_delta       0\n",
       "frame_time_epoch       0\n",
       "frame_time_relative    0\n",
       "frame_cap_len          0\n",
       "frame_len              0\n",
       "frame_number           0\n",
       "ipv6_src               0\n",
       "ipv6_dst               0\n",
       "ipv6_plen              0\n",
       "sixlowpan_pattern      0\n",
       "wpan_ack_request       0\n",
       "wpan_dst_addr_mode     0\n",
       "wpan_fcf               0\n",
       "wpan_fcs               0\n",
       "wpan_frame_length      0\n",
       "wpan_pending           0\n",
       "wpan_seq_no            0\n",
       "icmpv6_checksum        0\n",
       "icmpv6_code            0\n",
       "class                  0\n",
       "dtype: int64"
      ]
     },
     "execution_count": 39,
     "metadata": {},
     "output_type": "execute_result"
    }
   ],
   "source": [
    "df.isnull().sum()"
   ]
  },
  {
   "cell_type": "markdown",
   "metadata": {},
   "source": [
    "#### 2.2 Removing any nan value in any row or column"
   ]
  },
  {
   "cell_type": "code",
   "execution_count": 40,
   "metadata": {},
   "outputs": [],
   "source": [
    "df_nonan_row = df.dropna(axis=0, how='all') #dropping rows whose any value is nan "
   ]
  },
  {
   "cell_type": "code",
   "execution_count": 41,
   "metadata": {},
   "outputs": [],
   "source": [
    "df_nonan_rowcol = df_nonan_row.dropna(axis=1, how='any') #dropping columns whose any value is nan "
   ]
  },
  {
   "cell_type": "code",
   "execution_count": 42,
   "metadata": {},
   "outputs": [],
   "source": [
    "df = df_nonan_rowcol # dataset without nan values"
   ]
  },
  {
   "cell_type": "code",
   "execution_count": 43,
   "metadata": {},
   "outputs": [
    {
     "name": "stdout",
     "output_type": "stream",
     "text": [
      "No nans df\n"
     ]
    }
   ],
   "source": [
    "nan_df = df.isnull().any().tolist()\n",
    "\n",
    "if True in nan_df: print('**There is nans in df_test!**\\n\\n', df.isnull().any())\n",
    "else: print(\"No nans df\")"
   ]
  },
  {
   "cell_type": "markdown",
   "metadata": {},
   "source": [
    "> As is expected the dataset is now ready to the next step"
   ]
  },
  {
   "cell_type": "code",
   "execution_count": 44,
   "metadata": {},
   "outputs": [
    {
     "data": {
      "text/plain": [
       "(400000, 20)"
      ]
     },
     "execution_count": 44,
     "metadata": {},
     "output_type": "execute_result"
    }
   ],
   "source": [
    "df.shape"
   ]
  },
  {
   "cell_type": "markdown",
   "metadata": {},
   "source": [
    "### 3. Special care of hex values in string format"
   ]
  },
  {
   "cell_type": "markdown",
   "metadata": {},
   "source": [
    "#### 3.1 Conversion of sring values into int"
   ]
  },
  {
   "cell_type": "code",
   "execution_count": 45,
   "metadata": {},
   "outputs": [],
   "source": [
    "df['wpan_dst_addr_mode'] = df.wpan_dst_addr_mode.apply(int, base=16)\n",
    "df['wpan_fcf'] = df.wpan_fcf.apply(int, base=16)\n",
    "df['wpan_fcs'] = df.wpan_fcs.apply(int, base=16)\n",
    "df['sixlowpan_pattern'] = df.sixlowpan_pattern.apply(int, base=16)\n",
    "df['icmpv6_checksum'] = df.icmpv6_checksum.apply(int, base=16)"
   ]
  },
  {
   "cell_type": "markdown",
   "metadata": {},
   "source": [
    "> Two features exhibited values in unsigned byte type (string hex values), therefore it was necessary to convert them into int values"
   ]
  },
  {
   "cell_type": "code",
   "execution_count": 46,
   "metadata": {},
   "outputs": [
    {
     "data": {
      "text/html": [
       "<div>\n",
       "<style scoped>\n",
       "    .dataframe tbody tr th:only-of-type {\n",
       "        vertical-align: middle;\n",
       "    }\n",
       "\n",
       "    .dataframe tbody tr th {\n",
       "        vertical-align: top;\n",
       "    }\n",
       "\n",
       "    .dataframe thead th {\n",
       "        text-align: right;\n",
       "    }\n",
       "</style>\n",
       "<table border=\"1\" class=\"dataframe\">\n",
       "  <thead>\n",
       "    <tr style=\"text-align: right;\">\n",
       "      <th></th>\n",
       "      <th>frame_time_delta</th>\n",
       "      <th>frame_time_epoch</th>\n",
       "      <th>frame_time_relative</th>\n",
       "      <th>frame_cap_len</th>\n",
       "      <th>frame_len</th>\n",
       "      <th>frame_number</th>\n",
       "      <th>ipv6_src</th>\n",
       "      <th>ipv6_dst</th>\n",
       "      <th>ipv6_plen</th>\n",
       "      <th>sixlowpan_pattern</th>\n",
       "      <th>wpan_ack_request</th>\n",
       "      <th>wpan_dst_addr_mode</th>\n",
       "      <th>wpan_fcf</th>\n",
       "      <th>wpan_fcs</th>\n",
       "      <th>wpan_frame_length</th>\n",
       "      <th>wpan_pending</th>\n",
       "      <th>wpan_seq_no</th>\n",
       "      <th>icmpv6_checksum</th>\n",
       "      <th>icmpv6_code</th>\n",
       "      <th>class</th>\n",
       "    </tr>\n",
       "  </thead>\n",
       "  <tbody>\n",
       "    <tr>\n",
       "      <th>0</th>\n",
       "      <td>0.000000</td>\n",
       "      <td>1.553720e+09</td>\n",
       "      <td>0.000000</td>\n",
       "      <td>64</td>\n",
       "      <td>64</td>\n",
       "      <td>1</td>\n",
       "      <td>fe80::c30c:0:0:27</td>\n",
       "      <td>ff02::1a</td>\n",
       "      <td>6</td>\n",
       "      <td>65</td>\n",
       "      <td>0</td>\n",
       "      <td>2</td>\n",
       "      <td>55361</td>\n",
       "      <td>4302</td>\n",
       "      <td>64</td>\n",
       "      <td>0</td>\n",
       "      <td>64</td>\n",
       "      <td>41965</td>\n",
       "      <td>0</td>\n",
       "      <td>0</td>\n",
       "    </tr>\n",
       "    <tr>\n",
       "      <th>1</th>\n",
       "      <td>0.003288</td>\n",
       "      <td>1.553720e+09</td>\n",
       "      <td>0.003288</td>\n",
       "      <td>64</td>\n",
       "      <td>64</td>\n",
       "      <td>2</td>\n",
       "      <td>fe80::c30c:0:0:27</td>\n",
       "      <td>ff02::1a</td>\n",
       "      <td>6</td>\n",
       "      <td>65</td>\n",
       "      <td>0</td>\n",
       "      <td>2</td>\n",
       "      <td>55361</td>\n",
       "      <td>4302</td>\n",
       "      <td>64</td>\n",
       "      <td>0</td>\n",
       "      <td>64</td>\n",
       "      <td>41965</td>\n",
       "      <td>0</td>\n",
       "      <td>0</td>\n",
       "    </tr>\n",
       "    <tr>\n",
       "      <th>2</th>\n",
       "      <td>0.003264</td>\n",
       "      <td>1.553720e+09</td>\n",
       "      <td>0.006552</td>\n",
       "      <td>64</td>\n",
       "      <td>64</td>\n",
       "      <td>3</td>\n",
       "      <td>fe80::c30c:0:0:27</td>\n",
       "      <td>ff02::1a</td>\n",
       "      <td>6</td>\n",
       "      <td>65</td>\n",
       "      <td>0</td>\n",
       "      <td>2</td>\n",
       "      <td>55361</td>\n",
       "      <td>4302</td>\n",
       "      <td>64</td>\n",
       "      <td>0</td>\n",
       "      <td>64</td>\n",
       "      <td>41965</td>\n",
       "      <td>0</td>\n",
       "      <td>0</td>\n",
       "    </tr>\n",
       "    <tr>\n",
       "      <th>3</th>\n",
       "      <td>0.003296</td>\n",
       "      <td>1.553720e+09</td>\n",
       "      <td>0.009848</td>\n",
       "      <td>64</td>\n",
       "      <td>64</td>\n",
       "      <td>4</td>\n",
       "      <td>fe80::c30c:0:0:27</td>\n",
       "      <td>ff02::1a</td>\n",
       "      <td>6</td>\n",
       "      <td>65</td>\n",
       "      <td>0</td>\n",
       "      <td>2</td>\n",
       "      <td>55361</td>\n",
       "      <td>4302</td>\n",
       "      <td>64</td>\n",
       "      <td>0</td>\n",
       "      <td>64</td>\n",
       "      <td>41965</td>\n",
       "      <td>0</td>\n",
       "      <td>0</td>\n",
       "    </tr>\n",
       "    <tr>\n",
       "      <th>4</th>\n",
       "      <td>0.003273</td>\n",
       "      <td>1.553720e+09</td>\n",
       "      <td>0.013121</td>\n",
       "      <td>64</td>\n",
       "      <td>64</td>\n",
       "      <td>5</td>\n",
       "      <td>fe80::c30c:0:0:27</td>\n",
       "      <td>ff02::1a</td>\n",
       "      <td>6</td>\n",
       "      <td>65</td>\n",
       "      <td>0</td>\n",
       "      <td>2</td>\n",
       "      <td>55361</td>\n",
       "      <td>4302</td>\n",
       "      <td>64</td>\n",
       "      <td>0</td>\n",
       "      <td>64</td>\n",
       "      <td>41965</td>\n",
       "      <td>0</td>\n",
       "      <td>0</td>\n",
       "    </tr>\n",
       "  </tbody>\n",
       "</table>\n",
       "</div>"
      ],
      "text/plain": [
       "   frame_time_delta  frame_time_epoch  frame_time_relative  frame_cap_len  \\\n",
       "0          0.000000      1.553720e+09             0.000000             64   \n",
       "1          0.003288      1.553720e+09             0.003288             64   \n",
       "2          0.003264      1.553720e+09             0.006552             64   \n",
       "3          0.003296      1.553720e+09             0.009848             64   \n",
       "4          0.003273      1.553720e+09             0.013121             64   \n",
       "\n",
       "   frame_len  frame_number           ipv6_src  ipv6_dst  ipv6_plen  \\\n",
       "0         64             1  fe80::c30c:0:0:27  ff02::1a          6   \n",
       "1         64             2  fe80::c30c:0:0:27  ff02::1a          6   \n",
       "2         64             3  fe80::c30c:0:0:27  ff02::1a          6   \n",
       "3         64             4  fe80::c30c:0:0:27  ff02::1a          6   \n",
       "4         64             5  fe80::c30c:0:0:27  ff02::1a          6   \n",
       "\n",
       "   sixlowpan_pattern  wpan_ack_request  wpan_dst_addr_mode  wpan_fcf  \\\n",
       "0                 65                 0                   2     55361   \n",
       "1                 65                 0                   2     55361   \n",
       "2                 65                 0                   2     55361   \n",
       "3                 65                 0                   2     55361   \n",
       "4                 65                 0                   2     55361   \n",
       "\n",
       "   wpan_fcs  wpan_frame_length  wpan_pending  wpan_seq_no  icmpv6_checksum  \\\n",
       "0      4302                 64             0           64            41965   \n",
       "1      4302                 64             0           64            41965   \n",
       "2      4302                 64             0           64            41965   \n",
       "3      4302                 64             0           64            41965   \n",
       "4      4302                 64             0           64            41965   \n",
       "\n",
       "   icmpv6_code  class  \n",
       "0            0      0  \n",
       "1            0      0  \n",
       "2            0      0  \n",
       "3            0      0  \n",
       "4            0      0  "
      ]
     },
     "execution_count": 46,
     "metadata": {},
     "output_type": "execute_result"
    }
   ],
   "source": [
    "df.head()"
   ]
  },
  {
   "cell_type": "markdown",
   "metadata": {},
   "source": [
    "### 4. Dataset Pre-processing "
   ]
  },
  {
   "cell_type": "markdown",
   "metadata": {},
   "source": [
    "#### 4.1 Finding out features data type "
   ]
  },
  {
   "cell_type": "code",
   "execution_count": 47,
   "metadata": {},
   "outputs": [
    {
     "data": {
      "text/plain": [
       "Index(['frame_time_delta', 'frame_time_epoch', 'frame_time_relative',\n",
       "       'frame_cap_len', 'frame_len', 'frame_number', 'ipv6_src', 'ipv6_dst',\n",
       "       'ipv6_plen', 'sixlowpan_pattern', 'wpan_ack_request',\n",
       "       'wpan_dst_addr_mode', 'wpan_fcf', 'wpan_fcs', 'wpan_frame_length',\n",
       "       'wpan_pending', 'wpan_seq_no', 'icmpv6_checksum', 'icmpv6_code',\n",
       "       'class'],\n",
       "      dtype='object')"
      ]
     },
     "execution_count": 47,
     "metadata": {},
     "output_type": "execute_result"
    }
   ],
   "source": [
    "df.columns"
   ]
  },
  {
   "cell_type": "code",
   "execution_count": 48,
   "metadata": {},
   "outputs": [
    {
     "data": {
      "text/plain": [
       "float64     3\n",
       "int64      15\n",
       "object      2\n",
       "dtype: int64"
      ]
     },
     "execution_count": 48,
     "metadata": {},
     "output_type": "execute_result"
    }
   ],
   "source": [
    "df.get_dtype_counts()"
   ]
  },
  {
   "cell_type": "code",
   "execution_count": 49,
   "metadata": {},
   "outputs": [
    {
     "data": {
      "text/plain": [
       "Index(['ipv6_src', 'ipv6_dst'], dtype='object')"
      ]
     },
     "execution_count": 49,
     "metadata": {},
     "output_type": "execute_result"
    }
   ],
   "source": [
    "df.select_dtypes('object').columns"
   ]
  },
  {
   "cell_type": "markdown",
   "metadata": {},
   "source": [
    "> It is necessary to encode the object dtype features into numerical, using Label Encoding. Also it is indispensable to encode any others categorical features such as icmpv6.type, icmpv6.code , 6lowpan.pattern, wpan.dst_addr_mode using one-hot (1-to-n) encoding."
   ]
  },
  {
   "cell_type": "markdown",
   "metadata": {},
   "source": [
    "#### 4.2 Explaining the data"
   ]
  },
  {
   "cell_type": "code",
   "execution_count": 50,
   "metadata": {},
   "outputs": [
    {
     "name": "stdout",
     "output_type": "stream",
     "text": [
      "Class 0: 273923\n",
      "Class 1: 126077\n",
      "Proportion: 2.173 : 1\n"
     ]
    },
    {
     "data": {
      "image/png": "[encoded data removed]",
      "text/plain": [
       "<Figure size 432x288 with 1 Axes>"
      ]
     },
     "metadata": {
      "needs_background": "light"
     },
     "output_type": "display_data"
    }
   ],
   "source": [
    "#if you don't have an intuitive sense of how imbalanced these two classes are, let's go visual\n",
    "count_classes = pd.value_counts(df['class'], sort = True)\n",
    "print('Class 0:', count_classes[0])\n",
    "print('Class 1:', count_classes[1])\n",
    "print('Proportion:', round(count_classes[0] / count_classes[1], 3), ': 1')\n",
    "\n",
    "count_classes.plot(kind = 'bar', rot=0)\n",
    "plt.xticks(range(2), ['Normal [0]','Malicious [1]'])\n",
    "plt.title(\"Frequency by observation number\")\n",
    "plt.xlabel(\"Class\")\n",
    "plt.ylabel(\"Number of Observations\");"
   ]
  },
  {
   "cell_type": "markdown",
   "metadata": {},
   "source": [
    "##### 4.2.1 Dataset Balancing by ROS"
   ]
  },
  {
   "cell_type": "code",
   "execution_count": 51,
   "metadata": {},
   "outputs": [],
   "source": [
    "X = df.iloc[:, 0:19] \n",
    "y = df.iloc[:, 19]"
   ]
  },
  {
   "cell_type": "code",
   "execution_count": 52,
   "metadata": {},
   "outputs": [
    {
     "name": "stdout",
     "output_type": "stream",
     "text": [
      "147846 new random picked points\n",
      "Class 0: 273923\n",
      "Class 1: 273923\n",
      "Proportion: 1.0 : 1\n"
     ]
    },
    {
     "data": {
      "image/png": "[encoded data removed]",
      "text/plain": [
       "<Figure size 432x288 with 1 Axes>"
      ]
     },
     "metadata": {
      "needs_background": "light"
     },
     "output_type": "display_data"
    }
   ],
   "source": [
    "from imblearn.over_sampling import RandomOverSampler\n",
    "\n",
    "ros = RandomOverSampler()\n",
    "X_ros, y_ros = ros.fit_sample(X, y)\n",
    "\n",
    "print(X_ros.shape[0] - X.shape[0], 'new random picked points')\n",
    "\n",
    "count_classes_ros = pd.value_counts(y_ros, sort = True)\n",
    "print('Class 0:', count_classes_ros[0])\n",
    "print('Class 1:', count_classes_ros[1])\n",
    "print('Proportion:', round(count_classes_ros[0] / count_classes_ros[1], 2), ': 1')\n",
    "\n",
    "count_classes_ros.plot(kind = 'bar', rot=0)\n",
    "plt.xticks(range(2), ['Normal [0]','Malicious [1]'])\n",
    "plt.title(\"Frequency by observation number with ROS (Random over Sampler)\")\n",
    "plt.xlabel(\"Class\")\n",
    "plt.ylabel(\"Number of Observations\");"
   ]
  },
  {
   "cell_type": "code",
   "execution_count": 53,
   "metadata": {},
   "outputs": [],
   "source": [
    "columns_csv_ros = df.columns.tolist()[:-1]\n",
    "# columns_csv_ros"
   ]
  },
  {
   "cell_type": "code",
   "execution_count": 54,
   "metadata": {},
   "outputs": [
    {
     "name": "stdout",
     "output_type": "stream",
     "text": [
      "(547846, 1)\n",
      "(547846, 19)\n"
     ]
    }
   ],
   "source": [
    "df_y_ros = pd.DataFrame(y_ros, columns=['class'])\n",
    "print(df_y_ros.shape)\n",
    "\n",
    "df_x_ros = pd.DataFrame(X_ros, columns=columns_csv_ros)\n",
    "print(df_x_ros.shape)"
   ]
  },
  {
   "cell_type": "code",
   "execution_count": 55,
   "metadata": {},
   "outputs": [
    {
     "name": "stdout",
     "output_type": "stream",
     "text": [
      "(547846, 20)\n"
     ]
    }
   ],
   "source": [
    "df_ros = pd.concat([df_x_ros, df_y_ros], axis=1, ignore_index=False)\n",
    "print(df_ros.shape)"
   ]
  },
  {
   "cell_type": "code",
   "execution_count": 56,
   "metadata": {},
   "outputs": [],
   "source": [
    "df = df_ros"
   ]
  },
  {
   "cell_type": "code",
   "execution_count": 57,
   "metadata": {},
   "outputs": [
    {
     "data": {
      "text/html": [
       "<div>\n",
       "<style scoped>\n",
       "    .dataframe tbody tr th:only-of-type {\n",
       "        vertical-align: middle;\n",
       "    }\n",
       "\n",
       "    .dataframe tbody tr th {\n",
       "        vertical-align: top;\n",
       "    }\n",
       "\n",
       "    .dataframe thead th {\n",
       "        text-align: right;\n",
       "    }\n",
       "</style>\n",
       "<table border=\"1\" class=\"dataframe\">\n",
       "  <thead>\n",
       "    <tr style=\"text-align: right;\">\n",
       "      <th></th>\n",
       "      <th>frame_time_delta</th>\n",
       "      <th>frame_time_epoch</th>\n",
       "      <th>frame_time_relative</th>\n",
       "      <th>frame_cap_len</th>\n",
       "      <th>frame_len</th>\n",
       "      <th>frame_number</th>\n",
       "      <th>ipv6_src</th>\n",
       "      <th>ipv6_dst</th>\n",
       "      <th>ipv6_plen</th>\n",
       "      <th>sixlowpan_pattern</th>\n",
       "      <th>wpan_ack_request</th>\n",
       "      <th>wpan_dst_addr_mode</th>\n",
       "      <th>wpan_fcf</th>\n",
       "      <th>wpan_fcs</th>\n",
       "      <th>wpan_frame_length</th>\n",
       "      <th>wpan_pending</th>\n",
       "      <th>wpan_seq_no</th>\n",
       "      <th>icmpv6_checksum</th>\n",
       "      <th>icmpv6_code</th>\n",
       "      <th>class</th>\n",
       "    </tr>\n",
       "  </thead>\n",
       "  <tbody>\n",
       "    <tr>\n",
       "      <th>0</th>\n",
       "      <td>0</td>\n",
       "      <td>1.55372e+09</td>\n",
       "      <td>0</td>\n",
       "      <td>64</td>\n",
       "      <td>64</td>\n",
       "      <td>1</td>\n",
       "      <td>fe80::c30c:0:0:27</td>\n",
       "      <td>ff02::1a</td>\n",
       "      <td>6</td>\n",
       "      <td>65</td>\n",
       "      <td>0</td>\n",
       "      <td>2</td>\n",
       "      <td>55361</td>\n",
       "      <td>4302</td>\n",
       "      <td>64</td>\n",
       "      <td>0</td>\n",
       "      <td>64</td>\n",
       "      <td>41965</td>\n",
       "      <td>0</td>\n",
       "      <td>0</td>\n",
       "    </tr>\n",
       "    <tr>\n",
       "      <th>1</th>\n",
       "      <td>0.003288</td>\n",
       "      <td>1.55372e+09</td>\n",
       "      <td>0.003288</td>\n",
       "      <td>64</td>\n",
       "      <td>64</td>\n",
       "      <td>2</td>\n",
       "      <td>fe80::c30c:0:0:27</td>\n",
       "      <td>ff02::1a</td>\n",
       "      <td>6</td>\n",
       "      <td>65</td>\n",
       "      <td>0</td>\n",
       "      <td>2</td>\n",
       "      <td>55361</td>\n",
       "      <td>4302</td>\n",
       "      <td>64</td>\n",
       "      <td>0</td>\n",
       "      <td>64</td>\n",
       "      <td>41965</td>\n",
       "      <td>0</td>\n",
       "      <td>0</td>\n",
       "    </tr>\n",
       "    <tr>\n",
       "      <th>2</th>\n",
       "      <td>0.003264</td>\n",
       "      <td>1.55372e+09</td>\n",
       "      <td>0.006552</td>\n",
       "      <td>64</td>\n",
       "      <td>64</td>\n",
       "      <td>3</td>\n",
       "      <td>fe80::c30c:0:0:27</td>\n",
       "      <td>ff02::1a</td>\n",
       "      <td>6</td>\n",
       "      <td>65</td>\n",
       "      <td>0</td>\n",
       "      <td>2</td>\n",
       "      <td>55361</td>\n",
       "      <td>4302</td>\n",
       "      <td>64</td>\n",
       "      <td>0</td>\n",
       "      <td>64</td>\n",
       "      <td>41965</td>\n",
       "      <td>0</td>\n",
       "      <td>0</td>\n",
       "    </tr>\n",
       "    <tr>\n",
       "      <th>3</th>\n",
       "      <td>0.003296</td>\n",
       "      <td>1.55372e+09</td>\n",
       "      <td>0.009848</td>\n",
       "      <td>64</td>\n",
       "      <td>64</td>\n",
       "      <td>4</td>\n",
       "      <td>fe80::c30c:0:0:27</td>\n",
       "      <td>ff02::1a</td>\n",
       "      <td>6</td>\n",
       "      <td>65</td>\n",
       "      <td>0</td>\n",
       "      <td>2</td>\n",
       "      <td>55361</td>\n",
       "      <td>4302</td>\n",
       "      <td>64</td>\n",
       "      <td>0</td>\n",
       "      <td>64</td>\n",
       "      <td>41965</td>\n",
       "      <td>0</td>\n",
       "      <td>0</td>\n",
       "    </tr>\n",
       "    <tr>\n",
       "      <th>4</th>\n",
       "      <td>0.003273</td>\n",
       "      <td>1.55372e+09</td>\n",
       "      <td>0.013121</td>\n",
       "      <td>64</td>\n",
       "      <td>64</td>\n",
       "      <td>5</td>\n",
       "      <td>fe80::c30c:0:0:27</td>\n",
       "      <td>ff02::1a</td>\n",
       "      <td>6</td>\n",
       "      <td>65</td>\n",
       "      <td>0</td>\n",
       "      <td>2</td>\n",
       "      <td>55361</td>\n",
       "      <td>4302</td>\n",
       "      <td>64</td>\n",
       "      <td>0</td>\n",
       "      <td>64</td>\n",
       "      <td>41965</td>\n",
       "      <td>0</td>\n",
       "      <td>0</td>\n",
       "    </tr>\n",
       "  </tbody>\n",
       "</table>\n",
       "</div>"
      ],
      "text/plain": [
       "  frame_time_delta frame_time_epoch frame_time_relative frame_cap_len  \\\n",
       "0                0      1.55372e+09                   0            64   \n",
       "1         0.003288      1.55372e+09            0.003288            64   \n",
       "2         0.003264      1.55372e+09            0.006552            64   \n",
       "3         0.003296      1.55372e+09            0.009848            64   \n",
       "4         0.003273      1.55372e+09            0.013121            64   \n",
       "\n",
       "  frame_len frame_number           ipv6_src  ipv6_dst ipv6_plen  \\\n",
       "0        64            1  fe80::c30c:0:0:27  ff02::1a         6   \n",
       "1        64            2  fe80::c30c:0:0:27  ff02::1a         6   \n",
       "2        64            3  fe80::c30c:0:0:27  ff02::1a         6   \n",
       "3        64            4  fe80::c30c:0:0:27  ff02::1a         6   \n",
       "4        64            5  fe80::c30c:0:0:27  ff02::1a         6   \n",
       "\n",
       "  sixlowpan_pattern wpan_ack_request wpan_dst_addr_mode wpan_fcf wpan_fcs  \\\n",
       "0                65                0                  2    55361     4302   \n",
       "1                65                0                  2    55361     4302   \n",
       "2                65                0                  2    55361     4302   \n",
       "3                65                0                  2    55361     4302   \n",
       "4                65                0                  2    55361     4302   \n",
       "\n",
       "  wpan_frame_length wpan_pending wpan_seq_no icmpv6_checksum icmpv6_code  \\\n",
       "0                64            0          64           41965           0   \n",
       "1                64            0          64           41965           0   \n",
       "2                64            0          64           41965           0   \n",
       "3                64            0          64           41965           0   \n",
       "4                64            0          64           41965           0   \n",
       "\n",
       "   class  \n",
       "0      0  \n",
       "1      0  \n",
       "2      0  \n",
       "3      0  \n",
       "4      0  "
      ]
     },
     "execution_count": 57,
     "metadata": {},
     "output_type": "execute_result"
    }
   ],
   "source": [
    "df.head()"
   ]
  },
  {
   "cell_type": "markdown",
   "metadata": {},
   "source": [
    "#### 4.2 Label encoding for columns 'ipv6_src', 'ipv6_dst'"
   ]
  },
  {
   "cell_type": "code",
   "execution_count": 58,
   "metadata": {},
   "outputs": [],
   "source": [
    "le = LabelEncoder()\n",
    "df.iloc[:,6] = le.fit_transform(df.iloc[:,6])\n",
    "df.iloc[:,7] = le.fit_transform(df.iloc[:,7])"
   ]
  },
  {
   "cell_type": "code",
   "execution_count": 59,
   "metadata": {},
   "outputs": [
    {
     "name": "stdout",
     "output_type": "stream",
     "text": [
      "Unique values for ipv6_src feature [26 42 22 84 18 10 39 66 79 81 46 71 59 27 43 23 50 14 55 51  1 19 88 72\n",
      "  3 62 31 30  6 69 67 63 11  7 34  2 76 75 56 36  0 47 15 85 24 40 74 60\n",
      " 21 37 38 78 58  4 89 29 83 44 53 80 64 87 48 70 20 35 54  9  8 28 65 57\n",
      " 45 32 17 86 73 41 52 12 68 82 77 16 49 13 61 25 90  5 33]\n",
      "Unique values for ipv6_dst feature [78  0 15 18 32 21  8 20 63  2 59 66 17 75 61  6 33 73 57 28 55 67 39 19\n",
      " 34 37 22 69 41 68  7 13 31 27 72 43 50 64 10  1 62 58 38 11 56 52 30 14\n",
      " 45 54 35 46  9 60 76 47 40 26  3 71 36 65  4 24 29  5 53 25 23 44 42 48\n",
      " 12 49 74 77 70 51 16]\n"
     ]
    }
   ],
   "source": [
    "print(\"Unique values for ipv6_src feature\",df.iloc[:,6].unique())\n",
    "print(\"Unique values for ipv6_dst feature\",df.iloc[:,7].unique())"
   ]
  },
  {
   "cell_type": "markdown",
   "metadata": {},
   "source": [
    "> As it is showed, the former object values are now numerical "
   ]
  },
  {
   "cell_type": "markdown",
   "metadata": {},
   "source": [
    "#### 4.3 Normalization of frame_time_epoch"
   ]
  },
  {
   "cell_type": "code",
   "execution_count": 60,
   "metadata": {},
   "outputs": [],
   "source": [
    "df['frame_time_epoch'] = df['frame_time_epoch'].astype(float)"
   ]
  },
  {
   "cell_type": "code",
   "execution_count": 61,
   "metadata": {},
   "outputs": [],
   "source": [
    "# df['frame_time_epoch'] = df['frame_time_epoch'] - df.frame_time_epoch.min()"
   ]
  },
  {
   "cell_type": "code",
   "execution_count": 62,
   "metadata": {},
   "outputs": [
    {
     "data": {
      "text/plain": [
       "count    5.478460e+05\n",
       "mean     1.554123e+09\n",
       "std      1.647931e+05\n",
       "min      1.553720e+09\n",
       "25%      1.554147e+09\n",
       "50%      1.554199e+09\n",
       "75%      1.554207e+09\n",
       "max      1.554214e+09\n",
       "Name: frame_time_epoch, dtype: float64"
      ]
     },
     "execution_count": 62,
     "metadata": {},
     "output_type": "execute_result"
    }
   ],
   "source": [
    "df.frame_time_epoch.describe()"
   ]
  },
  {
   "cell_type": "code",
   "execution_count": 63,
   "metadata": {},
   "outputs": [],
   "source": [
    "df['frame_time_epoch'] = np.log1p(df['frame_time_epoch'])"
   ]
  },
  {
   "cell_type": "code",
   "execution_count": 64,
   "metadata": {},
   "outputs": [
    {
     "data": {
      "text/plain": [
       "count    547846.000000\n",
       "mean         21.164177\n",
       "std           0.000106\n",
       "min          21.163918\n",
       "25%          21.164193\n",
       "50%          21.164226\n",
       "75%          21.164232\n",
       "max          21.164236\n",
       "Name: frame_time_epoch, dtype: float64"
      ]
     },
     "execution_count": 64,
     "metadata": {},
     "output_type": "execute_result"
    }
   ],
   "source": [
    "df.frame_time_epoch.describe()"
   ]
  },
  {
   "cell_type": "code",
   "execution_count": 65,
   "metadata": {},
   "outputs": [],
   "source": [
    "# df.head()"
   ]
  },
  {
   "cell_type": "markdown",
   "metadata": {},
   "source": [
    "#### 4.4 One hot encoding of categorical features using ColumnTransformer and min-max normalization"
   ]
  },
  {
   "cell_type": "code",
   "execution_count": 66,
   "metadata": {},
   "outputs": [],
   "source": [
    "onehot_col = ['ipv6_dst', 'ipv6_src', 'icmpv6_code', 'wpan_dst_addr_mode', 'wpan_fcf', 'sixlowpan_pattern']\n",
    "#onehot_col"
   ]
  },
  {
   "cell_type": "code",
   "execution_count": 67,
   "metadata": {},
   "outputs": [],
   "source": [
    "#log_col = df.select_dtypes('float').columns.tolist()\n",
    "#log_col = ['frame_time_delta', 'frame_time_epoch', 'frame_time_relative']\n",
    "#log_col = []"
   ]
  },
  {
   "cell_type": "code",
   "execution_count": 68,
   "metadata": {},
   "outputs": [],
   "source": [
    "int_col = ['frame_time_delta', 'frame_time_epoch', 'frame_time_relative', 'frame_cap_len', 'frame_len', 'frame_number', 'wpan_fcs', 'wpan_frame_length', 'wpan_seq_no', 'ipv6_plen', 'icmpv6_checksum']\n",
    "#int_col"
   ]
  },
  {
   "cell_type": "code",
   "execution_count": 69,
   "metadata": {},
   "outputs": [],
   "source": [
    "#minmax_col = log_col+ int_col + onehot_col \n",
    "minmax_col = int_col + onehot_col \n",
    "#minmax_col\n"
   ]
  },
  {
   "cell_type": "code",
   "execution_count": 70,
   "metadata": {},
   "outputs": [],
   "source": [
    "# transformer = FunctionTransformer(np.log1p)"
   ]
  },
  {
   "cell_type": "code",
   "execution_count": 71,
   "metadata": {},
   "outputs": [],
   "source": [
    "preprocess = make_column_transformer(\n",
    "    (StandardScaler(copy=True), minmax_col),\n",
    "    (OneHotEncoder(categories='auto', sparse=False), onehot_col)\n",
    ")"
   ]
  },
  {
   "cell_type": "code",
   "execution_count": 72,
   "metadata": {},
   "outputs": [
    {
     "data": {
      "text/plain": [
       "(547846, 20)"
      ]
     },
     "execution_count": 72,
     "metadata": {},
     "output_type": "execute_result"
    }
   ],
   "source": [
    "df.shape"
   ]
  },
  {
   "cell_type": "code",
   "execution_count": 73,
   "metadata": {},
   "outputs": [
    {
     "data": {
      "text/plain": [
       "19"
      ]
     },
     "execution_count": 73,
     "metadata": {},
     "output_type": "execute_result"
    }
   ],
   "source": [
    "df.columns.get_loc('class')"
   ]
  },
  {
   "cell_type": "code",
   "execution_count": 74,
   "metadata": {},
   "outputs": [],
   "source": [
    "X = df.iloc[:, 0:19] \n",
    "y = df.iloc[:, 19]"
   ]
  },
  {
   "cell_type": "code",
   "execution_count": 75,
   "metadata": {},
   "outputs": [
    {
     "name": "stderr",
     "output_type": "stream",
     "text": [
      "/home/user/.local/lib/python3.6/site-packages/sklearn/preprocessing/data.py:645: DataConversionWarning: Data with input dtype int64, float64, object were all converted to float64 by StandardScaler.\n",
      "  return self.partial_fit(X, y)\n",
      "/home/user/.local/lib/python3.6/site-packages/sklearn/base.py:464: DataConversionWarning: Data with input dtype int64, float64, object were all converted to float64 by StandardScaler.\n",
      "  return self.fit(X, **fit_params).transform(X)\n"
     ]
    }
   ],
   "source": [
    "X_norm = preprocess.fit_transform(X)"
   ]
  },
  {
   "cell_type": "code",
   "execution_count": 76,
   "metadata": {},
   "outputs": [],
   "source": [
    "# for i in range(0,48):\n",
    "#     print(i, X_norm[:,i].mean())"
   ]
  },
  {
   "cell_type": "code",
   "execution_count": 77,
   "metadata": {},
   "outputs": [
    {
     "name": "stdout",
     "output_type": "stream",
     "text": [
      "Label Encoded Dataset shape: (547846, 19)\n",
      "Normalized Dataset shape: (547846, 197)\n"
     ]
    }
   ],
   "source": [
    "print('Label Encoded Dataset shape:', df.iloc[:, 0:19].shape)\n",
    "print('Normalized Dataset shape:', X_norm.shape)"
   ]
  },
  {
   "cell_type": "code",
   "execution_count": 78,
   "metadata": {},
   "outputs": [
    {
     "name": "stdout",
     "output_type": "stream",
     "text": [
      "Class subset shape: (547846,)\n"
     ]
    }
   ],
   "source": [
    "print('Class subset shape:', y.shape)"
   ]
  },
  {
   "cell_type": "code",
   "execution_count": null,
   "metadata": {},
   "outputs": [],
   "source": []
  },
  {
   "cell_type": "code",
   "execution_count": 79,
   "metadata": {},
   "outputs": [
    {
     "name": "stdout",
     "output_type": "stream",
     "text": [
      "(547846, 1)\n",
      "(547846, 197)\n"
     ]
    }
   ],
   "source": [
    "df_y_csv = pd.DataFrame(y)\n",
    "print(df_y_csv.shape)\n",
    "\n",
    "df_x_csv = pd.DataFrame(X_norm)\n",
    "print(df_x_csv.shape)"
   ]
  },
  {
   "cell_type": "code",
   "execution_count": 80,
   "metadata": {},
   "outputs": [],
   "source": [
    "# print(df_y_csv.isna().any())\n",
    "# print(df_x_csv.isna().any())"
   ]
  },
  {
   "cell_type": "code",
   "execution_count": null,
   "metadata": {},
   "outputs": [],
   "source": []
  },
  {
   "cell_type": "code",
   "execution_count": 81,
   "metadata": {},
   "outputs": [],
   "source": [
    "df_x_csv.reset_index(drop=True, inplace=True)\n",
    "df_y_csv.reset_index(drop=True, inplace=True)"
   ]
  },
  {
   "cell_type": "code",
   "execution_count": null,
   "metadata": {},
   "outputs": [],
   "source": []
  },
  {
   "cell_type": "code",
   "execution_count": 82,
   "metadata": {},
   "outputs": [],
   "source": [
    "df_allsamples_norm = pd.concat((df_x_csv,df_y_csv), axis=1)"
   ]
  },
  {
   "cell_type": "code",
   "execution_count": 83,
   "metadata": {},
   "outputs": [
    {
     "name": "stdout",
     "output_type": "stream",
     "text": [
      "(547846, 198)\n"
     ]
    }
   ],
   "source": [
    "print(df_allsamples_norm.shape)"
   ]
  },
  {
   "cell_type": "code",
   "execution_count": 94,
   "metadata": {},
   "outputs": [
    {
     "name": "stdout",
     "output_type": "stream",
     "text": [
      "No nans in df_allsamples_norm\n"
     ]
    }
   ],
   "source": [
    "nan_df_allsamples_norm = df_allsamples_norm.isnull().any().tolist()\n",
    "\n",
    "if True in nan_df_allsamples_norm: print('**There is nans in df_test!**\\n\\n', df_allsamples_norm.isnull().any())\n",
    "else: print(\"No nans in df_allsamples_norm\")"
   ]
  },
  {
   "cell_type": "code",
   "execution_count": null,
   "metadata": {},
   "outputs": [],
   "source": []
  },
  {
   "cell_type": "code",
   "execution_count": 95,
   "metadata": {},
   "outputs": [],
   "source": [
    "#df_allsamples_norm.to_csv(pathds+'SubsetAllSamples/CloneID10bal_norm.csv', index=False)\n",
    "#df_allsamples_norm.to_csv(pathds+'SubsetAllSamples/ReducedCloneID10bal_norm.csv', index=False)\n",
    "df_allsamples_norm.to_csv(pathds+'SubsetAllSamples/ThirdCloneID100bal_stdscal.csv', index=False)"
   ]
  },
  {
   "cell_type": "code",
   "execution_count": 96,
   "metadata": {},
   "outputs": [
    {
     "name": "stdout",
     "output_type": "stream",
     "text": [
      "(547846, 198)\n"
     ]
    }
   ],
   "source": [
    "print(df_allsamples_norm.shape)"
   ]
  },
  {
   "cell_type": "code",
   "execution_count": null,
   "metadata": {},
   "outputs": [],
   "source": []
  },
  {
   "cell_type": "code",
   "execution_count": 97,
   "metadata": {},
   "outputs": [],
   "source": [
    "df_from_csv = pd.read_csv(pathds+'SubsetAllSamples/ThirdCloneID100bal_stdscal.csv')\n",
    "# df_from_csv = pd.read_csv(pathds+'SubsetAllSamples/CloneID10bal_norm.csv')"
   ]
  },
  {
   "cell_type": "code",
   "execution_count": 98,
   "metadata": {},
   "outputs": [
    {
     "name": "stdout",
     "output_type": "stream",
     "text": [
      "No nans in df_allsamples_norm\n"
     ]
    }
   ],
   "source": [
    "nan_df_from_csv = df_from_csv.isnull().any().tolist()\n",
    "\n",
    "if True in nan_df_from_csv: print('**There is nans in df_test!**\\n\\n', df_from_csv.isnull().any())\n",
    "else: print(\"No nans in df_allsamples_norm\")"
   ]
  },
  {
   "cell_type": "code",
   "execution_count": 99,
   "metadata": {},
   "outputs": [
    {
     "name": "stdout",
     "output_type": "stream",
     "text": [
      "(547846, 198)\n"
     ]
    }
   ],
   "source": [
    "print(df_from_csv.shape)"
   ]
  },
  {
   "cell_type": "code",
   "execution_count": 100,
   "metadata": {},
   "outputs": [
    {
     "name": "stdout",
     "output_type": "stream",
     "text": [
      "(547846, 198)\n"
     ]
    },
    {
     "data": {
      "text/html": [
       "<div>\n",
       "<style scoped>\n",
       "    .dataframe tbody tr th:only-of-type {\n",
       "        vertical-align: middle;\n",
       "    }\n",
       "\n",
       "    .dataframe tbody tr th {\n",
       "        vertical-align: top;\n",
       "    }\n",
       "\n",
       "    .dataframe thead th {\n",
       "        text-align: right;\n",
       "    }\n",
       "</style>\n",
       "<table border=\"1\" class=\"dataframe\">\n",
       "  <thead>\n",
       "    <tr style=\"text-align: right;\">\n",
       "      <th></th>\n",
       "      <th>0</th>\n",
       "      <th>1</th>\n",
       "      <th>2</th>\n",
       "      <th>3</th>\n",
       "      <th>4</th>\n",
       "      <th>5</th>\n",
       "      <th>6</th>\n",
       "      <th>7</th>\n",
       "      <th>8</th>\n",
       "      <th>9</th>\n",
       "      <th>...</th>\n",
       "      <th>188</th>\n",
       "      <th>189</th>\n",
       "      <th>190</th>\n",
       "      <th>191</th>\n",
       "      <th>192</th>\n",
       "      <th>193</th>\n",
       "      <th>194</th>\n",
       "      <th>195</th>\n",
       "      <th>196</th>\n",
       "      <th>class</th>\n",
       "    </tr>\n",
       "  </thead>\n",
       "  <tbody>\n",
       "    <tr>\n",
       "      <th>0</th>\n",
       "      <td>-0.135565</td>\n",
       "      <td>-2.447114</td>\n",
       "      <td>-2.080011</td>\n",
       "      <td>-1.704209</td>\n",
       "      <td>-1.704209</td>\n",
       "      <td>-1.632840</td>\n",
       "      <td>-1.51163</td>\n",
       "      <td>-1.704209</td>\n",
       "      <td>-0.887964</td>\n",
       "      <td>-2.957179</td>\n",
       "      <td>...</td>\n",
       "      <td>0.0</td>\n",
       "      <td>0.0</td>\n",
       "      <td>1.0</td>\n",
       "      <td>0.0</td>\n",
       "      <td>1.0</td>\n",
       "      <td>0.0</td>\n",
       "      <td>0.0</td>\n",
       "      <td>0.0</td>\n",
       "      <td>1.0</td>\n",
       "      <td>0</td>\n",
       "    </tr>\n",
       "    <tr>\n",
       "      <th>1</th>\n",
       "      <td>0.289972</td>\n",
       "      <td>-2.447114</td>\n",
       "      <td>-2.079717</td>\n",
       "      <td>-1.704209</td>\n",
       "      <td>-1.704209</td>\n",
       "      <td>-1.632763</td>\n",
       "      <td>-1.51163</td>\n",
       "      <td>-1.704209</td>\n",
       "      <td>-0.887964</td>\n",
       "      <td>-2.957179</td>\n",
       "      <td>...</td>\n",
       "      <td>0.0</td>\n",
       "      <td>0.0</td>\n",
       "      <td>1.0</td>\n",
       "      <td>0.0</td>\n",
       "      <td>1.0</td>\n",
       "      <td>0.0</td>\n",
       "      <td>0.0</td>\n",
       "      <td>0.0</td>\n",
       "      <td>1.0</td>\n",
       "      <td>0</td>\n",
       "    </tr>\n",
       "    <tr>\n",
       "      <th>2</th>\n",
       "      <td>0.286866</td>\n",
       "      <td>-2.447114</td>\n",
       "      <td>-2.079426</td>\n",
       "      <td>-1.704209</td>\n",
       "      <td>-1.704209</td>\n",
       "      <td>-1.632686</td>\n",
       "      <td>-1.51163</td>\n",
       "      <td>-1.704209</td>\n",
       "      <td>-0.887964</td>\n",
       "      <td>-2.957179</td>\n",
       "      <td>...</td>\n",
       "      <td>0.0</td>\n",
       "      <td>0.0</td>\n",
       "      <td>1.0</td>\n",
       "      <td>0.0</td>\n",
       "      <td>1.0</td>\n",
       "      <td>0.0</td>\n",
       "      <td>0.0</td>\n",
       "      <td>0.0</td>\n",
       "      <td>1.0</td>\n",
       "      <td>0</td>\n",
       "    </tr>\n",
       "    <tr>\n",
       "      <th>3</th>\n",
       "      <td>0.291008</td>\n",
       "      <td>-2.447114</td>\n",
       "      <td>-2.079133</td>\n",
       "      <td>-1.704209</td>\n",
       "      <td>-1.704209</td>\n",
       "      <td>-1.632609</td>\n",
       "      <td>-1.51163</td>\n",
       "      <td>-1.704209</td>\n",
       "      <td>-0.887964</td>\n",
       "      <td>-2.957179</td>\n",
       "      <td>...</td>\n",
       "      <td>0.0</td>\n",
       "      <td>0.0</td>\n",
       "      <td>1.0</td>\n",
       "      <td>0.0</td>\n",
       "      <td>1.0</td>\n",
       "      <td>0.0</td>\n",
       "      <td>0.0</td>\n",
       "      <td>0.0</td>\n",
       "      <td>1.0</td>\n",
       "      <td>0</td>\n",
       "    </tr>\n",
       "    <tr>\n",
       "      <th>4</th>\n",
       "      <td>0.288031</td>\n",
       "      <td>-2.447114</td>\n",
       "      <td>-2.078841</td>\n",
       "      <td>-1.704209</td>\n",
       "      <td>-1.704209</td>\n",
       "      <td>-1.632533</td>\n",
       "      <td>-1.51163</td>\n",
       "      <td>-1.704209</td>\n",
       "      <td>-0.887964</td>\n",
       "      <td>-2.957179</td>\n",
       "      <td>...</td>\n",
       "      <td>0.0</td>\n",
       "      <td>0.0</td>\n",
       "      <td>1.0</td>\n",
       "      <td>0.0</td>\n",
       "      <td>1.0</td>\n",
       "      <td>0.0</td>\n",
       "      <td>0.0</td>\n",
       "      <td>0.0</td>\n",
       "      <td>1.0</td>\n",
       "      <td>0</td>\n",
       "    </tr>\n",
       "  </tbody>\n",
       "</table>\n",
       "<p>5 rows × 198 columns</p>\n",
       "</div>"
      ],
      "text/plain": [
       "          0         1         2         3         4         5        6  \\\n",
       "0 -0.135565 -2.447114 -2.080011 -1.704209 -1.704209 -1.632840 -1.51163   \n",
       "1  0.289972 -2.447114 -2.079717 -1.704209 -1.704209 -1.632763 -1.51163   \n",
       "2  0.286866 -2.447114 -2.079426 -1.704209 -1.704209 -1.632686 -1.51163   \n",
       "3  0.291008 -2.447114 -2.079133 -1.704209 -1.704209 -1.632609 -1.51163   \n",
       "4  0.288031 -2.447114 -2.078841 -1.704209 -1.704209 -1.632533 -1.51163   \n",
       "\n",
       "          7         8         9  ...  188  189  190  191  192  193  194  195  \\\n",
       "0 -1.704209 -0.887964 -2.957179  ...  0.0  0.0  1.0  0.0  1.0  0.0  0.0  0.0   \n",
       "1 -1.704209 -0.887964 -2.957179  ...  0.0  0.0  1.0  0.0  1.0  0.0  0.0  0.0   \n",
       "2 -1.704209 -0.887964 -2.957179  ...  0.0  0.0  1.0  0.0  1.0  0.0  0.0  0.0   \n",
       "3 -1.704209 -0.887964 -2.957179  ...  0.0  0.0  1.0  0.0  1.0  0.0  0.0  0.0   \n",
       "4 -1.704209 -0.887964 -2.957179  ...  0.0  0.0  1.0  0.0  1.0  0.0  0.0  0.0   \n",
       "\n",
       "   196  class  \n",
       "0  1.0      0  \n",
       "1  1.0      0  \n",
       "2  1.0      0  \n",
       "3  1.0      0  \n",
       "4  1.0      0  \n",
       "\n",
       "[5 rows x 198 columns]"
      ]
     },
     "execution_count": 100,
     "metadata": {},
     "output_type": "execute_result"
    }
   ],
   "source": [
    "print((df_from_csv.shape))\n",
    "df_from_csv.head()"
   ]
  },
  {
   "cell_type": "code",
   "execution_count": null,
   "metadata": {},
   "outputs": [],
   "source": []
  },
  {
   "cell_type": "code",
   "execution_count": 101,
   "metadata": {},
   "outputs": [
    {
     "data": {
      "text/html": [
       "<div>\n",
       "<style scoped>\n",
       "    .dataframe tbody tr th:only-of-type {\n",
       "        vertical-align: middle;\n",
       "    }\n",
       "\n",
       "    .dataframe tbody tr th {\n",
       "        vertical-align: top;\n",
       "    }\n",
       "\n",
       "    .dataframe thead th {\n",
       "        text-align: right;\n",
       "    }\n",
       "</style>\n",
       "<table border=\"1\" class=\"dataframe\">\n",
       "  <thead>\n",
       "    <tr style=\"text-align: right;\">\n",
       "      <th></th>\n",
       "      <th>0</th>\n",
       "      <th>1</th>\n",
       "      <th>2</th>\n",
       "      <th>3</th>\n",
       "      <th>4</th>\n",
       "      <th>5</th>\n",
       "      <th>6</th>\n",
       "      <th>7</th>\n",
       "      <th>8</th>\n",
       "      <th>9</th>\n",
       "      <th>...</th>\n",
       "      <th>187</th>\n",
       "      <th>188</th>\n",
       "      <th>189</th>\n",
       "      <th>190</th>\n",
       "      <th>191</th>\n",
       "      <th>192</th>\n",
       "      <th>193</th>\n",
       "      <th>194</th>\n",
       "      <th>195</th>\n",
       "      <th>196</th>\n",
       "    </tr>\n",
       "  </thead>\n",
       "  <tbody>\n",
       "    <tr>\n",
       "      <th>count</th>\n",
       "      <td>5.478460e+05</td>\n",
       "      <td>5.478460e+05</td>\n",
       "      <td>5.478460e+05</td>\n",
       "      <td>5.478460e+05</td>\n",
       "      <td>5.478460e+05</td>\n",
       "      <td>5.478460e+05</td>\n",
       "      <td>5.478460e+05</td>\n",
       "      <td>5.478460e+05</td>\n",
       "      <td>5.478460e+05</td>\n",
       "      <td>5.478460e+05</td>\n",
       "      <td>...</td>\n",
       "      <td>547846.000000</td>\n",
       "      <td>547846.000000</td>\n",
       "      <td>547846.000000</td>\n",
       "      <td>547846.000000</td>\n",
       "      <td>547846.000000</td>\n",
       "      <td>547846.000000</td>\n",
       "      <td>547846.000000</td>\n",
       "      <td>547846.000000</td>\n",
       "      <td>547846.000000</td>\n",
       "      <td>547846.000000</td>\n",
       "    </tr>\n",
       "    <tr>\n",
       "      <th>mean</th>\n",
       "      <td>-2.874097e-17</td>\n",
       "      <td>-3.756761e-11</td>\n",
       "      <td>8.394024e-17</td>\n",
       "      <td>-3.471354e-17</td>\n",
       "      <td>-3.471354e-17</td>\n",
       "      <td>7.574336e-17</td>\n",
       "      <td>1.017347e-16</td>\n",
       "      <td>-3.471354e-17</td>\n",
       "      <td>6.689799e-17</td>\n",
       "      <td>-5.167150e-17</td>\n",
       "      <td>...</td>\n",
       "      <td>0.055046</td>\n",
       "      <td>0.450776</td>\n",
       "      <td>0.494177</td>\n",
       "      <td>0.200339</td>\n",
       "      <td>0.799661</td>\n",
       "      <td>0.200339</td>\n",
       "      <td>0.798232</td>\n",
       "      <td>0.001429</td>\n",
       "      <td>0.944954</td>\n",
       "      <td>0.055046</td>\n",
       "    </tr>\n",
       "    <tr>\n",
       "      <th>std</th>\n",
       "      <td>1.000001e+00</td>\n",
       "      <td>1.000001e+00</td>\n",
       "      <td>1.000001e+00</td>\n",
       "      <td>1.000001e+00</td>\n",
       "      <td>1.000001e+00</td>\n",
       "      <td>1.000001e+00</td>\n",
       "      <td>1.000001e+00</td>\n",
       "      <td>1.000001e+00</td>\n",
       "      <td>1.000001e+00</td>\n",
       "      <td>1.000001e+00</td>\n",
       "      <td>...</td>\n",
       "      <td>0.228071</td>\n",
       "      <td>0.497572</td>\n",
       "      <td>0.499967</td>\n",
       "      <td>0.400255</td>\n",
       "      <td>0.400255</td>\n",
       "      <td>0.400255</td>\n",
       "      <td>0.401321</td>\n",
       "      <td>0.037778</td>\n",
       "      <td>0.228071</td>\n",
       "      <td>0.228071</td>\n",
       "    </tr>\n",
       "    <tr>\n",
       "      <th>min</th>\n",
       "      <td>-5.366418e-01</td>\n",
       "      <td>-2.447114e+00</td>\n",
       "      <td>-2.080011e+00</td>\n",
       "      <td>-1.704209e+00</td>\n",
       "      <td>-1.704209e+00</td>\n",
       "      <td>-1.632840e+00</td>\n",
       "      <td>-1.736618e+00</td>\n",
       "      <td>-1.704209e+00</td>\n",
       "      <td>-1.802116e+00</td>\n",
       "      <td>-2.957179e+00</td>\n",
       "      <td>...</td>\n",
       "      <td>0.000000</td>\n",
       "      <td>0.000000</td>\n",
       "      <td>0.000000</td>\n",
       "      <td>0.000000</td>\n",
       "      <td>0.000000</td>\n",
       "      <td>0.000000</td>\n",
       "      <td>0.000000</td>\n",
       "      <td>0.000000</td>\n",
       "      <td>0.000000</td>\n",
       "      <td>0.000000</td>\n",
       "    </tr>\n",
       "    <tr>\n",
       "      <th>25%</th>\n",
       "      <td>-9.958582e-02</td>\n",
       "      <td>1.465810e-01</td>\n",
       "      <td>-7.969258e-01</td>\n",
       "      <td>-7.885075e-01</td>\n",
       "      <td>-7.885075e-01</td>\n",
       "      <td>-8.272328e-01</td>\n",
       "      <td>-8.804773e-01</td>\n",
       "      <td>-7.885075e-01</td>\n",
       "      <td>-8.451126e-01</td>\n",
       "      <td>-5.158954e-01</td>\n",
       "      <td>...</td>\n",
       "      <td>0.000000</td>\n",
       "      <td>0.000000</td>\n",
       "      <td>0.000000</td>\n",
       "      <td>0.000000</td>\n",
       "      <td>1.000000</td>\n",
       "      <td>0.000000</td>\n",
       "      <td>1.000000</td>\n",
       "      <td>0.000000</td>\n",
       "      <td>1.000000</td>\n",
       "      <td>0.000000</td>\n",
       "    </tr>\n",
       "    <tr>\n",
       "      <th>50%</th>\n",
       "      <td>-2.439201e-02</td>\n",
       "      <td>4.615774e-01</td>\n",
       "      <td>-3.796001e-02</td>\n",
       "      <td>-7.885075e-01</td>\n",
       "      <td>-7.885075e-01</td>\n",
       "      <td>-6.088282e-02</td>\n",
       "      <td>2.718074e-04</td>\n",
       "      <td>-7.885075e-01</td>\n",
       "      <td>-2.378710e-03</td>\n",
       "      <td>-5.158954e-01</td>\n",
       "      <td>...</td>\n",
       "      <td>0.000000</td>\n",
       "      <td>0.000000</td>\n",
       "      <td>0.000000</td>\n",
       "      <td>0.000000</td>\n",
       "      <td>1.000000</td>\n",
       "      <td>0.000000</td>\n",
       "      <td>1.000000</td>\n",
       "      <td>0.000000</td>\n",
       "      <td>1.000000</td>\n",
       "      <td>0.000000</td>\n",
       "    </tr>\n",
       "    <tr>\n",
       "      <th>75%</th>\n",
       "      <td>5.830824e-02</td>\n",
       "      <td>5.125978e-01</td>\n",
       "      <td>8.146344e-01</td>\n",
       "      <td>1.195512e+00</td>\n",
       "      <td>1.195512e+00</td>\n",
       "      <td>7.409669e-01</td>\n",
       "      <td>9.116630e-01</td>\n",
       "      <td>1.195512e+00</td>\n",
       "      <td>8.832061e-01</td>\n",
       "      <td>9.266816e-01</td>\n",
       "      <td>...</td>\n",
       "      <td>0.000000</td>\n",
       "      <td>1.000000</td>\n",
       "      <td>1.000000</td>\n",
       "      <td>0.000000</td>\n",
       "      <td>1.000000</td>\n",
       "      <td>0.000000</td>\n",
       "      <td>1.000000</td>\n",
       "      <td>0.000000</td>\n",
       "      <td>1.000000</td>\n",
       "      <td>0.000000</td>\n",
       "    </tr>\n",
       "    <tr>\n",
       "      <th>max</th>\n",
       "      <td>2.139529e+02</td>\n",
       "      <td>5.539390e-01</td>\n",
       "      <td>2.204523e+00</td>\n",
       "      <td>1.195512e+00</td>\n",
       "      <td>1.195512e+00</td>\n",
       "      <td>2.927000e+00</td>\n",
       "      <td>1.700906e+00</td>\n",
       "      <td>1.195512e+00</td>\n",
       "      <td>1.840209e+00</td>\n",
       "      <td>9.266816e-01</td>\n",
       "      <td>...</td>\n",
       "      <td>1.000000</td>\n",
       "      <td>1.000000</td>\n",
       "      <td>1.000000</td>\n",
       "      <td>1.000000</td>\n",
       "      <td>1.000000</td>\n",
       "      <td>1.000000</td>\n",
       "      <td>1.000000</td>\n",
       "      <td>1.000000</td>\n",
       "      <td>1.000000</td>\n",
       "      <td>1.000000</td>\n",
       "    </tr>\n",
       "  </tbody>\n",
       "</table>\n",
       "<p>8 rows × 197 columns</p>\n",
       "</div>"
      ],
      "text/plain": [
       "                  0             1             2             3             4  \\\n",
       "count  5.478460e+05  5.478460e+05  5.478460e+05  5.478460e+05  5.478460e+05   \n",
       "mean  -2.874097e-17 -3.756761e-11  8.394024e-17 -3.471354e-17 -3.471354e-17   \n",
       "std    1.000001e+00  1.000001e+00  1.000001e+00  1.000001e+00  1.000001e+00   \n",
       "min   -5.366418e-01 -2.447114e+00 -2.080011e+00 -1.704209e+00 -1.704209e+00   \n",
       "25%   -9.958582e-02  1.465810e-01 -7.969258e-01 -7.885075e-01 -7.885075e-01   \n",
       "50%   -2.439201e-02  4.615774e-01 -3.796001e-02 -7.885075e-01 -7.885075e-01   \n",
       "75%    5.830824e-02  5.125978e-01  8.146344e-01  1.195512e+00  1.195512e+00   \n",
       "max    2.139529e+02  5.539390e-01  2.204523e+00  1.195512e+00  1.195512e+00   \n",
       "\n",
       "                  5             6             7             8             9  \\\n",
       "count  5.478460e+05  5.478460e+05  5.478460e+05  5.478460e+05  5.478460e+05   \n",
       "mean   7.574336e-17  1.017347e-16 -3.471354e-17  6.689799e-17 -5.167150e-17   \n",
       "std    1.000001e+00  1.000001e+00  1.000001e+00  1.000001e+00  1.000001e+00   \n",
       "min   -1.632840e+00 -1.736618e+00 -1.704209e+00 -1.802116e+00 -2.957179e+00   \n",
       "25%   -8.272328e-01 -8.804773e-01 -7.885075e-01 -8.451126e-01 -5.158954e-01   \n",
       "50%   -6.088282e-02  2.718074e-04 -7.885075e-01 -2.378710e-03 -5.158954e-01   \n",
       "75%    7.409669e-01  9.116630e-01  1.195512e+00  8.832061e-01  9.266816e-01   \n",
       "max    2.927000e+00  1.700906e+00  1.195512e+00  1.840209e+00  9.266816e-01   \n",
       "\n",
       "       ...            187            188            189            190  \\\n",
       "count  ...  547846.000000  547846.000000  547846.000000  547846.000000   \n",
       "mean   ...       0.055046       0.450776       0.494177       0.200339   \n",
       "std    ...       0.228071       0.497572       0.499967       0.400255   \n",
       "min    ...       0.000000       0.000000       0.000000       0.000000   \n",
       "25%    ...       0.000000       0.000000       0.000000       0.000000   \n",
       "50%    ...       0.000000       0.000000       0.000000       0.000000   \n",
       "75%    ...       0.000000       1.000000       1.000000       0.000000   \n",
       "max    ...       1.000000       1.000000       1.000000       1.000000   \n",
       "\n",
       "                 191            192            193            194  \\\n",
       "count  547846.000000  547846.000000  547846.000000  547846.000000   \n",
       "mean        0.799661       0.200339       0.798232       0.001429   \n",
       "std         0.400255       0.400255       0.401321       0.037778   \n",
       "min         0.000000       0.000000       0.000000       0.000000   \n",
       "25%         1.000000       0.000000       1.000000       0.000000   \n",
       "50%         1.000000       0.000000       1.000000       0.000000   \n",
       "75%         1.000000       0.000000       1.000000       0.000000   \n",
       "max         1.000000       1.000000       1.000000       1.000000   \n",
       "\n",
       "                 195            196  \n",
       "count  547846.000000  547846.000000  \n",
       "mean        0.944954       0.055046  \n",
       "std         0.228071       0.228071  \n",
       "min         0.000000       0.000000  \n",
       "25%         1.000000       0.000000  \n",
       "50%         1.000000       0.000000  \n",
       "75%         1.000000       0.000000  \n",
       "max         1.000000       1.000000  \n",
       "\n",
       "[8 rows x 197 columns]"
      ]
     },
     "execution_count": 101,
     "metadata": {},
     "output_type": "execute_result"
    }
   ],
   "source": [
    "X_ = df_from_csv.iloc[:, 0:197] \n",
    "X_.describe()"
   ]
  },
  {
   "cell_type": "code",
   "execution_count": 102,
   "metadata": {},
   "outputs": [],
   "source": [
    "y_ = df_from_csv.iloc[:, 197]"
   ]
  },
  {
   "cell_type": "code",
   "execution_count": 103,
   "metadata": {},
   "outputs": [
    {
     "data": {
      "text/plain": [
       "count    547846.0\n",
       "mean          0.5\n",
       "std           0.5\n",
       "min           0.0\n",
       "25%           0.0\n",
       "50%           0.5\n",
       "75%           1.0\n",
       "max           1.0\n",
       "Name: class, dtype: float64"
      ]
     },
     "execution_count": 103,
     "metadata": {},
     "output_type": "execute_result"
    }
   ],
   "source": [
    "y_.describe()"
   ]
  },
  {
   "cell_type": "code",
   "execution_count": null,
   "metadata": {},
   "outputs": [],
   "source": []
  },
  {
   "cell_type": "code",
   "execution_count": null,
   "metadata": {},
   "outputs": [],
   "source": []
  },
  {
   "cell_type": "code",
   "execution_count": null,
   "metadata": {},
   "outputs": [],
   "source": []
  }
 ],
 "metadata": {
  "kernelspec": {
   "display_name": "Python 3",
   "language": "python",
   "name": "python3"
  },
  "language_info": {
   "codemirror_mode": {
    "name": "ipython",
    "version": 3
   },
   "file_extension": ".py",
   "mimetype": "text/x-python",
   "name": "python",
   "nbconvert_exporter": "python",
   "pygments_lexer": "ipython3",
   "version": "3.6.8"
  }
 },
 "nbformat": 4,
 "nbformat_minor": 2
}
