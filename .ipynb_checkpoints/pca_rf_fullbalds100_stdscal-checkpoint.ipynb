{
 "cells": [
  {
   "cell_type": "code",
   "execution_count": 29,
   "metadata": {},
   "outputs": [],
   "source": [
    "import os\n",
    "os.environ[\"CUDA_DEVICE_ORDER\"]=\"PCI_BUS_ID\"\n",
    "os.environ[\"CUDA_VISIBLE_DEVICES\"]=\"0\""
   ]
  },
  {
   "cell_type": "code",
   "execution_count": 30,
   "metadata": {},
   "outputs": [],
   "source": [
    "###################################\n",
    "# TensorFlow wizardry\n",
    "import tensorflow as tf\n",
    "config = tf.ConfigProto()\n",
    " \n",
    "# Don’t pre-allocate memory; allocate as-needed\n",
    "config.gpu_options.allow_growth = True\n",
    " \n",
    "# Only allow a total of half the GPU memory to be allocated\n",
    "config.gpu_options.per_process_gpu_memory_fraction = 0.05\n",
    "#gpu_options = tf.GPUOptions(per_process_gpu_memory_fraction=0.333)\n",
    " \n",
    "# Create a session with the above options specified.\n",
    "from keras import optimizers, regularizers\n",
    "from keras.layers.normalization import BatchNormalization\n",
    "from keras.utils import to_categorical\n",
    "from keras.wrappers.scikit_learn import KerasClassifier\n",
    "from keras import optimizers\n",
    "from keras.constraints import maxnorm\n",
    "from keras.callbacks import ModelCheckpoint, TensorBoard, EarlyStopping\n",
    "\n",
    "from keras.models import Sequential, Model, load_model\n",
    "from keras.layers import Activation, Dense, Dropout, Input\n",
    "from keras import backend as k\n",
    "\n",
    "k.tensorflow_backend.set_session(tf.Session(config=config))\n",
    "#k.tensorflow_backend.set_session(tf.Session(config=tf.ConfigProto(gpu_options=gpu_options))\n",
    "###################################"
   ]
  },
  {
   "cell_type": "code",
   "execution_count": 31,
   "metadata": {},
   "outputs": [],
   "source": [
    "#----------------------------------Import modules------------------------------\n",
    "import numpy as np\n",
    "import pandas as pd\n",
    "import matplotlib.pyplot as plt\n",
    "import seaborn as sns\n",
    "from sklearn.model_selection import train_test_split\n",
    "from sklearn.metrics import confusion_matrix,accuracy_score, roc_curve, auc\n",
    "from sklearn import preprocessing\n",
    "sns.set_style(\"whitegrid\")\n",
    "np.random.seed(23)\n",
    "import time\n",
    "from sklearn.decomposition import PCA\n",
    "from sklearn.model_selection import GridSearchCV\n",
    "import sklearn.metrics as sm\n",
    "from sklearn.model_selection import KFold\n",
    "from sklearn.model_selection import cross_val_predict\n",
    "from datetime import datetime \n",
    "import os.path\n",
    "\n",
    "dsnum=100\n",
    "verbose_level=1"
   ]
  },
  {
   "cell_type": "code",
   "execution_count": 32,
   "metadata": {},
   "outputs": [
    {
     "name": "stdout",
     "output_type": "stream",
     "text": [
      "Default GPU Device: /device:GPU:0\n"
     ]
    }
   ],
   "source": [
    "if tf.test.gpu_device_name():\n",
    "    print('Default GPU Device: {}'.format(tf.test.gpu_device_name()))\n",
    "else:\n",
    "    print(\"Please install GPU version of TF\")"
   ]
  },
  {
   "cell_type": "code",
   "execution_count": 33,
   "metadata": {},
   "outputs": [
    {
     "name": "stdout",
     "output_type": "stream",
     "text": [
      "/home/user/01Code/00Datasets_final/00BalancedDS/FullCloneID100bal_stdscal.csv\n"
     ]
    }
   ],
   "source": [
    "pathds = os.path.abspath('/home/user/01Code/00Datasets_final/00BalancedDS')\n",
    "file_name = \"FullCloneID\"+str(dsnum)+\"bal_stdscal.csv\"\n",
    "full_path = os.path.join(pathds,file_name)\n",
    "print(full_path)"
   ]
  },
  {
   "cell_type": "code",
   "execution_count": 34,
   "metadata": {},
   "outputs": [],
   "source": [
    "df = pd.read_csv(full_path)"
   ]
  },
  {
   "cell_type": "code",
   "execution_count": 35,
   "metadata": {},
   "outputs": [
    {
     "data": {
      "text/plain": [
       "(2078832, 211)"
      ]
     },
     "execution_count": 35,
     "metadata": {},
     "output_type": "execute_result"
    }
   ],
   "source": [
    "df.shape"
   ]
  },
  {
   "cell_type": "code",
   "execution_count": 36,
   "metadata": {},
   "outputs": [
    {
     "name": "stdout",
     "output_type": "stream",
     "text": [
      "210\n",
      "210\n"
     ]
    }
   ],
   "source": [
    "neurons=df.shape[1]-1\n",
    "batch_size=df.shape[1]-1\n",
    "print(neurons)\n",
    "print(batch_size)"
   ]
  },
  {
   "cell_type": "markdown",
   "metadata": {},
   "source": [
    "#### 4.2 Explaining the data"
   ]
  },
  {
   "cell_type": "code",
   "execution_count": 37,
   "metadata": {},
   "outputs": [
    {
     "name": "stdout",
     "output_type": "stream",
     "text": [
      "Class 0: 1039416\n",
      "Class 1: 1039416\n",
      "Proportion: 1.0 : 1\n"
     ]
    }
   ],
   "source": [
    "#if you don't have an intuitive sense of how imbalanced these two classes are, let's go visual\n",
    "count_classes = pd.value_counts(df['class'], sort = True)\n",
    "print('Class 0:', count_classes[0])\n",
    "print('Class 1:', count_classes[1])\n",
    "print('Proportion:', round(count_classes[0] / count_classes[1], 3), ': 1')"
   ]
  },
  {
   "cell_type": "code",
   "execution_count": 38,
   "metadata": {},
   "outputs": [
    {
     "data": {
      "image/png": "[encoded data removed]",
      "text/plain": [
       "<Figure size 432x288 with 1 Axes>"
      ]
     },
     "metadata": {},
     "output_type": "display_data"
    }
   ],
   "source": [
    "count_classes.plot(kind = 'bar', rot=0)\n",
    "plt.xticks(range(2), ['Normal [0]','Malicious [1]'])\n",
    "plt.title(\"Frequency by observation number\")\n",
    "plt.xlabel(\"Class\")\n",
    "plt.ylabel(\"Number of Observations\");"
   ]
  },
  {
   "cell_type": "code",
   "execution_count": 39,
   "metadata": {},
   "outputs": [],
   "source": [
    "#set random seed and percentage of test data\n",
    "RANDOM_SEED = 23 #used to help randomly select the data points\n",
    "TEST_PCT = 0.20 # 20% of the data"
   ]
  },
  {
   "cell_type": "code",
   "execution_count": 40,
   "metadata": {},
   "outputs": [],
   "source": [
    "train, test_df = train_test_split(df, test_size=TEST_PCT, random_state=RANDOM_SEED)"
   ]
  },
  {
   "cell_type": "markdown",
   "metadata": {},
   "source": [
    "+ df -> original dataset \n",
    "+ train -> subset of 80% from original dataset \n",
    "+ test_df -> subset of 20% from original dataset "
   ]
  },
  {
   "cell_type": "code",
   "execution_count": 41,
   "metadata": {},
   "outputs": [],
   "source": [
    "train_df, dev_df = train_test_split(train, test_size=TEST_PCT, random_state=RANDOM_SEED)"
   ]
  },
  {
   "cell_type": "markdown",
   "metadata": {},
   "source": [
    "+ train -> subset of 80% from original dataset \n",
    "+ train_df -> subset of 80% from train\n",
    "+ dev_df -> subset of 20% from train"
   ]
  },
  {
   "cell_type": "code",
   "execution_count": 42,
   "metadata": {},
   "outputs": [
    {
     "name": "stdout",
     "output_type": "stream",
     "text": [
      "0.49990228884619664\n",
      "0.500260061993969\n",
      "0.5001046259082611\n"
     ]
    }
   ],
   "source": [
    "# Check distribution of mal samples in train and test set\n",
    "print(train_df.iloc[:, batch_size].sum()/train_df.shape[0]) \n",
    "print(dev_df.iloc[:, batch_size].sum()/dev_df.shape[0]) \n",
    "print(test_df.iloc[:, batch_size].sum()/test_df.shape[0])"
   ]
  },
  {
   "cell_type": "code",
   "execution_count": 43,
   "metadata": {},
   "outputs": [],
   "source": [
    "train_x = train_df.iloc[:, :batch_size] \n",
    "dev_x = dev_df.iloc[:, :batch_size] \n",
    "test_x = test_df.iloc[:, :batch_size] "
   ]
  },
  {
   "cell_type": "markdown",
   "metadata": {},
   "source": [
    "+ train_x -> features of train_df **Training subset for AE**\n",
    "+ dev_x -> features of dev_df **Validation subset for AE**\n",
    "+ test_x -> features of test_df **Testing subset for ANN**"
   ]
  },
  {
   "cell_type": "code",
   "execution_count": 44,
   "metadata": {},
   "outputs": [],
   "source": [
    "# Define the final train and test sets\n",
    "train_y = train_df.iloc[:,batch_size]\n",
    "dev_y = dev_df.iloc[:,batch_size]\n",
    "test_y = test_df.iloc[:,batch_size]"
   ]
  },
  {
   "cell_type": "markdown",
   "metadata": {},
   "source": [
    "+ train_y -> **Labels for supervised training of ANN**\n",
    "+ dev_y -> labels of dev_df  *not used for AE neither ANN*\n",
    "+ test_y -> labels of test_df  **Ground Truth for predictions of supervised ANN**"
   ]
  },
  {
   "cell_type": "code",
   "execution_count": 45,
   "metadata": {},
   "outputs": [
    {
     "name": "stdout",
     "output_type": "stream",
     "text": [
      "210\n"
     ]
    }
   ],
   "source": [
    "train_x =np.array(train_x)\n",
    "dev_x =np.array(dev_x)\n",
    "test_x = np.array(test_x)\n",
    "\n",
    "train_y = np.array(train_y)\n",
    "dev_y = np.array(dev_y)\n",
    "test_y = np.array(test_y)\n",
    "\n",
    "print(train_x.shape[1])"
   ]
  },
  {
   "cell_type": "markdown",
   "metadata": {},
   "source": [
    "### Autoencoder Function"
   ]
  },
  {
   "cell_type": "code",
   "execution_count": 46,
   "metadata": {},
   "outputs": [],
   "source": [
    "def ae(factor_enc_dim, enc_activation, dec_activation, \n",
    "                optimizer, loss):\n",
    "\n",
    "    encoding_dim = int(int(train_x.shape[1])/factor_enc_dim)\n",
    "    ### Define input layer\n",
    "    input_data = Input(shape=(train_x.shape[1],))\n",
    "    ### Define encoding layer #RELU\n",
    "    encoded = Dense(encoding_dim, activation=enc_activation, name='encoded_bottle_neck')(input_data)\n",
    "    ### Define decoding layer #SIMOID\n",
    "    decoded = Dense(train_x.shape[1], activation=dec_activation)(encoded)\n",
    "    ### Create the autoencoder model\n",
    "    autoencoder = Model(input_data, decoded)\n",
    "    autoencoder.compile(optimizer=optimizer,\n",
    "                        loss=loss,\n",
    "                        metrics=['accuracy'])\n",
    "    \n",
    "    print(autoencoder.summary())\n",
    "    \n",
    "    encoder = Model(input_data, encoded)\n",
    "    encoded_train_x = encoder.predict(train_x)\n",
    "    encoded_test_x = encoder.predict(test_x)\n",
    "    \n",
    "    return autoencoder,encoded_train_x,encoded_test_x"
   ]
  },
  {
   "cell_type": "code",
   "execution_count": 47,
   "metadata": {},
   "outputs": [],
   "source": [
    "def spae(factor_enc_dim,dec_activation,enc_activation,\n",
    "         optimizer,loss):\n",
    "\n",
    "    encoding_dim = int(int(train_x.shape[1])/factor_enc_dim)\n",
    "    ### Define input layer\n",
    "    input_data = Input(shape=(train_x.shape[1],))\n",
    "    ### Define encoding layer\n",
    "    encoded = Dense(encoding_dim, activity_regularizer=regularizers.l1(1e-4), activation=enc_activation, name='encoded_bottle_neck')(input_data)\n",
    "    ### Define decoding layer\n",
    "    decoded = Dense(train_x.shape[1], activation=dec_activation)(encoded)\n",
    "    ### Create the autoencoder model\n",
    "    autoencoder = Model(input_data, decoded)\n",
    "    autoencoder.compile(optimizer=optimizer,\n",
    "                        loss=loss,\n",
    "                        metrics=['accuracy'])\n",
    "    \n",
    "    print(autoencoder.summary())\n",
    "    \n",
    "    encoder = Model(input_data, encoded)\n",
    "    encoded_train_x = encoder.predict(train_x)\n",
    "    encoded_test_x = encoder.predict(test_x)\n",
    "    \n",
    "    return autoencoder,encoded_train_x,encoded_test_x"
   ]
  },
  {
   "cell_type": "code",
   "execution_count": 48,
   "metadata": {},
   "outputs": [],
   "source": [
    "def to_pca(thr):\n",
    "    #train_x_pca,test_x_pca = to_pca(0.95)\n",
    "    pca = PCA(n_components = thr, svd_solver = 'full')\n",
    "    train_x_ = np.array(train_x)\n",
    "    print(type(train_x_))\n",
    "\n",
    "    test_x_ = np.array(test_x)\n",
    "    print(type(test_x_))\n",
    "    \n",
    "    start_time = time.time()\n",
    "    print(time.ctime(start_time))\n",
    "\n",
    "    train_x_pca = pca.fit_transform(train_x_)\n",
    "    print(train_x_pca.shape)\n",
    "\n",
    "    test_x_pca = pca.fit_transform(test_x_)\n",
    "    print(test_x_pca.shape)\n",
    "\n",
    "    elapsed_time = (time.time() - start_time)\n",
    "\n",
    "    print(\"--- PCA spent %s seconds ---\" %elapsed_time )\n",
    "    \n",
    "    return  train_x_pca,test_x_pca"
   ]
  },
  {
   "cell_type": "code",
   "execution_count": null,
   "metadata": {},
   "outputs": [],
   "source": []
  },
  {
   "cell_type": "code",
   "execution_count": 49,
   "metadata": {},
   "outputs": [],
   "source": [
    "def fit_ae(checkpoint_file, autoencoder,\n",
    "           epochs, batch_size, shuffle):\n",
    "    \n",
    "    early_stopping = EarlyStopping(monitor='val_loss', patience=5)\n",
    "\n",
    "    cp = ModelCheckpoint(filepath=checkpoint_file,\n",
    "                                   save_best_only=True,\n",
    "                                   verbose=verbose_level)\n",
    "\n",
    "    tb = TensorBoard(log_dir='./logs',\n",
    "                    histogram_freq=0,\n",
    "                    write_graph=True,\n",
    "                    write_images=True)\n",
    "\n",
    "    start_time = datetime.now()\n",
    "    print(datetime.ctime(start_time))\n",
    "\n",
    "    hist_auto = autoencoder.fit(train_x, train_x,\n",
    "                    epochs=epochs,\n",
    "                    batch_size=batch_size,\n",
    "                    shuffle=shuffle,\n",
    "                    verbose=verbose_level,\n",
    "                    callbacks=[early_stopping, cp, tb],\n",
    "                    validation_data=(dev_x, dev_x))\n",
    "\n",
    "    time_elapsed = datetime.now() - start_time \n",
    "    print(\"Time elapsed (hh:mm:ss.ms) {}\".format(time_elapsed))\n",
    "    \n",
    "    return hist_auto"
   ]
  },
  {
   "cell_type": "code",
   "execution_count": 50,
   "metadata": {},
   "outputs": [],
   "source": [
    "def plot_hist_auto(hist_auto, fig_file):\n",
    "    best_loss_value = hist_auto.history['loss'][-1]\n",
    "    print('Best loss value:', best_loss_value)\n",
    "\n",
    "    # Summarize history for loss\n",
    "    plt.figure()\n",
    "    plt.plot(hist_auto.history['loss'])\n",
    "    plt.plot(hist_auto.history['val_loss'])\n",
    "    plt.title('Model loss')\n",
    "    plt.ylabel('loss')\n",
    "    plt.xlabel('epoch')\n",
    "    plt.legend(['train', 'test'], loc='upper right')\n",
    "    plt.savefig(fig_file)\n",
    "    plt.show()\n",
    "    \n",
    "    return best_loss_value"
   ]
  },
  {
   "cell_type": "code",
   "execution_count": 51,
   "metadata": {},
   "outputs": [],
   "source": [
    "def ann_2h(neurons,encoded_train_x,init_mode,activation_input,\n",
    "               weight_constraint,dropout_rate,activation_output,\n",
    "               loss,optimizer):\n",
    "\n",
    "    # create model\n",
    "    model = Sequential()\n",
    "\n",
    "    model.add(Dense(neurons, input_dim=encoded_train_x.shape[1],\n",
    "                    kernel_initializer=init_mode,\n",
    "                    #kernel_regularizer=regularizers.l2(0.02), #from example\n",
    "                    activation=activation_input,\n",
    "                    kernel_constraint=maxnorm(weight_constraint)\n",
    "                    )\n",
    "              )\n",
    "\n",
    "#     #Hidden Layer\n",
    "    model.add(Dense(int(neurons-int(neurons/4)), activation=\"relu\", kernel_initializer=init_mode)) #rezvy\n",
    "\n",
    "    model.add(Dense(int(neurons-int((neurons/4)*2)), activation=\"relu\", kernel_initializer=init_mode)) #rezvy\n",
    "    model.add(BatchNormalization()) #commented for ex\n",
    "    model.add(Dropout(dropout_rate))\n",
    "    \n",
    "    model.add(Dense(1, activation=activation_output)) #example\n",
    "    \n",
    "    # Compile model\n",
    "    model.compile(loss=loss, \n",
    "                  optimizer=optimizer, \n",
    "                  metrics=['accuracy'])\n",
    "    \n",
    "    print(model.summary())\n",
    "    \n",
    "    return model"
   ]
  },
  {
   "cell_type": "code",
   "execution_count": 52,
   "metadata": {},
   "outputs": [],
   "source": [
    "def ann_2h_():\n",
    "\n",
    "    # create model\n",
    "    model = Sequential()\n",
    "\n",
    "    model.add(Dense(neurons, input_dim=input_dim,\n",
    "                    kernel_initializer=init_mode,\n",
    "                    #kernel_regularizer=regularizers.l2(0.02), #from example\n",
    "                    activation=activation_input,\n",
    "                    kernel_constraint=maxnorm(weight_constraint)\n",
    "                    )\n",
    "              )\n",
    "\n",
    "#     #Hidden Layer\n",
    "    model.add(Dense(int(neurons-int(neurons/4)), activation=\"relu\", kernel_initializer=init_mode)) #rezvy\n",
    "\n",
    "    model.add(Dense(int(neurons-int((neurons/4)*2)), activation=\"relu\", kernel_initializer=init_mode)) #rezvy\n",
    "    model.add(BatchNormalization()) #commented for ex\n",
    "    model.add(Dropout(dropout_rate))\n",
    "    \n",
    "    model.add(Dense(1, activation=activation_output)) #example\n",
    "    \n",
    "    # Compile model\n",
    "    model.compile(loss=loss, \n",
    "                  optimizer=optimizer, \n",
    "                  metrics=['accuracy'])\n",
    "    \n",
    "    print(model.summary())\n",
    "    \n",
    "    return model"
   ]
  },
  {
   "cell_type": "code",
   "execution_count": 53,
   "metadata": {},
   "outputs": [],
   "source": [
    "def ann_fit(checkpoint_file,ann,enc_train_x,train_y,epochs,shuffle,batch_size):\n",
    "    early_stopping = EarlyStopping(monitor='val_loss', patience=5)\n",
    "\n",
    "    cp = ModelCheckpoint(filepath=checkpoint_file,\n",
    "                                   save_best_only=True,\n",
    "                                   verbose=verbose_level)\n",
    "\n",
    "    tb = TensorBoard(log_dir='./logs',\n",
    "                    histogram_freq=0,\n",
    "                    write_graph=True,\n",
    "                    write_images=True)\n",
    "\n",
    "    start_time = datetime.now()\n",
    "    print(datetime.ctime(start_time))\n",
    "\n",
    "    history = ann.fit(enc_train_x,\n",
    "                      train_y,\n",
    "                      validation_split=0.2,\n",
    "                      callbacks=[early_stopping, cp, tb],\n",
    "                      epochs=epochs,\n",
    "                      shuffle=shuffle,\n",
    "                      batch_size=batch_size,\n",
    "                      verbose=verbose_level)\n",
    "\n",
    "    time_elapsed = datetime.now() - start_time \n",
    "    print(\"Time elapsed (hh:mm:ss.ms) {}\".format(time_elapsed))\n",
    "\n",
    "    return history"
   ]
  },
  {
   "cell_type": "code",
   "execution_count": 54,
   "metadata": {},
   "outputs": [],
   "source": [
    "def ann_predict(ann,enc_test_x):\n",
    "    pred_ann_prob = ann.predict(enc_test_x)\n",
    "    pred_ann_prob.shape\n",
    "    pred_ann_prob = pred_ann_prob[:,0]\n",
    "    pred_ann_01 = np.where(pred_ann_prob > 0.5, 1, 0)\n",
    "    \n",
    "    #Print accuracy\n",
    "    acc_ann = accuracy_score(test_y, pred_ann_01)\n",
    "    print('Overall accuracy of Neural Network model:', acc_ann)\n",
    "\n",
    "    classiBM = \"NN\"\n",
    "    preBM = (sm.precision_score(test_y, pred_ann_01)*100) \n",
    "    recallBM = (sm.recall_score(test_y, pred_ann_01)*100) \n",
    "    f1scoreBM = (sm.f1_score(test_y, pred_ann_01)*100)\n",
    "    print(sm.classification_report(test_y, pred_ann_01,digits=4))\n",
    "    \n",
    "    return pred_ann_prob, pred_ann_01"
   ]
  },
  {
   "cell_type": "code",
   "execution_count": 55,
   "metadata": {},
   "outputs": [],
   "source": [
    "def ann_predict_():\n",
    "    early_stopping = EarlyStopping(monitor='loss', patience=10)\n",
    "\n",
    "    start_time = datetime.now()\n",
    "    print(datetime.ctime(start_time))  \n",
    "\n",
    "    modelk = KerasClassifier(build_fn=ann_2h_,\n",
    "                             epochs=epochs, \n",
    "                             batch_size=batch_size, \n",
    "                             verbose=verbose_level\n",
    "                            )\n",
    "\n",
    "    pred_ann_prob = cross_val_predict(modelk,\n",
    "                                      enc_test_x,\n",
    "                                      test_y,\n",
    "                                      cv=KFold(n_splits=5, random_state=23),\n",
    "                                      verbose=1)\n",
    "\n",
    "    time_elapsed = datetime.now() - start_time \n",
    "    print(\"Time elapsed (hh:mm:ss.ms) {}\".format(time_elapsed))\n",
    "\n",
    "    pred_ann_prob.shape\n",
    "    pred_ann_prob = pred_ann_prob[:,0]\n",
    "    pred_ann_01 = np.where(pred_ann_prob > 0.5, 1, 0)\n",
    "\n",
    "    #Print accuracy\n",
    "    acc_ann = accuracy_score(test_y, pred_ann_01)\n",
    "    print('Overall accuracy of Neural Network model:', acc_ann)\n",
    "\n",
    "    classiBM = \"NN\"\n",
    "    preBM = (sm.precision_score(test_y, pred_ann_01)*100) \n",
    "    recallBM = (sm.recall_score(test_y, pred_ann_01)*100) \n",
    "    f1scoreBM = (sm.f1_score(test_y, pred_ann_01)*100)\n",
    "    print(sm.classification_report(test_y, pred_ann_01,digits=4))\n",
    "    \n",
    "    return pred_ann_prob,pred_ann_01"
   ]
  },
  {
   "cell_type": "code",
   "execution_count": 56,
   "metadata": {},
   "outputs": [],
   "source": [
    "def plot_roc_cm(pred_ann_prob, pred_ann_01, roc_file, cm_file):\n",
    "    false_positive_rate, recall, thresholds = roc_curve(test_y, pred_ann_prob)\n",
    "    roc_auc = auc(false_positive_rate, recall)\n",
    "    plt.figure()\n",
    "    plt.title('Receiver Operating Characteristic (ROC)')\n",
    "    plt.plot(false_positive_rate, recall, 'b', label = 'AUC = %0.3f' %roc_auc)\n",
    "    plt.legend(loc='lower right')\n",
    "    plt.plot([0,1], [0,1], 'r--')\n",
    "    plt.xlim([0.0,1.0])\n",
    "    plt.ylim([0.0,1.0])\n",
    "    plt.ylabel('Recall')\n",
    "    plt.xlabel('Fall-out (1-Specificity)')\n",
    "    plt.savefig(roc_file)\n",
    "    plt.show()\n",
    "    \n",
    "    cm = confusion_matrix(test_y, pred_ann_01)\n",
    "    labels = ['Normal', 'Malicious']\n",
    "    plt.figure(figsize=(8,6))\n",
    "    sns.heatmap(cm,xticklabels=labels, yticklabels=labels, annot=True, fmt='d', cmap=\"RdYlGn\", vmin = 0.2);\n",
    "    plt.title('Confusion Matrix')\n",
    "    plt.ylabel('True Class')\n",
    "    plt.xlabel('Predicted Class')\n",
    "    plt.savefig(cm_file)\n",
    "    plt.show()"
   ]
  },
  {
   "cell_type": "code",
   "execution_count": null,
   "metadata": {},
   "outputs": [],
   "source": []
  },
  {
   "cell_type": "markdown",
   "metadata": {},
   "source": [
    "### **---------- PCA Dimensionality reduction ----------**"
   ]
  },
  {
   "cell_type": "code",
   "execution_count": 57,
   "metadata": {},
   "outputs": [
    {
     "name": "stdout",
     "output_type": "stream",
     "text": [
      "<class 'numpy.ndarray'>\n",
      "<class 'numpy.ndarray'>\n",
      "Tue Jul 16 14:50:45 2019\n",
      "(1330452, 55)\n",
      "(415767, 55)\n",
      "--- PCA spent 97.33073353767395 seconds ---\n"
     ]
    }
   ],
   "source": [
    "train_x_pca,test_x_pca = to_pca(0.95)"
   ]
  },
  {
   "cell_type": "markdown",
   "metadata": {},
   "source": [
    "### **---------- AE Dimensionality reduction ----------**"
   ]
  },
  {
   "cell_type": "code",
   "execution_count": 58,
   "metadata": {},
   "outputs": [
    {
     "name": "stdout",
     "output_type": "stream",
     "text": [
      "WARNING:tensorflow:From /home/user/anaconda3/envs/deepl/lib/python3.6/site-packages/tensorflow/python/framework/op_def_library.py:263: colocate_with (from tensorflow.python.framework.ops) is deprecated and will be removed in a future version.\n",
      "Instructions for updating:\n",
      "Colocations handled automatically by placer.\n",
      "_________________________________________________________________\n",
      "Layer (type)                 Output Shape              Param #   \n",
      "=================================================================\n",
      "input_1 (InputLayer)         (None, 210)               0         \n",
      "_________________________________________________________________\n",
      "encoded_bottle_neck (Dense)  (None, 140)               29540     \n",
      "_________________________________________________________________\n",
      "dense_1 (Dense)              (None, 210)               29610     \n",
      "=================================================================\n",
      "Total params: 59,150\n",
      "Trainable params: 59,150\n",
      "Non-trainable params: 0\n",
      "_________________________________________________________________\n",
      "None\n"
     ]
    }
   ],
   "source": [
    "ae_sigmoid_adam_mse,enc_train_x_asam,enc_test_x_asam = ae(factor_enc_dim = 1.5,\n",
    "                                                          enc_activation = 'relu',\n",
    "                                                          dec_activation = 'sigmoid',\n",
    "                                                          optimizer='Adam',\n",
    "                                                          loss='mean_squared_error')"
   ]
  },
  {
   "cell_type": "code",
   "execution_count": 59,
   "metadata": {},
   "outputs": [],
   "source": [
    "#ae_sigmoid_adam_mse = load_model('ae_sigmoid_adam_mse_redds10bal.h5')"
   ]
  },
  {
   "cell_type": "code",
   "execution_count": 60,
   "metadata": {},
   "outputs": [
    {
     "name": "stdout",
     "output_type": "stream",
     "text": [
      "Tue Jul 16 14:52:45 2019\n",
      "WARNING:tensorflow:From /home/user/anaconda3/envs/deepl/lib/python3.6/site-packages/tensorflow/python/ops/math_ops.py:3066: to_int32 (from tensorflow.python.ops.math_ops) is deprecated and will be removed in a future version.\n",
      "Instructions for updating:\n",
      "Use tf.cast instead.\n",
      "Train on 1330452 samples, validate on 332613 samples\n",
      "Epoch 1/200\n",
      "1330452/1330452 [==============================] - 14s 11us/step - loss: 0.0533 - acc: 0.3265 - val_loss: 0.0512 - val_acc: 0.2283\n",
      "\n",
      "Epoch 00001: val_loss improved from inf to 0.05117, saving model to ./H5files/ae_sigmoid_adam_mse_redds100bal.h5\n",
      "Epoch 2/200\n",
      "1330452/1330452 [==============================] - 14s 11us/step - loss: 0.0493 - acc: 0.2538 - val_loss: 0.0510 - val_acc: 0.2368\n",
      "\n",
      "Epoch 00002: val_loss improved from 0.05117 to 0.05102, saving model to ./H5files/ae_sigmoid_adam_mse_redds100bal.h5\n",
      "Epoch 3/200\n",
      "1330452/1330452 [==============================] - 14s 11us/step - loss: 0.0492 - acc: 0.1764 - val_loss: 0.0510 - val_acc: 0.1724\n",
      "\n",
      "Epoch 00003: val_loss improved from 0.05102 to 0.05100, saving model to ./H5files/ae_sigmoid_adam_mse_redds100bal.h5\n",
      "Epoch 4/200\n",
      "1330452/1330452 [==============================] - 14s 11us/step - loss: 0.0492 - acc: 0.1369 - val_loss: 0.0510 - val_acc: 0.1831\n",
      "\n",
      "Epoch 00004: val_loss improved from 0.05100 to 0.05098, saving model to ./H5files/ae_sigmoid_adam_mse_redds100bal.h5\n",
      "Epoch 5/200\n",
      "1330452/1330452 [==============================] - 15s 11us/step - loss: 0.0492 - acc: 0.1366 - val_loss: 0.0510 - val_acc: 0.1374\n",
      "\n",
      "Epoch 00005: val_loss improved from 0.05098 to 0.05098, saving model to ./H5files/ae_sigmoid_adam_mse_redds100bal.h5\n",
      "Epoch 6/200\n",
      "1330452/1330452 [==============================] - 15s 11us/step - loss: 0.0492 - acc: 0.1284 - val_loss: 0.0510 - val_acc: 0.0864\n",
      "\n",
      "Epoch 00006: val_loss improved from 0.05098 to 0.05098, saving model to ./H5files/ae_sigmoid_adam_mse_redds100bal.h5\n",
      "Epoch 7/200\n",
      "1330452/1330452 [==============================] - 15s 11us/step - loss: 0.0492 - acc: 0.0709 - val_loss: 0.0510 - val_acc: 0.1244\n",
      "\n",
      "Epoch 00007: val_loss improved from 0.05098 to 0.05098, saving model to ./H5files/ae_sigmoid_adam_mse_redds100bal.h5\n",
      "Epoch 8/200\n",
      "1330452/1330452 [==============================] - 15s 11us/step - loss: 0.0492 - acc: 0.1018 - val_loss: 0.0510 - val_acc: 0.1030\n",
      "\n",
      "Epoch 00008: val_loss did not improve from 0.05098\n",
      "Epoch 9/200\n",
      "1330452/1330452 [==============================] - 15s 11us/step - loss: 0.0492 - acc: 0.1028 - val_loss: 0.0510 - val_acc: 0.0945\n",
      "\n",
      "Epoch 00009: val_loss did not improve from 0.05098\n",
      "Epoch 10/200\n",
      "1330452/1330452 [==============================] - 15s 11us/step - loss: 0.0492 - acc: 0.0922 - val_loss: 0.0510 - val_acc: 0.0871\n",
      "\n",
      "Epoch 00010: val_loss improved from 0.05098 to 0.05098, saving model to ./H5files/ae_sigmoid_adam_mse_redds100bal.h5\n",
      "Epoch 11/200\n",
      "1330452/1330452 [==============================] - 15s 11us/step - loss: 0.0492 - acc: 0.0924 - val_loss: 0.0510 - val_acc: 0.0902\n",
      "\n",
      "Epoch 00011: val_loss improved from 0.05098 to 0.05098, saving model to ./H5files/ae_sigmoid_adam_mse_redds100bal.h5\n",
      "Epoch 12/200\n",
      "1330452/1330452 [==============================] - 15s 11us/step - loss: 0.0492 - acc: 0.0914 - val_loss: 0.0510 - val_acc: 0.0962\n",
      "\n",
      "Epoch 00012: val_loss improved from 0.05098 to 0.05098, saving model to ./H5files/ae_sigmoid_adam_mse_redds100bal.h5\n",
      "Epoch 13/200\n",
      "1330452/1330452 [==============================] - 15s 11us/step - loss: 0.0492 - acc: 0.0925 - val_loss: 0.0510 - val_acc: 0.0891\n",
      "\n",
      "Epoch 00013: val_loss did not improve from 0.05098\n",
      "Epoch 14/200\n",
      "1330452/1330452 [==============================] - 15s 11us/step - loss: 0.0492 - acc: 0.0896 - val_loss: 0.0510 - val_acc: 0.0871\n",
      "\n",
      "Epoch 00014: val_loss improved from 0.05098 to 0.05098, saving model to ./H5files/ae_sigmoid_adam_mse_redds100bal.h5\n",
      "Epoch 15/200\n",
      "1330452/1330452 [==============================] - 15s 11us/step - loss: 0.0492 - acc: 0.0872 - val_loss: 0.0510 - val_acc: 0.0873\n",
      "\n",
      "Epoch 00015: val_loss did not improve from 0.05098\n",
      "Epoch 16/200\n",
      "1330452/1330452 [==============================] - 15s 11us/step - loss: 0.0492 - acc: 0.0883 - val_loss: 0.0510 - val_acc: 0.0862\n",
      "\n",
      "Epoch 00016: val_loss improved from 0.05098 to 0.05098, saving model to ./H5files/ae_sigmoid_adam_mse_redds100bal.h5\n",
      "Epoch 17/200\n",
      "1330452/1330452 [==============================] - 15s 11us/step - loss: 0.0492 - acc: 0.0869 - val_loss: 0.0510 - val_acc: 0.0862\n",
      "\n",
      "Epoch 00017: val_loss did not improve from 0.05098\n",
      "Epoch 18/200\n",
      "1330452/1330452 [==============================] - 15s 11us/step - loss: 0.0492 - acc: 0.0860 - val_loss: 0.0510 - val_acc: 0.0862\n",
      "\n",
      "Epoch 00018: val_loss did not improve from 0.05098\n",
      "Epoch 19/200\n",
      "1330452/1330452 [==============================] - 15s 11us/step - loss: 0.0492 - acc: 0.0877 - val_loss: 0.0510 - val_acc: 0.0855\n",
      "\n",
      "Epoch 00019: val_loss improved from 0.05098 to 0.05098, saving model to ./H5files/ae_sigmoid_adam_mse_redds100bal.h5\n",
      "Epoch 20/200\n",
      "1330452/1330452 [==============================] - 15s 11us/step - loss: 0.0492 - acc: 0.0857 - val_loss: 0.0510 - val_acc: 0.0863\n",
      "\n",
      "Epoch 00020: val_loss improved from 0.05098 to 0.05097, saving model to ./H5files/ae_sigmoid_adam_mse_redds100bal.h5\n",
      "Epoch 21/200\n",
      "1330452/1330452 [==============================] - 15s 11us/step - loss: 0.0492 - acc: 0.0848 - val_loss: 0.0510 - val_acc: 0.0854\n",
      "\n",
      "Epoch 00021: val_loss improved from 0.05097 to 0.05097, saving model to ./H5files/ae_sigmoid_adam_mse_redds100bal.h5\n",
      "Epoch 22/200\n",
      "1330452/1330452 [==============================] - 15s 11us/step - loss: 0.0492 - acc: 0.0854 - val_loss: 0.0510 - val_acc: 0.0863\n",
      "\n",
      "Epoch 00022: val_loss improved from 0.05097 to 0.05097, saving model to ./H5files/ae_sigmoid_adam_mse_redds100bal.h5\n",
      "Epoch 23/200\n",
      "1330452/1330452 [==============================] - 15s 11us/step - loss: 0.0492 - acc: 0.0873 - val_loss: 0.0510 - val_acc: 0.1034\n",
      "\n",
      "Epoch 00023: val_loss improved from 0.05097 to 0.05097, saving model to ./H5files/ae_sigmoid_adam_mse_redds100bal.h5\n",
      "Epoch 24/200\n",
      "1330452/1330452 [==============================] - 15s 11us/step - loss: 0.0492 - acc: 0.0923 - val_loss: 0.0510 - val_acc: 0.0951\n",
      "\n",
      "Epoch 00024: val_loss did not improve from 0.05097\n",
      "Epoch 25/200\n",
      "1330452/1330452 [==============================] - 14s 11us/step - loss: 0.0492 - acc: 0.0922 - val_loss: 0.0510 - val_acc: 0.0868\n",
      "\n",
      "Epoch 00025: val_loss did not improve from 0.05097\n",
      "Epoch 26/200\n",
      "1330452/1330452 [==============================] - 15s 11us/step - loss: 0.0492 - acc: 0.0874 - val_loss: 0.0510 - val_acc: 0.0884\n",
      "\n",
      "Epoch 00026: val_loss improved from 0.05097 to 0.05097, saving model to ./H5files/ae_sigmoid_adam_mse_redds100bal.h5\n",
      "Epoch 27/200\n",
      "1330452/1330452 [==============================] - 15s 11us/step - loss: 0.0492 - acc: 0.0893 - val_loss: 0.0510 - val_acc: 0.0873\n",
      "\n",
      "Epoch 00027: val_loss improved from 0.05097 to 0.05097, saving model to ./H5files/ae_sigmoid_adam_mse_redds100bal.h5\n",
      "Epoch 28/200\n",
      "1330452/1330452 [==============================] - 14s 11us/step - loss: 0.0492 - acc: 0.0890 - val_loss: 0.0510 - val_acc: 0.0898\n",
      "\n",
      "Epoch 00028: val_loss did not improve from 0.05097\n",
      "Epoch 29/200\n",
      "1330452/1330452 [==============================] - 15s 11us/step - loss: 0.0492 - acc: 0.0872 - val_loss: 0.0510 - val_acc: 0.0859\n",
      "\n",
      "Epoch 00029: val_loss did not improve from 0.05097\n",
      "Epoch 30/200\n",
      "1330452/1330452 [==============================] - 15s 11us/step - loss: 0.0492 - acc: 0.0875 - val_loss: 0.0510 - val_acc: 0.0845\n",
      "\n",
      "Epoch 00030: val_loss did not improve from 0.05097\n",
      "Epoch 31/200\n",
      "1330452/1330452 [==============================] - 14s 11us/step - loss: 0.0492 - acc: 0.0893 - val_loss: 0.0510 - val_acc: 0.0912\n",
      "\n",
      "Epoch 00031: val_loss improved from 0.05097 to 0.05097, saving model to ./H5files/ae_sigmoid_adam_mse_redds100bal.h5\n",
      "Epoch 32/200\n",
      "1330452/1330452 [==============================] - 14s 11us/step - loss: 0.0492 - acc: 0.0918 - val_loss: 0.0510 - val_acc: 0.0954\n",
      "\n",
      "Epoch 00032: val_loss did not improve from 0.05097\n",
      "Epoch 33/200\n",
      "1330452/1330452 [==============================] - 14s 11us/step - loss: 0.0492 - acc: 0.0956 - val_loss: 0.0510 - val_acc: 0.0944\n",
      "\n",
      "Epoch 00033: val_loss improved from 0.05097 to 0.05097, saving model to ./H5files/ae_sigmoid_adam_mse_redds100bal.h5\n",
      "Epoch 34/200\n",
      "1330452/1330452 [==============================] - 14s 11us/step - loss: 0.0492 - acc: 0.1012 - val_loss: 0.0510 - val_acc: 0.0957\n",
      "\n",
      "Epoch 00034: val_loss did not improve from 0.05097\n",
      "Epoch 35/200\n",
      "1330452/1330452 [==============================] - 14s 11us/step - loss: 0.0492 - acc: 0.0988 - val_loss: 0.0510 - val_acc: 0.1045\n",
      "\n",
      "Epoch 00035: val_loss did not improve from 0.05097\n",
      "Epoch 36/200\n",
      "1330452/1330452 [==============================] - 14s 11us/step - loss: 0.0492 - acc: 0.1033 - val_loss: 0.0510 - val_acc: 0.1012\n",
      "\n",
      "Epoch 00036: val_loss did not improve from 0.05097\n",
      "Epoch 37/200\n",
      "1330452/1330452 [==============================] - 14s 11us/step - loss: 0.0492 - acc: 0.1013 - val_loss: 0.0510 - val_acc: 0.0992\n",
      "\n",
      "Epoch 00037: val_loss improved from 0.05097 to 0.05097, saving model to ./H5files/ae_sigmoid_adam_mse_redds100bal.h5\n",
      "Epoch 38/200\n",
      "1330452/1330452 [==============================] - 14s 10us/step - loss: 0.0492 - acc: 0.0981 - val_loss: 0.0510 - val_acc: 0.0955\n",
      "\n",
      "Epoch 00038: val_loss did not improve from 0.05097\n",
      "Epoch 39/200\n",
      "1330452/1330452 [==============================] - 14s 11us/step - loss: 0.0492 - acc: 0.1080 - val_loss: 0.0510 - val_acc: 0.1115\n",
      "\n",
      "Epoch 00039: val_loss did not improve from 0.05097\n",
      "Epoch 40/200\n",
      "1330452/1330452 [==============================] - 14s 11us/step - loss: 0.0492 - acc: 0.1156 - val_loss: 0.0510 - val_acc: 0.1173\n",
      "\n",
      "Epoch 00040: val_loss did not improve from 0.05097\n",
      "Epoch 41/200\n",
      "1330452/1330452 [==============================] - 14s 11us/step - loss: 0.0492 - acc: 0.1091 - val_loss: 0.0510 - val_acc: 0.1310\n",
      "\n",
      "Epoch 00041: val_loss improved from 0.05097 to 0.05097, saving model to ./H5files/ae_sigmoid_adam_mse_redds100bal.h5\n",
      "Epoch 42/200\n",
      "1330452/1330452 [==============================] - 14s 11us/step - loss: 0.0492 - acc: 0.1237 - val_loss: 0.0510 - val_acc: 0.1102\n",
      "\n",
      "Epoch 00042: val_loss did not improve from 0.05097\n",
      "Epoch 43/200\n",
      "1330452/1330452 [==============================] - 14s 11us/step - loss: 0.0492 - acc: 0.1080 - val_loss: 0.0510 - val_acc: 0.0996\n",
      "\n",
      "Epoch 00043: val_loss improved from 0.05097 to 0.05097, saving model to ./H5files/ae_sigmoid_adam_mse_redds100bal.h5\n",
      "Epoch 44/200\n",
      "1330452/1330452 [==============================] - 14s 11us/step - loss: 0.0492 - acc: 0.1044 - val_loss: 0.0510 - val_acc: 0.1170\n",
      "\n",
      "Epoch 00044: val_loss improved from 0.05097 to 0.05097, saving model to ./H5files/ae_sigmoid_adam_mse_redds100bal.h5\n",
      "Epoch 45/200\n",
      "1330452/1330452 [==============================] - 14s 11us/step - loss: 0.0492 - acc: 0.1128 - val_loss: 0.0510 - val_acc: 0.1084\n",
      "\n",
      "Epoch 00045: val_loss did not improve from 0.05097\n",
      "Epoch 46/200\n",
      "1330452/1330452 [==============================] - 14s 11us/step - loss: 0.0492 - acc: 0.1101 - val_loss: 0.0510 - val_acc: 0.1085\n",
      "\n",
      "Epoch 00046: val_loss did not improve from 0.05097\n",
      "Epoch 47/200\n",
      "1330452/1330452 [==============================] - 14s 11us/step - loss: 0.0492 - acc: 0.1112 - val_loss: 0.0510 - val_acc: 0.1228\n",
      "\n",
      "Epoch 00047: val_loss improved from 0.05097 to 0.05097, saving model to ./H5files/ae_sigmoid_adam_mse_redds100bal.h5\n",
      "Epoch 48/200\n",
      "1330452/1330452 [==============================] - 14s 11us/step - loss: 0.0492 - acc: 0.1215 - val_loss: 0.0510 - val_acc: 0.1107\n",
      "\n",
      "Epoch 00048: val_loss did not improve from 0.05097\n",
      "Epoch 49/200\n",
      "1330452/1330452 [==============================] - 14s 11us/step - loss: 0.0492 - acc: 0.1208 - val_loss: 0.0510 - val_acc: 0.1227\n",
      "\n",
      "Epoch 00049: val_loss improved from 0.05097 to 0.05097, saving model to ./H5files/ae_sigmoid_adam_mse_redds100bal.h5\n",
      "Epoch 50/200\n",
      "1330452/1330452 [==============================] - 14s 11us/step - loss: 0.0492 - acc: 0.1399 - val_loss: 0.0510 - val_acc: 0.1342\n",
      "\n",
      "Epoch 00050: val_loss did not improve from 0.05097\n",
      "Epoch 51/200\n",
      "1330452/1330452 [==============================] - 14s 11us/step - loss: 0.0492 - acc: 0.1274 - val_loss: 0.0510 - val_acc: 0.1278\n",
      "\n",
      "Epoch 00051: val_loss improved from 0.05097 to 0.05097, saving model to ./H5files/ae_sigmoid_adam_mse_redds100bal.h5\n",
      "Epoch 52/200\n",
      "1330452/1330452 [==============================] - 14s 11us/step - loss: 0.0492 - acc: 0.1379 - val_loss: 0.0510 - val_acc: 0.1390\n",
      "\n",
      "Epoch 00052: val_loss improved from 0.05097 to 0.05097, saving model to ./H5files/ae_sigmoid_adam_mse_redds100bal.h5\n",
      "Epoch 53/200\n",
      "1330452/1330452 [==============================] - 14s 11us/step - loss: 0.0492 - acc: 0.1473 - val_loss: 0.0510 - val_acc: 0.1418\n",
      "\n",
      "Epoch 00053: val_loss improved from 0.05097 to 0.05097, saving model to ./H5files/ae_sigmoid_adam_mse_redds100bal.h5\n",
      "Epoch 54/200\n",
      "1330452/1330452 [==============================] - 14s 11us/step - loss: 0.0492 - acc: 0.1451 - val_loss: 0.0510 - val_acc: 0.1440\n",
      "\n",
      "Epoch 00054: val_loss improved from 0.05097 to 0.05097, saving model to ./H5files/ae_sigmoid_adam_mse_redds100bal.h5\n",
      "Epoch 55/200\n",
      "1330452/1330452 [==============================] - 14s 11us/step - loss: 0.0492 - acc: 0.1380 - val_loss: 0.0510 - val_acc: 0.1392\n",
      "\n",
      "Epoch 00055: val_loss did not improve from 0.05097\n",
      "Epoch 56/200\n",
      "1330452/1330452 [==============================] - 14s 11us/step - loss: 0.0492 - acc: 0.1556 - val_loss: 0.0510 - val_acc: 0.1540\n",
      "\n",
      "Epoch 00056: val_loss did not improve from 0.05097\n",
      "Epoch 57/200\n",
      "1330452/1330452 [==============================] - 14s 11us/step - loss: 0.0492 - acc: 0.1423 - val_loss: 0.0510 - val_acc: 0.1393\n",
      "\n",
      "Epoch 00057: val_loss improved from 0.05097 to 0.05097, saving model to ./H5files/ae_sigmoid_adam_mse_redds100bal.h5\n",
      "Epoch 58/200\n",
      "1330452/1330452 [==============================] - 14s 11us/step - loss: 0.0492 - acc: 0.1362 - val_loss: 0.0510 - val_acc: 0.1335\n",
      "\n",
      "Epoch 00058: val_loss improved from 0.05097 to 0.05097, saving model to ./H5files/ae_sigmoid_adam_mse_redds100bal.h5\n",
      "Epoch 59/200\n",
      "1330452/1330452 [==============================] - 14s 10us/step - loss: 0.0492 - acc: 0.1371 - val_loss: 0.0510 - val_acc: 0.1448\n",
      "\n",
      "Epoch 00059: val_loss did not improve from 0.05097\n",
      "Epoch 60/200\n",
      "1330452/1330452 [==============================] - 14s 10us/step - loss: 0.0492 - acc: 0.1498 - val_loss: 0.0510 - val_acc: 0.1431\n",
      "\n",
      "Epoch 00060: val_loss improved from 0.05097 to 0.05097, saving model to ./H5files/ae_sigmoid_adam_mse_redds100bal.h5\n",
      "Epoch 61/200\n",
      "1330452/1330452 [==============================] - 14s 10us/step - loss: 0.0492 - acc: 0.1364 - val_loss: 0.0510 - val_acc: 0.1508\n",
      "\n",
      "Epoch 00061: val_loss improved from 0.05097 to 0.05097, saving model to ./H5files/ae_sigmoid_adam_mse_redds100bal.h5\n",
      "Epoch 62/200\n",
      "1330452/1330452 [==============================] - 14s 10us/step - loss: 0.0492 - acc: 0.1471 - val_loss: 0.0510 - val_acc: 0.1502\n",
      "\n",
      "Epoch 00062: val_loss did not improve from 0.05097\n",
      "Epoch 63/200\n",
      "1330452/1330452 [==============================] - 14s 10us/step - loss: 0.0492 - acc: 0.1259 - val_loss: 0.0510 - val_acc: 0.1345\n",
      "\n",
      "Epoch 00063: val_loss did not improve from 0.05097\n",
      "Epoch 64/200\n",
      "1330452/1330452 [==============================] - 14s 10us/step - loss: 0.0492 - acc: 0.1160 - val_loss: 0.0510 - val_acc: 0.1165\n",
      "\n",
      "Epoch 00064: val_loss improved from 0.05097 to 0.05097, saving model to ./H5files/ae_sigmoid_adam_mse_redds100bal.h5\n",
      "Epoch 65/200\n",
      "1330452/1330452 [==============================] - 14s 10us/step - loss: 0.0492 - acc: 0.1132 - val_loss: 0.0510 - val_acc: 0.1144\n",
      "\n",
      "Epoch 00065: val_loss did not improve from 0.05097\n",
      "Epoch 66/200\n",
      "1330452/1330452 [==============================] - 14s 10us/step - loss: 0.0492 - acc: 0.1347 - val_loss: 0.0510 - val_acc: 0.1295\n",
      "\n",
      "Epoch 00066: val_loss did not improve from 0.05097\n",
      "Epoch 67/200\n",
      "1330452/1330452 [==============================] - 13s 10us/step - loss: 0.0492 - acc: 0.0995 - val_loss: 0.0510 - val_acc: 0.0994\n",
      "\n",
      "Epoch 00067: val_loss did not improve from 0.05097\n",
      "Epoch 68/200\n",
      "1330452/1330452 [==============================] - 13s 10us/step - loss: 0.0492 - acc: 0.1132 - val_loss: 0.0510 - val_acc: 0.1150\n",
      "\n",
      "Epoch 00068: val_loss improved from 0.05097 to 0.05097, saving model to ./H5files/ae_sigmoid_adam_mse_redds100bal.h5\n",
      "Epoch 69/200\n",
      "1330452/1330452 [==============================] - 13s 10us/step - loss: 0.0492 - acc: 0.1249 - val_loss: 0.0510 - val_acc: 0.1252\n",
      "\n",
      "Epoch 00069: val_loss did not improve from 0.05097\n",
      "Epoch 70/200\n",
      "1330452/1330452 [==============================] - 14s 11us/step - loss: 0.0492 - acc: 0.1172 - val_loss: 0.0510 - val_acc: 0.1138\n",
      "\n",
      "Epoch 00070: val_loss improved from 0.05097 to 0.05097, saving model to ./H5files/ae_sigmoid_adam_mse_redds100bal.h5\n",
      "Epoch 71/200\n",
      "1330452/1330452 [==============================] - 13s 10us/step - loss: 0.0492 - acc: 0.1075 - val_loss: 0.0510 - val_acc: 0.1009\n",
      "\n",
      "Epoch 00071: val_loss improved from 0.05097 to 0.05097, saving model to ./H5files/ae_sigmoid_adam_mse_redds100bal.h5\n",
      "Epoch 72/200\n",
      "1330452/1330452 [==============================] - 13s 10us/step - loss: 0.0492 - acc: 0.1021 - val_loss: 0.0510 - val_acc: 0.1087\n",
      "\n",
      "Epoch 00072: val_loss improved from 0.05097 to 0.05096, saving model to ./H5files/ae_sigmoid_adam_mse_redds100bal.h5\n",
      "Epoch 73/200\n",
      "1330452/1330452 [==============================] - 13s 10us/step - loss: 0.0492 - acc: 0.1056 - val_loss: 0.0510 - val_acc: 0.1063\n",
      "\n",
      "Epoch 00073: val_loss did not improve from 0.05096\n",
      "Epoch 74/200\n",
      "1330452/1330452 [==============================] - 13s 10us/step - loss: 0.0492 - acc: 0.0998 - val_loss: 0.0510 - val_acc: 0.0999\n",
      "\n",
      "Epoch 00074: val_loss improved from 0.05096 to 0.05096, saving model to ./H5files/ae_sigmoid_adam_mse_redds100bal.h5\n",
      "Epoch 75/200\n",
      "1330452/1330452 [==============================] - 13s 10us/step - loss: 0.0492 - acc: 0.1095 - val_loss: 0.0510 - val_acc: 0.1069\n",
      "\n",
      "Epoch 00075: val_loss did not improve from 0.05096\n",
      "Epoch 76/200\n",
      "1330452/1330452 [==============================] - 13s 10us/step - loss: 0.0492 - acc: 0.1019 - val_loss: 0.0510 - val_acc: 0.1016\n",
      "\n",
      "Epoch 00076: val_loss did not improve from 0.05096\n",
      "Epoch 77/200\n",
      "1330452/1330452 [==============================] - 13s 10us/step - loss: 0.0492 - acc: 0.0949 - val_loss: 0.0510 - val_acc: 0.0933\n",
      "\n",
      "Epoch 00077: val_loss improved from 0.05096 to 0.05096, saving model to ./H5files/ae_sigmoid_adam_mse_redds100bal.h5\n",
      "Epoch 78/200\n",
      "1330452/1330452 [==============================] - 13s 10us/step - loss: 0.0492 - acc: 0.0984 - val_loss: 0.0510 - val_acc: 0.0969\n",
      "\n",
      "Epoch 00078: val_loss did not improve from 0.05096\n",
      "Epoch 79/200\n",
      "1330452/1330452 [==============================] - 13s 10us/step - loss: 0.0492 - acc: 0.0958 - val_loss: 0.0510 - val_acc: 0.0994\n",
      "\n",
      "Epoch 00079: val_loss improved from 0.05096 to 0.05096, saving model to ./H5files/ae_sigmoid_adam_mse_redds100bal.h5\n",
      "Epoch 80/200\n",
      "1330452/1330452 [==============================] - 13s 10us/step - loss: 0.0492 - acc: 0.0992 - val_loss: 0.0510 - val_acc: 0.1093\n",
      "\n",
      "Epoch 00080: val_loss improved from 0.05096 to 0.05096, saving model to ./H5files/ae_sigmoid_adam_mse_redds100bal.h5\n",
      "Epoch 81/200\n",
      "1330452/1330452 [==============================] - 13s 10us/step - loss: 0.0492 - acc: 0.0992 - val_loss: 0.0510 - val_acc: 0.1031\n",
      "\n",
      "Epoch 00081: val_loss improved from 0.05096 to 0.05096, saving model to ./H5files/ae_sigmoid_adam_mse_redds100bal.h5\n",
      "Epoch 82/200\n",
      "1330452/1330452 [==============================] - 13s 10us/step - loss: 0.0492 - acc: 0.1063 - val_loss: 0.0510 - val_acc: 0.1094\n",
      "\n",
      "Epoch 00082: val_loss improved from 0.05096 to 0.05096, saving model to ./H5files/ae_sigmoid_adam_mse_redds100bal.h5\n",
      "Epoch 83/200\n",
      "1330452/1330452 [==============================] - 13s 10us/step - loss: 0.0492 - acc: 0.1011 - val_loss: 0.0510 - val_acc: 0.0992\n",
      "\n",
      "Epoch 00083: val_loss improved from 0.05096 to 0.05096, saving model to ./H5files/ae_sigmoid_adam_mse_redds100bal.h5\n",
      "Epoch 84/200\n",
      "1330452/1330452 [==============================] - 13s 10us/step - loss: 0.0492 - acc: 0.1039 - val_loss: 0.0510 - val_acc: 0.1110\n",
      "\n",
      "Epoch 00084: val_loss did not improve from 0.05096\n",
      "Epoch 85/200\n",
      "1330452/1330452 [==============================] - 13s 10us/step - loss: 0.0492 - acc: 0.1003 - val_loss: 0.0510 - val_acc: 0.0972\n",
      "\n",
      "Epoch 00085: val_loss improved from 0.05096 to 0.05096, saving model to ./H5files/ae_sigmoid_adam_mse_redds100bal.h5\n",
      "Epoch 86/200\n",
      "1330452/1330452 [==============================] - 13s 10us/step - loss: 0.0492 - acc: 0.0995 - val_loss: 0.0510 - val_acc: 0.1044\n",
      "\n",
      "Epoch 00086: val_loss did not improve from 0.05096\n",
      "Epoch 87/200\n",
      "1330452/1330452 [==============================] - 13s 10us/step - loss: 0.0492 - acc: 0.1022 - val_loss: 0.0510 - val_acc: 0.1009\n",
      "\n",
      "Epoch 00087: val_loss did not improve from 0.05096\n",
      "Epoch 88/200\n",
      "1330452/1330452 [==============================] - 13s 10us/step - loss: 0.0492 - acc: 0.1098 - val_loss: 0.0510 - val_acc: 0.1058\n",
      "\n",
      "Epoch 00088: val_loss did not improve from 0.05096\n",
      "Epoch 89/200\n",
      "1330452/1330452 [==============================] - 13s 10us/step - loss: 0.0492 - acc: 0.1009 - val_loss: 0.0510 - val_acc: 0.1048\n",
      "\n",
      "Epoch 00089: val_loss did not improve from 0.05096\n",
      "Epoch 90/200\n",
      "1330452/1330452 [==============================] - 13s 10us/step - loss: 0.0492 - acc: 0.1027 - val_loss: 0.0510 - val_acc: 0.0984\n",
      "\n",
      "Epoch 00090: val_loss did not improve from 0.05096\n",
      "Time elapsed (hh:mm:ss.ms) 0:21:06.499733\n"
     ]
    }
   ],
   "source": [
    "hist_ae_sigmoid_adam_mse = fit_ae(checkpoint_file = \"./H5files/ae_sigmoid_adam_mse_redds\"+str(dsnum)+\"bal.h5\",\n",
    "                                  autoencoder = ae_sigmoid_adam_mse, \n",
    "                                  epochs = 200, \n",
    "                                  batch_size = batch_size,\n",
    "                                  shuffle = False)"
   ]
  },
  {
   "cell_type": "code",
   "execution_count": 61,
   "metadata": {},
   "outputs": [
    {
     "name": "stdout",
     "output_type": "stream",
     "text": [
      "Best loss value: 0.04916597103699353\n"
     ]
    },
    {
     "data": {
      "image/png": "[encoded data removed]",
      "text/plain": [
       "<Figure size 432x288 with 1 Axes>"
      ]
     },
     "metadata": {},
     "output_type": "display_data"
    }
   ],
   "source": [
    "best_loss_value_ae_sigmoid_adam_mse  = plot_hist_auto(hist_ae_sigmoid_adam_mse, './Figures/hist_ae_sigmoid_adam_mse.png')"
   ]
  },
  {
   "cell_type": "markdown",
   "metadata": {},
   "source": [
    "### **---------- SPAE Dimensionality reduction ----------**"
   ]
  },
  {
   "cell_type": "code",
   "execution_count": 62,
   "metadata": {},
   "outputs": [
    {
     "name": "stdout",
     "output_type": "stream",
     "text": [
      "_________________________________________________________________\n",
      "Layer (type)                 Output Shape              Param #   \n",
      "=================================================================\n",
      "input_2 (InputLayer)         (None, 210)               0         \n",
      "_________________________________________________________________\n",
      "encoded_bottle_neck (Dense)  (None, 140)               29540     \n",
      "_________________________________________________________________\n",
      "dense_2 (Dense)              (None, 210)               29610     \n",
      "=================================================================\n",
      "Total params: 59,150\n",
      "Trainable params: 59,150\n",
      "Non-trainable params: 0\n",
      "_________________________________________________________________\n",
      "None\n"
     ]
    }
   ],
   "source": [
    "spae_sigmoid_adam_mse,enc_train_x_spsam,enc_test_x_spsam = spae(factor_enc_dim = 1.5,\n",
    "                                                          enc_activation = 'relu',\n",
    "                                                          dec_activation = 'sigmoid',\n",
    "                                                          optimizer='Adam',\n",
    "                                                          loss='mean_squared_error')"
   ]
  },
  {
   "cell_type": "code",
   "execution_count": 63,
   "metadata": {},
   "outputs": [],
   "source": [
    "#spae_sigmoid_adam_mse = load_model('spae_sigmoid_adam_mse_redds20bal.h5')"
   ]
  },
  {
   "cell_type": "code",
   "execution_count": 64,
   "metadata": {},
   "outputs": [
    {
     "name": "stdout",
     "output_type": "stream",
     "text": [
      "Tue Jul 16 15:14:10 2019\n",
      "Train on 1330452 samples, validate on 332613 samples\n",
      "Epoch 1/200\n",
      "1330452/1330452 [==============================] - 14s 10us/step - loss: 0.1342 - acc: 7.9672e-05 - val_loss: 0.0994 - val_acc: 3.9084e-05\n",
      "\n",
      "Epoch 00001: val_loss improved from inf to 0.09935, saving model to ./H5files/spae_sigmoid_adam_mse_redds100bal.h5\n",
      "Epoch 2/200\n",
      "1330452/1330452 [==============================] - 13s 10us/step - loss: 0.0962 - acc: 3.5326e-05 - val_loss: 0.0976 - val_acc: 4.2091e-05\n",
      "\n",
      "Epoch 00002: val_loss improved from 0.09935 to 0.09765, saving model to ./H5files/spae_sigmoid_adam_mse_redds100bal.h5\n",
      "Epoch 3/200\n",
      "1330452/1330452 [==============================] - 14s 11us/step - loss: 0.0954 - acc: 3.0817e-05 - val_loss: 0.0951 - val_acc: 2.7058e-05\n",
      "\n",
      "Epoch 00003: val_loss improved from 0.09765 to 0.09509, saving model to ./H5files/spae_sigmoid_adam_mse_redds100bal.h5\n",
      "Epoch 4/200\n",
      "1330452/1330452 [==============================] - 14s 11us/step - loss: 0.0900 - acc: 1.6536e-05 - val_loss: 0.0902 - val_acc: 3.0065e-05\n",
      "\n",
      "Epoch 00004: val_loss improved from 0.09509 to 0.09017, saving model to ./H5files/spae_sigmoid_adam_mse_redds100bal.h5\n",
      "Epoch 5/200\n",
      "1330452/1330452 [==============================] - 15s 11us/step - loss: 0.0878 - acc: 1.8791e-05 - val_loss: 0.0891 - val_acc: 3.0065e-05\n",
      "\n",
      "Epoch 00005: val_loss improved from 0.09017 to 0.08911, saving model to ./H5files/spae_sigmoid_adam_mse_redds100bal.h5\n",
      "Epoch 6/200\n",
      "1330452/1330452 [==============================] - 15s 11us/step - loss: 0.0870 - acc: 2.2549e-05 - val_loss: 0.0885 - val_acc: 3.3071e-05\n",
      "\n",
      "Epoch 00006: val_loss improved from 0.08911 to 0.08855, saving model to ./H5files/spae_sigmoid_adam_mse_redds100bal.h5\n",
      "Epoch 7/200\n",
      "1330452/1330452 [==============================] - 15s 11us/step - loss: 0.0866 - acc: 2.7058e-05 - val_loss: 0.0882 - val_acc: 3.6078e-05\n",
      "\n",
      "Epoch 00007: val_loss improved from 0.08855 to 0.08820, saving model to ./H5files/spae_sigmoid_adam_mse_redds100bal.h5\n",
      "Epoch 8/200\n",
      "1330452/1330452 [==============================] - 15s 11us/step - loss: 0.0863 - acc: 3.0817e-05 - val_loss: 0.0880 - val_acc: 3.9084e-05\n",
      "\n",
      "Epoch 00008: val_loss improved from 0.08820 to 0.08797, saving model to ./H5files/spae_sigmoid_adam_mse_redds100bal.h5\n",
      "Epoch 9/200\n",
      "1330452/1330452 [==============================] - 15s 11us/step - loss: 0.0861 - acc: 3.3071e-05 - val_loss: 0.0878 - val_acc: 4.2091e-05\n",
      "\n",
      "Epoch 00009: val_loss improved from 0.08797 to 0.08780, saving model to ./H5files/spae_sigmoid_adam_mse_redds100bal.h5\n",
      "Epoch 10/200\n",
      "1330452/1330452 [==============================] - 15s 11us/step - loss: 0.0859 - acc: 3.5326e-05 - val_loss: 0.0877 - val_acc: 4.2091e-05\n",
      "\n",
      "Epoch 00010: val_loss improved from 0.08780 to 0.08767, saving model to ./H5files/spae_sigmoid_adam_mse_redds100bal.h5\n",
      "Epoch 11/200\n",
      "1330452/1330452 [==============================] - 15s 11us/step - loss: 0.0858 - acc: 3.6078e-05 - val_loss: 0.0876 - val_acc: 4.2091e-05\n",
      "\n",
      "Epoch 00011: val_loss improved from 0.08767 to 0.08757, saving model to ./H5files/spae_sigmoid_adam_mse_redds100bal.h5\n",
      "Epoch 12/200\n",
      "1330452/1330452 [==============================] - 15s 11us/step - loss: 0.0857 - acc: 3.8333e-05 - val_loss: 0.0875 - val_acc: 4.5097e-05\n",
      "\n",
      "Epoch 00012: val_loss improved from 0.08757 to 0.08749, saving model to ./H5files/spae_sigmoid_adam_mse_redds100bal.h5\n",
      "Epoch 13/200\n",
      "1330452/1330452 [==============================] - 14s 11us/step - loss: 0.0857 - acc: 4.2091e-05 - val_loss: 0.0874 - val_acc: 4.8104e-05\n",
      "\n",
      "Epoch 00013: val_loss improved from 0.08749 to 0.08742, saving model to ./H5files/spae_sigmoid_adam_mse_redds100bal.h5\n",
      "Epoch 14/200\n",
      "1330452/1330452 [==============================] - 14s 11us/step - loss: 0.0856 - acc: 1.4281e-04 - val_loss: 0.0874 - val_acc: 4.0588e-04\n",
      "\n",
      "Epoch 00014: val_loss improved from 0.08742 to 0.08737, saving model to ./H5files/spae_sigmoid_adam_mse_redds100bal.h5\n",
      "Epoch 15/200\n",
      "1330452/1330452 [==============================] - 14s 11us/step - loss: 0.0855 - acc: 0.0018 - val_loss: 0.0873 - val_acc: 0.0178\n",
      "\n",
      "Epoch 00015: val_loss improved from 0.08737 to 0.08732, saving model to ./H5files/spae_sigmoid_adam_mse_redds100bal.h5\n",
      "Epoch 16/200\n",
      "1330452/1330452 [==============================] - 14s 11us/step - loss: 0.0855 - acc: 0.0182 - val_loss: 0.0873 - val_acc: 0.0275\n",
      "\n",
      "Epoch 00016: val_loss improved from 0.08732 to 0.08727, saving model to ./H5files/spae_sigmoid_adam_mse_redds100bal.h5\n",
      "Epoch 17/200\n",
      "1330452/1330452 [==============================] - 14s 11us/step - loss: 0.0855 - acc: 0.0223 - val_loss: 0.0872 - val_acc: 0.0315\n",
      "\n",
      "Epoch 00017: val_loss improved from 0.08727 to 0.08724, saving model to ./H5files/spae_sigmoid_adam_mse_redds100bal.h5\n",
      "Epoch 18/200\n",
      "1330452/1330452 [==============================] - 14s 11us/step - loss: 0.0854 - acc: 0.0262 - val_loss: 0.0872 - val_acc: 0.0362\n",
      "\n",
      "Epoch 00018: val_loss improved from 0.08724 to 0.08721, saving model to ./H5files/spae_sigmoid_adam_mse_redds100bal.h5\n",
      "Epoch 19/200\n",
      "1330452/1330452 [==============================] - 14s 11us/step - loss: 0.0854 - acc: 0.0299 - val_loss: 0.0872 - val_acc: 0.0402\n",
      "\n",
      "Epoch 00019: val_loss improved from 0.08721 to 0.08718, saving model to ./H5files/spae_sigmoid_adam_mse_redds100bal.h5\n",
      "Epoch 20/200\n",
      "1330452/1330452 [==============================] - 14s 11us/step - loss: 0.0854 - acc: 0.0336 - val_loss: 0.0872 - val_acc: 0.0448\n",
      "\n",
      "Epoch 00020: val_loss improved from 0.08718 to 0.08715, saving model to ./H5files/spae_sigmoid_adam_mse_redds100bal.h5\n",
      "Epoch 21/200\n",
      "1330452/1330452 [==============================] - 14s 11us/step - loss: 0.0854 - acc: 0.0370 - val_loss: 0.0871 - val_acc: 0.0503\n",
      "\n",
      "Epoch 00021: val_loss improved from 0.08715 to 0.08713, saving model to ./H5files/spae_sigmoid_adam_mse_redds100bal.h5\n",
      "Epoch 22/200\n",
      "1330452/1330452 [==============================] - 14s 11us/step - loss: 0.0853 - acc: 0.0400 - val_loss: 0.0871 - val_acc: 0.0552\n",
      "\n",
      "Epoch 00022: val_loss improved from 0.08713 to 0.08711, saving model to ./H5files/spae_sigmoid_adam_mse_redds100bal.h5\n",
      "Epoch 23/200\n",
      "1330452/1330452 [==============================] - 14s 11us/step - loss: 0.0853 - acc: 0.0405 - val_loss: 0.0871 - val_acc: 0.0548\n",
      "\n",
      "Epoch 00023: val_loss improved from 0.08711 to 0.08710, saving model to ./H5files/spae_sigmoid_adam_mse_redds100bal.h5\n",
      "Epoch 24/200\n",
      "1330452/1330452 [==============================] - 14s 11us/step - loss: 0.0853 - acc: 0.0451 - val_loss: 0.0871 - val_acc: 0.0661\n",
      "\n",
      "Epoch 00024: val_loss improved from 0.08710 to 0.08708, saving model to ./H5files/spae_sigmoid_adam_mse_redds100bal.h5\n",
      "Epoch 25/200\n",
      "1330452/1330452 [==============================] - 14s 11us/step - loss: 0.0853 - acc: 0.0477 - val_loss: 0.0871 - val_acc: 0.0700\n",
      "\n",
      "Epoch 00025: val_loss improved from 0.08708 to 0.08707, saving model to ./H5files/spae_sigmoid_adam_mse_redds100bal.h5\n",
      "Epoch 26/200\n",
      "1330452/1330452 [==============================] - 14s 10us/step - loss: 0.0853 - acc: 0.0468 - val_loss: 0.0871 - val_acc: 0.0563\n",
      "\n",
      "Epoch 00026: val_loss improved from 0.08707 to 0.08706, saving model to ./H5files/spae_sigmoid_adam_mse_redds100bal.h5\n",
      "Epoch 27/200\n",
      "1330452/1330452 [==============================] - 14s 11us/step - loss: 0.0853 - acc: 0.0484 - val_loss: 0.0870 - val_acc: 0.0579\n",
      "\n",
      "Epoch 00027: val_loss improved from 0.08706 to 0.08704, saving model to ./H5files/spae_sigmoid_adam_mse_redds100bal.h5\n",
      "Epoch 28/200\n",
      "1330452/1330452 [==============================] - 14s 10us/step - loss: 0.0852 - acc: 0.0493 - val_loss: 0.0870 - val_acc: 0.0596\n",
      "\n",
      "Epoch 00028: val_loss improved from 0.08704 to 0.08703, saving model to ./H5files/spae_sigmoid_adam_mse_redds100bal.h5\n",
      "Epoch 29/200\n",
      "1330452/1330452 [==============================] - 14s 10us/step - loss: 0.0852 - acc: 0.0510 - val_loss: 0.0870 - val_acc: 0.0588\n",
      "\n",
      "Epoch 00029: val_loss improved from 0.08703 to 0.08702, saving model to ./H5files/spae_sigmoid_adam_mse_redds100bal.h5\n",
      "Epoch 30/200\n",
      "1330452/1330452 [==============================] - 14s 10us/step - loss: 0.0852 - acc: 0.0521 - val_loss: 0.0870 - val_acc: 0.0613\n",
      "\n",
      "Epoch 00030: val_loss improved from 0.08702 to 0.08701, saving model to ./H5files/spae_sigmoid_adam_mse_redds100bal.h5\n",
      "Epoch 31/200\n",
      "1330452/1330452 [==============================] - 14s 10us/step - loss: 0.0852 - acc: 0.0536 - val_loss: 0.0870 - val_acc: 0.0620\n",
      "\n",
      "Epoch 00031: val_loss improved from 0.08701 to 0.08700, saving model to ./H5files/spae_sigmoid_adam_mse_redds100bal.h5\n",
      "Epoch 32/200\n",
      "1330452/1330452 [==============================] - 14s 10us/step - loss: 0.0852 - acc: 0.0541 - val_loss: 0.0870 - val_acc: 0.0647\n",
      "\n",
      "Epoch 00032: val_loss improved from 0.08700 to 0.08699, saving model to ./H5files/spae_sigmoid_adam_mse_redds100bal.h5\n",
      "Epoch 33/200\n",
      "1330452/1330452 [==============================] - 14s 10us/step - loss: 0.0852 - acc: 0.0562 - val_loss: 0.0870 - val_acc: 0.0678\n",
      "\n",
      "Epoch 00033: val_loss improved from 0.08699 to 0.08698, saving model to ./H5files/spae_sigmoid_adam_mse_redds100bal.h5\n",
      "Epoch 34/200\n",
      "1330452/1330452 [==============================] - 14s 10us/step - loss: 0.0852 - acc: 0.0564 - val_loss: 0.0870 - val_acc: 0.0649\n",
      "\n",
      "Epoch 00034: val_loss improved from 0.08698 to 0.08698, saving model to ./H5files/spae_sigmoid_adam_mse_redds100bal.h5\n",
      "Epoch 35/200\n",
      "1330452/1330452 [==============================] - 14s 10us/step - loss: 0.0852 - acc: 0.0574 - val_loss: 0.0870 - val_acc: 0.0674\n",
      "\n",
      "Epoch 00035: val_loss improved from 0.08698 to 0.08697, saving model to ./H5files/spae_sigmoid_adam_mse_redds100bal.h5\n",
      "Epoch 36/200\n",
      "1330452/1330452 [==============================] - 14s 10us/step - loss: 0.0852 - acc: 0.0574 - val_loss: 0.0870 - val_acc: 0.0679\n",
      "\n",
      "Epoch 00036: val_loss improved from 0.08697 to 0.08696, saving model to ./H5files/spae_sigmoid_adam_mse_redds100bal.h5\n",
      "Epoch 37/200\n",
      "1330452/1330452 [==============================] - 14s 10us/step - loss: 0.0852 - acc: 0.0579 - val_loss: 0.0870 - val_acc: 0.0635\n",
      "\n",
      "Epoch 00037: val_loss improved from 0.08696 to 0.08696, saving model to ./H5files/spae_sigmoid_adam_mse_redds100bal.h5\n",
      "Epoch 38/200\n",
      "1330452/1330452 [==============================] - 14s 10us/step - loss: 0.0852 - acc: 0.0597 - val_loss: 0.0870 - val_acc: 0.0634\n",
      "\n",
      "Epoch 00038: val_loss improved from 0.08696 to 0.08695, saving model to ./H5files/spae_sigmoid_adam_mse_redds100bal.h5\n",
      "Epoch 39/200\n",
      "1330452/1330452 [==============================] - 14s 10us/step - loss: 0.0852 - acc: 0.0569 - val_loss: 0.0869 - val_acc: 0.0665\n",
      "\n",
      "Epoch 00039: val_loss improved from 0.08695 to 0.08694, saving model to ./H5files/spae_sigmoid_adam_mse_redds100bal.h5\n",
      "Epoch 40/200\n",
      "1330452/1330452 [==============================] - 14s 10us/step - loss: 0.0852 - acc: 0.0606 - val_loss: 0.0869 - val_acc: 0.0679\n",
      "\n",
      "Epoch 00040: val_loss improved from 0.08694 to 0.08694, saving model to ./H5files/spae_sigmoid_adam_mse_redds100bal.h5\n",
      "Epoch 41/200\n",
      "1330452/1330452 [==============================] - 14s 10us/step - loss: 0.0852 - acc: 0.0597 - val_loss: 0.0869 - val_acc: 0.0743\n",
      "\n",
      "Epoch 00041: val_loss improved from 0.08694 to 0.08694, saving model to ./H5files/spae_sigmoid_adam_mse_redds100bal.h5\n",
      "Epoch 42/200\n",
      "1330452/1330452 [==============================] - 14s 10us/step - loss: 0.0851 - acc: 0.0613 - val_loss: 0.0869 - val_acc: 0.0746\n",
      "\n",
      "Epoch 00042: val_loss improved from 0.08694 to 0.08693, saving model to ./H5files/spae_sigmoid_adam_mse_redds100bal.h5\n",
      "Epoch 43/200\n",
      "1330452/1330452 [==============================] - 14s 10us/step - loss: 0.0851 - acc: 0.0601 - val_loss: 0.0869 - val_acc: 0.0648\n",
      "\n",
      "Epoch 00043: val_loss improved from 0.08693 to 0.08692, saving model to ./H5files/spae_sigmoid_adam_mse_redds100bal.h5\n",
      "Epoch 44/200\n",
      "1330452/1330452 [==============================] - 13s 10us/step - loss: 0.0851 - acc: 0.0608 - val_loss: 0.0869 - val_acc: 0.0723\n",
      "\n",
      "Epoch 00044: val_loss improved from 0.08692 to 0.08692, saving model to ./H5files/spae_sigmoid_adam_mse_redds100bal.h5\n",
      "Epoch 45/200\n",
      "1330452/1330452 [==============================] - 14s 10us/step - loss: 0.0851 - acc: 0.0614 - val_loss: 0.0869 - val_acc: 0.0781\n",
      "\n",
      "Epoch 00045: val_loss improved from 0.08692 to 0.08692, saving model to ./H5files/spae_sigmoid_adam_mse_redds100bal.h5\n",
      "Epoch 46/200\n",
      "1330452/1330452 [==============================] - 14s 10us/step - loss: 0.0851 - acc: 0.0615 - val_loss: 0.0869 - val_acc: 0.0788\n",
      "\n",
      "Epoch 00046: val_loss improved from 0.08692 to 0.08692, saving model to ./H5files/spae_sigmoid_adam_mse_redds100bal.h5\n",
      "Epoch 47/200\n",
      "1330452/1330452 [==============================] - 14s 10us/step - loss: 0.0851 - acc: 0.0621 - val_loss: 0.0869 - val_acc: 0.0806\n",
      "\n",
      "Epoch 00047: val_loss improved from 0.08692 to 0.08691, saving model to ./H5files/spae_sigmoid_adam_mse_redds100bal.h5\n",
      "Epoch 48/200\n",
      "1330452/1330452 [==============================] - 13s 10us/step - loss: 0.0851 - acc: 0.0618 - val_loss: 0.0869 - val_acc: 0.0815\n",
      "\n",
      "Epoch 00048: val_loss improved from 0.08691 to 0.08691, saving model to ./H5files/spae_sigmoid_adam_mse_redds100bal.h5\n",
      "Epoch 49/200\n",
      "1330452/1330452 [==============================] - 14s 10us/step - loss: 0.0851 - acc: 0.0615 - val_loss: 0.0869 - val_acc: 0.0771\n",
      "\n",
      "Epoch 00049: val_loss improved from 0.08691 to 0.08690, saving model to ./H5files/spae_sigmoid_adam_mse_redds100bal.h5\n",
      "Epoch 50/200\n",
      "1330452/1330452 [==============================] - 13s 10us/step - loss: 0.0851 - acc: 0.0628 - val_loss: 0.0869 - val_acc: 0.0754\n",
      "\n",
      "Epoch 00050: val_loss improved from 0.08690 to 0.08690, saving model to ./H5files/spae_sigmoid_adam_mse_redds100bal.h5\n",
      "Epoch 51/200\n",
      "1330452/1330452 [==============================] - 13s 10us/step - loss: 0.0851 - acc: 0.0638 - val_loss: 0.0869 - val_acc: 0.0713\n",
      "\n",
      "Epoch 00051: val_loss improved from 0.08690 to 0.08689, saving model to ./H5files/spae_sigmoid_adam_mse_redds100bal.h5\n",
      "Epoch 52/200\n",
      "1330452/1330452 [==============================] - 14s 10us/step - loss: 0.0851 - acc: 0.0637 - val_loss: 0.0869 - val_acc: 0.0727\n",
      "\n",
      "Epoch 00052: val_loss improved from 0.08689 to 0.08689, saving model to ./H5files/spae_sigmoid_adam_mse_redds100bal.h5\n",
      "Epoch 53/200\n",
      "1330452/1330452 [==============================] - 13s 10us/step - loss: 0.0851 - acc: 0.0608 - val_loss: 0.0869 - val_acc: 0.0747\n",
      "\n",
      "Epoch 00053: val_loss improved from 0.08689 to 0.08689, saving model to ./H5files/spae_sigmoid_adam_mse_redds100bal.h5\n",
      "Epoch 54/200\n",
      "1330452/1330452 [==============================] - 13s 10us/step - loss: 0.0851 - acc: 0.0632 - val_loss: 0.0869 - val_acc: 0.0812\n",
      "\n",
      "Epoch 00054: val_loss improved from 0.08689 to 0.08689, saving model to ./H5files/spae_sigmoid_adam_mse_redds100bal.h5\n",
      "Epoch 55/200\n",
      "1330452/1330452 [==============================] - 13s 10us/step - loss: 0.0851 - acc: 0.0626 - val_loss: 0.0869 - val_acc: 0.0598\n",
      "\n",
      "Epoch 00055: val_loss improved from 0.08689 to 0.08688, saving model to ./H5files/spae_sigmoid_adam_mse_redds100bal.h5\n",
      "Epoch 56/200\n",
      "1330452/1330452 [==============================] - 14s 10us/step - loss: 0.0851 - acc: 0.0621 - val_loss: 0.0869 - val_acc: 0.0741\n",
      "\n",
      "Epoch 00056: val_loss did not improve from 0.08688\n",
      "Epoch 57/200\n",
      "1330452/1330452 [==============================] - 13s 10us/step - loss: 0.0851 - acc: 0.0619 - val_loss: 0.0869 - val_acc: 0.0764\n",
      "\n",
      "Epoch 00057: val_loss improved from 0.08688 to 0.08688, saving model to ./H5files/spae_sigmoid_adam_mse_redds100bal.h5\n",
      "Epoch 58/200\n",
      "1330452/1330452 [==============================] - 14s 10us/step - loss: 0.0851 - acc: 0.0637 - val_loss: 0.0869 - val_acc: 0.0749\n",
      "\n",
      "Epoch 00058: val_loss improved from 0.08688 to 0.08688, saving model to ./H5files/spae_sigmoid_adam_mse_redds100bal.h5\n",
      "Epoch 59/200\n",
      "1330452/1330452 [==============================] - 14s 10us/step - loss: 0.0851 - acc: 0.0623 - val_loss: 0.0869 - val_acc: 0.0742\n",
      "\n",
      "Epoch 00059: val_loss improved from 0.08688 to 0.08687, saving model to ./H5files/spae_sigmoid_adam_mse_redds100bal.h5\n",
      "Epoch 60/200\n",
      "1330452/1330452 [==============================] - 14s 10us/step - loss: 0.0851 - acc: 0.0618 - val_loss: 0.0869 - val_acc: 0.0728\n",
      "\n",
      "Epoch 00060: val_loss improved from 0.08687 to 0.08687, saving model to ./H5files/spae_sigmoid_adam_mse_redds100bal.h5\n",
      "Epoch 61/200\n",
      "1330452/1330452 [==============================] - 14s 10us/step - loss: 0.0851 - acc: 0.0629 - val_loss: 0.0869 - val_acc: 0.0772\n",
      "\n",
      "Epoch 00061: val_loss improved from 0.08687 to 0.08687, saving model to ./H5files/spae_sigmoid_adam_mse_redds100bal.h5\n",
      "Epoch 62/200\n",
      "1330452/1330452 [==============================] - 14s 10us/step - loss: 0.0851 - acc: 0.0629 - val_loss: 0.0869 - val_acc: 0.0739\n",
      "\n",
      "Epoch 00062: val_loss improved from 0.08687 to 0.08687, saving model to ./H5files/spae_sigmoid_adam_mse_redds100bal.h5\n",
      "Epoch 63/200\n",
      "1330452/1330452 [==============================] - 13s 10us/step - loss: 0.0851 - acc: 0.0616 - val_loss: 0.0869 - val_acc: 0.0721\n",
      "\n",
      "Epoch 00063: val_loss did not improve from 0.08687\n",
      "Epoch 64/200\n",
      "1330452/1330452 [==============================] - 13s 10us/step - loss: 0.0851 - acc: 0.0621 - val_loss: 0.0869 - val_acc: 0.0822\n",
      "\n",
      "Epoch 00064: val_loss did not improve from 0.08687\n",
      "Epoch 65/200\n",
      "1330452/1330452 [==============================] - 13s 10us/step - loss: 0.0851 - acc: 0.0615 - val_loss: 0.0869 - val_acc: 0.0579\n",
      "\n",
      "Epoch 00065: val_loss improved from 0.08687 to 0.08686, saving model to ./H5files/spae_sigmoid_adam_mse_redds100bal.h5\n",
      "Epoch 66/200\n",
      "1330452/1330452 [==============================] - 13s 10us/step - loss: 0.0851 - acc: 0.0613 - val_loss: 0.0869 - val_acc: 0.0788\n",
      "\n",
      "Epoch 00066: val_loss improved from 0.08686 to 0.08686, saving model to ./H5files/spae_sigmoid_adam_mse_redds100bal.h5\n",
      "Epoch 67/200\n",
      "1330452/1330452 [==============================] - 13s 10us/step - loss: 0.0851 - acc: 0.0615 - val_loss: 0.0869 - val_acc: 0.0782\n",
      "\n",
      "Epoch 00067: val_loss did not improve from 0.08686\n",
      "Epoch 68/200\n",
      "1330452/1330452 [==============================] - 13s 10us/step - loss: 0.0851 - acc: 0.0606 - val_loss: 0.0869 - val_acc: 0.0793\n",
      "\n",
      "Epoch 00068: val_loss improved from 0.08686 to 0.08686, saving model to ./H5files/spae_sigmoid_adam_mse_redds100bal.h5\n",
      "Epoch 69/200\n",
      "1330452/1330452 [==============================] - 14s 10us/step - loss: 0.0851 - acc: 0.0595 - val_loss: 0.0869 - val_acc: 0.0668\n",
      "\n",
      "Epoch 00069: val_loss improved from 0.08686 to 0.08685, saving model to ./H5files/spae_sigmoid_adam_mse_redds100bal.h5\n",
      "Epoch 70/200\n",
      "1330452/1330452 [==============================] - 13s 10us/step - loss: 0.0851 - acc: 0.0588 - val_loss: 0.0869 - val_acc: 0.0465\n",
      "\n",
      "Epoch 00070: val_loss did not improve from 0.08685\n",
      "Epoch 71/200\n",
      "1330452/1330452 [==============================] - 14s 10us/step - loss: 0.0851 - acc: 0.0583 - val_loss: 0.0869 - val_acc: 0.0518\n",
      "\n",
      "Epoch 00071: val_loss improved from 0.08685 to 0.08685, saving model to ./H5files/spae_sigmoid_adam_mse_redds100bal.h5\n",
      "Epoch 72/200\n",
      "1330452/1330452 [==============================] - 13s 10us/step - loss: 0.0851 - acc: 0.0595 - val_loss: 0.0868 - val_acc: 0.0792\n",
      "\n",
      "Epoch 00072: val_loss improved from 0.08685 to 0.08685, saving model to ./H5files/spae_sigmoid_adam_mse_redds100bal.h5\n",
      "Epoch 73/200\n",
      "1330452/1330452 [==============================] - 13s 10us/step - loss: 0.0851 - acc: 0.0590 - val_loss: 0.0869 - val_acc: 0.0816\n",
      "\n",
      "Epoch 00073: val_loss did not improve from 0.08685\n",
      "Epoch 74/200\n",
      "1330452/1330452 [==============================] - 13s 10us/step - loss: 0.0851 - acc: 0.0586 - val_loss: 0.0869 - val_acc: 0.0587\n",
      "\n",
      "Epoch 00074: val_loss did not improve from 0.08685\n",
      "Epoch 75/200\n",
      "1330452/1330452 [==============================] - 13s 10us/step - loss: 0.0851 - acc: 0.0578 - val_loss: 0.0869 - val_acc: 0.0240\n",
      "\n",
      "Epoch 00075: val_loss did not improve from 0.08685\n",
      "Epoch 76/200\n",
      "1330452/1330452 [==============================] - 13s 10us/step - loss: 0.0851 - acc: 0.0574 - val_loss: 0.0868 - val_acc: 0.0547\n",
      "\n",
      "Epoch 00076: val_loss improved from 0.08685 to 0.08684, saving model to ./H5files/spae_sigmoid_adam_mse_redds100bal.h5\n",
      "Epoch 77/200\n",
      "1330452/1330452 [==============================] - 13s 10us/step - loss: 0.0851 - acc: 0.0546 - val_loss: 0.0868 - val_acc: 0.0410\n",
      "\n",
      "Epoch 00077: val_loss improved from 0.08684 to 0.08684, saving model to ./H5files/spae_sigmoid_adam_mse_redds100bal.h5\n",
      "Epoch 78/200\n",
      "1330452/1330452 [==============================] - 13s 10us/step - loss: 0.0851 - acc: 0.0562 - val_loss: 0.0868 - val_acc: 0.0820\n",
      "\n",
      "Epoch 00078: val_loss did not improve from 0.08684\n",
      "Epoch 79/200\n",
      "1330452/1330452 [==============================] - 13s 10us/step - loss: 0.0851 - acc: 0.0546 - val_loss: 0.0868 - val_acc: 0.0742\n",
      "\n",
      "Epoch 00079: val_loss improved from 0.08684 to 0.08684, saving model to ./H5files/spae_sigmoid_adam_mse_redds100bal.h5\n",
      "Epoch 80/200\n",
      "1330452/1330452 [==============================] - 13s 10us/step - loss: 0.0851 - acc: 0.0536 - val_loss: 0.0868 - val_acc: 0.0659\n",
      "\n",
      "Epoch 00080: val_loss did not improve from 0.08684\n",
      "Epoch 81/200\n",
      "1330452/1330452 [==============================] - 13s 10us/step - loss: 0.0851 - acc: 0.0534 - val_loss: 0.0868 - val_acc: 0.0791\n",
      "\n",
      "Epoch 00081: val_loss did not improve from 0.08684\n",
      "Epoch 82/200\n",
      "1330452/1330452 [==============================] - 13s 10us/step - loss: 0.0851 - acc: 0.0496 - val_loss: 0.0868 - val_acc: 0.0755\n",
      "\n",
      "Epoch 00082: val_loss improved from 0.08684 to 0.08684, saving model to ./H5files/spae_sigmoid_adam_mse_redds100bal.h5\n",
      "Epoch 83/200\n",
      "1330452/1330452 [==============================] - 13s 10us/step - loss: 0.0851 - acc: 0.0569 - val_loss: 0.0868 - val_acc: 0.0508\n",
      "\n",
      "Epoch 00083: val_loss improved from 0.08684 to 0.08683, saving model to ./H5files/spae_sigmoid_adam_mse_redds100bal.h5\n",
      "Epoch 84/200\n",
      "1330452/1330452 [==============================] - 13s 10us/step - loss: 0.0850 - acc: 0.0529 - val_loss: 0.0868 - val_acc: 0.0780\n",
      "\n",
      "Epoch 00084: val_loss did not improve from 0.08683\n",
      "Epoch 85/200\n",
      "1330452/1330452 [==============================] - 13s 10us/step - loss: 0.0851 - acc: 0.0500 - val_loss: 0.0868 - val_acc: 0.0752\n",
      "\n",
      "Epoch 00085: val_loss improved from 0.08683 to 0.08683, saving model to ./H5files/spae_sigmoid_adam_mse_redds100bal.h5\n",
      "Epoch 86/200\n",
      "1330452/1330452 [==============================] - 13s 10us/step - loss: 0.0850 - acc: 0.0503 - val_loss: 0.0868 - val_acc: 0.0592\n",
      "\n",
      "Epoch 00086: val_loss did not improve from 0.08683\n",
      "Epoch 87/200\n",
      "1330452/1330452 [==============================] - 14s 10us/step - loss: 0.0850 - acc: 0.0505 - val_loss: 0.0868 - val_acc: 0.0769\n",
      "\n",
      "Epoch 00087: val_loss improved from 0.08683 to 0.08683, saving model to ./H5files/spae_sigmoid_adam_mse_redds100bal.h5\n",
      "Epoch 88/200\n",
      "1330452/1330452 [==============================] - 13s 10us/step - loss: 0.0850 - acc: 0.0493 - val_loss: 0.0868 - val_acc: 0.0785\n",
      "\n",
      "Epoch 00088: val_loss improved from 0.08683 to 0.08683, saving model to ./H5files/spae_sigmoid_adam_mse_redds100bal.h5\n",
      "Epoch 89/200\n",
      "1330452/1330452 [==============================] - 14s 10us/step - loss: 0.0851 - acc: 0.0457 - val_loss: 0.0868 - val_acc: 0.0643\n",
      "\n",
      "Epoch 00089: val_loss improved from 0.08683 to 0.08683, saving model to ./H5files/spae_sigmoid_adam_mse_redds100bal.h5\n",
      "Epoch 90/200\n",
      "1330452/1330452 [==============================] - 14s 11us/step - loss: 0.0850 - acc: 0.0457 - val_loss: 0.0868 - val_acc: 0.0732\n",
      "\n",
      "Epoch 00090: val_loss improved from 0.08683 to 0.08683, saving model to ./H5files/spae_sigmoid_adam_mse_redds100bal.h5\n",
      "Epoch 91/200\n",
      "1330452/1330452 [==============================] - 14s 10us/step - loss: 0.0851 - acc: 0.0389 - val_loss: 0.0868 - val_acc: 0.0675\n",
      "\n",
      "Epoch 00091: val_loss did not improve from 0.08683\n",
      "Epoch 92/200\n",
      "1330452/1330452 [==============================] - 14s 10us/step - loss: 0.0850 - acc: 0.0472 - val_loss: 0.0868 - val_acc: 0.0725\n",
      "\n",
      "Epoch 00092: val_loss improved from 0.08683 to 0.08683, saving model to ./H5files/spae_sigmoid_adam_mse_redds100bal.h5\n",
      "Epoch 93/200\n",
      "1330452/1330452 [==============================] - 14s 10us/step - loss: 0.0850 - acc: 0.0479 - val_loss: 0.0868 - val_acc: 0.0780\n",
      "\n",
      "Epoch 00093: val_loss did not improve from 0.08683\n",
      "Epoch 94/200\n",
      "1330452/1330452 [==============================] - 14s 10us/step - loss: 0.0851 - acc: 0.0469 - val_loss: 0.0868 - val_acc: 0.0678\n",
      "\n",
      "Epoch 00094: val_loss improved from 0.08683 to 0.08682, saving model to ./H5files/spae_sigmoid_adam_mse_redds100bal.h5\n",
      "Epoch 95/200\n",
      "1330452/1330452 [==============================] - 14s 10us/step - loss: 0.0850 - acc: 0.0460 - val_loss: 0.0868 - val_acc: 0.0575\n",
      "\n",
      "Epoch 00095: val_loss improved from 0.08682 to 0.08682, saving model to ./H5files/spae_sigmoid_adam_mse_redds100bal.h5\n",
      "Epoch 96/200\n",
      "1330452/1330452 [==============================] - 14s 10us/step - loss: 0.0851 - acc: 0.0375 - val_loss: 0.0868 - val_acc: 0.0413\n",
      "\n",
      "Epoch 00096: val_loss did not improve from 0.08682\n",
      "Epoch 97/200\n",
      "1330452/1330452 [==============================] - 14s 10us/step - loss: 0.0850 - acc: 0.0434 - val_loss: 0.0868 - val_acc: 0.0779\n",
      "\n",
      "Epoch 00097: val_loss did not improve from 0.08682\n",
      "Epoch 98/200\n",
      "1330452/1330452 [==============================] - 14s 10us/step - loss: 0.0850 - acc: 0.0408 - val_loss: 0.0868 - val_acc: 0.0680\n",
      "\n",
      "Epoch 00098: val_loss did not improve from 0.08682\n",
      "Epoch 99/200\n",
      "1330452/1330452 [==============================] - 14s 10us/step - loss: 0.0850 - acc: 0.0403 - val_loss: 0.0868 - val_acc: 0.0588\n",
      "\n",
      "Epoch 00099: val_loss improved from 0.08682 to 0.08682, saving model to ./H5files/spae_sigmoid_adam_mse_redds100bal.h5\n",
      "Epoch 100/200\n",
      "1330452/1330452 [==============================] - 14s 10us/step - loss: 0.0850 - acc: 0.0413 - val_loss: 0.0868 - val_acc: 0.0782\n",
      "\n",
      "Epoch 00100: val_loss did not improve from 0.08682\n",
      "Epoch 101/200\n",
      "1330452/1330452 [==============================] - 14s 10us/step - loss: 0.0850 - acc: 0.0422 - val_loss: 0.0868 - val_acc: 0.0558\n",
      "\n",
      "Epoch 00101: val_loss improved from 0.08682 to 0.08682, saving model to ./H5files/spae_sigmoid_adam_mse_redds100bal.h5\n",
      "Epoch 102/200\n",
      "1330452/1330452 [==============================] - 14s 10us/step - loss: 0.0850 - acc: 0.0482 - val_loss: 0.0868 - val_acc: 0.0311\n",
      "\n",
      "Epoch 00102: val_loss did not improve from 0.08682\n",
      "Epoch 103/200\n",
      "1330452/1330452 [==============================] - 14s 10us/step - loss: 0.0850 - acc: 0.0374 - val_loss: 0.0868 - val_acc: 0.0827\n",
      "\n",
      "Epoch 00103: val_loss did not improve from 0.08682\n",
      "Epoch 104/200\n",
      "1330452/1330452 [==============================] - 14s 10us/step - loss: 0.0850 - acc: 0.0335 - val_loss: 0.0868 - val_acc: 0.0479\n",
      "\n",
      "Epoch 00104: val_loss improved from 0.08682 to 0.08681, saving model to ./H5files/spae_sigmoid_adam_mse_redds100bal.h5\n",
      "Epoch 105/200\n",
      "1330452/1330452 [==============================] - 14s 10us/step - loss: 0.0850 - acc: 0.0445 - val_loss: 0.0868 - val_acc: 0.0445\n",
      "\n",
      "Epoch 00105: val_loss did not improve from 0.08681\n",
      "Epoch 106/200\n",
      "1330452/1330452 [==============================] - 14s 10us/step - loss: 0.0850 - acc: 0.0312 - val_loss: 0.0868 - val_acc: 0.0415\n",
      "\n",
      "Epoch 00106: val_loss improved from 0.08681 to 0.08681, saving model to ./H5files/spae_sigmoid_adam_mse_redds100bal.h5\n",
      "Epoch 107/200\n",
      "1330452/1330452 [==============================] - 14s 10us/step - loss: 0.0850 - acc: 0.0321 - val_loss: 0.0870 - val_acc: 0.0790\n",
      "\n",
      "Epoch 00107: val_loss did not improve from 0.08681\n",
      "Epoch 108/200\n",
      "1330452/1330452 [==============================] - 14s 10us/step - loss: 0.0850 - acc: 0.0329 - val_loss: 0.0868 - val_acc: 0.0576\n",
      "\n",
      "Epoch 00108: val_loss did not improve from 0.08681\n",
      "Epoch 109/200\n",
      "1330452/1330452 [==============================] - 14s 10us/step - loss: 0.0850 - acc: 0.0364 - val_loss: 0.0868 - val_acc: 0.0729\n",
      "\n",
      "Epoch 00109: val_loss did not improve from 0.08681\n",
      "Epoch 110/200\n",
      "1330452/1330452 [==============================] - 14s 10us/step - loss: 0.0850 - acc: 0.0340 - val_loss: 0.0868 - val_acc: 0.0656\n",
      "\n",
      "Epoch 00110: val_loss did not improve from 0.08681\n",
      "Epoch 111/200\n",
      "1330452/1330452 [==============================] - 14s 10us/step - loss: 0.0850 - acc: 0.0301 - val_loss: 0.0868 - val_acc: 0.0139\n",
      "\n",
      "Epoch 00111: val_loss improved from 0.08681 to 0.08680, saving model to ./H5files/spae_sigmoid_adam_mse_redds100bal.h5\n",
      "Epoch 112/200\n",
      "1330452/1330452 [==============================] - 14s 10us/step - loss: 0.0850 - acc: 0.0327 - val_loss: 0.0868 - val_acc: 0.0154\n",
      "\n",
      "Epoch 00112: val_loss did not improve from 0.08680\n",
      "Epoch 113/200\n",
      "1330452/1330452 [==============================] - 14s 10us/step - loss: 0.0850 - acc: 0.0358 - val_loss: 0.0868 - val_acc: 0.0477\n",
      "\n",
      "Epoch 00113: val_loss did not improve from 0.08680\n",
      "Epoch 114/200\n",
      "1330452/1330452 [==============================] - 14s 10us/step - loss: 0.0850 - acc: 0.0373 - val_loss: 0.0868 - val_acc: 0.0582\n",
      "\n",
      "Epoch 00114: val_loss did not improve from 0.08680\n",
      "Epoch 115/200\n",
      "1330452/1330452 [==============================] - 14s 11us/step - loss: 0.0850 - acc: 0.0400 - val_loss: 0.0868 - val_acc: 0.0649\n",
      "\n",
      "Epoch 00115: val_loss did not improve from 0.08680\n",
      "Epoch 116/200\n",
      "1330452/1330452 [==============================] - 14s 10us/step - loss: 0.0850 - acc: 0.0283 - val_loss: 0.0868 - val_acc: 0.0348\n",
      "\n",
      "Epoch 00116: val_loss improved from 0.08680 to 0.08680, saving model to ./H5files/spae_sigmoid_adam_mse_redds100bal.h5\n",
      "Epoch 117/200\n",
      "1330452/1330452 [==============================] - 14s 10us/step - loss: 0.0850 - acc: 0.0378 - val_loss: 0.0868 - val_acc: 0.0387\n",
      "\n",
      "Epoch 00117: val_loss improved from 0.08680 to 0.08680, saving model to ./H5files/spae_sigmoid_adam_mse_redds100bal.h5\n",
      "Epoch 118/200\n",
      "1330452/1330452 [==============================] - 14s 10us/step - loss: 0.0850 - acc: 0.0285 - val_loss: 0.0868 - val_acc: 0.0317\n",
      "\n",
      "Epoch 00118: val_loss improved from 0.08680 to 0.08680, saving model to ./H5files/spae_sigmoid_adam_mse_redds100bal.h5\n",
      "Epoch 119/200\n",
      "1330452/1330452 [==============================] - 14s 10us/step - loss: 0.0850 - acc: 0.0264 - val_loss: 0.0870 - val_acc: 0.0720\n",
      "\n",
      "Epoch 00119: val_loss did not improve from 0.08680\n",
      "Epoch 120/200\n",
      "1330452/1330452 [==============================] - 14s 10us/step - loss: 0.0850 - acc: 0.0293 - val_loss: 0.0868 - val_acc: 0.0130\n",
      "\n",
      "Epoch 00120: val_loss improved from 0.08680 to 0.08680, saving model to ./H5files/spae_sigmoid_adam_mse_redds100bal.h5\n",
      "Epoch 121/200\n",
      "1330452/1330452 [==============================] - 14s 10us/step - loss: 0.0850 - acc: 0.0263 - val_loss: 0.0869 - val_acc: 0.0819\n",
      "\n",
      "Epoch 00121: val_loss did not improve from 0.08680\n",
      "Epoch 122/200\n",
      "1330452/1330452 [==============================] - 14s 10us/step - loss: 0.0850 - acc: 0.0387 - val_loss: 0.0868 - val_acc: 0.0364\n",
      "\n",
      "Epoch 00122: val_loss did not improve from 0.08680\n",
      "Epoch 123/200\n",
      "1330452/1330452 [==============================] - 14s 10us/step - loss: 0.0850 - acc: 0.0292 - val_loss: 0.0868 - val_acc: 0.0228\n",
      "\n",
      "Epoch 00123: val_loss did not improve from 0.08680\n",
      "Epoch 124/200\n",
      "1330452/1330452 [==============================] - 14s 10us/step - loss: 0.0850 - acc: 0.0343 - val_loss: 0.0868 - val_acc: 0.0298\n",
      "\n",
      "Epoch 00124: val_loss did not improve from 0.08680\n",
      "Epoch 125/200\n",
      "1330452/1330452 [==============================] - 14s 10us/step - loss: 0.0850 - acc: 0.0243 - val_loss: 0.0868 - val_acc: 0.0516\n",
      "\n",
      "Epoch 00125: val_loss did not improve from 0.08680\n",
      "Time elapsed (hh:mm:ss.ms) 0:28:41.611635\n"
     ]
    }
   ],
   "source": [
    "hist_spae_sigmoid_adam_mse = fit_ae(checkpoint_file = \"./H5files/spae_sigmoid_adam_mse_redds\"+str(dsnum)+\"bal.h5\",\n",
    "                                  autoencoder = spae_sigmoid_adam_mse, \n",
    "                                  epochs = 200, \n",
    "                                  batch_size = batch_size,\n",
    "                                  shuffle = False)"
   ]
  },
  {
   "cell_type": "code",
   "execution_count": 65,
   "metadata": {},
   "outputs": [
    {
     "name": "stdout",
     "output_type": "stream",
     "text": [
      "Best loss value: 0.08503769382842767\n"
     ]
    },
    {
     "data": {
      "image/png": "[encoded data removed]",
      "text/plain": [
       "<Figure size 432x288 with 1 Axes>"
      ]
     },
     "metadata": {},
     "output_type": "display_data"
    }
   ],
   "source": [
    "best_loss_value_spae_sigmoid_adam_mse  = plot_hist_auto(hist_spae_sigmoid_adam_mse, './Figures/hist_spae_sigmoid_adam_mse.png')"
   ]
  },
  {
   "cell_type": "code",
   "execution_count": null,
   "metadata": {},
   "outputs": [],
   "source": []
  },
  {
   "cell_type": "code",
   "execution_count": 66,
   "metadata": {},
   "outputs": [],
   "source": [
    "loss_valueDict = {\n",
    "    'loss_value_ae_sigmoid_adam_mse': best_loss_value_ae_sigmoid_adam_mse,\n",
    "    'loss_value_spae_sigmoid_adam_mse': best_loss_value_spae_sigmoid_adam_mse\n",
    "    }"
   ]
  },
  {
   "cell_type": "code",
   "execution_count": 67,
   "metadata": {},
   "outputs": [
    {
     "data": {
      "text/plain": [
       "{'loss_value_ae_sigmoid_adam_mse': 0.04916597103699353,\n",
       " 'loss_value_spae_sigmoid_adam_mse': 0.08503769382842767}"
      ]
     },
     "execution_count": 67,
     "metadata": {},
     "output_type": "execute_result"
    }
   ],
   "source": [
    "loss_valueDict"
   ]
  },
  {
   "cell_type": "code",
   "execution_count": 68,
   "metadata": {},
   "outputs": [
    {
     "name": "stdout",
     "output_type": "stream",
     "text": [
      "(1330452, 140)\n",
      "(415767, 140)\n",
      "(1330452, 140)\n",
      "(415767, 140)\n"
     ]
    }
   ],
   "source": [
    "print(enc_train_x_asam.shape)\n",
    "print(enc_test_x_asam.shape)\n",
    "\n",
    "print(enc_train_x_spsam.shape)\n",
    "print(enc_test_x_spsam.shape)"
   ]
  },
  {
   "cell_type": "markdown",
   "metadata": {},
   "source": [
    "### **---------- RF with ae encoded DS ----------**"
   ]
  },
  {
   "cell_type": "code",
   "execution_count": 69,
   "metadata": {},
   "outputs": [],
   "source": [
    "from sklearn.ensemble import RandomForestClassifier"
   ]
  },
  {
   "cell_type": "code",
   "execution_count": 70,
   "metadata": {},
   "outputs": [
    {
     "data": {
      "image/png": "[encoded data removed]",
      "text/plain": [
       "<Figure size 576x360 with 1 Axes>"
      ]
     },
     "metadata": {},
     "output_type": "display_data"
    }
   ],
   "source": [
    "pca_ = PCA(n_components = 0.95, svd_solver = 'full').fit(train_x)\n",
    "\n",
    "plt.figure(figsize=(8,5))\n",
    "n_coml = [pca_.n_components_]\n",
    "\n",
    "plt.plot(np.cumsum(pca_.explained_variance_ratio_))\n",
    "plt.xlabel('Number of Components', fontsize=14)\n",
    "plt.ylabel('Variance (%)', fontsize=14) #for each component\n",
    "plt.title('Pulsar Dataset Explained Variance '+str(dsnum)+' node DS', fontsize=14)\n",
    "\n",
    "n_coml = [*n_coml]\n",
    "\n",
    "for i, v in enumerate(n_coml):\n",
    "    plt.text(v-0.8, i+0.94, '{:.0f}'.format(v), color='navy', fontsize=14)\n",
    "\n",
    "plt.savefig('./Figures/PCA_components_ds'+str(dsnum)+'bal.png')\n",
    "plt.show()"
   ]
  },
  {
   "cell_type": "code",
   "execution_count": 71,
   "metadata": {},
   "outputs": [],
   "source": [
    "clf = RandomForestClassifier(n_estimators=300, \n",
    "                             criterion='gini', \n",
    "                             max_depth=16, \n",
    "                             #min_samples_split=2, \n",
    "                             #min_samples_leaf=1, \n",
    "                             max_features=0.3, \n",
    "                             #bootstrap=True,\n",
    "                             oob_score=True,\n",
    "                             random_state=23)  "
   ]
  },
  {
   "cell_type": "code",
   "execution_count": 72,
   "metadata": {},
   "outputs": [
    {
     "name": "stdout",
     "output_type": "stream",
     "text": [
      "Tue Jul 16 15:44:04 2019\n",
      "Time elapsed (hh:mm:ss.ms) 8:03:43.066768\n",
      "              precision    recall  f1-score   support\n",
      "\n",
      "           0     0.9401    0.9918    0.9653    207840\n",
      "           1     0.9914    0.9369    0.9633    207927\n",
      "\n",
      "   micro avg     0.9643    0.9643    0.9643    415767\n",
      "   macro avg     0.9657    0.9643    0.9643    415767\n",
      "weighted avg     0.9657    0.9643    0.9643    415767\n",
      "\n"
     ]
    }
   ],
   "source": [
    "start_time = datetime.now()\n",
    "print(datetime.ctime(start_time))\n",
    "\n",
    "clf.fit(enc_train_x_asam, train_y)\n",
    "\n",
    "pred_y_ae_RF = cross_val_predict(estimator=clf,\n",
    "                              X=np.array(enc_test_x_asam),\n",
    "                              y=test_y,\n",
    "                              cv=KFold(n_splits=5, random_state=23),\n",
    "                              n_jobs=2)\n",
    "\n",
    "time_elapsed = datetime.now() - start_time \n",
    "print(\"Time elapsed (hh:mm:ss.ms) {}\".format(time_elapsed))\n",
    "\n",
    "print(sm.classification_report(test_y, pred_y_ae_RF,digits=4))"
   ]
  },
  {
   "cell_type": "code",
   "execution_count": 73,
   "metadata": {},
   "outputs": [
    {
     "data": {
      "image/png": "[encoded data removed]",
      "text/plain": [
       "<Figure size 432x288 with 1 Axes>"
      ]
     },
     "metadata": {},
     "output_type": "display_data"
    },
    {
     "data": {
      "image/png": "[encoded data removed]",
      "text/plain": [
       "<Figure size 576x432 with 2 Axes>"
      ]
     },
     "metadata": {},
     "output_type": "display_data"
    }
   ],
   "source": [
    "plot_roc_cm(pred_y_ae_RF, pred_y_ae_RF, './Figures/ROC_ae_rf_E100MaxfautoMaxdnoneBootT_redds'+str(dsnum)+'bal.png', './Figures/CM_ae_rf_E100MaxfautoMaxdnoneBootT_redds'+str(dsnum)+'bal.png')"
   ]
  },
  {
   "cell_type": "markdown",
   "metadata": {},
   "source": [
    "### **---------- RF with spae encoded DS ----------**"
   ]
  },
  {
   "cell_type": "code",
   "execution_count": 74,
   "metadata": {},
   "outputs": [
    {
     "name": "stdout",
     "output_type": "stream",
     "text": [
      "Tue Jul 16 23:47:48 2019\n",
      "Time elapsed (hh:mm:ss.ms) 7:49:16.161651\n",
      "              precision    recall  f1-score   support\n",
      "\n",
      "           0     0.9483    0.9886    0.9680    207840\n",
      "           1     0.9881    0.9462    0.9667    207927\n",
      "\n",
      "   micro avg     0.9674    0.9674    0.9674    415767\n",
      "   macro avg     0.9682    0.9674    0.9673    415767\n",
      "weighted avg     0.9682    0.9674    0.9673    415767\n",
      "\n"
     ]
    }
   ],
   "source": [
    "start_time = datetime.now()\n",
    "print(datetime.ctime(start_time))\n",
    "\n",
    "clf.fit(enc_train_x_spsam, train_y)\n",
    "\n",
    "pred_y_spae_RF = cross_val_predict(estimator=clf,\n",
    "                              X=np.array(enc_test_x_spsam),\n",
    "                              y=test_y,\n",
    "                              cv=KFold(n_splits=5, random_state=23),\n",
    "                              n_jobs=2)\n",
    "\n",
    "time_elapsed = datetime.now() - start_time \n",
    "print(\"Time elapsed (hh:mm:ss.ms) {}\".format(time_elapsed))\n",
    "\n",
    "print(sm.classification_report(test_y, pred_y_spae_RF,digits=4))"
   ]
  },
  {
   "cell_type": "code",
   "execution_count": 75,
   "metadata": {},
   "outputs": [
    {
     "data": {
      "image/png": "[encoded data removed]",
      "text/plain": [
       "<Figure size 432x288 with 1 Axes>"
      ]
     },
     "metadata": {},
     "output_type": "display_data"
    },
    {
     "data": {
      "image/png": "[encoded data removed]",
      "text/plain": [
       "<Figure size 576x432 with 2 Axes>"
      ]
     },
     "metadata": {},
     "output_type": "display_data"
    }
   ],
   "source": [
    "plot_roc_cm(pred_y_spae_RF, pred_y_spae_RF, './Figures/ROC_spae_rf_E100MaxfautoMaxdnoneBootT_redds'+str(dsnum)+'bal.png', './Figures/CM_spae_rf_E100MaxfautoMaxdnoneBootT_redds'+str(dsnum)+'bal.png')"
   ]
  },
  {
   "cell_type": "markdown",
   "metadata": {},
   "source": [
    "### **---------- RF with pca DS ----------**"
   ]
  },
  {
   "cell_type": "code",
   "execution_count": 76,
   "metadata": {},
   "outputs": [
    {
     "name": "stdout",
     "output_type": "stream",
     "text": [
      "Wed Jul 17 07:37:05 2019\n",
      "Time elapsed (hh:mm:ss.ms) 4:11:13.092356\n",
      "              precision    recall  f1-score   support\n",
      "\n",
      "           0     0.9377    0.9976    0.9667    207840\n",
      "           1     0.9974    0.9337    0.9645    207927\n",
      "\n",
      "   micro avg     0.9656    0.9656    0.9656    415767\n",
      "   macro avg     0.9675    0.9656    0.9656    415767\n",
      "weighted avg     0.9675    0.9656    0.9656    415767\n",
      "\n"
     ]
    }
   ],
   "source": [
    "start_time = datetime.now()\n",
    "print(datetime.ctime(start_time))\n",
    "\n",
    "clf.fit(train_x_pca, train_y)\n",
    "\n",
    "pred_y_pca_RF = cross_val_predict(estimator=clf,\n",
    "                              X=np.array(test_x_pca),\n",
    "                              y=test_y,\n",
    "                              cv=KFold(n_splits=5, random_state=23),\n",
    "                              n_jobs=2)\n",
    "\n",
    "time_elapsed = datetime.now() - start_time \n",
    "print(\"Time elapsed (hh:mm:ss.ms) {}\".format(time_elapsed))\n",
    "\n",
    "print(sm.classification_report(test_y, pred_y_pca_RF,digits=4))"
   ]
  },
  {
   "cell_type": "code",
   "execution_count": 77,
   "metadata": {},
   "outputs": [
    {
     "data": {
      "image/png": "[encoded data removed]",
      "text/plain": [
       "<Figure size 432x288 with 1 Axes>"
      ]
     },
     "metadata": {},
     "output_type": "display_data"
    },
    {
     "data": {
      "image/png": "[encoded data removed]",
      "text/plain": [
       "<Figure size 576x432 with 2 Axes>"
      ]
     },
     "metadata": {},
     "output_type": "display_data"
    }
   ],
   "source": [
    "plot_roc_cm(pred_y_pca_RF, pred_y_pca_RF, './Figures/ROC_pca_rf_E100MaxfautoMaxdnoneBootT_redds'+str(dsnum)+'bal.png', './Figures/CM_pca_rf_E100MaxfautoMaxdnoneBootT_redds'+str(dsnum)+'bal.png')"
   ]
  },
  {
   "cell_type": "code",
   "execution_count": null,
   "metadata": {},
   "outputs": [],
   "source": []
  },
  {
   "cell_type": "code",
   "execution_count": 78,
   "metadata": {},
   "outputs": [
    {
     "name": "stdout",
     "output_type": "stream",
     "text": [
      "(415767,)\n",
      "(415767,)\n",
      "(415767,)\n"
     ]
    }
   ],
   "source": [
    "print(pred_y_ae_RF.shape)\n",
    "print(pred_y_spae_RF.shape)\n",
    "print(pred_y_pca_RF.shape)"
   ]
  },
  {
   "cell_type": "code",
   "execution_count": 79,
   "metadata": {},
   "outputs": [
    {
     "data": {
      "image/png": "[encoded data removed]",
      "text/plain": [
       "<Figure size 1080x504 with 1 Axes>"
      ]
     },
     "metadata": {},
     "output_type": "display_data"
    }
   ],
   "source": [
    "false_positive_rate_ae_RF, recall_ae_RF, thresholds_ae_RF = roc_curve(test_y, pred_y_ae_RF)\n",
    "roc_auc_ae_RF = auc(false_positive_rate_ae_RF, recall_ae_RF)\n",
    "false_positive_rate_spae_RF, recall_spae_RF, thresholds_spae_RF = roc_curve(test_y, pred_y_spae_RF)\n",
    "roc_auc_spae_RF = auc(false_positive_rate_spae_RF, recall_spae_RF)\n",
    "false_positive_rate_pca_RF, recall_pca_RF, thresholds_pca_RF = roc_curve(test_y, pred_y_pca_RF)\n",
    "roc_auc_pca_RF = auc(false_positive_rate_pca_RF, recall_pca_RF)\n",
    "\n",
    "plt.figure(figsize=(15,7))\n",
    "plt.title('Receiver Operating Characteristic (ROC)', fontsize=16)\n",
    "\n",
    "plt.plot(false_positive_rate_ae_RF, recall_ae_RF, 'c', label = 'AUC AE + RF = %0.3f' %roc_auc_ae_RF)\n",
    "plt.plot(false_positive_rate_spae_RF, recall_spae_RF, 'm', label = 'AUC SAE + RF = %0.3f' %roc_auc_spae_RF)\n",
    "plt.plot(false_positive_rate_pca_RF, recall_pca_RF, 'black', label = 'AUC PCA + RF = %0.3f' %roc_auc_pca_RF)\n",
    "\n",
    "plt.legend(loc='lower right', fontsize=14)\n",
    "plt.plot([0,1], [0,1], 'r--')\n",
    "plt.xlim([0.0,1.0])\n",
    "plt.ylim([0.0,1.0])\n",
    "# plt.ylim([0.97,1.0])\n",
    "\n",
    "plt.ylabel('Recall - TPR', fontsize=14)\n",
    "plt.xlabel('Fall-out (1-Specificity) - FPR', fontsize=14)\n",
    "plt.savefig('./Figures/ROC_allRFmodels'+str(dsnum)+'bal.png')\n",
    "plt.show()\n"
   ]
  },
  {
   "cell_type": "code",
   "execution_count": 80,
   "metadata": {},
   "outputs": [
    {
     "data": {
      "image/png": "[encoded data removed]",
      "text/plain": [
       "<Figure size 1080x504 with 1 Axes>"
      ]
     },
     "metadata": {},
     "output_type": "display_data"
    }
   ],
   "source": [
    "plt.figure(figsize=(15,7))\n",
    "plt.title('Receiver Operating Characteristic (ROC) Zoom in', fontsize=16)\n",
    "\n",
    "plt.plot(false_positive_rate_ae_RF, recall_ae_RF, 'c', label = 'AUC AE + RF = %0.3f' %roc_auc_ae_RF)\n",
    "plt.plot(false_positive_rate_spae_RF, recall_spae_RF, 'm', label = 'AUC SAE + RF = %0.3f' %roc_auc_spae_RF)\n",
    "plt.plot(false_positive_rate_pca_RF, recall_pca_RF, 'black', label = 'AUC PCA + RF = %0.3f' %roc_auc_pca_RF)\n",
    "\n",
    "plt.legend(loc='lower right', fontsize=14)\n",
    "plt.plot([0,1], [0,1], 'r--')\n",
    "plt.xlim([0.0,1.0])\n",
    "# plt.ylim([0.0,1.0])\n",
    "plt.ylim([0.955,1.0])\n",
    "\n",
    "plt.ylabel('Recall - TPR', fontsize=14)\n",
    "plt.xlabel('Fall-out (1-Specificity) - FPR', fontsize=14)\n",
    "plt.savefig('./Figures/ROC_allRFmodels'+str(dsnum)+'bal_zoom.png')\n",
    "plt.show()"
   ]
  },
  {
   "cell_type": "code",
   "execution_count": 81,
   "metadata": {},
   "outputs": [
    {
     "name": "stdout",
     "output_type": "stream",
     "text": [
      "Classifier\tAcc\tPreci\tRecall\tF1Score\n",
      "AE+RF\t\t96.43\t99.14\t93.69\t96.33\n",
      "SAE+RF\t\t96.74\t98.81\t94.62\t96.67\n",
      "PCA+RF\t\t96.56\t99.74\t93.37\t96.45\n"
     ]
    }
   ],
   "source": [
    "classi_ae_RF = \"AE+RF\"\n",
    "acc_ae_RF = (sm.accuracy_score(test_y, pred_y_ae_RF)*100) \n",
    "pre_ae_RF = (sm.precision_score(test_y, pred_y_ae_RF)*100) \n",
    "recall_ae_RF = (sm.recall_score(test_y, pred_y_ae_RF)*100) \n",
    "f1score_ae_RF = (sm.f1_score(test_y, pred_y_ae_RF)*100)\n",
    "\n",
    "classi_spae_RF = \"SAE+RF\"\n",
    "acc_spae_RF = (sm.accuracy_score(test_y, pred_y_spae_RF)*100) \n",
    "pre_spae_RF = (sm.precision_score(test_y, pred_y_spae_RF)*100) \n",
    "recall_spae_RF = (sm.recall_score(test_y, pred_y_spae_RF)*100) \n",
    "f1score_spae_RF = (sm.f1_score(test_y, pred_y_spae_RF)*100)\n",
    "\n",
    "classi_pca_RF = \"PCA+RF\"\n",
    "acc_pca_RF = (sm.accuracy_score(test_y, pred_y_pca_RF)*100) \n",
    "pre_pca_RF = (sm.precision_score(test_y, pred_y_pca_RF)*100) \n",
    "recall_pca_RF = (sm.recall_score(test_y, pred_y_pca_RF)*100) \n",
    "f1score_pca_RF = (sm.f1_score(test_y, pred_y_pca_RF)*100)\n",
    "\n",
    "\n",
    "print('Classifier\\tAcc\\tPreci\\tRecall\\tF1Score')\n",
    "print('{0:}\\t\\t{1:.2f}\\t{2:.2f}\\t{3:.2f}\\t{4:.2f}'.format(classi_ae_RF, acc_ae_RF, pre_ae_RF, recall_ae_RF, f1score_ae_RF))\n",
    "print('{0:}\\t\\t{1:.2f}\\t{2:.2f}\\t{3:.2f}\\t{4:.2f}'.format(classi_spae_RF, acc_spae_RF, pre_spae_RF, recall_spae_RF, f1score_spae_RF))\n",
    "print('{0:}\\t\\t{1:.2f}\\t{2:.2f}\\t{3:.2f}\\t{4:.2f}'.format(classi_pca_RF, acc_pca_RF, pre_pca_RF, recall_pca_RF, f1score_pca_RF))"
   ]
  },
  {
   "cell_type": "code",
   "execution_count": 82,
   "metadata": {},
   "outputs": [
    {
     "data": {
      "image/png": "[encoded data removed]",
      "text/plain": [
       "<Figure size 576x432 with 1 Axes>"
      ]
     },
     "metadata": {},
     "output_type": "display_data"
    }
   ],
   "source": [
    "f1list = [[\"AE+RF\",f1score_ae_RF],[\"SAE+RF\",f1score_spae_RF],[\"PCA+RF\",f1score_pca_RF]]\n",
    "\n",
    "xs, ys = [*zip(*f1list)]\n",
    "\n",
    "# '{:.2f}'.format(f1score_ae_ann)\n",
    "\n",
    "plt.figure(figsize=(8,6), )\n",
    "plt.barh(xs, ys, color = \"purple\")\n",
    "plt.title(\"F1 score vs Classifier\", fontsize=16)\n",
    "plt.xlabel(\"Classifier\", fontsize=14)\n",
    "plt.ylabel(\"F1 score\", fontsize=14)\n",
    "plt.xticks(np.arange(0, 101, 10), fontsize=12)\n",
    "plt.yticks(fontsize=12, fontweight='bold')\n",
    "\n",
    "for i, v in enumerate(ys):\n",
    "    plt.text(v+1, i+0.1, '{:.2f}'.format(v), color='purple', fontsize=14)\n",
    "\n",
    "plt.savefig('./Figures/F1scoreplot_allRFmodels'+str(dsnum)+'bal.png')\n",
    "plt.show()"
   ]
  },
  {
   "cell_type": "code",
   "execution_count": null,
   "metadata": {},
   "outputs": [],
   "source": []
  },
  {
   "cell_type": "code",
   "execution_count": null,
   "metadata": {},
   "outputs": [],
   "source": []
  }
 ],
 "metadata": {
  "kernelspec": {
   "display_name": "Python 3",
   "language": "python",
   "name": "python3"
  },
  "language_info": {
   "codemirror_mode": {
    "name": "ipython",
    "version": 3
   },
   "file_extension": ".py",
   "mimetype": "text/x-python",
   "name": "python",
   "nbconvert_exporter": "python",
   "pygments_lexer": "ipython3",
   "version": "3.6.8"
  }
 },
 "nbformat": 4,
 "nbformat_minor": 2
}
