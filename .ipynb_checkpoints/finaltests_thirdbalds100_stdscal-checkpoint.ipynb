{
 "cells": [
  {
   "cell_type": "code",
   "execution_count": 1,
   "metadata": {},
   "outputs": [],
   "source": [
    "import os\n",
    "os.environ[\"CUDA_DEVICE_ORDER\"]=\"PCI_BUS_ID\"\n",
    "os.environ[\"CUDA_VISIBLE_DEVICES\"]=\"0\""
   ]
  },
  {
   "cell_type": "code",
   "execution_count": 2,
   "metadata": {},
   "outputs": [
    {
     "name": "stderr",
     "output_type": "stream",
     "text": [
      "Using TensorFlow backend.\n"
     ]
    }
   ],
   "source": [
    "###################################\n",
    "# TensorFlow wizardry\n",
    "import tensorflow as tf\n",
    "config = tf.ConfigProto()\n",
    " \n",
    "# Don’t pre-allocate memory; allocate as-needed\n",
    "config.gpu_options.allow_growth = True\n",
    " \n",
    "# Only allow a total of half the GPU memory to be allocated\n",
    "config.gpu_options.per_process_gpu_memory_fraction = 0.05\n",
    "#gpu_options = tf.GPUOptions(per_process_gpu_memory_fraction=0.333)\n",
    " \n",
    "# Create a session with the above options specified.\n",
    "from keras import optimizers, regularizers\n",
    "from keras.layers.normalization import BatchNormalization\n",
    "from keras.utils import to_categorical\n",
    "from keras.wrappers.scikit_learn import KerasClassifier\n",
    "from keras import optimizers\n",
    "from keras.constraints import maxnorm\n",
    "from keras.callbacks import ModelCheckpoint, TensorBoard, EarlyStopping\n",
    "\n",
    "from keras.models import Sequential, Model, load_model\n",
    "from keras.layers import Activation, Dense, Dropout, Input\n",
    "from keras import backend as k\n",
    "\n",
    "k.tensorflow_backend.set_session(tf.Session(config=config))\n",
    "#k.tensorflow_backend.set_session(tf.Session(config=tf.ConfigProto(gpu_options=gpu_options))\n",
    "###################################"
   ]
  },
  {
   "cell_type": "code",
   "execution_count": 3,
   "metadata": {},
   "outputs": [],
   "source": [
    "#----------------------------------Import modules------------------------------\n",
    "import numpy as np\n",
    "import pandas as pd\n",
    "import matplotlib.pyplot as plt\n",
    "import seaborn as sns\n",
    "from sklearn.model_selection import train_test_split\n",
    "from sklearn.metrics import confusion_matrix,accuracy_score, roc_curve, auc\n",
    "from sklearn import preprocessing\n",
    "sns.set_style(\"whitegrid\")\n",
    "np.random.seed(23)\n",
    "import time\n",
    "from sklearn.model_selection import GridSearchCV\n",
    "import sklearn.metrics as sm\n",
    "from sklearn.model_selection import KFold\n",
    "from sklearn.model_selection import cross_val_predict\n",
    "\n",
    "\n",
    "neurons=197\n",
    "batch_size=197\n",
    "dsnum=100"
   ]
  },
  {
   "cell_type": "code",
   "execution_count": 4,
   "metadata": {},
   "outputs": [
    {
     "name": "stdout",
     "output_type": "stream",
     "text": [
      "Default GPU Device: /device:GPU:0\n"
     ]
    }
   ],
   "source": [
    "if tf.test.gpu_device_name():\n",
    "    print('Default GPU Device: {}'.format(tf.test.gpu_device_name()))\n",
    "else:\n",
    "    print(\"Please install GPU version of TF\")"
   ]
  },
  {
   "cell_type": "code",
   "execution_count": 5,
   "metadata": {},
   "outputs": [],
   "source": [
    "pathds = '/home/user/01Code/00Datasets_final/'"
   ]
  },
  {
   "cell_type": "code",
   "execution_count": 6,
   "metadata": {},
   "outputs": [],
   "source": [
    "#df_chunk = pd.read_csv(pathds+'SubsetAllSamples/ThirdCloneID10bal_minmax.csv', chunksize=1000)\n",
    "#df = df_chunk.get_chunk(300000)\n",
    "df = pd.read_csv(pathds+\"SubsetAllSamples/ThirdCloneID\"+str(dsnum)+\"bal_stdscal.csv\")"
   ]
  },
  {
   "cell_type": "code",
   "execution_count": 7,
   "metadata": {},
   "outputs": [
    {
     "data": {
      "text/plain": [
       "(547846, 198)"
      ]
     },
     "execution_count": 7,
     "metadata": {},
     "output_type": "execute_result"
    }
   ],
   "source": [
    "df.shape"
   ]
  },
  {
   "cell_type": "markdown",
   "metadata": {},
   "source": [
    "#### 4.2 Explaining the data"
   ]
  },
  {
   "cell_type": "code",
   "execution_count": 8,
   "metadata": {},
   "outputs": [
    {
     "name": "stdout",
     "output_type": "stream",
     "text": [
      "Class 0: 273923\n",
      "Class 1: 273923\n",
      "Proportion: 1.0 : 1\n"
     ]
    }
   ],
   "source": [
    "#if you don't have an intuitive sense of how imbalanced these two classes are, let's go visual\n",
    "count_classes = pd.value_counts(df['class'], sort = True)\n",
    "print('Class 0:', count_classes[0])\n",
    "print('Class 1:', count_classes[1])\n",
    "print('Proportion:', round(count_classes[0] / count_classes[1], 3), ': 1')"
   ]
  },
  {
   "cell_type": "code",
   "execution_count": 9,
   "metadata": {},
   "outputs": [
    {
     "data": {
      "image/png": "[encoded data removed]",
      "text/plain": [
       "<Figure size 432x288 with 1 Axes>"
      ]
     },
     "metadata": {
      "needs_background": "light"
     },
     "output_type": "display_data"
    }
   ],
   "source": [
    "count_classes.plot(kind = 'bar', rot=0)\n",
    "plt.xticks(range(2), ['Normal [0]','Malicious [1]'])\n",
    "plt.title(\"Frequency by observation number\")\n",
    "plt.xlabel(\"Class\")\n",
    "plt.ylabel(\"Number of Observations\");"
   ]
  },
  {
   "cell_type": "code",
   "execution_count": 10,
   "metadata": {},
   "outputs": [],
   "source": [
    "#set random seed and percentage of test data\n",
    "RANDOM_SEED = 23 #used to help randomly select the data points\n",
    "TEST_PCT = 0.20 # 20% of the data"
   ]
  },
  {
   "cell_type": "code",
   "execution_count": 11,
   "metadata": {},
   "outputs": [],
   "source": [
    "train, test_df = train_test_split(df, test_size=TEST_PCT, random_state=RANDOM_SEED)"
   ]
  },
  {
   "cell_type": "markdown",
   "metadata": {},
   "source": [
    "+ df -> original dataset \n",
    "+ train -> subset of 80% from original dataset \n",
    "+ test_df -> subset of 20% from original dataset "
   ]
  },
  {
   "cell_type": "code",
   "execution_count": 12,
   "metadata": {},
   "outputs": [],
   "source": [
    "train_df, dev_df = train_test_split(train, test_size=TEST_PCT, random_state=RANDOM_SEED)"
   ]
  },
  {
   "cell_type": "markdown",
   "metadata": {},
   "source": [
    "+ train -> subset of 80% from original dataset \n",
    "+ train_df -> subset of 80% from train\n",
    "+ dev_df -> subset of 20% from train"
   ]
  },
  {
   "cell_type": "code",
   "execution_count": 13,
   "metadata": {},
   "outputs": [
    {
     "name": "stdout",
     "output_type": "stream",
     "text": [
      "0.4996463407677828\n",
      "0.500867025645706\n",
      "0.5004380761157251\n"
     ]
    }
   ],
   "source": [
    "# Check distribution of mal samples in train and test set\n",
    "print(train_df.iloc[:, batch_size].sum()/train_df.shape[0]) \n",
    "print(dev_df.iloc[:, batch_size].sum()/dev_df.shape[0]) \n",
    "print(test_df.iloc[:, batch_size].sum()/test_df.shape[0])"
   ]
  },
  {
   "cell_type": "code",
   "execution_count": 14,
   "metadata": {},
   "outputs": [],
   "source": [
    "train_x = train_df.iloc[:, :batch_size] \n",
    "dev_x = dev_df.iloc[:, :batch_size] \n",
    "test_x = test_df.iloc[:, :batch_size] "
   ]
  },
  {
   "cell_type": "markdown",
   "metadata": {},
   "source": [
    "+ train_x -> features of train_df **Training subset for AE**\n",
    "+ dev_x -> features of dev_df **Validation subset for AE**\n",
    "+ test_x -> features of test_df **Testing subset for ANN**"
   ]
  },
  {
   "cell_type": "code",
   "execution_count": 15,
   "metadata": {},
   "outputs": [],
   "source": [
    "# Define the final train and test sets\n",
    "train_y = train_df.iloc[:,batch_size]\n",
    "dev_y = dev_df.iloc[:,batch_size]\n",
    "test_y = test_df.iloc[:,batch_size]"
   ]
  },
  {
   "cell_type": "markdown",
   "metadata": {},
   "source": [
    "+ train_y -> **Labels for supervised training of ANN**\n",
    "+ dev_y -> labels of dev_df  *not used for AE neither ANN*\n",
    "+ test_y -> labels of test_df  **Ground Truth for predictions of supervised ANN**"
   ]
  },
  {
   "cell_type": "code",
   "execution_count": 16,
   "metadata": {},
   "outputs": [
    {
     "name": "stdout",
     "output_type": "stream",
     "text": [
      "197\n"
     ]
    }
   ],
   "source": [
    "train_x =np.array(train_x)\n",
    "dev_x =np.array(dev_x)\n",
    "test_x = np.array(test_x)\n",
    "\n",
    "train_y = np.array(train_y)\n",
    "dev_y = np.array(dev_y)\n",
    "test_y = np.array(test_y)\n",
    "\n",
    "print(train_x.shape[1])"
   ]
  },
  {
   "cell_type": "markdown",
   "metadata": {},
   "source": [
    "### Autoencoder Function"
   ]
  },
  {
   "cell_type": "code",
   "execution_count": 17,
   "metadata": {},
   "outputs": [],
   "source": [
    "def ae(factor_enc_dim, enc_activation, dec_activation, \n",
    "                optimizer, loss):\n",
    "\n",
    "    encoding_dim = int(int(train_x.shape[1])/factor_enc_dim)\n",
    "    ### Define input layer\n",
    "    input_data = Input(shape=(train_x.shape[1],))\n",
    "    ### Define encoding layer #RELU\n",
    "    encoded = Dense(encoding_dim, activation=enc_activation, name='encoded_bottle_neck')(input_data)\n",
    "    ### Define decoding layer #SIMOID\n",
    "    decoded = Dense(train_x.shape[1], activation=dec_activation)(encoded)\n",
    "    ### Create the autoencoder model\n",
    "    autoencoder = Model(input_data, decoded)\n",
    "    autoencoder.compile(optimizer=optimizer,\n",
    "                        loss=loss,\n",
    "                        metrics=['accuracy'])\n",
    "    \n",
    "    print(autoencoder.summary())\n",
    "    \n",
    "    encoder = Model(input_data, encoded)\n",
    "    encoded_train_x = encoder.predict(train_x)\n",
    "    encoded_test_x = encoder.predict(test_x)\n",
    "    \n",
    "    return autoencoder,encoded_train_x,encoded_test_x"
   ]
  },
  {
   "cell_type": "code",
   "execution_count": 18,
   "metadata": {},
   "outputs": [],
   "source": [
    "def sae(factor_enc_dim, output_activation,\n",
    "        optimizer, loss):\n",
    "\n",
    "    encoding_dim = int(int(train_x.shape[1])/factor_enc_dim)\n",
    "    ### Define input layer\n",
    "    input_data = Input(shape=(train_x.shape[1],))\n",
    "    ### Define encoding layer\n",
    "    encoded = Dense(encoding_dim, activation='relu', name='input_layer')(input_data)\n",
    "    encoded = Dense(int(encoding_dim/2), activation='relu')(encoded) ##Stacked AE\n",
    "    encoded_bottle_neck = Dense(int(encoding_dim/4), activation='relu', name='enc_bottle_neck')(encoded) ##Stacked AE\n",
    "    \n",
    "    ### Define decoding layer\n",
    "    decoded = Dense(int(encoding_dim/2), activation='relu')(encoded_bottle_neck) ##Stacked AE\n",
    "    decoded = Dense(encoding_dim, activation='relu')(decoded) ##Stacked AE\n",
    "    decoded = Dense(train_x.shape[1], activation=output_activation)(decoded)\n",
    "    \n",
    "    ### Create the autoencoder model\n",
    "    sae = Model(input_data, decoded)\n",
    "    sae.compile(optimizer=optimizer,\n",
    "                loss=loss,\n",
    "                metrics=['accuracy'])\n",
    "    \n",
    "    print(sae.summary())\n",
    "\n",
    "    encoder = Model(input_data, encoded_bottle_neck)\n",
    "    encoded_train_x = encoder.predict(train_x)\n",
    "    encoded_test_x = encoder.predict(test_x)\n",
    "    \n",
    "    return sae,encoded_train_x,encoded_test_x"
   ]
  },
  {
   "cell_type": "code",
   "execution_count": 136,
   "metadata": {},
   "outputs": [],
   "source": [
    "def spae(factor_enc_dim,dec_activation,enc_activation,\n",
    "         optimizer,loss):\n",
    "\n",
    "    encoding_dim = int(int(train_x.shape[1])/factor_enc_dim)\n",
    "    ### Define input layer\n",
    "    input_data = Input(shape=(train_x.shape[1],))\n",
    "    ### Define encoding layer\n",
    "    encoded = Dense(encoding_dim, activity_regularizer=regularizers.l1(1e-4), activation=enc_activation, name='encoded_bottle_neck')(input_data)\n",
    "    ### Define decoding layer\n",
    "    decoded = Dense(train_x.shape[1], activation=dec_activation)(encoded)\n",
    "    ### Create the autoencoder model\n",
    "    autoencoder = Model(input_data, decoded)\n",
    "    autoencoder.compile(optimizer=optimizer,\n",
    "                        loss=loss,\n",
    "                        metrics=['accuracy'])\n",
    "    \n",
    "    print(autoencoder.summary())\n",
    "    \n",
    "    encoder = Model(input_data, encoded)\n",
    "    encoded_train_x = encoder.predict(train_x)\n",
    "    encoded_test_x = encoder.predict(test_x)\n",
    "    \n",
    "    return autoencoder,encoded_train_x,encoded_test_x"
   ]
  },
  {
   "cell_type": "code",
   "execution_count": null,
   "metadata": {},
   "outputs": [],
   "source": []
  },
  {
   "cell_type": "code",
   "execution_count": 20,
   "metadata": {},
   "outputs": [],
   "source": [
    "def fit_ae(checkpoint_file, autoencoder,\n",
    "           epochs, batch_size, shuffle):\n",
    "    \n",
    "    early_stopping = EarlyStopping(monitor='val_loss', patience=5)\n",
    "\n",
    "    cp = ModelCheckpoint(filepath=checkpoint_file,\n",
    "                                   save_best_only=True,\n",
    "                                   verbose=0)\n",
    "\n",
    "    tb = TensorBoard(log_dir='./logs',\n",
    "                    histogram_freq=0,\n",
    "                    write_graph=True,\n",
    "                    write_images=True)\n",
    "\n",
    "    start_time = time.time()\n",
    "    print(time.ctime(start_time))\n",
    "\n",
    "    hist_auto = autoencoder.fit(train_x, train_x,\n",
    "                    epochs=epochs,\n",
    "                    batch_size=batch_size,\n",
    "                    shuffle=shuffle,\n",
    "                    verbose=1,\n",
    "                    callbacks=[early_stopping, cp, tb],\n",
    "                    validation_data=(dev_x, dev_x))\n",
    "\n",
    "    elapsed_time = (time.time() - start_time)\n",
    "    print(\"--- AE spent %s seconds ---\" % elapsed_time)\n",
    "    \n",
    "    return hist_auto"
   ]
  },
  {
   "cell_type": "code",
   "execution_count": 21,
   "metadata": {},
   "outputs": [],
   "source": [
    "def plot_hist_auto(hist_auto, fig_file):\n",
    "    best_loss_value = hist_auto.history['loss'][-1]\n",
    "    print('Best loss value:', best_loss_value)\n",
    "\n",
    "    # Summarize history for loss\n",
    "    plt.figure()\n",
    "    plt.plot(hist_auto.history['loss'])\n",
    "    plt.plot(hist_auto.history['val_loss'])\n",
    "    plt.title('Autoencoder model loss')\n",
    "    plt.ylabel('loss')\n",
    "    plt.xlabel('epoch')\n",
    "    plt.legend(['train', 'test'], loc='upper right')\n",
    "    plt.savefig(fig_file)\n",
    "    plt.show()\n",
    "    \n",
    "    return best_loss_value"
   ]
  },
  {
   "cell_type": "code",
   "execution_count": null,
   "metadata": {},
   "outputs": [],
   "source": []
  },
  {
   "cell_type": "code",
   "execution_count": 22,
   "metadata": {},
   "outputs": [],
   "source": [
    "def ann_2h(neurons,encoded_train_x,init_mode,activation_input,\n",
    "               weight_constraint,dropout_rate,activation_output,\n",
    "               loss,optimizer):\n",
    "\n",
    "    # create model\n",
    "    model = Sequential()\n",
    "\n",
    "    model.add(Dense(neurons, input_dim=encoded_train_x.shape[1],\n",
    "                    kernel_initializer=init_mode,\n",
    "                    #kernel_regularizer=regularizers.l2(0.02), #from example\n",
    "                    activation=activation_input,\n",
    "                    kernel_constraint=maxnorm(weight_constraint)\n",
    "                    )\n",
    "              )\n",
    "\n",
    "#     #Hidden Layer\n",
    "    model.add(Dense(int(neurons-int(neurons/4)), activation=\"relu\", kernel_initializer=init_mode)) #rezvy\n",
    "\n",
    "    model.add(Dense(int(neurons-int((neurons/4)*2)), activation=\"relu\", kernel_initializer=init_mode)) #rezvy\n",
    "    model.add(BatchNormalization()) #commented for ex\n",
    "    model.add(Dropout(dropout_rate))\n",
    "    \n",
    "    model.add(Dense(1, activation=activation_output)) #example\n",
    "    \n",
    "    # Compile model\n",
    "    model.compile(loss=loss, \n",
    "                  optimizer=optimizer, \n",
    "                  metrics=['accuracy'])\n",
    "    \n",
    "    print(model.summary())\n",
    "    \n",
    "    return model"
   ]
  },
  {
   "cell_type": "code",
   "execution_count": 23,
   "metadata": {},
   "outputs": [],
   "source": [
    "def ann_2h_(neurons,encoded_train_x,init_mode,activation_input,\n",
    "               dropout_rate,activation_output,\n",
    "               loss,lr):\n",
    "\n",
    "    # create model\n",
    "    model = Sequential()\n",
    "\n",
    "    model.add(Dense(neurons, input_dim=encoded_train_x.shape[1],\n",
    "                    kernel_initializer=init_mode,\n",
    "                    #kernel_regularizer=regularizers.l2(0.02), #from example\n",
    "                    activation=activation_input,\n",
    "#                     kernel_constraint=maxnorm(weight_constraint)\n",
    "#                     kernel_constraint=maxnorm(weight_constraint)\n",
    "                    )\n",
    "              )\n",
    "\n",
    "#     #Hidden Layer\n",
    "    model.add(Dense(int(neurons-int(neurons/4)), activation=\"relu\")) #rezvy\n",
    "\n",
    "    model.add(Dense(int(neurons-int((neurons/4)*2)), activation=\"relu\")) #rezvy\n",
    "    model.add(BatchNormalization()) #commented for ex\n",
    "    model.add(Dropout(dropout_rate))\n",
    "    \n",
    "    model.add(Dense(1, activation=activation_output)) #example\n",
    "\n",
    "    optimizer = optimizers.Adam(lr=lr)\n",
    "    \n",
    "    # Compile model\n",
    "    model.compile(loss=loss, \n",
    "                  optimizer=optimizer, \n",
    "                  metrics=['accuracy'])\n",
    "    \n",
    "    print(model.summary())\n",
    "    \n",
    "    return model"
   ]
  },
  {
   "cell_type": "code",
   "execution_count": 24,
   "metadata": {},
   "outputs": [],
   "source": [
    "def ann_2h__(neurons,encoded_train_x,activation_input,\n",
    "             activation_output,loss,optimizer):\n",
    "\n",
    "    # create model\n",
    "    model = Sequential()\n",
    "\n",
    "    model.add(Dense(neurons, input_dim=encoded_train_x.shape[1],\n",
    "#                     kernel_initializer=init_mode,\n",
    "                    #kernel_regularizer=regularizers.l2(0.02), #from example\n",
    "                    activation=activation_input,\n",
    "#                     kernel_constraint=maxnorm(weight_constraint)\n",
    "#                     kernel_constraint=maxnorm(weight_constraint)\n",
    "                    )\n",
    "              )\n",
    "\n",
    "#     #Hidden Layer\n",
    "    model.add(Dense(int(neurons-int(neurons/4)), activation=\"relu\")) #rezvy\n",
    "\n",
    "    model.add(Dense(int(neurons-int((neurons/4)*2)), activation=\"relu\")) #rezvy\n",
    "#     model.add(BatchNormalization()) #commented for ex\n",
    "#     model.add(Dropout(dropout_rate))\n",
    "    \n",
    "    model.add(Dense(1, activation=activation_output)) #example\n",
    "\n",
    "#     optimizer = optimizers.Adam(lr=lr)\n",
    "    \n",
    "    # Compile model\n",
    "    model.compile(loss=loss, \n",
    "                  optimizer=optimizer, \n",
    "                  metrics=['accuracy'])\n",
    "    \n",
    "    print(model.summary())\n",
    "    \n",
    "    return model"
   ]
  },
  {
   "cell_type": "code",
   "execution_count": 25,
   "metadata": {},
   "outputs": [],
   "source": [
    "def ann_1h_36n(neurons,encoded_train_x,init_mode,activation_input,\n",
    "               weight_constraint,dropout_rate,activation_output,\n",
    "               loss,optimizer):\n",
    "\n",
    "    # create model\n",
    "    model = Sequential()\n",
    "\n",
    "    model.add(Dense(neurons, input_dim=encoded_train_x.shape[1],\n",
    "                    kernel_initializer=init_mode,\n",
    "                    #kernel_regularizer=regularizers.l2(0.02), #from example\n",
    "                    activation=activation_input,\n",
    "                    kernel_constraint=maxnorm(weight_constraint)\n",
    "                    )\n",
    "              )\n",
    "\n",
    "#     #Hidden Layer\n",
    "    model.add(Dense(int(neurons-int(neurons/4)), activation=\"relu\", kernel_initializer=init_mode)) #rezvy\n",
    "    model.add(BatchNormalization()) #commented for ex\n",
    "    model.add(Dropout(dropout_rate))\n",
    "    \n",
    "    model.add(Dense(1, activation=activation_output)) #example\n",
    "    \n",
    "    # Compile model\n",
    "    model.compile(loss=loss, \n",
    "                  optimizer=optimizer, \n",
    "                  metrics=['accuracy'])\n",
    "    \n",
    "    print(model.summary())\n",
    "    \n",
    "    return model"
   ]
  },
  {
   "cell_type": "code",
   "execution_count": 26,
   "metadata": {},
   "outputs": [],
   "source": [
    "def ann_1h_24n(neurons,encoded_train_x,init_mode,activation_input,\n",
    "               weight_constraint,dropout_rate,activation_output,\n",
    "               loss,optimizer):\n",
    "\n",
    "    # create model\n",
    "    model = Sequential()\n",
    "\n",
    "    model.add(Dense(neurons, input_dim=encoded_train_x.shape[1],\n",
    "                    kernel_initializer=init_mode,\n",
    "                    #kernel_regularizer=regularizers.l2(0.02), #from example\n",
    "                    activation=activation_input,\n",
    "                    kernel_constraint=maxnorm(weight_constraint)\n",
    "                    )\n",
    "              )\n",
    "\n",
    "#     #Hidden Layer\n",
    "    model.add(Dense(int(neurons-int(neurons/4)), activation=\"relu\", kernel_initializer=init_mode)) #rezvy\n",
    "    model.add(BatchNormalization()) #commented for ex\n",
    "    model.add(Dropout(dropout_rate))\n",
    "    \n",
    "    model.add(Dense(1, activation=activation_output)) #example\n",
    "    \n",
    "    # Compile model\n",
    "    model.compile(loss=loss, \n",
    "                  optimizer=optimizer, \n",
    "                  metrics=['accuracy'])\n",
    "    \n",
    "    print(model.summary())\n",
    "    \n",
    "    return model"
   ]
  },
  {
   "cell_type": "code",
   "execution_count": 27,
   "metadata": {},
   "outputs": [],
   "source": [
    "def ann_1h_24n_(neurons,encoded_train_x,activation_input,\n",
    "               activation_output,loss,optimizer):\n",
    "\n",
    "    # create model\n",
    "    model = Sequential()\n",
    "\n",
    "    model.add(Dense(neurons, input_dim=encoded_train_x.shape[1],\n",
    "#                     kernel_initializer=init_mode,\n",
    "                    #kernel_regularizer=regularizers.l2(0.02), #from example\n",
    "                    activation=activation_input,\n",
    "#                     kernel_constraint=maxnorm(weight_constraint)\n",
    "                    )\n",
    "              )\n",
    "\n",
    "#     #Hidden Layer\n",
    "    model.add(Dense(int(neurons-int(neurons/4)), activation=\"relu\")) #rezvy\n",
    "    \n",
    "#     model.add(BatchNormalization()) #commented for ex\n",
    "#     model.add(Dropout(dropout_rate))\n",
    "    \n",
    "    model.add(Dense(1, activation=activation_output)) #example\n",
    "    \n",
    "    # Compile model\n",
    "    model.compile(loss=loss, \n",
    "                  optimizer=optimizer, \n",
    "                  metrics=['accuracy'])\n",
    "    \n",
    "    print(model.summary())\n",
    "    \n",
    "    return model"
   ]
  },
  {
   "cell_type": "code",
   "execution_count": 28,
   "metadata": {},
   "outputs": [],
   "source": [
    "def ann_fit(checkpoint_file,ann,enc_train_x,train_y,epochs,shuffle,batch_size):\n",
    "    early_stopping = EarlyStopping(monitor='val_loss', patience=5)\n",
    "\n",
    "    cp = ModelCheckpoint(filepath=checkpoint_file,\n",
    "                                   save_best_only=True,\n",
    "                                   verbose=0)\n",
    "\n",
    "    tb = TensorBoard(log_dir='./logs',\n",
    "                    histogram_freq=0,\n",
    "                    write_graph=True,\n",
    "                    write_images=True)\n",
    "\n",
    "    start_time = time.time()\n",
    "    print(time.ctime(start_time))\n",
    "\n",
    "    history = ann.fit(enc_train_x,\n",
    "                      train_y,\n",
    "                      validation_split=0.2,\n",
    "                      callbacks=[early_stopping],\n",
    "                      epochs=epochs,\n",
    "                      shuffle=shuffle,\n",
    "                      batch_size=batch_size,\n",
    "                      verbose=1)\n",
    "\n",
    "    elapsed_time = (time.time() - start_time)\n",
    "    print(\"--- ANN spent %s seconds ---\" % elapsed_time)\n",
    "\n",
    "    return history"
   ]
  },
  {
   "cell_type": "code",
   "execution_count": 29,
   "metadata": {},
   "outputs": [],
   "source": [
    "def ann_predict(ann,enc_test_x):\n",
    "    pred_ann_prob = ann.predict(enc_test_x)\n",
    "    pred_ann_prob.shape\n",
    "    pred_ann_prob = pred_ann_prob[:,0]\n",
    "    pred_ann_01 = np.where(pred_ann_prob > 0.5, 1, 0)\n",
    "    \n",
    "    #Print accuracy\n",
    "    acc_ann = accuracy_score(test_y, pred_ann_01)\n",
    "    print('Overall accuracy of Neural Network model:', acc_ann)\n",
    "\n",
    "    classiBM = \"NN\"\n",
    "    preBM = (sm.precision_score(test_y, pred_ann_01)*100) \n",
    "    recallBM = (sm.recall_score(test_y, pred_ann_01)*100) \n",
    "    f1scoreBM = (sm.f1_score(test_y, pred_ann_01)*100)\n",
    "    print(sm.classification_report(test_y, pred_ann_01,digits=4))\n",
    "    \n",
    "    return pred_ann_prob, pred_ann_01"
   ]
  },
  {
   "cell_type": "code",
   "execution_count": 30,
   "metadata": {},
   "outputs": [],
   "source": [
    "def ann_predict_(ann,enc_test_x):\n",
    "    #pred_ann_prob = ann.predict(enc_test_x)\n",
    "    \n",
    "    start_time = time.time()\n",
    "    print(time.ctime(start_time))    \n",
    "    \n",
    "    pred_ann_prob = cross_val_predict(estimator=ann,\n",
    "                              X=np.array(enc_test_x),\n",
    "                              y=test_y,\n",
    "                              cv=KFold(n_splits=5, random_state=23))\n",
    "\n",
    "    elapsed_time = (time.time() - start_time)\n",
    "    print(\"--- %s seconds ---\" %elapsed_time)\n",
    "    \n",
    "    pred_ann_prob.shape\n",
    "    pred_ann_prob = pred_ann_prob[:,0]\n",
    "    pred_ann_01 = np.where(pred_ann_prob > 0.5, 1, 0)\n",
    "    \n",
    "    #Print accuracy\n",
    "    acc_ann = accuracy_score(test_y, pred_ann_01)\n",
    "    print('Overall accuracy of Neural Network model:', acc_ann)\n",
    "\n",
    "    classiBM = \"NN\"\n",
    "    preBM = (sm.precision_score(test_y, pred_ann_01)*100) \n",
    "    recallBM = (sm.recall_score(test_y, pred_ann_01)*100) \n",
    "    f1scoreBM = (sm.f1_score(test_y, pred_ann_01)*100)\n",
    "    print(sm.classification_report(test_y, pred_ann_01,digits=4))\n",
    "    \n",
    "    return pred_ann_prob, pred_ann_01"
   ]
  },
  {
   "cell_type": "code",
   "execution_count": 31,
   "metadata": {},
   "outputs": [],
   "source": [
    "def plot_roc_cm(pred_ann_prob, pred_ann_01, roc_file, cm_file):\n",
    "    false_positive_rate, recall, thresholds = roc_curve(test_y, pred_ann_prob)\n",
    "    roc_auc = auc(false_positive_rate, recall)\n",
    "    plt.figure()\n",
    "    plt.title('Receiver Operating Characteristic (ROC)')\n",
    "    plt.plot(false_positive_rate, recall, 'b', label = 'AUC = %0.3f' %roc_auc)\n",
    "    plt.legend(loc='lower right')\n",
    "    plt.plot([0,1], [0,1], 'r--')\n",
    "    plt.xlim([0.0,1.0])\n",
    "    plt.ylim([0.0,1.0])\n",
    "    plt.ylabel('Recall')\n",
    "    plt.xlabel('Fall-out (1-Specificity)')\n",
    "    plt.savefig(roc_file)\n",
    "    plt.show()\n",
    "    \n",
    "    cm = confusion_matrix(test_y, pred_ann_01)\n",
    "    labels = ['Normal', 'Malicious']\n",
    "    plt.figure(figsize=(8,6))\n",
    "    sns.heatmap(cm,xticklabels=labels, yticklabels=labels, annot=True, fmt='d', cmap=\"RdYlGn\", vmin = 0.2);\n",
    "    plt.title('Confusion Matrix')\n",
    "    plt.ylabel('True Class')\n",
    "    plt.xlabel('Predicted Class')\n",
    "    plt.savefig(cm_file)\n",
    "    plt.show()\n",
    "    "
   ]
  },
  {
   "cell_type": "code",
   "execution_count": 32,
   "metadata": {},
   "outputs": [
    {
     "name": "stdout",
     "output_type": "stream",
     "text": [
      "WARNING:tensorflow:From /home/user/anaconda3/envs/deepl/lib/python3.6/site-packages/tensorflow/python/framework/op_def_library.py:263: colocate_with (from tensorflow.python.framework.ops) is deprecated and will be removed in a future version.\n",
      "Instructions for updating:\n",
      "Colocations handled automatically by placer.\n",
      "_________________________________________________________________\n",
      "Layer (type)                 Output Shape              Param #   \n",
      "=================================================================\n",
      "input_1 (InputLayer)         (None, 197)               0         \n",
      "_________________________________________________________________\n",
      "encoded_bottle_neck (Dense)  (None, 131)               25938     \n",
      "_________________________________________________________________\n",
      "dense_1 (Dense)              (None, 197)               26004     \n",
      "=================================================================\n",
      "Total params: 51,942\n",
      "Trainable params: 51,942\n",
      "Non-trainable params: 0\n",
      "_________________________________________________________________\n",
      "None\n"
     ]
    }
   ],
   "source": [
    "ae_sigmoid_adam_logcosh,enc_train_x_asal,enc_test_x_asal = ae(factor_enc_dim = 1.5,\n",
    "                                                              enc_activation = 'relu',\n",
    "                                                              dec_activation = 'sigmoid',\n",
    "                                                              optimizer='Adam',\n",
    "                                                              loss='logcosh')"
   ]
  },
  {
   "cell_type": "code",
   "execution_count": 33,
   "metadata": {},
   "outputs": [],
   "source": [
    "#ae_sigmoid_adam_logcosh = load_model('ae_sigmoid_adam_logcosh_redds10bal.h5')"
   ]
  },
  {
   "cell_type": "code",
   "execution_count": 34,
   "metadata": {},
   "outputs": [
    {
     "name": "stdout",
     "output_type": "stream",
     "text": [
      "Wed Jun 12 17:49:56 2019\n",
      "WARNING:tensorflow:From /home/user/anaconda3/envs/deepl/lib/python3.6/site-packages/tensorflow/python/ops/math_ops.py:3066: to_int32 (from tensorflow.python.ops.math_ops) is deprecated and will be removed in a future version.\n",
      "Instructions for updating:\n",
      "Use tf.cast instead.\n",
      "Train on 350620 samples, validate on 87656 samples\n",
      "Epoch 1/200\n",
      "350620/350620 [==============================] - 4s 12us/step - loss: 0.0232 - acc: 0.2368 - val_loss: 0.0200 - val_acc: 0.3055\n",
      "Epoch 2/200\n",
      "350620/350620 [==============================] - 4s 11us/step - loss: 0.0189 - acc: 0.3261 - val_loss: 0.0183 - val_acc: 0.3532\n",
      "Epoch 3/200\n",
      "350620/350620 [==============================] - 4s 11us/step - loss: 0.0181 - acc: 0.3376 - val_loss: 0.0181 - val_acc: 0.3216\n",
      "Epoch 4/200\n",
      "350620/350620 [==============================] - 4s 11us/step - loss: 0.0180 - acc: 0.3155 - val_loss: 0.0180 - val_acc: 0.2996\n",
      "Epoch 5/200\n",
      "350620/350620 [==============================] - 4s 11us/step - loss: 0.0180 - acc: 0.2754 - val_loss: 0.0180 - val_acc: 0.2480\n",
      "Epoch 6/200\n",
      "350620/350620 [==============================] - 4s 11us/step - loss: 0.0179 - acc: 0.2421 - val_loss: 0.0180 - val_acc: 0.2473\n",
      "Epoch 7/200\n",
      "350620/350620 [==============================] - 4s 11us/step - loss: 0.0179 - acc: 0.2315 - val_loss: 0.0179 - val_acc: 0.2303\n",
      "Epoch 8/200\n",
      "350620/350620 [==============================] - 4s 11us/step - loss: 0.0179 - acc: 0.1924 - val_loss: 0.0179 - val_acc: 0.1933\n",
      "Epoch 9/200\n",
      "350620/350620 [==============================] - 4s 11us/step - loss: 0.0179 - acc: 0.2023 - val_loss: 0.0179 - val_acc: 0.1761\n",
      "Epoch 10/200\n",
      "350620/350620 [==============================] - 4s 11us/step - loss: 0.0179 - acc: 0.1817 - val_loss: 0.0179 - val_acc: 0.1810\n",
      "Epoch 11/200\n",
      "350620/350620 [==============================] - 4s 11us/step - loss: 0.0179 - acc: 0.1845 - val_loss: 0.0179 - val_acc: 0.1827\n",
      "Epoch 12/200\n",
      "350620/350620 [==============================] - 4s 11us/step - loss: 0.0179 - acc: 0.1576 - val_loss: 0.0179 - val_acc: 0.1525\n",
      "Epoch 13/200\n",
      "350620/350620 [==============================] - 4s 11us/step - loss: 0.0179 - acc: 0.1720 - val_loss: 0.0179 - val_acc: 0.1910\n",
      "Epoch 14/200\n",
      "350620/350620 [==============================] - 4s 11us/step - loss: 0.0179 - acc: 0.1746 - val_loss: 0.0179 - val_acc: 0.1751\n",
      "Epoch 15/200\n",
      "350620/350620 [==============================] - 4s 11us/step - loss: 0.0179 - acc: 0.1778 - val_loss: 0.0179 - val_acc: 0.1916\n",
      "Epoch 16/200\n",
      "350620/350620 [==============================] - 4s 11us/step - loss: 0.0179 - acc: 0.1956 - val_loss: 0.0179 - val_acc: 0.1925\n",
      "Epoch 17/200\n",
      "350620/350620 [==============================] - 4s 11us/step - loss: 0.0179 - acc: 0.1896 - val_loss: 0.0179 - val_acc: 0.1843\n",
      "Epoch 18/200\n",
      "350620/350620 [==============================] - 4s 11us/step - loss: 0.0179 - acc: 0.1758 - val_loss: 0.0179 - val_acc: 0.1757\n",
      "Epoch 19/200\n",
      "350620/350620 [==============================] - 4s 11us/step - loss: 0.0179 - acc: 0.1820 - val_loss: 0.0179 - val_acc: 0.1982\n",
      "Epoch 20/200\n",
      "350620/350620 [==============================] - 4s 13us/step - loss: 0.0179 - acc: 0.1778 - val_loss: 0.0179 - val_acc: 0.1849\n",
      "Epoch 21/200\n",
      "350620/350620 [==============================] - 4s 13us/step - loss: 0.0179 - acc: 0.1811 - val_loss: 0.0179 - val_acc: 0.1865\n",
      "Epoch 22/200\n",
      "350620/350620 [==============================] - 4s 13us/step - loss: 0.0179 - acc: 0.1784 - val_loss: 0.0179 - val_acc: 0.1787\n",
      "Epoch 23/200\n",
      "350620/350620 [==============================] - 5s 14us/step - loss: 0.0179 - acc: 0.1767 - val_loss: 0.0179 - val_acc: 0.1848\n",
      "Epoch 24/200\n",
      "350620/350620 [==============================] - 5s 14us/step - loss: 0.0179 - acc: 0.1797 - val_loss: 0.0179 - val_acc: 0.1843\n",
      "Epoch 25/200\n",
      "350620/350620 [==============================] - 5s 14us/step - loss: 0.0179 - acc: 0.1789 - val_loss: 0.0179 - val_acc: 0.1820\n",
      "Epoch 26/200\n",
      "350620/350620 [==============================] - 5s 14us/step - loss: 0.0179 - acc: 0.1638 - val_loss: 0.0179 - val_acc: 0.1587\n",
      "Epoch 27/200\n",
      "350620/350620 [==============================] - 5s 15us/step - loss: 0.0179 - acc: 0.1565 - val_loss: 0.0179 - val_acc: 0.1605\n",
      "Epoch 28/200\n",
      "350620/350620 [==============================] - 5s 15us/step - loss: 0.0179 - acc: 0.1578 - val_loss: 0.0179 - val_acc: 0.1620\n",
      "Epoch 29/200\n",
      "350620/350620 [==============================] - 5s 15us/step - loss: 0.0179 - acc: 0.1634 - val_loss: 0.0179 - val_acc: 0.1721\n",
      "Epoch 30/200\n",
      "350620/350620 [==============================] - 5s 15us/step - loss: 0.0179 - acc: 0.1675 - val_loss: 0.0179 - val_acc: 0.1683\n",
      "Epoch 31/200\n",
      "350620/350620 [==============================] - 5s 15us/step - loss: 0.0179 - acc: 0.1653 - val_loss: 0.0179 - val_acc: 0.1672\n",
      "Epoch 32/200\n",
      "350620/350620 [==============================] - 5s 15us/step - loss: 0.0179 - acc: 0.1590 - val_loss: 0.0179 - val_acc: 0.1645\n",
      "Epoch 33/200\n",
      "350620/350620 [==============================] - 5s 15us/step - loss: 0.0179 - acc: 0.1530 - val_loss: 0.0179 - val_acc: 0.1466\n",
      "Epoch 34/200\n",
      "350620/350620 [==============================] - 5s 15us/step - loss: 0.0179 - acc: 0.1427 - val_loss: 0.0179 - val_acc: 0.1459\n",
      "Epoch 35/200\n",
      "350620/350620 [==============================] - 5s 15us/step - loss: 0.0178 - acc: 0.1440 - val_loss: 0.0179 - val_acc: 0.1747\n",
      "Epoch 36/200\n",
      "350620/350620 [==============================] - 5s 15us/step - loss: 0.0178 - acc: 0.1826 - val_loss: 0.0179 - val_acc: 0.1843\n",
      "Epoch 37/200\n",
      "350620/350620 [==============================] - 5s 15us/step - loss: 0.0178 - acc: 0.1461 - val_loss: 0.0179 - val_acc: 0.1292\n",
      "Epoch 38/200\n",
      "350620/350620 [==============================] - 5s 15us/step - loss: 0.0178 - acc: 0.1424 - val_loss: 0.0179 - val_acc: 0.1715\n",
      "Epoch 39/200\n",
      "350620/350620 [==============================] - 5s 15us/step - loss: 0.0178 - acc: 0.1632 - val_loss: 0.0179 - val_acc: 0.1616\n",
      "Epoch 40/200\n",
      "350620/350620 [==============================] - 5s 15us/step - loss: 0.0178 - acc: 0.1620 - val_loss: 0.0179 - val_acc: 0.1659\n",
      "Epoch 41/200\n",
      "350620/350620 [==============================] - 5s 15us/step - loss: 0.0178 - acc: 0.1579 - val_loss: 0.0179 - val_acc: 0.1635\n",
      "Epoch 42/200\n",
      "350620/350620 [==============================] - 5s 15us/step - loss: 0.0178 - acc: 0.1611 - val_loss: 0.0179 - val_acc: 0.1619\n",
      "Epoch 43/200\n",
      "350620/350620 [==============================] - 5s 15us/step - loss: 0.0178 - acc: 0.1528 - val_loss: 0.0179 - val_acc: 0.1543\n",
      "Epoch 44/200\n",
      "350620/350620 [==============================] - 5s 15us/step - loss: 0.0178 - acc: 0.1505 - val_loss: 0.0179 - val_acc: 0.1534\n",
      "Epoch 45/200\n",
      "350620/350620 [==============================] - 5s 15us/step - loss: 0.0178 - acc: 0.1532 - val_loss: 0.0179 - val_acc: 0.1561\n",
      "Epoch 46/200\n",
      "350620/350620 [==============================] - 5s 15us/step - loss: 0.0178 - acc: 0.1498 - val_loss: 0.0179 - val_acc: 0.1515\n",
      "Epoch 47/200\n",
      "350620/350620 [==============================] - 5s 15us/step - loss: 0.0178 - acc: 0.1499 - val_loss: 0.0179 - val_acc: 0.1539\n",
      "Epoch 48/200\n",
      "350620/350620 [==============================] - 5s 15us/step - loss: 0.0178 - acc: 0.1555 - val_loss: 0.0179 - val_acc: 0.1526\n",
      "Epoch 49/200\n",
      "350620/350620 [==============================] - 5s 15us/step - loss: 0.0178 - acc: 0.1388 - val_loss: 0.0179 - val_acc: 0.1198\n",
      "Epoch 50/200\n",
      "350620/350620 [==============================] - 5s 15us/step - loss: 0.0178 - acc: 0.1177 - val_loss: 0.0179 - val_acc: 0.1193\n",
      "Epoch 51/200\n",
      "350620/350620 [==============================] - 5s 14us/step - loss: 0.0178 - acc: 0.1177 - val_loss: 0.0179 - val_acc: 0.1193\n",
      "Epoch 52/200\n",
      "350620/350620 [==============================] - 5s 15us/step - loss: 0.0178 - acc: 0.1176 - val_loss: 0.0179 - val_acc: 0.1196\n",
      "Epoch 53/200\n",
      "350620/350620 [==============================] - 5s 15us/step - loss: 0.0178 - acc: 0.1210 - val_loss: 0.0179 - val_acc: 0.1266\n",
      "Epoch 54/200\n",
      "350620/350620 [==============================] - 5s 15us/step - loss: 0.0178 - acc: 0.1159 - val_loss: 0.0179 - val_acc: 0.1161\n",
      "Epoch 55/200\n",
      "350620/350620 [==============================] - 5s 15us/step - loss: 0.0178 - acc: 0.1144 - val_loss: 0.0179 - val_acc: 0.1165\n",
      "Epoch 56/200\n",
      "350620/350620 [==============================] - 5s 15us/step - loss: 0.0178 - acc: 0.1130 - val_loss: 0.0179 - val_acc: 0.1109\n",
      "Epoch 57/200\n",
      "350620/350620 [==============================] - 5s 15us/step - loss: 0.0178 - acc: 0.1091 - val_loss: 0.0179 - val_acc: 0.1106\n",
      "Epoch 58/200\n",
      "350620/350620 [==============================] - 5s 15us/step - loss: 0.0178 - acc: 0.1090 - val_loss: 0.0179 - val_acc: 0.1106\n",
      "Epoch 59/200\n",
      "350620/350620 [==============================] - 5s 15us/step - loss: 0.0178 - acc: 0.1087 - val_loss: 0.0179 - val_acc: 0.1104\n",
      "Epoch 60/200\n",
      "350620/350620 [==============================] - 5s 15us/step - loss: 0.0178 - acc: 0.1101 - val_loss: 0.0179 - val_acc: 0.1114\n",
      "Epoch 61/200\n",
      "350620/350620 [==============================] - 5s 16us/step - loss: 0.0178 - acc: 0.1096 - val_loss: 0.0179 - val_acc: 0.1115\n",
      "Epoch 62/200\n",
      "350620/350620 [==============================] - 5s 15us/step - loss: 0.0178 - acc: 0.1097 - val_loss: 0.0179 - val_acc: 0.1116\n",
      "Epoch 63/200\n",
      "350620/350620 [==============================] - 5s 15us/step - loss: 0.0178 - acc: 0.1097 - val_loss: 0.0179 - val_acc: 0.1118\n",
      "Epoch 64/200\n",
      "350620/350620 [==============================] - 5s 15us/step - loss: 0.0178 - acc: 0.1099 - val_loss: 0.0179 - val_acc: 0.1116\n",
      "Epoch 65/200\n",
      "350620/350620 [==============================] - 5s 15us/step - loss: 0.0178 - acc: 0.1111 - val_loss: 0.0179 - val_acc: 0.1089\n",
      "Epoch 66/200\n",
      "350620/350620 [==============================] - 5s 15us/step - loss: 0.0178 - acc: 0.1073 - val_loss: 0.0179 - val_acc: 0.1093\n",
      "Epoch 67/200\n",
      "350620/350620 [==============================] - 5s 15us/step - loss: 0.0178 - acc: 0.1075 - val_loss: 0.0179 - val_acc: 0.1094\n",
      "Epoch 68/200\n",
      "350620/350620 [==============================] - 5s 15us/step - loss: 0.0178 - acc: 0.1077 - val_loss: 0.0179 - val_acc: 0.1096\n",
      "Epoch 69/200\n",
      "350620/350620 [==============================] - 5s 14us/step - loss: 0.0178 - acc: 0.1178 - val_loss: 0.0179 - val_acc: 0.1197\n",
      "Epoch 70/200\n",
      "350620/350620 [==============================] - 5s 15us/step - loss: 0.0178 - acc: 0.1175 - val_loss: 0.0179 - val_acc: 0.1188\n",
      "Epoch 71/200\n",
      "350620/350620 [==============================] - 5s 15us/step - loss: 0.0178 - acc: 0.1174 - val_loss: 0.0179 - val_acc: 0.1191\n",
      "Epoch 72/200\n",
      "350620/350620 [==============================] - 5s 15us/step - loss: 0.0178 - acc: 0.1170 - val_loss: 0.0179 - val_acc: 0.1189\n",
      "Epoch 73/200\n",
      "350620/350620 [==============================] - 5s 15us/step - loss: 0.0178 - acc: 0.1294 - val_loss: 0.0179 - val_acc: 0.1512\n",
      "--- AE spent 355.48043513298035 seconds ---\n"
     ]
    }
   ],
   "source": [
    "hist_ae_sigmoid_adam_logcosh = fit_ae(checkpoint_file = \"ae_sigmoid_adam_logcosh_redds\"+str(dsnum)+\"bal.h5\",\n",
    "                                        autoencoder = ae_sigmoid_adam_logcosh, \n",
    "                                        epochs = 200, \n",
    "                                        batch_size = batch_size, \n",
    "                                        shuffle = False)"
   ]
  },
  {
   "cell_type": "code",
   "execution_count": 35,
   "metadata": {},
   "outputs": [
    {
     "name": "stdout",
     "output_type": "stream",
     "text": [
      "Best loss value: 0.017834965373241685\n"
     ]
    },
    {
     "data": {
      "image/png": "[encoded data removed]",
      "text/plain": [
       "<Figure size 432x288 with 1 Axes>"
      ]
     },
     "metadata": {
      "needs_background": "light"
     },
     "output_type": "display_data"
    }
   ],
   "source": [
    "best_loss_value_ae_sigmoid_adam_logcosh = plot_hist_auto(hist_ae_sigmoid_adam_logcosh, './Figures/ae_sigmoid_adam_logcosh'+str(dsnum)+'.png')"
   ]
  },
  {
   "cell_type": "code",
   "execution_count": null,
   "metadata": {},
   "outputs": [],
   "source": []
  },
  {
   "cell_type": "code",
   "execution_count": null,
   "metadata": {},
   "outputs": [],
   "source": []
  },
  {
   "cell_type": "code",
   "execution_count": 36,
   "metadata": {},
   "outputs": [
    {
     "name": "stdout",
     "output_type": "stream",
     "text": [
      "_________________________________________________________________\n",
      "Layer (type)                 Output Shape              Param #   \n",
      "=================================================================\n",
      "input_2 (InputLayer)         (None, 197)               0         \n",
      "_________________________________________________________________\n",
      "encoded_bottle_neck (Dense)  (None, 131)               25938     \n",
      "_________________________________________________________________\n",
      "dense_2 (Dense)              (None, 197)               26004     \n",
      "=================================================================\n",
      "Total params: 51,942\n",
      "Trainable params: 51,942\n",
      "Non-trainable params: 0\n",
      "_________________________________________________________________\n",
      "None\n"
     ]
    }
   ],
   "source": [
    "ae_siglin_adam_logcosh,enc_train_x_aslal,enc_test_x_aslal = ae(factor_enc_dim = 1.5,\n",
    "                                                              enc_activation = 'sigmoid',\n",
    "                                                              dec_activation = 'linear',\n",
    "                                                              optimizer='Adam',\n",
    "                                                              loss='logcosh')"
   ]
  },
  {
   "cell_type": "code",
   "execution_count": 37,
   "metadata": {},
   "outputs": [],
   "source": [
    "#ae_siglin_adam_logcosh = load_model('ae_siglin_adam_logcosh_redds10bal.h5')"
   ]
  },
  {
   "cell_type": "code",
   "execution_count": 38,
   "metadata": {},
   "outputs": [
    {
     "name": "stdout",
     "output_type": "stream",
     "text": [
      "Wed Jun 12 17:55:58 2019\n",
      "Train on 350620 samples, validate on 87656 samples\n",
      "Epoch 1/200\n",
      "350620/350620 [==============================] - 5s 14us/step - loss: 0.0041 - acc: 0.6016 - val_loss: 8.8688e-04 - val_acc: 0.7017\n",
      "Epoch 2/200\n",
      "350620/350620 [==============================] - 5s 13us/step - loss: 5.7996e-04 - acc: 0.7207 - val_loss: 4.2177e-04 - val_acc: 0.7470\n",
      "Epoch 3/200\n",
      "350620/350620 [==============================] - 5s 13us/step - loss: 3.5796e-04 - acc: 0.7320 - val_loss: 3.3154e-04 - val_acc: 0.7914\n",
      "Epoch 4/200\n",
      "350620/350620 [==============================] - 5s 14us/step - loss: 3.0681e-04 - acc: 0.7468 - val_loss: 3.0558e-04 - val_acc: 0.7689\n",
      "Epoch 5/200\n",
      "350620/350620 [==============================] - 5s 13us/step - loss: 2.8905e-04 - acc: 0.7560 - val_loss: 2.9310e-04 - val_acc: 0.7972\n",
      "Epoch 6/200\n",
      "350620/350620 [==============================] - 5s 13us/step - loss: 2.8015e-04 - acc: 0.7622 - val_loss: 2.8618e-04 - val_acc: 0.7950\n",
      "Epoch 7/200\n",
      "350620/350620 [==============================] - 5s 13us/step - loss: 2.7451e-04 - acc: 0.7656 - val_loss: 2.8104e-04 - val_acc: 0.7938\n",
      "Epoch 8/200\n",
      "350620/350620 [==============================] - 5s 14us/step - loss: 2.7044e-04 - acc: 0.7652 - val_loss: 2.7732e-04 - val_acc: 0.8004\n",
      "Epoch 9/200\n",
      "350620/350620 [==============================] - 5s 13us/step - loss: 2.6723e-04 - acc: 0.7650 - val_loss: 2.7415e-04 - val_acc: 0.7981\n",
      "Epoch 10/200\n",
      "350620/350620 [==============================] - 5s 14us/step - loss: 2.6447e-04 - acc: 0.7650 - val_loss: 2.7159e-04 - val_acc: 0.7950\n",
      "Epoch 11/200\n",
      "350620/350620 [==============================] - 5s 14us/step - loss: 2.6200e-04 - acc: 0.7651 - val_loss: 2.6927e-04 - val_acc: 0.7945\n",
      "Epoch 12/200\n",
      "350620/350620 [==============================] - 5s 15us/step - loss: 2.5982e-04 - acc: 0.7652 - val_loss: 2.6715e-04 - val_acc: 0.7935\n",
      "Epoch 13/200\n",
      "350620/350620 [==============================] - 6s 18us/step - loss: 2.5792e-04 - acc: 0.7647 - val_loss: 2.6537e-04 - val_acc: 0.7933\n",
      "Epoch 14/200\n",
      "350620/350620 [==============================] - 5s 15us/step - loss: 2.5627e-04 - acc: 0.7640 - val_loss: 2.6375e-04 - val_acc: 0.7992\n",
      "Epoch 15/200\n",
      "350620/350620 [==============================] - 5s 15us/step - loss: 2.5487e-04 - acc: 0.7631 - val_loss: 2.6224e-04 - val_acc: 0.8055\n",
      "Epoch 16/200\n",
      "350620/350620 [==============================] - 5s 14us/step - loss: 2.5368e-04 - acc: 0.7620 - val_loss: 2.6094e-04 - val_acc: 0.8031\n",
      "Epoch 17/200\n",
      "350620/350620 [==============================] - 5s 14us/step - loss: 2.5266e-04 - acc: 0.7613 - val_loss: 2.5998e-04 - val_acc: 0.7987\n",
      "Epoch 18/200\n",
      "350620/350620 [==============================] - 5s 14us/step - loss: 2.5176e-04 - acc: 0.7608 - val_loss: 2.5925e-04 - val_acc: 0.7987\n",
      "Epoch 19/200\n",
      "350620/350620 [==============================] - 5s 15us/step - loss: 2.5096e-04 - acc: 0.7603 - val_loss: 2.5850e-04 - val_acc: 0.7992\n",
      "Epoch 20/200\n",
      "350620/350620 [==============================] - 5s 15us/step - loss: 2.5025e-04 - acc: 0.7600 - val_loss: 2.5766e-04 - val_acc: 0.7958\n",
      "Epoch 21/200\n",
      "350620/350620 [==============================] - 5s 14us/step - loss: 2.4960e-04 - acc: 0.7598 - val_loss: 2.5690e-04 - val_acc: 0.7945\n",
      "Epoch 22/200\n",
      "350620/350620 [==============================] - 5s 15us/step - loss: 2.4901e-04 - acc: 0.7596 - val_loss: 2.5623e-04 - val_acc: 0.7924\n",
      "Epoch 23/200\n",
      "350620/350620 [==============================] - 5s 15us/step - loss: 2.4846e-04 - acc: 0.7593 - val_loss: 2.5562e-04 - val_acc: 0.7925\n",
      "Epoch 24/200\n",
      "350620/350620 [==============================] - 5s 15us/step - loss: 2.4793e-04 - acc: 0.7591 - val_loss: 2.5505e-04 - val_acc: 0.7930\n",
      "Epoch 25/200\n",
      "350620/350620 [==============================] - 5s 15us/step - loss: 2.4744e-04 - acc: 0.7589 - val_loss: 2.5454e-04 - val_acc: 0.7868\n",
      "Epoch 26/200\n",
      "350620/350620 [==============================] - 5s 15us/step - loss: 2.4697e-04 - acc: 0.7589 - val_loss: 2.5401e-04 - val_acc: 0.7809\n",
      "Epoch 27/200\n",
      "350620/350620 [==============================] - 5s 15us/step - loss: 2.4652e-04 - acc: 0.7588 - val_loss: 2.5342e-04 - val_acc: 0.7797\n",
      "Epoch 28/200\n",
      "350620/350620 [==============================] - 5s 15us/step - loss: 2.4610e-04 - acc: 0.7585 - val_loss: 2.5287e-04 - val_acc: 0.7792\n",
      "Epoch 29/200\n",
      "350620/350620 [==============================] - 5s 14us/step - loss: 2.4569e-04 - acc: 0.7584 - val_loss: 2.5236e-04 - val_acc: 0.7741\n",
      "Epoch 30/200\n",
      "350620/350620 [==============================] - 5s 15us/step - loss: 2.4530e-04 - acc: 0.7579 - val_loss: 2.5190e-04 - val_acc: 0.7648\n",
      "Epoch 31/200\n",
      "350620/350620 [==============================] - 5s 15us/step - loss: 2.4493e-04 - acc: 0.7575 - val_loss: 2.5149e-04 - val_acc: 0.7566\n",
      "Epoch 32/200\n",
      "350620/350620 [==============================] - 5s 15us/step - loss: 2.4457e-04 - acc: 0.7568 - val_loss: 2.5112e-04 - val_acc: 0.7684\n",
      "Epoch 33/200\n",
      "350620/350620 [==============================] - 5s 15us/step - loss: 2.4423e-04 - acc: 0.7567 - val_loss: 2.5077e-04 - val_acc: 0.7548\n",
      "Epoch 34/200\n",
      "350620/350620 [==============================] - 5s 15us/step - loss: 2.4390e-04 - acc: 0.7558 - val_loss: 2.5045e-04 - val_acc: 0.7638\n",
      "Epoch 35/200\n",
      "350620/350620 [==============================] - 5s 15us/step - loss: 2.4358e-04 - acc: 0.7545 - val_loss: 2.5014e-04 - val_acc: 0.7607\n",
      "Epoch 36/200\n",
      "350620/350620 [==============================] - 5s 15us/step - loss: 2.4328e-04 - acc: 0.7539 - val_loss: 2.4985e-04 - val_acc: 0.7391\n",
      "Epoch 37/200\n",
      "350620/350620 [==============================] - 5s 15us/step - loss: 2.4298e-04 - acc: 0.7528 - val_loss: 2.4953e-04 - val_acc: 0.7348\n",
      "Epoch 38/200\n",
      "350620/350620 [==============================] - 5s 15us/step - loss: 2.4270e-04 - acc: 0.7515 - val_loss: 2.4918e-04 - val_acc: 0.7347\n",
      "Epoch 39/200\n",
      "350620/350620 [==============================] - 5s 15us/step - loss: 2.4243e-04 - acc: 0.7491 - val_loss: 2.4881e-04 - val_acc: 0.7438\n",
      "Epoch 40/200\n",
      "350620/350620 [==============================] - 5s 15us/step - loss: 2.4217e-04 - acc: 0.7490 - val_loss: 2.4845e-04 - val_acc: 0.7830\n",
      "Epoch 41/200\n",
      "350620/350620 [==============================] - 5s 15us/step - loss: 2.4193e-04 - acc: 0.7499 - val_loss: 2.4813e-04 - val_acc: 0.8026\n",
      "Epoch 42/200\n",
      "350620/350620 [==============================] - 5s 15us/step - loss: 2.4170e-04 - acc: 0.7503 - val_loss: 2.4785e-04 - val_acc: 0.7295\n",
      "Epoch 43/200\n",
      "350620/350620 [==============================] - 5s 15us/step - loss: 2.4149e-04 - acc: 0.7520 - val_loss: 2.4760e-04 - val_acc: 0.7043\n",
      "Epoch 44/200\n",
      "350620/350620 [==============================] - 5s 15us/step - loss: 2.4128e-04 - acc: 0.7525 - val_loss: 2.4739e-04 - val_acc: 0.7106\n",
      "Epoch 45/200\n",
      "350620/350620 [==============================] - 5s 15us/step - loss: 2.4108e-04 - acc: 0.7510 - val_loss: 2.4721e-04 - val_acc: 0.7935\n",
      "Epoch 46/200\n",
      "350620/350620 [==============================] - 5s 15us/step - loss: 2.4089e-04 - acc: 0.7504 - val_loss: 2.4706e-04 - val_acc: 0.7409\n",
      "Epoch 47/200\n",
      "350620/350620 [==============================] - 5s 15us/step - loss: 2.4072e-04 - acc: 0.7501 - val_loss: 2.4693e-04 - val_acc: 0.7379\n",
      "Epoch 48/200\n",
      "350620/350620 [==============================] - 5s 15us/step - loss: 2.4055e-04 - acc: 0.7520 - val_loss: 2.4679e-04 - val_acc: 0.8020\n",
      "Epoch 49/200\n",
      "350620/350620 [==============================] - 5s 15us/step - loss: 2.4038e-04 - acc: 0.7522 - val_loss: 2.4665e-04 - val_acc: 0.7377\n",
      "Epoch 50/200\n",
      "350620/350620 [==============================] - 5s 14us/step - loss: 2.4023e-04 - acc: 0.7511 - val_loss: 2.4651e-04 - val_acc: 0.7144\n",
      "Epoch 51/200\n",
      "350620/350620 [==============================] - 5s 15us/step - loss: 2.4009e-04 - acc: 0.7506 - val_loss: 2.4637e-04 - val_acc: 0.8079\n",
      "Epoch 52/200\n",
      "350620/350620 [==============================] - 5s 15us/step - loss: 2.3995e-04 - acc: 0.7512 - val_loss: 2.4622e-04 - val_acc: 0.6975\n",
      "Epoch 53/200\n",
      "350620/350620 [==============================] - 5s 15us/step - loss: 2.3982e-04 - acc: 0.7512 - val_loss: 2.4608e-04 - val_acc: 0.7932\n",
      "Epoch 54/200\n",
      "350620/350620 [==============================] - 5s 15us/step - loss: 2.3970e-04 - acc: 0.7513 - val_loss: 2.4593e-04 - val_acc: 0.7095\n",
      "Epoch 55/200\n",
      "350620/350620 [==============================] - 5s 15us/step - loss: 2.3958e-04 - acc: 0.7508 - val_loss: 2.4578e-04 - val_acc: 0.8115\n",
      "Epoch 56/200\n",
      "350620/350620 [==============================] - 5s 15us/step - loss: 2.3947e-04 - acc: 0.7512 - val_loss: 2.4563e-04 - val_acc: 0.6898\n",
      "Epoch 57/200\n",
      "350620/350620 [==============================] - 5s 15us/step - loss: 2.3936e-04 - acc: 0.7521 - val_loss: 2.4549e-04 - val_acc: 0.7052\n",
      "Epoch 58/200\n",
      "350620/350620 [==============================] - 5s 15us/step - loss: 2.3926e-04 - acc: 0.7520 - val_loss: 2.4534e-04 - val_acc: 0.7395\n",
      "Epoch 59/200\n",
      "350620/350620 [==============================] - 5s 14us/step - loss: 2.3916e-04 - acc: 0.7528 - val_loss: 2.4521e-04 - val_acc: 0.7205\n",
      "Epoch 60/200\n",
      "350620/350620 [==============================] - 5s 15us/step - loss: 2.3906e-04 - acc: 0.7527 - val_loss: 2.4508e-04 - val_acc: 0.7058\n",
      "Epoch 61/200\n",
      "350620/350620 [==============================] - 5s 15us/step - loss: 2.3897e-04 - acc: 0.7528 - val_loss: 2.4495e-04 - val_acc: 0.7147\n",
      "Epoch 62/200\n",
      "350620/350620 [==============================] - 5s 15us/step - loss: 2.3888e-04 - acc: 0.7523 - val_loss: 2.4484e-04 - val_acc: 0.7007\n",
      "Epoch 63/200\n",
      "350620/350620 [==============================] - 5s 15us/step - loss: 2.3880e-04 - acc: 0.7534 - val_loss: 2.4473e-04 - val_acc: 0.7726\n",
      "Epoch 64/200\n",
      "350620/350620 [==============================] - 5s 15us/step - loss: 2.3872e-04 - acc: 0.7531 - val_loss: 2.4462e-04 - val_acc: 0.7052\n",
      "Epoch 65/200\n",
      "350620/350620 [==============================] - 5s 15us/step - loss: 2.3864e-04 - acc: 0.7531 - val_loss: 2.4452e-04 - val_acc: 0.7044\n",
      "Epoch 66/200\n",
      "350620/350620 [==============================] - 5s 15us/step - loss: 2.3856e-04 - acc: 0.7527 - val_loss: 2.4441e-04 - val_acc: 0.7855\n",
      "Epoch 67/200\n",
      "350620/350620 [==============================] - 5s 15us/step - loss: 2.3848e-04 - acc: 0.7519 - val_loss: 2.4431e-04 - val_acc: 0.7094\n",
      "Epoch 68/200\n",
      "350620/350620 [==============================] - 5s 15us/step - loss: 2.3841e-04 - acc: 0.7521 - val_loss: 2.4421e-04 - val_acc: 0.7338\n",
      "Epoch 69/200\n",
      "350620/350620 [==============================] - 5s 14us/step - loss: 2.3833e-04 - acc: 0.7521 - val_loss: 2.4410e-04 - val_acc: 0.7921\n",
      "Epoch 70/200\n",
      "350620/350620 [==============================] - 5s 15us/step - loss: 2.3826e-04 - acc: 0.7524 - val_loss: 2.4400e-04 - val_acc: 0.7525\n",
      "Epoch 71/200\n",
      "350620/350620 [==============================] - 5s 15us/step - loss: 2.3819e-04 - acc: 0.7536 - val_loss: 2.4390e-04 - val_acc: 0.8305\n",
      "Epoch 72/200\n",
      "350620/350620 [==============================] - 5s 15us/step - loss: 2.3811e-04 - acc: 0.7529 - val_loss: 2.4381e-04 - val_acc: 0.7403\n",
      "Epoch 73/200\n",
      "350620/350620 [==============================] - 5s 15us/step - loss: 2.3804e-04 - acc: 0.7524 - val_loss: 2.4372e-04 - val_acc: 0.7525\n",
      "Epoch 74/200\n",
      "350620/350620 [==============================] - 5s 15us/step - loss: 2.3797e-04 - acc: 0.7529 - val_loss: 2.4364e-04 - val_acc: 0.7217\n",
      "Epoch 75/200\n",
      "350620/350620 [==============================] - 5s 15us/step - loss: 2.3789e-04 - acc: 0.7522 - val_loss: 2.4356e-04 - val_acc: 0.8214\n",
      "Epoch 76/200\n",
      "350620/350620 [==============================] - 5s 14us/step - loss: 2.3782e-04 - acc: 0.7524 - val_loss: 2.4349e-04 - val_acc: 0.8308\n",
      "Epoch 77/200\n",
      "350620/350620 [==============================] - 5s 15us/step - loss: 2.3774e-04 - acc: 0.7519 - val_loss: 2.4342e-04 - val_acc: 0.7907\n",
      "Epoch 78/200\n",
      "350620/350620 [==============================] - 5s 16us/step - loss: 2.3766e-04 - acc: 0.7526 - val_loss: 2.4335e-04 - val_acc: 0.7944\n",
      "Epoch 79/200\n",
      "350620/350620 [==============================] - 5s 15us/step - loss: 2.3758e-04 - acc: 0.7536 - val_loss: 2.4327e-04 - val_acc: 0.8267\n",
      "Epoch 80/200\n",
      "350620/350620 [==============================] - 4s 12us/step - loss: 2.3750e-04 - acc: 0.7506 - val_loss: 2.4318e-04 - val_acc: 0.7375\n",
      "Epoch 81/200\n",
      "350620/350620 [==============================] - 4s 12us/step - loss: 2.3743e-04 - acc: 0.7531 - val_loss: 2.4306e-04 - val_acc: 0.7538\n",
      "Epoch 82/200\n",
      "350620/350620 [==============================] - 4s 12us/step - loss: 2.3735e-04 - acc: 0.7530 - val_loss: 2.4295e-04 - val_acc: 0.7749\n",
      "Epoch 83/200\n",
      "350620/350620 [==============================] - 4s 12us/step - loss: 2.3728e-04 - acc: 0.7526 - val_loss: 2.4286e-04 - val_acc: 0.7582\n",
      "Epoch 84/200\n",
      "350620/350620 [==============================] - 4s 12us/step - loss: 2.3721e-04 - acc: 0.7543 - val_loss: 2.4278e-04 - val_acc: 0.7705\n",
      "Epoch 85/200\n",
      "350620/350620 [==============================] - 4s 12us/step - loss: 2.3713e-04 - acc: 0.7520 - val_loss: 2.4273e-04 - val_acc: 0.7300\n",
      "Epoch 86/200\n",
      "350620/350620 [==============================] - 4s 12us/step - loss: 2.3705e-04 - acc: 0.7541 - val_loss: 2.4267e-04 - val_acc: 0.8109\n",
      "Epoch 87/200\n",
      "350620/350620 [==============================] - 4s 12us/step - loss: 2.3698e-04 - acc: 0.7537 - val_loss: 2.4261e-04 - val_acc: 0.7213\n",
      "Epoch 88/200\n",
      "350620/350620 [==============================] - 4s 12us/step - loss: 2.3690e-04 - acc: 0.7556 - val_loss: 2.4258e-04 - val_acc: 0.7743\n",
      "Epoch 89/200\n",
      "350620/350620 [==============================] - 4s 12us/step - loss: 2.3683e-04 - acc: 0.7516 - val_loss: 2.4258e-04 - val_acc: 0.7194\n",
      "Epoch 90/200\n",
      "350620/350620 [==============================] - 4s 12us/step - loss: 2.3676e-04 - acc: 0.7530 - val_loss: 2.4258e-04 - val_acc: 0.8268\n",
      "Epoch 91/200\n",
      "350620/350620 [==============================] - 4s 12us/step - loss: 2.3669e-04 - acc: 0.7529 - val_loss: 2.4257e-04 - val_acc: 0.7829\n",
      "Epoch 92/200\n",
      "350620/350620 [==============================] - 4s 12us/step - loss: 2.3662e-04 - acc: 0.7544 - val_loss: 2.4257e-04 - val_acc: 0.7072\n",
      "Epoch 93/200\n",
      "350620/350620 [==============================] - 4s 12us/step - loss: 2.3655e-04 - acc: 0.7528 - val_loss: 2.4256e-04 - val_acc: 0.7656\n",
      "Epoch 94/200\n",
      "350620/350620 [==============================] - 4s 12us/step - loss: 2.3649e-04 - acc: 0.7532 - val_loss: 2.4254e-04 - val_acc: 0.7090\n",
      "Epoch 95/200\n",
      "350620/350620 [==============================] - 4s 12us/step - loss: 2.3643e-04 - acc: 0.7536 - val_loss: 2.4251e-04 - val_acc: 0.7569\n",
      "Epoch 96/200\n",
      "350620/350620 [==============================] - 4s 12us/step - loss: 2.3637e-04 - acc: 0.7543 - val_loss: 2.4246e-04 - val_acc: 0.7847\n",
      "Epoch 97/200\n",
      "350620/350620 [==============================] - 4s 12us/step - loss: 2.3630e-04 - acc: 0.7530 - val_loss: 2.4239e-04 - val_acc: 0.7100\n",
      "Epoch 98/200\n",
      "350620/350620 [==============================] - 4s 12us/step - loss: 2.3624e-04 - acc: 0.7522 - val_loss: 2.4231e-04 - val_acc: 0.7403\n",
      "Epoch 99/200\n",
      "350620/350620 [==============================] - 4s 12us/step - loss: 2.3618e-04 - acc: 0.7514 - val_loss: 2.4225e-04 - val_acc: 0.7928\n",
      "Epoch 100/200\n",
      "350620/350620 [==============================] - 4s 12us/step - loss: 2.3612e-04 - acc: 0.7544 - val_loss: 2.4219e-04 - val_acc: 0.7893\n",
      "Epoch 101/200\n",
      "350620/350620 [==============================] - 4s 12us/step - loss: 2.3606e-04 - acc: 0.7522 - val_loss: 2.4211e-04 - val_acc: 0.7656\n",
      "Epoch 102/200\n",
      "350620/350620 [==============================] - 4s 12us/step - loss: 2.3600e-04 - acc: 0.7517 - val_loss: 2.4195e-04 - val_acc: 0.7504\n",
      "Epoch 103/200\n",
      "350620/350620 [==============================] - 4s 12us/step - loss: 2.3594e-04 - acc: 0.7547 - val_loss: 2.4170e-04 - val_acc: 0.7468\n",
      "Epoch 104/200\n",
      "350620/350620 [==============================] - 4s 12us/step - loss: 2.3588e-04 - acc: 0.7525 - val_loss: 2.4141e-04 - val_acc: 0.7742\n",
      "Epoch 105/200\n",
      "350620/350620 [==============================] - 4s 12us/step - loss: 2.3583e-04 - acc: 0.7537 - val_loss: 2.4107e-04 - val_acc: 0.7247\n",
      "Epoch 106/200\n",
      "350620/350620 [==============================] - 4s 12us/step - loss: 2.3578e-04 - acc: 0.7534 - val_loss: 2.4065e-04 - val_acc: 0.7530\n",
      "Epoch 107/200\n",
      "350620/350620 [==============================] - 4s 12us/step - loss: 2.3574e-04 - acc: 0.7541 - val_loss: 2.4017e-04 - val_acc: 0.7935\n",
      "Epoch 108/200\n",
      "350620/350620 [==============================] - 4s 12us/step - loss: 2.3569e-04 - acc: 0.7530 - val_loss: 2.3966e-04 - val_acc: 0.7463\n",
      "Epoch 109/200\n",
      "350620/350620 [==============================] - 4s 12us/step - loss: 2.3564e-04 - acc: 0.7515 - val_loss: 2.3918e-04 - val_acc: 0.8433\n",
      "Epoch 110/200\n",
      "350620/350620 [==============================] - 4s 12us/step - loss: 2.3560e-04 - acc: 0.7538 - val_loss: 2.3873e-04 - val_acc: 0.7284\n",
      "Epoch 111/200\n",
      "350620/350620 [==============================] - 4s 12us/step - loss: 2.3555e-04 - acc: 0.7530 - val_loss: 2.3836e-04 - val_acc: 0.8208\n",
      "Epoch 112/200\n",
      "350620/350620 [==============================] - 4s 12us/step - loss: 2.3551e-04 - acc: 0.7546 - val_loss: 2.3808e-04 - val_acc: 0.7789\n",
      "Epoch 113/200\n",
      "350620/350620 [==============================] - 4s 12us/step - loss: 2.3546e-04 - acc: 0.7549 - val_loss: 2.3792e-04 - val_acc: 0.7434\n",
      "Epoch 114/200\n",
      "350620/350620 [==============================] - 4s 12us/step - loss: 2.3544e-04 - acc: 0.7540 - val_loss: 2.3778e-04 - val_acc: 0.8230\n",
      "Epoch 115/200\n",
      "350620/350620 [==============================] - 4s 12us/step - loss: 2.3547e-04 - acc: 0.7538 - val_loss: 2.3764e-04 - val_acc: 0.7344\n",
      "Epoch 116/200\n",
      "350620/350620 [==============================] - 4s 12us/step - loss: 2.3547e-04 - acc: 0.7544 - val_loss: 2.3761e-04 - val_acc: 0.7333\n",
      "Epoch 117/200\n",
      "350620/350620 [==============================] - 4s 12us/step - loss: 2.3543e-04 - acc: 0.7540 - val_loss: 2.3765e-04 - val_acc: 0.7343\n",
      "Epoch 118/200\n",
      "350620/350620 [==============================] - 4s 12us/step - loss: 2.3538e-04 - acc: 0.7566 - val_loss: 2.3773e-04 - val_acc: 0.7260\n",
      "Epoch 119/200\n",
      "350620/350620 [==============================] - 4s 12us/step - loss: 2.3532e-04 - acc: 0.7546 - val_loss: 2.3782e-04 - val_acc: 0.7233\n",
      "Epoch 120/200\n",
      "350620/350620 [==============================] - 4s 12us/step - loss: 2.3526e-04 - acc: 0.7537 - val_loss: 2.3789e-04 - val_acc: 0.7279\n",
      "Epoch 121/200\n",
      "350620/350620 [==============================] - 4s 12us/step - loss: 2.3520e-04 - acc: 0.7551 - val_loss: 2.3797e-04 - val_acc: 0.8242\n",
      "--- AE spent 588.2559044361115 seconds ---\n"
     ]
    }
   ],
   "source": [
    "hist_ae_siglin_adam_logcosh = fit_ae(checkpoint_file = \"ae_siglin_adam_logcosh_redds\"+str(dsnum)+\"bal.h5\",\n",
    "                                        autoencoder = ae_siglin_adam_logcosh, \n",
    "                                        epochs = 200, \n",
    "                                        batch_size = batch_size, \n",
    "                                        shuffle = False)"
   ]
  },
  {
   "cell_type": "code",
   "execution_count": 39,
   "metadata": {},
   "outputs": [
    {
     "name": "stdout",
     "output_type": "stream",
     "text": [
      "Best loss value: 0.00023520074125240432\n"
     ]
    },
    {
     "data": {
      "image/png": "[encoded data removed]",
      "text/plain": [
       "<Figure size 432x288 with 1 Axes>"
      ]
     },
     "metadata": {
      "needs_background": "light"
     },
     "output_type": "display_data"
    }
   ],
   "source": [
    "best_loss_value_ae_siglin_adam_logcosh = plot_hist_auto(hist_ae_siglin_adam_logcosh, './Figures/hist_ae_siglin_adam_logcosh'+str(dsnum)+'.png')"
   ]
  },
  {
   "cell_type": "code",
   "execution_count": null,
   "metadata": {},
   "outputs": [],
   "source": []
  },
  {
   "cell_type": "code",
   "execution_count": 40,
   "metadata": {},
   "outputs": [
    {
     "name": "stdout",
     "output_type": "stream",
     "text": [
      "_________________________________________________________________\n",
      "Layer (type)                 Output Shape              Param #   \n",
      "=================================================================\n",
      "input_3 (InputLayer)         (None, 197)               0         \n",
      "_________________________________________________________________\n",
      "encoded_bottle_neck (Dense)  (None, 131)               25938     \n",
      "_________________________________________________________________\n",
      "dense_3 (Dense)              (None, 197)               26004     \n",
      "=================================================================\n",
      "Total params: 51,942\n",
      "Trainable params: 51,942\n",
      "Non-trainable params: 0\n",
      "_________________________________________________________________\n",
      "None\n"
     ]
    }
   ],
   "source": [
    "ae_sigmoid_adam_mse,enc_train_x_asam,enc_test_x_asam = ae(factor_enc_dim = 1.5,\n",
    "                                                          enc_activation = 'relu',\n",
    "                                                          dec_activation = 'sigmoid',\n",
    "                                                          optimizer='Adam',\n",
    "                                                          loss='mean_squared_error')"
   ]
  },
  {
   "cell_type": "code",
   "execution_count": 41,
   "metadata": {},
   "outputs": [],
   "source": [
    "#ae_sigmoid_adam_mse = load_model('ae_sigmoid_adam_mse_redds10bal.h5')"
   ]
  },
  {
   "cell_type": "code",
   "execution_count": 42,
   "metadata": {},
   "outputs": [
    {
     "name": "stdout",
     "output_type": "stream",
     "text": [
      "Wed Jun 12 18:05:52 2019\n",
      "Train on 350620 samples, validate on 87656 samples\n",
      "Epoch 1/200\n",
      "350620/350620 [==============================] - 4s 11us/step - loss: 0.0635 - acc: 0.2272 - val_loss: 0.0553 - val_acc: 0.3508\n",
      "Epoch 2/200\n",
      "350620/350620 [==============================] - 4s 11us/step - loss: 0.0533 - acc: 0.3481 - val_loss: 0.0526 - val_acc: 0.3678\n",
      "Epoch 3/200\n",
      "350620/350620 [==============================] - 4s 10us/step - loss: 0.0522 - acc: 0.3356 - val_loss: 0.0523 - val_acc: 0.3251\n",
      "Epoch 4/200\n",
      "350620/350620 [==============================] - 4s 11us/step - loss: 0.0520 - acc: 0.2867 - val_loss: 0.0522 - val_acc: 0.2742\n",
      "Epoch 5/200\n",
      "350620/350620 [==============================] - 4s 11us/step - loss: 0.0520 - acc: 0.2750 - val_loss: 0.0522 - val_acc: 0.2504\n",
      "Epoch 6/200\n",
      "350620/350620 [==============================] - 4s 11us/step - loss: 0.0519 - acc: 0.2420 - val_loss: 0.0521 - val_acc: 0.2396\n",
      "Epoch 7/200\n",
      "350620/350620 [==============================] - 4s 11us/step - loss: 0.0519 - acc: 0.2603 - val_loss: 0.0521 - val_acc: 0.2428\n",
      "Epoch 8/200\n",
      "350620/350620 [==============================] - 4s 11us/step - loss: 0.0519 - acc: 0.2351 - val_loss: 0.0521 - val_acc: 0.1872\n",
      "Epoch 9/200\n",
      "350620/350620 [==============================] - 4s 11us/step - loss: 0.0518 - acc: 0.1827 - val_loss: 0.0521 - val_acc: 0.1736\n",
      "Epoch 10/200\n",
      "350620/350620 [==============================] - 4s 11us/step - loss: 0.0518 - acc: 0.1930 - val_loss: 0.0521 - val_acc: 0.2036\n",
      "Epoch 11/200\n",
      "350620/350620 [==============================] - 4s 11us/step - loss: 0.0518 - acc: 0.2030 - val_loss: 0.0521 - val_acc: 0.2103\n",
      "Epoch 12/200\n",
      "350620/350620 [==============================] - 4s 11us/step - loss: 0.0518 - acc: 0.2116 - val_loss: 0.0521 - val_acc: 0.2162\n",
      "Epoch 13/200\n",
      "350620/350620 [==============================] - 4s 11us/step - loss: 0.0518 - acc: 0.2341 - val_loss: 0.0521 - val_acc: 0.2463\n",
      "Epoch 14/200\n",
      "350620/350620 [==============================] - 4s 11us/step - loss: 0.0518 - acc: 0.2372 - val_loss: 0.0521 - val_acc: 0.2316\n",
      "Epoch 15/200\n",
      "350620/350620 [==============================] - 4s 11us/step - loss: 0.0518 - acc: 0.2261 - val_loss: 0.0521 - val_acc: 0.2254\n",
      "Epoch 16/200\n",
      "350620/350620 [==============================] - 4s 11us/step - loss: 0.0518 - acc: 0.2240 - val_loss: 0.0521 - val_acc: 0.2237\n",
      "Epoch 17/200\n",
      "350620/350620 [==============================] - 4s 11us/step - loss: 0.0518 - acc: 0.2230 - val_loss: 0.0521 - val_acc: 0.2285\n",
      "Epoch 18/200\n",
      "350620/350620 [==============================] - 4s 11us/step - loss: 0.0518 - acc: 0.1589 - val_loss: 0.0521 - val_acc: 0.1561\n",
      "Epoch 19/200\n",
      "350620/350620 [==============================] - 4s 11us/step - loss: 0.0518 - acc: 0.1574 - val_loss: 0.0520 - val_acc: 0.1600\n",
      "Epoch 20/200\n",
      "350620/350620 [==============================] - 4s 11us/step - loss: 0.0518 - acc: 0.2053 - val_loss: 0.0520 - val_acc: 0.2057\n",
      "Epoch 21/200\n",
      "350620/350620 [==============================] - 4s 11us/step - loss: 0.0518 - acc: 0.2061 - val_loss: 0.0520 - val_acc: 0.2083\n",
      "Epoch 22/200\n",
      "350620/350620 [==============================] - 4s 11us/step - loss: 0.0518 - acc: 0.2080 - val_loss: 0.0520 - val_acc: 0.2098\n",
      "Epoch 23/200\n",
      "350620/350620 [==============================] - 4s 11us/step - loss: 0.0518 - acc: 0.2081 - val_loss: 0.0520 - val_acc: 0.2088\n",
      "Epoch 24/200\n",
      "350620/350620 [==============================] - 4s 11us/step - loss: 0.0518 - acc: 0.2070 - val_loss: 0.0520 - val_acc: 0.2079\n",
      "Epoch 25/200\n",
      "350620/350620 [==============================] - 4s 11us/step - loss: 0.0518 - acc: 0.2058 - val_loss: 0.0520 - val_acc: 0.2071\n",
      "Epoch 26/200\n",
      "350620/350620 [==============================] - 4s 11us/step - loss: 0.0518 - acc: 0.2047 - val_loss: 0.0520 - val_acc: 0.2056\n",
      "Epoch 27/200\n",
      "350620/350620 [==============================] - 4s 12us/step - loss: 0.0518 - acc: 0.2042 - val_loss: 0.0520 - val_acc: 0.2051\n",
      "Epoch 28/200\n",
      "350620/350620 [==============================] - 4s 11us/step - loss: 0.0518 - acc: 0.2067 - val_loss: 0.0520 - val_acc: 0.2089\n",
      "Epoch 29/200\n",
      "350620/350620 [==============================] - 4s 11us/step - loss: 0.0518 - acc: 0.2140 - val_loss: 0.0520 - val_acc: 0.2146\n",
      "Epoch 30/200\n",
      "350620/350620 [==============================] - 4s 12us/step - loss: 0.0518 - acc: 0.1755 - val_loss: 0.0520 - val_acc: 0.1672\n",
      "Epoch 31/200\n",
      "350620/350620 [==============================] - 4s 11us/step - loss: 0.0518 - acc: 0.1664 - val_loss: 0.0520 - val_acc: 0.1680\n",
      "Epoch 32/200\n",
      "350620/350620 [==============================] - 4s 12us/step - loss: 0.0518 - acc: 0.1670 - val_loss: 0.0520 - val_acc: 0.1681\n",
      "Epoch 33/200\n",
      "350620/350620 [==============================] - 4s 12us/step - loss: 0.0518 - acc: 0.1668 - val_loss: 0.0520 - val_acc: 0.1681\n",
      "Epoch 34/200\n",
      "350620/350620 [==============================] - 4s 13us/step - loss: 0.0518 - acc: 0.1668 - val_loss: 0.0520 - val_acc: 0.1684\n",
      "Epoch 35/200\n",
      "350620/350620 [==============================] - 4s 11us/step - loss: 0.0518 - acc: 0.1667 - val_loss: 0.0520 - val_acc: 0.1679\n",
      "Epoch 36/200\n",
      "350620/350620 [==============================] - 4s 11us/step - loss: 0.0518 - acc: 0.1665 - val_loss: 0.0520 - val_acc: 0.1673\n",
      "Epoch 37/200\n",
      "350620/350620 [==============================] - 4s 11us/step - loss: 0.0518 - acc: 0.1664 - val_loss: 0.0520 - val_acc: 0.1674\n",
      "Epoch 38/200\n",
      "350620/350620 [==============================] - 4s 11us/step - loss: 0.0518 - acc: 0.1666 - val_loss: 0.0520 - val_acc: 0.1677\n",
      "Epoch 39/200\n",
      "350620/350620 [==============================] - 4s 11us/step - loss: 0.0518 - acc: 0.1665 - val_loss: 0.0520 - val_acc: 0.1677\n",
      "Epoch 40/200\n",
      "350620/350620 [==============================] - 4s 11us/step - loss: 0.0518 - acc: 0.1662 - val_loss: 0.0520 - val_acc: 0.1669\n",
      "Epoch 41/200\n",
      "350620/350620 [==============================] - 4s 11us/step - loss: 0.0518 - acc: 0.1643 - val_loss: 0.0520 - val_acc: 0.1655\n",
      "Epoch 42/200\n",
      "350620/350620 [==============================] - 4s 11us/step - loss: 0.0518 - acc: 0.1669 - val_loss: 0.0520 - val_acc: 0.1702\n",
      "Epoch 43/200\n",
      "350620/350620 [==============================] - 4s 11us/step - loss: 0.0518 - acc: 0.1696 - val_loss: 0.0520 - val_acc: 0.1720\n",
      "Epoch 44/200\n",
      "350620/350620 [==============================] - 4s 11us/step - loss: 0.0518 - acc: 0.1708 - val_loss: 0.0520 - val_acc: 0.1715\n",
      "Epoch 45/200\n",
      "350620/350620 [==============================] - 4s 11us/step - loss: 0.0518 - acc: 0.1901 - val_loss: 0.0520 - val_acc: 0.1928\n",
      "Epoch 46/200\n",
      "350620/350620 [==============================] - 4s 11us/step - loss: 0.0518 - acc: 0.1912 - val_loss: 0.0520 - val_acc: 0.1897\n",
      "Epoch 47/200\n",
      "350620/350620 [==============================] - 4s 11us/step - loss: 0.0518 - acc: 0.1883 - val_loss: 0.0520 - val_acc: 0.1888\n",
      "Epoch 48/200\n",
      "350620/350620 [==============================] - 4s 11us/step - loss: 0.0518 - acc: 0.1804 - val_loss: 0.0520 - val_acc: 0.1745\n",
      "Epoch 49/200\n",
      "350620/350620 [==============================] - 4s 11us/step - loss: 0.0518 - acc: 0.1733 - val_loss: 0.0520 - val_acc: 0.1754\n",
      "Epoch 50/200\n",
      "350620/350620 [==============================] - 4s 11us/step - loss: 0.0518 - acc: 0.1737 - val_loss: 0.0520 - val_acc: 0.1745\n",
      "Epoch 51/200\n",
      "350620/350620 [==============================] - 4s 11us/step - loss: 0.0518 - acc: 0.1731 - val_loss: 0.0520 - val_acc: 0.1741\n",
      "Epoch 52/200\n",
      "350620/350620 [==============================] - 4s 11us/step - loss: 0.0518 - acc: 0.1731 - val_loss: 0.0520 - val_acc: 0.1740\n",
      "Epoch 53/200\n",
      "350620/350620 [==============================] - 4s 11us/step - loss: 0.0518 - acc: 0.1737 - val_loss: 0.0520 - val_acc: 0.1741\n",
      "Epoch 54/200\n",
      "350620/350620 [==============================] - 4s 11us/step - loss: 0.0518 - acc: 0.1726 - val_loss: 0.0520 - val_acc: 0.1729\n",
      "Epoch 55/200\n",
      "350620/350620 [==============================] - 4s 11us/step - loss: 0.0518 - acc: 0.1719 - val_loss: 0.0520 - val_acc: 0.1724\n",
      "Epoch 56/200\n",
      "350620/350620 [==============================] - 4s 11us/step - loss: 0.0518 - acc: 0.1774 - val_loss: 0.0520 - val_acc: 0.1875\n",
      "Epoch 57/200\n",
      "350620/350620 [==============================] - 4s 11us/step - loss: 0.0518 - acc: 0.1866 - val_loss: 0.0520 - val_acc: 0.1872\n",
      "Epoch 58/200\n",
      "350620/350620 [==============================] - 4s 11us/step - loss: 0.0518 - acc: 0.1859 - val_loss: 0.0520 - val_acc: 0.1867\n",
      "Epoch 59/200\n",
      "350620/350620 [==============================] - 4s 11us/step - loss: 0.0518 - acc: 0.1853 - val_loss: 0.0520 - val_acc: 0.1863\n",
      "Epoch 60/200\n",
      "350620/350620 [==============================] - 4s 10us/step - loss: 0.0518 - acc: 0.1850 - val_loss: 0.0520 - val_acc: 0.1856\n",
      "Epoch 61/200\n",
      "350620/350620 [==============================] - 4s 11us/step - loss: 0.0518 - acc: 0.1851 - val_loss: 0.0520 - val_acc: 0.1858\n",
      "Epoch 62/200\n",
      "350620/350620 [==============================] - 4s 10us/step - loss: 0.0518 - acc: 0.1860 - val_loss: 0.0520 - val_acc: 0.1866\n",
      "Epoch 63/200\n",
      "350620/350620 [==============================] - 4s 11us/step - loss: 0.0518 - acc: 0.1855 - val_loss: 0.0520 - val_acc: 0.1861\n",
      "Epoch 64/200\n",
      "350620/350620 [==============================] - 4s 11us/step - loss: 0.0518 - acc: 0.1951 - val_loss: 0.0520 - val_acc: 0.2018\n",
      "Epoch 65/200\n",
      "350620/350620 [==============================] - 4s 10us/step - loss: 0.0518 - acc: 0.2012 - val_loss: 0.0520 - val_acc: 0.2012\n",
      "Epoch 66/200\n",
      "350620/350620 [==============================] - 4s 10us/step - loss: 0.0518 - acc: 0.2008 - val_loss: 0.0520 - val_acc: 0.2007\n",
      "Epoch 67/200\n",
      "350620/350620 [==============================] - 4s 10us/step - loss: 0.0518 - acc: 0.2002 - val_loss: 0.0520 - val_acc: 0.2007\n",
      "Epoch 68/200\n",
      "350620/350620 [==============================] - 4s 11us/step - loss: 0.0518 - acc: 0.1996 - val_loss: 0.0520 - val_acc: 0.1998\n",
      "Epoch 69/200\n",
      "350620/350620 [==============================] - 4s 10us/step - loss: 0.0518 - acc: 0.1984 - val_loss: 0.0520 - val_acc: 0.1979\n",
      "Epoch 70/200\n",
      "350620/350620 [==============================] - 4s 10us/step - loss: 0.0518 - acc: 0.1971 - val_loss: 0.0520 - val_acc: 0.1979\n",
      "--- AE spent 268.4073257446289 seconds ---\n"
     ]
    }
   ],
   "source": [
    "hist_ae_sigmoid_adam_mse = fit_ae(checkpoint_file = \"ae_sigmoid_adam_mse_redds\"+str(dsnum)+\"bal.h5\",\n",
    "                                  autoencoder = ae_sigmoid_adam_mse, \n",
    "                                  epochs = 200, \n",
    "                                  batch_size = batch_size,\n",
    "                                  shuffle = False)"
   ]
  },
  {
   "cell_type": "code",
   "execution_count": 43,
   "metadata": {},
   "outputs": [
    {
     "name": "stdout",
     "output_type": "stream",
     "text": [
      "Best loss value: 0.05179538575956927\n"
     ]
    },
    {
     "data": {
      "image/png": "[encoded data removed]",
      "text/plain": [
       "<Figure size 432x288 with 1 Axes>"
      ]
     },
     "metadata": {
      "needs_background": "light"
     },
     "output_type": "display_data"
    }
   ],
   "source": [
    "best_loss_value_ae_sigmoid_adam_mse  = plot_hist_auto(hist_ae_sigmoid_adam_mse, './Figures/hist_ae_sigmoid_adam_mse.png')"
   ]
  },
  {
   "cell_type": "code",
   "execution_count": null,
   "metadata": {},
   "outputs": [],
   "source": []
  },
  {
   "cell_type": "code",
   "execution_count": null,
   "metadata": {},
   "outputs": [],
   "source": []
  },
  {
   "cell_type": "code",
   "execution_count": 44,
   "metadata": {},
   "outputs": [
    {
     "name": "stdout",
     "output_type": "stream",
     "text": [
      "_________________________________________________________________\n",
      "Layer (type)                 Output Shape              Param #   \n",
      "=================================================================\n",
      "input_4 (InputLayer)         (None, 197)               0         \n",
      "_________________________________________________________________\n",
      "encoded_bottle_neck (Dense)  (None, 131)               25938     \n",
      "_________________________________________________________________\n",
      "dense_4 (Dense)              (None, 197)               26004     \n",
      "=================================================================\n",
      "Total params: 51,942\n",
      "Trainable params: 51,942\n",
      "Non-trainable params: 0\n",
      "_________________________________________________________________\n",
      "None\n"
     ]
    }
   ],
   "source": [
    "ae_sigsig_adam_logcosh,enc_train_x_assal,enc_test_x_assal = ae(factor_enc_dim = 1.5,\n",
    "                                                          enc_activation = 'sigmoid',\n",
    "                                                          dec_activation = 'sigmoid',\n",
    "                                                          optimizer='Adam',\n",
    "                                                          loss='logcosh')"
   ]
  },
  {
   "cell_type": "code",
   "execution_count": 45,
   "metadata": {},
   "outputs": [],
   "source": [
    "#ae_sigsig_adam_logcosh = load_model('ae_sigsig_adam_logcosh_redds10bal.h5')"
   ]
  },
  {
   "cell_type": "code",
   "execution_count": 46,
   "metadata": {},
   "outputs": [
    {
     "name": "stdout",
     "output_type": "stream",
     "text": [
      "Wed Jun 12 18:10:25 2019\n",
      "Train on 350620 samples, validate on 87656 samples\n",
      "Epoch 1/200\n",
      "350620/350620 [==============================] - 4s 12us/step - loss: 0.0247 - acc: 0.1406 - val_loss: 0.0216 - val_acc: 0.2527\n",
      "Epoch 2/200\n",
      "350620/350620 [==============================] - 4s 11us/step - loss: 0.0211 - acc: 0.2992 - val_loss: 0.0208 - val_acc: 0.3462\n",
      "Epoch 3/200\n",
      "350620/350620 [==============================] - 4s 11us/step - loss: 0.0201 - acc: 0.3774 - val_loss: 0.0194 - val_acc: 0.3938\n",
      "Epoch 4/200\n",
      "350620/350620 [==============================] - 4s 11us/step - loss: 0.0188 - acc: 0.3939 - val_loss: 0.0185 - val_acc: 0.3835\n",
      "Epoch 5/200\n",
      "350620/350620 [==============================] - 4s 11us/step - loss: 0.0182 - acc: 0.3859 - val_loss: 0.0181 - val_acc: 0.3868\n",
      "Epoch 6/200\n",
      "350620/350620 [==============================] - 4s 11us/step - loss: 0.0180 - acc: 0.3844 - val_loss: 0.0180 - val_acc: 0.3889\n",
      "Epoch 7/200\n",
      "350620/350620 [==============================] - 4s 11us/step - loss: 0.0179 - acc: 0.3838 - val_loss: 0.0179 - val_acc: 0.3843\n",
      "Epoch 8/200\n",
      "350620/350620 [==============================] - 4s 11us/step - loss: 0.0179 - acc: 0.3777 - val_loss: 0.0179 - val_acc: 0.3785\n",
      "Epoch 9/200\n",
      "350620/350620 [==============================] - 4s 11us/step - loss: 0.0179 - acc: 0.3727 - val_loss: 0.0179 - val_acc: 0.3696\n",
      "Epoch 10/200\n",
      "350620/350620 [==============================] - 4s 11us/step - loss: 0.0179 - acc: 0.3675 - val_loss: 0.0179 - val_acc: 0.3733\n",
      "Epoch 11/200\n",
      "350620/350620 [==============================] - 4s 11us/step - loss: 0.0179 - acc: 0.3630 - val_loss: 0.0179 - val_acc: 0.3645\n",
      "Epoch 12/200\n",
      "350620/350620 [==============================] - 4s 11us/step - loss: 0.0178 - acc: 0.3590 - val_loss: 0.0179 - val_acc: 0.3641\n",
      "Epoch 13/200\n",
      "350620/350620 [==============================] - 4s 11us/step - loss: 0.0178 - acc: 0.3543 - val_loss: 0.0179 - val_acc: 0.3612\n",
      "Epoch 14/200\n",
      "350620/350620 [==============================] - 4s 11us/step - loss: 0.0178 - acc: 0.3537 - val_loss: 0.0179 - val_acc: 0.3581\n",
      "Epoch 15/200\n",
      "350620/350620 [==============================] - 4s 11us/step - loss: 0.0178 - acc: 0.3496 - val_loss: 0.0179 - val_acc: 0.3560\n",
      "Epoch 16/200\n",
      "350620/350620 [==============================] - 4s 11us/step - loss: 0.0178 - acc: 0.3492 - val_loss: 0.0179 - val_acc: 0.3573\n",
      "Epoch 17/200\n",
      "350620/350620 [==============================] - 4s 11us/step - loss: 0.0178 - acc: 0.3456 - val_loss: 0.0179 - val_acc: 0.3548\n",
      "Epoch 18/200\n",
      "350620/350620 [==============================] - 4s 11us/step - loss: 0.0178 - acc: 0.3431 - val_loss: 0.0179 - val_acc: 0.3486\n",
      "Epoch 19/200\n",
      "350620/350620 [==============================] - 4s 11us/step - loss: 0.0178 - acc: 0.3421 - val_loss: 0.0179 - val_acc: 0.3479\n",
      "Epoch 20/200\n",
      "350620/350620 [==============================] - 4s 11us/step - loss: 0.0178 - acc: 0.3431 - val_loss: 0.0179 - val_acc: 0.3492\n",
      "Epoch 21/200\n",
      "350620/350620 [==============================] - 4s 11us/step - loss: 0.0178 - acc: 0.3440 - val_loss: 0.0179 - val_acc: 0.3467\n",
      "Epoch 22/200\n",
      "350620/350620 [==============================] - 4s 11us/step - loss: 0.0178 - acc: 0.3426 - val_loss: 0.0179 - val_acc: 0.3539\n",
      "Epoch 23/200\n",
      "350620/350620 [==============================] - 4s 11us/step - loss: 0.0178 - acc: 0.3433 - val_loss: 0.0179 - val_acc: 0.3517\n",
      "Epoch 24/200\n",
      "350620/350620 [==============================] - 4s 11us/step - loss: 0.0178 - acc: 0.3423 - val_loss: 0.0179 - val_acc: 0.3482\n",
      "Epoch 25/200\n",
      "350620/350620 [==============================] - 4s 11us/step - loss: 0.0178 - acc: 0.3412 - val_loss: 0.0179 - val_acc: 0.3467\n",
      "Epoch 26/200\n",
      "350620/350620 [==============================] - 4s 11us/step - loss: 0.0178 - acc: 0.3469 - val_loss: 0.0179 - val_acc: 0.3562\n",
      "Epoch 27/200\n",
      "350620/350620 [==============================] - 4s 11us/step - loss: 0.0178 - acc: 0.3492 - val_loss: 0.0179 - val_acc: 0.3541\n",
      "Epoch 28/200\n",
      "350620/350620 [==============================] - 4s 11us/step - loss: 0.0178 - acc: 0.3451 - val_loss: 0.0179 - val_acc: 0.3503\n",
      "Epoch 29/200\n",
      "350620/350620 [==============================] - 4s 11us/step - loss: 0.0178 - acc: 0.3439 - val_loss: 0.0179 - val_acc: 0.3503\n",
      "Epoch 30/200\n",
      "350620/350620 [==============================] - 4s 11us/step - loss: 0.0178 - acc: 0.3452 - val_loss: 0.0179 - val_acc: 0.3533\n",
      "Epoch 31/200\n",
      "350620/350620 [==============================] - 4s 11us/step - loss: 0.0178 - acc: 0.3488 - val_loss: 0.0179 - val_acc: 0.3565\n",
      "Epoch 32/200\n",
      "350620/350620 [==============================] - 4s 11us/step - loss: 0.0178 - acc: 0.3480 - val_loss: 0.0179 - val_acc: 0.3528\n",
      "Epoch 33/200\n",
      "350620/350620 [==============================] - 4s 11us/step - loss: 0.0178 - acc: 0.3466 - val_loss: 0.0179 - val_acc: 0.3531\n",
      "Epoch 34/200\n",
      "350620/350620 [==============================] - 4s 11us/step - loss: 0.0178 - acc: 0.3492 - val_loss: 0.0179 - val_acc: 0.3533\n",
      "Epoch 35/200\n",
      "350620/350620 [==============================] - 4s 11us/step - loss: 0.0178 - acc: 0.3465 - val_loss: 0.0179 - val_acc: 0.3511\n",
      "Epoch 36/200\n",
      "350620/350620 [==============================] - 4s 11us/step - loss: 0.0178 - acc: 0.3480 - val_loss: 0.0179 - val_acc: 0.3542\n",
      "Epoch 37/200\n",
      "350620/350620 [==============================] - 4s 11us/step - loss: 0.0178 - acc: 0.3477 - val_loss: 0.0179 - val_acc: 0.3535\n",
      "Epoch 38/200\n",
      "350620/350620 [==============================] - 4s 11us/step - loss: 0.0178 - acc: 0.3483 - val_loss: 0.0179 - val_acc: 0.3540\n",
      "Epoch 39/200\n",
      "350620/350620 [==============================] - 4s 11us/step - loss: 0.0178 - acc: 0.3501 - val_loss: 0.0179 - val_acc: 0.3573\n",
      "Epoch 40/200\n",
      "350620/350620 [==============================] - 4s 11us/step - loss: 0.0178 - acc: 0.3481 - val_loss: 0.0179 - val_acc: 0.3511\n",
      "Epoch 41/200\n",
      "350620/350620 [==============================] - 4s 11us/step - loss: 0.0178 - acc: 0.3471 - val_loss: 0.0179 - val_acc: 0.3528\n",
      "Epoch 42/200\n",
      "350620/350620 [==============================] - 4s 11us/step - loss: 0.0178 - acc: 0.3480 - val_loss: 0.0179 - val_acc: 0.3543\n",
      "Epoch 43/200\n",
      "350620/350620 [==============================] - 4s 11us/step - loss: 0.0178 - acc: 0.3536 - val_loss: 0.0179 - val_acc: 0.3575\n",
      "Epoch 44/200\n",
      "350620/350620 [==============================] - 4s 11us/step - loss: 0.0178 - acc: 0.3535 - val_loss: 0.0179 - val_acc: 0.3577\n",
      "Epoch 45/200\n",
      "350620/350620 [==============================] - 4s 11us/step - loss: 0.0178 - acc: 0.3528 - val_loss: 0.0179 - val_acc: 0.3578\n",
      "Epoch 46/200\n",
      "350620/350620 [==============================] - 4s 11us/step - loss: 0.0178 - acc: 0.3561 - val_loss: 0.0179 - val_acc: 0.3599\n",
      "Epoch 47/200\n",
      "350620/350620 [==============================] - 4s 11us/step - loss: 0.0178 - acc: 0.3551 - val_loss: 0.0179 - val_acc: 0.3588\n",
      "Epoch 48/200\n",
      "350620/350620 [==============================] - 4s 11us/step - loss: 0.0178 - acc: 0.3551 - val_loss: 0.0179 - val_acc: 0.3601\n",
      "Epoch 49/200\n",
      "350620/350620 [==============================] - 4s 11us/step - loss: 0.0178 - acc: 0.3552 - val_loss: 0.0179 - val_acc: 0.3600\n",
      "Epoch 50/200\n",
      "350620/350620 [==============================] - 4s 11us/step - loss: 0.0178 - acc: 0.3567 - val_loss: 0.0179 - val_acc: 0.3623\n",
      "Epoch 51/200\n",
      "350620/350620 [==============================] - 4s 11us/step - loss: 0.0178 - acc: 0.3568 - val_loss: 0.0179 - val_acc: 0.3612\n",
      "Epoch 52/200\n",
      "350620/350620 [==============================] - 4s 11us/step - loss: 0.0178 - acc: 0.3605 - val_loss: 0.0179 - val_acc: 0.3675\n",
      "Epoch 53/200\n",
      "350620/350620 [==============================] - 4s 11us/step - loss: 0.0178 - acc: 0.3604 - val_loss: 0.0179 - val_acc: 0.3634\n",
      "Epoch 54/200\n",
      "350620/350620 [==============================] - 4s 11us/step - loss: 0.0178 - acc: 0.3600 - val_loss: 0.0179 - val_acc: 0.3643\n",
      "Epoch 55/200\n",
      "350620/350620 [==============================] - 4s 11us/step - loss: 0.0178 - acc: 0.3627 - val_loss: 0.0179 - val_acc: 0.3675\n",
      "Epoch 56/200\n",
      "350620/350620 [==============================] - 4s 11us/step - loss: 0.0178 - acc: 0.3639 - val_loss: 0.0179 - val_acc: 0.3683\n",
      "Epoch 57/200\n",
      "350620/350620 [==============================] - 4s 11us/step - loss: 0.0178 - acc: 0.3716 - val_loss: 0.0179 - val_acc: 0.3760\n",
      "Epoch 58/200\n",
      "350620/350620 [==============================] - 4s 11us/step - loss: 0.0178 - acc: 0.3686 - val_loss: 0.0179 - val_acc: 0.3686\n",
      "Epoch 59/200\n",
      "350620/350620 [==============================] - 4s 11us/step - loss: 0.0178 - acc: 0.3680 - val_loss: 0.0179 - val_acc: 0.3709\n",
      "Epoch 60/200\n",
      "350620/350620 [==============================] - 4s 11us/step - loss: 0.0178 - acc: 0.3690 - val_loss: 0.0179 - val_acc: 0.3721\n",
      "Epoch 61/200\n",
      "350620/350620 [==============================] - 4s 11us/step - loss: 0.0178 - acc: 0.3684 - val_loss: 0.0179 - val_acc: 0.3716\n",
      "Epoch 62/200\n",
      "350620/350620 [==============================] - 4s 11us/step - loss: 0.0178 - acc: 0.3793 - val_loss: 0.0179 - val_acc: 0.3797\n",
      "Epoch 63/200\n",
      "350620/350620 [==============================] - 4s 11us/step - loss: 0.0178 - acc: 0.3734 - val_loss: 0.0179 - val_acc: 0.3744\n",
      "Epoch 64/200\n",
      "350620/350620 [==============================] - 4s 11us/step - loss: 0.0178 - acc: 0.3705 - val_loss: 0.0179 - val_acc: 0.3729\n",
      "Epoch 65/200\n",
      "350620/350620 [==============================] - 4s 11us/step - loss: 0.0178 - acc: 0.3711 - val_loss: 0.0179 - val_acc: 0.3757\n",
      "Epoch 66/200\n",
      "350620/350620 [==============================] - 4s 11us/step - loss: 0.0178 - acc: 0.3710 - val_loss: 0.0179 - val_acc: 0.3731\n",
      "Epoch 67/200\n",
      "350620/350620 [==============================] - 4s 11us/step - loss: 0.0178 - acc: 0.3710 - val_loss: 0.0179 - val_acc: 0.3726\n",
      "Epoch 68/200\n",
      "350620/350620 [==============================] - 4s 11us/step - loss: 0.0178 - acc: 0.3709 - val_loss: 0.0179 - val_acc: 0.3738\n",
      "Epoch 69/200\n",
      "350620/350620 [==============================] - 4s 11us/step - loss: 0.0178 - acc: 0.3712 - val_loss: 0.0179 - val_acc: 0.3736\n",
      "Epoch 70/200\n",
      "350620/350620 [==============================] - 4s 11us/step - loss: 0.0178 - acc: 0.3700 - val_loss: 0.0179 - val_acc: 0.3720\n",
      "Epoch 71/200\n",
      "350620/350620 [==============================] - 4s 11us/step - loss: 0.0178 - acc: 0.3699 - val_loss: 0.0179 - val_acc: 0.3736\n",
      "Epoch 72/200\n",
      "350620/350620 [==============================] - 4s 11us/step - loss: 0.0178 - acc: 0.3704 - val_loss: 0.0179 - val_acc: 0.3723\n",
      "Epoch 73/200\n",
      "350620/350620 [==============================] - 4s 11us/step - loss: 0.0178 - acc: 0.3701 - val_loss: 0.0179 - val_acc: 0.3725\n",
      "Epoch 74/200\n",
      "350620/350620 [==============================] - 4s 11us/step - loss: 0.0178 - acc: 0.3695 - val_loss: 0.0179 - val_acc: 0.3721\n",
      "Epoch 75/200\n",
      "350620/350620 [==============================] - 4s 11us/step - loss: 0.0178 - acc: 0.3720 - val_loss: 0.0179 - val_acc: 0.3788\n",
      "Epoch 76/200\n",
      "350620/350620 [==============================] - 4s 11us/step - loss: 0.0178 - acc: 0.3725 - val_loss: 0.0179 - val_acc: 0.3750\n",
      "Epoch 77/200\n",
      "350620/350620 [==============================] - 4s 11us/step - loss: 0.0178 - acc: 0.3716 - val_loss: 0.0179 - val_acc: 0.3741\n",
      "Epoch 78/200\n",
      "350620/350620 [==============================] - 4s 11us/step - loss: 0.0178 - acc: 0.3741 - val_loss: 0.0179 - val_acc: 0.3757\n",
      "Epoch 79/200\n",
      "350620/350620 [==============================] - 4s 11us/step - loss: 0.0178 - acc: 0.3723 - val_loss: 0.0179 - val_acc: 0.3751\n",
      "Epoch 80/200\n",
      "350620/350620 [==============================] - 4s 11us/step - loss: 0.0178 - acc: 0.3783 - val_loss: 0.0179 - val_acc: 0.3856\n",
      "Epoch 81/200\n",
      "350620/350620 [==============================] - 4s 11us/step - loss: 0.0178 - acc: 0.3785 - val_loss: 0.0179 - val_acc: 0.3771\n",
      "Epoch 82/200\n",
      "350620/350620 [==============================] - 4s 11us/step - loss: 0.0178 - acc: 0.3750 - val_loss: 0.0179 - val_acc: 0.3790\n",
      "Epoch 83/200\n",
      "350620/350620 [==============================] - 4s 11us/step - loss: 0.0178 - acc: 0.3747 - val_loss: 0.0179 - val_acc: 0.3779\n",
      "Epoch 84/200\n",
      "350620/350620 [==============================] - 4s 11us/step - loss: 0.0178 - acc: 0.3740 - val_loss: 0.0179 - val_acc: 0.3760\n",
      "Epoch 85/200\n",
      "350620/350620 [==============================] - 4s 11us/step - loss: 0.0178 - acc: 0.3738 - val_loss: 0.0179 - val_acc: 0.3768\n",
      "Epoch 86/200\n",
      "350620/350620 [==============================] - 4s 11us/step - loss: 0.0178 - acc: 0.3721 - val_loss: 0.0179 - val_acc: 0.3760\n",
      "Epoch 87/200\n",
      "350620/350620 [==============================] - 4s 11us/step - loss: 0.0178 - acc: 0.3723 - val_loss: 0.0179 - val_acc: 0.3748\n",
      "Epoch 88/200\n",
      "350620/350620 [==============================] - 4s 11us/step - loss: 0.0178 - acc: 0.3729 - val_loss: 0.0179 - val_acc: 0.3757\n",
      "Epoch 89/200\n",
      "350620/350620 [==============================] - 4s 11us/step - loss: 0.0178 - acc: 0.3726 - val_loss: 0.0179 - val_acc: 0.3743\n",
      "Epoch 90/200\n",
      "350620/350620 [==============================] - 4s 11us/step - loss: 0.0178 - acc: 0.3732 - val_loss: 0.0179 - val_acc: 0.3770\n",
      "Epoch 91/200\n",
      "350620/350620 [==============================] - 4s 11us/step - loss: 0.0178 - acc: 0.3747 - val_loss: 0.0179 - val_acc: 0.3777\n",
      "Epoch 92/200\n",
      "350620/350620 [==============================] - 4s 11us/step - loss: 0.0178 - acc: 0.3728 - val_loss: 0.0179 - val_acc: 0.3740\n",
      "Epoch 93/200\n",
      "350620/350620 [==============================] - 4s 11us/step - loss: 0.0178 - acc: 0.3714 - val_loss: 0.0179 - val_acc: 0.3750\n",
      "Epoch 94/200\n",
      "350620/350620 [==============================] - 4s 11us/step - loss: 0.0178 - acc: 0.3731 - val_loss: 0.0179 - val_acc: 0.3766\n",
      "Epoch 95/200\n",
      "350620/350620 [==============================] - 4s 11us/step - loss: 0.0178 - acc: 0.3733 - val_loss: 0.0179 - val_acc: 0.3772\n",
      "Epoch 96/200\n",
      "350620/350620 [==============================] - 4s 11us/step - loss: 0.0178 - acc: 0.3729 - val_loss: 0.0179 - val_acc: 0.3769\n",
      "Epoch 97/200\n",
      "350620/350620 [==============================] - 4s 11us/step - loss: 0.0178 - acc: 0.3749 - val_loss: 0.0179 - val_acc: 0.3792\n",
      "Epoch 98/200\n",
      "350620/350620 [==============================] - 4s 11us/step - loss: 0.0178 - acc: 0.3749 - val_loss: 0.0179 - val_acc: 0.3777\n",
      "Epoch 99/200\n",
      "350620/350620 [==============================] - 4s 11us/step - loss: 0.0178 - acc: 0.3763 - val_loss: 0.0179 - val_acc: 0.3821\n",
      "Epoch 100/200\n",
      "350620/350620 [==============================] - 4s 11us/step - loss: 0.0178 - acc: 0.3775 - val_loss: 0.0179 - val_acc: 0.3791\n",
      "Epoch 101/200\n",
      "350620/350620 [==============================] - 4s 11us/step - loss: 0.0178 - acc: 0.3758 - val_loss: 0.0179 - val_acc: 0.3788\n",
      "Epoch 102/200\n",
      "350620/350620 [==============================] - 4s 11us/step - loss: 0.0178 - acc: 0.3755 - val_loss: 0.0179 - val_acc: 0.3777\n",
      "Epoch 103/200\n",
      "350620/350620 [==============================] - 4s 11us/step - loss: 0.0178 - acc: 0.3760 - val_loss: 0.0179 - val_acc: 0.3826\n",
      "Epoch 104/200\n",
      "350620/350620 [==============================] - 4s 11us/step - loss: 0.0178 - acc: 0.3779 - val_loss: 0.0179 - val_acc: 0.3820\n",
      "Epoch 105/200\n",
      "350620/350620 [==============================] - 4s 11us/step - loss: 0.0178 - acc: 0.3786 - val_loss: 0.0179 - val_acc: 0.3803\n",
      "Epoch 106/200\n",
      "350620/350620 [==============================] - 4s 11us/step - loss: 0.0178 - acc: 0.3771 - val_loss: 0.0179 - val_acc: 0.3796\n",
      "Epoch 107/200\n",
      "350620/350620 [==============================] - 4s 11us/step - loss: 0.0178 - acc: 0.3875 - val_loss: 0.0179 - val_acc: 0.3966\n",
      "Epoch 108/200\n",
      "350620/350620 [==============================] - 4s 11us/step - loss: 0.0178 - acc: 0.3890 - val_loss: 0.0179 - val_acc: 0.3887\n",
      "Epoch 109/200\n",
      "350620/350620 [==============================] - 4s 11us/step - loss: 0.0178 - acc: 0.3819 - val_loss: 0.0179 - val_acc: 0.3829\n",
      "Epoch 110/200\n",
      "350620/350620 [==============================] - 4s 11us/step - loss: 0.0178 - acc: 0.3787 - val_loss: 0.0179 - val_acc: 0.3805\n",
      "Epoch 111/200\n",
      "350620/350620 [==============================] - 4s 11us/step - loss: 0.0178 - acc: 0.3855 - val_loss: 0.0179 - val_acc: 0.3915\n",
      "Epoch 112/200\n",
      "350620/350620 [==============================] - 4s 11us/step - loss: 0.0178 - acc: 0.3850 - val_loss: 0.0179 - val_acc: 0.3863\n",
      "Epoch 113/200\n",
      "350620/350620 [==============================] - 4s 11us/step - loss: 0.0178 - acc: 0.3801 - val_loss: 0.0179 - val_acc: 0.3817\n",
      "Epoch 114/200\n",
      "350620/350620 [==============================] - 4s 11us/step - loss: 0.0178 - acc: 0.3891 - val_loss: 0.0179 - val_acc: 0.4015\n",
      "Epoch 115/200\n",
      "350620/350620 [==============================] - 4s 11us/step - loss: 0.0178 - acc: 0.3950 - val_loss: 0.0179 - val_acc: 0.3954\n",
      "Epoch 116/200\n",
      "350620/350620 [==============================] - 4s 11us/step - loss: 0.0178 - acc: 0.3896 - val_loss: 0.0179 - val_acc: 0.3915\n",
      "Epoch 117/200\n",
      "350620/350620 [==============================] - 4s 11us/step - loss: 0.0178 - acc: 0.3967 - val_loss: 0.0179 - val_acc: 0.3964\n",
      "Epoch 118/200\n",
      "350620/350620 [==============================] - 4s 11us/step - loss: 0.0178 - acc: 0.3914 - val_loss: 0.0179 - val_acc: 0.3907\n",
      "Epoch 119/200\n",
      "350620/350620 [==============================] - 4s 11us/step - loss: 0.0178 - acc: 0.3875 - val_loss: 0.0179 - val_acc: 0.3897\n",
      "Epoch 120/200\n",
      "350620/350620 [==============================] - 4s 11us/step - loss: 0.0178 - acc: 0.3859 - val_loss: 0.0179 - val_acc: 0.3880\n",
      "Epoch 121/200\n",
      "350620/350620 [==============================] - 4s 11us/step - loss: 0.0178 - acc: 0.3850 - val_loss: 0.0179 - val_acc: 0.3906\n",
      "Epoch 122/200\n",
      "350620/350620 [==============================] - 4s 11us/step - loss: 0.0178 - acc: 0.3862 - val_loss: 0.0179 - val_acc: 0.3883\n",
      "Epoch 123/200\n",
      "350620/350620 [==============================] - 4s 11us/step - loss: 0.0178 - acc: 0.3844 - val_loss: 0.0179 - val_acc: 0.3871\n",
      "Epoch 124/200\n",
      "350620/350620 [==============================] - 4s 11us/step - loss: 0.0178 - acc: 0.3834 - val_loss: 0.0179 - val_acc: 0.3875\n",
      "Epoch 125/200\n",
      "350620/350620 [==============================] - 4s 11us/step - loss: 0.0178 - acc: 0.3829 - val_loss: 0.0179 - val_acc: 0.3859\n",
      "Epoch 126/200\n",
      "350620/350620 [==============================] - 4s 11us/step - loss: 0.0178 - acc: 0.3823 - val_loss: 0.0179 - val_acc: 0.3846\n",
      "Epoch 127/200\n",
      "350620/350620 [==============================] - 4s 11us/step - loss: 0.0178 - acc: 0.3828 - val_loss: 0.0179 - val_acc: 0.3850\n",
      "Epoch 128/200\n",
      "350620/350620 [==============================] - 4s 11us/step - loss: 0.0178 - acc: 0.3820 - val_loss: 0.0179 - val_acc: 0.3845\n",
      "Epoch 129/200\n",
      "350620/350620 [==============================] - 4s 11us/step - loss: 0.0178 - acc: 0.3826 - val_loss: 0.0179 - val_acc: 0.3849\n",
      "Epoch 130/200\n",
      "350620/350620 [==============================] - 4s 11us/step - loss: 0.0178 - acc: 0.3822 - val_loss: 0.0179 - val_acc: 0.3844\n",
      "Epoch 131/200\n",
      "350620/350620 [==============================] - 4s 11us/step - loss: 0.0178 - acc: 0.3818 - val_loss: 0.0179 - val_acc: 0.3836\n",
      "Epoch 132/200\n",
      "350620/350620 [==============================] - 4s 11us/step - loss: 0.0178 - acc: 0.3811 - val_loss: 0.0179 - val_acc: 0.3838\n",
      "Epoch 133/200\n",
      "350620/350620 [==============================] - 4s 11us/step - loss: 0.0178 - acc: 0.3816 - val_loss: 0.0179 - val_acc: 0.3845\n",
      "Epoch 134/200\n",
      "350620/350620 [==============================] - 4s 11us/step - loss: 0.0178 - acc: 0.3900 - val_loss: 0.0179 - val_acc: 0.3979\n",
      "Epoch 135/200\n",
      "350620/350620 [==============================] - 4s 11us/step - loss: 0.0178 - acc: 0.3915 - val_loss: 0.0179 - val_acc: 0.3910\n",
      "Epoch 136/200\n",
      "350620/350620 [==============================] - 4s 11us/step - loss: 0.0178 - acc: 0.3875 - val_loss: 0.0179 - val_acc: 0.3888\n",
      "Epoch 137/200\n",
      "350620/350620 [==============================] - 4s 11us/step - loss: 0.0178 - acc: 0.3852 - val_loss: 0.0179 - val_acc: 0.3883\n",
      "Epoch 138/200\n",
      "350620/350620 [==============================] - 4s 11us/step - loss: 0.0178 - acc: 0.3870 - val_loss: 0.0179 - val_acc: 0.3884\n",
      "Epoch 139/200\n",
      "350620/350620 [==============================] - 4s 11us/step - loss: 0.0178 - acc: 0.3848 - val_loss: 0.0179 - val_acc: 0.3853\n",
      "Epoch 140/200\n",
      "350620/350620 [==============================] - 4s 11us/step - loss: 0.0178 - acc: 0.3827 - val_loss: 0.0179 - val_acc: 0.3845\n",
      "Epoch 141/200\n",
      "350620/350620 [==============================] - 4s 11us/step - loss: 0.0178 - acc: 0.3818 - val_loss: 0.0179 - val_acc: 0.3837\n",
      "Epoch 142/200\n",
      "350620/350620 [==============================] - 4s 11us/step - loss: 0.0178 - acc: 0.3828 - val_loss: 0.0179 - val_acc: 0.3876\n",
      "Epoch 143/200\n",
      "350620/350620 [==============================] - 4s 11us/step - loss: 0.0178 - acc: 0.3834 - val_loss: 0.0179 - val_acc: 0.3852\n",
      "Epoch 144/200\n",
      "350620/350620 [==============================] - 4s 11us/step - loss: 0.0178 - acc: 0.3824 - val_loss: 0.0179 - val_acc: 0.3843\n",
      "Epoch 145/200\n",
      "350620/350620 [==============================] - 4s 11us/step - loss: 0.0178 - acc: 0.3817 - val_loss: 0.0179 - val_acc: 0.3834\n",
      "Epoch 146/200\n",
      "350620/350620 [==============================] - 4s 11us/step - loss: 0.0178 - acc: 0.3906 - val_loss: 0.0179 - val_acc: 0.3905\n",
      "Epoch 147/200\n",
      "350620/350620 [==============================] - 4s 11us/step - loss: 0.0178 - acc: 0.3983 - val_loss: 0.0179 - val_acc: 0.4069\n",
      "Epoch 148/200\n",
      "350620/350620 [==============================] - 4s 11us/step - loss: 0.0178 - acc: 0.4003 - val_loss: 0.0179 - val_acc: 0.3971\n",
      "Epoch 149/200\n",
      "350620/350620 [==============================] - 4s 11us/step - loss: 0.0178 - acc: 0.3917 - val_loss: 0.0179 - val_acc: 0.3911\n",
      "Epoch 150/200\n",
      "350620/350620 [==============================] - 4s 11us/step - loss: 0.0178 - acc: 0.3872 - val_loss: 0.0179 - val_acc: 0.3883\n",
      "Epoch 151/200\n",
      "350620/350620 [==============================] - 4s 11us/step - loss: 0.0178 - acc: 0.3843 - val_loss: 0.0179 - val_acc: 0.3878\n",
      "Epoch 152/200\n",
      "350620/350620 [==============================] - 4s 11us/step - loss: 0.0178 - acc: 0.3835 - val_loss: 0.0179 - val_acc: 0.3867\n",
      "Epoch 153/200\n",
      "350620/350620 [==============================] - 4s 11us/step - loss: 0.0178 - acc: 0.3841 - val_loss: 0.0179 - val_acc: 0.3868\n",
      "Epoch 154/200\n",
      "350620/350620 [==============================] - 4s 11us/step - loss: 0.0178 - acc: 0.3841 - val_loss: 0.0179 - val_acc: 0.3882\n",
      "Epoch 155/200\n",
      "350620/350620 [==============================] - 4s 11us/step - loss: 0.0178 - acc: 0.3857 - val_loss: 0.0179 - val_acc: 0.3889\n",
      "Epoch 156/200\n",
      "350620/350620 [==============================] - 4s 11us/step - loss: 0.0178 - acc: 0.3864 - val_loss: 0.0179 - val_acc: 0.3895\n",
      "Epoch 157/200\n",
      "350620/350620 [==============================] - 4s 11us/step - loss: 0.0178 - acc: 0.3875 - val_loss: 0.0179 - val_acc: 0.3903\n",
      "Epoch 158/200\n",
      "350620/350620 [==============================] - 4s 11us/step - loss: 0.0178 - acc: 0.3889 - val_loss: 0.0179 - val_acc: 0.3917\n",
      "Epoch 159/200\n",
      "350620/350620 [==============================] - 4s 11us/step - loss: 0.0178 - acc: 0.3890 - val_loss: 0.0179 - val_acc: 0.3908\n",
      "Epoch 160/200\n",
      "350620/350620 [==============================] - 4s 11us/step - loss: 0.0178 - acc: 0.3886 - val_loss: 0.0179 - val_acc: 0.3900\n",
      "Epoch 161/200\n",
      "350620/350620 [==============================] - 4s 11us/step - loss: 0.0178 - acc: 0.3877 - val_loss: 0.0179 - val_acc: 0.3898\n",
      "Epoch 162/200\n",
      "350620/350620 [==============================] - 4s 11us/step - loss: 0.0178 - acc: 0.3882 - val_loss: 0.0179 - val_acc: 0.3917\n",
      "Epoch 163/200\n",
      "350620/350620 [==============================] - 4s 11us/step - loss: 0.0178 - acc: 0.3962 - val_loss: 0.0179 - val_acc: 0.4023\n",
      "Epoch 164/200\n",
      "350620/350620 [==============================] - 4s 11us/step - loss: 0.0178 - acc: 0.4035 - val_loss: 0.0179 - val_acc: 0.4095\n",
      "Epoch 165/200\n",
      "350620/350620 [==============================] - 4s 11us/step - loss: 0.0178 - acc: 0.4037 - val_loss: 0.0179 - val_acc: 0.4006\n",
      "Epoch 166/200\n",
      "350620/350620 [==============================] - 4s 11us/step - loss: 0.0178 - acc: 0.3982 - val_loss: 0.0179 - val_acc: 0.3965\n",
      "Epoch 167/200\n",
      "350620/350620 [==============================] - 4s 11us/step - loss: 0.0178 - acc: 0.4023 - val_loss: 0.0179 - val_acc: 0.4046\n",
      "Epoch 168/200\n",
      "350620/350620 [==============================] - 4s 11us/step - loss: 0.0178 - acc: 0.4017 - val_loss: 0.0179 - val_acc: 0.4099\n",
      "Epoch 169/200\n",
      "350620/350620 [==============================] - 4s 11us/step - loss: 0.0178 - acc: 0.4192 - val_loss: 0.0179 - val_acc: 0.4159\n",
      "Epoch 170/200\n",
      "350620/350620 [==============================] - 4s 11us/step - loss: 0.0178 - acc: 0.4120 - val_loss: 0.0179 - val_acc: 0.4100\n",
      "Epoch 171/200\n",
      "350620/350620 [==============================] - 4s 11us/step - loss: 0.0178 - acc: 0.4033 - val_loss: 0.0179 - val_acc: 0.4016\n",
      "--- AE spent 658.83061003685 seconds ---\n"
     ]
    }
   ],
   "source": [
    "hist_ae_sigsig_adam_logcosh = fit_ae(checkpoint_file = \"ae_sigsig_adam_logcosh_redds\"+str(dsnum)+\"bal.h5\",\n",
    "                                  autoencoder = ae_sigsig_adam_logcosh, \n",
    "                                  epochs = 200, \n",
    "                                  batch_size = batch_size,\n",
    "                                  shuffle = False)"
   ]
  },
  {
   "cell_type": "code",
   "execution_count": 47,
   "metadata": {},
   "outputs": [
    {
     "name": "stdout",
     "output_type": "stream",
     "text": [
      "Best loss value: 0.017830662071930854\n"
     ]
    },
    {
     "data": {
      "image/png": "[encoded data removed]",
      "text/plain": [
       "<Figure size 432x288 with 1 Axes>"
      ]
     },
     "metadata": {
      "needs_background": "light"
     },
     "output_type": "display_data"
    }
   ],
   "source": [
    "best_loss_value_ae_sigsig_adam_logcosh  = plot_hist_auto(hist_ae_sigsig_adam_logcosh, './Figures/hist_ae_sigsig_adam_logcosh'+str(dsnum)+'.png')"
   ]
  },
  {
   "cell_type": "code",
   "execution_count": null,
   "metadata": {},
   "outputs": [],
   "source": []
  },
  {
   "cell_type": "code",
   "execution_count": 137,
   "metadata": {},
   "outputs": [
    {
     "name": "stdout",
     "output_type": "stream",
     "text": [
      "_________________________________________________________________\n",
      "Layer (type)                 Output Shape              Param #   \n",
      "=================================================================\n",
      "input_5 (InputLayer)         (None, 197)               0         \n",
      "_________________________________________________________________\n",
      "encoded_bottle_neck (Dense)  (None, 131)               25938     \n",
      "_________________________________________________________________\n",
      "dense_55 (Dense)             (None, 197)               26004     \n",
      "=================================================================\n",
      "Total params: 51,942\n",
      "Trainable params: 51,942\n",
      "Non-trainable params: 0\n",
      "_________________________________________________________________\n",
      "None\n"
     ]
    }
   ],
   "source": [
    "spae_sigmoid_adam_mse,enc_train_x_spsam,enc_test_x_spsam = spae(factor_enc_dim = 1.5,\n",
    "                                                          enc_activation = 'relu',\n",
    "                                                          dec_activation = 'sigmoid',\n",
    "                                                          optimizer='Adam',\n",
    "                                                          loss='mean_squared_error')"
   ]
  },
  {
   "cell_type": "code",
   "execution_count": 138,
   "metadata": {},
   "outputs": [],
   "source": [
    "#spae_sigmoid_adam_mse = load_model('spae_sigmoid_adam_mse_redds20bal.h5')"
   ]
  },
  {
   "cell_type": "code",
   "execution_count": 139,
   "metadata": {},
   "outputs": [
    {
     "name": "stdout",
     "output_type": "stream",
     "text": [
      "Thu Jun 13 12:43:18 2019\n",
      "Train on 350620 samples, validate on 87656 samples\n",
      "Epoch 1/200\n",
      "350620/350620 [==============================] - 6s 18us/step - loss: 0.1886 - acc: 0.0030 - val_loss: 0.1330 - val_acc: 2.2816e-05\n",
      "Epoch 2/200\n",
      "350620/350620 [==============================] - 6s 17us/step - loss: 0.1182 - acc: 2.2817e-05 - val_loss: 0.1087 - val_acc: 6.8449e-05\n",
      "Epoch 3/200\n",
      "350620/350620 [==============================] - 6s 17us/step - loss: 0.1033 - acc: 5.4190e-05 - val_loss: 0.0998 - val_acc: 7.9858e-05\n",
      "Epoch 4/200\n",
      "350620/350620 [==============================] - 6s 17us/step - loss: 0.0975 - acc: 6.2746e-05 - val_loss: 0.0962 - val_acc: 7.9858e-05\n",
      "Epoch 5/200\n",
      "350620/350620 [==============================] - 6s 17us/step - loss: 0.0949 - acc: 6.8450e-05 - val_loss: 0.0943 - val_acc: 9.1266e-05\n",
      "Epoch 6/200\n",
      "350620/350620 [==============================] - 6s 17us/step - loss: 0.0933 - acc: 6.5598e-05 - val_loss: 0.0930 - val_acc: 7.9858e-05\n",
      "Epoch 7/200\n",
      "350620/350620 [==============================] - 6s 17us/step - loss: 0.0883 - acc: 1.1408e-05 - val_loss: 0.0862 - val_acc: 0.0000e+00\n",
      "Epoch 8/200\n",
      "350620/350620 [==============================] - 6s 17us/step - loss: 0.0849 - acc: 1.1408e-05 - val_loss: 0.0843 - val_acc: 1.1408e-05\n",
      "Epoch 9/200\n",
      "350620/350620 [==============================] - 6s 17us/step - loss: 0.0833 - acc: 1.1408e-05 - val_loss: 0.0830 - val_acc: 1.1408e-05\n",
      "Epoch 10/200\n",
      "350620/350620 [==============================] - 6s 17us/step - loss: 0.0822 - acc: 1.1408e-05 - val_loss: 0.0820 - val_acc: 1.1408e-05\n",
      "Epoch 11/200\n",
      "350620/350620 [==============================] - 6s 17us/step - loss: 0.0813 - acc: 1.1408e-05 - val_loss: 0.0813 - val_acc: 1.1408e-05\n",
      "Epoch 12/200\n",
      "350620/350620 [==============================] - 6s 17us/step - loss: 0.0806 - acc: 1.9965e-05 - val_loss: 0.0806 - val_acc: 1.1408e-05\n",
      "Epoch 13/200\n",
      "350620/350620 [==============================] - 6s 18us/step - loss: 0.0801 - acc: 4.8486e-05 - val_loss: 0.0801 - val_acc: 1.1408e-05\n",
      "Epoch 14/200\n",
      "350620/350620 [==============================] - 6s 17us/step - loss: 0.0796 - acc: 1.7398e-04 - val_loss: 0.0797 - val_acc: 4.7915e-04\n",
      "Epoch 15/200\n",
      "350620/350620 [==============================] - 6s 17us/step - loss: 0.0792 - acc: 4.1641e-04 - val_loss: 0.0793 - val_acc: 6.2745e-04\n",
      "Epoch 16/200\n",
      "350620/350620 [==============================] - 6s 17us/step - loss: 0.0788 - acc: 0.0010 - val_loss: 0.0790 - val_acc: 0.0013\n",
      "Epoch 17/200\n",
      "350620/350620 [==============================] - 6s 17us/step - loss: 0.0785 - acc: 0.0019 - val_loss: 0.0787 - val_acc: 0.0022\n",
      "Epoch 18/200\n",
      "350620/350620 [==============================] - 6s 18us/step - loss: 0.0783 - acc: 0.0030 - val_loss: 0.0784 - val_acc: 0.0033\n",
      "Epoch 19/200\n",
      "350620/350620 [==============================] - 6s 18us/step - loss: 0.0780 - acc: 0.0041 - val_loss: 0.0782 - val_acc: 0.0045\n",
      "Epoch 20/200\n",
      "350620/350620 [==============================] - 6s 18us/step - loss: 0.0778 - acc: 0.0051 - val_loss: 0.0780 - val_acc: 0.0065\n",
      "Epoch 21/200\n",
      "350620/350620 [==============================] - 6s 18us/step - loss: 0.0776 - acc: 0.0061 - val_loss: 0.0778 - val_acc: 0.0083\n",
      "Epoch 22/200\n",
      "350620/350620 [==============================] - 6s 18us/step - loss: 0.0774 - acc: 0.0069 - val_loss: 0.0777 - val_acc: 0.0132\n",
      "Epoch 23/200\n",
      "350620/350620 [==============================] - 6s 18us/step - loss: 0.0773 - acc: 0.0082 - val_loss: 0.0775 - val_acc: 0.0111\n",
      "Epoch 24/200\n",
      "350620/350620 [==============================] - 6s 17us/step - loss: 0.0771 - acc: 0.0095 - val_loss: 0.0774 - val_acc: 0.0186\n",
      "Epoch 25/200\n",
      "350620/350620 [==============================] - 6s 18us/step - loss: 0.0770 - acc: 0.0114 - val_loss: 0.0772 - val_acc: 0.0205\n",
      "Epoch 26/200\n",
      "350620/350620 [==============================] - 6s 17us/step - loss: 0.0769 - acc: 0.0137 - val_loss: 0.0771 - val_acc: 0.0222\n",
      "Epoch 27/200\n",
      "350620/350620 [==============================] - 6s 18us/step - loss: 0.0768 - acc: 0.0160 - val_loss: 0.0770 - val_acc: 0.0239\n",
      "Epoch 28/200\n",
      "350620/350620 [==============================] - 6s 18us/step - loss: 0.0767 - acc: 0.0182 - val_loss: 0.0769 - val_acc: 0.0270\n",
      "Epoch 29/200\n",
      "350620/350620 [==============================] - 6s 18us/step - loss: 0.0766 - acc: 0.0201 - val_loss: 0.0768 - val_acc: 0.0278\n",
      "Epoch 30/200\n",
      "350620/350620 [==============================] - 6s 18us/step - loss: 0.0765 - acc: 0.0222 - val_loss: 0.0767 - val_acc: 0.0292\n",
      "Epoch 31/200\n",
      "350620/350620 [==============================] - 6s 18us/step - loss: 0.0764 - acc: 0.0241 - val_loss: 0.0766 - val_acc: 0.0311\n",
      "Epoch 32/200\n",
      "350620/350620 [==============================] - 6s 18us/step - loss: 0.0763 - acc: 0.0256 - val_loss: 0.0766 - val_acc: 0.0329\n",
      "Epoch 33/200\n",
      "350620/350620 [==============================] - 6s 18us/step - loss: 0.0762 - acc: 0.0269 - val_loss: 0.0765 - val_acc: 0.0346\n",
      "Epoch 34/200\n",
      "350620/350620 [==============================] - 6s 18us/step - loss: 0.0762 - acc: 0.0281 - val_loss: 0.0764 - val_acc: 0.0354\n",
      "Epoch 35/200\n",
      "350620/350620 [==============================] - 6s 18us/step - loss: 0.0761 - acc: 0.0290 - val_loss: 0.0764 - val_acc: 0.0363\n",
      "Epoch 36/200\n",
      "350620/350620 [==============================] - 6s 18us/step - loss: 0.0760 - acc: 0.0305 - val_loss: 0.0763 - val_acc: 0.0402\n",
      "Epoch 37/200\n",
      "350620/350620 [==============================] - 6s 18us/step - loss: 0.0760 - acc: 0.0310 - val_loss: 0.0762 - val_acc: 0.0413\n",
      "Epoch 38/200\n",
      "350620/350620 [==============================] - 6s 18us/step - loss: 0.0759 - acc: 0.0320 - val_loss: 0.0762 - val_acc: 0.0401\n",
      "Epoch 39/200\n",
      "350620/350620 [==============================] - 6s 18us/step - loss: 0.0759 - acc: 0.0333 - val_loss: 0.0761 - val_acc: 0.0410\n",
      "Epoch 40/200\n",
      "350620/350620 [==============================] - 6s 18us/step - loss: 0.0758 - acc: 0.0344 - val_loss: 0.0761 - val_acc: 0.0422\n",
      "Epoch 41/200\n",
      "350620/350620 [==============================] - 6s 18us/step - loss: 0.0758 - acc: 0.0351 - val_loss: 0.0760 - val_acc: 0.0431\n",
      "Epoch 42/200\n",
      "350620/350620 [==============================] - 6s 18us/step - loss: 0.0757 - acc: 0.0361 - val_loss: 0.0760 - val_acc: 0.0442\n",
      "Epoch 43/200\n",
      "350620/350620 [==============================] - 6s 18us/step - loss: 0.0757 - acc: 0.0371 - val_loss: 0.0760 - val_acc: 0.0455\n",
      "Epoch 44/200\n",
      "350620/350620 [==============================] - 6s 18us/step - loss: 0.0756 - acc: 0.0380 - val_loss: 0.0759 - val_acc: 0.0478\n",
      "Epoch 45/200\n",
      "350620/350620 [==============================] - 6s 18us/step - loss: 0.0756 - acc: 0.0387 - val_loss: 0.0759 - val_acc: 0.0457\n",
      "Epoch 46/200\n",
      "350620/350620 [==============================] - 6s 18us/step - loss: 0.0756 - acc: 0.0395 - val_loss: 0.0758 - val_acc: 0.0475\n",
      "Epoch 47/200\n",
      "350620/350620 [==============================] - 6s 18us/step - loss: 0.0755 - acc: 0.0403 - val_loss: 0.0758 - val_acc: 0.0482\n",
      "Epoch 48/200\n",
      "350620/350620 [==============================] - 6s 18us/step - loss: 0.0755 - acc: 0.0410 - val_loss: 0.0758 - val_acc: 0.0477\n",
      "Epoch 49/200\n",
      "350620/350620 [==============================] - 6s 18us/step - loss: 0.0755 - acc: 0.0418 - val_loss: 0.0757 - val_acc: 0.0479\n",
      "Epoch 50/200\n",
      "350620/350620 [==============================] - 6s 18us/step - loss: 0.0754 - acc: 0.0425 - val_loss: 0.0757 - val_acc: 0.0485\n",
      "Epoch 51/200\n",
      "350620/350620 [==============================] - 6s 18us/step - loss: 0.0754 - acc: 0.0431 - val_loss: 0.0757 - val_acc: 0.0483\n",
      "Epoch 52/200\n",
      "350620/350620 [==============================] - 6s 18us/step - loss: 0.0754 - acc: 0.0439 - val_loss: 0.0756 - val_acc: 0.0479\n",
      "Epoch 53/200\n",
      "350620/350620 [==============================] - 6s 18us/step - loss: 0.0753 - acc: 0.0444 - val_loss: 0.0756 - val_acc: 0.0498\n",
      "Epoch 54/200\n",
      "350620/350620 [==============================] - 6s 18us/step - loss: 0.0753 - acc: 0.0450 - val_loss: 0.0756 - val_acc: 0.0502\n",
      "Epoch 55/200\n",
      "350620/350620 [==============================] - 6s 18us/step - loss: 0.0753 - acc: 0.0457 - val_loss: 0.0756 - val_acc: 0.0488\n",
      "Epoch 56/200\n",
      "350620/350620 [==============================] - 6s 18us/step - loss: 0.0753 - acc: 0.0463 - val_loss: 0.0755 - val_acc: 0.0482\n",
      "Epoch 57/200\n",
      "350620/350620 [==============================] - 6s 18us/step - loss: 0.0752 - acc: 0.0471 - val_loss: 0.0755 - val_acc: 0.0484\n",
      "Epoch 58/200\n",
      "350620/350620 [==============================] - 6s 18us/step - loss: 0.0752 - acc: 0.0474 - val_loss: 0.0755 - val_acc: 0.0471\n",
      "Epoch 59/200\n",
      "350620/350620 [==============================] - 6s 18us/step - loss: 0.0752 - acc: 0.0476 - val_loss: 0.0755 - val_acc: 0.0469\n",
      "Epoch 60/200\n",
      "350620/350620 [==============================] - 6s 18us/step - loss: 0.0752 - acc: 0.0479 - val_loss: 0.0754 - val_acc: 0.0489\n",
      "Epoch 61/200\n",
      "350620/350620 [==============================] - 6s 18us/step - loss: 0.0751 - acc: 0.0476 - val_loss: 0.0754 - val_acc: 0.0544\n",
      "Epoch 62/200\n",
      "350620/350620 [==============================] - 6s 18us/step - loss: 0.0751 - acc: 0.0476 - val_loss: 0.0754 - val_acc: 0.0555\n",
      "Epoch 63/200\n",
      "350620/350620 [==============================] - 6s 18us/step - loss: 0.0751 - acc: 0.0470 - val_loss: 0.0753 - val_acc: 0.0548\n",
      "Epoch 64/200\n",
      "350620/350620 [==============================] - 6s 18us/step - loss: 0.0750 - acc: 0.0456 - val_loss: 0.0753 - val_acc: 0.0539\n",
      "Epoch 65/200\n",
      "350620/350620 [==============================] - 6s 18us/step - loss: 0.0750 - acc: 0.0454 - val_loss: 0.0752 - val_acc: 0.0609\n",
      "Epoch 66/200\n",
      "350620/350620 [==============================] - 6s 18us/step - loss: 0.0749 - acc: 0.0459 - val_loss: 0.0752 - val_acc: 0.0603\n",
      "Epoch 67/200\n",
      "350620/350620 [==============================] - 6s 18us/step - loss: 0.0749 - acc: 0.0467 - val_loss: 0.0751 - val_acc: 0.0660\n",
      "Epoch 68/200\n",
      "350620/350620 [==============================] - 6s 18us/step - loss: 0.0748 - acc: 0.0475 - val_loss: 0.0751 - val_acc: 0.0627\n",
      "Epoch 69/200\n",
      "350620/350620 [==============================] - 6s 18us/step - loss: 0.0748 - acc: 0.0484 - val_loss: 0.0751 - val_acc: 0.0644\n",
      "Epoch 70/200\n",
      "350620/350620 [==============================] - 6s 18us/step - loss: 0.0748 - acc: 0.0491 - val_loss: 0.0750 - val_acc: 0.0669\n",
      "Epoch 71/200\n",
      "350620/350620 [==============================] - 6s 18us/step - loss: 0.0747 - acc: 0.0497 - val_loss: 0.0750 - val_acc: 0.0686\n",
      "Epoch 72/200\n",
      "350620/350620 [==============================] - 6s 18us/step - loss: 0.0747 - acc: 0.0502 - val_loss: 0.0749 - val_acc: 0.0686\n",
      "Epoch 73/200\n",
      "350620/350620 [==============================] - 6s 18us/step - loss: 0.0746 - acc: 0.0507 - val_loss: 0.0749 - val_acc: 0.0700\n",
      "Epoch 74/200\n",
      "350620/350620 [==============================] - 6s 18us/step - loss: 0.0746 - acc: 0.0511 - val_loss: 0.0749 - val_acc: 0.0690\n",
      "Epoch 75/200\n",
      "350620/350620 [==============================] - 6s 18us/step - loss: 0.0746 - acc: 0.0517 - val_loss: 0.0748 - val_acc: 0.0699\n",
      "Epoch 76/200\n",
      "350620/350620 [==============================] - 6s 18us/step - loss: 0.0745 - acc: 0.0521 - val_loss: 0.0748 - val_acc: 0.0693\n",
      "Epoch 77/200\n",
      "350620/350620 [==============================] - 6s 18us/step - loss: 0.0745 - acc: 0.0524 - val_loss: 0.0748 - val_acc: 0.0701\n",
      "Epoch 78/200\n",
      "350620/350620 [==============================] - 6s 18us/step - loss: 0.0745 - acc: 0.0528 - val_loss: 0.0748 - val_acc: 0.0693\n",
      "Epoch 79/200\n",
      "350620/350620 [==============================] - 6s 18us/step - loss: 0.0745 - acc: 0.0529 - val_loss: 0.0747 - val_acc: 0.0694\n",
      "Epoch 80/200\n",
      "350620/350620 [==============================] - 6s 18us/step - loss: 0.0744 - acc: 0.0531 - val_loss: 0.0747 - val_acc: 0.0701\n",
      "Epoch 81/200\n",
      "350620/350620 [==============================] - 6s 18us/step - loss: 0.0744 - acc: 0.0535 - val_loss: 0.0747 - val_acc: 0.0711\n",
      "Epoch 82/200\n",
      "350620/350620 [==============================] - 6s 18us/step - loss: 0.0744 - acc: 0.0539 - val_loss: 0.0747 - val_acc: 0.0700\n",
      "Epoch 83/200\n",
      "350620/350620 [==============================] - 6s 18us/step - loss: 0.0744 - acc: 0.0541 - val_loss: 0.0746 - val_acc: 0.0720\n",
      "Epoch 84/200\n",
      "350620/350620 [==============================] - 6s 18us/step - loss: 0.0743 - acc: 0.0544 - val_loss: 0.0746 - val_acc: 0.0750\n",
      "Epoch 85/200\n",
      "350620/350620 [==============================] - 6s 18us/step - loss: 0.0743 - acc: 0.0548 - val_loss: 0.0746 - val_acc: 0.0777\n",
      "Epoch 86/200\n",
      "350620/350620 [==============================] - 6s 18us/step - loss: 0.0743 - acc: 0.0551 - val_loss: 0.0746 - val_acc: 0.0749\n",
      "Epoch 87/200\n",
      "350620/350620 [==============================] - 7s 19us/step - loss: 0.0743 - acc: 0.0553 - val_loss: 0.0746 - val_acc: 0.0777\n",
      "Epoch 88/200\n",
      "350620/350620 [==============================] - 6s 18us/step - loss: 0.0743 - acc: 0.0558 - val_loss: 0.0745 - val_acc: 0.0781\n",
      "Epoch 89/200\n",
      "350620/350620 [==============================] - 6s 18us/step - loss: 0.0742 - acc: 0.0562 - val_loss: 0.0745 - val_acc: 0.0788\n",
      "Epoch 90/200\n",
      "350620/350620 [==============================] - 6s 18us/step - loss: 0.0742 - acc: 0.0563 - val_loss: 0.0745 - val_acc: 0.0748\n",
      "Epoch 91/200\n",
      "350620/350620 [==============================] - 6s 18us/step - loss: 0.0742 - acc: 0.0566 - val_loss: 0.0745 - val_acc: 0.0752\n",
      "Epoch 92/200\n",
      "350620/350620 [==============================] - 6s 18us/step - loss: 0.0742 - acc: 0.0571 - val_loss: 0.0745 - val_acc: 0.0777\n",
      "Epoch 93/200\n",
      "350620/350620 [==============================] - 6s 18us/step - loss: 0.0742 - acc: 0.0574 - val_loss: 0.0745 - val_acc: 0.0791\n",
      "Epoch 94/200\n",
      "350620/350620 [==============================] - 6s 18us/step - loss: 0.0742 - acc: 0.0579 - val_loss: 0.0744 - val_acc: 0.0769\n",
      "Epoch 95/200\n",
      "350620/350620 [==============================] - 6s 18us/step - loss: 0.0741 - acc: 0.0578 - val_loss: 0.0744 - val_acc: 0.0783\n",
      "Epoch 96/200\n",
      "350620/350620 [==============================] - 6s 18us/step - loss: 0.0741 - acc: 0.0584 - val_loss: 0.0744 - val_acc: 0.0765\n",
      "Epoch 97/200\n",
      "350620/350620 [==============================] - 6s 18us/step - loss: 0.0741 - acc: 0.0585 - val_loss: 0.0744 - val_acc: 0.0792\n",
      "Epoch 98/200\n",
      "350620/350620 [==============================] - 6s 18us/step - loss: 0.0741 - acc: 0.0588 - val_loss: 0.0744 - val_acc: 0.0731\n",
      "Epoch 99/200\n",
      "350620/350620 [==============================] - 6s 18us/step - loss: 0.0741 - acc: 0.0591 - val_loss: 0.0744 - val_acc: 0.0803\n",
      "Epoch 100/200\n",
      "350620/350620 [==============================] - 6s 18us/step - loss: 0.0741 - acc: 0.0592 - val_loss: 0.0743 - val_acc: 0.0805\n",
      "Epoch 101/200\n",
      "350620/350620 [==============================] - 6s 18us/step - loss: 0.0741 - acc: 0.0594 - val_loss: 0.0743 - val_acc: 0.0754\n",
      "Epoch 102/200\n",
      "350620/350620 [==============================] - 7s 19us/step - loss: 0.0740 - acc: 0.0597 - val_loss: 0.0743 - val_acc: 0.0801\n",
      "Epoch 103/200\n",
      "350620/350620 [==============================] - 6s 18us/step - loss: 0.0740 - acc: 0.0600 - val_loss: 0.0743 - val_acc: 0.0817\n",
      "Epoch 104/200\n",
      "350620/350620 [==============================] - 6s 18us/step - loss: 0.0740 - acc: 0.0599 - val_loss: 0.0743 - val_acc: 0.0781\n",
      "Epoch 105/200\n",
      "350620/350620 [==============================] - 6s 18us/step - loss: 0.0740 - acc: 0.0603 - val_loss: 0.0743 - val_acc: 0.0840\n",
      "Epoch 106/200\n",
      "350620/350620 [==============================] - 6s 18us/step - loss: 0.0740 - acc: 0.0605 - val_loss: 0.0743 - val_acc: 0.0807\n",
      "Epoch 107/200\n",
      "350620/350620 [==============================] - 6s 18us/step - loss: 0.0740 - acc: 0.0609 - val_loss: 0.0743 - val_acc: 0.0861\n",
      "Epoch 108/200\n",
      "350620/350620 [==============================] - 6s 18us/step - loss: 0.0740 - acc: 0.0611 - val_loss: 0.0743 - val_acc: 0.0830\n",
      "Epoch 109/200\n",
      "350620/350620 [==============================] - 6s 18us/step - loss: 0.0740 - acc: 0.0612 - val_loss: 0.0742 - val_acc: 0.0791\n",
      "Epoch 110/200\n",
      "350620/350620 [==============================] - 6s 18us/step - loss: 0.0740 - acc: 0.0612 - val_loss: 0.0742 - val_acc: 0.0842\n",
      "Epoch 111/200\n",
      "350620/350620 [==============================] - 6s 18us/step - loss: 0.0739 - acc: 0.0617 - val_loss: 0.0742 - val_acc: 0.0776\n",
      "Epoch 112/200\n",
      "350620/350620 [==============================] - 6s 18us/step - loss: 0.0739 - acc: 0.0617 - val_loss: 0.0742 - val_acc: 0.0795\n",
      "Epoch 113/200\n",
      "350620/350620 [==============================] - 6s 18us/step - loss: 0.0739 - acc: 0.0616 - val_loss: 0.0742 - val_acc: 0.0786\n",
      "Epoch 114/200\n",
      "350620/350620 [==============================] - 6s 18us/step - loss: 0.0739 - acc: 0.0619 - val_loss: 0.0742 - val_acc: 0.0773\n",
      "Epoch 115/200\n",
      "350620/350620 [==============================] - 6s 18us/step - loss: 0.0739 - acc: 0.0613 - val_loss: 0.0742 - val_acc: 0.0812\n",
      "Epoch 116/200\n",
      "350620/350620 [==============================] - 6s 18us/step - loss: 0.0739 - acc: 0.0615 - val_loss: 0.0742 - val_acc: 0.0837\n",
      "Epoch 117/200\n",
      "350620/350620 [==============================] - 6s 17us/step - loss: 0.0739 - acc: 0.0618 - val_loss: 0.0742 - val_acc: 0.0793\n",
      "Epoch 118/200\n",
      "350620/350620 [==============================] - 6s 18us/step - loss: 0.0739 - acc: 0.0621 - val_loss: 0.0741 - val_acc: 0.0773\n",
      "Epoch 119/200\n",
      "350620/350620 [==============================] - 7s 19us/step - loss: 0.0739 - acc: 0.0621 - val_loss: 0.0742 - val_acc: 0.0808\n",
      "Epoch 120/200\n",
      "350620/350620 [==============================] - 6s 17us/step - loss: 0.0739 - acc: 0.0623 - val_loss: 0.0741 - val_acc: 0.0774\n",
      "Epoch 121/200\n",
      "350620/350620 [==============================] - 6s 17us/step - loss: 0.0739 - acc: 0.0626 - val_loss: 0.0741 - val_acc: 0.0768\n",
      "Epoch 122/200\n",
      "350620/350620 [==============================] - 6s 16us/step - loss: 0.0738 - acc: 0.0625 - val_loss: 0.0741 - val_acc: 0.0765\n",
      "Epoch 123/200\n",
      "350620/350620 [==============================] - 6s 17us/step - loss: 0.0738 - acc: 0.0629 - val_loss: 0.0741 - val_acc: 0.0781\n",
      "Epoch 124/200\n",
      "350620/350620 [==============================] - 6s 16us/step - loss: 0.0738 - acc: 0.0630 - val_loss: 0.0741 - val_acc: 0.0806\n",
      "Epoch 125/200\n",
      "350620/350620 [==============================] - 6s 17us/step - loss: 0.0738 - acc: 0.0631 - val_loss: 0.0741 - val_acc: 0.0820\n",
      "Epoch 126/200\n",
      "350620/350620 [==============================] - 6s 16us/step - loss: 0.0738 - acc: 0.0631 - val_loss: 0.0741 - val_acc: 0.0748\n",
      "Epoch 127/200\n",
      "350620/350620 [==============================] - 6s 16us/step - loss: 0.0738 - acc: 0.0634 - val_loss: 0.0741 - val_acc: 0.0788\n",
      "Epoch 128/200\n",
      "350620/350620 [==============================] - 6s 16us/step - loss: 0.0738 - acc: 0.0637 - val_loss: 0.0740 - val_acc: 0.0725\n",
      "Epoch 129/200\n",
      "350620/350620 [==============================] - 6s 16us/step - loss: 0.0738 - acc: 0.0636 - val_loss: 0.0740 - val_acc: 0.0753\n",
      "Epoch 130/200\n",
      "350620/350620 [==============================] - 6s 16us/step - loss: 0.0738 - acc: 0.0639 - val_loss: 0.0740 - val_acc: 0.0787\n",
      "Epoch 131/200\n",
      "350620/350620 [==============================] - 6s 17us/step - loss: 0.0738 - acc: 0.0640 - val_loss: 0.0740 - val_acc: 0.0730\n",
      "Epoch 132/200\n",
      "350620/350620 [==============================] - 6s 16us/step - loss: 0.0738 - acc: 0.0642 - val_loss: 0.0740 - val_acc: 0.0791\n",
      "Epoch 133/200\n",
      "350620/350620 [==============================] - 6s 17us/step - loss: 0.0738 - acc: 0.0641 - val_loss: 0.0740 - val_acc: 0.0794\n",
      "Epoch 134/200\n",
      "350620/350620 [==============================] - 6s 17us/step - loss: 0.0738 - acc: 0.0641 - val_loss: 0.0740 - val_acc: 0.0778\n",
      "Epoch 135/200\n",
      "350620/350620 [==============================] - 6s 17us/step - loss: 0.0737 - acc: 0.0645 - val_loss: 0.0740 - val_acc: 0.0795\n",
      "Epoch 136/200\n",
      "350620/350620 [==============================] - 6s 16us/step - loss: 0.0737 - acc: 0.0645 - val_loss: 0.0740 - val_acc: 0.0781\n",
      "Epoch 137/200\n",
      "350620/350620 [==============================] - 6s 16us/step - loss: 0.0737 - acc: 0.0644 - val_loss: 0.0740 - val_acc: 0.0714\n",
      "Epoch 138/200\n",
      "350620/350620 [==============================] - 6s 16us/step - loss: 0.0737 - acc: 0.0648 - val_loss: 0.0740 - val_acc: 0.0810\n",
      "Epoch 139/200\n",
      "350620/350620 [==============================] - 6s 16us/step - loss: 0.0737 - acc: 0.0646 - val_loss: 0.0740 - val_acc: 0.0798\n",
      "Epoch 140/200\n",
      "350620/350620 [==============================] - 6s 16us/step - loss: 0.0737 - acc: 0.0651 - val_loss: 0.0740 - val_acc: 0.0787\n",
      "Epoch 141/200\n",
      "350620/350620 [==============================] - 6s 16us/step - loss: 0.0737 - acc: 0.0651 - val_loss: 0.0740 - val_acc: 0.0765\n",
      "Epoch 142/200\n",
      "350620/350620 [==============================] - 6s 17us/step - loss: 0.0737 - acc: 0.0652 - val_loss: 0.0740 - val_acc: 0.0803\n",
      "Epoch 143/200\n",
      "350620/350620 [==============================] - 6s 17us/step - loss: 0.0737 - acc: 0.0655 - val_loss: 0.0740 - val_acc: 0.0794\n",
      "Epoch 144/200\n",
      "350620/350620 [==============================] - 6s 16us/step - loss: 0.0737 - acc: 0.0652 - val_loss: 0.0739 - val_acc: 0.0793\n",
      "Epoch 145/200\n",
      "350620/350620 [==============================] - 6s 16us/step - loss: 0.0737 - acc: 0.0656 - val_loss: 0.0739 - val_acc: 0.0807\n",
      "Epoch 146/200\n",
      "350620/350620 [==============================] - 6s 16us/step - loss: 0.0737 - acc: 0.0655 - val_loss: 0.0739 - val_acc: 0.0763\n",
      "Epoch 147/200\n",
      "350620/350620 [==============================] - 6s 16us/step - loss: 0.0737 - acc: 0.0661 - val_loss: 0.0739 - val_acc: 0.0802\n",
      "Epoch 148/200\n",
      "350620/350620 [==============================] - 6s 16us/step - loss: 0.0737 - acc: 0.0655 - val_loss: 0.0739 - val_acc: 0.0789\n",
      "Epoch 149/200\n",
      "350620/350620 [==============================] - 6s 16us/step - loss: 0.0737 - acc: 0.0657 - val_loss: 0.0739 - val_acc: 0.0799\n",
      "Epoch 150/200\n",
      "350620/350620 [==============================] - 6s 17us/step - loss: 0.0737 - acc: 0.0659 - val_loss: 0.0739 - val_acc: 0.0738\n",
      "Epoch 151/200\n",
      "350620/350620 [==============================] - 6s 17us/step - loss: 0.0737 - acc: 0.0658 - val_loss: 0.0739 - val_acc: 0.0749\n",
      "Epoch 152/200\n",
      "350620/350620 [==============================] - 6s 17us/step - loss: 0.0736 - acc: 0.0662 - val_loss: 0.0739 - val_acc: 0.0768\n",
      "Epoch 153/200\n",
      "350620/350620 [==============================] - 6s 17us/step - loss: 0.0736 - acc: 0.0660 - val_loss: 0.0739 - val_acc: 0.0764\n",
      "Epoch 154/200\n",
      "350620/350620 [==============================] - 6s 16us/step - loss: 0.0736 - acc: 0.0665 - val_loss: 0.0739 - val_acc: 0.0801\n",
      "Epoch 155/200\n",
      "350620/350620 [==============================] - 6s 16us/step - loss: 0.0736 - acc: 0.0663 - val_loss: 0.0739 - val_acc: 0.0781\n",
      "Epoch 156/200\n",
      "350620/350620 [==============================] - 6s 16us/step - loss: 0.0736 - acc: 0.0665 - val_loss: 0.0739 - val_acc: 0.0791\n",
      "Epoch 157/200\n",
      "350620/350620 [==============================] - 6s 16us/step - loss: 0.0736 - acc: 0.0666 - val_loss: 0.0739 - val_acc: 0.0776\n",
      "Epoch 158/200\n",
      "350620/350620 [==============================] - 6s 16us/step - loss: 0.0736 - acc: 0.0667 - val_loss: 0.0739 - val_acc: 0.0801\n",
      "Epoch 159/200\n",
      "350620/350620 [==============================] - 6s 16us/step - loss: 0.0736 - acc: 0.0667 - val_loss: 0.0739 - val_acc: 0.0780\n",
      "Epoch 160/200\n",
      "350620/350620 [==============================] - 6s 16us/step - loss: 0.0736 - acc: 0.0667 - val_loss: 0.0739 - val_acc: 0.0813\n",
      "Epoch 161/200\n",
      "350620/350620 [==============================] - 6s 16us/step - loss: 0.0736 - acc: 0.0667 - val_loss: 0.0739 - val_acc: 0.0814\n",
      "Epoch 162/200\n",
      "350620/350620 [==============================] - 6s 16us/step - loss: 0.0736 - acc: 0.0671 - val_loss: 0.0739 - val_acc: 0.0815\n",
      "Epoch 163/200\n",
      "350620/350620 [==============================] - 6s 16us/step - loss: 0.0736 - acc: 0.0669 - val_loss: 0.0739 - val_acc: 0.0817\n",
      "Epoch 164/200\n",
      "350620/350620 [==============================] - 6s 17us/step - loss: 0.0736 - acc: 0.0669 - val_loss: 0.0738 - val_acc: 0.0801\n",
      "Epoch 165/200\n",
      "350620/350620 [==============================] - 6s 17us/step - loss: 0.0736 - acc: 0.0673 - val_loss: 0.0738 - val_acc: 0.0812\n",
      "Epoch 166/200\n",
      "350620/350620 [==============================] - 6s 17us/step - loss: 0.0736 - acc: 0.0670 - val_loss: 0.0738 - val_acc: 0.0780\n",
      "Epoch 167/200\n",
      "350620/350620 [==============================] - 6s 16us/step - loss: 0.0736 - acc: 0.0673 - val_loss: 0.0738 - val_acc: 0.0800\n",
      "Epoch 168/200\n",
      "350620/350620 [==============================] - 6s 16us/step - loss: 0.0736 - acc: 0.0675 - val_loss: 0.0738 - val_acc: 0.0772\n",
      "Epoch 169/200\n",
      "350620/350620 [==============================] - 6s 16us/step - loss: 0.0736 - acc: 0.0675 - val_loss: 0.0738 - val_acc: 0.0825\n",
      "Epoch 170/200\n",
      "350620/350620 [==============================] - 6s 16us/step - loss: 0.0736 - acc: 0.0675 - val_loss: 0.0738 - val_acc: 0.0835\n",
      "Epoch 171/200\n",
      "350620/350620 [==============================] - 6s 16us/step - loss: 0.0736 - acc: 0.0680 - val_loss: 0.0738 - val_acc: 0.0819\n",
      "Epoch 172/200\n",
      "350620/350620 [==============================] - 6s 16us/step - loss: 0.0736 - acc: 0.0675 - val_loss: 0.0738 - val_acc: 0.0766\n",
      "Epoch 173/200\n",
      "350620/350620 [==============================] - 6s 16us/step - loss: 0.0736 - acc: 0.0675 - val_loss: 0.0738 - val_acc: 0.0765\n",
      "Epoch 174/200\n",
      "350620/350620 [==============================] - 6s 16us/step - loss: 0.0735 - acc: 0.0675 - val_loss: 0.0738 - val_acc: 0.0792\n",
      "Epoch 175/200\n",
      "350620/350620 [==============================] - 6s 16us/step - loss: 0.0735 - acc: 0.0679 - val_loss: 0.0738 - val_acc: 0.0736\n",
      "Epoch 176/200\n",
      "350620/350620 [==============================] - 6s 16us/step - loss: 0.0735 - acc: 0.0678 - val_loss: 0.0738 - val_acc: 0.0805\n",
      "Epoch 177/200\n",
      "350620/350620 [==============================] - 6s 16us/step - loss: 0.0735 - acc: 0.0676 - val_loss: 0.0738 - val_acc: 0.0788\n",
      "Epoch 178/200\n",
      "350620/350620 [==============================] - 6s 16us/step - loss: 0.0735 - acc: 0.0686 - val_loss: 0.0738 - val_acc: 0.0810\n",
      "Epoch 179/200\n",
      "350620/350620 [==============================] - 6s 16us/step - loss: 0.0735 - acc: 0.0683 - val_loss: 0.0738 - val_acc: 0.0815\n",
      "Epoch 180/200\n",
      "350620/350620 [==============================] - 6s 16us/step - loss: 0.0735 - acc: 0.0681 - val_loss: 0.0738 - val_acc: 0.0751\n",
      "Epoch 181/200\n",
      "350620/350620 [==============================] - 6s 17us/step - loss: 0.0735 - acc: 0.0684 - val_loss: 0.0738 - val_acc: 0.0743\n",
      "Epoch 182/200\n",
      "350620/350620 [==============================] - 6s 16us/step - loss: 0.0735 - acc: 0.0681 - val_loss: 0.0738 - val_acc: 0.0728\n",
      "Epoch 183/200\n",
      "350620/350620 [==============================] - 6s 16us/step - loss: 0.0735 - acc: 0.0684 - val_loss: 0.0738 - val_acc: 0.0804\n",
      "Epoch 184/200\n",
      "350620/350620 [==============================] - 6s 16us/step - loss: 0.0735 - acc: 0.0688 - val_loss: 0.0738 - val_acc: 0.0778\n",
      "Epoch 185/200\n",
      "350620/350620 [==============================] - 6s 16us/step - loss: 0.0735 - acc: 0.0684 - val_loss: 0.0738 - val_acc: 0.0779\n",
      "Epoch 186/200\n",
      "350620/350620 [==============================] - 6s 16us/step - loss: 0.0735 - acc: 0.0689 - val_loss: 0.0737 - val_acc: 0.0730\n",
      "Epoch 187/200\n",
      "350620/350620 [==============================] - 6s 16us/step - loss: 0.0735 - acc: 0.0684 - val_loss: 0.0738 - val_acc: 0.0794\n",
      "Epoch 188/200\n",
      "350620/350620 [==============================] - 6s 16us/step - loss: 0.0735 - acc: 0.0689 - val_loss: 0.0737 - val_acc: 0.0736\n",
      "Epoch 189/200\n",
      "350620/350620 [==============================] - 6s 16us/step - loss: 0.0735 - acc: 0.0691 - val_loss: 0.0737 - val_acc: 0.0754\n",
      "Epoch 190/200\n",
      "350620/350620 [==============================] - 6s 16us/step - loss: 0.0735 - acc: 0.0687 - val_loss: 0.0737 - val_acc: 0.0750\n",
      "Epoch 191/200\n",
      "350620/350620 [==============================] - 6s 16us/step - loss: 0.0735 - acc: 0.0689 - val_loss: 0.0737 - val_acc: 0.0790\n",
      "Epoch 192/200\n",
      "350620/350620 [==============================] - 6s 16us/step - loss: 0.0735 - acc: 0.0690 - val_loss: 0.0737 - val_acc: 0.0762\n",
      "Epoch 193/200\n",
      "350620/350620 [==============================] - 6s 16us/step - loss: 0.0735 - acc: 0.0687 - val_loss: 0.0737 - val_acc: 0.0752\n",
      "Epoch 194/200\n",
      "350620/350620 [==============================] - 6s 16us/step - loss: 0.0735 - acc: 0.0688 - val_loss: 0.0737 - val_acc: 0.0764\n",
      "Epoch 195/200\n",
      "350620/350620 [==============================] - 6s 16us/step - loss: 0.0735 - acc: 0.0694 - val_loss: 0.0737 - val_acc: 0.0802\n",
      "Epoch 196/200\n",
      "350620/350620 [==============================] - 6s 16us/step - loss: 0.0735 - acc: 0.0690 - val_loss: 0.0737 - val_acc: 0.0790\n",
      "Epoch 197/200\n",
      "350620/350620 [==============================] - 6s 16us/step - loss: 0.0735 - acc: 0.0690 - val_loss: 0.0737 - val_acc: 0.0796\n",
      "Epoch 198/200\n",
      "350620/350620 [==============================] - 6s 16us/step - loss: 0.0735 - acc: 0.0695 - val_loss: 0.0737 - val_acc: 0.0875\n",
      "Epoch 199/200\n",
      "350620/350620 [==============================] - 6s 16us/step - loss: 0.0735 - acc: 0.0692 - val_loss: 0.0737 - val_acc: 0.0806\n",
      "Epoch 200/200\n",
      "350620/350620 [==============================] - 6s 16us/step - loss: 0.0735 - acc: 0.0695 - val_loss: 0.0737 - val_acc: 0.0819\n",
      "--- AE spent 1216.884425163269 seconds ---\n"
     ]
    }
   ],
   "source": [
    "hist_spae_sigmoid_adam_mse = fit_ae(checkpoint_file = \"spae_sigmoid_adam_mse_redds\"+str(dsnum)+\"bal.h5\",\n",
    "                                  autoencoder = spae_sigmoid_adam_mse, \n",
    "                                  epochs = 200, \n",
    "                                  batch_size = batch_size,\n",
    "                                  shuffle = False)"
   ]
  },
  {
   "cell_type": "code",
   "execution_count": 140,
   "metadata": {},
   "outputs": [
    {
     "name": "stdout",
     "output_type": "stream",
     "text": [
      "Best loss value: 0.0734610180744983\n"
     ]
    },
    {
     "data": {
      "image/png": "[encoded data removed]",
      "text/plain": [
       "<Figure size 432x288 with 1 Axes>"
      ]
     },
     "metadata": {
      "needs_background": "light"
     },
     "output_type": "display_data"
    }
   ],
   "source": [
    "best_loss_value_spae_sigmoid_adam_mse  = plot_hist_auto(hist_spae_sigmoid_adam_mse, './Figures/hist_spae_sigmoid_adam_mse.png')"
   ]
  },
  {
   "cell_type": "code",
   "execution_count": null,
   "metadata": {},
   "outputs": [],
   "source": []
  },
  {
   "cell_type": "code",
   "execution_count": 141,
   "metadata": {},
   "outputs": [],
   "source": [
    "loss_valueDict = {\n",
    "    'loss_value_ae_sigmoid_adam_logcosh': best_loss_value_ae_sigmoid_adam_logcosh,\n",
    "    'loss_value_ae_sigmoid_adam_mse': best_loss_value_ae_sigmoid_adam_mse,\n",
    "    'loss_value_ae_siglin_adam_logcosh': best_loss_value_ae_siglin_adam_logcosh,\n",
    "    'loss_value_ae_sigsig_adam_logcosh': best_loss_value_ae_sigsig_adam_logcosh,\n",
    "    'loss_value_spae_sigmoid_adam_mse': best_loss_value_spae_sigmoid_adam_mse\n",
    "    }"
   ]
  },
  {
   "cell_type": "code",
   "execution_count": 142,
   "metadata": {},
   "outputs": [
    {
     "data": {
      "text/plain": [
       "{'loss_value_ae_sigmoid_adam_logcosh': 0.017834965373241685,\n",
       " 'loss_value_ae_sigmoid_adam_mse': 0.05179538575956927,\n",
       " 'loss_value_ae_siglin_adam_logcosh': 0.00023520074125240432,\n",
       " 'loss_value_ae_sigsig_adam_logcosh': 0.017830662071930854,\n",
       " 'loss_value_spae_sigmoid_adam_mse': 0.0734610180744983}"
      ]
     },
     "execution_count": 142,
     "metadata": {},
     "output_type": "execute_result"
    }
   ],
   "source": [
    "loss_valueDict"
   ]
  },
  {
   "cell_type": "code",
   "execution_count": null,
   "metadata": {},
   "outputs": [],
   "source": []
  },
  {
   "cell_type": "code",
   "execution_count": 143,
   "metadata": {},
   "outputs": [
    {
     "name": "stdout",
     "output_type": "stream",
     "text": [
      "(350620, 131)\n",
      "(109570, 131)\n",
      "(350620, 131)\n",
      "(109570, 131)\n",
      "(350620, 131)\n",
      "(109570, 131)\n",
      "(350620, 131)\n",
      "(109570, 131)\n",
      "(350620, 131)\n",
      "(109570, 131)\n"
     ]
    }
   ],
   "source": [
    "print(enc_train_x_asal.shape)\n",
    "print(enc_test_x_asal.shape)\n",
    "\n",
    "print(enc_train_x_asam.shape)\n",
    "print(enc_test_x_asam.shape)\n",
    "\n",
    "print(enc_train_x_aslal.shape)\n",
    "print(enc_test_x_aslal.shape)  \n",
    "\n",
    "print(enc_train_x_assal.shape)\n",
    "print(enc_test_x_assal.shape)\n",
    "\n",
    "print(enc_train_x_spsam.shape)\n",
    "print(enc_test_x_spsam.shape)"
   ]
  },
  {
   "cell_type": "code",
   "execution_count": null,
   "metadata": {},
   "outputs": [],
   "source": []
  },
  {
   "cell_type": "code",
   "execution_count": 93,
   "metadata": {},
   "outputs": [
    {
     "name": "stdout",
     "output_type": "stream",
     "text": [
      "_________________________________________________________________\n",
      "Layer (type)                 Output Shape              Param #   \n",
      "=================================================================\n",
      "dense_30 (Dense)             (None, 197)               26004     \n",
      "_________________________________________________________________\n",
      "dense_31 (Dense)             (None, 148)               29304     \n",
      "_________________________________________________________________\n",
      "batch_normalization_8 (Batch (None, 148)               592       \n",
      "_________________________________________________________________\n",
      "dropout_8 (Dropout)          (None, 148)               0         \n",
      "_________________________________________________________________\n",
      "dense_32 (Dense)             (None, 1)                 149       \n",
      "=================================================================\n",
      "Total params: 56,049\n",
      "Trainable params: 55,753\n",
      "Non-trainable params: 296\n",
      "_________________________________________________________________\n",
      "None\n"
     ]
    }
   ],
   "source": [
    "ann36n_unisoftsigbinlosadam = ann_1h_36n(neurons=neurons,\n",
    "                                      encoded_train_x=enc_train_x_asal,\n",
    "                                      init_mode='uniform',\n",
    "                                      activation_input='softsign',\n",
    "                                      weight_constraint=5,\n",
    "                                      dropout_rate=0.0,\n",
    "                                      activation_output='sigmoid',\n",
    "                                      loss='binary_crossentropy',\n",
    "                                      optimizer='Adam')"
   ]
  },
  {
   "cell_type": "code",
   "execution_count": 94,
   "metadata": {},
   "outputs": [
    {
     "name": "stdout",
     "output_type": "stream",
     "text": [
      "Wed Jun 12 22:11:39 2019\n",
      "Train on 280496 samples, validate on 70124 samples\n",
      "Epoch 1/200\n",
      "280496/280496 [==============================] - 6s 22us/step - loss: 0.1968 - acc: 0.9110 - val_loss: 0.1290 - val_acc: 0.9447\n",
      "Epoch 2/200\n",
      "280496/280496 [==============================] - 5s 19us/step - loss: 0.0951 - acc: 0.9554 - val_loss: 0.0876 - val_acc: 0.9626\n",
      "Epoch 3/200\n",
      "280496/280496 [==============================] - 5s 18us/step - loss: 0.0780 - acc: 0.9636 - val_loss: 0.0919 - val_acc: 0.9580\n",
      "Epoch 4/200\n",
      "280496/280496 [==============================] - 5s 18us/step - loss: 0.0680 - acc: 0.9682 - val_loss: 0.0696 - val_acc: 0.9698\n",
      "Epoch 5/200\n",
      "280496/280496 [==============================] - 5s 19us/step - loss: 0.0608 - acc: 0.9725 - val_loss: 0.0561 - val_acc: 0.9762\n",
      "Epoch 6/200\n",
      "280496/280496 [==============================] - 5s 18us/step - loss: 0.0536 - acc: 0.9759 - val_loss: 0.0532 - val_acc: 0.9771\n",
      "Epoch 7/200\n",
      "280496/280496 [==============================] - 5s 18us/step - loss: 0.0491 - acc: 0.9776 - val_loss: 0.0440 - val_acc: 0.9801\n",
      "Epoch 8/200\n",
      "280496/280496 [==============================] - 5s 18us/step - loss: 0.0450 - acc: 0.9800 - val_loss: 0.0407 - val_acc: 0.9840\n",
      "Epoch 9/200\n",
      "280496/280496 [==============================] - 5s 18us/step - loss: 0.0408 - acc: 0.9822 - val_loss: 0.0352 - val_acc: 0.9870\n",
      "Epoch 10/200\n",
      "280496/280496 [==============================] - 5s 18us/step - loss: 0.0392 - acc: 0.9830 - val_loss: 0.0345 - val_acc: 0.9851\n",
      "Epoch 11/200\n",
      "280496/280496 [==============================] - 5s 18us/step - loss: 0.0363 - acc: 0.9842 - val_loss: 0.0343 - val_acc: 0.9837\n",
      "Epoch 12/200\n",
      "280496/280496 [==============================] - 5s 18us/step - loss: 0.0335 - acc: 0.9857 - val_loss: 0.0291 - val_acc: 0.9880\n",
      "Epoch 13/200\n",
      "280496/280496 [==============================] - 5s 18us/step - loss: 0.0331 - acc: 0.9857 - val_loss: 0.0354 - val_acc: 0.9864\n",
      "Epoch 14/200\n",
      "280496/280496 [==============================] - 5s 18us/step - loss: 0.0303 - acc: 0.9875 - val_loss: 0.0302 - val_acc: 0.9876\n",
      "Epoch 15/200\n",
      "280496/280496 [==============================] - 5s 18us/step - loss: 0.0293 - acc: 0.9878 - val_loss: 0.0295 - val_acc: 0.9885\n",
      "Epoch 16/200\n",
      "280496/280496 [==============================] - 5s 18us/step - loss: 0.0288 - acc: 0.9884 - val_loss: 0.0262 - val_acc: 0.9900\n",
      "Epoch 17/200\n",
      "280496/280496 [==============================] - 5s 18us/step - loss: 0.0267 - acc: 0.9889 - val_loss: 0.0280 - val_acc: 0.9886\n",
      "Epoch 18/200\n",
      "280496/280496 [==============================] - 5s 18us/step - loss: 0.0245 - acc: 0.9900 - val_loss: 0.0345 - val_acc: 0.9876\n",
      "Epoch 19/200\n",
      "280496/280496 [==============================] - 5s 18us/step - loss: 0.0263 - acc: 0.9894 - val_loss: 0.0250 - val_acc: 0.9901\n",
      "Epoch 20/200\n",
      "280496/280496 [==============================] - 5s 18us/step - loss: 0.0236 - acc: 0.9902 - val_loss: 0.0229 - val_acc: 0.9898\n",
      "Epoch 21/200\n",
      "280496/280496 [==============================] - 5s 18us/step - loss: 0.0230 - acc: 0.9904 - val_loss: 0.0477 - val_acc: 0.9807\n",
      "Epoch 22/200\n",
      "280496/280496 [==============================] - 5s 18us/step - loss: 0.0214 - acc: 0.9911 - val_loss: 0.0235 - val_acc: 0.9914\n",
      "Epoch 23/200\n",
      "280496/280496 [==============================] - 5s 18us/step - loss: 0.0214 - acc: 0.9912 - val_loss: 0.0300 - val_acc: 0.9881\n",
      "Epoch 24/200\n",
      "280496/280496 [==============================] - 5s 18us/step - loss: 0.0209 - acc: 0.9912 - val_loss: 0.0247 - val_acc: 0.9900\n",
      "Epoch 25/200\n",
      "280496/280496 [==============================] - 5s 18us/step - loss: 0.0202 - acc: 0.9916 - val_loss: 0.0174 - val_acc: 0.9926\n",
      "Epoch 26/200\n",
      "280496/280496 [==============================] - 5s 18us/step - loss: 0.0202 - acc: 0.9918 - val_loss: 0.0233 - val_acc: 0.9905\n",
      "Epoch 27/200\n",
      "280496/280496 [==============================] - 5s 18us/step - loss: 0.0190 - acc: 0.9922 - val_loss: 0.0228 - val_acc: 0.9895\n",
      "Epoch 28/200\n",
      "280496/280496 [==============================] - 5s 18us/step - loss: 0.0190 - acc: 0.9921 - val_loss: 0.0245 - val_acc: 0.9922\n",
      "Epoch 29/200\n",
      "280496/280496 [==============================] - 5s 18us/step - loss: 0.0200 - acc: 0.9917 - val_loss: 0.0231 - val_acc: 0.9911\n",
      "Epoch 30/200\n",
      "280496/280496 [==============================] - 5s 18us/step - loss: 0.0174 - acc: 0.9927 - val_loss: 0.0212 - val_acc: 0.9908\n",
      "--- ANN spent 154.19839024543762 seconds ---\n"
     ]
    }
   ],
   "source": [
    "hist_ann36n_unisoftsigbinlosadam = ann_fit(checkpoint_file = \"ann36n_unisoftsigbinlosadam_redds\"+str(dsnum)+\"bal.h5\",\n",
    "                                        ann = ann36n_unisoftsigbinlosadam,\n",
    "                                        enc_train_x = enc_train_x_asal,\n",
    "                                        train_y = train_y,\n",
    "                                        epochs = 200,\n",
    "                                        shuffle = True,\n",
    "                                        batch_size = batch_size)"
   ]
  },
  {
   "cell_type": "code",
   "execution_count": 95,
   "metadata": {},
   "outputs": [
    {
     "name": "stdout",
     "output_type": "stream",
     "text": [
      "Best loss value: 0.01741825026060197\n"
     ]
    },
    {
     "data": {
      "image/png": "[encoded data removed]",
      "text/plain": [
       "<Figure size 432x288 with 1 Axes>"
      ]
     },
     "metadata": {
      "needs_background": "light"
     },
     "output_type": "display_data"
    }
   ],
   "source": [
    "best_loss_value_ann36n_unisoftsigbinlosadam = plot_hist_auto(hist_ann36n_unisoftsigbinlosadam, './Figures/ann36_unisoftsigbinlosadam'+str(dsnum)+'.png')"
   ]
  },
  {
   "cell_type": "code",
   "execution_count": 96,
   "metadata": {},
   "outputs": [
    {
     "name": "stdout",
     "output_type": "stream",
     "text": [
      "Overall accuracy of Neural Network model: 0.9900246417815095\n",
      "              precision    recall  f1-score   support\n",
      "\n",
      "           0     0.9873    0.9928    0.9900     54737\n",
      "           1     0.9928    0.9873    0.9900     54833\n",
      "\n",
      "   micro avg     0.9900    0.9900    0.9900    109570\n",
      "   macro avg     0.9900    0.9900    0.9900    109570\n",
      "weighted avg     0.9900    0.9900    0.9900    109570\n",
      "\n"
     ]
    }
   ],
   "source": [
    "pred_ann36n_prob_unisoftsigbinlosadam, pred_ann36n_01_unisoftsigbinlosadam = ann_predict(ann36n_unisoftsigbinlosadam,enc_test_x_asal)"
   ]
  },
  {
   "cell_type": "code",
   "execution_count": 97,
   "metadata": {},
   "outputs": [
    {
     "data": {
      "image/png": "[encoded data removed]",
      "text/plain": [
       "<Figure size 432x288 with 1 Axes>"
      ]
     },
     "metadata": {
      "needs_background": "light"
     },
     "output_type": "display_data"
    },
    {
     "data": {
      "image/png": "[encoded data removed]",
      "text/plain": [
       "<Figure size 576x432 with 2 Axes>"
      ]
     },
     "metadata": {
      "needs_background": "light"
     },
     "output_type": "display_data"
    }
   ],
   "source": [
    "plot_roc_cm(pred_ann36n_01_unisoftsigbinlosadam, pred_ann36n_01_unisoftsigbinlosadam, './Figures/ROC_ann36n_unisoftsigbinlosadam_redds'+str(dsnum)+'bal.png', './Figures/CM_ann36n_unisoftsigbinlosadam_redds'+str(dsnum)+'bal.png')"
   ]
  },
  {
   "cell_type": "code",
   "execution_count": null,
   "metadata": {},
   "outputs": [],
   "source": []
  },
  {
   "cell_type": "code",
   "execution_count": 98,
   "metadata": {},
   "outputs": [
    {
     "name": "stdout",
     "output_type": "stream",
     "text": [
      "_________________________________________________________________\n",
      "Layer (type)                 Output Shape              Param #   \n",
      "=================================================================\n",
      "dense_33 (Dense)             (None, 197)               26004     \n",
      "_________________________________________________________________\n",
      "dense_34 (Dense)             (None, 148)               29304     \n",
      "_________________________________________________________________\n",
      "batch_normalization_9 (Batch (None, 148)               592       \n",
      "_________________________________________________________________\n",
      "dropout_9 (Dropout)          (None, 148)               0         \n",
      "_________________________________________________________________\n",
      "dense_35 (Dense)             (None, 1)                 149       \n",
      "=================================================================\n",
      "Total params: 56,049\n",
      "Trainable params: 55,753\n",
      "Non-trainable params: 296\n",
      "_________________________________________________________________\n",
      "None\n"
     ]
    }
   ],
   "source": [
    "ann36n_unisoftsigbinlosadam2 = ann_1h_36n(neurons=neurons,\n",
    "                                      encoded_train_x=enc_train_x_asam,\n",
    "                                      init_mode='uniform',\n",
    "                                      activation_input='softsign',\n",
    "                                      weight_constraint=5,\n",
    "                                      dropout_rate=0.0,\n",
    "                                      activation_output='sigmoid',\n",
    "                                      loss='binary_crossentropy',\n",
    "                                      optimizer='Adam')"
   ]
  },
  {
   "cell_type": "code",
   "execution_count": 99,
   "metadata": {},
   "outputs": [
    {
     "name": "stdout",
     "output_type": "stream",
     "text": [
      "Wed Jun 12 22:14:16 2019\n",
      "Train on 280496 samples, validate on 70124 samples\n",
      "Epoch 1/200\n",
      "280496/280496 [==============================] - 6s 22us/step - loss: 0.1995 - acc: 0.9096 - val_loss: 0.1083 - val_acc: 0.9473\n",
      "Epoch 2/200\n",
      "280496/280496 [==============================] - 5s 18us/step - loss: 0.0964 - acc: 0.9547 - val_loss: 0.0972 - val_acc: 0.9562\n",
      "Epoch 3/200\n",
      "280496/280496 [==============================] - 5s 18us/step - loss: 0.0801 - acc: 0.9620 - val_loss: 0.0711 - val_acc: 0.9665\n",
      "Epoch 4/200\n",
      "280496/280496 [==============================] - 5s 18us/step - loss: 0.0713 - acc: 0.9663 - val_loss: 0.0709 - val_acc: 0.9663\n",
      "Epoch 5/200\n",
      "280496/280496 [==============================] - 5s 18us/step - loss: 0.0646 - acc: 0.9703 - val_loss: 0.0570 - val_acc: 0.9743\n",
      "Epoch 6/200\n",
      "280496/280496 [==============================] - 5s 18us/step - loss: 0.0575 - acc: 0.9731 - val_loss: 0.0537 - val_acc: 0.9752\n",
      "Epoch 7/200\n",
      "280496/280496 [==============================] - 5s 18us/step - loss: 0.0531 - acc: 0.9757 - val_loss: 0.0502 - val_acc: 0.9784\n",
      "Epoch 8/200\n",
      "280496/280496 [==============================] - 5s 18us/step - loss: 0.0497 - acc: 0.9778 - val_loss: 0.0471 - val_acc: 0.9800\n",
      "Epoch 9/200\n",
      "280496/280496 [==============================] - 5s 18us/step - loss: 0.0444 - acc: 0.9802 - val_loss: 0.0437 - val_acc: 0.9815\n",
      "Epoch 10/200\n",
      "280496/280496 [==============================] - 5s 18us/step - loss: 0.0402 - acc: 0.9823 - val_loss: 0.0387 - val_acc: 0.9828\n",
      "Epoch 11/200\n",
      "280496/280496 [==============================] - 5s 18us/step - loss: 0.0381 - acc: 0.9834 - val_loss: 0.0382 - val_acc: 0.9847\n",
      "Epoch 12/200\n",
      "280496/280496 [==============================] - 5s 18us/step - loss: 0.0356 - acc: 0.9845 - val_loss: 0.0344 - val_acc: 0.9856\n",
      "Epoch 13/200\n",
      "280496/280496 [==============================] - 5s 18us/step - loss: 0.0354 - acc: 0.9852 - val_loss: 0.0325 - val_acc: 0.9853\n",
      "Epoch 14/200\n",
      "280496/280496 [==============================] - 5s 18us/step - loss: 0.0326 - acc: 0.9860 - val_loss: 0.0378 - val_acc: 0.9854\n",
      "Epoch 15/200\n",
      "280496/280496 [==============================] - 5s 18us/step - loss: 0.0302 - acc: 0.9870 - val_loss: 0.0278 - val_acc: 0.9884\n",
      "Epoch 16/200\n",
      "280496/280496 [==============================] - 5s 18us/step - loss: 0.0279 - acc: 0.9882 - val_loss: 0.0319 - val_acc: 0.9860\n",
      "Epoch 17/200\n",
      "280496/280496 [==============================] - 5s 18us/step - loss: 0.0280 - acc: 0.9884 - val_loss: 0.0236 - val_acc: 0.9900\n",
      "Epoch 18/200\n",
      "280496/280496 [==============================] - 5s 18us/step - loss: 0.0254 - acc: 0.9894 - val_loss: 0.0288 - val_acc: 0.9857\n",
      "Epoch 19/200\n",
      "280496/280496 [==============================] - 5s 18us/step - loss: 0.0256 - acc: 0.9893 - val_loss: 0.0296 - val_acc: 0.9873\n",
      "Epoch 20/200\n",
      "280496/280496 [==============================] - 5s 18us/step - loss: 0.0251 - acc: 0.9896 - val_loss: 0.0216 - val_acc: 0.9911\n",
      "Epoch 21/200\n",
      "280496/280496 [==============================] - 5s 18us/step - loss: 0.0226 - acc: 0.9905 - val_loss: 0.0216 - val_acc: 0.9917\n",
      "Epoch 22/200\n",
      "280496/280496 [==============================] - 5s 18us/step - loss: 0.0230 - acc: 0.9907 - val_loss: 0.0219 - val_acc: 0.9917\n",
      "Epoch 23/200\n",
      "280496/280496 [==============================] - 5s 18us/step - loss: 0.0218 - acc: 0.9910 - val_loss: 0.0218 - val_acc: 0.9915\n",
      "Epoch 24/200\n",
      "280496/280496 [==============================] - 5s 18us/step - loss: 0.0225 - acc: 0.9908 - val_loss: 0.0227 - val_acc: 0.9917\n",
      "Epoch 25/200\n",
      "280496/280496 [==============================] - 5s 18us/step - loss: 0.0218 - acc: 0.9910 - val_loss: 0.0182 - val_acc: 0.9929\n",
      "Epoch 26/200\n",
      "280496/280496 [==============================] - 5s 18us/step - loss: 0.0199 - acc: 0.9917 - val_loss: 0.0183 - val_acc: 0.9934\n",
      "Epoch 27/200\n",
      "280496/280496 [==============================] - 5s 18us/step - loss: 0.0221 - acc: 0.9912 - val_loss: 0.0191 - val_acc: 0.9922\n",
      "Epoch 28/200\n",
      "280496/280496 [==============================] - 5s 18us/step - loss: 0.0190 - acc: 0.9925 - val_loss: 0.0255 - val_acc: 0.9884\n",
      "Epoch 29/200\n",
      "280496/280496 [==============================] - 5s 18us/step - loss: 0.0203 - acc: 0.9916 - val_loss: 0.0242 - val_acc: 0.9899\n",
      "Epoch 30/200\n",
      "280496/280496 [==============================] - 5s 18us/step - loss: 0.0193 - acc: 0.9923 - val_loss: 0.0182 - val_acc: 0.9929\n",
      "--- ANN spent 153.41344094276428 seconds ---\n"
     ]
    }
   ],
   "source": [
    "hist_ann36n_unisoftsigbinlosadam2 = ann_fit(checkpoint_file = \"ann36n_unisoftsigbinlosadam2_redds\"+str(dsnum)+\"bal.h5\",\n",
    "                                        ann = ann36n_unisoftsigbinlosadam2,\n",
    "                                        enc_train_x = enc_train_x_asam,\n",
    "                                        train_y = train_y,\n",
    "                                        epochs = 200,\n",
    "                                        shuffle = True,\n",
    "                                        batch_size = batch_size)"
   ]
  },
  {
   "cell_type": "code",
   "execution_count": 100,
   "metadata": {},
   "outputs": [
    {
     "name": "stdout",
     "output_type": "stream",
     "text": [
      "Best loss value: 0.019319192006093257\n"
     ]
    },
    {
     "data": {
      "image/png": "[encoded data removed]",
      "text/plain": [
       "<Figure size 432x288 with 1 Axes>"
      ]
     },
     "metadata": {
      "needs_background": "light"
     },
     "output_type": "display_data"
    }
   ],
   "source": [
    "best_loss_value_ann36n_unisoftsigbinlosadam2 = plot_hist_auto(hist_ann36n_unisoftsigbinlosadam2, './Figures/ann36_unisoftsigbinlosadam2'+str(dsnum)+'.png')"
   ]
  },
  {
   "cell_type": "code",
   "execution_count": 101,
   "metadata": {},
   "outputs": [
    {
     "name": "stdout",
     "output_type": "stream",
     "text": [
      "Overall accuracy of Neural Network model: 0.9928538833622342\n",
      "              precision    recall  f1-score   support\n",
      "\n",
      "           0     0.9940    0.9917    0.9928     54737\n",
      "           1     0.9917    0.9940    0.9929     54833\n",
      "\n",
      "   micro avg     0.9929    0.9929    0.9929    109570\n",
      "   macro avg     0.9929    0.9929    0.9929    109570\n",
      "weighted avg     0.9929    0.9929    0.9929    109570\n",
      "\n"
     ]
    }
   ],
   "source": [
    "pred_ann36n_prob_unisoftsigbinlosadam, pred_ann36n_01_unisoftsigbinlosadam2 = ann_predict(ann36n_unisoftsigbinlosadam2,enc_test_x_asam)"
   ]
  },
  {
   "cell_type": "code",
   "execution_count": 102,
   "metadata": {},
   "outputs": [
    {
     "data": {
      "image/png": "[encoded data removed]",
      "text/plain": [
       "<Figure size 432x288 with 1 Axes>"
      ]
     },
     "metadata": {
      "needs_background": "light"
     },
     "output_type": "display_data"
    },
    {
     "data": {
      "image/png": "[encoded data removed]",
      "text/plain": [
       "<Figure size 576x432 with 2 Axes>"
      ]
     },
     "metadata": {
      "needs_background": "light"
     },
     "output_type": "display_data"
    }
   ],
   "source": [
    "plot_roc_cm(pred_ann36n_01_unisoftsigbinlosadam, pred_ann36n_01_unisoftsigbinlosadam, './Figures/ROC_ann36n_unisoftsigbinlosadam_redds'+str(dsnum)+'bal.png', './Figures/CM_ann36n_unisoftsigbinlosadam_redds'+str(dsnum)+'bal.png')"
   ]
  },
  {
   "cell_type": "code",
   "execution_count": null,
   "metadata": {},
   "outputs": [],
   "source": []
  },
  {
   "cell_type": "code",
   "execution_count": 103,
   "metadata": {},
   "outputs": [
    {
     "name": "stdout",
     "output_type": "stream",
     "text": [
      "_________________________________________________________________\n",
      "Layer (type)                 Output Shape              Param #   \n",
      "=================================================================\n",
      "dense_36 (Dense)             (None, 197)               26004     \n",
      "_________________________________________________________________\n",
      "dense_37 (Dense)             (None, 148)               29304     \n",
      "_________________________________________________________________\n",
      "dense_38 (Dense)             (None, 99)                14751     \n",
      "_________________________________________________________________\n",
      "batch_normalization_10 (Batc (None, 99)                396       \n",
      "_________________________________________________________________\n",
      "dropout_10 (Dropout)         (None, 99)                0         \n",
      "_________________________________________________________________\n",
      "dense_39 (Dense)             (None, 1)                 100       \n",
      "=================================================================\n",
      "Total params: 70,555\n",
      "Trainable params: 70,357\n",
      "Non-trainable params: 198\n",
      "_________________________________________________________________\n",
      "None\n"
     ]
    }
   ],
   "source": [
    "ann_2h_unisoftsigbinlosadam = ann_2h(neurons=neurons,\n",
    "                                      encoded_train_x=enc_train_x_asam,\n",
    "                                      init_mode='uniform',\n",
    "                                      activation_input='softsign',\n",
    "                                      weight_constraint=5,\n",
    "                                      dropout_rate=0.0,\n",
    "                                      activation_output='sigmoid',\n",
    "                                      loss='binary_crossentropy',\n",
    "                                      optimizer='Adam')"
   ]
  },
  {
   "cell_type": "code",
   "execution_count": 104,
   "metadata": {},
   "outputs": [
    {
     "name": "stdout",
     "output_type": "stream",
     "text": [
      "Wed Jun 12 22:16:53 2019\n",
      "Train on 280496 samples, validate on 70124 samples\n",
      "Epoch 1/200\n",
      "280496/280496 [==============================] - 7s 24us/step - loss: 0.1844 - acc: 0.9111 - val_loss: 0.1041 - val_acc: 0.9483\n",
      "Epoch 2/200\n",
      "280496/280496 [==============================] - 6s 20us/step - loss: 0.0965 - acc: 0.9521 - val_loss: 0.0849 - val_acc: 0.9600\n",
      "Epoch 3/200\n",
      "280496/280496 [==============================] - 6s 20us/step - loss: 0.0777 - acc: 0.9617 - val_loss: 0.0706 - val_acc: 0.9666\n",
      "Epoch 4/200\n",
      "280496/280496 [==============================] - 6s 20us/step - loss: 0.0661 - acc: 0.9684 - val_loss: 0.0545 - val_acc: 0.9749\n",
      "Epoch 5/200\n",
      "280496/280496 [==============================] - 6s 20us/step - loss: 0.0536 - acc: 0.9749 - val_loss: 0.0543 - val_acc: 0.9782\n",
      "Epoch 6/200\n",
      "280496/280496 [==============================] - 6s 20us/step - loss: 0.0470 - acc: 0.9785 - val_loss: 0.0349 - val_acc: 0.9846\n",
      "Epoch 7/200\n",
      "280496/280496 [==============================] - 6s 20us/step - loss: 0.0394 - acc: 0.9823 - val_loss: 0.0342 - val_acc: 0.9856\n",
      "Epoch 8/200\n",
      "280496/280496 [==============================] - 6s 20us/step - loss: 0.0367 - acc: 0.9837 - val_loss: 0.0263 - val_acc: 0.9884\n",
      "Epoch 9/200\n",
      "280496/280496 [==============================] - 6s 20us/step - loss: 0.0318 - acc: 0.9860 - val_loss: 0.0357 - val_acc: 0.9830\n",
      "Epoch 10/200\n",
      "280496/280496 [==============================] - 6s 20us/step - loss: 0.0299 - acc: 0.9871 - val_loss: 0.0288 - val_acc: 0.9881\n",
      "Epoch 11/200\n",
      "280496/280496 [==============================] - 6s 20us/step - loss: 0.0272 - acc: 0.9881 - val_loss: 0.0369 - val_acc: 0.9824\n",
      "Epoch 12/200\n",
      "280496/280496 [==============================] - 5s 20us/step - loss: 0.0262 - acc: 0.9885 - val_loss: 0.0259 - val_acc: 0.9891\n",
      "Epoch 13/200\n",
      "280496/280496 [==============================] - 6s 20us/step - loss: 0.0248 - acc: 0.9893 - val_loss: 0.0232 - val_acc: 0.9898\n",
      "Epoch 14/200\n",
      "280496/280496 [==============================] - 5s 19us/step - loss: 0.0231 - acc: 0.9900 - val_loss: 0.0190 - val_acc: 0.9917\n",
      "Epoch 15/200\n",
      "280496/280496 [==============================] - 6s 20us/step - loss: 0.0235 - acc: 0.9900 - val_loss: 0.0237 - val_acc: 0.9906\n",
      "Epoch 16/200\n",
      "280496/280496 [==============================] - 6s 20us/step - loss: 0.0209 - acc: 0.9910 - val_loss: 0.0338 - val_acc: 0.9869\n",
      "Epoch 17/200\n",
      "280496/280496 [==============================] - 6s 20us/step - loss: 0.0209 - acc: 0.9912 - val_loss: 0.0177 - val_acc: 0.9921\n",
      "Epoch 18/200\n",
      "280496/280496 [==============================] - 6s 20us/step - loss: 0.0181 - acc: 0.9922 - val_loss: 0.0198 - val_acc: 0.9913\n",
      "Epoch 19/200\n",
      "280496/280496 [==============================] - 6s 20us/step - loss: 0.0199 - acc: 0.9916 - val_loss: 0.0137 - val_acc: 0.9948\n",
      "Epoch 20/200\n",
      "280496/280496 [==============================] - 6s 20us/step - loss: 0.0169 - acc: 0.9928 - val_loss: 0.0141 - val_acc: 0.9940\n",
      "Epoch 21/200\n",
      "280496/280496 [==============================] - 6s 20us/step - loss: 0.0174 - acc: 0.9926 - val_loss: 0.0208 - val_acc: 0.9919\n",
      "Epoch 22/200\n",
      "280496/280496 [==============================] - 6s 20us/step - loss: 0.0168 - acc: 0.9929 - val_loss: 0.0129 - val_acc: 0.9950\n",
      "Epoch 23/200\n",
      "280496/280496 [==============================] - 6s 20us/step - loss: 0.0168 - acc: 0.9927 - val_loss: 0.0140 - val_acc: 0.9932\n",
      "Epoch 24/200\n",
      "280496/280496 [==============================] - 6s 20us/step - loss: 0.0169 - acc: 0.9929 - val_loss: 0.0166 - val_acc: 0.9930\n",
      "Epoch 25/200\n",
      "280496/280496 [==============================] - 6s 20us/step - loss: 0.0150 - acc: 0.9937 - val_loss: 0.0127 - val_acc: 0.9951\n",
      "Epoch 26/200\n",
      "280496/280496 [==============================] - 5s 19us/step - loss: 0.0148 - acc: 0.9938 - val_loss: 0.0096 - val_acc: 0.9959\n",
      "Epoch 27/200\n",
      "280496/280496 [==============================] - 6s 20us/step - loss: 0.0154 - acc: 0.9936 - val_loss: 0.0124 - val_acc: 0.9946\n",
      "Epoch 28/200\n",
      "280496/280496 [==============================] - 5s 20us/step - loss: 0.0144 - acc: 0.9940 - val_loss: 0.0145 - val_acc: 0.9926\n",
      "Epoch 29/200\n",
      "280496/280496 [==============================] - 6s 20us/step - loss: 0.0143 - acc: 0.9939 - val_loss: 0.0124 - val_acc: 0.9954\n",
      "Epoch 30/200\n",
      "280496/280496 [==============================] - 5s 20us/step - loss: 0.0142 - acc: 0.9939 - val_loss: 0.0108 - val_acc: 0.9963\n",
      "Epoch 31/200\n",
      "280496/280496 [==============================] - 5s 20us/step - loss: 0.0139 - acc: 0.9941 - val_loss: 0.0130 - val_acc: 0.9945\n",
      "--- ANN spent 173.40437412261963 seconds ---\n"
     ]
    }
   ],
   "source": [
    "hist_ann_2h_unisoftsigbinlosadam = ann_fit(checkpoint_file = \"ann_2h_unisoftsigbinlosadam_redds\"+str(dsnum)+\"bal.h5\",\n",
    "                                        ann = ann_2h_unisoftsigbinlosadam,\n",
    "                                        enc_train_x = enc_train_x_asam,\n",
    "                                        train_y = train_y,\n",
    "                                        epochs = 200,\n",
    "                                        shuffle = True,\n",
    "                                        batch_size = batch_size)"
   ]
  },
  {
   "cell_type": "code",
   "execution_count": 105,
   "metadata": {},
   "outputs": [],
   "source": [
    "# hist_ann_2h_unisoftsigbinlosadam.model.get_weights()"
   ]
  },
  {
   "cell_type": "code",
   "execution_count": 106,
   "metadata": {},
   "outputs": [
    {
     "name": "stdout",
     "output_type": "stream",
     "text": [
      "Best loss value: 0.013918438112919897\n"
     ]
    },
    {
     "data": {
      "image/png": "[encoded data removed]",
      "text/plain": [
       "<Figure size 432x288 with 1 Axes>"
      ]
     },
     "metadata": {
      "needs_background": "light"
     },
     "output_type": "display_data"
    }
   ],
   "source": [
    "best_loss_value_ann_2h_unisoftsigbinlosadam = plot_hist_auto(hist_ann_2h_unisoftsigbinlosadam, './Figures/ann_2h_unisoftsigbinlosadam.png')"
   ]
  },
  {
   "cell_type": "code",
   "execution_count": 107,
   "metadata": {},
   "outputs": [
    {
     "name": "stdout",
     "output_type": "stream",
     "text": [
      "Overall accuracy of Neural Network model: 0.9942867573240851\n",
      "              precision    recall  f1-score   support\n",
      "\n",
      "           0     0.9938    0.9948    0.9943     54737\n",
      "           1     0.9948    0.9938    0.9943     54833\n",
      "\n",
      "   micro avg     0.9943    0.9943    0.9943    109570\n",
      "   macro avg     0.9943    0.9943    0.9943    109570\n",
      "weighted avg     0.9943    0.9943    0.9943    109570\n",
      "\n"
     ]
    }
   ],
   "source": [
    "pred_ann_2h_prob_unisoftsigbinlosadam, pred_ann_2h_01_unisoftsigbinlosadam = ann_predict(ann_2h_unisoftsigbinlosadam,enc_test_x_asam)"
   ]
  },
  {
   "cell_type": "code",
   "execution_count": 108,
   "metadata": {},
   "outputs": [
    {
     "data": {
      "image/png": "[encoded data removed]",
      "text/plain": [
       "<Figure size 432x288 with 1 Axes>"
      ]
     },
     "metadata": {
      "needs_background": "light"
     },
     "output_type": "display_data"
    },
    {
     "data": {
      "image/png": "[encoded data removed]",
      "text/plain": [
       "<Figure size 576x432 with 2 Axes>"
      ]
     },
     "metadata": {
      "needs_background": "light"
     },
     "output_type": "display_data"
    }
   ],
   "source": [
    "plot_roc_cm(pred_ann_2h_01_unisoftsigbinlosadam, pred_ann_2h_01_unisoftsigbinlosadam, './Figures/ROC_ann_2h_unisoftsigbinlosadam_redds'+str(dsnum)+'bal.png', './Figures/CM_ann_2h_unisoftsigbinlosadam_redds'+str(dsnum)+'bal.png')"
   ]
  },
  {
   "cell_type": "code",
   "execution_count": null,
   "metadata": {},
   "outputs": [],
   "source": []
  },
  {
   "cell_type": "code",
   "execution_count": null,
   "metadata": {},
   "outputs": [],
   "source": []
  },
  {
   "cell_type": "code",
   "execution_count": 109,
   "metadata": {},
   "outputs": [
    {
     "name": "stdout",
     "output_type": "stream",
     "text": [
      "_________________________________________________________________\n",
      "Layer (type)                 Output Shape              Param #   \n",
      "=================================================================\n",
      "dense_40 (Dense)             (None, 197)               26004     \n",
      "_________________________________________________________________\n",
      "dense_41 (Dense)             (None, 148)               29304     \n",
      "_________________________________________________________________\n",
      "dense_42 (Dense)             (None, 99)                14751     \n",
      "_________________________________________________________________\n",
      "batch_normalization_11 (Batc (None, 99)                396       \n",
      "_________________________________________________________________\n",
      "dropout_11 (Dropout)         (None, 99)                0         \n",
      "_________________________________________________________________\n",
      "dense_43 (Dense)             (None, 1)                 100       \n",
      "=================================================================\n",
      "Total params: 70,555\n",
      "Trainable params: 70,357\n",
      "Non-trainable params: 198\n",
      "_________________________________________________________________\n",
      "None\n"
     ]
    }
   ],
   "source": [
    "ann_2h_unisoftsigbinlosadam2 = ann_2h_(neurons=neurons,\n",
    "                                      encoded_train_x=enc_train_x_asal,\n",
    "#                                       init_mode='glorot_uniform',\n",
    "                                       init_mode='VarianceScaling',\n",
    "#                                       activation_input='softsign',\n",
    "                                      activation_input='relu',\n",
    "#                                       weight_constraint=5,\n",
    "                                      dropout_rate=0.0,\n",
    "                                      activation_output='sigmoid',\n",
    "                                      loss='binary_crossentropy',\n",
    "                                      lr=0.05)"
   ]
  },
  {
   "cell_type": "code",
   "execution_count": 110,
   "metadata": {},
   "outputs": [
    {
     "name": "stdout",
     "output_type": "stream",
     "text": [
      "Wed Jun 12 22:19:50 2019\n",
      "Train on 280496 samples, validate on 70124 samples\n",
      "Epoch 1/200\n",
      "280496/280496 [==============================] - 7s 24us/step - loss: 0.2440 - acc: 0.8843 - val_loss: 0.1438 - val_acc: 0.9378\n",
      "Epoch 2/200\n",
      "280496/280496 [==============================] - 5s 19us/step - loss: 0.1234 - acc: 0.9420 - val_loss: 0.4433 - val_acc: 0.9238\n",
      "Epoch 3/200\n",
      "280496/280496 [==============================] - 5s 20us/step - loss: 0.1098 - acc: 0.9479 - val_loss: 0.0912 - val_acc: 0.9574\n",
      "Epoch 4/200\n",
      "280496/280496 [==============================] - 6s 20us/step - loss: 0.0965 - acc: 0.9530 - val_loss: 0.0876 - val_acc: 0.9583\n",
      "Epoch 5/200\n",
      "280496/280496 [==============================] - 5s 19us/step - loss: 0.0893 - acc: 0.9573 - val_loss: 0.0989 - val_acc: 0.9513\n",
      "Epoch 6/200\n",
      "280496/280496 [==============================] - 5s 19us/step - loss: 0.0836 - acc: 0.9605 - val_loss: 0.0750 - val_acc: 0.9633\n",
      "Epoch 7/200\n",
      "280496/280496 [==============================] - 5s 20us/step - loss: 0.0737 - acc: 0.9647 - val_loss: 0.0819 - val_acc: 0.9606\n",
      "Epoch 8/200\n",
      "280496/280496 [==============================] - 5s 20us/step - loss: 0.0713 - acc: 0.9663 - val_loss: 0.0693 - val_acc: 0.9661\n",
      "Epoch 9/200\n",
      "280496/280496 [==============================] - 5s 19us/step - loss: 0.0674 - acc: 0.9676 - val_loss: 0.0662 - val_acc: 0.9683\n",
      "Epoch 10/200\n",
      "280496/280496 [==============================] - 6s 20us/step - loss: 0.0659 - acc: 0.9688 - val_loss: 0.0566 - val_acc: 0.9726\n",
      "Epoch 11/200\n",
      "280496/280496 [==============================] - 5s 20us/step - loss: 0.0616 - acc: 0.9707 - val_loss: 0.0660 - val_acc: 0.9683\n",
      "Epoch 12/200\n",
      "280496/280496 [==============================] - 6s 20us/step - loss: 0.0585 - acc: 0.9725 - val_loss: 0.0553 - val_acc: 0.9723\n",
      "Epoch 13/200\n",
      "280496/280496 [==============================] - 5s 19us/step - loss: 0.0554 - acc: 0.9740 - val_loss: 0.0542 - val_acc: 0.9757\n",
      "Epoch 14/200\n",
      "280496/280496 [==============================] - 5s 20us/step - loss: 0.0537 - acc: 0.9751 - val_loss: 0.0576 - val_acc: 0.9738\n",
      "Epoch 15/200\n",
      "280496/280496 [==============================] - 5s 20us/step - loss: 0.0521 - acc: 0.9759 - val_loss: 0.0418 - val_acc: 0.9808\n",
      "Epoch 16/200\n",
      "280496/280496 [==============================] - 5s 19us/step - loss: 0.0507 - acc: 0.9767 - val_loss: 0.0445 - val_acc: 0.9767\n",
      "Epoch 17/200\n",
      "280496/280496 [==============================] - 5s 19us/step - loss: 0.0485 - acc: 0.9778 - val_loss: 0.0868 - val_acc: 0.9670\n",
      "Epoch 18/200\n",
      "280496/280496 [==============================] - 5s 19us/step - loss: 0.0472 - acc: 0.9783 - val_loss: 0.0428 - val_acc: 0.9806\n",
      "Epoch 19/200\n",
      "280496/280496 [==============================] - 5s 19us/step - loss: 0.0455 - acc: 0.9795 - val_loss: 0.0407 - val_acc: 0.9806\n",
      "Epoch 20/200\n",
      "280496/280496 [==============================] - 5s 19us/step - loss: 0.0432 - acc: 0.9804 - val_loss: 0.0537 - val_acc: 0.9759\n",
      "Epoch 21/200\n",
      "280496/280496 [==============================] - 5s 20us/step - loss: 0.0427 - acc: 0.9808 - val_loss: 0.0445 - val_acc: 0.9799\n",
      "Epoch 22/200\n",
      "280496/280496 [==============================] - 6s 20us/step - loss: 0.0415 - acc: 0.9815 - val_loss: 0.0346 - val_acc: 0.9845\n",
      "Epoch 23/200\n",
      "280496/280496 [==============================] - 6s 20us/step - loss: 0.0404 - acc: 0.9818 - val_loss: 0.0391 - val_acc: 0.9844\n",
      "Epoch 24/200\n",
      "280496/280496 [==============================] - 5s 19us/step - loss: 0.0390 - acc: 0.9827 - val_loss: 0.0452 - val_acc: 0.9800\n",
      "Epoch 25/200\n",
      "280496/280496 [==============================] - 5s 20us/step - loss: 0.0400 - acc: 0.9823 - val_loss: 0.0474 - val_acc: 0.9800\n",
      "Epoch 26/200\n",
      "280496/280496 [==============================] - 5s 19us/step - loss: 0.0360 - acc: 0.9843 - val_loss: 0.0308 - val_acc: 0.9868\n",
      "Epoch 27/200\n",
      "280496/280496 [==============================] - 5s 19us/step - loss: 0.0362 - acc: 0.9841 - val_loss: 0.0290 - val_acc: 0.9879\n",
      "Epoch 28/200\n",
      "280496/280496 [==============================] - 5s 19us/step - loss: 0.0362 - acc: 0.9844 - val_loss: 0.0549 - val_acc: 0.9779\n",
      "Epoch 29/200\n",
      "280496/280496 [==============================] - 5s 19us/step - loss: 0.0347 - acc: 0.9852 - val_loss: 0.0368 - val_acc: 0.9825\n",
      "Epoch 30/200\n",
      "280496/280496 [==============================] - 5s 19us/step - loss: 0.0334 - acc: 0.9853 - val_loss: 0.0294 - val_acc: 0.9875\n",
      "Epoch 31/200\n",
      "280496/280496 [==============================] - 5s 20us/step - loss: 0.0339 - acc: 0.9856 - val_loss: 0.0326 - val_acc: 0.9854\n",
      "Epoch 32/200\n",
      "280496/280496 [==============================] - 5s 20us/step - loss: 0.0305 - acc: 0.9868 - val_loss: 0.0340 - val_acc: 0.9845\n",
      "--- ANN spent 176.72886896133423 seconds ---\n"
     ]
    }
   ],
   "source": [
    "hist_ann_2h_unisoftsigbinlosadam2 = ann_fit(checkpoint_file = \"ann_2h_unisoftsigbinlosadam2_redds\"+str(dsnum)+\"bal.h5\",\n",
    "                                        ann = ann_2h_unisoftsigbinlosadam2,\n",
    "                                        enc_train_x = enc_train_x_asal,\n",
    "                                        train_y = train_y,\n",
    "                                        epochs = 200,\n",
    "                                        shuffle = True,\n",
    "                                        batch_size = batch_size)"
   ]
  },
  {
   "cell_type": "code",
   "execution_count": 111,
   "metadata": {},
   "outputs": [
    {
     "name": "stdout",
     "output_type": "stream",
     "text": [
      "Best loss value: 0.030492890677017548\n"
     ]
    },
    {
     "data": {
      "image/png": "[encoded data removed]",
      "text/plain": [
       "<Figure size 432x288 with 1 Axes>"
      ]
     },
     "metadata": {
      "needs_background": "light"
     },
     "output_type": "display_data"
    }
   ],
   "source": [
    "best_loss_value_ann_2h_unisoftsigbinlosadam2 = plot_hist_auto(hist_ann_2h_unisoftsigbinlosadam2, './Figures/ann_2h_unisoftsigbinlosadam2'+str(dsnum)+'.png')"
   ]
  },
  {
   "cell_type": "code",
   "execution_count": 112,
   "metadata": {},
   "outputs": [
    {
     "name": "stdout",
     "output_type": "stream",
     "text": [
      "Overall accuracy of Neural Network model: 0.9836542849320069\n",
      "              precision    recall  f1-score   support\n",
      "\n",
      "           0     0.9782    0.9893    0.9837     54737\n",
      "           1     0.9892    0.9780    0.9836     54833\n",
      "\n",
      "   micro avg     0.9837    0.9837    0.9837    109570\n",
      "   macro avg     0.9837    0.9837    0.9837    109570\n",
      "weighted avg     0.9837    0.9837    0.9837    109570\n",
      "\n"
     ]
    }
   ],
   "source": [
    "pred_ann_2h_prob_unisoftsigbinlosadam2, pred_ann_2h_01_unisoftsigbinlosadam2 = ann_predict(ann_2h_unisoftsigbinlosadam2,enc_test_x_asal)"
   ]
  },
  {
   "cell_type": "code",
   "execution_count": 113,
   "metadata": {},
   "outputs": [
    {
     "data": {
      "image/png": "[encoded data removed]",
      "text/plain": [
       "<Figure size 432x288 with 1 Axes>"
      ]
     },
     "metadata": {
      "needs_background": "light"
     },
     "output_type": "display_data"
    },
    {
     "data": {
      "image/png": "[encoded data removed]",
      "text/plain": [
       "<Figure size 576x432 with 2 Axes>"
      ]
     },
     "metadata": {
      "needs_background": "light"
     },
     "output_type": "display_data"
    }
   ],
   "source": [
    "plot_roc_cm(pred_ann_2h_01_unisoftsigbinlosadam2, pred_ann_2h_01_unisoftsigbinlosadam2, './Figures/ROC_ann_2h_unisoftsigbinlosadam2_redds'+str(dsnum)+'bal.png', './Figures/CM_ann_2h_unisoftsigbinlosadam2_redds'+str(dsnum)+'bal.png')"
   ]
  },
  {
   "cell_type": "code",
   "execution_count": null,
   "metadata": {},
   "outputs": [],
   "source": []
  },
  {
   "cell_type": "markdown",
   "metadata": {},
   "source": [
    "### **BEST with ae encoding ---------------------------------**"
   ]
  },
  {
   "cell_type": "code",
   "execution_count": 114,
   "metadata": {},
   "outputs": [
    {
     "name": "stdout",
     "output_type": "stream",
     "text": [
      "_________________________________________________________________\n",
      "Layer (type)                 Output Shape              Param #   \n",
      "=================================================================\n",
      "dense_44 (Dense)             (None, 197)               26004     \n",
      "_________________________________________________________________\n",
      "dense_45 (Dense)             (None, 148)               29304     \n",
      "_________________________________________________________________\n",
      "dense_46 (Dense)             (None, 99)                14751     \n",
      "_________________________________________________________________\n",
      "batch_normalization_12 (Batc (None, 99)                396       \n",
      "_________________________________________________________________\n",
      "dropout_12 (Dropout)         (None, 99)                0         \n",
      "_________________________________________________________________\n",
      "dense_47 (Dense)             (None, 1)                 100       \n",
      "=================================================================\n",
      "Total params: 70,555\n",
      "Trainable params: 70,357\n",
      "Non-trainable params: 198\n",
      "_________________________________________________________________\n",
      "None\n"
     ]
    }
   ],
   "source": [
    "ann_2h_unisoftsigbinlosadam3 = ann_2h(neurons=neurons,\n",
    "                                      encoded_train_x=enc_train_x_asam,\n",
    "                                      init_mode='uniform',\n",
    "                                      activation_input='relu',\n",
    "                                      weight_constraint=5,\n",
    "                                      dropout_rate=0.0,\n",
    "                                      activation_output='sigmoid',\n",
    "                                      loss='binary_crossentropy',\n",
    "                                      optimizer='Adam')"
   ]
  },
  {
   "cell_type": "code",
   "execution_count": 115,
   "metadata": {},
   "outputs": [
    {
     "name": "stdout",
     "output_type": "stream",
     "text": [
      "Wed Jun 12 22:22:50 2019\n",
      "Train on 280496 samples, validate on 70124 samples\n",
      "Epoch 1/200\n",
      "280496/280496 [==============================] - 7s 24us/step - loss: 0.1690 - acc: 0.9182 - val_loss: 0.0984 - val_acc: 0.9519\n",
      "Epoch 2/200\n",
      "280496/280496 [==============================] - 6s 20us/step - loss: 0.0931 - acc: 0.9527 - val_loss: 0.0817 - val_acc: 0.9572\n",
      "Epoch 3/200\n",
      "280496/280496 [==============================] - 6s 20us/step - loss: 0.0792 - acc: 0.9608 - val_loss: 0.0674 - val_acc: 0.9681\n",
      "Epoch 4/200\n",
      "280496/280496 [==============================] - 6s 20us/step - loss: 0.0682 - acc: 0.9665 - val_loss: 0.0709 - val_acc: 0.9673\n",
      "Epoch 5/200\n",
      "280496/280496 [==============================] - 6s 20us/step - loss: 0.0565 - acc: 0.9728 - val_loss: 0.0458 - val_acc: 0.9769\n",
      "Epoch 6/200\n",
      "280496/280496 [==============================] - 6s 20us/step - loss: 0.0504 - acc: 0.9761 - val_loss: 0.0542 - val_acc: 0.9743\n",
      "Epoch 7/200\n",
      "280496/280496 [==============================] - 6s 20us/step - loss: 0.0441 - acc: 0.9793 - val_loss: 0.0482 - val_acc: 0.9763\n",
      "Epoch 8/200\n",
      "280496/280496 [==============================] - 6s 20us/step - loss: 0.0369 - acc: 0.9827 - val_loss: 0.0275 - val_acc: 0.9885\n",
      "Epoch 9/200\n",
      "280496/280496 [==============================] - 6s 20us/step - loss: 0.0337 - acc: 0.9848 - val_loss: 0.0316 - val_acc: 0.9842\n",
      "Epoch 10/200\n",
      "280496/280496 [==============================] - 6s 20us/step - loss: 0.0305 - acc: 0.9867 - val_loss: 0.0275 - val_acc: 0.9892\n",
      "Epoch 11/200\n",
      "280496/280496 [==============================] - 6s 20us/step - loss: 0.0277 - acc: 0.9882 - val_loss: 0.0207 - val_acc: 0.9914\n",
      "Epoch 12/200\n",
      "280496/280496 [==============================] - 6s 20us/step - loss: 0.0249 - acc: 0.9892 - val_loss: 0.0235 - val_acc: 0.9903\n",
      "Epoch 13/200\n",
      "280496/280496 [==============================] - 6s 20us/step - loss: 0.0237 - acc: 0.9899 - val_loss: 0.0207 - val_acc: 0.9897\n",
      "Epoch 14/200\n",
      "280496/280496 [==============================] - 6s 20us/step - loss: 0.0228 - acc: 0.9904 - val_loss: 0.0192 - val_acc: 0.9916\n",
      "Epoch 15/200\n",
      "280496/280496 [==============================] - 6s 20us/step - loss: 0.0222 - acc: 0.9907 - val_loss: 0.0190 - val_acc: 0.9924\n",
      "Epoch 16/200\n",
      "280496/280496 [==============================] - 6s 20us/step - loss: 0.0199 - acc: 0.9914 - val_loss: 0.0152 - val_acc: 0.9939\n",
      "Epoch 17/200\n",
      "280496/280496 [==============================] - 6s 20us/step - loss: 0.0190 - acc: 0.9921 - val_loss: 0.0151 - val_acc: 0.9935\n",
      "Epoch 18/200\n",
      "280496/280496 [==============================] - 6s 20us/step - loss: 0.0181 - acc: 0.9924 - val_loss: 0.0154 - val_acc: 0.9936\n",
      "Epoch 19/200\n",
      "280496/280496 [==============================] - 6s 20us/step - loss: 0.0180 - acc: 0.9924 - val_loss: 0.0204 - val_acc: 0.9925\n",
      "Epoch 20/200\n",
      "280496/280496 [==============================] - 6s 20us/step - loss: 0.0175 - acc: 0.9928 - val_loss: 0.0145 - val_acc: 0.9933\n",
      "Epoch 21/200\n",
      "280496/280496 [==============================] - 6s 20us/step - loss: 0.0164 - acc: 0.9932 - val_loss: 0.0150 - val_acc: 0.9938\n",
      "Epoch 22/200\n",
      "280496/280496 [==============================] - 6s 20us/step - loss: 0.0164 - acc: 0.9930 - val_loss: 0.0127 - val_acc: 0.9947\n",
      "Epoch 23/200\n",
      "280496/280496 [==============================] - 6s 20us/step - loss: 0.0159 - acc: 0.9934 - val_loss: 0.0114 - val_acc: 0.9958\n",
      "Epoch 24/200\n",
      "280496/280496 [==============================] - 6s 20us/step - loss: 0.0159 - acc: 0.9935 - val_loss: 0.0098 - val_acc: 0.9958\n",
      "Epoch 25/200\n",
      "280496/280496 [==============================] - 6s 20us/step - loss: 0.0150 - acc: 0.9936 - val_loss: 0.0089 - val_acc: 0.9964\n",
      "Epoch 26/200\n",
      "280496/280496 [==============================] - 6s 20us/step - loss: 0.0147 - acc: 0.9938 - val_loss: 0.0184 - val_acc: 0.9927\n",
      "Epoch 27/200\n",
      "280496/280496 [==============================] - 6s 20us/step - loss: 0.0139 - acc: 0.9942 - val_loss: 0.0127 - val_acc: 0.9944\n",
      "Epoch 28/200\n",
      "280496/280496 [==============================] - 6s 20us/step - loss: 0.0145 - acc: 0.9940 - val_loss: 0.0115 - val_acc: 0.9952\n",
      "Epoch 29/200\n",
      "280496/280496 [==============================] - 6s 20us/step - loss: 0.0130 - acc: 0.9946 - val_loss: 0.0123 - val_acc: 0.9949\n",
      "Epoch 30/200\n",
      "280496/280496 [==============================] - 6s 20us/step - loss: 0.0135 - acc: 0.9943 - val_loss: 0.0079 - val_acc: 0.9967\n",
      "Epoch 31/200\n",
      "280496/280496 [==============================] - 6s 20us/step - loss: 0.0134 - acc: 0.9944 - val_loss: 0.0118 - val_acc: 0.9950\n",
      "Epoch 32/200\n",
      "280496/280496 [==============================] - 6s 20us/step - loss: 0.0138 - acc: 0.9943 - val_loss: 0.0130 - val_acc: 0.9946\n",
      "Epoch 33/200\n",
      "280496/280496 [==============================] - 6s 20us/step - loss: 0.0122 - acc: 0.9950 - val_loss: 0.0088 - val_acc: 0.9962\n",
      "Epoch 34/200\n",
      "280496/280496 [==============================] - 6s 20us/step - loss: 0.0131 - acc: 0.9946 - val_loss: 0.0086 - val_acc: 0.9970\n",
      "Epoch 35/200\n",
      "280496/280496 [==============================] - 5s 20us/step - loss: 0.0115 - acc: 0.9950 - val_loss: 0.0092 - val_acc: 0.9962\n",
      "--- ANN spent 197.9379162788391 seconds ---\n"
     ]
    }
   ],
   "source": [
    "hist_ann_2h_unisoftsigbinlosadam3 = ann_fit(checkpoint_file = \"ann_2h_unisoftsigbinlosadam3_redds\"+str(dsnum)+\"bal.h5\",\n",
    "                                        ann = ann_2h_unisoftsigbinlosadam3,\n",
    "                                        enc_train_x = enc_train_x_asam,\n",
    "                                        train_y = train_y,\n",
    "                                        epochs = 200,\n",
    "                                        shuffle = True,\n",
    "                                        batch_size = batch_size)"
   ]
  },
  {
   "cell_type": "code",
   "execution_count": 116,
   "metadata": {},
   "outputs": [],
   "source": [
    "# hist_ann_2h_unisoftsigbinlosadam.model.get_weights()"
   ]
  },
  {
   "cell_type": "code",
   "execution_count": 117,
   "metadata": {},
   "outputs": [
    {
     "name": "stdout",
     "output_type": "stream",
     "text": [
      "Best loss value: 0.011485423093675043\n"
     ]
    },
    {
     "data": {
      "image/png": "[encoded data removed]",
      "text/plain": [
       "<Figure size 432x288 with 1 Axes>"
      ]
     },
     "metadata": {
      "needs_background": "light"
     },
     "output_type": "display_data"
    }
   ],
   "source": [
    "best_loss_value_ann_2h_unisoftsigbinlosadam3 = plot_hist_auto(hist_ann_2h_unisoftsigbinlosadam3, './Figures/ann_2h_unisoftsigbinlosadam3'+str(dsnum)+'.png')"
   ]
  },
  {
   "cell_type": "code",
   "execution_count": 118,
   "metadata": {},
   "outputs": [
    {
     "name": "stdout",
     "output_type": "stream",
     "text": [
      "Overall accuracy of Neural Network model: 0.9958017705576344\n",
      "              precision    recall  f1-score   support\n",
      "\n",
      "           0     0.9994    0.9922    0.9958     54737\n",
      "           1     0.9922    0.9994    0.9958     54833\n",
      "\n",
      "   micro avg     0.9958    0.9958    0.9958    109570\n",
      "   macro avg     0.9958    0.9958    0.9958    109570\n",
      "weighted avg     0.9958    0.9958    0.9958    109570\n",
      "\n"
     ]
    }
   ],
   "source": [
    "pred_ann_2h_prob_unisoftsigbinlosadam3, pred_ann_2h_01_unisoftsigbinlosadam3 = ann_predict(ann_2h_unisoftsigbinlosadam3,enc_test_x_asam)"
   ]
  },
  {
   "cell_type": "code",
   "execution_count": 119,
   "metadata": {},
   "outputs": [
    {
     "data": {
      "image/png": "[encoded data removed]",
      "text/plain": [
       "<Figure size 432x288 with 1 Axes>"
      ]
     },
     "metadata": {
      "needs_background": "light"
     },
     "output_type": "display_data"
    },
    {
     "data": {
      "image/png": "[encoded data removed]",
      "text/plain": [
       "<Figure size 576x432 with 2 Axes>"
      ]
     },
     "metadata": {
      "needs_background": "light"
     },
     "output_type": "display_data"
    }
   ],
   "source": [
    "plot_roc_cm(pred_ann_2h_01_unisoftsigbinlosadam3, pred_ann_2h_01_unisoftsigbinlosadam3, './Figures/ROC_ann_2h_unisoftsigbinlosadam3_redds'+str(dsnum)+'bal.png', './Figures/CM_ann_2h_unisoftsigbinlosadam3_redds'+str(dsnum)+'bal.png')"
   ]
  },
  {
   "cell_type": "code",
   "execution_count": null,
   "metadata": {},
   "outputs": [],
   "source": []
  },
  {
   "cell_type": "markdown",
   "metadata": {},
   "source": [
    "### **BEST with spae encoding ---------------------------------**"
   ]
  },
  {
   "cell_type": "code",
   "execution_count": 144,
   "metadata": {},
   "outputs": [
    {
     "name": "stdout",
     "output_type": "stream",
     "text": [
      "_________________________________________________________________\n",
      "Layer (type)                 Output Shape              Param #   \n",
      "=================================================================\n",
      "dense_56 (Dense)             (None, 197)               26004     \n",
      "_________________________________________________________________\n",
      "dense_57 (Dense)             (None, 148)               29304     \n",
      "_________________________________________________________________\n",
      "dense_58 (Dense)             (None, 99)                14751     \n",
      "_________________________________________________________________\n",
      "batch_normalization_15 (Batc (None, 99)                396       \n",
      "_________________________________________________________________\n",
      "dropout_15 (Dropout)         (None, 99)                0         \n",
      "_________________________________________________________________\n",
      "dense_59 (Dense)             (None, 1)                 100       \n",
      "=================================================================\n",
      "Total params: 70,555\n",
      "Trainable params: 70,357\n",
      "Non-trainable params: 198\n",
      "_________________________________________________________________\n",
      "None\n"
     ]
    }
   ],
   "source": [
    "sp_ann_2h_unisoftsigbinlosadam = ann_2h(neurons=neurons,\n",
    "                                      encoded_train_x=enc_train_x_spsam,\n",
    "                                      init_mode='uniform',\n",
    "                                      activation_input='relu',\n",
    "                                      weight_constraint=5,\n",
    "                                      dropout_rate=0.0,\n",
    "                                      activation_output='sigmoid',\n",
    "                                      loss='binary_crossentropy',\n",
    "                                      optimizer='Adam')"
   ]
  },
  {
   "cell_type": "code",
   "execution_count": 155,
   "metadata": {},
   "outputs": [
    {
     "name": "stdout",
     "output_type": "stream",
     "text": [
      "Thu Jun 13 13:28:50 2019\n",
      "Train on 280496 samples, validate on 70124 samples\n",
      "Epoch 1/200\n",
      "280496/280496 [==============================] - 7s 24us/step - loss: 0.0129 - acc: 0.9948 - val_loss: 0.0104 - val_acc: 0.9950\n",
      "Epoch 2/200\n",
      "280496/280496 [==============================] - 7s 24us/step - loss: 0.0125 - acc: 0.9946 - val_loss: 0.0087 - val_acc: 0.9966\n",
      "Epoch 3/200\n",
      "280496/280496 [==============================] - 7s 24us/step - loss: 0.0120 - acc: 0.9950 - val_loss: 0.0093 - val_acc: 0.9959\n",
      "Epoch 4/200\n",
      "280496/280496 [==============================] - 7s 24us/step - loss: 0.0123 - acc: 0.9949 - val_loss: 0.0199 - val_acc: 0.9919\n",
      "Epoch 5/200\n",
      "280496/280496 [==============================] - 7s 25us/step - loss: 0.0120 - acc: 0.9949 - val_loss: 0.0100 - val_acc: 0.9960\n",
      "Epoch 6/200\n",
      "280496/280496 [==============================] - 7s 24us/step - loss: 0.0114 - acc: 0.9953 - val_loss: 0.0172 - val_acc: 0.9930\n",
      "Epoch 7/200\n",
      "280496/280496 [==============================] - 7s 24us/step - loss: 0.0120 - acc: 0.9951 - val_loss: 0.0083 - val_acc: 0.9967\n",
      "Epoch 8/200\n",
      "280496/280496 [==============================] - 7s 24us/step - loss: 0.0113 - acc: 0.9952 - val_loss: 0.0150 - val_acc: 0.9930\n",
      "Epoch 9/200\n",
      "280496/280496 [==============================] - 7s 25us/step - loss: 0.0113 - acc: 0.9954 - val_loss: 0.0101 - val_acc: 0.9960\n",
      "Epoch 10/200\n",
      "280496/280496 [==============================] - 7s 25us/step - loss: 0.0115 - acc: 0.9954 - val_loss: 0.0084 - val_acc: 0.9968\n",
      "Epoch 11/200\n",
      "280496/280496 [==============================] - 7s 25us/step - loss: 0.0112 - acc: 0.9954 - val_loss: 0.0108 - val_acc: 0.9953\n",
      "Epoch 12/200\n",
      "280496/280496 [==============================] - 7s 25us/step - loss: 0.0108 - acc: 0.9955 - val_loss: 0.0138 - val_acc: 0.9939\n",
      "--- ANN spent 82.83434557914734 seconds ---\n"
     ]
    }
   ],
   "source": [
    "hist_sp_ann_2h_unisoftsigbinlosadam = ann_fit(checkpoint_file = \"ann_2h_unisoftsigbinlosadam3_redds\"+str(dsnum)+\"bal.h5\",\n",
    "                                        ann = sp_ann_2h_unisoftsigbinlosadam,\n",
    "                                        enc_train_x = enc_train_x_spsam,\n",
    "                                        train_y = train_y,\n",
    "                                        epochs = 200,\n",
    "                                        shuffle = True,\n",
    "                                        batch_size = batch_size)"
   ]
  },
  {
   "cell_type": "code",
   "execution_count": 156,
   "metadata": {},
   "outputs": [],
   "source": [
    "# hist_ann_2h_unisoftsigbinlosadam.model.get_weights()"
   ]
  },
  {
   "cell_type": "code",
   "execution_count": 157,
   "metadata": {},
   "outputs": [
    {
     "name": "stdout",
     "output_type": "stream",
     "text": [
      "Best loss value: 0.010814121860969602\n"
     ]
    },
    {
     "data": {
      "image/png": "[encoded data removed]",
      "text/plain": [
       "<Figure size 432x288 with 1 Axes>"
      ]
     },
     "metadata": {
      "needs_background": "light"
     },
     "output_type": "display_data"
    }
   ],
   "source": [
    "best_loss_value_sp_ann_2h_unisoftsigbinlosadam = plot_hist_auto(hist_sp_ann_2h_unisoftsigbinlosadam, './Figures/sp_ann_2h_unisoftsigbinlosadam'+str(dsnum)+'.png')"
   ]
  },
  {
   "cell_type": "code",
   "execution_count": 158,
   "metadata": {},
   "outputs": [
    {
     "name": "stdout",
     "output_type": "stream",
     "text": [
      "Overall accuracy of Neural Network model: 0.9935109975358218\n",
      "              precision    recall  f1-score   support\n",
      "\n",
      "           0     0.9926    0.9944    0.9935     54737\n",
      "           1     0.9944    0.9926    0.9935     54833\n",
      "\n",
      "   micro avg     0.9935    0.9935    0.9935    109570\n",
      "   macro avg     0.9935    0.9935    0.9935    109570\n",
      "weighted avg     0.9935    0.9935    0.9935    109570\n",
      "\n"
     ]
    }
   ],
   "source": [
    "pred_sp_ann_2h_prob_unisoftsigbinlosadam, pred_sp_ann_2h_01_unisoftsigbinlosadam = ann_predict(sp_ann_2h_unisoftsigbinlosadam,enc_test_x_spsam)"
   ]
  },
  {
   "cell_type": "code",
   "execution_count": 159,
   "metadata": {},
   "outputs": [
    {
     "data": {
      "image/png": "[encoded data removed]",
      "text/plain": [
       "<Figure size 432x288 with 1 Axes>"
      ]
     },
     "metadata": {
      "needs_background": "light"
     },
     "output_type": "display_data"
    },
    {
     "data": {
      "image/png": "[encoded data removed]",
      "text/plain": [
       "<Figure size 576x432 with 2 Axes>"
      ]
     },
     "metadata": {
      "needs_background": "light"
     },
     "output_type": "display_data"
    }
   ],
   "source": [
    "plot_roc_cm(pred_sp_ann_2h_01_unisoftsigbinlosadam, pred_sp_ann_2h_01_unisoftsigbinlosadam, './Figures/ROC_sp_ann_2h_unisoftsigbinlosadam_redds'+str(dsnum)+'bal.png', './Figures/CM_sp_ann_2h_unisoftsigbinlosadam_redds'+str(dsnum)+'bal.png')"
   ]
  },
  {
   "cell_type": "code",
   "execution_count": null,
   "metadata": {},
   "outputs": [],
   "source": []
  },
  {
   "cell_type": "code",
   "execution_count": 120,
   "metadata": {},
   "outputs": [
    {
     "name": "stdout",
     "output_type": "stream",
     "text": [
      "_________________________________________________________________\n",
      "Layer (type)                 Output Shape              Param #   \n",
      "=================================================================\n",
      "dense_48 (Dense)             (None, 197)               26004     \n",
      "_________________________________________________________________\n",
      "dense_49 (Dense)             (None, 148)               29304     \n",
      "_________________________________________________________________\n",
      "dense_50 (Dense)             (None, 99)                14751     \n",
      "_________________________________________________________________\n",
      "batch_normalization_13 (Batc (None, 99)                396       \n",
      "_________________________________________________________________\n",
      "dropout_13 (Dropout)         (None, 99)                0         \n",
      "_________________________________________________________________\n",
      "dense_51 (Dense)             (None, 1)                 100       \n",
      "=================================================================\n",
      "Total params: 70,555\n",
      "Trainable params: 70,357\n",
      "Non-trainable params: 198\n",
      "_________________________________________________________________\n",
      "None\n"
     ]
    }
   ],
   "source": [
    "ann_2h_unisoftsigbinlosadam4 = ann_2h(neurons=neurons,\n",
    "                                      encoded_train_x=enc_train_x_asal,\n",
    "                                      init_mode='uniform',\n",
    "                                      activation_input='relu',\n",
    "                                      weight_constraint=5,\n",
    "                                      dropout_rate=0.0,\n",
    "                                      activation_output='sigmoid',\n",
    "                                      loss='binary_crossentropy',\n",
    "                                      optimizer='Adam')"
   ]
  },
  {
   "cell_type": "code",
   "execution_count": 121,
   "metadata": {},
   "outputs": [
    {
     "name": "stdout",
     "output_type": "stream",
     "text": [
      "Wed Jun 12 22:26:12 2019\n",
      "Train on 280496 samples, validate on 70124 samples\n",
      "Epoch 1/200\n",
      "280496/280496 [==============================] - 7s 25us/step - loss: 0.1646 - acc: 0.9196 - val_loss: 0.1088 - val_acc: 0.9421\n",
      "Epoch 2/200\n",
      "280496/280496 [==============================] - 6s 20us/step - loss: 0.0920 - acc: 0.9525 - val_loss: 0.0720 - val_acc: 0.9612\n",
      "Epoch 3/200\n",
      "280496/280496 [==============================] - 6s 20us/step - loss: 0.0774 - acc: 0.9608 - val_loss: 0.0613 - val_acc: 0.9693\n",
      "Epoch 4/200\n",
      "280496/280496 [==============================] - 6s 20us/step - loss: 0.0655 - acc: 0.9677 - val_loss: 0.0707 - val_acc: 0.9658\n",
      "Epoch 5/200\n",
      "280496/280496 [==============================] - 6s 20us/step - loss: 0.0564 - acc: 0.9731 - val_loss: 0.0476 - val_acc: 0.9788\n",
      "Epoch 6/200\n",
      "280496/280496 [==============================] - 6s 20us/step - loss: 0.0481 - acc: 0.9779 - val_loss: 0.0409 - val_acc: 0.9803\n",
      "Epoch 7/200\n",
      "280496/280496 [==============================] - 6s 21us/step - loss: 0.0409 - acc: 0.9812 - val_loss: 0.0349 - val_acc: 0.9840\n",
      "Epoch 8/200\n",
      "280496/280496 [==============================] - 6s 21us/step - loss: 0.0363 - acc: 0.9835 - val_loss: 0.0301 - val_acc: 0.9861\n",
      "Epoch 9/200\n",
      "280496/280496 [==============================] - 6s 20us/step - loss: 0.0316 - acc: 0.9858 - val_loss: 0.0312 - val_acc: 0.9861\n",
      "Epoch 10/200\n",
      "280496/280496 [==============================] - 6s 20us/step - loss: 0.0291 - acc: 0.9871 - val_loss: 0.0272 - val_acc: 0.9887\n",
      "Epoch 11/200\n",
      "280496/280496 [==============================] - 6s 20us/step - loss: 0.0273 - acc: 0.9881 - val_loss: 0.0231 - val_acc: 0.9881\n",
      "Epoch 12/200\n",
      "280496/280496 [==============================] - 6s 20us/step - loss: 0.0246 - acc: 0.9892 - val_loss: 0.0175 - val_acc: 0.9931\n",
      "Epoch 13/200\n",
      "280496/280496 [==============================] - 6s 20us/step - loss: 0.0237 - acc: 0.9899 - val_loss: 0.0180 - val_acc: 0.9922\n",
      "Epoch 14/200\n",
      "280496/280496 [==============================] - 6s 20us/step - loss: 0.0222 - acc: 0.9904 - val_loss: 0.0214 - val_acc: 0.9912\n",
      "Epoch 15/200\n",
      "280496/280496 [==============================] - 6s 20us/step - loss: 0.0205 - acc: 0.9910 - val_loss: 0.0169 - val_acc: 0.9931\n",
      "Epoch 16/200\n",
      "280496/280496 [==============================] - 6s 20us/step - loss: 0.0213 - acc: 0.9909 - val_loss: 0.0140 - val_acc: 0.9940\n",
      "Epoch 17/200\n",
      "280496/280496 [==============================] - 6s 20us/step - loss: 0.0191 - acc: 0.9919 - val_loss: 0.0182 - val_acc: 0.9917\n",
      "Epoch 18/200\n",
      "280496/280496 [==============================] - 6s 20us/step - loss: 0.0193 - acc: 0.9917 - val_loss: 0.0209 - val_acc: 0.9915\n",
      "Epoch 19/200\n",
      "280496/280496 [==============================] - 6s 20us/step - loss: 0.0178 - acc: 0.9924 - val_loss: 0.0164 - val_acc: 0.9925\n",
      "Epoch 20/200\n",
      "280496/280496 [==============================] - 6s 20us/step - loss: 0.0173 - acc: 0.9925 - val_loss: 0.0218 - val_acc: 0.9896\n",
      "Epoch 21/200\n",
      "280496/280496 [==============================] - 6s 20us/step - loss: 0.0167 - acc: 0.9928 - val_loss: 0.0166 - val_acc: 0.9915\n",
      "--- ANN spent 120.49882054328918 seconds ---\n"
     ]
    }
   ],
   "source": [
    "hist_ann_2h_unisoftsigbinlosadam4 = ann_fit(checkpoint_file = \"ann_2h_unisoftsigbinlosadam4_redds\"+str(dsnum)+\"bal.h5\",\n",
    "                                        ann = ann_2h_unisoftsigbinlosadam4,\n",
    "                                        enc_train_x = enc_train_x_asal,\n",
    "                                        train_y = train_y,\n",
    "                                        epochs = 200,\n",
    "                                        shuffle = True,\n",
    "                                        batch_size = batch_size)"
   ]
  },
  {
   "cell_type": "code",
   "execution_count": 122,
   "metadata": {},
   "outputs": [],
   "source": [
    "# hist_ann_2h_unisoftsigbinlosadam.model.get_weights()"
   ]
  },
  {
   "cell_type": "code",
   "execution_count": 123,
   "metadata": {},
   "outputs": [
    {
     "name": "stdout",
     "output_type": "stream",
     "text": [
      "Best loss value: 0.016746531026231977\n"
     ]
    },
    {
     "data": {
      "image/png": "[encoded data removed]",
      "text/plain": [
       "<Figure size 432x288 with 1 Axes>"
      ]
     },
     "metadata": {
      "needs_background": "light"
     },
     "output_type": "display_data"
    }
   ],
   "source": [
    "best_loss_value_ann_2h_unisoftsigbinlosadam4 = plot_hist_auto(hist_ann_2h_unisoftsigbinlosadam4, './Figures/ann_2h_unisoftsigbinlosadam4'+str(dsnum)+'.png')"
   ]
  },
  {
   "cell_type": "code",
   "execution_count": 124,
   "metadata": {},
   "outputs": [
    {
     "name": "stdout",
     "output_type": "stream",
     "text": [
      "Overall accuracy of Neural Network model: 0.9906908825408415\n",
      "              precision    recall  f1-score   support\n",
      "\n",
      "           0     0.9908    0.9906    0.9907     54737\n",
      "           1     0.9906    0.9908    0.9907     54833\n",
      "\n",
      "   micro avg     0.9907    0.9907    0.9907    109570\n",
      "   macro avg     0.9907    0.9907    0.9907    109570\n",
      "weighted avg     0.9907    0.9907    0.9907    109570\n",
      "\n"
     ]
    }
   ],
   "source": [
    "pred_ann_2h_prob_unisoftsigbinlosadam4, pred_ann_2h_01_unisoftsigbinlosadam4 = ann_predict(ann_2h_unisoftsigbinlosadam4,enc_test_x_asal)"
   ]
  },
  {
   "cell_type": "code",
   "execution_count": 125,
   "metadata": {},
   "outputs": [
    {
     "data": {
      "image/png": "[encoded data removed]",
      "text/plain": [
       "<Figure size 432x288 with 1 Axes>"
      ]
     },
     "metadata": {
      "needs_background": "light"
     },
     "output_type": "display_data"
    },
    {
     "data": {
      "image/png": "[encoded data removed]",
      "text/plain": [
       "<Figure size 576x432 with 2 Axes>"
      ]
     },
     "metadata": {
      "needs_background": "light"
     },
     "output_type": "display_data"
    }
   ],
   "source": [
    "plot_roc_cm(pred_ann_2h_01_unisoftsigbinlosadam4, pred_ann_2h_01_unisoftsigbinlosadam4, './Figures/ROC_ann_2h_unisoftsigbinlosadam4_redds'+str(dsnum)+'bal.png', './Figures/CM_ann_2h_unisoftsigbinlosadam4_redds'+str(dsnum)+'bal.png')"
   ]
  },
  {
   "cell_type": "code",
   "execution_count": null,
   "metadata": {},
   "outputs": [],
   "source": []
  },
  {
   "cell_type": "code",
   "execution_count": 126,
   "metadata": {},
   "outputs": [
    {
     "name": "stdout",
     "output_type": "stream",
     "text": [
      "_________________________________________________________________\n",
      "Layer (type)                 Output Shape              Param #   \n",
      "=================================================================\n",
      "dense_52 (Dense)             (None, 197)               39006     \n",
      "_________________________________________________________________\n",
      "dense_53 (Dense)             (None, 148)               29304     \n",
      "_________________________________________________________________\n",
      "batch_normalization_14 (Batc (None, 148)               592       \n",
      "_________________________________________________________________\n",
      "dropout_14 (Dropout)         (None, 148)               0         \n",
      "_________________________________________________________________\n",
      "dense_54 (Dense)             (None, 1)                 149       \n",
      "=================================================================\n",
      "Total params: 69,051\n",
      "Trainable params: 68,755\n",
      "Non-trainable params: 296\n",
      "_________________________________________________________________\n",
      "None\n"
     ]
    }
   ],
   "source": [
    "ann_24n_unisoftsigbinlosadam = ann_1h_24n(neurons=neurons,\n",
    "                                      encoded_train_x=train_x,\n",
    "                                      init_mode='uniform',\n",
    "                                      activation_input='softsign',\n",
    "                                      weight_constraint=5,\n",
    "                                      dropout_rate=0.0,\n",
    "                                      activation_output='sigmoid',\n",
    "                                      loss='binary_crossentropy',\n",
    "                                      optimizer='Adam')"
   ]
  },
  {
   "cell_type": "code",
   "execution_count": 127,
   "metadata": {},
   "outputs": [
    {
     "name": "stdout",
     "output_type": "stream",
     "text": [
      "Wed Jun 12 22:28:16 2019\n",
      "Train on 280496 samples, validate on 70124 samples\n",
      "Epoch 1/200\n",
      "280496/280496 [==============================] - 9s 31us/step - loss: 0.1200 - acc: 0.9455 - val_loss: 0.0634 - val_acc: 0.9712\n",
      "Epoch 2/200\n",
      "280496/280496 [==============================] - 7s 27us/step - loss: 0.0523 - acc: 0.9768 - val_loss: 0.0439 - val_acc: 0.9815\n",
      "Epoch 3/200\n",
      "280496/280496 [==============================] - 7s 27us/step - loss: 0.0354 - acc: 0.9856 - val_loss: 0.0420 - val_acc: 0.9862\n",
      "Epoch 4/200\n",
      "280496/280496 [==============================] - 7s 27us/step - loss: 0.0287 - acc: 0.9886 - val_loss: 0.0236 - val_acc: 0.9907\n",
      "Epoch 5/200\n",
      "280496/280496 [==============================] - 7s 27us/step - loss: 0.0238 - acc: 0.9904 - val_loss: 0.0166 - val_acc: 0.9943\n",
      "Epoch 6/200\n",
      "280496/280496 [==============================] - 7s 27us/step - loss: 0.0223 - acc: 0.9912 - val_loss: 0.0203 - val_acc: 0.9919\n",
      "Epoch 7/200\n",
      "280496/280496 [==============================] - 7s 27us/step - loss: 0.0204 - acc: 0.9917 - val_loss: 0.0197 - val_acc: 0.9931\n",
      "Epoch 8/200\n",
      "280496/280496 [==============================] - 7s 27us/step - loss: 0.0185 - acc: 0.9928 - val_loss: 0.0188 - val_acc: 0.9924\n",
      "Epoch 9/200\n",
      "280496/280496 [==============================] - 7s 26us/step - loss: 0.0164 - acc: 0.9935 - val_loss: 0.0141 - val_acc: 0.9947\n",
      "Epoch 10/200\n",
      "280496/280496 [==============================] - 8s 27us/step - loss: 0.0160 - acc: 0.9939 - val_loss: 0.0149 - val_acc: 0.9944\n",
      "Epoch 11/200\n",
      "280496/280496 [==============================] - 7s 27us/step - loss: 0.0144 - acc: 0.9943 - val_loss: 0.0111 - val_acc: 0.9959\n",
      "Epoch 12/200\n",
      "280496/280496 [==============================] - 7s 27us/step - loss: 0.0135 - acc: 0.9946 - val_loss: 0.0112 - val_acc: 0.9957\n",
      "Epoch 13/200\n",
      "280496/280496 [==============================] - 7s 26us/step - loss: 0.0141 - acc: 0.9945 - val_loss: 0.0167 - val_acc: 0.9924\n",
      "Epoch 14/200\n",
      "280496/280496 [==============================] - 7s 27us/step - loss: 0.0131 - acc: 0.9950 - val_loss: 0.0137 - val_acc: 0.9950\n",
      "Epoch 15/200\n",
      "280496/280496 [==============================] - 7s 27us/step - loss: 0.0112 - acc: 0.9956 - val_loss: 0.0180 - val_acc: 0.9930\n",
      "Epoch 16/200\n",
      "280496/280496 [==============================] - 7s 27us/step - loss: 0.0124 - acc: 0.9952 - val_loss: 0.0148 - val_acc: 0.9951\n",
      "--- ANN spent 121.31558537483215 seconds ---\n"
     ]
    }
   ],
   "source": [
    "hist_ann_24n_unisoftsigbinlosadam = ann_fit(checkpoint_file = \"ann_24n_unisoftsigbinlosadam_redds\"+str(dsnum)+\"bal.h5\",\n",
    "                                        ann = ann_24n_unisoftsigbinlosadam,\n",
    "                                        enc_train_x = train_x,\n",
    "                                        train_y = train_y,\n",
    "                                        epochs = 200,\n",
    "                                        shuffle = True,\n",
    "                                        batch_size = batch_size)"
   ]
  },
  {
   "cell_type": "code",
   "execution_count": 128,
   "metadata": {},
   "outputs": [
    {
     "name": "stdout",
     "output_type": "stream",
     "text": [
      "Best loss value: 0.012429231955431455\n"
     ]
    },
    {
     "data": {
      "image/png": "[encoded data removed]",
      "text/plain": [
       "<Figure size 432x288 with 1 Axes>"
      ]
     },
     "metadata": {
      "needs_background": "light"
     },
     "output_type": "display_data"
    }
   ],
   "source": [
    "best_loss_value_ann_24n_unisoftsigbinlosadam = plot_hist_auto(hist_ann_24n_unisoftsigbinlosadam, './Figures/ann_24_unisoftsigbinlosadam'+str(dsnum)+'.png')"
   ]
  },
  {
   "cell_type": "code",
   "execution_count": 129,
   "metadata": {},
   "outputs": [
    {
     "name": "stdout",
     "output_type": "stream",
     "text": [
      "Overall accuracy of Neural Network model: 0.9951264032125582\n",
      "              precision    recall  f1-score   support\n",
      "\n",
      "           0     0.9947    0.9955    0.9951     54737\n",
      "           1     0.9955    0.9947    0.9951     54833\n",
      "\n",
      "   micro avg     0.9951    0.9951    0.9951    109570\n",
      "   macro avg     0.9951    0.9951    0.9951    109570\n",
      "weighted avg     0.9951    0.9951    0.9951    109570\n",
      "\n"
     ]
    }
   ],
   "source": [
    "pred_ann_24n_prob_unisoftsigbinlosadam, pred_ann_24n_01_unisoftsigbinlosadam = ann_predict(ann_24n_unisoftsigbinlosadam,test_x)"
   ]
  },
  {
   "cell_type": "code",
   "execution_count": 130,
   "metadata": {},
   "outputs": [
    {
     "data": {
      "image/png": "[encoded data removed]",
      "text/plain": [
       "<Figure size 432x288 with 1 Axes>"
      ]
     },
     "metadata": {
      "needs_background": "light"
     },
     "output_type": "display_data"
    },
    {
     "data": {
      "image/png": "[encoded data removed]",
      "text/plain": [
       "<Figure size 576x432 with 2 Axes>"
      ]
     },
     "metadata": {
      "needs_background": "light"
     },
     "output_type": "display_data"
    }
   ],
   "source": [
    "plot_roc_cm(pred_ann_24n_01_unisoftsigbinlosadam, pred_ann_24n_01_unisoftsigbinlosadam, './Figures/ROC_ann_24n_unisoftsigbinlosadam_redds'+str(dsnum)+'bal.png', './Figures/CM_ann_24n_unisoftsigbinlosadam_redds'+str(dsnum)+'bal.png')"
   ]
  },
  {
   "cell_type": "code",
   "execution_count": 131,
   "metadata": {},
   "outputs": [],
   "source": [
    "from sklearn.ensemble import RandomForestClassifier"
   ]
  },
  {
   "cell_type": "code",
   "execution_count": 132,
   "metadata": {},
   "outputs": [],
   "source": [
    "clf = RandomForestClassifier(n_estimators=300, \n",
    "                             criterion='gini', \n",
    "                             max_depth=16, \n",
    "#                              min_samples_split=2, \n",
    "                             #min_samples_leaf=1, \n",
    "                             max_features=0.3, \n",
    "                             #bootstrap=True,\n",
    "                             oob_score=True,\n",
    "                             random_state=23)  "
   ]
  },
  {
   "cell_type": "code",
   "execution_count": 133,
   "metadata": {},
   "outputs": [
    {
     "name": "stdout",
     "output_type": "stream",
     "text": [
      "Wed Jun 12 22:30:21 2019\n",
      "--- 4067.303717851639 seconds ---\n",
      "              precision    recall  f1-score   support\n",
      "\n",
      "           0     0.9946    0.9978    0.9962     54737\n",
      "           1     0.9978    0.9945    0.9962     54833\n",
      "\n",
      "   micro avg     0.9962    0.9962    0.9962    109570\n",
      "   macro avg     0.9962    0.9962    0.9962    109570\n",
      "weighted avg     0.9962    0.9962    0.9962    109570\n",
      "\n"
     ]
    }
   ],
   "source": [
    "start_time = time.time()\n",
    "print(time.ctime(start_time))\n",
    "\n",
    "clf.fit(enc_train_x_asam, train_y)\n",
    "\n",
    "pred_y_RF = cross_val_predict(estimator=clf,\n",
    "                              X=np.array(enc_test_x_asam),\n",
    "                              y=test_y,\n",
    "                              cv=KFold(n_splits=5, random_state=23),\n",
    "                              n_jobs=2)\n",
    "\n",
    "elapsed_time = (time.time() - start_time)\n",
    "print(\"--- %s seconds ---\" %elapsed_time)\n",
    "\n",
    "print(sm.classification_report(test_y, pred_y_RF,digits=4))"
   ]
  },
  {
   "cell_type": "code",
   "execution_count": 134,
   "metadata": {},
   "outputs": [
    {
     "data": {
      "image/png": "[encoded data removed]",
      "text/plain": [
       "<Figure size 432x288 with 1 Axes>"
      ]
     },
     "metadata": {
      "needs_background": "light"
     },
     "output_type": "display_data"
    },
    {
     "data": {
      "image/png": "[encoded data removed]",
      "text/plain": [
       "<Figure size 576x432 with 2 Axes>"
      ]
     },
     "metadata": {
      "needs_background": "light"
     },
     "output_type": "display_data"
    }
   ],
   "source": [
    "plot_roc_cm(pred_y_RF, pred_y_RF, './Figures/ROC_rf_E100MaxfautoMaxdnoneBootT_redds'+str(dsnum)+'bal.png', './Figures/CM_rf_E100MaxfautoMaxdnoneBootT_redds'+str(dsnum)+'bal.png')"
   ]
  },
  {
   "cell_type": "code",
   "execution_count": null,
   "metadata": {},
   "outputs": [],
   "source": []
  },
  {
   "cell_type": "code",
   "execution_count": null,
   "metadata": {},
   "outputs": [],
   "source": []
  },
  {
   "cell_type": "code",
   "execution_count": null,
   "metadata": {},
   "outputs": [],
   "source": []
  }
 ],
 "metadata": {
  "kernelspec": {
   "display_name": "Python 3",
   "language": "python",
   "name": "python3"
  },
  "language_info": {
   "codemirror_mode": {
    "name": "ipython",
    "version": 3
   },
   "file_extension": ".py",
   "mimetype": "text/x-python",
   "name": "python",
   "nbconvert_exporter": "python",
   "pygments_lexer": "ipython3",
   "version": "3.6.8"
  }
 },
 "nbformat": 4,
 "nbformat_minor": 2
}
