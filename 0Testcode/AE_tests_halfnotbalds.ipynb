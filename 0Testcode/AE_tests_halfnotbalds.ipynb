{
 "cells": [
  {
   "cell_type": "code",
   "execution_count": 1,
   "metadata": {},
   "outputs": [],
   "source": [
    "import os\n",
    "os.environ[\"CUDA_DEVICE_ORDER\"]=\"PCI_BUS_ID\"\n",
    "os.environ[\"CUDA_VISIBLE_DEVICES\"]=\"0\""
   ]
  },
  {
   "cell_type": "code",
   "execution_count": 2,
   "metadata": {},
   "outputs": [
    {
     "name": "stderr",
     "output_type": "stream",
     "text": [
      "Using TensorFlow backend.\n"
     ]
    }
   ],
   "source": [
    "###################################\n",
    "# TensorFlow wizardry\n",
    "import tensorflow as tf\n",
    "config = tf.ConfigProto()\n",
    " \n",
    "# Don’t pre-allocate memory; allocate as-needed\n",
    "config.gpu_options.allow_growth = True\n",
    " \n",
    "# Only allow a total of half the GPU memory to be allocated\n",
    "config.gpu_options.per_process_gpu_memory_fraction = 0.05\n",
    "#gpu_options = tf.GPUOptions(per_process_gpu_memory_fraction=0.333)\n",
    " \n",
    "# Create a session with the above options specified.\n",
    "from keras import optimizers, regularizers\n",
    "from keras.layers.normalization import BatchNormalization\n",
    "from keras.utils import to_categorical\n",
    "from keras.wrappers.scikit_learn import KerasClassifier\n",
    "from keras import optimizers\n",
    "from keras.constraints import maxnorm\n",
    "from keras.callbacks import ModelCheckpoint, TensorBoard, EarlyStopping\n",
    "\n",
    "from keras.models import Sequential, Model, load_model\n",
    "from keras.layers import Activation, Dense, Dropout, Input\n",
    "from keras import backend as k\n",
    "\n",
    "k.tensorflow_backend.set_session(tf.Session(config=config))\n",
    "#k.tensorflow_backend.set_session(tf.Session(config=tf.ConfigProto(gpu_options=gpu_options))\n",
    "###################################"
   ]
  },
  {
   "cell_type": "code",
   "execution_count": 3,
   "metadata": {},
   "outputs": [],
   "source": [
    "#----------------------------------Import modules------------------------------\n",
    "import numpy as np\n",
    "import pandas as pd\n",
    "import matplotlib.pyplot as plt\n",
    "import seaborn as sns\n",
    "from sklearn.model_selection import train_test_split\n",
    "from sklearn.metrics import confusion_matrix,accuracy_score, roc_curve, auc\n",
    "from sklearn import preprocessing\n",
    "sns.set_style(\"whitegrid\")\n",
    "np.random.seed(23)\n",
    "import time\n",
    "from sklearn.model_selection import GridSearchCV\n",
    "import sklearn.metrics as sm\n",
    "from sklearn.model_selection import KFold\n",
    "from sklearn.model_selection import cross_val_predict\n"
   ]
  },
  {
   "cell_type": "code",
   "execution_count": 4,
   "metadata": {},
   "outputs": [
    {
     "name": "stdout",
     "output_type": "stream",
     "text": [
      "Default GPU Device: /device:GPU:0\n"
     ]
    }
   ],
   "source": [
    "if tf.test.gpu_device_name():\n",
    "    print('Default GPU Device: {}'.format(tf.test.gpu_device_name()))\n",
    "else:\n",
    "    print(\"Please install GPU version of TF\")"
   ]
  },
  {
   "cell_type": "code",
   "execution_count": 5,
   "metadata": {},
   "outputs": [],
   "source": [
    "pathds = '/home/user/01Code/00Datasets_final/'"
   ]
  },
  {
   "cell_type": "code",
   "execution_count": 6,
   "metadata": {},
   "outputs": [],
   "source": [
    "#df_chunk = pd.read_csv(pathds+'SubsetSamples4AE/HalfCloneID10notbal_norm.csv', chunksize=1000)\n",
    "#df = df_chunk.get_chunk(300000)\n",
    "df = pd.read_csv(pathds+'SubsetSamples4AE/HalfCloneID10notbal_norm.csv')"
   ]
  },
  {
   "cell_type": "code",
   "execution_count": 7,
   "metadata": {},
   "outputs": [
    {
     "data": {
      "text/plain": [
       "(400000, 49)"
      ]
     },
     "execution_count": 7,
     "metadata": {},
     "output_type": "execute_result"
    }
   ],
   "source": [
    "df.shape"
   ]
  },
  {
   "cell_type": "markdown",
   "metadata": {},
   "source": [
    "#### 4.2 Explaining the data"
   ]
  },
  {
   "cell_type": "code",
   "execution_count": 8,
   "metadata": {},
   "outputs": [
    {
     "name": "stdout",
     "output_type": "stream",
     "text": [
      "Class 0: 301288\n",
      "Class 1: 98712\n",
      "Proportion: 3.052 : 1\n"
     ]
    }
   ],
   "source": [
    "#if you don't have an intuitive sense of how imbalanced these two classes are, let's go visual\n",
    "count_classes = pd.value_counts(df['class'], sort = True)\n",
    "print('Class 0:', count_classes[0])\n",
    "print('Class 1:', count_classes[1])\n",
    "print('Proportion:', round(count_classes[0] / count_classes[1], 3), ': 1')"
   ]
  },
  {
   "cell_type": "code",
   "execution_count": 9,
   "metadata": {},
   "outputs": [
    {
     "data": {
      "image/png": "[encoded data removed]",
      "text/plain": [
       "<Figure size 432x288 with 1 Axes>"
      ]
     },
     "metadata": {
      "needs_background": "light"
     },
     "output_type": "display_data"
    }
   ],
   "source": [
    "count_classes.plot(kind = 'bar', rot=0)\n",
    "plt.xticks(range(2), ['Normal [0]','Malicious [1]'])\n",
    "plt.title(\"Frequency by observation number\")\n",
    "plt.xlabel(\"Class\")\n",
    "plt.ylabel(\"Number of Observations\");"
   ]
  },
  {
   "cell_type": "code",
   "execution_count": 10,
   "metadata": {},
   "outputs": [],
   "source": [
    "#set random seed and percentage of test data\n",
    "RANDOM_SEED = 23 #used to help randomly select the data points\n",
    "TEST_PCT = 0.20 # 20% of the data"
   ]
  },
  {
   "cell_type": "code",
   "execution_count": 11,
   "metadata": {},
   "outputs": [],
   "source": [
    "train, test_df = train_test_split(df, test_size=TEST_PCT, random_state=RANDOM_SEED)"
   ]
  },
  {
   "cell_type": "markdown",
   "metadata": {},
   "source": [
    "+ df -> original dataset \n",
    "+ train -> subset of 80% from original dataset \n",
    "+ test_df -> subset of 20% from original dataset "
   ]
  },
  {
   "cell_type": "code",
   "execution_count": 12,
   "metadata": {},
   "outputs": [],
   "source": [
    "train_df, dev_df = train_test_split(train, test_size=TEST_PCT, random_state=RANDOM_SEED)"
   ]
  },
  {
   "cell_type": "markdown",
   "metadata": {},
   "source": [
    "+ train -> subset of 80% from original dataset \n",
    "+ train_df -> subset of 80% from train\n",
    "+ dev_df -> subset of 20% from train"
   ]
  },
  {
   "cell_type": "code",
   "execution_count": 13,
   "metadata": {},
   "outputs": [
    {
     "name": "stdout",
     "output_type": "stream",
     "text": [
      "0.24702734375\n",
      "0.24565625\n",
      "0.2468875\n"
     ]
    }
   ],
   "source": [
    "# Check distribution of mal samples in train and test set\n",
    "print(train_df.iloc[:, 48].sum()/train_df.shape[0]) \n",
    "print(dev_df.iloc[:, 48].sum()/dev_df.shape[0]) \n",
    "print(test_df.iloc[:, 48].sum()/test_df.shape[0])"
   ]
  },
  {
   "cell_type": "code",
   "execution_count": 14,
   "metadata": {},
   "outputs": [],
   "source": [
    "train_x = train_df.iloc[:, :48] \n",
    "dev_x = dev_df.iloc[:, :48] \n",
    "test_x = test_df.iloc[:, :48] "
   ]
  },
  {
   "cell_type": "markdown",
   "metadata": {},
   "source": [
    "+ train_x -> features of train_df **Training subset for AE**\n",
    "+ dev_x -> features of dev_df **Validation subset for AE**\n",
    "+ test_x -> features of test_df **Testing subset for ANN**"
   ]
  },
  {
   "cell_type": "code",
   "execution_count": 15,
   "metadata": {},
   "outputs": [],
   "source": [
    "# Define the final train and test sets\n",
    "train_y = train_df.iloc[:, 48]\n",
    "dev_y = dev_df.iloc[:, 48]\n",
    "test_y = test_df.iloc[:, 48]"
   ]
  },
  {
   "cell_type": "markdown",
   "metadata": {},
   "source": [
    "+ train_y -> **Labels for supervised training of ANN**\n",
    "+ dev_y -> labels of dev_df  *not used for AE neither ANN*\n",
    "+ test_y -> labels of test_df  **Ground Truth for predictions of supervised ANN**"
   ]
  },
  {
   "cell_type": "code",
   "execution_count": 16,
   "metadata": {},
   "outputs": [
    {
     "name": "stdout",
     "output_type": "stream",
     "text": [
      "48\n"
     ]
    }
   ],
   "source": [
    "train_x =np.array(train_x)\n",
    "dev_x =np.array(dev_x)\n",
    "test_x = np.array(test_x)\n",
    "\n",
    "train_y = np.array(train_y)\n",
    "dev_y = np.array(dev_y)\n",
    "test_y = np.array(test_y)\n",
    "\n",
    "print(train_x.shape[1])"
   ]
  },
  {
   "cell_type": "markdown",
   "metadata": {},
   "source": [
    "### Autoencoder Function"
   ]
  },
  {
   "cell_type": "markdown",
   "metadata": {},
   "source": [
    "encoding_dim - 2\n",
    "\n",
    "Epoch 94/300 78596/78596 [==============================] - 10s 125us/step \n",
    "- loss: 3.8990e-05 - acc: 0.0237 - \n",
    "        val_loss: 3.9704e-05 - val_acc: 0.0236"
   ]
  },
  {
   "cell_type": "code",
   "execution_count": 17,
   "metadata": {},
   "outputs": [],
   "source": [
    "def ae(factor_enc_dim, output_activation, \n",
    "                optimizer, loss):\n",
    "\n",
    "    encoding_dim = int(int(train_x.shape[1])/factor_enc_dim)\n",
    "    ### Define input layer\n",
    "    input_data = Input(shape=(train_x.shape[1],))\n",
    "    ### Define encoding layer\n",
    "    encoded = Dense(encoding_dim, activation='relu', name='encoded_bottle_neck')(input_data)\n",
    "    ### Define decoding layer\n",
    "    decoded = Dense(train_x.shape[1], activation=output_activation)(encoded)\n",
    "    ### Create the autoencoder model\n",
    "    autoencoder = Model(input_data, decoded)\n",
    "    autoencoder.compile(optimizer=optimizer,\n",
    "                        loss=loss,\n",
    "                        metrics=['accuracy'])\n",
    "    \n",
    "    print(autoencoder.summary())\n",
    "    \n",
    "    encoder = Model(input_data, encoded)\n",
    "    encoded_train_x = encoder.predict(train_x)\n",
    "    encoded_test_x = encoder.predict(test_x)\n",
    "    \n",
    "    return autoencoder,encoded_train_x,encoded_test_x"
   ]
  },
  {
   "cell_type": "code",
   "execution_count": 18,
   "metadata": {},
   "outputs": [],
   "source": [
    "def sae(factor_enc_dim, output_activation,\n",
    "        optimizer, loss):\n",
    "\n",
    "    encoding_dim = int(int(train_x.shape[1])/factor_enc_dim)\n",
    "    ### Define input layer\n",
    "    input_data = Input(shape=(train_x.shape[1],))\n",
    "    ### Define encoding layer\n",
    "    encoded = Dense(encoding_dim, activation='relu', name='input_layer')(input_data)\n",
    "    encoded = Dense(int(encoding_dim/2), activation='relu')(encoded) ##Stacked AE\n",
    "    encoded_bottle_neck = Dense(int(encoding_dim/4), activation='relu', name='enc_bottle_neck')(encoded) ##Stacked AE\n",
    "    \n",
    "    ### Define decoding layer\n",
    "    decoded = Dense(int(encoding_dim/2), activation='relu')(encoded_bottle_neck) ##Stacked AE\n",
    "    decoded = Dense(encoding_dim, activation='relu')(decoded) ##Stacked AE\n",
    "    decoded = Dense(train_x.shape[1], activation=output_activation)(decoded)\n",
    "    \n",
    "    ### Create the autoencoder model\n",
    "    sae = Model(input_data, decoded)\n",
    "    sae.compile(optimizer=optimizer,\n",
    "                loss=loss,\n",
    "                metrics=['accuracy'])\n",
    "    \n",
    "    print(sae.summary())\n",
    "\n",
    "    encoder = Model(input_data, encoded_bottle_neck)\n",
    "    encoded_train_x = encoder.predict(train_x)\n",
    "    encoded_test_x = encoder.predict(test_x)\n",
    "    \n",
    "    return sae,encoded_train_x,encoded_test_x"
   ]
  },
  {
   "cell_type": "code",
   "execution_count": 19,
   "metadata": {},
   "outputs": [],
   "source": [
    "def spae(factor_enc_dim, output_activation, \n",
    "                optimizer, loss):\n",
    "\n",
    "    encoding_dim = int(int(train_x.shape[1])/factor_enc_dim)\n",
    "    ### Define input layer\n",
    "    input_data = Input(shape=(train_x.shape[1],))\n",
    "    ### Define encoding layer\n",
    "    encoded = Dense(encoding_dim, activity_regularizer=regularizers.l1(1e-4), activation='relu', name='encoded_bottle_neck')(input_data)\n",
    "    ### Define decoding layer\n",
    "    decoded = Dense(train_x.shape[1], activation=output_activation)(encoded)\n",
    "    ### Create the autoencoder model\n",
    "    autoencoder = Model(input_data, decoded)\n",
    "    autoencoder.compile(optimizer=optimizer,\n",
    "                        loss=loss,\n",
    "                        metrics=['accuracy'])\n",
    "    \n",
    "    print(autoencoder.summary())\n",
    "    \n",
    "    encoder = Model(input_data, encoded)\n",
    "    encoded_train_x = encoder.predict(train_x)\n",
    "    encoded_test_x = encoder.predict(test_x)\n",
    "    \n",
    "    return autoencoder,encoded_train_x,encoded_test_x"
   ]
  },
  {
   "cell_type": "code",
   "execution_count": null,
   "metadata": {},
   "outputs": [],
   "source": []
  },
  {
   "cell_type": "code",
   "execution_count": 20,
   "metadata": {},
   "outputs": [],
   "source": [
    "def fit_ae(checkpoint_file, autoencoder,\n",
    "           epochs, batch_size, shuffle):\n",
    "    \n",
    "    early_stopping = EarlyStopping(monitor='val_loss', patience=5)\n",
    "\n",
    "    cp = ModelCheckpoint(filepath=checkpoint_file,\n",
    "                                   save_best_only=True,\n",
    "                                   verbose=0)\n",
    "\n",
    "    tb = TensorBoard(log_dir='./logs',\n",
    "                    histogram_freq=0,\n",
    "                    write_graph=True,\n",
    "                    write_images=True)\n",
    "\n",
    "    start_time = time.time()\n",
    "    print(time.ctime(start_time))\n",
    "\n",
    "    hist_auto = autoencoder.fit(train_x, train_x,\n",
    "                    epochs=epochs,\n",
    "                    batch_size=batch_size,\n",
    "                    shuffle=shuffle,\n",
    "                    verbose=1,\n",
    "                    callbacks=[early_stopping, cp, tb],\n",
    "                    validation_data=(dev_x, dev_x))\n",
    "\n",
    "    elapsed_time = (time.time() - start_time)\n",
    "    print(\"--- AE spent %s seconds ---\" % elapsed_time)\n",
    "    \n",
    "    return hist_auto"
   ]
  },
  {
   "cell_type": "code",
   "execution_count": 21,
   "metadata": {},
   "outputs": [],
   "source": [
    "def plot_hist_auto(hist_auto, fig_file):\n",
    "    best_loss_value = hist_auto.history['loss'][-1]\n",
    "    print('Best loss value:', best_loss_value)\n",
    "\n",
    "    # Summarize history for loss\n",
    "    plt.figure()\n",
    "    plt.plot(hist_auto.history['loss'])\n",
    "    plt.plot(hist_auto.history['val_loss'])\n",
    "    plt.title('Autoencoder model loss')\n",
    "    plt.ylabel('loss')\n",
    "    plt.xlabel('epoch')\n",
    "    plt.legend(['train', 'test'], loc='upper right')\n",
    "    plt.savefig(fig_file)\n",
    "    plt.show()\n",
    "    \n",
    "    return best_loss_value"
   ]
  },
  {
   "cell_type": "code",
   "execution_count": 22,
   "metadata": {},
   "outputs": [],
   "source": [
    "def ann_2h(neurons,encoded_train_x,init_mode,activation_input,\n",
    "               weight_constraint,dropout_rate,activation_output,\n",
    "               loss,optimizer):\n",
    "\n",
    "    # create model\n",
    "    model = Sequential()\n",
    "\n",
    "    model.add(Dense(neurons, input_dim=encoded_train_x.shape[1],\n",
    "                    kernel_initializer=init_mode,\n",
    "                    #kernel_regularizer=regularizers.l2(0.02), #from example\n",
    "                    activation=activation_input,\n",
    "                    kernel_constraint=maxnorm(weight_constraint)\n",
    "                    )\n",
    "              )\n",
    "\n",
    "#     #Hidden Layer\n",
    "    model.add(Dense(36, activation=\"relu\", kernel_initializer=init_mode)) #rezvy\n",
    "\n",
    "    model.add(Dense(24, activation=\"relu\", kernel_initializer=init_mode)) #rezvy\n",
    "    model.add(BatchNormalization()) #commented for ex\n",
    "    model.add(Dropout(dropout_rate))\n",
    "    \n",
    "    model.add(Dense(1, activation=activation_output)) #example\n",
    "    \n",
    "    # Compile model\n",
    "    model.compile(loss=loss, \n",
    "                  optimizer=optimizer, \n",
    "                  metrics=['accuracy'])\n",
    "    \n",
    "    print(model.summary())\n",
    "    \n",
    "    return model"
   ]
  },
  {
   "cell_type": "code",
   "execution_count": 23,
   "metadata": {},
   "outputs": [],
   "source": [
    "def ann_1h_36n(neurons,encoded_train_x,init_mode,activation_input,\n",
    "               weight_constraint,dropout_rate,activation_output,\n",
    "               loss,optimizer):\n",
    "\n",
    "    # create model\n",
    "    model = Sequential()\n",
    "\n",
    "    model.add(Dense(neurons, input_dim=encoded_train_x.shape[1],\n",
    "                    kernel_initializer=init_mode,\n",
    "                    #kernel_regularizer=regularizers.l2(0.02), #from example\n",
    "                    activation=activation_input,\n",
    "                    kernel_constraint=maxnorm(weight_constraint)\n",
    "                    )\n",
    "              )\n",
    "\n",
    "#     #Hidden Layer\n",
    "    model.add(Dense(36, activation=\"relu\", kernel_initializer=init_mode)) #rezvy\n",
    "    model.add(BatchNormalization()) #commented for ex\n",
    "    model.add(Dropout(dropout_rate))\n",
    "    \n",
    "    model.add(Dense(1, activation=activation_output)) #example\n",
    "    \n",
    "    # Compile model\n",
    "    model.compile(loss=loss, \n",
    "                  optimizer=optimizer, \n",
    "                  metrics=['accuracy'])\n",
    "    \n",
    "    print(model.summary())\n",
    "    \n",
    "    return model"
   ]
  },
  {
   "cell_type": "code",
   "execution_count": 24,
   "metadata": {},
   "outputs": [],
   "source": [
    "def ann_1h_24n(neurons,encoded_train_x,init_mode,activation_input,\n",
    "               weight_constraint,dropout_rate,activation_output,\n",
    "               loss,optimizer):\n",
    "\n",
    "    # create model\n",
    "    model = Sequential()\n",
    "\n",
    "    model.add(Dense(neurons, input_dim=encoded_train_x.shape[1],\n",
    "                    kernel_initializer=init_mode,\n",
    "                    #kernel_regularizer=regularizers.l2(0.02), #from example\n",
    "                    activation=activation_input,\n",
    "                    kernel_constraint=maxnorm(weight_constraint)\n",
    "                    )\n",
    "              )\n",
    "\n",
    "#     #Hidden Layer\n",
    "    model.add(Dense(24, activation=\"relu\", kernel_initializer=init_mode)) #rezvy\n",
    "    model.add(BatchNormalization()) #commented for ex\n",
    "    model.add(Dropout(dropout_rate))\n",
    "    \n",
    "    model.add(Dense(1, activation=activation_output)) #example\n",
    "    \n",
    "    # Compile model\n",
    "    model.compile(loss=loss, \n",
    "                  optimizer=optimizer, \n",
    "                  metrics=['accuracy'])\n",
    "    \n",
    "    print(model.summary())\n",
    "    \n",
    "    return model"
   ]
  },
  {
   "cell_type": "code",
   "execution_count": 25,
   "metadata": {},
   "outputs": [],
   "source": [
    "def ann_fit(checkpoint_file,ann,enc_train_x,train_y,epochs,shuffle,batch_size):\n",
    "    early_stopping = EarlyStopping(monitor='val_loss', patience=5)\n",
    "\n",
    "    cp = ModelCheckpoint(filepath=checkpoint_file,\n",
    "                                   save_best_only=True,\n",
    "                                   verbose=0)\n",
    "\n",
    "    tb = TensorBoard(log_dir='./logs',\n",
    "                    histogram_freq=0,\n",
    "                    write_graph=True,\n",
    "                    write_images=True)\n",
    "\n",
    "    start_time = time.time()\n",
    "    print(time.ctime(start_time))\n",
    "\n",
    "    history = ann.fit(enc_train_x,\n",
    "                      train_y,\n",
    "                      validation_split=0.2,\n",
    "                      callbacks=[early_stopping],\n",
    "                      epochs=epochs,\n",
    "                      shuffle=shuffle,\n",
    "                      batch_size=batch_size,\n",
    "                      verbose=1)\n",
    "\n",
    "    elapsed_time = (time.time() - start_time)\n",
    "    print(\"--- ANN spent %s seconds ---\" % elapsed_time)\n",
    "\n",
    "    return history"
   ]
  },
  {
   "cell_type": "code",
   "execution_count": 26,
   "metadata": {},
   "outputs": [],
   "source": [
    "def ann_predict(ann,enc_test_x):\n",
    "    pred_ann_prob = ann.predict(enc_test_x)\n",
    "    pred_ann_prob.shape\n",
    "    pred_ann_prob = pred_ann_prob[:,0]\n",
    "    pred_ann_01 = np.where(pred_ann_prob > 0.5, 1, 0)\n",
    "    \n",
    "    #Print accuracy\n",
    "    acc_ann = accuracy_score(test_y, pred_ann_01)\n",
    "    print('Overall accuracy of Neural Network model:', acc_ann)\n",
    "\n",
    "    classiBM = \"NN\"\n",
    "    preBM = (sm.precision_score(test_y, pred_ann_01)*100) \n",
    "    recallBM = (sm.recall_score(test_y, pred_ann_01)*100) \n",
    "    f1scoreBM = (sm.f1_score(test_y, pred_ann_01)*100)\n",
    "    print(sm.classification_report(test_y, pred_ann_01))\n",
    "    \n",
    "    return pred_ann_prob, pred_ann_01"
   ]
  },
  {
   "cell_type": "code",
   "execution_count": 27,
   "metadata": {},
   "outputs": [],
   "source": [
    "def plot_roc_cm(pred_ann_prob, pred_ann_01, roc_file, cm_file):\n",
    "    false_positive_rate, recall, thresholds = roc_curve(test_y, pred_ann_prob)\n",
    "    roc_auc = auc(false_positive_rate, recall)\n",
    "    plt.figure()\n",
    "    plt.title('Receiver Operating Characteristic (ROC)')\n",
    "    plt.plot(false_positive_rate, recall, 'b', label = 'AUC = %0.3f' %roc_auc)\n",
    "    plt.legend(loc='lower right')\n",
    "    plt.plot([0,1], [0,1], 'r--')\n",
    "    plt.xlim([0.0,1.0])\n",
    "    plt.ylim([0.0,1.0])\n",
    "    plt.ylabel('Recall')\n",
    "    plt.xlabel('Fall-out (1-Specificity)')\n",
    "    plt.savefig(roc_file)\n",
    "    plt.show()\n",
    "    \n",
    "    cm = confusion_matrix(test_y, pred_ann_01)\n",
    "    labels = ['Normal', 'Malicious']\n",
    "    plt.figure(figsize=(8,6))\n",
    "    sns.heatmap(cm,xticklabels=labels, yticklabels=labels, annot=True, fmt='d', cmap=\"RdYlGn\", vmin = 0.2);\n",
    "    plt.title('Confusion Matrix')\n",
    "    plt.ylabel('True Class')\n",
    "    plt.xlabel('Predicted Class')\n",
    "    plt.savefig(cm_file)\n",
    "    plt.show()\n",
    "    "
   ]
  },
  {
   "cell_type": "code",
   "execution_count": 28,
   "metadata": {},
   "outputs": [
    {
     "name": "stdout",
     "output_type": "stream",
     "text": [
      "WARNING:tensorflow:From /home/user/anaconda3/envs/deepl/lib/python3.6/site-packages/tensorflow/python/framework/op_def_library.py:263: colocate_with (from tensorflow.python.framework.ops) is deprecated and will be removed in a future version.\n",
      "Instructions for updating:\n",
      "Colocations handled automatically by placer.\n",
      "_________________________________________________________________\n",
      "Layer (type)                 Output Shape              Param #   \n",
      "=================================================================\n",
      "input_1 (InputLayer)         (None, 48)                0         \n",
      "_________________________________________________________________\n",
      "encoded_bottle_neck (Dense)  (None, 32)                1568      \n",
      "_________________________________________________________________\n",
      "dense_1 (Dense)              (None, 48)                1584      \n",
      "=================================================================\n",
      "Total params: 3,152\n",
      "Trainable params: 3,152\n",
      "Non-trainable params: 0\n",
      "_________________________________________________________________\n",
      "None\n"
     ]
    }
   ],
   "source": [
    "ae_sigmoid_adam_logcosh,enc_train_x_asal,enc_test_x_asal = ae(factor_enc_dim = 1.5,\n",
    "                                                              output_activation = 'sigmoid',\n",
    "                                                              optimizer='Adam',\n",
    "                                                              loss='logcosh')"
   ]
  },
  {
   "cell_type": "code",
   "execution_count": 29,
   "metadata": {},
   "outputs": [],
   "source": [
    "#ae_sigmoid_adam_logcosh = load_model('ae_sigmoid_adam_logcosh_redds10bal.h5')"
   ]
  },
  {
   "cell_type": "code",
   "execution_count": 30,
   "metadata": {},
   "outputs": [
    {
     "name": "stdout",
     "output_type": "stream",
     "text": [
      "Tue Jun  4 20:44:20 2019\n",
      "WARNING:tensorflow:From /home/user/anaconda3/envs/deepl/lib/python3.6/site-packages/tensorflow/python/ops/math_ops.py:3066: to_int32 (from tensorflow.python.ops.math_ops) is deprecated and will be removed in a future version.\n",
      "Instructions for updating:\n",
      "Use tf.cast instead.\n",
      "Train on 256000 samples, validate on 64000 samples\n",
      "Epoch 1/200\n",
      "256000/256000 [==============================] - 17s 65us/step - loss: 0.0034 - acc: 0.0295 - val_loss: 1.1949e-04 - val_acc: 0.0719\n",
      "Epoch 2/200\n",
      "256000/256000 [==============================] - 15s 61us/step - loss: 6.1779e-05 - acc: 0.0862 - val_loss: 4.2881e-05 - val_acc: 0.0860\n",
      "Epoch 3/200\n",
      "256000/256000 [==============================] - 14s 53us/step - loss: 4.1166e-05 - acc: 0.0917 - val_loss: 4.0791e-05 - val_acc: 0.0835\n",
      "Epoch 4/200\n",
      "256000/256000 [==============================] - 13s 52us/step - loss: 4.0164e-05 - acc: 0.0748 - val_loss: 4.0291e-05 - val_acc: 0.0729\n",
      "Epoch 5/200\n",
      "256000/256000 [==============================] - 14s 54us/step - loss: 3.9852e-05 - acc: 0.0634 - val_loss: 4.0045e-05 - val_acc: 0.0635\n",
      "Epoch 6/200\n",
      "256000/256000 [==============================] - 13s 53us/step - loss: 3.9596e-05 - acc: 0.0590 - val_loss: 3.9893e-05 - val_acc: 0.0585\n",
      "Epoch 7/200\n",
      "256000/256000 [==============================] - 13s 53us/step - loss: 3.9372e-05 - acc: 0.0546 - val_loss: 3.9729e-05 - val_acc: 0.0528\n",
      "Epoch 8/200\n",
      "256000/256000 [==============================] - 14s 54us/step - loss: 3.9149e-05 - acc: 0.0504 - val_loss: 3.9577e-05 - val_acc: 0.0507\n",
      "Epoch 9/200\n",
      "256000/256000 [==============================] - 14s 54us/step - loss: 3.8907e-05 - acc: 0.0466 - val_loss: 3.9358e-05 - val_acc: 0.0449\n",
      "Epoch 10/200\n",
      "256000/256000 [==============================] - 14s 53us/step - loss: 3.8609e-05 - acc: 0.0437 - val_loss: 3.9057e-05 - val_acc: 0.0427\n",
      "Epoch 11/200\n",
      "256000/256000 [==============================] - 14s 55us/step - loss: 3.8181e-05 - acc: 0.0422 - val_loss: 3.8577e-05 - val_acc: 0.0431\n",
      "Epoch 12/200\n",
      "256000/256000 [==============================] - 14s 54us/step - loss: 3.7614e-05 - acc: 0.0405 - val_loss: 3.8098e-05 - val_acc: 0.0390\n",
      "Epoch 13/200\n",
      "256000/256000 [==============================] - 14s 55us/step - loss: 3.7192e-05 - acc: 0.0391 - val_loss: 3.7905e-05 - val_acc: 0.0365\n",
      "Epoch 14/200\n",
      "256000/256000 [==============================] - 14s 55us/step - loss: 3.6926e-05 - acc: 0.0341 - val_loss: 3.7764e-05 - val_acc: 0.0290\n",
      "Epoch 15/200\n",
      "256000/256000 [==============================] - 14s 54us/step - loss: 3.6494e-05 - acc: 0.0229 - val_loss: 3.7073e-05 - val_acc: 0.0155\n",
      "Epoch 16/200\n",
      "256000/256000 [==============================] - 14s 55us/step - loss: 3.5605e-05 - acc: 0.0133 - val_loss: 3.6142e-05 - val_acc: 0.0099\n",
      "Epoch 17/200\n",
      "256000/256000 [==============================] - 14s 56us/step - loss: 3.2816e-05 - acc: 0.0089 - val_loss: 2.8934e-05 - val_acc: 0.0148\n",
      "Epoch 18/200\n",
      "256000/256000 [==============================] - 14s 54us/step - loss: 2.6945e-05 - acc: 0.0141 - val_loss: 2.6839e-05 - val_acc: 0.0151\n",
      "Epoch 19/200\n",
      "256000/256000 [==============================] - 14s 55us/step - loss: 2.5992e-05 - acc: 0.0152 - val_loss: 2.6483e-05 - val_acc: 0.0181\n",
      "Epoch 20/200\n",
      "256000/256000 [==============================] - 14s 56us/step - loss: 2.5736e-05 - acc: 0.0181 - val_loss: 2.6337e-05 - val_acc: 0.0230\n",
      "Epoch 21/200\n",
      "256000/256000 [==============================] - 14s 55us/step - loss: 2.5617e-05 - acc: 0.0224 - val_loss: 2.6202e-05 - val_acc: 0.0286\n",
      "Epoch 22/200\n",
      "256000/256000 [==============================] - 14s 55us/step - loss: 2.5415e-05 - acc: 0.0258 - val_loss: 2.5819e-05 - val_acc: 0.0297\n",
      "Epoch 23/200\n",
      "256000/256000 [==============================] - 14s 56us/step - loss: 2.5234e-05 - acc: 0.0272 - val_loss: 2.5710e-05 - val_acc: 0.0308\n",
      "Epoch 24/200\n",
      "256000/256000 [==============================] - 14s 55us/step - loss: 2.5173e-05 - acc: 0.0276 - val_loss: 2.5642e-05 - val_acc: 0.0311\n",
      "Epoch 25/200\n",
      "256000/256000 [==============================] - 14s 55us/step - loss: 2.5128e-05 - acc: 0.0281 - val_loss: 2.5604e-05 - val_acc: 0.0318\n",
      "Epoch 26/200\n",
      "256000/256000 [==============================] - 14s 56us/step - loss: 2.5091e-05 - acc: 0.0283 - val_loss: 2.5559e-05 - val_acc: 0.0305\n",
      "Epoch 27/200\n",
      "256000/256000 [==============================] - 14s 55us/step - loss: 2.5052e-05 - acc: 0.0295 - val_loss: 2.5530e-05 - val_acc: 0.0346\n",
      "Epoch 28/200\n",
      "256000/256000 [==============================] - 14s 55us/step - loss: 2.5016e-05 - acc: 0.0324 - val_loss: 2.5495e-05 - val_acc: 0.0353\n",
      "Epoch 29/200\n",
      "256000/256000 [==============================] - 14s 56us/step - loss: 2.4956e-05 - acc: 0.0320 - val_loss: 2.5370e-05 - val_acc: 0.0305\n",
      "Epoch 30/200\n",
      "256000/256000 [==============================] - 14s 55us/step - loss: 2.3963e-05 - acc: 0.0313 - val_loss: 2.4133e-05 - val_acc: 0.0332\n",
      "Epoch 31/200\n",
      "256000/256000 [==============================] - 14s 55us/step - loss: 2.2791e-05 - acc: 0.0319 - val_loss: 2.2767e-05 - val_acc: 0.0335\n",
      "Epoch 32/200\n",
      "256000/256000 [==============================] - 14s 55us/step - loss: 2.1086e-05 - acc: 0.0321 - val_loss: 2.0621e-05 - val_acc: 0.0325\n",
      "Epoch 33/200\n",
      "256000/256000 [==============================] - 14s 55us/step - loss: 1.8932e-05 - acc: 0.0322 - val_loss: 1.8954e-05 - val_acc: 0.0330\n",
      "Epoch 34/200\n",
      "256000/256000 [==============================] - 14s 55us/step - loss: 1.7956e-05 - acc: 0.0325 - val_loss: 1.8431e-05 - val_acc: 0.0327\n",
      "Epoch 35/200\n",
      "256000/256000 [==============================] - 14s 56us/step - loss: 1.7651e-05 - acc: 0.0318 - val_loss: 1.8283e-05 - val_acc: 0.0310\n",
      "Epoch 36/200\n",
      "256000/256000 [==============================] - 14s 54us/step - loss: 1.7525e-05 - acc: 0.0304 - val_loss: 1.8303e-05 - val_acc: 0.0296\n",
      "Epoch 37/200\n",
      "256000/256000 [==============================] - 14s 54us/step - loss: 1.7461e-05 - acc: 0.0292 - val_loss: 1.8161e-05 - val_acc: 0.0288\n",
      "Epoch 38/200\n",
      "256000/256000 [==============================] - 14s 55us/step - loss: 1.7410e-05 - acc: 0.0280 - val_loss: 1.8031e-05 - val_acc: 0.0283\n",
      "Epoch 39/200\n",
      "256000/256000 [==============================] - 14s 54us/step - loss: 1.7353e-05 - acc: 0.0277 - val_loss: 1.7979e-05 - val_acc: 0.0266\n",
      "Epoch 40/200\n",
      "256000/256000 [==============================] - 14s 54us/step - loss: 1.7306e-05 - acc: 0.0269 - val_loss: 1.7952e-05 - val_acc: 0.0260\n",
      "Epoch 41/200\n",
      "256000/256000 [==============================] - 14s 55us/step - loss: 1.7256e-05 - acc: 0.0255 - val_loss: 1.7911e-05 - val_acc: 0.0241\n",
      "Epoch 42/200\n",
      "256000/256000 [==============================] - 14s 54us/step - loss: 1.7212e-05 - acc: 0.0247 - val_loss: 1.7904e-05 - val_acc: 0.0236\n",
      "Epoch 43/200\n",
      "256000/256000 [==============================] - 14s 54us/step - loss: 1.7142e-05 - acc: 0.0243 - val_loss: 1.7802e-05 - val_acc: 0.0241\n",
      "Epoch 44/200\n",
      "256000/256000 [==============================] - 12s 47us/step - loss: 1.7062e-05 - acc: 0.0247 - val_loss: 1.7688e-05 - val_acc: 0.0240\n",
      "Epoch 45/200\n",
      "256000/256000 [==============================] - 14s 54us/step - loss: 1.6995e-05 - acc: 0.0243 - val_loss: 1.7650e-05 - val_acc: 0.0245\n",
      "Epoch 46/200\n",
      "256000/256000 [==============================] - 14s 54us/step - loss: 1.6943e-05 - acc: 0.0240 - val_loss: 1.7593e-05 - val_acc: 0.0233\n",
      "Epoch 47/200\n",
      "256000/256000 [==============================] - 14s 54us/step - loss: 1.6902e-05 - acc: 0.0238 - val_loss: 1.7559e-05 - val_acc: 0.0231\n",
      "Epoch 48/200\n",
      "256000/256000 [==============================] - 14s 54us/step - loss: 1.6868e-05 - acc: 0.0236 - val_loss: 1.7559e-05 - val_acc: 0.0231\n",
      "Epoch 49/200\n",
      "256000/256000 [==============================] - 14s 54us/step - loss: 1.6836e-05 - acc: 0.0234 - val_loss: 1.7576e-05 - val_acc: 0.0225\n",
      "Epoch 50/200\n",
      "256000/256000 [==============================] - 14s 55us/step - loss: 1.6806e-05 - acc: 0.0230 - val_loss: 1.7593e-05 - val_acc: 0.0220\n",
      "Epoch 51/200\n",
      "256000/256000 [==============================] - 14s 55us/step - loss: 1.6785e-05 - acc: 0.0225 - val_loss: 1.7592e-05 - val_acc: 0.0217\n",
      "Epoch 52/200\n",
      "256000/256000 [==============================] - 14s 56us/step - loss: 1.6763e-05 - acc: 0.0219 - val_loss: 1.7576e-05 - val_acc: 0.0209\n",
      "Epoch 53/200\n",
      "256000/256000 [==============================] - 14s 56us/step - loss: 1.6732e-05 - acc: 0.0213 - val_loss: 1.7539e-05 - val_acc: 0.0203\n",
      "Epoch 54/200\n",
      "256000/256000 [==============================] - 14s 56us/step - loss: 1.6675e-05 - acc: 0.0211 - val_loss: 1.7480e-05 - val_acc: 0.0211\n",
      "Epoch 55/200\n",
      "256000/256000 [==============================] - 14s 56us/step - loss: 1.6613e-05 - acc: 0.0212 - val_loss: 1.7472e-05 - val_acc: 0.0213\n",
      "Epoch 56/200\n",
      "256000/256000 [==============================] - 14s 56us/step - loss: 1.6504e-05 - acc: 0.0218 - val_loss: 1.7521e-05 - val_acc: 0.0215\n",
      "Epoch 57/200\n",
      "256000/256000 [==============================] - 14s 57us/step - loss: 1.6426e-05 - acc: 0.0219 - val_loss: 1.7517e-05 - val_acc: 0.0215\n",
      "Epoch 58/200\n",
      "256000/256000 [==============================] - 14s 55us/step - loss: 1.6327e-05 - acc: 0.0219 - val_loss: 1.7509e-05 - val_acc: 0.0219\n",
      "Epoch 59/200\n",
      "256000/256000 [==============================] - 14s 56us/step - loss: 1.6237e-05 - acc: 0.0223 - val_loss: 1.7160e-05 - val_acc: 0.0237\n",
      "Epoch 60/200\n",
      "256000/256000 [==============================] - 14s 56us/step - loss: 1.5970e-05 - acc: 0.0237 - val_loss: 1.7100e-05 - val_acc: 0.0232\n",
      "Epoch 61/200\n",
      "256000/256000 [==============================] - 14s 56us/step - loss: 1.5923e-05 - acc: 0.0230 - val_loss: 1.7054e-05 - val_acc: 0.0231\n",
      "Epoch 62/200\n",
      "256000/256000 [==============================] - 14s 56us/step - loss: 1.5895e-05 - acc: 0.0232 - val_loss: 1.7020e-05 - val_acc: 0.0230\n",
      "Epoch 63/200\n",
      "256000/256000 [==============================] - 14s 55us/step - loss: 1.5870e-05 - acc: 0.0232 - val_loss: 1.6924e-05 - val_acc: 0.0230\n",
      "Epoch 64/200\n",
      "256000/256000 [==============================] - 14s 54us/step - loss: 1.5846e-05 - acc: 0.0231 - val_loss: 1.6881e-05 - val_acc: 0.0229\n",
      "Epoch 65/200\n",
      "256000/256000 [==============================] - 14s 54us/step - loss: 1.5823e-05 - acc: 0.0230 - val_loss: 1.6811e-05 - val_acc: 0.0222\n",
      "Epoch 66/200\n",
      "256000/256000 [==============================] - 14s 54us/step - loss: 1.5793e-05 - acc: 0.0216 - val_loss: 1.6710e-05 - val_acc: 0.0211\n",
      "Epoch 67/200\n",
      "256000/256000 [==============================] - 14s 54us/step - loss: 1.5771e-05 - acc: 0.0206 - val_loss: 1.6677e-05 - val_acc: 0.0193\n",
      "Epoch 68/200\n",
      "256000/256000 [==============================] - 14s 54us/step - loss: 1.5750e-05 - acc: 0.0189 - val_loss: 1.6648e-05 - val_acc: 0.0180\n",
      "Epoch 69/200\n",
      "256000/256000 [==============================] - 14s 55us/step - loss: 1.5731e-05 - acc: 0.0180 - val_loss: 1.6630e-05 - val_acc: 0.0176\n",
      "Epoch 70/200\n",
      "256000/256000 [==============================] - 14s 54us/step - loss: 1.5715e-05 - acc: 0.0178 - val_loss: 1.6630e-05 - val_acc: 0.0172\n",
      "Epoch 71/200\n",
      "256000/256000 [==============================] - 14s 56us/step - loss: 1.5700e-05 - acc: 0.0177 - val_loss: 1.6621e-05 - val_acc: 0.0170\n",
      "Epoch 72/200\n",
      "256000/256000 [==============================] - 14s 56us/step - loss: 1.5684e-05 - acc: 0.0178 - val_loss: 1.6627e-05 - val_acc: 0.0170\n",
      "Epoch 73/200\n",
      "256000/256000 [==============================] - 14s 56us/step - loss: 1.5666e-05 - acc: 0.0184 - val_loss: 1.6606e-05 - val_acc: 0.0175\n",
      "Epoch 74/200\n",
      "256000/256000 [==============================] - 14s 56us/step - loss: 1.5620e-05 - acc: 0.0201 - val_loss: 1.6600e-05 - val_acc: 0.0195\n",
      "Epoch 75/200\n",
      "256000/256000 [==============================] - 14s 57us/step - loss: 1.5581e-05 - acc: 0.0213 - val_loss: 1.6555e-05 - val_acc: 0.0210\n",
      "Epoch 76/200\n",
      "256000/256000 [==============================] - 14s 56us/step - loss: 1.5560e-05 - acc: 0.0220 - val_loss: 1.6510e-05 - val_acc: 0.0216\n",
      "Epoch 77/200\n",
      "256000/256000 [==============================] - 14s 56us/step - loss: 1.5544e-05 - acc: 0.0224 - val_loss: 1.6482e-05 - val_acc: 0.0220\n",
      "Epoch 78/200\n",
      "256000/256000 [==============================] - 14s 56us/step - loss: 1.5529e-05 - acc: 0.0227 - val_loss: 1.6479e-05 - val_acc: 0.0223\n",
      "Epoch 79/200\n",
      "256000/256000 [==============================] - 14s 54us/step - loss: 1.5516e-05 - acc: 0.0227 - val_loss: 1.6455e-05 - val_acc: 0.0223\n",
      "Epoch 80/200\n",
      "256000/256000 [==============================] - 14s 54us/step - loss: 1.5502e-05 - acc: 0.0228 - val_loss: 1.6433e-05 - val_acc: 0.0223\n",
      "Epoch 81/200\n",
      "256000/256000 [==============================] - 14s 54us/step - loss: 1.5489e-05 - acc: 0.0227 - val_loss: 1.6413e-05 - val_acc: 0.0224\n",
      "Epoch 82/200\n",
      "256000/256000 [==============================] - 14s 53us/step - loss: 1.5477e-05 - acc: 0.0228 - val_loss: 1.6397e-05 - val_acc: 0.0222\n",
      "Epoch 83/200\n",
      "256000/256000 [==============================] - 14s 54us/step - loss: 1.5463e-05 - acc: 0.0230 - val_loss: 1.6385e-05 - val_acc: 0.0227\n",
      "Epoch 84/200\n",
      "256000/256000 [==============================] - 14s 54us/step - loss: 1.5446e-05 - acc: 0.0230 - val_loss: 1.6370e-05 - val_acc: 0.0224\n",
      "Epoch 85/200\n",
      "256000/256000 [==============================] - 14s 54us/step - loss: 1.5430e-05 - acc: 0.0227 - val_loss: 1.6370e-05 - val_acc: 0.0222\n",
      "Epoch 86/200\n",
      "256000/256000 [==============================] - 14s 54us/step - loss: 1.5415e-05 - acc: 0.0228 - val_loss: 1.6356e-05 - val_acc: 0.0217\n",
      "Epoch 87/200\n",
      "256000/256000 [==============================] - 14s 54us/step - loss: 1.5398e-05 - acc: 0.0226 - val_loss: 1.6331e-05 - val_acc: 0.0220\n",
      "Epoch 88/200\n",
      "256000/256000 [==============================] - 14s 54us/step - loss: 1.5375e-05 - acc: 0.0225 - val_loss: 1.6309e-05 - val_acc: 0.0213\n",
      "Epoch 89/200\n",
      "256000/256000 [==============================] - 14s 54us/step - loss: 1.5355e-05 - acc: 0.0220 - val_loss: 1.6273e-05 - val_acc: 0.0215\n",
      "Epoch 90/200\n",
      "256000/256000 [==============================] - 14s 54us/step - loss: 1.5324e-05 - acc: 0.0214 - val_loss: 1.6185e-05 - val_acc: 0.0201\n",
      "Epoch 91/200\n",
      "256000/256000 [==============================] - 14s 54us/step - loss: 1.5286e-05 - acc: 0.0204 - val_loss: 1.6161e-05 - val_acc: 0.0192\n",
      "Epoch 92/200\n",
      "256000/256000 [==============================] - 14s 54us/step - loss: 1.5262e-05 - acc: 0.0187 - val_loss: 1.6078e-05 - val_acc: 0.0175\n",
      "Epoch 93/200\n",
      "256000/256000 [==============================] - 14s 54us/step - loss: 1.5237e-05 - acc: 0.0182 - val_loss: 1.6086e-05 - val_acc: 0.0177\n",
      "Epoch 94/200\n",
      "256000/256000 [==============================] - 18s 68us/step - loss: 1.5213e-05 - acc: 0.0184 - val_loss: 1.6048e-05 - val_acc: 0.0180\n",
      "Epoch 95/200\n",
      "256000/256000 [==============================] - 14s 56us/step - loss: 1.5191e-05 - acc: 0.0182 - val_loss: 1.6010e-05 - val_acc: 0.0181\n",
      "Epoch 96/200\n",
      "256000/256000 [==============================] - 14s 56us/step - loss: 1.5110e-05 - acc: 0.0186 - val_loss: 1.5918e-05 - val_acc: 0.0183\n",
      "Epoch 97/200\n",
      "256000/256000 [==============================] - 14s 53us/step - loss: 1.5072e-05 - acc: 0.0184 - val_loss: 1.5915e-05 - val_acc: 0.0179\n",
      "Epoch 98/200\n",
      "256000/256000 [==============================] - 14s 54us/step - loss: 1.5053e-05 - acc: 0.0183 - val_loss: 1.5904e-05 - val_acc: 0.0180\n",
      "Epoch 99/200\n",
      "256000/256000 [==============================] - 14s 53us/step - loss: 1.5023e-05 - acc: 0.0186 - val_loss: 1.5895e-05 - val_acc: 0.0182\n",
      "Epoch 100/200\n",
      "256000/256000 [==============================] - 14s 53us/step - loss: 1.5003e-05 - acc: 0.0193 - val_loss: 1.5869e-05 - val_acc: 0.0191\n",
      "Epoch 101/200\n",
      "256000/256000 [==============================] - 14s 54us/step - loss: 1.4985e-05 - acc: 0.0196 - val_loss: 1.5846e-05 - val_acc: 0.0198\n",
      "Epoch 102/200\n",
      "256000/256000 [==============================] - 14s 53us/step - loss: 1.4969e-05 - acc: 0.0199 - val_loss: 1.5828e-05 - val_acc: 0.0196\n",
      "Epoch 103/200\n",
      "256000/256000 [==============================] - 14s 54us/step - loss: 1.4952e-05 - acc: 0.0202 - val_loss: 1.5811e-05 - val_acc: 0.0202\n",
      "Epoch 104/200\n",
      "256000/256000 [==============================] - 14s 56us/step - loss: 1.4926e-05 - acc: 0.0208 - val_loss: 1.5774e-05 - val_acc: 0.0206\n",
      "Epoch 105/200\n",
      "256000/256000 [==============================] - 14s 55us/step - loss: 1.4887e-05 - acc: 0.0218 - val_loss: 1.5753e-05 - val_acc: 0.0213\n",
      "Epoch 106/200\n",
      "256000/256000 [==============================] - 14s 56us/step - loss: 1.4848e-05 - acc: 0.0209 - val_loss: 1.5710e-05 - val_acc: 0.0197\n",
      "Epoch 107/200\n",
      "256000/256000 [==============================] - 14s 57us/step - loss: 1.4823e-05 - acc: 0.0200 - val_loss: 1.5680e-05 - val_acc: 0.0188\n",
      "Epoch 108/200\n",
      "256000/256000 [==============================] - 14s 55us/step - loss: 1.4801e-05 - acc: 0.0197 - val_loss: 1.5654e-05 - val_acc: 0.0192\n",
      "Epoch 109/200\n",
      "256000/256000 [==============================] - 14s 56us/step - loss: 1.4782e-05 - acc: 0.0197 - val_loss: 1.5647e-05 - val_acc: 0.0197\n",
      "Epoch 110/200\n",
      "256000/256000 [==============================] - 14s 56us/step - loss: 1.4761e-05 - acc: 0.0204 - val_loss: 1.5648e-05 - val_acc: 0.0204\n",
      "Epoch 111/200\n",
      "256000/256000 [==============================] - 15s 57us/step - loss: 1.4737e-05 - acc: 0.0213 - val_loss: 1.5654e-05 - val_acc: 0.0208\n",
      "Epoch 112/200\n",
      "256000/256000 [==============================] - 14s 56us/step - loss: 1.4713e-05 - acc: 0.0219 - val_loss: 1.5642e-05 - val_acc: 0.0220\n",
      "Epoch 113/200\n",
      "256000/256000 [==============================] - 14s 56us/step - loss: 1.4686e-05 - acc: 0.0225 - val_loss: 1.5601e-05 - val_acc: 0.0224\n",
      "Epoch 114/200\n",
      "256000/256000 [==============================] - 14s 56us/step - loss: 1.4656e-05 - acc: 0.0230 - val_loss: 1.5539e-05 - val_acc: 0.0233\n",
      "Epoch 115/200\n",
      "256000/256000 [==============================] - 14s 56us/step - loss: 1.4622e-05 - acc: 0.0237 - val_loss: 1.5498e-05 - val_acc: 0.0243\n",
      "Epoch 116/200\n",
      "256000/256000 [==============================] - 14s 56us/step - loss: 1.4587e-05 - acc: 0.0245 - val_loss: 1.5441e-05 - val_acc: 0.0258\n",
      "Epoch 117/200\n",
      "256000/256000 [==============================] - 14s 56us/step - loss: 1.4551e-05 - acc: 0.0256 - val_loss: 1.5378e-05 - val_acc: 0.0270\n",
      "Epoch 118/200\n",
      "256000/256000 [==============================] - 14s 55us/step - loss: 1.4515e-05 - acc: 0.0267 - val_loss: 1.5324e-05 - val_acc: 0.0283\n",
      "Epoch 119/200\n",
      "256000/256000 [==============================] - 14s 56us/step - loss: 1.4456e-05 - acc: 0.0275 - val_loss: 1.5233e-05 - val_acc: 0.0285\n",
      "Epoch 120/200\n",
      "256000/256000 [==============================] - 14s 56us/step - loss: 1.4376e-05 - acc: 0.0282 - val_loss: 1.5120e-05 - val_acc: 0.0291\n",
      "Epoch 121/200\n",
      "256000/256000 [==============================] - 14s 56us/step - loss: 1.4332e-05 - acc: 0.0289 - val_loss: 1.5067e-05 - val_acc: 0.0295\n",
      "Epoch 122/200\n",
      "256000/256000 [==============================] - 14s 56us/step - loss: 1.4288e-05 - acc: 0.0292 - val_loss: 1.4983e-05 - val_acc: 0.0300\n",
      "Epoch 123/200\n",
      "256000/256000 [==============================] - 14s 57us/step - loss: 1.4240e-05 - acc: 0.0295 - val_loss: 1.4922e-05 - val_acc: 0.0301\n",
      "Epoch 124/200\n",
      "256000/256000 [==============================] - 14s 55us/step - loss: 1.4204e-05 - acc: 0.0302 - val_loss: 1.4861e-05 - val_acc: 0.0314\n",
      "Epoch 125/200\n",
      "256000/256000 [==============================] - 14s 55us/step - loss: 1.4172e-05 - acc: 0.0304 - val_loss: 1.4775e-05 - val_acc: 0.0320\n",
      "Epoch 126/200\n",
      "256000/256000 [==============================] - 14s 56us/step - loss: 1.4097e-05 - acc: 0.0310 - val_loss: 1.4574e-05 - val_acc: 0.0329\n",
      "Epoch 127/200\n",
      "256000/256000 [==============================] - 14s 56us/step - loss: 1.3942e-05 - acc: 0.0317 - val_loss: 1.4332e-05 - val_acc: 0.0332\n",
      "Epoch 128/200\n",
      "256000/256000 [==============================] - 14s 55us/step - loss: 1.3788e-05 - acc: 0.0319 - val_loss: 1.4198e-05 - val_acc: 0.0330\n",
      "Epoch 129/200\n",
      "256000/256000 [==============================] - 14s 56us/step - loss: 1.3518e-05 - acc: 0.0307 - val_loss: 1.3546e-05 - val_acc: 0.0302\n",
      "Epoch 130/200\n",
      "256000/256000 [==============================] - 14s 56us/step - loss: 1.3047e-05 - acc: 0.0290 - val_loss: 1.3034e-05 - val_acc: 0.0301\n",
      "Epoch 131/200\n",
      "256000/256000 [==============================] - 14s 55us/step - loss: 1.2733e-05 - acc: 0.0288 - val_loss: 1.2778e-05 - val_acc: 0.0301\n",
      "Epoch 132/200\n",
      "256000/256000 [==============================] - 14s 56us/step - loss: 1.2521e-05 - acc: 0.0295 - val_loss: 1.2427e-05 - val_acc: 0.0322\n",
      "Epoch 133/200\n",
      "256000/256000 [==============================] - 14s 56us/step - loss: 1.2337e-05 - acc: 0.0305 - val_loss: 1.2280e-05 - val_acc: 0.0326\n",
      "Epoch 134/200\n",
      "256000/256000 [==============================] - 14s 56us/step - loss: 1.2231e-05 - acc: 0.0313 - val_loss: 1.2181e-05 - val_acc: 0.0334\n",
      "Epoch 135/200\n",
      "256000/256000 [==============================] - 14s 56us/step - loss: 1.2139e-05 - acc: 0.0321 - val_loss: 1.2096e-05 - val_acc: 0.0339\n",
      "Epoch 136/200\n",
      "256000/256000 [==============================] - 14s 56us/step - loss: 1.2059e-05 - acc: 0.0331 - val_loss: 1.2031e-05 - val_acc: 0.0339\n",
      "Epoch 137/200\n",
      "256000/256000 [==============================] - 14s 56us/step - loss: 1.1948e-05 - acc: 0.0335 - val_loss: 1.1994e-05 - val_acc: 0.0350\n",
      "Epoch 138/200\n",
      "256000/256000 [==============================] - 14s 56us/step - loss: 1.1878e-05 - acc: 0.0344 - val_loss: 1.1856e-05 - val_acc: 0.0356\n",
      "Epoch 139/200\n",
      "256000/256000 [==============================] - 14s 56us/step - loss: 1.1822e-05 - acc: 0.0357 - val_loss: 1.1721e-05 - val_acc: 0.0366\n",
      "Epoch 140/200\n",
      "256000/256000 [==============================] - 14s 56us/step - loss: 1.1771e-05 - acc: 0.0367 - val_loss: 1.1681e-05 - val_acc: 0.0375\n",
      "Epoch 141/200\n",
      "256000/256000 [==============================] - 15s 57us/step - loss: 1.1725e-05 - acc: 0.0377 - val_loss: 1.1856e-05 - val_acc: 0.0385\n",
      "Epoch 142/200\n",
      "256000/256000 [==============================] - 14s 55us/step - loss: 1.1678e-05 - acc: 0.0385 - val_loss: 1.1621e-05 - val_acc: 0.0395\n",
      "Epoch 143/200\n",
      "256000/256000 [==============================] - 14s 55us/step - loss: 1.1636e-05 - acc: 0.0394 - val_loss: 1.1638e-05 - val_acc: 0.0401\n",
      "Epoch 144/200\n",
      "256000/256000 [==============================] - 14s 56us/step - loss: 1.1594e-05 - acc: 0.0401 - val_loss: 1.1671e-05 - val_acc: 0.0408\n",
      "Epoch 145/200\n",
      "256000/256000 [==============================] - 14s 55us/step - loss: 1.1548e-05 - acc: 0.0406 - val_loss: 1.1556e-05 - val_acc: 0.0415\n",
      "Epoch 146/200\n",
      "256000/256000 [==============================] - 14s 56us/step - loss: 1.1509e-05 - acc: 0.0415 - val_loss: 1.1462e-05 - val_acc: 0.0426\n",
      "Epoch 147/200\n",
      "256000/256000 [==============================] - 14s 57us/step - loss: 1.1472e-05 - acc: 0.0422 - val_loss: 1.1405e-05 - val_acc: 0.0430\n",
      "Epoch 148/200\n",
      "256000/256000 [==============================] - 14s 56us/step - loss: 1.1417e-05 - acc: 0.0428 - val_loss: 1.1431e-05 - val_acc: 0.0434\n",
      "Epoch 149/200\n",
      "256000/256000 [==============================] - 14s 55us/step - loss: 1.1359e-05 - acc: 0.0432 - val_loss: 1.1589e-05 - val_acc: 0.0437\n",
      "Epoch 150/200\n",
      "256000/256000 [==============================] - 14s 56us/step - loss: 1.1291e-05 - acc: 0.0434 - val_loss: 1.1441e-05 - val_acc: 0.0437\n",
      "Epoch 151/200\n",
      "256000/256000 [==============================] - 14s 56us/step - loss: 1.1220e-05 - acc: 0.0435 - val_loss: 1.1222e-05 - val_acc: 0.0440\n",
      "Epoch 152/200\n",
      "256000/256000 [==============================] - 14s 56us/step - loss: 1.1197e-05 - acc: 0.0438 - val_loss: 1.1325e-05 - val_acc: 0.0442\n",
      "Epoch 153/200\n",
      "256000/256000 [==============================] - 14s 56us/step - loss: 1.1177e-05 - acc: 0.0442 - val_loss: 1.1270e-05 - val_acc: 0.0441\n",
      "Epoch 154/200\n",
      "256000/256000 [==============================] - 14s 55us/step - loss: 1.1162e-05 - acc: 0.0447 - val_loss: 1.1322e-05 - val_acc: 0.0445\n",
      "Epoch 155/200\n",
      "256000/256000 [==============================] - 14s 54us/step - loss: 1.1147e-05 - acc: 0.0451 - val_loss: 1.1329e-05 - val_acc: 0.0448\n",
      "Epoch 156/200\n",
      "256000/256000 [==============================] - 14s 53us/step - loss: 1.1132e-05 - acc: 0.0454 - val_loss: 1.1152e-05 - val_acc: 0.0456\n",
      "Epoch 157/200\n",
      "256000/256000 [==============================] - 16s 62us/step - loss: 1.1121e-05 - acc: 0.0459 - val_loss: 1.1133e-05 - val_acc: 0.0458\n",
      "Epoch 158/200\n",
      "256000/256000 [==============================] - 16s 61us/step - loss: 1.1108e-05 - acc: 0.0463 - val_loss: 1.1109e-05 - val_acc: 0.0463\n",
      "Epoch 159/200\n",
      "256000/256000 [==============================] - 16s 62us/step - loss: 1.1096e-05 - acc: 0.0466 - val_loss: 1.1119e-05 - val_acc: 0.0465\n",
      "Epoch 160/200\n",
      "256000/256000 [==============================] - 16s 61us/step - loss: 1.1080e-05 - acc: 0.0469 - val_loss: 1.1115e-05 - val_acc: 0.0468\n",
      "Epoch 161/200\n",
      "256000/256000 [==============================] - 16s 62us/step - loss: 1.1070e-05 - acc: 0.0471 - val_loss: 1.1107e-05 - val_acc: 0.0467\n",
      "Epoch 162/200\n",
      "256000/256000 [==============================] - 16s 61us/step - loss: 1.1060e-05 - acc: 0.0474 - val_loss: 1.1103e-05 - val_acc: 0.0468\n",
      "Epoch 163/200\n",
      "256000/256000 [==============================] - 16s 62us/step - loss: 1.1051e-05 - acc: 0.0480 - val_loss: 1.1311e-05 - val_acc: 0.0478\n",
      "Epoch 164/200\n",
      "256000/256000 [==============================] - 15s 60us/step - loss: 1.1041e-05 - acc: 0.0483 - val_loss: 1.1087e-05 - val_acc: 0.0483\n",
      "Epoch 165/200\n",
      "256000/256000 [==============================] - 16s 62us/step - loss: 1.1032e-05 - acc: 0.0487 - val_loss: 1.1069e-05 - val_acc: 0.0486\n",
      "Epoch 166/200\n",
      "256000/256000 [==============================] - 16s 61us/step - loss: 1.1023e-05 - acc: 0.0490 - val_loss: 1.1068e-05 - val_acc: 0.0491\n",
      "Epoch 167/200\n",
      "256000/256000 [==============================] - 16s 63us/step - loss: 1.1014e-05 - acc: 0.0492 - val_loss: 1.1048e-05 - val_acc: 0.0492\n",
      "Epoch 168/200\n",
      "256000/256000 [==============================] - 15s 60us/step - loss: 1.1006e-05 - acc: 0.0495 - val_loss: 1.1139e-05 - val_acc: 0.0494\n",
      "Epoch 169/200\n",
      "256000/256000 [==============================] - 16s 62us/step - loss: 1.0998e-05 - acc: 0.0498 - val_loss: 1.1155e-05 - val_acc: 0.0501\n",
      "Epoch 170/200\n",
      "256000/256000 [==============================] - 16s 61us/step - loss: 1.0990e-05 - acc: 0.0503 - val_loss: 1.1200e-05 - val_acc: 0.0508\n",
      "Epoch 171/200\n",
      "256000/256000 [==============================] - 16s 62us/step - loss: 1.0982e-05 - acc: 0.0508 - val_loss: 1.1189e-05 - val_acc: 0.0511\n",
      "Epoch 172/200\n",
      "256000/256000 [==============================] - 16s 61us/step - loss: 1.0974e-05 - acc: 0.0513 - val_loss: 1.1187e-05 - val_acc: 0.0518\n",
      "--- AE spent 2458.4731011390686 seconds ---\n"
     ]
    }
   ],
   "source": [
    "hist_ae_sigmoid_adam_logcosh = fit_ae(checkpoint_file = \"ae_sigmoid_adam_logcosh_redds10bal.h5\",\n",
    "                                        autoencoder = ae_sigmoid_adam_logcosh, \n",
    "                                        epochs = 200, \n",
    "                                        batch_size = 48, \n",
    "                                        shuffle = False)"
   ]
  },
  {
   "cell_type": "code",
   "execution_count": 31,
   "metadata": {},
   "outputs": [
    {
     "name": "stdout",
     "output_type": "stream",
     "text": [
      "Best loss value: 1.0974173678789612e-05\n"
     ]
    },
    {
     "data": {
      "image/png": "[encoded data removed]",
      "text/plain": [
       "<Figure size 432x288 with 1 Axes>"
      ]
     },
     "metadata": {
      "needs_background": "light"
     },
     "output_type": "display_data"
    }
   ],
   "source": [
    "best_loss_value_ae_sigmoid_adam_logcosh = plot_hist_auto(hist_ae_sigmoid_adam_logcosh, './Figures/ae_sigmoid_adam_logcosh.png')"
   ]
  },
  {
   "cell_type": "code",
   "execution_count": 32,
   "metadata": {},
   "outputs": [
    {
     "name": "stdout",
     "output_type": "stream",
     "text": [
      "_________________________________________________________________\n",
      "Layer (type)                 Output Shape              Param #   \n",
      "=================================================================\n",
      "input_2 (InputLayer)         (None, 48)                0         \n",
      "_________________________________________________________________\n",
      "encoded_bottle_neck (Dense)  (None, 32)                1568      \n",
      "_________________________________________________________________\n",
      "dense_2 (Dense)              (None, 48)                1584      \n",
      "=================================================================\n",
      "Total params: 3,152\n",
      "Trainable params: 3,152\n",
      "Non-trainable params: 0\n",
      "_________________________________________________________________\n",
      "None\n"
     ]
    }
   ],
   "source": [
    "ae_sigmoid_adam_mse,enc_train_x_asam,enc_test_x_asam = ae(factor_enc_dim = 1.5,\n",
    "                                                          output_activation = 'sigmoid',\n",
    "                                                          optimizer='Adam',\n",
    "                                                          loss='mean_squared_error')"
   ]
  },
  {
   "cell_type": "code",
   "execution_count": 33,
   "metadata": {},
   "outputs": [],
   "source": [
    "#ae_sigmoid_adam_mse = load_model('ae_sigmoid_adam_mse_redds10bal.h5')"
   ]
  },
  {
   "cell_type": "code",
   "execution_count": 34,
   "metadata": {},
   "outputs": [
    {
     "name": "stdout",
     "output_type": "stream",
     "text": [
      "Tue Jun  4 21:25:26 2019\n",
      "Train on 256000 samples, validate on 64000 samples\n",
      "Epoch 1/200\n",
      "256000/256000 [==============================] - 15s 58us/step - loss: 0.0067 - acc: 0.0170 - val_loss: 2.0291e-04 - val_acc: 0.0291\n",
      "Epoch 2/200\n",
      "256000/256000 [==============================] - 15s 60us/step - loss: 1.2041e-04 - acc: 0.0343 - val_loss: 8.7786e-05 - val_acc: 0.0266\n",
      "Epoch 3/200\n",
      "256000/256000 [==============================] - 15s 59us/step - loss: 8.3455e-05 - acc: 0.0229 - val_loss: 8.1148e-05 - val_acc: 0.0178\n",
      "Epoch 4/200\n",
      "256000/256000 [==============================] - 16s 61us/step - loss: 8.0796e-05 - acc: 0.0206 - val_loss: 8.0295e-05 - val_acc: 0.0254\n",
      "Epoch 5/200\n",
      "256000/256000 [==============================] - 15s 59us/step - loss: 8.0012e-05 - acc: 0.0265 - val_loss: 7.9705e-05 - val_acc: 0.0287\n",
      "Epoch 6/200\n",
      "256000/256000 [==============================] - 16s 61us/step - loss: 7.9210e-05 - acc: 0.0348 - val_loss: 7.8824e-05 - val_acc: 0.0406\n",
      "Epoch 7/200\n",
      "256000/256000 [==============================] - 15s 60us/step - loss: 7.7817e-05 - acc: 0.0474 - val_loss: 7.7455e-05 - val_acc: 0.0551\n",
      "Epoch 8/200\n",
      "256000/256000 [==============================] - 16s 61us/step - loss: 7.6274e-05 - acc: 0.0583 - val_loss: 7.5928e-05 - val_acc: 0.0693\n",
      "Epoch 9/200\n",
      "256000/256000 [==============================] - 15s 59us/step - loss: 7.4011e-05 - acc: 0.0739 - val_loss: 7.3261e-05 - val_acc: 0.0815\n",
      "Epoch 10/200\n",
      "256000/256000 [==============================] - 16s 61us/step - loss: 7.1887e-05 - acc: 0.0795 - val_loss: 7.1586e-05 - val_acc: 0.0790\n",
      "Epoch 11/200\n",
      "256000/256000 [==============================] - 15s 59us/step - loss: 7.0477e-05 - acc: 0.0727 - val_loss: 7.0541e-05 - val_acc: 0.0698\n",
      "Epoch 12/200\n",
      "256000/256000 [==============================] - 15s 60us/step - loss: 6.9253e-05 - acc: 0.0652 - val_loss: 6.9515e-05 - val_acc: 0.0658\n",
      "Epoch 13/200\n",
      "256000/256000 [==============================] - 15s 59us/step - loss: 6.7865e-05 - acc: 0.0626 - val_loss: 6.8455e-05 - val_acc: 0.0629\n",
      "Epoch 14/200\n",
      "256000/256000 [==============================] - 16s 61us/step - loss: 6.6854e-05 - acc: 0.0607 - val_loss: 6.7774e-05 - val_acc: 0.0618\n",
      "Epoch 15/200\n",
      "256000/256000 [==============================] - 15s 59us/step - loss: 6.6284e-05 - acc: 0.0612 - val_loss: 6.7474e-05 - val_acc: 0.0620\n",
      "Epoch 16/200\n",
      "256000/256000 [==============================] - 16s 61us/step - loss: 6.5893e-05 - acc: 0.0621 - val_loss: 6.7246e-05 - val_acc: 0.0620\n",
      "Epoch 17/200\n",
      "256000/256000 [==============================] - 15s 59us/step - loss: 6.5596e-05 - acc: 0.0620 - val_loss: 6.7073e-05 - val_acc: 0.0616\n",
      "Epoch 18/200\n",
      "256000/256000 [==============================] - 15s 61us/step - loss: 6.5356e-05 - acc: 0.0629 - val_loss: 6.6917e-05 - val_acc: 0.0645\n",
      "Epoch 19/200\n",
      "256000/256000 [==============================] - 15s 59us/step - loss: 6.5064e-05 - acc: 0.0632 - val_loss: 6.5933e-05 - val_acc: 0.0513\n",
      "Epoch 20/200\n",
      "256000/256000 [==============================] - 15s 60us/step - loss: 6.2818e-05 - acc: 0.0402 - val_loss: 6.3860e-05 - val_acc: 0.0373\n",
      "Epoch 21/200\n",
      "256000/256000 [==============================] - 15s 58us/step - loss: 6.2294e-05 - acc: 0.0350 - val_loss: 6.3513e-05 - val_acc: 0.0334\n",
      "Epoch 22/200\n",
      "256000/256000 [==============================] - 16s 61us/step - loss: 6.2092e-05 - acc: 0.0341 - val_loss: 6.3350e-05 - val_acc: 0.0364\n",
      "Epoch 23/200\n",
      "256000/256000 [==============================] - 15s 59us/step - loss: 6.1937e-05 - acc: 0.0353 - val_loss: 6.3217e-05 - val_acc: 0.0397\n",
      "Epoch 24/200\n",
      "256000/256000 [==============================] - 15s 60us/step - loss: 6.1794e-05 - acc: 0.0362 - val_loss: 6.3107e-05 - val_acc: 0.0411\n",
      "Epoch 25/200\n",
      "256000/256000 [==============================] - 15s 59us/step - loss: 6.1651e-05 - acc: 0.0382 - val_loss: 6.2989e-05 - val_acc: 0.0434\n",
      "Epoch 26/200\n",
      "256000/256000 [==============================] - 16s 61us/step - loss: 6.1531e-05 - acc: 0.0396 - val_loss: 6.2893e-05 - val_acc: 0.0425\n",
      "Epoch 27/200\n",
      "256000/256000 [==============================] - 15s 59us/step - loss: 6.1425e-05 - acc: 0.0407 - val_loss: 6.2782e-05 - val_acc: 0.0423\n",
      "Epoch 28/200\n",
      "256000/256000 [==============================] - 15s 60us/step - loss: 6.1255e-05 - acc: 0.0423 - val_loss: 6.2438e-05 - val_acc: 0.0407\n",
      "Epoch 29/200\n",
      "256000/256000 [==============================] - 15s 59us/step - loss: 6.0767e-05 - acc: 0.0424 - val_loss: 6.2316e-05 - val_acc: 0.0398\n",
      "Epoch 30/200\n",
      "256000/256000 [==============================] - 16s 61us/step - loss: 6.0522e-05 - acc: 0.0387 - val_loss: 6.2152e-05 - val_acc: 0.0366\n",
      "Epoch 31/200\n",
      "256000/256000 [==============================] - 15s 59us/step - loss: 6.0318e-05 - acc: 0.0362 - val_loss: 6.1936e-05 - val_acc: 0.0347\n",
      "Epoch 32/200\n",
      "256000/256000 [==============================] - 16s 61us/step - loss: 6.0119e-05 - acc: 0.0342 - val_loss: 6.1788e-05 - val_acc: 0.0333\n",
      "Epoch 33/200\n",
      "256000/256000 [==============================] - 15s 59us/step - loss: 5.9947e-05 - acc: 0.0330 - val_loss: 6.1619e-05 - val_acc: 0.0326\n",
      "Epoch 34/200\n",
      "256000/256000 [==============================] - 16s 61us/step - loss: 5.9797e-05 - acc: 0.0326 - val_loss: 6.1460e-05 - val_acc: 0.0323\n",
      "Epoch 35/200\n",
      "256000/256000 [==============================] - 15s 59us/step - loss: 5.9661e-05 - acc: 0.0323 - val_loss: 6.1310e-05 - val_acc: 0.0319\n",
      "Epoch 36/200\n",
      "256000/256000 [==============================] - 16s 61us/step - loss: 5.9508e-05 - acc: 0.0321 - val_loss: 6.1108e-05 - val_acc: 0.0320\n",
      "Epoch 37/200\n",
      "256000/256000 [==============================] - 15s 59us/step - loss: 5.9356e-05 - acc: 0.0329 - val_loss: 6.0962e-05 - val_acc: 0.0324\n",
      "Epoch 38/200\n",
      "256000/256000 [==============================] - 16s 61us/step - loss: 5.9233e-05 - acc: 0.0330 - val_loss: 6.0842e-05 - val_acc: 0.0323\n",
      "Epoch 39/200\n",
      "256000/256000 [==============================] - 15s 59us/step - loss: 5.9113e-05 - acc: 0.0346 - val_loss: 6.0621e-05 - val_acc: 0.0351\n",
      "Epoch 40/200\n",
      "256000/256000 [==============================] - 15s 60us/step - loss: 5.8994e-05 - acc: 0.0370 - val_loss: 6.0483e-05 - val_acc: 0.0414\n",
      "Epoch 41/200\n",
      "256000/256000 [==============================] - 15s 59us/step - loss: 5.8878e-05 - acc: 0.0384 - val_loss: 6.0399e-05 - val_acc: 0.0425\n",
      "Epoch 42/200\n",
      "256000/256000 [==============================] - 16s 61us/step - loss: 5.8726e-05 - acc: 0.0417 - val_loss: 6.0293e-05 - val_acc: 0.0458\n",
      "Epoch 43/200\n",
      "256000/256000 [==============================] - 15s 59us/step - loss: 5.8597e-05 - acc: 0.0430 - val_loss: 6.0186e-05 - val_acc: 0.0441\n",
      "Epoch 44/200\n",
      "256000/256000 [==============================] - 16s 61us/step - loss: 5.8478e-05 - acc: 0.0432 - val_loss: 6.0097e-05 - val_acc: 0.0360\n",
      "Epoch 45/200\n",
      "256000/256000 [==============================] - 15s 59us/step - loss: 5.8325e-05 - acc: 0.0376 - val_loss: 5.9864e-05 - val_acc: 0.0321\n",
      "Epoch 46/200\n",
      "256000/256000 [==============================] - 16s 61us/step - loss: 5.8093e-05 - acc: 0.0330 - val_loss: 5.9501e-05 - val_acc: 0.0278\n",
      "Epoch 47/200\n",
      "256000/256000 [==============================] - 15s 59us/step - loss: 5.7558e-05 - acc: 0.0248 - val_loss: 5.8683e-05 - val_acc: 0.0176\n",
      "Epoch 48/200\n",
      "256000/256000 [==============================] - 15s 60us/step - loss: 5.7013e-05 - acc: 0.0186 - val_loss: 5.8396e-05 - val_acc: 0.0183\n",
      "Epoch 49/200\n",
      "256000/256000 [==============================] - 15s 59us/step - loss: 5.6672e-05 - acc: 0.0189 - val_loss: 5.8015e-05 - val_acc: 0.0184\n",
      "Epoch 50/200\n",
      "256000/256000 [==============================] - 16s 61us/step - loss: 5.6342e-05 - acc: 0.0197 - val_loss: 5.7532e-05 - val_acc: 0.0197\n",
      "Epoch 51/200\n",
      "256000/256000 [==============================] - 15s 59us/step - loss: 5.5985e-05 - acc: 0.0196 - val_loss: 5.7017e-05 - val_acc: 0.0197\n",
      "Epoch 52/200\n",
      "256000/256000 [==============================] - 16s 61us/step - loss: 5.5549e-05 - acc: 0.0194 - val_loss: 5.6430e-05 - val_acc: 0.0191\n",
      "Epoch 53/200\n",
      "256000/256000 [==============================] - 15s 59us/step - loss: 5.5181e-05 - acc: 0.0209 - val_loss: 5.6052e-05 - val_acc: 0.0202\n",
      "Epoch 54/200\n",
      "256000/256000 [==============================] - 16s 61us/step - loss: 5.4875e-05 - acc: 0.0239 - val_loss: 5.5710e-05 - val_acc: 0.0195\n",
      "Epoch 55/200\n",
      "256000/256000 [==============================] - 15s 59us/step - loss: 5.4549e-05 - acc: 0.0245 - val_loss: 5.5270e-05 - val_acc: 0.0210\n",
      "Epoch 56/200\n",
      "256000/256000 [==============================] - 15s 61us/step - loss: 5.4142e-05 - acc: 0.0257 - val_loss: 5.4924e-05 - val_acc: 0.0219\n",
      "Epoch 57/200\n",
      "256000/256000 [==============================] - 15s 59us/step - loss: 5.3820e-05 - acc: 0.0251 - val_loss: 5.4640e-05 - val_acc: 0.0212\n",
      "Epoch 58/200\n",
      "256000/256000 [==============================] - 16s 61us/step - loss: 5.3556e-05 - acc: 0.0244 - val_loss: 5.4370e-05 - val_acc: 0.0208\n",
      "Epoch 59/200\n",
      "256000/256000 [==============================] - 15s 59us/step - loss: 5.3290e-05 - acc: 0.0236 - val_loss: 5.4069e-05 - val_acc: 0.0200\n",
      "Epoch 60/200\n",
      "256000/256000 [==============================] - 13s 49us/step - loss: 5.2941e-05 - acc: 0.0226 - val_loss: 5.3689e-05 - val_acc: 0.0180\n",
      "Epoch 61/200\n",
      "256000/256000 [==============================] - 15s 60us/step - loss: 5.2568e-05 - acc: 0.0210 - val_loss: 5.3420e-05 - val_acc: 0.0165\n",
      "Epoch 62/200\n",
      "256000/256000 [==============================] - 15s 60us/step - loss: 5.2152e-05 - acc: 0.0199 - val_loss: 5.2602e-05 - val_acc: 0.0162\n",
      "Epoch 63/200\n",
      "256000/256000 [==============================] - 15s 59us/step - loss: 5.0616e-05 - acc: 0.0193 - val_loss: 4.9845e-05 - val_acc: 0.0212\n",
      "Epoch 64/200\n",
      "256000/256000 [==============================] - 16s 61us/step - loss: 4.6987e-05 - acc: 0.0301 - val_loss: 4.7727e-05 - val_acc: 0.0318\n",
      "Epoch 65/200\n",
      "256000/256000 [==============================] - 15s 60us/step - loss: 4.5439e-05 - acc: 0.0393 - val_loss: 4.6911e-05 - val_acc: 0.0407\n",
      "Epoch 66/200\n",
      "256000/256000 [==============================] - 15s 60us/step - loss: 4.4517e-05 - acc: 0.0505 - val_loss: 4.6013e-05 - val_acc: 0.0543\n",
      "Epoch 67/200\n",
      "256000/256000 [==============================] - 15s 59us/step - loss: 4.3570e-05 - acc: 0.0557 - val_loss: 4.5930e-05 - val_acc: 0.0517\n",
      "Epoch 68/200\n",
      "256000/256000 [==============================] - 16s 61us/step - loss: 4.2893e-05 - acc: 0.0534 - val_loss: 4.5582e-05 - val_acc: 0.0484\n",
      "Epoch 69/200\n",
      "256000/256000 [==============================] - 15s 59us/step - loss: 4.2235e-05 - acc: 0.0502 - val_loss: 4.4826e-05 - val_acc: 0.0416\n",
      "Epoch 70/200\n",
      "256000/256000 [==============================] - 16s 61us/step - loss: 4.1704e-05 - acc: 0.0453 - val_loss: 4.4177e-05 - val_acc: 0.0396\n",
      "Epoch 71/200\n",
      "256000/256000 [==============================] - 15s 59us/step - loss: 4.1016e-05 - acc: 0.0481 - val_loss: 4.3050e-05 - val_acc: 0.0453\n",
      "Epoch 72/200\n",
      "256000/256000 [==============================] - 16s 61us/step - loss: 3.9974e-05 - acc: 0.0451 - val_loss: 4.2119e-05 - val_acc: 0.0371\n",
      "Epoch 73/200\n",
      "256000/256000 [==============================] - 15s 60us/step - loss: 3.9529e-05 - acc: 0.0389 - val_loss: 4.1597e-05 - val_acc: 0.0344\n",
      "Epoch 74/200\n",
      "256000/256000 [==============================] - 16s 61us/step - loss: 3.9159e-05 - acc: 0.0370 - val_loss: 4.0782e-05 - val_acc: 0.0344\n",
      "Epoch 75/200\n",
      "256000/256000 [==============================] - 15s 59us/step - loss: 3.8665e-05 - acc: 0.0361 - val_loss: 4.0367e-05 - val_acc: 0.0327\n",
      "Epoch 76/200\n",
      "256000/256000 [==============================] - 16s 61us/step - loss: 3.8417e-05 - acc: 0.0361 - val_loss: 3.9929e-05 - val_acc: 0.0333\n",
      "Epoch 77/200\n",
      "256000/256000 [==============================] - 15s 59us/step - loss: 3.8200e-05 - acc: 0.0365 - val_loss: 3.9727e-05 - val_acc: 0.0328\n",
      "Epoch 78/200\n",
      "256000/256000 [==============================] - 16s 61us/step - loss: 3.8027e-05 - acc: 0.0367 - val_loss: 3.9375e-05 - val_acc: 0.0337\n",
      "Epoch 79/200\n",
      "256000/256000 [==============================] - 15s 59us/step - loss: 3.7875e-05 - acc: 0.0378 - val_loss: 3.9108e-05 - val_acc: 0.0343\n",
      "Epoch 80/200\n",
      "256000/256000 [==============================] - 16s 61us/step - loss: 3.7724e-05 - acc: 0.0384 - val_loss: 3.9022e-05 - val_acc: 0.0358\n",
      "Epoch 81/200\n",
      "256000/256000 [==============================] - 15s 58us/step - loss: 3.7577e-05 - acc: 0.0412 - val_loss: 3.8775e-05 - val_acc: 0.0394\n",
      "Epoch 82/200\n",
      "256000/256000 [==============================] - 15s 60us/step - loss: 3.7409e-05 - acc: 0.0419 - val_loss: 3.8624e-05 - val_acc: 0.0406\n",
      "Epoch 83/200\n",
      "256000/256000 [==============================] - 15s 58us/step - loss: 3.7263e-05 - acc: 0.0435 - val_loss: 3.8396e-05 - val_acc: 0.0420\n",
      "Epoch 84/200\n",
      "256000/256000 [==============================] - 16s 61us/step - loss: 3.7120e-05 - acc: 0.0444 - val_loss: 3.8233e-05 - val_acc: 0.0436\n",
      "Epoch 85/200\n",
      "256000/256000 [==============================] - 15s 58us/step - loss: 3.7001e-05 - acc: 0.0451 - val_loss: 3.8206e-05 - val_acc: 0.0433\n",
      "Epoch 86/200\n",
      "256000/256000 [==============================] - 15s 60us/step - loss: 3.6881e-05 - acc: 0.0453 - val_loss: 3.8153e-05 - val_acc: 0.0418\n",
      "Epoch 87/200\n",
      "256000/256000 [==============================] - 15s 58us/step - loss: 3.6753e-05 - acc: 0.0450 - val_loss: 3.8180e-05 - val_acc: 0.0412\n",
      "Epoch 88/200\n",
      "256000/256000 [==============================] - 15s 60us/step - loss: 3.6602e-05 - acc: 0.0435 - val_loss: 3.8034e-05 - val_acc: 0.0363\n",
      "Epoch 89/200\n",
      "256000/256000 [==============================] - 15s 58us/step - loss: 3.6020e-05 - acc: 0.0410 - val_loss: 3.7370e-05 - val_acc: 0.0380\n",
      "Epoch 90/200\n",
      "256000/256000 [==============================] - 15s 60us/step - loss: 3.5714e-05 - acc: 0.0438 - val_loss: 3.7218e-05 - val_acc: 0.0403\n",
      "Epoch 91/200\n",
      "256000/256000 [==============================] - 15s 58us/step - loss: 3.5538e-05 - acc: 0.0458 - val_loss: 3.7082e-05 - val_acc: 0.0414\n",
      "Epoch 92/200\n",
      "256000/256000 [==============================] - 15s 60us/step - loss: 3.5416e-05 - acc: 0.0473 - val_loss: 3.6864e-05 - val_acc: 0.0427\n",
      "Epoch 93/200\n",
      "256000/256000 [==============================] - 15s 58us/step - loss: 3.5320e-05 - acc: 0.0486 - val_loss: 3.6709e-05 - val_acc: 0.0441\n",
      "Epoch 94/200\n",
      "256000/256000 [==============================] - 15s 60us/step - loss: 3.5232e-05 - acc: 0.0499 - val_loss: 3.6254e-05 - val_acc: 0.0475\n",
      "Epoch 95/200\n",
      "256000/256000 [==============================] - 15s 59us/step - loss: 3.5152e-05 - acc: 0.0495 - val_loss: 3.6027e-05 - val_acc: 0.0469\n",
      "Epoch 96/200\n",
      "256000/256000 [==============================] - 15s 60us/step - loss: 3.5077e-05 - acc: 0.0496 - val_loss: 3.5933e-05 - val_acc: 0.0457\n",
      "Epoch 97/200\n",
      "256000/256000 [==============================] - 15s 58us/step - loss: 3.5004e-05 - acc: 0.0492 - val_loss: 3.5840e-05 - val_acc: 0.0441\n",
      "Epoch 98/200\n",
      "256000/256000 [==============================] - 15s 60us/step - loss: 3.4940e-05 - acc: 0.0479 - val_loss: 3.5749e-05 - val_acc: 0.0432\n",
      "Epoch 99/200\n",
      "256000/256000 [==============================] - 15s 58us/step - loss: 3.4876e-05 - acc: 0.0464 - val_loss: 3.5669e-05 - val_acc: 0.0400\n",
      "Epoch 100/200\n",
      "256000/256000 [==============================] - 15s 60us/step - loss: 3.4816e-05 - acc: 0.0437 - val_loss: 3.5597e-05 - val_acc: 0.0384\n",
      "Epoch 101/200\n",
      "256000/256000 [==============================] - 15s 58us/step - loss: 3.4759e-05 - acc: 0.0423 - val_loss: 3.5522e-05 - val_acc: 0.0359\n",
      "Epoch 102/200\n",
      "256000/256000 [==============================] - 15s 60us/step - loss: 3.4708e-05 - acc: 0.0404 - val_loss: 3.5439e-05 - val_acc: 0.0350\n",
      "Epoch 103/200\n",
      "256000/256000 [==============================] - 15s 58us/step - loss: 3.4659e-05 - acc: 0.0388 - val_loss: 3.5411e-05 - val_acc: 0.0330\n",
      "Epoch 104/200\n",
      "256000/256000 [==============================] - 16s 61us/step - loss: 3.4609e-05 - acc: 0.0364 - val_loss: 3.5315e-05 - val_acc: 0.0320\n",
      "Epoch 105/200\n",
      "256000/256000 [==============================] - 15s 58us/step - loss: 3.4563e-05 - acc: 0.0344 - val_loss: 3.5270e-05 - val_acc: 0.0295\n",
      "Epoch 106/200\n",
      "256000/256000 [==============================] - 15s 59us/step - loss: 3.4518e-05 - acc: 0.0333 - val_loss: 3.5242e-05 - val_acc: 0.0284\n",
      "Epoch 107/200\n",
      "256000/256000 [==============================] - 15s 58us/step - loss: 3.4480e-05 - acc: 0.0314 - val_loss: 3.5185e-05 - val_acc: 0.0269\n",
      "Epoch 108/200\n",
      "256000/256000 [==============================] - 15s 60us/step - loss: 3.4445e-05 - acc: 0.0296 - val_loss: 3.5136e-05 - val_acc: 0.0253\n",
      "Epoch 109/200\n",
      "256000/256000 [==============================] - 15s 58us/step - loss: 3.4413e-05 - acc: 0.0286 - val_loss: 3.5090e-05 - val_acc: 0.0247\n",
      "Epoch 110/200\n",
      "256000/256000 [==============================] - 15s 60us/step - loss: 3.4384e-05 - acc: 0.0273 - val_loss: 3.5086e-05 - val_acc: 0.0239\n",
      "Epoch 111/200\n",
      "256000/256000 [==============================] - 15s 58us/step - loss: 3.4359e-05 - acc: 0.0264 - val_loss: 3.5012e-05 - val_acc: 0.0246\n",
      "Epoch 112/200\n",
      "256000/256000 [==============================] - 15s 60us/step - loss: 3.4333e-05 - acc: 0.0255 - val_loss: 3.4970e-05 - val_acc: 0.0230\n",
      "Epoch 113/200\n",
      "256000/256000 [==============================] - 15s 59us/step - loss: 3.4307e-05 - acc: 0.0245 - val_loss: 3.5015e-05 - val_acc: 0.0203\n",
      "Epoch 114/200\n",
      "256000/256000 [==============================] - 15s 60us/step - loss: 3.4285e-05 - acc: 0.0237 - val_loss: 3.4952e-05 - val_acc: 0.0214\n",
      "Epoch 115/200\n",
      "256000/256000 [==============================] - 15s 58us/step - loss: 3.4267e-05 - acc: 0.0226 - val_loss: 3.4888e-05 - val_acc: 0.0203\n",
      "Epoch 116/200\n",
      "256000/256000 [==============================] - 15s 60us/step - loss: 3.4248e-05 - acc: 0.0203 - val_loss: 3.4882e-05 - val_acc: 0.0182\n",
      "Epoch 117/200\n",
      "256000/256000 [==============================] - 15s 58us/step - loss: 3.4229e-05 - acc: 0.0190 - val_loss: 3.4919e-05 - val_acc: 0.0155\n",
      "Epoch 118/200\n",
      "256000/256000 [==============================] - 15s 60us/step - loss: 3.4216e-05 - acc: 0.0175 - val_loss: 3.4853e-05 - val_acc: 0.0145\n",
      "Epoch 119/200\n",
      "256000/256000 [==============================] - 15s 58us/step - loss: 3.4199e-05 - acc: 0.0161 - val_loss: 3.4833e-05 - val_acc: 0.0141\n",
      "Epoch 120/200\n",
      "256000/256000 [==============================] - 15s 60us/step - loss: 3.4183e-05 - acc: 0.0147 - val_loss: 3.4840e-05 - val_acc: 0.0126\n",
      "Epoch 121/200\n",
      "256000/256000 [==============================] - 15s 58us/step - loss: 3.4171e-05 - acc: 0.0136 - val_loss: 3.4787e-05 - val_acc: 0.0112\n",
      "Epoch 122/200\n",
      "256000/256000 [==============================] - 15s 60us/step - loss: 3.4157e-05 - acc: 0.0127 - val_loss: 3.4773e-05 - val_acc: 0.0108\n",
      "Epoch 123/200\n",
      "256000/256000 [==============================] - 15s 59us/step - loss: 3.4145e-05 - acc: 0.0118 - val_loss: 3.4736e-05 - val_acc: 0.0104\n",
      "Epoch 124/200\n",
      "256000/256000 [==============================] - 15s 60us/step - loss: 3.4131e-05 - acc: 0.0109 - val_loss: 3.4696e-05 - val_acc: 0.0095\n",
      "Epoch 125/200\n",
      "256000/256000 [==============================] - 15s 58us/step - loss: 3.4125e-05 - acc: 0.0101 - val_loss: 3.4798e-05 - val_acc: 0.0082\n",
      "Epoch 126/200\n",
      "256000/256000 [==============================] - 15s 60us/step - loss: 3.4109e-05 - acc: 0.0099 - val_loss: 3.4671e-05 - val_acc: 0.0091\n",
      "Epoch 127/200\n",
      "256000/256000 [==============================] - 15s 58us/step - loss: 3.4099e-05 - acc: 0.0096 - val_loss: 3.4752e-05 - val_acc: 0.0075\n",
      "Epoch 128/200\n",
      "256000/256000 [==============================] - 15s 60us/step - loss: 3.4091e-05 - acc: 0.0093 - val_loss: 3.4628e-05 - val_acc: 0.0076\n",
      "Epoch 129/200\n",
      "256000/256000 [==============================] - 15s 58us/step - loss: 3.4081e-05 - acc: 0.0088 - val_loss: 3.4721e-05 - val_acc: 0.0076\n",
      "Epoch 130/200\n",
      "256000/256000 [==============================] - 15s 60us/step - loss: 3.4069e-05 - acc: 0.0079 - val_loss: 3.4610e-05 - val_acc: 0.0065\n",
      "Epoch 131/200\n",
      "256000/256000 [==============================] - 15s 59us/step - loss: 3.4058e-05 - acc: 0.0074 - val_loss: 3.4771e-05 - val_acc: 0.0052\n",
      "Epoch 132/200\n",
      "256000/256000 [==============================] - 15s 59us/step - loss: 3.4050e-05 - acc: 0.0067 - val_loss: 3.4541e-05 - val_acc: 0.0059\n",
      "Epoch 133/200\n",
      "256000/256000 [==============================] - 15s 59us/step - loss: 3.4037e-05 - acc: 0.0062 - val_loss: 3.4534e-05 - val_acc: 0.0052\n",
      "Epoch 134/200\n",
      "256000/256000 [==============================] - 15s 59us/step - loss: 3.4027e-05 - acc: 0.0057 - val_loss: 3.4604e-05 - val_acc: 0.0051\n",
      "Epoch 135/200\n",
      "256000/256000 [==============================] - 15s 59us/step - loss: 3.4020e-05 - acc: 0.0056 - val_loss: 3.4630e-05 - val_acc: 0.0053\n",
      "Epoch 136/200\n",
      "256000/256000 [==============================] - 15s 59us/step - loss: 3.4012e-05 - acc: 0.0054 - val_loss: 3.4577e-05 - val_acc: 0.0048\n",
      "Epoch 137/200\n",
      "256000/256000 [==============================] - 15s 59us/step - loss: 3.4003e-05 - acc: 0.0053 - val_loss: 3.4524e-05 - val_acc: 0.0049\n",
      "Epoch 138/200\n",
      "256000/256000 [==============================] - 15s 59us/step - loss: 3.3992e-05 - acc: 0.0052 - val_loss: 3.4539e-05 - val_acc: 0.0049\n",
      "Epoch 139/200\n",
      "256000/256000 [==============================] - 15s 59us/step - loss: 3.3980e-05 - acc: 0.0054 - val_loss: 3.4437e-05 - val_acc: 0.0051\n",
      "Epoch 140/200\n",
      "256000/256000 [==============================] - 15s 59us/step - loss: 3.3975e-05 - acc: 0.0054 - val_loss: 3.4572e-05 - val_acc: 0.0050\n",
      "Epoch 141/200\n",
      "256000/256000 [==============================] - 15s 60us/step - loss: 3.3961e-05 - acc: 0.0056 - val_loss: 3.4387e-05 - val_acc: 0.0051\n",
      "Epoch 142/200\n",
      "256000/256000 [==============================] - 15s 58us/step - loss: 3.3955e-05 - acc: 0.0057 - val_loss: 3.4387e-05 - val_acc: 0.0051\n",
      "Epoch 143/200\n",
      "256000/256000 [==============================] - 15s 60us/step - loss: 3.3942e-05 - acc: 0.0058 - val_loss: 3.4365e-05 - val_acc: 0.0050\n",
      "Epoch 144/200\n",
      "256000/256000 [==============================] - 15s 58us/step - loss: 3.3942e-05 - acc: 0.0061 - val_loss: 3.4392e-05 - val_acc: 0.0051\n",
      "Epoch 145/200\n",
      "256000/256000 [==============================] - 15s 60us/step - loss: 3.3928e-05 - acc: 0.0071 - val_loss: 3.4364e-05 - val_acc: 0.0050\n",
      "Epoch 146/200\n",
      "256000/256000 [==============================] - 15s 58us/step - loss: 3.3917e-05 - acc: 0.0068 - val_loss: 3.4350e-05 - val_acc: 0.0053\n",
      "Epoch 147/200\n",
      "256000/256000 [==============================] - 15s 60us/step - loss: 3.3913e-05 - acc: 0.0082 - val_loss: 3.4393e-05 - val_acc: 0.0051\n",
      "Epoch 148/200\n",
      "256000/256000 [==============================] - 15s 58us/step - loss: 3.3900e-05 - acc: 0.0084 - val_loss: 3.4271e-05 - val_acc: 0.0095\n",
      "Epoch 149/200\n",
      "256000/256000 [==============================] - 15s 60us/step - loss: 3.3892e-05 - acc: 0.0087 - val_loss: 3.4374e-05 - val_acc: 0.0088\n",
      "Epoch 150/200\n",
      "256000/256000 [==============================] - 15s 58us/step - loss: 3.3889e-05 - acc: 0.0091 - val_loss: 3.4244e-05 - val_acc: 0.0096\n",
      "Epoch 151/200\n",
      "256000/256000 [==============================] - 15s 60us/step - loss: 3.3876e-05 - acc: 0.0091 - val_loss: 3.4277e-05 - val_acc: 0.0064\n",
      "Epoch 152/200\n",
      "256000/256000 [==============================] - 15s 59us/step - loss: 3.3872e-05 - acc: 0.0092 - val_loss: 3.4305e-05 - val_acc: 0.0092\n",
      "Epoch 153/200\n",
      "256000/256000 [==============================] - 15s 60us/step - loss: 3.3861e-05 - acc: 0.0093 - val_loss: 3.4268e-05 - val_acc: 0.0093\n",
      "Epoch 154/200\n",
      "256000/256000 [==============================] - 15s 58us/step - loss: 3.3861e-05 - acc: 0.0092 - val_loss: 3.4181e-05 - val_acc: 0.0093\n",
      "Epoch 155/200\n",
      "256000/256000 [==============================] - 15s 60us/step - loss: 3.3850e-05 - acc: 0.0091 - val_loss: 3.4183e-05 - val_acc: 0.0094\n",
      "Epoch 156/200\n",
      "256000/256000 [==============================] - 15s 58us/step - loss: 3.3843e-05 - acc: 0.0094 - val_loss: 3.4237e-05 - val_acc: 0.0093\n",
      "Epoch 157/200\n",
      "256000/256000 [==============================] - 15s 60us/step - loss: 3.3836e-05 - acc: 0.0095 - val_loss: 3.4152e-05 - val_acc: 0.0091\n",
      "Epoch 158/200\n",
      "256000/256000 [==============================] - 15s 58us/step - loss: 3.3828e-05 - acc: 0.0091 - val_loss: 3.4266e-05 - val_acc: 0.0093\n",
      "Epoch 159/200\n",
      "256000/256000 [==============================] - 15s 60us/step - loss: 3.3821e-05 - acc: 0.0090 - val_loss: 3.4179e-05 - val_acc: 0.0089\n",
      "Epoch 160/200\n",
      "256000/256000 [==============================] - 15s 60us/step - loss: 3.3808e-05 - acc: 0.0091 - val_loss: 3.4112e-05 - val_acc: 0.0092\n",
      "Epoch 161/200\n",
      "256000/256000 [==============================] - 16s 61us/step - loss: 3.3787e-05 - acc: 0.0094 - val_loss: 3.4093e-05 - val_acc: 0.0100\n",
      "Epoch 162/200\n",
      "256000/256000 [==============================] - 15s 59us/step - loss: 3.3772e-05 - acc: 0.0093 - val_loss: 3.4187e-05 - val_acc: 0.0090\n",
      "Epoch 163/200\n",
      "256000/256000 [==============================] - 16s 61us/step - loss: 3.3755e-05 - acc: 0.0096 - val_loss: 3.4153e-05 - val_acc: 0.0109\n",
      "Epoch 164/200\n",
      "256000/256000 [==============================] - 15s 59us/step - loss: 3.3741e-05 - acc: 0.0095 - val_loss: 3.4140e-05 - val_acc: 0.0108\n",
      "Epoch 165/200\n",
      "256000/256000 [==============================] - 16s 61us/step - loss: 3.3727e-05 - acc: 0.0107 - val_loss: 3.4024e-05 - val_acc: 0.0097\n",
      "Epoch 166/200\n",
      "256000/256000 [==============================] - 15s 59us/step - loss: 3.3716e-05 - acc: 0.0099 - val_loss: 3.3991e-05 - val_acc: 0.0099\n",
      "Epoch 167/200\n",
      "256000/256000 [==============================] - 15s 60us/step - loss: 3.3704e-05 - acc: 0.0102 - val_loss: 3.3968e-05 - val_acc: 0.0099\n",
      "Epoch 168/200\n",
      "256000/256000 [==============================] - 15s 60us/step - loss: 3.3695e-05 - acc: 0.0099 - val_loss: 3.3945e-05 - val_acc: 0.0099\n",
      "Epoch 169/200\n",
      "256000/256000 [==============================] - 15s 59us/step - loss: 3.3684e-05 - acc: 0.0106 - val_loss: 3.3891e-05 - val_acc: 0.0114\n",
      "Epoch 170/200\n",
      "256000/256000 [==============================] - 15s 61us/step - loss: 3.3674e-05 - acc: 0.0115 - val_loss: 3.4044e-05 - val_acc: 0.0119\n",
      "Epoch 171/200\n",
      "256000/256000 [==============================] - 15s 60us/step - loss: 3.3665e-05 - acc: 0.0124 - val_loss: 3.3888e-05 - val_acc: 0.0127\n",
      "Epoch 172/200\n",
      "256000/256000 [==============================] - 16s 61us/step - loss: 3.3660e-05 - acc: 0.0120 - val_loss: 3.3851e-05 - val_acc: 0.0122\n",
      "Epoch 173/200\n",
      "256000/256000 [==============================] - 15s 59us/step - loss: 3.3642e-05 - acc: 0.0117 - val_loss: 3.3825e-05 - val_acc: 0.0126\n",
      "Epoch 174/200\n",
      "256000/256000 [==============================] - 16s 61us/step - loss: 3.3576e-05 - acc: 0.0118 - val_loss: 3.3759e-05 - val_acc: 0.0125\n",
      "Epoch 175/200\n",
      "256000/256000 [==============================] - 15s 59us/step - loss: 3.3536e-05 - acc: 0.0114 - val_loss: 3.3696e-05 - val_acc: 0.0122\n",
      "Epoch 176/200\n",
      "256000/256000 [==============================] - 15s 60us/step - loss: 3.3520e-05 - acc: 0.0114 - val_loss: 3.3686e-05 - val_acc: 0.0115\n",
      "Epoch 177/200\n",
      "256000/256000 [==============================] - 15s 59us/step - loss: 3.3504e-05 - acc: 0.0115 - val_loss: 3.3695e-05 - val_acc: 0.0131\n",
      "Epoch 178/200\n",
      "256000/256000 [==============================] - 16s 62us/step - loss: 3.3455e-05 - acc: 0.0128 - val_loss: 3.3709e-05 - val_acc: 0.0129\n",
      "Epoch 179/200\n",
      "256000/256000 [==============================] - 15s 59us/step - loss: 3.3429e-05 - acc: 0.0128 - val_loss: 3.3596e-05 - val_acc: 0.0130\n",
      "Epoch 180/200\n",
      "256000/256000 [==============================] - 16s 61us/step - loss: 3.3421e-05 - acc: 0.0128 - val_loss: 3.3590e-05 - val_acc: 0.0126\n",
      "Epoch 181/200\n",
      "256000/256000 [==============================] - 15s 59us/step - loss: 3.3413e-05 - acc: 0.0129 - val_loss: 3.3585e-05 - val_acc: 0.0130\n",
      "Epoch 182/200\n",
      "256000/256000 [==============================] - 16s 61us/step - loss: 3.3406e-05 - acc: 0.0131 - val_loss: 3.3699e-05 - val_acc: 0.0150\n",
      "Epoch 183/200\n",
      "256000/256000 [==============================] - 15s 59us/step - loss: 3.3403e-05 - acc: 0.0140 - val_loss: 3.3632e-05 - val_acc: 0.0140\n",
      "Epoch 184/200\n",
      "256000/256000 [==============================] - 16s 61us/step - loss: 3.3393e-05 - acc: 0.0154 - val_loss: 3.3558e-05 - val_acc: 0.0167\n",
      "Epoch 185/200\n",
      "256000/256000 [==============================] - 15s 59us/step - loss: 3.3379e-05 - acc: 0.0160 - val_loss: 3.3556e-05 - val_acc: 0.0162\n",
      "Epoch 186/200\n",
      "256000/256000 [==============================] - 15s 60us/step - loss: 3.3363e-05 - acc: 0.0158 - val_loss: 3.3486e-05 - val_acc: 0.0158\n",
      "Epoch 187/200\n",
      "256000/256000 [==============================] - 15s 59us/step - loss: 3.3358e-05 - acc: 0.0152 - val_loss: 3.3487e-05 - val_acc: 0.0161\n",
      "Epoch 188/200\n",
      "256000/256000 [==============================] - 15s 60us/step - loss: 3.3337e-05 - acc: 0.0150 - val_loss: 3.3502e-05 - val_acc: 0.0145\n",
      "Epoch 189/200\n",
      "256000/256000 [==============================] - 15s 59us/step - loss: 3.3333e-05 - acc: 0.0154 - val_loss: 3.3515e-05 - val_acc: 0.0154\n",
      "Epoch 190/200\n",
      "256000/256000 [==============================] - 16s 61us/step - loss: 3.3322e-05 - acc: 0.0151 - val_loss: 3.3512e-05 - val_acc: 0.0155\n",
      "Epoch 191/200\n",
      "256000/256000 [==============================] - 15s 59us/step - loss: 3.3313e-05 - acc: 0.0151 - val_loss: 3.3577e-05 - val_acc: 0.0140\n",
      "--- AE spent 2913.659490585327 seconds ---\n"
     ]
    }
   ],
   "source": [
    "hist_ae_sigmoid_adam_mse = fit_ae(checkpoint_file = \"ae_sigmoid_adam_mse_redds10bal.h5\",\n",
    "                                  autoencoder = ae_sigmoid_adam_mse, \n",
    "                                  epochs = 200, \n",
    "                                  batch_size = 48,\n",
    "                                  shuffle = False)"
   ]
  },
  {
   "cell_type": "code",
   "execution_count": 35,
   "metadata": {},
   "outputs": [
    {
     "name": "stdout",
     "output_type": "stream",
     "text": [
      "Best loss value: 3.331291746292209e-05\n"
     ]
    },
    {
     "data": {
      "image/png": "[encoded data removed]",
      "text/plain": [
       "<Figure size 432x288 with 1 Axes>"
      ]
     },
     "metadata": {
      "needs_background": "light"
     },
     "output_type": "display_data"
    }
   ],
   "source": [
    "best_loss_value_ae_sigmoid_adam_mse  = plot_hist_auto(hist_ae_sigmoid_adam_mse, './Figures/hist_ae_sigmoid_adam_mse.png')"
   ]
  },
  {
   "cell_type": "code",
   "execution_count": 36,
   "metadata": {},
   "outputs": [
    {
     "name": "stdout",
     "output_type": "stream",
     "text": [
      "_________________________________________________________________\n",
      "Layer (type)                 Output Shape              Param #   \n",
      "=================================================================\n",
      "input_3 (InputLayer)         (None, 48)                0         \n",
      "_________________________________________________________________\n",
      "input_layer (Dense)          (None, 32)                1568      \n",
      "_________________________________________________________________\n",
      "dense_3 (Dense)              (None, 16)                528       \n",
      "_________________________________________________________________\n",
      "enc_bottle_neck (Dense)      (None, 8)                 136       \n",
      "_________________________________________________________________\n",
      "dense_4 (Dense)              (None, 16)                144       \n",
      "_________________________________________________________________\n",
      "dense_5 (Dense)              (None, 32)                544       \n",
      "_________________________________________________________________\n",
      "dense_6 (Dense)              (None, 48)                1584      \n",
      "=================================================================\n",
      "Total params: 4,504\n",
      "Trainable params: 4,504\n",
      "Non-trainable params: 0\n",
      "_________________________________________________________________\n",
      "None\n"
     ]
    }
   ],
   "source": [
    "sae_sigmoid_adam_mse,enc_train_x_ssam,enc_test_x_ssam = sae(factor_enc_dim = 1.5,\n",
    "                                                          output_activation = 'sigmoid',\n",
    "                                                          optimizer='Adam',\n",
    "                                                          loss='mean_squared_error')"
   ]
  },
  {
   "cell_type": "code",
   "execution_count": 37,
   "metadata": {},
   "outputs": [],
   "source": [
    "#sae_sigmoid_adam_mse = load_model('sae_sigmoid_adam_mse_redds10bal.h5')"
   ]
  },
  {
   "cell_type": "code",
   "execution_count": 38,
   "metadata": {},
   "outputs": [
    {
     "name": "stdout",
     "output_type": "stream",
     "text": [
      "Tue Jun  4 22:14:09 2019\n",
      "Train on 256000 samples, validate on 64000 samples\n",
      "Epoch 1/200\n",
      "256000/256000 [==============================] - 21s 84us/step - loss: 0.0220 - acc: 0.1879 - val_loss: 0.0119 - val_acc: 0.3451\n",
      "Epoch 2/200\n",
      "256000/256000 [==============================] - 22s 85us/step - loss: 0.0100 - acc: 0.3729 - val_loss: 0.0092 - val_acc: 0.3995\n",
      "Epoch 3/200\n",
      "256000/256000 [==============================] - 22s 84us/step - loss: 0.0091 - acc: 0.4101 - val_loss: 0.0088 - val_acc: 0.4290\n",
      "Epoch 4/200\n",
      "256000/256000 [==============================] - 21s 83us/step - loss: 0.0088 - acc: 0.4170 - val_loss: 0.0085 - val_acc: 0.4439\n",
      "Epoch 5/200\n",
      "256000/256000 [==============================] - 22s 84us/step - loss: 0.0084 - acc: 0.4214 - val_loss: 0.0083 - val_acc: 0.3808\n",
      "Epoch 6/200\n",
      "256000/256000 [==============================] - 21s 83us/step - loss: 0.0083 - acc: 0.3721 - val_loss: 0.0082 - val_acc: 0.3527\n",
      "Epoch 7/200\n",
      "256000/256000 [==============================] - 21s 84us/step - loss: 0.0077 - acc: 0.3409 - val_loss: 0.0073 - val_acc: 0.3332\n",
      "Epoch 8/200\n",
      "256000/256000 [==============================] - 22s 85us/step - loss: 0.0073 - acc: 0.3150 - val_loss: 0.0071 - val_acc: 0.3275\n",
      "Epoch 9/200\n",
      "256000/256000 [==============================] - 21s 83us/step - loss: 0.0072 - acc: 0.3144 - val_loss: 0.0072 - val_acc: 0.3484\n",
      "Epoch 10/200\n",
      "256000/256000 [==============================] - 21s 84us/step - loss: 0.0071 - acc: 0.3034 - val_loss: 0.0070 - val_acc: 0.3043\n",
      "Epoch 11/200\n",
      "256000/256000 [==============================] - 22s 85us/step - loss: 0.0071 - acc: 0.3423 - val_loss: 0.0069 - val_acc: 0.3446\n",
      "Epoch 12/200\n",
      "256000/256000 [==============================] - 21s 84us/step - loss: 0.0070 - acc: 0.3254 - val_loss: 0.0069 - val_acc: 0.2824\n",
      "Epoch 13/200\n",
      "256000/256000 [==============================] - 22s 85us/step - loss: 0.0070 - acc: 0.3426 - val_loss: 0.0064 - val_acc: 0.4866\n",
      "Epoch 14/200\n",
      "256000/256000 [==============================] - 21s 83us/step - loss: 0.0062 - acc: 0.4337 - val_loss: 0.0061 - val_acc: 0.3597\n",
      "Epoch 15/200\n",
      "256000/256000 [==============================] - 21s 84us/step - loss: 0.0062 - acc: 0.3670 - val_loss: 0.0064 - val_acc: 0.3714\n",
      "Epoch 16/200\n",
      "256000/256000 [==============================] - 22s 86us/step - loss: 0.0061 - acc: 0.4330 - val_loss: 0.0061 - val_acc: 0.3743\n",
      "Epoch 17/200\n",
      "256000/256000 [==============================] - 21s 83us/step - loss: 0.0061 - acc: 0.3743 - val_loss: 0.0062 - val_acc: 0.3528\n",
      "Epoch 18/200\n",
      "256000/256000 [==============================] - 21s 83us/step - loss: 0.0061 - acc: 0.3754 - val_loss: 0.0061 - val_acc: 0.4145\n",
      "Epoch 19/200\n",
      "256000/256000 [==============================] - 22s 86us/step - loss: 0.0060 - acc: 0.3947 - val_loss: 0.0060 - val_acc: 0.3833\n",
      "Epoch 20/200\n",
      "256000/256000 [==============================] - 21s 83us/step - loss: 0.0060 - acc: 0.3668 - val_loss: 0.0059 - val_acc: 0.3689\n",
      "Epoch 21/200\n",
      "256000/256000 [==============================] - 21s 84us/step - loss: 0.0060 - acc: 0.4196 - val_loss: 0.0059 - val_acc: 0.3762\n",
      "Epoch 22/200\n",
      "256000/256000 [==============================] - 22s 85us/step - loss: 0.0060 - acc: 0.3668 - val_loss: 0.0059 - val_acc: 0.3646\n",
      "Epoch 23/200\n",
      "256000/256000 [==============================] - 21s 83us/step - loss: 0.0060 - acc: 0.3400 - val_loss: 0.0059 - val_acc: 0.3131\n",
      "Epoch 24/200\n",
      "256000/256000 [==============================] - 21s 83us/step - loss: 0.0060 - acc: 0.3856 - val_loss: 0.0059 - val_acc: 0.3569\n",
      "Epoch 25/200\n",
      "256000/256000 [==============================] - 22s 85us/step - loss: 0.0060 - acc: 0.3624 - val_loss: 0.0056 - val_acc: 0.4780\n",
      "Epoch 26/200\n",
      "256000/256000 [==============================] - 21s 83us/step - loss: 0.0057 - acc: 0.4006 - val_loss: 0.0056 - val_acc: 0.4097\n",
      "Epoch 27/200\n",
      "256000/256000 [==============================] - 22s 84us/step - loss: 0.0057 - acc: 0.3703 - val_loss: 0.0056 - val_acc: 0.3211\n",
      "Epoch 28/200\n",
      "256000/256000 [==============================] - 21s 83us/step - loss: 0.0057 - acc: 0.3501 - val_loss: 0.0056 - val_acc: 0.3749\n",
      "Epoch 29/200\n",
      "256000/256000 [==============================] - 21s 84us/step - loss: 0.0057 - acc: 0.3268 - val_loss: 0.0056 - val_acc: 0.3677\n",
      "Epoch 30/200\n",
      "256000/256000 [==============================] - 22s 84us/step - loss: 0.0056 - acc: 0.3197 - val_loss: 0.0056 - val_acc: 0.3223\n",
      "Epoch 31/200\n",
      "256000/256000 [==============================] - 21s 82us/step - loss: 0.0056 - acc: 0.3274 - val_loss: 0.0055 - val_acc: 0.3247\n",
      "Epoch 32/200\n",
      "256000/256000 [==============================] - 21s 83us/step - loss: 0.0057 - acc: 0.3474 - val_loss: 0.0064 - val_acc: 0.3456\n",
      "Epoch 33/200\n",
      "256000/256000 [==============================] - 22s 85us/step - loss: 0.0056 - acc: 0.3038 - val_loss: 0.0055 - val_acc: 0.3093\n",
      "Epoch 34/200\n",
      "256000/256000 [==============================] - 21s 83us/step - loss: 0.0056 - acc: 0.3368 - val_loss: 0.0056 - val_acc: 0.3352\n",
      "Epoch 35/200\n",
      "256000/256000 [==============================] - 21s 83us/step - loss: 0.0057 - acc: 0.3107 - val_loss: 0.0055 - val_acc: 0.2691\n",
      "Epoch 36/200\n",
      "256000/256000 [==============================] - 22s 85us/step - loss: 0.0056 - acc: 0.3561 - val_loss: 0.0055 - val_acc: 0.5394\n",
      "Epoch 37/200\n",
      "256000/256000 [==============================] - 22s 84us/step - loss: 0.0054 - acc: 0.4675 - val_loss: 0.0053 - val_acc: 0.4172\n",
      "Epoch 38/200\n",
      "256000/256000 [==============================] - 21s 83us/step - loss: 0.0053 - acc: 0.4334 - val_loss: 0.0053 - val_acc: 0.4060\n",
      "Epoch 39/200\n",
      "256000/256000 [==============================] - 22s 85us/step - loss: 0.0053 - acc: 0.4728 - val_loss: 0.0052 - val_acc: 0.4966\n",
      "Epoch 40/200\n",
      "256000/256000 [==============================] - 21s 83us/step - loss: 0.0053 - acc: 0.5067 - val_loss: 0.0053 - val_acc: 0.5939\n",
      "Epoch 41/200\n",
      "256000/256000 [==============================] - 22s 85us/step - loss: 0.0053 - acc: 0.5496 - val_loss: 0.0052 - val_acc: 0.5728\n",
      "Epoch 42/200\n",
      "256000/256000 [==============================] - 21s 83us/step - loss: 0.0053 - acc: 0.5182 - val_loss: 0.0051 - val_acc: 0.4880\n",
      "Epoch 43/200\n",
      "256000/256000 [==============================] - 21s 83us/step - loss: 0.0052 - acc: 0.4891 - val_loss: 0.0052 - val_acc: 0.5033\n",
      "Epoch 44/200\n",
      "256000/256000 [==============================] - 22s 85us/step - loss: 0.0052 - acc: 0.5157 - val_loss: 0.0053 - val_acc: 0.4986\n",
      "Epoch 45/200\n",
      "256000/256000 [==============================] - 21s 83us/step - loss: 0.0052 - acc: 0.4811 - val_loss: 0.0052 - val_acc: 0.4415\n",
      "Epoch 46/200\n",
      "256000/256000 [==============================] - 21s 83us/step - loss: 0.0052 - acc: 0.5593 - val_loss: 0.0052 - val_acc: 0.5417\n",
      "Epoch 47/200\n",
      "256000/256000 [==============================] - 21s 84us/step - loss: 0.0051 - acc: 0.5668 - val_loss: 0.0050 - val_acc: 0.6290\n",
      "Epoch 48/200\n",
      "256000/256000 [==============================] - 21s 83us/step - loss: 0.0050 - acc: 0.6151 - val_loss: 0.0050 - val_acc: 0.5850\n",
      "Epoch 49/200\n",
      "256000/256000 [==============================] - 21s 82us/step - loss: 0.0051 - acc: 0.5933 - val_loss: 0.0050 - val_acc: 0.5720\n",
      "Epoch 50/200\n",
      "256000/256000 [==============================] - 22s 84us/step - loss: 0.0051 - acc: 0.5676 - val_loss: 0.0050 - val_acc: 0.5661\n",
      "Epoch 51/200\n",
      "256000/256000 [==============================] - 21s 82us/step - loss: 0.0051 - acc: 0.5446 - val_loss: 0.0050 - val_acc: 0.5609\n",
      "Epoch 52/200\n",
      "256000/256000 [==============================] - 21s 82us/step - loss: 0.0050 - acc: 0.5668 - val_loss: 0.0050 - val_acc: 0.5376\n",
      "Epoch 53/200\n",
      "256000/256000 [==============================] - 21s 84us/step - loss: 0.0050 - acc: 0.5642 - val_loss: 0.0053 - val_acc: 0.4529\n",
      "Epoch 54/200\n",
      "256000/256000 [==============================] - 21s 82us/step - loss: 0.0050 - acc: 0.5169 - val_loss: 0.0050 - val_acc: 0.5583\n",
      "Epoch 55/200\n",
      "256000/256000 [==============================] - 21s 83us/step - loss: 0.0053 - acc: 0.5509 - val_loss: 0.0055 - val_acc: 0.5273\n",
      "Epoch 56/200\n",
      "256000/256000 [==============================] - 21s 83us/step - loss: 0.0051 - acc: 0.5670 - val_loss: 0.0052 - val_acc: 0.5402\n",
      "--- AE spent 1200.833483695984 seconds ---\n"
     ]
    }
   ],
   "source": [
    "hist_sae_sigmoid_adam_mse = fit_ae(checkpoint_file = \"sae_sigmoid_adam_mse_redds10bal.h5\",\n",
    "                                        autoencoder = sae_sigmoid_adam_mse, \n",
    "                                        epochs = 200, \n",
    "                                        batch_size = 48, \n",
    "                                        shuffle = False)"
   ]
  },
  {
   "cell_type": "code",
   "execution_count": 39,
   "metadata": {},
   "outputs": [
    {
     "name": "stdout",
     "output_type": "stream",
     "text": [
      "Best loss value: 0.005147667305864161\n"
     ]
    },
    {
     "data": {
      "image/png": "[encoded data removed]",
      "text/plain": [
       "<Figure size 432x288 with 1 Axes>"
      ]
     },
     "metadata": {
      "needs_background": "light"
     },
     "output_type": "display_data"
    }
   ],
   "source": [
    "best_loss_value_sae_sigmoid_adam_mse  = plot_hist_auto(hist_sae_sigmoid_adam_mse, './Figures/hist_sae_sigmoid_adam_mse.png')"
   ]
  },
  {
   "cell_type": "code",
   "execution_count": 40,
   "metadata": {},
   "outputs": [
    {
     "name": "stdout",
     "output_type": "stream",
     "text": [
      "_________________________________________________________________\n",
      "Layer (type)                 Output Shape              Param #   \n",
      "=================================================================\n",
      "input_4 (InputLayer)         (None, 48)                0         \n",
      "_________________________________________________________________\n",
      "input_layer (Dense)          (None, 32)                1568      \n",
      "_________________________________________________________________\n",
      "dense_7 (Dense)              (None, 16)                528       \n",
      "_________________________________________________________________\n",
      "enc_bottle_neck (Dense)      (None, 8)                 136       \n",
      "_________________________________________________________________\n",
      "dense_8 (Dense)              (None, 16)                144       \n",
      "_________________________________________________________________\n",
      "dense_9 (Dense)              (None, 32)                544       \n",
      "_________________________________________________________________\n",
      "dense_10 (Dense)             (None, 48)                1584      \n",
      "=================================================================\n",
      "Total params: 4,504\n",
      "Trainable params: 4,504\n",
      "Non-trainable params: 0\n",
      "_________________________________________________________________\n",
      "None\n"
     ]
    }
   ],
   "source": [
    "sae_sigmoid_adam_logcosh,enc_train_x_ssal,enc_test_x_ssal = sae(factor_enc_dim = 1.5,\n",
    "                                                              output_activation = 'sigmoid',\n",
    "                                                              optimizer='Adam',\n",
    "                                                              loss='logcosh')"
   ]
  },
  {
   "cell_type": "code",
   "execution_count": 41,
   "metadata": {},
   "outputs": [],
   "source": [
    "from keras.utils import plot_model \n",
    "plot_model(sae_sigmoid_adam_logcosh, to_file='sae_sigmoid_adam_logcosh.png')\n",
    "from PIL import Image\n",
    "image = Image.open('sae_sigmoid_adam_logcosh.png')\n",
    "image.show()"
   ]
  },
  {
   "cell_type": "code",
   "execution_count": null,
   "metadata": {},
   "outputs": [],
   "source": []
  },
  {
   "cell_type": "code",
   "execution_count": 42,
   "metadata": {},
   "outputs": [],
   "source": [
    "#sae_sigmoid_adam_logcosh = load_model('sae_sigmoid_adam_logcosh_redds10bal.h5')"
   ]
  },
  {
   "cell_type": "code",
   "execution_count": 43,
   "metadata": {},
   "outputs": [
    {
     "name": "stdout",
     "output_type": "stream",
     "text": [
      "Tue Jun  4 22:34:19 2019\n",
      "Train on 256000 samples, validate on 64000 samples\n",
      "Epoch 1/200\n",
      "256000/256000 [==============================] - 22s 87us/step - loss: 0.0104 - acc: 0.0525 - val_loss: 0.0061 - val_acc: 0.1397\n",
      "Epoch 2/200\n",
      "256000/256000 [==============================] - 22s 85us/step - loss: 0.0055 - acc: 0.1419 - val_loss: 0.0048 - val_acc: 0.1692\n",
      "Epoch 3/200\n",
      "256000/256000 [==============================] - 22s 85us/step - loss: 0.0046 - acc: 0.1767 - val_loss: 0.0045 - val_acc: 0.2126\n",
      "Epoch 4/200\n",
      "256000/256000 [==============================] - 22s 86us/step - loss: 0.0045 - acc: 0.1955 - val_loss: 0.0043 - val_acc: 0.1910\n",
      "Epoch 5/200\n",
      "256000/256000 [==============================] - 22s 85us/step - loss: 0.0042 - acc: 0.2221 - val_loss: 0.0041 - val_acc: 0.2062\n",
      "Epoch 6/200\n",
      "256000/256000 [==============================] - 22s 86us/step - loss: 0.0041 - acc: 0.2842 - val_loss: 0.0043 - val_acc: 0.2807\n",
      "Epoch 7/200\n",
      "256000/256000 [==============================] - 22s 85us/step - loss: 0.0041 - acc: 0.3125 - val_loss: 0.0040 - val_acc: 0.3092\n",
      "Epoch 8/200\n",
      "256000/256000 [==============================] - 22s 85us/step - loss: 0.0040 - acc: 0.3383 - val_loss: 0.0040 - val_acc: 0.3625\n",
      "Epoch 9/200\n",
      "256000/256000 [==============================] - 22s 87us/step - loss: 0.0040 - acc: 0.3059 - val_loss: 0.0040 - val_acc: 0.3067\n",
      "Epoch 10/200\n",
      "256000/256000 [==============================] - 22s 85us/step - loss: 0.0040 - acc: 0.2981 - val_loss: 0.0040 - val_acc: 0.2781\n",
      "Epoch 11/200\n",
      "256000/256000 [==============================] - 22s 84us/step - loss: 0.0040 - acc: 0.3009 - val_loss: 0.0040 - val_acc: 0.3030\n",
      "Epoch 12/200\n",
      "256000/256000 [==============================] - 22s 86us/step - loss: 0.0040 - acc: 0.2982 - val_loss: 0.0040 - val_acc: 0.2969\n",
      "Epoch 13/200\n",
      "256000/256000 [==============================] - 22s 85us/step - loss: 0.0040 - acc: 0.3061 - val_loss: 0.0039 - val_acc: 0.3615\n",
      "Epoch 14/200\n",
      "256000/256000 [==============================] - 22s 84us/step - loss: 0.0040 - acc: 0.2724 - val_loss: 0.0039 - val_acc: 0.2538\n",
      "Epoch 15/200\n",
      "256000/256000 [==============================] - 22s 86us/step - loss: 0.0039 - acc: 0.2559 - val_loss: 0.0039 - val_acc: 0.2856\n",
      "Epoch 16/200\n",
      "256000/256000 [==============================] - 22s 84us/step - loss: 0.0039 - acc: 0.2313 - val_loss: 0.0039 - val_acc: 0.2039\n",
      "Epoch 17/200\n",
      "256000/256000 [==============================] - 22s 84us/step - loss: 0.0039 - acc: 0.2064 - val_loss: 0.0039 - val_acc: 0.1743\n",
      "Epoch 18/200\n",
      "256000/256000 [==============================] - 22s 86us/step - loss: 0.0039 - acc: 0.1872 - val_loss: 0.0039 - val_acc: 0.2534\n",
      "Epoch 19/200\n",
      "256000/256000 [==============================] - 22s 84us/step - loss: 0.0039 - acc: 0.1746 - val_loss: 0.0038 - val_acc: 0.1548\n",
      "Epoch 20/200\n",
      "256000/256000 [==============================] - 22s 84us/step - loss: 0.0039 - acc: 0.1592 - val_loss: 0.0040 - val_acc: 0.1731\n",
      "Epoch 21/200\n",
      "256000/256000 [==============================] - 22s 86us/step - loss: 0.0038 - acc: 0.1681 - val_loss: 0.0038 - val_acc: 0.1240\n",
      "Epoch 22/200\n",
      "256000/256000 [==============================] - 21s 84us/step - loss: 0.0038 - acc: 0.1467 - val_loss: 0.0038 - val_acc: 0.1932\n",
      "Epoch 23/200\n",
      "256000/256000 [==============================] - 22s 84us/step - loss: 0.0038 - acc: 0.1466 - val_loss: 0.0042 - val_acc: 0.3192\n",
      "Epoch 24/200\n",
      "256000/256000 [==============================] - 22s 86us/step - loss: 0.0038 - acc: 0.1752 - val_loss: 0.0038 - val_acc: 0.2180\n",
      "Epoch 25/200\n",
      "256000/256000 [==============================] - 21s 84us/step - loss: 0.0038 - acc: 0.1926 - val_loss: 0.0038 - val_acc: 0.2376\n",
      "Epoch 26/200\n",
      "256000/256000 [==============================] - 22s 84us/step - loss: 0.0038 - acc: 0.2375 - val_loss: 0.0038 - val_acc: 0.3294\n",
      "Epoch 27/200\n",
      "256000/256000 [==============================] - 22s 86us/step - loss: 0.0038 - acc: 0.2782 - val_loss: 0.0038 - val_acc: 0.2280\n",
      "Epoch 28/200\n",
      "256000/256000 [==============================] - 21s 84us/step - loss: 0.0038 - acc: 0.2749 - val_loss: 0.0038 - val_acc: 0.3009\n",
      "Epoch 29/200\n",
      "256000/256000 [==============================] - 22s 84us/step - loss: 0.0038 - acc: 0.2688 - val_loss: 0.0038 - val_acc: 0.2874\n",
      "Epoch 30/200\n",
      "256000/256000 [==============================] - 22s 86us/step - loss: 0.0038 - acc: 0.2809 - val_loss: 0.0037 - val_acc: 0.2865\n",
      "Epoch 31/200\n",
      "256000/256000 [==============================] - 19s 75us/step - loss: 0.0038 - acc: 0.3232 - val_loss: 0.0038 - val_acc: 0.2887\n",
      "Epoch 32/200\n",
      "256000/256000 [==============================] - 20s 76us/step - loss: 0.0038 - acc: 0.2942 - val_loss: 0.0037 - val_acc: 0.3111\n",
      "Epoch 33/200\n",
      "256000/256000 [==============================] - 20s 77us/step - loss: 0.0038 - acc: 0.3015 - val_loss: 0.0038 - val_acc: 0.3276\n",
      "Epoch 34/200\n",
      "256000/256000 [==============================] - 20s 77us/step - loss: 0.0038 - acc: 0.2966 - val_loss: 0.0037 - val_acc: 0.3039\n",
      "Epoch 35/200\n",
      "256000/256000 [==============================] - 20s 77us/step - loss: 0.0038 - acc: 0.3096 - val_loss: 0.0037 - val_acc: 0.3158\n",
      "Epoch 36/200\n",
      "256000/256000 [==============================] - 20s 77us/step - loss: 0.0038 - acc: 0.3240 - val_loss: 0.0037 - val_acc: 0.3426\n",
      "Epoch 37/200\n",
      "256000/256000 [==============================] - 20s 77us/step - loss: 0.0038 - acc: 0.3371 - val_loss: 0.0038 - val_acc: 0.3914\n",
      "Epoch 38/200\n",
      "256000/256000 [==============================] - 20s 77us/step - loss: 0.0038 - acc: 0.3355 - val_loss: 0.0037 - val_acc: 0.3449\n",
      "Epoch 39/200\n",
      "256000/256000 [==============================] - 20s 77us/step - loss: 0.0038 - acc: 0.3183 - val_loss: 0.0037 - val_acc: 0.3324\n",
      "Epoch 40/200\n",
      "256000/256000 [==============================] - 20s 77us/step - loss: 0.0037 - acc: 0.3553 - val_loss: 0.0036 - val_acc: 0.3973\n",
      "Epoch 41/200\n",
      "256000/256000 [==============================] - 20s 77us/step - loss: 0.0037 - acc: 0.3704 - val_loss: 0.0037 - val_acc: 0.4374\n",
      "Epoch 42/200\n",
      "256000/256000 [==============================] - 20s 77us/step - loss: 0.0037 - acc: 0.3773 - val_loss: 0.0037 - val_acc: 0.4028\n",
      "Epoch 43/200\n",
      "256000/256000 [==============================] - 20s 77us/step - loss: 0.0037 - acc: 0.3692 - val_loss: 0.0039 - val_acc: 0.3595\n",
      "Epoch 44/200\n",
      "256000/256000 [==============================] - 20s 77us/step - loss: 0.0037 - acc: 0.3909 - val_loss: 0.0037 - val_acc: 0.3836\n",
      "Epoch 45/200\n",
      "256000/256000 [==============================] - 19s 76us/step - loss: 0.0037 - acc: 0.3911 - val_loss: 0.0036 - val_acc: 0.4369\n",
      "Epoch 46/200\n",
      "256000/256000 [==============================] - 20s 77us/step - loss: 0.0037 - acc: 0.3906 - val_loss: 0.0036 - val_acc: 0.3543\n",
      "Epoch 47/200\n",
      "256000/256000 [==============================] - 20s 76us/step - loss: 0.0037 - acc: 0.3774 - val_loss: 0.0036 - val_acc: 0.3852\n",
      "Epoch 48/200\n",
      "256000/256000 [==============================] - 20s 77us/step - loss: 0.0037 - acc: 0.3940 - val_loss: 0.0036 - val_acc: 0.4693\n",
      "Epoch 49/200\n",
      "256000/256000 [==============================] - 20s 77us/step - loss: 0.0037 - acc: 0.4162 - val_loss: 0.0036 - val_acc: 0.4371\n",
      "Epoch 50/200\n",
      "256000/256000 [==============================] - 20s 76us/step - loss: 0.0037 - acc: 0.4015 - val_loss: 0.0036 - val_acc: 0.4419\n",
      "Epoch 51/200\n",
      "256000/256000 [==============================] - 20s 77us/step - loss: 0.0037 - acc: 0.4081 - val_loss: 0.0036 - val_acc: 0.4072\n",
      "Epoch 52/200\n",
      "256000/256000 [==============================] - 20s 77us/step - loss: 0.0037 - acc: 0.4137 - val_loss: 0.0036 - val_acc: 0.4421\n",
      "Epoch 53/200\n",
      "256000/256000 [==============================] - 20s 77us/step - loss: 0.0037 - acc: 0.4245 - val_loss: 0.0036 - val_acc: 0.4467\n",
      "Epoch 54/200\n",
      "256000/256000 [==============================] - 20s 77us/step - loss: 0.0037 - acc: 0.4389 - val_loss: 0.0036 - val_acc: 0.4466\n",
      "Epoch 55/200\n",
      "256000/256000 [==============================] - 20s 76us/step - loss: 0.0037 - acc: 0.4338 - val_loss: 0.0036 - val_acc: 0.4357\n",
      "Epoch 56/200\n",
      "256000/256000 [==============================] - 20s 78us/step - loss: 0.0037 - acc: 0.4309 - val_loss: 0.0036 - val_acc: 0.4400\n",
      "Epoch 57/200\n",
      "256000/256000 [==============================] - 20s 77us/step - loss: 0.0037 - acc: 0.4327 - val_loss: 0.0036 - val_acc: 0.4327\n",
      "Epoch 58/200\n",
      "256000/256000 [==============================] - 20s 78us/step - loss: 0.0037 - acc: 0.4302 - val_loss: 0.0036 - val_acc: 0.4527\n",
      "Epoch 59/200\n",
      "256000/256000 [==============================] - 20s 80us/step - loss: 0.0037 - acc: 0.4374 - val_loss: 0.0036 - val_acc: 0.4461\n",
      "Epoch 60/200\n",
      "256000/256000 [==============================] - 20s 80us/step - loss: 0.0037 - acc: 0.4284 - val_loss: 0.0036 - val_acc: 0.4251\n",
      "Epoch 61/200\n",
      "256000/256000 [==============================] - 21s 81us/step - loss: 0.0037 - acc: 0.4315 - val_loss: 0.0036 - val_acc: 0.4504\n",
      "--- AE spent 1266.958084821701 seconds ---\n"
     ]
    }
   ],
   "source": [
    "hist_sae_sigmoid_adam_logcosh = fit_ae(checkpoint_file = \"sae_sigmoid_adam_logcosh_redds10bal.h5\",\n",
    "                                        autoencoder = sae_sigmoid_adam_logcosh, \n",
    "                                        epochs = 200, \n",
    "                                        batch_size = 48, \n",
    "                                        shuffle = False)"
   ]
  },
  {
   "cell_type": "code",
   "execution_count": 44,
   "metadata": {},
   "outputs": [
    {
     "name": "stdout",
     "output_type": "stream",
     "text": [
      "Best loss value: 0.003662414710805024\n"
     ]
    },
    {
     "data": {
      "image/png": "[encoded data removed]",
      "text/plain": [
       "<Figure size 432x288 with 1 Axes>"
      ]
     },
     "metadata": {
      "needs_background": "light"
     },
     "output_type": "display_data"
    }
   ],
   "source": [
    "best_loss_value_sae_sigmoid_adam_logcosh  = plot_hist_auto(hist_sae_sigmoid_adam_logcosh, './Figures/hist_sae_sigmoid_adam_logcosh.png')"
   ]
  },
  {
   "cell_type": "code",
   "execution_count": 45,
   "metadata": {},
   "outputs": [
    {
     "name": "stdout",
     "output_type": "stream",
     "text": [
      "_________________________________________________________________\n",
      "Layer (type)                 Output Shape              Param #   \n",
      "=================================================================\n",
      "input_5 (InputLayer)         (None, 48)                0         \n",
      "_________________________________________________________________\n",
      "encoded_bottle_neck (Dense)  (None, 32)                1568      \n",
      "_________________________________________________________________\n",
      "dense_11 (Dense)             (None, 48)                1584      \n",
      "=================================================================\n",
      "Total params: 3,152\n",
      "Trainable params: 3,152\n",
      "Non-trainable params: 0\n",
      "_________________________________________________________________\n",
      "None\n"
     ]
    }
   ],
   "source": [
    "spae_sigmoid_adam_logcosh,enc_train_x_spaesal,enc_test_x_spaesal = ae(factor_enc_dim = 1.5,\n",
    "                                                              output_activation = 'sigmoid',\n",
    "                                                              optimizer='Adam',\n",
    "                                                              loss='logcosh')"
   ]
  },
  {
   "cell_type": "code",
   "execution_count": 46,
   "metadata": {},
   "outputs": [],
   "source": [
    "#spae_sigmoid_adam_logcosh = load_model('spae_sigmoid_adam_logcosh_redds10bal.h5')"
   ]
  },
  {
   "cell_type": "code",
   "execution_count": 47,
   "metadata": {},
   "outputs": [
    {
     "name": "stdout",
     "output_type": "stream",
     "text": [
      "Tue Jun  4 22:55:34 2019\n",
      "Train on 256000 samples, validate on 64000 samples\n",
      "Epoch 1/200\n",
      "256000/256000 [==============================] - 15s 57us/step - loss: 0.0032 - acc: 0.0052 - val_loss: 1.0716e-04 - val_acc: 0.0046\n",
      "Epoch 2/200\n",
      "256000/256000 [==============================] - 15s 58us/step - loss: 5.9905e-05 - acc: 0.0096 - val_loss: 4.6952e-05 - val_acc: 0.0086\n",
      "Epoch 3/200\n",
      "256000/256000 [==============================] - 15s 57us/step - loss: 4.3461e-05 - acc: 0.0124 - val_loss: 4.0257e-05 - val_acc: 0.0109\n",
      "Epoch 4/200\n",
      "256000/256000 [==============================] - 15s 57us/step - loss: 4.0266e-05 - acc: 0.0146 - val_loss: 3.9904e-05 - val_acc: 0.0126\n",
      "Epoch 5/200\n",
      "256000/256000 [==============================] - 15s 58us/step - loss: 3.9876e-05 - acc: 0.0160 - val_loss: 3.9686e-05 - val_acc: 0.0141\n",
      "Epoch 6/200\n",
      "256000/256000 [==============================] - 15s 57us/step - loss: 3.9554e-05 - acc: 0.0162 - val_loss: 3.9570e-05 - val_acc: 0.0144\n",
      "Epoch 7/200\n",
      "256000/256000 [==============================] - 15s 57us/step - loss: 3.9304e-05 - acc: 0.0149 - val_loss: 3.9396e-05 - val_acc: 0.0138\n",
      "Epoch 8/200\n",
      "256000/256000 [==============================] - 15s 57us/step - loss: 3.9078e-05 - acc: 0.0142 - val_loss: 3.9259e-05 - val_acc: 0.0138\n",
      "Epoch 9/200\n",
      "256000/256000 [==============================] - 15s 57us/step - loss: 3.8887e-05 - acc: 0.0148 - val_loss: 3.9106e-05 - val_acc: 0.0138\n",
      "Epoch 10/200\n",
      "256000/256000 [==============================] - 15s 57us/step - loss: 3.8727e-05 - acc: 0.0151 - val_loss: 3.8969e-05 - val_acc: 0.0142\n",
      "Epoch 11/200\n",
      "256000/256000 [==============================] - 15s 57us/step - loss: 3.8583e-05 - acc: 0.0149 - val_loss: 3.8866e-05 - val_acc: 0.0139\n",
      "Epoch 12/200\n",
      "256000/256000 [==============================] - 15s 57us/step - loss: 3.8445e-05 - acc: 0.0145 - val_loss: 3.8790e-05 - val_acc: 0.0134\n",
      "Epoch 13/200\n",
      "256000/256000 [==============================] - 15s 57us/step - loss: 3.8277e-05 - acc: 0.0138 - val_loss: 3.8704e-05 - val_acc: 0.0127\n",
      "Epoch 14/200\n",
      "256000/256000 [==============================] - 14s 56us/step - loss: 3.7903e-05 - acc: 0.0122 - val_loss: 3.8415e-05 - val_acc: 0.0101\n",
      "Epoch 15/200\n",
      "256000/256000 [==============================] - 15s 57us/step - loss: 3.7396e-05 - acc: 0.0113 - val_loss: 3.8100e-05 - val_acc: 0.0102\n",
      "Epoch 16/200\n",
      "256000/256000 [==============================] - 15s 58us/step - loss: 3.7167e-05 - acc: 0.0115 - val_loss: 3.7663e-05 - val_acc: 0.0090\n",
      "Epoch 17/200\n",
      "256000/256000 [==============================] - 15s 57us/step - loss: 3.6632e-05 - acc: 0.0083 - val_loss: 3.7174e-05 - val_acc: 0.0062\n",
      "Epoch 18/200\n",
      "256000/256000 [==============================] - 14s 57us/step - loss: 3.6354e-05 - acc: 0.0065 - val_loss: 3.6962e-05 - val_acc: 0.0053\n",
      "Epoch 19/200\n",
      "256000/256000 [==============================] - 15s 57us/step - loss: 3.6153e-05 - acc: 0.0058 - val_loss: 3.6487e-05 - val_acc: 0.0050\n",
      "Epoch 20/200\n",
      "256000/256000 [==============================] - 14s 56us/step - loss: 3.5517e-05 - acc: 0.0054 - val_loss: 3.5872e-05 - val_acc: 0.0047\n",
      "Epoch 21/200\n",
      "256000/256000 [==============================] - 14s 57us/step - loss: 3.5120e-05 - acc: 0.0056 - val_loss: 3.5338e-05 - val_acc: 0.0053\n",
      "Epoch 22/200\n",
      "256000/256000 [==============================] - 15s 58us/step - loss: 3.1304e-05 - acc: 0.0262 - val_loss: 2.9966e-05 - val_acc: 0.0300\n",
      "Epoch 23/200\n",
      "256000/256000 [==============================] - 15s 57us/step - loss: 2.8567e-05 - acc: 0.0325 - val_loss: 2.9229e-05 - val_acc: 0.0320\n",
      "Epoch 24/200\n",
      "256000/256000 [==============================] - 15s 57us/step - loss: 2.6757e-05 - acc: 0.0310 - val_loss: 2.6064e-05 - val_acc: 0.0273\n",
      "Epoch 25/200\n",
      "256000/256000 [==============================] - 15s 57us/step - loss: 2.4878e-05 - acc: 0.0262 - val_loss: 2.5534e-05 - val_acc: 0.0243\n",
      "Epoch 26/200\n",
      "256000/256000 [==============================] - 14s 56us/step - loss: 2.4569e-05 - acc: 0.0243 - val_loss: 2.5425e-05 - val_acc: 0.0232\n",
      "Epoch 27/200\n",
      "256000/256000 [==============================] - 14s 56us/step - loss: 2.4480e-05 - acc: 0.0230 - val_loss: 2.5370e-05 - val_acc: 0.0218\n",
      "Epoch 28/200\n",
      "256000/256000 [==============================] - 15s 57us/step - loss: 2.4420e-05 - acc: 0.0220 - val_loss: 2.5335e-05 - val_acc: 0.0208\n",
      "Epoch 29/200\n",
      "256000/256000 [==============================] - 14s 56us/step - loss: 2.4367e-05 - acc: 0.0207 - val_loss: 2.5295e-05 - val_acc: 0.0202\n",
      "Epoch 30/200\n",
      "256000/256000 [==============================] - 14s 56us/step - loss: 2.4315e-05 - acc: 0.0197 - val_loss: 2.5260e-05 - val_acc: 0.0196\n",
      "Epoch 31/200\n",
      "256000/256000 [==============================] - 15s 58us/step - loss: 2.4263e-05 - acc: 0.0190 - val_loss: 2.5245e-05 - val_acc: 0.0183\n",
      "Epoch 32/200\n",
      "256000/256000 [==============================] - 14s 57us/step - loss: 2.4222e-05 - acc: 0.0186 - val_loss: 2.5231e-05 - val_acc: 0.0179\n",
      "Epoch 33/200\n",
      "256000/256000 [==============================] - 14s 56us/step - loss: 2.4189e-05 - acc: 0.0184 - val_loss: 2.5227e-05 - val_acc: 0.0178\n",
      "Epoch 34/200\n",
      "256000/256000 [==============================] - 15s 57us/step - loss: 2.4160e-05 - acc: 0.0181 - val_loss: 2.5225e-05 - val_acc: 0.0169\n",
      "Epoch 35/200\n",
      "256000/256000 [==============================] - 14s 56us/step - loss: 2.4132e-05 - acc: 0.0176 - val_loss: 2.5204e-05 - val_acc: 0.0167\n",
      "Epoch 36/200\n",
      "256000/256000 [==============================] - 14s 56us/step - loss: 2.4095e-05 - acc: 0.0169 - val_loss: 2.5174e-05 - val_acc: 0.0158\n",
      "Epoch 37/200\n",
      "256000/256000 [==============================] - 15s 57us/step - loss: 2.4065e-05 - acc: 0.0161 - val_loss: 2.5280e-05 - val_acc: 0.0149\n",
      "Epoch 38/200\n",
      "256000/256000 [==============================] - 14s 56us/step - loss: 2.4041e-05 - acc: 0.0152 - val_loss: 2.5374e-05 - val_acc: 0.0135\n",
      "Epoch 39/200\n",
      "256000/256000 [==============================] - 14s 57us/step - loss: 2.4018e-05 - acc: 0.0143 - val_loss: 2.5381e-05 - val_acc: 0.0131\n",
      "Epoch 40/200\n",
      "256000/256000 [==============================] - 15s 57us/step - loss: 2.3998e-05 - acc: 0.0135 - val_loss: 2.5380e-05 - val_acc: 0.0127\n",
      "Epoch 41/200\n",
      "256000/256000 [==============================] - 14s 56us/step - loss: 2.3978e-05 - acc: 0.0128 - val_loss: 2.5368e-05 - val_acc: 0.0121\n",
      "--- AE spent 598.198002576828 seconds ---\n"
     ]
    }
   ],
   "source": [
    "hist_spae_sigmoid_adam_logcosh = fit_ae(checkpoint_file = \"spae_sigmoid_adam_logcosh_redds10bal.h5\",\n",
    "                                        autoencoder = spae_sigmoid_adam_logcosh, \n",
    "                                        epochs = 200, \n",
    "                                        batch_size = 48, \n",
    "                                        shuffle = False)"
   ]
  },
  {
   "cell_type": "code",
   "execution_count": 48,
   "metadata": {},
   "outputs": [
    {
     "name": "stdout",
     "output_type": "stream",
     "text": [
      "Best loss value: 2.397789587348598e-05\n"
     ]
    },
    {
     "data": {
      "image/png": "[encoded data removed]",
      "text/plain": [
       "<Figure size 432x288 with 1 Axes>"
      ]
     },
     "metadata": {
      "needs_background": "light"
     },
     "output_type": "display_data"
    }
   ],
   "source": [
    "best_loss_value_spae_sigmoid_adam_logcosh = plot_hist_auto(hist_spae_sigmoid_adam_logcosh, './Figures/spae_sigmoid_adam_logcosh.png')"
   ]
  },
  {
   "cell_type": "code",
   "execution_count": 49,
   "metadata": {},
   "outputs": [],
   "source": [
    "loss_valueDict = {\n",
    "    'loss_value_ae_sigmoid_adam_logcosh': best_loss_value_ae_sigmoid_adam_logcosh,\n",
    "    'loss_value_ae_sigmoid_adam_mse': best_loss_value_ae_sigmoid_adam_mse,\n",
    "    'loss_value_sae_sigmoid_adam_logcosh': best_loss_value_sae_sigmoid_adam_logcosh,\n",
    "    'loss_value_sae_sigmoid_adam_mse': best_loss_value_sae_sigmoid_adam_mse,\n",
    "    'loss_value_spae_sigmoid_adam_logcosh': best_loss_value_spae_sigmoid_adam_logcosh,\n",
    "    }"
   ]
  },
  {
   "cell_type": "code",
   "execution_count": 50,
   "metadata": {},
   "outputs": [
    {
     "data": {
      "text/plain": [
       "{'loss_value_ae_sigmoid_adam_logcosh': 1.0974173678789612e-05,\n",
       " 'loss_value_ae_sigmoid_adam_mse': 3.331291746292209e-05,\n",
       " 'loss_value_sae_sigmoid_adam_logcosh': 0.003662414710805024,\n",
       " 'loss_value_sae_sigmoid_adam_mse': 0.005147667305864161,\n",
       " 'loss_value_spae_sigmoid_adam_logcosh': 2.397789587348598e-05}"
      ]
     },
     "execution_count": 50,
     "metadata": {},
     "output_type": "execute_result"
    }
   ],
   "source": [
    "loss_valueDict"
   ]
  },
  {
   "cell_type": "code",
   "execution_count": null,
   "metadata": {},
   "outputs": [],
   "source": []
  },
  {
   "cell_type": "code",
   "execution_count": 51,
   "metadata": {},
   "outputs": [
    {
     "name": "stdout",
     "output_type": "stream",
     "text": [
      "32\n",
      "32\n",
      "32\n",
      "32\n",
      "32\n",
      "32\n",
      "8\n",
      "8\n",
      "8\n",
      "8\n"
     ]
    }
   ],
   "source": [
    "print(enc_train_x_asal.shape[1])\n",
    "print(enc_test_x_asal.shape[1])\n",
    "\n",
    "print(enc_train_x_spaesal.shape[1])\n",
    "print(enc_test_x_spaesal.shape[1])\n",
    "\n",
    "print(enc_train_x_asam.shape[1])\n",
    "print(enc_test_x_asam.shape[1])\n",
    "\n",
    "print(enc_train_x_ssal.shape[1])\n",
    "print(enc_test_x_ssal.shape[1])\n",
    "\n",
    "print(enc_train_x_ssam.shape[1])\n",
    "print(enc_test_x_ssam.shape[1])"
   ]
  },
  {
   "cell_type": "code",
   "execution_count": 52,
   "metadata": {},
   "outputs": [
    {
     "name": "stdout",
     "output_type": "stream",
     "text": [
      "(256000, 32)\n",
      "(80000, 32)\n"
     ]
    }
   ],
   "source": [
    "print(enc_train_x_asal.shape)\n",
    "print(enc_test_x_asal.shape)"
   ]
  },
  {
   "cell_type": "code",
   "execution_count": 53,
   "metadata": {},
   "outputs": [
    {
     "name": "stdout",
     "output_type": "stream",
     "text": [
      "_________________________________________________________________\n",
      "Layer (type)                 Output Shape              Param #   \n",
      "=================================================================\n",
      "dense_12 (Dense)             (None, 48)                1584      \n",
      "_________________________________________________________________\n",
      "dense_13 (Dense)             (None, 36)                1764      \n",
      "_________________________________________________________________\n",
      "batch_normalization_1 (Batch (None, 36)                144       \n",
      "_________________________________________________________________\n",
      "dropout_1 (Dropout)          (None, 36)                0         \n",
      "_________________________________________________________________\n",
      "dense_14 (Dense)             (None, 1)                 37        \n",
      "=================================================================\n",
      "Total params: 3,529\n",
      "Trainable params: 3,457\n",
      "Non-trainable params: 72\n",
      "_________________________________________________________________\n",
      "None\n"
     ]
    }
   ],
   "source": [
    "ann36n_unisoftsigbinlosadam = ann_1h_36n(neurons=48,\n",
    "                                      encoded_train_x=enc_train_x_asal,\n",
    "                                      init_mode='uniform',\n",
    "                                      activation_input='softsign',\n",
    "                                      weight_constraint=5,\n",
    "                                      dropout_rate=0.0,\n",
    "                                      activation_output='sigmoid',\n",
    "                                      loss='binary_crossentropy',\n",
    "                                      optimizer='Adam')"
   ]
  },
  {
   "cell_type": "code",
   "execution_count": null,
   "metadata": {},
   "outputs": [],
   "source": []
  },
  {
   "cell_type": "code",
   "execution_count": 54,
   "metadata": {},
   "outputs": [
    {
     "name": "stdout",
     "output_type": "stream",
     "text": [
      "Tue Jun  4 23:05:32 2019\n",
      "Train on 204800 samples, validate on 51200 samples\n",
      "Epoch 1/200\n",
      "204800/204800 [==============================] - 19s 93us/step - loss: 0.4774 - acc: 0.7700 - val_loss: 0.4622 - val_acc: 0.7816\n",
      "Epoch 2/200\n",
      "204800/204800 [==============================] - 18s 90us/step - loss: 0.4455 - acc: 0.7918 - val_loss: 0.4357 - val_acc: 0.7958\n",
      "Epoch 3/200\n",
      "204800/204800 [==============================] - 18s 89us/step - loss: 0.4326 - acc: 0.8002 - val_loss: 0.4355 - val_acc: 0.7966\n",
      "Epoch 4/200\n",
      "204800/204800 [==============================] - 18s 89us/step - loss: 0.4231 - acc: 0.8069 - val_loss: 0.4076 - val_acc: 0.8157\n",
      "Epoch 5/200\n",
      "204800/204800 [==============================] - 18s 89us/step - loss: 0.4159 - acc: 0.8108 - val_loss: 0.4095 - val_acc: 0.8150\n",
      "Epoch 6/200\n",
      "204800/204800 [==============================] - 19s 91us/step - loss: 0.4099 - acc: 0.8135 - val_loss: 0.4056 - val_acc: 0.8172\n",
      "Epoch 7/200\n",
      "204800/204800 [==============================] - 18s 89us/step - loss: 0.4047 - acc: 0.8163 - val_loss: 0.4043 - val_acc: 0.8184\n",
      "Epoch 8/200\n",
      "204800/204800 [==============================] - 18s 89us/step - loss: 0.4001 - acc: 0.8189 - val_loss: 0.4047 - val_acc: 0.8127\n",
      "Epoch 9/200\n",
      "204800/204800 [==============================] - 18s 89us/step - loss: 0.3962 - acc: 0.8209 - val_loss: 0.3968 - val_acc: 0.8187\n",
      "Epoch 10/200\n",
      "204800/204800 [==============================] - 18s 89us/step - loss: 0.3918 - acc: 0.8233 - val_loss: 0.3973 - val_acc: 0.8157\n",
      "Epoch 11/200\n",
      "204800/204800 [==============================] - 18s 89us/step - loss: 0.3884 - acc: 0.8251 - val_loss: 0.3891 - val_acc: 0.8190\n",
      "Epoch 12/200\n",
      "204800/204800 [==============================] - 18s 89us/step - loss: 0.3853 - acc: 0.8273 - val_loss: 0.3887 - val_acc: 0.8209\n",
      "Epoch 13/200\n",
      "204800/204800 [==============================] - 18s 90us/step - loss: 0.3824 - acc: 0.8285 - val_loss: 0.3840 - val_acc: 0.8232\n",
      "Epoch 14/200\n",
      "204800/204800 [==============================] - 18s 90us/step - loss: 0.3794 - acc: 0.8304 - val_loss: 0.3729 - val_acc: 0.8351\n",
      "Epoch 15/200\n",
      "204800/204800 [==============================] - 18s 89us/step - loss: 0.3767 - acc: 0.8316 - val_loss: 0.3706 - val_acc: 0.8358\n",
      "Epoch 16/200\n",
      "204800/204800 [==============================] - 18s 89us/step - loss: 0.3743 - acc: 0.8333 - val_loss: 0.3746 - val_acc: 0.8344\n",
      "Epoch 17/200\n",
      "204800/204800 [==============================] - 18s 90us/step - loss: 0.3722 - acc: 0.8343 - val_loss: 0.3702 - val_acc: 0.8337\n",
      "Epoch 18/200\n",
      "204800/204800 [==============================] - 18s 90us/step - loss: 0.3700 - acc: 0.8355 - val_loss: 0.3689 - val_acc: 0.8377\n",
      "Epoch 19/200\n",
      "204800/204800 [==============================] - 18s 89us/step - loss: 0.3679 - acc: 0.8362 - val_loss: 0.3654 - val_acc: 0.8366\n",
      "Epoch 20/200\n",
      "204800/204800 [==============================] - 18s 89us/step - loss: 0.3663 - acc: 0.8372 - val_loss: 0.3614 - val_acc: 0.8374\n",
      "Epoch 21/200\n",
      "204800/204800 [==============================] - 18s 89us/step - loss: 0.3645 - acc: 0.8376 - val_loss: 0.3625 - val_acc: 0.8371\n",
      "Epoch 22/200\n",
      "204800/204800 [==============================] - 18s 90us/step - loss: 0.3628 - acc: 0.8388 - val_loss: 0.3591 - val_acc: 0.8365\n",
      "Epoch 23/200\n",
      "204800/204800 [==============================] - 18s 89us/step - loss: 0.3614 - acc: 0.8391 - val_loss: 0.3615 - val_acc: 0.8388\n",
      "Epoch 24/200\n",
      "204800/204800 [==============================] - 18s 89us/step - loss: 0.3597 - acc: 0.8398 - val_loss: 0.3577 - val_acc: 0.8386\n",
      "Epoch 25/200\n",
      "204800/204800 [==============================] - 18s 90us/step - loss: 0.3584 - acc: 0.8406 - val_loss: 0.3688 - val_acc: 0.8338\n",
      "Epoch 26/200\n",
      "204800/204800 [==============================] - 19s 90us/step - loss: 0.3570 - acc: 0.8411 - val_loss: 0.3592 - val_acc: 0.8384\n",
      "Epoch 27/200\n",
      "204800/204800 [==============================] - 18s 89us/step - loss: 0.3555 - acc: 0.8417 - val_loss: 0.3550 - val_acc: 0.8381\n",
      "Epoch 28/200\n",
      "204800/204800 [==============================] - 18s 89us/step - loss: 0.3546 - acc: 0.8424 - val_loss: 0.3549 - val_acc: 0.8410\n",
      "Epoch 29/200\n",
      "204800/204800 [==============================] - 18s 89us/step - loss: 0.3536 - acc: 0.8428 - val_loss: 0.3564 - val_acc: 0.8382\n",
      "Epoch 30/200\n",
      "204800/204800 [==============================] - 18s 90us/step - loss: 0.3521 - acc: 0.8434 - val_loss: 0.3507 - val_acc: 0.8447\n",
      "Epoch 31/200\n",
      "204800/204800 [==============================] - 18s 89us/step - loss: 0.3509 - acc: 0.8439 - val_loss: 0.3475 - val_acc: 0.8467\n",
      "Epoch 32/200\n",
      "204800/204800 [==============================] - 18s 89us/step - loss: 0.3498 - acc: 0.8442 - val_loss: 0.3458 - val_acc: 0.8457\n",
      "Epoch 33/200\n",
      "204800/204800 [==============================] - 18s 89us/step - loss: 0.3490 - acc: 0.8448 - val_loss: 0.3515 - val_acc: 0.8396\n",
      "Epoch 34/200\n",
      "204800/204800 [==============================] - 18s 90us/step - loss: 0.3478 - acc: 0.8455 - val_loss: 0.3537 - val_acc: 0.8406\n",
      "Epoch 35/200\n",
      "204800/204800 [==============================] - 18s 89us/step - loss: 0.3466 - acc: 0.8464 - val_loss: 0.3480 - val_acc: 0.8430\n",
      "Epoch 36/200\n",
      "204800/204800 [==============================] - 18s 89us/step - loss: 0.3454 - acc: 0.8466 - val_loss: 0.3457 - val_acc: 0.8447\n",
      "Epoch 37/200\n",
      "204800/204800 [==============================] - 18s 90us/step - loss: 0.3447 - acc: 0.8472 - val_loss: 0.3451 - val_acc: 0.8456\n",
      "Epoch 38/200\n",
      "204800/204800 [==============================] - 19s 93us/step - loss: 0.3439 - acc: 0.8476 - val_loss: 0.3474 - val_acc: 0.8442\n",
      "Epoch 39/200\n",
      "204800/204800 [==============================] - 19s 93us/step - loss: 0.3432 - acc: 0.8481 - val_loss: 0.3452 - val_acc: 0.8450\n",
      "Epoch 40/200\n",
      "204800/204800 [==============================] - 19s 93us/step - loss: 0.3420 - acc: 0.8486 - val_loss: 0.3476 - val_acc: 0.8435\n",
      "Epoch 41/200\n",
      "204800/204800 [==============================] - 20s 95us/step - loss: 0.3415 - acc: 0.8488 - val_loss: 0.3398 - val_acc: 0.8504\n",
      "Epoch 42/200\n",
      "204800/204800 [==============================] - 20s 100us/step - loss: 0.3409 - acc: 0.8490 - val_loss: 0.3467 - val_acc: 0.8450\n",
      "Epoch 43/200\n",
      "204800/204800 [==============================] - 20s 98us/step - loss: 0.3400 - acc: 0.8492 - val_loss: 0.3431 - val_acc: 0.8474\n",
      "Epoch 44/200\n",
      "204800/204800 [==============================] - 20s 99us/step - loss: 0.3395 - acc: 0.8504 - val_loss: 0.3401 - val_acc: 0.8488\n",
      "Epoch 45/200\n",
      "204800/204800 [==============================] - 21s 101us/step - loss: 0.3386 - acc: 0.8499 - val_loss: 0.3370 - val_acc: 0.8515\n",
      "Epoch 46/200\n",
      "204800/204800 [==============================] - 20s 99us/step - loss: 0.3382 - acc: 0.8499 - val_loss: 0.3365 - val_acc: 0.8520\n",
      "Epoch 47/200\n",
      "204800/204800 [==============================] - 20s 100us/step - loss: 0.3372 - acc: 0.8506 - val_loss: 0.3390 - val_acc: 0.8478\n",
      "Epoch 48/200\n",
      "204800/204800 [==============================] - 21s 101us/step - loss: 0.3366 - acc: 0.8510 - val_loss: 0.3349 - val_acc: 0.8533\n",
      "Epoch 49/200\n",
      "204800/204800 [==============================] - 20s 98us/step - loss: 0.3360 - acc: 0.8513 - val_loss: 0.3330 - val_acc: 0.8543\n",
      "Epoch 50/200\n",
      "204800/204800 [==============================] - 20s 98us/step - loss: 0.3360 - acc: 0.8514 - val_loss: 0.3396 - val_acc: 0.8500\n",
      "Epoch 51/200\n",
      "204800/204800 [==============================] - 21s 101us/step - loss: 0.3354 - acc: 0.8518 - val_loss: 0.3351 - val_acc: 0.8538\n",
      "Epoch 52/200\n",
      "204800/204800 [==============================] - 20s 98us/step - loss: 0.3346 - acc: 0.8522 - val_loss: 0.3349 - val_acc: 0.8510\n",
      "Epoch 53/200\n",
      "204800/204800 [==============================] - 20s 99us/step - loss: 0.3342 - acc: 0.8523 - val_loss: 0.3364 - val_acc: 0.8511\n",
      "Epoch 54/200\n",
      "204800/204800 [==============================] - 21s 100us/step - loss: 0.3335 - acc: 0.8527 - val_loss: 0.3365 - val_acc: 0.8492\n",
      "--- ANN spent 1020.1561226844788 seconds ---\n"
     ]
    }
   ],
   "source": [
    "hist_ann36n_unisoftsigbinlosadam = ann_fit(checkpoint_file = \"ann36n_unisoftsigbinlosadam_redds10bal.h5\",\n",
    "                                        ann = ann36n_unisoftsigbinlosadam,\n",
    "                                        enc_train_x = enc_train_x_asal,\n",
    "                                        train_y = train_y,\n",
    "                                        epochs = 200,\n",
    "                                        shuffle = False,\n",
    "                                        batch_size = 48)"
   ]
  },
  {
   "cell_type": "code",
   "execution_count": 55,
   "metadata": {},
   "outputs": [
    {
     "name": "stdout",
     "output_type": "stream",
     "text": [
      "Best loss value: 0.33351943914662113\n"
     ]
    },
    {
     "data": {
      "image/png": "[encoded data removed]",
      "text/plain": [
       "<Figure size 432x288 with 1 Axes>"
      ]
     },
     "metadata": {
      "needs_background": "light"
     },
     "output_type": "display_data"
    }
   ],
   "source": [
    "best_loss_value_ann36n_unisoftsigbinlosadam = plot_hist_auto(hist_ann36n_unisoftsigbinlosadam, './Figures/ann36_unisoftsigbinlosadam.png')"
   ]
  },
  {
   "cell_type": "code",
   "execution_count": 56,
   "metadata": {},
   "outputs": [
    {
     "name": "stdout",
     "output_type": "stream",
     "text": [
      "Overall accuracy of Neural Network model: 0.848325\n",
      "              precision    recall  f1-score   support\n",
      "\n",
      "           0       0.87      0.94      0.90     60249\n",
      "           1       0.76      0.56      0.65     19751\n",
      "\n",
      "   micro avg       0.85      0.85      0.85     80000\n",
      "   macro avg       0.81      0.75      0.78     80000\n",
      "weighted avg       0.84      0.85      0.84     80000\n",
      "\n"
     ]
    }
   ],
   "source": [
    "pred_ann36n_prob_unisoftsigbinlosadam, pred_ann36n_01_unisoftsigbinlosadam = ann_predict(ann36n_unisoftsigbinlosadam,enc_test_x_asal)"
   ]
  },
  {
   "cell_type": "code",
   "execution_count": 57,
   "metadata": {},
   "outputs": [
    {
     "data": {
      "image/png": "[encoded data removed]",
      "text/plain": [
       "<Figure size 432x288 with 1 Axes>"
      ]
     },
     "metadata": {
      "needs_background": "light"
     },
     "output_type": "display_data"
    },
    {
     "data": {
      "image/png": "[encoded data removed]",
      "text/plain": [
       "<Figure size 576x432 with 2 Axes>"
      ]
     },
     "metadata": {
      "needs_background": "light"
     },
     "output_type": "display_data"
    }
   ],
   "source": [
    "plot_roc_cm(pred_ann36n_01_unisoftsigbinlosadam, pred_ann36n_01_unisoftsigbinlosadam, './Figures/ROC_ann36n_unisoftsigbinlosadam_redds10bal.png', './Figures/CM_ann36n_unisoftsigbinlosadam_redds10bal.png')"
   ]
  },
  {
   "cell_type": "code",
   "execution_count": null,
   "metadata": {},
   "outputs": [],
   "source": []
  },
  {
   "cell_type": "code",
   "execution_count": null,
   "metadata": {},
   "outputs": [],
   "source": []
  },
  {
   "cell_type": "code",
   "execution_count": 58,
   "metadata": {},
   "outputs": [
    {
     "name": "stdout",
     "output_type": "stream",
     "text": [
      "_________________________________________________________________\n",
      "Layer (type)                 Output Shape              Param #   \n",
      "=================================================================\n",
      "dense_15 (Dense)             (None, 48)                1584      \n",
      "_________________________________________________________________\n",
      "dense_16 (Dense)             (None, 24)                1176      \n",
      "_________________________________________________________________\n",
      "batch_normalization_2 (Batch (None, 24)                96        \n",
      "_________________________________________________________________\n",
      "dropout_2 (Dropout)          (None, 24)                0         \n",
      "_________________________________________________________________\n",
      "dense_17 (Dense)             (None, 1)                 25        \n",
      "=================================================================\n",
      "Total params: 2,881\n",
      "Trainable params: 2,833\n",
      "Non-trainable params: 48\n",
      "_________________________________________________________________\n",
      "None\n"
     ]
    }
   ],
   "source": [
    "ann24n_unisoftsigbinlosadam = ann_1h_24n(neurons=48,\n",
    "                                      encoded_train_x=enc_train_x_asal,\n",
    "                                      init_mode='uniform',\n",
    "                                      activation_input='softsign',\n",
    "                                      weight_constraint=5,\n",
    "                                      dropout_rate=0.0,\n",
    "                                      activation_output='sigmoid',\n",
    "                                      loss='binary_crossentropy',\n",
    "                                      optimizer='Adam')"
   ]
  },
  {
   "cell_type": "code",
   "execution_count": 59,
   "metadata": {},
   "outputs": [
    {
     "name": "stdout",
     "output_type": "stream",
     "text": [
      "Tue Jun  4 23:22:36 2019\n",
      "Train on 204800 samples, validate on 51200 samples\n",
      "Epoch 1/200\n",
      "204800/204800 [==============================] - 21s 103us/step - loss: 0.4900 - acc: 0.7657 - val_loss: 0.4653 - val_acc: 0.7869\n",
      "Epoch 2/200\n",
      "204800/204800 [==============================] - 20s 100us/step - loss: 0.4606 - acc: 0.7847 - val_loss: 0.4501 - val_acc: 0.7929\n",
      "Epoch 3/200\n",
      "204800/204800 [==============================] - 21s 101us/step - loss: 0.4518 - acc: 0.7901 - val_loss: 0.4508 - val_acc: 0.7934\n",
      "Epoch 4/200\n",
      "204800/204800 [==============================] - 20s 100us/step - loss: 0.4460 - acc: 0.7935 - val_loss: 0.4381 - val_acc: 0.7966\n",
      "Epoch 5/200\n",
      "204800/204800 [==============================] - 20s 99us/step - loss: 0.4389 - acc: 0.7987 - val_loss: 0.4302 - val_acc: 0.8007\n",
      "Epoch 6/200\n",
      "204800/204800 [==============================] - 21s 102us/step - loss: 0.4333 - acc: 0.8006 - val_loss: 0.4185 - val_acc: 0.8060\n",
      "Epoch 7/200\n",
      "204800/204800 [==============================] - 20s 100us/step - loss: 0.4284 - acc: 0.8040 - val_loss: 0.4186 - val_acc: 0.8112\n",
      "Epoch 8/200\n",
      "204800/204800 [==============================] - 20s 100us/step - loss: 0.4234 - acc: 0.8077 - val_loss: 0.4186 - val_acc: 0.8074\n",
      "Epoch 9/200\n",
      "204800/204800 [==============================] - 21s 101us/step - loss: 0.4197 - acc: 0.8093 - val_loss: 0.4175 - val_acc: 0.8085\n",
      "Epoch 10/200\n",
      "204800/204800 [==============================] - 21s 100us/step - loss: 0.4156 - acc: 0.8110 - val_loss: 0.4048 - val_acc: 0.8164\n",
      "Epoch 11/200\n",
      "204800/204800 [==============================] - 21s 100us/step - loss: 0.4128 - acc: 0.8123 - val_loss: 0.4131 - val_acc: 0.8157\n",
      "Epoch 12/200\n",
      "204800/204800 [==============================] - 21s 102us/step - loss: 0.4100 - acc: 0.8144 - val_loss: 0.4075 - val_acc: 0.8168\n",
      "Epoch 13/200\n",
      "204800/204800 [==============================] - 20s 100us/step - loss: 0.4063 - acc: 0.8155 - val_loss: 0.3976 - val_acc: 0.8183\n",
      "Epoch 14/200\n",
      "204800/204800 [==============================] - 20s 99us/step - loss: 0.4034 - acc: 0.8178 - val_loss: 0.4116 - val_acc: 0.8146\n",
      "Epoch 15/200\n",
      "204800/204800 [==============================] - 21s 102us/step - loss: 0.4008 - acc: 0.8191 - val_loss: 0.3959 - val_acc: 0.8264\n",
      "Epoch 16/200\n",
      "204800/204800 [==============================] - 20s 100us/step - loss: 0.3992 - acc: 0.8204 - val_loss: 0.3981 - val_acc: 0.8225\n",
      "Epoch 17/200\n",
      "204800/204800 [==============================] - 21s 100us/step - loss: 0.3964 - acc: 0.8216 - val_loss: 0.3894 - val_acc: 0.8312\n",
      "Epoch 18/200\n",
      "204800/204800 [==============================] - 21s 101us/step - loss: 0.3945 - acc: 0.8227 - val_loss: 0.3912 - val_acc: 0.8270\n",
      "Epoch 19/200\n",
      "204800/204800 [==============================] - 20s 100us/step - loss: 0.3917 - acc: 0.8235 - val_loss: 0.3831 - val_acc: 0.8268\n",
      "Epoch 20/200\n",
      "204800/204800 [==============================] - 20s 100us/step - loss: 0.3892 - acc: 0.8261 - val_loss: 0.3800 - val_acc: 0.8314\n",
      "Epoch 21/200\n",
      "204800/204800 [==============================] - 21s 101us/step - loss: 0.3870 - acc: 0.8263 - val_loss: 0.3743 - val_acc: 0.8348\n",
      "Epoch 22/200\n",
      "204800/204800 [==============================] - 21s 101us/step - loss: 0.3856 - acc: 0.8286 - val_loss: 0.3906 - val_acc: 0.8261\n",
      "Epoch 23/200\n",
      "204800/204800 [==============================] - 20s 100us/step - loss: 0.3846 - acc: 0.8280 - val_loss: 0.3766 - val_acc: 0.8348\n",
      "Epoch 24/200\n",
      "204800/204800 [==============================] - 21s 101us/step - loss: 0.3825 - acc: 0.8297 - val_loss: 0.3744 - val_acc: 0.8319\n",
      "Epoch 25/200\n",
      "204800/204800 [==============================] - 21s 100us/step - loss: 0.3816 - acc: 0.8295 - val_loss: 0.3741 - val_acc: 0.8370\n",
      "Epoch 26/200\n",
      "204800/204800 [==============================] - 20s 100us/step - loss: 0.3802 - acc: 0.8314 - val_loss: 0.3861 - val_acc: 0.8253\n",
      "Epoch 27/200\n",
      "204800/204800 [==============================] - 21s 101us/step - loss: 0.3789 - acc: 0.8313 - val_loss: 0.3894 - val_acc: 0.8216\n",
      "Epoch 28/200\n",
      "204800/204800 [==============================] - 20s 100us/step - loss: 0.3762 - acc: 0.8322 - val_loss: 0.3687 - val_acc: 0.8376\n",
      "Epoch 29/200\n",
      "204800/204800 [==============================] - 20s 100us/step - loss: 0.3750 - acc: 0.8329 - val_loss: 0.3956 - val_acc: 0.8140\n",
      "Epoch 30/200\n",
      "204800/204800 [==============================] - 21s 101us/step - loss: 0.3737 - acc: 0.8335 - val_loss: 0.3872 - val_acc: 0.8125\n",
      "Epoch 31/200\n",
      "204800/204800 [==============================] - 21s 101us/step - loss: 0.3721 - acc: 0.8337 - val_loss: 0.3665 - val_acc: 0.8355\n",
      "Epoch 32/200\n",
      "204800/204800 [==============================] - 20s 100us/step - loss: 0.3715 - acc: 0.8350 - val_loss: 0.3730 - val_acc: 0.8317\n",
      "Epoch 33/200\n",
      "204800/204800 [==============================] - 21s 101us/step - loss: 0.3697 - acc: 0.8352 - val_loss: 0.3591 - val_acc: 0.8389\n",
      "Epoch 34/200\n",
      "204800/204800 [==============================] - 21s 100us/step - loss: 0.3689 - acc: 0.8360 - val_loss: 0.3641 - val_acc: 0.8430\n",
      "Epoch 35/200\n",
      "204800/204800 [==============================] - 21s 100us/step - loss: 0.3680 - acc: 0.8358 - val_loss: 0.3730 - val_acc: 0.8364\n",
      "Epoch 36/200\n",
      "204800/204800 [==============================] - 20s 97us/step - loss: 0.3682 - acc: 0.8362 - val_loss: 0.3591 - val_acc: 0.8380\n",
      "Epoch 37/200\n",
      "204800/204800 [==============================] - 20s 100us/step - loss: 0.3660 - acc: 0.8370 - val_loss: 0.3645 - val_acc: 0.8434\n",
      "Epoch 38/200\n",
      "204800/204800 [==============================] - 21s 101us/step - loss: 0.3651 - acc: 0.8371 - val_loss: 0.3651 - val_acc: 0.8407\n",
      "Epoch 39/200\n",
      "204800/204800 [==============================] - 21s 100us/step - loss: 0.3644 - acc: 0.8378 - val_loss: 0.3625 - val_acc: 0.8403\n",
      "Epoch 40/200\n",
      "204800/204800 [==============================] - 21s 100us/step - loss: 0.3633 - acc: 0.8387 - val_loss: 0.3526 - val_acc: 0.8491\n",
      "Epoch 41/200\n",
      "204800/204800 [==============================] - 21s 101us/step - loss: 0.3630 - acc: 0.8380 - val_loss: 0.3491 - val_acc: 0.8451\n",
      "Epoch 42/200\n",
      "204800/204800 [==============================] - 21s 100us/step - loss: 0.3615 - acc: 0.8389 - val_loss: 0.3569 - val_acc: 0.8443\n",
      "Epoch 43/200\n",
      "204800/204800 [==============================] - 20s 100us/step - loss: 0.3606 - acc: 0.8388 - val_loss: 0.3510 - val_acc: 0.8430\n",
      "Epoch 44/200\n",
      "204800/204800 [==============================] - 21s 101us/step - loss: 0.3599 - acc: 0.8389 - val_loss: 0.3505 - val_acc: 0.8450\n",
      "Epoch 45/200\n",
      "204800/204800 [==============================] - 20s 100us/step - loss: 0.3599 - acc: 0.8390 - val_loss: 0.3519 - val_acc: 0.8488\n",
      "Epoch 46/200\n",
      "204800/204800 [==============================] - 20s 100us/step - loss: 0.3588 - acc: 0.8402 - val_loss: 0.3523 - val_acc: 0.8397\n",
      "--- ANN spent 945.8370959758759 seconds ---\n"
     ]
    }
   ],
   "source": [
    "hist_ann24n_unisoftsigbinlosadam = ann_fit(checkpoint_file = \"ann24n_unisoftsigbinlosadam_redds10bal.h5\",\n",
    "                                        ann = ann24n_unisoftsigbinlosadam,\n",
    "                                        enc_train_x = enc_train_x_asal,\n",
    "                                        train_y = train_y,\n",
    "                                        epochs = 200,\n",
    "                                        shuffle = True,\n",
    "                                        batch_size = 48)"
   ]
  },
  {
   "cell_type": "code",
   "execution_count": 60,
   "metadata": {},
   "outputs": [
    {
     "name": "stdout",
     "output_type": "stream",
     "text": [
      "Best loss value: 0.35875413233647124\n"
     ]
    },
    {
     "data": {
      "image/png": "[encoded data removed]",
      "text/plain": [
       "<Figure size 432x288 with 1 Axes>"
      ]
     },
     "metadata": {
      "needs_background": "light"
     },
     "output_type": "display_data"
    }
   ],
   "source": [
    "best_loss_value_ann24n_unisoftsigbinlosadam = plot_hist_auto(hist_ann24n_unisoftsigbinlosadam, './Figures/ann24_unisoftsigbinlosadam.png')"
   ]
  },
  {
   "cell_type": "code",
   "execution_count": 61,
   "metadata": {},
   "outputs": [
    {
     "name": "stdout",
     "output_type": "stream",
     "text": [
      "Overall accuracy of Neural Network model: 0.837675\n",
      "              precision    recall  f1-score   support\n",
      "\n",
      "           0       0.84      0.97      0.90     60249\n",
      "           1       0.83      0.43      0.57     19751\n",
      "\n",
      "   micro avg       0.84      0.84      0.84     80000\n",
      "   macro avg       0.84      0.70      0.73     80000\n",
      "weighted avg       0.84      0.84      0.82     80000\n",
      "\n"
     ]
    }
   ],
   "source": [
    "pred_ann24n_prob_unisoftsigbinlosadam, pred_ann24n_01_unisoftsigbinlosadam = ann_predict(ann24n_unisoftsigbinlosadam,enc_test_x_asal)"
   ]
  },
  {
   "cell_type": "code",
   "execution_count": 62,
   "metadata": {},
   "outputs": [
    {
     "data": {
      "image/png": "[encoded data removed]",
      "text/plain": [
       "<Figure size 432x288 with 1 Axes>"
      ]
     },
     "metadata": {
      "needs_background": "light"
     },
     "output_type": "display_data"
    },
    {
     "data": {
      "image/png": "[encoded data removed]",
      "text/plain": [
       "<Figure size 576x432 with 2 Axes>"
      ]
     },
     "metadata": {
      "needs_background": "light"
     },
     "output_type": "display_data"
    }
   ],
   "source": [
    "plot_roc_cm(pred_ann24n_01_unisoftsigbinlosadam, pred_ann24n_01_unisoftsigbinlosadam, './Figures/ROC_ann24n_unisoftsigbinlosadam_redds10bal.png', './Figures/CM_ann24n_unisoftsigbinlosadam_redds10bal.png')"
   ]
  },
  {
   "cell_type": "code",
   "execution_count": null,
   "metadata": {},
   "outputs": [],
   "source": []
  },
  {
   "cell_type": "code",
   "execution_count": 63,
   "metadata": {},
   "outputs": [
    {
     "name": "stdout",
     "output_type": "stream",
     "text": [
      "_________________________________________________________________\n",
      "Layer (type)                 Output Shape              Param #   \n",
      "=================================================================\n",
      "dense_18 (Dense)             (None, 48)                1584      \n",
      "_________________________________________________________________\n",
      "dense_19 (Dense)             (None, 36)                1764      \n",
      "_________________________________________________________________\n",
      "dense_20 (Dense)             (None, 24)                888       \n",
      "_________________________________________________________________\n",
      "batch_normalization_3 (Batch (None, 24)                96        \n",
      "_________________________________________________________________\n",
      "dropout_3 (Dropout)          (None, 24)                0         \n",
      "_________________________________________________________________\n",
      "dense_21 (Dense)             (None, 1)                 25        \n",
      "=================================================================\n",
      "Total params: 4,357\n",
      "Trainable params: 4,309\n",
      "Non-trainable params: 48\n",
      "_________________________________________________________________\n",
      "None\n"
     ]
    }
   ],
   "source": [
    "ann_2h_unisoftsigbinlosadam = ann_2h(neurons=48,\n",
    "                                      encoded_train_x=enc_train_x_asal,\n",
    "                                      init_mode='uniform',\n",
    "                                      activation_input='softsign',\n",
    "                                      weight_constraint=5,\n",
    "                                      dropout_rate=0.0,\n",
    "                                      activation_output='sigmoid',\n",
    "                                      loss='binary_crossentropy',\n",
    "                                      optimizer='Adam')"
   ]
  },
  {
   "cell_type": "code",
   "execution_count": 64,
   "metadata": {},
   "outputs": [
    {
     "name": "stdout",
     "output_type": "stream",
     "text": [
      "Tue Jun  4 23:38:25 2019\n",
      "Train on 204800 samples, validate on 51200 samples\n",
      "Epoch 1/200\n",
      "204800/204800 [==============================] - 23s 112us/step - loss: 0.4909 - acc: 0.7638 - val_loss: 0.4570 - val_acc: 0.7885\n",
      "Epoch 2/200\n",
      "204800/204800 [==============================] - 22s 106us/step - loss: 0.4498 - acc: 0.7911 - val_loss: 0.4297 - val_acc: 0.8080\n",
      "Epoch 3/200\n",
      "204800/204800 [==============================] - 22s 106us/step - loss: 0.4317 - acc: 0.8041 - val_loss: 0.4156 - val_acc: 0.8149\n",
      "Epoch 4/200\n",
      "204800/204800 [==============================] - 22s 108us/step - loss: 0.4187 - acc: 0.8115 - val_loss: 0.4139 - val_acc: 0.8113\n",
      "Epoch 5/200\n",
      "204800/204800 [==============================] - 22s 106us/step - loss: 0.4084 - acc: 0.8167 - val_loss: 0.4062 - val_acc: 0.8117\n",
      "Epoch 6/200\n",
      "204800/204800 [==============================] - 22s 107us/step - loss: 0.4005 - acc: 0.8208 - val_loss: 0.3963 - val_acc: 0.8245\n",
      "Epoch 7/200\n",
      "204800/204800 [==============================] - 22s 107us/step - loss: 0.3929 - acc: 0.8241 - val_loss: 0.3832 - val_acc: 0.8271\n",
      "Epoch 8/200\n",
      "204800/204800 [==============================] - 22s 108us/step - loss: 0.3875 - acc: 0.8275 - val_loss: 0.3872 - val_acc: 0.8269\n",
      "Epoch 9/200\n",
      "204800/204800 [==============================] - 22s 106us/step - loss: 0.3828 - acc: 0.8293 - val_loss: 0.3785 - val_acc: 0.8338\n",
      "Epoch 10/200\n",
      "204800/204800 [==============================] - 22s 107us/step - loss: 0.3778 - acc: 0.8315 - val_loss: 0.3725 - val_acc: 0.8340\n",
      "Epoch 11/200\n",
      "204800/204800 [==============================] - 22s 108us/step - loss: 0.3735 - acc: 0.8334 - val_loss: 0.3723 - val_acc: 0.8306\n",
      "Epoch 12/200\n",
      "204800/204800 [==============================] - 22s 107us/step - loss: 0.3696 - acc: 0.8356 - val_loss: 0.3662 - val_acc: 0.8373\n",
      "Epoch 13/200\n",
      "204800/204800 [==============================] - 22s 107us/step - loss: 0.3679 - acc: 0.8361 - val_loss: 0.3601 - val_acc: 0.8413\n",
      "Epoch 14/200\n",
      "204800/204800 [==============================] - 22s 107us/step - loss: 0.3642 - acc: 0.8380 - val_loss: 0.3552 - val_acc: 0.8443\n",
      "Epoch 15/200\n",
      "204800/204800 [==============================] - 22s 107us/step - loss: 0.3617 - acc: 0.8399 - val_loss: 0.3556 - val_acc: 0.8398\n",
      "Epoch 16/200\n",
      "204800/204800 [==============================] - 22s 107us/step - loss: 0.3594 - acc: 0.8406 - val_loss: 0.3499 - val_acc: 0.8459\n",
      "Epoch 17/200\n",
      "204800/204800 [==============================] - 22s 108us/step - loss: 0.3576 - acc: 0.8410 - val_loss: 0.3547 - val_acc: 0.8410\n",
      "Epoch 18/200\n",
      "204800/204800 [==============================] - 22s 106us/step - loss: 0.3558 - acc: 0.8416 - val_loss: 0.3478 - val_acc: 0.8482\n",
      "Epoch 19/200\n",
      "204800/204800 [==============================] - 22s 107us/step - loss: 0.3544 - acc: 0.8423 - val_loss: 0.3547 - val_acc: 0.8457\n",
      "Epoch 20/200\n",
      "204800/204800 [==============================] - 22s 106us/step - loss: 0.3522 - acc: 0.8432 - val_loss: 0.3456 - val_acc: 0.8503\n",
      "Epoch 21/200\n",
      "204800/204800 [==============================] - 22s 108us/step - loss: 0.3508 - acc: 0.8440 - val_loss: 0.3402 - val_acc: 0.8495\n",
      "Epoch 22/200\n",
      "204800/204800 [==============================] - 22s 106us/step - loss: 0.3481 - acc: 0.8453 - val_loss: 0.3411 - val_acc: 0.8483\n",
      "Epoch 23/200\n",
      "204800/204800 [==============================] - 22s 107us/step - loss: 0.3477 - acc: 0.8451 - val_loss: 0.3371 - val_acc: 0.8515\n",
      "Epoch 24/200\n",
      "204800/204800 [==============================] - 22s 107us/step - loss: 0.3452 - acc: 0.8462 - val_loss: 0.3324 - val_acc: 0.8542\n",
      "Epoch 25/200\n",
      "204800/204800 [==============================] - 22s 107us/step - loss: 0.3443 - acc: 0.8460 - val_loss: 0.3374 - val_acc: 0.8481\n",
      "Epoch 26/200\n",
      "204800/204800 [==============================] - 21s 103us/step - loss: 0.3421 - acc: 0.8477 - val_loss: 0.3376 - val_acc: 0.8544\n",
      "Epoch 27/200\n",
      "204800/204800 [==============================] - 22s 107us/step - loss: 0.3399 - acc: 0.8494 - val_loss: 0.3336 - val_acc: 0.8547\n",
      "Epoch 28/200\n",
      "204800/204800 [==============================] - 22s 107us/step - loss: 0.3398 - acc: 0.8490 - val_loss: 0.3281 - val_acc: 0.8554\n",
      "Epoch 29/200\n",
      "204800/204800 [==============================] - 22s 109us/step - loss: 0.3368 - acc: 0.8509 - val_loss: 0.3292 - val_acc: 0.8558\n",
      "Epoch 30/200\n",
      "204800/204800 [==============================] - 22s 107us/step - loss: 0.3364 - acc: 0.8508 - val_loss: 0.3245 - val_acc: 0.8566\n",
      "Epoch 31/200\n",
      "204800/204800 [==============================] - 22s 107us/step - loss: 0.3357 - acc: 0.8510 - val_loss: 0.3253 - val_acc: 0.8547\n",
      "Epoch 32/200\n",
      "204800/204800 [==============================] - 22s 109us/step - loss: 0.3341 - acc: 0.8516 - val_loss: 0.3292 - val_acc: 0.8552\n",
      "Epoch 33/200\n",
      "204800/204800 [==============================] - 22s 108us/step - loss: 0.3324 - acc: 0.8524 - val_loss: 0.3301 - val_acc: 0.8538\n",
      "Epoch 34/200\n",
      "204800/204800 [==============================] - 22s 108us/step - loss: 0.3322 - acc: 0.8527 - val_loss: 0.3264 - val_acc: 0.8563\n",
      "Epoch 35/200\n",
      "204800/204800 [==============================] - 22s 109us/step - loss: 0.3310 - acc: 0.8532 - val_loss: 0.3221 - val_acc: 0.8573\n",
      "Epoch 36/200\n",
      "204800/204800 [==============================] - 22s 108us/step - loss: 0.3297 - acc: 0.8536 - val_loss: 0.3312 - val_acc: 0.8549\n",
      "Epoch 37/200\n",
      "204800/204800 [==============================] - 22s 107us/step - loss: 0.3294 - acc: 0.8534 - val_loss: 0.3195 - val_acc: 0.8560\n",
      "Epoch 38/200\n",
      "204800/204800 [==============================] - 22s 109us/step - loss: 0.3283 - acc: 0.8543 - val_loss: 0.3122 - val_acc: 0.8637\n",
      "Epoch 39/200\n",
      "204800/204800 [==============================] - 22s 107us/step - loss: 0.3276 - acc: 0.8551 - val_loss: 0.3210 - val_acc: 0.8593\n",
      "Epoch 40/200\n",
      "204800/204800 [==============================] - 22s 107us/step - loss: 0.3268 - acc: 0.8549 - val_loss: 0.3196 - val_acc: 0.8585\n",
      "Epoch 41/200\n",
      "204800/204800 [==============================] - 22s 109us/step - loss: 0.3264 - acc: 0.8552 - val_loss: 0.3186 - val_acc: 0.8585\n",
      "Epoch 42/200\n",
      "204800/204800 [==============================] - 22s 107us/step - loss: 0.3253 - acc: 0.8560 - val_loss: 0.3200 - val_acc: 0.8613\n",
      "Epoch 43/200\n",
      "204800/204800 [==============================] - 22s 107us/step - loss: 0.3251 - acc: 0.8554 - val_loss: 0.3125 - val_acc: 0.8630\n",
      "--- ANN spent 945.1835336685181 seconds ---\n"
     ]
    }
   ],
   "source": [
    "hist_ann_2h_unisoftsigbinlosadam = ann_fit(checkpoint_file = \"ann_2h_unisoftsigbinlosadam_redds10bal.h5\",\n",
    "                                        ann = ann_2h_unisoftsigbinlosadam,\n",
    "                                        enc_train_x = enc_train_x_asal,\n",
    "                                        train_y = train_y,\n",
    "                                        epochs = 200,\n",
    "                                        shuffle = True,\n",
    "                                        batch_size = 48)"
   ]
  },
  {
   "cell_type": "code",
   "execution_count": 65,
   "metadata": {},
   "outputs": [
    {
     "name": "stdout",
     "output_type": "stream",
     "text": [
      "Best loss value: 0.3250638534000609\n"
     ]
    },
    {
     "data": {
      "image/png": "[encoded data removed]",
      "text/plain": [
       "<Figure size 432x288 with 1 Axes>"
      ]
     },
     "metadata": {
      "needs_background": "light"
     },
     "output_type": "display_data"
    }
   ],
   "source": [
    "best_loss_value_ann_2h_unisoftsigbinlosadam = plot_hist_auto(hist_ann_2h_unisoftsigbinlosadam, './Figures/ann_2h_unisoftsigbinlosadam.png')"
   ]
  },
  {
   "cell_type": "code",
   "execution_count": 66,
   "metadata": {},
   "outputs": [
    {
     "name": "stdout",
     "output_type": "stream",
     "text": [
      "Overall accuracy of Neural Network model: 0.8630625\n",
      "              precision    recall  f1-score   support\n",
      "\n",
      "           0       0.87      0.96      0.91     60249\n",
      "           1       0.82      0.57      0.67     19751\n",
      "\n",
      "   micro avg       0.86      0.86      0.86     80000\n",
      "   macro avg       0.85      0.77      0.79     80000\n",
      "weighted avg       0.86      0.86      0.85     80000\n",
      "\n"
     ]
    }
   ],
   "source": [
    "pred_ann_2h_prob_unisoftsigbinlosadam, pred_ann_2h_01_unisoftsigbinlosadam = ann_predict(ann_2h_unisoftsigbinlosadam,enc_test_x_asal)"
   ]
  },
  {
   "cell_type": "code",
   "execution_count": 67,
   "metadata": {},
   "outputs": [
    {
     "data": {
      "image/png": "[encoded data removed]",
      "text/plain": [
       "<Figure size 432x288 with 1 Axes>"
      ]
     },
     "metadata": {
      "needs_background": "light"
     },
     "output_type": "display_data"
    },
    {
     "data": {
      "image/png": "[encoded data removed]",
      "text/plain": [
       "<Figure size 576x432 with 2 Axes>"
      ]
     },
     "metadata": {
      "needs_background": "light"
     },
     "output_type": "display_data"
    }
   ],
   "source": [
    "plot_roc_cm(pred_ann_2h_01_unisoftsigbinlosadam, pred_ann_2h_01_unisoftsigbinlosadam, './Figures/ROC_ann_2h_unisoftsigbinlosadam_redds10bal.png', './Figures/CM_ann_2h_unisoftsigbinlosadam_redds10bal.png')"
   ]
  },
  {
   "cell_type": "code",
   "execution_count": null,
   "metadata": {},
   "outputs": [],
   "source": []
  },
  {
   "cell_type": "code",
   "execution_count": null,
   "metadata": {},
   "outputs": [],
   "source": []
  },
  {
   "cell_type": "code",
   "execution_count": 68,
   "metadata": {},
   "outputs": [
    {
     "name": "stdout",
     "output_type": "stream",
     "text": [
      "_________________________________________________________________\n",
      "Layer (type)                 Output Shape              Param #   \n",
      "=================================================================\n",
      "dense_22 (Dense)             (None, 48)                2352      \n",
      "_________________________________________________________________\n",
      "dense_23 (Dense)             (None, 24)                1176      \n",
      "_________________________________________________________________\n",
      "batch_normalization_4 (Batch (None, 24)                96        \n",
      "_________________________________________________________________\n",
      "dropout_4 (Dropout)          (None, 24)                0         \n",
      "_________________________________________________________________\n",
      "dense_24 (Dense)             (None, 1)                 25        \n",
      "=================================================================\n",
      "Total params: 3,649\n",
      "Trainable params: 3,601\n",
      "Non-trainable params: 48\n",
      "_________________________________________________________________\n",
      "None\n"
     ]
    }
   ],
   "source": [
    "ann_24n_unisoftsigbinlosadam = ann_1h_24n(neurons=48,\n",
    "                                      encoded_train_x=train_x,\n",
    "                                      init_mode='uniform',\n",
    "                                      activation_input='softsign',\n",
    "                                      weight_constraint=5,\n",
    "                                      dropout_rate=0.0,\n",
    "                                      activation_output='sigmoid',\n",
    "                                      loss='binary_crossentropy',\n",
    "                                      optimizer='Adam')"
   ]
  },
  {
   "cell_type": "code",
   "execution_count": 69,
   "metadata": {},
   "outputs": [
    {
     "name": "stdout",
     "output_type": "stream",
     "text": [
      "Tue Jun  4 23:54:14 2019\n",
      "Train on 204800 samples, validate on 51200 samples\n",
      "Epoch 1/200\n",
      "204800/204800 [==============================] - 22s 109us/step - loss: 0.4719 - acc: 0.7730 - val_loss: 0.4436 - val_acc: 0.7936\n",
      "Epoch 2/200\n",
      "204800/204800 [==============================] - 21s 104us/step - loss: 0.4356 - acc: 0.7964 - val_loss: 0.4202 - val_acc: 0.8054\n",
      "Epoch 3/200\n",
      "204800/204800 [==============================] - 21s 104us/step - loss: 0.4164 - acc: 0.8083 - val_loss: 0.4025 - val_acc: 0.8163\n",
      "Epoch 4/200\n",
      "204800/204800 [==============================] - 22s 106us/step - loss: 0.4040 - acc: 0.8170 - val_loss: 0.3865 - val_acc: 0.8324\n",
      "Epoch 5/200\n",
      "204800/204800 [==============================] - 21s 104us/step - loss: 0.3935 - acc: 0.8225 - val_loss: 0.3828 - val_acc: 0.8272\n",
      "Epoch 6/200\n",
      "204800/204800 [==============================] - 21s 105us/step - loss: 0.3838 - acc: 0.8279 - val_loss: 0.3847 - val_acc: 0.8241\n",
      "Epoch 7/200\n",
      "204800/204800 [==============================] - 22s 106us/step - loss: 0.3754 - acc: 0.8318 - val_loss: 0.3695 - val_acc: 0.8402\n",
      "Epoch 8/200\n",
      "204800/204800 [==============================] - 21s 103us/step - loss: 0.3695 - acc: 0.8349 - val_loss: 0.3687 - val_acc: 0.8340\n",
      "Epoch 9/200\n",
      "204800/204800 [==============================] - 21s 103us/step - loss: 0.3636 - acc: 0.8374 - val_loss: 0.3579 - val_acc: 0.8444\n",
      "Epoch 10/200\n",
      "204800/204800 [==============================] - 21s 101us/step - loss: 0.3586 - acc: 0.8403 - val_loss: 0.3575 - val_acc: 0.8382\n",
      "Epoch 11/200\n",
      "204800/204800 [==============================] - 21s 101us/step - loss: 0.3536 - acc: 0.8424 - val_loss: 0.3530 - val_acc: 0.8483\n",
      "Epoch 12/200\n",
      "204800/204800 [==============================] - 21s 104us/step - loss: 0.3483 - acc: 0.8447 - val_loss: 0.3466 - val_acc: 0.8476\n",
      "Epoch 13/200\n",
      "204800/204800 [==============================] - 21s 102us/step - loss: 0.3451 - acc: 0.8462 - val_loss: 0.3415 - val_acc: 0.8471\n",
      "Epoch 14/200\n",
      "204800/204800 [==============================] - 21s 102us/step - loss: 0.3400 - acc: 0.8484 - val_loss: 0.3360 - val_acc: 0.8504\n",
      "Epoch 15/200\n",
      "204800/204800 [==============================] - 21s 103us/step - loss: 0.3373 - acc: 0.8494 - val_loss: 0.3354 - val_acc: 0.8525\n",
      "Epoch 16/200\n",
      "204800/204800 [==============================] - 21s 102us/step - loss: 0.3337 - acc: 0.8510 - val_loss: 0.3312 - val_acc: 0.8548\n",
      "Epoch 17/200\n",
      "204800/204800 [==============================] - 21s 102us/step - loss: 0.3303 - acc: 0.8523 - val_loss: 0.3197 - val_acc: 0.8598\n",
      "Epoch 18/200\n",
      "204800/204800 [==============================] - 21s 103us/step - loss: 0.3283 - acc: 0.8534 - val_loss: 0.3241 - val_acc: 0.8584\n",
      "Epoch 19/200\n",
      "204800/204800 [==============================] - 21s 102us/step - loss: 0.3245 - acc: 0.8545 - val_loss: 0.3176 - val_acc: 0.8614\n",
      "Epoch 20/200\n",
      "204800/204800 [==============================] - 21s 103us/step - loss: 0.3213 - acc: 0.8563 - val_loss: 0.3097 - val_acc: 0.8596\n",
      "Epoch 21/200\n",
      "204800/204800 [==============================] - 21s 102us/step - loss: 0.3197 - acc: 0.8573 - val_loss: 0.3109 - val_acc: 0.8618\n",
      "Epoch 22/200\n",
      "204800/204800 [==============================] - 21s 102us/step - loss: 0.3164 - acc: 0.8584 - val_loss: 0.3188 - val_acc: 0.8554\n",
      "Epoch 23/200\n",
      "204800/204800 [==============================] - 21s 104us/step - loss: 0.3140 - acc: 0.8592 - val_loss: 0.3075 - val_acc: 0.8631\n",
      "Epoch 24/200\n",
      "204800/204800 [==============================] - 21s 102us/step - loss: 0.3112 - acc: 0.8608 - val_loss: 0.3218 - val_acc: 0.8618\n",
      "Epoch 25/200\n",
      "204800/204800 [==============================] - 21s 102us/step - loss: 0.3106 - acc: 0.8611 - val_loss: 0.3223 - val_acc: 0.8590\n",
      "Epoch 26/200\n",
      "204800/204800 [==============================] - 21s 103us/step - loss: 0.3084 - acc: 0.8622 - val_loss: 0.3107 - val_acc: 0.8618\n",
      "Epoch 27/200\n",
      "204800/204800 [==============================] - 21s 101us/step - loss: 0.3058 - acc: 0.8635 - val_loss: 0.3091 - val_acc: 0.8651\n",
      "Epoch 28/200\n",
      "204800/204800 [==============================] - 21s 102us/step - loss: 0.3042 - acc: 0.8633 - val_loss: 0.3174 - val_acc: 0.8594\n",
      "--- ANN spent 591.5311162471771 seconds ---\n"
     ]
    }
   ],
   "source": [
    "hist_ann_24n_unisoftsigbinlosadam = ann_fit(checkpoint_file = \"ann_24n_unisoftsigbinlosadam_redds10bal.h5\",\n",
    "                                        ann = ann_24n_unisoftsigbinlosadam,\n",
    "                                        enc_train_x = train_x,\n",
    "                                        train_y = train_y,\n",
    "                                        epochs = 200,\n",
    "                                        shuffle = True,\n",
    "                                        batch_size = 48)"
   ]
  },
  {
   "cell_type": "code",
   "execution_count": 70,
   "metadata": {},
   "outputs": [
    {
     "name": "stdout",
     "output_type": "stream",
     "text": [
      "Best loss value: 0.3042129120021127\n"
     ]
    },
    {
     "data": {
      "image/png": "[encoded data removed]",
      "text/plain": [
       "<Figure size 432x288 with 1 Axes>"
      ]
     },
     "metadata": {
      "needs_background": "light"
     },
     "output_type": "display_data"
    }
   ],
   "source": [
    "best_loss_value_ann_24n_unisoftsigbinlosadam = plot_hist_auto(hist_ann_24n_unisoftsigbinlosadam, './Figures/ann_24_unisoftsigbinlosadam.png')"
   ]
  },
  {
   "cell_type": "code",
   "execution_count": 71,
   "metadata": {},
   "outputs": [
    {
     "name": "stdout",
     "output_type": "stream",
     "text": [
      "Overall accuracy of Neural Network model: 0.8583\n",
      "              precision    recall  f1-score   support\n",
      "\n",
      "           0       0.88      0.95      0.91     60249\n",
      "           1       0.78      0.59      0.67     19751\n",
      "\n",
      "   micro avg       0.86      0.86      0.86     80000\n",
      "   macro avg       0.83      0.77      0.79     80000\n",
      "weighted avg       0.85      0.86      0.85     80000\n",
      "\n"
     ]
    }
   ],
   "source": [
    "pred_ann_24n_prob_unisoftsigbinlosadam, pred_ann_24n_01_unisoftsigbinlosadam = ann_predict(ann_24n_unisoftsigbinlosadam,test_x)"
   ]
  },
  {
   "cell_type": "code",
   "execution_count": 72,
   "metadata": {},
   "outputs": [
    {
     "data": {
      "image/png": "[encoded data removed]",
      "text/plain": [
       "<Figure size 432x288 with 1 Axes>"
      ]
     },
     "metadata": {
      "needs_background": "light"
     },
     "output_type": "display_data"
    },
    {
     "data": {
      "image/png": "[encoded data removed]",
      "text/plain": [
       "<Figure size 576x432 with 2 Axes>"
      ]
     },
     "metadata": {
      "needs_background": "light"
     },
     "output_type": "display_data"
    }
   ],
   "source": [
    "plot_roc_cm(pred_ann_24n_01_unisoftsigbinlosadam, pred_ann_24n_01_unisoftsigbinlosadam, './Figures/ROC_ann_24n_unisoftsigbinlosadam_redds10bal.png', './Figures/CM_ann_24n_unisoftsigbinlosadam_redds10bal.png')"
   ]
  },
  {
   "cell_type": "code",
   "execution_count": 73,
   "metadata": {},
   "outputs": [],
   "source": [
    "from sklearn.ensemble import RandomForestClassifier"
   ]
  },
  {
   "cell_type": "code",
   "execution_count": 77,
   "metadata": {},
   "outputs": [],
   "source": [
    "clf = RandomForestClassifier(n_estimators=300, \n",
    "                             criterion='gini', \n",
    "                             max_depth=16, \n",
    "#                              min_samples_split=2, \n",
    "                             #min_samples_leaf=1, \n",
    "                             max_features=0.5, \n",
    "                             #bootstrap=True,\n",
    "                             oob_score=True,\n",
    "                             random_state=23)  "
   ]
  },
  {
   "cell_type": "code",
   "execution_count": null,
   "metadata": {},
   "outputs": [
    {
     "name": "stdout",
     "output_type": "stream",
     "text": [
      "Wed Jun  5 11:18:01 2019\n"
     ]
    }
   ],
   "source": [
    "start_time = time.time()\n",
    "print(time.ctime(start_time))\n",
    "\n",
    "clf.fit(enc_train_x_asal, train_y)\n",
    "\n",
    "pred_y_RF = cross_val_predict(estimator=clf,\n",
    "                              X=np.array(enc_test_x_asal),\n",
    "                              y=test_y,\n",
    "                              cv=KFold(n_splits=10, random_state=23),\n",
    "                              n_jobs=2)\n",
    "\n",
    "elapsed_time = (time.time() - start_time)\n",
    "print(\"--- %s seconds ---\" %elapsed_time)\n",
    "\n",
    "print(sm.classification_report(test_y, pred_y_RF,digits=4))"
   ]
  },
  {
   "cell_type": "code",
   "execution_count": null,
   "metadata": {},
   "outputs": [],
   "source": [
    "plot_roc_cm(pred_y_RF, pred_y_RF, './Figures/ROC_rf_E100MaxfautoMaxdnoneBootT_redds10bal.png', './Figures/CM_rf_E100MaxfautoMaxdnoneBootT_redds10bal.png')"
   ]
  },
  {
   "cell_type": "code",
   "execution_count": null,
   "metadata": {},
   "outputs": [],
   "source": []
  },
  {
   "cell_type": "code",
   "execution_count": null,
   "metadata": {},
   "outputs": [],
   "source": []
  },
  {
   "cell_type": "code",
   "execution_count": null,
   "metadata": {},
   "outputs": [],
   "source": []
  }
 ],
 "metadata": {
  "kernelspec": {
   "display_name": "Python 3",
   "language": "python",
   "name": "python3"
  },
  "language_info": {
   "codemirror_mode": {
    "name": "ipython",
    "version": 3
   },
   "file_extension": ".py",
   "mimetype": "text/x-python",
   "name": "python",
   "nbconvert_exporter": "python",
   "pygments_lexer": "ipython3",
   "version": "3.6.8"
  }
 },
 "nbformat": 4,
 "nbformat_minor": 2
}
