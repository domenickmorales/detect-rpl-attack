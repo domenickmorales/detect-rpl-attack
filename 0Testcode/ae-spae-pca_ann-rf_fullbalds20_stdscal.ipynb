{
 "cells": [
  {
   "cell_type": "code",
   "execution_count": 1,
   "metadata": {},
   "outputs": [],
   "source": [
    "import os\n",
    "os.environ[\"CUDA_DEVICE_ORDER\"]=\"PCI_BUS_ID\"\n",
    "os.environ[\"CUDA_VISIBLE_DEVICES\"]=\"0\""
   ]
  },
  {
   "cell_type": "code",
   "execution_count": 2,
   "metadata": {},
   "outputs": [
    {
     "name": "stderr",
     "output_type": "stream",
     "text": [
      "Using TensorFlow backend.\n"
     ]
    }
   ],
   "source": [
    "###################################\n",
    "# TensorFlow wizardry\n",
    "import tensorflow as tf\n",
    "config = tf.ConfigProto()\n",
    " \n",
    "# Don’t pre-allocate memory; allocate as-needed\n",
    "config.gpu_options.allow_growth = True\n",
    " \n",
    "# Only allow a total of half the GPU memory to be allocated\n",
    "config.gpu_options.per_process_gpu_memory_fraction = 0.05\n",
    "#gpu_options = tf.GPUOptions(per_process_gpu_memory_fraction=0.333)\n",
    " \n",
    "# Create a session with the above options specified.\n",
    "from keras import optimizers, regularizers\n",
    "from keras.layers.normalization import BatchNormalization\n",
    "from keras.utils import to_categorical\n",
    "from keras.wrappers.scikit_learn import KerasClassifier\n",
    "from keras import optimizers\n",
    "from keras.constraints import maxnorm\n",
    "from keras.callbacks import ModelCheckpoint, TensorBoard, EarlyStopping\n",
    "\n",
    "from keras.models import Sequential, Model, load_model\n",
    "from keras.layers import Activation, Dense, Dropout, Input\n",
    "from keras import backend as k\n",
    "\n",
    "k.tensorflow_backend.set_session(tf.Session(config=config))\n",
    "#k.tensorflow_backend.set_session(tf.Session(config=tf.ConfigProto(gpu_options=gpu_options))\n",
    "###################################"
   ]
  },
  {
   "cell_type": "code",
   "execution_count": 3,
   "metadata": {},
   "outputs": [],
   "source": [
    "#----------------------------------Import modules------------------------------\n",
    "import numpy as np\n",
    "import pandas as pd\n",
    "import matplotlib.pyplot as plt\n",
    "import seaborn as sns\n",
    "from sklearn.model_selection import train_test_split\n",
    "from sklearn.metrics import confusion_matrix,accuracy_score, roc_curve, auc\n",
    "from sklearn import preprocessing\n",
    "sns.set_style(\"whitegrid\")\n",
    "np.random.seed(23)\n",
    "import time\n",
    "from sklearn.decomposition import PCA\n",
    "from sklearn.model_selection import GridSearchCV\n",
    "import sklearn.metrics as sm\n",
    "from sklearn.model_selection import KFold\n",
    "from sklearn.model_selection import cross_val_predict\n",
    "\n",
    "\n",
    "\n",
    "neurons=66\n",
    "batch_size=66\n",
    "dsnum=20\n",
    "verbose_level=1"
   ]
  },
  {
   "cell_type": "code",
   "execution_count": 4,
   "metadata": {},
   "outputs": [
    {
     "name": "stdout",
     "output_type": "stream",
     "text": [
      "Default GPU Device: /device:GPU:0\n"
     ]
    }
   ],
   "source": [
    "if tf.test.gpu_device_name():\n",
    "    print('Default GPU Device: {}'.format(tf.test.gpu_device_name()))\n",
    "else:\n",
    "    print(\"Please install GPU version of TF\")"
   ]
  },
  {
   "cell_type": "code",
   "execution_count": 5,
   "metadata": {},
   "outputs": [],
   "source": [
    "pathds = '/home/user/01Code/00Datasets_final/'"
   ]
  },
  {
   "cell_type": "code",
   "execution_count": 6,
   "metadata": {},
   "outputs": [],
   "source": [
    "#df_chunk = pd.read_csv(pathds+'SubsetAllSamples/ThirdCloneID10bal_minmax.csv', chunksize=1000)\n",
    "#df = df_chunk.get_chunk(300000)\n",
    "df = pd.read_csv(pathds+\"SubsetAllSamples/CloneID\"+str(dsnum)+\"bal_stdscal.csv\")"
   ]
  },
  {
   "cell_type": "code",
   "execution_count": 7,
   "metadata": {},
   "outputs": [
    {
     "data": {
      "text/plain": [
       "(2686202, 67)"
      ]
     },
     "execution_count": 7,
     "metadata": {},
     "output_type": "execute_result"
    }
   ],
   "source": [
    "df.shape"
   ]
  },
  {
   "cell_type": "markdown",
   "metadata": {},
   "source": [
    "#### 4.2 Explaining the data"
   ]
  },
  {
   "cell_type": "code",
   "execution_count": 8,
   "metadata": {},
   "outputs": [
    {
     "name": "stdout",
     "output_type": "stream",
     "text": [
      "Class 0: 1343101\n",
      "Class 1: 1343101\n",
      "Proportion: 1.0 : 1\n"
     ]
    }
   ],
   "source": [
    "#if you don't have an intuitive sense of how imbalanced these two classes are, let's go visual\n",
    "count_classes = pd.value_counts(df['class'], sort = True)\n",
    "print('Class 0:', count_classes[0])\n",
    "print('Class 1:', count_classes[1])\n",
    "print('Proportion:', round(count_classes[0] / count_classes[1], 3), ': 1')"
   ]
  },
  {
   "cell_type": "code",
   "execution_count": 9,
   "metadata": {},
   "outputs": [
    {
     "data": {
      "image/png": "[encoded data removed]",
      "text/plain": [
       "<Figure size 432x288 with 1 Axes>"
      ]
     },
     "metadata": {
      "needs_background": "light"
     },
     "output_type": "display_data"
    }
   ],
   "source": [
    "count_classes.plot(kind = 'bar', rot=0)\n",
    "plt.xticks(range(2), ['Normal [0]','Malicious [1]'])\n",
    "plt.title(\"Frequency by observation number\")\n",
    "plt.xlabel(\"Class\")\n",
    "plt.ylabel(\"Number of Observations\");"
   ]
  },
  {
   "cell_type": "code",
   "execution_count": 10,
   "metadata": {},
   "outputs": [],
   "source": [
    "#set random seed and percentage of test data\n",
    "RANDOM_SEED = 23 #used to help randomly select the data points\n",
    "TEST_PCT = 0.20 # 20% of the data"
   ]
  },
  {
   "cell_type": "code",
   "execution_count": 11,
   "metadata": {},
   "outputs": [],
   "source": [
    "train, test_df = train_test_split(df, test_size=TEST_PCT, random_state=RANDOM_SEED)"
   ]
  },
  {
   "cell_type": "markdown",
   "metadata": {},
   "source": [
    "+ df -> original dataset \n",
    "+ train -> subset of 80% from original dataset \n",
    "+ test_df -> subset of 20% from original dataset "
   ]
  },
  {
   "cell_type": "code",
   "execution_count": 12,
   "metadata": {},
   "outputs": [],
   "source": [
    "train_df, dev_df = train_test_split(train, test_size=TEST_PCT, random_state=RANDOM_SEED)"
   ]
  },
  {
   "cell_type": "markdown",
   "metadata": {},
   "source": [
    "+ train -> subset of 80% from original dataset \n",
    "+ train_df -> subset of 80% from train\n",
    "+ dev_df -> subset of 20% from train"
   ]
  },
  {
   "cell_type": "code",
   "execution_count": 13,
   "metadata": {},
   "outputs": [
    {
     "name": "stdout",
     "output_type": "stream",
     "text": [
      "0.5000465341374433\n",
      "0.49896578120164825\n",
      "0.5006784664610482\n"
     ]
    }
   ],
   "source": [
    "# Check distribution of mal samples in train and test set\n",
    "print(train_df.iloc[:, batch_size].sum()/train_df.shape[0]) \n",
    "print(dev_df.iloc[:, batch_size].sum()/dev_df.shape[0]) \n",
    "print(test_df.iloc[:, batch_size].sum()/test_df.shape[0])"
   ]
  },
  {
   "cell_type": "code",
   "execution_count": 14,
   "metadata": {},
   "outputs": [],
   "source": [
    "train_x = train_df.iloc[:, :batch_size] \n",
    "dev_x = dev_df.iloc[:, :batch_size] \n",
    "test_x = test_df.iloc[:, :batch_size] "
   ]
  },
  {
   "cell_type": "markdown",
   "metadata": {},
   "source": [
    "+ train_x -> features of train_df **Training subset for AE**\n",
    "+ dev_x -> features of dev_df **Validation subset for AE**\n",
    "+ test_x -> features of test_df **Testing subset for ANN**"
   ]
  },
  {
   "cell_type": "code",
   "execution_count": 15,
   "metadata": {},
   "outputs": [],
   "source": [
    "# Define the final train and test sets\n",
    "train_y = train_df.iloc[:,batch_size]\n",
    "dev_y = dev_df.iloc[:,batch_size]\n",
    "test_y = test_df.iloc[:,batch_size]"
   ]
  },
  {
   "cell_type": "markdown",
   "metadata": {},
   "source": [
    "+ train_y -> **Labels for supervised training of ANN**\n",
    "+ dev_y -> labels of dev_df  *not used for AE neither ANN*\n",
    "+ test_y -> labels of test_df  **Ground Truth for predictions of supervised ANN**"
   ]
  },
  {
   "cell_type": "code",
   "execution_count": 16,
   "metadata": {},
   "outputs": [
    {
     "name": "stdout",
     "output_type": "stream",
     "text": [
      "66\n"
     ]
    }
   ],
   "source": [
    "train_x =np.array(train_x)\n",
    "dev_x =np.array(dev_x)\n",
    "test_x = np.array(test_x)\n",
    "\n",
    "train_y = np.array(train_y)\n",
    "dev_y = np.array(dev_y)\n",
    "test_y = np.array(test_y)\n",
    "\n",
    "print(train_x.shape[1])"
   ]
  },
  {
   "cell_type": "markdown",
   "metadata": {},
   "source": [
    "### Autoencoder Function"
   ]
  },
  {
   "cell_type": "code",
   "execution_count": 17,
   "metadata": {},
   "outputs": [],
   "source": [
    "def ae(factor_enc_dim, enc_activation, dec_activation, \n",
    "                optimizer, loss):\n",
    "\n",
    "    encoding_dim = int(int(train_x.shape[1])/factor_enc_dim)\n",
    "    ### Define input layer\n",
    "    input_data = Input(shape=(train_x.shape[1],))\n",
    "    ### Define encoding layer #RELU\n",
    "    encoded = Dense(encoding_dim, activation=enc_activation, name='encoded_bottle_neck')(input_data)\n",
    "    ### Define decoding layer #SIMOID\n",
    "    decoded = Dense(train_x.shape[1], activation=dec_activation)(encoded)\n",
    "    ### Create the autoencoder model\n",
    "    autoencoder = Model(input_data, decoded)\n",
    "    autoencoder.compile(optimizer=optimizer,\n",
    "                        loss=loss,\n",
    "                        metrics=['accuracy'])\n",
    "    \n",
    "    print(autoencoder.summary())\n",
    "    \n",
    "    encoder = Model(input_data, encoded)\n",
    "    encoded_train_x = encoder.predict(train_x)\n",
    "    encoded_test_x = encoder.predict(test_x)\n",
    "    \n",
    "    return autoencoder,encoded_train_x,encoded_test_x"
   ]
  },
  {
   "cell_type": "code",
   "execution_count": 18,
   "metadata": {},
   "outputs": [],
   "source": [
    "def spae(factor_enc_dim,dec_activation,enc_activation,\n",
    "         optimizer,loss):\n",
    "\n",
    "    encoding_dim = int(int(train_x.shape[1])/factor_enc_dim)\n",
    "    ### Define input layer\n",
    "    input_data = Input(shape=(train_x.shape[1],))\n",
    "    ### Define encoding layer\n",
    "    encoded = Dense(encoding_dim, activity_regularizer=regularizers.l1(1e-4), activation=enc_activation, name='encoded_bottle_neck')(input_data)\n",
    "    ### Define decoding layer\n",
    "    decoded = Dense(train_x.shape[1], activation=dec_activation)(encoded)\n",
    "    ### Create the autoencoder model\n",
    "    autoencoder = Model(input_data, decoded)\n",
    "    autoencoder.compile(optimizer=optimizer,\n",
    "                        loss=loss,\n",
    "                        metrics=['accuracy'])\n",
    "    \n",
    "    print(autoencoder.summary())\n",
    "    \n",
    "    encoder = Model(input_data, encoded)\n",
    "    encoded_train_x = encoder.predict(train_x)\n",
    "    encoded_test_x = encoder.predict(test_x)\n",
    "    \n",
    "    return autoencoder,encoded_train_x,encoded_test_x"
   ]
  },
  {
   "cell_type": "code",
   "execution_count": 19,
   "metadata": {},
   "outputs": [],
   "source": [
    "def to_pca(thr):\n",
    "    #train_x_pca,test_x_pca = to_pca(0.95)\n",
    "    pca = PCA(n_components = thr, svd_solver = 'full')\n",
    "    train_x_ = np.array(train_x)\n",
    "    print(type(train_x_))\n",
    "\n",
    "    test_x_ = np.array(test_x)\n",
    "    print(type(test_x_))\n",
    "    \n",
    "    start_time = time.time()\n",
    "    print(time.ctime(start_time))\n",
    "\n",
    "    train_x_pca = pca.fit_transform(train_x_)\n",
    "    print(train_x_pca.shape)\n",
    "\n",
    "    test_x_pca = pca.fit_transform(test_x_)\n",
    "    print(test_x_pca.shape)\n",
    "\n",
    "    elapsed_time = (time.time() - start_time)\n",
    "\n",
    "    print(\"--- PCA spent %s seconds ---\" %elapsed_time )\n",
    "    \n",
    "    return  train_x_pca,test_x_pca"
   ]
  },
  {
   "cell_type": "code",
   "execution_count": null,
   "metadata": {},
   "outputs": [],
   "source": []
  },
  {
   "cell_type": "code",
   "execution_count": 20,
   "metadata": {},
   "outputs": [],
   "source": [
    "def fit_ae(checkpoint_file, autoencoder,\n",
    "           epochs, batch_size, shuffle):\n",
    "    \n",
    "    early_stopping = EarlyStopping(monitor='val_loss', patience=5)\n",
    "\n",
    "    cp = ModelCheckpoint(filepath=checkpoint_file,\n",
    "                                   save_best_only=True,\n",
    "                                   verbose=verbose_level)\n",
    "\n",
    "    tb = TensorBoard(log_dir='./logs',\n",
    "                    histogram_freq=0,\n",
    "                    write_graph=True,\n",
    "                    write_images=True)\n",
    "\n",
    "    start_time = time.time()\n",
    "    print(time.ctime(start_time))\n",
    "\n",
    "    hist_auto = autoencoder.fit(train_x, train_x,\n",
    "                    epochs=epochs,\n",
    "                    batch_size=batch_size,\n",
    "                    shuffle=shuffle,\n",
    "                    verbose=verbose_level,\n",
    "                    callbacks=[early_stopping, cp, tb],\n",
    "                    validation_data=(dev_x, dev_x))\n",
    "\n",
    "    elapsed_time = (time.time() - start_time)\n",
    "    print(\"--- AE spent %s seconds ---\" % elapsed_time)\n",
    "    \n",
    "    return hist_auto"
   ]
  },
  {
   "cell_type": "code",
   "execution_count": 21,
   "metadata": {},
   "outputs": [],
   "source": [
    "def plot_hist_auto(hist_auto, fig_file):\n",
    "    best_loss_value = hist_auto.history['loss'][-1]\n",
    "    print('Best loss value:', best_loss_value)\n",
    "\n",
    "    # Summarize history for loss\n",
    "    plt.figure()\n",
    "    plt.plot(hist_auto.history['loss'])\n",
    "    plt.plot(hist_auto.history['val_loss'])\n",
    "    plt.title('Model loss')\n",
    "    plt.ylabel('loss')\n",
    "    plt.xlabel('epoch')\n",
    "    plt.legend(['train', 'test'], loc='upper right')\n",
    "    plt.savefig(fig_file)\n",
    "    plt.show()\n",
    "    \n",
    "    return best_loss_value"
   ]
  },
  {
   "cell_type": "code",
   "execution_count": 22,
   "metadata": {},
   "outputs": [],
   "source": [
    "def ann_2h(neurons,encoded_train_x,init_mode,activation_input,\n",
    "               weight_constraint,dropout_rate,activation_output,\n",
    "               loss,optimizer):\n",
    "\n",
    "    # create model\n",
    "    model = Sequential()\n",
    "\n",
    "    model.add(Dense(neurons, input_dim=encoded_train_x.shape[1],\n",
    "                    kernel_initializer=init_mode,\n",
    "                    #kernel_regularizer=regularizers.l2(0.02), #from example\n",
    "                    activation=activation_input,\n",
    "                    kernel_constraint=maxnorm(weight_constraint)\n",
    "                    )\n",
    "              )\n",
    "\n",
    "#     #Hidden Layer\n",
    "    model.add(Dense(int(neurons-int(neurons/4)), activation=\"relu\", kernel_initializer=init_mode)) #rezvy\n",
    "\n",
    "    model.add(Dense(int(neurons-int((neurons/4)*2)), activation=\"relu\", kernel_initializer=init_mode)) #rezvy\n",
    "    model.add(BatchNormalization()) #commented for ex\n",
    "    model.add(Dropout(dropout_rate))\n",
    "    \n",
    "    model.add(Dense(1, activation=activation_output)) #example\n",
    "    \n",
    "    # Compile model\n",
    "    model.compile(loss=loss, \n",
    "                  optimizer=optimizer, \n",
    "                  metrics=['accuracy'])\n",
    "    \n",
    "    print(model.summary())\n",
    "    \n",
    "    return model"
   ]
  },
  {
   "cell_type": "code",
   "execution_count": 23,
   "metadata": {},
   "outputs": [],
   "source": [
    "def ann_2h_():\n",
    "\n",
    "    # create model\n",
    "    model = Sequential()\n",
    "\n",
    "    model.add(Dense(neurons, input_dim=input_dim,\n",
    "                    kernel_initializer=init_mode,\n",
    "                    #kernel_regularizer=regularizers.l2(0.02), #from example\n",
    "                    activation=activation_input,\n",
    "                    kernel_constraint=maxnorm(weight_constraint)\n",
    "                    )\n",
    "              )\n",
    "\n",
    "#     #Hidden Layer\n",
    "    model.add(Dense(int(neurons-int(neurons/4)), activation=\"relu\", kernel_initializer=init_mode)) #rezvy\n",
    "\n",
    "    model.add(Dense(int(neurons-int((neurons/4)*2)), activation=\"relu\", kernel_initializer=init_mode)) #rezvy\n",
    "    model.add(BatchNormalization()) #commented for ex\n",
    "    model.add(Dropout(dropout_rate))\n",
    "    \n",
    "    model.add(Dense(1, activation=activation_output)) #example\n",
    "    \n",
    "    # Compile model\n",
    "    model.compile(loss=loss, \n",
    "                  optimizer=optimizer, \n",
    "                  metrics=['accuracy'])\n",
    "    \n",
    "    print(model.summary())\n",
    "    \n",
    "    return model"
   ]
  },
  {
   "cell_type": "code",
   "execution_count": 24,
   "metadata": {},
   "outputs": [],
   "source": [
    "def ann_fit(checkpoint_file,ann,enc_train_x,train_y,epochs,shuffle,batch_size):\n",
    "    early_stopping = EarlyStopping(monitor='val_loss', patience=5)\n",
    "\n",
    "    cp = ModelCheckpoint(filepath=checkpoint_file,\n",
    "                                   save_best_only=True,\n",
    "                                   verbose=verbose_level)\n",
    "\n",
    "    tb = TensorBoard(log_dir='./logs',\n",
    "                    histogram_freq=0,\n",
    "                    write_graph=True,\n",
    "                    write_images=True)\n",
    "\n",
    "    start_time = time.time()\n",
    "    print(time.ctime(start_time))\n",
    "\n",
    "    history = ann.fit(enc_train_x,\n",
    "                      train_y,\n",
    "                      validation_split=0.2,\n",
    "                      callbacks=[early_stopping, cp, tb],\n",
    "                      epochs=epochs,\n",
    "                      shuffle=shuffle,\n",
    "                      batch_size=batch_size,\n",
    "                      verbose=verbose_level)\n",
    "\n",
    "    elapsed_time = (time.time() - start_time)\n",
    "    print(\"--- ANN spent %s seconds ---\" % elapsed_time)\n",
    "\n",
    "    return history"
   ]
  },
  {
   "cell_type": "code",
   "execution_count": 25,
   "metadata": {},
   "outputs": [],
   "source": [
    "def ann_predict(ann,enc_test_x):\n",
    "    pred_ann_prob = ann.predict(enc_test_x)\n",
    "    pred_ann_prob.shape\n",
    "    pred_ann_prob = pred_ann_prob[:,0]\n",
    "    pred_ann_01 = np.where(pred_ann_prob > 0.5, 1, 0)\n",
    "    \n",
    "    #Print accuracy\n",
    "    acc_ann = accuracy_score(test_y, pred_ann_01)\n",
    "    print('Overall accuracy of Neural Network model:', acc_ann)\n",
    "\n",
    "    classiBM = \"NN\"\n",
    "    preBM = (sm.precision_score(test_y, pred_ann_01)*100) \n",
    "    recallBM = (sm.recall_score(test_y, pred_ann_01)*100) \n",
    "    f1scoreBM = (sm.f1_score(test_y, pred_ann_01)*100)\n",
    "    print(sm.classification_report(test_y, pred_ann_01,digits=4))\n",
    "    \n",
    "    return pred_ann_prob, pred_ann_01"
   ]
  },
  {
   "cell_type": "code",
   "execution_count": 26,
   "metadata": {},
   "outputs": [],
   "source": [
    "def ann_predict_():\n",
    "    early_stopping = EarlyStopping(monitor='loss', patience=10)\n",
    "\n",
    "    start_time = time.time()\n",
    "    print(time.ctime(start_time))    \n",
    "\n",
    "    modelk = KerasClassifier(build_fn=ann_2h_,\n",
    "                             epochs=epochs, \n",
    "                             batch_size=batch_size, \n",
    "                             verbose=verbose_level\n",
    "                            )\n",
    "\n",
    "    pred_ann_prob = cross_val_predict(modelk,\n",
    "                                      enc_test_x,\n",
    "                                      test_y,\n",
    "                                      cv=KFold(n_splits=5, random_state=23),\n",
    "                                      verbose=1)\n",
    "\n",
    "    elapsed_time = (time.time() - start_time)\n",
    "    print(\"--- %s seconds ---\" %elapsed_time)\n",
    "\n",
    "    pred_ann_prob.shape\n",
    "    pred_ann_prob = pred_ann_prob[:,0]\n",
    "    pred_ann_01 = np.where(pred_ann_prob > 0.5, 1, 0)\n",
    "\n",
    "    #Print accuracy\n",
    "    acc_ann = accuracy_score(test_y, pred_ann_01)\n",
    "    print('Overall accuracy of Neural Network model:', acc_ann)\n",
    "\n",
    "    classiBM = \"NN\"\n",
    "    preBM = (sm.precision_score(test_y, pred_ann_01)*100) \n",
    "    recallBM = (sm.recall_score(test_y, pred_ann_01)*100) \n",
    "    f1scoreBM = (sm.f1_score(test_y, pred_ann_01)*100)\n",
    "    print(sm.classification_report(test_y, pred_ann_01,digits=4))\n",
    "    \n",
    "    return pred_ann_prob,pred_ann_01"
   ]
  },
  {
   "cell_type": "code",
   "execution_count": 27,
   "metadata": {},
   "outputs": [],
   "source": [
    "def plot_roc_cm(pred_ann_prob, pred_ann_01, roc_file, cm_file):\n",
    "    false_positive_rate, recall, thresholds = roc_curve(test_y, pred_ann_prob)\n",
    "    roc_auc = auc(false_positive_rate, recall)\n",
    "    plt.figure()\n",
    "    plt.title('Receiver Operating Characteristic (ROC)')\n",
    "    plt.plot(false_positive_rate, recall, 'b', label = 'AUC = %0.3f' %roc_auc)\n",
    "    plt.legend(loc='lower right')\n",
    "    plt.plot([0,1], [0,1], 'r--')\n",
    "    plt.xlim([0.0,1.0])\n",
    "    plt.ylim([0.0,1.0])\n",
    "    plt.ylabel('Recall')\n",
    "    plt.xlabel('Fall-out (1-Specificity)')\n",
    "    plt.savefig(roc_file)\n",
    "    plt.show()\n",
    "    \n",
    "    cm = confusion_matrix(test_y, pred_ann_01)\n",
    "    labels = ['Normal', 'Malicious']\n",
    "    plt.figure(figsize=(8,6))\n",
    "    sns.heatmap(cm,xticklabels=labels, yticklabels=labels, annot=True, fmt='d', cmap=\"RdYlGn\", vmin = 0.2);\n",
    "    plt.title('Confusion Matrix')\n",
    "    plt.ylabel('True Class')\n",
    "    plt.xlabel('Predicted Class')\n",
    "    plt.savefig(cm_file)\n",
    "    plt.show()\n",
    "    "
   ]
  },
  {
   "cell_type": "code",
   "execution_count": null,
   "metadata": {},
   "outputs": [],
   "source": []
  },
  {
   "cell_type": "markdown",
   "metadata": {},
   "source": [
    "### **---------- PCA Dimensionality reduction ----------**"
   ]
  },
  {
   "cell_type": "code",
   "execution_count": 28,
   "metadata": {},
   "outputs": [
    {
     "name": "stdout",
     "output_type": "stream",
     "text": [
      "<class 'numpy.ndarray'>\n",
      "<class 'numpy.ndarray'>\n",
      "Sun Jun 23 09:07:35 2019\n",
      "(1719168, 18)\n",
      "(537241, 18)\n",
      "--- PCA spent 15.570057392120361 seconds ---\n"
     ]
    }
   ],
   "source": [
    "train_x_pca,test_x_pca = to_pca(0.95)"
   ]
  },
  {
   "cell_type": "markdown",
   "metadata": {},
   "source": [
    "### **---------- AE Dimensionality reduction ----------**"
   ]
  },
  {
   "cell_type": "code",
   "execution_count": 29,
   "metadata": {},
   "outputs": [
    {
     "name": "stdout",
     "output_type": "stream",
     "text": [
      "WARNING:tensorflow:From /home/user/anaconda3/envs/deepl/lib/python3.6/site-packages/tensorflow/python/framework/op_def_library.py:263: colocate_with (from tensorflow.python.framework.ops) is deprecated and will be removed in a future version.\n",
      "Instructions for updating:\n",
      "Colocations handled automatically by placer.\n",
      "_________________________________________________________________\n",
      "Layer (type)                 Output Shape              Param #   \n",
      "=================================================================\n",
      "input_1 (InputLayer)         (None, 66)                0         \n",
      "_________________________________________________________________\n",
      "encoded_bottle_neck (Dense)  (None, 44)                2948      \n",
      "_________________________________________________________________\n",
      "dense_1 (Dense)              (None, 66)                2970      \n",
      "=================================================================\n",
      "Total params: 5,918\n",
      "Trainable params: 5,918\n",
      "Non-trainable params: 0\n",
      "_________________________________________________________________\n",
      "None\n"
     ]
    }
   ],
   "source": [
    "ae_sigmoid_adam_mse,enc_train_x_asam,enc_test_x_asam = ae(factor_enc_dim = 1.5,\n",
    "                                                          enc_activation = 'relu',\n",
    "                                                          dec_activation = 'sigmoid',\n",
    "                                                          optimizer='Adam',\n",
    "                                                          loss='mean_squared_error')"
   ]
  },
  {
   "cell_type": "code",
   "execution_count": 30,
   "metadata": {},
   "outputs": [],
   "source": [
    "#ae_sigmoid_adam_mse = load_model('ae_sigmoid_adam_mse_redds10bal.h5')"
   ]
  },
  {
   "cell_type": "code",
   "execution_count": 31,
   "metadata": {},
   "outputs": [
    {
     "name": "stdout",
     "output_type": "stream",
     "text": [
      "Sun Jun 23 09:10:53 2019\n",
      "WARNING:tensorflow:From /home/user/anaconda3/envs/deepl/lib/python3.6/site-packages/tensorflow/python/ops/math_ops.py:3066: to_int32 (from tensorflow.python.ops.math_ops) is deprecated and will be removed in a future version.\n",
      "Instructions for updating:\n",
      "Use tf.cast instead.\n",
      "Train on 1719168 samples, validate on 429793 samples\n",
      "Epoch 1/200\n",
      "1719168/1719168 [==============================] - 52s 30us/step - loss: 0.1593 - acc: 0.1771 - val_loss: 0.1570 - val_acc: 0.1991\n",
      "\n",
      "Epoch 00001: val_loss improved from inf to 0.15705, saving model to ./H5files/ae_sigmoid_adam_mse_fullds20bal.h5\n",
      "Epoch 2/200\n",
      "1719168/1719168 [==============================] - 47s 28us/step - loss: 0.1570 - acc: 0.1960 - val_loss: 0.1570 - val_acc: 0.2130\n",
      "\n",
      "Epoch 00002: val_loss improved from 0.15705 to 0.15704, saving model to ./H5files/ae_sigmoid_adam_mse_fullds20bal.h5\n",
      "Epoch 3/200\n",
      "1719168/1719168 [==============================] - 44s 26us/step - loss: 0.1570 - acc: 0.1964 - val_loss: 0.1570 - val_acc: 0.1956\n",
      "\n",
      "Epoch 00003: val_loss improved from 0.15704 to 0.15704, saving model to ./H5files/ae_sigmoid_adam_mse_fullds20bal.h5\n",
      "Epoch 4/200\n",
      "1719168/1719168 [==============================] - 44s 26us/step - loss: 0.1570 - acc: 0.1868 - val_loss: 0.1570 - val_acc: 0.1830\n",
      "\n",
      "Epoch 00004: val_loss improved from 0.15704 to 0.15704, saving model to ./H5files/ae_sigmoid_adam_mse_fullds20bal.h5\n",
      "Epoch 5/200\n",
      "1719168/1719168 [==============================] - 44s 25us/step - loss: 0.1570 - acc: 0.1738 - val_loss: 0.1570 - val_acc: 0.1125\n",
      "\n",
      "Epoch 00005: val_loss did not improve from 0.15704\n",
      "Epoch 6/200\n",
      "1719168/1719168 [==============================] - 43s 25us/step - loss: 0.1570 - acc: 0.1232 - val_loss: 0.1570 - val_acc: 0.1239\n",
      "\n",
      "Epoch 00006: val_loss improved from 0.15704 to 0.15704, saving model to ./H5files/ae_sigmoid_adam_mse_fullds20bal.h5\n",
      "Epoch 7/200\n",
      "1719168/1719168 [==============================] - 43s 25us/step - loss: 0.1570 - acc: 0.1313 - val_loss: 0.1570 - val_acc: 0.1512\n",
      "\n",
      "Epoch 00007: val_loss improved from 0.15704 to 0.15702, saving model to ./H5files/ae_sigmoid_adam_mse_fullds20bal.h5\n",
      "Epoch 8/200\n",
      "1719168/1719168 [==============================] - 43s 25us/step - loss: 0.1570 - acc: 0.1472 - val_loss: 0.1570 - val_acc: 0.1495\n",
      "\n",
      "Epoch 00008: val_loss improved from 0.15702 to 0.15702, saving model to ./H5files/ae_sigmoid_adam_mse_fullds20bal.h5\n",
      "Epoch 9/200\n",
      "1719168/1719168 [==============================] - 42s 25us/step - loss: 0.1570 - acc: 0.1542 - val_loss: 0.1570 - val_acc: 0.1558\n",
      "\n",
      "Epoch 00009: val_loss did not improve from 0.15702\n",
      "Epoch 10/200\n",
      "1719168/1719168 [==============================] - 42s 24us/step - loss: 0.1569 - acc: 0.1659 - val_loss: 0.1569 - val_acc: 0.1548\n",
      "\n",
      "Epoch 00010: val_loss improved from 0.15702 to 0.15694, saving model to ./H5files/ae_sigmoid_adam_mse_fullds20bal.h5\n",
      "Epoch 11/200\n",
      "1719168/1719168 [==============================] - 42s 24us/step - loss: 0.1569 - acc: 0.1638 - val_loss: 0.1569 - val_acc: 0.1587\n",
      "\n",
      "Epoch 00011: val_loss improved from 0.15694 to 0.15694, saving model to ./H5files/ae_sigmoid_adam_mse_fullds20bal.h5\n",
      "Epoch 12/200\n",
      "1719168/1719168 [==============================] - 42s 24us/step - loss: 0.1569 - acc: 0.1814 - val_loss: 0.1569 - val_acc: 0.1797\n",
      "\n",
      "Epoch 00012: val_loss did not improve from 0.15694\n",
      "Epoch 13/200\n",
      "1719168/1719168 [==============================] - 42s 24us/step - loss: 0.1569 - acc: 0.1981 - val_loss: 0.1569 - val_acc: 0.2011\n",
      "\n",
      "Epoch 00013: val_loss did not improve from 0.15694\n",
      "Epoch 14/200\n",
      "1719168/1719168 [==============================] - 42s 24us/step - loss: 0.1569 - acc: 0.1892 - val_loss: 0.1569 - val_acc: 0.1936\n",
      "\n",
      "Epoch 00014: val_loss improved from 0.15694 to 0.15694, saving model to ./H5files/ae_sigmoid_adam_mse_fullds20bal.h5\n",
      "Epoch 15/200\n",
      "1719168/1719168 [==============================] - 42s 24us/step - loss: 0.1569 - acc: 0.1862 - val_loss: 0.1569 - val_acc: 0.1841\n",
      "\n",
      "Epoch 00015: val_loss improved from 0.15694 to 0.15694, saving model to ./H5files/ae_sigmoid_adam_mse_fullds20bal.h5\n",
      "Epoch 16/200\n",
      "1719168/1719168 [==============================] - 42s 24us/step - loss: 0.1569 - acc: 0.1875 - val_loss: 0.1569 - val_acc: 0.1681\n",
      "\n",
      "Epoch 00016: val_loss did not improve from 0.15694\n",
      "Epoch 17/200\n",
      "1719168/1719168 [==============================] - 42s 25us/step - loss: 0.1569 - acc: 0.1828 - val_loss: 0.1569 - val_acc: 0.1847\n",
      "\n",
      "Epoch 00017: val_loss did not improve from 0.15694\n",
      "Epoch 18/200\n",
      "1719168/1719168 [==============================] - 42s 24us/step - loss: 0.1569 - acc: 0.1774 - val_loss: 0.1569 - val_acc: 0.1839\n",
      "\n",
      "Epoch 00018: val_loss did not improve from 0.15694\n",
      "Epoch 19/200\n",
      "1719168/1719168 [==============================] - 42s 24us/step - loss: 0.1569 - acc: 0.1941 - val_loss: 0.1569 - val_acc: 0.1636\n",
      "\n",
      "Epoch 00019: val_loss improved from 0.15694 to 0.15694, saving model to ./H5files/ae_sigmoid_adam_mse_fullds20bal.h5\n",
      "Epoch 20/200\n",
      "1719168/1719168 [==============================] - 41s 24us/step - loss: 0.1569 - acc: 0.1815 - val_loss: 0.1569 - val_acc: 0.1823\n",
      "\n",
      "Epoch 00020: val_loss did not improve from 0.15694\n",
      "Epoch 21/200\n",
      "1719168/1719168 [==============================] - 40s 23us/step - loss: 0.1569 - acc: 0.1959 - val_loss: 0.1569 - val_acc: 0.1988\n",
      "\n",
      "Epoch 00021: val_loss improved from 0.15694 to 0.15694, saving model to ./H5files/ae_sigmoid_adam_mse_fullds20bal.h5\n",
      "Epoch 22/200\n",
      "1719168/1719168 [==============================] - 40s 23us/step - loss: 0.1569 - acc: 0.2109 - val_loss: 0.1569 - val_acc: 0.1994\n",
      "\n",
      "Epoch 00022: val_loss improved from 0.15694 to 0.15694, saving model to ./H5files/ae_sigmoid_adam_mse_fullds20bal.h5\n",
      "Epoch 23/200\n",
      "1719168/1719168 [==============================] - 44s 25us/step - loss: 0.1569 - acc: 0.2131 - val_loss: 0.1569 - val_acc: 0.1993\n",
      "\n",
      "Epoch 00023: val_loss did not improve from 0.15694\n",
      "Epoch 24/200\n",
      "1719168/1719168 [==============================] - 44s 26us/step - loss: 0.1569 - acc: 0.2014 - val_loss: 0.1569 - val_acc: 0.1944\n",
      "\n",
      "Epoch 00024: val_loss improved from 0.15694 to 0.15694, saving model to ./H5files/ae_sigmoid_adam_mse_fullds20bal.h5\n",
      "Epoch 25/200\n",
      "1719168/1719168 [==============================] - 43s 25us/step - loss: 0.1569 - acc: 0.2035 - val_loss: 0.1569 - val_acc: 0.2053\n",
      "\n",
      "Epoch 00025: val_loss improved from 0.15694 to 0.15694, saving model to ./H5files/ae_sigmoid_adam_mse_fullds20bal.h5\n",
      "Epoch 26/200\n",
      "1719168/1719168 [==============================] - 43s 25us/step - loss: 0.1569 - acc: 0.2001 - val_loss: 0.1569 - val_acc: 0.1973\n",
      "\n",
      "Epoch 00026: val_loss did not improve from 0.15694\n",
      "Epoch 27/200\n",
      "1719168/1719168 [==============================] - 43s 25us/step - loss: 0.1569 - acc: 0.1937 - val_loss: 0.1569 - val_acc: 0.1821\n",
      "\n",
      "Epoch 00027: val_loss improved from 0.15694 to 0.15694, saving model to ./H5files/ae_sigmoid_adam_mse_fullds20bal.h5\n",
      "Epoch 28/200\n",
      "1719168/1719168 [==============================] - 43s 25us/step - loss: 0.1569 - acc: 0.1830 - val_loss: 0.1569 - val_acc: 0.1829\n",
      "\n",
      "Epoch 00028: val_loss improved from 0.15694 to 0.15693, saving model to ./H5files/ae_sigmoid_adam_mse_fullds20bal.h5\n",
      "Epoch 29/200\n",
      "1719168/1719168 [==============================] - 44s 26us/step - loss: 0.1569 - acc: 0.1785 - val_loss: 0.1569 - val_acc: 0.1909\n",
      "\n",
      "Epoch 00029: val_loss improved from 0.15693 to 0.15693, saving model to ./H5files/ae_sigmoid_adam_mse_fullds20bal.h5\n",
      "Epoch 30/200\n",
      "1719168/1719168 [==============================] - 43s 25us/step - loss: 0.1569 - acc: 0.2174 - val_loss: 0.1569 - val_acc: 0.2174\n",
      "\n",
      "Epoch 00030: val_loss improved from 0.15693 to 0.15692, saving model to ./H5files/ae_sigmoid_adam_mse_fullds20bal.h5\n",
      "Epoch 31/200\n",
      "1719168/1719168 [==============================] - 43s 25us/step - loss: 0.1569 - acc: 0.2208 - val_loss: 0.1569 - val_acc: 0.2246\n",
      "\n",
      "Epoch 00031: val_loss improved from 0.15692 to 0.15691, saving model to ./H5files/ae_sigmoid_adam_mse_fullds20bal.h5\n",
      "Epoch 32/200\n",
      "1719168/1719168 [==============================] - 43s 25us/step - loss: 0.1569 - acc: 0.2271 - val_loss: 0.1569 - val_acc: 0.2169\n",
      "\n",
      "Epoch 00032: val_loss did not improve from 0.15691\n",
      "Epoch 33/200\n",
      "1719168/1719168 [==============================] - 43s 25us/step - loss: 0.1569 - acc: 0.2037 - val_loss: 0.1569 - val_acc: 0.2002\n",
      "\n",
      "Epoch 00033: val_loss improved from 0.15691 to 0.15691, saving model to ./H5files/ae_sigmoid_adam_mse_fullds20bal.h5\n",
      "Epoch 34/200\n",
      "1719168/1719168 [==============================] - 43s 25us/step - loss: 0.1569 - acc: 0.1893 - val_loss: 0.1569 - val_acc: 0.1996\n",
      "\n",
      "Epoch 00034: val_loss did not improve from 0.15691\n",
      "Epoch 35/200\n",
      "1719168/1719168 [==============================] - 43s 25us/step - loss: 0.1569 - acc: 0.1956 - val_loss: 0.1569 - val_acc: 0.2317\n",
      "\n",
      "Epoch 00035: val_loss did not improve from 0.15691\n",
      "Epoch 36/200\n",
      "1719168/1719168 [==============================] - 43s 25us/step - loss: 0.1569 - acc: 0.1931 - val_loss: 0.1569 - val_acc: 0.1959\n",
      "\n",
      "Epoch 00036: val_loss did not improve from 0.15691\n",
      "Epoch 37/200\n",
      "1719168/1719168 [==============================] - 43s 25us/step - loss: 0.1569 - acc: 0.2097 - val_loss: 0.1569 - val_acc: 0.1886\n",
      "\n",
      "Epoch 00037: val_loss improved from 0.15691 to 0.15691, saving model to ./H5files/ae_sigmoid_adam_mse_fullds20bal.h5\n",
      "Epoch 38/200\n",
      "1719168/1719168 [==============================] - 43s 25us/step - loss: 0.1569 - acc: 0.1843 - val_loss: 0.1569 - val_acc: 0.1817\n",
      "\n",
      "Epoch 00038: val_loss improved from 0.15691 to 0.15690, saving model to ./H5files/ae_sigmoid_adam_mse_fullds20bal.h5\n",
      "Epoch 39/200\n",
      "1719168/1719168 [==============================] - 43s 25us/step - loss: 0.1569 - acc: 0.2010 - val_loss: 0.1569 - val_acc: 0.2149\n",
      "\n",
      "Epoch 00039: val_loss improved from 0.15690 to 0.15690, saving model to ./H5files/ae_sigmoid_adam_mse_fullds20bal.h5\n",
      "Epoch 40/200\n",
      "1719168/1719168 [==============================] - 43s 25us/step - loss: 0.1569 - acc: 0.2017 - val_loss: 0.1569 - val_acc: 0.2005\n",
      "\n",
      "Epoch 00040: val_loss did not improve from 0.15690\n",
      "Epoch 41/200\n",
      "1719168/1719168 [==============================] - 43s 25us/step - loss: 0.1569 - acc: 0.2245 - val_loss: 0.1569 - val_acc: 0.2138\n",
      "\n",
      "Epoch 00041: val_loss did not improve from 0.15690\n",
      "Epoch 42/200\n",
      "1719168/1719168 [==============================] - 43s 25us/step - loss: 0.1569 - acc: 0.2096 - val_loss: 0.1569 - val_acc: 0.2082\n",
      "\n",
      "Epoch 00042: val_loss did not improve from 0.15690\n",
      "Epoch 43/200\n",
      "1719168/1719168 [==============================] - 43s 25us/step - loss: 0.1569 - acc: 0.2091 - val_loss: 0.1569 - val_acc: 0.2262\n",
      "\n",
      "Epoch 00043: val_loss did not improve from 0.15690\n",
      "Epoch 44/200\n",
      "1719168/1719168 [==============================] - 43s 25us/step - loss: 0.1569 - acc: 0.2098 - val_loss: 0.1569 - val_acc: 0.2034\n",
      "\n",
      "Epoch 00044: val_loss did not improve from 0.15690\n",
      "--- AE spent 1891.4217512607574 seconds ---\n"
     ]
    }
   ],
   "source": [
    "hist_ae_sigmoid_adam_mse = fit_ae(checkpoint_file = \"./H5files/ae_sigmoid_adam_mse_fullds\"+str(dsnum)+\"bal.h5\",\n",
    "                                  autoencoder = ae_sigmoid_adam_mse, \n",
    "                                  epochs = 200, \n",
    "                                  batch_size = batch_size,\n",
    "                                  shuffle = False)"
   ]
  },
  {
   "cell_type": "code",
   "execution_count": 32,
   "metadata": {},
   "outputs": [
    {
     "name": "stdout",
     "output_type": "stream",
     "text": [
      "Best loss value: 0.15686196325025326\n"
     ]
    },
    {
     "data": {
      "image/png": "[encoded data removed]",
      "text/plain": [
       "<Figure size 432x288 with 1 Axes>"
      ]
     },
     "metadata": {
      "needs_background": "light"
     },
     "output_type": "display_data"
    }
   ],
   "source": [
    "best_loss_value_ae_sigmoid_adam_mse  = plot_hist_auto(hist_ae_sigmoid_adam_mse, './Figures/hist_ae_sigmoid_adam_mse_fullds.png')"
   ]
  },
  {
   "cell_type": "markdown",
   "metadata": {},
   "source": [
    "### **---------- SPAE Dimensionality reduction ----------**"
   ]
  },
  {
   "cell_type": "code",
   "execution_count": 47,
   "metadata": {},
   "outputs": [
    {
     "name": "stdout",
     "output_type": "stream",
     "text": [
      "_________________________________________________________________\n",
      "Layer (type)                 Output Shape              Param #   \n",
      "=================================================================\n",
      "input_2 (InputLayer)         (None, 66)                0         \n",
      "_________________________________________________________________\n",
      "encoded_bottle_neck (Dense)  (None, 44)                2948      \n",
      "_________________________________________________________________\n",
      "dense_10 (Dense)             (None, 66)                2970      \n",
      "=================================================================\n",
      "Total params: 5,918\n",
      "Trainable params: 5,918\n",
      "Non-trainable params: 0\n",
      "_________________________________________________________________\n",
      "None\n"
     ]
    }
   ],
   "source": [
    "spae_sigmoid_adam_mse,enc_train_x_spsam,enc_test_x_spsam = spae(factor_enc_dim = 1.5,\n",
    "                                                          enc_activation = 'relu',\n",
    "                                                          dec_activation = 'sigmoid',\n",
    "                                                          optimizer='Adam',\n",
    "                                                          loss='mean_squared_error')"
   ]
  },
  {
   "cell_type": "code",
   "execution_count": 48,
   "metadata": {},
   "outputs": [],
   "source": [
    "#spae_sigmoid_adam_mse = load_model('spae_sigmoid_adam_mse_redds20bal.h5')"
   ]
  },
  {
   "cell_type": "code",
   "execution_count": 49,
   "metadata": {},
   "outputs": [
    {
     "name": "stdout",
     "output_type": "stream",
     "text": [
      "Sun Jun 23 19:01:30 2019\n",
      "Train on 1719168 samples, validate on 429793 samples\n",
      "Epoch 1/200\n",
      "1719168/1719168 [==============================] - 50s 29us/step - loss: 0.1954 - acc: 0.1502 - val_loss: 0.1778 - val_acc: 0.1242\n",
      "\n",
      "Epoch 00001: val_loss improved from inf to 0.17782, saving model to ./H5files/spae_sigmoid_adam_mse_fullds20bal.h5\n",
      "Epoch 2/200\n",
      "1719168/1719168 [==============================] - 49s 29us/step - loss: 0.1737 - acc: 0.1225 - val_loss: 0.1713 - val_acc: 0.1484\n",
      "\n",
      "Epoch 00002: val_loss improved from 0.17782 to 0.17128, saving model to ./H5files/spae_sigmoid_adam_mse_fullds20bal.h5\n",
      "Epoch 3/200\n",
      "1719168/1719168 [==============================] - 51s 30us/step - loss: 0.1700 - acc: 0.1863 - val_loss: 0.1690 - val_acc: 0.2191\n",
      "\n",
      "Epoch 00003: val_loss improved from 0.17128 to 0.16897, saving model to ./H5files/spae_sigmoid_adam_mse_fullds20bal.h5\n",
      "Epoch 4/200\n",
      "1719168/1719168 [==============================] - 49s 28us/step - loss: 0.1681 - acc: 0.2427 - val_loss: 0.1674 - val_acc: 0.2536\n",
      "\n",
      "Epoch 00004: val_loss improved from 0.16897 to 0.16735, saving model to ./H5files/spae_sigmoid_adam_mse_fullds20bal.h5\n",
      "Epoch 5/200\n",
      "1719168/1719168 [==============================] - 48s 28us/step - loss: 0.1669 - acc: 0.2617 - val_loss: 0.1665 - val_acc: 0.2631\n",
      "\n",
      "Epoch 00005: val_loss improved from 0.16735 to 0.16648, saving model to ./H5files/spae_sigmoid_adam_mse_fullds20bal.h5\n",
      "Epoch 6/200\n",
      "1719168/1719168 [==============================] - 48s 28us/step - loss: 0.1661 - acc: 0.2741 - val_loss: 0.1658 - val_acc: 0.2694\n",
      "\n",
      "Epoch 00006: val_loss improved from 0.16648 to 0.16575, saving model to ./H5files/spae_sigmoid_adam_mse_fullds20bal.h5\n",
      "Epoch 7/200\n",
      "1719168/1719168 [==============================] - 48s 28us/step - loss: 0.1656 - acc: 0.2708 - val_loss: 0.1654 - val_acc: 0.2649\n",
      "\n",
      "Epoch 00007: val_loss improved from 0.16575 to 0.16536, saving model to ./H5files/spae_sigmoid_adam_mse_fullds20bal.h5\n",
      "Epoch 8/200\n",
      "1719168/1719168 [==============================] - 47s 28us/step - loss: 0.1654 - acc: 0.2608 - val_loss: 0.1654 - val_acc: 0.2633\n",
      "\n",
      "Epoch 00008: val_loss did not improve from 0.16536\n",
      "Epoch 9/200\n",
      "1719168/1719168 [==============================] - 47s 27us/step - loss: 0.1650 - acc: 0.2598 - val_loss: 0.1650 - val_acc: 0.2627\n",
      "\n",
      "Epoch 00009: val_loss improved from 0.16536 to 0.16495, saving model to ./H5files/spae_sigmoid_adam_mse_fullds20bal.h5\n",
      "Epoch 10/200\n",
      "1719168/1719168 [==============================] - 46s 27us/step - loss: 0.1647 - acc: 0.2690 - val_loss: 0.1644 - val_acc: 0.2420\n",
      "\n",
      "Epoch 00010: val_loss improved from 0.16495 to 0.16440, saving model to ./H5files/spae_sigmoid_adam_mse_fullds20bal.h5\n",
      "Epoch 11/200\n",
      "1719168/1719168 [==============================] - 46s 27us/step - loss: 0.1643 - acc: 0.2705 - val_loss: 0.1643 - val_acc: 0.2677\n",
      "\n",
      "Epoch 00011: val_loss improved from 0.16440 to 0.16431, saving model to ./H5files/spae_sigmoid_adam_mse_fullds20bal.h5\n",
      "Epoch 12/200\n",
      "1719168/1719168 [==============================] - 46s 27us/step - loss: 0.1641 - acc: 0.2689 - val_loss: 0.1640 - val_acc: 0.2668\n",
      "\n",
      "Epoch 00012: val_loss improved from 0.16431 to 0.16395, saving model to ./H5files/spae_sigmoid_adam_mse_fullds20bal.h5\n",
      "Epoch 13/200\n",
      "1719168/1719168 [==============================] - 46s 27us/step - loss: 0.1638 - acc: 0.2647 - val_loss: 0.1637 - val_acc: 0.2426\n",
      "\n",
      "Epoch 00013: val_loss improved from 0.16395 to 0.16367, saving model to ./H5files/spae_sigmoid_adam_mse_fullds20bal.h5\n",
      "Epoch 14/200\n",
      "1719168/1719168 [==============================] - 46s 27us/step - loss: 0.1635 - acc: 0.2571 - val_loss: 0.1633 - val_acc: 0.2560\n",
      "\n",
      "Epoch 00014: val_loss improved from 0.16367 to 0.16332, saving model to ./H5files/spae_sigmoid_adam_mse_fullds20bal.h5\n",
      "Epoch 15/200\n",
      "1719168/1719168 [==============================] - 46s 27us/step - loss: 0.1633 - acc: 0.2563 - val_loss: 0.1633 - val_acc: 0.2572\n",
      "\n",
      "Epoch 00015: val_loss improved from 0.16332 to 0.16327, saving model to ./H5files/spae_sigmoid_adam_mse_fullds20bal.h5\n",
      "Epoch 16/200\n",
      "1719168/1719168 [==============================] - 46s 27us/step - loss: 0.1631 - acc: 0.2595 - val_loss: 0.1631 - val_acc: 0.2523\n",
      "\n",
      "Epoch 00016: val_loss improved from 0.16327 to 0.16310, saving model to ./H5files/spae_sigmoid_adam_mse_fullds20bal.h5\n",
      "Epoch 17/200\n",
      "1719168/1719168 [==============================] - 46s 27us/step - loss: 0.1629 - acc: 0.2622 - val_loss: 0.1631 - val_acc: 0.2398\n",
      "\n",
      "Epoch 00017: val_loss improved from 0.16310 to 0.16309, saving model to ./H5files/spae_sigmoid_adam_mse_fullds20bal.h5\n",
      "Epoch 18/200\n",
      "1719168/1719168 [==============================] - 45s 26us/step - loss: 0.1628 - acc: 0.2626 - val_loss: 0.1630 - val_acc: 0.2575\n",
      "\n",
      "Epoch 00018: val_loss improved from 0.16309 to 0.16300, saving model to ./H5files/spae_sigmoid_adam_mse_fullds20bal.h5\n",
      "Epoch 19/200\n",
      "1719168/1719168 [==============================] - 44s 26us/step - loss: 0.1627 - acc: 0.2672 - val_loss: 0.1625 - val_acc: 0.2700\n",
      "\n",
      "Epoch 00019: val_loss improved from 0.16300 to 0.16251, saving model to ./H5files/spae_sigmoid_adam_mse_fullds20bal.h5\n",
      "Epoch 20/200\n",
      "1719168/1719168 [==============================] - 44s 25us/step - loss: 0.1626 - acc: 0.2677 - val_loss: 0.1626 - val_acc: 0.2806\n",
      "\n",
      "Epoch 00020: val_loss did not improve from 0.16251\n",
      "Epoch 21/200\n",
      "1719168/1719168 [==============================] - 44s 26us/step - loss: 0.1625 - acc: 0.2785 - val_loss: 0.1625 - val_acc: 0.3439\n",
      "\n",
      "Epoch 00021: val_loss did not improve from 0.16251\n",
      "Epoch 22/200\n",
      "1719168/1719168 [==============================] - 45s 26us/step - loss: 0.1624 - acc: 0.2824 - val_loss: 0.1623 - val_acc: 0.3290\n",
      "\n",
      "Epoch 00022: val_loss improved from 0.16251 to 0.16233, saving model to ./H5files/spae_sigmoid_adam_mse_fullds20bal.h5\n",
      "Epoch 23/200\n",
      "1719168/1719168 [==============================] - 44s 25us/step - loss: 0.1622 - acc: 0.2777 - val_loss: 0.1622 - val_acc: 0.2707\n",
      "\n",
      "Epoch 00023: val_loss improved from 0.16233 to 0.16215, saving model to ./H5files/spae_sigmoid_adam_mse_fullds20bal.h5\n",
      "Epoch 24/200\n",
      "1719168/1719168 [==============================] - 43s 25us/step - loss: 0.1622 - acc: 0.2828 - val_loss: 0.1623 - val_acc: 0.1912\n",
      "\n",
      "Epoch 00024: val_loss did not improve from 0.16215\n",
      "Epoch 25/200\n",
      "1719168/1719168 [==============================] - 43s 25us/step - loss: 0.1622 - acc: 0.2822 - val_loss: 0.1622 - val_acc: 0.2864\n",
      "\n",
      "Epoch 00025: val_loss did not improve from 0.16215\n",
      "Epoch 26/200\n",
      "1719168/1719168 [==============================] - 43s 25us/step - loss: 0.1622 - acc: 0.2948 - val_loss: 0.1621 - val_acc: 0.3038\n",
      "\n",
      "Epoch 00026: val_loss improved from 0.16215 to 0.16211, saving model to ./H5files/spae_sigmoid_adam_mse_fullds20bal.h5\n",
      "Epoch 27/200\n",
      "1719168/1719168 [==============================] - 43s 25us/step - loss: 0.1622 - acc: 0.2975 - val_loss: 0.1623 - val_acc: 0.3466\n",
      "\n",
      "Epoch 00027: val_loss did not improve from 0.16211\n",
      "Epoch 28/200\n",
      "1719168/1719168 [==============================] - 43s 25us/step - loss: 0.1621 - acc: 0.3015 - val_loss: 0.1620 - val_acc: 0.3104\n",
      "\n",
      "Epoch 00028: val_loss improved from 0.16211 to 0.16196, saving model to ./H5files/spae_sigmoid_adam_mse_fullds20bal.h5\n",
      "Epoch 29/200\n",
      "1719168/1719168 [==============================] - 43s 25us/step - loss: 0.1624 - acc: 0.2905 - val_loss: 0.1622 - val_acc: 0.2601\n",
      "\n",
      "Epoch 00029: val_loss did not improve from 0.16196\n",
      "Epoch 30/200\n",
      "1719168/1719168 [==============================] - 43s 25us/step - loss: 0.1623 - acc: 0.2914 - val_loss: 0.1624 - val_acc: 0.3131\n",
      "\n",
      "Epoch 00030: val_loss did not improve from 0.16196\n",
      "Epoch 31/200\n",
      "1719168/1719168 [==============================] - 43s 25us/step - loss: 0.1623 - acc: 0.2941 - val_loss: 0.1622 - val_acc: 0.2918\n",
      "\n",
      "Epoch 00031: val_loss did not improve from 0.16196\n",
      "Epoch 32/200\n",
      "1719168/1719168 [==============================] - 44s 25us/step - loss: 0.1623 - acc: 0.3018 - val_loss: 0.1622 - val_acc: 0.3046\n",
      "\n",
      "Epoch 00032: val_loss did not improve from 0.16196\n",
      "Epoch 33/200\n",
      "1719168/1719168 [==============================] - 43s 25us/step - loss: 0.1622 - acc: 0.3052 - val_loss: 0.1632 - val_acc: 0.2083\n",
      "\n",
      "Epoch 00033: val_loss did not improve from 0.16196\n",
      "--- AE spent 1509.2374176979065 seconds ---\n"
     ]
    }
   ],
   "source": [
    "hist_spae_sigmoid_adam_mse = fit_ae(checkpoint_file = \"./H5files/spae_sigmoid_adam_mse_fullds\"+str(dsnum)+\"bal.h5\",\n",
    "                                  autoencoder = spae_sigmoid_adam_mse, \n",
    "                                  epochs = 200, \n",
    "                                  batch_size = batch_size,\n",
    "                                  shuffle = False)"
   ]
  },
  {
   "cell_type": "code",
   "execution_count": 50,
   "metadata": {},
   "outputs": [
    {
     "name": "stdout",
     "output_type": "stream",
     "text": [
      "Best loss value: 0.16223074628940626\n"
     ]
    },
    {
     "data": {
      "image/png": "[encoded data removed]",
      "text/plain": [
       "<Figure size 432x288 with 1 Axes>"
      ]
     },
     "metadata": {
      "needs_background": "light"
     },
     "output_type": "display_data"
    }
   ],
   "source": [
    "best_loss_value_spae_sigmoid_adam_mse  = plot_hist_auto(hist_spae_sigmoid_adam_mse, './Figures/hist_spae_sigmoid_adam_mse_fullds.png')"
   ]
  },
  {
   "cell_type": "code",
   "execution_count": null,
   "metadata": {},
   "outputs": [],
   "source": []
  },
  {
   "cell_type": "code",
   "execution_count": 51,
   "metadata": {},
   "outputs": [],
   "source": [
    "loss_valueDict = {\n",
    "    'loss_value_ae_sigmoid_adam_mse': best_loss_value_ae_sigmoid_adam_mse,\n",
    "    'loss_value_spae_sigmoid_adam_mse': best_loss_value_spae_sigmoid_adam_mse\n",
    "    }"
   ]
  },
  {
   "cell_type": "code",
   "execution_count": 52,
   "metadata": {},
   "outputs": [
    {
     "data": {
      "text/plain": [
       "{'loss_value_ae_sigmoid_adam_mse': 0.15686196325025326,\n",
       " 'loss_value_spae_sigmoid_adam_mse': 0.16223074628940626}"
      ]
     },
     "execution_count": 52,
     "metadata": {},
     "output_type": "execute_result"
    }
   ],
   "source": [
    "loss_valueDict"
   ]
  },
  {
   "cell_type": "code",
   "execution_count": 53,
   "metadata": {},
   "outputs": [
    {
     "name": "stdout",
     "output_type": "stream",
     "text": [
      "(1719168, 44)\n",
      "(537241, 44)\n",
      "(1719168, 44)\n",
      "(537241, 44)\n"
     ]
    }
   ],
   "source": [
    "print(enc_train_x_asam.shape)\n",
    "print(enc_test_x_asam.shape)\n",
    "\n",
    "print(enc_train_x_spsam.shape)\n",
    "print(enc_test_x_spsam.shape)"
   ]
  },
  {
   "cell_type": "markdown",
   "metadata": {},
   "source": [
    "### **---------- ANN with ae encoded DS ----------**"
   ]
  },
  {
   "cell_type": "code",
   "execution_count": 33,
   "metadata": {},
   "outputs": [
    {
     "name": "stdout",
     "output_type": "stream",
     "text": [
      "_________________________________________________________________\n",
      "Layer (type)                 Output Shape              Param #   \n",
      "=================================================================\n",
      "dense_2 (Dense)              (None, 66)                2970      \n",
      "_________________________________________________________________\n",
      "dense_3 (Dense)              (None, 50)                3350      \n",
      "_________________________________________________________________\n",
      "dense_4 (Dense)              (None, 33)                1683      \n",
      "_________________________________________________________________\n",
      "batch_normalization_1 (Batch (None, 33)                132       \n",
      "_________________________________________________________________\n",
      "dropout_1 (Dropout)          (None, 33)                0         \n",
      "_________________________________________________________________\n",
      "dense_5 (Dense)              (None, 1)                 34        \n",
      "=================================================================\n",
      "Total params: 8,169\n",
      "Trainable params: 8,103\n",
      "Non-trainable params: 66\n",
      "_________________________________________________________________\n",
      "None\n"
     ]
    }
   ],
   "source": [
    "ae_ann_2h_unisoftsigbinlosadam1 = ann_2h(neurons=neurons,\n",
    "                                      encoded_train_x=enc_train_x_asam,\n",
    "                                      init_mode='uniform',\n",
    "                                      activation_input='relu',\n",
    "                                      weight_constraint=5,\n",
    "                                      dropout_rate=0.0,\n",
    "                                      activation_output='sigmoid',\n",
    "                                      loss='binary_crossentropy',\n",
    "                                      optimizer='Adam')"
   ]
  },
  {
   "cell_type": "code",
   "execution_count": 34,
   "metadata": {},
   "outputs": [
    {
     "name": "stdout",
     "output_type": "stream",
     "text": [
      "Sun Jun 23 10:22:00 2019\n",
      "Train on 1375334 samples, validate on 343834 samples\n",
      "Epoch 1/200\n",
      "1375334/1375334 [==============================] - 78s 57us/step - loss: 0.4638 - acc: 0.7637 - val_loss: 0.3820 - val_acc: 0.8158\n",
      "\n",
      "Epoch 00001: val_loss improved from inf to 0.38197, saving model to ./H5files/ae_ann_2h_unisoftsigbinlosadam_fullds20bal.h5\n",
      "Epoch 2/200\n",
      "1375334/1375334 [==============================] - 75s 55us/step - loss: 0.3442 - acc: 0.8346 - val_loss: 0.3152 - val_acc: 0.8526\n",
      "\n",
      "Epoch 00002: val_loss improved from 0.38197 to 0.31516, saving model to ./H5files/ae_ann_2h_unisoftsigbinlosadam_fullds20bal.h5\n",
      "Epoch 3/200\n",
      "1375334/1375334 [==============================] - 77s 56us/step - loss: 0.3116 - acc: 0.8501 - val_loss: 0.2930 - val_acc: 0.8608\n",
      "\n",
      "Epoch 00003: val_loss improved from 0.31516 to 0.29301, saving model to ./H5files/ae_ann_2h_unisoftsigbinlosadam_fullds20bal.h5\n",
      "Epoch 4/200\n",
      "1375334/1375334 [==============================] - 76s 55us/step - loss: 0.2940 - acc: 0.8585 - val_loss: 0.2741 - val_acc: 0.8720\n",
      "\n",
      "Epoch 00004: val_loss improved from 0.29301 to 0.27411, saving model to ./H5files/ae_ann_2h_unisoftsigbinlosadam_fullds20bal.h5\n",
      "Epoch 5/200\n",
      "1375334/1375334 [==============================] - 75s 55us/step - loss: 0.2817 - acc: 0.8642 - val_loss: 0.2635 - val_acc: 0.8754\n",
      "\n",
      "Epoch 00005: val_loss improved from 0.27411 to 0.26348, saving model to ./H5files/ae_ann_2h_unisoftsigbinlosadam_fullds20bal.h5\n",
      "Epoch 6/200\n",
      "1375334/1375334 [==============================] - 74s 54us/step - loss: 0.2735 - acc: 0.8685 - val_loss: 0.2592 - val_acc: 0.8778\n",
      "\n",
      "Epoch 00006: val_loss improved from 0.26348 to 0.25916, saving model to ./H5files/ae_ann_2h_unisoftsigbinlosadam_fullds20bal.h5\n",
      "Epoch 7/200\n",
      "1375334/1375334 [==============================] - 75s 54us/step - loss: 0.2671 - acc: 0.8713 - val_loss: 0.2576 - val_acc: 0.8812\n",
      "\n",
      "Epoch 00007: val_loss improved from 0.25916 to 0.25759, saving model to ./H5files/ae_ann_2h_unisoftsigbinlosadam_fullds20bal.h5\n",
      "Epoch 8/200\n",
      "1375334/1375334 [==============================] - 74s 54us/step - loss: 0.2619 - acc: 0.8741 - val_loss: 0.2510 - val_acc: 0.8801\n",
      "\n",
      "Epoch 00008: val_loss improved from 0.25759 to 0.25098, saving model to ./H5files/ae_ann_2h_unisoftsigbinlosadam_fullds20bal.h5\n",
      "Epoch 9/200\n",
      "1375334/1375334 [==============================] - 75s 54us/step - loss: 0.2577 - acc: 0.8761 - val_loss: 0.2535 - val_acc: 0.8836\n",
      "\n",
      "Epoch 00009: val_loss did not improve from 0.25098\n",
      "Epoch 10/200\n",
      "1375334/1375334 [==============================] - 75s 55us/step - loss: 0.2548 - acc: 0.8774 - val_loss: 0.2471 - val_acc: 0.8851\n",
      "\n",
      "Epoch 00010: val_loss improved from 0.25098 to 0.24709, saving model to ./H5files/ae_ann_2h_unisoftsigbinlosadam_fullds20bal.h5\n",
      "Epoch 11/200\n",
      "1375334/1375334 [==============================] - 75s 55us/step - loss: 0.2512 - acc: 0.8789 - val_loss: 0.2441 - val_acc: 0.8846\n",
      "\n",
      "Epoch 00011: val_loss improved from 0.24709 to 0.24407, saving model to ./H5files/ae_ann_2h_unisoftsigbinlosadam_fullds20bal.h5\n",
      "Epoch 12/200\n",
      "1375334/1375334 [==============================] - 69s 51us/step - loss: 0.2490 - acc: 0.8801 - val_loss: 0.2407 - val_acc: 0.8898\n",
      "\n",
      "Epoch 00012: val_loss improved from 0.24407 to 0.24071, saving model to ./H5files/ae_ann_2h_unisoftsigbinlosadam_fullds20bal.h5\n",
      "Epoch 13/200\n",
      "1375334/1375334 [==============================] - 66s 48us/step - loss: 0.2468 - acc: 0.8811 - val_loss: 0.2375 - val_acc: 0.8880\n",
      "\n",
      "Epoch 00013: val_loss improved from 0.24071 to 0.23749, saving model to ./H5files/ae_ann_2h_unisoftsigbinlosadam_fullds20bal.h5\n",
      "Epoch 14/200\n",
      "1375334/1375334 [==============================] - 66s 48us/step - loss: 0.2448 - acc: 0.8821 - val_loss: 0.2453 - val_acc: 0.8858\n",
      "\n",
      "Epoch 00014: val_loss did not improve from 0.23749\n",
      "Epoch 15/200\n",
      "1375334/1375334 [==============================] - 64s 46us/step - loss: 0.2428 - acc: 0.8832 - val_loss: 0.2371 - val_acc: 0.8878\n",
      "\n",
      "Epoch 00015: val_loss improved from 0.23749 to 0.23709, saving model to ./H5files/ae_ann_2h_unisoftsigbinlosadam_fullds20bal.h5\n",
      "Epoch 16/200\n",
      "1375334/1375334 [==============================] - 61s 44us/step - loss: 0.2411 - acc: 0.8839 - val_loss: 0.2358 - val_acc: 0.8907\n",
      "\n",
      "Epoch 00016: val_loss improved from 0.23709 to 0.23582, saving model to ./H5files/ae_ann_2h_unisoftsigbinlosadam_fullds20bal.h5\n",
      "Epoch 17/200\n",
      "1375334/1375334 [==============================] - 60s 44us/step - loss: 0.2403 - acc: 0.8847 - val_loss: 0.2355 - val_acc: 0.8887\n",
      "\n",
      "Epoch 00017: val_loss improved from 0.23582 to 0.23550, saving model to ./H5files/ae_ann_2h_unisoftsigbinlosadam_fullds20bal.h5\n",
      "Epoch 18/200\n",
      "1375334/1375334 [==============================] - 60s 44us/step - loss: 0.2389 - acc: 0.8855 - val_loss: 0.2389 - val_acc: 0.8896\n",
      "\n",
      "Epoch 00018: val_loss did not improve from 0.23550\n",
      "Epoch 19/200\n",
      "1375334/1375334 [==============================] - 61s 44us/step - loss: 0.2380 - acc: 0.8860 - val_loss: 0.2356 - val_acc: 0.8917\n",
      "\n",
      "Epoch 00019: val_loss did not improve from 0.23550\n",
      "Epoch 20/200\n",
      "1375334/1375334 [==============================] - 61s 44us/step - loss: 0.2368 - acc: 0.8864 - val_loss: 0.2362 - val_acc: 0.8922\n",
      "\n",
      "Epoch 00020: val_loss did not improve from 0.23550\n",
      "Epoch 21/200\n",
      "1375334/1375334 [==============================] - 60s 44us/step - loss: 0.2354 - acc: 0.8873 - val_loss: 0.2365 - val_acc: 0.8916\n",
      "\n",
      "Epoch 00021: val_loss did not improve from 0.23550\n",
      "Epoch 22/200\n",
      "1375334/1375334 [==============================] - 61s 44us/step - loss: 0.2346 - acc: 0.8876 - val_loss: 0.2333 - val_acc: 0.8932\n",
      "\n",
      "Epoch 00022: val_loss improved from 0.23550 to 0.23331, saving model to ./H5files/ae_ann_2h_unisoftsigbinlosadam_fullds20bal.h5\n",
      "Epoch 23/200\n",
      "1375334/1375334 [==============================] - 61s 44us/step - loss: 0.2335 - acc: 0.8881 - val_loss: 0.2315 - val_acc: 0.8946\n",
      "\n",
      "Epoch 00023: val_loss improved from 0.23331 to 0.23151, saving model to ./H5files/ae_ann_2h_unisoftsigbinlosadam_fullds20bal.h5\n",
      "Epoch 24/200\n",
      "1375334/1375334 [==============================] - 60s 44us/step - loss: 0.2323 - acc: 0.8886 - val_loss: 0.2366 - val_acc: 0.8892\n",
      "\n",
      "Epoch 00024: val_loss did not improve from 0.23151\n",
      "Epoch 25/200\n",
      "1375334/1375334 [==============================] - 61s 44us/step - loss: 0.2319 - acc: 0.8892 - val_loss: 0.2338 - val_acc: 0.8959\n",
      "\n",
      "Epoch 00025: val_loss did not improve from 0.23151\n",
      "Epoch 26/200\n",
      "1375334/1375334 [==============================] - 61s 44us/step - loss: 0.2314 - acc: 0.8894 - val_loss: 0.2368 - val_acc: 0.8936\n",
      "\n",
      "Epoch 00026: val_loss did not improve from 0.23151\n",
      "Epoch 27/200\n",
      "1375334/1375334 [==============================] - 61s 44us/step - loss: 0.2308 - acc: 0.8899 - val_loss: 0.2289 - val_acc: 0.8940\n",
      "\n",
      "Epoch 00027: val_loss improved from 0.23151 to 0.22895, saving model to ./H5files/ae_ann_2h_unisoftsigbinlosadam_fullds20bal.h5\n",
      "Epoch 28/200\n",
      "1375334/1375334 [==============================] - 60s 44us/step - loss: 0.2307 - acc: 0.8901 - val_loss: 0.2232 - val_acc: 0.8971\n",
      "\n",
      "Epoch 00028: val_loss improved from 0.22895 to 0.22316, saving model to ./H5files/ae_ann_2h_unisoftsigbinlosadam_fullds20bal.h5\n",
      "Epoch 29/200\n",
      "1375334/1375334 [==============================] - 60s 44us/step - loss: 0.2305 - acc: 0.8900 - val_loss: 0.2262 - val_acc: 0.8958\n",
      "\n",
      "Epoch 00029: val_loss did not improve from 0.22316\n",
      "Epoch 30/200\n",
      "1375334/1375334 [==============================] - 60s 44us/step - loss: 0.2298 - acc: 0.8902 - val_loss: 0.2248 - val_acc: 0.8968\n",
      "\n",
      "Epoch 00030: val_loss did not improve from 0.22316\n",
      "Epoch 31/200\n",
      "1375334/1375334 [==============================] - 61s 44us/step - loss: 0.2297 - acc: 0.8905 - val_loss: 0.2345 - val_acc: 0.8928\n",
      "\n",
      "Epoch 00031: val_loss did not improve from 0.22316\n",
      "Epoch 32/200\n",
      "1375334/1375334 [==============================] - 60s 44us/step - loss: 0.2295 - acc: 0.8903 - val_loss: 0.2338 - val_acc: 0.8954\n",
      "\n",
      "Epoch 00032: val_loss did not improve from 0.22316\n",
      "Epoch 33/200\n",
      "1375334/1375334 [==============================] - 60s 44us/step - loss: 0.2285 - acc: 0.8909 - val_loss: 0.2325 - val_acc: 0.8937\n",
      "\n",
      "Epoch 00033: val_loss did not improve from 0.22316\n",
      "--- ANN spent 2184.476783514023 seconds ---\n"
     ]
    }
   ],
   "source": [
    "hist_ae_ann_2h_unisoftsigbinlosadam = ann_fit(checkpoint_file = \"./H5files/ae_ann_2h_unisoftsigbinlosadam_fullds\"+str(dsnum)+\"bal.h5\",\n",
    "                                        ann = ae_ann_2h_unisoftsigbinlosadam1,\n",
    "                                        enc_train_x = enc_train_x_asam,\n",
    "                                        train_y = train_y,\n",
    "                                        epochs = 200,\n",
    "                                        shuffle = True,\n",
    "                                        batch_size = batch_size)"
   ]
  },
  {
   "cell_type": "code",
   "execution_count": 35,
   "metadata": {},
   "outputs": [],
   "source": [
    "# hist_ae_ann_2h_unisoftsigbinlosadam.model.get_weights()"
   ]
  },
  {
   "cell_type": "code",
   "execution_count": 36,
   "metadata": {},
   "outputs": [
    {
     "name": "stdout",
     "output_type": "stream",
     "text": [
      "Best loss value: 0.22846439682668718\n"
     ]
    },
    {
     "data": {
      "image/png": "[encoded data removed]",
      "text/plain": [
       "<Figure size 432x288 with 1 Axes>"
      ]
     },
     "metadata": {
      "needs_background": "light"
     },
     "output_type": "display_data"
    }
   ],
   "source": [
    "best_loss_value_ae_ann_2h_unisoftsigbinlosadam = plot_hist_auto(hist_ae_ann_2h_unisoftsigbinlosadam, './Figures/ae_ann_2h_unisoftsigbinlosadam'+str(dsnum)+'.png')"
   ]
  },
  {
   "cell_type": "code",
   "execution_count": 38,
   "metadata": {},
   "outputs": [
    {
     "name": "stdout",
     "output_type": "stream",
     "text": [
      "Overall accuracy of Neural Network model: 0.8936008234665634\n",
      "              precision    recall  f1-score   support\n",
      "\n",
      "           0     0.8990    0.8865    0.8927    268256\n",
      "           1     0.8884    0.9007    0.8945    268985\n",
      "\n",
      "   micro avg     0.8936    0.8936    0.8936    537241\n",
      "   macro avg     0.8937    0.8936    0.8936    537241\n",
      "weighted avg     0.8937    0.8936    0.8936    537241\n",
      "\n"
     ]
    }
   ],
   "source": [
    "pred_ae_ann_2h_prob_unisoftsigbinlosadam, pred_ae_ann_2h_01_unisoftsigbinlosadam = ann_predict(ae_ann_2h_unisoftsigbinlosadam1,enc_test_x_asam)"
   ]
  },
  {
   "cell_type": "code",
   "execution_count": 39,
   "metadata": {},
   "outputs": [
    {
     "data": {
      "image/png": "[encoded data removed]",
      "text/plain": [
       "<Figure size 432x288 with 1 Axes>"
      ]
     },
     "metadata": {
      "needs_background": "light"
     },
     "output_type": "display_data"
    },
    {
     "data": {
      "image/png": "[encoded data removed]",
      "text/plain": [
       "<Figure size 576x432 with 2 Axes>"
      ]
     },
     "metadata": {
      "needs_background": "light"
     },
     "output_type": "display_data"
    }
   ],
   "source": [
    "plot_roc_cm(pred_ae_ann_2h_01_unisoftsigbinlosadam, pred_ae_ann_2h_01_unisoftsigbinlosadam, './Figures/ROC_ae_ann_2h_unisoftsigbinlosadam_redds'+str(dsnum)+'bal.png', './Figures/CM_ae_ann_2h_unisoftsigbinlosadam_redds'+str(dsnum)+'bal.png')"
   ]
  },
  {
   "cell_type": "code",
   "execution_count": null,
   "metadata": {},
   "outputs": [],
   "source": [
    "# enc_train_x=enc_train_x_asam\n",
    "# input_dim=enc_train_x.shape[1]\n",
    "# enc_test_x=enc_test_x_asam\n",
    "# test_y=test_y\n",
    "# train_y=train_y\n",
    "# init_mode='uniform'\n",
    "# activation_input='relu'\n",
    "# weight_constraint=5\n",
    "# dropout_rate=0.0\n",
    "# activation_output='sigmoid'\n",
    "# loss='binary_crossentropy'\n",
    "# optimizer='Adam'\n",
    "\n",
    "# epochs=100"
   ]
  },
  {
   "cell_type": "code",
   "execution_count": null,
   "metadata": {},
   "outputs": [],
   "source": [
    "# pred_ae_ann_2h_prob_unisoftsigbinlosadam,pred_ae_ann_2h_01_unisoftsigbinlosadam = ann_predict_()"
   ]
  },
  {
   "cell_type": "code",
   "execution_count": null,
   "metadata": {},
   "outputs": [],
   "source": [
    "# plot_roc_cm(pred_ae_ann_2h_01_unisoftsigbinlosadam, pred_ae_ann_2h_01_unisoftsigbinlosadam, './Figures/ROC_ae_ann_2h_unisoftsigbinlosadam_fullds'+str(dsnum)+'bal.png', './Figures/CM_ae_ann_2h_unisoftsigbinlosadam_fullds'+str(dsnum)+'bal.png')"
   ]
  },
  {
   "cell_type": "markdown",
   "metadata": {},
   "source": [
    "### **---------- ANN with spae encoded DS ----------**"
   ]
  },
  {
   "cell_type": "code",
   "execution_count": null,
   "metadata": {},
   "outputs": [],
   "source": [
    "sp_ann_2h_unisoftsigbinlosadam1 = ann_2h(neurons=neurons,\n",
    "                                      encoded_train_x=enc_train_x_spsam,\n",
    "                                      init_mode='uniform',\n",
    "                                      activation_input='relu',\n",
    "                                      weight_constraint=5,\n",
    "                                      dropout_rate=0.0,\n",
    "                                      activation_output='sigmoid',\n",
    "                                      loss='binary_crossentropy',\n",
    "                                      optimizer='Adam')"
   ]
  },
  {
   "cell_type": "code",
   "execution_count": null,
   "metadata": {},
   "outputs": [],
   "source": [
    "hist_sp_ann_2h_unisoftsigbinlosadam = ann_fit(checkpoint_file = \"./H5files/ann_2h_unisoftsigbinlosadam_fullds\"+str(dsnum)+\"bal.h5\",\n",
    "                                        ann = sp_ann_2h_unisoftsigbinlosadam1,\n",
    "                                        enc_train_x = enc_train_x_spsam,\n",
    "                                        train_y = train_y,\n",
    "                                        epochs = 200,\n",
    "                                        shuffle = True,\n",
    "                                        batch_size = batch_size)"
   ]
  },
  {
   "cell_type": "code",
   "execution_count": null,
   "metadata": {},
   "outputs": [],
   "source": [
    "# hist_sp_ann_2h_unisoftsigbinlosadam.model.get_weights()"
   ]
  },
  {
   "cell_type": "code",
   "execution_count": null,
   "metadata": {},
   "outputs": [],
   "source": [
    "# best_loss_value_sp_ann_2h_unisoftsigbinlosadam = plot_hist_auto(hist_sp_ann_2h_unisoftsigbinlosadam, './Figures/sp_ann_2h_unisoftsigbinlosadam'+str(dsnum)+'.png')"
   ]
  },
  {
   "cell_type": "code",
   "execution_count": null,
   "metadata": {},
   "outputs": [],
   "source": [
    "# pred_sp_ann_2h_prob_unisoftsigbinlosadam, pred_sp_ann_2h_01_unisoftsigbinlosadam = ann_predict(sp_ann_2h_unisoftsigbinlosadam,enc_test_x_spsam)"
   ]
  },
  {
   "cell_type": "code",
   "execution_count": null,
   "metadata": {},
   "outputs": [],
   "source": [
    "# plot_roc_cm(pred_sp_ann_2h_prob_unisoftsigbinlosadam, pred_sp_ann_2h_01_unisoftsigbinlosadam, './Figures/ROC_sp_ann_2h_unisoftsigbinlosadam_redds'+str(dsnum)+'bal.png', './Figures/CM_sp_ann_2h_unisoftsigbinlosadam_redds'+str(dsnum)+'bal.png')"
   ]
  },
  {
   "cell_type": "code",
   "execution_count": null,
   "metadata": {},
   "outputs": [],
   "source": [
    "enc_train_x=enc_train_x_asam\n",
    "input_dim=enc_train_x.shape[1]\n",
    "enc_test_x=enc_test_x_spsam\n",
    "test_y=test_y\n",
    "train_y=train_y\n",
    "init_mode='uniform'\n",
    "activation_input='relu'\n",
    "weight_constraint=5\n",
    "dropout_rate=0.0\n",
    "activation_output='sigmoid'\n",
    "loss='binary_crossentropy'\n",
    "optimizer='Adam'\n",
    "\n",
    "epochs=100"
   ]
  },
  {
   "cell_type": "code",
   "execution_count": null,
   "metadata": {},
   "outputs": [],
   "source": [
    "pred_sp_ann_2h_prob_unisoftsigbinlosadam,pred_sp_ann_2h_01_unisoftsigbinlosadam = ann_predict_()"
   ]
  },
  {
   "cell_type": "code",
   "execution_count": null,
   "metadata": {},
   "outputs": [],
   "source": [
    "plot_roc_cm(pred_sp_ann_2h_prob_unisoftsigbinlosadam, pred_sp_ann_2h_01_unisoftsigbinlosadam, './Figures/ROC_sp_ann_2h_unisoftsigbinlosadam_fullds'+str(dsnum)+'bal.png', './Figures/CM_sp_ann_2h_unisoftsigbinlosadam_fullds'+str(dsnum)+'bal.png')"
   ]
  },
  {
   "cell_type": "code",
   "execution_count": null,
   "metadata": {},
   "outputs": [],
   "source": []
  },
  {
   "cell_type": "markdown",
   "metadata": {},
   "source": [
    "### **---------- ANN with no encoded DS ----------**"
   ]
  },
  {
   "cell_type": "code",
   "execution_count": 40,
   "metadata": {},
   "outputs": [
    {
     "name": "stdout",
     "output_type": "stream",
     "text": [
      "_________________________________________________________________\n",
      "Layer (type)                 Output Shape              Param #   \n",
      "=================================================================\n",
      "dense_6 (Dense)              (None, 66)                4422      \n",
      "_________________________________________________________________\n",
      "dense_7 (Dense)              (None, 50)                3350      \n",
      "_________________________________________________________________\n",
      "dense_8 (Dense)              (None, 33)                1683      \n",
      "_________________________________________________________________\n",
      "batch_normalization_2 (Batch (None, 33)                132       \n",
      "_________________________________________________________________\n",
      "dropout_2 (Dropout)          (None, 33)                0         \n",
      "_________________________________________________________________\n",
      "dense_9 (Dense)              (None, 1)                 34        \n",
      "=================================================================\n",
      "Total params: 9,621\n",
      "Trainable params: 9,555\n",
      "Non-trainable params: 66\n",
      "_________________________________________________________________\n",
      "None\n"
     ]
    }
   ],
   "source": [
    "nodr_ann_2h_unisoftsigbinlosadam1 = ann_2h(neurons=neurons,\n",
    "                                      encoded_train_x=train_x,\n",
    "                                      init_mode='uniform',\n",
    "                                      activation_input='relu',\n",
    "                                      weight_constraint=5,\n",
    "                                      dropout_rate=0.0,\n",
    "                                      activation_output='sigmoid',\n",
    "                                      loss='binary_crossentropy',\n",
    "                                      optimizer='Adam')"
   ]
  },
  {
   "cell_type": "code",
   "execution_count": 41,
   "metadata": {},
   "outputs": [
    {
     "name": "stdout",
     "output_type": "stream",
     "text": [
      "Sun Jun 23 11:41:31 2019\n",
      "Train on 1375334 samples, validate on 343834 samples\n",
      "Epoch 1/200\n",
      "1375334/1375334 [==============================] - 80s 58us/step - loss: 0.3403 - acc: 0.8309 - val_loss: 0.2359 - val_acc: 0.8894\n",
      "\n",
      "Epoch 00001: val_loss improved from inf to 0.23586, saving model to ./H5files/ann_2h_unisoftsigbinlosadam_fullds20bal.h5\n",
      "Epoch 2/200\n",
      "1375334/1375334 [==============================] - 76s 55us/step - loss: 0.2301 - acc: 0.8904 - val_loss: 0.2051 - val_acc: 0.9054\n",
      "\n",
      "Epoch 00002: val_loss improved from 0.23586 to 0.20509, saving model to ./H5files/ann_2h_unisoftsigbinlosadam_fullds20bal.h5\n",
      "Epoch 3/200\n",
      "1375334/1375334 [==============================] - 75s 55us/step - loss: 0.2016 - acc: 0.9045 - val_loss: 0.1860 - val_acc: 0.9132\n",
      "\n",
      "Epoch 00003: val_loss improved from 0.20509 to 0.18596, saving model to ./H5files/ann_2h_unisoftsigbinlosadam_fullds20bal.h5\n",
      "Epoch 4/200\n",
      "1375334/1375334 [==============================] - 74s 54us/step - loss: 0.1849 - acc: 0.9130 - val_loss: 0.1711 - val_acc: 0.9205\n",
      "\n",
      "Epoch 00004: val_loss improved from 0.18596 to 0.17112, saving model to ./H5files/ann_2h_unisoftsigbinlosadam_fullds20bal.h5\n",
      "Epoch 5/200\n",
      "1375334/1375334 [==============================] - 73s 53us/step - loss: 0.1732 - acc: 0.9187 - val_loss: 0.1574 - val_acc: 0.9264\n",
      "\n",
      "Epoch 00005: val_loss improved from 0.17112 to 0.15737, saving model to ./H5files/ann_2h_unisoftsigbinlosadam_fullds20bal.h5\n",
      "Epoch 6/200\n",
      "1375334/1375334 [==============================] - 71s 52us/step - loss: 0.1642 - acc: 0.9235 - val_loss: 0.1447 - val_acc: 0.9340\n",
      "\n",
      "Epoch 00006: val_loss improved from 0.15737 to 0.14473, saving model to ./H5files/ann_2h_unisoftsigbinlosadam_fullds20bal.h5\n",
      "Epoch 7/200\n",
      "1375334/1375334 [==============================] - 70s 51us/step - loss: 0.1567 - acc: 0.9270 - val_loss: 0.1472 - val_acc: 0.9322\n",
      "\n",
      "Epoch 00007: val_loss did not improve from 0.14473\n",
      "Epoch 8/200\n",
      "1375334/1375334 [==============================] - 70s 51us/step - loss: 0.1516 - acc: 0.9295 - val_loss: 0.1403 - val_acc: 0.9353\n",
      "\n",
      "Epoch 00008: val_loss improved from 0.14473 to 0.14028, saving model to ./H5files/ann_2h_unisoftsigbinlosadam_fullds20bal.h5\n",
      "Epoch 9/200\n",
      "1375334/1375334 [==============================] - 70s 51us/step - loss: 0.1479 - acc: 0.9314 - val_loss: 0.1380 - val_acc: 0.9362\n",
      "\n",
      "Epoch 00009: val_loss improved from 0.14028 to 0.13802, saving model to ./H5files/ann_2h_unisoftsigbinlosadam_fullds20bal.h5\n",
      "Epoch 10/200\n",
      "1375334/1375334 [==============================] - 70s 51us/step - loss: 0.1452 - acc: 0.9330 - val_loss: 0.1337 - val_acc: 0.9379\n",
      "\n",
      "Epoch 00010: val_loss improved from 0.13802 to 0.13374, saving model to ./H5files/ann_2h_unisoftsigbinlosadam_fullds20bal.h5\n",
      "Epoch 11/200\n",
      "1375334/1375334 [==============================] - 70s 51us/step - loss: 0.1433 - acc: 0.9337 - val_loss: 0.1327 - val_acc: 0.9403\n",
      "\n",
      "Epoch 00011: val_loss improved from 0.13374 to 0.13272, saving model to ./H5files/ann_2h_unisoftsigbinlosadam_fullds20bal.h5\n",
      "Epoch 12/200\n",
      "1375334/1375334 [==============================] - 69s 50us/step - loss: 0.1416 - acc: 0.9348 - val_loss: 0.1336 - val_acc: 0.9407\n",
      "\n",
      "Epoch 00012: val_loss did not improve from 0.13272\n",
      "Epoch 13/200\n",
      "1375334/1375334 [==============================] - 68s 49us/step - loss: 0.1398 - acc: 0.9357 - val_loss: 0.1376 - val_acc: 0.9385\n",
      "\n",
      "Epoch 00013: val_loss did not improve from 0.13272\n",
      "Epoch 14/200\n",
      "1375334/1375334 [==============================] - 67s 49us/step - loss: 0.1383 - acc: 0.9361 - val_loss: 0.1264 - val_acc: 0.9426\n",
      "\n",
      "Epoch 00014: val_loss improved from 0.13272 to 0.12638, saving model to ./H5files/ann_2h_unisoftsigbinlosadam_fullds20bal.h5\n",
      "Epoch 15/200\n",
      "1375334/1375334 [==============================] - 66s 48us/step - loss: 0.1374 - acc: 0.9365 - val_loss: 0.1262 - val_acc: 0.9434\n",
      "\n",
      "Epoch 00015: val_loss improved from 0.12638 to 0.12617, saving model to ./H5files/ann_2h_unisoftsigbinlosadam_fullds20bal.h5\n",
      "Epoch 16/200\n",
      "1375334/1375334 [==============================] - 66s 48us/step - loss: 0.1363 - acc: 0.9371 - val_loss: 0.1269 - val_acc: 0.9409\n",
      "\n",
      "Epoch 00016: val_loss did not improve from 0.12617\n",
      "Epoch 17/200\n",
      "1375334/1375334 [==============================] - 66s 48us/step - loss: 0.1358 - acc: 0.9373 - val_loss: 0.1233 - val_acc: 0.9436\n",
      "\n",
      "Epoch 00017: val_loss improved from 0.12617 to 0.12335, saving model to ./H5files/ann_2h_unisoftsigbinlosadam_fullds20bal.h5\n",
      "Epoch 18/200\n",
      "1375334/1375334 [==============================] - 66s 48us/step - loss: 0.1345 - acc: 0.9379 - val_loss: 0.1280 - val_acc: 0.9419\n",
      "\n",
      "Epoch 00018: val_loss did not improve from 0.12335\n",
      "Epoch 19/200\n",
      "1375334/1375334 [==============================] - 66s 48us/step - loss: 0.1341 - acc: 0.9381 - val_loss: 0.1243 - val_acc: 0.9433\n",
      "\n",
      "Epoch 00019: val_loss did not improve from 0.12335\n",
      "Epoch 20/200\n",
      "1375334/1375334 [==============================] - 66s 48us/step - loss: 0.1333 - acc: 0.9386 - val_loss: 0.1267 - val_acc: 0.9419\n",
      "\n",
      "Epoch 00020: val_loss did not improve from 0.12335\n",
      "Epoch 21/200\n",
      "1375334/1375334 [==============================] - 66s 48us/step - loss: 0.1325 - acc: 0.9389 - val_loss: 0.1191 - val_acc: 0.9464\n",
      "\n",
      "Epoch 00021: val_loss improved from 0.12335 to 0.11909, saving model to ./H5files/ann_2h_unisoftsigbinlosadam_fullds20bal.h5\n",
      "Epoch 22/200\n",
      "1375334/1375334 [==============================] - 66s 48us/step - loss: 0.1319 - acc: 0.9392 - val_loss: 0.1236 - val_acc: 0.9435\n",
      "\n",
      "Epoch 00022: val_loss did not improve from 0.11909\n",
      "Epoch 23/200\n",
      "1375334/1375334 [==============================] - 66s 48us/step - loss: 0.1315 - acc: 0.9394 - val_loss: 0.1237 - val_acc: 0.9445\n",
      "\n",
      "Epoch 00023: val_loss did not improve from 0.11909\n",
      "Epoch 24/200\n",
      "1375334/1375334 [==============================] - 66s 48us/step - loss: 0.1309 - acc: 0.9397 - val_loss: 0.1194 - val_acc: 0.9462\n",
      "\n",
      "Epoch 00024: val_loss did not improve from 0.11909\n",
      "Epoch 25/200\n",
      "1375334/1375334 [==============================] - 66s 48us/step - loss: 0.1307 - acc: 0.9399 - val_loss: 0.1145 - val_acc: 0.9479\n",
      "\n",
      "Epoch 00025: val_loss improved from 0.11909 to 0.11453, saving model to ./H5files/ann_2h_unisoftsigbinlosadam_fullds20bal.h5\n",
      "Epoch 26/200\n",
      "1375334/1375334 [==============================] - 66s 48us/step - loss: 0.1303 - acc: 0.9400 - val_loss: 0.1158 - val_acc: 0.9476\n",
      "\n",
      "Epoch 00026: val_loss did not improve from 0.11453\n",
      "Epoch 27/200\n",
      "1375334/1375334 [==============================] - 66s 48us/step - loss: 0.1299 - acc: 0.9403 - val_loss: 0.1191 - val_acc: 0.9467\n",
      "\n",
      "Epoch 00027: val_loss did not improve from 0.11453\n",
      "Epoch 28/200\n",
      "1375334/1375334 [==============================] - 66s 48us/step - loss: 0.1299 - acc: 0.9403 - val_loss: 0.1208 - val_acc: 0.9446\n",
      "\n",
      "Epoch 00028: val_loss did not improve from 0.11453\n",
      "Epoch 29/200\n",
      "1375334/1375334 [==============================] - 66s 48us/step - loss: 0.1292 - acc: 0.9404 - val_loss: 0.1238 - val_acc: 0.9448\n",
      "\n",
      "Epoch 00029: val_loss did not improve from 0.11453\n",
      "Epoch 30/200\n",
      "1375334/1375334 [==============================] - 66s 48us/step - loss: 0.1294 - acc: 0.9405 - val_loss: 0.1184 - val_acc: 0.9457\n",
      "\n",
      "Epoch 00030: val_loss did not improve from 0.11453\n",
      "--- ANN spent 2060.981840610504 seconds ---\n"
     ]
    }
   ],
   "source": [
    "hist_nodr_ann_2h_unisoftsigbinlosadam = ann_fit(checkpoint_file = \"./H5files/ann_2h_unisoftsigbinlosadam_fullds\"+str(dsnum)+\"bal.h5\",\n",
    "                                        ann = nodr_ann_2h_unisoftsigbinlosadam1,\n",
    "                                        enc_train_x = train_x,\n",
    "                                        train_y = train_y,\n",
    "                                        epochs = 200,\n",
    "                                        shuffle = True,\n",
    "                                        batch_size = batch_size)"
   ]
  },
  {
   "cell_type": "code",
   "execution_count": 42,
   "metadata": {},
   "outputs": [],
   "source": [
    "# hist_nodr_ann_2h_unisoftsigbinlosadam.model.get_weights()"
   ]
  },
  {
   "cell_type": "code",
   "execution_count": 43,
   "metadata": {},
   "outputs": [
    {
     "name": "stdout",
     "output_type": "stream",
     "text": [
      "Best loss value: 0.1293866893265838\n"
     ]
    },
    {
     "data": {
      "image/png": "[encoded data removed]",
      "text/plain": [
       "<Figure size 432x288 with 1 Axes>"
      ]
     },
     "metadata": {
      "needs_background": "light"
     },
     "output_type": "display_data"
    }
   ],
   "source": [
    "best_loss_value_nodr_ann_2h_unisoftsigbinlosadam = plot_hist_auto(hist_nodr_ann_2h_unisoftsigbinlosadam, './Figures/nodr_ann_2h_unisoftsigbinlosadam'+str(dsnum)+'.png')"
   ]
  },
  {
   "cell_type": "code",
   "execution_count": 45,
   "metadata": {},
   "outputs": [
    {
     "name": "stdout",
     "output_type": "stream",
     "text": [
      "Overall accuracy of Neural Network model: 0.9449446337863268\n",
      "              precision    recall  f1-score   support\n",
      "\n",
      "           0     0.9465    0.9430    0.9448    268256\n",
      "           1     0.9434    0.9469    0.9451    268985\n",
      "\n",
      "   micro avg     0.9449    0.9449    0.9449    537241\n",
      "   macro avg     0.9450    0.9449    0.9449    537241\n",
      "weighted avg     0.9450    0.9449    0.9449    537241\n",
      "\n"
     ]
    }
   ],
   "source": [
    "pred_nodr_ann_2h_prob_unisoftsigbinlosadam, pred_nodr_ann_2h_01_unisoftsigbinlosadam = ann_predict(nodr_ann_2h_unisoftsigbinlosadam1,test_x)"
   ]
  },
  {
   "cell_type": "code",
   "execution_count": 46,
   "metadata": {},
   "outputs": [
    {
     "data": {
      "image/png": "[encoded data removed]",
      "text/plain": [
       "<Figure size 432x288 with 1 Axes>"
      ]
     },
     "metadata": {
      "needs_background": "light"
     },
     "output_type": "display_data"
    },
    {
     "data": {
      "image/png": "[encoded data removed]",
      "text/plain": [
       "<Figure size 576x432 with 2 Axes>"
      ]
     },
     "metadata": {
      "needs_background": "light"
     },
     "output_type": "display_data"
    }
   ],
   "source": [
    "plot_roc_cm(pred_nodr_ann_2h_01_unisoftsigbinlosadam, pred_nodr_ann_2h_01_unisoftsigbinlosadam, './Figures/ROC_nodr_ann_2h_unisoftsigbinlosadam_redds'+str(dsnum)+'bal.png', './Figures/CM_nodr_ann_2h_unisoftsigbinlosadam_redds'+str(dsnum)+'bal.png')"
   ]
  },
  {
   "cell_type": "code",
   "execution_count": null,
   "metadata": {},
   "outputs": [],
   "source": []
  },
  {
   "cell_type": "code",
   "execution_count": null,
   "metadata": {},
   "outputs": [],
   "source": [
    "# enc_train_x=train_x\n",
    "# input_dim=enc_train_x.shape[1]\n",
    "# enc_test_x=test_x\n",
    "# test_y=test_y\n",
    "# train_y=train_y\n",
    "# init_mode='uniform'\n",
    "# activation_input='relu'\n",
    "# weight_constraint=5\n",
    "# dropout_rate=0.0\n",
    "# activation_output='sigmoid'\n",
    "# loss='binary_crossentropy'\n",
    "# optimizer='Adam'\n",
    "\n",
    "# epochs=100"
   ]
  },
  {
   "cell_type": "code",
   "execution_count": null,
   "metadata": {},
   "outputs": [],
   "source": [
    "# pred_nodr_ann_2h_prob_unisoftsigbinlosadam, pred_nodr_ann_2h_01_unisoftsigbinlosadam = ann_predict_()"
   ]
  },
  {
   "cell_type": "code",
   "execution_count": null,
   "metadata": {},
   "outputs": [],
   "source": [
    "# plot_roc_cm(pred_nodr_ann_2h_01_unisoftsigbinlosadam, pred_nodr_ann_2h_01_unisoftsigbinlosadam, './Figures/ROC_nodr_ann_2h_unisoftsigbinlosadam_fullds'+str(dsnum)+'bal.png', './Figures/CM_nodr_ann_2h_unisoftsigbinlosadam_fullds'+str(dsnum)+'bal.png')"
   ]
  },
  {
   "cell_type": "markdown",
   "metadata": {},
   "source": [
    "### **---------- RF with ae encoded DS ----------**"
   ]
  },
  {
   "cell_type": "code",
   "execution_count": null,
   "metadata": {},
   "outputs": [],
   "source": [
    "from sklearn.ensemble import RandomForestClassifier"
   ]
  },
  {
   "cell_type": "code",
   "execution_count": null,
   "metadata": {},
   "outputs": [],
   "source": [
    "clf = RandomForestClassifier(n_estimators=300, \n",
    "                             criterion='gini', \n",
    "                             max_depth=16, \n",
    "#                              min_samples_split=2, \n",
    "                             #min_samples_leaf=1, \n",
    "                             max_features=0.3, \n",
    "                             #bootstrap=True,\n",
    "                             oob_score=True,\n",
    "                             random_state=23)  "
   ]
  },
  {
   "cell_type": "code",
   "execution_count": null,
   "metadata": {},
   "outputs": [],
   "source": [
    "start_time = time.time()\n",
    "print(time.ctime(start_time))\n",
    "\n",
    "clf.fit(enc_train_x_asam, train_y)\n",
    "\n",
    "pred_y_ae_RF = cross_val_predict(estimator=clf,\n",
    "                              X=np.array(enc_test_x_asam),\n",
    "                              y=test_y,\n",
    "                              cv=KFold(n_splits=5, random_state=23),\n",
    "                              n_jobs=2)\n",
    "\n",
    "elapsed_time = (time.time() - start_time)\n",
    "print(\"--- %s seconds ---\" %elapsed_time)\n",
    "\n",
    "print(sm.classification_report(test_y, pred_y_ae_RF,digits=4))"
   ]
  },
  {
   "cell_type": "code",
   "execution_count": null,
   "metadata": {},
   "outputs": [],
   "source": [
    "plot_roc_cm(pred_y_ae_RF, pred_y_ae_RF, './Figures/ROC_ae_rf_E100MaxfautoMaxdnoneBootT_fullds'+str(dsnum)+'bal.png', './Figures/CM_ae_rf_E100MaxfautoMaxdnoneBootT_fullds'+str(dsnum)+'bal.png')"
   ]
  },
  {
   "cell_type": "markdown",
   "metadata": {},
   "source": [
    "### **---------- RF with spae encoded DS ----------**"
   ]
  },
  {
   "cell_type": "code",
   "execution_count": null,
   "metadata": {},
   "outputs": [],
   "source": [
    "start_time = time.time()\n",
    "print(time.ctime(start_time))\n",
    "\n",
    "clf.fit(enc_train_x_spsam, train_y)\n",
    "\n",
    "pred_y_spae_RF = cross_val_predict(estimator=clf,\n",
    "                              X=np.array(enc_test_x_spsam),\n",
    "                              y=test_y,\n",
    "                              cv=KFold(n_splits=5, random_state=23),\n",
    "                              n_jobs=2)\n",
    "\n",
    "elapsed_time = (time.time() - start_time)\n",
    "print(\"--- %s seconds ---\" %elapsed_time)\n",
    "\n",
    "print(sm.classification_report(test_y, pred_y_spae_RF,digits=4))"
   ]
  },
  {
   "cell_type": "code",
   "execution_count": null,
   "metadata": {},
   "outputs": [],
   "source": [
    "plot_roc_cm(pred_y_spae_RF, pred_y_spae_RF, './Figures/ROC_spae_rf_E100MaxfautoMaxdnoneBootT_fullds'+str(dsnum)+'bal.png', './Figures/CM_spae_rf_E100MaxfautoMaxdnoneBootT_fullds'+str(dsnum)+'bal.png')"
   ]
  },
  {
   "cell_type": "markdown",
   "metadata": {},
   "source": [
    "### **---------- RF with pca DS ----------**"
   ]
  },
  {
   "cell_type": "code",
   "execution_count": null,
   "metadata": {},
   "outputs": [],
   "source": [
    "start_time = time.time()\n",
    "print(time.ctime(start_time))\n",
    "\n",
    "clf.fit(train_x_pca, train_y)\n",
    "\n",
    "pred_y_pca_RF = cross_val_predict(estimator=clf,\n",
    "                              X=np.array(test_x_pca),\n",
    "                              y=test_y,\n",
    "                              cv=KFold(n_splits=5, random_state=23),\n",
    "                              n_jobs=2)\n",
    "\n",
    "elapsed_time = (time.time() - start_time)\n",
    "print(\"--- %s seconds ---\" %elapsed_time)\n",
    "\n",
    "print(sm.classification_report(test_y, pred_y_pca_RF,digits=4))"
   ]
  },
  {
   "cell_type": "code",
   "execution_count": null,
   "metadata": {},
   "outputs": [],
   "source": [
    "plot_roc_cm(pred_y_pca_RF, pred_y_pca_RF, './Figures/ROC_pca_rf_E100MaxfautoMaxdnoneBootT_fullds'+str(dsnum)+'bal.png', './Figures/CM_pca_rf_E100MaxfautoMaxdnoneBootT_fullds'+str(dsnum)+'bal.png')"
   ]
  },
  {
   "cell_type": "code",
   "execution_count": null,
   "metadata": {},
   "outputs": [],
   "source": []
  }
 ],
 "metadata": {
  "kernelspec": {
   "display_name": "Python 3",
   "language": "python",
   "name": "python3"
  },
  "language_info": {
   "codemirror_mode": {
    "name": "ipython",
    "version": 3
   },
   "file_extension": ".py",
   "mimetype": "text/x-python",
   "name": "python",
   "nbconvert_exporter": "python",
   "pygments_lexer": "ipython3",
   "version": "3.6.8"
  }
 },
 "nbformat": 4,
 "nbformat_minor": 2
}
