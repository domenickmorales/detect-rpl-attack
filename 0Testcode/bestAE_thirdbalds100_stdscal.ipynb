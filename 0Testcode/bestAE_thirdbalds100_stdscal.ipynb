{
 "cells": [
  {
   "cell_type": "code",
   "execution_count": 1,
   "metadata": {},
   "outputs": [],
   "source": [
    "import os\n",
    "os.environ[\"CUDA_DEVICE_ORDER\"]=\"PCI_BUS_ID\"\n",
    "os.environ[\"CUDA_VISIBLE_DEVICES\"]=\"0\""
   ]
  },
  {
   "cell_type": "code",
   "execution_count": 2,
   "metadata": {},
   "outputs": [
    {
     "name": "stderr",
     "output_type": "stream",
     "text": [
      "Using TensorFlow backend.\n"
     ]
    }
   ],
   "source": [
    "###################################\n",
    "# TensorFlow wizardry\n",
    "import tensorflow as tf\n",
    "config = tf.ConfigProto()\n",
    " \n",
    "# Don’t pre-allocate memory; allocate as-needed\n",
    "config.gpu_options.allow_growth = True\n",
    " \n",
    "# Only allow a total of half the GPU memory to be allocated\n",
    "config.gpu_options.per_process_gpu_memory_fraction = 0.05\n",
    "#gpu_options = tf.GPUOptions(per_process_gpu_memory_fraction=0.333)\n",
    " \n",
    "# Create a session with the above options specified.\n",
    "from keras import optimizers, regularizers\n",
    "from keras.layers.normalization import BatchNormalization\n",
    "from keras.utils import to_categorical\n",
    "from keras.wrappers.scikit_learn import KerasClassifier\n",
    "from keras import optimizers\n",
    "from keras.constraints import maxnorm\n",
    "from keras.callbacks import ModelCheckpoint, TensorBoard, EarlyStopping\n",
    "\n",
    "from keras.models import Sequential, Model, load_model\n",
    "from keras.layers import Activation, Dense, Dropout, Input\n",
    "from keras import backend as k\n",
    "\n",
    "k.tensorflow_backend.set_session(tf.Session(config=config))\n",
    "#k.tensorflow_backend.set_session(tf.Session(config=tf.ConfigProto(gpu_options=gpu_options))\n",
    "###################################"
   ]
  },
  {
   "cell_type": "code",
   "execution_count": 3,
   "metadata": {},
   "outputs": [],
   "source": [
    "#----------------------------------Import modules------------------------------\n",
    "import numpy as np\n",
    "import pandas as pd\n",
    "import matplotlib.pyplot as plt\n",
    "import seaborn as sns\n",
    "from sklearn.model_selection import train_test_split\n",
    "from sklearn.metrics import confusion_matrix,accuracy_score, roc_curve, auc\n",
    "from sklearn import preprocessing\n",
    "sns.set_style(\"whitegrid\")\n",
    "np.random.seed(23)\n",
    "import time\n",
    "from sklearn.model_selection import GridSearchCV\n",
    "import sklearn.metrics as sm\n",
    "from sklearn.model_selection import KFold\n",
    "from sklearn.model_selection import cross_val_predict\n"
   ]
  },
  {
   "cell_type": "code",
   "execution_count": 4,
   "metadata": {},
   "outputs": [
    {
     "name": "stdout",
     "output_type": "stream",
     "text": [
      "Default GPU Device: /device:GPU:0\n"
     ]
    }
   ],
   "source": [
    "if tf.test.gpu_device_name():\n",
    "    print('Default GPU Device: {}'.format(tf.test.gpu_device_name()))\n",
    "else:\n",
    "    print(\"Please install GPU version of TF\")"
   ]
  },
  {
   "cell_type": "code",
   "execution_count": 5,
   "metadata": {},
   "outputs": [],
   "source": [
    "pathds = '/home/user/01Code/00Datasets_final/'"
   ]
  },
  {
   "cell_type": "code",
   "execution_count": 6,
   "metadata": {},
   "outputs": [],
   "source": [
    "#df_chunk = pd.read_csv(pathds+'SubsetAllSamples/ThirdCloneID10bal_minmax.csv', chunksize=1000)\n",
    "#df = df_chunk.get_chunk(300000)\n",
    "df = pd.read_csv(pathds+'SubsetAllSamples/ThirdCloneID100bal_stdscal.csv')"
   ]
  },
  {
   "cell_type": "code",
   "execution_count": 7,
   "metadata": {},
   "outputs": [
    {
     "data": {
      "text/plain": [
       "(547846, 198)"
      ]
     },
     "execution_count": 7,
     "metadata": {},
     "output_type": "execute_result"
    }
   ],
   "source": [
    "df.shape"
   ]
  },
  {
   "cell_type": "markdown",
   "metadata": {},
   "source": [
    "#### 4.2 Explaining the data"
   ]
  },
  {
   "cell_type": "code",
   "execution_count": 8,
   "metadata": {},
   "outputs": [
    {
     "name": "stdout",
     "output_type": "stream",
     "text": [
      "Class 0: 273923\n",
      "Class 1: 273923\n",
      "Proportion: 1.0 : 1\n"
     ]
    }
   ],
   "source": [
    "#if you don't have an intuitive sense of how imbalanced these two classes are, let's go visual\n",
    "count_classes = pd.value_counts(df['class'], sort = True)\n",
    "print('Class 0:', count_classes[0])\n",
    "print('Class 1:', count_classes[1])\n",
    "print('Proportion:', round(count_classes[0] / count_classes[1], 3), ': 1')"
   ]
  },
  {
   "cell_type": "code",
   "execution_count": 9,
   "metadata": {},
   "outputs": [
    {
     "data": {
      "image/png": "[encoded data removed]",
      "text/plain": [
       "<Figure size 432x288 with 1 Axes>"
      ]
     },
     "metadata": {
      "needs_background": "light"
     },
     "output_type": "display_data"
    }
   ],
   "source": [
    "count_classes.plot(kind = 'bar', rot=0)\n",
    "plt.xticks(range(2), ['Normal [0]','Malicious [1]'])\n",
    "plt.title(\"Frequency by observation number\")\n",
    "plt.xlabel(\"Class\")\n",
    "plt.ylabel(\"Number of Observations\");"
   ]
  },
  {
   "cell_type": "code",
   "execution_count": 10,
   "metadata": {},
   "outputs": [],
   "source": [
    "#set random seed and percentage of test data\n",
    "RANDOM_SEED = 23 #used to help randomly select the data points\n",
    "TEST_PCT = 0.20 # 20% of the data"
   ]
  },
  {
   "cell_type": "code",
   "execution_count": 11,
   "metadata": {},
   "outputs": [],
   "source": [
    "train, test_df = train_test_split(df, test_size=TEST_PCT, random_state=RANDOM_SEED)"
   ]
  },
  {
   "cell_type": "markdown",
   "metadata": {},
   "source": [
    "+ df -> original dataset \n",
    "+ train -> subset of 80% from original dataset \n",
    "+ test_df -> subset of 20% from original dataset "
   ]
  },
  {
   "cell_type": "code",
   "execution_count": 12,
   "metadata": {},
   "outputs": [],
   "source": [
    "train_df, dev_df = train_test_split(train, test_size=TEST_PCT, random_state=RANDOM_SEED)"
   ]
  },
  {
   "cell_type": "markdown",
   "metadata": {},
   "source": [
    "+ train -> subset of 80% from original dataset \n",
    "+ train_df -> subset of 80% from train\n",
    "+ dev_df -> subset of 20% from train"
   ]
  },
  {
   "cell_type": "code",
   "execution_count": 13,
   "metadata": {},
   "outputs": [
    {
     "name": "stdout",
     "output_type": "stream",
     "text": [
      "0.4996463407677828\n",
      "0.500867025645706\n",
      "0.5004380761157251\n"
     ]
    }
   ],
   "source": [
    "# Check distribution of mal samples in train and test set\n",
    "print(train_df.iloc[:, 197].sum()/train_df.shape[0]) \n",
    "print(dev_df.iloc[:, 197].sum()/dev_df.shape[0]) \n",
    "print(test_df.iloc[:, 197].sum()/test_df.shape[0])"
   ]
  },
  {
   "cell_type": "code",
   "execution_count": 14,
   "metadata": {},
   "outputs": [],
   "source": [
    "train_x = train_df.iloc[:, :197] \n",
    "dev_x = dev_df.iloc[:, :197] \n",
    "test_x = test_df.iloc[:, :197] "
   ]
  },
  {
   "cell_type": "markdown",
   "metadata": {},
   "source": [
    "+ train_x -> features of train_df **Training subset for AE**\n",
    "+ dev_x -> features of dev_df **Validation subset for AE**\n",
    "+ test_x -> features of test_df **Testing subset for ANN**"
   ]
  },
  {
   "cell_type": "code",
   "execution_count": 15,
   "metadata": {},
   "outputs": [],
   "source": [
    "# Define the final train and test sets\n",
    "train_y = train_df.iloc[:, 197]\n",
    "dev_y = dev_df.iloc[:, 197]\n",
    "test_y = test_df.iloc[:, 197]"
   ]
  },
  {
   "cell_type": "markdown",
   "metadata": {},
   "source": [
    "+ train_y -> **Labels for supervised training of ANN**\n",
    "+ dev_y -> labels of dev_df  *not used for AE neither ANN*\n",
    "+ test_y -> labels of test_df  **Ground Truth for predictions of supervised ANN**"
   ]
  },
  {
   "cell_type": "code",
   "execution_count": 16,
   "metadata": {},
   "outputs": [
    {
     "name": "stdout",
     "output_type": "stream",
     "text": [
      "197\n"
     ]
    }
   ],
   "source": [
    "train_x =np.array(train_x)\n",
    "dev_x =np.array(dev_x)\n",
    "test_x = np.array(test_x)\n",
    "\n",
    "train_y = np.array(train_y)\n",
    "dev_y = np.array(dev_y)\n",
    "test_y = np.array(test_y)\n",
    "\n",
    "print(train_x.shape[1])"
   ]
  },
  {
   "cell_type": "markdown",
   "metadata": {},
   "source": [
    "### Autoencoder Function"
   ]
  },
  {
   "cell_type": "markdown",
   "metadata": {},
   "source": [
    "encoding_dim - 2\n",
    "\n",
    "Epoch 94/300 78596/78596 [==============================] - 10s 125us/step \n",
    "- loss: 3.8990e-05 - acc: 0.0237 - \n",
    "        val_loss: 3.9704e-05 - val_acc: 0.0236"
   ]
  },
  {
   "cell_type": "code",
   "execution_count": 17,
   "metadata": {},
   "outputs": [],
   "source": [
    "def ae(factor_enc_dim, enc_activation, dec_activation, \n",
    "                optimizer, loss):\n",
    "\n",
    "    encoding_dim = int(int(train_x.shape[1])/factor_enc_dim)\n",
    "    ### Define input layer\n",
    "    input_data = Input(shape=(train_x.shape[1],))\n",
    "    ### Define encoding layer #RELU\n",
    "    encoded = Dense(encoding_dim, activation=enc_activation, name='encoded_bottle_neck')(input_data)\n",
    "    ### Define decoding layer #SIMOID\n",
    "    decoded = Dense(train_x.shape[1], activation=dec_activation)(encoded)\n",
    "    ### Create the autoencoder model\n",
    "    autoencoder = Model(input_data, decoded)\n",
    "    autoencoder.compile(optimizer=optimizer,\n",
    "                        loss=loss,\n",
    "                        metrics=['accuracy'])\n",
    "    \n",
    "    print(autoencoder.summary())\n",
    "    \n",
    "    encoder = Model(input_data, encoded)\n",
    "    encoded_train_x = encoder.predict(train_x)\n",
    "    encoded_test_x = encoder.predict(test_x)\n",
    "    \n",
    "    return autoencoder,encoded_train_x,encoded_test_x"
   ]
  },
  {
   "cell_type": "code",
   "execution_count": 18,
   "metadata": {},
   "outputs": [],
   "source": [
    "def sae(factor_enc_dim, output_activation,\n",
    "        optimizer, loss):\n",
    "\n",
    "    encoding_dim = int(int(train_x.shape[1])/factor_enc_dim)\n",
    "    ### Define input layer\n",
    "    input_data = Input(shape=(train_x.shape[1],))\n",
    "    ### Define encoding layer\n",
    "    encoded = Dense(encoding_dim, activation='relu', name='input_layer')(input_data)\n",
    "    encoded = Dense(int(encoding_dim/2), activation='relu')(encoded) ##Stacked AE\n",
    "    encoded_bottle_neck = Dense(int(encoding_dim/4), activation='relu', name='enc_bottle_neck')(encoded) ##Stacked AE\n",
    "    \n",
    "    ### Define decoding layer\n",
    "    decoded = Dense(int(encoding_dim/2), activation='relu')(encoded_bottle_neck) ##Stacked AE\n",
    "    decoded = Dense(encoding_dim, activation='relu')(decoded) ##Stacked AE\n",
    "    decoded = Dense(train_x.shape[1], activation=output_activation)(decoded)\n",
    "    \n",
    "    ### Create the autoencoder model\n",
    "    sae = Model(input_data, decoded)\n",
    "    sae.compile(optimizer=optimizer,\n",
    "                loss=loss,\n",
    "                metrics=['accuracy'])\n",
    "    \n",
    "    print(sae.summary())\n",
    "\n",
    "    encoder = Model(input_data, encoded_bottle_neck)\n",
    "    encoded_train_x = encoder.predict(train_x)\n",
    "    encoded_test_x = encoder.predict(test_x)\n",
    "    \n",
    "    return sae,encoded_train_x,encoded_test_x"
   ]
  },
  {
   "cell_type": "code",
   "execution_count": 19,
   "metadata": {},
   "outputs": [],
   "source": [
    "def spae(factor_enc_dim, output_activation, \n",
    "                optimizer, loss):\n",
    "\n",
    "    encoding_dim = int(int(train_x.shape[1])/factor_enc_dim)\n",
    "    ### Define input layer\n",
    "    input_data = Input(shape=(train_x.shape[1],))\n",
    "    ### Define encoding layer\n",
    "    encoded = Dense(encoding_dim, activity_regularizer=regularizers.l1(1e-4), activation='relu', name='encoded_bottle_neck')(input_data)\n",
    "    ### Define decoding layer\n",
    "    decoded = Dense(train_x.shape[1], activation=output_activation)(encoded)\n",
    "    ### Create the autoencoder model\n",
    "    autoencoder = Model(input_data, decoded)\n",
    "    autoencoder.compile(optimizer=optimizer,\n",
    "                        loss=loss,\n",
    "                        metrics=['accuracy'])\n",
    "    \n",
    "    print(autoencoder.summary())\n",
    "    \n",
    "    encoder = Model(input_data, encoded)\n",
    "    encoded_train_x = encoder.predict(train_x)\n",
    "    encoded_test_x = encoder.predict(test_x)\n",
    "    \n",
    "    return autoencoder,encoded_train_x,encoded_test_x"
   ]
  },
  {
   "cell_type": "code",
   "execution_count": null,
   "metadata": {},
   "outputs": [],
   "source": []
  },
  {
   "cell_type": "code",
   "execution_count": 20,
   "metadata": {},
   "outputs": [],
   "source": [
    "def fit_ae(checkpoint_file, autoencoder,\n",
    "           epochs, batch_size, shuffle):\n",
    "    \n",
    "    early_stopping = EarlyStopping(monitor='val_loss', patience=5)\n",
    "\n",
    "    cp = ModelCheckpoint(filepath=checkpoint_file,\n",
    "                                   save_best_only=True,\n",
    "                                   verbose=0)\n",
    "\n",
    "    tb = TensorBoard(log_dir='./logs',\n",
    "                    histogram_freq=0,\n",
    "                    write_graph=True,\n",
    "                    write_images=True)\n",
    "\n",
    "    start_time = time.time()\n",
    "    print(time.ctime(start_time))\n",
    "\n",
    "    hist_auto = autoencoder.fit(train_x, train_x,\n",
    "                    epochs=epochs,\n",
    "                    batch_size=batch_size,\n",
    "                    shuffle=shuffle,\n",
    "                    verbose=1,\n",
    "                    callbacks=[early_stopping, cp, tb],\n",
    "                    validation_data=(dev_x, dev_x))\n",
    "\n",
    "    elapsed_time = (time.time() - start_time)\n",
    "    print(\"--- AE spent %s seconds ---\" % elapsed_time)\n",
    "    \n",
    "    return hist_auto"
   ]
  },
  {
   "cell_type": "code",
   "execution_count": 21,
   "metadata": {},
   "outputs": [],
   "source": [
    "def plot_hist_auto(hist_auto, fig_file):\n",
    "    best_loss_value = hist_auto.history['loss'][-1]\n",
    "    print('Best loss value:', best_loss_value)\n",
    "\n",
    "    # Summarize history for loss\n",
    "    plt.figure()\n",
    "    plt.plot(hist_auto.history['loss'])\n",
    "    plt.plot(hist_auto.history['val_loss'])\n",
    "    plt.title('Autoencoder model loss')\n",
    "    plt.ylabel('loss')\n",
    "    plt.xlabel('epoch')\n",
    "    plt.legend(['train', 'test'], loc='upper right')\n",
    "    plt.savefig(fig_file)\n",
    "    plt.show()\n",
    "    \n",
    "    return best_loss_value"
   ]
  },
  {
   "cell_type": "code",
   "execution_count": 22,
   "metadata": {},
   "outputs": [],
   "source": [
    "def ann_2h(neurons,encoded_train_x,init_mode,activation_input,\n",
    "               weight_constraint,dropout_rate,activation_output,\n",
    "               loss,optimizer):\n",
    "\n",
    "    # create model 197\n",
    "    model = Sequential()\n",
    "\n",
    "    model.add(Dense(neurons, input_dim=encoded_train_x.shape[1],\n",
    "                    kernel_initializer=init_mode,\n",
    "                    #kernel_regularizer=regularizers.l2(0.02), #from example\n",
    "                    activation=activation_input,\n",
    "                    kernel_constraint=maxnorm(weight_constraint)\n",
    "                    )\n",
    "              )\n",
    "\n",
    "#     #Hidden Layer\n",
    "    model.add(Dense(145, activation=\"relu\", kernel_initializer=init_mode)) #rezvy\n",
    "\n",
    "    model.add(Dense(95, activation=\"relu\", kernel_initializer=init_mode)) #rezvy\n",
    "    model.add(BatchNormalization()) #commented for ex\n",
    "    model.add(Dropout(dropout_rate))\n",
    "    \n",
    "    model.add(Dense(1, activation=activation_output)) #example\n",
    "    \n",
    "    # Compile model\n",
    "    model.compile(loss=loss, \n",
    "                  optimizer=optimizer, \n",
    "                  metrics=['accuracy'])\n",
    "    \n",
    "    print(model.summary())\n",
    "    \n",
    "    return model"
   ]
  },
  {
   "cell_type": "code",
   "execution_count": 23,
   "metadata": {},
   "outputs": [],
   "source": [
    "def ann_2h_(neurons,encoded_train_x,init_mode,activation_input,\n",
    "               dropout_rate,activation_output,\n",
    "               loss,lr):\n",
    "\n",
    "    # create model\n",
    "    model = Sequential()\n",
    "\n",
    "    model.add(Dense(neurons, input_dim=encoded_train_x.shape[1],\n",
    "                    kernel_initializer=init_mode,\n",
    "                    #kernel_regularizer=regularizers.l2(0.02), #from example\n",
    "                    activation=activation_input,\n",
    "#                     kernel_constraint=maxnorm(weight_constraint)\n",
    "#                     kernel_constraint=maxnorm(weight_constraint)\n",
    "                    )\n",
    "              )\n",
    "\n",
    "#     #Hidden Layer\n",
    "    model.add(Dense(145, activation=\"relu\")) #rezvy\n",
    "\n",
    "    model.add(Dense(95, activation=\"relu\")) #rezvy\n",
    "    model.add(BatchNormalization()) #commented for ex\n",
    "    model.add(Dropout(dropout_rate))\n",
    "    \n",
    "    model.add(Dense(1, activation=activation_output)) #example\n",
    "\n",
    "    optimizer = optimizers.Adam(lr=lr)\n",
    "    \n",
    "    # Compile model\n",
    "    model.compile(loss=loss, \n",
    "                  optimizer=optimizer, \n",
    "                  metrics=['accuracy'])\n",
    "    \n",
    "    print(model.summary())\n",
    "    \n",
    "    return model"
   ]
  },
  {
   "cell_type": "code",
   "execution_count": 24,
   "metadata": {},
   "outputs": [],
   "source": [
    "def ann_2h__(neurons,encoded_train_x,activation_input,\n",
    "             activation_output,loss,optimizer):\n",
    "\n",
    "    # create model\n",
    "    model = Sequential()\n",
    "\n",
    "    model.add(Dense(neurons, input_dim=encoded_train_x.shape[1],\n",
    "#                     kernel_initializer=init_mode,\n",
    "                    #kernel_regularizer=regularizers.l2(0.02), #from example\n",
    "                    activation=activation_input,\n",
    "#                     kernel_constraint=maxnorm(weight_constraint)\n",
    "#                     kernel_constraint=maxnorm(weight_constraint)\n",
    "                    )\n",
    "              )\n",
    "\n",
    "#     #Hidden Layer\n",
    "    model.add(Dense(145, activation=\"relu\")) #rezvy\n",
    "\n",
    "    model.add(Dense(95, activation=\"relu\")) #rezvy\n",
    "#     model.add(BatchNormalization()) #commented for ex\n",
    "#     model.add(Dropout(dropout_rate))\n",
    "    \n",
    "    model.add(Dense(1, activation=activation_output)) #example\n",
    "\n",
    "#     optimizer = optimizers.Adam(lr=lr)\n",
    "    \n",
    "    # Compile model\n",
    "    model.compile(loss=loss, \n",
    "                  optimizer=optimizer, \n",
    "                  metrics=['accuracy'])\n",
    "    \n",
    "    print(model.summary())\n",
    "    \n",
    "    return model"
   ]
  },
  {
   "cell_type": "code",
   "execution_count": 25,
   "metadata": {},
   "outputs": [],
   "source": [
    "def ann_1h_36n(neurons,encoded_train_x,init_mode,activation_input,\n",
    "               weight_constraint,dropout_rate,activation_output,\n",
    "               loss,optimizer):\n",
    "\n",
    "    # create model\n",
    "    model = Sequential()\n",
    "\n",
    "    model.add(Dense(neurons, input_dim=encoded_train_x.shape[1],\n",
    "                    kernel_initializer=init_mode,\n",
    "                    #kernel_regularizer=regularizers.l2(0.02), #from example\n",
    "                    activation=activation_input,\n",
    "                    kernel_constraint=maxnorm(weight_constraint)\n",
    "                    )\n",
    "              )\n",
    "\n",
    "#     #Hidden Layer\n",
    "    model.add(Dense(145, activation=\"relu\", kernel_initializer=init_mode)) #rezvy\n",
    "    model.add(BatchNormalization()) #commented for ex\n",
    "    model.add(Dropout(dropout_rate))\n",
    "    \n",
    "    model.add(Dense(1, activation=activation_output)) #example\n",
    "    \n",
    "    # Compile model\n",
    "    model.compile(loss=loss, \n",
    "                  optimizer=optimizer, \n",
    "                  metrics=['accuracy'])\n",
    "    \n",
    "    print(model.summary())\n",
    "    \n",
    "    return model"
   ]
  },
  {
   "cell_type": "code",
   "execution_count": 26,
   "metadata": {},
   "outputs": [],
   "source": [
    "def ann_1h_24n(neurons,encoded_train_x,init_mode,activation_input,\n",
    "               weight_constraint,dropout_rate,activation_output,\n",
    "               loss,optimizer):\n",
    "\n",
    "    # create model\n",
    "    model = Sequential()\n",
    "\n",
    "    model.add(Dense(neurons, input_dim=encoded_train_x.shape[1],\n",
    "                    kernel_initializer=init_mode,\n",
    "                    #kernel_regularizer=regularizers.l2(0.02), #from example\n",
    "                    activation=activation_input,\n",
    "                    kernel_constraint=maxnorm(weight_constraint)\n",
    "                    )\n",
    "              )\n",
    "\n",
    "#     #Hidden Layer\n",
    "    model.add(Dense(95, activation=\"relu\", kernel_initializer=init_mode)) #rezvy\n",
    "    model.add(BatchNormalization()) #commented for ex\n",
    "    model.add(Dropout(dropout_rate))\n",
    "    \n",
    "    model.add(Dense(1, activation=activation_output)) #example\n",
    "    \n",
    "    # Compile model\n",
    "    model.compile(loss=loss, \n",
    "                  optimizer=optimizer, \n",
    "                  metrics=['accuracy'])\n",
    "    \n",
    "    print(model.summary())\n",
    "    \n",
    "    return model"
   ]
  },
  {
   "cell_type": "code",
   "execution_count": 27,
   "metadata": {},
   "outputs": [],
   "source": [
    "def ann_1h_24n_(neurons,encoded_train_x,activation_input,\n",
    "               activation_output,loss,optimizer):\n",
    "\n",
    "    # create model\n",
    "    model = Sequential()\n",
    "\n",
    "    model.add(Dense(neurons, input_dim=encoded_train_x.shape[1],\n",
    "#                     kernel_initializer=init_mode,\n",
    "                    #kernel_regularizer=regularizers.l2(0.02), #from example\n",
    "                    activation=activation_input,\n",
    "#                     kernel_constraint=maxnorm(weight_constraint)\n",
    "                    )\n",
    "              )\n",
    "\n",
    "#     #Hidden Layer\n",
    "    model.add(Dense(95, activation=\"relu\")) #rezvy\n",
    "    \n",
    "#     model.add(BatchNormalization()) #commented for ex\n",
    "#     model.add(Dropout(dropout_rate))\n",
    "    \n",
    "    model.add(Dense(1, activation=activation_output)) #example\n",
    "    \n",
    "    # Compile model\n",
    "    model.compile(loss=loss, \n",
    "                  optimizer=optimizer, \n",
    "                  metrics=['accuracy'])\n",
    "    \n",
    "    print(model.summary())\n",
    "    \n",
    "    return model"
   ]
  },
  {
   "cell_type": "code",
   "execution_count": 28,
   "metadata": {},
   "outputs": [],
   "source": [
    "def ann_fit(checkpoint_file,ann,enc_train_x,train_y,epochs,shuffle,batch_size):\n",
    "    early_stopping = EarlyStopping(monitor='val_loss', patience=5)\n",
    "\n",
    "    cp = ModelCheckpoint(filepath=checkpoint_file,\n",
    "                                   save_best_only=True,\n",
    "                                   verbose=0)\n",
    "\n",
    "    tb = TensorBoard(log_dir='./logs',\n",
    "                    histogram_freq=0,\n",
    "                    write_graph=True,\n",
    "                    write_images=True)\n",
    "\n",
    "    start_time = time.time()\n",
    "    print(time.ctime(start_time))\n",
    "\n",
    "    history = ann.fit(enc_train_x,\n",
    "                      train_y,\n",
    "                      validation_split=0.2,\n",
    "                      callbacks=[early_stopping],\n",
    "                      epochs=epochs,\n",
    "                      shuffle=shuffle,\n",
    "                      batch_size=batch_size,\n",
    "                      verbose=1)\n",
    "\n",
    "    elapsed_time = (time.time() - start_time)\n",
    "    print(\"--- ANN spent %s seconds ---\" % elapsed_time)\n",
    "\n",
    "    return history"
   ]
  },
  {
   "cell_type": "code",
   "execution_count": 29,
   "metadata": {},
   "outputs": [],
   "source": [
    "def ann_predict(ann,enc_test_x):\n",
    "    pred_ann_prob = ann.predict(enc_test_x)\n",
    "    pred_ann_prob.shape\n",
    "    pred_ann_prob = pred_ann_prob[:,0]\n",
    "    pred_ann_01 = np.where(pred_ann_prob > 0.5, 1, 0)\n",
    "    \n",
    "    #Print accuracy\n",
    "    acc_ann = accuracy_score(test_y, pred_ann_01)\n",
    "    print('Overall accuracy of Neural Network model:', acc_ann)\n",
    "\n",
    "    classiBM = \"NN\"\n",
    "    preBM = (sm.precision_score(test_y, pred_ann_01)*100) \n",
    "    recallBM = (sm.recall_score(test_y, pred_ann_01)*100) \n",
    "    f1scoreBM = (sm.f1_score(test_y, pred_ann_01)*100)\n",
    "    print(sm.classification_report(test_y, pred_ann_01,digits=4))\n",
    "    \n",
    "    return pred_ann_prob, pred_ann_01"
   ]
  },
  {
   "cell_type": "code",
   "execution_count": 30,
   "metadata": {},
   "outputs": [],
   "source": [
    "def plot_roc_cm(pred_ann_prob, pred_ann_01, roc_file, cm_file):\n",
    "    false_positive_rate, recall, thresholds = roc_curve(test_y, pred_ann_prob)\n",
    "    roc_auc = auc(false_positive_rate, recall)\n",
    "    plt.figure()\n",
    "    plt.title('Receiver Operating Characteristic (ROC)')\n",
    "    plt.plot(false_positive_rate, recall, 'b', label = 'AUC = %0.3f' %roc_auc)\n",
    "    plt.legend(loc='lower right')\n",
    "    plt.plot([0,1], [0,1], 'r--')\n",
    "    plt.xlim([0.0,1.0])\n",
    "    plt.ylim([0.0,1.0])\n",
    "    plt.ylabel('Recall')\n",
    "    plt.xlabel('Fall-out (1-Specificity)')\n",
    "    plt.savefig(roc_file)\n",
    "    plt.show()\n",
    "    \n",
    "    cm = confusion_matrix(test_y, pred_ann_01)\n",
    "    labels = ['Normal', 'Malicious']\n",
    "    plt.figure(figsize=(8,6))\n",
    "    sns.heatmap(cm,xticklabels=labels, yticklabels=labels, annot=True, fmt='d', cmap=\"RdYlGn\", vmin = 0.2);\n",
    "    plt.title('Confusion Matrix')\n",
    "    plt.ylabel('True Class')\n",
    "    plt.xlabel('Predicted Class')\n",
    "    plt.savefig(cm_file)\n",
    "    plt.show()\n",
    "    "
   ]
  },
  {
   "cell_type": "markdown",
   "metadata": {},
   "source": [
    "loss: 2.7516e-05 - acc: 0.0407 \n",
    "\n",
    "val_loss: 2.7072e-05 - val_acc: 0.0399"
   ]
  },
  {
   "cell_type": "code",
   "execution_count": 31,
   "metadata": {},
   "outputs": [
    {
     "name": "stdout",
     "output_type": "stream",
     "text": [
      "WARNING:tensorflow:From /home/user/anaconda3/envs/deepl/lib/python3.6/site-packages/tensorflow/python/framework/op_def_library.py:263: colocate_with (from tensorflow.python.framework.ops) is deprecated and will be removed in a future version.\n",
      "Instructions for updating:\n",
      "Colocations handled automatically by placer.\n",
      "_________________________________________________________________\n",
      "Layer (type)                 Output Shape              Param #   \n",
      "=================================================================\n",
      "input_1 (InputLayer)         (None, 197)               0         \n",
      "_________________________________________________________________\n",
      "encoded_bottle_neck (Dense)  (None, 131)               25938     \n",
      "_________________________________________________________________\n",
      "dense_1 (Dense)              (None, 197)               26004     \n",
      "=================================================================\n",
      "Total params: 51,942\n",
      "Trainable params: 51,942\n",
      "Non-trainable params: 0\n",
      "_________________________________________________________________\n",
      "None\n"
     ]
    }
   ],
   "source": [
    "ae_sigmoid_adam_logcosh,enc_train_x_asal,enc_test_x_asal = ae(factor_enc_dim = 1.5,\n",
    "                                                              enc_activation = 'relu',\n",
    "                                                              dec_activation = 'sigmoid',\n",
    "                                                              optimizer='Adam',\n",
    "                                                              loss='logcosh')"
   ]
  },
  {
   "cell_type": "code",
   "execution_count": 32,
   "metadata": {},
   "outputs": [],
   "source": [
    "#ae_sigmoid_adam_logcosh = load_model('ae_sigmoid_adam_logcosh_redds10bal.h5')"
   ]
  },
  {
   "cell_type": "code",
   "execution_count": 33,
   "metadata": {},
   "outputs": [
    {
     "name": "stdout",
     "output_type": "stream",
     "text": [
      "Mon Jun 10 16:29:28 2019\n",
      "WARNING:tensorflow:From /home/user/anaconda3/envs/deepl/lib/python3.6/site-packages/tensorflow/python/ops/math_ops.py:3066: to_int32 (from tensorflow.python.ops.math_ops) is deprecated and will be removed in a future version.\n",
      "Instructions for updating:\n",
      "Use tf.cast instead.\n",
      "Train on 350620 samples, validate on 87656 samples\n",
      "Epoch 1/200\n",
      "350620/350620 [==============================] - 5s 13us/step - loss: 0.0232 - acc: 0.2369 - val_loss: 0.0200 - val_acc: 0.3055\n",
      "Epoch 2/200\n",
      "350620/350620 [==============================] - 4s 12us/step - loss: 0.0189 - acc: 0.3261 - val_loss: 0.0183 - val_acc: 0.3532\n",
      "Epoch 3/200\n",
      "350620/350620 [==============================] - 4s 12us/step - loss: 0.0181 - acc: 0.3376 - val_loss: 0.0181 - val_acc: 0.3250\n",
      "Epoch 4/200\n",
      "350620/350620 [==============================] - 4s 12us/step - loss: 0.0180 - acc: 0.3172 - val_loss: 0.0180 - val_acc: 0.2702\n",
      "Epoch 5/200\n",
      "350620/350620 [==============================] - 4s 12us/step - loss: 0.0180 - acc: 0.2616 - val_loss: 0.0180 - val_acc: 0.2095\n",
      "Epoch 6/200\n",
      "350620/350620 [==============================] - 4s 12us/step - loss: 0.0179 - acc: 0.2482 - val_loss: 0.0180 - val_acc: 0.2611\n",
      "Epoch 7/200\n",
      "350620/350620 [==============================] - 4s 13us/step - loss: 0.0179 - acc: 0.2724 - val_loss: 0.0179 - val_acc: 0.2850\n",
      "Epoch 8/200\n",
      "350620/350620 [==============================] - 4s 12us/step - loss: 0.0179 - acc: 0.2501 - val_loss: 0.0179 - val_acc: 0.2385\n",
      "Epoch 9/200\n",
      "350620/350620 [==============================] - 4s 13us/step - loss: 0.0179 - acc: 0.2207 - val_loss: 0.0179 - val_acc: 0.2103\n",
      "Epoch 10/200\n",
      "350620/350620 [==============================] - 4s 13us/step - loss: 0.0179 - acc: 0.2123 - val_loss: 0.0179 - val_acc: 0.2182\n",
      "Epoch 11/200\n",
      "350620/350620 [==============================] - 4s 12us/step - loss: 0.0179 - acc: 0.1647 - val_loss: 0.0179 - val_acc: 0.1543\n",
      "Epoch 12/200\n",
      "350620/350620 [==============================] - 4s 12us/step - loss: 0.0179 - acc: 0.1738 - val_loss: 0.0179 - val_acc: 0.1981\n",
      "Epoch 13/200\n",
      "350620/350620 [==============================] - 4s 12us/step - loss: 0.0179 - acc: 0.1717 - val_loss: 0.0179 - val_acc: 0.1625\n",
      "Epoch 14/200\n",
      "350620/350620 [==============================] - 4s 12us/step - loss: 0.0179 - acc: 0.1670 - val_loss: 0.0179 - val_acc: 0.1625\n",
      "Epoch 15/200\n",
      "350620/350620 [==============================] - 4s 13us/step - loss: 0.0179 - acc: 0.1678 - val_loss: 0.0179 - val_acc: 0.1738\n",
      "Epoch 16/200\n",
      "350620/350620 [==============================] - 4s 12us/step - loss: 0.0179 - acc: 0.1647 - val_loss: 0.0179 - val_acc: 0.1634\n",
      "Epoch 17/200\n",
      "350620/350620 [==============================] - 4s 12us/step - loss: 0.0179 - acc: 0.1601 - val_loss: 0.0179 - val_acc: 0.1634\n",
      "Epoch 18/200\n",
      "350620/350620 [==============================] - 4s 12us/step - loss: 0.0179 - acc: 0.1579 - val_loss: 0.0179 - val_acc: 0.1595\n",
      "Epoch 19/200\n",
      "350620/350620 [==============================] - 4s 12us/step - loss: 0.0179 - acc: 0.1622 - val_loss: 0.0179 - val_acc: 0.1656\n",
      "Epoch 20/200\n",
      "350620/350620 [==============================] - 4s 12us/step - loss: 0.0179 - acc: 0.1442 - val_loss: 0.0179 - val_acc: 0.1327\n",
      "Epoch 21/200\n",
      "350620/350620 [==============================] - 4s 12us/step - loss: 0.0179 - acc: 0.1504 - val_loss: 0.0179 - val_acc: 0.1550\n",
      "Epoch 22/200\n",
      "350620/350620 [==============================] - 4s 13us/step - loss: 0.0179 - acc: 0.1675 - val_loss: 0.0179 - val_acc: 0.1673\n",
      "Epoch 23/200\n",
      "350620/350620 [==============================] - 4s 13us/step - loss: 0.0179 - acc: 0.1675 - val_loss: 0.0179 - val_acc: 0.1647\n",
      "Epoch 24/200\n",
      "350620/350620 [==============================] - 4s 12us/step - loss: 0.0179 - acc: 0.1305 - val_loss: 0.0179 - val_acc: 0.1142\n",
      "Epoch 25/200\n",
      "350620/350620 [==============================] - 4s 13us/step - loss: 0.0179 - acc: 0.1418 - val_loss: 0.0179 - val_acc: 0.1465\n",
      "Epoch 26/200\n",
      "350620/350620 [==============================] - 4s 12us/step - loss: 0.0179 - acc: 0.1405 - val_loss: 0.0179 - val_acc: 0.1370\n",
      "Epoch 27/200\n",
      "350620/350620 [==============================] - 4s 12us/step - loss: 0.0179 - acc: 0.1350 - val_loss: 0.0179 - val_acc: 0.1391\n",
      "Epoch 28/200\n",
      "350620/350620 [==============================] - 4s 12us/step - loss: 0.0179 - acc: 0.1261 - val_loss: 0.0179 - val_acc: 0.1052\n",
      "Epoch 29/200\n",
      "350620/350620 [==============================] - 4s 12us/step - loss: 0.0179 - acc: 0.1124 - val_loss: 0.0179 - val_acc: 0.1294\n",
      "Epoch 30/200\n",
      "350620/350620 [==============================] - 4s 12us/step - loss: 0.0179 - acc: 0.1261 - val_loss: 0.0179 - val_acc: 0.1292\n",
      "Epoch 31/200\n",
      "350620/350620 [==============================] - 4s 12us/step - loss: 0.0179 - acc: 0.1261 - val_loss: 0.0179 - val_acc: 0.1289\n",
      "Epoch 32/200\n",
      "350620/350620 [==============================] - 4s 12us/step - loss: 0.0179 - acc: 0.1256 - val_loss: 0.0179 - val_acc: 0.1289\n",
      "Epoch 33/200\n",
      "350620/350620 [==============================] - 4s 12us/step - loss: 0.0179 - acc: 0.1255 - val_loss: 0.0179 - val_acc: 0.1287\n",
      "Epoch 34/200\n",
      "350620/350620 [==============================] - 4s 12us/step - loss: 0.0179 - acc: 0.1250 - val_loss: 0.0179 - val_acc: 0.1280\n",
      "Epoch 35/200\n",
      "350620/350620 [==============================] - 4s 12us/step - loss: 0.0179 - acc: 0.1252 - val_loss: 0.0179 - val_acc: 0.1289\n",
      "Epoch 36/200\n",
      "350620/350620 [==============================] - 4s 12us/step - loss: 0.0179 - acc: 0.1251 - val_loss: 0.0179 - val_acc: 0.1284\n",
      "Epoch 37/200\n",
      "350620/350620 [==============================] - 4s 12us/step - loss: 0.0179 - acc: 0.1278 - val_loss: 0.0179 - val_acc: 0.1254\n",
      "Epoch 38/200\n",
      "350620/350620 [==============================] - 4s 12us/step - loss: 0.0179 - acc: 0.1242 - val_loss: 0.0179 - val_acc: 0.1590\n",
      "Epoch 39/200\n",
      "350620/350620 [==============================] - 4s 12us/step - loss: 0.0178 - acc: 0.1520 - val_loss: 0.0179 - val_acc: 0.1538\n",
      "Epoch 40/200\n",
      "350620/350620 [==============================] - 4s 12us/step - loss: 0.0178 - acc: 0.1485 - val_loss: 0.0179 - val_acc: 0.1512\n",
      "Epoch 41/200\n",
      "350620/350620 [==============================] - 4s 12us/step - loss: 0.0178 - acc: 0.1467 - val_loss: 0.0179 - val_acc: 0.1502\n",
      "Epoch 42/200\n",
      "350620/350620 [==============================] - 4s 12us/step - loss: 0.0178 - acc: 0.1461 - val_loss: 0.0179 - val_acc: 0.1496\n",
      "Epoch 43/200\n",
      "350620/350620 [==============================] - 4s 12us/step - loss: 0.0178 - acc: 0.1277 - val_loss: 0.0179 - val_acc: 0.1245\n",
      "Epoch 44/200\n",
      "350620/350620 [==============================] - 4s 12us/step - loss: 0.0178 - acc: 0.1213 - val_loss: 0.0179 - val_acc: 0.1238\n",
      "Epoch 45/200\n",
      "350620/350620 [==============================] - 4s 12us/step - loss: 0.0178 - acc: 0.1209 - val_loss: 0.0179 - val_acc: 0.1240\n",
      "Epoch 46/200\n",
      "350620/350620 [==============================] - 4s 12us/step - loss: 0.0178 - acc: 0.1209 - val_loss: 0.0179 - val_acc: 0.1235\n",
      "Epoch 47/200\n",
      "350620/350620 [==============================] - 4s 12us/step - loss: 0.0178 - acc: 0.1206 - val_loss: 0.0179 - val_acc: 0.1233\n",
      "--- AE spent 204.19955396652222 seconds ---\n"
     ]
    }
   ],
   "source": [
    "hist_ae_sigmoid_adam_logcosh = fit_ae(checkpoint_file = \"ae_sigmoid_adam_logcosh_redds100bal.h5\",\n",
    "                                        autoencoder = ae_sigmoid_adam_logcosh, \n",
    "                                        epochs = 200, \n",
    "                                        batch_size = 197, \n",
    "                                        shuffle = False)"
   ]
  },
  {
   "cell_type": "code",
   "execution_count": 34,
   "metadata": {},
   "outputs": [
    {
     "name": "stdout",
     "output_type": "stream",
     "text": [
      "Best loss value: 0.017835762382374845\n"
     ]
    },
    {
     "data": {
      "image/png": "[encoded data removed]",
      "text/plain": [
       "<Figure size 432x288 with 1 Axes>"
      ]
     },
     "metadata": {
      "needs_background": "light"
     },
     "output_type": "display_data"
    }
   ],
   "source": [
    "best_loss_value_ae_sigmoid_adam_logcosh = plot_hist_auto(hist_ae_sigmoid_adam_logcosh, './Figures/ae_sigmoid_adam_logcosh.png')"
   ]
  },
  {
   "cell_type": "code",
   "execution_count": null,
   "metadata": {},
   "outputs": [],
   "source": []
  },
  {
   "cell_type": "code",
   "execution_count": null,
   "metadata": {},
   "outputs": [],
   "source": []
  },
  {
   "cell_type": "code",
   "execution_count": 35,
   "metadata": {},
   "outputs": [
    {
     "name": "stdout",
     "output_type": "stream",
     "text": [
      "_________________________________________________________________\n",
      "Layer (type)                 Output Shape              Param #   \n",
      "=================================================================\n",
      "input_2 (InputLayer)         (None, 197)               0         \n",
      "_________________________________________________________________\n",
      "encoded_bottle_neck (Dense)  (None, 131)               25938     \n",
      "_________________________________________________________________\n",
      "dense_2 (Dense)              (None, 197)               26004     \n",
      "=================================================================\n",
      "Total params: 51,942\n",
      "Trainable params: 51,942\n",
      "Non-trainable params: 0\n",
      "_________________________________________________________________\n",
      "None\n"
     ]
    }
   ],
   "source": [
    "ae_siglin_adam_logcosh,enc_train_x_aslal,enc_test_x_aslal = ae(factor_enc_dim = 1.5,\n",
    "                                                              enc_activation = 'sigmoid',\n",
    "                                                              dec_activation = 'linear',\n",
    "                                                              optimizer='Adam',\n",
    "                                                              loss='logcosh')"
   ]
  },
  {
   "cell_type": "code",
   "execution_count": 36,
   "metadata": {},
   "outputs": [],
   "source": [
    "#ae_siglin_adam_logcosh = load_model('ae_siglin_adam_logcosh_redds10bal.h5')"
   ]
  },
  {
   "cell_type": "code",
   "execution_count": 37,
   "metadata": {},
   "outputs": [
    {
     "name": "stdout",
     "output_type": "stream",
     "text": [
      "Mon Jun 10 16:32:57 2019\n",
      "Train on 350620 samples, validate on 87656 samples\n",
      "Epoch 1/200\n",
      "350620/350620 [==============================] - 5s 13us/step - loss: 0.0041 - acc: 0.6016 - val_loss: 8.8688e-04 - val_acc: 0.7017\n",
      "Epoch 2/200\n",
      "350620/350620 [==============================] - 4s 13us/step - loss: 5.7996e-04 - acc: 0.7207 - val_loss: 4.2177e-04 - val_acc: 0.7470\n",
      "Epoch 3/200\n",
      "350620/350620 [==============================] - 4s 13us/step - loss: 3.5796e-04 - acc: 0.7320 - val_loss: 3.3154e-04 - val_acc: 0.7914\n",
      "Epoch 4/200\n",
      "350620/350620 [==============================] - 4s 13us/step - loss: 3.0681e-04 - acc: 0.7469 - val_loss: 3.0558e-04 - val_acc: 0.7690\n",
      "Epoch 5/200\n",
      "350620/350620 [==============================] - 4s 13us/step - loss: 2.8905e-04 - acc: 0.7560 - val_loss: 2.9310e-04 - val_acc: 0.7973\n",
      "Epoch 6/200\n",
      "350620/350620 [==============================] - 4s 13us/step - loss: 2.8015e-04 - acc: 0.7622 - val_loss: 2.8618e-04 - val_acc: 0.7952\n",
      "Epoch 7/200\n",
      "350620/350620 [==============================] - 5s 13us/step - loss: 2.7451e-04 - acc: 0.7656 - val_loss: 2.8104e-04 - val_acc: 0.7939\n",
      "Epoch 8/200\n",
      "350620/350620 [==============================] - 4s 13us/step - loss: 2.7044e-04 - acc: 0.7652 - val_loss: 2.7732e-04 - val_acc: 0.8004\n",
      "Epoch 9/200\n",
      "350620/350620 [==============================] - 4s 13us/step - loss: 2.6723e-04 - acc: 0.7650 - val_loss: 2.7415e-04 - val_acc: 0.7979\n",
      "Epoch 10/200\n",
      "350620/350620 [==============================] - 4s 13us/step - loss: 2.6447e-04 - acc: 0.7650 - val_loss: 2.7159e-04 - val_acc: 0.7950\n",
      "Epoch 11/200\n",
      "350620/350620 [==============================] - 4s 13us/step - loss: 2.6200e-04 - acc: 0.7651 - val_loss: 2.6927e-04 - val_acc: 0.7946\n",
      "Epoch 12/200\n",
      "350620/350620 [==============================] - 4s 13us/step - loss: 2.5983e-04 - acc: 0.7652 - val_loss: 2.6715e-04 - val_acc: 0.7939\n",
      "Epoch 13/200\n",
      "350620/350620 [==============================] - 4s 13us/step - loss: 2.5791e-04 - acc: 0.7648 - val_loss: 2.6537e-04 - val_acc: 0.7932\n",
      "Epoch 14/200\n",
      "350620/350620 [==============================] - 4s 13us/step - loss: 2.5627e-04 - acc: 0.7640 - val_loss: 2.6375e-04 - val_acc: 0.7993\n",
      "Epoch 15/200\n",
      "350620/350620 [==============================] - 4s 13us/step - loss: 2.5487e-04 - acc: 0.7631 - val_loss: 2.6224e-04 - val_acc: 0.8056\n",
      "Epoch 16/200\n",
      "350620/350620 [==============================] - 4s 13us/step - loss: 2.5368e-04 - acc: 0.7620 - val_loss: 2.6094e-04 - val_acc: 0.8032\n",
      "Epoch 17/200\n",
      "350620/350620 [==============================] - 4s 13us/step - loss: 2.5266e-04 - acc: 0.7612 - val_loss: 2.5998e-04 - val_acc: 0.7987\n",
      "Epoch 18/200\n",
      "350620/350620 [==============================] - 4s 13us/step - loss: 2.5176e-04 - acc: 0.7608 - val_loss: 2.5925e-04 - val_acc: 0.7983\n",
      "Epoch 19/200\n",
      "350620/350620 [==============================] - 4s 13us/step - loss: 2.5096e-04 - acc: 0.7603 - val_loss: 2.5850e-04 - val_acc: 0.7992\n",
      "Epoch 20/200\n",
      "350620/350620 [==============================] - 4s 12us/step - loss: 2.5025e-04 - acc: 0.7600 - val_loss: 2.5766e-04 - val_acc: 0.7963\n",
      "Epoch 21/200\n",
      "350620/350620 [==============================] - 4s 12us/step - loss: 2.4960e-04 - acc: 0.7598 - val_loss: 2.5690e-04 - val_acc: 0.7953\n",
      "Epoch 22/200\n",
      "350620/350620 [==============================] - 4s 12us/step - loss: 2.4901e-04 - acc: 0.7596 - val_loss: 2.5623e-04 - val_acc: 0.7916\n",
      "Epoch 23/200\n",
      "350620/350620 [==============================] - 4s 12us/step - loss: 2.4845e-04 - acc: 0.7594 - val_loss: 2.5562e-04 - val_acc: 0.7928\n",
      "Epoch 24/200\n",
      "350620/350620 [==============================] - 4s 13us/step - loss: 2.4793e-04 - acc: 0.7590 - val_loss: 2.5505e-04 - val_acc: 0.7883\n",
      "Epoch 25/200\n",
      "350620/350620 [==============================] - 4s 12us/step - loss: 2.4744e-04 - acc: 0.7588 - val_loss: 2.5454e-04 - val_acc: 0.7888\n",
      "Epoch 26/200\n",
      "350620/350620 [==============================] - 4s 13us/step - loss: 2.4697e-04 - acc: 0.7589 - val_loss: 2.5401e-04 - val_acc: 0.7799\n",
      "Epoch 27/200\n",
      "350620/350620 [==============================] - 4s 12us/step - loss: 2.4652e-04 - acc: 0.7588 - val_loss: 2.5342e-04 - val_acc: 0.7811\n",
      "Epoch 28/200\n",
      "350620/350620 [==============================] - 4s 12us/step - loss: 2.4610e-04 - acc: 0.7585 - val_loss: 2.5287e-04 - val_acc: 0.7765\n",
      "Epoch 29/200\n",
      "350620/350620 [==============================] - 4s 12us/step - loss: 2.4569e-04 - acc: 0.7583 - val_loss: 2.5236e-04 - val_acc: 0.7656\n",
      "Epoch 30/200\n",
      "350620/350620 [==============================] - 4s 12us/step - loss: 2.4530e-04 - acc: 0.7581 - val_loss: 2.5190e-04 - val_acc: 0.7695\n",
      "Epoch 31/200\n",
      "350620/350620 [==============================] - 4s 12us/step - loss: 2.4493e-04 - acc: 0.7573 - val_loss: 2.5149e-04 - val_acc: 0.7628\n",
      "Epoch 32/200\n",
      "350620/350620 [==============================] - 4s 12us/step - loss: 2.4457e-04 - acc: 0.7570 - val_loss: 2.5112e-04 - val_acc: 0.7421\n",
      "Epoch 33/200\n",
      "350620/350620 [==============================] - 4s 12us/step - loss: 2.4423e-04 - acc: 0.7562 - val_loss: 2.5077e-04 - val_acc: 0.7576\n",
      "Epoch 34/200\n",
      "350620/350620 [==============================] - 4s 12us/step - loss: 2.4390e-04 - acc: 0.7551 - val_loss: 2.5045e-04 - val_acc: 0.7479\n",
      "Epoch 35/200\n",
      "350620/350620 [==============================] - 4s 12us/step - loss: 2.4358e-04 - acc: 0.7539 - val_loss: 2.5014e-04 - val_acc: 0.7628\n",
      "Epoch 36/200\n",
      "350620/350620 [==============================] - 4s 12us/step - loss: 2.4327e-04 - acc: 0.7532 - val_loss: 2.4985e-04 - val_acc: 0.7600\n",
      "Epoch 37/200\n",
      "350620/350620 [==============================] - 4s 12us/step - loss: 2.4298e-04 - acc: 0.7533 - val_loss: 2.4953e-04 - val_acc: 0.7416\n",
      "Epoch 38/200\n",
      "350620/350620 [==============================] - 4s 12us/step - loss: 2.4270e-04 - acc: 0.7520 - val_loss: 2.4918e-04 - val_acc: 0.7205\n",
      "Epoch 39/200\n",
      "350620/350620 [==============================] - 4s 12us/step - loss: 2.4243e-04 - acc: 0.7509 - val_loss: 2.4881e-04 - val_acc: 0.7050\n",
      "Epoch 40/200\n",
      "350620/350620 [==============================] - 4s 12us/step - loss: 2.4217e-04 - acc: 0.7496 - val_loss: 2.4845e-04 - val_acc: 0.6969\n",
      "Epoch 41/200\n",
      "350620/350620 [==============================] - 4s 12us/step - loss: 2.4193e-04 - acc: 0.7495 - val_loss: 2.4813e-04 - val_acc: 0.7004\n",
      "Epoch 42/200\n",
      "350620/350620 [==============================] - 4s 12us/step - loss: 2.4170e-04 - acc: 0.7509 - val_loss: 2.4785e-04 - val_acc: 0.7355\n",
      "Epoch 43/200\n",
      "350620/350620 [==============================] - 4s 12us/step - loss: 2.4149e-04 - acc: 0.7511 - val_loss: 2.4760e-04 - val_acc: 0.7603\n",
      "Epoch 44/200\n",
      "350620/350620 [==============================] - 4s 12us/step - loss: 2.4128e-04 - acc: 0.7510 - val_loss: 2.4739e-04 - val_acc: 0.7459\n",
      "Epoch 45/200\n",
      "350620/350620 [==============================] - 4s 12us/step - loss: 2.4108e-04 - acc: 0.7501 - val_loss: 2.4721e-04 - val_acc: 0.6963\n",
      "Epoch 46/200\n",
      "350620/350620 [==============================] - 4s 12us/step - loss: 2.4090e-04 - acc: 0.7512 - val_loss: 2.4706e-04 - val_acc: 0.7483\n",
      "Epoch 47/200\n",
      "350620/350620 [==============================] - 4s 12us/step - loss: 2.4071e-04 - acc: 0.7507 - val_loss: 2.4693e-04 - val_acc: 0.7511\n",
      "Epoch 48/200\n",
      "350620/350620 [==============================] - 4s 12us/step - loss: 2.4054e-04 - acc: 0.7486 - val_loss: 2.4679e-04 - val_acc: 0.7176\n",
      "Epoch 49/200\n",
      "350620/350620 [==============================] - 4s 12us/step - loss: 2.4038e-04 - acc: 0.7508 - val_loss: 2.4665e-04 - val_acc: 0.7316\n",
      "Epoch 50/200\n",
      "350620/350620 [==============================] - 4s 12us/step - loss: 2.4024e-04 - acc: 0.7515 - val_loss: 2.4651e-04 - val_acc: 0.7442\n",
      "Epoch 51/200\n",
      "350620/350620 [==============================] - 4s 12us/step - loss: 2.4009e-04 - acc: 0.7514 - val_loss: 2.4637e-04 - val_acc: 0.7383\n",
      "Epoch 52/200\n",
      "350620/350620 [==============================] - 4s 12us/step - loss: 2.3995e-04 - acc: 0.7520 - val_loss: 2.4622e-04 - val_acc: 0.7820\n",
      "Epoch 53/200\n",
      "350620/350620 [==============================] - 4s 12us/step - loss: 2.3982e-04 - acc: 0.7500 - val_loss: 2.4608e-04 - val_acc: 0.7337\n",
      "Epoch 54/200\n",
      "350620/350620 [==============================] - 4s 12us/step - loss: 2.3970e-04 - acc: 0.7510 - val_loss: 2.4593e-04 - val_acc: 0.7122\n",
      "Epoch 55/200\n",
      "350620/350620 [==============================] - 4s 12us/step - loss: 2.3958e-04 - acc: 0.7515 - val_loss: 2.4578e-04 - val_acc: 0.7452\n",
      "Epoch 56/200\n",
      "350620/350620 [==============================] - 4s 12us/step - loss: 2.3947e-04 - acc: 0.7513 - val_loss: 2.4563e-04 - val_acc: 0.7867\n",
      "Epoch 57/200\n",
      "350620/350620 [==============================] - 4s 12us/step - loss: 2.3936e-04 - acc: 0.7540 - val_loss: 2.4549e-04 - val_acc: 0.8051\n",
      "Epoch 58/200\n",
      "350620/350620 [==============================] - 4s 12us/step - loss: 2.3926e-04 - acc: 0.7531 - val_loss: 2.4534e-04 - val_acc: 0.8035\n",
      "Epoch 59/200\n",
      "350620/350620 [==============================] - 4s 12us/step - loss: 2.3916e-04 - acc: 0.7519 - val_loss: 2.4521e-04 - val_acc: 0.6919\n",
      "Epoch 60/200\n",
      "350620/350620 [==============================] - 4s 12us/step - loss: 2.3906e-04 - acc: 0.7520 - val_loss: 2.4508e-04 - val_acc: 0.7010\n",
      "Epoch 61/200\n",
      "350620/350620 [==============================] - 4s 12us/step - loss: 2.3897e-04 - acc: 0.7520 - val_loss: 2.4495e-04 - val_acc: 0.6970\n",
      "Epoch 62/200\n",
      "350620/350620 [==============================] - 4s 12us/step - loss: 2.3888e-04 - acc: 0.7525 - val_loss: 2.4484e-04 - val_acc: 0.7144\n",
      "Epoch 63/200\n",
      "350620/350620 [==============================] - 4s 12us/step - loss: 2.3880e-04 - acc: 0.7520 - val_loss: 2.4473e-04 - val_acc: 0.7512\n",
      "Epoch 64/200\n",
      "350620/350620 [==============================] - 4s 12us/step - loss: 2.3872e-04 - acc: 0.7526 - val_loss: 2.4462e-04 - val_acc: 0.7169\n",
      "Epoch 65/200\n",
      "350620/350620 [==============================] - 4s 12us/step - loss: 2.3864e-04 - acc: 0.7528 - val_loss: 2.4452e-04 - val_acc: 0.7335\n",
      "Epoch 66/200\n",
      "350620/350620 [==============================] - 4s 12us/step - loss: 2.3856e-04 - acc: 0.7522 - val_loss: 2.4441e-04 - val_acc: 0.7869\n",
      "Epoch 67/200\n",
      "350620/350620 [==============================] - 4s 12us/step - loss: 2.3848e-04 - acc: 0.7540 - val_loss: 2.4431e-04 - val_acc: 0.7118\n",
      "Epoch 68/200\n",
      "350620/350620 [==============================] - 4s 12us/step - loss: 2.3841e-04 - acc: 0.7524 - val_loss: 2.4421e-04 - val_acc: 0.7511\n",
      "Epoch 69/200\n",
      "350620/350620 [==============================] - 4s 12us/step - loss: 2.3833e-04 - acc: 0.7520 - val_loss: 2.4410e-04 - val_acc: 0.8324\n",
      "Epoch 70/200\n",
      "350620/350620 [==============================] - 4s 12us/step - loss: 2.3826e-04 - acc: 0.7526 - val_loss: 2.4400e-04 - val_acc: 0.7042\n",
      "Epoch 71/200\n",
      "350620/350620 [==============================] - 4s 12us/step - loss: 2.3819e-04 - acc: 0.7521 - val_loss: 2.4390e-04 - val_acc: 0.7622\n",
      "Epoch 72/200\n",
      "350620/350620 [==============================] - 4s 12us/step - loss: 2.3812e-04 - acc: 0.7515 - val_loss: 2.4381e-04 - val_acc: 0.7866\n",
      "Epoch 73/200\n",
      "350620/350620 [==============================] - 4s 12us/step - loss: 2.3804e-04 - acc: 0.7529 - val_loss: 2.4372e-04 - val_acc: 0.7462\n",
      "Epoch 74/200\n",
      "350620/350620 [==============================] - 4s 12us/step - loss: 2.3797e-04 - acc: 0.7516 - val_loss: 2.4364e-04 - val_acc: 0.7818\n",
      "Epoch 75/200\n",
      "350620/350620 [==============================] - 4s 12us/step - loss: 2.3790e-04 - acc: 0.7526 - val_loss: 2.4356e-04 - val_acc: 0.8109\n",
      "Epoch 76/200\n",
      "350620/350620 [==============================] - 4s 12us/step - loss: 2.3782e-04 - acc: 0.7523 - val_loss: 2.4349e-04 - val_acc: 0.7153\n",
      "Epoch 77/200\n",
      "350620/350620 [==============================] - 4s 12us/step - loss: 2.3774e-04 - acc: 0.7529 - val_loss: 2.4342e-04 - val_acc: 0.7502\n",
      "Epoch 78/200\n",
      "350620/350620 [==============================] - 4s 12us/step - loss: 2.3766e-04 - acc: 0.7546 - val_loss: 2.4335e-04 - val_acc: 0.7162\n",
      "Epoch 79/200\n",
      "350620/350620 [==============================] - 4s 12us/step - loss: 2.3758e-04 - acc: 0.7518 - val_loss: 2.4327e-04 - val_acc: 0.8230\n",
      "Epoch 80/200\n",
      "350620/350620 [==============================] - 4s 12us/step - loss: 2.3750e-04 - acc: 0.7514 - val_loss: 2.4318e-04 - val_acc: 0.7045\n",
      "Epoch 81/200\n",
      "350620/350620 [==============================] - 4s 12us/step - loss: 2.3743e-04 - acc: 0.7525 - val_loss: 2.4306e-04 - val_acc: 0.7666\n",
      "Epoch 82/200\n",
      "350620/350620 [==============================] - 4s 12us/step - loss: 2.3735e-04 - acc: 0.7529 - val_loss: 2.4295e-04 - val_acc: 0.8121\n",
      "Epoch 83/200\n",
      "350620/350620 [==============================] - 4s 12us/step - loss: 2.3728e-04 - acc: 0.7538 - val_loss: 2.4286e-04 - val_acc: 0.7712\n",
      "Epoch 84/200\n",
      "350620/350620 [==============================] - 4s 12us/step - loss: 2.3721e-04 - acc: 0.7532 - val_loss: 2.4278e-04 - val_acc: 0.7149\n",
      "Epoch 85/200\n",
      "350620/350620 [==============================] - 4s 12us/step - loss: 2.3713e-04 - acc: 0.7533 - val_loss: 2.4273e-04 - val_acc: 0.7618\n",
      "Epoch 86/200\n",
      "350620/350620 [==============================] - 4s 12us/step - loss: 2.3705e-04 - acc: 0.7518 - val_loss: 2.4267e-04 - val_acc: 0.7918\n",
      "Epoch 87/200\n",
      "350620/350620 [==============================] - 4s 12us/step - loss: 2.3698e-04 - acc: 0.7507 - val_loss: 2.4261e-04 - val_acc: 0.7806\n",
      "Epoch 88/200\n",
      "350620/350620 [==============================] - 4s 12us/step - loss: 2.3690e-04 - acc: 0.7521 - val_loss: 2.4258e-04 - val_acc: 0.7898\n",
      "Epoch 89/200\n",
      "350620/350620 [==============================] - 4s 12us/step - loss: 2.3683e-04 - acc: 0.7541 - val_loss: 2.4258e-04 - val_acc: 0.7080\n",
      "Epoch 90/200\n",
      "350620/350620 [==============================] - 4s 12us/step - loss: 2.3676e-04 - acc: 0.7524 - val_loss: 2.4258e-04 - val_acc: 0.8287\n",
      "Epoch 91/200\n",
      "350620/350620 [==============================] - 4s 12us/step - loss: 2.3669e-04 - acc: 0.7523 - val_loss: 2.4257e-04 - val_acc: 0.6972\n",
      "Epoch 92/200\n",
      "350620/350620 [==============================] - 4s 12us/step - loss: 2.3662e-04 - acc: 0.7542 - val_loss: 2.4257e-04 - val_acc: 0.7392\n",
      "Epoch 93/200\n",
      "350620/350620 [==============================] - 4s 12us/step - loss: 2.3655e-04 - acc: 0.7528 - val_loss: 2.4256e-04 - val_acc: 0.7950\n",
      "Epoch 94/200\n",
      "350620/350620 [==============================] - 4s 12us/step - loss: 2.3649e-04 - acc: 0.7533 - val_loss: 2.4254e-04 - val_acc: 0.7545\n",
      "Epoch 95/200\n",
      "350620/350620 [==============================] - 4s 12us/step - loss: 2.3643e-04 - acc: 0.7542 - val_loss: 2.4251e-04 - val_acc: 0.7590\n",
      "Epoch 96/200\n",
      "350620/350620 [==============================] - 4s 12us/step - loss: 2.3637e-04 - acc: 0.7528 - val_loss: 2.4246e-04 - val_acc: 0.7750\n",
      "Epoch 97/200\n",
      "350620/350620 [==============================] - 4s 12us/step - loss: 2.3630e-04 - acc: 0.7535 - val_loss: 2.4239e-04 - val_acc: 0.7405\n",
      "Epoch 98/200\n",
      "350620/350620 [==============================] - 4s 12us/step - loss: 2.3624e-04 - acc: 0.7528 - val_loss: 2.4231e-04 - val_acc: 0.7950\n",
      "Epoch 99/200\n",
      "350620/350620 [==============================] - 4s 12us/step - loss: 2.3618e-04 - acc: 0.7530 - val_loss: 2.4225e-04 - val_acc: 0.8117\n",
      "Epoch 100/200\n",
      "350620/350620 [==============================] - 4s 12us/step - loss: 2.3612e-04 - acc: 0.7515 - val_loss: 2.4219e-04 - val_acc: 0.8319\n",
      "Epoch 101/200\n",
      "350620/350620 [==============================] - 4s 12us/step - loss: 2.3605e-04 - acc: 0.7526 - val_loss: 2.4211e-04 - val_acc: 0.7220\n",
      "Epoch 102/200\n",
      "350620/350620 [==============================] - 4s 12us/step - loss: 2.3600e-04 - acc: 0.7526 - val_loss: 2.4195e-04 - val_acc: 0.7862\n",
      "Epoch 103/200\n",
      "350620/350620 [==============================] - 4s 12us/step - loss: 2.3594e-04 - acc: 0.7542 - val_loss: 2.4170e-04 - val_acc: 0.8448\n",
      "Epoch 104/200\n",
      "350620/350620 [==============================] - 4s 12us/step - loss: 2.3588e-04 - acc: 0.7504 - val_loss: 2.4141e-04 - val_acc: 0.7913\n",
      "Epoch 105/200\n",
      "350620/350620 [==============================] - 4s 12us/step - loss: 2.3583e-04 - acc: 0.7516 - val_loss: 2.4107e-04 - val_acc: 0.7820\n",
      "Epoch 106/200\n",
      "350620/350620 [==============================] - 4s 12us/step - loss: 2.3578e-04 - acc: 0.7539 - val_loss: 2.4065e-04 - val_acc: 0.7179\n",
      "Epoch 107/200\n",
      "350620/350620 [==============================] - 4s 12us/step - loss: 2.3574e-04 - acc: 0.7524 - val_loss: 2.4017e-04 - val_acc: 0.7259\n",
      "Epoch 108/200\n",
      "350620/350620 [==============================] - 4s 12us/step - loss: 2.3569e-04 - acc: 0.7540 - val_loss: 2.3966e-04 - val_acc: 0.7870\n",
      "Epoch 109/200\n",
      "350620/350620 [==============================] - 4s 12us/step - loss: 2.3564e-04 - acc: 0.7537 - val_loss: 2.3918e-04 - val_acc: 0.8329\n",
      "Epoch 110/200\n",
      "350620/350620 [==============================] - 4s 12us/step - loss: 2.3560e-04 - acc: 0.7511 - val_loss: 2.3873e-04 - val_acc: 0.7841\n",
      "Epoch 111/200\n",
      "350620/350620 [==============================] - 4s 12us/step - loss: 2.3555e-04 - acc: 0.7517 - val_loss: 2.3836e-04 - val_acc: 0.7555\n",
      "Epoch 112/200\n",
      "350620/350620 [==============================] - 4s 12us/step - loss: 2.3550e-04 - acc: 0.7530 - val_loss: 2.3808e-04 - val_acc: 0.7709\n",
      "Epoch 113/200\n",
      "350620/350620 [==============================] - 4s 12us/step - loss: 2.3547e-04 - acc: 0.7538 - val_loss: 2.3792e-04 - val_acc: 0.8033\n",
      "Epoch 114/200\n",
      "350620/350620 [==============================] - 4s 12us/step - loss: 2.3544e-04 - acc: 0.7525 - val_loss: 2.3778e-04 - val_acc: 0.8188\n",
      "Epoch 115/200\n",
      "350620/350620 [==============================] - 4s 12us/step - loss: 2.3547e-04 - acc: 0.7529 - val_loss: 2.3764e-04 - val_acc: 0.7964\n",
      "Epoch 116/200\n",
      "350620/350620 [==============================] - 4s 12us/step - loss: 2.3547e-04 - acc: 0.7538 - val_loss: 2.3761e-04 - val_acc: 0.7976\n",
      "Epoch 117/200\n",
      "350620/350620 [==============================] - 4s 12us/step - loss: 2.3543e-04 - acc: 0.7552 - val_loss: 2.3765e-04 - val_acc: 0.7147\n",
      "Epoch 118/200\n",
      "350620/350620 [==============================] - 4s 12us/step - loss: 2.3538e-04 - acc: 0.7526 - val_loss: 2.3773e-04 - val_acc: 0.8074\n",
      "Epoch 119/200\n",
      "350620/350620 [==============================] - 4s 12us/step - loss: 2.3532e-04 - acc: 0.7536 - val_loss: 2.3782e-04 - val_acc: 0.8325\n",
      "Epoch 120/200\n",
      "350620/350620 [==============================] - 4s 12us/step - loss: 2.3526e-04 - acc: 0.7542 - val_loss: 2.3789e-04 - val_acc: 0.7738\n",
      "Epoch 121/200\n",
      "350620/350620 [==============================] - 4s 12us/step - loss: 2.3520e-04 - acc: 0.7539 - val_loss: 2.3797e-04 - val_acc: 0.7815\n",
      "--- AE spent 517.8950130939484 seconds ---\n"
     ]
    }
   ],
   "source": [
    "hist_ae_siglin_adam_logcosh = fit_ae(checkpoint_file = \"ae_siglin_adam_logcosh_redds100bal.h5\",\n",
    "                                        autoencoder = ae_siglin_adam_logcosh, \n",
    "                                        epochs = 200, \n",
    "                                        batch_size = 197, \n",
    "                                        shuffle = False)"
   ]
  },
  {
   "cell_type": "code",
   "execution_count": 38,
   "metadata": {},
   "outputs": [
    {
     "name": "stdout",
     "output_type": "stream",
     "text": [
      "Best loss value: 0.00023520060815793224\n"
     ]
    },
    {
     "data": {
      "image/png": "[encoded data removed]",
      "text/plain": [
       "<Figure size 432x288 with 1 Axes>"
      ]
     },
     "metadata": {
      "needs_background": "light"
     },
     "output_type": "display_data"
    }
   ],
   "source": [
    "best_loss_value_ae_siglin_adam_logcosh = plot_hist_auto(hist_ae_siglin_adam_logcosh, './Figures/hist_ae_siglin_adam_logcosh.png')"
   ]
  },
  {
   "cell_type": "code",
   "execution_count": null,
   "metadata": {},
   "outputs": [],
   "source": []
  },
  {
   "cell_type": "code",
   "execution_count": 39,
   "metadata": {},
   "outputs": [
    {
     "name": "stdout",
     "output_type": "stream",
     "text": [
      "_________________________________________________________________\n",
      "Layer (type)                 Output Shape              Param #   \n",
      "=================================================================\n",
      "input_3 (InputLayer)         (None, 197)               0         \n",
      "_________________________________________________________________\n",
      "encoded_bottle_neck (Dense)  (None, 131)               25938     \n",
      "_________________________________________________________________\n",
      "dense_3 (Dense)              (None, 197)               26004     \n",
      "=================================================================\n",
      "Total params: 51,942\n",
      "Trainable params: 51,942\n",
      "Non-trainable params: 0\n",
      "_________________________________________________________________\n",
      "None\n"
     ]
    }
   ],
   "source": [
    "ae_sigmoid_adam_mse,enc_train_x_asam,enc_test_x_asam = ae(factor_enc_dim = 1.5,\n",
    "                                                          enc_activation = 'relu',\n",
    "                                                          dec_activation = 'sigmoid',\n",
    "                                                          optimizer='Adam',\n",
    "                                                          loss='mean_squared_error')"
   ]
  },
  {
   "cell_type": "code",
   "execution_count": 40,
   "metadata": {},
   "outputs": [],
   "source": [
    "#ae_sigmoid_adam_mse = load_model('ae_sigmoid_adam_mse_redds10bal.h5')"
   ]
  },
  {
   "cell_type": "code",
   "execution_count": 41,
   "metadata": {},
   "outputs": [
    {
     "name": "stdout",
     "output_type": "stream",
     "text": [
      "Mon Jun 10 16:41:40 2019\n",
      "Train on 350620 samples, validate on 87656 samples\n",
      "Epoch 1/200\n",
      "350620/350620 [==============================] - 4s 13us/step - loss: 0.0635 - acc: 0.2273 - val_loss: 0.0553 - val_acc: 0.3508\n",
      "Epoch 2/200\n",
      "350620/350620 [==============================] - 4s 13us/step - loss: 0.0533 - acc: 0.3480 - val_loss: 0.0526 - val_acc: 0.3678\n",
      "Epoch 3/200\n",
      "350620/350620 [==============================] - 4s 12us/step - loss: 0.0522 - acc: 0.3294 - val_loss: 0.0523 - val_acc: 0.2855\n",
      "Epoch 4/200\n",
      "350620/350620 [==============================] - 4s 12us/step - loss: 0.0520 - acc: 0.2919 - val_loss: 0.0522 - val_acc: 0.2766\n",
      "Epoch 5/200\n",
      "350620/350620 [==============================] - 4s 12us/step - loss: 0.0520 - acc: 0.2931 - val_loss: 0.0522 - val_acc: 0.2889\n",
      "Epoch 6/200\n",
      "350620/350620 [==============================] - 4s 13us/step - loss: 0.0519 - acc: 0.2846 - val_loss: 0.0521 - val_acc: 0.2849\n",
      "Epoch 7/200\n",
      "350620/350620 [==============================] - 4s 13us/step - loss: 0.0519 - acc: 0.2646 - val_loss: 0.0521 - val_acc: 0.2329\n",
      "Epoch 8/200\n",
      "350620/350620 [==============================] - 4s 12us/step - loss: 0.0519 - acc: 0.2261 - val_loss: 0.0521 - val_acc: 0.2018\n",
      "Epoch 9/200\n",
      "350620/350620 [==============================] - 4s 13us/step - loss: 0.0518 - acc: 0.2085 - val_loss: 0.0521 - val_acc: 0.2194\n",
      "Epoch 10/200\n",
      "350620/350620 [==============================] - 4s 13us/step - loss: 0.0518 - acc: 0.2248 - val_loss: 0.0521 - val_acc: 0.2301\n",
      "Epoch 11/200\n",
      "350620/350620 [==============================] - 4s 13us/step - loss: 0.0518 - acc: 0.2244 - val_loss: 0.0521 - val_acc: 0.2020\n",
      "Epoch 12/200\n",
      "350620/350620 [==============================] - 4s 12us/step - loss: 0.0518 - acc: 0.2060 - val_loss: 0.0521 - val_acc: 0.1796\n",
      "Epoch 13/200\n",
      "350620/350620 [==============================] - 4s 13us/step - loss: 0.0518 - acc: 0.1967 - val_loss: 0.0521 - val_acc: 0.2101\n",
      "Epoch 14/200\n",
      "350620/350620 [==============================] - 4s 12us/step - loss: 0.0518 - acc: 0.1674 - val_loss: 0.0521 - val_acc: 0.1505\n",
      "Epoch 15/200\n",
      "350620/350620 [==============================] - 4s 12us/step - loss: 0.0518 - acc: 0.1666 - val_loss: 0.0521 - val_acc: 0.1795\n",
      "Epoch 16/200\n",
      "350620/350620 [==============================] - 4s 12us/step - loss: 0.0518 - acc: 0.1775 - val_loss: 0.0521 - val_acc: 0.1782\n",
      "Epoch 17/200\n",
      "350620/350620 [==============================] - 4s 12us/step - loss: 0.0518 - acc: 0.2067 - val_loss: 0.0521 - val_acc: 0.1778\n",
      "Epoch 18/200\n",
      "350620/350620 [==============================] - 4s 12us/step - loss: 0.0518 - acc: 0.1785 - val_loss: 0.0521 - val_acc: 0.1798\n",
      "Epoch 19/200\n",
      "350620/350620 [==============================] - 4s 12us/step - loss: 0.0518 - acc: 0.1805 - val_loss: 0.0520 - val_acc: 0.1844\n",
      "Epoch 20/200\n",
      "350620/350620 [==============================] - 4s 12us/step - loss: 0.0518 - acc: 0.1852 - val_loss: 0.0520 - val_acc: 0.1871\n",
      "Epoch 21/200\n",
      "350620/350620 [==============================] - 4s 12us/step - loss: 0.0518 - acc: 0.1767 - val_loss: 0.0520 - val_acc: 0.1723\n",
      "Epoch 22/200\n",
      "350620/350620 [==============================] - 4s 12us/step - loss: 0.0518 - acc: 0.1794 - val_loss: 0.0520 - val_acc: 0.1789\n",
      "Epoch 23/200\n",
      "350620/350620 [==============================] - 4s 12us/step - loss: 0.0518 - acc: 0.1788 - val_loss: 0.0520 - val_acc: 0.1803\n",
      "Epoch 24/200\n",
      "350620/350620 [==============================] - 4s 12us/step - loss: 0.0518 - acc: 0.1794 - val_loss: 0.0520 - val_acc: 0.1808\n",
      "Epoch 25/200\n",
      "350620/350620 [==============================] - 4s 12us/step - loss: 0.0518 - acc: 0.1785 - val_loss: 0.0520 - val_acc: 0.1774\n",
      "Epoch 26/200\n",
      "350620/350620 [==============================] - 4s 12us/step - loss: 0.0518 - acc: 0.1908 - val_loss: 0.0520 - val_acc: 0.2151\n",
      "Epoch 27/200\n",
      "350620/350620 [==============================] - 4s 12us/step - loss: 0.0518 - acc: 0.2011 - val_loss: 0.0520 - val_acc: 0.2001\n",
      "Epoch 28/200\n",
      "350620/350620 [==============================] - 4s 12us/step - loss: 0.0518 - acc: 0.1928 - val_loss: 0.0520 - val_acc: 0.2007\n",
      "Epoch 29/200\n",
      "350620/350620 [==============================] - 4s 12us/step - loss: 0.0518 - acc: 0.1977 - val_loss: 0.0520 - val_acc: 0.1975\n",
      "Epoch 30/200\n",
      "350620/350620 [==============================] - 4s 12us/step - loss: 0.0518 - acc: 0.1954 - val_loss: 0.0520 - val_acc: 0.1959\n",
      "Epoch 31/200\n",
      "350620/350620 [==============================] - 4s 12us/step - loss: 0.0518 - acc: 0.1938 - val_loss: 0.0520 - val_acc: 0.1930\n",
      "Epoch 32/200\n",
      "350620/350620 [==============================] - 4s 12us/step - loss: 0.0518 - acc: 0.1800 - val_loss: 0.0520 - val_acc: 0.1741\n",
      "Epoch 33/200\n",
      "350620/350620 [==============================] - 4s 12us/step - loss: 0.0518 - acc: 0.1894 - val_loss: 0.0520 - val_acc: 0.1905\n",
      "Epoch 34/200\n",
      "350620/350620 [==============================] - 4s 12us/step - loss: 0.0518 - acc: 0.1886 - val_loss: 0.0520 - val_acc: 0.1880\n",
      "Epoch 35/200\n",
      "350620/350620 [==============================] - 4s 12us/step - loss: 0.0518 - acc: 0.1874 - val_loss: 0.0520 - val_acc: 0.1882\n",
      "Epoch 36/200\n",
      "350620/350620 [==============================] - 4s 12us/step - loss: 0.0518 - acc: 0.1865 - val_loss: 0.0520 - val_acc: 0.1867\n",
      "Epoch 37/200\n",
      "350620/350620 [==============================] - 4s 12us/step - loss: 0.0518 - acc: 0.1860 - val_loss: 0.0520 - val_acc: 0.1866\n",
      "Epoch 38/200\n",
      "350620/350620 [==============================] - 4s 12us/step - loss: 0.0518 - acc: 0.1870 - val_loss: 0.0520 - val_acc: 0.1884\n",
      "Epoch 39/200\n",
      "350620/350620 [==============================] - 4s 12us/step - loss: 0.0518 - acc: 0.1766 - val_loss: 0.0520 - val_acc: 0.1665\n",
      "Epoch 40/200\n",
      "350620/350620 [==============================] - 4s 12us/step - loss: 0.0518 - acc: 0.1663 - val_loss: 0.0520 - val_acc: 0.1678\n",
      "Epoch 41/200\n",
      "350620/350620 [==============================] - 4s 12us/step - loss: 0.0518 - acc: 0.1673 - val_loss: 0.0520 - val_acc: 0.1684\n",
      "Epoch 42/200\n",
      "350620/350620 [==============================] - 4s 12us/step - loss: 0.0518 - acc: 0.1698 - val_loss: 0.0520 - val_acc: 0.1706\n",
      "Epoch 43/200\n",
      "350620/350620 [==============================] - 4s 12us/step - loss: 0.0518 - acc: 0.1692 - val_loss: 0.0520 - val_acc: 0.1702\n",
      "Epoch 44/200\n",
      "350620/350620 [==============================] - 4s 12us/step - loss: 0.0518 - acc: 0.1685 - val_loss: 0.0520 - val_acc: 0.1694\n",
      "--- AE spent 189.402259349823 seconds ---\n"
     ]
    }
   ],
   "source": [
    "hist_ae_sigmoid_adam_mse = fit_ae(checkpoint_file = \"ae_sigmoid_adam_mse_redds100bal.h5\",\n",
    "                                  autoencoder = ae_sigmoid_adam_mse, \n",
    "                                  epochs = 200, \n",
    "                                  batch_size = 197,\n",
    "                                  shuffle = False)"
   ]
  },
  {
   "cell_type": "code",
   "execution_count": 42,
   "metadata": {},
   "outputs": [
    {
     "name": "stdout",
     "output_type": "stream",
     "text": [
      "Best loss value: 0.05179758404595824\n"
     ]
    },
    {
     "data": {
      "image/png": "[encoded data removed]",
      "text/plain": [
       "<Figure size 432x288 with 1 Axes>"
      ]
     },
     "metadata": {
      "needs_background": "light"
     },
     "output_type": "display_data"
    }
   ],
   "source": [
    "best_loss_value_ae_sigmoid_adam_mse  = plot_hist_auto(hist_ae_sigmoid_adam_mse, './Figures/hist_ae_sigmoid_adam_mse.png')"
   ]
  },
  {
   "cell_type": "code",
   "execution_count": null,
   "metadata": {},
   "outputs": [],
   "source": []
  },
  {
   "cell_type": "code",
   "execution_count": null,
   "metadata": {},
   "outputs": [],
   "source": []
  },
  {
   "cell_type": "code",
   "execution_count": 43,
   "metadata": {},
   "outputs": [
    {
     "name": "stdout",
     "output_type": "stream",
     "text": [
      "_________________________________________________________________\n",
      "Layer (type)                 Output Shape              Param #   \n",
      "=================================================================\n",
      "input_4 (InputLayer)         (None, 197)               0         \n",
      "_________________________________________________________________\n",
      "encoded_bottle_neck (Dense)  (None, 131)               25938     \n",
      "_________________________________________________________________\n",
      "dense_4 (Dense)              (None, 197)               26004     \n",
      "=================================================================\n",
      "Total params: 51,942\n",
      "Trainable params: 51,942\n",
      "Non-trainable params: 0\n",
      "_________________________________________________________________\n",
      "None\n"
     ]
    }
   ],
   "source": [
    "ae_sigsig_adam_logcosh,enc_train_x_assal,enc_test_x_assal = ae(factor_enc_dim = 1.5,\n",
    "                                                          enc_activation = 'sigmoid',\n",
    "                                                          dec_activation = 'sigmoid',\n",
    "                                                          optimizer='Adam',\n",
    "                                                          loss='logcosh')"
   ]
  },
  {
   "cell_type": "code",
   "execution_count": 44,
   "metadata": {},
   "outputs": [],
   "source": [
    "#ae_sigsig_adam_logcosh = load_model('ae_sigsig_adam_logcosh_redds10bal.h5')"
   ]
  },
  {
   "cell_type": "code",
   "execution_count": 45,
   "metadata": {},
   "outputs": [
    {
     "name": "stdout",
     "output_type": "stream",
     "text": [
      "Mon Jun 10 16:44:54 2019\n",
      "Train on 350620 samples, validate on 87656 samples\n",
      "Epoch 1/200\n",
      "350620/350620 [==============================] - 5s 13us/step - loss: 0.0247 - acc: 0.1406 - val_loss: 0.0216 - val_acc: 0.2527\n",
      "Epoch 2/200\n",
      "350620/350620 [==============================] - 5s 13us/step - loss: 0.0211 - acc: 0.2992 - val_loss: 0.0208 - val_acc: 0.3462\n",
      "Epoch 3/200\n",
      "350620/350620 [==============================] - 5s 13us/step - loss: 0.0201 - acc: 0.3774 - val_loss: 0.0194 - val_acc: 0.3938\n",
      "Epoch 4/200\n",
      "350620/350620 [==============================] - 5s 13us/step - loss: 0.0188 - acc: 0.3939 - val_loss: 0.0185 - val_acc: 0.3835\n",
      "Epoch 5/200\n",
      "350620/350620 [==============================] - 5s 13us/step - loss: 0.0182 - acc: 0.3859 - val_loss: 0.0181 - val_acc: 0.3868\n",
      "Epoch 6/200\n",
      "350620/350620 [==============================] - 5s 13us/step - loss: 0.0180 - acc: 0.3844 - val_loss: 0.0180 - val_acc: 0.3889\n",
      "Epoch 7/200\n",
      "350620/350620 [==============================] - 5s 13us/step - loss: 0.0179 - acc: 0.3838 - val_loss: 0.0179 - val_acc: 0.3843\n",
      "Epoch 8/200\n",
      "350620/350620 [==============================] - 5s 13us/step - loss: 0.0179 - acc: 0.3776 - val_loss: 0.0179 - val_acc: 0.3785\n",
      "Epoch 9/200\n",
      "350620/350620 [==============================] - 5s 13us/step - loss: 0.0179 - acc: 0.3727 - val_loss: 0.0179 - val_acc: 0.3696\n",
      "Epoch 10/200\n",
      "350620/350620 [==============================] - 5s 13us/step - loss: 0.0179 - acc: 0.3675 - val_loss: 0.0179 - val_acc: 0.3732\n",
      "Epoch 11/200\n",
      "350620/350620 [==============================] - 4s 13us/step - loss: 0.0179 - acc: 0.3633 - val_loss: 0.0179 - val_acc: 0.3653\n",
      "Epoch 12/200\n",
      "350620/350620 [==============================] - 4s 13us/step - loss: 0.0178 - acc: 0.3580 - val_loss: 0.0179 - val_acc: 0.3653\n",
      "Epoch 13/200\n",
      "350620/350620 [==============================] - 5s 13us/step - loss: 0.0178 - acc: 0.3562 - val_loss: 0.0179 - val_acc: 0.3638\n",
      "Epoch 14/200\n",
      "350620/350620 [==============================] - 4s 13us/step - loss: 0.0178 - acc: 0.3558 - val_loss: 0.0179 - val_acc: 0.3587\n",
      "Epoch 15/200\n",
      "350620/350620 [==============================] - 5s 13us/step - loss: 0.0178 - acc: 0.3496 - val_loss: 0.0179 - val_acc: 0.3571\n",
      "Epoch 16/200\n",
      "350620/350620 [==============================] - 4s 13us/step - loss: 0.0178 - acc: 0.3495 - val_loss: 0.0179 - val_acc: 0.3545\n",
      "Epoch 17/200\n",
      "350620/350620 [==============================] - 4s 13us/step - loss: 0.0178 - acc: 0.3453 - val_loss: 0.0179 - val_acc: 0.3533\n",
      "Epoch 18/200\n",
      "350620/350620 [==============================] - 4s 13us/step - loss: 0.0178 - acc: 0.3439 - val_loss: 0.0179 - val_acc: 0.3531\n",
      "Epoch 19/200\n",
      "350620/350620 [==============================] - 4s 13us/step - loss: 0.0178 - acc: 0.3475 - val_loss: 0.0179 - val_acc: 0.3515\n",
      "Epoch 20/200\n",
      "350620/350620 [==============================] - 4s 13us/step - loss: 0.0178 - acc: 0.3443 - val_loss: 0.0179 - val_acc: 0.3489\n",
      "Epoch 21/200\n",
      "350620/350620 [==============================] - 4s 12us/step - loss: 0.0178 - acc: 0.3449 - val_loss: 0.0179 - val_acc: 0.3537\n",
      "Epoch 22/200\n",
      "350620/350620 [==============================] - 4s 13us/step - loss: 0.0178 - acc: 0.3451 - val_loss: 0.0179 - val_acc: 0.3505\n",
      "Epoch 23/200\n",
      "350620/350620 [==============================] - 4s 13us/step - loss: 0.0178 - acc: 0.3431 - val_loss: 0.0179 - val_acc: 0.3506\n",
      "Epoch 24/200\n",
      "350620/350620 [==============================] - 4s 12us/step - loss: 0.0178 - acc: 0.3451 - val_loss: 0.0179 - val_acc: 0.3550\n",
      "Epoch 25/200\n",
      "350620/350620 [==============================] - 4s 13us/step - loss: 0.0178 - acc: 0.3469 - val_loss: 0.0179 - val_acc: 0.3506\n",
      "Epoch 26/200\n",
      "350620/350620 [==============================] - 4s 12us/step - loss: 0.0178 - acc: 0.3418 - val_loss: 0.0179 - val_acc: 0.3477\n",
      "Epoch 27/200\n",
      "350620/350620 [==============================] - 4s 12us/step - loss: 0.0178 - acc: 0.3405 - val_loss: 0.0179 - val_acc: 0.3474\n",
      "Epoch 28/200\n",
      "350620/350620 [==============================] - 4s 12us/step - loss: 0.0178 - acc: 0.3399 - val_loss: 0.0179 - val_acc: 0.3461\n",
      "Epoch 29/200\n",
      "350620/350620 [==============================] - 4s 12us/step - loss: 0.0178 - acc: 0.3437 - val_loss: 0.0179 - val_acc: 0.3540\n",
      "Epoch 30/200\n",
      "350620/350620 [==============================] - 4s 12us/step - loss: 0.0178 - acc: 0.3464 - val_loss: 0.0179 - val_acc: 0.3537\n",
      "Epoch 31/200\n",
      "350620/350620 [==============================] - 4s 13us/step - loss: 0.0178 - acc: 0.3470 - val_loss: 0.0179 - val_acc: 0.3508\n",
      "Epoch 32/200\n",
      "350620/350620 [==============================] - 4s 12us/step - loss: 0.0178 - acc: 0.3436 - val_loss: 0.0179 - val_acc: 0.3497\n",
      "Epoch 33/200\n",
      "350620/350620 [==============================] - 4s 12us/step - loss: 0.0178 - acc: 0.3457 - val_loss: 0.0179 - val_acc: 0.3517\n",
      "Epoch 34/200\n",
      "350620/350620 [==============================] - 4s 13us/step - loss: 0.0178 - acc: 0.3444 - val_loss: 0.0179 - val_acc: 0.3495\n",
      "Epoch 35/200\n",
      "350620/350620 [==============================] - 4s 12us/step - loss: 0.0178 - acc: 0.3443 - val_loss: 0.0179 - val_acc: 0.3505\n",
      "Epoch 36/200\n",
      "350620/350620 [==============================] - 4s 13us/step - loss: 0.0178 - acc: 0.3438 - val_loss: 0.0179 - val_acc: 0.3509\n",
      "Epoch 37/200\n",
      "350620/350620 [==============================] - 4s 12us/step - loss: 0.0178 - acc: 0.3440 - val_loss: 0.0179 - val_acc: 0.3498\n",
      "Epoch 38/200\n",
      "350620/350620 [==============================] - 4s 12us/step - loss: 0.0178 - acc: 0.3447 - val_loss: 0.0179 - val_acc: 0.3519\n",
      "Epoch 39/200\n",
      "350620/350620 [==============================] - 4s 12us/step - loss: 0.0178 - acc: 0.3475 - val_loss: 0.0179 - val_acc: 0.3533\n",
      "Epoch 40/200\n",
      "350620/350620 [==============================] - 4s 12us/step - loss: 0.0178 - acc: 0.3469 - val_loss: 0.0179 - val_acc: 0.3524\n",
      "Epoch 41/200\n",
      "350620/350620 [==============================] - 4s 12us/step - loss: 0.0178 - acc: 0.3480 - val_loss: 0.0179 - val_acc: 0.3541\n",
      "Epoch 42/200\n",
      "350620/350620 [==============================] - 4s 12us/step - loss: 0.0178 - acc: 0.3512 - val_loss: 0.0179 - val_acc: 0.3561\n",
      "Epoch 43/200\n",
      "350620/350620 [==============================] - 4s 12us/step - loss: 0.0178 - acc: 0.3515 - val_loss: 0.0179 - val_acc: 0.3547\n",
      "Epoch 44/200\n",
      "350620/350620 [==============================] - 4s 12us/step - loss: 0.0178 - acc: 0.3507 - val_loss: 0.0179 - val_acc: 0.3550\n",
      "Epoch 45/200\n",
      "350620/350620 [==============================] - 4s 12us/step - loss: 0.0178 - acc: 0.3520 - val_loss: 0.0179 - val_acc: 0.3563\n",
      "Epoch 46/200\n",
      "350620/350620 [==============================] - 4s 12us/step - loss: 0.0178 - acc: 0.3545 - val_loss: 0.0179 - val_acc: 0.3581\n",
      "Epoch 47/200\n",
      "350620/350620 [==============================] - 4s 12us/step - loss: 0.0178 - acc: 0.3546 - val_loss: 0.0179 - val_acc: 0.3617\n",
      "Epoch 48/200\n",
      "350620/350620 [==============================] - 4s 12us/step - loss: 0.0178 - acc: 0.3561 - val_loss: 0.0179 - val_acc: 0.3609\n",
      "Epoch 49/200\n",
      "350620/350620 [==============================] - 4s 12us/step - loss: 0.0178 - acc: 0.3594 - val_loss: 0.0179 - val_acc: 0.3660\n",
      "Epoch 50/200\n",
      "350620/350620 [==============================] - 4s 12us/step - loss: 0.0178 - acc: 0.3619 - val_loss: 0.0179 - val_acc: 0.3663\n",
      "Epoch 51/200\n",
      "350620/350620 [==============================] - 4s 12us/step - loss: 0.0178 - acc: 0.3623 - val_loss: 0.0179 - val_acc: 0.3668\n",
      "Epoch 52/200\n",
      "350620/350620 [==============================] - 4s 12us/step - loss: 0.0178 - acc: 0.3632 - val_loss: 0.0179 - val_acc: 0.3679\n",
      "Epoch 53/200\n",
      "350620/350620 [==============================] - 4s 12us/step - loss: 0.0178 - acc: 0.3618 - val_loss: 0.0179 - val_acc: 0.3644\n",
      "Epoch 54/200\n",
      "350620/350620 [==============================] - 4s 12us/step - loss: 0.0178 - acc: 0.3615 - val_loss: 0.0179 - val_acc: 0.3674\n",
      "Epoch 55/200\n",
      "350620/350620 [==============================] - 4s 12us/step - loss: 0.0178 - acc: 0.3629 - val_loss: 0.0179 - val_acc: 0.3674\n",
      "Epoch 56/200\n",
      "350620/350620 [==============================] - 4s 12us/step - loss: 0.0178 - acc: 0.3637 - val_loss: 0.0179 - val_acc: 0.3675\n",
      "Epoch 57/200\n",
      "350620/350620 [==============================] - 4s 12us/step - loss: 0.0178 - acc: 0.3634 - val_loss: 0.0179 - val_acc: 0.3673\n",
      "Epoch 58/200\n",
      "350620/350620 [==============================] - 4s 12us/step - loss: 0.0178 - acc: 0.3629 - val_loss: 0.0179 - val_acc: 0.3663\n",
      "Epoch 59/200\n",
      "350620/350620 [==============================] - 4s 12us/step - loss: 0.0178 - acc: 0.3657 - val_loss: 0.0179 - val_acc: 0.3726\n",
      "Epoch 60/200\n",
      "350620/350620 [==============================] - 4s 12us/step - loss: 0.0178 - acc: 0.3660 - val_loss: 0.0179 - val_acc: 0.3688\n",
      "Epoch 61/200\n",
      "350620/350620 [==============================] - 4s 12us/step - loss: 0.0178 - acc: 0.3644 - val_loss: 0.0179 - val_acc: 0.3697\n",
      "Epoch 62/200\n",
      "350620/350620 [==============================] - 4s 12us/step - loss: 0.0178 - acc: 0.3657 - val_loss: 0.0179 - val_acc: 0.3683\n",
      "Epoch 63/200\n",
      "350620/350620 [==============================] - 4s 12us/step - loss: 0.0178 - acc: 0.3649 - val_loss: 0.0179 - val_acc: 0.3680\n",
      "Epoch 64/200\n",
      "350620/350620 [==============================] - 4s 12us/step - loss: 0.0178 - acc: 0.3637 - val_loss: 0.0179 - val_acc: 0.3673\n",
      "Epoch 65/200\n",
      "350620/350620 [==============================] - 4s 12us/step - loss: 0.0178 - acc: 0.3662 - val_loss: 0.0179 - val_acc: 0.3699\n",
      "Epoch 66/200\n",
      "350620/350620 [==============================] - 4s 12us/step - loss: 0.0178 - acc: 0.3684 - val_loss: 0.0179 - val_acc: 0.3724\n",
      "Epoch 67/200\n",
      "350620/350620 [==============================] - 4s 12us/step - loss: 0.0178 - acc: 0.3685 - val_loss: 0.0179 - val_acc: 0.3710\n",
      "Epoch 68/200\n",
      "350620/350620 [==============================] - 4s 12us/step - loss: 0.0178 - acc: 0.3671 - val_loss: 0.0179 - val_acc: 0.3709\n",
      "Epoch 69/200\n",
      "350620/350620 [==============================] - 4s 12us/step - loss: 0.0178 - acc: 0.3673 - val_loss: 0.0179 - val_acc: 0.3701\n",
      "Epoch 70/200\n",
      "350620/350620 [==============================] - 4s 12us/step - loss: 0.0178 - acc: 0.3663 - val_loss: 0.0179 - val_acc: 0.3685\n",
      "Epoch 71/200\n",
      "350620/350620 [==============================] - 4s 12us/step - loss: 0.0178 - acc: 0.3755 - val_loss: 0.0179 - val_acc: 0.3745\n",
      "Epoch 72/200\n",
      "350620/350620 [==============================] - 4s 12us/step - loss: 0.0178 - acc: 0.3737 - val_loss: 0.0179 - val_acc: 0.3758\n",
      "Epoch 73/200\n",
      "350620/350620 [==============================] - 4s 12us/step - loss: 0.0178 - acc: 0.3747 - val_loss: 0.0179 - val_acc: 0.3736\n",
      "Epoch 74/200\n",
      "350620/350620 [==============================] - 4s 12us/step - loss: 0.0178 - acc: 0.3708 - val_loss: 0.0179 - val_acc: 0.3740\n",
      "Epoch 75/200\n",
      "350620/350620 [==============================] - 4s 12us/step - loss: 0.0178 - acc: 0.3786 - val_loss: 0.0179 - val_acc: 0.3865\n",
      "Epoch 76/200\n",
      "350620/350620 [==============================] - 4s 12us/step - loss: 0.0178 - acc: 0.3787 - val_loss: 0.0179 - val_acc: 0.3771\n",
      "Epoch 77/200\n",
      "350620/350620 [==============================] - 4s 12us/step - loss: 0.0178 - acc: 0.3729 - val_loss: 0.0179 - val_acc: 0.3740\n",
      "Epoch 78/200\n",
      "350620/350620 [==============================] - 4s 12us/step - loss: 0.0178 - acc: 0.3704 - val_loss: 0.0179 - val_acc: 0.3711\n",
      "Epoch 79/200\n",
      "350620/350620 [==============================] - 4s 12us/step - loss: 0.0178 - acc: 0.3679 - val_loss: 0.0179 - val_acc: 0.3713\n",
      "Epoch 80/200\n",
      "350620/350620 [==============================] - 4s 12us/step - loss: 0.0178 - acc: 0.3687 - val_loss: 0.0179 - val_acc: 0.3716\n",
      "Epoch 81/200\n",
      "350620/350620 [==============================] - 4s 12us/step - loss: 0.0178 - acc: 0.3819 - val_loss: 0.0179 - val_acc: 0.3793\n",
      "Epoch 82/200\n",
      "350620/350620 [==============================] - 4s 12us/step - loss: 0.0178 - acc: 0.3761 - val_loss: 0.0179 - val_acc: 0.3782\n",
      "Epoch 83/200\n",
      "350620/350620 [==============================] - 4s 12us/step - loss: 0.0178 - acc: 0.3738 - val_loss: 0.0179 - val_acc: 0.3760\n",
      "Epoch 84/200\n",
      "350620/350620 [==============================] - 4s 12us/step - loss: 0.0178 - acc: 0.3729 - val_loss: 0.0179 - val_acc: 0.3750\n",
      "Epoch 85/200\n",
      "350620/350620 [==============================] - 4s 12us/step - loss: 0.0178 - acc: 0.3746 - val_loss: 0.0179 - val_acc: 0.3783\n",
      "Epoch 86/200\n",
      "350620/350620 [==============================] - 4s 12us/step - loss: 0.0178 - acc: 0.3747 - val_loss: 0.0179 - val_acc: 0.3770\n",
      "Epoch 87/200\n",
      "350620/350620 [==============================] - 4s 12us/step - loss: 0.0178 - acc: 0.3736 - val_loss: 0.0179 - val_acc: 0.3770\n",
      "Epoch 88/200\n",
      "350620/350620 [==============================] - 4s 12us/step - loss: 0.0178 - acc: 0.3728 - val_loss: 0.0179 - val_acc: 0.3757\n",
      "Epoch 89/200\n",
      "350620/350620 [==============================] - 4s 12us/step - loss: 0.0178 - acc: 0.3728 - val_loss: 0.0179 - val_acc: 0.3756\n",
      "Epoch 90/200\n",
      "350620/350620 [==============================] - 4s 12us/step - loss: 0.0178 - acc: 0.3717 - val_loss: 0.0179 - val_acc: 0.3753\n",
      "Epoch 91/200\n",
      "350620/350620 [==============================] - 4s 12us/step - loss: 0.0178 - acc: 0.3726 - val_loss: 0.0179 - val_acc: 0.3779\n",
      "Epoch 92/200\n",
      "350620/350620 [==============================] - 4s 12us/step - loss: 0.0178 - acc: 0.3814 - val_loss: 0.0179 - val_acc: 0.3874\n",
      "Epoch 93/200\n",
      "350620/350620 [==============================] - 4s 12us/step - loss: 0.0178 - acc: 0.3808 - val_loss: 0.0179 - val_acc: 0.3815\n",
      "Epoch 94/200\n",
      "350620/350620 [==============================] - 4s 12us/step - loss: 0.0178 - acc: 0.3779 - val_loss: 0.0179 - val_acc: 0.3804\n",
      "Epoch 95/200\n",
      "350620/350620 [==============================] - 4s 12us/step - loss: 0.0178 - acc: 0.3768 - val_loss: 0.0179 - val_acc: 0.3783\n",
      "Epoch 96/200\n",
      "350620/350620 [==============================] - 4s 12us/step - loss: 0.0178 - acc: 0.3759 - val_loss: 0.0179 - val_acc: 0.3785\n",
      "Epoch 97/200\n",
      "350620/350620 [==============================] - 4s 12us/step - loss: 0.0178 - acc: 0.3761 - val_loss: 0.0179 - val_acc: 0.3796\n",
      "Epoch 98/200\n",
      "350620/350620 [==============================] - 4s 12us/step - loss: 0.0178 - acc: 0.3764 - val_loss: 0.0179 - val_acc: 0.3780\n",
      "Epoch 99/200\n",
      "350620/350620 [==============================] - 4s 12us/step - loss: 0.0178 - acc: 0.3744 - val_loss: 0.0179 - val_acc: 0.3748\n",
      "Epoch 100/200\n",
      "350620/350620 [==============================] - 4s 12us/step - loss: 0.0178 - acc: 0.3730 - val_loss: 0.0179 - val_acc: 0.3755\n",
      "Epoch 101/200\n",
      "350620/350620 [==============================] - 4s 12us/step - loss: 0.0178 - acc: 0.3728 - val_loss: 0.0179 - val_acc: 0.3768\n",
      "Epoch 102/200\n",
      "350620/350620 [==============================] - 4s 12us/step - loss: 0.0178 - acc: 0.3747 - val_loss: 0.0179 - val_acc: 0.3788\n",
      "Epoch 103/200\n",
      "350620/350620 [==============================] - 4s 12us/step - loss: 0.0178 - acc: 0.3756 - val_loss: 0.0179 - val_acc: 0.3792\n",
      "Epoch 104/200\n",
      "350620/350620 [==============================] - 4s 12us/step - loss: 0.0178 - acc: 0.3753 - val_loss: 0.0179 - val_acc: 0.3789\n",
      "Epoch 105/200\n",
      "350620/350620 [==============================] - 4s 12us/step - loss: 0.0178 - acc: 0.3757 - val_loss: 0.0179 - val_acc: 0.3788\n",
      "Epoch 106/200\n",
      "350620/350620 [==============================] - 4s 12us/step - loss: 0.0178 - acc: 0.3757 - val_loss: 0.0179 - val_acc: 0.3790\n",
      "Epoch 107/200\n",
      "350620/350620 [==============================] - 4s 12us/step - loss: 0.0178 - acc: 0.3762 - val_loss: 0.0179 - val_acc: 0.3784\n",
      "Epoch 108/200\n",
      "350620/350620 [==============================] - 4s 12us/step - loss: 0.0178 - acc: 0.3762 - val_loss: 0.0179 - val_acc: 0.3780\n",
      "Epoch 109/200\n",
      "350620/350620 [==============================] - 4s 12us/step - loss: 0.0178 - acc: 0.3751 - val_loss: 0.0179 - val_acc: 0.3783\n",
      "Epoch 110/200\n",
      "350620/350620 [==============================] - 4s 12us/step - loss: 0.0178 - acc: 0.3795 - val_loss: 0.0179 - val_acc: 0.3847\n",
      "Epoch 111/200\n",
      "350620/350620 [==============================] - 4s 12us/step - loss: 0.0178 - acc: 0.3901 - val_loss: 0.0179 - val_acc: 0.3977\n",
      "Epoch 112/200\n",
      "350620/350620 [==============================] - 4s 12us/step - loss: 0.0178 - acc: 0.3898 - val_loss: 0.0179 - val_acc: 0.3893\n",
      "Epoch 113/200\n",
      "350620/350620 [==============================] - 4s 12us/step - loss: 0.0178 - acc: 0.3912 - val_loss: 0.0179 - val_acc: 0.4014\n",
      "Epoch 114/200\n",
      "350620/350620 [==============================] - 4s 12us/step - loss: 0.0178 - acc: 0.4012 - val_loss: 0.0179 - val_acc: 0.4093\n",
      "Epoch 115/200\n",
      "350620/350620 [==============================] - 4s 12us/step - loss: 0.0178 - acc: 0.4017 - val_loss: 0.0179 - val_acc: 0.3992\n",
      "Epoch 116/200\n",
      "350620/350620 [==============================] - 4s 12us/step - loss: 0.0178 - acc: 0.3937 - val_loss: 0.0179 - val_acc: 0.3926\n",
      "Epoch 117/200\n",
      "350620/350620 [==============================] - 4s 12us/step - loss: 0.0178 - acc: 0.3931 - val_loss: 0.0179 - val_acc: 0.3962\n",
      "Epoch 118/200\n",
      "350620/350620 [==============================] - 4s 12us/step - loss: 0.0178 - acc: 0.3941 - val_loss: 0.0179 - val_acc: 0.3931\n",
      "Epoch 119/200\n",
      "350620/350620 [==============================] - 4s 12us/step - loss: 0.0178 - acc: 0.3910 - val_loss: 0.0179 - val_acc: 0.3956\n",
      "Epoch 120/200\n",
      "350620/350620 [==============================] - 4s 12us/step - loss: 0.0178 - acc: 0.3895 - val_loss: 0.0179 - val_acc: 0.3920\n",
      "Epoch 121/200\n",
      "350620/350620 [==============================] - 4s 12us/step - loss: 0.0178 - acc: 0.4018 - val_loss: 0.0179 - val_acc: 0.4034\n",
      "Epoch 122/200\n",
      "350620/350620 [==============================] - 4s 12us/step - loss: 0.0178 - acc: 0.3961 - val_loss: 0.0179 - val_acc: 0.3949\n",
      "Epoch 123/200\n",
      "350620/350620 [==============================] - 4s 12us/step - loss: 0.0178 - acc: 0.3910 - val_loss: 0.0179 - val_acc: 0.3914\n",
      "Epoch 124/200\n",
      "350620/350620 [==============================] - 4s 12us/step - loss: 0.0178 - acc: 0.3885 - val_loss: 0.0179 - val_acc: 0.3905\n",
      "Epoch 125/200\n",
      "350620/350620 [==============================] - 4s 12us/step - loss: 0.0178 - acc: 0.3872 - val_loss: 0.0179 - val_acc: 0.3903\n",
      "Epoch 126/200\n",
      "350620/350620 [==============================] - 4s 12us/step - loss: 0.0178 - acc: 0.3961 - val_loss: 0.0179 - val_acc: 0.4056\n",
      "Epoch 127/200\n",
      "350620/350620 [==============================] - 4s 12us/step - loss: 0.0178 - acc: 0.4033 - val_loss: 0.0179 - val_acc: 0.4042\n",
      "Epoch 128/200\n",
      "350620/350620 [==============================] - 4s 12us/step - loss: 0.0178 - acc: 0.3991 - val_loss: 0.0179 - val_acc: 0.3973\n",
      "Epoch 129/200\n",
      "350620/350620 [==============================] - 4s 12us/step - loss: 0.0178 - acc: 0.3927 - val_loss: 0.0179 - val_acc: 0.3936\n",
      "Epoch 130/200\n",
      "350620/350620 [==============================] - 4s 12us/step - loss: 0.0178 - acc: 0.3901 - val_loss: 0.0179 - val_acc: 0.3926\n",
      "Epoch 131/200\n",
      "350620/350620 [==============================] - 4s 12us/step - loss: 0.0178 - acc: 0.3887 - val_loss: 0.0179 - val_acc: 0.3909\n",
      "Epoch 132/200\n",
      "350620/350620 [==============================] - 4s 12us/step - loss: 0.0178 - acc: 0.3866 - val_loss: 0.0179 - val_acc: 0.3893\n",
      "Epoch 133/200\n",
      "350620/350620 [==============================] - 4s 12us/step - loss: 0.0178 - acc: 0.3864 - val_loss: 0.0179 - val_acc: 0.3887\n",
      "Epoch 134/200\n",
      "350620/350620 [==============================] - 4s 12us/step - loss: 0.0178 - acc: 0.3871 - val_loss: 0.0179 - val_acc: 0.3901\n",
      "--- AE spent 571.7589921951294 seconds ---\n"
     ]
    }
   ],
   "source": [
    "hist_ae_sigsig_adam_logcosh = fit_ae(checkpoint_file = \"ae_sigsig_adam_logcosh_redds100bal.h5\",\n",
    "                                  autoencoder = ae_sigsig_adam_logcosh, \n",
    "                                  epochs = 200, \n",
    "                                  batch_size = 197,\n",
    "                                  shuffle = False)"
   ]
  },
  {
   "cell_type": "code",
   "execution_count": 46,
   "metadata": {},
   "outputs": [
    {
     "name": "stdout",
     "output_type": "stream",
     "text": [
      "Best loss value: 0.017831129635252345\n"
     ]
    },
    {
     "data": {
      "image/png": "[encoded data removed]",
      "text/plain": [
       "<Figure size 432x288 with 1 Axes>"
      ]
     },
     "metadata": {
      "needs_background": "light"
     },
     "output_type": "display_data"
    }
   ],
   "source": [
    "best_loss_value_ae_sigsig_adam_logcosh  = plot_hist_auto(hist_ae_sigsig_adam_logcosh, './Figures/hist_ae_sigsig_adam_logcosh.png')"
   ]
  },
  {
   "cell_type": "code",
   "execution_count": 47,
   "metadata": {},
   "outputs": [],
   "source": [
    "loss_valueDict = {\n",
    "    'loss_value_ae_sigmoid_adam_logcosh': best_loss_value_ae_sigmoid_adam_logcosh,\n",
    "    'loss_value_ae_sigmoid_adam_mse': best_loss_value_ae_sigmoid_adam_mse,\n",
    "    'loss_value_ae_siglin_adam_logcosh': best_loss_value_ae_siglin_adam_logcosh,\n",
    "    'loss_value_ae_sigsig_adam_logcosh': best_loss_value_ae_sigsig_adam_logcosh\n",
    "    }"
   ]
  },
  {
   "cell_type": "code",
   "execution_count": 48,
   "metadata": {},
   "outputs": [
    {
     "data": {
      "text/plain": [
       "{'loss_value_ae_sigmoid_adam_logcosh': 0.017835762382374845,\n",
       " 'loss_value_ae_sigmoid_adam_mse': 0.05179758404595824,\n",
       " 'loss_value_ae_siglin_adam_logcosh': 0.00023520060815793224,\n",
       " 'loss_value_ae_sigsig_adam_logcosh': 0.017831129635252345}"
      ]
     },
     "execution_count": 48,
     "metadata": {},
     "output_type": "execute_result"
    }
   ],
   "source": [
    "loss_valueDict"
   ]
  },
  {
   "cell_type": "code",
   "execution_count": null,
   "metadata": {},
   "outputs": [],
   "source": []
  },
  {
   "cell_type": "code",
   "execution_count": 49,
   "metadata": {},
   "outputs": [
    {
     "name": "stdout",
     "output_type": "stream",
     "text": [
      "(350620, 131)\n",
      "(109570, 131)\n",
      "(350620, 131)\n",
      "(109570, 131)\n",
      "(350620, 131)\n",
      "(109570, 131)\n",
      "(350620, 131)\n",
      "(109570, 131)\n"
     ]
    }
   ],
   "source": [
    "print(enc_train_x_asal.shape)\n",
    "print(enc_test_x_asal.shape)\n",
    "\n",
    "print(enc_train_x_asam.shape)\n",
    "print(enc_test_x_asam.shape)\n",
    "\n",
    "print(enc_train_x_aslal.shape)\n",
    "print(enc_test_x_aslal.shape)\n",
    "\n",
    "print(enc_train_x_assal.shape)\n",
    "print(enc_test_x_assal.shape)"
   ]
  },
  {
   "cell_type": "markdown",
   "metadata": {},
   "source": [
    "#### ====================== Fail ANN ======================"
   ]
  },
  {
   "cell_type": "code",
   "execution_count": 50,
   "metadata": {},
   "outputs": [
    {
     "name": "stdout",
     "output_type": "stream",
     "text": [
      "_________________________________________________________________\n",
      "Layer (type)                 Output Shape              Param #   \n",
      "=================================================================\n",
      "dense_5 (Dense)              (None, 197)               26004     \n",
      "_________________________________________________________________\n",
      "dense_6 (Dense)              (None, 145)               28710     \n",
      "_________________________________________________________________\n",
      "batch_normalization_1 (Batch (None, 145)               580       \n",
      "_________________________________________________________________\n",
      "dropout_1 (Dropout)          (None, 145)               0         \n",
      "_________________________________________________________________\n",
      "dense_7 (Dense)              (None, 1)                 146       \n",
      "=================================================================\n",
      "Total params: 55,440\n",
      "Trainable params: 55,150\n",
      "Non-trainable params: 290\n",
      "_________________________________________________________________\n",
      "None\n"
     ]
    }
   ],
   "source": [
    "ann36n_unisoftsigbinlosadam = ann_1h_36n(neurons=197,\n",
    "                                      encoded_train_x=enc_train_x_asal,\n",
    "                                      init_mode='uniform',\n",
    "                                      activation_input='softsign',\n",
    "                                      weight_constraint=5,\n",
    "                                      dropout_rate=0.0,\n",
    "                                      activation_output='sigmoid',\n",
    "                                      loss='binary_crossentropy',\n",
    "                                      optimizer='Adam')"
   ]
  },
  {
   "cell_type": "code",
   "execution_count": 51,
   "metadata": {},
   "outputs": [
    {
     "name": "stdout",
     "output_type": "stream",
     "text": [
      "Mon Jun 10 16:54:26 2019\n",
      "Train on 280496 samples, validate on 70124 samples\n",
      "Epoch 1/200\n",
      "280496/280496 [==============================] - 6s 21us/step - loss: 0.2076 - acc: 0.9055 - val_loss: 0.1233 - val_acc: 0.9440\n",
      "Epoch 2/200\n",
      "280496/280496 [==============================] - 6s 20us/step - loss: 0.0969 - acc: 0.9549 - val_loss: 0.0931 - val_acc: 0.9592\n",
      "Epoch 3/200\n",
      "280496/280496 [==============================] - 6s 20us/step - loss: 0.0799 - acc: 0.9627 - val_loss: 0.0722 - val_acc: 0.9667\n",
      "Epoch 4/200\n",
      "280496/280496 [==============================] - 6s 20us/step - loss: 0.0682 - acc: 0.9685 - val_loss: 0.0670 - val_acc: 0.9697\n",
      "Epoch 5/200\n",
      "280496/280496 [==============================] - 6s 20us/step - loss: 0.0620 - acc: 0.9719 - val_loss: 0.0606 - val_acc: 0.9742\n",
      "Epoch 6/200\n",
      "280496/280496 [==============================] - 6s 20us/step - loss: 0.0557 - acc: 0.9751 - val_loss: 0.0655 - val_acc: 0.9702\n",
      "Epoch 7/200\n",
      "280496/280496 [==============================] - 6s 20us/step - loss: 0.0499 - acc: 0.9781 - val_loss: 0.0495 - val_acc: 0.9788\n",
      "Epoch 8/200\n",
      "280496/280496 [==============================] - 6s 20us/step - loss: 0.0458 - acc: 0.9804 - val_loss: 0.0346 - val_acc: 0.9858\n",
      "Epoch 9/200\n",
      "280496/280496 [==============================] - 6s 20us/step - loss: 0.0410 - acc: 0.9823 - val_loss: 0.0385 - val_acc: 0.9843\n",
      "Epoch 10/200\n",
      "280496/280496 [==============================] - 6s 20us/step - loss: 0.0388 - acc: 0.9832 - val_loss: 0.0379 - val_acc: 0.9832\n",
      "Epoch 11/200\n",
      "280496/280496 [==============================] - 5s 20us/step - loss: 0.0368 - acc: 0.9840 - val_loss: 0.0300 - val_acc: 0.9872\n",
      "Epoch 12/200\n",
      "280496/280496 [==============================] - 6s 20us/step - loss: 0.0342 - acc: 0.9853 - val_loss: 0.0329 - val_acc: 0.9869\n",
      "Epoch 13/200\n",
      "280496/280496 [==============================] - 6s 20us/step - loss: 0.0318 - acc: 0.9862 - val_loss: 0.0471 - val_acc: 0.9817\n",
      "Epoch 14/200\n",
      "280496/280496 [==============================] - 5s 19us/step - loss: 0.0310 - acc: 0.9866 - val_loss: 0.0279 - val_acc: 0.9878\n",
      "Epoch 15/200\n",
      "280496/280496 [==============================] - 5s 19us/step - loss: 0.0286 - acc: 0.9880 - val_loss: 0.0235 - val_acc: 0.9908\n",
      "Epoch 16/200\n",
      "280496/280496 [==============================] - 5s 20us/step - loss: 0.0278 - acc: 0.9882 - val_loss: 0.0332 - val_acc: 0.9838\n",
      "Epoch 17/200\n",
      "280496/280496 [==============================] - 5s 19us/step - loss: 0.0264 - acc: 0.9890 - val_loss: 0.0247 - val_acc: 0.9907\n",
      "Epoch 18/200\n",
      "280496/280496 [==============================] - 6s 20us/step - loss: 0.0253 - acc: 0.9895 - val_loss: 0.0268 - val_acc: 0.9888\n",
      "Epoch 19/200\n",
      "280496/280496 [==============================] - 5s 20us/step - loss: 0.0252 - acc: 0.9896 - val_loss: 0.0216 - val_acc: 0.9916\n",
      "Epoch 20/200\n",
      "280496/280496 [==============================] - 5s 19us/step - loss: 0.0243 - acc: 0.9897 - val_loss: 0.0396 - val_acc: 0.9850\n",
      "Epoch 21/200\n",
      "280496/280496 [==============================] - 5s 19us/step - loss: 0.0227 - acc: 0.9905 - val_loss: 0.0227 - val_acc: 0.9920\n",
      "Epoch 22/200\n",
      "280496/280496 [==============================] - 5s 19us/step - loss: 0.0238 - acc: 0.9902 - val_loss: 0.0235 - val_acc: 0.9905\n",
      "Epoch 23/200\n",
      "280496/280496 [==============================] - 5s 19us/step - loss: 0.0226 - acc: 0.9906 - val_loss: 0.0202 - val_acc: 0.9914\n",
      "Epoch 24/200\n",
      "280496/280496 [==============================] - 5s 19us/step - loss: 0.0216 - acc: 0.9912 - val_loss: 0.0362 - val_acc: 0.9871\n",
      "Epoch 25/200\n",
      "280496/280496 [==============================] - 5s 19us/step - loss: 0.0205 - acc: 0.9915 - val_loss: 0.0145 - val_acc: 0.9948\n",
      "Epoch 26/200\n",
      "280496/280496 [==============================] - 5s 19us/step - loss: 0.0205 - acc: 0.9915 - val_loss: 0.0195 - val_acc: 0.9922\n",
      "Epoch 27/200\n",
      "280496/280496 [==============================] - 5s 19us/step - loss: 0.0188 - acc: 0.9922 - val_loss: 0.0159 - val_acc: 0.9930\n",
      "Epoch 28/200\n",
      "280496/280496 [==============================] - 5s 19us/step - loss: 0.0189 - acc: 0.9921 - val_loss: 0.0166 - val_acc: 0.9939\n",
      "Epoch 29/200\n",
      "280496/280496 [==============================] - 5s 19us/step - loss: 0.0189 - acc: 0.9921 - val_loss: 0.0176 - val_acc: 0.9940\n",
      "Epoch 30/200\n",
      "280496/280496 [==============================] - 5s 19us/step - loss: 0.0188 - acc: 0.9922 - val_loss: 0.0179 - val_acc: 0.9919\n",
      "--- ANN spent 165.24377703666687 seconds ---\n"
     ]
    }
   ],
   "source": [
    "hist_ann36n_unisoftsigbinlosadam = ann_fit(checkpoint_file = \"ann36n_unisoftsigbinlosadam_redds100bal.h5\",\n",
    "                                        ann = ann36n_unisoftsigbinlosadam,\n",
    "                                        enc_train_x = enc_train_x_asal,\n",
    "                                        train_y = train_y,\n",
    "                                        epochs = 200,\n",
    "                                        shuffle = True,\n",
    "                                        batch_size = 197)"
   ]
  },
  {
   "cell_type": "code",
   "execution_count": 52,
   "metadata": {},
   "outputs": [
    {
     "name": "stdout",
     "output_type": "stream",
     "text": [
      "Best loss value: 0.018841576326731852\n"
     ]
    },
    {
     "data": {
      "image/png": "[encoded data removed]",
      "text/plain": [
       "<Figure size 432x288 with 1 Axes>"
      ]
     },
     "metadata": {
      "needs_background": "light"
     },
     "output_type": "display_data"
    }
   ],
   "source": [
    "best_loss_value_ann36n_unisoftsigbinlosadam = plot_hist_auto(hist_ann36n_unisoftsigbinlosadam, './Figures/ann36_unisoftsigbinlosadam.png')"
   ]
  },
  {
   "cell_type": "code",
   "execution_count": 53,
   "metadata": {},
   "outputs": [
    {
     "name": "stdout",
     "output_type": "stream",
     "text": [
      "Overall accuracy of Neural Network model: 0.9913023637857078\n",
      "              precision    recall  f1-score   support\n",
      "\n",
      "           0     0.9899    0.9927    0.9913     54737\n",
      "           1     0.9927    0.9899    0.9913     54833\n",
      "\n",
      "   micro avg     0.9913    0.9913    0.9913    109570\n",
      "   macro avg     0.9913    0.9913    0.9913    109570\n",
      "weighted avg     0.9913    0.9913    0.9913    109570\n",
      "\n"
     ]
    }
   ],
   "source": [
    "pred_ann36n_prob_unisoftsigbinlosadam, pred_ann36n_01_unisoftsigbinlosadam = ann_predict(ann36n_unisoftsigbinlosadam,enc_test_x_asal)"
   ]
  },
  {
   "cell_type": "code",
   "execution_count": 54,
   "metadata": {},
   "outputs": [
    {
     "data": {
      "image/png": "[encoded data removed]",
      "text/plain": [
       "<Figure size 432x288 with 1 Axes>"
      ]
     },
     "metadata": {
      "needs_background": "light"
     },
     "output_type": "display_data"
    },
    {
     "data": {
      "image/png": "[encoded data removed]",
      "text/plain": [
       "<Figure size 576x432 with 2 Axes>"
      ]
     },
     "metadata": {
      "needs_background": "light"
     },
     "output_type": "display_data"
    }
   ],
   "source": [
    "plot_roc_cm(pred_ann36n_01_unisoftsigbinlosadam, pred_ann36n_01_unisoftsigbinlosadam, './Figures/ROC_ann36n_unisoftsigbinlosadam_redds10bal.png', './Figures/CM_ann36n_unisoftsigbinlosadam_redds10bal.png')"
   ]
  },
  {
   "cell_type": "code",
   "execution_count": null,
   "metadata": {},
   "outputs": [],
   "source": []
  },
  {
   "cell_type": "code",
   "execution_count": 55,
   "metadata": {},
   "outputs": [
    {
     "name": "stdout",
     "output_type": "stream",
     "text": [
      "_________________________________________________________________\n",
      "Layer (type)                 Output Shape              Param #   \n",
      "=================================================================\n",
      "dense_8 (Dense)              (None, 197)               26004     \n",
      "_________________________________________________________________\n",
      "dense_9 (Dense)              (None, 145)               28710     \n",
      "_________________________________________________________________\n",
      "batch_normalization_2 (Batch (None, 145)               580       \n",
      "_________________________________________________________________\n",
      "dropout_2 (Dropout)          (None, 145)               0         \n",
      "_________________________________________________________________\n",
      "dense_10 (Dense)             (None, 1)                 146       \n",
      "=================================================================\n",
      "Total params: 55,440\n",
      "Trainable params: 55,150\n",
      "Non-trainable params: 290\n",
      "_________________________________________________________________\n",
      "None\n"
     ]
    }
   ],
   "source": [
    "ann36n_unisoftsigbinlosadam2 = ann_1h_36n(neurons=197,\n",
    "                                      encoded_train_x=enc_train_x_asam,\n",
    "                                      init_mode='uniform',\n",
    "                                      activation_input='softsign',\n",
    "                                      weight_constraint=5,\n",
    "                                      dropout_rate=0.0,\n",
    "                                      activation_output='sigmoid',\n",
    "                                      loss='binary_crossentropy',\n",
    "                                      optimizer='Adam')"
   ]
  },
  {
   "cell_type": "code",
   "execution_count": 56,
   "metadata": {},
   "outputs": [
    {
     "name": "stdout",
     "output_type": "stream",
     "text": [
      "Mon Jun 10 16:57:14 2019\n",
      "Train on 280496 samples, validate on 70124 samples\n",
      "Epoch 1/200\n",
      "280496/280496 [==============================] - 6s 22us/step - loss: 0.1993 - acc: 0.9097 - val_loss: 0.1098 - val_acc: 0.9505\n",
      "Epoch 2/200\n",
      "280496/280496 [==============================] - 6s 20us/step - loss: 0.0965 - acc: 0.9533 - val_loss: 0.0843 - val_acc: 0.9619\n",
      "Epoch 3/200\n",
      "280496/280496 [==============================] - 6s 20us/step - loss: 0.0820 - acc: 0.9610 - val_loss: 0.0714 - val_acc: 0.9667\n",
      "Epoch 4/200\n",
      "280496/280496 [==============================] - 6s 20us/step - loss: 0.0725 - acc: 0.9656 - val_loss: 0.0655 - val_acc: 0.9687\n",
      "Epoch 5/200\n",
      "280496/280496 [==============================] - 6s 20us/step - loss: 0.0635 - acc: 0.9700 - val_loss: 0.0573 - val_acc: 0.9744\n",
      "Epoch 6/200\n",
      "280496/280496 [==============================] - 6s 20us/step - loss: 0.0571 - acc: 0.9737 - val_loss: 0.0592 - val_acc: 0.9739\n",
      "Epoch 7/200\n",
      "280496/280496 [==============================] - 6s 20us/step - loss: 0.0521 - acc: 0.9762 - val_loss: 0.0520 - val_acc: 0.9760\n",
      "Epoch 8/200\n",
      "280496/280496 [==============================] - 6s 20us/step - loss: 0.0476 - acc: 0.9782 - val_loss: 0.0452 - val_acc: 0.9788\n",
      "Epoch 9/200\n",
      "280496/280496 [==============================] - 6s 20us/step - loss: 0.0440 - acc: 0.9804 - val_loss: 0.0429 - val_acc: 0.9814\n",
      "Epoch 10/200\n",
      "280496/280496 [==============================] - 5s 20us/step - loss: 0.0409 - acc: 0.9817 - val_loss: 0.0429 - val_acc: 0.9821\n",
      "Epoch 11/200\n",
      "280496/280496 [==============================] - 6s 20us/step - loss: 0.0374 - acc: 0.9836 - val_loss: 0.0378 - val_acc: 0.9844\n",
      "Epoch 12/200\n",
      "280496/280496 [==============================] - 6s 20us/step - loss: 0.0348 - acc: 0.9846 - val_loss: 0.0377 - val_acc: 0.9838\n",
      "Epoch 13/200\n",
      "280496/280496 [==============================] - 6s 20us/step - loss: 0.0342 - acc: 0.9850 - val_loss: 0.0368 - val_acc: 0.9854\n",
      "Epoch 14/200\n",
      "280496/280496 [==============================] - 6s 20us/step - loss: 0.0312 - acc: 0.9864 - val_loss: 0.0312 - val_acc: 0.9871\n",
      "Epoch 15/200\n",
      "280496/280496 [==============================] - 6s 20us/step - loss: 0.0305 - acc: 0.9867 - val_loss: 0.0289 - val_acc: 0.9878\n",
      "Epoch 16/200\n",
      "280496/280496 [==============================] - 5s 19us/step - loss: 0.0286 - acc: 0.9878 - val_loss: 0.0297 - val_acc: 0.9880\n",
      "Epoch 17/200\n",
      "280496/280496 [==============================] - 5s 19us/step - loss: 0.0272 - acc: 0.9882 - val_loss: 0.0234 - val_acc: 0.9908\n",
      "Epoch 18/200\n",
      "280496/280496 [==============================] - 5s 19us/step - loss: 0.0272 - acc: 0.9886 - val_loss: 0.0221 - val_acc: 0.9914\n",
      "Epoch 19/200\n",
      "280496/280496 [==============================] - 6s 20us/step - loss: 0.0255 - acc: 0.9890 - val_loss: 0.0266 - val_acc: 0.9891\n",
      "Epoch 20/200\n",
      "280496/280496 [==============================] - 5s 20us/step - loss: 0.0238 - acc: 0.9901 - val_loss: 0.0231 - val_acc: 0.9910\n",
      "Epoch 21/200\n",
      "280496/280496 [==============================] - 5s 19us/step - loss: 0.0236 - acc: 0.9903 - val_loss: 0.0234 - val_acc: 0.9899\n",
      "Epoch 22/200\n",
      "280496/280496 [==============================] - 5s 19us/step - loss: 0.0225 - acc: 0.9904 - val_loss: 0.0174 - val_acc: 0.9934\n",
      "Epoch 23/200\n",
      "280496/280496 [==============================] - 5s 20us/step - loss: 0.0220 - acc: 0.9908 - val_loss: 0.0229 - val_acc: 0.9913\n",
      "Epoch 24/200\n",
      "280496/280496 [==============================] - 6s 20us/step - loss: 0.0216 - acc: 0.9908 - val_loss: 0.0186 - val_acc: 0.9926\n",
      "Epoch 25/200\n",
      "280496/280496 [==============================] - 5s 19us/step - loss: 0.0207 - acc: 0.9913 - val_loss: 0.0241 - val_acc: 0.9883\n",
      "Epoch 26/200\n",
      "280496/280496 [==============================] - 5s 19us/step - loss: 0.0201 - acc: 0.9914 - val_loss: 0.0226 - val_acc: 0.9913\n",
      "Epoch 27/200\n",
      "280496/280496 [==============================] - 5s 19us/step - loss: 0.0199 - acc: 0.9919 - val_loss: 0.0170 - val_acc: 0.9935\n",
      "Epoch 28/200\n",
      "280496/280496 [==============================] - 5s 19us/step - loss: 0.0192 - acc: 0.9920 - val_loss: 0.0202 - val_acc: 0.9926\n",
      "Epoch 29/200\n",
      "280496/280496 [==============================] - 5s 19us/step - loss: 0.0186 - acc: 0.9925 - val_loss: 0.0181 - val_acc: 0.9929\n",
      "Epoch 30/200\n",
      "280496/280496 [==============================] - 5s 19us/step - loss: 0.0197 - acc: 0.9919 - val_loss: 0.0246 - val_acc: 0.9898\n",
      "Epoch 31/200\n",
      "280496/280496 [==============================] - 5s 19us/step - loss: 0.0171 - acc: 0.9927 - val_loss: 0.0204 - val_acc: 0.9912\n",
      "Epoch 32/200\n",
      "280496/280496 [==============================] - 5s 19us/step - loss: 0.0180 - acc: 0.9926 - val_loss: 0.0196 - val_acc: 0.9919\n",
      "--- ANN spent 176.4623200893402 seconds ---\n"
     ]
    }
   ],
   "source": [
    "hist_ann36n_unisoftsigbinlosadam2 = ann_fit(checkpoint_file = \"ann36n_unisoftsigbinlosadam2_redds100bal.h5\",\n",
    "                                        ann = ann36n_unisoftsigbinlosadam2,\n",
    "                                        enc_train_x = enc_train_x_asam,\n",
    "                                        train_y = train_y,\n",
    "                                        epochs = 200,\n",
    "                                        shuffle = True,\n",
    "                                        batch_size = 197)"
   ]
  },
  {
   "cell_type": "code",
   "execution_count": 57,
   "metadata": {},
   "outputs": [
    {
     "name": "stdout",
     "output_type": "stream",
     "text": [
      "Best loss value: 0.017978080803306703\n"
     ]
    },
    {
     "data": {
      "image/png": "[encoded data removed]",
      "text/plain": [
       "<Figure size 432x288 with 1 Axes>"
      ]
     },
     "metadata": {
      "needs_background": "light"
     },
     "output_type": "display_data"
    }
   ],
   "source": [
    "best_loss_value_ann36n_unisoftsigbinlosadam2 = plot_hist_auto(hist_ann36n_unisoftsigbinlosadam2, './Figures/ann36_unisoftsigbinlosadam2.png')"
   ]
  },
  {
   "cell_type": "code",
   "execution_count": 58,
   "metadata": {},
   "outputs": [
    {
     "name": "stdout",
     "output_type": "stream",
     "text": [
      "Overall accuracy of Neural Network model: 0.9909829332846583\n",
      "              precision    recall  f1-score   support\n",
      "\n",
      "           0     0.9941    0.9878    0.9909     54737\n",
      "           1     0.9879    0.9942    0.9910     54833\n",
      "\n",
      "   micro avg     0.9910    0.9910    0.9910    109570\n",
      "   macro avg     0.9910    0.9910    0.9910    109570\n",
      "weighted avg     0.9910    0.9910    0.9910    109570\n",
      "\n"
     ]
    }
   ],
   "source": [
    "pred_ann36n_prob_unisoftsigbinlosadam, pred_ann36n_01_unisoftsigbinlosadam2 = ann_predict(ann36n_unisoftsigbinlosadam2,enc_test_x_asam)"
   ]
  },
  {
   "cell_type": "code",
   "execution_count": 59,
   "metadata": {},
   "outputs": [
    {
     "data": {
      "image/png": "[encoded data removed]",
      "text/plain": [
       "<Figure size 432x288 with 1 Axes>"
      ]
     },
     "metadata": {
      "needs_background": "light"
     },
     "output_type": "display_data"
    },
    {
     "data": {
      "image/png": "[encoded data removed]",
      "text/plain": [
       "<Figure size 576x432 with 2 Axes>"
      ]
     },
     "metadata": {
      "needs_background": "light"
     },
     "output_type": "display_data"
    }
   ],
   "source": [
    "plot_roc_cm(pred_ann36n_01_unisoftsigbinlosadam, pred_ann36n_01_unisoftsigbinlosadam, './Figures/ROC_ann36n_unisoftsigbinlosadam_redds10bal.png', './Figures/CM_ann36n_unisoftsigbinlosadam_redds10bal.png')"
   ]
  },
  {
   "cell_type": "code",
   "execution_count": null,
   "metadata": {},
   "outputs": [],
   "source": []
  },
  {
   "cell_type": "code",
   "execution_count": null,
   "metadata": {},
   "outputs": [],
   "source": []
  },
  {
   "cell_type": "code",
   "execution_count": 60,
   "metadata": {},
   "outputs": [
    {
     "name": "stdout",
     "output_type": "stream",
     "text": [
      "_________________________________________________________________\n",
      "Layer (type)                 Output Shape              Param #   \n",
      "=================================================================\n",
      "dense_11 (Dense)             (None, 197)               26004     \n",
      "_________________________________________________________________\n",
      "dense_12 (Dense)             (None, 95)                18810     \n",
      "_________________________________________________________________\n",
      "batch_normalization_3 (Batch (None, 95)                380       \n",
      "_________________________________________________________________\n",
      "dropout_3 (Dropout)          (None, 95)                0         \n",
      "_________________________________________________________________\n",
      "dense_13 (Dense)             (None, 1)                 96        \n",
      "=================================================================\n",
      "Total params: 45,290\n",
      "Trainable params: 45,100\n",
      "Non-trainable params: 190\n",
      "_________________________________________________________________\n",
      "None\n"
     ]
    }
   ],
   "source": [
    "ann24n_unisoftsigbinlosadam = ann_1h_24n(neurons=197,\n",
    "                                      encoded_train_x=enc_train_x_asam,\n",
    "                                      init_mode='uniform',\n",
    "                                      activation_input='softsign',\n",
    "                                      weight_constraint=5,\n",
    "                                      dropout_rate=0.0,\n",
    "                                      activation_output='sigmoid',\n",
    "                                      loss='binary_crossentropy',\n",
    "                                      optimizer='Adam')"
   ]
  },
  {
   "cell_type": "code",
   "execution_count": 61,
   "metadata": {},
   "outputs": [
    {
     "name": "stdout",
     "output_type": "stream",
     "text": [
      "Mon Jun 10 17:00:14 2019\n",
      "Train on 280496 samples, validate on 70124 samples\n",
      "Epoch 1/200\n",
      "280496/280496 [==============================] - 6s 22us/step - loss: 0.2130 - acc: 0.9033 - val_loss: 0.1082 - val_acc: 0.9507\n",
      "Epoch 2/200\n",
      "280496/280496 [==============================] - 6s 20us/step - loss: 0.1016 - acc: 0.9517 - val_loss: 0.0873 - val_acc: 0.9595\n",
      "Epoch 3/200\n",
      "280496/280496 [==============================] - 6s 20us/step - loss: 0.0860 - acc: 0.9588 - val_loss: 0.0735 - val_acc: 0.9656\n",
      "Epoch 4/200\n",
      "280496/280496 [==============================] - 6s 20us/step - loss: 0.0754 - acc: 0.9639 - val_loss: 0.0731 - val_acc: 0.9655\n",
      "Epoch 5/200\n",
      "280496/280496 [==============================] - 6s 20us/step - loss: 0.0682 - acc: 0.9675 - val_loss: 0.0707 - val_acc: 0.9655\n",
      "Epoch 6/200\n",
      "280496/280496 [==============================] - 6s 21us/step - loss: 0.0628 - acc: 0.9707 - val_loss: 0.0645 - val_acc: 0.9707\n",
      "Epoch 7/200\n",
      "280496/280496 [==============================] - 6s 20us/step - loss: 0.0584 - acc: 0.9729 - val_loss: 0.0573 - val_acc: 0.9732\n",
      "Epoch 8/200\n",
      "280496/280496 [==============================] - 6s 20us/step - loss: 0.0531 - acc: 0.9752 - val_loss: 0.0470 - val_acc: 0.9791\n",
      "Epoch 9/200\n",
      "280496/280496 [==============================] - 6s 20us/step - loss: 0.0505 - acc: 0.9766 - val_loss: 0.0471 - val_acc: 0.9782\n",
      "Epoch 10/200\n",
      "280496/280496 [==============================] - 6s 20us/step - loss: 0.0462 - acc: 0.9787 - val_loss: 0.0433 - val_acc: 0.9811\n",
      "Epoch 11/200\n",
      "280496/280496 [==============================] - 6s 20us/step - loss: 0.0437 - acc: 0.9801 - val_loss: 0.0393 - val_acc: 0.9829\n",
      "Epoch 12/200\n",
      "280496/280496 [==============================] - 6s 20us/step - loss: 0.0422 - acc: 0.9807 - val_loss: 0.0575 - val_acc: 0.9753\n",
      "Epoch 13/200\n",
      "280496/280496 [==============================] - 6s 20us/step - loss: 0.0387 - acc: 0.9824 - val_loss: 0.0392 - val_acc: 0.9817\n",
      "Epoch 14/200\n",
      "280496/280496 [==============================] - 6s 20us/step - loss: 0.0367 - acc: 0.9836 - val_loss: 0.0373 - val_acc: 0.9835\n",
      "Epoch 15/200\n",
      "280496/280496 [==============================] - 6s 20us/step - loss: 0.0351 - acc: 0.9847 - val_loss: 0.0300 - val_acc: 0.9869\n",
      "Epoch 16/200\n",
      "280496/280496 [==============================] - 6s 20us/step - loss: 0.0338 - acc: 0.9851 - val_loss: 0.0388 - val_acc: 0.9832\n",
      "Epoch 17/200\n",
      "280496/280496 [==============================] - 6s 20us/step - loss: 0.0319 - acc: 0.9861 - val_loss: 0.0268 - val_acc: 0.9896\n",
      "Epoch 18/200\n",
      "280496/280496 [==============================] - 6s 20us/step - loss: 0.0302 - acc: 0.9871 - val_loss: 0.0486 - val_acc: 0.9816\n",
      "Epoch 19/200\n",
      "280496/280496 [==============================] - 6s 20us/step - loss: 0.0296 - acc: 0.9872 - val_loss: 0.0259 - val_acc: 0.9904\n",
      "Epoch 20/200\n",
      "280496/280496 [==============================] - 5s 19us/step - loss: 0.0271 - acc: 0.9885 - val_loss: 0.0275 - val_acc: 0.9876\n",
      "Epoch 21/200\n",
      "280496/280496 [==============================] - 6s 20us/step - loss: 0.0274 - acc: 0.9885 - val_loss: 0.0240 - val_acc: 0.9907\n",
      "Epoch 22/200\n",
      "280496/280496 [==============================] - 6s 20us/step - loss: 0.0258 - acc: 0.9892 - val_loss: 0.0270 - val_acc: 0.9882\n",
      "Epoch 23/200\n",
      "280496/280496 [==============================] - 6s 20us/step - loss: 0.0253 - acc: 0.9892 - val_loss: 0.0235 - val_acc: 0.9915\n",
      "Epoch 24/200\n",
      "280496/280496 [==============================] - 6s 20us/step - loss: 0.0245 - acc: 0.9897 - val_loss: 0.0256 - val_acc: 0.9888\n",
      "Epoch 25/200\n",
      "280496/280496 [==============================] - 6s 20us/step - loss: 0.0230 - acc: 0.9904 - val_loss: 0.0210 - val_acc: 0.9913\n",
      "Epoch 26/200\n",
      "280496/280496 [==============================] - 5s 19us/step - loss: 0.0230 - acc: 0.9905 - val_loss: 0.0205 - val_acc: 0.9905\n",
      "Epoch 27/200\n",
      "280496/280496 [==============================] - 5s 19us/step - loss: 0.0217 - acc: 0.9908 - val_loss: 0.0205 - val_acc: 0.9913\n",
      "Epoch 28/200\n",
      "280496/280496 [==============================] - 5s 19us/step - loss: 0.0220 - acc: 0.9907 - val_loss: 0.0168 - val_acc: 0.9932\n",
      "Epoch 29/200\n",
      "280496/280496 [==============================] - 5s 19us/step - loss: 0.0206 - acc: 0.9911 - val_loss: 0.0209 - val_acc: 0.9928\n",
      "Epoch 30/200\n",
      "280496/280496 [==============================] - 5s 19us/step - loss: 0.0210 - acc: 0.9908 - val_loss: 0.0164 - val_acc: 0.9947\n",
      "Epoch 31/200\n",
      "280496/280496 [==============================] - 5s 19us/step - loss: 0.0206 - acc: 0.9917 - val_loss: 0.0397 - val_acc: 0.9837\n",
      "Epoch 32/200\n",
      "280496/280496 [==============================] - 5s 19us/step - loss: 0.0202 - acc: 0.9916 - val_loss: 0.0205 - val_acc: 0.9912\n",
      "Epoch 33/200\n",
      "280496/280496 [==============================] - 5s 19us/step - loss: 0.0195 - acc: 0.9921 - val_loss: 0.0177 - val_acc: 0.9930\n",
      "Epoch 34/200\n",
      "280496/280496 [==============================] - 5s 19us/step - loss: 0.0187 - acc: 0.9924 - val_loss: 0.0178 - val_acc: 0.9926\n",
      "Epoch 35/200\n",
      "280496/280496 [==============================] - 5s 19us/step - loss: 0.0180 - acc: 0.9924 - val_loss: 0.0239 - val_acc: 0.9903\n",
      "--- ANN spent 194.76248121261597 seconds ---\n"
     ]
    }
   ],
   "source": [
    "hist_ann24n_unisoftsigbinlosadam = ann_fit(checkpoint_file = \"ann24n_unisoftsigbinlosadam_redds100bal.h5\",\n",
    "                                        ann = ann24n_unisoftsigbinlosadam,\n",
    "                                        enc_train_x = enc_train_x_asam,\n",
    "                                        train_y = train_y,\n",
    "                                        epochs = 200,\n",
    "                                        shuffle = True,\n",
    "                                        batch_size = 197)"
   ]
  },
  {
   "cell_type": "code",
   "execution_count": 62,
   "metadata": {},
   "outputs": [
    {
     "name": "stdout",
     "output_type": "stream",
     "text": [
      "Best loss value: 0.018001740853350486\n"
     ]
    },
    {
     "data": {
      "image/png": "[encoded data removed]",
      "text/plain": [
       "<Figure size 432x288 with 1 Axes>"
      ]
     },
     "metadata": {
      "needs_background": "light"
     },
     "output_type": "display_data"
    }
   ],
   "source": [
    "best_loss_value_ann24n_unisoftsigbinlosadam = plot_hist_auto(hist_ann24n_unisoftsigbinlosadam, './Figures/ann24_unisoftsigbinlosadam.png')"
   ]
  },
  {
   "cell_type": "code",
   "execution_count": 63,
   "metadata": {},
   "outputs": [
    {
     "name": "stdout",
     "output_type": "stream",
     "text": [
      "Overall accuracy of Neural Network model: 0.9891849958930364\n",
      "              precision    recall  f1-score   support\n",
      "\n",
      "           0     0.9872    0.9912    0.9892     54737\n",
      "           1     0.9911    0.9872    0.9892     54833\n",
      "\n",
      "   micro avg     0.9892    0.9892    0.9892    109570\n",
      "   macro avg     0.9892    0.9892    0.9892    109570\n",
      "weighted avg     0.9892    0.9892    0.9892    109570\n",
      "\n"
     ]
    }
   ],
   "source": [
    "pred_ann24n_prob_unisoftsigbinlosadam, pred_ann24n_01_unisoftsigbinlosadam = ann_predict(ann24n_unisoftsigbinlosadam,enc_test_x_asam)"
   ]
  },
  {
   "cell_type": "code",
   "execution_count": 64,
   "metadata": {},
   "outputs": [
    {
     "data": {
      "image/png": "[encoded data removed]",
      "text/plain": [
       "<Figure size 432x288 with 1 Axes>"
      ]
     },
     "metadata": {
      "needs_background": "light"
     },
     "output_type": "display_data"
    },
    {
     "data": {
      "image/png": "[encoded data removed]",
      "text/plain": [
       "<Figure size 576x432 with 2 Axes>"
      ]
     },
     "metadata": {
      "needs_background": "light"
     },
     "output_type": "display_data"
    }
   ],
   "source": [
    "plot_roc_cm(pred_ann24n_01_unisoftsigbinlosadam, pred_ann24n_01_unisoftsigbinlosadam, './Figures/ROC_ann24n_unisoftsigbinlosadam_redds10bal.png', './Figures/CM_ann24n_unisoftsigbinlosadam_redds10bal.png')"
   ]
  },
  {
   "cell_type": "code",
   "execution_count": 65,
   "metadata": {},
   "outputs": [
    {
     "name": "stdout",
     "output_type": "stream",
     "text": [
      "_________________________________________________________________\n",
      "Layer (type)                 Output Shape              Param #   \n",
      "=================================================================\n",
      "dense_14 (Dense)             (None, 197)               26004     \n",
      "_________________________________________________________________\n",
      "dense_15 (Dense)             (None, 145)               28710     \n",
      "_________________________________________________________________\n",
      "dense_16 (Dense)             (None, 95)                13870     \n",
      "_________________________________________________________________\n",
      "batch_normalization_4 (Batch (None, 95)                380       \n",
      "_________________________________________________________________\n",
      "dropout_4 (Dropout)          (None, 95)                0         \n",
      "_________________________________________________________________\n",
      "dense_17 (Dense)             (None, 1)                 96        \n",
      "=================================================================\n",
      "Total params: 69,060\n",
      "Trainable params: 68,870\n",
      "Non-trainable params: 190\n",
      "_________________________________________________________________\n",
      "None\n"
     ]
    }
   ],
   "source": [
    "ann_2h_unisoftsigbinlosadam = ann_2h(neurons=197,\n",
    "                                      encoded_train_x=enc_train_x_asam,\n",
    "                                      init_mode='uniform',\n",
    "                                      activation_input='softsign',\n",
    "                                      weight_constraint=5,\n",
    "                                      dropout_rate=0.0,\n",
    "                                      activation_output='sigmoid',\n",
    "                                      loss='binary_crossentropy',\n",
    "                                      optimizer='Adam')"
   ]
  },
  {
   "cell_type": "code",
   "execution_count": 66,
   "metadata": {},
   "outputs": [
    {
     "name": "stdout",
     "output_type": "stream",
     "text": [
      "Mon Jun 10 17:03:31 2019\n",
      "Train on 280496 samples, validate on 70124 samples\n",
      "Epoch 1/200\n",
      "280496/280496 [==============================] - 7s 24us/step - loss: 0.1932 - acc: 0.9064 - val_loss: 0.1015 - val_acc: 0.9485\n",
      "Epoch 2/200\n",
      "280496/280496 [==============================] - 6s 22us/step - loss: 0.0992 - acc: 0.9501 - val_loss: 0.0824 - val_acc: 0.9593\n",
      "Epoch 3/200\n",
      "280496/280496 [==============================] - 6s 22us/step - loss: 0.0807 - acc: 0.9599 - val_loss: 0.0769 - val_acc: 0.9630\n",
      "Epoch 4/200\n",
      "280496/280496 [==============================] - 6s 22us/step - loss: 0.0677 - acc: 0.9676 - val_loss: 0.0677 - val_acc: 0.9690\n",
      "Epoch 5/200\n",
      "280496/280496 [==============================] - 6s 22us/step - loss: 0.0562 - acc: 0.9738 - val_loss: 0.0471 - val_acc: 0.9798\n",
      "Epoch 6/200\n",
      "280496/280496 [==============================] - 6s 22us/step - loss: 0.0482 - acc: 0.9776 - val_loss: 0.0556 - val_acc: 0.9752\n",
      "Epoch 7/200\n",
      "280496/280496 [==============================] - 6s 22us/step - loss: 0.0412 - acc: 0.9815 - val_loss: 0.0510 - val_acc: 0.9777\n",
      "Epoch 8/200\n",
      "280496/280496 [==============================] - 6s 22us/step - loss: 0.0373 - acc: 0.9834 - val_loss: 0.0350 - val_acc: 0.9832\n",
      "Epoch 9/200\n",
      "280496/280496 [==============================] - 6s 22us/step - loss: 0.0326 - acc: 0.9854 - val_loss: 0.0331 - val_acc: 0.9850\n",
      "Epoch 10/200\n",
      "280496/280496 [==============================] - 6s 22us/step - loss: 0.0316 - acc: 0.9859 - val_loss: 0.0277 - val_acc: 0.9879\n",
      "Epoch 11/200\n",
      "280496/280496 [==============================] - 6s 22us/step - loss: 0.0290 - acc: 0.9872 - val_loss: 0.0257 - val_acc: 0.9883\n",
      "Epoch 12/200\n",
      "280496/280496 [==============================] - 6s 22us/step - loss: 0.0266 - acc: 0.9887 - val_loss: 0.0315 - val_acc: 0.9867\n",
      "Epoch 13/200\n",
      "280496/280496 [==============================] - 6s 21us/step - loss: 0.0274 - acc: 0.9883 - val_loss: 0.0192 - val_acc: 0.9916\n",
      "Epoch 14/200\n",
      "280496/280496 [==============================] - 6s 22us/step - loss: 0.0244 - acc: 0.9894 - val_loss: 0.0298 - val_acc: 0.9865\n",
      "Epoch 15/200\n",
      "280496/280496 [==============================] - 6s 22us/step - loss: 0.0235 - acc: 0.9898 - val_loss: 0.0213 - val_acc: 0.9920\n",
      "Epoch 16/200\n",
      "280496/280496 [==============================] - 6s 22us/step - loss: 0.0229 - acc: 0.9903 - val_loss: 0.0196 - val_acc: 0.9920\n",
      "Epoch 17/200\n",
      "280496/280496 [==============================] - 6s 22us/step - loss: 0.0215 - acc: 0.9909 - val_loss: 0.0154 - val_acc: 0.9929\n",
      "Epoch 18/200\n",
      "280496/280496 [==============================] - 6s 21us/step - loss: 0.0208 - acc: 0.9911 - val_loss: 0.0156 - val_acc: 0.9930\n",
      "Epoch 19/200\n",
      "280496/280496 [==============================] - 6s 22us/step - loss: 0.0202 - acc: 0.9913 - val_loss: 0.0154 - val_acc: 0.9935\n",
      "Epoch 20/200\n",
      "280496/280496 [==============================] - 6s 21us/step - loss: 0.0190 - acc: 0.9917 - val_loss: 0.0167 - val_acc: 0.9932\n",
      "Epoch 21/200\n",
      "280496/280496 [==============================] - 6s 21us/step - loss: 0.0182 - acc: 0.9922 - val_loss: 0.0129 - val_acc: 0.9946\n",
      "Epoch 22/200\n",
      "280496/280496 [==============================] - 6s 21us/step - loss: 0.0184 - acc: 0.9922 - val_loss: 0.0159 - val_acc: 0.9928\n",
      "Epoch 23/200\n",
      "280496/280496 [==============================] - 6s 21us/step - loss: 0.0172 - acc: 0.9928 - val_loss: 0.0163 - val_acc: 0.9929\n",
      "Epoch 24/200\n",
      "280496/280496 [==============================] - 6s 21us/step - loss: 0.0171 - acc: 0.9928 - val_loss: 0.0129 - val_acc: 0.9949\n",
      "Epoch 25/200\n",
      "280496/280496 [==============================] - 6s 21us/step - loss: 0.0167 - acc: 0.9928 - val_loss: 0.0140 - val_acc: 0.9942\n",
      "Epoch 26/200\n",
      "280496/280496 [==============================] - 6s 21us/step - loss: 0.0164 - acc: 0.9932 - val_loss: 0.0151 - val_acc: 0.9937\n",
      "--- ANN spent 158.9510440826416 seconds ---\n"
     ]
    }
   ],
   "source": [
    "hist_ann_2h_unisoftsigbinlosadam = ann_fit(checkpoint_file = \"ann_2h_unisoftsigbinlosadam_redds100bal.h5\",\n",
    "                                        ann = ann_2h_unisoftsigbinlosadam,\n",
    "                                        enc_train_x = enc_train_x_asam,\n",
    "                                        train_y = train_y,\n",
    "                                        epochs = 200,\n",
    "                                        shuffle = True,\n",
    "                                        batch_size = 197)"
   ]
  },
  {
   "cell_type": "code",
   "execution_count": 67,
   "metadata": {},
   "outputs": [
    {
     "data": {
      "text/plain": [
       "[array([[-0.33809593,  0.18339203, -0.05820699, ...,  0.00622355,\n",
       "          0.1292724 ,  0.19632725],\n",
       "        [ 0.10242213,  0.07285095, -0.09593306, ..., -0.11746947,\n",
       "          0.05461504,  0.14450881],\n",
       "        [ 0.17260912, -0.27859548, -0.3731489 , ..., -0.15466368,\n",
       "         -0.02157056, -0.0965628 ],\n",
       "        ...,\n",
       "        [-0.29469988, -0.15000366, -0.01136683, ...,  0.03979791,\n",
       "         -0.0009403 ,  0.12171873],\n",
       "        [ 0.28233454, -0.02594135, -0.29140225, ..., -0.14933765,\n",
       "          0.24773662,  0.12092172],\n",
       "        [-0.24573813, -0.28913882,  0.05755954, ..., -0.03857537,\n",
       "          0.32675502,  0.35283533]], dtype=float32),\n",
       " array([-0.05062636, -0.03712564,  0.01963398, -0.06001037, -0.00206709,\n",
       "         0.02931684, -0.00323904, -0.01422545, -0.02991621,  0.00789905,\n",
       "        -0.10763286, -0.04559083,  0.05011971,  0.02898466, -0.02241161,\n",
       "         0.02296308, -0.03120034, -0.01891614,  0.08429284,  0.08527653,\n",
       "        -0.03942732,  0.01852222,  0.01065726,  0.00218295,  0.05805109,\n",
       "        -0.08780722,  0.00053709,  0.06740472, -0.00094342,  0.07475327,\n",
       "        -0.00237279, -0.08182052, -0.03181914,  0.1305716 , -0.01785966,\n",
       "         0.00085999, -0.02101937, -0.05714117,  0.02414097,  0.04744067,\n",
       "         0.10424554,  0.03023702, -0.0022816 , -0.04717496,  0.07659275,\n",
       "        -0.01845395, -0.01906022, -0.0936211 ,  0.03482159,  0.07768156,\n",
       "         0.0780757 ,  0.03628295, -0.0154536 , -0.01436721,  0.03318358,\n",
       "         0.02979665,  0.06856087, -0.03296685,  0.03564068, -0.01136184,\n",
       "        -0.00446497, -0.03237274,  0.01832605,  0.02555909,  0.01551299,\n",
       "        -0.05781016, -0.10252138, -0.02661934, -0.06469512, -0.05844189,\n",
       "         0.09453051,  0.03005676, -0.06423256, -0.02700355, -0.0273416 ,\n",
       "         0.00622131,  0.05435146,  0.07602163,  0.00586737,  0.06433159,\n",
       "        -0.00635341,  0.007517  , -0.01782984, -0.10513601, -0.0498456 ,\n",
       "         0.00236977, -0.03328644,  0.00535955,  0.10421195,  0.0759664 ,\n",
       "         0.01632114, -0.03051054, -0.02106841, -0.05613809, -0.01391648,\n",
       "         0.0724182 ,  0.05185975,  0.06943522, -0.13893524,  0.05649114,\n",
       "        -0.02225931, -0.00909704,  0.00055566, -0.12146935, -0.06164457,\n",
       "        -0.11217292,  0.08437462, -0.0051693 , -0.00745072, -0.05297101,\n",
       "        -0.06187465, -0.05055542,  0.08282016, -0.01461907,  0.09107944,\n",
       "         0.05586159,  0.09108588,  0.00463298, -0.08112404,  0.11283464,\n",
       "        -0.01995588, -0.00983373, -0.00307866,  0.01828075,  0.04289831,\n",
       "        -0.02446405, -0.0810978 , -0.03177238, -0.00417939, -0.00295737,\n",
       "         0.04278687,  0.05080585,  0.03693773, -0.02025749, -0.05079668,\n",
       "         0.01470547, -0.08856404, -0.02504236, -0.0574351 , -0.07356828,\n",
       "         0.07245144,  0.07389243,  0.05324456,  0.07828965, -0.02618984,\n",
       "         0.02171396,  0.07164324,  0.01265588,  0.00363942, -0.02085018,\n",
       "         0.05781327,  0.05422908,  0.03693496,  0.05514021, -0.00491615,\n",
       "         0.00860896, -0.01071739, -0.01667863, -0.07366218, -0.06279681,\n",
       "        -0.04417574,  0.00330179,  0.00490787,  0.07301731, -0.05788409,\n",
       "         0.00500367, -0.01566171,  0.04677672, -0.01382265, -0.05158117,\n",
       "         0.08387739, -0.07826072,  0.01391545, -0.01266589, -0.07587567,\n",
       "        -0.05429689,  0.01122201,  0.03827606,  0.06974778,  0.09153027,\n",
       "         0.03465924, -0.04360647,  0.05418696,  0.01544358, -0.1133774 ,\n",
       "        -0.09957665, -0.01784181,  0.03961965, -0.06231201, -0.02915255,\n",
       "         0.05269369, -0.03384678, -0.03999043, -0.01814502, -0.00419591,\n",
       "        -0.01128097,  0.11514767], dtype=float32),\n",
       " array([[ 0.28671098,  0.09917776, -0.04761982, ...,  0.03121161,\n",
       "          0.01516071,  0.24263938],\n",
       "        [ 0.00962349,  0.0499324 ,  0.03733596, ..., -0.0170345 ,\n",
       "         -0.06020895, -0.01751433],\n",
       "        [ 0.13456741,  0.14655446,  0.19812348, ...,  0.07417542,\n",
       "         -0.16379508, -0.07463819],\n",
       "        ...,\n",
       "        [-0.11942785,  0.00963857,  0.27633917, ...,  0.15301768,\n",
       "          0.0862317 , -0.22654998],\n",
       "        [-0.13409305,  0.06750288,  0.04388212, ..., -0.03282861,\n",
       "          0.06972651,  0.22206321],\n",
       "        [-0.3964024 ,  0.08770157, -0.00522711, ..., -0.1488318 ,\n",
       "         -0.14357452,  0.19847155]], dtype=float32),\n",
       " array([-0.0624776 , -0.17588323, -0.22631472, -0.25626966, -0.2476445 ,\n",
       "        -0.14973159, -0.08033136, -0.05590115, -0.06662989, -0.22169778,\n",
       "        -0.12571315, -0.23853773, -0.1531553 , -0.1089629 , -0.21011446,\n",
       "        -0.27459985,  0.01349986, -0.08917431, -0.06559416, -0.19092146,\n",
       "        -0.08335467, -0.1910628 , -0.24140318, -0.26588902, -0.12242129,\n",
       "        -0.05002541, -0.0436798 , -0.06128347, -0.03725205, -0.11524912,\n",
       "        -0.25200403, -0.2055374 , -0.07693217, -0.24345422, -0.2291063 ,\n",
       "        -0.0733484 , -0.22304857, -0.07068785, -0.16927673, -0.21789186,\n",
       "         0.04251039, -0.0755168 , -0.08390042, -0.26429835, -0.05069394,\n",
       "        -0.05910044, -0.26129436, -0.06756558, -0.23615737,  0.06102632,\n",
       "        -0.18442474, -0.2252753 , -0.18185857, -0.14190833, -0.02627006,\n",
       "        -0.1733652 , -0.09829586, -0.15042725, -0.04860481, -0.20839304,\n",
       "        -0.07351542, -0.11162976, -0.25929537, -0.14527053, -0.15732127,\n",
       "        -0.10242899, -0.19891715,  0.01619132, -0.21407504, -0.23878062,\n",
       "        -0.09097758, -0.163208  , -0.1886478 , -0.15731108, -0.14010112,\n",
       "        -0.20634104, -0.08495284, -0.23735628, -0.1460625 , -0.12784033,\n",
       "        -0.01641959, -0.19531353, -0.2378559 , -0.19444951, -0.16360795,\n",
       "        -0.1606767 , -0.09491823, -0.10284164, -0.1048276 , -0.17009388,\n",
       "        -0.09881949, -0.07286324, -0.12635002, -0.04259963, -0.15172361,\n",
       "        -0.10754693, -0.09328541, -0.06760278, -0.28271547, -0.03167538,\n",
       "        -0.21293794, -0.11249367, -0.14513259, -0.14446494, -0.10270923,\n",
       "        -0.13357773, -0.25971746, -0.1498971 , -0.20412962, -0.23016529,\n",
       "        -0.19196008, -0.11172618, -0.07233288, -0.14137849, -0.04146657,\n",
       "        -0.2629493 , -0.18019639, -0.24331711, -0.08138725, -0.15643394,\n",
       "        -0.11706355, -0.18809655, -0.08285525, -0.26979682, -0.12872575,\n",
       "        -0.19642295, -0.09088621, -0.11881199, -0.3503647 , -0.09578681,\n",
       "        -0.26608828, -0.1447448 , -0.18806247, -0.09533623, -0.160388  ,\n",
       "        -0.17062517, -0.12021923, -0.30261698, -0.1488906 , -0.17078339,\n",
       "        -0.28993398, -0.15796177, -0.16664398, -0.17398867, -0.11766119],\n",
       "       dtype=float32),\n",
       " array([[-0.04920105,  0.06927544,  0.02694122, ..., -0.03501277,\n",
       "         -0.07349284, -0.1225436 ],\n",
       "        [ 0.11430849,  0.22086468, -0.18223159, ...,  0.02574684,\n",
       "          0.00977696,  0.02873837],\n",
       "        [-0.09476152,  0.02557843, -0.08473992, ...,  0.04950641,\n",
       "         -0.10297123,  0.09695786],\n",
       "        ...,\n",
       "        [ 0.01118956, -0.20239462, -0.22397391, ...,  0.07597337,\n",
       "         -0.07155546,  0.02865906],\n",
       "        [ 0.01065906,  0.01481215,  0.18160754, ...,  0.05876987,\n",
       "         -0.08903272,  0.12208191],\n",
       "        [ 0.37649053, -0.0303484 , -0.56025076, ..., -0.09681638,\n",
       "         -0.06165102, -0.6016671 ]], dtype=float32),\n",
       " array([ 0.15917337,  0.08373702, -0.0956267 ,  0.3755703 ,  0.04150388,\n",
       "         0.09445316, -0.22435911,  0.29118648,  0.09217808, -0.13151936,\n",
       "         0.09568479,  0.15004261,  0.00109088, -0.06020146,  0.10054371,\n",
       "        -0.05832445,  0.03021908, -0.19598308,  0.04475205,  0.18185265,\n",
       "         0.24549316, -0.15135482,  0.13437621,  0.03270555, -0.4579408 ,\n",
       "        -0.03040831, -0.14053181, -0.17745085, -0.0090422 , -0.05031813,\n",
       "         0.0331235 ,  0.11079953,  0.03359916, -0.01077691,  0.0243812 ,\n",
       "         0.00908267,  0.00205946, -0.04361115, -0.05223994,  0.21744929,\n",
       "         0.09734109,  0.2589787 ,  0.12692209, -0.01575339,  0.10650945,\n",
       "        -0.14668937,  0.18732736,  0.14847218,  0.14957125, -0.19023344,\n",
       "         0.40940762,  0.20945801,  0.21628806,  0.12429567,  0.22573473,\n",
       "        -0.05286863,  0.07453465,  0.1548059 , -0.1508741 , -0.10967397,\n",
       "         0.04157897, -0.06742392,  0.17377013, -0.10314701, -0.06493247,\n",
       "         0.03038095,  0.05585658,  0.02180119,  0.36129004, -0.09023285,\n",
       "        -0.08199159,  0.12740327,  0.06374317,  0.08635183, -0.21839073,\n",
       "         0.2127549 ,  0.1595587 ,  0.17307928,  0.36726692,  0.1762188 ,\n",
       "        -0.04387769, -0.04294734, -0.11400258,  0.28719163, -0.07800855,\n",
       "         0.1564261 ,  0.18315908, -0.1849412 , -0.07753725, -0.06028907,\n",
       "         0.05045598, -0.03843981, -0.13049744, -0.07068954, -0.01748525],\n",
       "       dtype=float32),\n",
       " array([1.2334144e+00, 1.2443290e+00, 1.3502417e+00, 9.9447966e-01,\n",
       "        1.3267612e+00, 1.1366097e+00, 1.3822773e+00, 1.2532749e+00,\n",
       "        1.1283884e+00, 1.3528770e+00, 1.3335540e+00, 1.3570184e+00,\n",
       "        8.0961746e-01, 1.2374907e+00, 1.2204740e+00, 9.6067154e-01,\n",
       "        1.2476774e+00, 1.4077337e+00, 1.2178963e+00, 1.2705656e+00,\n",
       "        1.3941357e+00, 1.3785177e+00, 1.3594043e+00, 1.1737419e+00,\n",
       "        1.1212828e+00, 1.2966671e+00, 1.3323952e+00, 1.3060945e+00,\n",
       "        1.4605837e+00, 9.7814655e-01, 1.3395846e+00, 1.2557343e+00,\n",
       "        1.2545860e+00, 1.3018674e+00, 1.2998849e+00, 1.3132055e+00,\n",
       "        1.1977041e+00, 1.2725563e+00, 9.5310676e-01, 1.4630923e+00,\n",
       "        1.3155888e+00, 1.4526136e+00, 1.4018940e+00, 1.4336052e+00,\n",
       "        1.3442311e+00, 1.4292439e+00, 1.3753794e+00, 1.1564003e+00,\n",
       "        1.0927489e+00, 1.4380225e+00, 1.3006108e+00, 1.3870522e+00,\n",
       "        7.5524267e-06, 1.2608914e+00, 1.3565836e+00, 9.5586044e-01,\n",
       "        1.4044997e+00, 1.3733006e+00, 1.2338705e+00, 9.8853314e-01,\n",
       "        1.3053677e+00, 9.3898267e-01, 1.1903300e+00, 9.1335571e-01,\n",
       "        9.4051629e-01, 1.2345718e+00, 1.3574299e+00, 1.3792990e+00,\n",
       "        1.2585326e+00, 1.2100285e+00, 1.4235702e+00, 1.2209907e+00,\n",
       "        1.1667929e+00, 1.3160133e+00, 1.0789856e+00, 1.1993145e+00,\n",
       "        1.4814764e+00, 1.3691224e+00, 9.1911107e-01, 1.2497854e+00,\n",
       "        9.7568411e-01, 9.8052269e-01, 1.2436386e+00, 1.5865051e+00,\n",
       "        1.3239293e+00, 1.2769823e+00, 1.3745904e+00, 1.1841298e+00,\n",
       "        8.7778103e-01, 9.5940977e-01, 1.3623571e+00, 9.4333178e-01,\n",
       "        9.8640776e-01, 9.0789306e-01, 1.2686399e+00], dtype=float32),\n",
       " array([ 4.99906540e-02,  4.54003401e-02,  1.68514568e-02, -1.11887731e-01,\n",
       "         4.62113544e-02,  4.78347801e-02, -1.09108631e-02,  1.41341239e-03,\n",
       "         1.14408210e-01,  3.94379310e-02,  1.83000453e-02,  2.84247138e-02,\n",
       "         4.55290033e-03,  1.08487578e-02,  1.41986636e-02, -2.84161661e-02,\n",
       "         5.69815636e-02,  1.73529722e-02, -1.38208205e-02,  5.64089641e-02,\n",
       "        -6.13342389e-04,  1.72477099e-03,  7.35972449e-02,  5.74037991e-02,\n",
       "        -2.55234614e-02,  4.06769849e-02, -5.17768459e-03,  3.18647884e-02,\n",
       "         4.40820009e-02, -9.92909422e-13,  3.50622237e-02,  8.05314258e-02,\n",
       "         6.31607324e-02,  4.61326167e-02,  4.52524871e-02,  1.38674853e-02,\n",
       "         5.56840077e-02,  5.72285615e-03, -1.82808246e-04,  3.66146229e-02,\n",
       "         2.40323562e-02,  2.59877555e-02,  7.87303783e-03,  4.85833250e-02,\n",
       "         2.79271044e-02,  1.48115912e-04,  2.23619444e-03,  6.50509372e-02,\n",
       "         1.73948538e-02,  1.47166615e-03, -9.13750380e-03,  2.12741978e-02,\n",
       "        -2.76947958e-06,  3.52212600e-02,  3.63128595e-02,  3.62657602e-07,\n",
       "         4.51850370e-02,  2.29024421e-02, -4.95578721e-03, -1.92341749e-02,\n",
       "         1.14788134e-02, -1.01290079e-08,  4.72049490e-02, -5.05105816e-02,\n",
       "         2.37629968e-12,  5.69704100e-02,  2.30858158e-02,  3.11329700e-02,\n",
       "        -1.75118707e-02,  7.57926097e-03,  8.02236199e-02,  5.45401983e-02,\n",
       "         5.00600822e-02,  4.06964608e-02, -3.88532430e-02,  3.08320727e-02,\n",
       "         1.10575212e-02,  2.55598761e-02, -8.13006461e-02,  5.52410409e-02,\n",
       "         1.78424548e-02, -2.45022338e-34,  2.00193524e-02,  4.64313757e-03,\n",
       "         1.06996521e-02,  3.95175517e-02,  1.79472081e-02,  3.59444916e-02,\n",
       "         9.59753450e-08, -1.32354070e-02,  1.35106621e-02,  3.12385211e-08,\n",
       "        -1.70002835e-07,  4.85645421e-03,  2.02638023e-02], dtype=float32),\n",
       " array([4.70654696e-01, 4.13937241e-01, 1.31037697e-01, 7.66684264e-02,\n",
       "        4.19852346e-01, 1.92197219e-01, 1.01540033e-02, 2.37816453e-01,\n",
       "        3.48393232e-01, 1.42844483e-01, 2.96819597e-01, 3.51131707e-01,\n",
       "        2.41079628e-01, 3.89851153e-01, 3.78005058e-01, 1.22848199e-25,\n",
       "        1.04781494e-01, 1.16681598e-01, 1.38101606e-02, 2.03517169e-01,\n",
       "        5.95234782e-02, 1.76255181e-01, 2.26946115e-01, 2.54768997e-01,\n",
       "        4.62800125e-03, 1.23928979e-01, 5.47123328e-02, 3.46202850e-02,\n",
       "        7.88971558e-02, 2.14186731e-14, 4.59093116e-02, 9.50735509e-02,\n",
       "        3.57901514e-01, 3.07756990e-01, 3.57485682e-01, 4.53226954e-01,\n",
       "        2.83622265e-01, 2.30915844e-01, 1.70652259e-09, 4.18485492e-01,\n",
       "        1.87395319e-01, 1.09437220e-01, 4.56772387e-01, 9.56039280e-02,\n",
       "        3.26282024e-01, 6.50881156e-02, 1.16748795e-01, 2.48029992e-01,\n",
       "        2.54930049e-01, 5.04304171e-02, 8.99586603e-02, 6.62612990e-02,\n",
       "        9.32226241e-01, 2.62116664e-03, 4.99386974e-02, 1.16625636e-36,\n",
       "        2.16980532e-01, 1.16769433e-01, 5.10510057e-02, 1.48955211e-01,\n",
       "        1.89849198e-01, 1.17056259e-36, 3.64610106e-01, 2.86560684e-01,\n",
       "        2.15088926e-33, 1.74298525e-01, 1.10590011e-01, 8.64558071e-02,\n",
       "        1.14060994e-02, 3.96803841e-02, 2.50112534e-01, 2.09088564e-01,\n",
       "        5.04197896e-01, 5.78745194e-02, 5.95064051e-02, 1.73872173e-01,\n",
       "        1.02582134e-01, 1.23501651e-01, 3.70066285e-01, 3.79772276e-01,\n",
       "        1.16854651e-36, 1.16598157e-36, 5.28452024e-02, 7.85367936e-02,\n",
       "        1.46525323e-01, 1.33752063e-01, 2.37178922e-01, 9.93077364e-03,\n",
       "        1.17385575e-36, 1.13781380e-11, 2.70589828e-01, 1.17301766e-36,\n",
       "        2.74601652e-32, 1.92296326e-07, 5.80104403e-02], dtype=float32),\n",
       " array([5.91207504e-01, 5.02151430e-01, 1.36260107e-01, 5.44765070e-02,\n",
       "        4.72756714e-01, 1.97001487e-01, 7.43663218e-03, 2.10669354e-01,\n",
       "        4.77860242e-01, 1.74222171e-01, 3.71236384e-01, 4.17017221e-01,\n",
       "        2.29067072e-01, 5.27163506e-01, 4.95391220e-01, 3.00943466e-29,\n",
       "        9.58414897e-02, 1.18169196e-01, 6.49772072e-03, 1.91133469e-01,\n",
       "        3.73032540e-02, 2.42630109e-01, 2.93457419e-01, 3.26913327e-01,\n",
       "        3.36674857e-03, 1.58724308e-01, 4.64383699e-02, 2.43873950e-02,\n",
       "        6.65064603e-02, 5.37317302e-17, 3.70043628e-02, 7.58227184e-02,\n",
       "        4.62226123e-01, 3.42861265e-01, 4.48680729e-01, 6.16666377e-01,\n",
       "        4.50609624e-01, 2.10392088e-01, 2.48596087e-12, 6.15674913e-01,\n",
       "        1.83750361e-01, 7.62110502e-02, 5.56003571e-01, 8.95329639e-02,\n",
       "        3.59454274e-01, 6.28023967e-02, 9.27132517e-02, 2.61883497e-01,\n",
       "        2.86136687e-01, 6.47675470e-02, 5.47881834e-02, 4.80657071e-02,\n",
       "        1.21769118e+00, 1.05723133e-03, 3.47261503e-02, 1.17466415e-36,\n",
       "        1.99818656e-01, 8.92527550e-02, 4.22754921e-02, 1.51625261e-01,\n",
       "        1.33653164e-01, 1.17163313e-36, 3.81454438e-01, 3.50520819e-01,\n",
       "        8.16238625e-36, 1.83601439e-01, 9.93046537e-02, 8.15113634e-02,\n",
       "        4.86248219e-03, 2.34025959e-02, 2.93714046e-01, 2.61836588e-01,\n",
       "        7.84348071e-01, 4.77122627e-02, 5.48441596e-02, 1.31385416e-01,\n",
       "        7.26617202e-02, 1.10613301e-01, 3.88649881e-01, 5.00509024e-01,\n",
       "        1.16498089e-36, 1.17244988e-36, 4.55880128e-02, 6.23661019e-02,\n",
       "        1.42380759e-01, 1.04445383e-01, 2.07372963e-01, 5.90862893e-03,\n",
       "        1.17162067e-36, 6.30273015e-14, 3.66807342e-01, 1.17063093e-36,\n",
       "        1.15849891e-33, 1.64927627e-08, 4.03138809e-02], dtype=float32),\n",
       " array([[-4.2215246e-01],\n",
       "        [-4.4534236e-01],\n",
       "        [ 4.2123356e-01],\n",
       "        [ 1.7170291e-01],\n",
       "        [-4.9274158e-01],\n",
       "        [-3.4238410e-01],\n",
       "        [ 4.6306923e-01],\n",
       "        [ 3.5913730e-01],\n",
       "        [-2.7256989e-01],\n",
       "        [-4.9559364e-01],\n",
       "        [ 3.4556615e-01],\n",
       "        [ 3.8347915e-01],\n",
       "        [-1.9810884e-03],\n",
       "        [ 4.6824342e-01],\n",
       "        [ 3.7906912e-01],\n",
       "        [ 2.8415959e-02],\n",
       "        [-3.5285479e-01],\n",
       "        [-5.7496941e-01],\n",
       "        [ 2.8186703e-01],\n",
       "        [-4.0807420e-01],\n",
       "        [ 4.4037235e-01],\n",
       "        [ 5.5292493e-01],\n",
       "        [-4.2325899e-01],\n",
       "        [-3.5068896e-01],\n",
       "        [ 3.2808796e-01],\n",
       "        [-5.1341122e-01],\n",
       "        [ 5.3422982e-01],\n",
       "        [-3.5773563e-01],\n",
       "        [-5.3951716e-01],\n",
       "        [ 5.3052831e-13],\n",
       "        [-4.4824010e-01],\n",
       "        [-3.1408197e-01],\n",
       "        [-3.2190979e-01],\n",
       "        [-4.3713138e-01],\n",
       "        [-5.1080209e-01],\n",
       "        [ 4.4348174e-01],\n",
       "        [-3.9759344e-01],\n",
       "        [ 4.5603672e-01],\n",
       "        [-1.5634258e-04],\n",
       "        [-6.7473727e-01],\n",
       "        [ 3.6883679e-01],\n",
       "        [-6.4708549e-01],\n",
       "        [ 5.5424869e-01],\n",
       "        [-5.3911722e-01],\n",
       "        [ 3.4771079e-01],\n",
       "        [ 5.7881492e-01],\n",
       "        [ 5.2558059e-01],\n",
       "        [-3.3983278e-01],\n",
       "        [ 3.3289263e-01],\n",
       "        [ 4.5686102e-01],\n",
       "        [ 3.9213833e-01],\n",
       "        [-5.5973899e-01],\n",
       "        [ 5.7439102e-06],\n",
       "        [ 3.0645889e-01],\n",
       "        [-5.2714568e-01],\n",
       "        [-3.6263526e-07],\n",
       "        [-5.8581847e-01],\n",
       "        [ 4.5079049e-01],\n",
       "        [-3.7557891e-01],\n",
       "        [-2.6201156e-01],\n",
       "        [ 4.8769322e-01],\n",
       "        [-9.9035748e-09],\n",
       "        [-2.9082385e-01],\n",
       "        [-1.6217345e-01],\n",
       "        [ 2.3622573e-12],\n",
       "        [-3.9324155e-01],\n",
       "        [ 4.0832248e-01],\n",
       "        [-5.5399114e-01],\n",
       "        [ 3.3376953e-01],\n",
       "        [ 4.2633489e-01],\n",
       "        [-4.1274384e-01],\n",
       "        [-3.8052651e-01],\n",
       "        [-3.9320016e-01],\n",
       "        [-4.5268697e-01],\n",
       "        [ 2.5818682e-01],\n",
       "        [-4.3761060e-01],\n",
       "        [ 5.2492440e-01],\n",
       "        [-5.7543385e-01],\n",
       "        [ 1.4524321e-01],\n",
       "        [-4.0386751e-01],\n",
       "        [-1.7788794e-02],\n",
       "        [ 6.1333805e-35],\n",
       "        [-4.6414730e-01],\n",
       "        [ 6.9997919e-01],\n",
       "        [ 4.7364289e-01],\n",
       "        [-5.1200271e-01],\n",
       "        [ 4.7151369e-01],\n",
       "        [ 2.5568885e-01],\n",
       "        [ 9.6191933e-08],\n",
       "        [ 1.3108262e-02],\n",
       "        [ 5.3956610e-01],\n",
       "        [-9.4708298e-08],\n",
       "        [ 1.7075254e-07],\n",
       "        [-1.7416868e-02],\n",
       "        [-3.3836406e-01]], dtype=float32),\n",
       " array([-0.01527396], dtype=float32)]"
      ]
     },
     "execution_count": 67,
     "metadata": {},
     "output_type": "execute_result"
    }
   ],
   "source": [
    "hist_ann_2h_unisoftsigbinlosadam.model.get_weights()"
   ]
  },
  {
   "cell_type": "code",
   "execution_count": 68,
   "metadata": {},
   "outputs": [
    {
     "name": "stdout",
     "output_type": "stream",
     "text": [
      "Best loss value: 0.01636940101247013\n"
     ]
    },
    {
     "data": {
      "image/png": "[encoded data removed]",
      "text/plain": [
       "<Figure size 432x288 with 1 Axes>"
      ]
     },
     "metadata": {
      "needs_background": "light"
     },
     "output_type": "display_data"
    }
   ],
   "source": [
    "best_loss_value_ann_2h_unisoftsigbinlosadam = plot_hist_auto(hist_ann_2h_unisoftsigbinlosadam, './Figures/ann_2h_unisoftsigbinlosadam.png')"
   ]
  },
  {
   "cell_type": "code",
   "execution_count": 69,
   "metadata": {},
   "outputs": [
    {
     "name": "stdout",
     "output_type": "stream",
     "text": [
      "Overall accuracy of Neural Network model: 0.9934014785068905\n",
      "              precision    recall  f1-score   support\n",
      "\n",
      "           0     0.9959    0.9909    0.9934     54737\n",
      "           1     0.9909    0.9959    0.9934     54833\n",
      "\n",
      "   micro avg     0.9934    0.9934    0.9934    109570\n",
      "   macro avg     0.9934    0.9934    0.9934    109570\n",
      "weighted avg     0.9934    0.9934    0.9934    109570\n",
      "\n"
     ]
    }
   ],
   "source": [
    "pred_ann_2h_prob_unisoftsigbinlosadam, pred_ann_2h_01_unisoftsigbinlosadam = ann_predict(ann_2h_unisoftsigbinlosadam,enc_test_x_asam)"
   ]
  },
  {
   "cell_type": "code",
   "execution_count": 70,
   "metadata": {},
   "outputs": [
    {
     "data": {
      "image/png": "[encoded data removed]",
      "text/plain": [
       "<Figure size 432x288 with 1 Axes>"
      ]
     },
     "metadata": {
      "needs_background": "light"
     },
     "output_type": "display_data"
    },
    {
     "data": {
      "image/png": "[encoded data removed]",
      "text/plain": [
       "<Figure size 576x432 with 2 Axes>"
      ]
     },
     "metadata": {
      "needs_background": "light"
     },
     "output_type": "display_data"
    }
   ],
   "source": [
    "plot_roc_cm(pred_ann_2h_01_unisoftsigbinlosadam, pred_ann_2h_01_unisoftsigbinlosadam, './Figures/ROC_ann_2h_unisoftsigbinlosadam_redds10bal.png', './Figures/CM_ann_2h_unisoftsigbinlosadam_redds10bal.png')"
   ]
  },
  {
   "cell_type": "code",
   "execution_count": null,
   "metadata": {},
   "outputs": [],
   "source": []
  },
  {
   "cell_type": "code",
   "execution_count": null,
   "metadata": {},
   "outputs": [],
   "source": []
  },
  {
   "cell_type": "code",
   "execution_count": 71,
   "metadata": {},
   "outputs": [
    {
     "name": "stdout",
     "output_type": "stream",
     "text": [
      "_________________________________________________________________\n",
      "Layer (type)                 Output Shape              Param #   \n",
      "=================================================================\n",
      "dense_18 (Dense)             (None, 197)               26004     \n",
      "_________________________________________________________________\n",
      "dense_19 (Dense)             (None, 145)               28710     \n",
      "_________________________________________________________________\n",
      "dense_20 (Dense)             (None, 95)                13870     \n",
      "_________________________________________________________________\n",
      "batch_normalization_5 (Batch (None, 95)                380       \n",
      "_________________________________________________________________\n",
      "dropout_5 (Dropout)          (None, 95)                0         \n",
      "_________________________________________________________________\n",
      "dense_21 (Dense)             (None, 1)                 96        \n",
      "=================================================================\n",
      "Total params: 69,060\n",
      "Trainable params: 68,870\n",
      "Non-trainable params: 190\n",
      "_________________________________________________________________\n",
      "None\n"
     ]
    }
   ],
   "source": [
    "ann_2h_unisoftsigbinlosadam2 = ann_2h_(neurons=197,\n",
    "                                      encoded_train_x=enc_train_x_asal,\n",
    "#                                       init_mode='glorot_uniform',\n",
    "                                       init_mode='VarianceScaling',\n",
    "#                                       activation_input='softsign',\n",
    "                                      activation_input='relu',\n",
    "#                                       weight_constraint=5,\n",
    "                                      dropout_rate=0.0,\n",
    "                                      activation_output='sigmoid',\n",
    "                                      loss='binary_crossentropy',\n",
    "                                      lr=0.05)"
   ]
  },
  {
   "cell_type": "code",
   "execution_count": 72,
   "metadata": {},
   "outputs": [
    {
     "name": "stdout",
     "output_type": "stream",
     "text": [
      "Mon Jun 10 17:06:13 2019\n",
      "Train on 280496 samples, validate on 70124 samples\n",
      "Epoch 1/200\n",
      "280496/280496 [==============================] - 7s 24us/step - loss: 0.2470 - acc: 0.8783 - val_loss: 0.1505 - val_acc: 0.9277\n",
      "Epoch 2/200\n",
      "280496/280496 [==============================] - 6s 21us/step - loss: 0.1148 - acc: 0.9444 - val_loss: 0.0972 - val_acc: 0.9517\n",
      "Epoch 3/200\n",
      "280496/280496 [==============================] - 6s 21us/step - loss: 0.0985 - acc: 0.9512 - val_loss: 0.0940 - val_acc: 0.9543\n",
      "Epoch 4/200\n",
      "280496/280496 [==============================] - 6s 22us/step - loss: 0.0873 - acc: 0.9569 - val_loss: 0.0763 - val_acc: 0.9606\n",
      "Epoch 5/200\n",
      "280496/280496 [==============================] - 6s 22us/step - loss: 0.0789 - acc: 0.9609 - val_loss: 0.0963 - val_acc: 0.9531\n",
      "Epoch 6/200\n",
      "280496/280496 [==============================] - 6s 22us/step - loss: 0.0749 - acc: 0.9637 - val_loss: 0.0794 - val_acc: 0.9612\n",
      "Epoch 7/200\n",
      "280496/280496 [==============================] - 6s 21us/step - loss: 0.0775 - acc: 0.9635 - val_loss: 0.0702 - val_acc: 0.9669\n",
      "Epoch 8/200\n",
      "280496/280496 [==============================] - 6s 21us/step - loss: 0.0691 - acc: 0.9670 - val_loss: 0.0755 - val_acc: 0.9615\n",
      "Epoch 9/200\n",
      "280496/280496 [==============================] - 6s 21us/step - loss: 0.0635 - acc: 0.9703 - val_loss: 0.0570 - val_acc: 0.9736\n",
      "Epoch 10/200\n",
      "280496/280496 [==============================] - 6s 22us/step - loss: 0.0554 - acc: 0.9740 - val_loss: 0.0500 - val_acc: 0.9754\n",
      "Epoch 11/200\n",
      "280496/280496 [==============================] - 6s 21us/step - loss: 0.0542 - acc: 0.9754 - val_loss: 0.0527 - val_acc: 0.9731\n",
      "Epoch 12/200\n",
      "280496/280496 [==============================] - 6s 21us/step - loss: 0.0497 - acc: 0.9773 - val_loss: 0.0501 - val_acc: 0.9763\n",
      "Epoch 13/200\n",
      "280496/280496 [==============================] - 6s 21us/step - loss: 0.0466 - acc: 0.9790 - val_loss: 0.0385 - val_acc: 0.9823\n",
      "Epoch 14/200\n",
      "280496/280496 [==============================] - 6s 21us/step - loss: 0.0460 - acc: 0.9797 - val_loss: 0.0402 - val_acc: 0.9811\n",
      "Epoch 15/200\n",
      "280496/280496 [==============================] - 6s 21us/step - loss: 0.0421 - acc: 0.9813 - val_loss: 0.0354 - val_acc: 0.9844\n",
      "Epoch 16/200\n",
      "280496/280496 [==============================] - 6s 21us/step - loss: 0.0382 - acc: 0.9832 - val_loss: 0.0345 - val_acc: 0.9844\n",
      "Epoch 17/200\n",
      "280496/280496 [==============================] - 6s 21us/step - loss: 0.0385 - acc: 0.9828 - val_loss: 0.0494 - val_acc: 0.9776\n",
      "Epoch 18/200\n",
      "280496/280496 [==============================] - 6s 21us/step - loss: 0.0359 - acc: 0.9840 - val_loss: 0.0289 - val_acc: 0.9866\n",
      "Epoch 19/200\n",
      "280496/280496 [==============================] - 6s 21us/step - loss: 0.0335 - acc: 0.9852 - val_loss: 0.0409 - val_acc: 0.9842\n",
      "Epoch 20/200\n",
      "280496/280496 [==============================] - 6s 21us/step - loss: 0.0335 - acc: 0.9854 - val_loss: 0.0240 - val_acc: 0.9894\n",
      "Epoch 21/200\n",
      "280496/280496 [==============================] - 6s 21us/step - loss: 0.0298 - acc: 0.9870 - val_loss: 0.0277 - val_acc: 0.9888\n",
      "Epoch 22/200\n",
      "280496/280496 [==============================] - 6s 21us/step - loss: 0.0309 - acc: 0.9865 - val_loss: 0.0259 - val_acc: 0.9886\n",
      "Epoch 23/200\n",
      "280496/280496 [==============================] - 6s 21us/step - loss: 0.0293 - acc: 0.9877 - val_loss: 0.0324 - val_acc: 0.9866\n",
      "Epoch 24/200\n",
      "280496/280496 [==============================] - 6s 21us/step - loss: 0.0269 - acc: 0.9887 - val_loss: 0.0256 - val_acc: 0.9886\n",
      "Epoch 25/200\n",
      "280496/280496 [==============================] - 6s 21us/step - loss: 0.0288 - acc: 0.9879 - val_loss: 0.0242 - val_acc: 0.9907\n",
      "--- ANN spent 149.7840394973755 seconds ---\n"
     ]
    }
   ],
   "source": [
    "hist_ann_2h_unisoftsigbinlosadam2 = ann_fit(checkpoint_file = \"ann_2h_unisoftsigbinlosadam2_redds100bal.h5\",\n",
    "                                        ann = ann_2h_unisoftsigbinlosadam2,\n",
    "                                        enc_train_x = enc_train_x_asal,\n",
    "                                        train_y = train_y,\n",
    "                                        epochs = 200,\n",
    "                                        shuffle = True,\n",
    "                                        batch_size = 197)"
   ]
  },
  {
   "cell_type": "code",
   "execution_count": 73,
   "metadata": {},
   "outputs": [
    {
     "name": "stdout",
     "output_type": "stream",
     "text": [
      "Best loss value: 0.028761532210218998\n"
     ]
    },
    {
     "data": {
      "image/png": "[encoded data removed]",
      "text/plain": [
       "<Figure size 432x288 with 1 Axes>"
      ]
     },
     "metadata": {
      "needs_background": "light"
     },
     "output_type": "display_data"
    }
   ],
   "source": [
    "best_loss_value_ann_2h_unisoftsigbinlosadam2 = plot_hist_auto(hist_ann_2h_unisoftsigbinlosadam2, './Figures/ann_2h_unisoftsigbinlosadam2.png')"
   ]
  },
  {
   "cell_type": "code",
   "execution_count": 74,
   "metadata": {},
   "outputs": [
    {
     "name": "stdout",
     "output_type": "stream",
     "text": [
      "Overall accuracy of Neural Network model: 0.990006388610021\n",
      "              precision    recall  f1-score   support\n",
      "\n",
      "           0     0.9917    0.9882    0.9900     54737\n",
      "           1     0.9883    0.9918    0.9900     54833\n",
      "\n",
      "   micro avg     0.9900    0.9900    0.9900    109570\n",
      "   macro avg     0.9900    0.9900    0.9900    109570\n",
      "weighted avg     0.9900    0.9900    0.9900    109570\n",
      "\n"
     ]
    }
   ],
   "source": [
    "pred_ann_2h_prob_unisoftsigbinlosadam2, pred_ann_2h_01_unisoftsigbinlosadam2 = ann_predict(ann_2h_unisoftsigbinlosadam2,enc_test_x_asal)"
   ]
  },
  {
   "cell_type": "code",
   "execution_count": 75,
   "metadata": {},
   "outputs": [
    {
     "data": {
      "image/png": "[encoded data removed]",
      "text/plain": [
       "<Figure size 432x288 with 1 Axes>"
      ]
     },
     "metadata": {
      "needs_background": "light"
     },
     "output_type": "display_data"
    },
    {
     "data": {
      "image/png": "[encoded data removed]",
      "text/plain": [
       "<Figure size 576x432 with 2 Axes>"
      ]
     },
     "metadata": {
      "needs_background": "light"
     },
     "output_type": "display_data"
    }
   ],
   "source": [
    "plot_roc_cm(pred_ann_2h_01_unisoftsigbinlosadam2, pred_ann_2h_01_unisoftsigbinlosadam2, './Figures/ROC_ann_2h_unisoftsigbinlosadam2_redds10bal.png', './Figures/CM_ann_2h_unisoftsigbinlosadam2_redds10bal.png')"
   ]
  },
  {
   "cell_type": "code",
   "execution_count": null,
   "metadata": {},
   "outputs": [],
   "source": []
  },
  {
   "cell_type": "code",
   "execution_count": null,
   "metadata": {},
   "outputs": [],
   "source": []
  },
  {
   "cell_type": "code",
   "execution_count": 76,
   "metadata": {},
   "outputs": [
    {
     "name": "stdout",
     "output_type": "stream",
     "text": [
      "_________________________________________________________________\n",
      "Layer (type)                 Output Shape              Param #   \n",
      "=================================================================\n",
      "dense_22 (Dense)             (None, 197)               26004     \n",
      "_________________________________________________________________\n",
      "dense_23 (Dense)             (None, 145)               28710     \n",
      "_________________________________________________________________\n",
      "dense_24 (Dense)             (None, 95)                13870     \n",
      "_________________________________________________________________\n",
      "batch_normalization_6 (Batch (None, 95)                380       \n",
      "_________________________________________________________________\n",
      "dropout_6 (Dropout)          (None, 95)                0         \n",
      "_________________________________________________________________\n",
      "dense_25 (Dense)             (None, 1)                 96        \n",
      "=================================================================\n",
      "Total params: 69,060\n",
      "Trainable params: 68,870\n",
      "Non-trainable params: 190\n",
      "_________________________________________________________________\n",
      "None\n"
     ]
    }
   ],
   "source": [
    "ann_2h_unisoftsigbinlosadam3 = ann_2h(neurons=197,\n",
    "                                      encoded_train_x=enc_train_x_asam,\n",
    "                                      init_mode='uniform',\n",
    "                                      activation_input='relu',\n",
    "                                      weight_constraint=5,\n",
    "                                      dropout_rate=0.0,\n",
    "                                      activation_output='sigmoid',\n",
    "                                      loss='binary_crossentropy',\n",
    "                                      optimizer='Adam')"
   ]
  },
  {
   "cell_type": "code",
   "execution_count": 77,
   "metadata": {},
   "outputs": [
    {
     "name": "stdout",
     "output_type": "stream",
     "text": [
      "Mon Jun 10 17:08:46 2019\n",
      "Train on 280496 samples, validate on 70124 samples\n",
      "Epoch 1/200\n",
      "280496/280496 [==============================] - 7s 25us/step - loss: 0.1703 - acc: 0.9169 - val_loss: 0.0935 - val_acc: 0.9506\n",
      "Epoch 2/200\n",
      "280496/280496 [==============================] - 6s 22us/step - loss: 0.0927 - acc: 0.9533 - val_loss: 0.0900 - val_acc: 0.9569\n",
      "Epoch 3/200\n",
      "280496/280496 [==============================] - 6s 22us/step - loss: 0.0774 - acc: 0.9612 - val_loss: 0.0675 - val_acc: 0.9662\n",
      "Epoch 4/200\n",
      "280496/280496 [==============================] - 6s 22us/step - loss: 0.0677 - acc: 0.9675 - val_loss: 0.0578 - val_acc: 0.9706\n",
      "Epoch 5/200\n",
      "280496/280496 [==============================] - 6s 22us/step - loss: 0.0569 - acc: 0.9730 - val_loss: 0.0602 - val_acc: 0.9728\n",
      "Epoch 6/200\n",
      "280496/280496 [==============================] - 6s 22us/step - loss: 0.0503 - acc: 0.9762 - val_loss: 0.0449 - val_acc: 0.9777\n",
      "Epoch 7/200\n",
      "280496/280496 [==============================] - 6s 22us/step - loss: 0.0435 - acc: 0.9793 - val_loss: 0.0349 - val_acc: 0.9826\n",
      "Epoch 8/200\n",
      "280496/280496 [==============================] - 6s 22us/step - loss: 0.0388 - acc: 0.9817 - val_loss: 0.0322 - val_acc: 0.9858\n",
      "Epoch 9/200\n",
      "280496/280496 [==============================] - 6s 22us/step - loss: 0.0345 - acc: 0.9839 - val_loss: 0.0263 - val_acc: 0.9879\n",
      "Epoch 10/200\n",
      "280496/280496 [==============================] - 6s 22us/step - loss: 0.0325 - acc: 0.9854 - val_loss: 0.0221 - val_acc: 0.9902\n",
      "Epoch 11/200\n",
      "280496/280496 [==============================] - 6s 22us/step - loss: 0.0299 - acc: 0.9864 - val_loss: 0.0247 - val_acc: 0.9889\n",
      "Epoch 12/200\n",
      "280496/280496 [==============================] - 6s 22us/step - loss: 0.0273 - acc: 0.9879 - val_loss: 0.0211 - val_acc: 0.9901\n",
      "Epoch 13/200\n",
      "280496/280496 [==============================] - 6s 22us/step - loss: 0.0244 - acc: 0.9892 - val_loss: 0.0180 - val_acc: 0.9918\n",
      "Epoch 14/200\n",
      "280496/280496 [==============================] - 6s 22us/step - loss: 0.0249 - acc: 0.9891 - val_loss: 0.0267 - val_acc: 0.9884\n",
      "Epoch 15/200\n",
      "280496/280496 [==============================] - 6s 22us/step - loss: 0.0221 - acc: 0.9902 - val_loss: 0.0209 - val_acc: 0.9912\n",
      "Epoch 16/200\n",
      "280496/280496 [==============================] - 6s 22us/step - loss: 0.0221 - acc: 0.9904 - val_loss: 0.0198 - val_acc: 0.9908\n",
      "Epoch 17/200\n",
      "280496/280496 [==============================] - 6s 22us/step - loss: 0.0208 - acc: 0.9910 - val_loss: 0.0224 - val_acc: 0.9904\n",
      "Epoch 18/200\n",
      "280496/280496 [==============================] - 6s 22us/step - loss: 0.0203 - acc: 0.9912 - val_loss: 0.0152 - val_acc: 0.9938\n",
      "Epoch 19/200\n",
      "280496/280496 [==============================] - 6s 22us/step - loss: 0.0192 - acc: 0.9917 - val_loss: 0.0124 - val_acc: 0.9951\n",
      "Epoch 20/200\n",
      "280496/280496 [==============================] - 6s 22us/step - loss: 0.0179 - acc: 0.9924 - val_loss: 0.0197 - val_acc: 0.9911\n",
      "Epoch 21/200\n",
      "280496/280496 [==============================] - 6s 21us/step - loss: 0.0170 - acc: 0.9926 - val_loss: 0.0168 - val_acc: 0.9940\n",
      "Epoch 22/200\n",
      "280496/280496 [==============================] - 6s 22us/step - loss: 0.0177 - acc: 0.9926 - val_loss: 0.0396 - val_acc: 0.9843\n",
      "Epoch 23/200\n",
      "280496/280496 [==============================] - 6s 21us/step - loss: 0.0171 - acc: 0.9930 - val_loss: 0.0160 - val_acc: 0.9936\n",
      "Epoch 24/200\n",
      "280496/280496 [==============================] - 6s 22us/step - loss: 0.0156 - acc: 0.9932 - val_loss: 0.0113 - val_acc: 0.9951\n",
      "Epoch 25/200\n",
      "280496/280496 [==============================] - 6s 21us/step - loss: 0.0157 - acc: 0.9934 - val_loss: 0.0097 - val_acc: 0.9962\n",
      "Epoch 26/200\n",
      "280496/280496 [==============================] - 6s 21us/step - loss: 0.0154 - acc: 0.9937 - val_loss: 0.0149 - val_acc: 0.9935\n",
      "Epoch 27/200\n",
      "280496/280496 [==============================] - 6s 21us/step - loss: 0.0149 - acc: 0.9937 - val_loss: 0.0104 - val_acc: 0.9957\n",
      "Epoch 28/200\n",
      "280496/280496 [==============================] - 6s 21us/step - loss: 0.0142 - acc: 0.9941 - val_loss: 0.0148 - val_acc: 0.9943\n",
      "Epoch 29/200\n",
      "280496/280496 [==============================] - 6s 21us/step - loss: 0.0147 - acc: 0.9939 - val_loss: 0.0116 - val_acc: 0.9953\n",
      "Epoch 30/200\n",
      "280496/280496 [==============================] - 6s 21us/step - loss: 0.0135 - acc: 0.9944 - val_loss: 0.0112 - val_acc: 0.9954\n",
      "--- ANN spent 184.97937178611755 seconds ---\n"
     ]
    }
   ],
   "source": [
    "hist_ann_2h_unisoftsigbinlosadam3 = ann_fit(checkpoint_file = \"ann_2h_unisoftsigbinlosadam3_redds100bal.h5\",\n",
    "                                        ann = ann_2h_unisoftsigbinlosadam3,\n",
    "                                        enc_train_x = enc_train_x_asam,\n",
    "                                        train_y = train_y,\n",
    "                                        epochs = 200,\n",
    "                                        shuffle = True,\n",
    "                                        batch_size = 197)"
   ]
  },
  {
   "cell_type": "code",
   "execution_count": 78,
   "metadata": {},
   "outputs": [],
   "source": [
    "# hist_ann_2h_unisoftsigbinlosadam.model.get_weights()"
   ]
  },
  {
   "cell_type": "code",
   "execution_count": 79,
   "metadata": {},
   "outputs": [
    {
     "name": "stdout",
     "output_type": "stream",
     "text": [
      "Best loss value: 0.013529218654662832\n"
     ]
    },
    {
     "data": {
      "image/png": "[encoded data removed]",
      "text/plain": [
       "<Figure size 432x288 with 1 Axes>"
      ]
     },
     "metadata": {
      "needs_background": "light"
     },
     "output_type": "display_data"
    }
   ],
   "source": [
    "best_loss_value_ann_2h_unisoftsigbinlosadam3 = plot_hist_auto(hist_ann_2h_unisoftsigbinlosadam3, './Figures/ann_2h_unisoftsigbinlosadam3.png')"
   ]
  },
  {
   "cell_type": "code",
   "execution_count": 80,
   "metadata": {},
   "outputs": [
    {
     "name": "stdout",
     "output_type": "stream",
     "text": [
      "Overall accuracy of Neural Network model: 0.9946792005110888\n",
      "              precision    recall  f1-score   support\n",
      "\n",
      "           0     0.9943    0.9951    0.9947     54737\n",
      "           1     0.9951    0.9943    0.9947     54833\n",
      "\n",
      "   micro avg     0.9947    0.9947    0.9947    109570\n",
      "   macro avg     0.9947    0.9947    0.9947    109570\n",
      "weighted avg     0.9947    0.9947    0.9947    109570\n",
      "\n"
     ]
    }
   ],
   "source": [
    "pred_ann_2h_prob_unisoftsigbinlosadam3, pred_ann_2h_01_unisoftsigbinlosadam3 = ann_predict(ann_2h_unisoftsigbinlosadam3,enc_test_x_asam)"
   ]
  },
  {
   "cell_type": "code",
   "execution_count": 81,
   "metadata": {},
   "outputs": [
    {
     "data": {
      "image/png": "[encoded data removed]",
      "text/plain": [
       "<Figure size 432x288 with 1 Axes>"
      ]
     },
     "metadata": {
      "needs_background": "light"
     },
     "output_type": "display_data"
    },
    {
     "data": {
      "image/png": "[encoded data removed]",
      "text/plain": [
       "<Figure size 576x432 with 2 Axes>"
      ]
     },
     "metadata": {
      "needs_background": "light"
     },
     "output_type": "display_data"
    }
   ],
   "source": [
    "plot_roc_cm(pred_ann_2h_01_unisoftsigbinlosadam3, pred_ann_2h_01_unisoftsigbinlosadam3, './Figures/ROC_ann_2h_unisoftsigbinlosadam3_redds10bal.png', './Figures/CM_ann_2h_unisoftsigbinlosadam3_redds10bal.png')"
   ]
  },
  {
   "cell_type": "markdown",
   "metadata": {},
   "source": [
    "#### >>>>>>>>>>>>>>>>>>>"
   ]
  },
  {
   "cell_type": "code",
   "execution_count": 82,
   "metadata": {},
   "outputs": [
    {
     "name": "stdout",
     "output_type": "stream",
     "text": [
      "_________________________________________________________________\n",
      "Layer (type)                 Output Shape              Param #   \n",
      "=================================================================\n",
      "dense_26 (Dense)             (None, 197)               26004     \n",
      "_________________________________________________________________\n",
      "dense_27 (Dense)             (None, 145)               28710     \n",
      "_________________________________________________________________\n",
      "dense_28 (Dense)             (None, 95)                13870     \n",
      "_________________________________________________________________\n",
      "batch_normalization_7 (Batch (None, 95)                380       \n",
      "_________________________________________________________________\n",
      "dropout_7 (Dropout)          (None, 95)                0         \n",
      "_________________________________________________________________\n",
      "dense_29 (Dense)             (None, 1)                 96        \n",
      "=================================================================\n",
      "Total params: 69,060\n",
      "Trainable params: 68,870\n",
      "Non-trainable params: 190\n",
      "_________________________________________________________________\n",
      "None\n"
     ]
    }
   ],
   "source": [
    "ann_2h_unisoftsigbinlosadam4 = ann_2h(neurons=197,\n",
    "                                      encoded_train_x=enc_train_x_asal,\n",
    "                                      init_mode='uniform',\n",
    "                                      activation_input='relu',\n",
    "                                      weight_constraint=5,\n",
    "                                      dropout_rate=0.0,\n",
    "                                      activation_output='sigmoid',\n",
    "                                      loss='binary_crossentropy',\n",
    "                                      optimizer='Adam')"
   ]
  },
  {
   "cell_type": "code",
   "execution_count": 83,
   "metadata": {},
   "outputs": [
    {
     "name": "stdout",
     "output_type": "stream",
     "text": [
      "Mon Jun 10 17:11:55 2019\n",
      "Train on 280496 samples, validate on 70124 samples\n",
      "Epoch 1/200\n",
      "280496/280496 [==============================] - 7s 26us/step - loss: 0.1641 - acc: 0.9193 - val_loss: 0.1053 - val_acc: 0.9501\n",
      "Epoch 2/200\n",
      "280496/280496 [==============================] - 6s 23us/step - loss: 0.0928 - acc: 0.9528 - val_loss: 0.0921 - val_acc: 0.9564\n",
      "Epoch 3/200\n",
      "280496/280496 [==============================] - 6s 22us/step - loss: 0.0735 - acc: 0.9638 - val_loss: 0.0706 - val_acc: 0.9666\n",
      "Epoch 4/200\n",
      "280496/280496 [==============================] - 6s 23us/step - loss: 0.0589 - acc: 0.9722 - val_loss: 0.0553 - val_acc: 0.9719\n",
      "Epoch 5/200\n",
      "280496/280496 [==============================] - 6s 22us/step - loss: 0.0491 - acc: 0.9773 - val_loss: 0.0416 - val_acc: 0.9814\n",
      "Epoch 6/200\n",
      "280496/280496 [==============================] - 6s 23us/step - loss: 0.0434 - acc: 0.9805 - val_loss: 0.0391 - val_acc: 0.9810\n",
      "Epoch 7/200\n",
      "280496/280496 [==============================] - 6s 23us/step - loss: 0.0381 - acc: 0.9831 - val_loss: 0.0318 - val_acc: 0.9858\n",
      "Epoch 8/200\n",
      "280496/280496 [==============================] - 6s 22us/step - loss: 0.0316 - acc: 0.9859 - val_loss: 0.0264 - val_acc: 0.9881\n",
      "Epoch 9/200\n",
      "280496/280496 [==============================] - 6s 22us/step - loss: 0.0309 - acc: 0.9864 - val_loss: 0.0341 - val_acc: 0.9841\n",
      "Epoch 10/200\n",
      "280496/280496 [==============================] - 6s 22us/step - loss: 0.0281 - acc: 0.9877 - val_loss: 0.0271 - val_acc: 0.9885\n",
      "Epoch 11/200\n",
      "280496/280496 [==============================] - 6s 22us/step - loss: 0.0252 - acc: 0.9891 - val_loss: 0.0236 - val_acc: 0.9897\n",
      "Epoch 12/200\n",
      "280496/280496 [==============================] - 6s 22us/step - loss: 0.0242 - acc: 0.9897 - val_loss: 0.0175 - val_acc: 0.9924\n",
      "Epoch 13/200\n",
      "280496/280496 [==============================] - 6s 22us/step - loss: 0.0220 - acc: 0.9905 - val_loss: 0.0241 - val_acc: 0.9884\n",
      "Epoch 14/200\n",
      "280496/280496 [==============================] - 6s 22us/step - loss: 0.0220 - acc: 0.9904 - val_loss: 0.0196 - val_acc: 0.9917\n",
      "Epoch 15/200\n",
      "280496/280496 [==============================] - 6s 22us/step - loss: 0.0205 - acc: 0.9911 - val_loss: 0.0208 - val_acc: 0.9907\n",
      "Epoch 16/200\n",
      "280496/280496 [==============================] - 6s 22us/step - loss: 0.0203 - acc: 0.9913 - val_loss: 0.0143 - val_acc: 0.9945\n",
      "Epoch 17/200\n",
      "280496/280496 [==============================] - 6s 22us/step - loss: 0.0187 - acc: 0.9919 - val_loss: 0.0134 - val_acc: 0.9950\n",
      "Epoch 18/200\n",
      "280496/280496 [==============================] - 6s 22us/step - loss: 0.0190 - acc: 0.9918 - val_loss: 0.0239 - val_acc: 0.9891\n",
      "Epoch 19/200\n",
      "280496/280496 [==============================] - 6s 22us/step - loss: 0.0176 - acc: 0.9925 - val_loss: 0.0258 - val_acc: 0.9896\n",
      "Epoch 20/200\n",
      "280496/280496 [==============================] - 6s 22us/step - loss: 0.0170 - acc: 0.9927 - val_loss: 0.0154 - val_acc: 0.9929\n",
      "Epoch 21/200\n",
      "280496/280496 [==============================] - 6s 22us/step - loss: 0.0172 - acc: 0.9925 - val_loss: 0.0122 - val_acc: 0.9947\n",
      "Epoch 22/200\n",
      "280496/280496 [==============================] - 6s 22us/step - loss: 0.0157 - acc: 0.9932 - val_loss: 0.0227 - val_acc: 0.9901\n",
      "Epoch 23/200\n",
      "280496/280496 [==============================] - 6s 22us/step - loss: 0.0163 - acc: 0.9931 - val_loss: 0.0176 - val_acc: 0.9930\n",
      "Epoch 24/200\n",
      "280496/280496 [==============================] - 6s 21us/step - loss: 0.0146 - acc: 0.9937 - val_loss: 0.0195 - val_acc: 0.9924\n",
      "Epoch 25/200\n",
      "280496/280496 [==============================] - 6s 22us/step - loss: 0.0161 - acc: 0.9931 - val_loss: 0.0132 - val_acc: 0.9944\n",
      "Epoch 26/200\n",
      "280496/280496 [==============================] - 6s 21us/step - loss: 0.0145 - acc: 0.9937 - val_loss: 0.0146 - val_acc: 0.9940\n",
      "--- ANN spent 162.07336521148682 seconds ---\n"
     ]
    }
   ],
   "source": [
    "hist_ann_2h_unisoftsigbinlosadam4 = ann_fit(checkpoint_file = \"ann_2h_unisoftsigbinlosadam4_redds100bal.h5\",\n",
    "                                        ann = ann_2h_unisoftsigbinlosadam4,\n",
    "                                        enc_train_x = enc_train_x_asal,\n",
    "                                        train_y = train_y,\n",
    "                                        epochs = 200,\n",
    "                                        shuffle = True,\n",
    "                                        batch_size = 197)"
   ]
  },
  {
   "cell_type": "code",
   "execution_count": 84,
   "metadata": {},
   "outputs": [],
   "source": [
    "# hist_ann_2h_unisoftsigbinlosadam.model.get_weights()"
   ]
  },
  {
   "cell_type": "code",
   "execution_count": 85,
   "metadata": {},
   "outputs": [
    {
     "name": "stdout",
     "output_type": "stream",
     "text": [
      "Best loss value: 0.014463238181232305\n"
     ]
    },
    {
     "data": {
      "image/png": "[encoded data removed]",
      "text/plain": [
       "<Figure size 432x288 with 1 Axes>"
      ]
     },
     "metadata": {
      "needs_background": "light"
     },
     "output_type": "display_data"
    }
   ],
   "source": [
    "best_loss_value_ann_2h_unisoftsigbinlosadam4 = plot_hist_auto(hist_ann_2h_unisoftsigbinlosadam4, './Figures/ann_2h_unisoftsigbinlosadam4.png')"
   ]
  },
  {
   "cell_type": "code",
   "execution_count": 86,
   "metadata": {},
   "outputs": [
    {
     "name": "stdout",
     "output_type": "stream",
     "text": [
      "Overall accuracy of Neural Network model: 0.993547503878799\n",
      "              precision    recall  f1-score   support\n",
      "\n",
      "           0     0.9989    0.9882    0.9935     54737\n",
      "           1     0.9883    0.9989    0.9936     54833\n",
      "\n",
      "   micro avg     0.9935    0.9935    0.9935    109570\n",
      "   macro avg     0.9936    0.9935    0.9935    109570\n",
      "weighted avg     0.9936    0.9935    0.9935    109570\n",
      "\n"
     ]
    }
   ],
   "source": [
    "pred_ann_2h_prob_unisoftsigbinlosadam4, pred_ann_2h_01_unisoftsigbinlosadam4 = ann_predict(ann_2h_unisoftsigbinlosadam4,enc_test_x_asal)"
   ]
  },
  {
   "cell_type": "code",
   "execution_count": 87,
   "metadata": {},
   "outputs": [
    {
     "data": {
      "image/png": "[encoded data removed]",
      "text/plain": [
       "<Figure size 432x288 with 1 Axes>"
      ]
     },
     "metadata": {
      "needs_background": "light"
     },
     "output_type": "display_data"
    },
    {
     "data": {
      "image/png": "[encoded data removed]",
      "text/plain": [
       "<Figure size 576x432 with 2 Axes>"
      ]
     },
     "metadata": {
      "needs_background": "light"
     },
     "output_type": "display_data"
    }
   ],
   "source": [
    "plot_roc_cm(pred_ann_2h_01_unisoftsigbinlosadam4, pred_ann_2h_01_unisoftsigbinlosadam4, './Figures/ROC_ann_2h_unisoftsigbinlosadam4_redds10bal.png', './Figures/CM_ann_2h_unisoftsigbinlosadam4_redds10bal.png')"
   ]
  },
  {
   "cell_type": "code",
   "execution_count": null,
   "metadata": {},
   "outputs": [],
   "source": []
  },
  {
   "cell_type": "markdown",
   "metadata": {},
   "source": [
    "ann_2h__(neurons,encoded_train_x,activation_input,\n",
    "               dropout_rate,activation_output,\n",
    "               loss,optimizer)"
   ]
  },
  {
   "cell_type": "raw",
   "metadata": {},
   "source": [
    "ann_2h_unisoftsigbinlosadam5 = ann_2h__(neurons=197,\n",
    "                                      encoded_train_x=enc_train_x_asal,\n",
    "                                      activation_input='relu',\n",
    "#                                       dropout_rate=0.0,\n",
    "                                      activation_output='sigmoid',\n",
    "                                      loss='binary_crossentropy',\n",
    "                                      optimizer='Adam')"
   ]
  },
  {
   "cell_type": "raw",
   "metadata": {},
   "source": [
    "hist_ann_2h_unisoftsigbinlosadam5 = ann_fit(checkpoint_file = \"ann_2h_unisoftsigbinlosadam5_redds100bal.h5\",\n",
    "                                        ann = ann_2h_unisoftsigbinlosadam5,\n",
    "                                        enc_train_x = enc_train_x_asal,\n",
    "                                        train_y = train_y,\n",
    "                                        epochs = 200,\n",
    "                                        shuffle = True,\n",
    "                                        batch_size = 197)"
   ]
  },
  {
   "cell_type": "raw",
   "metadata": {},
   "source": [
    "# hist_ann_2h_unisoftsigbinlosadam.model.get_weights()"
   ]
  },
  {
   "cell_type": "raw",
   "metadata": {},
   "source": [
    "best_loss_value_ann_2h_unisoftsigbinlosadam5 = plot_hist_auto(hist_ann_2h_unisoftsigbinlosadam5, './Figures/ann_2h_unisoftsigbinlosadam5.png')"
   ]
  },
  {
   "cell_type": "raw",
   "metadata": {},
   "source": [
    "pred_ann_2h_prob_unisoftsigbinlosadam5, pred_ann_2h_01_unisoftsigbinlosadam5 = ann_predict(ann_2h_unisoftsigbinlosadam5,enc_test_x_asal)"
   ]
  },
  {
   "cell_type": "raw",
   "metadata": {},
   "source": [
    "plot_roc_cm(pred_ann_2h_01_unisoftsigbinlosadam5, pred_ann_2h_01_unisoftsigbinlosadam5, './Figures/ROC_ann_2h_unisoftsigbinlosadam5_redds10bal.png', './Figures/CM_ann_2h_unisoftsigbinlosadam5_redds10bal.png')"
   ]
  },
  {
   "cell_type": "raw",
   "metadata": {},
   "source": []
  },
  {
   "cell_type": "raw",
   "metadata": {},
   "source": []
  },
  {
   "cell_type": "raw",
   "metadata": {},
   "source": [
    "ann_2h_unisoftsigbinlosadam6 = ann_2h__(neurons=197,\n",
    "                                      encoded_train_x=enc_train_x_asam,\n",
    "                                      activation_input='relu',\n",
    "#                                       dropout_rate=0.0,\n",
    "                                      activation_output='sigmoid',\n",
    "                                      loss='binary_crossentropy',\n",
    "                                      optimizer='Adam')"
   ]
  },
  {
   "cell_type": "raw",
   "metadata": {},
   "source": [
    "hist_ann_2h_unisoftsigbinlosadam6 = ann_fit(checkpoint_file = \"ann_2h_unisoftsigbinlosadam6_redds100bal.h5\",\n",
    "                                        ann = ann_2h_unisoftsigbinlosadam6,\n",
    "                                        enc_train_x = enc_train_x_asam,\n",
    "                                        train_y = train_y,\n",
    "                                        epochs = 200,\n",
    "                                        shuffle = True,\n",
    "                                        batch_size = 197)"
   ]
  },
  {
   "cell_type": "raw",
   "metadata": {},
   "source": [
    "# hist_ann_2h_unisoftsigbinlosadam.model.get_weights()"
   ]
  },
  {
   "cell_type": "raw",
   "metadata": {},
   "source": [
    "best_loss_value_ann_2h_unisoftsigbinlosadam6 = plot_hist_auto(hist_ann_2h_unisoftsigbinlosadam6, './Figures/ann_2h_unisoftsigbinlosadam6.png')"
   ]
  },
  {
   "cell_type": "raw",
   "metadata": {},
   "source": [
    "pred_ann_2h_prob_unisoftsigbinlosadam6, pred_ann_2h_01_unisoftsigbinlosadam6 = ann_predict(ann_2h_unisoftsigbinlosadam6,enc_test_x_asam)"
   ]
  },
  {
   "cell_type": "raw",
   "metadata": {},
   "source": [
    "plot_roc_cm(pred_ann_2h_01_unisoftsigbinlosadam6, pred_ann_2h_01_unisoftsigbinlosadam6, './Figures/ROC_ann_2h_unisoftsigbinlosadam6_redds10bal.png', './Figures/CM_ann_2h_unisoftsigbinlosadam6_redds10bal.png')"
   ]
  },
  {
   "cell_type": "raw",
   "metadata": {},
   "source": []
  },
  {
   "cell_type": "raw",
   "metadata": {},
   "source": [
    "enc_train_x_assal.shape"
   ]
  },
  {
   "cell_type": "raw",
   "metadata": {},
   "source": [
    "ann_2h_unisoftsigbinlosadam7 = ann_2h__(neurons=197,\n",
    "                                      encoded_train_x=enc_train_x_asal,\n",
    "                                      activation_input='tanh',\n",
    "#                                       dropout_rate=0.0,\n",
    "                                      activation_output='sigmoid',\n",
    "                                      loss='binary_crossentropy',\n",
    "                                      optimizer='Adam')"
   ]
  },
  {
   "cell_type": "raw",
   "metadata": {},
   "source": [
    "hist_ann_2h_unisoftsigbinlosadam7 = ann_fit(checkpoint_file = \"ann_2h_unisoftsigbinlosadam7_redds100bal.h5\",\n",
    "                                        ann = ann_2h_unisoftsigbinlosadam7,\n",
    "                                        enc_train_x = enc_train_x_asal,\n",
    "                                        train_y = train_y,\n",
    "                                        epochs = 200,\n",
    "                                        shuffle = True,\n",
    "                                        batch_size = 197)"
   ]
  },
  {
   "cell_type": "raw",
   "metadata": {},
   "source": [
    "# hist_ann_2h_unisoftsigbinlosadam.model.get_weights()"
   ]
  },
  {
   "cell_type": "raw",
   "metadata": {},
   "source": [
    "best_loss_value_ann_2h_unisoftsigbinlosadam7 = plot_hist_auto(hist_ann_2h_unisoftsigbinlosadam7, './Figures/ann_2h_unisoftsigbinlosadam7.png')"
   ]
  },
  {
   "cell_type": "raw",
   "metadata": {},
   "source": [
    "pred_ann_2h_prob_unisoftsigbinlosadam7, pred_ann_2h_01_unisoftsigbinlosadam7 = ann_predict(ann_2h_unisoftsigbinlosadam7,enc_test_x_asal)"
   ]
  },
  {
   "cell_type": "raw",
   "metadata": {},
   "source": [
    "plot_roc_cm(pred_ann_2h_01_unisoftsigbinlosadam7, pred_ann_2h_01_unisoftsigbinlosadam7, './Figures/ROC_ann_2h_unisoftsigbinlosadam7_redds10bal.png', './Figures/CM_ann_2h_unisoftsigbinlosadam7_redds10bal.png')"
   ]
  },
  {
   "cell_type": "raw",
   "metadata": {},
   "source": []
  },
  {
   "cell_type": "code",
   "execution_count": null,
   "metadata": {},
   "outputs": [],
   "source": []
  },
  {
   "cell_type": "code",
   "execution_count": 88,
   "metadata": {},
   "outputs": [],
   "source": [
    "from keras.utils import to_categorical\n",
    "train_y_ = to_categorical(train_y)"
   ]
  },
  {
   "cell_type": "code",
   "execution_count": 89,
   "metadata": {},
   "outputs": [
    {
     "name": "stdout",
     "output_type": "stream",
     "text": [
      "_________________________________________________________________\n",
      "Layer (type)                 Output Shape              Param #   \n",
      "=================================================================\n",
      "dense_30 (Dense)             (None, 197)               26004     \n",
      "_________________________________________________________________\n",
      "dense_31 (Dense)             (None, 145)               28710     \n",
      "_________________________________________________________________\n",
      "dense_32 (Dense)             (None, 95)                13870     \n",
      "_________________________________________________________________\n",
      "dense_33 (Dense)             (None, 1)                 96        \n",
      "=================================================================\n",
      "Total params: 68,680\n",
      "Trainable params: 68,680\n",
      "Non-trainable params: 0\n",
      "_________________________________________________________________\n",
      "None\n"
     ]
    }
   ],
   "source": [
    "ann_2h_unisoftsigbinlosadam8 = ann_2h__(neurons=197,\n",
    "                                      encoded_train_x=enc_train_x_asal,\n",
    "                                      activation_input='tanh',\n",
    "#                                       dropout_rate=0.0,\n",
    "                                      activation_output='sigmoid',\n",
    "                                      loss='mean_squared_error',\n",
    "                                      optimizer='Adam')"
   ]
  },
  {
   "cell_type": "code",
   "execution_count": 90,
   "metadata": {},
   "outputs": [
    {
     "name": "stdout",
     "output_type": "stream",
     "text": [
      "Mon Jun 10 17:14:40 2019\n",
      "Train on 280496 samples, validate on 70124 samples\n",
      "Epoch 1/200\n",
      "280496/280496 [==============================] - 5s 18us/step - loss: 0.0675 - acc: 0.9048 - val_loss: 0.0346 - val_acc: 0.9482\n",
      "Epoch 2/200\n",
      "280496/280496 [==============================] - 4s 15us/step - loss: 0.0286 - acc: 0.9596 - val_loss: 0.0242 - val_acc: 0.9658\n",
      "Epoch 3/200\n",
      "280496/280496 [==============================] - 4s 16us/step - loss: 0.0235 - acc: 0.9672 - val_loss: 0.0177 - val_acc: 0.9755\n",
      "Epoch 4/200\n",
      "280496/280496 [==============================] - 4s 16us/step - loss: 0.0198 - acc: 0.9726 - val_loss: 0.0266 - val_acc: 0.9631\n",
      "Epoch 5/200\n",
      "280496/280496 [==============================] - 4s 15us/step - loss: 0.0163 - acc: 0.9777 - val_loss: 0.0200 - val_acc: 0.9727\n",
      "Epoch 6/200\n",
      "280496/280496 [==============================] - 4s 15us/step - loss: 0.0152 - acc: 0.9793 - val_loss: 0.0156 - val_acc: 0.9785\n",
      "Epoch 7/200\n",
      "280496/280496 [==============================] - 4s 15us/step - loss: 0.0131 - acc: 0.9826 - val_loss: 0.0138 - val_acc: 0.9813\n",
      "Epoch 8/200\n",
      "280496/280496 [==============================] - 4s 15us/step - loss: 0.0123 - acc: 0.9838 - val_loss: 0.0110 - val_acc: 0.9859\n",
      "Epoch 9/200\n",
      "280496/280496 [==============================] - 4s 15us/step - loss: 0.0116 - acc: 0.9847 - val_loss: 0.0093 - val_acc: 0.9877\n",
      "Epoch 10/200\n",
      "280496/280496 [==============================] - 4s 15us/step - loss: 0.0109 - acc: 0.9856 - val_loss: 0.0087 - val_acc: 0.9876\n",
      "Epoch 11/200\n",
      "280496/280496 [==============================] - 4s 15us/step - loss: 0.0100 - acc: 0.9868 - val_loss: 0.0090 - val_acc: 0.9882\n",
      "Epoch 12/200\n",
      "280496/280496 [==============================] - 4s 15us/step - loss: 0.0095 - acc: 0.9876 - val_loss: 0.0140 - val_acc: 0.9827\n",
      "Epoch 13/200\n",
      "280496/280496 [==============================] - 4s 15us/step - loss: 0.0098 - acc: 0.9872 - val_loss: 0.0056 - val_acc: 0.9934\n",
      "Epoch 14/200\n",
      "280496/280496 [==============================] - 4s 15us/step - loss: 0.0088 - acc: 0.9885 - val_loss: 0.0149 - val_acc: 0.9803\n",
      "Epoch 15/200\n",
      "280496/280496 [==============================] - 4s 15us/step - loss: 0.0086 - acc: 0.9888 - val_loss: 0.0090 - val_acc: 0.9888\n",
      "Epoch 16/200\n",
      "280496/280496 [==============================] - 4s 15us/step - loss: 0.0086 - acc: 0.9888 - val_loss: 0.0077 - val_acc: 0.9898\n",
      "Epoch 17/200\n",
      "280496/280496 [==============================] - 4s 15us/step - loss: 0.0091 - acc: 0.9882 - val_loss: 0.0086 - val_acc: 0.9892\n",
      "Epoch 18/200\n",
      "280496/280496 [==============================] - 4s 15us/step - loss: 0.0077 - acc: 0.9900 - val_loss: 0.0066 - val_acc: 0.9909\n",
      "--- ANN spent 77.77052330970764 seconds ---\n"
     ]
    }
   ],
   "source": [
    "hist_ann_2h_unisoftsigbinlosadam8 = ann_fit(checkpoint_file = \"ann_2h_unisoftsigbinlosadam8_redds100bal.h5\",\n",
    "                                        ann = ann_2h_unisoftsigbinlosadam8,\n",
    "                                        enc_train_x = enc_train_x_asal,\n",
    "                                        train_y = train_y,\n",
    "                                        epochs = 200,\n",
    "                                        shuffle = True,\n",
    "                                        batch_size = 197)"
   ]
  },
  {
   "cell_type": "code",
   "execution_count": 91,
   "metadata": {},
   "outputs": [],
   "source": [
    "# hist_ann_2h_unisoftsigbinlosadam.model.get_weights()"
   ]
  },
  {
   "cell_type": "code",
   "execution_count": 92,
   "metadata": {},
   "outputs": [
    {
     "name": "stdout",
     "output_type": "stream",
     "text": [
      "Best loss value: 0.007702831378110759\n"
     ]
    },
    {
     "data": {
      "image/png": "[encoded data removed]",
      "text/plain": [
       "<Figure size 432x288 with 1 Axes>"
      ]
     },
     "metadata": {
      "needs_background": "light"
     },
     "output_type": "display_data"
    }
   ],
   "source": [
    "best_loss_value_ann_2h_unisoftsigbinlosadam8 = plot_hist_auto(hist_ann_2h_unisoftsigbinlosadam8, './Figures/ann_2h_unisoftsigbinlosadam8.png')"
   ]
  },
  {
   "cell_type": "code",
   "execution_count": 93,
   "metadata": {},
   "outputs": [
    {
     "name": "stdout",
     "output_type": "stream",
     "text": [
      "Overall accuracy of Neural Network model: 0.991311490371452\n",
      "              precision    recall  f1-score   support\n",
      "\n",
      "           0     0.9938    0.9888    0.9913     54737\n",
      "           1     0.9889    0.9938    0.9913     54833\n",
      "\n",
      "   micro avg     0.9913    0.9913    0.9913    109570\n",
      "   macro avg     0.9913    0.9913    0.9913    109570\n",
      "weighted avg     0.9913    0.9913    0.9913    109570\n",
      "\n"
     ]
    }
   ],
   "source": [
    "pred_ann_2h_prob_unisoftsigbinlosadam8, pred_ann_2h_01_unisoftsigbinlosadam8 = ann_predict(ann_2h_unisoftsigbinlosadam8,enc_test_x_asal)"
   ]
  },
  {
   "cell_type": "code",
   "execution_count": 94,
   "metadata": {},
   "outputs": [
    {
     "data": {
      "image/png": "[encoded data removed]",
      "text/plain": [
       "<Figure size 432x288 with 1 Axes>"
      ]
     },
     "metadata": {
      "needs_background": "light"
     },
     "output_type": "display_data"
    },
    {
     "data": {
      "image/png": "[encoded data removed]",
      "text/plain": [
       "<Figure size 576x432 with 2 Axes>"
      ]
     },
     "metadata": {
      "needs_background": "light"
     },
     "output_type": "display_data"
    }
   ],
   "source": [
    "plot_roc_cm(pred_ann_2h_01_unisoftsigbinlosadam8, pred_ann_2h_01_unisoftsigbinlosadam8, './Figures/ROC_ann_2h_unisoftsigbinlosadam8_redds10bal.png', './Figures/CM_ann_2h_unisoftsigbinlosadam8_redds10bal.png')"
   ]
  },
  {
   "cell_type": "code",
   "execution_count": null,
   "metadata": {},
   "outputs": [],
   "source": []
  },
  {
   "cell_type": "code",
   "execution_count": 95,
   "metadata": {},
   "outputs": [
    {
     "name": "stdout",
     "output_type": "stream",
     "text": [
      "_________________________________________________________________\n",
      "Layer (type)                 Output Shape              Param #   \n",
      "=================================================================\n",
      "dense_34 (Dense)             (None, 197)               39006     \n",
      "_________________________________________________________________\n",
      "dense_35 (Dense)             (None, 95)                18810     \n",
      "_________________________________________________________________\n",
      "batch_normalization_8 (Batch (None, 95)                380       \n",
      "_________________________________________________________________\n",
      "dropout_8 (Dropout)          (None, 95)                0         \n",
      "_________________________________________________________________\n",
      "dense_36 (Dense)             (None, 1)                 96        \n",
      "=================================================================\n",
      "Total params: 58,292\n",
      "Trainable params: 58,102\n",
      "Non-trainable params: 190\n",
      "_________________________________________________________________\n",
      "None\n"
     ]
    }
   ],
   "source": [
    "ann_24n_unisoftsigbinlosadam = ann_1h_24n(neurons=197,\n",
    "                                      encoded_train_x=train_x,\n",
    "                                      init_mode='uniform',\n",
    "                                      activation_input='softsign',\n",
    "                                      weight_constraint=5,\n",
    "                                      dropout_rate=0.0,\n",
    "                                      activation_output='sigmoid',\n",
    "                                      loss='binary_crossentropy',\n",
    "                                      optimizer='Adam')"
   ]
  },
  {
   "cell_type": "code",
   "execution_count": 96,
   "metadata": {},
   "outputs": [
    {
     "name": "stdout",
     "output_type": "stream",
     "text": [
      "Mon Jun 10 17:16:01 2019\n",
      "Train on 280496 samples, validate on 70124 samples\n",
      "Epoch 1/200\n",
      "280496/280496 [==============================] - 9s 32us/step - loss: 0.1205 - acc: 0.9458 - val_loss: 0.0594 - val_acc: 0.9744\n",
      "Epoch 2/200\n",
      "280496/280496 [==============================] - 8s 28us/step - loss: 0.0507 - acc: 0.9780 - val_loss: 0.0348 - val_acc: 0.9853\n",
      "Epoch 3/200\n",
      "280496/280496 [==============================] - 8s 28us/step - loss: 0.0351 - acc: 0.9855 - val_loss: 0.0263 - val_acc: 0.9911\n",
      "Epoch 4/200\n",
      "280496/280496 [==============================] - 8s 28us/step - loss: 0.0286 - acc: 0.9884 - val_loss: 0.0283 - val_acc: 0.9889\n",
      "Epoch 5/200\n",
      "280496/280496 [==============================] - 8s 29us/step - loss: 0.0263 - acc: 0.9896 - val_loss: 0.0189 - val_acc: 0.9920\n",
      "Epoch 6/200\n",
      "280496/280496 [==============================] - 8s 29us/step - loss: 0.0215 - acc: 0.9915 - val_loss: 0.0183 - val_acc: 0.9931\n",
      "Epoch 7/200\n",
      "280496/280496 [==============================] - 8s 28us/step - loss: 0.0195 - acc: 0.9923 - val_loss: 0.0157 - val_acc: 0.9945\n",
      "Epoch 8/200\n",
      "280496/280496 [==============================] - 8s 29us/step - loss: 0.0189 - acc: 0.9926 - val_loss: 0.0179 - val_acc: 0.9940\n",
      "Epoch 9/200\n",
      "280496/280496 [==============================] - 8s 29us/step - loss: 0.0175 - acc: 0.9933 - val_loss: 0.0164 - val_acc: 0.9940\n",
      "Epoch 10/200\n",
      "280496/280496 [==============================] - 8s 29us/step - loss: 0.0165 - acc: 0.9937 - val_loss: 0.0167 - val_acc: 0.9935\n",
      "Epoch 11/200\n",
      "280496/280496 [==============================] - 8s 28us/step - loss: 0.0146 - acc: 0.9945 - val_loss: 0.0164 - val_acc: 0.9931\n",
      "Epoch 12/200\n",
      "280496/280496 [==============================] - 8s 28us/step - loss: 0.0151 - acc: 0.9943 - val_loss: 0.0181 - val_acc: 0.9940\n",
      "--- ANN spent 97.30716753005981 seconds ---\n"
     ]
    }
   ],
   "source": [
    "hist_ann_24n_unisoftsigbinlosadam = ann_fit(checkpoint_file = \"ann_24n_unisoftsigbinlosadam_redds100bal.h5\",\n",
    "                                        ann = ann_24n_unisoftsigbinlosadam,\n",
    "                                        enc_train_x = train_x,\n",
    "                                        train_y = train_y,\n",
    "                                        epochs = 200,\n",
    "                                        shuffle = True,\n",
    "                                        batch_size = 197)"
   ]
  },
  {
   "cell_type": "code",
   "execution_count": 97,
   "metadata": {},
   "outputs": [
    {
     "name": "stdout",
     "output_type": "stream",
     "text": [
      "Best loss value: 0.015080331424955093\n"
     ]
    },
    {
     "data": {
      "image/png": "[encoded data removed]",
      "text/plain": [
       "<Figure size 432x288 with 1 Axes>"
      ]
     },
     "metadata": {
      "needs_background": "light"
     },
     "output_type": "display_data"
    }
   ],
   "source": [
    "best_loss_value_ann_24n_unisoftsigbinlosadam = plot_hist_auto(hist_ann_24n_unisoftsigbinlosadam, './Figures/ann_24_unisoftsigbinlosadam.png')"
   ]
  },
  {
   "cell_type": "code",
   "execution_count": 98,
   "metadata": {},
   "outputs": [
    {
     "name": "stdout",
     "output_type": "stream",
     "text": [
      "Overall accuracy of Neural Network model: 0.9934744911928448\n",
      "              precision    recall  f1-score   support\n",
      "\n",
      "           0     0.9988    0.9881    0.9934     54737\n",
      "           1     0.9883    0.9988    0.9935     54833\n",
      "\n",
      "   micro avg     0.9935    0.9935    0.9935    109570\n",
      "   macro avg     0.9935    0.9935    0.9935    109570\n",
      "weighted avg     0.9935    0.9935    0.9935    109570\n",
      "\n"
     ]
    }
   ],
   "source": [
    "pred_ann_24n_prob_unisoftsigbinlosadam, pred_ann_24n_01_unisoftsigbinlosadam = ann_predict(ann_24n_unisoftsigbinlosadam,test_x)"
   ]
  },
  {
   "cell_type": "code",
   "execution_count": 99,
   "metadata": {},
   "outputs": [
    {
     "data": {
      "image/png": "[encoded data removed]",
      "text/plain": [
       "<Figure size 432x288 with 1 Axes>"
      ]
     },
     "metadata": {
      "needs_background": "light"
     },
     "output_type": "display_data"
    },
    {
     "data": {
      "image/png": "[encoded data removed]",
      "text/plain": [
       "<Figure size 576x432 with 2 Axes>"
      ]
     },
     "metadata": {
      "needs_background": "light"
     },
     "output_type": "display_data"
    }
   ],
   "source": [
    "plot_roc_cm(pred_ann_24n_01_unisoftsigbinlosadam, pred_ann_24n_01_unisoftsigbinlosadam, './Figures/ROC_ann_24n_unisoftsigbinlosadam_redds10bal.png', './Figures/CM_ann_24n_unisoftsigbinlosadam_redds10bal.png')"
   ]
  },
  {
   "cell_type": "code",
   "execution_count": 100,
   "metadata": {},
   "outputs": [],
   "source": [
    "from sklearn.ensemble import RandomForestClassifier"
   ]
  },
  {
   "cell_type": "code",
   "execution_count": 101,
   "metadata": {},
   "outputs": [],
   "source": [
    "clf = RandomForestClassifier(n_estimators=300, \n",
    "                             criterion='gini', \n",
    "                             max_depth=16, \n",
    "#                              min_samples_split=2, \n",
    "                             #min_samples_leaf=1, \n",
    "                             max_features=0.3, \n",
    "                             #bootstrap=True,\n",
    "                             oob_score=True,\n",
    "                             random_state=23)  "
   ]
  },
  {
   "cell_type": "code",
   "execution_count": 102,
   "metadata": {},
   "outputs": [
    {
     "name": "stdout",
     "output_type": "stream",
     "text": [
      "Mon Jun 10 17:17:42 2019\n",
      "--- 9501.099874019623 seconds ---\n",
      "              precision    recall  f1-score   support\n",
      "\n",
      "           0     0.9790    0.9986    0.9887     54737\n",
      "           1     0.9986    0.9786    0.9885     54833\n",
      "\n",
      "   micro avg     0.9886    0.9886    0.9886    109570\n",
      "   macro avg     0.9888    0.9886    0.9886    109570\n",
      "weighted avg     0.9888    0.9886    0.9886    109570\n",
      "\n"
     ]
    }
   ],
   "source": [
    "start_time = time.time()\n",
    "print(time.ctime(start_time))\n",
    "\n",
    "clf.fit(enc_train_x_aslal, train_y)\n",
    "\n",
    "pred_y_RF = cross_val_predict(estimator=clf,\n",
    "                              X=np.array(enc_test_x_aslal),\n",
    "                              y=test_y,\n",
    "                              cv=KFold(n_splits=10, random_state=23),\n",
    "                              n_jobs=2)\n",
    "\n",
    "elapsed_time = (time.time() - start_time)\n",
    "print(\"--- %s seconds ---\" %elapsed_time)\n",
    "\n",
    "print(sm.classification_report(test_y, pred_y_RF,digits=4))"
   ]
  },
  {
   "cell_type": "code",
   "execution_count": 103,
   "metadata": {},
   "outputs": [
    {
     "data": {
      "image/png": "[encoded data removed]",
      "text/plain": [
       "<Figure size 432x288 with 1 Axes>"
      ]
     },
     "metadata": {
      "needs_background": "light"
     },
     "output_type": "display_data"
    },
    {
     "data": {
      "image/png": "[encoded data removed]",
      "text/plain": [
       "<Figure size 576x432 with 2 Axes>"
      ]
     },
     "metadata": {
      "needs_background": "light"
     },
     "output_type": "display_data"
    }
   ],
   "source": [
    "plot_roc_cm(pred_y_RF, pred_y_RF, './Figures/ROC_rf_E100MaxfautoMaxdnoneBootT_redds10bal.png', './Figures/CM_rf_E100MaxfautoMaxdnoneBootT_redds10bal.png')"
   ]
  },
  {
   "cell_type": "code",
   "execution_count": null,
   "metadata": {},
   "outputs": [],
   "source": []
  },
  {
   "cell_type": "code",
   "execution_count": null,
   "metadata": {},
   "outputs": [],
   "source": []
  },
  {
   "cell_type": "code",
   "execution_count": null,
   "metadata": {},
   "outputs": [],
   "source": []
  }
 ],
 "metadata": {
  "kernelspec": {
   "display_name": "Python 3",
   "language": "python",
   "name": "python3"
  },
  "language_info": {
   "codemirror_mode": {
    "name": "ipython",
    "version": 3
   },
   "file_extension": ".py",
   "mimetype": "text/x-python",
   "name": "python",
   "nbconvert_exporter": "python",
   "pygments_lexer": "ipython3",
   "version": "3.6.8"
  }
 },
 "nbformat": 4,
 "nbformat_minor": 2
}
