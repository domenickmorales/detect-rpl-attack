{
 "cells": [
  {
   "cell_type": "code",
   "execution_count": 1,
   "metadata": {},
   "outputs": [],
   "source": [
    "import os\n",
    "os.environ[\"CUDA_DEVICE_ORDER\"]=\"PCI_BUS_ID\"\n",
    "os.environ[\"CUDA_VISIBLE_DEVICES\"]=\"0\""
   ]
  },
  {
   "cell_type": "code",
   "execution_count": 2,
   "metadata": {},
   "outputs": [
    {
     "name": "stderr",
     "output_type": "stream",
     "text": [
      "Using TensorFlow backend.\n"
     ]
    }
   ],
   "source": [
    "###################################\n",
    "# TensorFlow wizardry\n",
    "import tensorflow as tf\n",
    "config = tf.ConfigProto()\n",
    " \n",
    "# Don’t pre-allocate memory; allocate as-needed\n",
    "config.gpu_options.allow_growth = True\n",
    " \n",
    "# Only allow a total of half the GPU memory to be allocated\n",
    "config.gpu_options.per_process_gpu_memory_fraction = 0.05\n",
    "#gpu_options = tf.GPUOptions(per_process_gpu_memory_fraction=0.333)\n",
    " \n",
    "# Create a session with the above options specified.\n",
    "from keras import optimizers, regularizers\n",
    "from keras.layers.normalization import BatchNormalization\n",
    "from keras.utils import to_categorical\n",
    "from keras.wrappers.scikit_learn import KerasClassifier\n",
    "from keras import optimizers\n",
    "from keras.constraints import maxnorm\n",
    "from keras.callbacks import ModelCheckpoint, TensorBoard, EarlyStopping\n",
    "\n",
    "from keras.models import Sequential, Model, load_model\n",
    "from keras.layers import Activation, Dense, Dropout, Input\n",
    "from keras import backend as k\n",
    "\n",
    "k.tensorflow_backend.set_session(tf.Session(config=config))\n",
    "#k.tensorflow_backend.set_session(tf.Session(config=tf.ConfigProto(gpu_options=gpu_options))\n",
    "###################################"
   ]
  },
  {
   "cell_type": "code",
   "execution_count": 3,
   "metadata": {},
   "outputs": [],
   "source": [
    "#----------------------------------Import modules------------------------------\n",
    "import numpy as np\n",
    "import pandas as pd\n",
    "import matplotlib.pyplot as plt\n",
    "import seaborn as sns\n",
    "from sklearn.model_selection import train_test_split\n",
    "from sklearn.metrics import confusion_matrix,accuracy_score, roc_curve, auc\n",
    "from sklearn import preprocessing\n",
    "sns.set_style(\"whitegrid\")\n",
    "np.random.seed(23)\n",
    "import time\n",
    "from sklearn.model_selection import GridSearchCV\n",
    "import sklearn.metrics as sm\n",
    "from sklearn.model_selection import KFold\n",
    "from sklearn.model_selection import cross_val_predict\n"
   ]
  },
  {
   "cell_type": "code",
   "execution_count": 4,
   "metadata": {},
   "outputs": [
    {
     "name": "stdout",
     "output_type": "stream",
     "text": [
      "Default GPU Device: /device:GPU:0\n"
     ]
    }
   ],
   "source": [
    "if tf.test.gpu_device_name():\n",
    "    print('Default GPU Device: {}'.format(tf.test.gpu_device_name()))\n",
    "else:\n",
    "    print(\"Please install GPU version of TF\")"
   ]
  },
  {
   "cell_type": "code",
   "execution_count": 5,
   "metadata": {},
   "outputs": [],
   "source": [
    "pathds = '/home/user/01Code/00Datasets_final/'"
   ]
  },
  {
   "cell_type": "code",
   "execution_count": 6,
   "metadata": {},
   "outputs": [],
   "source": [
    "#df_chunk = pd.read_csv(pathds+'SubsetAllSamples/HalfCloneID10bal_norm.csv', chunksize=1000)\n",
    "#df = df_chunk.get_chunk(300000)\n",
    "df = pd.read_csv(pathds+'SubsetAllSamples/HalfCloneID10bal_norm.csv')"
   ]
  },
  {
   "cell_type": "code",
   "execution_count": 7,
   "metadata": {},
   "outputs": [
    {
     "data": {
      "text/plain": [
       "(602576, 49)"
      ]
     },
     "execution_count": 7,
     "metadata": {},
     "output_type": "execute_result"
    }
   ],
   "source": [
    "df.shape"
   ]
  },
  {
   "cell_type": "markdown",
   "metadata": {},
   "source": [
    "#### 4.2 Explaining the data"
   ]
  },
  {
   "cell_type": "code",
   "execution_count": 8,
   "metadata": {},
   "outputs": [
    {
     "name": "stdout",
     "output_type": "stream",
     "text": [
      "Class 0: 301288\n",
      "Class 1: 301288\n",
      "Proportion: 1.0 : 1\n"
     ]
    }
   ],
   "source": [
    "#if you don't have an intuitive sense of how imbalanced these two classes are, let's go visual\n",
    "count_classes = pd.value_counts(df['class'], sort = True)\n",
    "print('Class 0:', count_classes[0])\n",
    "print('Class 1:', count_classes[1])\n",
    "print('Proportion:', round(count_classes[0] / count_classes[1], 3), ': 1')"
   ]
  },
  {
   "cell_type": "code",
   "execution_count": 9,
   "metadata": {},
   "outputs": [
    {
     "data": {
      "image/png": "[encoded data removed]",
      "text/plain": [
       "<Figure size 432x288 with 1 Axes>"
      ]
     },
     "metadata": {
      "needs_background": "light"
     },
     "output_type": "display_data"
    }
   ],
   "source": [
    "count_classes.plot(kind = 'bar', rot=0)\n",
    "plt.xticks(range(2), ['Normal [0]','Malicious [1]'])\n",
    "plt.title(\"Frequency by observation number\")\n",
    "plt.xlabel(\"Class\")\n",
    "plt.ylabel(\"Number of Observations\");"
   ]
  },
  {
   "cell_type": "code",
   "execution_count": 10,
   "metadata": {},
   "outputs": [],
   "source": [
    "#set random seed and percentage of test data\n",
    "RANDOM_SEED = 23 #used to help randomly select the data points\n",
    "TEST_PCT = 0.20 # 20% of the data"
   ]
  },
  {
   "cell_type": "code",
   "execution_count": 11,
   "metadata": {},
   "outputs": [],
   "source": [
    "train, test_df = train_test_split(df, test_size=TEST_PCT, random_state=RANDOM_SEED)"
   ]
  },
  {
   "cell_type": "markdown",
   "metadata": {},
   "source": [
    "+ df -> original dataset \n",
    "+ train -> subset of 80% from original dataset \n",
    "+ test_df -> subset of 20% from original dataset "
   ]
  },
  {
   "cell_type": "code",
   "execution_count": 12,
   "metadata": {},
   "outputs": [],
   "source": [
    "train_df, dev_df = train_test_split(train, test_size=TEST_PCT, random_state=RANDOM_SEED)"
   ]
  },
  {
   "cell_type": "markdown",
   "metadata": {},
   "source": [
    "+ train -> subset of 80% from original dataset \n",
    "+ train_df -> subset of 80% from train\n",
    "+ dev_df -> subset of 20% from train"
   ]
  },
  {
   "cell_type": "code",
   "execution_count": 13,
   "metadata": {},
   "outputs": [
    {
     "name": "stdout",
     "output_type": "stream",
     "text": [
      "0.4998314525162843\n",
      "0.5023959673069742\n",
      "0.4986225895316804\n"
     ]
    }
   ],
   "source": [
    "# Check distribution of mal samples in train and test set\n",
    "print(train_df.iloc[:, 48].sum()/train_df.shape[0]) \n",
    "print(dev_df.iloc[:, 48].sum()/dev_df.shape[0]) \n",
    "print(test_df.iloc[:, 48].sum()/test_df.shape[0])"
   ]
  },
  {
   "cell_type": "code",
   "execution_count": 14,
   "metadata": {},
   "outputs": [],
   "source": [
    "train_x = train_df.iloc[:, :48] \n",
    "dev_x = dev_df.iloc[:, :48] \n",
    "test_x = test_df.iloc[:, :48] "
   ]
  },
  {
   "cell_type": "markdown",
   "metadata": {},
   "source": [
    "+ train_x -> features of train_df **Training subset for AE**\n",
    "+ dev_x -> features of dev_df **Validation subset for AE**\n",
    "+ test_x -> features of test_df **Testing subset for ANN**"
   ]
  },
  {
   "cell_type": "code",
   "execution_count": 15,
   "metadata": {},
   "outputs": [],
   "source": [
    "# Define the final train and test sets\n",
    "train_y = train_df.iloc[:, 48]\n",
    "dev_y = dev_df.iloc[:, 48]\n",
    "test_y = test_df.iloc[:, 48]"
   ]
  },
  {
   "cell_type": "markdown",
   "metadata": {},
   "source": [
    "+ train_y -> **Labels for supervised training of ANN**\n",
    "+ dev_y -> labels of dev_df  *not used for AE neither ANN*\n",
    "+ test_y -> labels of test_df  **Ground Truth for predictions of supervised ANN**"
   ]
  },
  {
   "cell_type": "code",
   "execution_count": 16,
   "metadata": {},
   "outputs": [
    {
     "name": "stdout",
     "output_type": "stream",
     "text": [
      "48\n"
     ]
    }
   ],
   "source": [
    "train_x =np.array(train_x)\n",
    "dev_x =np.array(dev_x)\n",
    "test_x = np.array(test_x)\n",
    "\n",
    "train_y = np.array(train_y)\n",
    "dev_y = np.array(dev_y)\n",
    "test_y = np.array(test_y)\n",
    "\n",
    "print(train_x.shape[1])"
   ]
  },
  {
   "cell_type": "markdown",
   "metadata": {},
   "source": [
    "### Autoencoder Function"
   ]
  },
  {
   "cell_type": "markdown",
   "metadata": {},
   "source": [
    "encoding_dim - 2\n",
    "\n",
    "Epoch 94/300 78596/78596 [==============================] - 10s 125us/step \n",
    "- loss: 3.8990e-05 - acc: 0.0237 - \n",
    "        val_loss: 3.9704e-05 - val_acc: 0.0236"
   ]
  },
  {
   "cell_type": "code",
   "execution_count": 17,
   "metadata": {},
   "outputs": [],
   "source": [
    "def ae(factor_enc_dim, output_activation, \n",
    "                optimizer, loss):\n",
    "\n",
    "    encoding_dim = int(int(train_x.shape[1])/factor_enc_dim)\n",
    "    ### Define input layer\n",
    "    input_data = Input(shape=(train_x.shape[1],))\n",
    "    ### Define encoding layer\n",
    "    encoded = Dense(encoding_dim, activation='relu', name='encoded_bottle_neck')(input_data)\n",
    "    ### Define decoding layer\n",
    "    decoded = Dense(train_x.shape[1], activation=output_activation)(encoded)\n",
    "    ### Create the autoencoder model\n",
    "    autoencoder = Model(input_data, decoded)\n",
    "    autoencoder.compile(optimizer=optimizer,\n",
    "                        loss=loss,\n",
    "                        metrics=['accuracy'])\n",
    "    \n",
    "    print(autoencoder.summary())\n",
    "    \n",
    "    encoder = Model(input_data, encoded)\n",
    "    encoded_train_x = encoder.predict(train_x)\n",
    "    encoded_test_x = encoder.predict(test_x)\n",
    "    \n",
    "    return autoencoder,encoded_train_x,encoded_test_x"
   ]
  },
  {
   "cell_type": "code",
   "execution_count": 18,
   "metadata": {},
   "outputs": [],
   "source": [
    "def sae(factor_enc_dim, output_activation,\n",
    "        optimizer, loss):\n",
    "\n",
    "    encoding_dim = int(int(train_x.shape[1])/factor_enc_dim)\n",
    "    ### Define input layer\n",
    "    input_data = Input(shape=(train_x.shape[1],))\n",
    "    ### Define encoding layer\n",
    "    encoded = Dense(encoding_dim, activation='relu', name='input_layer')(input_data)\n",
    "    encoded = Dense(int(encoding_dim/2), activation='relu')(encoded) ##Stacked AE\n",
    "    encoded_bottle_neck = Dense(int(encoding_dim/4), activation='relu', name='enc_bottle_neck')(encoded) ##Stacked AE\n",
    "    \n",
    "    ### Define decoding layer\n",
    "    decoded = Dense(int(encoding_dim/2), activation='relu')(encoded_bottle_neck) ##Stacked AE\n",
    "    decoded = Dense(encoding_dim, activation='relu')(decoded) ##Stacked AE\n",
    "    decoded = Dense(train_x.shape[1], activation=output_activation)(decoded)\n",
    "    \n",
    "    ### Create the autoencoder model\n",
    "    sae = Model(input_data, decoded)\n",
    "    sae.compile(optimizer=optimizer,\n",
    "                loss=loss,\n",
    "                metrics=['accuracy'])\n",
    "    \n",
    "    print(sae.summary())\n",
    "\n",
    "    encoder = Model(input_data, encoded_bottle_neck)\n",
    "    encoded_train_x = encoder.predict(train_x)\n",
    "    encoded_test_x = encoder.predict(test_x)\n",
    "    \n",
    "    return sae,encoded_train_x,encoded_test_x"
   ]
  },
  {
   "cell_type": "code",
   "execution_count": 19,
   "metadata": {},
   "outputs": [],
   "source": [
    "def spae(factor_enc_dim, output_activation, \n",
    "                optimizer, loss):\n",
    "\n",
    "    encoding_dim = int(int(train_x.shape[1])/factor_enc_dim)\n",
    "    ### Define input layer\n",
    "    input_data = Input(shape=(train_x.shape[1],))\n",
    "    ### Define encoding layer\n",
    "    encoded = Dense(encoding_dim, activity_regularizer=regularizers.l1(1e-4), activation='relu', name='encoded_bottle_neck')(input_data)\n",
    "    ### Define decoding layer\n",
    "    decoded = Dense(train_x.shape[1], activation=output_activation)(encoded)\n",
    "    ### Create the autoencoder model\n",
    "    autoencoder = Model(input_data, decoded)\n",
    "    autoencoder.compile(optimizer=optimizer,\n",
    "                        loss=loss,\n",
    "                        metrics=['accuracy'])\n",
    "    \n",
    "    print(autoencoder.summary())\n",
    "    \n",
    "    encoder = Model(input_data, encoded)\n",
    "    encoded_train_x = encoder.predict(train_x)\n",
    "    encoded_test_x = encoder.predict(test_x)\n",
    "    \n",
    "    return autoencoder,encoded_train_x,encoded_test_x"
   ]
  },
  {
   "cell_type": "code",
   "execution_count": null,
   "metadata": {},
   "outputs": [],
   "source": []
  },
  {
   "cell_type": "code",
   "execution_count": 20,
   "metadata": {},
   "outputs": [],
   "source": [
    "def fit_ae(checkpoint_file, autoencoder,\n",
    "           epochs, batch_size, shuffle):\n",
    "    \n",
    "    early_stopping = EarlyStopping(monitor='val_loss', patience=5)\n",
    "\n",
    "    cp = ModelCheckpoint(filepath=checkpoint_file,\n",
    "                                   save_best_only=True,\n",
    "                                   verbose=0)\n",
    "\n",
    "    tb = TensorBoard(log_dir='./logs',\n",
    "                    histogram_freq=0,\n",
    "                    write_graph=True,\n",
    "                    write_images=True)\n",
    "\n",
    "    start_time = time.time()\n",
    "    print(time.ctime(start_time))\n",
    "\n",
    "    hist_auto = autoencoder.fit(train_x, train_x,\n",
    "                    epochs=epochs,\n",
    "                    batch_size=batch_size,\n",
    "                    shuffle=shuffle,\n",
    "                    verbose=1,\n",
    "                    callbacks=[early_stopping, cp, tb],\n",
    "                    validation_data=(dev_x, dev_x))\n",
    "\n",
    "    elapsed_time = (time.time() - start_time)\n",
    "    print(\"--- AE spent %s seconds ---\" % elapsed_time)\n",
    "    \n",
    "    return hist_auto"
   ]
  },
  {
   "cell_type": "code",
   "execution_count": 21,
   "metadata": {},
   "outputs": [],
   "source": [
    "def plot_hist_auto(hist_auto, fig_file):\n",
    "    best_loss_value = hist_auto.history['loss'][-1]\n",
    "    print('Best loss value:', best_loss_value)\n",
    "\n",
    "    # Summarize history for loss\n",
    "    plt.figure()\n",
    "    plt.plot(hist_auto.history['loss'])\n",
    "    plt.plot(hist_auto.history['val_loss'])\n",
    "    plt.title('Autoencoder model loss')\n",
    "    plt.ylabel('loss')\n",
    "    plt.xlabel('epoch')\n",
    "    plt.legend(['train', 'test'], loc='upper right')\n",
    "    plt.savefig(fig_file)\n",
    "    plt.show()\n",
    "    \n",
    "    return best_loss_value"
   ]
  },
  {
   "cell_type": "code",
   "execution_count": 22,
   "metadata": {},
   "outputs": [],
   "source": [
    "def ann_2h(neurons,encoded_train_x,init_mode,activation_input,\n",
    "               weight_constraint,dropout_rate,activation_output,\n",
    "               loss,optimizer):\n",
    "\n",
    "    # create model\n",
    "    model = Sequential()\n",
    "\n",
    "    model.add(Dense(neurons, input_dim=encoded_train_x.shape[1],\n",
    "                    kernel_initializer=init_mode,\n",
    "                    #kernel_regularizer=regularizers.l2(0.02), #from example\n",
    "                    activation=activation_input,\n",
    "                    kernel_constraint=maxnorm(weight_constraint)\n",
    "                    )\n",
    "              )\n",
    "\n",
    "#     #Hidden Layer\n",
    "    model.add(Dense(36, activation=\"relu\", kernel_initializer=init_mode)) #rezvy\n",
    "\n",
    "    model.add(Dense(24, activation=\"relu\", kernel_initializer=init_mode)) #rezvy\n",
    "    model.add(BatchNormalization()) #commented for ex\n",
    "    model.add(Dropout(dropout_rate))\n",
    "    \n",
    "    model.add(Dense(1, activation=activation_output)) #example\n",
    "    \n",
    "    # Compile model\n",
    "    model.compile(loss=loss, \n",
    "                  optimizer=optimizer, \n",
    "                  metrics=['accuracy'])\n",
    "    \n",
    "    print(model.summary())\n",
    "    \n",
    "    return model"
   ]
  },
  {
   "cell_type": "code",
   "execution_count": 23,
   "metadata": {},
   "outputs": [],
   "source": [
    "def ann_1h_36n(neurons,encoded_train_x,init_mode,activation_input,\n",
    "               weight_constraint,dropout_rate,activation_output,\n",
    "               loss,optimizer):\n",
    "\n",
    "    # create model\n",
    "    model = Sequential()\n",
    "\n",
    "    model.add(Dense(neurons, input_dim=encoded_train_x.shape[1],\n",
    "                    kernel_initializer=init_mode,\n",
    "                    #kernel_regularizer=regularizers.l2(0.02), #from example\n",
    "                    activation=activation_input,\n",
    "                    kernel_constraint=maxnorm(weight_constraint)\n",
    "                    )\n",
    "              )\n",
    "\n",
    "#     #Hidden Layer\n",
    "    model.add(Dense(36, activation=\"relu\", kernel_initializer=init_mode)) #rezvy\n",
    "    model.add(BatchNormalization()) #commented for ex\n",
    "    model.add(Dropout(dropout_rate))\n",
    "    \n",
    "    model.add(Dense(1, activation=activation_output)) #example\n",
    "    \n",
    "    # Compile model\n",
    "    model.compile(loss=loss, \n",
    "                  optimizer=optimizer, \n",
    "                  metrics=['accuracy'])\n",
    "    \n",
    "    print(model.summary())\n",
    "    \n",
    "    return model"
   ]
  },
  {
   "cell_type": "code",
   "execution_count": 24,
   "metadata": {},
   "outputs": [],
   "source": [
    "def ann_1h_24n(neurons,encoded_train_x,init_mode,activation_input,\n",
    "               weight_constraint,dropout_rate,activation_output,\n",
    "               loss,optimizer):\n",
    "\n",
    "    # create model\n",
    "    model = Sequential()\n",
    "\n",
    "    model.add(Dense(neurons, input_dim=encoded_train_x.shape[1],\n",
    "                    kernel_initializer=init_mode,\n",
    "                    #kernel_regularizer=regularizers.l2(0.02), #from example\n",
    "                    activation=activation_input,\n",
    "                    kernel_constraint=maxnorm(weight_constraint)\n",
    "                    )\n",
    "              )\n",
    "\n",
    "#     #Hidden Layer\n",
    "    model.add(Dense(24, activation=\"relu\", kernel_initializer=init_mode)) #rezvy\n",
    "    model.add(BatchNormalization()) #commented for ex\n",
    "    model.add(Dropout(dropout_rate))\n",
    "    \n",
    "    model.add(Dense(1, activation=activation_output)) #example\n",
    "    \n",
    "    # Compile model\n",
    "    model.compile(loss=loss, \n",
    "                  optimizer=optimizer, \n",
    "                  metrics=['accuracy'])\n",
    "    \n",
    "    print(model.summary())\n",
    "    \n",
    "    return model"
   ]
  },
  {
   "cell_type": "code",
   "execution_count": 25,
   "metadata": {},
   "outputs": [],
   "source": [
    "def ann_fit(checkpoint_file,ann,enc_train_x,train_y,epochs,shuffle,batch_size):\n",
    "    early_stopping = EarlyStopping(monitor='val_loss', patience=5)\n",
    "\n",
    "    cp = ModelCheckpoint(filepath=checkpoint_file,\n",
    "                                   save_best_only=True,\n",
    "                                   verbose=0)\n",
    "\n",
    "    tb = TensorBoard(log_dir='./logs',\n",
    "                    histogram_freq=0,\n",
    "                    write_graph=True,\n",
    "                    write_images=True)\n",
    "\n",
    "    start_time = time.time()\n",
    "    print(time.ctime(start_time))\n",
    "\n",
    "    history = ann.fit(enc_train_x,\n",
    "                      train_y,\n",
    "                      validation_split=0.2,\n",
    "                      callbacks=[early_stopping],\n",
    "                      epochs=epochs,\n",
    "                      shuffle=shuffle,\n",
    "                      batch_size=batch_size,\n",
    "                      verbose=1)\n",
    "\n",
    "    elapsed_time = (time.time() - start_time)\n",
    "    print(\"--- ANN spent %s seconds ---\" % elapsed_time)\n",
    "\n",
    "    return history"
   ]
  },
  {
   "cell_type": "code",
   "execution_count": 26,
   "metadata": {},
   "outputs": [],
   "source": [
    "def ann_predict(ann,enc_test_x):\n",
    "    pred_ann_prob = ann.predict(enc_test_x)\n",
    "    pred_ann_prob.shape\n",
    "    pred_ann_prob = pred_ann_prob[:,0]\n",
    "    pred_ann_01 = np.where(pred_ann_prob > 0.5, 1, 0)\n",
    "    \n",
    "    #Print accuracy\n",
    "    acc_ann = accuracy_score(test_y, pred_ann_01)\n",
    "    print('Overall accuracy of Neural Network model:', acc_ann)\n",
    "\n",
    "    classiBM = \"NN\"\n",
    "    preBM = (sm.precision_score(test_y, pred_ann_01)*100) \n",
    "    recallBM = (sm.recall_score(test_y, pred_ann_01)*100) \n",
    "    f1scoreBM = (sm.f1_score(test_y, pred_ann_01)*100)\n",
    "    print(sm.classification_report(test_y, pred_ann_01))\n",
    "    \n",
    "    return pred_ann_prob, pred_ann_01"
   ]
  },
  {
   "cell_type": "code",
   "execution_count": 27,
   "metadata": {},
   "outputs": [],
   "source": [
    "def plot_roc_cm(pred_ann_prob, pred_ann_01, roc_file, cm_file):\n",
    "    false_positive_rate, recall, thresholds = roc_curve(test_y, pred_ann_prob)\n",
    "    roc_auc = auc(false_positive_rate, recall)\n",
    "    plt.figure()\n",
    "    plt.title('Receiver Operating Characteristic (ROC)')\n",
    "    plt.plot(false_positive_rate, recall, 'b', label = 'AUC = %0.3f' %roc_auc)\n",
    "    plt.legend(loc='lower right')\n",
    "    plt.plot([0,1], [0,1], 'r--')\n",
    "    plt.xlim([0.0,1.0])\n",
    "    plt.ylim([0.0,1.0])\n",
    "    plt.ylabel('Recall')\n",
    "    plt.xlabel('Fall-out (1-Specificity)')\n",
    "    plt.savefig(roc_file)\n",
    "    plt.show()\n",
    "    \n",
    "    cm = confusion_matrix(test_y, pred_ann_01)\n",
    "    labels = ['Normal', 'Malicious']\n",
    "    plt.figure(figsize=(8,6))\n",
    "    sns.heatmap(cm,xticklabels=labels, yticklabels=labels, annot=True, fmt='d', cmap=\"RdYlGn\", vmin = 0.2);\n",
    "    plt.title('Confusion Matrix')\n",
    "    plt.ylabel('True Class')\n",
    "    plt.xlabel('Predicted Class')\n",
    "    plt.savefig(cm_file)\n",
    "    plt.show()\n",
    "    "
   ]
  },
  {
   "cell_type": "code",
   "execution_count": 28,
   "metadata": {},
   "outputs": [
    {
     "name": "stdout",
     "output_type": "stream",
     "text": [
      "WARNING:tensorflow:From /home/user/anaconda3/envs/deepl/lib/python3.6/site-packages/tensorflow/python/framework/op_def_library.py:263: colocate_with (from tensorflow.python.framework.ops) is deprecated and will be removed in a future version.\n",
      "Instructions for updating:\n",
      "Colocations handled automatically by placer.\n",
      "_________________________________________________________________\n",
      "Layer (type)                 Output Shape              Param #   \n",
      "=================================================================\n",
      "input_1 (InputLayer)         (None, 48)                0         \n",
      "_________________________________________________________________\n",
      "encoded_bottle_neck (Dense)  (None, 32)                1568      \n",
      "_________________________________________________________________\n",
      "dense_1 (Dense)              (None, 48)                1584      \n",
      "=================================================================\n",
      "Total params: 3,152\n",
      "Trainable params: 3,152\n",
      "Non-trainable params: 0\n",
      "_________________________________________________________________\n",
      "None\n"
     ]
    }
   ],
   "source": [
    "ae_sigmoid_adam_logcosh,enc_train_x_asal,enc_test_x_asal = ae(factor_enc_dim = 1.5,\n",
    "                                                              output_activation = 'sigmoid',\n",
    "                                                              optimizer='Adam',\n",
    "                                                              loss='logcosh')"
   ]
  },
  {
   "cell_type": "code",
   "execution_count": 29,
   "metadata": {},
   "outputs": [],
   "source": [
    "#ae_sigmoid_adam_logcosh = load_model('ae_sigmoid_adam_logcosh_redds10bal.h5')"
   ]
  },
  {
   "cell_type": "code",
   "execution_count": 30,
   "metadata": {},
   "outputs": [
    {
     "name": "stdout",
     "output_type": "stream",
     "text": [
      "Tue Jun  4 20:43:50 2019\n",
      "WARNING:tensorflow:From /home/user/anaconda3/envs/deepl/lib/python3.6/site-packages/tensorflow/python/ops/math_ops.py:3066: to_int32 (from tensorflow.python.ops.math_ops) is deprecated and will be removed in a future version.\n",
      "Instructions for updating:\n",
      "Use tf.cast instead.\n",
      "Train on 385648 samples, validate on 96412 samples\n",
      "Epoch 1/200\n",
      "385648/385648 [==============================] - 17s 45us/step - loss: 0.0023 - acc: 0.0449 - val_loss: 5.0220e-05 - val_acc: 0.0688\n",
      "Epoch 2/200\n",
      "385648/385648 [==============================] - 23s 58us/step - loss: 4.4786e-05 - acc: 0.0633 - val_loss: 4.1763e-05 - val_acc: 0.0628\n",
      "Epoch 3/200\n",
      "385648/385648 [==============================] - 23s 61us/step - loss: 4.0920e-05 - acc: 0.0551 - val_loss: 4.0987e-05 - val_acc: 0.0532\n",
      "Epoch 4/200\n",
      "385648/385648 [==============================] - 21s 54us/step - loss: 4.0487e-05 - acc: 0.0521 - val_loss: 4.0720e-05 - val_acc: 0.0549\n",
      "Epoch 5/200\n",
      "385648/385648 [==============================] - 21s 53us/step - loss: 4.0104e-05 - acc: 0.0516 - val_loss: 4.0082e-05 - val_acc: 0.0518\n",
      "Epoch 6/200\n",
      "385648/385648 [==============================] - 21s 54us/step - loss: 3.4917e-05 - acc: 0.0473 - val_loss: 2.9901e-05 - val_acc: 0.0540\n",
      "Epoch 7/200\n",
      "385648/385648 [==============================] - 21s 54us/step - loss: 2.8416e-05 - acc: 0.0543 - val_loss: 2.8260e-05 - val_acc: 0.0569\n",
      "Epoch 8/200\n",
      "385648/385648 [==============================] - 21s 55us/step - loss: 2.7585e-05 - acc: 0.0546 - val_loss: 2.7920e-05 - val_acc: 0.0594\n",
      "Epoch 9/200\n",
      "385648/385648 [==============================] - 21s 54us/step - loss: 2.7276e-05 - acc: 0.0563 - val_loss: 2.7494e-05 - val_acc: 0.0605\n",
      "Epoch 10/200\n",
      "385648/385648 [==============================] - 21s 55us/step - loss: 2.7030e-05 - acc: 0.0576 - val_loss: 2.7276e-05 - val_acc: 0.0622\n",
      "Epoch 11/200\n",
      "385648/385648 [==============================] - 21s 55us/step - loss: 2.6793e-05 - acc: 0.0587 - val_loss: 2.6856e-05 - val_acc: 0.0651\n",
      "Epoch 12/200\n",
      "385648/385648 [==============================] - 21s 55us/step - loss: 2.6575e-05 - acc: 0.0616 - val_loss: 2.6754e-05 - val_acc: 0.0672\n",
      "Epoch 13/200\n",
      "385648/385648 [==============================] - 21s 55us/step - loss: 2.6509e-05 - acc: 0.0629 - val_loss: 2.6665e-05 - val_acc: 0.0638\n",
      "Epoch 14/200\n",
      "385648/385648 [==============================] - 22s 56us/step - loss: 2.6441e-05 - acc: 0.0622 - val_loss: 2.6850e-05 - val_acc: 0.0639\n",
      "Epoch 15/200\n",
      "385648/385648 [==============================] - 21s 56us/step - loss: 2.6314e-05 - acc: 0.0611 - val_loss: 2.6429e-05 - val_acc: 0.0611\n",
      "Epoch 16/200\n",
      "385648/385648 [==============================] - 22s 56us/step - loss: 2.6038e-05 - acc: 0.0577 - val_loss: 2.6205e-05 - val_acc: 0.0584\n",
      "Epoch 17/200\n",
      "385648/385648 [==============================] - 21s 55us/step - loss: 2.5915e-05 - acc: 0.0535 - val_loss: 2.6134e-05 - val_acc: 0.0543\n",
      "Epoch 18/200\n",
      "385648/385648 [==============================] - 21s 56us/step - loss: 2.5627e-05 - acc: 0.0518 - val_loss: 2.5822e-05 - val_acc: 0.0520\n",
      "Epoch 19/200\n",
      "385648/385648 [==============================] - 21s 55us/step - loss: 2.5399e-05 - acc: 0.0481 - val_loss: 2.5698e-05 - val_acc: 0.0490\n",
      "Epoch 20/200\n",
      "385648/385648 [==============================] - 21s 55us/step - loss: 2.5239e-05 - acc: 0.0455 - val_loss: 2.5553e-05 - val_acc: 0.0475\n",
      "Epoch 21/200\n",
      "385648/385648 [==============================] - 21s 55us/step - loss: 2.5104e-05 - acc: 0.0434 - val_loss: 2.5372e-05 - val_acc: 0.0462\n",
      "Epoch 22/200\n",
      "385648/385648 [==============================] - 21s 55us/step - loss: 2.4996e-05 - acc: 0.0436 - val_loss: 2.5137e-05 - val_acc: 0.0453\n",
      "Epoch 23/200\n",
      "385648/385648 [==============================] - 21s 55us/step - loss: 2.4887e-05 - acc: 0.0432 - val_loss: 2.4965e-05 - val_acc: 0.0443\n",
      "Epoch 24/200\n",
      "385648/385648 [==============================] - 21s 55us/step - loss: 2.4791e-05 - acc: 0.0416 - val_loss: 2.4835e-05 - val_acc: 0.0420\n",
      "Epoch 25/200\n",
      "385648/385648 [==============================] - 21s 55us/step - loss: 2.4709e-05 - acc: 0.0392 - val_loss: 2.4771e-05 - val_acc: 0.0405\n",
      "Epoch 26/200\n",
      "385648/385648 [==============================] - 21s 55us/step - loss: 2.4634e-05 - acc: 0.0388 - val_loss: 2.4856e-05 - val_acc: 0.0396\n",
      "Epoch 27/200\n",
      "385648/385648 [==============================] - 21s 55us/step - loss: 2.4566e-05 - acc: 0.0397 - val_loss: 2.4804e-05 - val_acc: 0.0396\n",
      "Epoch 28/200\n",
      "385648/385648 [==============================] - 21s 55us/step - loss: 2.4513e-05 - acc: 0.0419 - val_loss: 2.4823e-05 - val_acc: 0.0413\n",
      "Epoch 29/200\n",
      "385648/385648 [==============================] - 21s 55us/step - loss: 2.4466e-05 - acc: 0.0432 - val_loss: 2.4875e-05 - val_acc: 0.0421\n",
      "Epoch 30/200\n",
      "385648/385648 [==============================] - 21s 55us/step - loss: 2.4428e-05 - acc: 0.0427 - val_loss: 2.4831e-05 - val_acc: 0.0410\n",
      "--- AE spent 636.7043693065643 seconds ---\n"
     ]
    }
   ],
   "source": [
    "hist_ae_sigmoid_adam_logcosh = fit_ae(checkpoint_file = \"ae_sigmoid_adam_logcosh_redds10bal.h5\",\n",
    "                                        autoencoder = ae_sigmoid_adam_logcosh, \n",
    "                                        epochs = 200, \n",
    "                                        batch_size = 48, \n",
    "                                        shuffle = False)"
   ]
  },
  {
   "cell_type": "code",
   "execution_count": 31,
   "metadata": {},
   "outputs": [
    {
     "name": "stdout",
     "output_type": "stream",
     "text": [
      "Best loss value: 2.4428026906713728e-05\n"
     ]
    },
    {
     "data": {
      "image/png": "[encoded data removed]",
      "text/plain": [
       "<Figure size 432x288 with 1 Axes>"
      ]
     },
     "metadata": {
      "needs_background": "light"
     },
     "output_type": "display_data"
    }
   ],
   "source": [
    "best_loss_value_ae_sigmoid_adam_logcosh = plot_hist_auto(hist_ae_sigmoid_adam_logcosh, './Figures/ae_sigmoid_adam_logcosh.png')"
   ]
  },
  {
   "cell_type": "code",
   "execution_count": 32,
   "metadata": {},
   "outputs": [
    {
     "name": "stdout",
     "output_type": "stream",
     "text": [
      "_________________________________________________________________\n",
      "Layer (type)                 Output Shape              Param #   \n",
      "=================================================================\n",
      "input_2 (InputLayer)         (None, 48)                0         \n",
      "_________________________________________________________________\n",
      "encoded_bottle_neck (Dense)  (None, 32)                1568      \n",
      "_________________________________________________________________\n",
      "dense_2 (Dense)              (None, 48)                1584      \n",
      "=================================================================\n",
      "Total params: 3,152\n",
      "Trainable params: 3,152\n",
      "Non-trainable params: 0\n",
      "_________________________________________________________________\n",
      "None\n"
     ]
    }
   ],
   "source": [
    "ae_sigmoid_adam_mse,enc_train_x_asam,enc_test_x_asam = ae(factor_enc_dim = 1.5,\n",
    "                                                          output_activation = 'sigmoid',\n",
    "                                                          optimizer='Adam',\n",
    "                                                          loss='mean_squared_error')"
   ]
  },
  {
   "cell_type": "code",
   "execution_count": 33,
   "metadata": {},
   "outputs": [],
   "source": [
    "#ae_sigmoid_adam_mse = load_model('ae_sigmoid_adam_mse_redds10bal.h5')"
   ]
  },
  {
   "cell_type": "code",
   "execution_count": 34,
   "metadata": {},
   "outputs": [
    {
     "name": "stdout",
     "output_type": "stream",
     "text": [
      "Tue Jun  4 20:54:38 2019\n",
      "Train on 385648 samples, validate on 96412 samples\n",
      "Epoch 1/200\n",
      "385648/385648 [==============================] - 21s 55us/step - loss: 0.0045 - acc: 0.0177 - val_loss: 1.0940e-04 - val_acc: 0.0381\n",
      "Epoch 2/200\n",
      "385648/385648 [==============================] - 21s 54us/step - loss: 9.0836e-05 - acc: 0.0312 - val_loss: 8.3077e-05 - val_acc: 0.0224\n",
      "Epoch 3/200\n",
      "385648/385648 [==============================] - 21s 54us/step - loss: 8.2039e-05 - acc: 0.0283 - val_loss: 8.1736e-05 - val_acc: 0.0339\n",
      "Epoch 4/200\n",
      "385648/385648 [==============================] - 21s 55us/step - loss: 8.1227e-05 - acc: 0.0402 - val_loss: 8.1018e-05 - val_acc: 0.0445\n",
      "Epoch 5/200\n",
      "385648/385648 [==============================] - 21s 55us/step - loss: 8.0337e-05 - acc: 0.0431 - val_loss: 7.9701e-05 - val_acc: 0.0478\n",
      "Epoch 6/200\n",
      "385648/385648 [==============================] - 21s 55us/step - loss: 7.8409e-05 - acc: 0.0544 - val_loss: 7.6985e-05 - val_acc: 0.0607\n",
      "Epoch 7/200\n",
      "385648/385648 [==============================] - 21s 55us/step - loss: 7.6249e-05 - acc: 0.0623 - val_loss: 7.5263e-05 - val_acc: 0.0693\n",
      "Epoch 8/200\n",
      "385648/385648 [==============================] - 21s 55us/step - loss: 7.4737e-05 - acc: 0.0673 - val_loss: 7.3102e-05 - val_acc: 0.0722\n",
      "Epoch 9/200\n",
      "385648/385648 [==============================] - 21s 55us/step - loss: 7.2429e-05 - acc: 0.0688 - val_loss: 7.0591e-05 - val_acc: 0.0809\n",
      "Epoch 10/200\n",
      "385648/385648 [==============================] - 21s 55us/step - loss: 7.0510e-05 - acc: 0.0727 - val_loss: 6.9125e-05 - val_acc: 0.0757\n",
      "Epoch 11/200\n",
      "385648/385648 [==============================] - 21s 56us/step - loss: 6.9552e-05 - acc: 0.0688 - val_loss: 6.8287e-05 - val_acc: 0.0702\n",
      "Epoch 12/200\n",
      "385648/385648 [==============================] - 21s 55us/step - loss: 6.8995e-05 - acc: 0.0637 - val_loss: 6.7692e-05 - val_acc: 0.0662\n",
      "Epoch 13/200\n",
      "385648/385648 [==============================] - 21s 55us/step - loss: 6.8598e-05 - acc: 0.0641 - val_loss: 6.7194e-05 - val_acc: 0.0647\n",
      "Epoch 14/200\n",
      "385648/385648 [==============================] - 21s 54us/step - loss: 6.7870e-05 - acc: 0.0527 - val_loss: 6.4999e-05 - val_acc: 0.0271\n",
      "Epoch 15/200\n",
      "385648/385648 [==============================] - 21s 54us/step - loss: 6.5727e-05 - acc: 0.0258 - val_loss: 6.4353e-05 - val_acc: 0.0271\n",
      "Epoch 16/200\n",
      "385648/385648 [==============================] - 21s 54us/step - loss: 6.5439e-05 - acc: 0.0269 - val_loss: 6.4022e-05 - val_acc: 0.0277\n",
      "Epoch 17/200\n",
      "385648/385648 [==============================] - 21s 55us/step - loss: 6.5244e-05 - acc: 0.0282 - val_loss: 6.3702e-05 - val_acc: 0.0267\n",
      "Epoch 18/200\n",
      "385648/385648 [==============================] - 21s 55us/step - loss: 6.4981e-05 - acc: 0.0274 - val_loss: 6.3315e-05 - val_acc: 0.0317\n",
      "Epoch 19/200\n",
      "385648/385648 [==============================] - 21s 56us/step - loss: 6.4756e-05 - acc: 0.0287 - val_loss: 6.3098e-05 - val_acc: 0.0313\n",
      "Epoch 20/200\n",
      "385648/385648 [==============================] - 21s 55us/step - loss: 6.4599e-05 - acc: 0.0272 - val_loss: 6.2891e-05 - val_acc: 0.0294\n",
      "Epoch 21/200\n",
      "385648/385648 [==============================] - 22s 56us/step - loss: 6.4458e-05 - acc: 0.0254 - val_loss: 6.2719e-05 - val_acc: 0.0275\n",
      "Epoch 22/200\n",
      "385648/385648 [==============================] - 21s 55us/step - loss: 6.4312e-05 - acc: 0.0229 - val_loss: 6.2514e-05 - val_acc: 0.0264\n",
      "Epoch 23/200\n",
      "385648/385648 [==============================] - 21s 55us/step - loss: 6.4179e-05 - acc: 0.0212 - val_loss: 6.2338e-05 - val_acc: 0.0211\n",
      "Epoch 24/200\n",
      "385648/385648 [==============================] - 21s 54us/step - loss: 6.4073e-05 - acc: 0.0193 - val_loss: 6.2182e-05 - val_acc: 0.0192\n",
      "Epoch 25/200\n",
      "385648/385648 [==============================] - 21s 54us/step - loss: 6.3963e-05 - acc: 0.0176 - val_loss: 6.2035e-05 - val_acc: 0.0177\n",
      "Epoch 26/200\n",
      "385648/385648 [==============================] - 21s 54us/step - loss: 6.3857e-05 - acc: 0.0172 - val_loss: 6.1915e-05 - val_acc: 0.0206\n",
      "Epoch 27/200\n",
      "385648/385648 [==============================] - 21s 55us/step - loss: 6.3763e-05 - acc: 0.0177 - val_loss: 6.1820e-05 - val_acc: 0.0210\n",
      "Epoch 28/200\n",
      "385648/385648 [==============================] - 21s 54us/step - loss: 6.3623e-05 - acc: 0.0176 - val_loss: 6.1568e-05 - val_acc: 0.0207\n",
      "Epoch 29/200\n",
      "385648/385648 [==============================] - 21s 54us/step - loss: 6.3386e-05 - acc: 0.0193 - val_loss: 6.1201e-05 - val_acc: 0.0217\n",
      "Epoch 30/200\n",
      "385648/385648 [==============================] - 21s 54us/step - loss: 6.3161e-05 - acc: 0.0204 - val_loss: 6.1075e-05 - val_acc: 0.0240\n",
      "Epoch 31/200\n",
      "385648/385648 [==============================] - 21s 54us/step - loss: 6.2819e-05 - acc: 0.0292 - val_loss: 6.0687e-05 - val_acc: 0.0342\n",
      "Epoch 32/200\n",
      "385648/385648 [==============================] - 21s 53us/step - loss: 6.2208e-05 - acc: 0.0413 - val_loss: 5.9831e-05 - val_acc: 0.0512\n",
      "Epoch 33/200\n",
      "385648/385648 [==============================] - 23s 59us/step - loss: 5.2784e-05 - acc: 0.0476 - val_loss: 4.7390e-05 - val_acc: 0.0484\n",
      "Epoch 34/200\n",
      "385648/385648 [==============================] - 23s 60us/step - loss: 4.6113e-05 - acc: 0.0391 - val_loss: 4.2675e-05 - val_acc: 0.0362\n",
      "Epoch 35/200\n",
      "385648/385648 [==============================] - 21s 56us/step - loss: 4.2989e-05 - acc: 0.0329 - val_loss: 4.1277e-05 - val_acc: 0.0230\n",
      "Epoch 36/200\n",
      "385648/385648 [==============================] - 21s 54us/step - loss: 4.1718e-05 - acc: 0.0095 - val_loss: 3.9867e-05 - val_acc: 0.0063\n",
      "Epoch 37/200\n",
      "385648/385648 [==============================] - 21s 54us/step - loss: 4.0932e-05 - acc: 0.0106 - val_loss: 3.9470e-05 - val_acc: 0.0065\n",
      "Epoch 38/200\n",
      "385648/385648 [==============================] - 21s 54us/step - loss: 4.0573e-05 - acc: 0.0142 - val_loss: 3.9050e-05 - val_acc: 0.0082\n",
      "Epoch 39/200\n",
      "385648/385648 [==============================] - 21s 54us/step - loss: 4.0278e-05 - acc: 0.0140 - val_loss: 3.8746e-05 - val_acc: 0.0136\n",
      "Epoch 40/200\n",
      "385648/385648 [==============================] - 21s 55us/step - loss: 4.0001e-05 - acc: 0.0138 - val_loss: 3.8361e-05 - val_acc: 0.0136\n",
      "Epoch 41/200\n",
      "385648/385648 [==============================] - 21s 55us/step - loss: 3.9535e-05 - acc: 0.0152 - val_loss: 3.7813e-05 - val_acc: 0.0099\n",
      "Epoch 42/200\n",
      "385648/385648 [==============================] - 21s 55us/step - loss: 3.9024e-05 - acc: 0.0141 - val_loss: 3.7634e-05 - val_acc: 0.0137\n",
      "Epoch 43/200\n",
      "385648/385648 [==============================] - 21s 56us/step - loss: 3.8751e-05 - acc: 0.0161 - val_loss: 3.7499e-05 - val_acc: 0.0166\n",
      "Epoch 44/200\n",
      "385648/385648 [==============================] - 21s 55us/step - loss: 3.8495e-05 - acc: 0.0177 - val_loss: 3.7310e-05 - val_acc: 0.0162\n",
      "Epoch 45/200\n",
      "385648/385648 [==============================] - 21s 55us/step - loss: 3.8230e-05 - acc: 0.0179 - val_loss: 3.7071e-05 - val_acc: 0.0173\n",
      "Epoch 46/200\n",
      "385648/385648 [==============================] - 21s 56us/step - loss: 3.7920e-05 - acc: 0.0179 - val_loss: 3.6841e-05 - val_acc: 0.0160\n",
      "Epoch 47/200\n",
      "385648/385648 [==============================] - 21s 56us/step - loss: 3.7665e-05 - acc: 0.0173 - val_loss: 3.6694e-05 - val_acc: 0.0140\n",
      "Epoch 48/200\n",
      "385648/385648 [==============================] - 21s 55us/step - loss: 3.7109e-05 - acc: 0.0177 - val_loss: 3.6016e-05 - val_acc: 0.0180\n",
      "Epoch 49/200\n",
      "385648/385648 [==============================] - 21s 56us/step - loss: 3.6673e-05 - acc: 0.0187 - val_loss: 3.5907e-05 - val_acc: 0.0182\n",
      "Epoch 50/200\n",
      "385648/385648 [==============================] - 21s 55us/step - loss: 3.6562e-05 - acc: 0.0190 - val_loss: 3.5871e-05 - val_acc: 0.0183\n",
      "Epoch 51/200\n",
      "385648/385648 [==============================] - 21s 55us/step - loss: 3.6461e-05 - acc: 0.0190 - val_loss: 3.5932e-05 - val_acc: 0.0184\n",
      "Epoch 52/200\n",
      "385648/385648 [==============================] - 21s 55us/step - loss: 3.6362e-05 - acc: 0.0192 - val_loss: 3.5978e-05 - val_acc: 0.0189\n",
      "Epoch 53/200\n",
      "385648/385648 [==============================] - 21s 55us/step - loss: 3.6085e-05 - acc: 0.0204 - val_loss: 3.5684e-05 - val_acc: 0.0206\n",
      "Epoch 54/200\n",
      "385648/385648 [==============================] - 21s 54us/step - loss: 3.5950e-05 - acc: 0.0227 - val_loss: 3.5445e-05 - val_acc: 0.0229\n",
      "Epoch 55/200\n",
      "385648/385648 [==============================] - 21s 55us/step - loss: 3.5845e-05 - acc: 0.0231 - val_loss: 3.5346e-05 - val_acc: 0.0219\n",
      "Epoch 56/200\n",
      "385648/385648 [==============================] - 21s 55us/step - loss: 3.5615e-05 - acc: 0.0225 - val_loss: 3.5320e-05 - val_acc: 0.0218\n",
      "Epoch 57/200\n",
      "385648/385648 [==============================] - 21s 55us/step - loss: 3.5502e-05 - acc: 0.0226 - val_loss: 3.5116e-05 - val_acc: 0.0222\n",
      "Epoch 58/200\n",
      "385648/385648 [==============================] - 21s 55us/step - loss: 3.5418e-05 - acc: 0.0221 - val_loss: 3.4909e-05 - val_acc: 0.0217\n",
      "Epoch 59/200\n",
      "385648/385648 [==============================] - 21s 55us/step - loss: 3.5364e-05 - acc: 0.0216 - val_loss: 3.4864e-05 - val_acc: 0.0209\n",
      "Epoch 60/200\n",
      "385648/385648 [==============================] - 21s 55us/step - loss: 3.5324e-05 - acc: 0.0208 - val_loss: 3.4784e-05 - val_acc: 0.0213\n",
      "Epoch 61/200\n",
      "385648/385648 [==============================] - 21s 55us/step - loss: 3.5290e-05 - acc: 0.0206 - val_loss: 3.4750e-05 - val_acc: 0.0212\n",
      "Epoch 62/200\n",
      "385648/385648 [==============================] - 21s 55us/step - loss: 3.5259e-05 - acc: 0.0202 - val_loss: 3.4780e-05 - val_acc: 0.0213\n",
      "Epoch 63/200\n",
      "385648/385648 [==============================] - 21s 55us/step - loss: 3.5226e-05 - acc: 0.0197 - val_loss: 3.4755e-05 - val_acc: 0.0204\n",
      "Epoch 64/200\n",
      "385648/385648 [==============================] - 21s 55us/step - loss: 3.5199e-05 - acc: 0.0194 - val_loss: 3.4747e-05 - val_acc: 0.0201\n",
      "Epoch 65/200\n",
      "385648/385648 [==============================] - 21s 55us/step - loss: 3.5176e-05 - acc: 0.0193 - val_loss: 3.4738e-05 - val_acc: 0.0196\n",
      "Epoch 66/200\n",
      "385648/385648 [==============================] - 21s 55us/step - loss: 3.5155e-05 - acc: 0.0189 - val_loss: 3.4729e-05 - val_acc: 0.0193\n",
      "Epoch 67/200\n",
      "385648/385648 [==============================] - 21s 55us/step - loss: 3.5136e-05 - acc: 0.0191 - val_loss: 3.4703e-05 - val_acc: 0.0199\n",
      "Epoch 68/200\n",
      "385648/385648 [==============================] - 21s 55us/step - loss: 3.5112e-05 - acc: 0.0185 - val_loss: 3.4682e-05 - val_acc: 0.0175\n",
      "Epoch 69/200\n",
      "385648/385648 [==============================] - 21s 55us/step - loss: 3.5091e-05 - acc: 0.0179 - val_loss: 3.4666e-05 - val_acc: 0.0183\n",
      "Epoch 70/200\n",
      "385648/385648 [==============================] - 22s 56us/step - loss: 3.5076e-05 - acc: 0.0173 - val_loss: 3.4698e-05 - val_acc: 0.0186\n",
      "Epoch 71/200\n",
      "385648/385648 [==============================] - 21s 55us/step - loss: 3.5060e-05 - acc: 0.0175 - val_loss: 3.4698e-05 - val_acc: 0.0182\n",
      "Epoch 72/200\n",
      "385648/385648 [==============================] - 21s 55us/step - loss: 3.5046e-05 - acc: 0.0178 - val_loss: 3.4718e-05 - val_acc: 0.0184\n",
      "Epoch 73/200\n",
      "385648/385648 [==============================] - 21s 55us/step - loss: 3.5031e-05 - acc: 0.0176 - val_loss: 3.4710e-05 - val_acc: 0.0183\n",
      "Epoch 74/200\n",
      "385648/385648 [==============================] - 21s 56us/step - loss: 3.5020e-05 - acc: 0.0171 - val_loss: 3.4708e-05 - val_acc: 0.0143\n",
      "--- AE spent 1571.5794661045074 seconds ---\n"
     ]
    }
   ],
   "source": [
    "hist_ae_sigmoid_adam_mse = fit_ae(checkpoint_file = \"ae_sigmoid_adam_mse_redds10bal.h5\",\n",
    "                                  autoencoder = ae_sigmoid_adam_mse, \n",
    "                                  epochs = 200, \n",
    "                                  batch_size = 48,\n",
    "                                  shuffle = False)"
   ]
  },
  {
   "cell_type": "code",
   "execution_count": 35,
   "metadata": {},
   "outputs": [
    {
     "name": "stdout",
     "output_type": "stream",
     "text": [
      "Best loss value: 3.501950556787215e-05\n"
     ]
    },
    {
     "data": {
      "image/png": "[encoded data removed]",
      "text/plain": [
       "<Figure size 432x288 with 1 Axes>"
      ]
     },
     "metadata": {
      "needs_background": "light"
     },
     "output_type": "display_data"
    }
   ],
   "source": [
    "best_loss_value_ae_sigmoid_adam_mse  = plot_hist_auto(hist_ae_sigmoid_adam_mse, './Figures/hist_ae_sigmoid_adam_mse.png')"
   ]
  },
  {
   "cell_type": "code",
   "execution_count": 36,
   "metadata": {},
   "outputs": [
    {
     "name": "stdout",
     "output_type": "stream",
     "text": [
      "_________________________________________________________________\n",
      "Layer (type)                 Output Shape              Param #   \n",
      "=================================================================\n",
      "input_3 (InputLayer)         (None, 48)                0         \n",
      "_________________________________________________________________\n",
      "input_layer (Dense)          (None, 32)                1568      \n",
      "_________________________________________________________________\n",
      "dense_3 (Dense)              (None, 16)                528       \n",
      "_________________________________________________________________\n",
      "enc_bottle_neck (Dense)      (None, 8)                 136       \n",
      "_________________________________________________________________\n",
      "dense_4 (Dense)              (None, 16)                144       \n",
      "_________________________________________________________________\n",
      "dense_5 (Dense)              (None, 32)                544       \n",
      "_________________________________________________________________\n",
      "dense_6 (Dense)              (None, 48)                1584      \n",
      "=================================================================\n",
      "Total params: 4,504\n",
      "Trainable params: 4,504\n",
      "Non-trainable params: 0\n",
      "_________________________________________________________________\n",
      "None\n"
     ]
    }
   ],
   "source": [
    "sae_sigmoid_adam_mse,enc_train_x_ssam,enc_test_x_ssam = sae(factor_enc_dim = 1.5,\n",
    "                                                          output_activation = 'sigmoid',\n",
    "                                                          optimizer='Adam',\n",
    "                                                          loss='mean_squared_error')"
   ]
  },
  {
   "cell_type": "code",
   "execution_count": 37,
   "metadata": {},
   "outputs": [],
   "source": [
    "#sae_sigmoid_adam_mse = load_model('sae_sigmoid_adam_mse_redds10bal.h5')"
   ]
  },
  {
   "cell_type": "code",
   "execution_count": 38,
   "metadata": {},
   "outputs": [
    {
     "name": "stdout",
     "output_type": "stream",
     "text": [
      "Tue Jun  4 21:21:01 2019\n",
      "Train on 385648 samples, validate on 96412 samples\n",
      "Epoch 1/200\n",
      "385648/385648 [==============================] - 31s 80us/step - loss: 0.0192 - acc: 0.1576 - val_loss: 0.0119 - val_acc: 0.2158\n",
      "Epoch 2/200\n",
      "385648/385648 [==============================] - 31s 80us/step - loss: 0.0111 - acc: 0.1893 - val_loss: 0.0104 - val_acc: 0.2277\n",
      "Epoch 3/200\n",
      "385648/385648 [==============================] - 31s 80us/step - loss: 0.0095 - acc: 0.2314 - val_loss: 0.0081 - val_acc: 0.3142\n",
      "Epoch 4/200\n",
      "385648/385648 [==============================] - 31s 80us/step - loss: 0.0078 - acc: 0.3458 - val_loss: 0.0078 - val_acc: 0.3068\n",
      "Epoch 5/200\n",
      "385648/385648 [==============================] - 31s 80us/step - loss: 0.0076 - acc: 0.3553 - val_loss: 0.0076 - val_acc: 0.3656\n",
      "Epoch 6/200\n",
      "385648/385648 [==============================] - 31s 79us/step - loss: 0.0076 - acc: 0.3316 - val_loss: 0.0076 - val_acc: 0.3479\n",
      "Epoch 7/200\n",
      "385648/385648 [==============================] - 31s 80us/step - loss: 0.0072 - acc: 0.3324 - val_loss: 0.0063 - val_acc: 0.3415\n",
      "Epoch 8/200\n",
      "385648/385648 [==============================] - 31s 80us/step - loss: 0.0062 - acc: 0.3280 - val_loss: 0.0061 - val_acc: 0.3132\n",
      "Epoch 9/200\n",
      "385648/385648 [==============================] - 30s 78us/step - loss: 0.0061 - acc: 0.3073 - val_loss: 0.0059 - val_acc: 0.3012\n",
      "Epoch 10/200\n",
      "385648/385648 [==============================] - 31s 80us/step - loss: 0.0056 - acc: 0.2754 - val_loss: 0.0056 - val_acc: 0.2510\n",
      "Epoch 11/200\n",
      "385648/385648 [==============================] - 31s 80us/step - loss: 0.0053 - acc: 0.2994 - val_loss: 0.0051 - val_acc: 0.2876\n",
      "Epoch 12/200\n",
      "385648/385648 [==============================] - 30s 79us/step - loss: 0.0052 - acc: 0.3006 - val_loss: 0.0051 - val_acc: 0.2724\n",
      "Epoch 13/200\n",
      "385648/385648 [==============================] - 31s 80us/step - loss: 0.0051 - acc: 0.3173 - val_loss: 0.0050 - val_acc: 0.3036\n",
      "Epoch 14/200\n",
      "385648/385648 [==============================] - 31s 80us/step - loss: 0.0051 - acc: 0.3050 - val_loss: 0.0050 - val_acc: 0.3320\n",
      "Epoch 15/200\n",
      "385648/385648 [==============================] - 31s 80us/step - loss: 0.0050 - acc: 0.3207 - val_loss: 0.0049 - val_acc: 0.3081\n",
      "Epoch 16/200\n",
      "385648/385648 [==============================] - 31s 79us/step - loss: 0.0050 - acc: 0.2907 - val_loss: 0.0049 - val_acc: 0.3050\n",
      "Epoch 17/200\n",
      "385648/385648 [==============================] - 31s 79us/step - loss: 0.0050 - acc: 0.2914 - val_loss: 0.0049 - val_acc: 0.2921\n",
      "Epoch 18/200\n",
      "385648/385648 [==============================] - 31s 79us/step - loss: 0.0050 - acc: 0.2918 - val_loss: 0.0049 - val_acc: 0.3078\n",
      "Epoch 19/200\n",
      "385648/385648 [==============================] - 31s 80us/step - loss: 0.0050 - acc: 0.3022 - val_loss: 0.0049 - val_acc: 0.2914\n",
      "Epoch 20/200\n",
      "385648/385648 [==============================] - 31s 79us/step - loss: 0.0049 - acc: 0.2897 - val_loss: 0.0049 - val_acc: 0.2677\n",
      "Epoch 21/200\n",
      "385648/385648 [==============================] - 31s 80us/step - loss: 0.0049 - acc: 0.2825 - val_loss: 0.0049 - val_acc: 0.2819\n",
      "Epoch 22/200\n",
      "385648/385648 [==============================] - 31s 80us/step - loss: 0.0049 - acc: 0.2865 - val_loss: 0.0049 - val_acc: 0.2897\n",
      "Epoch 23/200\n",
      "385648/385648 [==============================] - 31s 80us/step - loss: 0.0049 - acc: 0.2948 - val_loss: 0.0049 - val_acc: 0.2881\n",
      "Epoch 24/200\n",
      "385648/385648 [==============================] - 31s 80us/step - loss: 0.0049 - acc: 0.2884 - val_loss: 0.0049 - val_acc: 0.3354\n",
      "Epoch 25/200\n",
      "385648/385648 [==============================] - 31s 80us/step - loss: 0.0049 - acc: 0.3133 - val_loss: 0.0049 - val_acc: 0.3048\n",
      "Epoch 26/200\n",
      "385648/385648 [==============================] - 31s 80us/step - loss: 0.0047 - acc: 0.3053 - val_loss: 0.0045 - val_acc: 0.2868\n",
      "Epoch 27/200\n",
      "385648/385648 [==============================] - 31s 80us/step - loss: 0.0045 - acc: 0.3211 - val_loss: 0.0043 - val_acc: 0.3334\n",
      "Epoch 28/200\n",
      "385648/385648 [==============================] - 31s 80us/step - loss: 0.0044 - acc: 0.3184 - val_loss: 0.0043 - val_acc: 0.3180\n",
      "Epoch 29/200\n",
      "385648/385648 [==============================] - 31s 80us/step - loss: 0.0043 - acc: 0.3174 - val_loss: 0.0043 - val_acc: 0.3098\n",
      "Epoch 30/200\n",
      "385648/385648 [==============================] - 31s 80us/step - loss: 0.0043 - acc: 0.3086 - val_loss: 0.0043 - val_acc: 0.3222\n",
      "Epoch 31/200\n",
      "385648/385648 [==============================] - 31s 80us/step - loss: 0.0043 - acc: 0.3278 - val_loss: 0.0042 - val_acc: 0.3580\n",
      "Epoch 32/200\n",
      "385648/385648 [==============================] - 31s 79us/step - loss: 0.0043 - acc: 0.3402 - val_loss: 0.0042 - val_acc: 0.3316\n",
      "Epoch 33/200\n",
      "385648/385648 [==============================] - 31s 79us/step - loss: 0.0043 - acc: 0.3222 - val_loss: 0.0042 - val_acc: 0.3189\n",
      "Epoch 34/200\n",
      "385648/385648 [==============================] - 30s 79us/step - loss: 0.0043 - acc: 0.3265 - val_loss: 0.0042 - val_acc: 0.2781\n",
      "Epoch 35/200\n",
      "385648/385648 [==============================] - 31s 80us/step - loss: 0.0043 - acc: 0.3180 - val_loss: 0.0042 - val_acc: 0.3190\n",
      "Epoch 36/200\n",
      "385648/385648 [==============================] - 31s 80us/step - loss: 0.0043 - acc: 0.3238 - val_loss: 0.0042 - val_acc: 0.3107\n",
      "Epoch 37/200\n",
      "385648/385648 [==============================] - 31s 80us/step - loss: 0.0043 - acc: 0.3317 - val_loss: 0.0042 - val_acc: 0.3237\n",
      "Epoch 38/200\n",
      "385648/385648 [==============================] - 31s 80us/step - loss: 0.0044 - acc: 0.3307 - val_loss: 0.0042 - val_acc: 0.3264\n",
      "--- AE spent 1169.2247049808502 seconds ---\n"
     ]
    }
   ],
   "source": [
    "hist_sae_sigmoid_adam_mse = fit_ae(checkpoint_file = \"sae_sigmoid_adam_mse_redds10bal.h5\",\n",
    "                                        autoencoder = sae_sigmoid_adam_mse, \n",
    "                                        epochs = 200, \n",
    "                                        batch_size = 48, \n",
    "                                        shuffle = False)"
   ]
  },
  {
   "cell_type": "code",
   "execution_count": 39,
   "metadata": {},
   "outputs": [
    {
     "name": "stdout",
     "output_type": "stream",
     "text": [
      "Best loss value: 0.004402058419270206\n"
     ]
    },
    {
     "data": {
      "image/png": "[encoded data removed]",
      "text/plain": [
       "<Figure size 432x288 with 1 Axes>"
      ]
     },
     "metadata": {
      "needs_background": "light"
     },
     "output_type": "display_data"
    }
   ],
   "source": [
    "best_loss_value_sae_sigmoid_adam_mse  = plot_hist_auto(hist_sae_sigmoid_adam_mse, './Figures/hist_sae_sigmoid_adam_mse.png')"
   ]
  },
  {
   "cell_type": "code",
   "execution_count": 40,
   "metadata": {},
   "outputs": [
    {
     "name": "stdout",
     "output_type": "stream",
     "text": [
      "_________________________________________________________________\n",
      "Layer (type)                 Output Shape              Param #   \n",
      "=================================================================\n",
      "input_4 (InputLayer)         (None, 48)                0         \n",
      "_________________________________________________________________\n",
      "input_layer (Dense)          (None, 32)                1568      \n",
      "_________________________________________________________________\n",
      "dense_7 (Dense)              (None, 16)                528       \n",
      "_________________________________________________________________\n",
      "enc_bottle_neck (Dense)      (None, 8)                 136       \n",
      "_________________________________________________________________\n",
      "dense_8 (Dense)              (None, 16)                144       \n",
      "_________________________________________________________________\n",
      "dense_9 (Dense)              (None, 32)                544       \n",
      "_________________________________________________________________\n",
      "dense_10 (Dense)             (None, 48)                1584      \n",
      "=================================================================\n",
      "Total params: 4,504\n",
      "Trainable params: 4,504\n",
      "Non-trainable params: 0\n",
      "_________________________________________________________________\n",
      "None\n"
     ]
    }
   ],
   "source": [
    "sae_sigmoid_adam_logcosh,enc_train_x_ssal,enc_test_x_ssal = sae(factor_enc_dim = 1.5,\n",
    "                                                              output_activation = 'sigmoid',\n",
    "                                                              optimizer='Adam',\n",
    "                                                              loss='logcosh')"
   ]
  },
  {
   "cell_type": "code",
   "execution_count": 41,
   "metadata": {},
   "outputs": [],
   "source": [
    "from keras.utils import plot_model \n",
    "plot_model(sae_sigmoid_adam_logcosh, to_file='sae_sigmoid_adam_logcosh.png')\n",
    "from PIL import Image\n",
    "image = Image.open('sae_sigmoid_adam_logcosh.png')\n",
    "image.show()"
   ]
  },
  {
   "cell_type": "code",
   "execution_count": null,
   "metadata": {},
   "outputs": [],
   "source": []
  },
  {
   "cell_type": "code",
   "execution_count": 42,
   "metadata": {},
   "outputs": [],
   "source": [
    "#sae_sigmoid_adam_logcosh = load_model('sae_sigmoid_adam_logcosh_redds10bal.h5')"
   ]
  },
  {
   "cell_type": "code",
   "execution_count": 43,
   "metadata": {},
   "outputs": [
    {
     "name": "stdout",
     "output_type": "stream",
     "text": [
      "Tue Jun  4 21:40:43 2019\n",
      "Train on 385648 samples, validate on 96412 samples\n",
      "Epoch 1/200\n",
      "385648/385648 [==============================] - 32s 82us/step - loss: 0.0093 - acc: 0.0570 - val_loss: 0.0056 - val_acc: 0.0855\n",
      "Epoch 2/200\n",
      "385648/385648 [==============================] - 32s 82us/step - loss: 0.0055 - acc: 0.1153 - val_loss: 0.0054 - val_acc: 0.0431\n",
      "Epoch 3/200\n",
      "385648/385648 [==============================] - 31s 81us/step - loss: 0.0054 - acc: 0.0619 - val_loss: 0.0053 - val_acc: 0.0707\n",
      "Epoch 4/200\n",
      "385648/385648 [==============================] - 32s 82us/step - loss: 0.0049 - acc: 0.0511 - val_loss: 0.0049 - val_acc: 0.0349\n",
      "Epoch 5/200\n",
      "385648/385648 [==============================] - 31s 82us/step - loss: 0.0048 - acc: 0.0517 - val_loss: 0.0048 - val_acc: 0.0414\n",
      "Epoch 6/200\n",
      "385648/385648 [==============================] - 31s 82us/step - loss: 0.0047 - acc: 0.0794 - val_loss: 0.0047 - val_acc: 0.0519\n",
      "Epoch 7/200\n",
      "385648/385648 [==============================] - 31s 81us/step - loss: 0.0047 - acc: 0.0478 - val_loss: 0.0047 - val_acc: 0.0414\n",
      "Epoch 8/200\n",
      "385648/385648 [==============================] - 32s 82us/step - loss: 0.0047 - acc: 0.0558 - val_loss: 0.0046 - val_acc: 0.0499\n",
      "Epoch 9/200\n",
      "385648/385648 [==============================] - 32s 82us/step - loss: 0.0046 - acc: 0.0690 - val_loss: 0.0046 - val_acc: 0.0595\n",
      "Epoch 10/200\n",
      "385648/385648 [==============================] - 31s 80us/step - loss: 0.0046 - acc: 0.0829 - val_loss: 0.0045 - val_acc: 0.1003\n",
      "Epoch 11/200\n",
      "385648/385648 [==============================] - 30s 78us/step - loss: 0.0046 - acc: 0.0873 - val_loss: 0.0045 - val_acc: 0.0994\n",
      "Epoch 12/200\n",
      "385648/385648 [==============================] - 30s 78us/step - loss: 0.0045 - acc: 0.0808 - val_loss: 0.0044 - val_acc: 0.0673\n",
      "Epoch 13/200\n",
      "385648/385648 [==============================] - 30s 78us/step - loss: 0.0044 - acc: 0.0782 - val_loss: 0.0044 - val_acc: 0.0891\n",
      "Epoch 14/200\n",
      "385648/385648 [==============================] - 30s 78us/step - loss: 0.0044 - acc: 0.1100 - val_loss: 0.0044 - val_acc: 0.1201\n",
      "Epoch 15/200\n",
      "385648/385648 [==============================] - 30s 78us/step - loss: 0.0044 - acc: 0.1294 - val_loss: 0.0044 - val_acc: 0.1269\n",
      "Epoch 16/200\n",
      "385648/385648 [==============================] - 30s 78us/step - loss: 0.0044 - acc: 0.1413 - val_loss: 0.0044 - val_acc: 0.1352\n",
      "Epoch 17/200\n",
      "385648/385648 [==============================] - 30s 78us/step - loss: 0.0044 - acc: 0.1470 - val_loss: 0.0044 - val_acc: 0.1368\n",
      "Epoch 18/200\n",
      "385648/385648 [==============================] - 30s 78us/step - loss: 0.0044 - acc: 0.1648 - val_loss: 0.0044 - val_acc: 0.1522\n",
      "Epoch 19/200\n",
      "385648/385648 [==============================] - 30s 78us/step - loss: 0.0044 - acc: 0.1734 - val_loss: 0.0044 - val_acc: 0.1778\n",
      "Epoch 20/200\n",
      "385648/385648 [==============================] - 30s 78us/step - loss: 0.0044 - acc: 0.1749 - val_loss: 0.0044 - val_acc: 0.1349\n",
      "Epoch 21/200\n",
      "385648/385648 [==============================] - 30s 78us/step - loss: 0.0044 - acc: 0.1715 - val_loss: 0.0044 - val_acc: 0.1732\n",
      "Epoch 22/200\n",
      "385648/385648 [==============================] - 30s 78us/step - loss: 0.0044 - acc: 0.1847 - val_loss: 0.0044 - val_acc: 0.1773\n",
      "Epoch 23/200\n",
      "385648/385648 [==============================] - 30s 78us/step - loss: 0.0044 - acc: 0.1735 - val_loss: 0.0043 - val_acc: 0.1721\n",
      "Epoch 24/200\n",
      "385648/385648 [==============================] - 30s 78us/step - loss: 0.0044 - acc: 0.1691 - val_loss: 0.0043 - val_acc: 0.1619\n",
      "Epoch 25/200\n",
      "385648/385648 [==============================] - 30s 78us/step - loss: 0.0044 - acc: 0.1685 - val_loss: 0.0043 - val_acc: 0.1642\n",
      "Epoch 26/200\n",
      "385648/385648 [==============================] - 30s 78us/step - loss: 0.0044 - acc: 0.1733 - val_loss: 0.0044 - val_acc: 0.1767\n",
      "Epoch 27/200\n",
      "385648/385648 [==============================] - 30s 78us/step - loss: 0.0042 - acc: 0.1265 - val_loss: 0.0038 - val_acc: 0.1095\n",
      "Epoch 28/200\n",
      "385648/385648 [==============================] - 30s 78us/step - loss: 0.0037 - acc: 0.1220 - val_loss: 0.0042 - val_acc: 0.1016\n",
      "Epoch 29/200\n",
      "385648/385648 [==============================] - 30s 78us/step - loss: 0.0037 - acc: 0.1333 - val_loss: 0.0037 - val_acc: 0.1444\n",
      "Epoch 30/200\n",
      "385648/385648 [==============================] - 30s 77us/step - loss: 0.0037 - acc: 0.1635 - val_loss: 0.0037 - val_acc: 0.1543\n",
      "Epoch 31/200\n",
      "385648/385648 [==============================] - 30s 78us/step - loss: 0.0037 - acc: 0.1939 - val_loss: 0.0037 - val_acc: 0.2244\n",
      "Epoch 32/200\n",
      "385648/385648 [==============================] - 30s 78us/step - loss: 0.0037 - acc: 0.2140 - val_loss: 0.0037 - val_acc: 0.1751\n",
      "Epoch 33/200\n",
      "385648/385648 [==============================] - 30s 78us/step - loss: 0.0037 - acc: 0.1924 - val_loss: 0.0037 - val_acc: 0.2322\n",
      "Epoch 34/200\n",
      "385648/385648 [==============================] - 30s 78us/step - loss: 0.0037 - acc: 0.1635 - val_loss: 0.0039 - val_acc: 0.1495\n",
      "Epoch 35/200\n",
      "385648/385648 [==============================] - 30s 78us/step - loss: 0.0037 - acc: 0.1676 - val_loss: 0.0036 - val_acc: 0.1439\n",
      "Epoch 36/200\n",
      "385648/385648 [==============================] - 30s 77us/step - loss: 0.0037 - acc: 0.2042 - val_loss: 0.0037 - val_acc: 0.3357\n",
      "Epoch 37/200\n",
      "385648/385648 [==============================] - 30s 78us/step - loss: 0.0037 - acc: 0.2542 - val_loss: 0.0036 - val_acc: 0.2667\n",
      "Epoch 38/200\n",
      "385648/385648 [==============================] - 30s 78us/step - loss: 0.0037 - acc: 0.2552 - val_loss: 0.0036 - val_acc: 0.2829\n",
      "Epoch 39/200\n",
      "385648/385648 [==============================] - 30s 78us/step - loss: 0.0036 - acc: 0.2628 - val_loss: 0.0037 - val_acc: 0.3102\n",
      "Epoch 40/200\n",
      "385648/385648 [==============================] - 30s 78us/step - loss: 0.0036 - acc: 0.2541 - val_loss: 0.0036 - val_acc: 0.2814\n",
      "Epoch 41/200\n",
      "385648/385648 [==============================] - 30s 78us/step - loss: 0.0036 - acc: 0.2833 - val_loss: 0.0036 - val_acc: 0.2990\n",
      "Epoch 42/200\n",
      "385648/385648 [==============================] - 30s 78us/step - loss: 0.0036 - acc: 0.2820 - val_loss: 0.0036 - val_acc: 0.3168\n",
      "Epoch 43/200\n",
      "385648/385648 [==============================] - 30s 78us/step - loss: 0.0036 - acc: 0.2416 - val_loss: 0.0036 - val_acc: 0.2352\n",
      "Epoch 44/200\n",
      "385648/385648 [==============================] - 30s 78us/step - loss: 0.0036 - acc: 0.2600 - val_loss: 0.0035 - val_acc: 0.2357\n",
      "Epoch 45/200\n",
      "385648/385648 [==============================] - 30s 78us/step - loss: 0.0036 - acc: 0.2541 - val_loss: 0.0035 - val_acc: 0.2795\n",
      "Epoch 46/200\n",
      "385648/385648 [==============================] - 30s 78us/step - loss: 0.0036 - acc: 0.2653 - val_loss: 0.0035 - val_acc: 0.2656\n",
      "Epoch 47/200\n",
      "385648/385648 [==============================] - 30s 78us/step - loss: 0.0036 - acc: 0.2386 - val_loss: 0.0035 - val_acc: 0.2563\n",
      "Epoch 48/200\n",
      "385648/385648 [==============================] - 30s 78us/step - loss: 0.0036 - acc: 0.2834 - val_loss: 0.0035 - val_acc: 0.3004\n",
      "Epoch 49/200\n",
      "385648/385648 [==============================] - 30s 78us/step - loss: 0.0036 - acc: 0.2996 - val_loss: 0.0035 - val_acc: 0.3880\n",
      "Epoch 50/200\n",
      "385648/385648 [==============================] - 31s 79us/step - loss: 0.0036 - acc: 0.3402 - val_loss: 0.0035 - val_acc: 0.3403\n",
      "Epoch 51/200\n",
      "385648/385648 [==============================] - 31s 81us/step - loss: 0.0036 - acc: 0.3179 - val_loss: 0.0035 - val_acc: 0.3751\n",
      "Epoch 52/200\n",
      "385648/385648 [==============================] - 31s 81us/step - loss: 0.0036 - acc: 0.3200 - val_loss: 0.0035 - val_acc: 0.4127\n",
      "Epoch 53/200\n",
      "385648/385648 [==============================] - 31s 81us/step - loss: 0.0036 - acc: 0.3434 - val_loss: 0.0035 - val_acc: 0.3115\n",
      "Epoch 54/200\n",
      "385648/385648 [==============================] - 32s 82us/step - loss: 0.0036 - acc: 0.3066 - val_loss: 0.0035 - val_acc: 0.3416\n",
      "Epoch 55/200\n",
      "385648/385648 [==============================] - 31s 81us/step - loss: 0.0036 - acc: 0.3502 - val_loss: 0.0035 - val_acc: 0.3589\n",
      "Epoch 56/200\n",
      "385648/385648 [==============================] - 31s 81us/step - loss: 0.0035 - acc: 0.2858 - val_loss: 0.0035 - val_acc: 0.2142\n",
      "Epoch 57/200\n",
      "385648/385648 [==============================] - 31s 81us/step - loss: 0.0035 - acc: 0.3899 - val_loss: 0.0035 - val_acc: 0.4334\n",
      "Epoch 58/200\n",
      "385648/385648 [==============================] - 31s 82us/step - loss: 0.0035 - acc: 0.3583 - val_loss: 0.0035 - val_acc: 0.4762\n",
      "Epoch 59/200\n",
      "385648/385648 [==============================] - 32s 82us/step - loss: 0.0035 - acc: 0.4001 - val_loss: 0.0035 - val_acc: 0.4488\n",
      "Epoch 60/200\n",
      "385648/385648 [==============================] - 31s 81us/step - loss: 0.0035 - acc: 0.3724 - val_loss: 0.0035 - val_acc: 0.2641\n",
      "Epoch 61/200\n",
      "385648/385648 [==============================] - 31s 82us/step - loss: 0.0035 - acc: 0.3390 - val_loss: 0.0035 - val_acc: 0.3638\n",
      "Epoch 62/200\n",
      "385648/385648 [==============================] - 31s 81us/step - loss: 0.0035 - acc: 0.3388 - val_loss: 0.0035 - val_acc: 0.3175\n",
      "Epoch 63/200\n",
      "385648/385648 [==============================] - 31s 81us/step - loss: 0.0035 - acc: 0.3428 - val_loss: 0.0035 - val_acc: 0.3365\n",
      "Epoch 64/200\n",
      "385648/385648 [==============================] - 32s 82us/step - loss: 0.0035 - acc: 0.3713 - val_loss: 0.0035 - val_acc: 0.4146\n",
      "Epoch 65/200\n",
      "385648/385648 [==============================] - 31s 81us/step - loss: 0.0035 - acc: 0.3819 - val_loss: 0.0035 - val_acc: 0.3844\n",
      "Epoch 66/200\n",
      "385648/385648 [==============================] - 31s 82us/step - loss: 0.0035 - acc: 0.3787 - val_loss: 0.0035 - val_acc: 0.4363\n",
      "Epoch 67/200\n",
      "385648/385648 [==============================] - 33s 86us/step - loss: 0.0035 - acc: 0.4271 - val_loss: 0.0035 - val_acc: 0.4073\n",
      "Epoch 68/200\n",
      "385648/385648 [==============================] - 34s 87us/step - loss: 0.0035 - acc: 0.4179 - val_loss: 0.0035 - val_acc: 0.5043\n",
      "Epoch 69/200\n",
      "385648/385648 [==============================] - 33s 87us/step - loss: 0.0035 - acc: 0.4726 - val_loss: 0.0035 - val_acc: 0.5306\n",
      "Epoch 70/200\n",
      "385648/385648 [==============================] - 33s 87us/step - loss: 0.0035 - acc: 0.4551 - val_loss: 0.0034 - val_acc: 0.4522\n",
      "Epoch 71/200\n",
      "385648/385648 [==============================] - 33s 86us/step - loss: 0.0035 - acc: 0.4476 - val_loss: 0.0035 - val_acc: 0.4477\n",
      "Epoch 72/200\n",
      "385648/385648 [==============================] - 33s 86us/step - loss: 0.0035 - acc: 0.4761 - val_loss: 0.0034 - val_acc: 0.4591\n",
      "Epoch 73/200\n",
      "385648/385648 [==============================] - 33s 87us/step - loss: 0.0035 - acc: 0.4698 - val_loss: 0.0034 - val_acc: 0.4735\n",
      "Epoch 74/200\n",
      "385648/385648 [==============================] - 33s 86us/step - loss: 0.0035 - acc: 0.4729 - val_loss: 0.0035 - val_acc: 0.5484\n",
      "Epoch 75/200\n",
      "385648/385648 [==============================] - 33s 87us/step - loss: 0.0035 - acc: 0.4884 - val_loss: 0.0034 - val_acc: 0.5000\n",
      "Epoch 76/200\n",
      "385648/385648 [==============================] - 33s 86us/step - loss: 0.0034 - acc: 0.4899 - val_loss: 0.0034 - val_acc: 0.4874\n",
      "Epoch 77/200\n",
      "385648/385648 [==============================] - 33s 87us/step - loss: 0.0034 - acc: 0.4969 - val_loss: 0.0034 - val_acc: 0.4968\n",
      "Epoch 78/200\n",
      "385648/385648 [==============================] - 33s 86us/step - loss: 0.0034 - acc: 0.4953 - val_loss: 0.0034 - val_acc: 0.4921\n",
      "Epoch 79/200\n",
      "385648/385648 [==============================] - 34s 87us/step - loss: 0.0034 - acc: 0.5156 - val_loss: 0.0033 - val_acc: 0.5391\n",
      "Epoch 80/200\n",
      "385648/385648 [==============================] - 33s 86us/step - loss: 0.0034 - acc: 0.5134 - val_loss: 0.0034 - val_acc: 0.5439\n",
      "Epoch 81/200\n",
      "385648/385648 [==============================] - 33s 86us/step - loss: 0.0034 - acc: 0.5103 - val_loss: 0.0033 - val_acc: 0.5080\n",
      "Epoch 82/200\n",
      "385648/385648 [==============================] - 33s 87us/step - loss: 0.0034 - acc: 0.5088 - val_loss: 0.0034 - val_acc: 0.4919\n",
      "Epoch 83/200\n",
      "385648/385648 [==============================] - 33s 87us/step - loss: 0.0034 - acc: 0.4757 - val_loss: 0.0033 - val_acc: 0.4741\n",
      "Epoch 84/200\n",
      "385648/385648 [==============================] - 33s 86us/step - loss: 0.0034 - acc: 0.5027 - val_loss: 0.0033 - val_acc: 0.5428\n",
      "Epoch 85/200\n",
      "385648/385648 [==============================] - 33s 87us/step - loss: 0.0033 - acc: 0.5138 - val_loss: 0.0033 - val_acc: 0.5209\n",
      "Epoch 86/200\n",
      "385648/385648 [==============================] - 33s 87us/step - loss: 0.0033 - acc: 0.5107 - val_loss: 0.0033 - val_acc: 0.5112\n",
      "Epoch 87/200\n",
      "385648/385648 [==============================] - 33s 86us/step - loss: 0.0033 - acc: 0.5076 - val_loss: 0.0033 - val_acc: 0.5484\n",
      "Epoch 88/200\n",
      "385648/385648 [==============================] - 33s 87us/step - loss: 0.0033 - acc: 0.5372 - val_loss: 0.0033 - val_acc: 0.5450\n",
      "Epoch 89/200\n",
      "385648/385648 [==============================] - 33s 86us/step - loss: 0.0033 - acc: 0.5315 - val_loss: 0.0033 - val_acc: 0.5136\n",
      "Epoch 90/200\n",
      "385648/385648 [==============================] - 33s 86us/step - loss: 0.0033 - acc: 0.5084 - val_loss: 0.0033 - val_acc: 0.5035\n",
      "Epoch 91/200\n",
      "385648/385648 [==============================] - 33s 87us/step - loss: 0.0033 - acc: 0.5097 - val_loss: 0.0033 - val_acc: 0.5244\n",
      "Epoch 92/200\n",
      "385648/385648 [==============================] - 33s 86us/step - loss: 0.0033 - acc: 0.5432 - val_loss: 0.0033 - val_acc: 0.5551\n",
      "Epoch 93/200\n",
      "385648/385648 [==============================] - 34s 87us/step - loss: 0.0033 - acc: 0.5358 - val_loss: 0.0033 - val_acc: 0.5723\n",
      "Epoch 94/200\n",
      "385648/385648 [==============================] - 33s 86us/step - loss: 0.0033 - acc: 0.5223 - val_loss: 0.0033 - val_acc: 0.5269\n",
      "Epoch 95/200\n",
      "385648/385648 [==============================] - 33s 86us/step - loss: 0.0033 - acc: 0.5268 - val_loss: 0.0033 - val_acc: 0.5614\n",
      "Epoch 96/200\n",
      "385648/385648 [==============================] - 33s 85us/step - loss: 0.0033 - acc: 0.5340 - val_loss: 0.0033 - val_acc: 0.5423\n",
      "Epoch 97/200\n",
      "385648/385648 [==============================] - 33s 86us/step - loss: 0.0033 - acc: 0.5373 - val_loss: 0.0033 - val_acc: 0.5349\n",
      "Epoch 98/200\n",
      "385648/385648 [==============================] - 33s 85us/step - loss: 0.0033 - acc: 0.5594 - val_loss: 0.0034 - val_acc: 0.5009\n",
      "Epoch 99/200\n",
      "385648/385648 [==============================] - 33s 85us/step - loss: 0.0033 - acc: 0.5425 - val_loss: 0.0033 - val_acc: 0.5563\n",
      "Epoch 100/200\n",
      "385648/385648 [==============================] - 33s 85us/step - loss: 0.0033 - acc: 0.5570 - val_loss: 0.0033 - val_acc: 0.5325\n",
      "Epoch 101/200\n",
      "385648/385648 [==============================] - 32s 84us/step - loss: 0.0033 - acc: 0.5572 - val_loss: 0.0033 - val_acc: 0.5870\n",
      "Epoch 102/200\n",
      "385648/385648 [==============================] - 31s 79us/step - loss: 0.0033 - acc: 0.5281 - val_loss: 0.0033 - val_acc: 0.5302\n",
      "Epoch 103/200\n",
      "385648/385648 [==============================] - 33s 86us/step - loss: 0.0033 - acc: 0.5103 - val_loss: 0.0033 - val_acc: 0.5337\n",
      "Epoch 104/200\n",
      "385648/385648 [==============================] - 33s 86us/step - loss: 0.0033 - acc: 0.5340 - val_loss: 0.0033 - val_acc: 0.5509\n",
      "Epoch 105/200\n",
      "385648/385648 [==============================] - 33s 87us/step - loss: 0.0033 - acc: 0.5530 - val_loss: 0.0034 - val_acc: 0.5382\n",
      "Epoch 106/200\n",
      "385648/385648 [==============================] - 33s 86us/step - loss: 0.0033 - acc: 0.5576 - val_loss: 0.0034 - val_acc: 0.5379\n",
      "Epoch 107/200\n",
      "385648/385648 [==============================] - 33s 87us/step - loss: 0.0033 - acc: 0.5395 - val_loss: 0.0033 - val_acc: 0.5733\n",
      "Epoch 108/200\n",
      "385648/385648 [==============================] - 33s 85us/step - loss: 0.0033 - acc: 0.5489 - val_loss: 0.0033 - val_acc: 0.5478\n",
      "Epoch 109/200\n",
      "385648/385648 [==============================] - 33s 86us/step - loss: 0.0033 - acc: 0.5534 - val_loss: 0.0033 - val_acc: 0.5667\n",
      "Epoch 110/200\n",
      "385648/385648 [==============================] - 33s 86us/step - loss: 0.0033 - acc: 0.5308 - val_loss: 0.0033 - val_acc: 0.5498\n",
      "Epoch 111/200\n",
      "385648/385648 [==============================] - 33s 86us/step - loss: 0.0033 - acc: 0.5131 - val_loss: 0.0033 - val_acc: 0.5065\n",
      "Epoch 112/200\n",
      "385648/385648 [==============================] - 33s 85us/step - loss: 0.0033 - acc: 0.5453 - val_loss: 0.0033 - val_acc: 0.5565\n",
      "Epoch 113/200\n",
      "385648/385648 [==============================] - 33s 86us/step - loss: 0.0033 - acc: 0.5637 - val_loss: 0.0032 - val_acc: 0.5736\n",
      "Epoch 114/200\n",
      "385648/385648 [==============================] - 33s 86us/step - loss: 0.0033 - acc: 0.5324 - val_loss: 0.0037 - val_acc: 0.4996\n",
      "Epoch 115/200\n",
      "385648/385648 [==============================] - 33s 86us/step - loss: 0.0033 - acc: 0.5477 - val_loss: 0.0033 - val_acc: 0.5364\n",
      "Epoch 116/200\n",
      "385648/385648 [==============================] - 33s 85us/step - loss: 0.0033 - acc: 0.5374 - val_loss: 0.0033 - val_acc: 0.5758\n",
      "Epoch 117/200\n",
      "385648/385648 [==============================] - 33s 86us/step - loss: 0.0033 - acc: 0.5502 - val_loss: 0.0032 - val_acc: 0.5529\n",
      "Epoch 118/200\n",
      "385648/385648 [==============================] - 33s 85us/step - loss: 0.0033 - acc: 0.5703 - val_loss: 0.0033 - val_acc: 0.5940\n",
      "Epoch 119/200\n",
      "385648/385648 [==============================] - 33s 86us/step - loss: 0.0033 - acc: 0.5612 - val_loss: 0.0032 - val_acc: 0.5603\n",
      "Epoch 120/200\n",
      "385648/385648 [==============================] - 33s 85us/step - loss: 0.0033 - acc: 0.5606 - val_loss: 0.0033 - val_acc: 0.5354\n",
      "Epoch 121/200\n",
      "385648/385648 [==============================] - 33s 86us/step - loss: 0.0033 - acc: 0.5247 - val_loss: 0.0032 - val_acc: 0.6233\n",
      "Epoch 122/200\n",
      "385648/385648 [==============================] - 33s 85us/step - loss: 0.0033 - acc: 0.5814 - val_loss: 0.0032 - val_acc: 0.6014\n",
      "--- AE spent 3879.1155948638916 seconds ---\n"
     ]
    }
   ],
   "source": [
    "hist_sae_sigmoid_adam_logcosh = fit_ae(checkpoint_file = \"sae_sigmoid_adam_logcosh_redds10bal.h5\",\n",
    "                                        autoencoder = sae_sigmoid_adam_logcosh, \n",
    "                                        epochs = 200, \n",
    "                                        batch_size = 48, \n",
    "                                        shuffle = False)"
   ]
  },
  {
   "cell_type": "code",
   "execution_count": 44,
   "metadata": {},
   "outputs": [
    {
     "name": "stdout",
     "output_type": "stream",
     "text": [
      "Best loss value: 0.003273839610296196\n"
     ]
    },
    {
     "data": {
      "image/png": "[encoded data removed]",
      "text/plain": [
       "<Figure size 432x288 with 1 Axes>"
      ]
     },
     "metadata": {
      "needs_background": "light"
     },
     "output_type": "display_data"
    }
   ],
   "source": [
    "best_loss_value_sae_sigmoid_adam_logcosh  = plot_hist_auto(hist_sae_sigmoid_adam_logcosh, './Figures/hist_sae_sigmoid_adam_logcosh.png')"
   ]
  },
  {
   "cell_type": "code",
   "execution_count": 45,
   "metadata": {},
   "outputs": [
    {
     "name": "stdout",
     "output_type": "stream",
     "text": [
      "_________________________________________________________________\n",
      "Layer (type)                 Output Shape              Param #   \n",
      "=================================================================\n",
      "input_5 (InputLayer)         (None, 48)                0         \n",
      "_________________________________________________________________\n",
      "encoded_bottle_neck (Dense)  (None, 32)                1568      \n",
      "_________________________________________________________________\n",
      "dense_11 (Dense)             (None, 48)                1584      \n",
      "=================================================================\n",
      "Total params: 3,152\n",
      "Trainable params: 3,152\n",
      "Non-trainable params: 0\n",
      "_________________________________________________________________\n",
      "None\n"
     ]
    }
   ],
   "source": [
    "spae_sigmoid_adam_logcosh,enc_train_x_spaesal,enc_test_x_spaesal = ae(factor_enc_dim = 1.5,\n",
    "                                                              output_activation = 'sigmoid',\n",
    "                                                              optimizer='Adam',\n",
    "                                                              loss='logcosh')"
   ]
  },
  {
   "cell_type": "code",
   "execution_count": 46,
   "metadata": {},
   "outputs": [],
   "source": [
    "#spae_sigmoid_adam_logcosh = load_model('spae_sigmoid_adam_logcosh_redds10bal.h5')"
   ]
  },
  {
   "cell_type": "code",
   "execution_count": 47,
   "metadata": {},
   "outputs": [
    {
     "name": "stdout",
     "output_type": "stream",
     "text": [
      "Tue Jun  4 22:45:35 2019\n",
      "Train on 385648 samples, validate on 96412 samples\n",
      "Epoch 1/200\n",
      "385648/385648 [==============================] - 25s 65us/step - loss: 0.0022 - acc: 0.0114 - val_loss: 4.9476e-05 - val_acc: 0.0149\n",
      "Epoch 2/200\n",
      "385648/385648 [==============================] - 25s 64us/step - loss: 4.4978e-05 - acc: 0.0177 - val_loss: 4.2041e-05 - val_acc: 0.0199\n",
      "Epoch 3/200\n",
      "385648/385648 [==============================] - 25s 64us/step - loss: 4.0914e-05 - acc: 0.0272 - val_loss: 4.1114e-05 - val_acc: 0.0286\n",
      "Epoch 4/200\n",
      "385648/385648 [==============================] - 25s 64us/step - loss: 4.0535e-05 - acc: 0.0312 - val_loss: 4.0781e-05 - val_acc: 0.0313\n",
      "Epoch 5/200\n",
      "385648/385648 [==============================] - 25s 64us/step - loss: 4.0284e-05 - acc: 0.0326 - val_loss: 4.0444e-05 - val_acc: 0.0306\n",
      "Epoch 6/200\n",
      "385648/385648 [==============================] - 25s 65us/step - loss: 4.0063e-05 - acc: 0.0322 - val_loss: 4.0160e-05 - val_acc: 0.0293\n",
      "Epoch 7/200\n",
      "385648/385648 [==============================] - 25s 64us/step - loss: 3.9854e-05 - acc: 0.0317 - val_loss: 3.9864e-05 - val_acc: 0.0294\n",
      "Epoch 8/200\n",
      "385648/385648 [==============================] - 25s 64us/step - loss: 3.9471e-05 - acc: 0.0252 - val_loss: 3.9426e-05 - val_acc: 0.0196\n",
      "Epoch 9/200\n",
      "385648/385648 [==============================] - 25s 64us/step - loss: 3.9061e-05 - acc: 0.0193 - val_loss: 3.8759e-05 - val_acc: 0.0164\n",
      "Epoch 10/200\n",
      "385648/385648 [==============================] - 25s 64us/step - loss: 3.8135e-05 - acc: 0.0152 - val_loss: 3.7776e-05 - val_acc: 0.0126\n",
      "Epoch 11/200\n",
      "385648/385648 [==============================] - 25s 64us/step - loss: 3.7716e-05 - acc: 0.0128 - val_loss: 3.7591e-05 - val_acc: 0.0117\n",
      "Epoch 12/200\n",
      "385648/385648 [==============================] - 25s 64us/step - loss: 3.7570e-05 - acc: 0.0130 - val_loss: 3.7399e-05 - val_acc: 0.0117\n",
      "Epoch 13/200\n",
      "385648/385648 [==============================] - 25s 64us/step - loss: 3.7450e-05 - acc: 0.0136 - val_loss: 3.7159e-05 - val_acc: 0.0113\n",
      "Epoch 14/200\n",
      "385648/385648 [==============================] - 25s 64us/step - loss: 3.7187e-05 - acc: 0.0125 - val_loss: 3.6691e-05 - val_acc: 0.0098\n",
      "Epoch 15/200\n",
      "385648/385648 [==============================] - 24s 63us/step - loss: 3.6741e-05 - acc: 0.0107 - val_loss: 3.6300e-05 - val_acc: 0.0061\n",
      "Epoch 16/200\n",
      "385648/385648 [==============================] - 25s 64us/step - loss: 3.6383e-05 - acc: 0.0105 - val_loss: 3.5518e-05 - val_acc: 0.0147\n",
      "Epoch 17/200\n",
      "385648/385648 [==============================] - 25s 64us/step - loss: 3.2681e-05 - acc: 0.0248 - val_loss: 3.0273e-05 - val_acc: 0.0277\n",
      "Epoch 18/200\n",
      "385648/385648 [==============================] - 25s 64us/step - loss: 2.8446e-05 - acc: 0.0325 - val_loss: 2.6353e-05 - val_acc: 0.0399\n",
      "Epoch 19/200\n",
      "385648/385648 [==============================] - 24s 63us/step - loss: 2.5811e-05 - acc: 0.0448 - val_loss: 2.5353e-05 - val_acc: 0.0500\n",
      "Epoch 20/200\n",
      "385648/385648 [==============================] - 25s 64us/step - loss: 2.5230e-05 - acc: 0.0507 - val_loss: 2.5067e-05 - val_acc: 0.0514\n",
      "Epoch 21/200\n",
      "385648/385648 [==============================] - 25s 64us/step - loss: 2.5066e-05 - acc: 0.0511 - val_loss: 2.5022e-05 - val_acc: 0.0493\n",
      "Epoch 22/200\n",
      "385648/385648 [==============================] - 25s 64us/step - loss: 2.4980e-05 - acc: 0.0498 - val_loss: 2.4817e-05 - val_acc: 0.0480\n",
      "Epoch 23/200\n",
      "385648/385648 [==============================] - 25s 64us/step - loss: 2.4914e-05 - acc: 0.0488 - val_loss: 2.4753e-05 - val_acc: 0.0466\n",
      "Epoch 24/200\n",
      "385648/385648 [==============================] - 24s 62us/step - loss: 2.4854e-05 - acc: 0.0472 - val_loss: 2.4653e-05 - val_acc: 0.0452\n",
      "Epoch 25/200\n",
      "385648/385648 [==============================] - 21s 55us/step - loss: 2.4798e-05 - acc: 0.0457 - val_loss: 2.4492e-05 - val_acc: 0.0452\n",
      "Epoch 26/200\n",
      "385648/385648 [==============================] - 22s 58us/step - loss: 2.4744e-05 - acc: 0.0436 - val_loss: 2.4361e-05 - val_acc: 0.0420\n",
      "Epoch 27/200\n",
      "385648/385648 [==============================] - 22s 57us/step - loss: 2.4638e-05 - acc: 0.0410 - val_loss: 2.4219e-05 - val_acc: 0.0394\n",
      "Epoch 28/200\n",
      "385648/385648 [==============================] - 22s 58us/step - loss: 2.4573e-05 - acc: 0.0398 - val_loss: 2.4135e-05 - val_acc: 0.0384\n",
      "Epoch 29/200\n",
      "385648/385648 [==============================] - 22s 57us/step - loss: 2.4524e-05 - acc: 0.0391 - val_loss: 2.4035e-05 - val_acc: 0.0382\n",
      "Epoch 30/200\n",
      "385648/385648 [==============================] - 22s 58us/step - loss: 2.4476e-05 - acc: 0.0384 - val_loss: 2.3965e-05 - val_acc: 0.0378\n",
      "Epoch 31/200\n",
      "385648/385648 [==============================] - 22s 57us/step - loss: 2.4437e-05 - acc: 0.0395 - val_loss: 2.3899e-05 - val_acc: 0.0383\n",
      "Epoch 32/200\n",
      "385648/385648 [==============================] - 22s 58us/step - loss: 2.4404e-05 - acc: 0.0404 - val_loss: 2.3852e-05 - val_acc: 0.0384\n",
      "Epoch 33/200\n",
      "385648/385648 [==============================] - 22s 58us/step - loss: 2.4373e-05 - acc: 0.0410 - val_loss: 2.3811e-05 - val_acc: 0.0380\n",
      "Epoch 34/200\n",
      "385648/385648 [==============================] - 22s 58us/step - loss: 2.4346e-05 - acc: 0.0408 - val_loss: 2.3773e-05 - val_acc: 0.0377\n",
      "Epoch 35/200\n",
      "385648/385648 [==============================] - 22s 57us/step - loss: 2.4322e-05 - acc: 0.0407 - val_loss: 2.3701e-05 - val_acc: 0.0380\n",
      "Epoch 36/200\n",
      "385648/385648 [==============================] - 22s 58us/step - loss: 2.4296e-05 - acc: 0.0416 - val_loss: 2.3563e-05 - val_acc: 0.0389\n",
      "Epoch 37/200\n",
      "385648/385648 [==============================] - 22s 57us/step - loss: 2.4268e-05 - acc: 0.0416 - val_loss: 2.3510e-05 - val_acc: 0.0376\n",
      "Epoch 38/200\n",
      "385648/385648 [==============================] - 22s 58us/step - loss: 2.4212e-05 - acc: 0.0419 - val_loss: 2.3455e-05 - val_acc: 0.0381\n",
      "Epoch 39/200\n",
      "385648/385648 [==============================] - 22s 57us/step - loss: 2.4175e-05 - acc: 0.0416 - val_loss: 2.3433e-05 - val_acc: 0.0383\n",
      "Epoch 40/200\n",
      "385648/385648 [==============================] - 22s 58us/step - loss: 2.4006e-05 - acc: 0.0410 - val_loss: 2.3133e-05 - val_acc: 0.0358\n",
      "Epoch 41/200\n",
      "385648/385648 [==============================] - 22s 57us/step - loss: 2.3804e-05 - acc: 0.0376 - val_loss: 2.3064e-05 - val_acc: 0.0351\n",
      "Epoch 42/200\n",
      "385648/385648 [==============================] - 22s 57us/step - loss: 2.3714e-05 - acc: 0.0401 - val_loss: 2.2979e-05 - val_acc: 0.0362\n",
      "Epoch 43/200\n",
      "385648/385648 [==============================] - 22s 57us/step - loss: 2.3651e-05 - acc: 0.0385 - val_loss: 2.2939e-05 - val_acc: 0.0351\n",
      "Epoch 44/200\n",
      "385648/385648 [==============================] - 22s 57us/step - loss: 2.3611e-05 - acc: 0.0373 - val_loss: 2.2883e-05 - val_acc: 0.0343\n",
      "Epoch 45/200\n",
      "385648/385648 [==============================] - 22s 58us/step - loss: 2.3582e-05 - acc: 0.0364 - val_loss: 2.2859e-05 - val_acc: 0.0334\n",
      "Epoch 46/200\n",
      "385648/385648 [==============================] - 22s 57us/step - loss: 2.1908e-05 - acc: 0.0372 - val_loss: 1.9991e-05 - val_acc: 0.0357\n",
      "Epoch 47/200\n",
      "385648/385648 [==============================] - 22s 57us/step - loss: 2.0453e-05 - acc: 0.0378 - val_loss: 2.0043e-05 - val_acc: 0.0351\n",
      "Epoch 48/200\n",
      "385648/385648 [==============================] - 22s 57us/step - loss: 2.0338e-05 - acc: 0.0365 - val_loss: 1.9992e-05 - val_acc: 0.0330\n",
      "Epoch 49/200\n",
      "385648/385648 [==============================] - 22s 57us/step - loss: 2.0293e-05 - acc: 0.0347 - val_loss: 1.9942e-05 - val_acc: 0.0299\n",
      "Epoch 50/200\n",
      "385648/385648 [==============================] - 22s 57us/step - loss: 2.0247e-05 - acc: 0.0327 - val_loss: 1.9912e-05 - val_acc: 0.0276\n",
      "Epoch 51/200\n",
      "385648/385648 [==============================] - 22s 57us/step - loss: 2.0111e-05 - acc: 0.0283 - val_loss: 1.9754e-05 - val_acc: 0.0197\n",
      "Epoch 52/200\n",
      "385648/385648 [==============================] - 23s 61us/step - loss: 1.9908e-05 - acc: 0.0228 - val_loss: 1.9673e-05 - val_acc: 0.0207\n",
      "Epoch 53/200\n",
      "385648/385648 [==============================] - 24s 63us/step - loss: 1.9750e-05 - acc: 0.0229 - val_loss: 1.9537e-05 - val_acc: 0.0222\n",
      "Epoch 54/200\n",
      "385648/385648 [==============================] - 25s 64us/step - loss: 1.9571e-05 - acc: 0.0241 - val_loss: 1.9390e-05 - val_acc: 0.0237\n",
      "Epoch 55/200\n",
      "385648/385648 [==============================] - 24s 63us/step - loss: 1.9343e-05 - acc: 0.0252 - val_loss: 1.9097e-05 - val_acc: 0.0244\n",
      "Epoch 56/200\n",
      "385648/385648 [==============================] - 24s 63us/step - loss: 1.9026e-05 - acc: 0.0264 - val_loss: 1.8768e-05 - val_acc: 0.0271\n",
      "Epoch 57/200\n",
      "385648/385648 [==============================] - 24s 63us/step - loss: 1.8562e-05 - acc: 0.0269 - val_loss: 1.8151e-05 - val_acc: 0.0264\n",
      "Epoch 58/200\n",
      "385648/385648 [==============================] - 24s 63us/step - loss: 1.8165e-05 - acc: 0.0274 - val_loss: 1.7798e-05 - val_acc: 0.0307\n",
      "Epoch 59/200\n",
      "385648/385648 [==============================] - 24s 62us/step - loss: 1.7869e-05 - acc: 0.0277 - val_loss: 1.7533e-05 - val_acc: 0.0289\n",
      "Epoch 60/200\n",
      "385648/385648 [==============================] - 24s 63us/step - loss: 1.7600e-05 - acc: 0.0275 - val_loss: 1.7225e-05 - val_acc: 0.0299\n",
      "Epoch 61/200\n",
      "385648/385648 [==============================] - 24s 64us/step - loss: 1.7352e-05 - acc: 0.0284 - val_loss: 1.7044e-05 - val_acc: 0.0309\n",
      "Epoch 62/200\n",
      "385648/385648 [==============================] - 24s 63us/step - loss: 1.7103e-05 - acc: 0.0284 - val_loss: 1.6880e-05 - val_acc: 0.0293\n",
      "Epoch 63/200\n",
      "385648/385648 [==============================] - 24s 63us/step - loss: 1.6882e-05 - acc: 0.0282 - val_loss: 1.6717e-05 - val_acc: 0.0287\n",
      "Epoch 64/200\n",
      "385648/385648 [==============================] - 25s 64us/step - loss: 1.6727e-05 - acc: 0.0284 - val_loss: 1.6578e-05 - val_acc: 0.0289\n",
      "Epoch 65/200\n",
      "385648/385648 [==============================] - 24s 63us/step - loss: 1.6611e-05 - acc: 0.0279 - val_loss: 1.6418e-05 - val_acc: 0.0294\n",
      "Epoch 66/200\n",
      "385648/385648 [==============================] - 24s 63us/step - loss: 1.6525e-05 - acc: 0.0282 - val_loss: 1.6250e-05 - val_acc: 0.0297\n",
      "Epoch 67/200\n",
      "385648/385648 [==============================] - 24s 63us/step - loss: 1.6458e-05 - acc: 0.0283 - val_loss: 1.6200e-05 - val_acc: 0.0319\n",
      "Epoch 68/200\n",
      "385648/385648 [==============================] - 24s 62us/step - loss: 1.6392e-05 - acc: 0.0296 - val_loss: 1.6127e-05 - val_acc: 0.0319\n",
      "Epoch 69/200\n",
      "385648/385648 [==============================] - 24s 63us/step - loss: 1.6341e-05 - acc: 0.0310 - val_loss: 1.6078e-05 - val_acc: 0.0330\n",
      "Epoch 70/200\n",
      "385648/385648 [==============================] - 24s 63us/step - loss: 1.6299e-05 - acc: 0.0326 - val_loss: 1.6037e-05 - val_acc: 0.0360\n",
      "Epoch 71/200\n",
      "385648/385648 [==============================] - 24s 63us/step - loss: 1.6264e-05 - acc: 0.0336 - val_loss: 1.5994e-05 - val_acc: 0.0374\n",
      "Epoch 72/200\n",
      "385648/385648 [==============================] - 25s 64us/step - loss: 1.6235e-05 - acc: 0.0350 - val_loss: 1.5956e-05 - val_acc: 0.0385\n",
      "Epoch 73/200\n",
      "385648/385648 [==============================] - 24s 63us/step - loss: 1.6207e-05 - acc: 0.0359 - val_loss: 1.5957e-05 - val_acc: 0.0397\n",
      "Epoch 74/200\n",
      "385648/385648 [==============================] - 24s 63us/step - loss: 1.6180e-05 - acc: 0.0373 - val_loss: 1.5994e-05 - val_acc: 0.0422\n",
      "Epoch 75/200\n",
      "385648/385648 [==============================] - 24s 64us/step - loss: 1.6154e-05 - acc: 0.0384 - val_loss: 1.5817e-05 - val_acc: 0.0430\n",
      "Epoch 76/200\n",
      "385648/385648 [==============================] - 24s 63us/step - loss: 1.6131e-05 - acc: 0.0390 - val_loss: 1.5778e-05 - val_acc: 0.0436\n",
      "Epoch 77/200\n",
      "385648/385648 [==============================] - 24s 63us/step - loss: 1.6112e-05 - acc: 0.0395 - val_loss: 1.5753e-05 - val_acc: 0.0431\n",
      "Epoch 78/200\n",
      "385648/385648 [==============================] - 24s 63us/step - loss: 1.6097e-05 - acc: 0.0394 - val_loss: 1.5754e-05 - val_acc: 0.0429\n",
      "Epoch 79/200\n",
      "385648/385648 [==============================] - 24s 63us/step - loss: 1.6084e-05 - acc: 0.0389 - val_loss: 1.5764e-05 - val_acc: 0.0427\n",
      "Epoch 80/200\n",
      "385648/385648 [==============================] - 24s 62us/step - loss: 1.6069e-05 - acc: 0.0378 - val_loss: 1.5774e-05 - val_acc: 0.0416\n",
      "Epoch 81/200\n",
      "385648/385648 [==============================] - 24s 63us/step - loss: 1.6057e-05 - acc: 0.0374 - val_loss: 1.5787e-05 - val_acc: 0.0406\n",
      "Epoch 82/200\n",
      "385648/385648 [==============================] - 24s 63us/step - loss: 1.6043e-05 - acc: 0.0357 - val_loss: 1.5790e-05 - val_acc: 0.0382\n",
      "--- AE spent 1944.3769812583923 seconds ---\n"
     ]
    }
   ],
   "source": [
    "hist_spae_sigmoid_adam_logcosh = fit_ae(checkpoint_file = \"spae_sigmoid_adam_logcosh_redds10bal.h5\",\n",
    "                                        autoencoder = spae_sigmoid_adam_logcosh, \n",
    "                                        epochs = 200, \n",
    "                                        batch_size = 48, \n",
    "                                        shuffle = False)"
   ]
  },
  {
   "cell_type": "code",
   "execution_count": 48,
   "metadata": {},
   "outputs": [
    {
     "name": "stdout",
     "output_type": "stream",
     "text": [
      "Best loss value: 1.6042993153114876e-05\n"
     ]
    },
    {
     "data": {
      "image/png": "[encoded data removed]",
      "text/plain": [
       "<Figure size 432x288 with 1 Axes>"
      ]
     },
     "metadata": {
      "needs_background": "light"
     },
     "output_type": "display_data"
    }
   ],
   "source": [
    "best_loss_value_spae_sigmoid_adam_logcosh = plot_hist_auto(hist_spae_sigmoid_adam_logcosh, './Figures/spae_sigmoid_adam_logcosh.png')"
   ]
  },
  {
   "cell_type": "code",
   "execution_count": 49,
   "metadata": {},
   "outputs": [],
   "source": [
    "loss_valueDict = {\n",
    "    'loss_value_ae_sigmoid_adam_logcosh': best_loss_value_ae_sigmoid_adam_logcosh,\n",
    "    'loss_value_ae_sigmoid_adam_mse': best_loss_value_ae_sigmoid_adam_mse,\n",
    "    'loss_value_sae_sigmoid_adam_logcosh': best_loss_value_sae_sigmoid_adam_logcosh,\n",
    "    'loss_value_sae_sigmoid_adam_mse': best_loss_value_sae_sigmoid_adam_mse,\n",
    "    'loss_value_spae_sigmoid_adam_logcosh': best_loss_value_spae_sigmoid_adam_logcosh,\n",
    "    }"
   ]
  },
  {
   "cell_type": "code",
   "execution_count": 50,
   "metadata": {},
   "outputs": [
    {
     "data": {
      "text/plain": [
       "{'loss_value_ae_sigmoid_adam_logcosh': 2.4428026906713728e-05,\n",
       " 'loss_value_ae_sigmoid_adam_mse': 3.501950556787215e-05,\n",
       " 'loss_value_sae_sigmoid_adam_logcosh': 0.003273839610296196,\n",
       " 'loss_value_sae_sigmoid_adam_mse': 0.004402058419270206,\n",
       " 'loss_value_spae_sigmoid_adam_logcosh': 1.6042993153114876e-05}"
      ]
     },
     "execution_count": 50,
     "metadata": {},
     "output_type": "execute_result"
    }
   ],
   "source": [
    "loss_valueDict"
   ]
  },
  {
   "cell_type": "code",
   "execution_count": null,
   "metadata": {},
   "outputs": [],
   "source": []
  },
  {
   "cell_type": "code",
   "execution_count": 51,
   "metadata": {},
   "outputs": [
    {
     "name": "stdout",
     "output_type": "stream",
     "text": [
      "32\n",
      "32\n",
      "32\n",
      "32\n",
      "32\n",
      "32\n",
      "8\n",
      "8\n",
      "8\n",
      "8\n"
     ]
    }
   ],
   "source": [
    "print(enc_train_x_asal.shape[1])\n",
    "print(enc_test_x_asal.shape[1])\n",
    "\n",
    "print(enc_train_x_spaesal.shape[1])\n",
    "print(enc_test_x_spaesal.shape[1])\n",
    "\n",
    "print(enc_train_x_asam.shape[1])\n",
    "print(enc_test_x_asam.shape[1])\n",
    "\n",
    "print(enc_train_x_ssal.shape[1])\n",
    "print(enc_test_x_ssal.shape[1])\n",
    "\n",
    "print(enc_train_x_ssam.shape[1])\n",
    "print(enc_test_x_ssam.shape[1])"
   ]
  },
  {
   "cell_type": "code",
   "execution_count": 52,
   "metadata": {},
   "outputs": [
    {
     "name": "stdout",
     "output_type": "stream",
     "text": [
      "(385648, 32)\n",
      "(120516, 32)\n"
     ]
    }
   ],
   "source": [
    "print(enc_train_x_asal.shape)\n",
    "print(enc_test_x_asal.shape)"
   ]
  },
  {
   "cell_type": "code",
   "execution_count": 53,
   "metadata": {},
   "outputs": [
    {
     "name": "stdout",
     "output_type": "stream",
     "text": [
      "_________________________________________________________________\n",
      "Layer (type)                 Output Shape              Param #   \n",
      "=================================================================\n",
      "dense_12 (Dense)             (None, 48)                1584      \n",
      "_________________________________________________________________\n",
      "dense_13 (Dense)             (None, 36)                1764      \n",
      "_________________________________________________________________\n",
      "batch_normalization_1 (Batch (None, 36)                144       \n",
      "_________________________________________________________________\n",
      "dropout_1 (Dropout)          (None, 36)                0         \n",
      "_________________________________________________________________\n",
      "dense_14 (Dense)             (None, 1)                 37        \n",
      "=================================================================\n",
      "Total params: 3,529\n",
      "Trainable params: 3,457\n",
      "Non-trainable params: 72\n",
      "_________________________________________________________________\n",
      "None\n"
     ]
    }
   ],
   "source": [
    "ann36n_unisoftsigbinlosadam = ann_1h_36n(neurons=48,\n",
    "                                      encoded_train_x=enc_train_x_asal,\n",
    "                                      init_mode='uniform',\n",
    "                                      activation_input='softsign',\n",
    "                                      weight_constraint=5,\n",
    "                                      dropout_rate=0.0,\n",
    "                                      activation_output='sigmoid',\n",
    "                                      loss='binary_crossentropy',\n",
    "                                      optimizer='Adam')"
   ]
  },
  {
   "cell_type": "code",
   "execution_count": null,
   "metadata": {},
   "outputs": [],
   "source": []
  },
  {
   "cell_type": "code",
   "execution_count": 54,
   "metadata": {},
   "outputs": [
    {
     "name": "stdout",
     "output_type": "stream",
     "text": [
      "Tue Jun  4 23:18:00 2019\n",
      "Train on 308518 samples, validate on 77130 samples\n",
      "Epoch 1/200\n",
      "308518/308518 [==============================] - 32s 103us/step - loss: 0.5571 - acc: 0.6901 - val_loss: 0.5161 - val_acc: 0.7279\n",
      "Epoch 2/200\n",
      "308518/308518 [==============================] - 31s 101us/step - loss: 0.5098 - acc: 0.7286 - val_loss: 0.5063 - val_acc: 0.7416\n",
      "Epoch 3/200\n",
      "308518/308518 [==============================] - 31s 100us/step - loss: 0.4932 - acc: 0.7408 - val_loss: 0.4928 - val_acc: 0.7441\n",
      "Epoch 4/200\n",
      "308518/308518 [==============================] - 31s 102us/step - loss: 0.4823 - acc: 0.7478 - val_loss: 0.4895 - val_acc: 0.7476\n",
      "Epoch 5/200\n",
      "308518/308518 [==============================] - 31s 100us/step - loss: 0.4744 - acc: 0.7533 - val_loss: 0.4831 - val_acc: 0.7531\n",
      "Epoch 6/200\n",
      "308518/308518 [==============================] - 31s 102us/step - loss: 0.4681 - acc: 0.7575 - val_loss: 0.4726 - val_acc: 0.7539\n",
      "Epoch 7/200\n",
      "308518/308518 [==============================] - 31s 101us/step - loss: 0.4630 - acc: 0.7602 - val_loss: 0.4586 - val_acc: 0.7650\n",
      "Epoch 8/200\n",
      "308518/308518 [==============================] - 31s 101us/step - loss: 0.4583 - acc: 0.7632 - val_loss: 0.4511 - val_acc: 0.7674\n",
      "Epoch 9/200\n",
      "308518/308518 [==============================] - 30s 98us/step - loss: 0.4542 - acc: 0.7661 - val_loss: 0.4461 - val_acc: 0.7723\n",
      "Epoch 10/200\n",
      "308518/308518 [==============================] - 31s 101us/step - loss: 0.4501 - acc: 0.7686 - val_loss: 0.4379 - val_acc: 0.7803\n",
      "Epoch 11/200\n",
      "308518/308518 [==============================] - 31s 101us/step - loss: 0.4457 - acc: 0.7710 - val_loss: 0.4370 - val_acc: 0.7783\n",
      "Epoch 12/200\n",
      "308518/308518 [==============================] - 31s 102us/step - loss: 0.4420 - acc: 0.7738 - val_loss: 0.4280 - val_acc: 0.7849\n",
      "Epoch 13/200\n",
      "308518/308518 [==============================] - 31s 100us/step - loss: 0.4386 - acc: 0.7753 - val_loss: 0.4291 - val_acc: 0.7838\n",
      "Epoch 14/200\n",
      "308518/308518 [==============================] - 31s 101us/step - loss: 0.4355 - acc: 0.7774 - val_loss: 0.4292 - val_acc: 0.7850\n",
      "Epoch 15/200\n",
      "308518/308518 [==============================] - 31s 100us/step - loss: 0.4324 - acc: 0.7789 - val_loss: 0.4385 - val_acc: 0.7799\n",
      "Epoch 16/200\n",
      "308518/308518 [==============================] - 31s 101us/step - loss: 0.4296 - acc: 0.7810 - val_loss: 0.4259 - val_acc: 0.7829\n",
      "Epoch 17/200\n",
      "308518/308518 [==============================] - 31s 100us/step - loss: 0.4267 - acc: 0.7826 - val_loss: 0.4137 - val_acc: 0.7932\n",
      "Epoch 18/200\n",
      "308518/308518 [==============================] - 31s 101us/step - loss: 0.4242 - acc: 0.7842 - val_loss: 0.4175 - val_acc: 0.7964\n",
      "Epoch 19/200\n",
      "308518/308518 [==============================] - 31s 101us/step - loss: 0.4217 - acc: 0.7861 - val_loss: 0.4131 - val_acc: 0.7964\n",
      "Epoch 20/200\n",
      "308518/308518 [==============================] - 31s 102us/step - loss: 0.4188 - acc: 0.7877 - val_loss: 0.4106 - val_acc: 0.7967\n",
      "Epoch 21/200\n",
      "308518/308518 [==============================] - 31s 101us/step - loss: 0.4166 - acc: 0.7891 - val_loss: 0.4102 - val_acc: 0.7994\n",
      "Epoch 22/200\n",
      "308518/308518 [==============================] - 31s 102us/step - loss: 0.4141 - acc: 0.7905 - val_loss: 0.4062 - val_acc: 0.8038\n",
      "Epoch 23/200\n",
      "308518/308518 [==============================] - 31s 100us/step - loss: 0.4119 - acc: 0.7924 - val_loss: 0.4048 - val_acc: 0.7967\n",
      "Epoch 24/200\n",
      "308518/308518 [==============================] - 31s 101us/step - loss: 0.4101 - acc: 0.7934 - val_loss: 0.4091 - val_acc: 0.7964\n",
      "Epoch 25/200\n",
      "308518/308518 [==============================] - 31s 100us/step - loss: 0.4085 - acc: 0.7936 - val_loss: 0.4041 - val_acc: 0.8022\n",
      "Epoch 26/200\n",
      "308518/308518 [==============================] - 31s 101us/step - loss: 0.4069 - acc: 0.7946 - val_loss: 0.3961 - val_acc: 0.8077\n",
      "Epoch 27/200\n",
      "308518/308518 [==============================] - 31s 101us/step - loss: 0.4055 - acc: 0.7957 - val_loss: 0.3914 - val_acc: 0.8092\n",
      "Epoch 28/200\n",
      "308518/308518 [==============================] - 31s 101us/step - loss: 0.4043 - acc: 0.7960 - val_loss: 0.3926 - val_acc: 0.8096\n",
      "Epoch 29/200\n",
      "308518/308518 [==============================] - 31s 101us/step - loss: 0.4033 - acc: 0.7966 - val_loss: 0.3948 - val_acc: 0.8081\n",
      "Epoch 30/200\n",
      "308518/308518 [==============================] - 31s 100us/step - loss: 0.4023 - acc: 0.7973 - val_loss: 0.4010 - val_acc: 0.8049\n",
      "Epoch 31/200\n",
      "308518/308518 [==============================] - 31s 101us/step - loss: 0.4012 - acc: 0.7976 - val_loss: 0.3977 - val_acc: 0.8069\n",
      "Epoch 32/200\n",
      "308518/308518 [==============================] - 31s 100us/step - loss: 0.4000 - acc: 0.7981 - val_loss: 0.3987 - val_acc: 0.8044\n",
      "--- ANN spent 996.5683960914612 seconds ---\n"
     ]
    }
   ],
   "source": [
    "hist_ann36n_unisoftsigbinlosadam = ann_fit(checkpoint_file = \"ann36n_unisoftsigbinlosadam_redds10bal.h5\",\n",
    "                                        ann = ann36n_unisoftsigbinlosadam,\n",
    "                                        enc_train_x = enc_train_x_asal,\n",
    "                                        train_y = train_y,\n",
    "                                        epochs = 200,\n",
    "                                        shuffle = False,\n",
    "                                        batch_size = 48)"
   ]
  },
  {
   "cell_type": "code",
   "execution_count": 55,
   "metadata": {},
   "outputs": [
    {
     "name": "stdout",
     "output_type": "stream",
     "text": [
      "Best loss value: 0.3999626239898481\n"
     ]
    },
    {
     "data": {
      "image/png": "[encoded data removed]",
      "text/plain": [
       "<Figure size 432x288 with 1 Axes>"
      ]
     },
     "metadata": {
      "needs_background": "light"
     },
     "output_type": "display_data"
    }
   ],
   "source": [
    "best_loss_value_ann36n_unisoftsigbinlosadam = plot_hist_auto(hist_ann36n_unisoftsigbinlosadam, './Figures/ann36_unisoftsigbinlosadam.png')"
   ]
  },
  {
   "cell_type": "code",
   "execution_count": 56,
   "metadata": {},
   "outputs": [
    {
     "name": "stdout",
     "output_type": "stream",
     "text": [
      "Overall accuracy of Neural Network model: 0.8028975405755252\n",
      "              precision    recall  f1-score   support\n",
      "\n",
      "           0       0.78      0.84      0.81     60424\n",
      "           1       0.83      0.77      0.80     60092\n",
      "\n",
      "   micro avg       0.80      0.80      0.80    120516\n",
      "   macro avg       0.80      0.80      0.80    120516\n",
      "weighted avg       0.80      0.80      0.80    120516\n",
      "\n"
     ]
    }
   ],
   "source": [
    "pred_ann36n_prob_unisoftsigbinlosadam, pred_ann36n_01_unisoftsigbinlosadam = ann_predict(ann36n_unisoftsigbinlosadam,enc_test_x_asal)"
   ]
  },
  {
   "cell_type": "code",
   "execution_count": 57,
   "metadata": {},
   "outputs": [
    {
     "data": {
      "image/png": "[encoded data removed]",
      "text/plain": [
       "<Figure size 432x288 with 1 Axes>"
      ]
     },
     "metadata": {
      "needs_background": "light"
     },
     "output_type": "display_data"
    },
    {
     "data": {
      "image/png": "[encoded data removed]",
      "text/plain": [
       "<Figure size 576x432 with 2 Axes>"
      ]
     },
     "metadata": {
      "needs_background": "light"
     },
     "output_type": "display_data"
    }
   ],
   "source": [
    "plot_roc_cm(pred_ann36n_01_unisoftsigbinlosadam, pred_ann36n_01_unisoftsigbinlosadam, './Figures/ROC_ann36n_unisoftsigbinlosadam_redds10bal.png', './Figures/CM_ann36n_unisoftsigbinlosadam_redds10bal.png')"
   ]
  },
  {
   "cell_type": "code",
   "execution_count": null,
   "metadata": {},
   "outputs": [],
   "source": []
  },
  {
   "cell_type": "code",
   "execution_count": null,
   "metadata": {},
   "outputs": [],
   "source": []
  },
  {
   "cell_type": "code",
   "execution_count": 58,
   "metadata": {},
   "outputs": [
    {
     "name": "stdout",
     "output_type": "stream",
     "text": [
      "_________________________________________________________________\n",
      "Layer (type)                 Output Shape              Param #   \n",
      "=================================================================\n",
      "dense_15 (Dense)             (None, 48)                1584      \n",
      "_________________________________________________________________\n",
      "dense_16 (Dense)             (None, 24)                1176      \n",
      "_________________________________________________________________\n",
      "batch_normalization_2 (Batch (None, 24)                96        \n",
      "_________________________________________________________________\n",
      "dropout_2 (Dropout)          (None, 24)                0         \n",
      "_________________________________________________________________\n",
      "dense_17 (Dense)             (None, 1)                 25        \n",
      "=================================================================\n",
      "Total params: 2,881\n",
      "Trainable params: 2,833\n",
      "Non-trainable params: 48\n",
      "_________________________________________________________________\n",
      "None\n"
     ]
    }
   ],
   "source": [
    "ann24n_unisoftsigbinlosadam = ann_1h_24n(neurons=48,\n",
    "                                      encoded_train_x=enc_train_x_asal,\n",
    "                                      init_mode='uniform',\n",
    "                                      activation_input='softsign',\n",
    "                                      weight_constraint=5,\n",
    "                                      dropout_rate=0.0,\n",
    "                                      activation_output='sigmoid',\n",
    "                                      loss='binary_crossentropy',\n",
    "                                      optimizer='Adam')"
   ]
  },
  {
   "cell_type": "code",
   "execution_count": 59,
   "metadata": {},
   "outputs": [
    {
     "name": "stdout",
     "output_type": "stream",
     "text": [
      "Tue Jun  4 23:34:41 2019\n",
      "Train on 308518 samples, validate on 77130 samples\n",
      "Epoch 1/200\n",
      "308518/308518 [==============================] - 32s 104us/step - loss: 0.5735 - acc: 0.6774 - val_loss: 0.5384 - val_acc: 0.7074\n",
      "Epoch 2/200\n",
      "308518/308518 [==============================] - 31s 102us/step - loss: 0.5384 - acc: 0.7088 - val_loss: 0.5250 - val_acc: 0.7122\n",
      "Epoch 3/200\n",
      "308518/308518 [==============================] - 32s 102us/step - loss: 0.5242 - acc: 0.7205 - val_loss: 0.5115 - val_acc: 0.7239\n",
      "Epoch 4/200\n",
      "308518/308518 [==============================] - 31s 102us/step - loss: 0.5134 - acc: 0.7267 - val_loss: 0.5008 - val_acc: 0.7402\n",
      "Epoch 5/200\n",
      "308518/308518 [==============================] - 31s 102us/step - loss: 0.5057 - acc: 0.7330 - val_loss: 0.5005 - val_acc: 0.7378\n",
      "Epoch 6/200\n",
      "308518/308518 [==============================] - 32s 102us/step - loss: 0.4983 - acc: 0.7372 - val_loss: 0.5102 - val_acc: 0.7248\n",
      "Epoch 7/200\n",
      "308518/308518 [==============================] - 31s 101us/step - loss: 0.4917 - acc: 0.7415 - val_loss: 0.4817 - val_acc: 0.7465\n",
      "Epoch 8/200\n",
      "308518/308518 [==============================] - 31s 100us/step - loss: 0.4860 - acc: 0.7456 - val_loss: 0.4948 - val_acc: 0.7394\n",
      "Epoch 9/200\n",
      "308518/308518 [==============================] - 32s 104us/step - loss: 0.4802 - acc: 0.7490 - val_loss: 0.4747 - val_acc: 0.7529\n",
      "Epoch 10/200\n",
      "308518/308518 [==============================] - 32s 103us/step - loss: 0.4759 - acc: 0.7527 - val_loss: 0.4785 - val_acc: 0.7435\n",
      "Epoch 11/200\n",
      "308518/308518 [==============================] - 32s 103us/step - loss: 0.4716 - acc: 0.7554 - val_loss: 0.4730 - val_acc: 0.7518\n",
      "Epoch 12/200\n",
      "308518/308518 [==============================] - 32s 102us/step - loss: 0.4672 - acc: 0.7590 - val_loss: 0.4746 - val_acc: 0.7556\n",
      "Epoch 13/200\n",
      "308518/308518 [==============================] - 32s 103us/step - loss: 0.4635 - acc: 0.7616 - val_loss: 0.4582 - val_acc: 0.7634\n",
      "Epoch 14/200\n",
      "308518/308518 [==============================] - 32s 103us/step - loss: 0.4602 - acc: 0.7640 - val_loss: 0.4616 - val_acc: 0.7636\n",
      "Epoch 15/200\n",
      "308518/308518 [==============================] - 31s 102us/step - loss: 0.4570 - acc: 0.7656 - val_loss: 0.4503 - val_acc: 0.7696\n",
      "Epoch 16/200\n",
      "308518/308518 [==============================] - 32s 103us/step - loss: 0.4541 - acc: 0.7679 - val_loss: 0.4450 - val_acc: 0.7678\n",
      "Epoch 17/200\n",
      "308518/308518 [==============================] - 32s 102us/step - loss: 0.4515 - acc: 0.7693 - val_loss: 0.4917 - val_acc: 0.7467\n",
      "Epoch 18/200\n",
      "308518/308518 [==============================] - 32s 103us/step - loss: 0.4493 - acc: 0.7699 - val_loss: 0.4313 - val_acc: 0.7818\n",
      "Epoch 19/200\n",
      "308518/308518 [==============================] - 31s 102us/step - loss: 0.4466 - acc: 0.7715 - val_loss: 0.4547 - val_acc: 0.7703\n",
      "Epoch 20/200\n",
      "308518/308518 [==============================] - 32s 103us/step - loss: 0.4446 - acc: 0.7724 - val_loss: 0.4268 - val_acc: 0.7846\n",
      "Epoch 21/200\n",
      "308518/308518 [==============================] - 31s 102us/step - loss: 0.4416 - acc: 0.7740 - val_loss: 0.4504 - val_acc: 0.7707\n",
      "Epoch 22/200\n",
      "308518/308518 [==============================] - 32s 102us/step - loss: 0.4404 - acc: 0.7750 - val_loss: 0.4346 - val_acc: 0.7712\n",
      "Epoch 23/200\n",
      "308518/308518 [==============================] - 32s 103us/step - loss: 0.4388 - acc: 0.7758 - val_loss: 0.4424 - val_acc: 0.7768\n",
      "Epoch 24/200\n",
      "308518/308518 [==============================] - 32s 102us/step - loss: 0.4363 - acc: 0.7771 - val_loss: 0.4409 - val_acc: 0.7768\n",
      "Epoch 25/200\n",
      "308518/308518 [==============================] - 32s 103us/step - loss: 0.4342 - acc: 0.7785 - val_loss: 0.4304 - val_acc: 0.7832\n",
      "--- ANN spent 789.9773788452148 seconds ---\n"
     ]
    }
   ],
   "source": [
    "hist_ann24n_unisoftsigbinlosadam = ann_fit(checkpoint_file = \"ann24n_unisoftsigbinlosadam_redds10bal.h5\",\n",
    "                                        ann = ann24n_unisoftsigbinlosadam,\n",
    "                                        enc_train_x = enc_train_x_asal,\n",
    "                                        train_y = train_y,\n",
    "                                        epochs = 200,\n",
    "                                        shuffle = True,\n",
    "                                        batch_size = 48)"
   ]
  },
  {
   "cell_type": "code",
   "execution_count": 60,
   "metadata": {},
   "outputs": [
    {
     "name": "stdout",
     "output_type": "stream",
     "text": [
      "Best loss value: 0.43417448546816134\n"
     ]
    },
    {
     "data": {
      "image/png": "[encoded data removed]",
      "text/plain": [
       "<Figure size 432x288 with 1 Axes>"
      ]
     },
     "metadata": {
      "needs_background": "light"
     },
     "output_type": "display_data"
    }
   ],
   "source": [
    "best_loss_value_ann24n_unisoftsigbinlosadam = plot_hist_auto(hist_ann24n_unisoftsigbinlosadam, './Figures/ann24_unisoftsigbinlosadam.png')"
   ]
  },
  {
   "cell_type": "code",
   "execution_count": 61,
   "metadata": {},
   "outputs": [
    {
     "name": "stdout",
     "output_type": "stream",
     "text": [
      "Overall accuracy of Neural Network model: 0.7833316738026486\n",
      "              precision    recall  f1-score   support\n",
      "\n",
      "           0       0.77      0.81      0.79     60424\n",
      "           1       0.80      0.76      0.78     60092\n",
      "\n",
      "   micro avg       0.78      0.78      0.78    120516\n",
      "   macro avg       0.78      0.78      0.78    120516\n",
      "weighted avg       0.78      0.78      0.78    120516\n",
      "\n"
     ]
    }
   ],
   "source": [
    "pred_ann24n_prob_unisoftsigbinlosadam, pred_ann24n_01_unisoftsigbinlosadam = ann_predict(ann24n_unisoftsigbinlosadam,enc_test_x_asal)"
   ]
  },
  {
   "cell_type": "code",
   "execution_count": 62,
   "metadata": {},
   "outputs": [
    {
     "data": {
      "image/png": "[encoded data removed]",
      "text/plain": [
       "<Figure size 432x288 with 1 Axes>"
      ]
     },
     "metadata": {
      "needs_background": "light"
     },
     "output_type": "display_data"
    },
    {
     "data": {
      "image/png": "[encoded data removed]",
      "text/plain": [
       "<Figure size 576x432 with 2 Axes>"
      ]
     },
     "metadata": {
      "needs_background": "light"
     },
     "output_type": "display_data"
    }
   ],
   "source": [
    "plot_roc_cm(pred_ann24n_01_unisoftsigbinlosadam, pred_ann24n_01_unisoftsigbinlosadam, './Figures/ROC_ann24n_unisoftsigbinlosadam_redds10bal.png', './Figures/CM_ann24n_unisoftsigbinlosadam_redds10bal.png')"
   ]
  },
  {
   "cell_type": "code",
   "execution_count": null,
   "metadata": {},
   "outputs": [],
   "source": []
  },
  {
   "cell_type": "code",
   "execution_count": 63,
   "metadata": {},
   "outputs": [
    {
     "name": "stdout",
     "output_type": "stream",
     "text": [
      "_________________________________________________________________\n",
      "Layer (type)                 Output Shape              Param #   \n",
      "=================================================================\n",
      "dense_18 (Dense)             (None, 48)                1584      \n",
      "_________________________________________________________________\n",
      "dense_19 (Dense)             (None, 36)                1764      \n",
      "_________________________________________________________________\n",
      "dense_20 (Dense)             (None, 24)                888       \n",
      "_________________________________________________________________\n",
      "batch_normalization_3 (Batch (None, 24)                96        \n",
      "_________________________________________________________________\n",
      "dropout_3 (Dropout)          (None, 24)                0         \n",
      "_________________________________________________________________\n",
      "dense_21 (Dense)             (None, 1)                 25        \n",
      "=================================================================\n",
      "Total params: 4,357\n",
      "Trainable params: 4,309\n",
      "Non-trainable params: 48\n",
      "_________________________________________________________________\n",
      "None\n"
     ]
    }
   ],
   "source": [
    "ann_2h_unisoftsigbinlosadam = ann_2h(neurons=48,\n",
    "                                      encoded_train_x=enc_train_x_asal,\n",
    "                                      init_mode='uniform',\n",
    "                                      activation_input='softsign',\n",
    "                                      weight_constraint=5,\n",
    "                                      dropout_rate=0.0,\n",
    "                                      activation_output='sigmoid',\n",
    "                                      loss='binary_crossentropy',\n",
    "                                      optimizer='Adam')"
   ]
  },
  {
   "cell_type": "code",
   "execution_count": 64,
   "metadata": {},
   "outputs": [
    {
     "name": "stdout",
     "output_type": "stream",
     "text": [
      "Tue Jun  4 23:47:56 2019\n",
      "Train on 308518 samples, validate on 77130 samples\n",
      "Epoch 1/200\n",
      "308518/308518 [==============================] - 35s 113us/step - loss: 0.5605 - acc: 0.6882 - val_loss: 0.5134 - val_acc: 0.7229\n",
      "Epoch 2/200\n",
      "308518/308518 [==============================] - 34s 110us/step - loss: 0.5021 - acc: 0.7329 - val_loss: 0.4764 - val_acc: 0.7501\n",
      "Epoch 3/200\n",
      "308518/308518 [==============================] - 34s 110us/step - loss: 0.4730 - acc: 0.7525 - val_loss: 0.4588 - val_acc: 0.7607\n",
      "Epoch 4/200\n",
      "308518/308518 [==============================] - 34s 110us/step - loss: 0.4562 - acc: 0.7618 - val_loss: 0.4628 - val_acc: 0.7580\n",
      "Epoch 5/200\n",
      "308518/308518 [==============================] - 34s 110us/step - loss: 0.4437 - acc: 0.7702 - val_loss: 0.4339 - val_acc: 0.7760\n",
      "Epoch 6/200\n",
      "308518/308518 [==============================] - 34s 110us/step - loss: 0.4351 - acc: 0.7747 - val_loss: 0.4210 - val_acc: 0.7842\n",
      "Epoch 7/200\n",
      "308518/308518 [==============================] - 34s 110us/step - loss: 0.4280 - acc: 0.7786 - val_loss: 0.4140 - val_acc: 0.7864\n",
      "Epoch 8/200\n",
      "308518/308518 [==============================] - 34s 110us/step - loss: 0.4217 - acc: 0.7820 - val_loss: 0.4147 - val_acc: 0.7869\n",
      "Epoch 9/200\n",
      "308518/308518 [==============================] - 34s 110us/step - loss: 0.4159 - acc: 0.7853 - val_loss: 0.4095 - val_acc: 0.7956\n",
      "Epoch 10/200\n",
      "308518/308518 [==============================] - 34s 109us/step - loss: 0.4121 - acc: 0.7884 - val_loss: 0.3977 - val_acc: 0.7979\n",
      "Epoch 11/200\n",
      "308518/308518 [==============================] - 34s 109us/step - loss: 0.4087 - acc: 0.7896 - val_loss: 0.4065 - val_acc: 0.7930\n",
      "Epoch 12/200\n",
      "308518/308518 [==============================] - 33s 107us/step - loss: 0.4055 - acc: 0.7917 - val_loss: 0.4107 - val_acc: 0.7898\n",
      "Epoch 13/200\n",
      "308518/308518 [==============================] - 34s 110us/step - loss: 0.4006 - acc: 0.7938 - val_loss: 0.3929 - val_acc: 0.8001\n",
      "Epoch 14/200\n",
      "308518/308518 [==============================] - 34s 109us/step - loss: 0.3969 - acc: 0.7966 - val_loss: 0.3932 - val_acc: 0.8029\n",
      "Epoch 15/200\n",
      "308518/308518 [==============================] - 34s 109us/step - loss: 0.3942 - acc: 0.7978 - val_loss: 0.3948 - val_acc: 0.8021\n",
      "Epoch 16/200\n",
      "308518/308518 [==============================] - 34s 110us/step - loss: 0.3916 - acc: 0.8004 - val_loss: 0.3838 - val_acc: 0.8023\n",
      "Epoch 17/200\n",
      "308518/308518 [==============================] - 33s 107us/step - loss: 0.3891 - acc: 0.8011 - val_loss: 0.3792 - val_acc: 0.8090\n",
      "Epoch 18/200\n",
      "308518/308518 [==============================] - 33s 107us/step - loss: 0.3862 - acc: 0.8026 - val_loss: 0.3781 - val_acc: 0.8095\n",
      "Epoch 19/200\n",
      "308518/308518 [==============================] - 33s 106us/step - loss: 0.3838 - acc: 0.8036 - val_loss: 0.3797 - val_acc: 0.8093\n",
      "Epoch 20/200\n",
      "308518/308518 [==============================] - 33s 107us/step - loss: 0.3806 - acc: 0.8057 - val_loss: 0.3739 - val_acc: 0.8097\n",
      "Epoch 21/200\n",
      "308518/308518 [==============================] - 33s 106us/step - loss: 0.3785 - acc: 0.8069 - val_loss: 0.3739 - val_acc: 0.8120\n",
      "Epoch 22/200\n",
      "308518/308518 [==============================] - 33s 107us/step - loss: 0.3769 - acc: 0.8089 - val_loss: 0.3662 - val_acc: 0.8143\n",
      "Epoch 23/200\n",
      "308518/308518 [==============================] - 33s 107us/step - loss: 0.3745 - acc: 0.8095 - val_loss: 0.3752 - val_acc: 0.8169\n",
      "Epoch 24/200\n",
      "308518/308518 [==============================] - 33s 106us/step - loss: 0.3725 - acc: 0.8105 - val_loss: 0.3714 - val_acc: 0.8118\n",
      "Epoch 25/200\n",
      "308518/308518 [==============================] - 33s 107us/step - loss: 0.3698 - acc: 0.8127 - val_loss: 0.3678 - val_acc: 0.8165\n",
      "Epoch 26/200\n",
      "308518/308518 [==============================] - 33s 107us/step - loss: 0.3688 - acc: 0.8122 - val_loss: 0.3549 - val_acc: 0.8224\n",
      "Epoch 27/200\n",
      "308518/308518 [==============================] - 33s 107us/step - loss: 0.3669 - acc: 0.8139 - val_loss: 0.3622 - val_acc: 0.8181\n",
      "Epoch 28/200\n",
      "308518/308518 [==============================] - 33s 106us/step - loss: 0.3651 - acc: 0.8152 - val_loss: 0.3639 - val_acc: 0.8165\n",
      "Epoch 29/200\n",
      "308518/308518 [==============================] - 33s 106us/step - loss: 0.3642 - acc: 0.8150 - val_loss: 0.3699 - val_acc: 0.8133\n",
      "Epoch 30/200\n",
      "308518/308518 [==============================] - 27s 87us/step - loss: 0.3620 - acc: 0.8166 - val_loss: 0.3603 - val_acc: 0.8209\n",
      "Epoch 31/200\n",
      "308518/308518 [==============================] - 27s 87us/step - loss: 0.3620 - acc: 0.8166 - val_loss: 0.3572 - val_acc: 0.8202\n",
      "--- ANN spent 1023.6363179683685 seconds ---\n"
     ]
    }
   ],
   "source": [
    "hist_ann_2h_unisoftsigbinlosadam = ann_fit(checkpoint_file = \"ann_2h_unisoftsigbinlosadam_redds10bal.h5\",\n",
    "                                        ann = ann_2h_unisoftsigbinlosadam,\n",
    "                                        enc_train_x = enc_train_x_asal,\n",
    "                                        train_y = train_y,\n",
    "                                        epochs = 200,\n",
    "                                        shuffle = True,\n",
    "                                        batch_size = 48)"
   ]
  },
  {
   "cell_type": "code",
   "execution_count": 65,
   "metadata": {},
   "outputs": [
    {
     "name": "stdout",
     "output_type": "stream",
     "text": [
      "Best loss value: 0.36201036895716865\n"
     ]
    },
    {
     "data": {
      "image/png": "[encoded data removed]",
      "text/plain": [
       "<Figure size 432x288 with 1 Axes>"
      ]
     },
     "metadata": {
      "needs_background": "light"
     },
     "output_type": "display_data"
    }
   ],
   "source": [
    "best_loss_value_ann_2h_unisoftsigbinlosadam = plot_hist_auto(hist_ann_2h_unisoftsigbinlosadam, './Figures/ann_2h_unisoftsigbinlosadam.png')"
   ]
  },
  {
   "cell_type": "code",
   "execution_count": 66,
   "metadata": {},
   "outputs": [
    {
     "name": "stdout",
     "output_type": "stream",
     "text": [
      "Overall accuracy of Neural Network model: 0.8212104616814365\n",
      "              precision    recall  f1-score   support\n",
      "\n",
      "           0       0.82      0.83      0.82     60424\n",
      "           1       0.82      0.81      0.82     60092\n",
      "\n",
      "   micro avg       0.82      0.82      0.82    120516\n",
      "   macro avg       0.82      0.82      0.82    120516\n",
      "weighted avg       0.82      0.82      0.82    120516\n",
      "\n"
     ]
    }
   ],
   "source": [
    "pred_ann_2h_prob_unisoftsigbinlosadam, pred_ann_2h_01_unisoftsigbinlosadam = ann_predict(ann_2h_unisoftsigbinlosadam,enc_test_x_asal)"
   ]
  },
  {
   "cell_type": "code",
   "execution_count": 67,
   "metadata": {},
   "outputs": [
    {
     "data": {
      "image/png": "[encoded data removed]",
      "text/plain": [
       "<Figure size 432x288 with 1 Axes>"
      ]
     },
     "metadata": {
      "needs_background": "light"
     },
     "output_type": "display_data"
    },
    {
     "data": {
      "image/png": "[encoded data removed]",
      "text/plain": [
       "<Figure size 576x432 with 2 Axes>"
      ]
     },
     "metadata": {
      "needs_background": "light"
     },
     "output_type": "display_data"
    }
   ],
   "source": [
    "plot_roc_cm(pred_ann_2h_01_unisoftsigbinlosadam, pred_ann_2h_01_unisoftsigbinlosadam, './Figures/ROC_ann_2h_unisoftsigbinlosadam_redds10bal.png', './Figures/CM_ann_2h_unisoftsigbinlosadam_redds10bal.png')"
   ]
  },
  {
   "cell_type": "code",
   "execution_count": null,
   "metadata": {},
   "outputs": [],
   "source": []
  },
  {
   "cell_type": "code",
   "execution_count": null,
   "metadata": {},
   "outputs": [],
   "source": []
  },
  {
   "cell_type": "code",
   "execution_count": 68,
   "metadata": {},
   "outputs": [
    {
     "name": "stdout",
     "output_type": "stream",
     "text": [
      "_________________________________________________________________\n",
      "Layer (type)                 Output Shape              Param #   \n",
      "=================================================================\n",
      "dense_22 (Dense)             (None, 48)                2352      \n",
      "_________________________________________________________________\n",
      "dense_23 (Dense)             (None, 24)                1176      \n",
      "_________________________________________________________________\n",
      "batch_normalization_4 (Batch (None, 24)                96        \n",
      "_________________________________________________________________\n",
      "dropout_4 (Dropout)          (None, 24)                0         \n",
      "_________________________________________________________________\n",
      "dense_24 (Dense)             (None, 1)                 25        \n",
      "=================================================================\n",
      "Total params: 3,649\n",
      "Trainable params: 3,601\n",
      "Non-trainable params: 48\n",
      "_________________________________________________________________\n",
      "None\n"
     ]
    }
   ],
   "source": [
    "ann_24n_unisoftsigbinlosadam = ann_1h_24n(neurons=48,\n",
    "                                      encoded_train_x=train_x,\n",
    "                                      init_mode='uniform',\n",
    "                                      activation_input='softsign',\n",
    "                                      weight_constraint=5,\n",
    "                                      dropout_rate=0.0,\n",
    "                                      activation_output='sigmoid',\n",
    "                                      loss='binary_crossentropy',\n",
    "                                      optimizer='Adam')"
   ]
  },
  {
   "cell_type": "code",
   "execution_count": 69,
   "metadata": {},
   "outputs": [
    {
     "name": "stdout",
     "output_type": "stream",
     "text": [
      "Wed Jun  5 00:05:03 2019\n",
      "Train on 308518 samples, validate on 77130 samples\n",
      "Epoch 1/200\n",
      "308518/308518 [==============================] - 27s 86us/step - loss: 0.5530 - acc: 0.6898 - val_loss: 0.5183 - val_acc: 0.7176\n",
      "Epoch 2/200\n",
      "308518/308518 [==============================] - 26s 84us/step - loss: 0.5054 - acc: 0.7282 - val_loss: 0.4801 - val_acc: 0.7512\n",
      "Epoch 3/200\n",
      "308518/308518 [==============================] - 26s 84us/step - loss: 0.4799 - acc: 0.7445 - val_loss: 0.4619 - val_acc: 0.7592\n",
      "Epoch 4/200\n",
      "308518/308518 [==============================] - 26s 84us/step - loss: 0.4590 - acc: 0.7583 - val_loss: 0.4462 - val_acc: 0.7645\n",
      "Epoch 5/200\n",
      "308518/308518 [==============================] - 26s 84us/step - loss: 0.4455 - acc: 0.7675 - val_loss: 0.4351 - val_acc: 0.7780\n",
      "Epoch 6/200\n",
      "308518/308518 [==============================] - 26s 85us/step - loss: 0.4343 - acc: 0.7744 - val_loss: 0.4327 - val_acc: 0.7703\n",
      "Epoch 7/200\n",
      "308518/308518 [==============================] - 26s 84us/step - loss: 0.4239 - acc: 0.7819 - val_loss: 0.4251 - val_acc: 0.7780\n",
      "Epoch 8/200\n",
      "308518/308518 [==============================] - 26s 84us/step - loss: 0.4148 - acc: 0.7880 - val_loss: 0.3987 - val_acc: 0.8002\n",
      "Epoch 9/200\n",
      "308518/308518 [==============================] - 26s 84us/step - loss: 0.4069 - acc: 0.7922 - val_loss: 0.3958 - val_acc: 0.8033\n",
      "Epoch 10/200\n",
      "308518/308518 [==============================] - 28s 89us/step - loss: 0.4002 - acc: 0.7968 - val_loss: 0.3857 - val_acc: 0.8086\n",
      "Epoch 11/200\n",
      "308518/308518 [==============================] - 26s 84us/step - loss: 0.3941 - acc: 0.8008 - val_loss: 0.3781 - val_acc: 0.8112\n",
      "Epoch 12/200\n",
      "308518/308518 [==============================] - 26s 84us/step - loss: 0.3902 - acc: 0.8037 - val_loss: 0.3832 - val_acc: 0.8117\n",
      "Epoch 13/200\n",
      "308518/308518 [==============================] - 26s 84us/step - loss: 0.3845 - acc: 0.8073 - val_loss: 0.3817 - val_acc: 0.8095\n",
      "Epoch 14/200\n",
      "308518/308518 [==============================] - 26s 85us/step - loss: 0.3797 - acc: 0.8104 - val_loss: 0.3568 - val_acc: 0.8214\n",
      "Epoch 15/200\n",
      "308518/308518 [==============================] - 26s 85us/step - loss: 0.3748 - acc: 0.8131 - val_loss: 0.3767 - val_acc: 0.8138\n",
      "Epoch 16/200\n",
      "308518/308518 [==============================] - 26s 84us/step - loss: 0.3701 - acc: 0.8163 - val_loss: 0.3664 - val_acc: 0.8206\n",
      "Epoch 17/200\n",
      "308518/308518 [==============================] - 26s 84us/step - loss: 0.3672 - acc: 0.8178 - val_loss: 0.3548 - val_acc: 0.8271\n",
      "Epoch 18/200\n",
      "308518/308518 [==============================] - 30s 96us/step - loss: 0.3646 - acc: 0.8193 - val_loss: 0.3472 - val_acc: 0.8327\n",
      "Epoch 19/200\n",
      "308518/308518 [==============================] - 30s 96us/step - loss: 0.3600 - acc: 0.8219 - val_loss: 0.3555 - val_acc: 0.8288\n",
      "Epoch 20/200\n",
      "308518/308518 [==============================] - 30s 98us/step - loss: 0.3574 - acc: 0.8234 - val_loss: 0.3739 - val_acc: 0.8189\n",
      "Epoch 21/200\n",
      "308518/308518 [==============================] - 30s 98us/step - loss: 0.3555 - acc: 0.8252 - val_loss: 0.3489 - val_acc: 0.8301\n",
      "Epoch 22/200\n",
      "308518/308518 [==============================] - 30s 97us/step - loss: 0.3518 - acc: 0.8277 - val_loss: 0.3359 - val_acc: 0.8374\n",
      "Epoch 23/200\n",
      "308518/308518 [==============================] - 30s 98us/step - loss: 0.3497 - acc: 0.8282 - val_loss: 0.3503 - val_acc: 0.8352\n",
      "Epoch 24/200\n",
      "308518/308518 [==============================] - 30s 97us/step - loss: 0.3496 - acc: 0.8282 - val_loss: 0.3496 - val_acc: 0.8261\n",
      "Epoch 25/200\n",
      "308518/308518 [==============================] - 30s 97us/step - loss: 0.3460 - acc: 0.8310 - val_loss: 0.3379 - val_acc: 0.8400\n",
      "Epoch 26/200\n",
      "308518/308518 [==============================] - 31s 99us/step - loss: 0.3447 - acc: 0.8310 - val_loss: 0.3401 - val_acc: 0.8382\n",
      "Epoch 27/200\n",
      "308518/308518 [==============================] - 30s 98us/step - loss: 0.3430 - acc: 0.8327 - val_loss: 0.3335 - val_acc: 0.8401\n",
      "Epoch 28/200\n",
      "308518/308518 [==============================] - 30s 99us/step - loss: 0.3415 - acc: 0.8335 - val_loss: 0.3279 - val_acc: 0.8407\n",
      "Epoch 29/200\n",
      "308518/308518 [==============================] - 30s 99us/step - loss: 0.3397 - acc: 0.8349 - val_loss: 0.3305 - val_acc: 0.8382\n",
      "Epoch 30/200\n",
      "308518/308518 [==============================] - 30s 98us/step - loss: 0.3386 - acc: 0.8353 - val_loss: 0.3231 - val_acc: 0.8471\n",
      "Epoch 31/200\n",
      "308518/308518 [==============================] - 30s 98us/step - loss: 0.3372 - acc: 0.8360 - val_loss: 0.3316 - val_acc: 0.8417\n",
      "Epoch 32/200\n",
      "308518/308518 [==============================] - 30s 96us/step - loss: 0.3368 - acc: 0.8366 - val_loss: 0.3234 - val_acc: 0.8435\n",
      "Epoch 33/200\n",
      "308518/308518 [==============================] - 30s 99us/step - loss: 0.3351 - acc: 0.8372 - val_loss: 0.3256 - val_acc: 0.8434\n",
      "Epoch 34/200\n",
      "308518/308518 [==============================] - 31s 99us/step - loss: 0.3345 - acc: 0.8378 - val_loss: 0.3242 - val_acc: 0.8488\n",
      "Epoch 35/200\n",
      "308518/308518 [==============================] - 31s 100us/step - loss: 0.3329 - acc: 0.8381 - val_loss: 0.3212 - val_acc: 0.8462\n",
      "Epoch 36/200\n",
      "308518/308518 [==============================] - 30s 99us/step - loss: 0.3328 - acc: 0.8395 - val_loss: 0.3312 - val_acc: 0.8372\n",
      "Epoch 37/200\n",
      "308518/308518 [==============================] - 30s 99us/step - loss: 0.3320 - acc: 0.8394 - val_loss: 0.3345 - val_acc: 0.8366\n",
      "Epoch 38/200\n",
      "308518/308518 [==============================] - 30s 98us/step - loss: 0.3318 - acc: 0.8392 - val_loss: 0.3189 - val_acc: 0.8477\n",
      "Epoch 39/200\n",
      "308518/308518 [==============================] - 25s 80us/step - loss: 0.3317 - acc: 0.8396 - val_loss: 0.3197 - val_acc: 0.8458\n",
      "Epoch 40/200\n",
      "308518/308518 [==============================] - 21s 68us/step - loss: 0.3296 - acc: 0.8400 - val_loss: 0.3253 - val_acc: 0.8442\n",
      "Epoch 41/200\n",
      "308518/308518 [==============================] - 21s 68us/step - loss: 0.3285 - acc: 0.8414 - val_loss: 0.3169 - val_acc: 0.8488\n",
      "Epoch 42/200\n",
      "308518/308518 [==============================] - 21s 68us/step - loss: 0.3277 - acc: 0.8418 - val_loss: 0.3135 - val_acc: 0.8523\n",
      "Epoch 43/200\n",
      "308518/308518 [==============================] - 21s 68us/step - loss: 0.3271 - acc: 0.8417 - val_loss: 0.3213 - val_acc: 0.8435\n",
      "Epoch 44/200\n",
      "308518/308518 [==============================] - 21s 68us/step - loss: 0.3270 - acc: 0.8421 - val_loss: 0.3354 - val_acc: 0.8348\n",
      "Epoch 45/200\n",
      "308518/308518 [==============================] - 21s 68us/step - loss: 0.3259 - acc: 0.8426 - val_loss: 0.3092 - val_acc: 0.8509\n",
      "Epoch 46/200\n",
      "308518/308518 [==============================] - 21s 68us/step - loss: 0.3256 - acc: 0.8430 - val_loss: 0.3129 - val_acc: 0.8516\n",
      "Epoch 47/200\n",
      "308518/308518 [==============================] - 21s 68us/step - loss: 0.3243 - acc: 0.8434 - val_loss: 0.3109 - val_acc: 0.8533\n",
      "Epoch 48/200\n",
      "308518/308518 [==============================] - 21s 68us/step - loss: 0.3237 - acc: 0.8444 - val_loss: 0.3241 - val_acc: 0.8447\n",
      "Epoch 49/200\n",
      "308518/308518 [==============================] - 21s 68us/step - loss: 0.3229 - acc: 0.8440 - val_loss: 0.3035 - val_acc: 0.8612\n",
      "Epoch 50/200\n",
      "308518/308518 [==============================] - 21s 68us/step - loss: 0.3224 - acc: 0.8441 - val_loss: 0.3033 - val_acc: 0.8548\n",
      "Epoch 51/200\n",
      "308518/308518 [==============================] - 21s 68us/step - loss: 0.3231 - acc: 0.8440 - val_loss: 0.2984 - val_acc: 0.8588\n",
      "Epoch 52/200\n",
      "308518/308518 [==============================] - 21s 68us/step - loss: 0.3223 - acc: 0.8447 - val_loss: 0.3009 - val_acc: 0.8568\n",
      "Epoch 53/200\n",
      "308518/308518 [==============================] - 21s 68us/step - loss: 0.3213 - acc: 0.8456 - val_loss: 0.3075 - val_acc: 0.8523\n",
      "Epoch 54/200\n",
      "308518/308518 [==============================] - 21s 68us/step - loss: 0.3210 - acc: 0.8445 - val_loss: 0.3078 - val_acc: 0.8542\n",
      "Epoch 55/200\n",
      "308518/308518 [==============================] - 21s 68us/step - loss: 0.3216 - acc: 0.8445 - val_loss: 0.3228 - val_acc: 0.8471\n",
      "Epoch 56/200\n",
      "308518/308518 [==============================] - 21s 68us/step - loss: 0.3205 - acc: 0.8447 - val_loss: 0.3191 - val_acc: 0.8494\n",
      "--- ANN spent 1462.002052307129 seconds ---\n"
     ]
    }
   ],
   "source": [
    "hist_ann_24n_unisoftsigbinlosadam = ann_fit(checkpoint_file = \"ann_24n_unisoftsigbinlosadam_redds10bal.h5\",\n",
    "                                        ann = ann_24n_unisoftsigbinlosadam,\n",
    "                                        enc_train_x = train_x,\n",
    "                                        train_y = train_y,\n",
    "                                        epochs = 200,\n",
    "                                        shuffle = True,\n",
    "                                        batch_size = 48)"
   ]
  },
  {
   "cell_type": "code",
   "execution_count": 70,
   "metadata": {},
   "outputs": [
    {
     "name": "stdout",
     "output_type": "stream",
     "text": [
      "Best loss value: 0.3204965948273575\n"
     ]
    },
    {
     "data": {
      "image/png": "[encoded data removed]",
      "text/plain": [
       "<Figure size 432x288 with 1 Axes>"
      ]
     },
     "metadata": {
      "needs_background": "light"
     },
     "output_type": "display_data"
    }
   ],
   "source": [
    "best_loss_value_ann_24n_unisoftsigbinlosadam = plot_hist_auto(hist_ann_24n_unisoftsigbinlosadam, './Figures/ann_24_unisoftsigbinlosadam.png')"
   ]
  },
  {
   "cell_type": "code",
   "execution_count": 71,
   "metadata": {},
   "outputs": [
    {
     "name": "stdout",
     "output_type": "stream",
     "text": [
      "Overall accuracy of Neural Network model: 0.8476135948753692\n",
      "              precision    recall  f1-score   support\n",
      "\n",
      "           0       0.87      0.81      0.84     60424\n",
      "           1       0.82      0.88      0.85     60092\n",
      "\n",
      "   micro avg       0.85      0.85      0.85    120516\n",
      "   macro avg       0.85      0.85      0.85    120516\n",
      "weighted avg       0.85      0.85      0.85    120516\n",
      "\n"
     ]
    }
   ],
   "source": [
    "pred_ann_24n_prob_unisoftsigbinlosadam, pred_ann_24n_01_unisoftsigbinlosadam = ann_predict(ann_24n_unisoftsigbinlosadam,test_x)"
   ]
  },
  {
   "cell_type": "code",
   "execution_count": 72,
   "metadata": {},
   "outputs": [
    {
     "data": {
      "image/png": "[encoded data removed]",
      "text/plain": [
       "<Figure size 432x288 with 1 Axes>"
      ]
     },
     "metadata": {
      "needs_background": "light"
     },
     "output_type": "display_data"
    },
    {
     "data": {
      "image/png": "[encoded data removed]",
      "text/plain": [
       "<Figure size 576x432 with 2 Axes>"
      ]
     },
     "metadata": {
      "needs_background": "light"
     },
     "output_type": "display_data"
    }
   ],
   "source": [
    "plot_roc_cm(pred_ann_24n_01_unisoftsigbinlosadam, pred_ann_24n_01_unisoftsigbinlosadam, './Figures/ROC_ann_24n_unisoftsigbinlosadam_redds10bal.png', './Figures/CM_ann_24n_unisoftsigbinlosadam_redds10bal.png')"
   ]
  },
  {
   "cell_type": "code",
   "execution_count": 73,
   "metadata": {},
   "outputs": [],
   "source": [
    "from sklearn.ensemble import RandomForestClassifier"
   ]
  },
  {
   "cell_type": "code",
   "execution_count": 74,
   "metadata": {},
   "outputs": [],
   "source": [
    "clf = RandomForestClassifier(n_estimators=300, \n",
    "                             criterion='gini', \n",
    "                             max_depth=16, \n",
    "#                              min_samples_split=2, \n",
    "                             #min_samples_leaf=1, \n",
    "                             max_features=0.3, \n",
    "                             #bootstrap=True,\n",
    "                             oob_score=True,\n",
    "                             random_state=23)  "
   ]
  },
  {
   "cell_type": "code",
   "execution_count": 75,
   "metadata": {},
   "outputs": [
    {
     "name": "stdout",
     "output_type": "stream",
     "text": [
      "Wed Jun  5 00:29:29 2019\n",
      "--- 1550.1510553359985 seconds ---\n",
      "              precision    recall  f1-score   support\n",
      "\n",
      "           0     0.9903    0.9567    0.9732     60424\n",
      "           1     0.9579    0.9906    0.9739     60092\n",
      "\n",
      "   micro avg     0.9736    0.9736    0.9736    120516\n",
      "   macro avg     0.9741    0.9736    0.9736    120516\n",
      "weighted avg     0.9741    0.9736    0.9736    120516\n",
      "\n"
     ]
    }
   ],
   "source": [
    "start_time = time.time()\n",
    "print(time.ctime(start_time))\n",
    "\n",
    "clf.fit(enc_train_x_asal, train_y)\n",
    "\n",
    "pred_y_RF = cross_val_predict(estimator=clf,\n",
    "                              X=np.array(enc_test_x_asal),\n",
    "                              y=test_y,\n",
    "                              cv=KFold(n_splits=10, random_state=23),\n",
    "                              n_jobs=2)\n",
    "\n",
    "elapsed_time = (time.time() - start_time)\n",
    "print(\"--- %s seconds ---\" %elapsed_time)\n",
    "\n",
    "print(sm.classification_report(test_y, pred_y_RF,digits=4))"
   ]
  },
  {
   "cell_type": "code",
   "execution_count": 76,
   "metadata": {},
   "outputs": [
    {
     "data": {
      "image/png": "[encoded data removed]",
      "text/plain": [
       "<Figure size 432x288 with 1 Axes>"
      ]
     },
     "metadata": {
      "needs_background": "light"
     },
     "output_type": "display_data"
    },
    {
     "data": {
      "image/png": "[encoded data removed]",
      "text/plain": [
       "<Figure size 576x432 with 2 Axes>"
      ]
     },
     "metadata": {
      "needs_background": "light"
     },
     "output_type": "display_data"
    }
   ],
   "source": [
    "plot_roc_cm(pred_y_RF, pred_y_RF, './Figures/ROC_rf_E100MaxfautoMaxdnoneBootT_redds10bal.png', './Figures/CM_rf_E100MaxfautoMaxdnoneBootT_redds10bal.png')"
   ]
  },
  {
   "cell_type": "code",
   "execution_count": null,
   "metadata": {},
   "outputs": [],
   "source": []
  },
  {
   "cell_type": "code",
   "execution_count": null,
   "metadata": {},
   "outputs": [],
   "source": []
  },
  {
   "cell_type": "code",
   "execution_count": null,
   "metadata": {},
   "outputs": [],
   "source": []
  }
 ],
 "metadata": {
  "kernelspec": {
   "display_name": "Python 3",
   "language": "python",
   "name": "python3"
  },
  "language_info": {
   "codemirror_mode": {
    "name": "ipython",
    "version": 3
   },
   "file_extension": ".py",
   "mimetype": "text/x-python",
   "name": "python",
   "nbconvert_exporter": "python",
   "pygments_lexer": "ipython3",
   "version": "3.6.8"
  }
 },
 "nbformat": 4,
 "nbformat_minor": 2
}
