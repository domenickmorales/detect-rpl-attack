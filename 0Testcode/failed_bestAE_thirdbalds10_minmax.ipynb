{
 "cells": [
  {
   "cell_type": "code",
   "execution_count": 1,
   "metadata": {},
   "outputs": [],
   "source": [
    "import os\n",
    "os.environ[\"CUDA_DEVICE_ORDER\"]=\"PCI_BUS_ID\"\n",
    "os.environ[\"CUDA_VISIBLE_DEVICES\"]=\"0\""
   ]
  },
  {
   "cell_type": "code",
   "execution_count": 2,
   "metadata": {},
   "outputs": [
    {
     "name": "stderr",
     "output_type": "stream",
     "text": [
      "Using TensorFlow backend.\n"
     ]
    }
   ],
   "source": [
    "###################################\n",
    "# TensorFlow wizardry\n",
    "import tensorflow as tf\n",
    "config = tf.ConfigProto()\n",
    " \n",
    "# Don’t pre-allocate memory; allocate as-needed\n",
    "config.gpu_options.allow_growth = True\n",
    " \n",
    "# Only allow a total of half the GPU memory to be allocated\n",
    "config.gpu_options.per_process_gpu_memory_fraction = 0.05\n",
    "#gpu_options = tf.GPUOptions(per_process_gpu_memory_fraction=0.333)\n",
    " \n",
    "# Create a session with the above options specified.\n",
    "from keras import optimizers, regularizers\n",
    "from keras.layers.normalization import BatchNormalization\n",
    "from keras.utils import to_categorical\n",
    "from keras.wrappers.scikit_learn import KerasClassifier\n",
    "from keras import optimizers\n",
    "from keras.constraints import maxnorm\n",
    "from keras.callbacks import ModelCheckpoint, TensorBoard, EarlyStopping\n",
    "\n",
    "from keras.models import Sequential, Model, load_model\n",
    "from keras.layers import Activation, Dense, Dropout, Input\n",
    "from keras import backend as k\n",
    "\n",
    "k.tensorflow_backend.set_session(tf.Session(config=config))\n",
    "#k.tensorflow_backend.set_session(tf.Session(config=tf.ConfigProto(gpu_options=gpu_options))\n",
    "###################################"
   ]
  },
  {
   "cell_type": "code",
   "execution_count": 3,
   "metadata": {},
   "outputs": [],
   "source": [
    "#----------------------------------Import modules------------------------------\n",
    "import numpy as np\n",
    "import pandas as pd\n",
    "import matplotlib.pyplot as plt\n",
    "import seaborn as sns\n",
    "from sklearn.model_selection import train_test_split\n",
    "from sklearn.metrics import confusion_matrix,accuracy_score, roc_curve, auc\n",
    "from sklearn import preprocessing\n",
    "sns.set_style(\"whitegrid\")\n",
    "np.random.seed(23)\n",
    "import time\n",
    "from sklearn.model_selection import GridSearchCV\n",
    "import sklearn.metrics as sm\n",
    "from sklearn.model_selection import KFold\n",
    "from sklearn.model_selection import cross_val_predict\n"
   ]
  },
  {
   "cell_type": "code",
   "execution_count": 4,
   "metadata": {},
   "outputs": [
    {
     "name": "stdout",
     "output_type": "stream",
     "text": [
      "Default GPU Device: /device:GPU:0\n"
     ]
    }
   ],
   "source": [
    "if tf.test.gpu_device_name():\n",
    "    print('Default GPU Device: {}'.format(tf.test.gpu_device_name()))\n",
    "else:\n",
    "    print(\"Please install GPU version of TF\")"
   ]
  },
  {
   "cell_type": "code",
   "execution_count": 5,
   "metadata": {},
   "outputs": [],
   "source": [
    "pathds = '/home/user/01Code/00Datasets_final/'"
   ]
  },
  {
   "cell_type": "code",
   "execution_count": 6,
   "metadata": {},
   "outputs": [],
   "source": [
    "#df_chunk = pd.read_csv(pathds+'SubsetAllSamples/ThirdCloneID10bal_minmax.csv', chunksize=1000)\n",
    "#df = df_chunk.get_chunk(300000)\n",
    "df = pd.read_csv(pathds+'SubsetAllSamples/ThirdCloneID10bal_minmax.csv')"
   ]
  },
  {
   "cell_type": "code",
   "execution_count": 7,
   "metadata": {},
   "outputs": [
    {
     "data": {
      "text/plain": [
       "(455154, 49)"
      ]
     },
     "execution_count": 7,
     "metadata": {},
     "output_type": "execute_result"
    }
   ],
   "source": [
    "df.shape"
   ]
  },
  {
   "cell_type": "markdown",
   "metadata": {},
   "source": [
    "#### 4.2 Explaining the data"
   ]
  },
  {
   "cell_type": "code",
   "execution_count": 8,
   "metadata": {},
   "outputs": [
    {
     "name": "stdout",
     "output_type": "stream",
     "text": [
      "Class 0: 227577\n",
      "Class 1: 227577\n",
      "Proportion: 1.0 : 1\n"
     ]
    }
   ],
   "source": [
    "#if you don't have an intuitive sense of how imbalanced these two classes are, let's go visual\n",
    "count_classes = pd.value_counts(df['class'], sort = True)\n",
    "print('Class 0:', count_classes[0])\n",
    "print('Class 1:', count_classes[1])\n",
    "print('Proportion:', round(count_classes[0] / count_classes[1], 3), ': 1')"
   ]
  },
  {
   "cell_type": "code",
   "execution_count": 9,
   "metadata": {},
   "outputs": [
    {
     "data": {
      "image/png": "[encoded data removed]",
      "text/plain": [
       "<Figure size 432x288 with 1 Axes>"
      ]
     },
     "metadata": {
      "needs_background": "light"
     },
     "output_type": "display_data"
    }
   ],
   "source": [
    "count_classes.plot(kind = 'bar', rot=0)\n",
    "plt.xticks(range(2), ['Normal [0]','Malicious [1]'])\n",
    "plt.title(\"Frequency by observation number\")\n",
    "plt.xlabel(\"Class\")\n",
    "plt.ylabel(\"Number of Observations\");"
   ]
  },
  {
   "cell_type": "code",
   "execution_count": 10,
   "metadata": {},
   "outputs": [],
   "source": [
    "#set random seed and percentage of test data\n",
    "RANDOM_SEED = 23 #used to help randomly select the data points\n",
    "TEST_PCT = 0.20 # 20% of the data"
   ]
  },
  {
   "cell_type": "code",
   "execution_count": 11,
   "metadata": {},
   "outputs": [],
   "source": [
    "train, test_df = train_test_split(df, test_size=TEST_PCT, random_state=RANDOM_SEED)"
   ]
  },
  {
   "cell_type": "markdown",
   "metadata": {},
   "source": [
    "+ df -> original dataset \n",
    "+ train -> subset of 80% from original dataset \n",
    "+ test_df -> subset of 20% from original dataset "
   ]
  },
  {
   "cell_type": "code",
   "execution_count": 12,
   "metadata": {},
   "outputs": [],
   "source": [
    "train_df, dev_df = train_test_split(train, test_size=TEST_PCT, random_state=RANDOM_SEED)"
   ]
  },
  {
   "cell_type": "markdown",
   "metadata": {},
   "source": [
    "+ train -> subset of 80% from original dataset \n",
    "+ train_df -> subset of 80% from train\n",
    "+ dev_df -> subset of 20% from train"
   ]
  },
  {
   "cell_type": "code",
   "execution_count": 13,
   "metadata": {},
   "outputs": [
    {
     "name": "stdout",
     "output_type": "stream",
     "text": [
      "0.5006728504830106\n",
      "0.5012838997596979\n",
      "0.4968197646955433\n"
     ]
    }
   ],
   "source": [
    "# Check distribution of mal samples in train and test set\n",
    "print(train_df.iloc[:, 48].sum()/train_df.shape[0]) \n",
    "print(dev_df.iloc[:, 48].sum()/dev_df.shape[0]) \n",
    "print(test_df.iloc[:, 48].sum()/test_df.shape[0])"
   ]
  },
  {
   "cell_type": "code",
   "execution_count": 14,
   "metadata": {},
   "outputs": [],
   "source": [
    "train_x = train_df.iloc[:, :48] \n",
    "dev_x = dev_df.iloc[:, :48] \n",
    "test_x = test_df.iloc[:, :48] "
   ]
  },
  {
   "cell_type": "markdown",
   "metadata": {},
   "source": [
    "+ train_x -> features of train_df **Training subset for AE**\n",
    "+ dev_x -> features of dev_df **Validation subset for AE**\n",
    "+ test_x -> features of test_df **Testing subset for ANN**"
   ]
  },
  {
   "cell_type": "code",
   "execution_count": 15,
   "metadata": {},
   "outputs": [],
   "source": [
    "# Define the final train and test sets\n",
    "train_y = train_df.iloc[:, 48]\n",
    "dev_y = dev_df.iloc[:, 48]\n",
    "test_y = test_df.iloc[:, 48]"
   ]
  },
  {
   "cell_type": "markdown",
   "metadata": {},
   "source": [
    "+ train_y -> **Labels for supervised training of ANN**\n",
    "+ dev_y -> labels of dev_df  *not used for AE neither ANN*\n",
    "+ test_y -> labels of test_df  **Ground Truth for predictions of supervised ANN**"
   ]
  },
  {
   "cell_type": "code",
   "execution_count": 16,
   "metadata": {},
   "outputs": [
    {
     "name": "stdout",
     "output_type": "stream",
     "text": [
      "48\n"
     ]
    }
   ],
   "source": [
    "train_x =np.array(train_x)\n",
    "dev_x =np.array(dev_x)\n",
    "test_x = np.array(test_x)\n",
    "\n",
    "train_y = np.array(train_y)\n",
    "dev_y = np.array(dev_y)\n",
    "test_y = np.array(test_y)\n",
    "\n",
    "print(train_x.shape[1])"
   ]
  },
  {
   "cell_type": "markdown",
   "metadata": {},
   "source": [
    "### Autoencoder Function"
   ]
  },
  {
   "cell_type": "markdown",
   "metadata": {},
   "source": [
    "encoding_dim - 2\n",
    "\n",
    "Epoch 94/300 78596/78596 [==============================] - 10s 125us/step \n",
    "- loss: 3.8990e-05 - acc: 0.0237 - \n",
    "        val_loss: 3.9704e-05 - val_acc: 0.0236"
   ]
  },
  {
   "cell_type": "code",
   "execution_count": 17,
   "metadata": {},
   "outputs": [],
   "source": [
    "def ae(factor_enc_dim, enc_activation, dec_activation, \n",
    "                optimizer, loss):\n",
    "\n",
    "    encoding_dim = int(int(train_x.shape[1])/factor_enc_dim)\n",
    "    ### Define input layer\n",
    "    input_data = Input(shape=(train_x.shape[1],))\n",
    "    ### Define encoding layer #RELU\n",
    "    encoded = Dense(encoding_dim, activation=enc_activation, name='encoded_bottle_neck')(input_data)\n",
    "    ### Define decoding layer #SIMOID\n",
    "    decoded = Dense(train_x.shape[1], activation=dec_activation)(encoded)\n",
    "    ### Create the autoencoder model\n",
    "    autoencoder = Model(input_data, decoded)\n",
    "    autoencoder.compile(optimizer=optimizer,\n",
    "                        loss=loss,\n",
    "                        metrics=['accuracy'])\n",
    "    \n",
    "    print(autoencoder.summary())\n",
    "    \n",
    "    encoder = Model(input_data, encoded)\n",
    "    encoded_train_x = encoder.predict(train_x)\n",
    "    encoded_test_x = encoder.predict(test_x)\n",
    "    \n",
    "    return autoencoder,encoded_train_x,encoded_test_x"
   ]
  },
  {
   "cell_type": "code",
   "execution_count": 18,
   "metadata": {},
   "outputs": [],
   "source": [
    "def sae(factor_enc_dim, output_activation,\n",
    "        optimizer, loss):\n",
    "\n",
    "    encoding_dim = int(int(train_x.shape[1])/factor_enc_dim)\n",
    "    ### Define input layer\n",
    "    input_data = Input(shape=(train_x.shape[1],))\n",
    "    ### Define encoding layer\n",
    "    encoded = Dense(encoding_dim, activation='relu', name='input_layer')(input_data)\n",
    "    encoded = Dense(int(encoding_dim/2), activation='relu')(encoded) ##Stacked AE\n",
    "    encoded_bottle_neck = Dense(int(encoding_dim/4), activation='relu', name='enc_bottle_neck')(encoded) ##Stacked AE\n",
    "    \n",
    "    ### Define decoding layer\n",
    "    decoded = Dense(int(encoding_dim/2), activation='relu')(encoded_bottle_neck) ##Stacked AE\n",
    "    decoded = Dense(encoding_dim, activation='relu')(decoded) ##Stacked AE\n",
    "    decoded = Dense(train_x.shape[1], activation=output_activation)(decoded)\n",
    "    \n",
    "    ### Create the autoencoder model\n",
    "    sae = Model(input_data, decoded)\n",
    "    sae.compile(optimizer=optimizer,\n",
    "                loss=loss,\n",
    "                metrics=['accuracy'])\n",
    "    \n",
    "    print(sae.summary())\n",
    "\n",
    "    encoder = Model(input_data, encoded_bottle_neck)\n",
    "    encoded_train_x = encoder.predict(train_x)\n",
    "    encoded_test_x = encoder.predict(test_x)\n",
    "    \n",
    "    return sae,encoded_train_x,encoded_test_x"
   ]
  },
  {
   "cell_type": "code",
   "execution_count": 19,
   "metadata": {},
   "outputs": [],
   "source": [
    "def spae(factor_enc_dim, output_activation, \n",
    "                optimizer, loss):\n",
    "\n",
    "    encoding_dim = int(int(train_x.shape[1])/factor_enc_dim)\n",
    "    ### Define input layer\n",
    "    input_data = Input(shape=(train_x.shape[1],))\n",
    "    ### Define encoding layer\n",
    "    encoded = Dense(encoding_dim, activity_regularizer=regularizers.l1(1e-4), activation='relu', name='encoded_bottle_neck')(input_data)\n",
    "    ### Define decoding layer\n",
    "    decoded = Dense(train_x.shape[1], activation=output_activation)(encoded)\n",
    "    ### Create the autoencoder model\n",
    "    autoencoder = Model(input_data, decoded)\n",
    "    autoencoder.compile(optimizer=optimizer,\n",
    "                        loss=loss,\n",
    "                        metrics=['accuracy'])\n",
    "    \n",
    "    print(autoencoder.summary())\n",
    "    \n",
    "    encoder = Model(input_data, encoded)\n",
    "    encoded_train_x = encoder.predict(train_x)\n",
    "    encoded_test_x = encoder.predict(test_x)\n",
    "    \n",
    "    return autoencoder,encoded_train_x,encoded_test_x"
   ]
  },
  {
   "cell_type": "code",
   "execution_count": null,
   "metadata": {},
   "outputs": [],
   "source": []
  },
  {
   "cell_type": "code",
   "execution_count": 20,
   "metadata": {},
   "outputs": [],
   "source": [
    "def fit_ae(checkpoint_file, autoencoder,\n",
    "           epochs, batch_size, shuffle):\n",
    "    \n",
    "    early_stopping = EarlyStopping(monitor='val_loss', patience=5)\n",
    "\n",
    "    cp = ModelCheckpoint(filepath=checkpoint_file,\n",
    "                                   save_best_only=True,\n",
    "                                   verbose=0)\n",
    "\n",
    "    tb = TensorBoard(log_dir='./logs',\n",
    "                    histogram_freq=0,\n",
    "                    write_graph=True,\n",
    "                    write_images=True)\n",
    "\n",
    "    start_time = time.time()\n",
    "    print(time.ctime(start_time))\n",
    "\n",
    "    hist_auto = autoencoder.fit(train_x, train_x,\n",
    "                    epochs=epochs,\n",
    "                    batch_size=batch_size,\n",
    "                    shuffle=shuffle,\n",
    "                    verbose=1,\n",
    "                    callbacks=[early_stopping, cp, tb],\n",
    "                    validation_data=(dev_x, dev_x))\n",
    "\n",
    "    elapsed_time = (time.time() - start_time)\n",
    "    print(\"--- AE spent %s seconds ---\" % elapsed_time)\n",
    "    \n",
    "    return hist_auto"
   ]
  },
  {
   "cell_type": "code",
   "execution_count": 21,
   "metadata": {},
   "outputs": [],
   "source": [
    "def plot_hist_auto(hist_auto, fig_file):\n",
    "    best_loss_value = hist_auto.history['loss'][-1]\n",
    "    print('Best loss value:', best_loss_value)\n",
    "\n",
    "    # Summarize history for loss\n",
    "    plt.figure()\n",
    "    plt.plot(hist_auto.history['loss'])\n",
    "    plt.plot(hist_auto.history['val_loss'])\n",
    "    plt.title('Autoencoder model loss')\n",
    "    plt.ylabel('loss')\n",
    "    plt.xlabel('epoch')\n",
    "    plt.legend(['train', 'test'], loc='upper right')\n",
    "    plt.savefig(fig_file)\n",
    "    plt.show()\n",
    "    \n",
    "    return best_loss_value"
   ]
  },
  {
   "cell_type": "code",
   "execution_count": 22,
   "metadata": {},
   "outputs": [],
   "source": [
    "def ann_2h(neurons,encoded_train_x,init_mode,activation_input,\n",
    "               weight_constraint,dropout_rate,activation_output,\n",
    "               loss,optimizer):\n",
    "\n",
    "    # create model\n",
    "    model = Sequential()\n",
    "\n",
    "    model.add(Dense(neurons, input_dim=encoded_train_x.shape[1],\n",
    "                    kernel_initializer=init_mode,\n",
    "                    #kernel_regularizer=regularizers.l2(0.02), #from example\n",
    "                    activation=activation_input,\n",
    "                    kernel_constraint=maxnorm(weight_constraint)\n",
    "                    )\n",
    "              )\n",
    "\n",
    "#     #Hidden Layer\n",
    "    model.add(Dense(36, activation=\"relu\", kernel_initializer=init_mode)) #rezvy\n",
    "\n",
    "    model.add(Dense(24, activation=\"relu\", kernel_initializer=init_mode)) #rezvy\n",
    "    \n",
    "    #model.add(Dense(12, activation=\"relu\", kernel_initializer=init_mode)) #rezvy\n",
    "    \n",
    "    model.add(BatchNormalization()) #commented for ex\n",
    "    model.add(Dropout(dropout_rate))\n",
    "    model.add(Dense(1, activation=activation_output)) #example\n",
    "    \n",
    "    # Compile model\n",
    "    model.compile(loss=loss, \n",
    "                  optimizer=optimizer, \n",
    "                  metrics=['accuracy'])\n",
    "    \n",
    "    print(model.summary())\n",
    "    \n",
    "    return model"
   ]
  },
  {
   "cell_type": "code",
   "execution_count": 161,
   "metadata": {},
   "outputs": [],
   "source": [
    "def ann_3h(neurons,encoded_train_x,init_mode,activation_input,\n",
    "               weight_constraint,dropout_rate,activation_output,\n",
    "               loss,optimizer):\n",
    "\n",
    "    # create model\n",
    "    model = Sequential()\n",
    "\n",
    "    model.add(Dense(neurons, input_dim=encoded_train_x.shape[1],\n",
    "                    kernel_initializer=init_mode,\n",
    "                    #kernel_regularizer=regularizers.l2(0.02), #from example\n",
    "                    activation=activation_input,\n",
    "                    kernel_constraint=maxnorm(weight_constraint)\n",
    "                    )\n",
    "              )\n",
    "\n",
    "#     #Hidden Layer\n",
    "    model.add(Dense(36, activation=\"relu\", kernel_initializer=init_mode)) #rezvy\n",
    "\n",
    "    model.add(Dense(24, activation=\"relu\", kernel_initializer=init_mode)) #rezvy\n",
    "    \n",
    "    model.add(Dense(12, activation=\"relu\", kernel_initializer=init_mode)) #rezvy\n",
    "    \n",
    "    model.add(BatchNormalization()) #commented for ex\n",
    "    model.add(Dropout(dropout_rate))\n",
    "    model.add(Dense(1, activation=activation_output)) #example\n",
    "    \n",
    "    # Compile model\n",
    "    model.compile(loss=loss, \n",
    "                  optimizer=optimizer, \n",
    "                  metrics=['accuracy'])\n",
    "    \n",
    "    print(model.summary())\n",
    "    \n",
    "    return model"
   ]
  },
  {
   "cell_type": "code",
   "execution_count": 23,
   "metadata": {},
   "outputs": [],
   "source": [
    "def ann_1h_36n(neurons,encoded_train_x,init_mode,activation_input,\n",
    "               weight_constraint,dropout_rate,activation_output,\n",
    "               loss,optimizer):\n",
    "\n",
    "    # create model\n",
    "    model = Sequential()\n",
    "\n",
    "    model.add(Dense(neurons, input_dim=encoded_train_x.shape[1],\n",
    "                    kernel_initializer=init_mode,\n",
    "                    #kernel_regularizer=regularizers.l2(0.02), #from example\n",
    "                    activation=activation_input,\n",
    "                    kernel_constraint=maxnorm(weight_constraint)\n",
    "                    )\n",
    "              )\n",
    "\n",
    "#     #Hidden Layer\n",
    "    model.add(Dense(36, activation=\"relu\", kernel_initializer=init_mode)) #rezvy\n",
    "    model.add(BatchNormalization()) #commented for ex\n",
    "    model.add(Dropout(dropout_rate))\n",
    "    \n",
    "    model.add(Dense(1, activation=activation_output)) #example\n",
    "    \n",
    "    # Compile model\n",
    "    model.compile(loss=loss, \n",
    "                  optimizer=optimizer, \n",
    "                  metrics=['accuracy'])\n",
    "    \n",
    "    print(model.summary())\n",
    "    \n",
    "    return model"
   ]
  },
  {
   "cell_type": "code",
   "execution_count": 24,
   "metadata": {},
   "outputs": [],
   "source": [
    "def ann_1h_24n(neurons,encoded_train_x,init_mode,activation_input,\n",
    "               weight_constraint,dropout_rate,activation_output,\n",
    "               loss,optimizer):\n",
    "\n",
    "    # create model\n",
    "    model = Sequential()\n",
    "\n",
    "    model.add(Dense(neurons, input_dim=encoded_train_x.shape[1],\n",
    "                    kernel_initializer=init_mode,\n",
    "                    #kernel_regularizer=regularizers.l2(0.02), #from example\n",
    "                    activation=activation_input,\n",
    "                    kernel_constraint=maxnorm(weight_constraint)\n",
    "                    )\n",
    "              )\n",
    "\n",
    "#     #Hidden Layer\n",
    "    model.add(Dense(24, activation=\"relu\", kernel_initializer=init_mode)) #rezvy\n",
    "    model.add(BatchNormalization()) #commented for ex\n",
    "    model.add(Dropout(dropout_rate))\n",
    "    \n",
    "    model.add(Dense(1, activation=activation_output)) #example\n",
    "    \n",
    "    # Compile model\n",
    "    model.compile(loss=loss, \n",
    "                  optimizer=optimizer, \n",
    "                  metrics=['accuracy'])\n",
    "    \n",
    "    print(model.summary())\n",
    "    \n",
    "    return model"
   ]
  },
  {
   "cell_type": "code",
   "execution_count": 25,
   "metadata": {},
   "outputs": [],
   "source": [
    "def ann_fit(checkpoint_file,ann,enc_train_x,train_y,epochs,shuffle,batch_size):\n",
    "    early_stopping = EarlyStopping(monitor='val_loss', patience=5)\n",
    "\n",
    "    cp = ModelCheckpoint(filepath=checkpoint_file,\n",
    "                                   save_best_only=True,\n",
    "                                   verbose=0)\n",
    "\n",
    "    tb = TensorBoard(log_dir='./logs',\n",
    "                    histogram_freq=0,\n",
    "                    write_graph=True,\n",
    "                    write_images=True)\n",
    "\n",
    "    start_time = time.time()\n",
    "    print(time.ctime(start_time))\n",
    "\n",
    "    history = ann.fit(enc_train_x,\n",
    "                      train_y,\n",
    "                      validation_split=0.2,\n",
    "                      callbacks=[early_stopping],\n",
    "                      epochs=epochs,\n",
    "                      shuffle=shuffle,\n",
    "                      batch_size=batch_size,\n",
    "                      verbose=1)\n",
    "\n",
    "    elapsed_time = (time.time() - start_time)\n",
    "    print(\"--- ANN spent %s seconds ---\" % elapsed_time)\n",
    "\n",
    "    return history"
   ]
  },
  {
   "cell_type": "code",
   "execution_count": 26,
   "metadata": {},
   "outputs": [],
   "source": [
    "def ann_predict(ann,enc_test_x):\n",
    "    pred_ann_prob = ann.predict(enc_test_x)\n",
    "    pred_ann_prob.shape\n",
    "    pred_ann_prob = pred_ann_prob[:,0]\n",
    "    pred_ann_01 = np.where(pred_ann_prob > 0.5, 1, 0)\n",
    "    \n",
    "    #Print accuracy\n",
    "    acc_ann = accuracy_score(test_y, pred_ann_01)\n",
    "    print('Overall accuracy of Neural Network model:', acc_ann)\n",
    "\n",
    "    classiBM = \"NN\"\n",
    "    preBM = (sm.precision_score(test_y, pred_ann_01)*100) \n",
    "    recallBM = (sm.recall_score(test_y, pred_ann_01)*100) \n",
    "    f1scoreBM = (sm.f1_score(test_y, pred_ann_01)*100)\n",
    "    print(sm.classification_report(test_y, pred_ann_01))\n",
    "    \n",
    "    return pred_ann_prob, pred_ann_01"
   ]
  },
  {
   "cell_type": "code",
   "execution_count": 27,
   "metadata": {},
   "outputs": [],
   "source": [
    "def plot_roc_cm(pred_ann_prob, pred_ann_01, roc_file, cm_file):\n",
    "    false_positive_rate, recall, thresholds = roc_curve(test_y, pred_ann_prob)\n",
    "    roc_auc = auc(false_positive_rate, recall)\n",
    "    plt.figure()\n",
    "    plt.title('Receiver Operating Characteristic (ROC)')\n",
    "    plt.plot(false_positive_rate, recall, 'b', label = 'AUC = %0.3f' %roc_auc)\n",
    "    plt.legend(loc='lower right')\n",
    "    plt.plot([0,1], [0,1], 'r--')\n",
    "    plt.xlim([0.0,1.0])\n",
    "    plt.ylim([0.0,1.0])\n",
    "    plt.ylabel('Recall')\n",
    "    plt.xlabel('Fall-out (1-Specificity)')\n",
    "    plt.savefig(roc_file)\n",
    "    plt.show()\n",
    "    \n",
    "    cm = confusion_matrix(test_y, pred_ann_01)\n",
    "    labels = ['Normal', 'Malicious']\n",
    "    plt.figure(figsize=(8,6))\n",
    "    sns.heatmap(cm,xticklabels=labels, yticklabels=labels, annot=True, fmt='d', cmap=\"RdYlGn\", vmin = 0.2);\n",
    "    plt.title('Confusion Matrix')\n",
    "    plt.ylabel('True Class')\n",
    "    plt.xlabel('Predicted Class')\n",
    "    plt.savefig(cm_file)\n",
    "    plt.show()\n",
    "    "
   ]
  },
  {
   "cell_type": "markdown",
   "metadata": {},
   "source": [
    "loss: 2.7516e-05 - acc: 0.0407 \n",
    "\n",
    "val_loss: 2.7072e-05 - val_acc: 0.0399"
   ]
  },
  {
   "cell_type": "code",
   "execution_count": 28,
   "metadata": {},
   "outputs": [
    {
     "name": "stdout",
     "output_type": "stream",
     "text": [
      "WARNING:tensorflow:From /home/user/anaconda3/envs/deepl/lib/python3.6/site-packages/tensorflow/python/framework/op_def_library.py:263: colocate_with (from tensorflow.python.framework.ops) is deprecated and will be removed in a future version.\n",
      "Instructions for updating:\n",
      "Colocations handled automatically by placer.\n",
      "_________________________________________________________________\n",
      "Layer (type)                 Output Shape              Param #   \n",
      "=================================================================\n",
      "input_1 (InputLayer)         (None, 48)                0         \n",
      "_________________________________________________________________\n",
      "encoded_bottle_neck (Dense)  (None, 32)                1568      \n",
      "_________________________________________________________________\n",
      "dense_1 (Dense)              (None, 48)                1584      \n",
      "=================================================================\n",
      "Total params: 3,152\n",
      "Trainable params: 3,152\n",
      "Non-trainable params: 0\n",
      "_________________________________________________________________\n",
      "None\n"
     ]
    }
   ],
   "source": [
    "ae_sigmoid_adam_logcosh,enc_train_x_asal,enc_test_x_asal = ae(factor_enc_dim = 1.5,\n",
    "                                                              enc_activation = 'relu',\n",
    "                                                              dec_activation = 'sigmoid',\n",
    "                                                              optimizer='Adam',\n",
    "                                                              loss='logcosh')"
   ]
  },
  {
   "cell_type": "code",
   "execution_count": 29,
   "metadata": {},
   "outputs": [],
   "source": [
    "#ae_sigmoid_adam_logcosh = load_model('ae_sigmoid_adam_logcosh_redds10bal.h5')"
   ]
  },
  {
   "cell_type": "code",
   "execution_count": 30,
   "metadata": {},
   "outputs": [
    {
     "name": "stdout",
     "output_type": "stream",
     "text": [
      "Thu Jun  6 14:01:31 2019\n",
      "WARNING:tensorflow:From /home/user/anaconda3/envs/deepl/lib/python3.6/site-packages/tensorflow/python/ops/math_ops.py:3066: to_int32 (from tensorflow.python.ops.math_ops) is deprecated and will be removed in a future version.\n",
      "Instructions for updating:\n",
      "Use tf.cast instead.\n",
      "Train on 291298 samples, validate on 72825 samples\n",
      "Epoch 1/200\n",
      "291298/291298 [==============================] - 16s 56us/step - loss: 0.0030 - acc: 0.0593 - val_loss: 6.0932e-05 - val_acc: 0.0612\n",
      "Epoch 2/200\n",
      "291298/291298 [==============================] - 16s 55us/step - loss: 5.5876e-05 - acc: 0.0606 - val_loss: 5.3459e-05 - val_acc: 0.0612\n",
      "Epoch 3/200\n",
      "291298/291298 [==============================] - 16s 56us/step - loss: 4.9057e-05 - acc: 0.0575 - val_loss: 4.7605e-05 - val_acc: 0.0526\n",
      "Epoch 4/200\n",
      "291298/291298 [==============================] - 16s 56us/step - loss: 4.7729e-05 - acc: 0.0462 - val_loss: 4.7337e-05 - val_acc: 0.0407\n",
      "Epoch 5/200\n",
      "291298/291298 [==============================] - 16s 56us/step - loss: 4.7555e-05 - acc: 0.0351 - val_loss: 4.7190e-05 - val_acc: 0.0300\n",
      "Epoch 6/200\n",
      "291298/291298 [==============================] - 16s 57us/step - loss: 4.7433e-05 - acc: 0.0259 - val_loss: 4.7092e-05 - val_acc: 0.0201\n",
      "Epoch 7/200\n",
      "291298/291298 [==============================] - 17s 58us/step - loss: 4.7326e-05 - acc: 0.0196 - val_loss: 4.7021e-05 - val_acc: 0.0185\n",
      "Epoch 8/200\n",
      "291298/291298 [==============================] - 17s 58us/step - loss: 4.7234e-05 - acc: 0.0172 - val_loss: 4.6961e-05 - val_acc: 0.0161\n",
      "Epoch 9/200\n",
      "291298/291298 [==============================] - 17s 58us/step - loss: 4.7149e-05 - acc: 0.0150 - val_loss: 4.6892e-05 - val_acc: 0.0103\n",
      "Epoch 10/200\n",
      "291298/291298 [==============================] - 16s 54us/step - loss: 4.7049e-05 - acc: 0.0093 - val_loss: 4.6806e-05 - val_acc: 0.0086\n",
      "Epoch 11/200\n",
      "291298/291298 [==============================] - 17s 57us/step - loss: 4.6853e-05 - acc: 0.0082 - val_loss: 4.6394e-05 - val_acc: 0.0083\n",
      "Epoch 12/200\n",
      "291298/291298 [==============================] - 17s 58us/step - loss: 4.6248e-05 - acc: 0.0080 - val_loss: 4.5775e-05 - val_acc: 0.0066\n",
      "Epoch 13/200\n",
      "291298/291298 [==============================] - 17s 58us/step - loss: 4.5822e-05 - acc: 0.0063 - val_loss: 4.5341e-05 - val_acc: 0.0048\n",
      "Epoch 14/200\n",
      "291298/291298 [==============================] - 17s 58us/step - loss: 4.5339e-05 - acc: 0.0047 - val_loss: 4.4596e-05 - val_acc: 0.0039\n",
      "Epoch 15/200\n",
      "291298/291298 [==============================] - 17s 59us/step - loss: 4.5027e-05 - acc: 0.0039 - val_loss: 4.4229e-05 - val_acc: 0.0033\n",
      "Epoch 16/200\n",
      "291298/291298 [==============================] - 17s 59us/step - loss: 4.4783e-05 - acc: 0.0032 - val_loss: 4.4024e-05 - val_acc: 0.0025\n",
      "Epoch 17/200\n",
      "291298/291298 [==============================] - 17s 59us/step - loss: 4.4490e-05 - acc: 0.0024 - val_loss: 4.3582e-05 - val_acc: 0.0013\n",
      "Epoch 18/200\n",
      "291298/291298 [==============================] - 18s 61us/step - loss: 4.4168e-05 - acc: 0.0014 - val_loss: 4.3277e-05 - val_acc: 0.0011\n",
      "Epoch 19/200\n",
      "291298/291298 [==============================] - 18s 60us/step - loss: 4.3953e-05 - acc: 9.8525e-04 - val_loss: 4.3073e-05 - val_acc: 5.6299e-04\n",
      "Epoch 20/200\n",
      "291298/291298 [==============================] - 18s 61us/step - loss: 4.3745e-05 - acc: 7.1061e-04 - val_loss: 4.2863e-05 - val_acc: 5.2180e-04\n",
      "Epoch 21/200\n",
      "291298/291298 [==============================] - 18s 61us/step - loss: 4.3474e-05 - acc: 3.3643e-04 - val_loss: 4.2714e-05 - val_acc: 0.0000e+00\n",
      "Epoch 22/200\n",
      "291298/291298 [==============================] - 20s 70us/step - loss: 4.3183e-05 - acc: 9.6122e-05 - val_loss: 4.2261e-05 - val_acc: 0.0000e+00\n",
      "Epoch 23/200\n",
      "291298/291298 [==============================] - 22s 75us/step - loss: 4.1883e-05 - acc: 1.0299e-05 - val_loss: 4.0437e-05 - val_acc: 0.0000e+00\n",
      "Epoch 24/200\n",
      "291298/291298 [==============================] - 22s 76us/step - loss: 4.0791e-05 - acc: 1.0299e-05 - val_loss: 3.9915e-05 - val_acc: 0.0000e+00\n",
      "Epoch 25/200\n",
      "291298/291298 [==============================] - 22s 74us/step - loss: 3.9666e-05 - acc: 0.0000e+00 - val_loss: 3.7719e-05 - val_acc: 0.0000e+00\n",
      "Epoch 26/200\n",
      "291298/291298 [==============================] - 22s 75us/step - loss: 3.5989e-05 - acc: 0.0000e+00 - val_loss: 3.4840e-05 - val_acc: 0.0000e+00\n",
      "Epoch 27/200\n",
      "291298/291298 [==============================] - 21s 71us/step - loss: 3.3756e-05 - acc: 0.0000e+00 - val_loss: 3.2456e-05 - val_acc: 0.0000e+00\n",
      "Epoch 28/200\n",
      "291298/291298 [==============================] - 21s 71us/step - loss: 3.2714e-05 - acc: 0.0000e+00 - val_loss: 3.2163e-05 - val_acc: 0.0000e+00\n",
      "Epoch 29/200\n",
      "291298/291298 [==============================] - 20s 68us/step - loss: 3.2525e-05 - acc: 0.0000e+00 - val_loss: 3.2061e-05 - val_acc: 0.0000e+00\n",
      "Epoch 30/200\n",
      "291298/291298 [==============================] - 20s 68us/step - loss: 3.2438e-05 - acc: 0.0000e+00 - val_loss: 3.2001e-05 - val_acc: 0.0000e+00\n",
      "Epoch 31/200\n",
      "291298/291298 [==============================] - 19s 66us/step - loss: 3.2377e-05 - acc: 0.0000e+00 - val_loss: 3.1985e-05 - val_acc: 0.0000e+00\n",
      "Epoch 32/200\n",
      "291298/291298 [==============================] - 19s 65us/step - loss: 3.2326e-05 - acc: 0.0000e+00 - val_loss: 3.1960e-05 - val_acc: 0.0000e+00\n",
      "Epoch 33/200\n",
      "291298/291298 [==============================] - 19s 64us/step - loss: 3.2286e-05 - acc: 0.0000e+00 - val_loss: 3.1933e-05 - val_acc: 0.0000e+00\n",
      "Epoch 34/200\n",
      "291298/291298 [==============================] - 19s 65us/step - loss: 3.2251e-05 - acc: 0.0000e+00 - val_loss: 3.1903e-05 - val_acc: 0.0000e+00\n",
      "Epoch 35/200\n",
      "291298/291298 [==============================] - 19s 64us/step - loss: 3.2217e-05 - acc: 0.0000e+00 - val_loss: 3.1874e-05 - val_acc: 0.0000e+00\n",
      "Epoch 36/200\n",
      "291298/291298 [==============================] - 19s 64us/step - loss: 3.2183e-05 - acc: 0.0000e+00 - val_loss: 3.1855e-05 - val_acc: 0.0000e+00\n",
      "Epoch 37/200\n",
      "291298/291298 [==============================] - 19s 64us/step - loss: 3.2136e-05 - acc: 0.0000e+00 - val_loss: 3.1796e-05 - val_acc: 0.0000e+00\n",
      "Epoch 38/200\n",
      "291298/291298 [==============================] - 19s 64us/step - loss: 3.2071e-05 - acc: 0.0000e+00 - val_loss: 3.1713e-05 - val_acc: 0.0000e+00\n",
      "Epoch 39/200\n",
      "291298/291298 [==============================] - 19s 64us/step - loss: 3.1913e-05 - acc: 0.0000e+00 - val_loss: 3.1651e-05 - val_acc: 0.0000e+00\n",
      "Epoch 40/200\n",
      "291298/291298 [==============================] - 18s 63us/step - loss: 3.1795e-05 - acc: 0.0000e+00 - val_loss: 3.1586e-05 - val_acc: 0.0000e+00\n",
      "Epoch 41/200\n",
      "291298/291298 [==============================] - 18s 63us/step - loss: 3.1696e-05 - acc: 0.0000e+00 - val_loss: 3.1492e-05 - val_acc: 0.0000e+00\n",
      "Epoch 42/200\n",
      "291298/291298 [==============================] - 18s 63us/step - loss: 3.1602e-05 - acc: 0.0000e+00 - val_loss: 3.1424e-05 - val_acc: 0.0000e+00\n",
      "Epoch 43/200\n",
      "291298/291298 [==============================] - 19s 65us/step - loss: 3.1495e-05 - acc: 0.0000e+00 - val_loss: 3.1370e-05 - val_acc: 0.0000e+00\n",
      "Epoch 44/200\n",
      "291298/291298 [==============================] - 18s 63us/step - loss: 3.1401e-05 - acc: 0.0000e+00 - val_loss: 3.1295e-05 - val_acc: 0.0000e+00\n",
      "Epoch 45/200\n",
      "291298/291298 [==============================] - 18s 63us/step - loss: 3.1349e-05 - acc: 0.0000e+00 - val_loss: 3.1221e-05 - val_acc: 0.0000e+00\n",
      "Epoch 46/200\n",
      "291298/291298 [==============================] - 18s 63us/step - loss: 3.1311e-05 - acc: 0.0000e+00 - val_loss: 3.1165e-05 - val_acc: 0.0000e+00\n",
      "Epoch 47/200\n",
      "291298/291298 [==============================] - 19s 64us/step - loss: 3.1276e-05 - acc: 0.0000e+00 - val_loss: 3.1060e-05 - val_acc: 0.0000e+00\n",
      "Epoch 48/200\n",
      "291298/291298 [==============================] - 19s 64us/step - loss: 3.1237e-05 - acc: 0.0000e+00 - val_loss: 3.0922e-05 - val_acc: 0.0000e+00\n",
      "Epoch 49/200\n",
      "291298/291298 [==============================] - 18s 63us/step - loss: 3.1190e-05 - acc: 0.0000e+00 - val_loss: 3.0824e-05 - val_acc: 0.0000e+00\n",
      "Epoch 50/200\n",
      "291298/291298 [==============================] - 18s 63us/step - loss: 3.1141e-05 - acc: 0.0000e+00 - val_loss: 3.0778e-05 - val_acc: 0.0000e+00\n",
      "Epoch 51/200\n",
      "291298/291298 [==============================] - 18s 63us/step - loss: 3.1091e-05 - acc: 0.0000e+00 - val_loss: 3.0747e-05 - val_acc: 0.0000e+00\n",
      "Epoch 52/200\n",
      "291298/291298 [==============================] - 19s 64us/step - loss: 3.1036e-05 - acc: 0.0000e+00 - val_loss: 3.0695e-05 - val_acc: 0.0000e+00\n",
      "Epoch 53/200\n",
      "291298/291298 [==============================] - 18s 63us/step - loss: 3.0960e-05 - acc: 0.0000e+00 - val_loss: 3.0561e-05 - val_acc: 0.0000e+00\n",
      "Epoch 54/200\n",
      "291298/291298 [==============================] - 18s 63us/step - loss: 3.0882e-05 - acc: 0.0000e+00 - val_loss: 3.0470e-05 - val_acc: 0.0000e+00\n",
      "Epoch 55/200\n",
      "291298/291298 [==============================] - 18s 63us/step - loss: 3.0817e-05 - acc: 0.0000e+00 - val_loss: 3.0442e-05 - val_acc: 0.0000e+00\n",
      "Epoch 56/200\n",
      "291298/291298 [==============================] - 19s 64us/step - loss: 3.0759e-05 - acc: 0.0000e+00 - val_loss: 3.0364e-05 - val_acc: 0.0000e+00\n",
      "Epoch 57/200\n",
      "291298/291298 [==============================] - 18s 63us/step - loss: 3.0700e-05 - acc: 0.0000e+00 - val_loss: 3.0335e-05 - val_acc: 0.0000e+00\n",
      "Epoch 58/200\n",
      "291298/291298 [==============================] - 19s 65us/step - loss: 3.0663e-05 - acc: 0.0000e+00 - val_loss: 3.0316e-05 - val_acc: 0.0000e+00\n",
      "Epoch 59/200\n",
      "291298/291298 [==============================] - 17s 58us/step - loss: 3.0633e-05 - acc: 0.0000e+00 - val_loss: 3.0290e-05 - val_acc: 0.0000e+00\n",
      "Epoch 60/200\n",
      "291298/291298 [==============================] - 10s 36us/step - loss: 3.0611e-05 - acc: 0.0000e+00 - val_loss: 3.0269e-05 - val_acc: 0.0000e+00\n",
      "Epoch 61/200\n",
      "291298/291298 [==============================] - 10s 36us/step - loss: 3.0591e-05 - acc: 0.0000e+00 - val_loss: 3.0259e-05 - val_acc: 0.0000e+00\n",
      "Epoch 62/200\n",
      "291298/291298 [==============================] - 10s 36us/step - loss: 3.0573e-05 - acc: 0.0000e+00 - val_loss: 3.0255e-05 - val_acc: 0.0000e+00\n",
      "Epoch 63/200\n",
      "291298/291298 [==============================] - 10s 36us/step - loss: 3.0557e-05 - acc: 0.0000e+00 - val_loss: 3.0251e-05 - val_acc: 0.0000e+00\n",
      "Epoch 64/200\n",
      "291298/291298 [==============================] - 10s 36us/step - loss: 3.0541e-05 - acc: 0.0000e+00 - val_loss: 3.0236e-05 - val_acc: 0.0000e+00\n",
      "Epoch 65/200\n",
      "291298/291298 [==============================] - 10s 36us/step - loss: 3.0524e-05 - acc: 0.0000e+00 - val_loss: 3.0223e-05 - val_acc: 0.0000e+00\n",
      "Epoch 66/200\n",
      "291298/291298 [==============================] - 10s 36us/step - loss: 3.0510e-05 - acc: 0.0000e+00 - val_loss: 3.0192e-05 - val_acc: 0.0000e+00\n",
      "Epoch 67/200\n",
      "291298/291298 [==============================] - 10s 36us/step - loss: 3.0499e-05 - acc: 0.0000e+00 - val_loss: 3.0182e-05 - val_acc: 0.0000e+00\n",
      "Epoch 68/200\n",
      "291298/291298 [==============================] - 11s 36us/step - loss: 3.0484e-05 - acc: 0.0000e+00 - val_loss: 3.0159e-05 - val_acc: 0.0000e+00\n",
      "Epoch 69/200\n",
      "291298/291298 [==============================] - 10s 36us/step - loss: 3.0473e-05 - acc: 0.0000e+00 - val_loss: 3.0150e-05 - val_acc: 0.0000e+00\n",
      "Epoch 70/200\n",
      "291298/291298 [==============================] - 10s 36us/step - loss: 3.0456e-05 - acc: 0.0000e+00 - val_loss: 3.0126e-05 - val_acc: 0.0000e+00\n",
      "Epoch 71/200\n",
      "291298/291298 [==============================] - 10s 36us/step - loss: 3.0417e-05 - acc: 0.0000e+00 - val_loss: 3.0040e-05 - val_acc: 0.0000e+00\n",
      "Epoch 72/200\n",
      "291298/291298 [==============================] - 10s 36us/step - loss: 3.0356e-05 - acc: 0.0000e+00 - val_loss: 2.9921e-05 - val_acc: 0.0000e+00\n",
      "Epoch 73/200\n",
      "291298/291298 [==============================] - 10s 36us/step - loss: 3.0279e-05 - acc: 0.0000e+00 - val_loss: 2.9821e-05 - val_acc: 0.0000e+00\n",
      "Epoch 74/200\n",
      "291298/291298 [==============================] - 11s 36us/step - loss: 3.0151e-05 - acc: 0.0000e+00 - val_loss: 2.9662e-05 - val_acc: 0.0000e+00\n",
      "Epoch 75/200\n",
      "291298/291298 [==============================] - 10s 36us/step - loss: 2.8854e-05 - acc: 0.0000e+00 - val_loss: 2.5784e-05 - val_acc: 0.0000e+00\n",
      "Epoch 76/200\n",
      "291298/291298 [==============================] - 10s 36us/step - loss: 2.2726e-05 - acc: 0.0000e+00 - val_loss: 2.1201e-05 - val_acc: 0.0000e+00\n",
      "Epoch 77/200\n",
      "291298/291298 [==============================] - 10s 36us/step - loss: 2.0386e-05 - acc: 0.0000e+00 - val_loss: 1.9242e-05 - val_acc: 0.0000e+00\n",
      "Epoch 78/200\n",
      "291298/291298 [==============================] - 10s 36us/step - loss: 1.9458e-05 - acc: 0.0000e+00 - val_loss: 1.9118e-05 - val_acc: 0.0000e+00\n",
      "Epoch 79/200\n",
      "291298/291298 [==============================] - 11s 36us/step - loss: 1.9419e-05 - acc: 0.0000e+00 - val_loss: 1.9101e-05 - val_acc: 0.0000e+00\n",
      "Epoch 80/200\n",
      "291298/291298 [==============================] - 10s 36us/step - loss: 1.9391e-05 - acc: 0.0000e+00 - val_loss: 1.9058e-05 - val_acc: 0.0000e+00\n",
      "Epoch 81/200\n",
      "291298/291298 [==============================] - 10s 36us/step - loss: 1.9357e-05 - acc: 0.0000e+00 - val_loss: 1.9003e-05 - val_acc: 0.0000e+00\n",
      "Epoch 82/200\n",
      "291298/291298 [==============================] - 10s 36us/step - loss: 1.9335e-05 - acc: 0.0000e+00 - val_loss: 1.8994e-05 - val_acc: 0.0000e+00\n",
      "Epoch 83/200\n",
      "291298/291298 [==============================] - 10s 36us/step - loss: 1.9314e-05 - acc: 0.0000e+00 - val_loss: 1.8960e-05 - val_acc: 0.0000e+00\n",
      "Epoch 84/200\n",
      "291298/291298 [==============================] - 10s 36us/step - loss: 1.9291e-05 - acc: 0.0000e+00 - val_loss: 1.8941e-05 - val_acc: 0.0000e+00\n",
      "Epoch 85/200\n",
      "291298/291298 [==============================] - 11s 37us/step - loss: 1.9274e-05 - acc: 0.0000e+00 - val_loss: 1.8909e-05 - val_acc: 0.0000e+00\n",
      "Epoch 86/200\n",
      "291298/291298 [==============================] - 11s 38us/step - loss: 1.9256e-05 - acc: 0.0000e+00 - val_loss: 1.8903e-05 - val_acc: 0.0000e+00\n",
      "Epoch 87/200\n",
      "291298/291298 [==============================] - 10s 36us/step - loss: 1.9232e-05 - acc: 0.0000e+00 - val_loss: 1.8884e-05 - val_acc: 0.0000e+00\n",
      "Epoch 88/200\n",
      "291298/291298 [==============================] - 10s 36us/step - loss: 1.9211e-05 - acc: 0.0000e+00 - val_loss: 1.8874e-05 - val_acc: 0.0000e+00\n",
      "Epoch 89/200\n",
      "291298/291298 [==============================] - 10s 36us/step - loss: 1.9194e-05 - acc: 0.0000e+00 - val_loss: 1.8862e-05 - val_acc: 0.0000e+00\n",
      "Epoch 90/200\n",
      "291298/291298 [==============================] - 10s 36us/step - loss: 1.9148e-05 - acc: 0.0000e+00 - val_loss: 1.8791e-05 - val_acc: 0.0000e+00\n",
      "Epoch 91/200\n",
      "291298/291298 [==============================] - 11s 36us/step - loss: 1.9111e-05 - acc: 0.0000e+00 - val_loss: 1.8777e-05 - val_acc: 0.0000e+00\n",
      "Epoch 92/200\n",
      "291298/291298 [==============================] - 10s 36us/step - loss: 1.9097e-05 - acc: 0.0000e+00 - val_loss: 1.8778e-05 - val_acc: 0.0000e+00\n",
      "Epoch 93/200\n",
      "291298/291298 [==============================] - 11s 39us/step - loss: 1.9085e-05 - acc: 0.0000e+00 - val_loss: 1.8785e-05 - val_acc: 0.0000e+00\n",
      "Epoch 94/200\n",
      "291298/291298 [==============================] - 12s 41us/step - loss: 1.8896e-05 - acc: 0.0000e+00 - val_loss: 1.8298e-05 - val_acc: 0.0000e+00\n",
      "Epoch 95/200\n",
      "291298/291298 [==============================] - 13s 45us/step - loss: 1.8096e-05 - acc: 0.0000e+00 - val_loss: 1.7716e-05 - val_acc: 0.0000e+00\n",
      "Epoch 96/200\n",
      "291298/291298 [==============================] - 13s 44us/step - loss: 1.7320e-05 - acc: 0.0000e+00 - val_loss: 1.7477e-05 - val_acc: 0.0000e+00\n",
      "Epoch 97/200\n",
      "291298/291298 [==============================] - 14s 46us/step - loss: 1.6975e-05 - acc: 0.0000e+00 - val_loss: 1.7140e-05 - val_acc: 0.0000e+00\n",
      "Epoch 98/200\n",
      "291298/291298 [==============================] - 13s 44us/step - loss: 1.6825e-05 - acc: 0.0000e+00 - val_loss: 1.6810e-05 - val_acc: 0.0000e+00\n",
      "Epoch 99/200\n",
      "291298/291298 [==============================] - 12s 43us/step - loss: 1.6733e-05 - acc: 0.0000e+00 - val_loss: 1.6514e-05 - val_acc: 0.0000e+00\n",
      "Epoch 100/200\n",
      "291298/291298 [==============================] - 13s 46us/step - loss: 1.6666e-05 - acc: 0.0000e+00 - val_loss: 1.6398e-05 - val_acc: 0.0000e+00\n",
      "Epoch 101/200\n",
      "291298/291298 [==============================] - 13s 44us/step - loss: 1.6541e-05 - acc: 0.0000e+00 - val_loss: 1.6211e-05 - val_acc: 0.0000e+00\n",
      "Epoch 102/200\n",
      "291298/291298 [==============================] - 12s 43us/step - loss: 1.6272e-05 - acc: 0.0000e+00 - val_loss: 1.5722e-05 - val_acc: 0.0000e+00\n",
      "Epoch 103/200\n",
      "291298/291298 [==============================] - 12s 42us/step - loss: 1.5975e-05 - acc: 0.0000e+00 - val_loss: 1.5481e-05 - val_acc: 0.0000e+00\n",
      "Epoch 104/200\n",
      "291298/291298 [==============================] - 12s 42us/step - loss: 1.5836e-05 - acc: 0.0000e+00 - val_loss: 1.5393e-05 - val_acc: 0.0000e+00\n",
      "Epoch 105/200\n",
      "291298/291298 [==============================] - 13s 43us/step - loss: 1.5789e-05 - acc: 0.0000e+00 - val_loss: 1.5363e-05 - val_acc: 0.0000e+00\n",
      "Epoch 106/200\n",
      "291298/291298 [==============================] - 13s 43us/step - loss: 1.5765e-05 - acc: 0.0000e+00 - val_loss: 1.5364e-05 - val_acc: 0.0000e+00\n",
      "Epoch 107/200\n",
      "291298/291298 [==============================] - 12s 43us/step - loss: 1.5750e-05 - acc: 0.0000e+00 - val_loss: 1.5350e-05 - val_acc: 0.0000e+00\n",
      "Epoch 108/200\n",
      "291298/291298 [==============================] - 12s 42us/step - loss: 1.5740e-05 - acc: 0.0000e+00 - val_loss: 1.5349e-05 - val_acc: 0.0000e+00\n",
      "Epoch 109/200\n",
      "291298/291298 [==============================] - 12s 42us/step - loss: 1.5723e-05 - acc: 0.0000e+00 - val_loss: 1.5361e-05 - val_acc: 0.0000e+00\n",
      "Epoch 110/200\n",
      "291298/291298 [==============================] - 12s 43us/step - loss: 1.5711e-05 - acc: 0.0000e+00 - val_loss: 1.5377e-05 - val_acc: 0.0000e+00\n",
      "Epoch 111/200\n",
      "291298/291298 [==============================] - 12s 43us/step - loss: 1.5542e-05 - acc: 0.0000e+00 - val_loss: 1.4782e-05 - val_acc: 0.0000e+00\n",
      "Epoch 112/200\n",
      "291298/291298 [==============================] - 13s 43us/step - loss: 1.5049e-05 - acc: 0.0000e+00 - val_loss: 1.4587e-05 - val_acc: 0.0000e+00\n",
      "Epoch 113/200\n",
      "291298/291298 [==============================] - 13s 43us/step - loss: 1.4975e-05 - acc: 0.0000e+00 - val_loss: 1.4581e-05 - val_acc: 0.0000e+00\n",
      "Epoch 114/200\n",
      "291298/291298 [==============================] - 14s 48us/step - loss: 1.4956e-05 - acc: 0.0000e+00 - val_loss: 1.4575e-05 - val_acc: 0.0000e+00\n",
      "Epoch 115/200\n",
      "291298/291298 [==============================] - 14s 48us/step - loss: 1.4940e-05 - acc: 0.0000e+00 - val_loss: 1.4559e-05 - val_acc: 0.0000e+00\n",
      "Epoch 116/200\n",
      "291298/291298 [==============================] - 14s 49us/step - loss: 1.4937e-05 - acc: 0.0000e+00 - val_loss: 1.4545e-05 - val_acc: 0.0000e+00\n",
      "Epoch 117/200\n",
      "291298/291298 [==============================] - 14s 49us/step - loss: 1.4918e-05 - acc: 0.0000e+00 - val_loss: 1.4546e-05 - val_acc: 0.0000e+00\n",
      "Epoch 118/200\n",
      "291298/291298 [==============================] - 14s 48us/step - loss: 1.4907e-05 - acc: 0.0000e+00 - val_loss: 1.4523e-05 - val_acc: 0.0000e+00\n",
      "Epoch 119/200\n",
      "291298/291298 [==============================] - 13s 46us/step - loss: 1.4900e-05 - acc: 0.0000e+00 - val_loss: 1.4853e-05 - val_acc: 0.0000e+00\n",
      "Epoch 120/200\n",
      "291298/291298 [==============================] - 11s 39us/step - loss: 1.4885e-05 - acc: 0.0000e+00 - val_loss: 1.4495e-05 - val_acc: 0.0000e+00\n",
      "Epoch 121/200\n",
      "291298/291298 [==============================] - 10s 35us/step - loss: 1.4881e-05 - acc: 0.0000e+00 - val_loss: 1.4489e-05 - val_acc: 0.0000e+00\n",
      "Epoch 122/200\n",
      "291298/291298 [==============================] - 10s 36us/step - loss: 1.4876e-05 - acc: 0.0000e+00 - val_loss: 1.4652e-05 - val_acc: 0.0000e+00\n",
      "Epoch 123/200\n",
      "291298/291298 [==============================] - 10s 35us/step - loss: 1.4864e-05 - acc: 0.0000e+00 - val_loss: 1.4469e-05 - val_acc: 0.0000e+00\n",
      "Epoch 124/200\n",
      "291298/291298 [==============================] - 10s 35us/step - loss: 1.4860e-05 - acc: 0.0000e+00 - val_loss: 1.4453e-05 - val_acc: 0.0000e+00\n",
      "Epoch 125/200\n",
      "291298/291298 [==============================] - 10s 36us/step - loss: 1.4860e-05 - acc: 0.0000e+00 - val_loss: 1.4451e-05 - val_acc: 0.0000e+00\n",
      "Epoch 126/200\n",
      "291298/291298 [==============================] - 10s 36us/step - loss: 1.4853e-05 - acc: 0.0000e+00 - val_loss: 1.4455e-05 - val_acc: 0.0000e+00\n",
      "Epoch 127/200\n",
      "291298/291298 [==============================] - 10s 36us/step - loss: 1.4841e-05 - acc: 0.0000e+00 - val_loss: 1.4447e-05 - val_acc: 0.0000e+00\n",
      "Epoch 128/200\n",
      "291298/291298 [==============================] - 10s 35us/step - loss: 1.4841e-05 - acc: 0.0000e+00 - val_loss: 1.4449e-05 - val_acc: 0.0000e+00\n",
      "Epoch 129/200\n",
      "291298/291298 [==============================] - 10s 35us/step - loss: 1.4844e-05 - acc: 0.0000e+00 - val_loss: 1.4449e-05 - val_acc: 0.0000e+00\n",
      "Epoch 130/200\n",
      "291298/291298 [==============================] - 10s 36us/step - loss: 1.4826e-05 - acc: 0.0000e+00 - val_loss: 1.4435e-05 - val_acc: 0.0000e+00\n",
      "Epoch 131/200\n",
      "291298/291298 [==============================] - 10s 36us/step - loss: 1.4815e-05 - acc: 0.0000e+00 - val_loss: 1.4438e-05 - val_acc: 0.0000e+00\n",
      "Epoch 132/200\n",
      "291298/291298 [==============================] - 11s 36us/step - loss: 1.4809e-05 - acc: 0.0000e+00 - val_loss: 1.4426e-05 - val_acc: 0.0000e+00\n",
      "Epoch 133/200\n",
      "291298/291298 [==============================] - 10s 36us/step - loss: 1.4798e-05 - acc: 0.0000e+00 - val_loss: 1.4423e-05 - val_acc: 0.0000e+00\n",
      "Epoch 134/200\n",
      "291298/291298 [==============================] - 10s 35us/step - loss: 1.4791e-05 - acc: 0.0000e+00 - val_loss: 1.4389e-05 - val_acc: 0.0000e+00\n",
      "Epoch 135/200\n",
      "291298/291298 [==============================] - 10s 36us/step - loss: 1.4782e-05 - acc: 0.0000e+00 - val_loss: 1.4398e-05 - val_acc: 0.0000e+00\n",
      "Epoch 136/200\n",
      "291298/291298 [==============================] - 10s 36us/step - loss: 1.4768e-05 - acc: 0.0000e+00 - val_loss: 1.4368e-05 - val_acc: 0.0000e+00\n",
      "Epoch 137/200\n",
      "291298/291298 [==============================] - 10s 36us/step - loss: 1.4762e-05 - acc: 0.0000e+00 - val_loss: 1.4366e-05 - val_acc: 0.0000e+00\n",
      "Epoch 138/200\n",
      "291298/291298 [==============================] - 10s 36us/step - loss: 1.4749e-05 - acc: 0.0000e+00 - val_loss: 1.4368e-05 - val_acc: 0.0000e+00\n",
      "Epoch 139/200\n",
      "291298/291298 [==============================] - 10s 36us/step - loss: 1.4725e-05 - acc: 0.0000e+00 - val_loss: 1.4353e-05 - val_acc: 0.0000e+00\n",
      "Epoch 140/200\n",
      "291298/291298 [==============================] - 10s 36us/step - loss: 1.4700e-05 - acc: 0.0000e+00 - val_loss: 1.4314e-05 - val_acc: 0.0000e+00\n",
      "Epoch 141/200\n",
      "291298/291298 [==============================] - 10s 36us/step - loss: 1.4655e-05 - acc: 0.0000e+00 - val_loss: 1.4270e-05 - val_acc: 0.0000e+00\n",
      "Epoch 142/200\n",
      "291298/291298 [==============================] - 10s 36us/step - loss: 1.4595e-05 - acc: 0.0000e+00 - val_loss: 1.4207e-05 - val_acc: 0.0000e+00\n",
      "Epoch 143/200\n",
      "291298/291298 [==============================] - 10s 35us/step - loss: 1.4541e-05 - acc: 0.0000e+00 - val_loss: 1.4106e-05 - val_acc: 0.0000e+00\n",
      "Epoch 144/200\n",
      "291298/291298 [==============================] - 10s 35us/step - loss: 1.4479e-05 - acc: 0.0000e+00 - val_loss: 1.4036e-05 - val_acc: 0.0000e+00\n",
      "Epoch 145/200\n",
      "291298/291298 [==============================] - 10s 35us/step - loss: 1.4430e-05 - acc: 0.0000e+00 - val_loss: 1.4045e-05 - val_acc: 0.0000e+00\n",
      "Epoch 146/200\n",
      "291298/291298 [==============================] - 10s 36us/step - loss: 1.4388e-05 - acc: 0.0000e+00 - val_loss: 1.4154e-05 - val_acc: 0.0000e+00\n",
      "Epoch 147/200\n",
      "291298/291298 [==============================] - 10s 36us/step - loss: 1.4356e-05 - acc: 0.0000e+00 - val_loss: 1.3981e-05 - val_acc: 0.0000e+00\n",
      "Epoch 148/200\n",
      "291298/291298 [==============================] - 10s 36us/step - loss: 1.4334e-05 - acc: 0.0000e+00 - val_loss: 1.3964e-05 - val_acc: 0.0000e+00\n",
      "Epoch 149/200\n",
      "291298/291298 [==============================] - 10s 36us/step - loss: 1.4273e-05 - acc: 0.0000e+00 - val_loss: 1.3836e-05 - val_acc: 0.0000e+00\n",
      "Epoch 150/200\n",
      "291298/291298 [==============================] - 10s 36us/step - loss: 1.4215e-05 - acc: 0.0000e+00 - val_loss: 1.3793e-05 - val_acc: 0.0000e+00\n",
      "Epoch 151/200\n",
      "291298/291298 [==============================] - 10s 35us/step - loss: 1.4201e-05 - acc: 0.0000e+00 - val_loss: 1.4180e-05 - val_acc: 0.0000e+00\n",
      "Epoch 152/200\n",
      "291298/291298 [==============================] - 10s 35us/step - loss: 1.4191e-05 - acc: 0.0000e+00 - val_loss: 1.3777e-05 - val_acc: 0.0000e+00\n",
      "Epoch 153/200\n",
      "291298/291298 [==============================] - 10s 35us/step - loss: 1.4178e-05 - acc: 0.0000e+00 - val_loss: 1.3771e-05 - val_acc: 0.0000e+00\n",
      "Epoch 154/200\n",
      "291298/291298 [==============================] - 10s 36us/step - loss: 1.4175e-05 - acc: 0.0000e+00 - val_loss: 1.3767e-05 - val_acc: 0.0000e+00\n",
      "Epoch 155/200\n",
      "291298/291298 [==============================] - 10s 36us/step - loss: 1.4168e-05 - acc: 0.0000e+00 - val_loss: 1.3995e-05 - val_acc: 0.0000e+00\n",
      "Epoch 156/200\n",
      "291298/291298 [==============================] - 10s 36us/step - loss: 1.4161e-05 - acc: 0.0000e+00 - val_loss: 1.3772e-05 - val_acc: 0.0000e+00\n",
      "Epoch 157/200\n",
      "291298/291298 [==============================] - 10s 36us/step - loss: 1.4145e-05 - acc: 0.0000e+00 - val_loss: 1.3748e-05 - val_acc: 0.0000e+00\n",
      "Epoch 158/200\n",
      "291298/291298 [==============================] - 10s 36us/step - loss: 1.4135e-05 - acc: 0.0000e+00 - val_loss: 1.3921e-05 - val_acc: 0.0000e+00\n",
      "Epoch 159/200\n",
      "291298/291298 [==============================] - 10s 36us/step - loss: 1.4132e-05 - acc: 0.0000e+00 - val_loss: 1.3725e-05 - val_acc: 0.0000e+00\n",
      "Epoch 160/200\n",
      "291298/291298 [==============================] - 10s 36us/step - loss: 1.4130e-05 - acc: 0.0000e+00 - val_loss: 1.3713e-05 - val_acc: 0.0000e+00\n",
      "Epoch 161/200\n",
      "291298/291298 [==============================] - 10s 36us/step - loss: 1.4120e-05 - acc: 0.0000e+00 - val_loss: 1.3703e-05 - val_acc: 0.0000e+00\n",
      "Epoch 162/200\n",
      "291298/291298 [==============================] - 10s 36us/step - loss: 1.4120e-05 - acc: 0.0000e+00 - val_loss: 1.3716e-05 - val_acc: 0.0000e+00\n",
      "Epoch 163/200\n",
      "291298/291298 [==============================] - 10s 36us/step - loss: 1.4114e-05 - acc: 0.0000e+00 - val_loss: 1.3691e-05 - val_acc: 0.0000e+00\n",
      "Epoch 164/200\n",
      "291298/291298 [==============================] - 10s 36us/step - loss: 1.4106e-05 - acc: 0.0000e+00 - val_loss: 1.3697e-05 - val_acc: 0.0000e+00\n",
      "Epoch 165/200\n",
      "291298/291298 [==============================] - 10s 36us/step - loss: 1.4102e-05 - acc: 0.0000e+00 - val_loss: 1.3708e-05 - val_acc: 0.0000e+00\n",
      "Epoch 166/200\n",
      "291298/291298 [==============================] - 10s 36us/step - loss: 1.4105e-05 - acc: 0.0000e+00 - val_loss: 1.3683e-05 - val_acc: 0.0000e+00\n",
      "Epoch 167/200\n",
      "291298/291298 [==============================] - 10s 36us/step - loss: 1.4100e-05 - acc: 0.0000e+00 - val_loss: 1.3785e-05 - val_acc: 0.0000e+00\n",
      "Epoch 168/200\n",
      "291298/291298 [==============================] - 10s 35us/step - loss: 1.4093e-05 - acc: 0.0000e+00 - val_loss: 1.3804e-05 - val_acc: 0.0000e+00\n",
      "Epoch 169/200\n",
      "291298/291298 [==============================] - 10s 36us/step - loss: 1.4092e-05 - acc: 0.0000e+00 - val_loss: 1.3697e-05 - val_acc: 0.0000e+00\n",
      "Epoch 170/200\n",
      "291298/291298 [==============================] - 10s 35us/step - loss: 1.4090e-05 - acc: 0.0000e+00 - val_loss: 1.3799e-05 - val_acc: 0.0000e+00\n",
      "Epoch 171/200\n",
      "291298/291298 [==============================] - 10s 36us/step - loss: 1.4083e-05 - acc: 0.0000e+00 - val_loss: 1.3686e-05 - val_acc: 0.0000e+00\n",
      "--- AE spent 2315.9946236610413 seconds ---\n"
     ]
    }
   ],
   "source": [
    "hist_ae_sigmoid_adam_logcosh = fit_ae(checkpoint_file = \"ae_sigmoid_adam_logcosh_redds10bal.h5\",\n",
    "                                        autoencoder = ae_sigmoid_adam_logcosh, \n",
    "                                        epochs = 200, \n",
    "                                        batch_size = 48, \n",
    "                                        shuffle = False)"
   ]
  },
  {
   "cell_type": "code",
   "execution_count": 31,
   "metadata": {},
   "outputs": [
    {
     "name": "stdout",
     "output_type": "stream",
     "text": [
      "Best loss value: 1.4083044855397788e-05\n"
     ]
    },
    {
     "data": {
      "image/png": "[encoded data removed]",
      "text/plain": [
       "<Figure size 432x288 with 1 Axes>"
      ]
     },
     "metadata": {
      "needs_background": "light"
     },
     "output_type": "display_data"
    }
   ],
   "source": [
    "best_loss_value_ae_sigmoid_adam_logcosh = plot_hist_auto(hist_ae_sigmoid_adam_logcosh, './Figures/ae_sigmoid_adam_logcosh.png')"
   ]
  },
  {
   "cell_type": "code",
   "execution_count": null,
   "metadata": {},
   "outputs": [],
   "source": []
  },
  {
   "cell_type": "code",
   "execution_count": null,
   "metadata": {},
   "outputs": [],
   "source": []
  },
  {
   "cell_type": "code",
   "execution_count": 41,
   "metadata": {},
   "outputs": [
    {
     "name": "stdout",
     "output_type": "stream",
     "text": [
      "_________________________________________________________________\n",
      "Layer (type)                 Output Shape              Param #   \n",
      "=================================================================\n",
      "input_2 (InputLayer)         (None, 48)                0         \n",
      "_________________________________________________________________\n",
      "encoded_bottle_neck (Dense)  (None, 32)                1568      \n",
      "_________________________________________________________________\n",
      "dense_2 (Dense)              (None, 48)                1584      \n",
      "=================================================================\n",
      "Total params: 3,152\n",
      "Trainable params: 3,152\n",
      "Non-trainable params: 0\n",
      "_________________________________________________________________\n",
      "None\n"
     ]
    }
   ],
   "source": [
    "ae_siglin_adam_logcosh,enc_train_x_aslal,enc_test_x_aslal = ae(factor_enc_dim = 1.5,\n",
    "                                                              enc_activation = 'sigmoid',\n",
    "                                                              dec_activation = 'linear',\n",
    "                                                              optimizer='Adam',\n",
    "                                                              loss='logcosh')"
   ]
  },
  {
   "cell_type": "code",
   "execution_count": 42,
   "metadata": {},
   "outputs": [],
   "source": [
    "#ae_siglin_adam_logcosh = load_model('ae_siglin_adam_logcosh_redds10bal.h5')"
   ]
  },
  {
   "cell_type": "code",
   "execution_count": 43,
   "metadata": {},
   "outputs": [
    {
     "name": "stdout",
     "output_type": "stream",
     "text": [
      "Thu Jun  6 14:40:11 2019\n",
      "Train on 291298 samples, validate on 72825 samples\n",
      "Epoch 1/200\n",
      "291298/291298 [==============================] - 10s 36us/step - loss: 0.0041 - acc: 0.0764 - val_loss: 8.5461e-05 - val_acc: 0.0570\n",
      "Epoch 2/200\n",
      "291298/291298 [==============================] - 10s 36us/step - loss: 4.8990e-05 - acc: 0.0368 - val_loss: 2.8091e-05 - val_acc: 0.0654\n",
      "Epoch 3/200\n",
      "291298/291298 [==============================] - 10s 35us/step - loss: 2.1206e-05 - acc: 0.0350 - val_loss: 1.6585e-05 - val_acc: 0.0440\n",
      "Epoch 4/200\n",
      "291298/291298 [==============================] - 10s 35us/step - loss: 1.3374e-05 - acc: 0.0362 - val_loss: 1.1180e-05 - val_acc: 0.0498\n",
      "Epoch 5/200\n",
      "291298/291298 [==============================] - 10s 36us/step - loss: 9.7674e-06 - acc: 0.0361 - val_loss: 7.9525e-06 - val_acc: 0.0345\n",
      "Epoch 6/200\n",
      "291298/291298 [==============================] - 10s 36us/step - loss: 7.7298e-06 - acc: 0.0361 - val_loss: 6.8255e-06 - val_acc: 0.0224\n",
      "Epoch 7/200\n",
      "291298/291298 [==============================] - 10s 35us/step - loss: 6.4111e-06 - acc: 0.0361 - val_loss: 5.9823e-06 - val_acc: 0.0260\n",
      "Epoch 8/200\n",
      "291298/291298 [==============================] - 10s 36us/step - loss: 5.5119e-06 - acc: 0.0364 - val_loss: 5.4397e-06 - val_acc: 0.0159\n",
      "Epoch 9/200\n",
      "291298/291298 [==============================] - 10s 35us/step - loss: 4.8528e-06 - acc: 0.0368 - val_loss: 4.7155e-06 - val_acc: 0.0122\n",
      "Epoch 10/200\n",
      "291298/291298 [==============================] - 10s 36us/step - loss: 4.3564e-06 - acc: 0.0373 - val_loss: 4.1525e-06 - val_acc: 0.0116\n",
      "Epoch 11/200\n",
      "291298/291298 [==============================] - 10s 36us/step - loss: 3.9637e-06 - acc: 0.0372 - val_loss: 3.7185e-06 - val_acc: 0.0140\n",
      "Epoch 12/200\n",
      "291298/291298 [==============================] - 10s 36us/step - loss: 3.6445e-06 - acc: 0.0372 - val_loss: 3.3406e-06 - val_acc: 0.0145\n",
      "Epoch 13/200\n",
      "291298/291298 [==============================] - 10s 35us/step - loss: 3.3821e-06 - acc: 0.0375 - val_loss: 3.0801e-06 - val_acc: 0.0148\n",
      "Epoch 14/200\n",
      "291298/291298 [==============================] - 10s 35us/step - loss: 3.1638e-06 - acc: 0.0378 - val_loss: 2.9069e-06 - val_acc: 0.0140\n",
      "Epoch 15/200\n",
      "291298/291298 [==============================] - 10s 35us/step - loss: 2.9782e-06 - acc: 0.0378 - val_loss: 2.7371e-06 - val_acc: 0.0109\n",
      "Epoch 16/200\n",
      "291298/291298 [==============================] - 10s 35us/step - loss: 2.8153e-06 - acc: 0.0378 - val_loss: 2.4951e-06 - val_acc: 0.0137\n",
      "Epoch 17/200\n",
      "291298/291298 [==============================] - 10s 36us/step - loss: 2.6814e-06 - acc: 0.0381 - val_loss: 2.4133e-06 - val_acc: 0.0175\n",
      "Epoch 18/200\n",
      "291298/291298 [==============================] - 10s 35us/step - loss: 2.5650e-06 - acc: 0.0384 - val_loss: 2.3279e-06 - val_acc: 0.0169\n",
      "Epoch 19/200\n",
      "291298/291298 [==============================] - 10s 35us/step - loss: 2.4596e-06 - acc: 0.0387 - val_loss: 2.2946e-06 - val_acc: 0.0115\n",
      "Epoch 20/200\n",
      "291298/291298 [==============================] - 10s 35us/step - loss: 2.3662e-06 - acc: 0.0389 - val_loss: 2.2961e-06 - val_acc: 0.0132\n",
      "Epoch 21/200\n",
      "291298/291298 [==============================] - 10s 36us/step - loss: 2.2824e-06 - acc: 0.0393 - val_loss: 2.3129e-06 - val_acc: 0.0120\n",
      "Epoch 22/200\n",
      "291298/291298 [==============================] - 10s 35us/step - loss: 2.2065e-06 - acc: 0.0396 - val_loss: 2.2749e-06 - val_acc: 0.0137\n",
      "Epoch 23/200\n",
      "291298/291298 [==============================] - 10s 36us/step - loss: 2.1384e-06 - acc: 0.0399 - val_loss: 2.1985e-06 - val_acc: 0.0139\n",
      "Epoch 24/200\n",
      "291298/291298 [==============================] - 10s 36us/step - loss: 2.0761e-06 - acc: 0.0397 - val_loss: 2.1679e-06 - val_acc: 0.0147\n",
      "Epoch 25/200\n",
      "291298/291298 [==============================] - 10s 36us/step - loss: 2.0191e-06 - acc: 0.0399 - val_loss: 2.1922e-06 - val_acc: 0.0151\n",
      "Epoch 26/200\n",
      "291298/291298 [==============================] - 10s 35us/step - loss: 1.9670e-06 - acc: 0.0401 - val_loss: 2.2274e-06 - val_acc: 0.0170\n",
      "Epoch 27/200\n",
      "291298/291298 [==============================] - 10s 35us/step - loss: 1.9190e-06 - acc: 0.0401 - val_loss: 2.2645e-06 - val_acc: 0.0182\n",
      "Epoch 28/200\n",
      "291298/291298 [==============================] - 10s 35us/step - loss: 1.8744e-06 - acc: 0.0405 - val_loss: 2.2911e-06 - val_acc: 0.0189\n",
      "Epoch 29/200\n",
      "291298/291298 [==============================] - 10s 35us/step - loss: 1.8329e-06 - acc: 0.0407 - val_loss: 2.3133e-06 - val_acc: 0.0170\n",
      "--- AE spent 300.3912842273712 seconds ---\n"
     ]
    }
   ],
   "source": [
    "hist_ae_siglin_adam_logcosh = fit_ae(checkpoint_file = \"ae_siglin_adam_logcosh_redds10bal.h5\",\n",
    "                                        autoencoder = ae_siglin_adam_logcosh, \n",
    "                                        epochs = 200, \n",
    "                                        batch_size = 48, \n",
    "                                        shuffle = False)"
   ]
  },
  {
   "cell_type": "code",
   "execution_count": 44,
   "metadata": {},
   "outputs": [
    {
     "name": "stdout",
     "output_type": "stream",
     "text": [
      "Best loss value: 1.8328752667281846e-06\n"
     ]
    },
    {
     "data": {
      "image/png": "[encoded data removed]",
      "text/plain": [
       "<Figure size 432x288 with 1 Axes>"
      ]
     },
     "metadata": {
      "needs_background": "light"
     },
     "output_type": "display_data"
    }
   ],
   "source": [
    "best_loss_value_ae_siglin_adam_logcosh = plot_hist_auto(hist_ae_siglin_adam_logcosh, './Figures/hist_ae_siglin_adam_logcosh.png')"
   ]
  },
  {
   "cell_type": "code",
   "execution_count": null,
   "metadata": {},
   "outputs": [],
   "source": []
  },
  {
   "cell_type": "code",
   "execution_count": 45,
   "metadata": {},
   "outputs": [
    {
     "name": "stdout",
     "output_type": "stream",
     "text": [
      "_________________________________________________________________\n",
      "Layer (type)                 Output Shape              Param #   \n",
      "=================================================================\n",
      "input_3 (InputLayer)         (None, 48)                0         \n",
      "_________________________________________________________________\n",
      "encoded_bottle_neck (Dense)  (None, 32)                1568      \n",
      "_________________________________________________________________\n",
      "dense_3 (Dense)              (None, 48)                1584      \n",
      "=================================================================\n",
      "Total params: 3,152\n",
      "Trainable params: 3,152\n",
      "Non-trainable params: 0\n",
      "_________________________________________________________________\n",
      "None\n"
     ]
    }
   ],
   "source": [
    "ae_sigmoid_adam_mse,enc_train_x_asam,enc_test_x_asam = ae(factor_enc_dim = 1.5,\n",
    "                                                          enc_activation = 'relu',\n",
    "                                                          dec_activation = 'sigmoid',\n",
    "                                                          optimizer='Adam',\n",
    "                                                          loss='mean_squared_error')"
   ]
  },
  {
   "cell_type": "code",
   "execution_count": 46,
   "metadata": {},
   "outputs": [],
   "source": [
    "#ae_sigmoid_adam_mse = load_model('ae_sigmoid_adam_mse_redds10bal.h5')"
   ]
  },
  {
   "cell_type": "code",
   "execution_count": 47,
   "metadata": {},
   "outputs": [
    {
     "name": "stdout",
     "output_type": "stream",
     "text": [
      "Thu Jun  6 14:45:15 2019\n",
      "Train on 291298 samples, validate on 72825 samples\n",
      "Epoch 1/200\n",
      "291298/291298 [==============================] - 10s 35us/step - loss: 0.0067 - acc: 0.0091 - val_loss: 1.2815e-04 - val_acc: 0.0000e+00\n",
      "Epoch 2/200\n",
      "291298/291298 [==============================] - 10s 35us/step - loss: 1.0853e-04 - acc: 0.0000e+00 - val_loss: 9.7881e-05 - val_acc: 0.0000e+00\n",
      "Epoch 3/200\n",
      "291298/291298 [==============================] - 10s 35us/step - loss: 9.6712e-05 - acc: 0.0000e+00 - val_loss: 9.5692e-05 - val_acc: 0.0000e+00\n",
      "Epoch 4/200\n",
      "291298/291298 [==============================] - 10s 35us/step - loss: 9.5901e-05 - acc: 0.0000e+00 - val_loss: 9.5327e-05 - val_acc: 0.0000e+00\n",
      "Epoch 5/200\n",
      "291298/291298 [==============================] - 10s 35us/step - loss: 9.5622e-05 - acc: 0.0000e+00 - val_loss: 9.5150e-05 - val_acc: 0.0000e+00\n",
      "Epoch 6/200\n",
      "291298/291298 [==============================] - 10s 35us/step - loss: 9.5397e-05 - acc: 0.0000e+00 - val_loss: 9.4734e-05 - val_acc: 0.0000e+00\n",
      "Epoch 7/200\n",
      "291298/291298 [==============================] - 10s 35us/step - loss: 9.5148e-05 - acc: 0.0000e+00 - val_loss: 9.4523e-05 - val_acc: 0.0000e+00\n",
      "Epoch 8/200\n",
      "291298/291298 [==============================] - 10s 35us/step - loss: 9.4868e-05 - acc: 0.0000e+00 - val_loss: 9.4199e-05 - val_acc: 0.0000e+00\n",
      "Epoch 9/200\n",
      "291298/291298 [==============================] - 10s 35us/step - loss: 9.4313e-05 - acc: 0.0000e+00 - val_loss: 9.3463e-05 - val_acc: 0.0000e+00\n",
      "Epoch 10/200\n",
      "291298/291298 [==============================] - 10s 35us/step - loss: 9.3552e-05 - acc: 0.0000e+00 - val_loss: 9.2612e-05 - val_acc: 0.0000e+00\n",
      "Epoch 11/200\n",
      "291298/291298 [==============================] - 10s 35us/step - loss: 9.2984e-05 - acc: 0.0000e+00 - val_loss: 9.2255e-05 - val_acc: 0.0000e+00\n",
      "Epoch 12/200\n",
      "291298/291298 [==============================] - 10s 35us/step - loss: 9.2622e-05 - acc: 0.0000e+00 - val_loss: 9.1490e-05 - val_acc: 0.0000e+00\n",
      "Epoch 13/200\n",
      "291298/291298 [==============================] - 10s 35us/step - loss: 9.2344e-05 - acc: 0.0000e+00 - val_loss: 9.1312e-05 - val_acc: 0.0000e+00\n",
      "Epoch 14/200\n",
      "291298/291298 [==============================] - 10s 35us/step - loss: 9.2126e-05 - acc: 0.0000e+00 - val_loss: 9.1231e-05 - val_acc: 0.0000e+00\n",
      "Epoch 15/200\n",
      "291298/291298 [==============================] - 10s 35us/step - loss: 9.1939e-05 - acc: 0.0000e+00 - val_loss: 9.1120e-05 - val_acc: 0.0000e+00\n",
      "Epoch 16/200\n",
      "291298/291298 [==============================] - 10s 35us/step - loss: 9.1754e-05 - acc: 0.0000e+00 - val_loss: 9.0916e-05 - val_acc: 0.0000e+00\n",
      "Epoch 17/200\n",
      "291298/291298 [==============================] - 10s 35us/step - loss: 9.1537e-05 - acc: 0.0000e+00 - val_loss: 9.0597e-05 - val_acc: 0.0000e+00\n",
      "Epoch 18/200\n",
      "291298/291298 [==============================] - 10s 35us/step - loss: 9.1170e-05 - acc: 0.0000e+00 - val_loss: 8.9901e-05 - val_acc: 0.0000e+00\n",
      "Epoch 19/200\n",
      "291298/291298 [==============================] - 10s 35us/step - loss: 9.0481e-05 - acc: 0.0000e+00 - val_loss: 8.9263e-05 - val_acc: 0.0000e+00\n",
      "Epoch 20/200\n",
      "291298/291298 [==============================] - 10s 35us/step - loss: 8.9807e-05 - acc: 0.0000e+00 - val_loss: 8.8575e-05 - val_acc: 0.0000e+00\n",
      "Epoch 21/200\n",
      "291298/291298 [==============================] - 10s 35us/step - loss: 8.9245e-05 - acc: 0.0000e+00 - val_loss: 8.7967e-05 - val_acc: 0.0000e+00\n",
      "Epoch 22/200\n",
      "291298/291298 [==============================] - 10s 35us/step - loss: 8.8664e-05 - acc: 0.0000e+00 - val_loss: 8.6987e-05 - val_acc: 0.0000e+00\n",
      "Epoch 23/200\n",
      "291298/291298 [==============================] - 10s 35us/step - loss: 8.7726e-05 - acc: 0.0000e+00 - val_loss: 8.6375e-05 - val_acc: 0.0000e+00\n",
      "Epoch 24/200\n",
      "291298/291298 [==============================] - 10s 35us/step - loss: 8.7153e-05 - acc: 0.0000e+00 - val_loss: 8.5902e-05 - val_acc: 0.0000e+00\n",
      "Epoch 25/200\n",
      "291298/291298 [==============================] - 10s 35us/step - loss: 8.6707e-05 - acc: 0.0000e+00 - val_loss: 8.5556e-05 - val_acc: 0.0000e+00\n",
      "Epoch 26/200\n",
      "291298/291298 [==============================] - 10s 35us/step - loss: 8.6254e-05 - acc: 0.0000e+00 - val_loss: 8.5064e-05 - val_acc: 0.0000e+00\n",
      "Epoch 27/200\n",
      "291298/291298 [==============================] - 10s 35us/step - loss: 8.5591e-05 - acc: 0.0000e+00 - val_loss: 8.4520e-05 - val_acc: 0.0000e+00\n",
      "Epoch 28/200\n",
      "291298/291298 [==============================] - 10s 35us/step - loss: 8.5041e-05 - acc: 0.0000e+00 - val_loss: 8.3982e-05 - val_acc: 0.0000e+00\n",
      "Epoch 29/200\n",
      "291298/291298 [==============================] - 10s 35us/step - loss: 8.3703e-05 - acc: 0.0000e+00 - val_loss: 8.1964e-05 - val_acc: 0.0000e+00\n",
      "Epoch 30/200\n",
      "291298/291298 [==============================] - 10s 35us/step - loss: 8.2004e-05 - acc: 0.0000e+00 - val_loss: 8.1259e-05 - val_acc: 0.0000e+00\n",
      "Epoch 31/200\n",
      "291298/291298 [==============================] - 10s 35us/step - loss: 8.0657e-05 - acc: 0.0000e+00 - val_loss: 7.9887e-05 - val_acc: 0.0000e+00\n",
      "Epoch 32/200\n",
      "291298/291298 [==============================] - 10s 35us/step - loss: 7.9890e-05 - acc: 0.0000e+00 - val_loss: 7.9130e-05 - val_acc: 0.0000e+00\n",
      "Epoch 33/200\n",
      "291298/291298 [==============================] - 10s 35us/step - loss: 7.9119e-05 - acc: 0.0000e+00 - val_loss: 7.8480e-05 - val_acc: 0.0000e+00\n",
      "Epoch 34/200\n",
      "291298/291298 [==============================] - 10s 35us/step - loss: 7.8280e-05 - acc: 0.0000e+00 - val_loss: 7.7280e-05 - val_acc: 0.0000e+00\n",
      "Epoch 35/200\n",
      "291298/291298 [==============================] - 10s 35us/step - loss: 7.6370e-05 - acc: 0.0000e+00 - val_loss: 7.3614e-05 - val_acc: 0.0000e+00\n",
      "Epoch 36/200\n",
      "291298/291298 [==============================] - 10s 35us/step - loss: 7.0370e-05 - acc: 0.0000e+00 - val_loss: 6.8240e-05 - val_acc: 0.0000e+00\n",
      "Epoch 37/200\n",
      "291298/291298 [==============================] - 10s 35us/step - loss: 6.6948e-05 - acc: 0.0000e+00 - val_loss: 6.5589e-05 - val_acc: 0.0000e+00\n",
      "Epoch 38/200\n",
      "291298/291298 [==============================] - 10s 35us/step - loss: 6.4293e-05 - acc: 0.0000e+00 - val_loss: 6.3577e-05 - val_acc: 0.0000e+00\n",
      "Epoch 39/200\n",
      "291298/291298 [==============================] - 10s 35us/step - loss: 6.2988e-05 - acc: 0.0000e+00 - val_loss: 6.3084e-05 - val_acc: 0.0000e+00\n",
      "Epoch 40/200\n",
      "291298/291298 [==============================] - 10s 35us/step - loss: 6.2471e-05 - acc: 0.0000e+00 - val_loss: 6.2667e-05 - val_acc: 0.0000e+00\n",
      "Epoch 41/200\n",
      "291298/291298 [==============================] - 10s 35us/step - loss: 6.1981e-05 - acc: 0.0000e+00 - val_loss: 6.2173e-05 - val_acc: 0.0000e+00\n",
      "Epoch 42/200\n",
      "291298/291298 [==============================] - 10s 35us/step - loss: 6.1386e-05 - acc: 0.0000e+00 - val_loss: 6.1462e-05 - val_acc: 0.0000e+00\n",
      "Epoch 43/200\n",
      "291298/291298 [==============================] - 10s 35us/step - loss: 6.0558e-05 - acc: 0.0000e+00 - val_loss: 6.0322e-05 - val_acc: 0.0000e+00\n",
      "Epoch 44/200\n",
      "291298/291298 [==============================] - 10s 35us/step - loss: 5.9522e-05 - acc: 0.0000e+00 - val_loss: 5.8924e-05 - val_acc: 0.0000e+00\n",
      "Epoch 45/200\n",
      "291298/291298 [==============================] - 10s 35us/step - loss: 5.8064e-05 - acc: 0.0000e+00 - val_loss: 5.6954e-05 - val_acc: 0.0000e+00\n",
      "Epoch 46/200\n",
      "291298/291298 [==============================] - 10s 35us/step - loss: 5.6596e-05 - acc: 0.0000e+00 - val_loss: 5.5827e-05 - val_acc: 0.0000e+00\n",
      "Epoch 47/200\n",
      "291298/291298 [==============================] - 10s 35us/step - loss: 5.5599e-05 - acc: 0.0000e+00 - val_loss: 5.5173e-05 - val_acc: 0.0000e+00\n",
      "Epoch 48/200\n",
      "291298/291298 [==============================] - 10s 35us/step - loss: 5.4961e-05 - acc: 0.0000e+00 - val_loss: 5.4811e-05 - val_acc: 0.0000e+00\n",
      "Epoch 49/200\n",
      "291298/291298 [==============================] - 10s 35us/step - loss: 5.4534e-05 - acc: 0.0000e+00 - val_loss: 5.4573e-05 - val_acc: 0.0000e+00\n",
      "Epoch 50/200\n",
      "291298/291298 [==============================] - 10s 35us/step - loss: 5.4217e-05 - acc: 0.0000e+00 - val_loss: 5.4372e-05 - val_acc: 0.0000e+00\n",
      "Epoch 51/200\n",
      "291298/291298 [==============================] - 10s 35us/step - loss: 5.3915e-05 - acc: 0.0000e+00 - val_loss: 5.3935e-05 - val_acc: 0.0000e+00\n",
      "Epoch 52/200\n",
      "291298/291298 [==============================] - 10s 35us/step - loss: 5.3369e-05 - acc: 0.0000e+00 - val_loss: 5.3157e-05 - val_acc: 0.0000e+00\n",
      "Epoch 53/200\n",
      "291298/291298 [==============================] - 10s 35us/step - loss: 5.1809e-05 - acc: 0.0000e+00 - val_loss: 5.1476e-05 - val_acc: 0.0000e+00\n",
      "Epoch 54/200\n",
      "291298/291298 [==============================] - 10s 35us/step - loss: 5.0485e-05 - acc: 0.0000e+00 - val_loss: 5.0545e-05 - val_acc: 0.0000e+00\n",
      "Epoch 55/200\n",
      "291298/291298 [==============================] - 10s 35us/step - loss: 4.9258e-05 - acc: 0.0000e+00 - val_loss: 4.8658e-05 - val_acc: 0.0000e+00\n",
      "Epoch 56/200\n",
      "291298/291298 [==============================] - 10s 35us/step - loss: 4.7169e-05 - acc: 0.0000e+00 - val_loss: 4.6701e-05 - val_acc: 0.0000e+00\n",
      "Epoch 57/200\n",
      "291298/291298 [==============================] - 10s 35us/step - loss: 4.5420e-05 - acc: 0.0000e+00 - val_loss: 4.5580e-05 - val_acc: 0.0000e+00\n",
      "Epoch 58/200\n",
      "291298/291298 [==============================] - 10s 35us/step - loss: 4.3778e-05 - acc: 0.0000e+00 - val_loss: 4.2828e-05 - val_acc: 0.0000e+00\n",
      "Epoch 59/200\n",
      "291298/291298 [==============================] - 10s 35us/step - loss: 4.1135e-05 - acc: 0.0000e+00 - val_loss: 4.1373e-05 - val_acc: 0.0000e+00\n",
      "Epoch 60/200\n",
      "291298/291298 [==============================] - 10s 35us/step - loss: 3.9950e-05 - acc: 0.0000e+00 - val_loss: 4.0347e-05 - val_acc: 0.0000e+00\n",
      "Epoch 61/200\n",
      "291298/291298 [==============================] - 10s 35us/step - loss: 3.9077e-05 - acc: 0.0000e+00 - val_loss: 3.9592e-05 - val_acc: 0.0000e+00\n",
      "Epoch 62/200\n",
      "291298/291298 [==============================] - 10s 35us/step - loss: 3.8284e-05 - acc: 0.0000e+00 - val_loss: 3.8911e-05 - val_acc: 0.0000e+00\n",
      "Epoch 63/200\n",
      "291298/291298 [==============================] - 10s 35us/step - loss: 3.7597e-05 - acc: 0.0000e+00 - val_loss: 3.8225e-05 - val_acc: 0.0000e+00\n",
      "Epoch 64/200\n",
      "291298/291298 [==============================] - 10s 35us/step - loss: 3.7009e-05 - acc: 0.0000e+00 - val_loss: 3.7653e-05 - val_acc: 0.0000e+00\n",
      "Epoch 65/200\n",
      "291298/291298 [==============================] - 10s 35us/step - loss: 3.6499e-05 - acc: 0.0000e+00 - val_loss: 3.7144e-05 - val_acc: 0.0000e+00\n",
      "Epoch 66/200\n",
      "291298/291298 [==============================] - 10s 35us/step - loss: 3.5862e-05 - acc: 0.0000e+00 - val_loss: 3.6820e-05 - val_acc: 0.0000e+00\n",
      "Epoch 67/200\n",
      "291298/291298 [==============================] - 10s 35us/step - loss: 3.5355e-05 - acc: 0.0000e+00 - val_loss: 3.6526e-05 - val_acc: 0.0000e+00\n",
      "Epoch 68/200\n",
      "291298/291298 [==============================] - 10s 35us/step - loss: 3.5005e-05 - acc: 0.0000e+00 - val_loss: 3.6251e-05 - val_acc: 0.0000e+00\n",
      "Epoch 69/200\n",
      "291298/291298 [==============================] - 10s 35us/step - loss: 3.4718e-05 - acc: 0.0000e+00 - val_loss: 3.6110e-05 - val_acc: 0.0000e+00\n",
      "Epoch 70/200\n",
      "291298/291298 [==============================] - 10s 35us/step - loss: 3.4484e-05 - acc: 0.0000e+00 - val_loss: 3.6141e-05 - val_acc: 0.0000e+00\n",
      "Epoch 71/200\n",
      "291298/291298 [==============================] - 10s 35us/step - loss: 3.4286e-05 - acc: 0.0000e+00 - val_loss: 3.6187e-05 - val_acc: 0.0000e+00\n",
      "Epoch 72/200\n",
      "291298/291298 [==============================] - 10s 35us/step - loss: 3.4124e-05 - acc: 0.0000e+00 - val_loss: 3.6247e-05 - val_acc: 0.0000e+00\n",
      "Epoch 73/200\n",
      "291298/291298 [==============================] - 10s 35us/step - loss: 3.3980e-05 - acc: 0.0000e+00 - val_loss: 3.6135e-05 - val_acc: 0.0000e+00\n",
      "Epoch 74/200\n",
      "291298/291298 [==============================] - 10s 35us/step - loss: 3.3849e-05 - acc: 0.0000e+00 - val_loss: 3.5933e-05 - val_acc: 0.0000e+00\n",
      "Epoch 75/200\n",
      "291298/291298 [==============================] - 10s 35us/step - loss: 3.3707e-05 - acc: 0.0000e+00 - val_loss: 3.5508e-05 - val_acc: 0.0000e+00\n",
      "Epoch 76/200\n",
      "291298/291298 [==============================] - 10s 35us/step - loss: 3.3564e-05 - acc: 0.0000e+00 - val_loss: 3.5421e-05 - val_acc: 0.0000e+00\n",
      "Epoch 77/200\n",
      "291298/291298 [==============================] - 10s 35us/step - loss: 3.3451e-05 - acc: 0.0000e+00 - val_loss: 3.5150e-05 - val_acc: 0.0000e+00\n",
      "Epoch 78/200\n",
      "291298/291298 [==============================] - 10s 35us/step - loss: 3.3357e-05 - acc: 0.0000e+00 - val_loss: 3.4650e-05 - val_acc: 0.0000e+00\n",
      "Epoch 79/200\n",
      "291298/291298 [==============================] - 10s 35us/step - loss: 3.3291e-05 - acc: 0.0000e+00 - val_loss: 3.4255e-05 - val_acc: 0.0000e+00\n",
      "Epoch 80/200\n",
      "291298/291298 [==============================] - 10s 35us/step - loss: 3.3228e-05 - acc: 0.0000e+00 - val_loss: 3.4011e-05 - val_acc: 0.0000e+00\n",
      "Epoch 81/200\n",
      "291298/291298 [==============================] - 10s 35us/step - loss: 3.3167e-05 - acc: 0.0000e+00 - val_loss: 3.3870e-05 - val_acc: 0.0000e+00\n",
      "Epoch 82/200\n",
      "291298/291298 [==============================] - 10s 35us/step - loss: 3.3127e-05 - acc: 0.0000e+00 - val_loss: 3.3757e-05 - val_acc: 0.0000e+00\n",
      "Epoch 83/200\n",
      "291298/291298 [==============================] - 10s 35us/step - loss: 3.3078e-05 - acc: 0.0000e+00 - val_loss: 3.3666e-05 - val_acc: 0.0000e+00\n",
      "Epoch 84/200\n",
      "291298/291298 [==============================] - 10s 35us/step - loss: 3.3050e-05 - acc: 6.8658e-06 - val_loss: 3.3589e-05 - val_acc: 0.0000e+00\n",
      "Epoch 85/200\n",
      "291298/291298 [==============================] - 10s 35us/step - loss: 3.3010e-05 - acc: 2.1284e-04 - val_loss: 3.3557e-05 - val_acc: 3.0209e-04\n",
      "Epoch 86/200\n",
      "291298/291298 [==============================] - 10s 35us/step - loss: 3.2967e-05 - acc: 3.0553e-04 - val_loss: 3.3446e-05 - val_acc: 3.5702e-04\n",
      "Epoch 87/200\n",
      "291298/291298 [==============================] - 10s 35us/step - loss: 3.2936e-05 - acc: 3.6732e-04 - val_loss: 3.3294e-05 - val_acc: 3.9821e-04\n",
      "Epoch 88/200\n",
      "291298/291298 [==============================] - 10s 35us/step - loss: 3.2734e-05 - acc: 4.1882e-04 - val_loss: 3.3126e-05 - val_acc: 4.1195e-04\n",
      "Epoch 89/200\n",
      "291298/291298 [==============================] - 10s 35us/step - loss: 3.2654e-05 - acc: 4.4971e-04 - val_loss: 3.3048e-05 - val_acc: 4.5314e-04\n",
      "Epoch 90/200\n",
      "291298/291298 [==============================] - 10s 35us/step - loss: 3.2610e-05 - acc: 4.8747e-04 - val_loss: 3.3016e-05 - val_acc: 5.2180e-04\n",
      "Epoch 91/200\n",
      "291298/291298 [==============================] - 10s 35us/step - loss: 3.2578e-05 - acc: 5.1494e-04 - val_loss: 3.2959e-05 - val_acc: 5.4926e-04\n",
      "Epoch 92/200\n",
      "291298/291298 [==============================] - 10s 35us/step - loss: 3.2556e-05 - acc: 5.9046e-04 - val_loss: 3.2921e-05 - val_acc: 7.9643e-04\n",
      "Epoch 93/200\n",
      "291298/291298 [==============================] - 10s 35us/step - loss: 3.2532e-05 - acc: 7.2778e-04 - val_loss: 3.2850e-05 - val_acc: 8.1016e-04\n",
      "Epoch 94/200\n",
      "291298/291298 [==============================] - 10s 35us/step - loss: 3.2508e-05 - acc: 7.9644e-04 - val_loss: 3.2813e-05 - val_acc: 8.3762e-04\n",
      "Epoch 95/200\n",
      "291298/291298 [==============================] - 10s 35us/step - loss: 3.2490e-05 - acc: 9.2345e-04 - val_loss: 3.2789e-05 - val_acc: 0.0011\n",
      "Epoch 96/200\n",
      "291298/291298 [==============================] - 10s 35us/step - loss: 3.2472e-05 - acc: 0.0012 - val_loss: 3.2784e-05 - val_acc: 0.0015\n",
      "Epoch 97/200\n",
      "291298/291298 [==============================] - 10s 35us/step - loss: 3.2458e-05 - acc: 0.0015 - val_loss: 3.2778e-05 - val_acc: 0.0019\n",
      "Epoch 98/200\n",
      "291298/291298 [==============================] - 10s 35us/step - loss: 3.2446e-05 - acc: 0.0020 - val_loss: 3.2796e-05 - val_acc: 0.0025\n",
      "Epoch 99/200\n",
      "291298/291298 [==============================] - 10s 35us/step - loss: 3.2432e-05 - acc: 0.0030 - val_loss: 3.2735e-05 - val_acc: 0.0034\n",
      "Epoch 100/200\n",
      "291298/291298 [==============================] - 10s 35us/step - loss: 3.2421e-05 - acc: 0.0041 - val_loss: 3.2745e-05 - val_acc: 0.0044\n",
      "Epoch 101/200\n",
      "291298/291298 [==============================] - 10s 35us/step - loss: 3.2412e-05 - acc: 0.0045 - val_loss: 3.2735e-05 - val_acc: 0.0046\n",
      "Epoch 102/200\n",
      "291298/291298 [==============================] - 10s 35us/step - loss: 3.2404e-05 - acc: 0.0048 - val_loss: 3.2702e-05 - val_acc: 0.0048\n",
      "Epoch 103/200\n",
      "291298/291298 [==============================] - 10s 35us/step - loss: 3.2387e-05 - acc: 0.0051 - val_loss: 3.2706e-05 - val_acc: 0.0052\n",
      "Epoch 104/200\n",
      "291298/291298 [==============================] - 10s 35us/step - loss: 3.2378e-05 - acc: 0.0055 - val_loss: 3.2664e-05 - val_acc: 0.0055\n",
      "Epoch 105/200\n",
      "291298/291298 [==============================] - 10s 35us/step - loss: 3.2369e-05 - acc: 0.0057 - val_loss: 3.2744e-05 - val_acc: 0.0056\n",
      "Epoch 106/200\n",
      "291298/291298 [==============================] - 10s 35us/step - loss: 3.2354e-05 - acc: 0.0059 - val_loss: 3.2704e-05 - val_acc: 0.0060\n",
      "Epoch 107/200\n",
      "291298/291298 [==============================] - 10s 35us/step - loss: 3.2346e-05 - acc: 0.0063 - val_loss: 3.2650e-05 - val_acc: 0.0070\n",
      "Epoch 108/200\n",
      "291298/291298 [==============================] - 10s 35us/step - loss: 3.2338e-05 - acc: 0.0070 - val_loss: 3.2656e-05 - val_acc: 0.0071\n",
      "Epoch 109/200\n",
      "291298/291298 [==============================] - 10s 35us/step - loss: 3.2329e-05 - acc: 0.0078 - val_loss: 3.2622e-05 - val_acc: 0.0080\n",
      "Epoch 110/200\n",
      "291298/291298 [==============================] - 10s 35us/step - loss: 3.2320e-05 - acc: 0.0089 - val_loss: 3.2639e-05 - val_acc: 0.0092\n",
      "Epoch 111/200\n",
      "291298/291298 [==============================] - 10s 35us/step - loss: 3.2310e-05 - acc: 0.0099 - val_loss: 3.2619e-05 - val_acc: 0.0105\n",
      "Epoch 112/200\n",
      "291298/291298 [==============================] - 10s 35us/step - loss: 3.2301e-05 - acc: 0.0122 - val_loss: 3.2592e-05 - val_acc: 0.0177\n",
      "Epoch 113/200\n",
      "291298/291298 [==============================] - 10s 35us/step - loss: 3.2295e-05 - acc: 0.0182 - val_loss: 3.2654e-05 - val_acc: 0.0205\n",
      "Epoch 114/200\n",
      "291298/291298 [==============================] - 10s 35us/step - loss: 3.2286e-05 - acc: 0.0227 - val_loss: 3.2553e-05 - val_acc: 0.0245\n",
      "Epoch 115/200\n",
      "291298/291298 [==============================] - 10s 35us/step - loss: 3.2278e-05 - acc: 0.0251 - val_loss: 3.2500e-05 - val_acc: 0.0262\n",
      "Epoch 116/200\n",
      "291298/291298 [==============================] - 10s 35us/step - loss: 3.2269e-05 - acc: 0.0267 - val_loss: 3.2471e-05 - val_acc: 0.0278\n",
      "Epoch 117/200\n",
      "291298/291298 [==============================] - 10s 35us/step - loss: 3.2268e-05 - acc: 0.0284 - val_loss: 3.2480e-05 - val_acc: 0.0294\n",
      "Epoch 118/200\n",
      "291298/291298 [==============================] - 10s 35us/step - loss: 3.2254e-05 - acc: 0.0310 - val_loss: 3.2477e-05 - val_acc: 0.0328\n",
      "Epoch 119/200\n",
      "291298/291298 [==============================] - 11s 38us/step - loss: 3.2251e-05 - acc: 0.0347 - val_loss: 3.2511e-05 - val_acc: 0.0363\n",
      "Epoch 120/200\n",
      "291298/291298 [==============================] - 12s 40us/step - loss: 3.2244e-05 - acc: 0.0383 - val_loss: 3.2444e-05 - val_acc: 0.0397\n",
      "Epoch 121/200\n",
      "291298/291298 [==============================] - 12s 43us/step - loss: 3.2237e-05 - acc: 0.0410 - val_loss: 3.2394e-05 - val_acc: 0.0415\n",
      "Epoch 122/200\n",
      "291298/291298 [==============================] - 12s 43us/step - loss: 3.2228e-05 - acc: 0.0426 - val_loss: 3.2383e-05 - val_acc: 0.0432\n",
      "Epoch 123/200\n",
      "291298/291298 [==============================] - 12s 42us/step - loss: 3.2219e-05 - acc: 0.0448 - val_loss: 3.2392e-05 - val_acc: 0.0457\n",
      "Epoch 124/200\n",
      "291298/291298 [==============================] - 13s 46us/step - loss: 3.2211e-05 - acc: 0.0465 - val_loss: 3.2384e-05 - val_acc: 0.0472\n",
      "Epoch 125/200\n",
      "291298/291298 [==============================] - 12s 42us/step - loss: 3.2203e-05 - acc: 0.0484 - val_loss: 3.2314e-05 - val_acc: 0.0488\n",
      "Epoch 126/200\n",
      "291298/291298 [==============================] - 12s 43us/step - loss: 3.2161e-05 - acc: 0.0506 - val_loss: 3.2249e-05 - val_acc: 0.0522\n",
      "Epoch 127/200\n",
      "291298/291298 [==============================] - 12s 42us/step - loss: 3.2078e-05 - acc: 0.0558 - val_loss: 3.2242e-05 - val_acc: 0.0588\n",
      "Epoch 128/200\n",
      "291298/291298 [==============================] - 12s 43us/step - loss: 3.2031e-05 - acc: 0.0596 - val_loss: 3.2197e-05 - val_acc: 0.0607\n",
      "Epoch 129/200\n",
      "291298/291298 [==============================] - 12s 42us/step - loss: 3.2006e-05 - acc: 0.0604 - val_loss: 3.2192e-05 - val_acc: 0.0610\n",
      "Epoch 130/200\n",
      "291298/291298 [==============================] - 12s 42us/step - loss: 3.1983e-05 - acc: 0.0605 - val_loss: 3.2246e-05 - val_acc: 0.0612\n",
      "Epoch 131/200\n",
      "291298/291298 [==============================] - 12s 43us/step - loss: 3.1966e-05 - acc: 0.0606 - val_loss: 3.2221e-05 - val_acc: 0.0612\n",
      "Epoch 132/200\n",
      "291298/291298 [==============================] - 12s 42us/step - loss: 3.1952e-05 - acc: 0.0606 - val_loss: 3.2165e-05 - val_acc: 0.0612\n",
      "Epoch 133/200\n",
      "291298/291298 [==============================] - 12s 43us/step - loss: 3.1932e-05 - acc: 0.0606 - val_loss: 3.2082e-05 - val_acc: 0.0612\n",
      "Epoch 134/200\n",
      "291298/291298 [==============================] - 12s 42us/step - loss: 3.1894e-05 - acc: 0.0606 - val_loss: 3.2067e-05 - val_acc: 0.0612\n",
      "Epoch 135/200\n",
      "291298/291298 [==============================] - 12s 42us/step - loss: 3.1863e-05 - acc: 0.0606 - val_loss: 3.2063e-05 - val_acc: 0.0612\n",
      "Epoch 136/200\n",
      "291298/291298 [==============================] - 12s 42us/step - loss: 3.1829e-05 - acc: 0.0606 - val_loss: 3.1961e-05 - val_acc: 0.0612\n",
      "Epoch 137/200\n",
      "291298/291298 [==============================] - 12s 42us/step - loss: 3.1799e-05 - acc: 0.0606 - val_loss: 3.1961e-05 - val_acc: 0.0612\n",
      "Epoch 138/200\n",
      "291298/291298 [==============================] - 13s 43us/step - loss: 3.1779e-05 - acc: 0.0606 - val_loss: 3.1894e-05 - val_acc: 0.0612\n",
      "Epoch 139/200\n",
      "291298/291298 [==============================] - 12s 43us/step - loss: 3.1762e-05 - acc: 0.0606 - val_loss: 3.1989e-05 - val_acc: 0.0612\n",
      "Epoch 140/200\n",
      "291298/291298 [==============================] - 13s 45us/step - loss: 3.1737e-05 - acc: 0.0606 - val_loss: 3.1907e-05 - val_acc: 0.0612\n",
      "Epoch 141/200\n",
      "291298/291298 [==============================] - 12s 43us/step - loss: 3.1719e-05 - acc: 0.0606 - val_loss: 3.1943e-05 - val_acc: 0.0612\n",
      "Epoch 142/200\n",
      "291298/291298 [==============================] - 12s 43us/step - loss: 3.1695e-05 - acc: 0.0606 - val_loss: 3.1917e-05 - val_acc: 0.0612\n",
      "Epoch 143/200\n",
      "291298/291298 [==============================] - 12s 43us/step - loss: 3.1673e-05 - acc: 0.0606 - val_loss: 3.1961e-05 - val_acc: 0.0612\n",
      "--- AE spent 1504.2516069412231 seconds ---\n"
     ]
    }
   ],
   "source": [
    "hist_ae_sigmoid_adam_mse = fit_ae(checkpoint_file = \"ae_sigmoid_adam_mse_redds10bal.h5\",\n",
    "                                  autoencoder = ae_sigmoid_adam_mse, \n",
    "                                  epochs = 200, \n",
    "                                  batch_size = 48,\n",
    "                                  shuffle = False)"
   ]
  },
  {
   "cell_type": "code",
   "execution_count": 48,
   "metadata": {},
   "outputs": [
    {
     "name": "stdout",
     "output_type": "stream",
     "text": [
      "Best loss value: 3.167287426632356e-05\n"
     ]
    },
    {
     "data": {
      "image/png": "[encoded data removed]",
      "text/plain": [
       "<Figure size 432x288 with 1 Axes>"
      ]
     },
     "metadata": {
      "needs_background": "light"
     },
     "output_type": "display_data"
    }
   ],
   "source": [
    "best_loss_value_ae_sigmoid_adam_mse  = plot_hist_auto(hist_ae_sigmoid_adam_mse, './Figures/hist_ae_sigmoid_adam_mse.png')"
   ]
  },
  {
   "cell_type": "code",
   "execution_count": null,
   "metadata": {},
   "outputs": [],
   "source": []
  },
  {
   "cell_type": "code",
   "execution_count": null,
   "metadata": {},
   "outputs": [],
   "source": []
  },
  {
   "cell_type": "code",
   "execution_count": 145,
   "metadata": {},
   "outputs": [
    {
     "name": "stdout",
     "output_type": "stream",
     "text": [
      "_________________________________________________________________\n",
      "Layer (type)                 Output Shape              Param #   \n",
      "=================================================================\n",
      "input_8 (InputLayer)         (None, 48)                0         \n",
      "_________________________________________________________________\n",
      "encoded_bottle_neck (Dense)  (None, 32)                1568      \n",
      "_________________________________________________________________\n",
      "dense_50 (Dense)             (None, 48)                1584      \n",
      "=================================================================\n",
      "Total params: 3,152\n",
      "Trainable params: 3,152\n",
      "Non-trainable params: 0\n",
      "_________________________________________________________________\n",
      "None\n"
     ]
    }
   ],
   "source": [
    "ae_sigsig_adam_logcosh,enc_train_x_assal,enc_test_x_assal = ae(factor_enc_dim = 1.5,\n",
    "                                                          enc_activation = 'sigmoid',\n",
    "                                                          dec_activation = 'sigmoid',\n",
    "                                                          optimizer='Adam',\n",
    "                                                          loss='logcosh')"
   ]
  },
  {
   "cell_type": "code",
   "execution_count": 146,
   "metadata": {},
   "outputs": [],
   "source": [
    "#ae_sigsig_adam_logcosh = load_model('ae_sigsig_adam_logcosh_redds10bal.h5')"
   ]
  },
  {
   "cell_type": "code",
   "execution_count": 148,
   "metadata": {},
   "outputs": [
    {
     "name": "stdout",
     "output_type": "stream",
     "text": [
      "Fri Jun  7 13:59:26 2019\n",
      "Train on 291298 samples, validate on 72825 samples\n",
      "Epoch 1/200\n",
      "291298/291298 [==============================] - 17s 58us/step - loss: 1.2887e-05 - acc: 0.0000e+00 - val_loss: 1.2795e-05 - val_acc: 0.0000e+00\n",
      "Epoch 2/200\n",
      "291298/291298 [==============================] - 17s 58us/step - loss: 1.2819e-05 - acc: 0.0000e+00 - val_loss: 1.2725e-05 - val_acc: 0.0000e+00\n",
      "Epoch 3/200\n",
      "291298/291298 [==============================] - 17s 58us/step - loss: 1.2750e-05 - acc: 0.0000e+00 - val_loss: 1.2654e-05 - val_acc: 0.0000e+00\n",
      "Epoch 4/200\n",
      "291298/291298 [==============================] - 17s 59us/step - loss: 1.2681e-05 - acc: 0.0000e+00 - val_loss: 1.2582e-05 - val_acc: 0.0000e+00\n",
      "Epoch 5/200\n",
      "291298/291298 [==============================] - 18s 61us/step - loss: 1.2612e-05 - acc: 0.0000e+00 - val_loss: 1.2510e-05 - val_acc: 0.0000e+00\n",
      "Epoch 6/200\n",
      "291298/291298 [==============================] - 17s 60us/step - loss: 1.2542e-05 - acc: 0.0000e+00 - val_loss: 1.2434e-05 - val_acc: 0.0000e+00\n",
      "Epoch 7/200\n",
      "291298/291298 [==============================] - 18s 61us/step - loss: 1.2469e-05 - acc: 0.0000e+00 - val_loss: 1.2353e-05 - val_acc: 0.0000e+00\n",
      "Epoch 8/200\n",
      "291298/291298 [==============================] - 18s 61us/step - loss: 1.2390e-05 - acc: 0.0000e+00 - val_loss: 1.2264e-05 - val_acc: 0.0000e+00\n",
      "Epoch 9/200\n",
      "291298/291298 [==============================] - 18s 62us/step - loss: 1.2302e-05 - acc: 0.0000e+00 - val_loss: 1.2162e-05 - val_acc: 0.0000e+00\n",
      "Epoch 10/200\n",
      "291298/291298 [==============================] - 18s 62us/step - loss: 1.2196e-05 - acc: 0.0000e+00 - val_loss: 1.2037e-05 - val_acc: 0.0000e+00\n",
      "Epoch 11/200\n",
      "291298/291298 [==============================] - 18s 61us/step - loss: 1.2063e-05 - acc: 0.0000e+00 - val_loss: 1.1879e-05 - val_acc: 0.0000e+00\n",
      "Epoch 12/200\n",
      "291298/291298 [==============================] - 18s 62us/step - loss: 1.1889e-05 - acc: 0.0000e+00 - val_loss: 1.1674e-05 - val_acc: 0.0000e+00\n",
      "Epoch 13/200\n",
      "291298/291298 [==============================] - 18s 61us/step - loss: 1.1660e-05 - acc: 0.0000e+00 - val_loss: 1.1415e-05 - val_acc: 0.0000e+00\n",
      "Epoch 14/200\n",
      "291298/291298 [==============================] - 18s 62us/step - loss: 1.1376e-05 - acc: 0.0000e+00 - val_loss: 1.1111e-05 - val_acc: 0.0000e+00\n",
      "Epoch 15/200\n",
      "291298/291298 [==============================] - 18s 62us/step - loss: 1.1053e-05 - acc: 6.8658e-06 - val_loss: 1.0785e-05 - val_acc: 2.7463e-05\n",
      "Epoch 16/200\n",
      "291298/291298 [==============================] - 18s 62us/step - loss: 1.0717e-05 - acc: 1.7508e-04 - val_loss: 1.0460e-05 - val_acc: 2.7463e-04\n",
      "Epoch 17/200\n",
      "291298/291298 [==============================] - 18s 62us/step - loss: 1.0390e-05 - acc: 2.4030e-04 - val_loss: 1.0154e-05 - val_acc: 2.7463e-04\n",
      "Epoch 18/200\n",
      "291298/291298 [==============================] - 18s 63us/step - loss: 1.0085e-05 - acc: 2.4030e-04 - val_loss: 9.8717e-06 - val_acc: 2.7463e-04\n",
      "Epoch 19/200\n",
      "291298/291298 [==============================] - 18s 63us/step - loss: 9.8026e-06 - acc: 2.4717e-04 - val_loss: 9.6112e-06 - val_acc: 4.2568e-04\n",
      "Epoch 20/200\n",
      "291298/291298 [==============================] - 18s 63us/step - loss: 9.5404e-06 - acc: 4.4285e-04 - val_loss: 9.3699e-06 - val_acc: 7.6897e-04\n",
      "Epoch 21/200\n",
      "291298/291298 [==============================] - 18s 63us/step - loss: 9.2910e-06 - acc: 9.4405e-04 - val_loss: 9.1402e-06 - val_acc: 9.8867e-04\n",
      "Epoch 22/200\n",
      "291298/291298 [==============================] - 18s 62us/step - loss: 9.0376e-06 - acc: 0.0011 - val_loss: 8.9073e-06 - val_acc: 0.0010\n",
      "Epoch 23/200\n",
      "291298/291298 [==============================] - 18s 63us/step - loss: 8.7573e-06 - acc: 0.0016 - val_loss: 8.6574e-06 - val_acc: 0.0021\n",
      "Epoch 24/200\n",
      "291298/291298 [==============================] - 19s 64us/step - loss: 8.4618e-06 - acc: 0.0021 - val_loss: 8.4119e-06 - val_acc: 0.0020\n",
      "Epoch 25/200\n",
      "291298/291298 [==============================] - 18s 63us/step - loss: 8.2001e-06 - acc: 0.0021 - val_loss: 8.1933e-06 - val_acc: 0.0020\n",
      "Epoch 26/200\n",
      "291298/291298 [==============================] - 19s 64us/step - loss: 7.9746e-06 - acc: 0.0021 - val_loss: 7.9810e-06 - val_acc: 0.0020\n",
      "Epoch 27/200\n",
      "291298/291298 [==============================] - 19s 65us/step - loss: 7.7522e-06 - acc: 0.0021 - val_loss: 7.7561e-06 - val_acc: 0.0020\n",
      "Epoch 28/200\n",
      "291298/291298 [==============================] - 15s 52us/step - loss: 7.5439e-06 - acc: 0.0021 - val_loss: 7.5698e-06 - val_acc: 0.0020\n",
      "Epoch 29/200\n",
      "291298/291298 [==============================] - 14s 49us/step - loss: 7.3795e-06 - acc: 0.0020 - val_loss: 7.4292e-06 - val_acc: 0.0020\n",
      "Epoch 30/200\n",
      "291298/291298 [==============================] - 14s 47us/step - loss: 7.2471e-06 - acc: 0.0020 - val_loss: 7.3126e-06 - val_acc: 0.0020\n",
      "Epoch 31/200\n",
      "291298/291298 [==============================] - 14s 47us/step - loss: 7.1320e-06 - acc: 0.0019 - val_loss: 7.2085e-06 - val_acc: 0.0018\n",
      "Epoch 32/200\n",
      "291298/291298 [==============================] - 14s 48us/step - loss: 7.0255e-06 - acc: 0.0014 - val_loss: 7.1091e-06 - val_acc: 8.7882e-04\n",
      "Epoch 33/200\n",
      "291298/291298 [==============================] - 14s 47us/step - loss: 6.9196e-06 - acc: 6.8658e-04 - val_loss: 7.0062e-06 - val_acc: 4.8060e-04\n",
      "Epoch 34/200\n",
      "291298/291298 [==============================] - 14s 47us/step - loss: 6.8053e-06 - acc: 4.1538e-04 - val_loss: 6.8904e-06 - val_acc: 4.2568e-04\n",
      "Epoch 35/200\n",
      "291298/291298 [==============================] - 17s 58us/step - loss: 6.6723e-06 - acc: 3.9135e-04 - val_loss: 6.7505e-06 - val_acc: 4.2568e-04\n",
      "Epoch 36/200\n",
      "291298/291298 [==============================] - 19s 66us/step - loss: 6.5087e-06 - acc: 3.2269e-04 - val_loss: 6.5734e-06 - val_acc: 2.7463e-04\n",
      "Epoch 37/200\n",
      "291298/291298 [==============================] - 19s 65us/step - loss: 6.2976e-06 - acc: 2.4374e-04 - val_loss: 6.3419e-06 - val_acc: 2.7463e-04\n",
      "Epoch 38/200\n",
      "291298/291298 [==============================] - 19s 64us/step - loss: 6.0227e-06 - acc: 1.9911e-04 - val_loss: 6.0446e-06 - val_acc: 6.8658e-05\n",
      "Epoch 39/200\n",
      "291298/291298 [==============================] - 18s 63us/step - loss: 5.6860e-06 - acc: 8.5823e-05 - val_loss: 5.6939e-06 - val_acc: 6.8658e-05\n",
      "Epoch 40/200\n",
      "291298/291298 [==============================] - 18s 63us/step - loss: 5.3433e-06 - acc: 1.2702e-04 - val_loss: 5.3770e-06 - val_acc: 1.0985e-04\n",
      "Epoch 41/200\n",
      "291298/291298 [==============================] - 18s 63us/step - loss: 5.0531e-06 - acc: 1.7508e-04 - val_loss: 5.1197e-06 - val_acc: 1.2358e-04\n",
      "Epoch 42/200\n",
      "291298/291298 [==============================] - 18s 62us/step - loss: 4.8194e-06 - acc: 1.7165e-04 - val_loss: 4.9081e-06 - val_acc: 1.2358e-04\n",
      "Epoch 43/200\n",
      "291298/291298 [==============================] - 18s 61us/step - loss: 4.6283e-06 - acc: 1.7851e-04 - val_loss: 4.7265e-06 - val_acc: 1.0985e-04\n",
      "Epoch 44/200\n",
      "291298/291298 [==============================] - 18s 62us/step - loss: 4.4667e-06 - acc: 1.7508e-04 - val_loss: 4.5662e-06 - val_acc: 1.3732e-04\n",
      "Epoch 45/200\n",
      "291298/291298 [==============================] - 17s 60us/step - loss: 4.3263e-06 - acc: 2.4374e-04 - val_loss: 4.4232e-06 - val_acc: 3.7075e-04\n",
      "Epoch 46/200\n",
      "291298/291298 [==============================] - 17s 59us/step - loss: 4.2013e-06 - acc: 2.9866e-04 - val_loss: 4.2937e-06 - val_acc: 3.7075e-04\n",
      "Epoch 47/200\n",
      "291298/291298 [==============================] - 17s 59us/step - loss: 4.0881e-06 - acc: 2.1284e-04 - val_loss: 4.1739e-06 - val_acc: 3.8448e-04\n",
      "Epoch 48/200\n",
      "291298/291298 [==============================] - 17s 59us/step - loss: 3.9838e-06 - acc: 1.4075e-04 - val_loss: 4.0606e-06 - val_acc: 2.7463e-04\n",
      "Epoch 49/200\n",
      "291298/291298 [==============================] - 17s 58us/step - loss: 3.8864e-06 - acc: 1.0642e-04 - val_loss: 3.9504e-06 - val_acc: 2.7463e-04\n",
      "Epoch 50/200\n",
      "291298/291298 [==============================] - 17s 58us/step - loss: 3.7941e-06 - acc: 1.0642e-04 - val_loss: 3.8421e-06 - val_acc: 2.4717e-04\n",
      "Epoch 51/200\n",
      "291298/291298 [==============================] - 17s 57us/step - loss: 3.7059e-06 - acc: 8.9256e-05 - val_loss: 3.7351e-06 - val_acc: 1.3732e-04\n",
      "Epoch 52/200\n",
      "291298/291298 [==============================] - 16s 55us/step - loss: 3.6208e-06 - acc: 8.5823e-05 - val_loss: 3.6306e-06 - val_acc: 1.2358e-04\n",
      "Epoch 53/200\n",
      "291298/291298 [==============================] - 16s 56us/step - loss: 3.5378e-06 - acc: 9.6122e-05 - val_loss: 3.5296e-06 - val_acc: 1.7851e-04\n",
      "Epoch 54/200\n",
      "291298/291298 [==============================] - 16s 56us/step - loss: 3.4565e-06 - acc: 1.8538e-04 - val_loss: 3.4342e-06 - val_acc: 2.6090e-04\n",
      "Epoch 55/200\n",
      "291298/291298 [==============================] - 16s 55us/step - loss: 3.3767e-06 - acc: 3.3299e-04 - val_loss: 3.3446e-06 - val_acc: 4.8060e-04\n",
      "Epoch 56/200\n",
      "291298/291298 [==============================] - 16s 55us/step - loss: 3.2983e-06 - acc: 4.9434e-04 - val_loss: 3.2605e-06 - val_acc: 5.0807e-04\n",
      "Epoch 57/200\n",
      "291298/291298 [==============================] - 16s 55us/step - loss: 3.2208e-06 - acc: 4.5314e-04 - val_loss: 3.1807e-06 - val_acc: 3.7075e-04\n",
      "Epoch 58/200\n",
      "291298/291298 [==============================] - 16s 55us/step - loss: 3.1445e-06 - acc: 3.1239e-04 - val_loss: 3.1042e-06 - val_acc: 2.3344e-04\n",
      "Epoch 59/200\n",
      "291298/291298 [==============================] - 16s 56us/step - loss: 3.0696e-06 - acc: 1.4418e-04 - val_loss: 3.0297e-06 - val_acc: 1.3732e-05\n",
      "Epoch 60/200\n",
      "291298/291298 [==============================] - 16s 55us/step - loss: 2.9967e-06 - acc: 5.4927e-05 - val_loss: 2.9566e-06 - val_acc: 5.4926e-05\n",
      "Epoch 61/200\n",
      "291298/291298 [==============================] - 16s 55us/step - loss: 2.9267e-06 - acc: 1.3045e-04 - val_loss: 2.8842e-06 - val_acc: 1.2358e-04\n",
      "Epoch 62/200\n",
      "291298/291298 [==============================] - 17s 60us/step - loss: 2.8600e-06 - acc: 1.4075e-04 - val_loss: 2.8134e-06 - val_acc: 1.2358e-04\n",
      "Epoch 63/200\n",
      "291298/291298 [==============================] - 17s 58us/step - loss: 2.7975e-06 - acc: 1.4075e-04 - val_loss: 2.7453e-06 - val_acc: 1.2358e-04\n",
      "Epoch 64/200\n",
      "291298/291298 [==============================] - 16s 54us/step - loss: 2.7395e-06 - acc: 1.4418e-04 - val_loss: 2.6814e-06 - val_acc: 1.2358e-04\n",
      "Epoch 65/200\n",
      "291298/291298 [==============================] - 16s 54us/step - loss: 2.6860e-06 - acc: 1.4418e-04 - val_loss: 2.6231e-06 - val_acc: 1.2358e-04\n",
      "Epoch 66/200\n",
      "291298/291298 [==============================] - 16s 54us/step - loss: 2.6373e-06 - acc: 1.4418e-04 - val_loss: 2.5708e-06 - val_acc: 1.2358e-04\n",
      "Epoch 67/200\n",
      "291298/291298 [==============================] - 16s 54us/step - loss: 2.5930e-06 - acc: 1.5448e-04 - val_loss: 2.5221e-06 - val_acc: 1.2358e-04\n",
      "Epoch 68/200\n",
      "291298/291298 [==============================] - 16s 54us/step - loss: 2.5526e-06 - acc: 1.9224e-04 - val_loss: 2.4762e-06 - val_acc: 1.6478e-04\n",
      "Epoch 69/200\n",
      "291298/291298 [==============================] - 16s 54us/step - loss: 2.5158e-06 - acc: 2.0254e-04 - val_loss: 2.4329e-06 - val_acc: 1.6478e-04\n",
      "Epoch 70/200\n",
      "291298/291298 [==============================] - 16s 54us/step - loss: 2.4821e-06 - acc: 2.3001e-04 - val_loss: 2.3929e-06 - val_acc: 1.6478e-04\n",
      "Epoch 71/200\n",
      "291298/291298 [==============================] - 16s 54us/step - loss: 2.4510e-06 - acc: 2.4374e-04 - val_loss: 2.3565e-06 - val_acc: 1.6478e-04\n",
      "Epoch 72/200\n",
      "291298/291298 [==============================] - 16s 54us/step - loss: 2.4224e-06 - acc: 2.4717e-04 - val_loss: 2.3239e-06 - val_acc: 1.6478e-04\n",
      "Epoch 73/200\n",
      "291298/291298 [==============================] - 16s 55us/step - loss: 2.3961e-06 - acc: 2.5404e-04 - val_loss: 2.2949e-06 - val_acc: 1.6478e-04\n",
      "Epoch 74/200\n",
      "291298/291298 [==============================] - 16s 55us/step - loss: 2.3715e-06 - acc: 2.7807e-04 - val_loss: 2.2690e-06 - val_acc: 1.6478e-04\n",
      "Epoch 75/200\n",
      "291298/291298 [==============================] - 16s 55us/step - loss: 2.3484e-06 - acc: 3.0210e-04 - val_loss: 2.2459e-06 - val_acc: 1.6478e-04\n",
      "Epoch 76/200\n",
      "291298/291298 [==============================] - 16s 54us/step - loss: 2.3269e-06 - acc: 3.0553e-04 - val_loss: 2.2251e-06 - val_acc: 1.6478e-04\n",
      "Epoch 77/200\n",
      "291298/291298 [==============================] - 16s 56us/step - loss: 2.3065e-06 - acc: 3.0553e-04 - val_loss: 2.2062e-06 - val_acc: 1.6478e-04\n",
      "Epoch 78/200\n",
      "291298/291298 [==============================] - 16s 56us/step - loss: 2.2874e-06 - acc: 2.9866e-04 - val_loss: 2.1886e-06 - val_acc: 2.1970e-04\n",
      "Epoch 79/200\n",
      "291298/291298 [==============================] - 16s 55us/step - loss: 2.2694e-06 - acc: 2.9523e-04 - val_loss: 2.1718e-06 - val_acc: 1.9224e-04\n",
      "Epoch 80/200\n",
      "291298/291298 [==============================] - 16s 55us/step - loss: 2.2523e-06 - acc: 2.9180e-04 - val_loss: 2.1558e-06 - val_acc: 1.7851e-04\n",
      "Epoch 81/200\n",
      "291298/291298 [==============================] - 16s 55us/step - loss: 2.2360e-06 - acc: 2.9180e-04 - val_loss: 2.1403e-06 - val_acc: 1.6478e-04\n",
      "Epoch 82/200\n",
      "291298/291298 [==============================] - 16s 55us/step - loss: 2.2205e-06 - acc: 2.8836e-04 - val_loss: 2.1255e-06 - val_acc: 1.6478e-04\n",
      "Epoch 83/200\n",
      "291298/291298 [==============================] - 16s 56us/step - loss: 2.2057e-06 - acc: 2.7807e-04 - val_loss: 2.1111e-06 - val_acc: 1.7851e-04\n",
      "Epoch 84/200\n",
      "291298/291298 [==============================] - 16s 54us/step - loss: 2.1915e-06 - acc: 2.7120e-04 - val_loss: 2.0972e-06 - val_acc: 1.7851e-04\n",
      "Epoch 85/200\n",
      "291298/291298 [==============================] - 16s 54us/step - loss: 2.1778e-06 - acc: 2.3687e-04 - val_loss: 2.0836e-06 - val_acc: 1.7851e-04\n",
      "Epoch 86/200\n",
      "291298/291298 [==============================] - 16s 54us/step - loss: 2.1645e-06 - acc: 2.3344e-04 - val_loss: 2.0705e-06 - val_acc: 1.7851e-04\n",
      "Epoch 87/200\n",
      "291298/291298 [==============================] - 16s 54us/step - loss: 2.1517e-06 - acc: 2.2314e-04 - val_loss: 2.0577e-06 - val_acc: 1.7851e-04\n",
      "Epoch 88/200\n",
      "291298/291298 [==============================] - 16s 54us/step - loss: 2.1392e-06 - acc: 1.7851e-04 - val_loss: 2.0454e-06 - val_acc: 1.3732e-04\n",
      "Epoch 89/200\n",
      "291298/291298 [==============================] - 16s 54us/step - loss: 2.1270e-06 - acc: 1.4075e-04 - val_loss: 2.0334e-06 - val_acc: 1.3732e-04\n",
      "Epoch 90/200\n",
      "291298/291298 [==============================] - 15s 53us/step - loss: 2.1151e-06 - acc: 1.3388e-04 - val_loss: 2.0217e-06 - val_acc: 1.3732e-04\n",
      "Epoch 91/200\n",
      "291298/291298 [==============================] - 16s 54us/step - loss: 2.1035e-06 - acc: 1.4418e-04 - val_loss: 2.0101e-06 - val_acc: 1.3732e-04\n",
      "Epoch 92/200\n",
      "291298/291298 [==============================] - 16s 55us/step - loss: 2.0920e-06 - acc: 1.5105e-04 - val_loss: 1.9988e-06 - val_acc: 1.6478e-04\n",
      "Epoch 93/200\n",
      "291298/291298 [==============================] - 15s 53us/step - loss: 2.0807e-06 - acc: 1.5791e-04 - val_loss: 1.9877e-06 - val_acc: 1.9224e-04\n",
      "Epoch 94/200\n",
      "291298/291298 [==============================] - 16s 54us/step - loss: 2.0697e-06 - acc: 1.6821e-04 - val_loss: 1.9767e-06 - val_acc: 1.9224e-04\n",
      "Epoch 95/200\n",
      "291298/291298 [==============================] - 16s 54us/step - loss: 2.0590e-06 - acc: 1.6821e-04 - val_loss: 1.9657e-06 - val_acc: 1.9224e-04\n",
      "Epoch 96/200\n",
      "291298/291298 [==============================] - 16s 54us/step - loss: 2.0485e-06 - acc: 1.7165e-04 - val_loss: 1.9548e-06 - val_acc: 1.9224e-04\n",
      "Epoch 97/200\n",
      "291298/291298 [==============================] - 16s 54us/step - loss: 2.0383e-06 - acc: 1.7851e-04 - val_loss: 1.9440e-06 - val_acc: 1.9224e-04\n",
      "Epoch 98/200\n",
      "291298/291298 [==============================] - 16s 54us/step - loss: 2.0285e-06 - acc: 1.9568e-04 - val_loss: 1.9335e-06 - val_acc: 2.6090e-04\n",
      "Epoch 99/200\n",
      "291298/291298 [==============================] - 16s 53us/step - loss: 2.0190e-06 - acc: 2.0941e-04 - val_loss: 1.9230e-06 - val_acc: 2.6090e-04\n",
      "Epoch 100/200\n",
      "291298/291298 [==============================] - 16s 54us/step - loss: 2.0098e-06 - acc: 2.1971e-04 - val_loss: 1.9128e-06 - val_acc: 2.6090e-04\n",
      "Epoch 101/200\n",
      "291298/291298 [==============================] - 16s 54us/step - loss: 2.0009e-06 - acc: 2.4374e-04 - val_loss: 1.9027e-06 - val_acc: 2.6090e-04\n",
      "Epoch 102/200\n",
      "291298/291298 [==============================] - 16s 53us/step - loss: 1.9922e-06 - acc: 2.7463e-04 - val_loss: 1.8928e-06 - val_acc: 2.8836e-04\n",
      "Epoch 103/200\n",
      "291298/291298 [==============================] - 16s 54us/step - loss: 1.9837e-06 - acc: 2.8493e-04 - val_loss: 1.8830e-06 - val_acc: 3.0209e-04\n",
      "Epoch 104/200\n",
      "291298/291298 [==============================] - 16s 54us/step - loss: 1.9755e-06 - acc: 2.9180e-04 - val_loss: 1.8735e-06 - val_acc: 3.0209e-04\n",
      "Epoch 105/200\n",
      "291298/291298 [==============================] - 16s 56us/step - loss: 1.9674e-06 - acc: 3.0210e-04 - val_loss: 1.8640e-06 - val_acc: 3.0209e-04\n",
      "Epoch 106/200\n",
      "291298/291298 [==============================] - 16s 54us/step - loss: 1.9594e-06 - acc: 3.0553e-04 - val_loss: 1.8548e-06 - val_acc: 3.0209e-04\n",
      "Epoch 107/200\n",
      "291298/291298 [==============================] - 16s 54us/step - loss: 1.9516e-06 - acc: 3.0553e-04 - val_loss: 1.8459e-06 - val_acc: 3.0209e-04\n",
      "Epoch 108/200\n",
      "291298/291298 [==============================] - 16s 54us/step - loss: 1.9438e-06 - acc: 3.1239e-04 - val_loss: 1.8370e-06 - val_acc: 3.0209e-04\n",
      "Epoch 109/200\n",
      "291298/291298 [==============================] - 16s 54us/step - loss: 1.9362e-06 - acc: 3.1239e-04 - val_loss: 1.8284e-06 - val_acc: 3.0209e-04\n",
      "Epoch 110/200\n",
      "291298/291298 [==============================] - 16s 54us/step - loss: 1.9286e-06 - acc: 3.1583e-04 - val_loss: 1.8200e-06 - val_acc: 3.1583e-04\n",
      "Epoch 111/200\n",
      "291298/291298 [==============================] - 16s 53us/step - loss: 1.9211e-06 - acc: 3.2956e-04 - val_loss: 1.8117e-06 - val_acc: 3.8448e-04\n",
      "Epoch 112/200\n",
      "291298/291298 [==============================] - 16s 54us/step - loss: 1.9136e-06 - acc: 3.3299e-04 - val_loss: 1.8037e-06 - val_acc: 4.2568e-04\n",
      "Epoch 113/200\n",
      "291298/291298 [==============================] - 16s 54us/step - loss: 1.9063e-06 - acc: 3.3643e-04 - val_loss: 1.7958e-06 - val_acc: 4.8060e-04\n",
      "Epoch 114/200\n",
      "291298/291298 [==============================] - 16s 54us/step - loss: 1.8990e-06 - acc: 3.5359e-04 - val_loss: 1.7882e-06 - val_acc: 4.9434e-04\n",
      "Epoch 115/200\n",
      "291298/291298 [==============================] - 16s 54us/step - loss: 1.8917e-06 - acc: 3.4672e-04 - val_loss: 1.7807e-06 - val_acc: 3.9821e-04\n",
      "Epoch 116/200\n",
      "291298/291298 [==============================] - 16s 53us/step - loss: 1.8844e-06 - acc: 3.5359e-04 - val_loss: 1.7734e-06 - val_acc: 3.8448e-04\n",
      "Epoch 117/200\n",
      "291298/291298 [==============================] - 16s 53us/step - loss: 1.8771e-06 - acc: 3.5359e-04 - val_loss: 1.7662e-06 - val_acc: 3.2956e-04\n",
      "Epoch 118/200\n",
      "291298/291298 [==============================] - 16s 54us/step - loss: 1.8698e-06 - acc: 3.2956e-04 - val_loss: 1.7592e-06 - val_acc: 3.2956e-04\n",
      "Epoch 119/200\n",
      "291298/291298 [==============================] - 16s 54us/step - loss: 1.8624e-06 - acc: 3.2269e-04 - val_loss: 1.7523e-06 - val_acc: 3.2956e-04\n",
      "Epoch 120/200\n",
      "291298/291298 [==============================] - 16s 54us/step - loss: 1.8550e-06 - acc: 3.2956e-04 - val_loss: 1.7454e-06 - val_acc: 3.2956e-04\n",
      "Epoch 121/200\n",
      "291298/291298 [==============================] - 16s 54us/step - loss: 1.8476e-06 - acc: 3.1926e-04 - val_loss: 1.7386e-06 - val_acc: 3.2956e-04\n",
      "Epoch 122/200\n",
      "291298/291298 [==============================] - 16s 54us/step - loss: 1.8400e-06 - acc: 3.3643e-04 - val_loss: 1.7319e-06 - val_acc: 3.2956e-04\n",
      "Epoch 123/200\n",
      "291298/291298 [==============================] - 16s 54us/step - loss: 1.8322e-06 - acc: 3.5016e-04 - val_loss: 1.7250e-06 - val_acc: 3.2956e-04\n",
      "Epoch 124/200\n",
      "291298/291298 [==============================] - 16s 54us/step - loss: 1.8242e-06 - acc: 3.6046e-04 - val_loss: 1.7179e-06 - val_acc: 3.2956e-04\n",
      "Epoch 125/200\n",
      "291298/291298 [==============================] - 16s 54us/step - loss: 1.8160e-06 - acc: 3.6732e-04 - val_loss: 1.7108e-06 - val_acc: 3.2956e-04\n",
      "Epoch 126/200\n",
      "291298/291298 [==============================] - 16s 54us/step - loss: 1.8075e-06 - acc: 3.7419e-04 - val_loss: 1.7035e-06 - val_acc: 3.2956e-04\n",
      "Epoch 127/200\n",
      "291298/291298 [==============================] - 16s 54us/step - loss: 1.7987e-06 - acc: 3.9135e-04 - val_loss: 1.6958e-06 - val_acc: 3.2956e-04\n",
      "Epoch 128/200\n",
      "291298/291298 [==============================] - 16s 54us/step - loss: 1.7895e-06 - acc: 3.9822e-04 - val_loss: 1.6880e-06 - val_acc: 3.2956e-04\n",
      "Epoch 129/200\n",
      "291298/291298 [==============================] - 16s 54us/step - loss: 1.7799e-06 - acc: 3.9478e-04 - val_loss: 1.6798e-06 - val_acc: 3.2956e-04\n",
      "Epoch 130/200\n",
      "291298/291298 [==============================] - 16s 54us/step - loss: 1.7699e-06 - acc: 3.8792e-04 - val_loss: 1.6711e-06 - val_acc: 3.2956e-04\n",
      "Epoch 131/200\n",
      "291298/291298 [==============================] - 16s 54us/step - loss: 1.7591e-06 - acc: 3.8105e-04 - val_loss: 1.6618e-06 - val_acc: 2.8836e-04\n",
      "Epoch 132/200\n",
      "291298/291298 [==============================] - 16s 54us/step - loss: 1.7477e-06 - acc: 3.6389e-04 - val_loss: 1.6520e-06 - val_acc: 2.8836e-04\n",
      "Epoch 133/200\n",
      "291298/291298 [==============================] - 16s 54us/step - loss: 1.7355e-06 - acc: 3.4672e-04 - val_loss: 1.6413e-06 - val_acc: 3.0209e-04\n",
      "Epoch 134/200\n",
      "291298/291298 [==============================] - 16s 54us/step - loss: 1.7226e-06 - acc: 3.3986e-04 - val_loss: 1.6299e-06 - val_acc: 3.1583e-04\n",
      "Epoch 135/200\n",
      "291298/291298 [==============================] - 16s 54us/step - loss: 1.7089e-06 - acc: 3.3986e-04 - val_loss: 1.6178e-06 - val_acc: 3.1583e-04\n",
      "Epoch 136/200\n",
      "291298/291298 [==============================] - 16s 56us/step - loss: 1.6944e-06 - acc: 3.3986e-04 - val_loss: 1.6049e-06 - val_acc: 3.1583e-04\n",
      "Epoch 137/200\n",
      "291298/291298 [==============================] - 16s 54us/step - loss: 1.6789e-06 - acc: 3.2956e-04 - val_loss: 1.5908e-06 - val_acc: 3.1583e-04\n",
      "Epoch 138/200\n",
      "291298/291298 [==============================] - 15s 53us/step - loss: 1.6624e-06 - acc: 3.2613e-04 - val_loss: 1.5757e-06 - val_acc: 3.1583e-04\n",
      "Epoch 139/200\n",
      "291298/291298 [==============================] - 16s 54us/step - loss: 1.6450e-06 - acc: 2.9180e-04 - val_loss: 1.5596e-06 - val_acc: 3.0209e-04\n",
      "Epoch 140/200\n",
      "291298/291298 [==============================] - 16s 54us/step - loss: 1.6267e-06 - acc: 2.6090e-04 - val_loss: 1.5428e-06 - val_acc: 2.4717e-04\n",
      "Epoch 141/200\n",
      "291298/291298 [==============================] - 16s 54us/step - loss: 1.6077e-06 - acc: 2.6090e-04 - val_loss: 1.5255e-06 - val_acc: 2.4717e-04\n",
      "Epoch 142/200\n",
      "291298/291298 [==============================] - 16s 54us/step - loss: 1.5882e-06 - acc: 2.6090e-04 - val_loss: 1.5079e-06 - val_acc: 2.4717e-04\n",
      "Epoch 143/200\n",
      "291298/291298 [==============================] - 16s 54us/step - loss: 1.5685e-06 - acc: 2.6090e-04 - val_loss: 1.4900e-06 - val_acc: 2.4717e-04\n",
      "Epoch 144/200\n",
      "291298/291298 [==============================] - 16s 54us/step - loss: 1.5487e-06 - acc: 2.6090e-04 - val_loss: 1.4722e-06 - val_acc: 2.4717e-04\n",
      "Epoch 145/200\n",
      "291298/291298 [==============================] - 16s 54us/step - loss: 1.5291e-06 - acc: 2.6090e-04 - val_loss: 1.4544e-06 - val_acc: 2.4717e-04\n",
      "Epoch 146/200\n",
      "291298/291298 [==============================] - 16s 55us/step - loss: 1.5099e-06 - acc: 2.6433e-04 - val_loss: 1.4370e-06 - val_acc: 2.4717e-04\n",
      "Epoch 147/200\n",
      "291298/291298 [==============================] - 16s 54us/step - loss: 1.4912e-06 - acc: 2.6433e-04 - val_loss: 1.4196e-06 - val_acc: 2.4717e-04\n",
      "Epoch 148/200\n",
      "291298/291298 [==============================] - 16s 54us/step - loss: 1.4731e-06 - acc: 2.6433e-04 - val_loss: 1.4025e-06 - val_acc: 2.4717e-04\n",
      "Epoch 149/200\n",
      "291298/291298 [==============================] - 16s 54us/step - loss: 1.4555e-06 - acc: 2.6433e-04 - val_loss: 1.3857e-06 - val_acc: 2.4717e-04\n",
      "Epoch 150/200\n",
      "291298/291298 [==============================] - 16s 54us/step - loss: 1.4387e-06 - acc: 2.6433e-04 - val_loss: 1.3694e-06 - val_acc: 2.4717e-04\n",
      "Epoch 151/200\n",
      "291298/291298 [==============================] - 16s 54us/step - loss: 1.4226e-06 - acc: 2.6433e-04 - val_loss: 1.3537e-06 - val_acc: 2.4717e-04\n",
      "Epoch 152/200\n",
      "291298/291298 [==============================] - 16s 54us/step - loss: 1.4073e-06 - acc: 2.6433e-04 - val_loss: 1.3387e-06 - val_acc: 2.4717e-04\n",
      "Epoch 153/200\n",
      "291298/291298 [==============================] - 16s 54us/step - loss: 1.3927e-06 - acc: 2.6433e-04 - val_loss: 1.3246e-06 - val_acc: 2.4717e-04\n",
      "Epoch 154/200\n",
      "291298/291298 [==============================] - 16s 53us/step - loss: 1.3789e-06 - acc: 2.6433e-04 - val_loss: 1.3113e-06 - val_acc: 2.4717e-04\n",
      "Epoch 155/200\n",
      "291298/291298 [==============================] - 16s 54us/step - loss: 1.3658e-06 - acc: 2.6433e-04 - val_loss: 1.2990e-06 - val_acc: 2.4717e-04\n",
      "Epoch 156/200\n",
      "291298/291298 [==============================] - 16s 54us/step - loss: 1.3534e-06 - acc: 2.6433e-04 - val_loss: 1.2877e-06 - val_acc: 2.4717e-04\n",
      "Epoch 157/200\n",
      "291298/291298 [==============================] - 16s 54us/step - loss: 1.3416e-06 - acc: 2.6433e-04 - val_loss: 1.2772e-06 - val_acc: 2.4717e-04\n",
      "Epoch 158/200\n",
      "291298/291298 [==============================] - 16s 54us/step - loss: 1.3305e-06 - acc: 2.6433e-04 - val_loss: 1.2678e-06 - val_acc: 2.4717e-04\n",
      "Epoch 159/200\n",
      "291298/291298 [==============================] - 16s 54us/step - loss: 1.3201e-06 - acc: 2.6090e-04 - val_loss: 1.2591e-06 - val_acc: 2.4717e-04\n",
      "Epoch 160/200\n",
      "291298/291298 [==============================] - 16s 54us/step - loss: 1.3102e-06 - acc: 2.6090e-04 - val_loss: 1.2511e-06 - val_acc: 2.4717e-04\n",
      "Epoch 161/200\n",
      "291298/291298 [==============================] - 16s 54us/step - loss: 1.3007e-06 - acc: 2.6433e-04 - val_loss: 1.2438e-06 - val_acc: 2.4717e-04\n",
      "Epoch 162/200\n",
      "291298/291298 [==============================] - 16s 54us/step - loss: 1.2916e-06 - acc: 2.6090e-04 - val_loss: 1.2369e-06 - val_acc: 2.4717e-04\n",
      "Epoch 163/200\n",
      "291298/291298 [==============================] - 16s 54us/step - loss: 1.2831e-06 - acc: 2.6090e-04 - val_loss: 1.2305e-06 - val_acc: 2.1970e-04\n",
      "Epoch 164/200\n",
      "291298/291298 [==============================] - 16s 54us/step - loss: 1.2749e-06 - acc: 2.6090e-04 - val_loss: 1.2247e-06 - val_acc: 2.1970e-04\n",
      "Epoch 165/200\n",
      "291298/291298 [==============================] - 16s 54us/step - loss: 1.2672e-06 - acc: 2.6090e-04 - val_loss: 1.2193e-06 - val_acc: 2.1970e-04\n",
      "Epoch 166/200\n",
      "291298/291298 [==============================] - 16s 53us/step - loss: 1.2599e-06 - acc: 2.6090e-04 - val_loss: 1.2143e-06 - val_acc: 2.1970e-04\n",
      "Epoch 167/200\n",
      "291298/291298 [==============================] - 16s 54us/step - loss: 1.2529e-06 - acc: 2.6090e-04 - val_loss: 1.2095e-06 - val_acc: 2.1970e-04\n",
      "Epoch 168/200\n",
      "291298/291298 [==============================] - 16s 54us/step - loss: 1.2462e-06 - acc: 2.6090e-04 - val_loss: 1.2050e-06 - val_acc: 2.1970e-04\n",
      "Epoch 169/200\n",
      "291298/291298 [==============================] - 16s 54us/step - loss: 1.2398e-06 - acc: 2.6090e-04 - val_loss: 1.2008e-06 - val_acc: 2.1970e-04\n",
      "Epoch 170/200\n",
      "291298/291298 [==============================] - 16s 54us/step - loss: 1.2337e-06 - acc: 2.6090e-04 - val_loss: 1.1969e-06 - val_acc: 2.1970e-04\n",
      "Epoch 171/200\n",
      "291298/291298 [==============================] - 17s 58us/step - loss: 1.2278e-06 - acc: 2.6090e-04 - val_loss: 1.1931e-06 - val_acc: 2.1970e-04\n",
      "Epoch 172/200\n",
      "291298/291298 [==============================] - 16s 54us/step - loss: 1.2222e-06 - acc: 2.6090e-04 - val_loss: 1.1896e-06 - val_acc: 2.1970e-04\n",
      "Epoch 173/200\n",
      "291298/291298 [==============================] - 16s 53us/step - loss: 1.2168e-06 - acc: 2.6090e-04 - val_loss: 1.1863e-06 - val_acc: 2.1970e-04\n",
      "Epoch 174/200\n",
      "291298/291298 [==============================] - 16s 54us/step - loss: 1.2117e-06 - acc: 2.6090e-04 - val_loss: 1.1831e-06 - val_acc: 2.1970e-04\n",
      "Epoch 175/200\n",
      "291298/291298 [==============================] - 16s 53us/step - loss: 1.2067e-06 - acc: 2.6090e-04 - val_loss: 1.1800e-06 - val_acc: 2.1970e-04\n",
      "Epoch 176/200\n",
      "291298/291298 [==============================] - 16s 53us/step - loss: 1.2019e-06 - acc: 2.6090e-04 - val_loss: 1.1771e-06 - val_acc: 2.1970e-04\n",
      "Epoch 177/200\n",
      "291298/291298 [==============================] - 15s 53us/step - loss: 1.1973e-06 - acc: 2.6090e-04 - val_loss: 1.1742e-06 - val_acc: 2.1970e-04\n",
      "Epoch 178/200\n",
      "291298/291298 [==============================] - 15s 53us/step - loss: 1.1929e-06 - acc: 2.6090e-04 - val_loss: 1.1714e-06 - val_acc: 2.1970e-04\n",
      "Epoch 179/200\n",
      "291298/291298 [==============================] - 15s 53us/step - loss: 1.1885e-06 - acc: 2.6090e-04 - val_loss: 1.1688e-06 - val_acc: 2.1970e-04\n",
      "Epoch 180/200\n",
      "291298/291298 [==============================] - 16s 53us/step - loss: 1.1844e-06 - acc: 2.6090e-04 - val_loss: 1.1661e-06 - val_acc: 2.1970e-04\n",
      "Epoch 181/200\n",
      "291298/291298 [==============================] - 15s 53us/step - loss: 1.1803e-06 - acc: 2.6090e-04 - val_loss: 1.1636e-06 - val_acc: 2.1970e-04\n",
      "Epoch 182/200\n",
      "291298/291298 [==============================] - 15s 53us/step - loss: 1.1763e-06 - acc: 2.6090e-04 - val_loss: 1.1612e-06 - val_acc: 2.1970e-04\n",
      "Epoch 183/200\n",
      "291298/291298 [==============================] - 15s 52us/step - loss: 1.1725e-06 - acc: 2.6090e-04 - val_loss: 1.1588e-06 - val_acc: 2.1970e-04\n",
      "Epoch 184/200\n",
      "291298/291298 [==============================] - 16s 53us/step - loss: 1.1688e-06 - acc: 2.6090e-04 - val_loss: 1.1563e-06 - val_acc: 2.1970e-04\n",
      "Epoch 185/200\n",
      "291298/291298 [==============================] - 15s 53us/step - loss: 1.1652e-06 - acc: 2.6090e-04 - val_loss: 1.1540e-06 - val_acc: 2.1970e-04\n",
      "Epoch 186/200\n",
      "291298/291298 [==============================] - 15s 53us/step - loss: 1.1617e-06 - acc: 2.6090e-04 - val_loss: 1.1517e-06 - val_acc: 2.1970e-04\n",
      "Epoch 187/200\n",
      "291298/291298 [==============================] - 16s 53us/step - loss: 1.1583e-06 - acc: 2.6090e-04 - val_loss: 1.1496e-06 - val_acc: 2.1970e-04\n",
      "Epoch 188/200\n",
      "291298/291298 [==============================] - 15s 53us/step - loss: 1.1550e-06 - acc: 2.6090e-04 - val_loss: 1.1474e-06 - val_acc: 2.1970e-04\n",
      "Epoch 189/200\n",
      "291298/291298 [==============================] - 16s 53us/step - loss: 1.1517e-06 - acc: 2.6090e-04 - val_loss: 1.1452e-06 - val_acc: 2.1970e-04\n",
      "Epoch 190/200\n",
      "291298/291298 [==============================] - 15s 53us/step - loss: 1.1485e-06 - acc: 2.6090e-04 - val_loss: 1.1431e-06 - val_acc: 2.1970e-04\n",
      "Epoch 191/200\n",
      "291298/291298 [==============================] - 16s 53us/step - loss: 1.1454e-06 - acc: 2.6090e-04 - val_loss: 1.1409e-06 - val_acc: 2.1970e-04\n",
      "Epoch 192/200\n",
      "291298/291298 [==============================] - 16s 54us/step - loss: 1.1424e-06 - acc: 2.6090e-04 - val_loss: 1.1388e-06 - val_acc: 2.1970e-04\n",
      "Epoch 193/200\n",
      "291298/291298 [==============================] - 15s 53us/step - loss: 1.1395e-06 - acc: 2.6090e-04 - val_loss: 1.1368e-06 - val_acc: 2.1970e-04\n",
      "Epoch 194/200\n",
      "291298/291298 [==============================] - 16s 53us/step - loss: 1.1366e-06 - acc: 2.6090e-04 - val_loss: 1.1347e-06 - val_acc: 2.1970e-04\n",
      "Epoch 195/200\n",
      "291298/291298 [==============================] - 15s 53us/step - loss: 1.1337e-06 - acc: 2.6090e-04 - val_loss: 1.1325e-06 - val_acc: 2.1970e-04\n",
      "Epoch 196/200\n",
      "291298/291298 [==============================] - 15s 53us/step - loss: 1.1309e-06 - acc: 2.6090e-04 - val_loss: 1.1304e-06 - val_acc: 2.1970e-04\n",
      "Epoch 197/200\n",
      "291298/291298 [==============================] - 16s 53us/step - loss: 1.1282e-06 - acc: 2.6090e-04 - val_loss: 1.1282e-06 - val_acc: 2.1970e-04\n",
      "Epoch 198/200\n",
      "291298/291298 [==============================] - 16s 53us/step - loss: 1.1254e-06 - acc: 2.6090e-04 - val_loss: 1.1260e-06 - val_acc: 2.1970e-04\n",
      "Epoch 199/200\n",
      "291298/291298 [==============================] - 16s 54us/step - loss: 1.1227e-06 - acc: 2.6090e-04 - val_loss: 1.1237e-06 - val_acc: 2.1970e-04\n",
      "Epoch 200/200\n",
      "291298/291298 [==============================] - 15s 53us/step - loss: 1.1200e-06 - acc: 2.6090e-04 - val_loss: 1.1215e-06 - val_acc: 2.1970e-04\n",
      "--- AE spent 3238.130931377411 seconds ---\n"
     ]
    }
   ],
   "source": [
    "hist_ae_sigsig_adam_logcosh = fit_ae(checkpoint_file = \"ae_sigsig_adam_logcosh_redds10bal.h5\",\n",
    "                                  autoencoder = ae_sigsig_adam_logcosh, \n",
    "                                  epochs = 200, \n",
    "                                  batch_size = 48,\n",
    "                                  shuffle = False)"
   ]
  },
  {
   "cell_type": "code",
   "execution_count": 152,
   "metadata": {},
   "outputs": [
    {
     "name": "stdout",
     "output_type": "stream",
     "text": [
      "Best loss value: 1.1200096539836842e-06\n"
     ]
    },
    {
     "data": {
      "image/png": "[encoded data removed]",
      "text/plain": [
       "<Figure size 432x288 with 1 Axes>"
      ]
     },
     "metadata": {
      "needs_background": "light"
     },
     "output_type": "display_data"
    }
   ],
   "source": [
    "best_loss_value_ae_sigsig_adam_logcosh  = plot_hist_auto(hist_ae_sigsig_adam_logcosh, './Figures/hist_ae_sigsig_adam_logcosh.png')"
   ]
  },
  {
   "cell_type": "code",
   "execution_count": 153,
   "metadata": {},
   "outputs": [],
   "source": [
    "loss_valueDict = {\n",
    "    'loss_value_ae_sigmoid_adam_logcosh': best_loss_value_ae_sigmoid_adam_logcosh,\n",
    "    'loss_value_ae_sigmoid_adam_mse': best_loss_value_ae_sigmoid_adam_mse,\n",
    "    'loss_value_ae_siglin_adam_logcosh': best_loss_value_ae_siglin_adam_logcosh,\n",
    "    'loss_value_ae_sigsig_adam_logcosh': best_loss_value_ae_sigsig_adam_logcosh\n",
    "    }"
   ]
  },
  {
   "cell_type": "code",
   "execution_count": 154,
   "metadata": {},
   "outputs": [
    {
     "data": {
      "text/plain": [
       "{'loss_value_ae_sigmoid_adam_logcosh': 1.4083044855397788e-05,\n",
       " 'loss_value_ae_sigmoid_adam_mse': 3.167287426632356e-05,\n",
       " 'loss_value_ae_siglin_adam_logcosh': 1.8328752667281846e-06,\n",
       " 'loss_value_ae_sigsig_adam_logcosh': 1.1200096539836842e-06}"
      ]
     },
     "execution_count": 154,
     "metadata": {},
     "output_type": "execute_result"
    }
   ],
   "source": [
    "loss_valueDict"
   ]
  },
  {
   "cell_type": "code",
   "execution_count": null,
   "metadata": {},
   "outputs": [],
   "source": []
  },
  {
   "cell_type": "code",
   "execution_count": 108,
   "metadata": {},
   "outputs": [
    {
     "name": "stdout",
     "output_type": "stream",
     "text": [
      "(291298, 32)\n",
      "(91031, 32)\n",
      "(291298, 32)\n",
      "(91031, 32)\n",
      "(291298, 32)\n",
      "(91031, 32)\n",
      "(291298, 32)\n",
      "(91031, 32)\n"
     ]
    }
   ],
   "source": [
    "print(enc_train_x_asal.shape)\n",
    "print(enc_test_x_asal.shape)\n",
    "\n",
    "print(enc_train_x_asam.shape)\n",
    "print(enc_test_x_asam.shape)\n",
    "\n",
    "print(enc_train_x_aslal.shape)\n",
    "print(enc_test_x_aslal.shape)\n",
    "\n",
    "print(enc_train_x_assal.shape)\n",
    "print(enc_test_x_assal.shape)"
   ]
  },
  {
   "cell_type": "markdown",
   "metadata": {},
   "source": [
    "#### ====================== Fail ANN ======================"
   ]
  },
  {
   "cell_type": "code",
   "execution_count": 96,
   "metadata": {},
   "outputs": [
    {
     "name": "stdout",
     "output_type": "stream",
     "text": [
      "_________________________________________________________________\n",
      "Layer (type)                 Output Shape              Param #   \n",
      "=================================================================\n",
      "dense_26 (Dense)             (None, 48)                1584      \n",
      "_________________________________________________________________\n",
      "dense_27 (Dense)             (None, 36)                1764      \n",
      "_________________________________________________________________\n",
      "batch_normalization_5 (Batch (None, 36)                144       \n",
      "_________________________________________________________________\n",
      "dropout_5 (Dropout)          (None, 36)                0         \n",
      "_________________________________________________________________\n",
      "dense_28 (Dense)             (None, 1)                 37        \n",
      "=================================================================\n",
      "Total params: 3,529\n",
      "Trainable params: 3,457\n",
      "Non-trainable params: 72\n",
      "_________________________________________________________________\n",
      "None\n"
     ]
    }
   ],
   "source": [
    "ann36n_unisoftsigbinlosadam = ann_1h_36n(neurons=48,\n",
    "                                      encoded_train_x=enc_train_x_asal,\n",
    "                                      init_mode='uniform',\n",
    "                                      activation_input='softsign',\n",
    "                                      weight_constraint=5,\n",
    "                                      dropout_rate=0.0,\n",
    "                                      activation_output='sigmoid',\n",
    "                                      loss='binary_crossentropy',\n",
    "                                      optimizer='Adam')"
   ]
  },
  {
   "cell_type": "code",
   "execution_count": 98,
   "metadata": {},
   "outputs": [
    {
     "name": "stdout",
     "output_type": "stream",
     "text": [
      "Thu Jun  6 17:49:23 2019\n",
      "Train on 233038 samples, validate on 58260 samples\n",
      "Epoch 1/200\n",
      "233038/233038 [==============================] - 21s 91us/step - loss: 0.5035 - acc: 0.7362 - val_loss: 0.4706 - val_acc: 0.7675\n",
      "Epoch 2/200\n",
      "233038/233038 [==============================] - 21s 90us/step - loss: 0.4724 - acc: 0.7572 - val_loss: 0.4432 - val_acc: 0.7796\n",
      "Epoch 3/200\n",
      "233038/233038 [==============================] - 21s 92us/step - loss: 0.4547 - acc: 0.7690 - val_loss: 0.4416 - val_acc: 0.7740\n",
      "Epoch 4/200\n",
      "233038/233038 [==============================] - 21s 90us/step - loss: 0.4412 - acc: 0.7767 - val_loss: 0.4371 - val_acc: 0.7740\n",
      "Epoch 5/200\n",
      "233038/233038 [==============================] - 21s 91us/step - loss: 0.4314 - acc: 0.7824 - val_loss: 0.4279 - val_acc: 0.7816\n",
      "Epoch 6/200\n",
      "233038/233038 [==============================] - 22s 93us/step - loss: 0.4223 - acc: 0.7868 - val_loss: 0.4182 - val_acc: 0.7962\n",
      "Epoch 7/200\n",
      "233038/233038 [==============================] - 22s 94us/step - loss: 0.4171 - acc: 0.7903 - val_loss: 0.4267 - val_acc: 0.7822\n",
      "Epoch 8/200\n",
      "233038/233038 [==============================] - 22s 94us/step - loss: 0.4113 - acc: 0.7933 - val_loss: 0.4072 - val_acc: 0.8022\n",
      "Epoch 9/200\n",
      "233038/233038 [==============================] - 22s 95us/step - loss: 0.4053 - acc: 0.7976 - val_loss: 0.4004 - val_acc: 0.7962\n",
      "Epoch 10/200\n",
      "233038/233038 [==============================] - 22s 95us/step - loss: 0.4005 - acc: 0.7997 - val_loss: 0.3854 - val_acc: 0.8076\n",
      "Epoch 11/200\n",
      "233038/233038 [==============================] - 22s 94us/step - loss: 0.3960 - acc: 0.8022 - val_loss: 0.3826 - val_acc: 0.8030\n",
      "Epoch 12/200\n",
      "233038/233038 [==============================] - 22s 95us/step - loss: 0.3911 - acc: 0.8051 - val_loss: 0.3737 - val_acc: 0.8171\n",
      "Epoch 13/200\n",
      "233038/233038 [==============================] - 22s 96us/step - loss: 0.3868 - acc: 0.8082 - val_loss: 0.3714 - val_acc: 0.8222\n",
      "Epoch 14/200\n",
      "233038/233038 [==============================] - 21s 92us/step - loss: 0.3828 - acc: 0.8098 - val_loss: 0.3684 - val_acc: 0.8276\n",
      "Epoch 15/200\n",
      "233038/233038 [==============================] - 21s 90us/step - loss: 0.3790 - acc: 0.8120 - val_loss: 0.3623 - val_acc: 0.8176\n",
      "Epoch 16/200\n",
      "233038/233038 [==============================] - 21s 92us/step - loss: 0.3750 - acc: 0.8154 - val_loss: 0.3698 - val_acc: 0.8220\n",
      "Epoch 17/200\n",
      "233038/233038 [==============================] - 21s 89us/step - loss: 0.3711 - acc: 0.8165 - val_loss: 0.3570 - val_acc: 0.8240\n",
      "Epoch 18/200\n",
      "233038/233038 [==============================] - 20s 86us/step - loss: 0.3679 - acc: 0.8177 - val_loss: 0.3589 - val_acc: 0.8285\n",
      "Epoch 19/200\n",
      "233038/233038 [==============================] - 21s 89us/step - loss: 0.3652 - acc: 0.8206 - val_loss: 0.3629 - val_acc: 0.8268\n",
      "Epoch 20/200\n",
      "233038/233038 [==============================] - 20s 86us/step - loss: 0.3632 - acc: 0.8215 - val_loss: 0.3622 - val_acc: 0.8164\n",
      "Epoch 21/200\n",
      "233038/233038 [==============================] - 20s 87us/step - loss: 0.3590 - acc: 0.8237 - val_loss: 0.3497 - val_acc: 0.8318\n",
      "Epoch 22/200\n",
      "233038/233038 [==============================] - 20s 88us/step - loss: 0.3564 - acc: 0.8258 - val_loss: 0.3629 - val_acc: 0.8223\n",
      "Epoch 23/200\n",
      "233038/233038 [==============================] - 23s 98us/step - loss: 0.3535 - acc: 0.8276 - val_loss: 0.3524 - val_acc: 0.8316\n",
      "Epoch 24/200\n",
      "233038/233038 [==============================] - 22s 95us/step - loss: 0.3510 - acc: 0.8291 - val_loss: 0.3524 - val_acc: 0.8248\n",
      "Epoch 25/200\n",
      "233038/233038 [==============================] - 22s 95us/step - loss: 0.3487 - acc: 0.8303 - val_loss: 0.3356 - val_acc: 0.8426\n",
      "Epoch 26/200\n",
      "233038/233038 [==============================] - 22s 94us/step - loss: 0.3453 - acc: 0.8321 - val_loss: 0.3346 - val_acc: 0.8432\n",
      "Epoch 27/200\n",
      "233038/233038 [==============================] - 22s 95us/step - loss: 0.3445 - acc: 0.8331 - val_loss: 0.3643 - val_acc: 0.8267\n",
      "Epoch 28/200\n",
      "233038/233038 [==============================] - 22s 95us/step - loss: 0.3427 - acc: 0.8346 - val_loss: 0.3311 - val_acc: 0.8441\n",
      "Epoch 29/200\n",
      "233038/233038 [==============================] - 22s 96us/step - loss: 0.3407 - acc: 0.8356 - val_loss: 0.3406 - val_acc: 0.8389\n",
      "Epoch 30/200\n",
      "233038/233038 [==============================] - 22s 96us/step - loss: 0.3388 - acc: 0.8365 - val_loss: 0.3335 - val_acc: 0.8477\n",
      "Epoch 31/200\n",
      "233038/233038 [==============================] - 22s 95us/step - loss: 0.3368 - acc: 0.8371 - val_loss: 0.3369 - val_acc: 0.8317\n",
      "Epoch 32/200\n",
      "233038/233038 [==============================] - 22s 94us/step - loss: 0.3346 - acc: 0.8391 - val_loss: 0.3418 - val_acc: 0.8304\n",
      "Epoch 33/200\n",
      "233038/233038 [==============================] - 22s 93us/step - loss: 0.3305 - acc: 0.8405 - val_loss: 0.3302 - val_acc: 0.8352\n",
      "Epoch 34/200\n",
      "233038/233038 [==============================] - 22s 94us/step - loss: 0.3303 - acc: 0.8410 - val_loss: 0.3262 - val_acc: 0.8484\n",
      "Epoch 35/200\n",
      "233038/233038 [==============================] - 22s 93us/step - loss: 0.3281 - acc: 0.8427 - val_loss: 0.3371 - val_acc: 0.8381\n",
      "Epoch 36/200\n",
      "233038/233038 [==============================] - 21s 92us/step - loss: 0.3280 - acc: 0.8432 - val_loss: 0.3285 - val_acc: 0.8450\n",
      "Epoch 37/200\n",
      "233038/233038 [==============================] - 22s 93us/step - loss: 0.3252 - acc: 0.8441 - val_loss: 0.3165 - val_acc: 0.8535\n",
      "Epoch 38/200\n",
      "233038/233038 [==============================] - 21s 90us/step - loss: 0.3224 - acc: 0.8467 - val_loss: 0.3090 - val_acc: 0.8554\n",
      "Epoch 39/200\n",
      "233038/233038 [==============================] - 21s 90us/step - loss: 0.3220 - acc: 0.8459 - val_loss: 0.3805 - val_acc: 0.8176\n",
      "Epoch 40/200\n",
      "233038/233038 [==============================] - 20s 88us/step - loss: 0.3212 - acc: 0.8467 - val_loss: 0.3091 - val_acc: 0.8602\n",
      "Epoch 41/200\n",
      "233038/233038 [==============================] - 20s 87us/step - loss: 0.3196 - acc: 0.8481 - val_loss: 0.3226 - val_acc: 0.8422\n",
      "Epoch 42/200\n",
      "233038/233038 [==============================] - 20s 86us/step - loss: 0.3192 - acc: 0.8484 - val_loss: 0.3136 - val_acc: 0.8538\n",
      "Epoch 43/200\n",
      "233038/233038 [==============================] - 20s 86us/step - loss: 0.3160 - acc: 0.8495 - val_loss: 0.3127 - val_acc: 0.8520\n",
      "--- ANN spent 920.8187565803528 seconds ---\n"
     ]
    }
   ],
   "source": [
    "hist_ann36n_unisoftsigbinlosadam = ann_fit(checkpoint_file = \"ann36n_unisoftsigbinlosadam_redds10bal.h5\",\n",
    "                                        ann = ann36n_unisoftsigbinlosadam,\n",
    "                                        enc_train_x = enc_train_x_asal,\n",
    "                                        train_y = train_y,\n",
    "                                        epochs = 200,\n",
    "                                        shuffle = True,\n",
    "                                        batch_size = 48)"
   ]
  },
  {
   "cell_type": "code",
   "execution_count": 99,
   "metadata": {},
   "outputs": [
    {
     "name": "stdout",
     "output_type": "stream",
     "text": [
      "Best loss value: 0.3160341463552786\n"
     ]
    },
    {
     "data": {
      "image/png": "[encoded data removed]",
      "text/plain": [
       "<Figure size 432x288 with 1 Axes>"
      ]
     },
     "metadata": {
      "needs_background": "light"
     },
     "output_type": "display_data"
    }
   ],
   "source": [
    "best_loss_value_ann36n_unisoftsigbinlosadam = plot_hist_auto(hist_ann36n_unisoftsigbinlosadam, './Figures/ann36_unisoftsigbinlosadam.png')"
   ]
  },
  {
   "cell_type": "code",
   "execution_count": 100,
   "metadata": {},
   "outputs": [
    {
     "name": "stdout",
     "output_type": "stream",
     "text": [
      "Overall accuracy of Neural Network model: 0.8528413397633773\n",
      "              precision    recall  f1-score   support\n",
      "\n",
      "           0       0.86      0.84      0.85     45805\n",
      "           1       0.84      0.86      0.85     45226\n",
      "\n",
      "   micro avg       0.85      0.85      0.85     91031\n",
      "   macro avg       0.85      0.85      0.85     91031\n",
      "weighted avg       0.85      0.85      0.85     91031\n",
      "\n"
     ]
    }
   ],
   "source": [
    "pred_ann36n_prob_unisoftsigbinlosadam, pred_ann36n_01_unisoftsigbinlosadam = ann_predict(ann36n_unisoftsigbinlosadam,enc_test_x_asal)"
   ]
  },
  {
   "cell_type": "code",
   "execution_count": 101,
   "metadata": {},
   "outputs": [
    {
     "data": {
      "image/png": "[encoded data removed]",
      "text/plain": [
       "<Figure size 432x288 with 1 Axes>"
      ]
     },
     "metadata": {
      "needs_background": "light"
     },
     "output_type": "display_data"
    },
    {
     "data": {
      "image/png": "[encoded data removed]",
      "text/plain": [
       "<Figure size 576x432 with 2 Axes>"
      ]
     },
     "metadata": {
      "needs_background": "light"
     },
     "output_type": "display_data"
    }
   ],
   "source": [
    "plot_roc_cm(pred_ann36n_01_unisoftsigbinlosadam, pred_ann36n_01_unisoftsigbinlosadam, './Figures/ROC_ann36n_unisoftsigbinlosadam_redds10bal.png', './Figures/CM_ann36n_unisoftsigbinlosadam_redds10bal.png')"
   ]
  },
  {
   "cell_type": "code",
   "execution_count": null,
   "metadata": {},
   "outputs": [],
   "source": []
  },
  {
   "cell_type": "code",
   "execution_count": 126,
   "metadata": {},
   "outputs": [
    {
     "name": "stdout",
     "output_type": "stream",
     "text": [
      "_________________________________________________________________\n",
      "Layer (type)                 Output Shape              Param #   \n",
      "=================================================================\n",
      "dense_39 (Dense)             (None, 48)                1584      \n",
      "_________________________________________________________________\n",
      "dense_40 (Dense)             (None, 24)                1176      \n",
      "_________________________________________________________________\n",
      "batch_normalization_9 (Batch (None, 24)                96        \n",
      "_________________________________________________________________\n",
      "dropout_9 (Dropout)          (None, 24)                0         \n",
      "_________________________________________________________________\n",
      "dense_41 (Dense)             (None, 1)                 25        \n",
      "=================================================================\n",
      "Total params: 2,881\n",
      "Trainable params: 2,833\n",
      "Non-trainable params: 48\n",
      "_________________________________________________________________\n",
      "None\n"
     ]
    }
   ],
   "source": [
    "ann24n_unisoftsigbinlosadam = ann_1h_24n(neurons=48,\n",
    "                                      encoded_train_x=enc_train_x_asam,\n",
    "                                      init_mode='uniform',\n",
    "                                      activation_input='softsign',\n",
    "                                      weight_constraint=5,\n",
    "                                      dropout_rate=0.0,\n",
    "                                      activation_output='sigmoid',\n",
    "                                      loss='binary_crossentropy',\n",
    "                                      optimizer='Adam')"
   ]
  },
  {
   "cell_type": "code",
   "execution_count": 127,
   "metadata": {},
   "outputs": [
    {
     "name": "stdout",
     "output_type": "stream",
     "text": [
      "Thu Jun  6 21:16:36 2019\n",
      "Train on 233038 samples, validate on 58260 samples\n",
      "Epoch 1/200\n",
      "233038/233038 [==============================] - 22s 92us/step - loss: 0.5594 - acc: 0.6894 - val_loss: 0.5048 - val_acc: 0.7329\n",
      "Epoch 2/200\n",
      "233038/233038 [==============================] - 20s 88us/step - loss: 0.5025 - acc: 0.7381 - val_loss: 0.4814 - val_acc: 0.7521\n",
      "Epoch 3/200\n",
      "233038/233038 [==============================] - 20s 87us/step - loss: 0.4840 - acc: 0.7532 - val_loss: 0.4647 - val_acc: 0.7694\n",
      "Epoch 4/200\n",
      "233038/233038 [==============================] - 20s 87us/step - loss: 0.4704 - acc: 0.7627 - val_loss: 0.4571 - val_acc: 0.7754\n",
      "Epoch 5/200\n",
      "233038/233038 [==============================] - 20s 87us/step - loss: 0.4607 - acc: 0.7692 - val_loss: 0.4439 - val_acc: 0.7821\n",
      "Epoch 6/200\n",
      "233038/233038 [==============================] - 20s 86us/step - loss: 0.4502 - acc: 0.7743 - val_loss: 0.4452 - val_acc: 0.7722\n",
      "Epoch 7/200\n",
      "233038/233038 [==============================] - 20s 87us/step - loss: 0.4431 - acc: 0.7788 - val_loss: 0.4282 - val_acc: 0.7862\n",
      "Epoch 8/200\n",
      "233038/233038 [==============================] - 20s 86us/step - loss: 0.4356 - acc: 0.7829 - val_loss: 0.4131 - val_acc: 0.7934\n",
      "Epoch 9/200\n",
      "233038/233038 [==============================] - 20s 86us/step - loss: 0.4283 - acc: 0.7874 - val_loss: 0.4168 - val_acc: 0.7958\n",
      "Epoch 10/200\n",
      "233038/233038 [==============================] - 20s 85us/step - loss: 0.4222 - acc: 0.7915 - val_loss: 0.4093 - val_acc: 0.8009\n",
      "Epoch 11/200\n",
      "233038/233038 [==============================] - 20s 85us/step - loss: 0.4163 - acc: 0.7940 - val_loss: 0.4010 - val_acc: 0.8079\n",
      "Epoch 12/200\n",
      "233038/233038 [==============================] - 20s 85us/step - loss: 0.4120 - acc: 0.7966 - val_loss: 0.3930 - val_acc: 0.8072\n",
      "Epoch 13/200\n",
      "233038/233038 [==============================] - 20s 85us/step - loss: 0.4065 - acc: 0.7999 - val_loss: 0.3946 - val_acc: 0.8098\n",
      "Epoch 14/200\n",
      "233038/233038 [==============================] - 20s 84us/step - loss: 0.4021 - acc: 0.8018 - val_loss: 0.3861 - val_acc: 0.8093\n",
      "Epoch 15/200\n",
      "233038/233038 [==============================] - 19s 83us/step - loss: 0.3983 - acc: 0.8038 - val_loss: 0.3793 - val_acc: 0.8183\n",
      "Epoch 16/200\n",
      "233038/233038 [==============================] - 20s 84us/step - loss: 0.3940 - acc: 0.8067 - val_loss: 0.4005 - val_acc: 0.7993\n",
      "Epoch 17/200\n",
      "233038/233038 [==============================] - 19s 83us/step - loss: 0.3893 - acc: 0.8101 - val_loss: 0.3989 - val_acc: 0.8078\n",
      "Epoch 18/200\n",
      "233038/233038 [==============================] - 19s 82us/step - loss: 0.3859 - acc: 0.8123 - val_loss: 0.3788 - val_acc: 0.8222\n",
      "Epoch 19/200\n",
      "233038/233038 [==============================] - 19s 81us/step - loss: 0.3825 - acc: 0.8131 - val_loss: 0.3629 - val_acc: 0.8199\n",
      "Epoch 20/200\n",
      "233038/233038 [==============================] - 19s 81us/step - loss: 0.3785 - acc: 0.8164 - val_loss: 0.3689 - val_acc: 0.8251\n",
      "Epoch 21/200\n",
      "233038/233038 [==============================] - 19s 82us/step - loss: 0.3746 - acc: 0.8183 - val_loss: 0.3584 - val_acc: 0.8218\n",
      "Epoch 22/200\n",
      "233038/233038 [==============================] - 19s 81us/step - loss: 0.3727 - acc: 0.8203 - val_loss: 0.3562 - val_acc: 0.8297\n",
      "Epoch 23/200\n",
      "233038/233038 [==============================] - 19s 81us/step - loss: 0.3688 - acc: 0.8208 - val_loss: 0.3617 - val_acc: 0.8198\n",
      "Epoch 24/200\n",
      "233038/233038 [==============================] - 19s 81us/step - loss: 0.3673 - acc: 0.8233 - val_loss: 0.3633 - val_acc: 0.8266\n",
      "Epoch 25/200\n",
      "233038/233038 [==============================] - 20s 87us/step - loss: 0.3652 - acc: 0.8246 - val_loss: 0.3500 - val_acc: 0.8277\n",
      "Epoch 26/200\n",
      "233038/233038 [==============================] - 20s 86us/step - loss: 0.3629 - acc: 0.8243 - val_loss: 0.3435 - val_acc: 0.8354\n",
      "Epoch 27/200\n",
      "233038/233038 [==============================] - 20s 86us/step - loss: 0.3589 - acc: 0.8269 - val_loss: 0.3411 - val_acc: 0.8373\n",
      "Epoch 28/200\n",
      "233038/233038 [==============================] - 20s 87us/step - loss: 0.3573 - acc: 0.8292 - val_loss: 0.3403 - val_acc: 0.8361\n",
      "Epoch 29/200\n",
      "233038/233038 [==============================] - 20s 87us/step - loss: 0.3558 - acc: 0.8287 - val_loss: 0.3432 - val_acc: 0.8396\n",
      "Epoch 30/200\n",
      "233038/233038 [==============================] - 20s 87us/step - loss: 0.3538 - acc: 0.8297 - val_loss: 0.3349 - val_acc: 0.8444\n",
      "Epoch 31/200\n",
      "233038/233038 [==============================] - 20s 87us/step - loss: 0.3519 - acc: 0.8307 - val_loss: 0.3293 - val_acc: 0.8421\n",
      "Epoch 32/200\n",
      "233038/233038 [==============================] - 21s 90us/step - loss: 0.3494 - acc: 0.8328 - val_loss: 0.3317 - val_acc: 0.8449\n",
      "Epoch 33/200\n",
      "233038/233038 [==============================] - 21s 89us/step - loss: 0.3477 - acc: 0.8335 - val_loss: 0.3374 - val_acc: 0.8425\n",
      "Epoch 34/200\n",
      "233038/233038 [==============================] - 20s 86us/step - loss: 0.3475 - acc: 0.8342 - val_loss: 0.3347 - val_acc: 0.8426\n",
      "Epoch 35/200\n",
      "233038/233038 [==============================] - 21s 88us/step - loss: 0.3462 - acc: 0.8343 - val_loss: 0.3398 - val_acc: 0.8361\n",
      "Epoch 36/200\n",
      "233038/233038 [==============================] - 20s 84us/step - loss: 0.3443 - acc: 0.8354 - val_loss: 0.3215 - val_acc: 0.8443\n",
      "Epoch 37/200\n",
      "233038/233038 [==============================] - 22s 95us/step - loss: 0.3420 - acc: 0.8364 - val_loss: 0.3235 - val_acc: 0.8513\n",
      "Epoch 38/200\n",
      "233038/233038 [==============================] - 21s 91us/step - loss: 0.3406 - acc: 0.8370 - val_loss: 0.3335 - val_acc: 0.8390\n",
      "Epoch 39/200\n",
      "233038/233038 [==============================] - 19s 80us/step - loss: 0.3396 - acc: 0.8375 - val_loss: 0.3517 - val_acc: 0.8282\n",
      "Epoch 40/200\n",
      "233038/233038 [==============================] - 18s 78us/step - loss: 0.3381 - acc: 0.8387 - val_loss: 0.3294 - val_acc: 0.8396\n",
      "Epoch 41/200\n",
      "233038/233038 [==============================] - 18s 79us/step - loss: 0.3365 - acc: 0.8401 - val_loss: 0.3294 - val_acc: 0.8480\n",
      "--- ANN spent 815.0390737056732 seconds ---\n"
     ]
    }
   ],
   "source": [
    "hist_ann24n_unisoftsigbinlosadam = ann_fit(checkpoint_file = \"ann24n_unisoftsigbinlosadam_redds10bal.h5\",\n",
    "                                        ann = ann24n_unisoftsigbinlosadam,\n",
    "                                        enc_train_x = enc_train_x_asam,\n",
    "                                        train_y = train_y,\n",
    "                                        epochs = 200,\n",
    "                                        shuffle = True,\n",
    "                                        batch_size = 48)"
   ]
  },
  {
   "cell_type": "code",
   "execution_count": 128,
   "metadata": {},
   "outputs": [
    {
     "name": "stdout",
     "output_type": "stream",
     "text": [
      "Best loss value: 0.3364720415705681\n"
     ]
    },
    {
     "data": {
      "image/png": "[encoded data removed]",
      "text/plain": [
       "<Figure size 432x288 with 1 Axes>"
      ]
     },
     "metadata": {
      "needs_background": "light"
     },
     "output_type": "display_data"
    }
   ],
   "source": [
    "best_loss_value_ann24n_unisoftsigbinlosadam = plot_hist_auto(hist_ann24n_unisoftsigbinlosadam, './Figures/ann24_unisoftsigbinlosadam.png')"
   ]
  },
  {
   "cell_type": "code",
   "execution_count": 129,
   "metadata": {},
   "outputs": [
    {
     "name": "stdout",
     "output_type": "stream",
     "text": [
      "Overall accuracy of Neural Network model: 0.8494908327932242\n",
      "              precision    recall  f1-score   support\n",
      "\n",
      "           0       0.90      0.79      0.84     45805\n",
      "           1       0.81      0.91      0.86     45226\n",
      "\n",
      "   micro avg       0.85      0.85      0.85     91031\n",
      "   macro avg       0.85      0.85      0.85     91031\n",
      "weighted avg       0.86      0.85      0.85     91031\n",
      "\n"
     ]
    }
   ],
   "source": [
    "pred_ann24n_prob_unisoftsigbinlosadam, pred_ann24n_01_unisoftsigbinlosadam = ann_predict(ann24n_unisoftsigbinlosadam,enc_test_x_asam)"
   ]
  },
  {
   "cell_type": "code",
   "execution_count": 130,
   "metadata": {},
   "outputs": [
    {
     "data": {
      "image/png": "[encoded data removed]",
      "text/plain": [
       "<Figure size 432x288 with 1 Axes>"
      ]
     },
     "metadata": {
      "needs_background": "light"
     },
     "output_type": "display_data"
    },
    {
     "data": {
      "image/png": "[encoded data removed]",
      "text/plain": [
       "<Figure size 576x432 with 2 Axes>"
      ]
     },
     "metadata": {
      "needs_background": "light"
     },
     "output_type": "display_data"
    }
   ],
   "source": [
    "plot_roc_cm(pred_ann24n_01_unisoftsigbinlosadam, pred_ann24n_01_unisoftsigbinlosadam, './Figures/ROC_ann24n_unisoftsigbinlosadam_redds10bal.png', './Figures/CM_ann24n_unisoftsigbinlosadam_redds10bal.png')"
   ]
  },
  {
   "cell_type": "code",
   "execution_count": null,
   "metadata": {},
   "outputs": [],
   "source": []
  },
  {
   "cell_type": "markdown",
   "metadata": {},
   "source": [
    "#### >>>>>>>>>>>>>>> FOCUS <<<<<<<<<<<<<<<<"
   ]
  },
  {
   "cell_type": "code",
   "execution_count": 131,
   "metadata": {},
   "outputs": [
    {
     "name": "stdout",
     "output_type": "stream",
     "text": [
      "_________________________________________________________________\n",
      "Layer (type)                 Output Shape              Param #   \n",
      "=================================================================\n",
      "dense_42 (Dense)             (None, 48)                1584      \n",
      "_________________________________________________________________\n",
      "dense_43 (Dense)             (None, 36)                1764      \n",
      "_________________________________________________________________\n",
      "dense_44 (Dense)             (None, 24)                888       \n",
      "_________________________________________________________________\n",
      "batch_normalization_10 (Batc (None, 24)                96        \n",
      "_________________________________________________________________\n",
      "dropout_10 (Dropout)         (None, 24)                0         \n",
      "_________________________________________________________________\n",
      "dense_45 (Dense)             (None, 1)                 25        \n",
      "=================================================================\n",
      "Total params: 4,357\n",
      "Trainable params: 4,309\n",
      "Non-trainable params: 48\n",
      "_________________________________________________________________\n",
      "None\n"
     ]
    }
   ],
   "source": [
    "ann_2h_unisoftsigbinlosadam = ann_2h(neurons=48,\n",
    "                                      encoded_train_x=enc_train_x_asam,\n",
    "                                      init_mode='uniform',\n",
    "                                      activation_input='softsign',\n",
    "                                      weight_constraint=5,\n",
    "                                      dropout_rate=0.0,\n",
    "                                      activation_output='sigmoid',\n",
    "                                      loss='binary_crossentropy',\n",
    "                                      optimizer='Adam')"
   ]
  },
  {
   "cell_type": "code",
   "execution_count": 132,
   "metadata": {},
   "outputs": [
    {
     "name": "stdout",
     "output_type": "stream",
     "text": [
      "Thu Jun  6 21:30:15 2019\n",
      "Train on 233038 samples, validate on 58260 samples\n",
      "Epoch 1/200\n",
      "233038/233038 [==============================] - 24s 103us/step - loss: 0.5546 - acc: 0.6917 - val_loss: 0.4965 - val_acc: 0.7376\n",
      "Epoch 2/200\n",
      "233038/233038 [==============================] - 23s 97us/step - loss: 0.4710 - acc: 0.7543 - val_loss: 0.4499 - val_acc: 0.7708\n",
      "Epoch 3/200\n",
      "233038/233038 [==============================] - 23s 97us/step - loss: 0.4328 - acc: 0.7813 - val_loss: 0.4133 - val_acc: 0.7962\n",
      "Epoch 4/200\n",
      "233038/233038 [==============================] - 23s 97us/step - loss: 0.4072 - acc: 0.7976 - val_loss: 0.3809 - val_acc: 0.8153\n",
      "Epoch 5/200\n",
      "233038/233038 [==============================] - 23s 97us/step - loss: 0.3894 - acc: 0.8080 - val_loss: 0.3787 - val_acc: 0.8138\n",
      "Epoch 6/200\n",
      "233038/233038 [==============================] - 23s 97us/step - loss: 0.3772 - acc: 0.8158 - val_loss: 0.3640 - val_acc: 0.8246\n",
      "Epoch 7/200\n",
      "233038/233038 [==============================] - 22s 96us/step - loss: 0.3676 - acc: 0.8212 - val_loss: 0.3610 - val_acc: 0.8244\n",
      "Epoch 8/200\n",
      "233038/233038 [==============================] - 22s 96us/step - loss: 0.3595 - acc: 0.8257 - val_loss: 0.3417 - val_acc: 0.8334\n",
      "Epoch 9/200\n",
      "233038/233038 [==============================] - 22s 96us/step - loss: 0.3528 - acc: 0.8290 - val_loss: 0.3513 - val_acc: 0.8276\n",
      "Epoch 10/200\n",
      "233038/233038 [==============================] - 22s 95us/step - loss: 0.3461 - acc: 0.8330 - val_loss: 0.3372 - val_acc: 0.8357\n",
      "Epoch 11/200\n",
      "233038/233038 [==============================] - 22s 95us/step - loss: 0.3395 - acc: 0.8372 - val_loss: 0.3257 - val_acc: 0.8432\n",
      "Epoch 12/200\n",
      "233038/233038 [==============================] - 22s 95us/step - loss: 0.3353 - acc: 0.8388 - val_loss: 0.3235 - val_acc: 0.8408\n",
      "Epoch 13/200\n",
      "233038/233038 [==============================] - 22s 94us/step - loss: 0.3296 - acc: 0.8421 - val_loss: 0.3199 - val_acc: 0.8505\n",
      "Epoch 14/200\n",
      "233038/233038 [==============================] - 22s 94us/step - loss: 0.3257 - acc: 0.8438 - val_loss: 0.3048 - val_acc: 0.8527\n",
      "Epoch 15/200\n",
      "233038/233038 [==============================] - 22s 94us/step - loss: 0.3221 - acc: 0.8461 - val_loss: 0.3168 - val_acc: 0.8457\n",
      "Epoch 16/200\n",
      "233038/233038 [==============================] - 22s 94us/step - loss: 0.3154 - acc: 0.8499 - val_loss: 0.3126 - val_acc: 0.8571\n",
      "Epoch 17/200\n",
      "233038/233038 [==============================] - 22s 93us/step - loss: 0.3124 - acc: 0.8509 - val_loss: 0.2977 - val_acc: 0.8596\n",
      "Epoch 18/200\n",
      "233038/233038 [==============================] - 22s 93us/step - loss: 0.3089 - acc: 0.8534 - val_loss: 0.3116 - val_acc: 0.8462\n",
      "Epoch 19/200\n",
      "233038/233038 [==============================] - 22s 92us/step - loss: 0.3067 - acc: 0.8543 - val_loss: 0.2882 - val_acc: 0.8619\n",
      "Epoch 20/200\n",
      "233038/233038 [==============================] - 22s 96us/step - loss: 0.3042 - acc: 0.8556 - val_loss: 0.2771 - val_acc: 0.8669\n",
      "Epoch 21/200\n",
      "233038/233038 [==============================] - 22s 94us/step - loss: 0.3006 - acc: 0.8576 - val_loss: 0.2762 - val_acc: 0.8689\n",
      "Epoch 22/200\n",
      "233038/233038 [==============================] - 22s 92us/step - loss: 0.2980 - acc: 0.8580 - val_loss: 0.2749 - val_acc: 0.8688\n",
      "Epoch 23/200\n",
      "233038/233038 [==============================] - 22s 93us/step - loss: 0.2964 - acc: 0.8600 - val_loss: 0.2880 - val_acc: 0.8606\n",
      "Epoch 24/200\n",
      "233038/233038 [==============================] - 22s 95us/step - loss: 0.2940 - acc: 0.8605 - val_loss: 0.2833 - val_acc: 0.8576\n",
      "Epoch 25/200\n",
      "233038/233038 [==============================] - 22s 96us/step - loss: 0.2915 - acc: 0.8616 - val_loss: 0.2745 - val_acc: 0.8715\n",
      "Epoch 26/200\n",
      "233038/233038 [==============================] - 22s 93us/step - loss: 0.2901 - acc: 0.8627 - val_loss: 0.2706 - val_acc: 0.8700\n",
      "Epoch 27/200\n",
      "233038/233038 [==============================] - 22s 93us/step - loss: 0.2871 - acc: 0.8646 - val_loss: 0.2720 - val_acc: 0.8735\n",
      "Epoch 28/200\n",
      "233038/233038 [==============================] - 22s 93us/step - loss: 0.2864 - acc: 0.8644 - val_loss: 0.2682 - val_acc: 0.8751\n",
      "Epoch 29/200\n",
      "233038/233038 [==============================] - 22s 93us/step - loss: 0.2850 - acc: 0.8656 - val_loss: 0.2643 - val_acc: 0.8799\n",
      "Epoch 30/200\n",
      "233038/233038 [==============================] - 22s 93us/step - loss: 0.2834 - acc: 0.8666 - val_loss: 0.2657 - val_acc: 0.8773\n",
      "Epoch 31/200\n",
      "233038/233038 [==============================] - 22s 94us/step - loss: 0.2822 - acc: 0.8670 - val_loss: 0.2644 - val_acc: 0.8741\n",
      "Epoch 32/200\n",
      "233038/233038 [==============================] - 22s 93us/step - loss: 0.2793 - acc: 0.8680 - val_loss: 0.2687 - val_acc: 0.8776\n",
      "Epoch 33/200\n",
      "233038/233038 [==============================] - 22s 93us/step - loss: 0.2787 - acc: 0.8689 - val_loss: 0.2752 - val_acc: 0.8721\n",
      "Epoch 34/200\n",
      "233038/233038 [==============================] - 21s 91us/step - loss: 0.2783 - acc: 0.8681 - val_loss: 0.2577 - val_acc: 0.8816\n",
      "Epoch 35/200\n",
      "233038/233038 [==============================] - 21s 92us/step - loss: 0.2759 - acc: 0.8700 - val_loss: 0.2533 - val_acc: 0.8803\n",
      "Epoch 36/200\n",
      "233038/233038 [==============================] - 21s 90us/step - loss: 0.2752 - acc: 0.8705 - val_loss: 0.2641 - val_acc: 0.8762\n",
      "Epoch 37/200\n",
      "233038/233038 [==============================] - 21s 89us/step - loss: 0.2732 - acc: 0.8714 - val_loss: 0.2495 - val_acc: 0.8806\n",
      "Epoch 38/200\n",
      "233038/233038 [==============================] - 20s 88us/step - loss: 0.2727 - acc: 0.8713 - val_loss: 0.2678 - val_acc: 0.8704\n",
      "Epoch 39/200\n",
      "233038/233038 [==============================] - 20s 88us/step - loss: 0.2713 - acc: 0.8726 - val_loss: 0.2507 - val_acc: 0.8816\n",
      "Epoch 40/200\n",
      "233038/233038 [==============================] - 20s 88us/step - loss: 0.2703 - acc: 0.8728 - val_loss: 0.2518 - val_acc: 0.8857\n",
      "Epoch 41/200\n",
      "233038/233038 [==============================] - 20s 86us/step - loss: 0.2695 - acc: 0.8725 - val_loss: 0.2487 - val_acc: 0.8797\n",
      "Epoch 42/200\n",
      "233038/233038 [==============================] - 20s 86us/step - loss: 0.2679 - acc: 0.8747 - val_loss: 0.2488 - val_acc: 0.8853\n",
      "Epoch 43/200\n",
      "233038/233038 [==============================] - 20s 85us/step - loss: 0.2673 - acc: 0.8738 - val_loss: 0.2570 - val_acc: 0.8795\n",
      "Epoch 44/200\n",
      "233038/233038 [==============================] - 20s 85us/step - loss: 0.2658 - acc: 0.8752 - val_loss: 0.2616 - val_acc: 0.8769\n",
      "Epoch 45/200\n",
      "233038/233038 [==============================] - 21s 91us/step - loss: 0.2646 - acc: 0.8761 - val_loss: 0.2449 - val_acc: 0.8867\n",
      "Epoch 46/200\n",
      "233038/233038 [==============================] - 20s 84us/step - loss: 0.2642 - acc: 0.8754 - val_loss: 0.2427 - val_acc: 0.8865\n",
      "Epoch 47/200\n",
      "233038/233038 [==============================] - 20s 84us/step - loss: 0.2625 - acc: 0.8769 - val_loss: 0.2414 - val_acc: 0.8835\n",
      "Epoch 48/200\n",
      "233038/233038 [==============================] - 19s 84us/step - loss: 0.2627 - acc: 0.8768 - val_loss: 0.2389 - val_acc: 0.8859\n",
      "Epoch 49/200\n",
      "233038/233038 [==============================] - 20s 84us/step - loss: 0.2608 - acc: 0.8780 - val_loss: 0.2418 - val_acc: 0.8854\n",
      "Epoch 50/200\n",
      "233038/233038 [==============================] - 21s 88us/step - loss: 0.2596 - acc: 0.8783 - val_loss: 0.2466 - val_acc: 0.8879\n",
      "Epoch 51/200\n",
      "233038/233038 [==============================] - 21s 90us/step - loss: 0.2601 - acc: 0.8781 - val_loss: 0.2389 - val_acc: 0.8879\n",
      "Epoch 52/200\n",
      "233038/233038 [==============================] - 19s 83us/step - loss: 0.2597 - acc: 0.8784 - val_loss: 0.2470 - val_acc: 0.8881\n",
      "Epoch 53/200\n",
      "233038/233038 [==============================] - 19s 83us/step - loss: 0.2595 - acc: 0.8785 - val_loss: 0.2397 - val_acc: 0.8871\n",
      "Epoch 54/200\n",
      "233038/233038 [==============================] - 19s 83us/step - loss: 0.2568 - acc: 0.8796 - val_loss: 0.2388 - val_acc: 0.8877\n",
      "Epoch 55/200\n",
      "233038/233038 [==============================] - 19s 83us/step - loss: 0.2567 - acc: 0.8791 - val_loss: 0.2466 - val_acc: 0.8827\n",
      "Epoch 56/200\n",
      "233038/233038 [==============================] - 19s 83us/step - loss: 0.2563 - acc: 0.8800 - val_loss: 0.2340 - val_acc: 0.8875\n",
      "Epoch 57/200\n",
      "233038/233038 [==============================] - 19s 83us/step - loss: 0.2571 - acc: 0.8796 - val_loss: 0.2339 - val_acc: 0.8953\n",
      "Epoch 58/200\n",
      "233038/233038 [==============================] - 19s 83us/step - loss: 0.2552 - acc: 0.8800 - val_loss: 0.2461 - val_acc: 0.8824\n",
      "Epoch 59/200\n",
      "233038/233038 [==============================] - 19s 83us/step - loss: 0.2550 - acc: 0.8806 - val_loss: 0.2347 - val_acc: 0.8903\n",
      "Epoch 60/200\n",
      "233038/233038 [==============================] - 19s 83us/step - loss: 0.2535 - acc: 0.8812 - val_loss: 0.2347 - val_acc: 0.8957\n",
      "Epoch 61/200\n",
      "233038/233038 [==============================] - 19s 83us/step - loss: 0.2531 - acc: 0.8813 - val_loss: 0.2392 - val_acc: 0.8903\n",
      "Epoch 62/200\n",
      "233038/233038 [==============================] - 19s 83us/step - loss: 0.2538 - acc: 0.8813 - val_loss: 0.2361 - val_acc: 0.8910\n",
      "--- ANN spent 1307.5654802322388 seconds ---\n"
     ]
    }
   ],
   "source": [
    "hist_ann_2h_unisoftsigbinlosadam = ann_fit(checkpoint_file = \"ann_2h_unisoftsigbinlosadam_redds10bal.h5\",\n",
    "                                        ann = ann_2h_unisoftsigbinlosadam,\n",
    "                                        enc_train_x = enc_train_x_asam,\n",
    "                                        train_y = train_y,\n",
    "                                        epochs = 200,\n",
    "                                        shuffle = True,\n",
    "                                        batch_size = 48)"
   ]
  },
  {
   "cell_type": "code",
   "execution_count": 165,
   "metadata": {},
   "outputs": [],
   "source": [
    "hist_ann_2h_unisoftsigbinlosadam.model.weighted_metrics"
   ]
  },
  {
   "cell_type": "code",
   "execution_count": 133,
   "metadata": {},
   "outputs": [
    {
     "name": "stdout",
     "output_type": "stream",
     "text": [
      "Best loss value: 0.25381930234672767\n"
     ]
    },
    {
     "data": {
      "image/png": "[encoded data removed]",
      "text/plain": [
       "<Figure size 432x288 with 1 Axes>"
      ]
     },
     "metadata": {
      "needs_background": "light"
     },
     "output_type": "display_data"
    }
   ],
   "source": [
    "best_loss_value_ann_2h_unisoftsigbinlosadam = plot_hist_auto(hist_ann_2h_unisoftsigbinlosadam, './Figures/ann_2h_unisoftsigbinlosadam.png')"
   ]
  },
  {
   "cell_type": "code",
   "execution_count": 134,
   "metadata": {},
   "outputs": [
    {
     "name": "stdout",
     "output_type": "stream",
     "text": [
      "Overall accuracy of Neural Network model: 0.8905317968604102\n",
      "              precision    recall  f1-score   support\n",
      "\n",
      "           0       0.91      0.86      0.89     45805\n",
      "           1       0.87      0.92      0.89     45226\n",
      "\n",
      "   micro avg       0.89      0.89      0.89     91031\n",
      "   macro avg       0.89      0.89      0.89     91031\n",
      "weighted avg       0.89      0.89      0.89     91031\n",
      "\n"
     ]
    }
   ],
   "source": [
    "pred_ann_2h_prob_unisoftsigbinlosadam, pred_ann_2h_01_unisoftsigbinlosadam = ann_predict(ann_2h_unisoftsigbinlosadam,enc_test_x_asam)"
   ]
  },
  {
   "cell_type": "code",
   "execution_count": 135,
   "metadata": {},
   "outputs": [
    {
     "data": {
      "image/png": "[encoded data removed]",
      "text/plain": [
       "<Figure size 432x288 with 1 Axes>"
      ]
     },
     "metadata": {
      "needs_background": "light"
     },
     "output_type": "display_data"
    },
    {
     "data": {
      "image/png": "[encoded data removed]",
      "text/plain": [
       "<Figure size 576x432 with 2 Axes>"
      ]
     },
     "metadata": {
      "needs_background": "light"
     },
     "output_type": "display_data"
    }
   ],
   "source": [
    "plot_roc_cm(pred_ann_2h_01_unisoftsigbinlosadam, pred_ann_2h_01_unisoftsigbinlosadam, './Figures/ROC_ann_2h_unisoftsigbinlosadam_redds10bal.png', './Figures/CM_ann_2h_unisoftsigbinlosadam_redds10bal.png')"
   ]
  },
  {
   "cell_type": "code",
   "execution_count": null,
   "metadata": {},
   "outputs": [],
   "source": []
  },
  {
   "cell_type": "code",
   "execution_count": 131,
   "metadata": {},
   "outputs": [
    {
     "name": "stdout",
     "output_type": "stream",
     "text": [
      "_________________________________________________________________\n",
      "Layer (type)                 Output Shape              Param #   \n",
      "=================================================================\n",
      "dense_42 (Dense)             (None, 48)                1584      \n",
      "_________________________________________________________________\n",
      "dense_43 (Dense)             (None, 36)                1764      \n",
      "_________________________________________________________________\n",
      "dense_44 (Dense)             (None, 24)                888       \n",
      "_________________________________________________________________\n",
      "batch_normalization_10 (Batc (None, 24)                96        \n",
      "_________________________________________________________________\n",
      "dropout_10 (Dropout)         (None, 24)                0         \n",
      "_________________________________________________________________\n",
      "dense_45 (Dense)             (None, 1)                 25        \n",
      "=================================================================\n",
      "Total params: 4,357\n",
      "Trainable params: 4,309\n",
      "Non-trainable params: 48\n",
      "_________________________________________________________________\n",
      "None\n"
     ]
    }
   ],
   "source": [
    "ann_2h_unisoftsigbinlosadam = ann_2h(neurons=48,\n",
    "                                      encoded_train_x=enc_train_x_asam,\n",
    "                                      init_mode='uniform',\n",
    "                                      activation_input='softsign',\n",
    "                                      weight_constraint=5,\n",
    "                                      dropout_rate=0.0,\n",
    "                                      activation_output='sigmoid',\n",
    "                                      loss='binary_crossentropy',\n",
    "                                      optimizer='Adam')"
   ]
  },
  {
   "cell_type": "code",
   "execution_count": 132,
   "metadata": {},
   "outputs": [
    {
     "name": "stdout",
     "output_type": "stream",
     "text": [
      "Thu Jun  6 21:30:15 2019\n",
      "Train on 233038 samples, validate on 58260 samples\n",
      "Epoch 1/200\n",
      "233038/233038 [==============================] - 24s 103us/step - loss: 0.5546 - acc: 0.6917 - val_loss: 0.4965 - val_acc: 0.7376\n",
      "Epoch 2/200\n",
      "233038/233038 [==============================] - 23s 97us/step - loss: 0.4710 - acc: 0.7543 - val_loss: 0.4499 - val_acc: 0.7708\n",
      "Epoch 3/200\n",
      "233038/233038 [==============================] - 23s 97us/step - loss: 0.4328 - acc: 0.7813 - val_loss: 0.4133 - val_acc: 0.7962\n",
      "Epoch 4/200\n",
      "233038/233038 [==============================] - 23s 97us/step - loss: 0.4072 - acc: 0.7976 - val_loss: 0.3809 - val_acc: 0.8153\n",
      "Epoch 5/200\n",
      "233038/233038 [==============================] - 23s 97us/step - loss: 0.3894 - acc: 0.8080 - val_loss: 0.3787 - val_acc: 0.8138\n",
      "Epoch 6/200\n",
      "233038/233038 [==============================] - 23s 97us/step - loss: 0.3772 - acc: 0.8158 - val_loss: 0.3640 - val_acc: 0.8246\n",
      "Epoch 7/200\n",
      "233038/233038 [==============================] - 22s 96us/step - loss: 0.3676 - acc: 0.8212 - val_loss: 0.3610 - val_acc: 0.8244\n",
      "Epoch 8/200\n",
      "233038/233038 [==============================] - 22s 96us/step - loss: 0.3595 - acc: 0.8257 - val_loss: 0.3417 - val_acc: 0.8334\n",
      "Epoch 9/200\n",
      "233038/233038 [==============================] - 22s 96us/step - loss: 0.3528 - acc: 0.8290 - val_loss: 0.3513 - val_acc: 0.8276\n",
      "Epoch 10/200\n",
      "233038/233038 [==============================] - 22s 95us/step - loss: 0.3461 - acc: 0.8330 - val_loss: 0.3372 - val_acc: 0.8357\n",
      "Epoch 11/200\n",
      "233038/233038 [==============================] - 22s 95us/step - loss: 0.3395 - acc: 0.8372 - val_loss: 0.3257 - val_acc: 0.8432\n",
      "Epoch 12/200\n",
      "233038/233038 [==============================] - 22s 95us/step - loss: 0.3353 - acc: 0.8388 - val_loss: 0.3235 - val_acc: 0.8408\n",
      "Epoch 13/200\n",
      "233038/233038 [==============================] - 22s 94us/step - loss: 0.3296 - acc: 0.8421 - val_loss: 0.3199 - val_acc: 0.8505\n",
      "Epoch 14/200\n",
      "233038/233038 [==============================] - 22s 94us/step - loss: 0.3257 - acc: 0.8438 - val_loss: 0.3048 - val_acc: 0.8527\n",
      "Epoch 15/200\n",
      "233038/233038 [==============================] - 22s 94us/step - loss: 0.3221 - acc: 0.8461 - val_loss: 0.3168 - val_acc: 0.8457\n",
      "Epoch 16/200\n",
      "233038/233038 [==============================] - 22s 94us/step - loss: 0.3154 - acc: 0.8499 - val_loss: 0.3126 - val_acc: 0.8571\n",
      "Epoch 17/200\n",
      "233038/233038 [==============================] - 22s 93us/step - loss: 0.3124 - acc: 0.8509 - val_loss: 0.2977 - val_acc: 0.8596\n",
      "Epoch 18/200\n",
      "233038/233038 [==============================] - 22s 93us/step - loss: 0.3089 - acc: 0.8534 - val_loss: 0.3116 - val_acc: 0.8462\n",
      "Epoch 19/200\n",
      "233038/233038 [==============================] - 22s 92us/step - loss: 0.3067 - acc: 0.8543 - val_loss: 0.2882 - val_acc: 0.8619\n",
      "Epoch 20/200\n",
      "233038/233038 [==============================] - 22s 96us/step - loss: 0.3042 - acc: 0.8556 - val_loss: 0.2771 - val_acc: 0.8669\n",
      "Epoch 21/200\n",
      "233038/233038 [==============================] - 22s 94us/step - loss: 0.3006 - acc: 0.8576 - val_loss: 0.2762 - val_acc: 0.8689\n",
      "Epoch 22/200\n",
      "233038/233038 [==============================] - 22s 92us/step - loss: 0.2980 - acc: 0.8580 - val_loss: 0.2749 - val_acc: 0.8688\n",
      "Epoch 23/200\n",
      "233038/233038 [==============================] - 22s 93us/step - loss: 0.2964 - acc: 0.8600 - val_loss: 0.2880 - val_acc: 0.8606\n",
      "Epoch 24/200\n",
      "233038/233038 [==============================] - 22s 95us/step - loss: 0.2940 - acc: 0.8605 - val_loss: 0.2833 - val_acc: 0.8576\n",
      "Epoch 25/200\n",
      "233038/233038 [==============================] - 22s 96us/step - loss: 0.2915 - acc: 0.8616 - val_loss: 0.2745 - val_acc: 0.8715\n",
      "Epoch 26/200\n",
      "233038/233038 [==============================] - 22s 93us/step - loss: 0.2901 - acc: 0.8627 - val_loss: 0.2706 - val_acc: 0.8700\n",
      "Epoch 27/200\n",
      "233038/233038 [==============================] - 22s 93us/step - loss: 0.2871 - acc: 0.8646 - val_loss: 0.2720 - val_acc: 0.8735\n",
      "Epoch 28/200\n",
      "233038/233038 [==============================] - 22s 93us/step - loss: 0.2864 - acc: 0.8644 - val_loss: 0.2682 - val_acc: 0.8751\n",
      "Epoch 29/200\n",
      "233038/233038 [==============================] - 22s 93us/step - loss: 0.2850 - acc: 0.8656 - val_loss: 0.2643 - val_acc: 0.8799\n",
      "Epoch 30/200\n",
      "233038/233038 [==============================] - 22s 93us/step - loss: 0.2834 - acc: 0.8666 - val_loss: 0.2657 - val_acc: 0.8773\n",
      "Epoch 31/200\n",
      "233038/233038 [==============================] - 22s 94us/step - loss: 0.2822 - acc: 0.8670 - val_loss: 0.2644 - val_acc: 0.8741\n",
      "Epoch 32/200\n",
      "233038/233038 [==============================] - 22s 93us/step - loss: 0.2793 - acc: 0.8680 - val_loss: 0.2687 - val_acc: 0.8776\n",
      "Epoch 33/200\n",
      "233038/233038 [==============================] - 22s 93us/step - loss: 0.2787 - acc: 0.8689 - val_loss: 0.2752 - val_acc: 0.8721\n",
      "Epoch 34/200\n",
      "233038/233038 [==============================] - 21s 91us/step - loss: 0.2783 - acc: 0.8681 - val_loss: 0.2577 - val_acc: 0.8816\n",
      "Epoch 35/200\n",
      "233038/233038 [==============================] - 21s 92us/step - loss: 0.2759 - acc: 0.8700 - val_loss: 0.2533 - val_acc: 0.8803\n",
      "Epoch 36/200\n",
      "233038/233038 [==============================] - 21s 90us/step - loss: 0.2752 - acc: 0.8705 - val_loss: 0.2641 - val_acc: 0.8762\n",
      "Epoch 37/200\n",
      "233038/233038 [==============================] - 21s 89us/step - loss: 0.2732 - acc: 0.8714 - val_loss: 0.2495 - val_acc: 0.8806\n",
      "Epoch 38/200\n",
      "233038/233038 [==============================] - 20s 88us/step - loss: 0.2727 - acc: 0.8713 - val_loss: 0.2678 - val_acc: 0.8704\n",
      "Epoch 39/200\n",
      "233038/233038 [==============================] - 20s 88us/step - loss: 0.2713 - acc: 0.8726 - val_loss: 0.2507 - val_acc: 0.8816\n",
      "Epoch 40/200\n",
      "233038/233038 [==============================] - 20s 88us/step - loss: 0.2703 - acc: 0.8728 - val_loss: 0.2518 - val_acc: 0.8857\n",
      "Epoch 41/200\n",
      "233038/233038 [==============================] - 20s 86us/step - loss: 0.2695 - acc: 0.8725 - val_loss: 0.2487 - val_acc: 0.8797\n",
      "Epoch 42/200\n",
      "233038/233038 [==============================] - 20s 86us/step - loss: 0.2679 - acc: 0.8747 - val_loss: 0.2488 - val_acc: 0.8853\n",
      "Epoch 43/200\n",
      "233038/233038 [==============================] - 20s 85us/step - loss: 0.2673 - acc: 0.8738 - val_loss: 0.2570 - val_acc: 0.8795\n",
      "Epoch 44/200\n",
      "233038/233038 [==============================] - 20s 85us/step - loss: 0.2658 - acc: 0.8752 - val_loss: 0.2616 - val_acc: 0.8769\n",
      "Epoch 45/200\n",
      "233038/233038 [==============================] - 21s 91us/step - loss: 0.2646 - acc: 0.8761 - val_loss: 0.2449 - val_acc: 0.8867\n",
      "Epoch 46/200\n",
      "233038/233038 [==============================] - 20s 84us/step - loss: 0.2642 - acc: 0.8754 - val_loss: 0.2427 - val_acc: 0.8865\n",
      "Epoch 47/200\n",
      "233038/233038 [==============================] - 20s 84us/step - loss: 0.2625 - acc: 0.8769 - val_loss: 0.2414 - val_acc: 0.8835\n",
      "Epoch 48/200\n",
      "233038/233038 [==============================] - 19s 84us/step - loss: 0.2627 - acc: 0.8768 - val_loss: 0.2389 - val_acc: 0.8859\n",
      "Epoch 49/200\n",
      "233038/233038 [==============================] - 20s 84us/step - loss: 0.2608 - acc: 0.8780 - val_loss: 0.2418 - val_acc: 0.8854\n",
      "Epoch 50/200\n",
      "233038/233038 [==============================] - 21s 88us/step - loss: 0.2596 - acc: 0.8783 - val_loss: 0.2466 - val_acc: 0.8879\n",
      "Epoch 51/200\n",
      "233038/233038 [==============================] - 21s 90us/step - loss: 0.2601 - acc: 0.8781 - val_loss: 0.2389 - val_acc: 0.8879\n",
      "Epoch 52/200\n",
      "233038/233038 [==============================] - 19s 83us/step - loss: 0.2597 - acc: 0.8784 - val_loss: 0.2470 - val_acc: 0.8881\n",
      "Epoch 53/200\n",
      "233038/233038 [==============================] - 19s 83us/step - loss: 0.2595 - acc: 0.8785 - val_loss: 0.2397 - val_acc: 0.8871\n",
      "Epoch 54/200\n",
      "233038/233038 [==============================] - 19s 83us/step - loss: 0.2568 - acc: 0.8796 - val_loss: 0.2388 - val_acc: 0.8877\n",
      "Epoch 55/200\n",
      "233038/233038 [==============================] - 19s 83us/step - loss: 0.2567 - acc: 0.8791 - val_loss: 0.2466 - val_acc: 0.8827\n",
      "Epoch 56/200\n",
      "233038/233038 [==============================] - 19s 83us/step - loss: 0.2563 - acc: 0.8800 - val_loss: 0.2340 - val_acc: 0.8875\n",
      "Epoch 57/200\n",
      "233038/233038 [==============================] - 19s 83us/step - loss: 0.2571 - acc: 0.8796 - val_loss: 0.2339 - val_acc: 0.8953\n",
      "Epoch 58/200\n",
      "233038/233038 [==============================] - 19s 83us/step - loss: 0.2552 - acc: 0.8800 - val_loss: 0.2461 - val_acc: 0.8824\n",
      "Epoch 59/200\n",
      "233038/233038 [==============================] - 19s 83us/step - loss: 0.2550 - acc: 0.8806 - val_loss: 0.2347 - val_acc: 0.8903\n",
      "Epoch 60/200\n",
      "233038/233038 [==============================] - 19s 83us/step - loss: 0.2535 - acc: 0.8812 - val_loss: 0.2347 - val_acc: 0.8957\n",
      "Epoch 61/200\n",
      "233038/233038 [==============================] - 19s 83us/step - loss: 0.2531 - acc: 0.8813 - val_loss: 0.2392 - val_acc: 0.8903\n",
      "Epoch 62/200\n",
      "233038/233038 [==============================] - 19s 83us/step - loss: 0.2538 - acc: 0.8813 - val_loss: 0.2361 - val_acc: 0.8910\n",
      "--- ANN spent 1307.5654802322388 seconds ---\n"
     ]
    }
   ],
   "source": [
    "hist_ann_2h_unisoftsigbinlosadam = ann_fit(checkpoint_file = \"ann_2h_unisoftsigbinlosadam_redds10bal.h5\",\n",
    "                                        ann = ann_2h_unisoftsigbinlosadam,\n",
    "                                        enc_train_x = enc_train_x_asam,\n",
    "                                        train_y = train_y,\n",
    "                                        epochs = 200,\n",
    "                                        shuffle = True,\n",
    "                                        batch_size = 48)"
   ]
  },
  {
   "cell_type": "code",
   "execution_count": 133,
   "metadata": {},
   "outputs": [
    {
     "name": "stdout",
     "output_type": "stream",
     "text": [
      "Best loss value: 0.25381930234672767\n"
     ]
    },
    {
     "data": {
      "image/png": "[encoded data removed]",
      "text/plain": [
       "<Figure size 432x288 with 1 Axes>"
      ]
     },
     "metadata": {
      "needs_background": "light"
     },
     "output_type": "display_data"
    }
   ],
   "source": [
    "best_loss_value_ann_2h_unisoftsigbinlosadam = plot_hist_auto(hist_ann_2h_unisoftsigbinlosadam, './Figures/ann_2h_unisoftsigbinlosadam.png')"
   ]
  },
  {
   "cell_type": "code",
   "execution_count": 134,
   "metadata": {},
   "outputs": [
    {
     "name": "stdout",
     "output_type": "stream",
     "text": [
      "Overall accuracy of Neural Network model: 0.8905317968604102\n",
      "              precision    recall  f1-score   support\n",
      "\n",
      "           0       0.91      0.86      0.89     45805\n",
      "           1       0.87      0.92      0.89     45226\n",
      "\n",
      "   micro avg       0.89      0.89      0.89     91031\n",
      "   macro avg       0.89      0.89      0.89     91031\n",
      "weighted avg       0.89      0.89      0.89     91031\n",
      "\n"
     ]
    }
   ],
   "source": [
    "pred_ann_2h_prob_unisoftsigbinlosadam, pred_ann_2h_01_unisoftsigbinlosadam = ann_predict(ann_2h_unisoftsigbinlosadam,enc_test_x_asam)"
   ]
  },
  {
   "cell_type": "code",
   "execution_count": 135,
   "metadata": {},
   "outputs": [
    {
     "data": {
      "image/png": "[encoded data removed]",
      "text/plain": [
       "<Figure size 432x288 with 1 Axes>"
      ]
     },
     "metadata": {
      "needs_background": "light"
     },
     "output_type": "display_data"
    },
    {
     "data": {
      "image/png": "[encoded data removed]",
      "text/plain": [
       "<Figure size 576x432 with 2 Axes>"
      ]
     },
     "metadata": {
      "needs_background": "light"
     },
     "output_type": "display_data"
    }
   ],
   "source": [
    "plot_roc_cm(pred_ann_2h_01_unisoftsigbinlosadam, pred_ann_2h_01_unisoftsigbinlosadam, './Figures/ROC_ann_2h_unisoftsigbinlosadam_redds10bal.png', './Figures/CM_ann_2h_unisoftsigbinlosadam_redds10bal.png')"
   ]
  },
  {
   "cell_type": "code",
   "execution_count": null,
   "metadata": {},
   "outputs": [],
   "source": []
  },
  {
   "cell_type": "markdown",
   "metadata": {},
   "source": [
    "#### >>>>>>>>>>>>>>> FOCUS 2<<<<<<<<<<<<<<<<"
   ]
  },
  {
   "cell_type": "code",
   "execution_count": 155,
   "metadata": {},
   "outputs": [
    {
     "name": "stdout",
     "output_type": "stream",
     "text": [
      "_________________________________________________________________\n",
      "Layer (type)                 Output Shape              Param #   \n",
      "=================================================================\n",
      "dense_51 (Dense)             (None, 48)                1584      \n",
      "_________________________________________________________________\n",
      "dense_52 (Dense)             (None, 36)                1764      \n",
      "_________________________________________________________________\n",
      "dense_53 (Dense)             (None, 24)                888       \n",
      "_________________________________________________________________\n",
      "batch_normalization_12 (Batc (None, 24)                96        \n",
      "_________________________________________________________________\n",
      "dropout_12 (Dropout)         (None, 24)                0         \n",
      "_________________________________________________________________\n",
      "dense_54 (Dense)             (None, 1)                 25        \n",
      "=================================================================\n",
      "Total params: 4,357\n",
      "Trainable params: 4,309\n",
      "Non-trainable params: 48\n",
      "_________________________________________________________________\n",
      "None\n"
     ]
    }
   ],
   "source": [
    "ann_2h_unisoftsigbinlosadam2 = ann_2h(neurons=48,\n",
    "                                      encoded_train_x=enc_train_x_assal,\n",
    "                                      init_mode='uniform',\n",
    "                                      activation_input='softsign',\n",
    "                                      weight_constraint=5,\n",
    "                                      dropout_rate=0.0,\n",
    "                                      activation_output='sigmoid',\n",
    "                                      loss='binary_crossentropy',\n",
    "                                      optimizer='Adam')"
   ]
  },
  {
   "cell_type": "code",
   "execution_count": 160,
   "metadata": {},
   "outputs": [
    {
     "name": "stdout",
     "output_type": "stream",
     "text": [
      "Fri Jun  7 15:52:07 2019\n",
      "Train on 233038 samples, validate on 58260 samples\n",
      "Epoch 1/200\n",
      "233038/233038 [==============================] - 24s 104us/step - loss: 0.5788 - acc: 0.6739 - val_loss: 2.5271 - val_acc: 0.4982\n",
      "Epoch 2/200\n",
      "233038/233038 [==============================] - 24s 105us/step - loss: 0.5770 - acc: 0.6756 - val_loss: 3.2817 - val_acc: 0.5020\n",
      "Epoch 3/200\n",
      "233038/233038 [==============================] - 25s 106us/step - loss: 0.5741 - acc: 0.6774 - val_loss: 2.9851 - val_acc: 0.5020\n",
      "Epoch 4/200\n",
      "233038/233038 [==============================] - 25s 105us/step - loss: 0.5724 - acc: 0.6789 - val_loss: 8.0875 - val_acc: 0.4982\n",
      "Epoch 5/200\n",
      "233038/233038 [==============================] - 25s 108us/step - loss: 0.5698 - acc: 0.6816 - val_loss: 8.0875 - val_acc: 0.4982\n",
      "Epoch 6/200\n",
      "233038/233038 [==============================] - 25s 109us/step - loss: 0.5678 - acc: 0.6832 - val_loss: 8.0875 - val_acc: 0.4982\n",
      "--- ANN spent 148.3215992450714 seconds ---\n"
     ]
    }
   ],
   "source": [
    "hist_ann_2h_unisoftsigbinlosadam2 = ann_fit(checkpoint_file = \"ann_2h_unisoftsigbinlosadam2_redds10bal.h5\",\n",
    "                                        ann = ann_2h_unisoftsigbinlosadam2,\n",
    "                                        enc_train_x = enc_train_x_assal,\n",
    "                                        train_y = train_y,\n",
    "                                        epochs = 200,\n",
    "                                        shuffle = True,\n",
    "                                        batch_size = 48)"
   ]
  },
  {
   "cell_type": "code",
   "execution_count": 157,
   "metadata": {},
   "outputs": [
    {
     "name": "stdout",
     "output_type": "stream",
     "text": [
      "Best loss value: 0.580697788987807\n"
     ]
    },
    {
     "data": {
      "image/png": "[encoded data removed]",
      "text/plain": [
       "<Figure size 432x288 with 1 Axes>"
      ]
     },
     "metadata": {
      "needs_background": "light"
     },
     "output_type": "display_data"
    }
   ],
   "source": [
    "best_loss_value_ann_2h_unisoftsigbinlosadam2 = plot_hist_auto(hist_ann_2h_unisoftsigbinlosadam2, './Figures/ann_2h_unisoftsigbinlosadam2.png')"
   ]
  },
  {
   "cell_type": "code",
   "execution_count": 158,
   "metadata": {},
   "outputs": [
    {
     "name": "stdout",
     "output_type": "stream",
     "text": [
      "Overall accuracy of Neural Network model: 0.571266931045468\n",
      "              precision    recall  f1-score   support\n",
      "\n",
      "           0       1.00      0.15      0.26     45805\n",
      "           1       0.54      1.00      0.70     45226\n",
      "\n",
      "   micro avg       0.57      0.57      0.57     91031\n",
      "   macro avg       0.77      0.57      0.48     91031\n",
      "weighted avg       0.77      0.57      0.48     91031\n",
      "\n"
     ]
    }
   ],
   "source": [
    "pred_ann_2h_prob_unisoftsigbinlosadam2, pred_ann_2h_01_unisoftsigbinlosadam2 = ann_predict(ann_2h_unisoftsigbinlosadam2,enc_test_x_assal)"
   ]
  },
  {
   "cell_type": "code",
   "execution_count": 159,
   "metadata": {},
   "outputs": [
    {
     "data": {
      "image/png": "[encoded data removed]",
      "text/plain": [
       "<Figure size 432x288 with 1 Axes>"
      ]
     },
     "metadata": {
      "needs_background": "light"
     },
     "output_type": "display_data"
    },
    {
     "data": {
      "image/png": "[encoded data removed]",
      "text/plain": [
       "<Figure size 576x432 with 2 Axes>"
      ]
     },
     "metadata": {
      "needs_background": "light"
     },
     "output_type": "display_data"
    }
   ],
   "source": [
    "plot_roc_cm(pred_ann_2h_01_unisoftsigbinlosadam2, pred_ann_2h_01_unisoftsigbinlosadam2, './Figures/ROC_ann_2h_unisoftsigbinlosadam2_redds10bal.png', './Figures/CM_ann_2h_unisoftsigbinlosadam2_redds10bal.png')"
   ]
  },
  {
   "cell_type": "code",
   "execution_count": null,
   "metadata": {},
   "outputs": [],
   "source": []
  },
  {
   "cell_type": "code",
   "execution_count": 81,
   "metadata": {},
   "outputs": [
    {
     "name": "stdout",
     "output_type": "stream",
     "text": [
      "_________________________________________________________________\n",
      "Layer (type)                 Output Shape              Param #   \n",
      "=================================================================\n",
      "dense_23 (Dense)             (None, 48)                2352      \n",
      "_________________________________________________________________\n",
      "dense_24 (Dense)             (None, 24)                1176      \n",
      "_________________________________________________________________\n",
      "batch_normalization_4 (Batch (None, 24)                96        \n",
      "_________________________________________________________________\n",
      "dropout_4 (Dropout)          (None, 24)                0         \n",
      "_________________________________________________________________\n",
      "dense_25 (Dense)             (None, 1)                 25        \n",
      "=================================================================\n",
      "Total params: 3,649\n",
      "Trainable params: 3,601\n",
      "Non-trainable params: 48\n",
      "_________________________________________________________________\n",
      "None\n"
     ]
    }
   ],
   "source": [
    "ann_24n_unisoftsigbinlosadam = ann_1h_24n(neurons=48,\n",
    "                                      encoded_train_x=train_x,\n",
    "                                      init_mode='uniform',\n",
    "                                      activation_input='softsign',\n",
    "                                      weight_constraint=5,\n",
    "                                      dropout_rate=0.0,\n",
    "                                      activation_output='sigmoid',\n",
    "                                      loss='binary_crossentropy',\n",
    "                                      optimizer='Adam')"
   ]
  },
  {
   "cell_type": "code",
   "execution_count": 82,
   "metadata": {},
   "outputs": [
    {
     "name": "stdout",
     "output_type": "stream",
     "text": [
      "Thu Jun  6 16:19:19 2019\n",
      "Train on 233038 samples, validate on 58260 samples\n",
      "Epoch 1/200\n",
      "233038/233038 [==============================] - 20s 86us/step - loss: 0.5200 - acc: 0.7185 - val_loss: 0.4649 - val_acc: 0.7616\n",
      "Epoch 2/200\n",
      "233038/233038 [==============================] - 19s 83us/step - loss: 0.4412 - acc: 0.7772 - val_loss: 0.4013 - val_acc: 0.8051\n",
      "Epoch 3/200\n",
      "233038/233038 [==============================] - 20s 84us/step - loss: 0.3995 - acc: 0.8025 - val_loss: 0.3782 - val_acc: 0.8150\n",
      "Epoch 4/200\n",
      "233038/233038 [==============================] - 20s 85us/step - loss: 0.3726 - acc: 0.8169 - val_loss: 0.3457 - val_acc: 0.8401\n",
      "Epoch 5/200\n",
      "233038/233038 [==============================] - 20s 85us/step - loss: 0.3544 - acc: 0.8275 - val_loss: 0.3181 - val_acc: 0.8445\n",
      "Epoch 6/200\n",
      "233038/233038 [==============================] - 20s 85us/step - loss: 0.3380 - acc: 0.8362 - val_loss: 0.3292 - val_acc: 0.8413\n",
      "Epoch 7/200\n",
      "233038/233038 [==============================] - 20s 86us/step - loss: 0.3268 - acc: 0.8430 - val_loss: 0.2991 - val_acc: 0.8596\n",
      "Epoch 8/200\n",
      "233038/233038 [==============================] - 20s 86us/step - loss: 0.3156 - acc: 0.8486 - val_loss: 0.2919 - val_acc: 0.8616\n",
      "Epoch 9/200\n",
      "233038/233038 [==============================] - 20s 86us/step - loss: 0.3076 - acc: 0.8533 - val_loss: 0.2863 - val_acc: 0.8650\n",
      "Epoch 10/200\n",
      "233038/233038 [==============================] - 20s 87us/step - loss: 0.3014 - acc: 0.8564 - val_loss: 0.2898 - val_acc: 0.8560\n",
      "Epoch 11/200\n",
      "233038/233038 [==============================] - 20s 87us/step - loss: 0.2946 - acc: 0.8596 - val_loss: 0.2734 - val_acc: 0.8704\n",
      "Epoch 12/200\n",
      "233038/233038 [==============================] - 20s 85us/step - loss: 0.2888 - acc: 0.8625 - val_loss: 0.2826 - val_acc: 0.8643\n",
      "Epoch 13/200\n",
      "233038/233038 [==============================] - 20s 86us/step - loss: 0.2851 - acc: 0.8652 - val_loss: 0.2739 - val_acc: 0.8722\n",
      "Epoch 14/200\n",
      "233038/233038 [==============================] - 20s 86us/step - loss: 0.2814 - acc: 0.8667 - val_loss: 0.2655 - val_acc: 0.8725\n",
      "Epoch 15/200\n",
      "233038/233038 [==============================] - 20s 86us/step - loss: 0.2756 - acc: 0.8698 - val_loss: 0.2883 - val_acc: 0.8628\n",
      "Epoch 16/200\n",
      "233038/233038 [==============================] - 20s 85us/step - loss: 0.2702 - acc: 0.8725 - val_loss: 0.2585 - val_acc: 0.8795\n",
      "Epoch 17/200\n",
      "233038/233038 [==============================] - 20s 86us/step - loss: 0.2685 - acc: 0.8734 - val_loss: 0.2406 - val_acc: 0.8895\n",
      "Epoch 18/200\n",
      "233038/233038 [==============================] - 20s 87us/step - loss: 0.2664 - acc: 0.8754 - val_loss: 0.2396 - val_acc: 0.8911\n",
      "Epoch 19/200\n",
      "233038/233038 [==============================] - 20s 87us/step - loss: 0.2624 - acc: 0.8767 - val_loss: 0.2518 - val_acc: 0.8850\n",
      "Epoch 20/200\n",
      "233038/233038 [==============================] - 20s 86us/step - loss: 0.2594 - acc: 0.8784 - val_loss: 0.2448 - val_acc: 0.8869\n",
      "Epoch 21/200\n",
      "233038/233038 [==============================] - 20s 85us/step - loss: 0.2557 - acc: 0.8802 - val_loss: 0.2367 - val_acc: 0.8896\n",
      "Epoch 22/200\n",
      "233038/233038 [==============================] - 20s 85us/step - loss: 0.2547 - acc: 0.8809 - val_loss: 0.2397 - val_acc: 0.8886\n",
      "Epoch 23/200\n",
      "233038/233038 [==============================] - 20s 85us/step - loss: 0.2524 - acc: 0.8825 - val_loss: 0.2342 - val_acc: 0.8930\n",
      "Epoch 24/200\n",
      "233038/233038 [==============================] - 20s 86us/step - loss: 0.2498 - acc: 0.8838 - val_loss: 0.2323 - val_acc: 0.8920\n",
      "Epoch 25/200\n",
      "233038/233038 [==============================] - 20s 85us/step - loss: 0.2488 - acc: 0.8844 - val_loss: 0.2304 - val_acc: 0.8970\n",
      "Epoch 26/200\n",
      "233038/233038 [==============================] - 20s 85us/step - loss: 0.2469 - acc: 0.8856 - val_loss: 0.2246 - val_acc: 0.9012\n",
      "Epoch 27/200\n",
      "233038/233038 [==============================] - 20s 86us/step - loss: 0.2441 - acc: 0.8873 - val_loss: 0.2290 - val_acc: 0.8939\n",
      "Epoch 28/200\n",
      "233038/233038 [==============================] - 20s 85us/step - loss: 0.2435 - acc: 0.8874 - val_loss: 0.2184 - val_acc: 0.9007\n",
      "Epoch 29/200\n",
      "233038/233038 [==============================] - 20s 85us/step - loss: 0.2402 - acc: 0.8896 - val_loss: 0.2391 - val_acc: 0.8906\n",
      "Epoch 30/200\n",
      "233038/233038 [==============================] - 20s 86us/step - loss: 0.2391 - acc: 0.8895 - val_loss: 0.2225 - val_acc: 0.8953\n",
      "Epoch 31/200\n",
      "233038/233038 [==============================] - 20s 86us/step - loss: 0.2363 - acc: 0.8909 - val_loss: 0.2206 - val_acc: 0.9020\n",
      "Epoch 32/200\n",
      "233038/233038 [==============================] - 20s 87us/step - loss: 0.2363 - acc: 0.8914 - val_loss: 0.2233 - val_acc: 0.8971\n",
      "Epoch 33/200\n",
      "233038/233038 [==============================] - 20s 87us/step - loss: 0.2349 - acc: 0.8923 - val_loss: 0.2212 - val_acc: 0.8991\n",
      "--- ANN spent 659.0182974338531 seconds ---\n"
     ]
    }
   ],
   "source": [
    "hist_ann_24n_unisoftsigbinlosadam = ann_fit(checkpoint_file = \"ann_24n_unisoftsigbinlosadam_redds10bal.h5\",\n",
    "                                        ann = ann_24n_unisoftsigbinlosadam,\n",
    "                                        enc_train_x = train_x,\n",
    "                                        train_y = train_y,\n",
    "                                        epochs = 200,\n",
    "                                        shuffle = True,\n",
    "                                        batch_size = 48)"
   ]
  },
  {
   "cell_type": "code",
   "execution_count": 83,
   "metadata": {},
   "outputs": [
    {
     "name": "stdout",
     "output_type": "stream",
     "text": [
      "Best loss value: 0.23489789965443933\n"
     ]
    },
    {
     "data": {
      "image/png": "[encoded data removed]",
      "text/plain": [
       "<Figure size 432x288 with 1 Axes>"
      ]
     },
     "metadata": {
      "needs_background": "light"
     },
     "output_type": "display_data"
    }
   ],
   "source": [
    "best_loss_value_ann_24n_unisoftsigbinlosadam = plot_hist_auto(hist_ann_24n_unisoftsigbinlosadam, './Figures/ann_24_unisoftsigbinlosadam.png')"
   ]
  },
  {
   "cell_type": "code",
   "execution_count": 84,
   "metadata": {},
   "outputs": [
    {
     "name": "stdout",
     "output_type": "stream",
     "text": [
      "Overall accuracy of Neural Network model: 0.9010007579835441\n",
      "              precision    recall  f1-score   support\n",
      "\n",
      "           0       0.92      0.88      0.90     45805\n",
      "           1       0.88      0.92      0.90     45226\n",
      "\n",
      "   micro avg       0.90      0.90      0.90     91031\n",
      "   macro avg       0.90      0.90      0.90     91031\n",
      "weighted avg       0.90      0.90      0.90     91031\n",
      "\n"
     ]
    }
   ],
   "source": [
    "pred_ann_24n_prob_unisoftsigbinlosadam, pred_ann_24n_01_unisoftsigbinlosadam = ann_predict(ann_24n_unisoftsigbinlosadam,test_x)"
   ]
  },
  {
   "cell_type": "code",
   "execution_count": 85,
   "metadata": {},
   "outputs": [
    {
     "data": {
      "image/png": "[encoded data removed]",
      "text/plain": [
       "<Figure size 432x288 with 1 Axes>"
      ]
     },
     "metadata": {
      "needs_background": "light"
     },
     "output_type": "display_data"
    },
    {
     "data": {
      "image/png": "[encoded data removed]",
      "text/plain": [
       "<Figure size 576x432 with 2 Axes>"
      ]
     },
     "metadata": {
      "needs_background": "light"
     },
     "output_type": "display_data"
    }
   ],
   "source": [
    "plot_roc_cm(pred_ann_24n_01_unisoftsigbinlosadam, pred_ann_24n_01_unisoftsigbinlosadam, './Figures/ROC_ann_24n_unisoftsigbinlosadam_redds10bal.png', './Figures/CM_ann_24n_unisoftsigbinlosadam_redds10bal.png')"
   ]
  },
  {
   "cell_type": "code",
   "execution_count": 86,
   "metadata": {},
   "outputs": [],
   "source": [
    "from sklearn.ensemble import RandomForestClassifier"
   ]
  },
  {
   "cell_type": "code",
   "execution_count": 87,
   "metadata": {},
   "outputs": [],
   "source": [
    "clf = RandomForestClassifier(n_estimators=300, \n",
    "                             criterion='gini', \n",
    "                             max_depth=16, \n",
    "#                              min_samples_split=2, \n",
    "                             #min_samples_leaf=1, \n",
    "                             max_features=0.3, \n",
    "                             #bootstrap=True,\n",
    "                             oob_score=True,\n",
    "                             random_state=23)  "
   ]
  },
  {
   "cell_type": "code",
   "execution_count": 88,
   "metadata": {},
   "outputs": [
    {
     "name": "stdout",
     "output_type": "stream",
     "text": [
      "Thu Jun  6 16:30:21 2019\n",
      "--- 1587.528024673462 seconds ---\n",
      "              precision    recall  f1-score   support\n",
      "\n",
      "           0     0.9987    0.9819    0.9903     45805\n",
      "           1     0.9820    0.9987    0.9903     45226\n",
      "\n",
      "   micro avg     0.9903    0.9903    0.9903     91031\n",
      "   macro avg     0.9904    0.9903    0.9903     91031\n",
      "weighted avg     0.9904    0.9903    0.9903     91031\n",
      "\n"
     ]
    }
   ],
   "source": [
    "start_time = time.time()\n",
    "print(time.ctime(start_time))\n",
    "\n",
    "clf.fit(enc_train_x_aslal, train_y)\n",
    "\n",
    "pred_y_RF = cross_val_predict(estimator=clf,\n",
    "                              X=np.array(enc_test_x_aslal),\n",
    "                              y=test_y,\n",
    "                              cv=KFold(n_splits=10, random_state=23),\n",
    "                              n_jobs=2)\n",
    "\n",
    "elapsed_time = (time.time() - start_time)\n",
    "print(\"--- %s seconds ---\" %elapsed_time)\n",
    "\n",
    "print(sm.classification_report(test_y, pred_y_RF,digits=4))"
   ]
  },
  {
   "cell_type": "code",
   "execution_count": 89,
   "metadata": {},
   "outputs": [
    {
     "data": {
      "image/png": "[encoded data removed]",
      "text/plain": [
       "<Figure size 432x288 with 1 Axes>"
      ]
     },
     "metadata": {
      "needs_background": "light"
     },
     "output_type": "display_data"
    },
    {
     "data": {
      "image/png": "[encoded data removed]",
      "text/plain": [
       "<Figure size 576x432 with 2 Axes>"
      ]
     },
     "metadata": {
      "needs_background": "light"
     },
     "output_type": "display_data"
    }
   ],
   "source": [
    "plot_roc_cm(pred_y_RF, pred_y_RF, './Figures/ROC_rf_E100MaxfautoMaxdnoneBootT_redds10bal.png', './Figures/CM_rf_E100MaxfautoMaxdnoneBootT_redds10bal.png')"
   ]
  },
  {
   "cell_type": "code",
   "execution_count": null,
   "metadata": {},
   "outputs": [],
   "source": []
  },
  {
   "cell_type": "code",
   "execution_count": null,
   "metadata": {},
   "outputs": [],
   "source": []
  },
  {
   "cell_type": "code",
   "execution_count": null,
   "metadata": {},
   "outputs": [],
   "source": []
  }
 ],
 "metadata": {
  "kernelspec": {
   "display_name": "Python 3",
   "language": "python",
   "name": "python3"
  },
  "language_info": {
   "codemirror_mode": {
    "name": "ipython",
    "version": 3
   },
   "file_extension": ".py",
   "mimetype": "text/x-python",
   "name": "python",
   "nbconvert_exporter": "python",
   "pygments_lexer": "ipython3",
   "version": "3.6.8"
  }
 },
 "nbformat": 4,
 "nbformat_minor": 2
}
