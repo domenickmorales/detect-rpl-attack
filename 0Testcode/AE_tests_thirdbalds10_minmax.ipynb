{
 "cells": [
  {
   "cell_type": "code",
   "execution_count": 1,
   "metadata": {},
   "outputs": [],
   "source": [
    "import os\n",
    "os.environ[\"CUDA_DEVICE_ORDER\"]=\"PCI_BUS_ID\"\n",
    "os.environ[\"CUDA_VISIBLE_DEVICES\"]=\"0\""
   ]
  },
  {
   "cell_type": "code",
   "execution_count": 2,
   "metadata": {},
   "outputs": [
    {
     "name": "stderr",
     "output_type": "stream",
     "text": [
      "Using TensorFlow backend.\n"
     ]
    }
   ],
   "source": [
    "###################################\n",
    "# TensorFlow wizardry\n",
    "import tensorflow as tf\n",
    "config = tf.ConfigProto()\n",
    " \n",
    "# Don’t pre-allocate memory; allocate as-needed\n",
    "config.gpu_options.allow_growth = True\n",
    " \n",
    "# Only allow a total of half the GPU memory to be allocated\n",
    "config.gpu_options.per_process_gpu_memory_fraction = 0.05\n",
    "#gpu_options = tf.GPUOptions(per_process_gpu_memory_fraction=0.333)\n",
    " \n",
    "# Create a session with the above options specified.\n",
    "from keras import optimizers, regularizers\n",
    "from keras.layers.normalization import BatchNormalization\n",
    "from keras.utils import to_categorical\n",
    "from keras.wrappers.scikit_learn import KerasClassifier\n",
    "from keras import optimizers\n",
    "from keras.constraints import maxnorm\n",
    "from keras.callbacks import ModelCheckpoint, TensorBoard, EarlyStopping\n",
    "\n",
    "from keras.models import Sequential, Model, load_model\n",
    "from keras.layers import Activation, Dense, Dropout, Input\n",
    "from keras import backend as k\n",
    "\n",
    "k.tensorflow_backend.set_session(tf.Session(config=config))\n",
    "#k.tensorflow_backend.set_session(tf.Session(config=tf.ConfigProto(gpu_options=gpu_options))\n",
    "###################################"
   ]
  },
  {
   "cell_type": "code",
   "execution_count": 3,
   "metadata": {},
   "outputs": [],
   "source": [
    "#----------------------------------Import modules------------------------------\n",
    "import numpy as np\n",
    "import pandas as pd\n",
    "import matplotlib.pyplot as plt\n",
    "import seaborn as sns\n",
    "from sklearn.model_selection import train_test_split\n",
    "from sklearn.metrics import confusion_matrix,accuracy_score, roc_curve, auc\n",
    "from sklearn import preprocessing\n",
    "sns.set_style(\"whitegrid\")\n",
    "np.random.seed(23)\n",
    "import time\n",
    "from sklearn.model_selection import GridSearchCV\n",
    "import sklearn.metrics as sm\n",
    "from sklearn.model_selection import KFold\n",
    "from sklearn.model_selection import cross_val_predict\n"
   ]
  },
  {
   "cell_type": "code",
   "execution_count": 4,
   "metadata": {},
   "outputs": [
    {
     "name": "stdout",
     "output_type": "stream",
     "text": [
      "Default GPU Device: /device:GPU:0\n"
     ]
    }
   ],
   "source": [
    "if tf.test.gpu_device_name():\n",
    "    print('Default GPU Device: {}'.format(tf.test.gpu_device_name()))\n",
    "else:\n",
    "    print(\"Please install GPU version of TF\")"
   ]
  },
  {
   "cell_type": "code",
   "execution_count": 5,
   "metadata": {},
   "outputs": [],
   "source": [
    "pathds = '/home/user/01Code/00Datasets_final/'"
   ]
  },
  {
   "cell_type": "code",
   "execution_count": 6,
   "metadata": {},
   "outputs": [],
   "source": [
    "#df_chunk = pd.read_csv(pathds+'SubsetAllSamples/ThirdCloneID10bal_minmax.csv', chunksize=1000)\n",
    "#df = df_chunk.get_chunk(300000)\n",
    "df = pd.read_csv(pathds+'SubsetAllSamples/ThirdCloneID10bal_minmax.csv')"
   ]
  },
  {
   "cell_type": "code",
   "execution_count": 7,
   "metadata": {},
   "outputs": [
    {
     "data": {
      "text/plain": [
       "(455154, 49)"
      ]
     },
     "execution_count": 7,
     "metadata": {},
     "output_type": "execute_result"
    }
   ],
   "source": [
    "df.shape"
   ]
  },
  {
   "cell_type": "markdown",
   "metadata": {},
   "source": [
    "#### 4.2 Explaining the data"
   ]
  },
  {
   "cell_type": "code",
   "execution_count": 8,
   "metadata": {},
   "outputs": [
    {
     "name": "stdout",
     "output_type": "stream",
     "text": [
      "Class 0: 227577\n",
      "Class 1: 227577\n",
      "Proportion: 1.0 : 1\n"
     ]
    }
   ],
   "source": [
    "#if you don't have an intuitive sense of how imbalanced these two classes are, let's go visual\n",
    "count_classes = pd.value_counts(df['class'], sort = True)\n",
    "print('Class 0:', count_classes[0])\n",
    "print('Class 1:', count_classes[1])\n",
    "print('Proportion:', round(count_classes[0] / count_classes[1], 3), ': 1')"
   ]
  },
  {
   "cell_type": "code",
   "execution_count": 9,
   "metadata": {},
   "outputs": [
    {
     "data": {
      "image/png": "[encoded data removed]",
      "text/plain": [
       "<Figure size 432x288 with 1 Axes>"
      ]
     },
     "metadata": {
      "needs_background": "light"
     },
     "output_type": "display_data"
    }
   ],
   "source": [
    "count_classes.plot(kind = 'bar', rot=0)\n",
    "plt.xticks(range(2), ['Normal [0]','Malicious [1]'])\n",
    "plt.title(\"Frequency by observation number\")\n",
    "plt.xlabel(\"Class\")\n",
    "plt.ylabel(\"Number of Observations\");"
   ]
  },
  {
   "cell_type": "code",
   "execution_count": 10,
   "metadata": {},
   "outputs": [],
   "source": [
    "#set random seed and percentage of test data\n",
    "RANDOM_SEED = 23 #used to help randomly select the data points\n",
    "TEST_PCT = 0.20 # 20% of the data"
   ]
  },
  {
   "cell_type": "code",
   "execution_count": 11,
   "metadata": {},
   "outputs": [],
   "source": [
    "train, test_df = train_test_split(df, test_size=TEST_PCT, random_state=RANDOM_SEED)"
   ]
  },
  {
   "cell_type": "markdown",
   "metadata": {},
   "source": [
    "+ df -> original dataset \n",
    "+ train -> subset of 80% from original dataset \n",
    "+ test_df -> subset of 20% from original dataset "
   ]
  },
  {
   "cell_type": "code",
   "execution_count": 12,
   "metadata": {},
   "outputs": [],
   "source": [
    "train_df, dev_df = train_test_split(train, test_size=TEST_PCT, random_state=RANDOM_SEED)"
   ]
  },
  {
   "cell_type": "markdown",
   "metadata": {},
   "source": [
    "+ train -> subset of 80% from original dataset \n",
    "+ train_df -> subset of 80% from train\n",
    "+ dev_df -> subset of 20% from train"
   ]
  },
  {
   "cell_type": "code",
   "execution_count": 13,
   "metadata": {},
   "outputs": [
    {
     "name": "stdout",
     "output_type": "stream",
     "text": [
      "0.5006728504830106\n",
      "0.5012838997596979\n",
      "0.4968197646955433\n"
     ]
    }
   ],
   "source": [
    "# Check distribution of mal samples in train and test set\n",
    "print(train_df.iloc[:, 48].sum()/train_df.shape[0]) \n",
    "print(dev_df.iloc[:, 48].sum()/dev_df.shape[0]) \n",
    "print(test_df.iloc[:, 48].sum()/test_df.shape[0])"
   ]
  },
  {
   "cell_type": "code",
   "execution_count": 14,
   "metadata": {},
   "outputs": [],
   "source": [
    "train_x = train_df.iloc[:, :48] \n",
    "dev_x = dev_df.iloc[:, :48] \n",
    "test_x = test_df.iloc[:, :48] "
   ]
  },
  {
   "cell_type": "markdown",
   "metadata": {},
   "source": [
    "+ train_x -> features of train_df **Training subset for AE**\n",
    "+ dev_x -> features of dev_df **Validation subset for AE**\n",
    "+ test_x -> features of test_df **Testing subset for ANN**"
   ]
  },
  {
   "cell_type": "code",
   "execution_count": 15,
   "metadata": {},
   "outputs": [],
   "source": [
    "# Define the final train and test sets\n",
    "train_y = train_df.iloc[:, 48]\n",
    "dev_y = dev_df.iloc[:, 48]\n",
    "test_y = test_df.iloc[:, 48]"
   ]
  },
  {
   "cell_type": "markdown",
   "metadata": {},
   "source": [
    "+ train_y -> **Labels for supervised training of ANN**\n",
    "+ dev_y -> labels of dev_df  *not used for AE neither ANN*\n",
    "+ test_y -> labels of test_df  **Ground Truth for predictions of supervised ANN**"
   ]
  },
  {
   "cell_type": "code",
   "execution_count": 16,
   "metadata": {},
   "outputs": [
    {
     "name": "stdout",
     "output_type": "stream",
     "text": [
      "48\n"
     ]
    }
   ],
   "source": [
    "train_x =np.array(train_x)\n",
    "dev_x =np.array(dev_x)\n",
    "test_x = np.array(test_x)\n",
    "\n",
    "train_y = np.array(train_y)\n",
    "dev_y = np.array(dev_y)\n",
    "test_y = np.array(test_y)\n",
    "\n",
    "print(train_x.shape[1])"
   ]
  },
  {
   "cell_type": "markdown",
   "metadata": {},
   "source": [
    "### Autoencoder Function"
   ]
  },
  {
   "cell_type": "markdown",
   "metadata": {},
   "source": [
    "encoding_dim - 2\n",
    "\n",
    "Epoch 94/300 78596/78596 [==============================] - 10s 125us/step \n",
    "- loss: 3.8990e-05 - acc: 0.0237 - \n",
    "        val_loss: 3.9704e-05 - val_acc: 0.0236"
   ]
  },
  {
   "cell_type": "code",
   "execution_count": 17,
   "metadata": {},
   "outputs": [],
   "source": [
    "def ae(factor_enc_dim, enc_activation, dec_activation, \n",
    "                optimizer, loss):\n",
    "\n",
    "    encoding_dim = int(int(train_x.shape[1])/factor_enc_dim)\n",
    "    ### Define input layer\n",
    "    input_data = Input(shape=(train_x.shape[1],))\n",
    "    ### Define encoding layer #RELU\n",
    "    encoded = Dense(encoding_dim, activation=enc_activation, name='encoded_bottle_neck')(input_data)\n",
    "    ### Define decoding layer #SIMOID\n",
    "    decoded = Dense(train_x.shape[1], activation=dec_activation)(encoded)\n",
    "    ### Create the autoencoder model\n",
    "    autoencoder = Model(input_data, decoded)\n",
    "    autoencoder.compile(optimizer=optimizer,\n",
    "                        loss=loss,\n",
    "                        metrics=['accuracy'])\n",
    "    \n",
    "    print(autoencoder.summary())\n",
    "    \n",
    "    encoder = Model(input_data, encoded)\n",
    "    encoded_train_x = encoder.predict(train_x)\n",
    "    encoded_test_x = encoder.predict(test_x)\n",
    "    \n",
    "    return autoencoder,encoded_train_x,encoded_test_x"
   ]
  },
  {
   "cell_type": "code",
   "execution_count": 18,
   "metadata": {},
   "outputs": [],
   "source": [
    "def sae(factor_enc_dim, output_activation,\n",
    "        optimizer, loss):\n",
    "\n",
    "    encoding_dim = int(int(train_x.shape[1])/factor_enc_dim)\n",
    "    ### Define input layer\n",
    "    input_data = Input(shape=(train_x.shape[1],))\n",
    "    ### Define encoding layer\n",
    "    encoded = Dense(encoding_dim, activation='relu', name='input_layer')(input_data)\n",
    "    encoded = Dense(int(encoding_dim/2), activation='relu')(encoded) ##Stacked AE\n",
    "    encoded_bottle_neck = Dense(int(encoding_dim/4), activation='relu', name='enc_bottle_neck')(encoded) ##Stacked AE\n",
    "    \n",
    "    ### Define decoding layer\n",
    "    decoded = Dense(int(encoding_dim/2), activation='relu')(encoded_bottle_neck) ##Stacked AE\n",
    "    decoded = Dense(encoding_dim, activation='relu')(decoded) ##Stacked AE\n",
    "    decoded = Dense(train_x.shape[1], activation=output_activation)(decoded)\n",
    "    \n",
    "    ### Create the autoencoder model\n",
    "    sae = Model(input_data, decoded)\n",
    "    sae.compile(optimizer=optimizer,\n",
    "                loss=loss,\n",
    "                metrics=['accuracy'])\n",
    "    \n",
    "    print(sae.summary())\n",
    "\n",
    "    encoder = Model(input_data, encoded_bottle_neck)\n",
    "    encoded_train_x = encoder.predict(train_x)\n",
    "    encoded_test_x = encoder.predict(test_x)\n",
    "    \n",
    "    return sae,encoded_train_x,encoded_test_x"
   ]
  },
  {
   "cell_type": "code",
   "execution_count": 19,
   "metadata": {},
   "outputs": [],
   "source": [
    "def spae(factor_enc_dim, output_activation, \n",
    "                optimizer, loss):\n",
    "\n",
    "    encoding_dim = int(int(train_x.shape[1])/factor_enc_dim)\n",
    "    ### Define input layer\n",
    "    input_data = Input(shape=(train_x.shape[1],))\n",
    "    ### Define encoding layer\n",
    "    encoded = Dense(encoding_dim, activity_regularizer=regularizers.l1(1e-4), activation='relu', name='encoded_bottle_neck')(input_data)\n",
    "    ### Define decoding layer\n",
    "    decoded = Dense(train_x.shape[1], activation=output_activation)(encoded)\n",
    "    ### Create the autoencoder model\n",
    "    autoencoder = Model(input_data, decoded)\n",
    "    autoencoder.compile(optimizer=optimizer,\n",
    "                        loss=loss,\n",
    "                        metrics=['accuracy'])\n",
    "    \n",
    "    print(autoencoder.summary())\n",
    "    \n",
    "    encoder = Model(input_data, encoded)\n",
    "    encoded_train_x = encoder.predict(train_x)\n",
    "    encoded_test_x = encoder.predict(test_x)\n",
    "    \n",
    "    return autoencoder,encoded_train_x,encoded_test_x"
   ]
  },
  {
   "cell_type": "code",
   "execution_count": null,
   "metadata": {},
   "outputs": [],
   "source": []
  },
  {
   "cell_type": "code",
   "execution_count": 20,
   "metadata": {},
   "outputs": [],
   "source": [
    "def fit_ae(checkpoint_file, autoencoder,\n",
    "           epochs, batch_size, shuffle):\n",
    "    \n",
    "    early_stopping = EarlyStopping(monitor='val_loss', patience=5)\n",
    "\n",
    "    cp = ModelCheckpoint(filepath=checkpoint_file,\n",
    "                                   save_best_only=True,\n",
    "                                   verbose=0)\n",
    "\n",
    "    tb = TensorBoard(log_dir='./logs',\n",
    "                    histogram_freq=0,\n",
    "                    write_graph=True,\n",
    "                    write_images=True)\n",
    "\n",
    "    start_time = time.time()\n",
    "    print(time.ctime(start_time))\n",
    "\n",
    "    hist_auto = autoencoder.fit(train_x, train_x,\n",
    "                    epochs=epochs,\n",
    "                    batch_size=batch_size,\n",
    "                    shuffle=shuffle,\n",
    "                    verbose=1,\n",
    "                    callbacks=[early_stopping, cp, tb],\n",
    "                    validation_data=(dev_x, dev_x))\n",
    "\n",
    "    elapsed_time = (time.time() - start_time)\n",
    "    print(\"--- AE spent %s seconds ---\" % elapsed_time)\n",
    "    \n",
    "    return hist_auto"
   ]
  },
  {
   "cell_type": "code",
   "execution_count": 21,
   "metadata": {},
   "outputs": [],
   "source": [
    "def plot_hist_auto(hist_auto, fig_file):\n",
    "    best_loss_value = hist_auto.history['loss'][-1]\n",
    "    print('Best loss value:', best_loss_value)\n",
    "\n",
    "    # Summarize history for loss\n",
    "    plt.figure()\n",
    "    plt.plot(hist_auto.history['loss'])\n",
    "    plt.plot(hist_auto.history['val_loss'])\n",
    "    plt.title('Autoencoder model loss')\n",
    "    plt.ylabel('loss')\n",
    "    plt.xlabel('epoch')\n",
    "    plt.legend(['train', 'test'], loc='upper right')\n",
    "    plt.savefig(fig_file)\n",
    "    plt.show()\n",
    "    \n",
    "    return best_loss_value"
   ]
  },
  {
   "cell_type": "code",
   "execution_count": 22,
   "metadata": {},
   "outputs": [],
   "source": [
    "def ann_2h(neurons,encoded_train_x,init_mode,activation_input,\n",
    "               weight_constraint,dropout_rate,activation_output,\n",
    "               loss,optimizer):\n",
    "\n",
    "    # create model\n",
    "    model = Sequential()\n",
    "\n",
    "    model.add(Dense(neurons, input_dim=encoded_train_x.shape[1],\n",
    "                    kernel_initializer=init_mode,\n",
    "                    #kernel_regularizer=regularizers.l2(0.02), #from example\n",
    "                    activation=activation_input,\n",
    "                    kernel_constraint=maxnorm(weight_constraint)\n",
    "                    )\n",
    "              )\n",
    "\n",
    "#     #Hidden Layer\n",
    "    model.add(Dense(36, activation=\"relu\", kernel_initializer=init_mode)) #rezvy\n",
    "\n",
    "    model.add(Dense(24, activation=\"relu\", kernel_initializer=init_mode)) #rezvy\n",
    "    model.add(BatchNormalization()) #commented for ex\n",
    "    model.add(Dropout(dropout_rate))\n",
    "    \n",
    "    model.add(Dense(1, activation=activation_output)) #example\n",
    "    \n",
    "    # Compile model\n",
    "    model.compile(loss=loss, \n",
    "                  optimizer=optimizer, \n",
    "                  metrics=['accuracy'])\n",
    "    \n",
    "    print(model.summary())\n",
    "    \n",
    "    return model"
   ]
  },
  {
   "cell_type": "code",
   "execution_count": 23,
   "metadata": {},
   "outputs": [],
   "source": [
    "def ann_1h_36n(neurons,encoded_train_x,init_mode,activation_input,\n",
    "               weight_constraint,dropout_rate,activation_output,\n",
    "               loss,optimizer):\n",
    "\n",
    "    # create model\n",
    "    model = Sequential()\n",
    "\n",
    "    model.add(Dense(neurons, input_dim=encoded_train_x.shape[1],\n",
    "                    kernel_initializer=init_mode,\n",
    "                    #kernel_regularizer=regularizers.l2(0.02), #from example\n",
    "                    activation=activation_input,\n",
    "                    kernel_constraint=maxnorm(weight_constraint)\n",
    "                    )\n",
    "              )\n",
    "\n",
    "#     #Hidden Layer\n",
    "    model.add(Dense(36, activation=\"relu\", kernel_initializer=init_mode)) #rezvy\n",
    "    model.add(BatchNormalization()) #commented for ex\n",
    "    model.add(Dropout(dropout_rate))\n",
    "    \n",
    "    model.add(Dense(1, activation=activation_output)) #example\n",
    "    \n",
    "    # Compile model\n",
    "    model.compile(loss=loss, \n",
    "                  optimizer=optimizer, \n",
    "                  metrics=['accuracy'])\n",
    "    \n",
    "    print(model.summary())\n",
    "    \n",
    "    return model"
   ]
  },
  {
   "cell_type": "code",
   "execution_count": 24,
   "metadata": {},
   "outputs": [],
   "source": [
    "def ann_1h_24n(neurons,encoded_train_x,init_mode,activation_input,\n",
    "               weight_constraint,dropout_rate,activation_output,\n",
    "               loss,optimizer):\n",
    "\n",
    "    # create model\n",
    "    model = Sequential()\n",
    "\n",
    "    model.add(Dense(neurons, input_dim=encoded_train_x.shape[1],\n",
    "                    kernel_initializer=init_mode,\n",
    "                    #kernel_regularizer=regularizers.l2(0.02), #from example\n",
    "                    activation=activation_input,\n",
    "                    kernel_constraint=maxnorm(weight_constraint)\n",
    "                    )\n",
    "              )\n",
    "\n",
    "#     #Hidden Layer\n",
    "    model.add(Dense(24, activation=\"relu\", kernel_initializer=init_mode)) #rezvy\n",
    "    model.add(BatchNormalization()) #commented for ex\n",
    "    model.add(Dropout(dropout_rate))\n",
    "    \n",
    "    model.add(Dense(1, activation=activation_output)) #example\n",
    "    \n",
    "    # Compile model\n",
    "    model.compile(loss=loss, \n",
    "                  optimizer=optimizer, \n",
    "                  metrics=['accuracy'])\n",
    "    \n",
    "    print(model.summary())\n",
    "    \n",
    "    return model"
   ]
  },
  {
   "cell_type": "code",
   "execution_count": 25,
   "metadata": {},
   "outputs": [],
   "source": [
    "def ann_fit(checkpoint_file,ann,enc_train_x,train_y,epochs,shuffle,batch_size):\n",
    "    early_stopping = EarlyStopping(monitor='val_loss', patience=5)\n",
    "\n",
    "    cp = ModelCheckpoint(filepath=checkpoint_file,\n",
    "                                   save_best_only=True,\n",
    "                                   verbose=0)\n",
    "\n",
    "    tb = TensorBoard(log_dir='./logs',\n",
    "                    histogram_freq=0,\n",
    "                    write_graph=True,\n",
    "                    write_images=True)\n",
    "\n",
    "    start_time = time.time()\n",
    "    print(time.ctime(start_time))\n",
    "\n",
    "    history = ann.fit(enc_train_x,\n",
    "                      train_y,\n",
    "                      validation_split=0.2,\n",
    "                      callbacks=[early_stopping],\n",
    "                      epochs=epochs,\n",
    "                      shuffle=shuffle,\n",
    "                      batch_size=batch_size,\n",
    "                      verbose=1)\n",
    "\n",
    "    elapsed_time = (time.time() - start_time)\n",
    "    print(\"--- ANN spent %s seconds ---\" % elapsed_time)\n",
    "\n",
    "    return history"
   ]
  },
  {
   "cell_type": "code",
   "execution_count": 26,
   "metadata": {},
   "outputs": [],
   "source": [
    "def ann_predict(ann,enc_test_x):\n",
    "    pred_ann_prob = ann.predict(enc_test_x)\n",
    "    pred_ann_prob.shape\n",
    "    pred_ann_prob = pred_ann_prob[:,0]\n",
    "    pred_ann_01 = np.where(pred_ann_prob > 0.5, 1, 0)\n",
    "    \n",
    "    #Print accuracy\n",
    "    acc_ann = accuracy_score(test_y, pred_ann_01)\n",
    "    print('Overall accuracy of Neural Network model:', acc_ann)\n",
    "\n",
    "    classiBM = \"NN\"\n",
    "    preBM = (sm.precision_score(test_y, pred_ann_01)*100) \n",
    "    recallBM = (sm.recall_score(test_y, pred_ann_01)*100) \n",
    "    f1scoreBM = (sm.f1_score(test_y, pred_ann_01)*100)\n",
    "    print(sm.classification_report(test_y, pred_ann_01))\n",
    "    \n",
    "    return pred_ann_prob, pred_ann_01"
   ]
  },
  {
   "cell_type": "code",
   "execution_count": 27,
   "metadata": {},
   "outputs": [],
   "source": [
    "def plot_roc_cm(pred_ann_prob, pred_ann_01, roc_file, cm_file):\n",
    "    false_positive_rate, recall, thresholds = roc_curve(test_y, pred_ann_prob)\n",
    "    roc_auc = auc(false_positive_rate, recall)\n",
    "    plt.figure()\n",
    "    plt.title('Receiver Operating Characteristic (ROC)')\n",
    "    plt.plot(false_positive_rate, recall, 'b', label = 'AUC = %0.3f' %roc_auc)\n",
    "    plt.legend(loc='lower right')\n",
    "    plt.plot([0,1], [0,1], 'r--')\n",
    "    plt.xlim([0.0,1.0])\n",
    "    plt.ylim([0.0,1.0])\n",
    "    plt.ylabel('Recall')\n",
    "    plt.xlabel('Fall-out (1-Specificity)')\n",
    "    plt.savefig(roc_file)\n",
    "    plt.show()\n",
    "    \n",
    "    cm = confusion_matrix(test_y, pred_ann_01)\n",
    "    labels = ['Normal', 'Malicious']\n",
    "    plt.figure(figsize=(8,6))\n",
    "    sns.heatmap(cm,xticklabels=labels, yticklabels=labels, annot=True, fmt='d', cmap=\"RdYlGn\", vmin = 0.2);\n",
    "    plt.title('Confusion Matrix')\n",
    "    plt.ylabel('True Class')\n",
    "    plt.xlabel('Predicted Class')\n",
    "    plt.savefig(cm_file)\n",
    "    plt.show()\n",
    "    "
   ]
  },
  {
   "cell_type": "markdown",
   "metadata": {},
   "source": [
    "loss: 2.7516e-05 - acc: 0.0407 \n",
    "\n",
    "val_loss: 2.7072e-05 - val_acc: 0.0399"
   ]
  },
  {
   "cell_type": "code",
   "execution_count": 28,
   "metadata": {},
   "outputs": [
    {
     "name": "stdout",
     "output_type": "stream",
     "text": [
      "WARNING:tensorflow:From /home/user/anaconda3/envs/deepl/lib/python3.6/site-packages/tensorflow/python/framework/op_def_library.py:263: colocate_with (from tensorflow.python.framework.ops) is deprecated and will be removed in a future version.\n",
      "Instructions for updating:\n",
      "Colocations handled automatically by placer.\n",
      "_________________________________________________________________\n",
      "Layer (type)                 Output Shape              Param #   \n",
      "=================================================================\n",
      "input_1 (InputLayer)         (None, 48)                0         \n",
      "_________________________________________________________________\n",
      "encoded_bottle_neck (Dense)  (None, 32)                1568      \n",
      "_________________________________________________________________\n",
      "dense_1 (Dense)              (None, 48)                1584      \n",
      "=================================================================\n",
      "Total params: 3,152\n",
      "Trainable params: 3,152\n",
      "Non-trainable params: 0\n",
      "_________________________________________________________________\n",
      "None\n"
     ]
    }
   ],
   "source": [
    "ae_sigmoid_adam_logcosh,enc_train_x_asal,enc_test_x_asal = ae(factor_enc_dim = 1.5,\n",
    "                                                              enc_activation = 'relu',\n",
    "                                                              dec_activation = 'sigmoid',\n",
    "                                                              optimizer='Adam',\n",
    "                                                              loss='logcosh')"
   ]
  },
  {
   "cell_type": "code",
   "execution_count": 29,
   "metadata": {},
   "outputs": [],
   "source": [
    "#ae_sigmoid_adam_logcosh = load_model('ae_sigmoid_adam_logcosh_redds10bal.h5')"
   ]
  },
  {
   "cell_type": "code",
   "execution_count": 30,
   "metadata": {},
   "outputs": [
    {
     "name": "stdout",
     "output_type": "stream",
     "text": [
      "Thu Jun  6 14:01:31 2019\n",
      "WARNING:tensorflow:From /home/user/anaconda3/envs/deepl/lib/python3.6/site-packages/tensorflow/python/ops/math_ops.py:3066: to_int32 (from tensorflow.python.ops.math_ops) is deprecated and will be removed in a future version.\n",
      "Instructions for updating:\n",
      "Use tf.cast instead.\n",
      "Train on 291298 samples, validate on 72825 samples\n",
      "Epoch 1/200\n",
      "291298/291298 [==============================] - 16s 56us/step - loss: 0.0030 - acc: 0.0593 - val_loss: 6.0932e-05 - val_acc: 0.0612\n",
      "Epoch 2/200\n",
      "291298/291298 [==============================] - 16s 55us/step - loss: 5.5876e-05 - acc: 0.0606 - val_loss: 5.3459e-05 - val_acc: 0.0612\n",
      "Epoch 3/200\n",
      "291298/291298 [==============================] - 16s 56us/step - loss: 4.9057e-05 - acc: 0.0575 - val_loss: 4.7605e-05 - val_acc: 0.0526\n",
      "Epoch 4/200\n",
      "291298/291298 [==============================] - 16s 56us/step - loss: 4.7729e-05 - acc: 0.0462 - val_loss: 4.7337e-05 - val_acc: 0.0407\n",
      "Epoch 5/200\n",
      "291298/291298 [==============================] - 16s 56us/step - loss: 4.7555e-05 - acc: 0.0351 - val_loss: 4.7190e-05 - val_acc: 0.0300\n",
      "Epoch 6/200\n",
      "291298/291298 [==============================] - 16s 57us/step - loss: 4.7433e-05 - acc: 0.0259 - val_loss: 4.7092e-05 - val_acc: 0.0201\n",
      "Epoch 7/200\n",
      "291298/291298 [==============================] - 17s 58us/step - loss: 4.7326e-05 - acc: 0.0196 - val_loss: 4.7021e-05 - val_acc: 0.0185\n",
      "Epoch 8/200\n",
      "291298/291298 [==============================] - 17s 58us/step - loss: 4.7234e-05 - acc: 0.0172 - val_loss: 4.6961e-05 - val_acc: 0.0161\n",
      "Epoch 9/200\n",
      "291298/291298 [==============================] - 17s 58us/step - loss: 4.7149e-05 - acc: 0.0150 - val_loss: 4.6892e-05 - val_acc: 0.0103\n",
      "Epoch 10/200\n",
      "291298/291298 [==============================] - 16s 54us/step - loss: 4.7049e-05 - acc: 0.0093 - val_loss: 4.6806e-05 - val_acc: 0.0086\n",
      "Epoch 11/200\n",
      "291298/291298 [==============================] - 17s 57us/step - loss: 4.6853e-05 - acc: 0.0082 - val_loss: 4.6394e-05 - val_acc: 0.0083\n",
      "Epoch 12/200\n",
      "291298/291298 [==============================] - 17s 58us/step - loss: 4.6248e-05 - acc: 0.0080 - val_loss: 4.5775e-05 - val_acc: 0.0066\n",
      "Epoch 13/200\n",
      "291298/291298 [==============================] - 17s 58us/step - loss: 4.5822e-05 - acc: 0.0063 - val_loss: 4.5341e-05 - val_acc: 0.0048\n",
      "Epoch 14/200\n",
      "291298/291298 [==============================] - 17s 58us/step - loss: 4.5339e-05 - acc: 0.0047 - val_loss: 4.4596e-05 - val_acc: 0.0039\n",
      "Epoch 15/200\n",
      "291298/291298 [==============================] - 17s 59us/step - loss: 4.5027e-05 - acc: 0.0039 - val_loss: 4.4229e-05 - val_acc: 0.0033\n",
      "Epoch 16/200\n",
      "291298/291298 [==============================] - 17s 59us/step - loss: 4.4783e-05 - acc: 0.0032 - val_loss: 4.4024e-05 - val_acc: 0.0025\n",
      "Epoch 17/200\n",
      "291298/291298 [==============================] - 17s 59us/step - loss: 4.4490e-05 - acc: 0.0024 - val_loss: 4.3582e-05 - val_acc: 0.0013\n",
      "Epoch 18/200\n",
      "291298/291298 [==============================] - 18s 61us/step - loss: 4.4168e-05 - acc: 0.0014 - val_loss: 4.3277e-05 - val_acc: 0.0011\n",
      "Epoch 19/200\n",
      "291298/291298 [==============================] - 18s 60us/step - loss: 4.3953e-05 - acc: 9.8525e-04 - val_loss: 4.3073e-05 - val_acc: 5.6299e-04\n",
      "Epoch 20/200\n",
      "291298/291298 [==============================] - 18s 61us/step - loss: 4.3745e-05 - acc: 7.1061e-04 - val_loss: 4.2863e-05 - val_acc: 5.2180e-04\n",
      "Epoch 21/200\n",
      "291298/291298 [==============================] - 18s 61us/step - loss: 4.3474e-05 - acc: 3.3643e-04 - val_loss: 4.2714e-05 - val_acc: 0.0000e+00\n",
      "Epoch 22/200\n",
      "291298/291298 [==============================] - 20s 70us/step - loss: 4.3183e-05 - acc: 9.6122e-05 - val_loss: 4.2261e-05 - val_acc: 0.0000e+00\n",
      "Epoch 23/200\n",
      "291298/291298 [==============================] - 22s 75us/step - loss: 4.1883e-05 - acc: 1.0299e-05 - val_loss: 4.0437e-05 - val_acc: 0.0000e+00\n",
      "Epoch 24/200\n",
      "291298/291298 [==============================] - 22s 76us/step - loss: 4.0791e-05 - acc: 1.0299e-05 - val_loss: 3.9915e-05 - val_acc: 0.0000e+00\n",
      "Epoch 25/200\n",
      "291298/291298 [==============================] - 22s 74us/step - loss: 3.9666e-05 - acc: 0.0000e+00 - val_loss: 3.7719e-05 - val_acc: 0.0000e+00\n",
      "Epoch 26/200\n",
      "291298/291298 [==============================] - 22s 75us/step - loss: 3.5989e-05 - acc: 0.0000e+00 - val_loss: 3.4840e-05 - val_acc: 0.0000e+00\n",
      "Epoch 27/200\n",
      "291298/291298 [==============================] - 21s 71us/step - loss: 3.3756e-05 - acc: 0.0000e+00 - val_loss: 3.2456e-05 - val_acc: 0.0000e+00\n",
      "Epoch 28/200\n",
      "291298/291298 [==============================] - 21s 71us/step - loss: 3.2714e-05 - acc: 0.0000e+00 - val_loss: 3.2163e-05 - val_acc: 0.0000e+00\n",
      "Epoch 29/200\n",
      "291298/291298 [==============================] - 20s 68us/step - loss: 3.2525e-05 - acc: 0.0000e+00 - val_loss: 3.2061e-05 - val_acc: 0.0000e+00\n",
      "Epoch 30/200\n",
      "291298/291298 [==============================] - 20s 68us/step - loss: 3.2438e-05 - acc: 0.0000e+00 - val_loss: 3.2001e-05 - val_acc: 0.0000e+00\n",
      "Epoch 31/200\n",
      "291298/291298 [==============================] - 19s 66us/step - loss: 3.2377e-05 - acc: 0.0000e+00 - val_loss: 3.1985e-05 - val_acc: 0.0000e+00\n",
      "Epoch 32/200\n",
      "291298/291298 [==============================] - 19s 65us/step - loss: 3.2326e-05 - acc: 0.0000e+00 - val_loss: 3.1960e-05 - val_acc: 0.0000e+00\n",
      "Epoch 33/200\n",
      "291298/291298 [==============================] - 19s 64us/step - loss: 3.2286e-05 - acc: 0.0000e+00 - val_loss: 3.1933e-05 - val_acc: 0.0000e+00\n",
      "Epoch 34/200\n",
      "291298/291298 [==============================] - 19s 65us/step - loss: 3.2251e-05 - acc: 0.0000e+00 - val_loss: 3.1903e-05 - val_acc: 0.0000e+00\n",
      "Epoch 35/200\n",
      "291298/291298 [==============================] - 19s 64us/step - loss: 3.2217e-05 - acc: 0.0000e+00 - val_loss: 3.1874e-05 - val_acc: 0.0000e+00\n",
      "Epoch 36/200\n",
      "291298/291298 [==============================] - 19s 64us/step - loss: 3.2183e-05 - acc: 0.0000e+00 - val_loss: 3.1855e-05 - val_acc: 0.0000e+00\n",
      "Epoch 37/200\n",
      "291298/291298 [==============================] - 19s 64us/step - loss: 3.2136e-05 - acc: 0.0000e+00 - val_loss: 3.1796e-05 - val_acc: 0.0000e+00\n",
      "Epoch 38/200\n",
      "291298/291298 [==============================] - 19s 64us/step - loss: 3.2071e-05 - acc: 0.0000e+00 - val_loss: 3.1713e-05 - val_acc: 0.0000e+00\n",
      "Epoch 39/200\n",
      "291298/291298 [==============================] - 19s 64us/step - loss: 3.1913e-05 - acc: 0.0000e+00 - val_loss: 3.1651e-05 - val_acc: 0.0000e+00\n",
      "Epoch 40/200\n",
      "291298/291298 [==============================] - 18s 63us/step - loss: 3.1795e-05 - acc: 0.0000e+00 - val_loss: 3.1586e-05 - val_acc: 0.0000e+00\n",
      "Epoch 41/200\n",
      "291298/291298 [==============================] - 18s 63us/step - loss: 3.1696e-05 - acc: 0.0000e+00 - val_loss: 3.1492e-05 - val_acc: 0.0000e+00\n",
      "Epoch 42/200\n",
      "291298/291298 [==============================] - 18s 63us/step - loss: 3.1602e-05 - acc: 0.0000e+00 - val_loss: 3.1424e-05 - val_acc: 0.0000e+00\n",
      "Epoch 43/200\n",
      "291298/291298 [==============================] - 19s 65us/step - loss: 3.1495e-05 - acc: 0.0000e+00 - val_loss: 3.1370e-05 - val_acc: 0.0000e+00\n",
      "Epoch 44/200\n",
      "291298/291298 [==============================] - 18s 63us/step - loss: 3.1401e-05 - acc: 0.0000e+00 - val_loss: 3.1295e-05 - val_acc: 0.0000e+00\n",
      "Epoch 45/200\n",
      "291298/291298 [==============================] - 18s 63us/step - loss: 3.1349e-05 - acc: 0.0000e+00 - val_loss: 3.1221e-05 - val_acc: 0.0000e+00\n",
      "Epoch 46/200\n",
      "291298/291298 [==============================] - 18s 63us/step - loss: 3.1311e-05 - acc: 0.0000e+00 - val_loss: 3.1165e-05 - val_acc: 0.0000e+00\n",
      "Epoch 47/200\n",
      "291298/291298 [==============================] - 19s 64us/step - loss: 3.1276e-05 - acc: 0.0000e+00 - val_loss: 3.1060e-05 - val_acc: 0.0000e+00\n",
      "Epoch 48/200\n",
      "291298/291298 [==============================] - 19s 64us/step - loss: 3.1237e-05 - acc: 0.0000e+00 - val_loss: 3.0922e-05 - val_acc: 0.0000e+00\n",
      "Epoch 49/200\n",
      "291298/291298 [==============================] - 18s 63us/step - loss: 3.1190e-05 - acc: 0.0000e+00 - val_loss: 3.0824e-05 - val_acc: 0.0000e+00\n",
      "Epoch 50/200\n",
      "291298/291298 [==============================] - 18s 63us/step - loss: 3.1141e-05 - acc: 0.0000e+00 - val_loss: 3.0778e-05 - val_acc: 0.0000e+00\n",
      "Epoch 51/200\n",
      "291298/291298 [==============================] - 18s 63us/step - loss: 3.1091e-05 - acc: 0.0000e+00 - val_loss: 3.0747e-05 - val_acc: 0.0000e+00\n",
      "Epoch 52/200\n",
      "291298/291298 [==============================] - 19s 64us/step - loss: 3.1036e-05 - acc: 0.0000e+00 - val_loss: 3.0695e-05 - val_acc: 0.0000e+00\n",
      "Epoch 53/200\n",
      "291298/291298 [==============================] - 18s 63us/step - loss: 3.0960e-05 - acc: 0.0000e+00 - val_loss: 3.0561e-05 - val_acc: 0.0000e+00\n",
      "Epoch 54/200\n",
      "291298/291298 [==============================] - 18s 63us/step - loss: 3.0882e-05 - acc: 0.0000e+00 - val_loss: 3.0470e-05 - val_acc: 0.0000e+00\n",
      "Epoch 55/200\n",
      "291298/291298 [==============================] - 18s 63us/step - loss: 3.0817e-05 - acc: 0.0000e+00 - val_loss: 3.0442e-05 - val_acc: 0.0000e+00\n",
      "Epoch 56/200\n",
      "291298/291298 [==============================] - 19s 64us/step - loss: 3.0759e-05 - acc: 0.0000e+00 - val_loss: 3.0364e-05 - val_acc: 0.0000e+00\n",
      "Epoch 57/200\n",
      "291298/291298 [==============================] - 18s 63us/step - loss: 3.0700e-05 - acc: 0.0000e+00 - val_loss: 3.0335e-05 - val_acc: 0.0000e+00\n",
      "Epoch 58/200\n",
      "291298/291298 [==============================] - 19s 65us/step - loss: 3.0663e-05 - acc: 0.0000e+00 - val_loss: 3.0316e-05 - val_acc: 0.0000e+00\n",
      "Epoch 59/200\n",
      "291298/291298 [==============================] - 17s 58us/step - loss: 3.0633e-05 - acc: 0.0000e+00 - val_loss: 3.0290e-05 - val_acc: 0.0000e+00\n",
      "Epoch 60/200\n",
      "291298/291298 [==============================] - 10s 36us/step - loss: 3.0611e-05 - acc: 0.0000e+00 - val_loss: 3.0269e-05 - val_acc: 0.0000e+00\n",
      "Epoch 61/200\n",
      "291298/291298 [==============================] - 10s 36us/step - loss: 3.0591e-05 - acc: 0.0000e+00 - val_loss: 3.0259e-05 - val_acc: 0.0000e+00\n",
      "Epoch 62/200\n",
      "291298/291298 [==============================] - 10s 36us/step - loss: 3.0573e-05 - acc: 0.0000e+00 - val_loss: 3.0255e-05 - val_acc: 0.0000e+00\n",
      "Epoch 63/200\n",
      "291298/291298 [==============================] - 10s 36us/step - loss: 3.0557e-05 - acc: 0.0000e+00 - val_loss: 3.0251e-05 - val_acc: 0.0000e+00\n",
      "Epoch 64/200\n",
      "291298/291298 [==============================] - 10s 36us/step - loss: 3.0541e-05 - acc: 0.0000e+00 - val_loss: 3.0236e-05 - val_acc: 0.0000e+00\n",
      "Epoch 65/200\n",
      "291298/291298 [==============================] - 10s 36us/step - loss: 3.0524e-05 - acc: 0.0000e+00 - val_loss: 3.0223e-05 - val_acc: 0.0000e+00\n",
      "Epoch 66/200\n",
      "291298/291298 [==============================] - 10s 36us/step - loss: 3.0510e-05 - acc: 0.0000e+00 - val_loss: 3.0192e-05 - val_acc: 0.0000e+00\n",
      "Epoch 67/200\n",
      "291298/291298 [==============================] - 10s 36us/step - loss: 3.0499e-05 - acc: 0.0000e+00 - val_loss: 3.0182e-05 - val_acc: 0.0000e+00\n",
      "Epoch 68/200\n",
      "291298/291298 [==============================] - 11s 36us/step - loss: 3.0484e-05 - acc: 0.0000e+00 - val_loss: 3.0159e-05 - val_acc: 0.0000e+00\n",
      "Epoch 69/200\n",
      "291298/291298 [==============================] - 10s 36us/step - loss: 3.0473e-05 - acc: 0.0000e+00 - val_loss: 3.0150e-05 - val_acc: 0.0000e+00\n",
      "Epoch 70/200\n",
      "291298/291298 [==============================] - 10s 36us/step - loss: 3.0456e-05 - acc: 0.0000e+00 - val_loss: 3.0126e-05 - val_acc: 0.0000e+00\n",
      "Epoch 71/200\n",
      "291298/291298 [==============================] - 10s 36us/step - loss: 3.0417e-05 - acc: 0.0000e+00 - val_loss: 3.0040e-05 - val_acc: 0.0000e+00\n",
      "Epoch 72/200\n",
      "291298/291298 [==============================] - 10s 36us/step - loss: 3.0356e-05 - acc: 0.0000e+00 - val_loss: 2.9921e-05 - val_acc: 0.0000e+00\n",
      "Epoch 73/200\n",
      "291298/291298 [==============================] - 10s 36us/step - loss: 3.0279e-05 - acc: 0.0000e+00 - val_loss: 2.9821e-05 - val_acc: 0.0000e+00\n",
      "Epoch 74/200\n",
      "291298/291298 [==============================] - 11s 36us/step - loss: 3.0151e-05 - acc: 0.0000e+00 - val_loss: 2.9662e-05 - val_acc: 0.0000e+00\n",
      "Epoch 75/200\n",
      "291298/291298 [==============================] - 10s 36us/step - loss: 2.8854e-05 - acc: 0.0000e+00 - val_loss: 2.5784e-05 - val_acc: 0.0000e+00\n",
      "Epoch 76/200\n",
      "291298/291298 [==============================] - 10s 36us/step - loss: 2.2726e-05 - acc: 0.0000e+00 - val_loss: 2.1201e-05 - val_acc: 0.0000e+00\n",
      "Epoch 77/200\n",
      "291298/291298 [==============================] - 10s 36us/step - loss: 2.0386e-05 - acc: 0.0000e+00 - val_loss: 1.9242e-05 - val_acc: 0.0000e+00\n",
      "Epoch 78/200\n",
      "291298/291298 [==============================] - 10s 36us/step - loss: 1.9458e-05 - acc: 0.0000e+00 - val_loss: 1.9118e-05 - val_acc: 0.0000e+00\n",
      "Epoch 79/200\n",
      "291298/291298 [==============================] - 11s 36us/step - loss: 1.9419e-05 - acc: 0.0000e+00 - val_loss: 1.9101e-05 - val_acc: 0.0000e+00\n",
      "Epoch 80/200\n",
      "291298/291298 [==============================] - 10s 36us/step - loss: 1.9391e-05 - acc: 0.0000e+00 - val_loss: 1.9058e-05 - val_acc: 0.0000e+00\n",
      "Epoch 81/200\n",
      "291298/291298 [==============================] - 10s 36us/step - loss: 1.9357e-05 - acc: 0.0000e+00 - val_loss: 1.9003e-05 - val_acc: 0.0000e+00\n",
      "Epoch 82/200\n",
      "291298/291298 [==============================] - 10s 36us/step - loss: 1.9335e-05 - acc: 0.0000e+00 - val_loss: 1.8994e-05 - val_acc: 0.0000e+00\n",
      "Epoch 83/200\n",
      "291298/291298 [==============================] - 10s 36us/step - loss: 1.9314e-05 - acc: 0.0000e+00 - val_loss: 1.8960e-05 - val_acc: 0.0000e+00\n",
      "Epoch 84/200\n",
      "291298/291298 [==============================] - 10s 36us/step - loss: 1.9291e-05 - acc: 0.0000e+00 - val_loss: 1.8941e-05 - val_acc: 0.0000e+00\n",
      "Epoch 85/200\n",
      "291298/291298 [==============================] - 11s 37us/step - loss: 1.9274e-05 - acc: 0.0000e+00 - val_loss: 1.8909e-05 - val_acc: 0.0000e+00\n",
      "Epoch 86/200\n",
      "291298/291298 [==============================] - 11s 38us/step - loss: 1.9256e-05 - acc: 0.0000e+00 - val_loss: 1.8903e-05 - val_acc: 0.0000e+00\n",
      "Epoch 87/200\n",
      "291298/291298 [==============================] - 10s 36us/step - loss: 1.9232e-05 - acc: 0.0000e+00 - val_loss: 1.8884e-05 - val_acc: 0.0000e+00\n",
      "Epoch 88/200\n",
      "291298/291298 [==============================] - 10s 36us/step - loss: 1.9211e-05 - acc: 0.0000e+00 - val_loss: 1.8874e-05 - val_acc: 0.0000e+00\n",
      "Epoch 89/200\n",
      "291298/291298 [==============================] - 10s 36us/step - loss: 1.9194e-05 - acc: 0.0000e+00 - val_loss: 1.8862e-05 - val_acc: 0.0000e+00\n",
      "Epoch 90/200\n",
      "291298/291298 [==============================] - 10s 36us/step - loss: 1.9148e-05 - acc: 0.0000e+00 - val_loss: 1.8791e-05 - val_acc: 0.0000e+00\n",
      "Epoch 91/200\n",
      "291298/291298 [==============================] - 11s 36us/step - loss: 1.9111e-05 - acc: 0.0000e+00 - val_loss: 1.8777e-05 - val_acc: 0.0000e+00\n",
      "Epoch 92/200\n",
      "291298/291298 [==============================] - 10s 36us/step - loss: 1.9097e-05 - acc: 0.0000e+00 - val_loss: 1.8778e-05 - val_acc: 0.0000e+00\n",
      "Epoch 93/200\n",
      "291298/291298 [==============================] - 11s 39us/step - loss: 1.9085e-05 - acc: 0.0000e+00 - val_loss: 1.8785e-05 - val_acc: 0.0000e+00\n",
      "Epoch 94/200\n",
      "291298/291298 [==============================] - 12s 41us/step - loss: 1.8896e-05 - acc: 0.0000e+00 - val_loss: 1.8298e-05 - val_acc: 0.0000e+00\n",
      "Epoch 95/200\n",
      "291298/291298 [==============================] - 13s 45us/step - loss: 1.8096e-05 - acc: 0.0000e+00 - val_loss: 1.7716e-05 - val_acc: 0.0000e+00\n",
      "Epoch 96/200\n",
      "291298/291298 [==============================] - 13s 44us/step - loss: 1.7320e-05 - acc: 0.0000e+00 - val_loss: 1.7477e-05 - val_acc: 0.0000e+00\n",
      "Epoch 97/200\n",
      "291298/291298 [==============================] - 14s 46us/step - loss: 1.6975e-05 - acc: 0.0000e+00 - val_loss: 1.7140e-05 - val_acc: 0.0000e+00\n",
      "Epoch 98/200\n",
      "291298/291298 [==============================] - 13s 44us/step - loss: 1.6825e-05 - acc: 0.0000e+00 - val_loss: 1.6810e-05 - val_acc: 0.0000e+00\n",
      "Epoch 99/200\n",
      "291298/291298 [==============================] - 12s 43us/step - loss: 1.6733e-05 - acc: 0.0000e+00 - val_loss: 1.6514e-05 - val_acc: 0.0000e+00\n",
      "Epoch 100/200\n",
      "291298/291298 [==============================] - 13s 46us/step - loss: 1.6666e-05 - acc: 0.0000e+00 - val_loss: 1.6398e-05 - val_acc: 0.0000e+00\n",
      "Epoch 101/200\n",
      "291298/291298 [==============================] - 13s 44us/step - loss: 1.6541e-05 - acc: 0.0000e+00 - val_loss: 1.6211e-05 - val_acc: 0.0000e+00\n",
      "Epoch 102/200\n",
      "291298/291298 [==============================] - 12s 43us/step - loss: 1.6272e-05 - acc: 0.0000e+00 - val_loss: 1.5722e-05 - val_acc: 0.0000e+00\n",
      "Epoch 103/200\n",
      "291298/291298 [==============================] - 12s 42us/step - loss: 1.5975e-05 - acc: 0.0000e+00 - val_loss: 1.5481e-05 - val_acc: 0.0000e+00\n",
      "Epoch 104/200\n",
      "291298/291298 [==============================] - 12s 42us/step - loss: 1.5836e-05 - acc: 0.0000e+00 - val_loss: 1.5393e-05 - val_acc: 0.0000e+00\n",
      "Epoch 105/200\n",
      "291298/291298 [==============================] - 13s 43us/step - loss: 1.5789e-05 - acc: 0.0000e+00 - val_loss: 1.5363e-05 - val_acc: 0.0000e+00\n",
      "Epoch 106/200\n",
      "291298/291298 [==============================] - 13s 43us/step - loss: 1.5765e-05 - acc: 0.0000e+00 - val_loss: 1.5364e-05 - val_acc: 0.0000e+00\n",
      "Epoch 107/200\n",
      "291298/291298 [==============================] - 12s 43us/step - loss: 1.5750e-05 - acc: 0.0000e+00 - val_loss: 1.5350e-05 - val_acc: 0.0000e+00\n",
      "Epoch 108/200\n",
      "291298/291298 [==============================] - 12s 42us/step - loss: 1.5740e-05 - acc: 0.0000e+00 - val_loss: 1.5349e-05 - val_acc: 0.0000e+00\n",
      "Epoch 109/200\n",
      "291298/291298 [==============================] - 12s 42us/step - loss: 1.5723e-05 - acc: 0.0000e+00 - val_loss: 1.5361e-05 - val_acc: 0.0000e+00\n",
      "Epoch 110/200\n",
      "291298/291298 [==============================] - 12s 43us/step - loss: 1.5711e-05 - acc: 0.0000e+00 - val_loss: 1.5377e-05 - val_acc: 0.0000e+00\n",
      "Epoch 111/200\n",
      "291298/291298 [==============================] - 12s 43us/step - loss: 1.5542e-05 - acc: 0.0000e+00 - val_loss: 1.4782e-05 - val_acc: 0.0000e+00\n",
      "Epoch 112/200\n",
      "291298/291298 [==============================] - 13s 43us/step - loss: 1.5049e-05 - acc: 0.0000e+00 - val_loss: 1.4587e-05 - val_acc: 0.0000e+00\n",
      "Epoch 113/200\n",
      "291298/291298 [==============================] - 13s 43us/step - loss: 1.4975e-05 - acc: 0.0000e+00 - val_loss: 1.4581e-05 - val_acc: 0.0000e+00\n",
      "Epoch 114/200\n",
      "291298/291298 [==============================] - 14s 48us/step - loss: 1.4956e-05 - acc: 0.0000e+00 - val_loss: 1.4575e-05 - val_acc: 0.0000e+00\n",
      "Epoch 115/200\n",
      "291298/291298 [==============================] - 14s 48us/step - loss: 1.4940e-05 - acc: 0.0000e+00 - val_loss: 1.4559e-05 - val_acc: 0.0000e+00\n",
      "Epoch 116/200\n",
      "291298/291298 [==============================] - 14s 49us/step - loss: 1.4937e-05 - acc: 0.0000e+00 - val_loss: 1.4545e-05 - val_acc: 0.0000e+00\n",
      "Epoch 117/200\n",
      "291298/291298 [==============================] - 14s 49us/step - loss: 1.4918e-05 - acc: 0.0000e+00 - val_loss: 1.4546e-05 - val_acc: 0.0000e+00\n",
      "Epoch 118/200\n",
      "291298/291298 [==============================] - 14s 48us/step - loss: 1.4907e-05 - acc: 0.0000e+00 - val_loss: 1.4523e-05 - val_acc: 0.0000e+00\n",
      "Epoch 119/200\n",
      "291298/291298 [==============================] - 13s 46us/step - loss: 1.4900e-05 - acc: 0.0000e+00 - val_loss: 1.4853e-05 - val_acc: 0.0000e+00\n",
      "Epoch 120/200\n",
      "291298/291298 [==============================] - 11s 39us/step - loss: 1.4885e-05 - acc: 0.0000e+00 - val_loss: 1.4495e-05 - val_acc: 0.0000e+00\n",
      "Epoch 121/200\n",
      "291298/291298 [==============================] - 10s 35us/step - loss: 1.4881e-05 - acc: 0.0000e+00 - val_loss: 1.4489e-05 - val_acc: 0.0000e+00\n",
      "Epoch 122/200\n",
      "291298/291298 [==============================] - 10s 36us/step - loss: 1.4876e-05 - acc: 0.0000e+00 - val_loss: 1.4652e-05 - val_acc: 0.0000e+00\n",
      "Epoch 123/200\n",
      "291298/291298 [==============================] - 10s 35us/step - loss: 1.4864e-05 - acc: 0.0000e+00 - val_loss: 1.4469e-05 - val_acc: 0.0000e+00\n",
      "Epoch 124/200\n",
      "291298/291298 [==============================] - 10s 35us/step - loss: 1.4860e-05 - acc: 0.0000e+00 - val_loss: 1.4453e-05 - val_acc: 0.0000e+00\n",
      "Epoch 125/200\n",
      "291298/291298 [==============================] - 10s 36us/step - loss: 1.4860e-05 - acc: 0.0000e+00 - val_loss: 1.4451e-05 - val_acc: 0.0000e+00\n",
      "Epoch 126/200\n",
      "291298/291298 [==============================] - 10s 36us/step - loss: 1.4853e-05 - acc: 0.0000e+00 - val_loss: 1.4455e-05 - val_acc: 0.0000e+00\n",
      "Epoch 127/200\n",
      "291298/291298 [==============================] - 10s 36us/step - loss: 1.4841e-05 - acc: 0.0000e+00 - val_loss: 1.4447e-05 - val_acc: 0.0000e+00\n",
      "Epoch 128/200\n",
      "291298/291298 [==============================] - 10s 35us/step - loss: 1.4841e-05 - acc: 0.0000e+00 - val_loss: 1.4449e-05 - val_acc: 0.0000e+00\n",
      "Epoch 129/200\n",
      "291298/291298 [==============================] - 10s 35us/step - loss: 1.4844e-05 - acc: 0.0000e+00 - val_loss: 1.4449e-05 - val_acc: 0.0000e+00\n",
      "Epoch 130/200\n",
      "291298/291298 [==============================] - 10s 36us/step - loss: 1.4826e-05 - acc: 0.0000e+00 - val_loss: 1.4435e-05 - val_acc: 0.0000e+00\n",
      "Epoch 131/200\n",
      "291298/291298 [==============================] - 10s 36us/step - loss: 1.4815e-05 - acc: 0.0000e+00 - val_loss: 1.4438e-05 - val_acc: 0.0000e+00\n",
      "Epoch 132/200\n",
      "291298/291298 [==============================] - 11s 36us/step - loss: 1.4809e-05 - acc: 0.0000e+00 - val_loss: 1.4426e-05 - val_acc: 0.0000e+00\n",
      "Epoch 133/200\n",
      "291298/291298 [==============================] - 10s 36us/step - loss: 1.4798e-05 - acc: 0.0000e+00 - val_loss: 1.4423e-05 - val_acc: 0.0000e+00\n",
      "Epoch 134/200\n",
      "291298/291298 [==============================] - 10s 35us/step - loss: 1.4791e-05 - acc: 0.0000e+00 - val_loss: 1.4389e-05 - val_acc: 0.0000e+00\n",
      "Epoch 135/200\n",
      "291298/291298 [==============================] - 10s 36us/step - loss: 1.4782e-05 - acc: 0.0000e+00 - val_loss: 1.4398e-05 - val_acc: 0.0000e+00\n",
      "Epoch 136/200\n",
      "291298/291298 [==============================] - 10s 36us/step - loss: 1.4768e-05 - acc: 0.0000e+00 - val_loss: 1.4368e-05 - val_acc: 0.0000e+00\n",
      "Epoch 137/200\n",
      "291298/291298 [==============================] - 10s 36us/step - loss: 1.4762e-05 - acc: 0.0000e+00 - val_loss: 1.4366e-05 - val_acc: 0.0000e+00\n",
      "Epoch 138/200\n",
      "291298/291298 [==============================] - 10s 36us/step - loss: 1.4749e-05 - acc: 0.0000e+00 - val_loss: 1.4368e-05 - val_acc: 0.0000e+00\n",
      "Epoch 139/200\n",
      "291298/291298 [==============================] - 10s 36us/step - loss: 1.4725e-05 - acc: 0.0000e+00 - val_loss: 1.4353e-05 - val_acc: 0.0000e+00\n",
      "Epoch 140/200\n",
      "291298/291298 [==============================] - 10s 36us/step - loss: 1.4700e-05 - acc: 0.0000e+00 - val_loss: 1.4314e-05 - val_acc: 0.0000e+00\n",
      "Epoch 141/200\n",
      "291298/291298 [==============================] - 10s 36us/step - loss: 1.4655e-05 - acc: 0.0000e+00 - val_loss: 1.4270e-05 - val_acc: 0.0000e+00\n",
      "Epoch 142/200\n",
      "291298/291298 [==============================] - 10s 36us/step - loss: 1.4595e-05 - acc: 0.0000e+00 - val_loss: 1.4207e-05 - val_acc: 0.0000e+00\n",
      "Epoch 143/200\n",
      "291298/291298 [==============================] - 10s 35us/step - loss: 1.4541e-05 - acc: 0.0000e+00 - val_loss: 1.4106e-05 - val_acc: 0.0000e+00\n",
      "Epoch 144/200\n",
      "291298/291298 [==============================] - 10s 35us/step - loss: 1.4479e-05 - acc: 0.0000e+00 - val_loss: 1.4036e-05 - val_acc: 0.0000e+00\n",
      "Epoch 145/200\n",
      "291298/291298 [==============================] - 10s 35us/step - loss: 1.4430e-05 - acc: 0.0000e+00 - val_loss: 1.4045e-05 - val_acc: 0.0000e+00\n",
      "Epoch 146/200\n",
      "291298/291298 [==============================] - 10s 36us/step - loss: 1.4388e-05 - acc: 0.0000e+00 - val_loss: 1.4154e-05 - val_acc: 0.0000e+00\n",
      "Epoch 147/200\n",
      "291298/291298 [==============================] - 10s 36us/step - loss: 1.4356e-05 - acc: 0.0000e+00 - val_loss: 1.3981e-05 - val_acc: 0.0000e+00\n",
      "Epoch 148/200\n",
      "291298/291298 [==============================] - 10s 36us/step - loss: 1.4334e-05 - acc: 0.0000e+00 - val_loss: 1.3964e-05 - val_acc: 0.0000e+00\n",
      "Epoch 149/200\n",
      "291298/291298 [==============================] - 10s 36us/step - loss: 1.4273e-05 - acc: 0.0000e+00 - val_loss: 1.3836e-05 - val_acc: 0.0000e+00\n",
      "Epoch 150/200\n",
      "291298/291298 [==============================] - 10s 36us/step - loss: 1.4215e-05 - acc: 0.0000e+00 - val_loss: 1.3793e-05 - val_acc: 0.0000e+00\n",
      "Epoch 151/200\n",
      "291298/291298 [==============================] - 10s 35us/step - loss: 1.4201e-05 - acc: 0.0000e+00 - val_loss: 1.4180e-05 - val_acc: 0.0000e+00\n",
      "Epoch 152/200\n",
      "291298/291298 [==============================] - 10s 35us/step - loss: 1.4191e-05 - acc: 0.0000e+00 - val_loss: 1.3777e-05 - val_acc: 0.0000e+00\n",
      "Epoch 153/200\n",
      "291298/291298 [==============================] - 10s 35us/step - loss: 1.4178e-05 - acc: 0.0000e+00 - val_loss: 1.3771e-05 - val_acc: 0.0000e+00\n",
      "Epoch 154/200\n",
      "291298/291298 [==============================] - 10s 36us/step - loss: 1.4175e-05 - acc: 0.0000e+00 - val_loss: 1.3767e-05 - val_acc: 0.0000e+00\n",
      "Epoch 155/200\n",
      "291298/291298 [==============================] - 10s 36us/step - loss: 1.4168e-05 - acc: 0.0000e+00 - val_loss: 1.3995e-05 - val_acc: 0.0000e+00\n",
      "Epoch 156/200\n",
      "291298/291298 [==============================] - 10s 36us/step - loss: 1.4161e-05 - acc: 0.0000e+00 - val_loss: 1.3772e-05 - val_acc: 0.0000e+00\n",
      "Epoch 157/200\n",
      "291298/291298 [==============================] - 10s 36us/step - loss: 1.4145e-05 - acc: 0.0000e+00 - val_loss: 1.3748e-05 - val_acc: 0.0000e+00\n",
      "Epoch 158/200\n",
      "291298/291298 [==============================] - 10s 36us/step - loss: 1.4135e-05 - acc: 0.0000e+00 - val_loss: 1.3921e-05 - val_acc: 0.0000e+00\n",
      "Epoch 159/200\n",
      "291298/291298 [==============================] - 10s 36us/step - loss: 1.4132e-05 - acc: 0.0000e+00 - val_loss: 1.3725e-05 - val_acc: 0.0000e+00\n",
      "Epoch 160/200\n",
      "291298/291298 [==============================] - 10s 36us/step - loss: 1.4130e-05 - acc: 0.0000e+00 - val_loss: 1.3713e-05 - val_acc: 0.0000e+00\n",
      "Epoch 161/200\n",
      "291298/291298 [==============================] - 10s 36us/step - loss: 1.4120e-05 - acc: 0.0000e+00 - val_loss: 1.3703e-05 - val_acc: 0.0000e+00\n",
      "Epoch 162/200\n",
      "291298/291298 [==============================] - 10s 36us/step - loss: 1.4120e-05 - acc: 0.0000e+00 - val_loss: 1.3716e-05 - val_acc: 0.0000e+00\n",
      "Epoch 163/200\n",
      "291298/291298 [==============================] - 10s 36us/step - loss: 1.4114e-05 - acc: 0.0000e+00 - val_loss: 1.3691e-05 - val_acc: 0.0000e+00\n",
      "Epoch 164/200\n",
      "291298/291298 [==============================] - 10s 36us/step - loss: 1.4106e-05 - acc: 0.0000e+00 - val_loss: 1.3697e-05 - val_acc: 0.0000e+00\n",
      "Epoch 165/200\n",
      "291298/291298 [==============================] - 10s 36us/step - loss: 1.4102e-05 - acc: 0.0000e+00 - val_loss: 1.3708e-05 - val_acc: 0.0000e+00\n",
      "Epoch 166/200\n",
      "291298/291298 [==============================] - 10s 36us/step - loss: 1.4105e-05 - acc: 0.0000e+00 - val_loss: 1.3683e-05 - val_acc: 0.0000e+00\n",
      "Epoch 167/200\n",
      "291298/291298 [==============================] - 10s 36us/step - loss: 1.4100e-05 - acc: 0.0000e+00 - val_loss: 1.3785e-05 - val_acc: 0.0000e+00\n",
      "Epoch 168/200\n",
      "291298/291298 [==============================] - 10s 35us/step - loss: 1.4093e-05 - acc: 0.0000e+00 - val_loss: 1.3804e-05 - val_acc: 0.0000e+00\n",
      "Epoch 169/200\n",
      "291298/291298 [==============================] - 10s 36us/step - loss: 1.4092e-05 - acc: 0.0000e+00 - val_loss: 1.3697e-05 - val_acc: 0.0000e+00\n",
      "Epoch 170/200\n",
      "291298/291298 [==============================] - 10s 35us/step - loss: 1.4090e-05 - acc: 0.0000e+00 - val_loss: 1.3799e-05 - val_acc: 0.0000e+00\n",
      "Epoch 171/200\n",
      "291298/291298 [==============================] - 10s 36us/step - loss: 1.4083e-05 - acc: 0.0000e+00 - val_loss: 1.3686e-05 - val_acc: 0.0000e+00\n",
      "--- AE spent 2315.9946236610413 seconds ---\n"
     ]
    }
   ],
   "source": [
    "hist_ae_sigmoid_adam_logcosh = fit_ae(checkpoint_file = \"ae_sigmoid_adam_logcosh_redds10bal.h5\",\n",
    "                                        autoencoder = ae_sigmoid_adam_logcosh, \n",
    "                                        epochs = 200, \n",
    "                                        batch_size = 48, \n",
    "                                        shuffle = False)"
   ]
  },
  {
   "cell_type": "code",
   "execution_count": 31,
   "metadata": {},
   "outputs": [
    {
     "name": "stdout",
     "output_type": "stream",
     "text": [
      "Best loss value: 1.4083044855397788e-05\n"
     ]
    },
    {
     "data": {
      "image/png": "[encoded data removed]",
      "text/plain": [
       "<Figure size 432x288 with 1 Axes>"
      ]
     },
     "metadata": {
      "needs_background": "light"
     },
     "output_type": "display_data"
    }
   ],
   "source": [
    "best_loss_value_ae_sigmoid_adam_logcosh = plot_hist_auto(hist_ae_sigmoid_adam_logcosh, './Figures/ae_sigmoid_adam_logcosh.png')"
   ]
  },
  {
   "cell_type": "code",
   "execution_count": null,
   "metadata": {},
   "outputs": [],
   "source": []
  },
  {
   "cell_type": "code",
   "execution_count": null,
   "metadata": {},
   "outputs": [],
   "source": []
  },
  {
   "cell_type": "markdown",
   "metadata": {},
   "source": [
    "# Grid Search AE"
   ]
  },
  {
   "cell_type": "code",
   "execution_count": 32,
   "metadata": {},
   "outputs": [],
   "source": [
    "# def aegs(factor_enc_dim=1.5,enc_activation='relu',dec_activation='sigmoid',optimizer='Adam',loss='logcosh'):\n",
    "\n",
    "#     encoding_dim = int(int(train_x.shape[1])/1.5)\n",
    "#     ### Define input layer\n",
    "#     input_data = Input(shape=(train_x.shape[1],))\n",
    "#     ### Define encoding layer #RELU\n",
    "#     encoded = Dense(encoding_dim, activation=enc_activation, name='encoded_bottle_neck')(input_data)\n",
    "#     ### Define decoding layer #SIMOID\n",
    "#     decoded = Dense(train_x.shape[1], activation=dec_activation)(encoded)\n",
    "#     ### Create the autoencoder model\n",
    "#     autoencoder = Model(input_data, decoded)\n",
    "#     autoencoder.compile(optimizer=optimizer,\n",
    "#                         loss=loss,\n",
    "#                         metrics=['accuracy'])\n",
    "    \n",
    "#     return autoencoder"
   ]
  },
  {
   "cell_type": "code",
   "execution_count": 33,
   "metadata": {},
   "outputs": [],
   "source": [
    "# modelAE = KerasClassifier(build_fn = aegs)"
   ]
  },
  {
   "cell_type": "code",
   "execution_count": 34,
   "metadata": {},
   "outputs": [],
   "source": [
    "# epochs = [100]\n",
    "# batch_size = [48]\n",
    "\n",
    "# factor_enc_dim = [1.5]\n",
    "# enc_activation = ['relu', 'sigmoid']\n",
    "# dec_activation = ['linear', 'sigmoid']\n",
    "# optimizer = ['Adam']\n",
    "# loss=['logcosh', 'mse']"
   ]
  },
  {
   "cell_type": "code",
   "execution_count": 35,
   "metadata": {},
   "outputs": [],
   "source": [
    "# param_gridAE = dict(epochs=epochs, batch_size=batch_size, factor_enc_dim=factor_enc_dim, enc_activation=enc_activation, dec_activation=dec_activation, optimizer=optimizer, loss=loss)"
   ]
  },
  {
   "cell_type": "code",
   "execution_count": 36,
   "metadata": {},
   "outputs": [],
   "source": [
    "# gridAE = GridSearchCV(estimator=modelAE, param_grid=param_gridAE, verbose=1, cv=2)\n",
    "# early_stopping = EarlyStopping(monitor='val_loss', patience=5)"
   ]
  },
  {
   "cell_type": "code",
   "execution_count": 37,
   "metadata": {},
   "outputs": [],
   "source": [
    "# start_time = time.time()\n",
    "# print(time.ctime(start_time))"
   ]
  },
  {
   "cell_type": "code",
   "execution_count": 38,
   "metadata": {},
   "outputs": [],
   "source": [
    "# resultAE = gridAE.fit(train_x, train_x,\n",
    "#                 shuffle=True,\n",
    "#                 verbose=1, \n",
    "#                 callbacks=[early_stopping],\n",
    "#                 validation_data=(dev_x, dev_x))\n",
    "# elapsed_time = (time.time() - start_time)"
   ]
  },
  {
   "cell_type": "code",
   "execution_count": 39,
   "metadata": {},
   "outputs": [],
   "source": [
    "# print(\"--- AE spent %s seconds ---\" %elapsed_time)"
   ]
  },
  {
   "cell_type": "code",
   "execution_count": 40,
   "metadata": {},
   "outputs": [],
   "source": [
    "# print(\"Best: %f using %s\" % (resultAE.best_score_, resultAE.best_params_))\n",
    "# means = resultAE.cv_results_['mean_test_score']\n",
    "# stds = resultAE.cv_results_['std_test_score']\n",
    "# params = resultAE.cv_results_['params']\n",
    "# for mean, stdev, param in zip(means, stds, params):\n",
    "#     print(\"%f (%f) with: %r\" % (mean, stdev, param))"
   ]
  },
  {
   "cell_type": "markdown",
   "metadata": {},
   "source": [
    "39298/39298 [==============================] - 2s 41us/step - loss: 2.9830e-06 - acc: 0.1110 - val_loss: 4.9964e-06 - val_acc: 0.0225"
   ]
  },
  {
   "cell_type": "markdown",
   "metadata": {},
   "source": [
    "0.084215 (0.044213) with: {'batch_size': 48, 'dec_activation': 'linear', 'enc_activation': 'sigmoid', 'epochs': 100, 'factor_enc_dim': 1.5, 'loss': 'logcosh', 'optimizer': 'Adam'}"
   ]
  },
  {
   "cell_type": "code",
   "execution_count": 41,
   "metadata": {},
   "outputs": [
    {
     "name": "stdout",
     "output_type": "stream",
     "text": [
      "_________________________________________________________________\n",
      "Layer (type)                 Output Shape              Param #   \n",
      "=================================================================\n",
      "input_2 (InputLayer)         (None, 48)                0         \n",
      "_________________________________________________________________\n",
      "encoded_bottle_neck (Dense)  (None, 32)                1568      \n",
      "_________________________________________________________________\n",
      "dense_2 (Dense)              (None, 48)                1584      \n",
      "=================================================================\n",
      "Total params: 3,152\n",
      "Trainable params: 3,152\n",
      "Non-trainable params: 0\n",
      "_________________________________________________________________\n",
      "None\n"
     ]
    }
   ],
   "source": [
    "ae_siglin_adam_logcosh,enc_train_x_aslal,enc_test_x_aslal = ae(factor_enc_dim = 1.5,\n",
    "                                                              enc_activation = 'sigmoid',\n",
    "                                                              dec_activation = 'linear',\n",
    "                                                              optimizer='Adam',\n",
    "                                                              loss='logcosh')"
   ]
  },
  {
   "cell_type": "code",
   "execution_count": 42,
   "metadata": {},
   "outputs": [],
   "source": [
    "#ae_siglin_adam_logcosh = load_model('ae_siglin_adam_logcosh_redds10bal.h5')"
   ]
  },
  {
   "cell_type": "code",
   "execution_count": 43,
   "metadata": {},
   "outputs": [
    {
     "name": "stdout",
     "output_type": "stream",
     "text": [
      "Thu Jun  6 14:40:11 2019\n",
      "Train on 291298 samples, validate on 72825 samples\n",
      "Epoch 1/200\n",
      "291298/291298 [==============================] - 10s 36us/step - loss: 0.0041 - acc: 0.0764 - val_loss: 8.5461e-05 - val_acc: 0.0570\n",
      "Epoch 2/200\n",
      "291298/291298 [==============================] - 10s 36us/step - loss: 4.8990e-05 - acc: 0.0368 - val_loss: 2.8091e-05 - val_acc: 0.0654\n",
      "Epoch 3/200\n",
      "291298/291298 [==============================] - 10s 35us/step - loss: 2.1206e-05 - acc: 0.0350 - val_loss: 1.6585e-05 - val_acc: 0.0440\n",
      "Epoch 4/200\n",
      "291298/291298 [==============================] - 10s 35us/step - loss: 1.3374e-05 - acc: 0.0362 - val_loss: 1.1180e-05 - val_acc: 0.0498\n",
      "Epoch 5/200\n",
      "291298/291298 [==============================] - 10s 36us/step - loss: 9.7674e-06 - acc: 0.0361 - val_loss: 7.9525e-06 - val_acc: 0.0345\n",
      "Epoch 6/200\n",
      "291298/291298 [==============================] - 10s 36us/step - loss: 7.7298e-06 - acc: 0.0361 - val_loss: 6.8255e-06 - val_acc: 0.0224\n",
      "Epoch 7/200\n",
      "291298/291298 [==============================] - 10s 35us/step - loss: 6.4111e-06 - acc: 0.0361 - val_loss: 5.9823e-06 - val_acc: 0.0260\n",
      "Epoch 8/200\n",
      "291298/291298 [==============================] - 10s 36us/step - loss: 5.5119e-06 - acc: 0.0364 - val_loss: 5.4397e-06 - val_acc: 0.0159\n",
      "Epoch 9/200\n",
      "291298/291298 [==============================] - 10s 35us/step - loss: 4.8528e-06 - acc: 0.0368 - val_loss: 4.7155e-06 - val_acc: 0.0122\n",
      "Epoch 10/200\n",
      "291298/291298 [==============================] - 10s 36us/step - loss: 4.3564e-06 - acc: 0.0373 - val_loss: 4.1525e-06 - val_acc: 0.0116\n",
      "Epoch 11/200\n",
      "291298/291298 [==============================] - 10s 36us/step - loss: 3.9637e-06 - acc: 0.0372 - val_loss: 3.7185e-06 - val_acc: 0.0140\n",
      "Epoch 12/200\n",
      "291298/291298 [==============================] - 10s 36us/step - loss: 3.6445e-06 - acc: 0.0372 - val_loss: 3.3406e-06 - val_acc: 0.0145\n",
      "Epoch 13/200\n",
      "291298/291298 [==============================] - 10s 35us/step - loss: 3.3821e-06 - acc: 0.0375 - val_loss: 3.0801e-06 - val_acc: 0.0148\n",
      "Epoch 14/200\n",
      "291298/291298 [==============================] - 10s 35us/step - loss: 3.1638e-06 - acc: 0.0378 - val_loss: 2.9069e-06 - val_acc: 0.0140\n",
      "Epoch 15/200\n",
      "291298/291298 [==============================] - 10s 35us/step - loss: 2.9782e-06 - acc: 0.0378 - val_loss: 2.7371e-06 - val_acc: 0.0109\n",
      "Epoch 16/200\n",
      "291298/291298 [==============================] - 10s 35us/step - loss: 2.8153e-06 - acc: 0.0378 - val_loss: 2.4951e-06 - val_acc: 0.0137\n",
      "Epoch 17/200\n",
      "291298/291298 [==============================] - 10s 36us/step - loss: 2.6814e-06 - acc: 0.0381 - val_loss: 2.4133e-06 - val_acc: 0.0175\n",
      "Epoch 18/200\n",
      "291298/291298 [==============================] - 10s 35us/step - loss: 2.5650e-06 - acc: 0.0384 - val_loss: 2.3279e-06 - val_acc: 0.0169\n",
      "Epoch 19/200\n",
      "291298/291298 [==============================] - 10s 35us/step - loss: 2.4596e-06 - acc: 0.0387 - val_loss: 2.2946e-06 - val_acc: 0.0115\n",
      "Epoch 20/200\n",
      "291298/291298 [==============================] - 10s 35us/step - loss: 2.3662e-06 - acc: 0.0389 - val_loss: 2.2961e-06 - val_acc: 0.0132\n",
      "Epoch 21/200\n",
      "291298/291298 [==============================] - 10s 36us/step - loss: 2.2824e-06 - acc: 0.0393 - val_loss: 2.3129e-06 - val_acc: 0.0120\n",
      "Epoch 22/200\n",
      "291298/291298 [==============================] - 10s 35us/step - loss: 2.2065e-06 - acc: 0.0396 - val_loss: 2.2749e-06 - val_acc: 0.0137\n",
      "Epoch 23/200\n",
      "291298/291298 [==============================] - 10s 36us/step - loss: 2.1384e-06 - acc: 0.0399 - val_loss: 2.1985e-06 - val_acc: 0.0139\n",
      "Epoch 24/200\n",
      "291298/291298 [==============================] - 10s 36us/step - loss: 2.0761e-06 - acc: 0.0397 - val_loss: 2.1679e-06 - val_acc: 0.0147\n",
      "Epoch 25/200\n",
      "291298/291298 [==============================] - 10s 36us/step - loss: 2.0191e-06 - acc: 0.0399 - val_loss: 2.1922e-06 - val_acc: 0.0151\n",
      "Epoch 26/200\n",
      "291298/291298 [==============================] - 10s 35us/step - loss: 1.9670e-06 - acc: 0.0401 - val_loss: 2.2274e-06 - val_acc: 0.0170\n",
      "Epoch 27/200\n",
      "291298/291298 [==============================] - 10s 35us/step - loss: 1.9190e-06 - acc: 0.0401 - val_loss: 2.2645e-06 - val_acc: 0.0182\n",
      "Epoch 28/200\n",
      "291298/291298 [==============================] - 10s 35us/step - loss: 1.8744e-06 - acc: 0.0405 - val_loss: 2.2911e-06 - val_acc: 0.0189\n",
      "Epoch 29/200\n",
      "291298/291298 [==============================] - 10s 35us/step - loss: 1.8329e-06 - acc: 0.0407 - val_loss: 2.3133e-06 - val_acc: 0.0170\n",
      "--- AE spent 300.3912842273712 seconds ---\n"
     ]
    }
   ],
   "source": [
    "hist_ae_siglin_adam_logcosh = fit_ae(checkpoint_file = \"ae_siglin_adam_logcosh_redds10bal.h5\",\n",
    "                                        autoencoder = ae_siglin_adam_logcosh, \n",
    "                                        epochs = 200, \n",
    "                                        batch_size = 48, \n",
    "                                        shuffle = False)"
   ]
  },
  {
   "cell_type": "code",
   "execution_count": 44,
   "metadata": {},
   "outputs": [
    {
     "name": "stdout",
     "output_type": "stream",
     "text": [
      "Best loss value: 1.8328752667281846e-06\n"
     ]
    },
    {
     "data": {
      "image/png": "[encoded data removed]",
      "text/plain": [
       "<Figure size 432x288 with 1 Axes>"
      ]
     },
     "metadata": {
      "needs_background": "light"
     },
     "output_type": "display_data"
    }
   ],
   "source": [
    "best_loss_value_ae_siglin_adam_logcosh = plot_hist_auto(hist_ae_siglin_adam_logcosh, './Figures/hist_ae_siglin_adam_logcosh.png')"
   ]
  },
  {
   "cell_type": "code",
   "execution_count": null,
   "metadata": {},
   "outputs": [],
   "source": []
  },
  {
   "cell_type": "code",
   "execution_count": 45,
   "metadata": {},
   "outputs": [
    {
     "name": "stdout",
     "output_type": "stream",
     "text": [
      "_________________________________________________________________\n",
      "Layer (type)                 Output Shape              Param #   \n",
      "=================================================================\n",
      "input_3 (InputLayer)         (None, 48)                0         \n",
      "_________________________________________________________________\n",
      "encoded_bottle_neck (Dense)  (None, 32)                1568      \n",
      "_________________________________________________________________\n",
      "dense_3 (Dense)              (None, 48)                1584      \n",
      "=================================================================\n",
      "Total params: 3,152\n",
      "Trainable params: 3,152\n",
      "Non-trainable params: 0\n",
      "_________________________________________________________________\n",
      "None\n"
     ]
    }
   ],
   "source": [
    "ae_sigmoid_adam_mse,enc_train_x_asam,enc_test_x_asam = ae(factor_enc_dim = 1.5,\n",
    "                                                          enc_activation = 'relu',\n",
    "                                                          dec_activation = 'sigmoid',\n",
    "                                                          optimizer='Adam',\n",
    "                                                          loss='mean_squared_error')"
   ]
  },
  {
   "cell_type": "code",
   "execution_count": 46,
   "metadata": {},
   "outputs": [],
   "source": [
    "#ae_sigmoid_adam_mse = load_model('ae_sigmoid_adam_mse_redds10bal.h5')"
   ]
  },
  {
   "cell_type": "code",
   "execution_count": 47,
   "metadata": {},
   "outputs": [
    {
     "name": "stdout",
     "output_type": "stream",
     "text": [
      "Thu Jun  6 14:45:15 2019\n",
      "Train on 291298 samples, validate on 72825 samples\n",
      "Epoch 1/200\n",
      "291298/291298 [==============================] - 10s 35us/step - loss: 0.0067 - acc: 0.0091 - val_loss: 1.2815e-04 - val_acc: 0.0000e+00\n",
      "Epoch 2/200\n",
      "291298/291298 [==============================] - 10s 35us/step - loss: 1.0853e-04 - acc: 0.0000e+00 - val_loss: 9.7881e-05 - val_acc: 0.0000e+00\n",
      "Epoch 3/200\n",
      "291298/291298 [==============================] - 10s 35us/step - loss: 9.6712e-05 - acc: 0.0000e+00 - val_loss: 9.5692e-05 - val_acc: 0.0000e+00\n",
      "Epoch 4/200\n",
      "291298/291298 [==============================] - 10s 35us/step - loss: 9.5901e-05 - acc: 0.0000e+00 - val_loss: 9.5327e-05 - val_acc: 0.0000e+00\n",
      "Epoch 5/200\n",
      "291298/291298 [==============================] - 10s 35us/step - loss: 9.5622e-05 - acc: 0.0000e+00 - val_loss: 9.5150e-05 - val_acc: 0.0000e+00\n",
      "Epoch 6/200\n",
      "291298/291298 [==============================] - 10s 35us/step - loss: 9.5397e-05 - acc: 0.0000e+00 - val_loss: 9.4734e-05 - val_acc: 0.0000e+00\n",
      "Epoch 7/200\n",
      "291298/291298 [==============================] - 10s 35us/step - loss: 9.5148e-05 - acc: 0.0000e+00 - val_loss: 9.4523e-05 - val_acc: 0.0000e+00\n",
      "Epoch 8/200\n",
      "291298/291298 [==============================] - 10s 35us/step - loss: 9.4868e-05 - acc: 0.0000e+00 - val_loss: 9.4199e-05 - val_acc: 0.0000e+00\n",
      "Epoch 9/200\n",
      "291298/291298 [==============================] - 10s 35us/step - loss: 9.4313e-05 - acc: 0.0000e+00 - val_loss: 9.3463e-05 - val_acc: 0.0000e+00\n",
      "Epoch 10/200\n",
      "291298/291298 [==============================] - 10s 35us/step - loss: 9.3552e-05 - acc: 0.0000e+00 - val_loss: 9.2612e-05 - val_acc: 0.0000e+00\n",
      "Epoch 11/200\n",
      "291298/291298 [==============================] - 10s 35us/step - loss: 9.2984e-05 - acc: 0.0000e+00 - val_loss: 9.2255e-05 - val_acc: 0.0000e+00\n",
      "Epoch 12/200\n",
      "291298/291298 [==============================] - 10s 35us/step - loss: 9.2622e-05 - acc: 0.0000e+00 - val_loss: 9.1490e-05 - val_acc: 0.0000e+00\n",
      "Epoch 13/200\n",
      "291298/291298 [==============================] - 10s 35us/step - loss: 9.2344e-05 - acc: 0.0000e+00 - val_loss: 9.1312e-05 - val_acc: 0.0000e+00\n",
      "Epoch 14/200\n",
      "291298/291298 [==============================] - 10s 35us/step - loss: 9.2126e-05 - acc: 0.0000e+00 - val_loss: 9.1231e-05 - val_acc: 0.0000e+00\n",
      "Epoch 15/200\n",
      "291298/291298 [==============================] - 10s 35us/step - loss: 9.1939e-05 - acc: 0.0000e+00 - val_loss: 9.1120e-05 - val_acc: 0.0000e+00\n",
      "Epoch 16/200\n",
      "291298/291298 [==============================] - 10s 35us/step - loss: 9.1754e-05 - acc: 0.0000e+00 - val_loss: 9.0916e-05 - val_acc: 0.0000e+00\n",
      "Epoch 17/200\n",
      "291298/291298 [==============================] - 10s 35us/step - loss: 9.1537e-05 - acc: 0.0000e+00 - val_loss: 9.0597e-05 - val_acc: 0.0000e+00\n",
      "Epoch 18/200\n",
      "291298/291298 [==============================] - 10s 35us/step - loss: 9.1170e-05 - acc: 0.0000e+00 - val_loss: 8.9901e-05 - val_acc: 0.0000e+00\n",
      "Epoch 19/200\n",
      "291298/291298 [==============================] - 10s 35us/step - loss: 9.0481e-05 - acc: 0.0000e+00 - val_loss: 8.9263e-05 - val_acc: 0.0000e+00\n",
      "Epoch 20/200\n",
      "291298/291298 [==============================] - 10s 35us/step - loss: 8.9807e-05 - acc: 0.0000e+00 - val_loss: 8.8575e-05 - val_acc: 0.0000e+00\n",
      "Epoch 21/200\n",
      "291298/291298 [==============================] - 10s 35us/step - loss: 8.9245e-05 - acc: 0.0000e+00 - val_loss: 8.7967e-05 - val_acc: 0.0000e+00\n",
      "Epoch 22/200\n",
      "291298/291298 [==============================] - 10s 35us/step - loss: 8.8664e-05 - acc: 0.0000e+00 - val_loss: 8.6987e-05 - val_acc: 0.0000e+00\n",
      "Epoch 23/200\n",
      "291298/291298 [==============================] - 10s 35us/step - loss: 8.7726e-05 - acc: 0.0000e+00 - val_loss: 8.6375e-05 - val_acc: 0.0000e+00\n",
      "Epoch 24/200\n",
      "291298/291298 [==============================] - 10s 35us/step - loss: 8.7153e-05 - acc: 0.0000e+00 - val_loss: 8.5902e-05 - val_acc: 0.0000e+00\n",
      "Epoch 25/200\n",
      "291298/291298 [==============================] - 10s 35us/step - loss: 8.6707e-05 - acc: 0.0000e+00 - val_loss: 8.5556e-05 - val_acc: 0.0000e+00\n",
      "Epoch 26/200\n",
      "291298/291298 [==============================] - 10s 35us/step - loss: 8.6254e-05 - acc: 0.0000e+00 - val_loss: 8.5064e-05 - val_acc: 0.0000e+00\n",
      "Epoch 27/200\n",
      "291298/291298 [==============================] - 10s 35us/step - loss: 8.5591e-05 - acc: 0.0000e+00 - val_loss: 8.4520e-05 - val_acc: 0.0000e+00\n",
      "Epoch 28/200\n",
      "291298/291298 [==============================] - 10s 35us/step - loss: 8.5041e-05 - acc: 0.0000e+00 - val_loss: 8.3982e-05 - val_acc: 0.0000e+00\n",
      "Epoch 29/200\n",
      "291298/291298 [==============================] - 10s 35us/step - loss: 8.3703e-05 - acc: 0.0000e+00 - val_loss: 8.1964e-05 - val_acc: 0.0000e+00\n",
      "Epoch 30/200\n",
      "291298/291298 [==============================] - 10s 35us/step - loss: 8.2004e-05 - acc: 0.0000e+00 - val_loss: 8.1259e-05 - val_acc: 0.0000e+00\n",
      "Epoch 31/200\n",
      "291298/291298 [==============================] - 10s 35us/step - loss: 8.0657e-05 - acc: 0.0000e+00 - val_loss: 7.9887e-05 - val_acc: 0.0000e+00\n",
      "Epoch 32/200\n",
      "291298/291298 [==============================] - 10s 35us/step - loss: 7.9890e-05 - acc: 0.0000e+00 - val_loss: 7.9130e-05 - val_acc: 0.0000e+00\n",
      "Epoch 33/200\n",
      "291298/291298 [==============================] - 10s 35us/step - loss: 7.9119e-05 - acc: 0.0000e+00 - val_loss: 7.8480e-05 - val_acc: 0.0000e+00\n",
      "Epoch 34/200\n",
      "291298/291298 [==============================] - 10s 35us/step - loss: 7.8280e-05 - acc: 0.0000e+00 - val_loss: 7.7280e-05 - val_acc: 0.0000e+00\n",
      "Epoch 35/200\n",
      "291298/291298 [==============================] - 10s 35us/step - loss: 7.6370e-05 - acc: 0.0000e+00 - val_loss: 7.3614e-05 - val_acc: 0.0000e+00\n",
      "Epoch 36/200\n",
      "291298/291298 [==============================] - 10s 35us/step - loss: 7.0370e-05 - acc: 0.0000e+00 - val_loss: 6.8240e-05 - val_acc: 0.0000e+00\n",
      "Epoch 37/200\n",
      "291298/291298 [==============================] - 10s 35us/step - loss: 6.6948e-05 - acc: 0.0000e+00 - val_loss: 6.5589e-05 - val_acc: 0.0000e+00\n",
      "Epoch 38/200\n",
      "291298/291298 [==============================] - 10s 35us/step - loss: 6.4293e-05 - acc: 0.0000e+00 - val_loss: 6.3577e-05 - val_acc: 0.0000e+00\n",
      "Epoch 39/200\n",
      "291298/291298 [==============================] - 10s 35us/step - loss: 6.2988e-05 - acc: 0.0000e+00 - val_loss: 6.3084e-05 - val_acc: 0.0000e+00\n",
      "Epoch 40/200\n",
      "291298/291298 [==============================] - 10s 35us/step - loss: 6.2471e-05 - acc: 0.0000e+00 - val_loss: 6.2667e-05 - val_acc: 0.0000e+00\n",
      "Epoch 41/200\n",
      "291298/291298 [==============================] - 10s 35us/step - loss: 6.1981e-05 - acc: 0.0000e+00 - val_loss: 6.2173e-05 - val_acc: 0.0000e+00\n",
      "Epoch 42/200\n",
      "291298/291298 [==============================] - 10s 35us/step - loss: 6.1386e-05 - acc: 0.0000e+00 - val_loss: 6.1462e-05 - val_acc: 0.0000e+00\n",
      "Epoch 43/200\n",
      "291298/291298 [==============================] - 10s 35us/step - loss: 6.0558e-05 - acc: 0.0000e+00 - val_loss: 6.0322e-05 - val_acc: 0.0000e+00\n",
      "Epoch 44/200\n",
      "291298/291298 [==============================] - 10s 35us/step - loss: 5.9522e-05 - acc: 0.0000e+00 - val_loss: 5.8924e-05 - val_acc: 0.0000e+00\n",
      "Epoch 45/200\n",
      "291298/291298 [==============================] - 10s 35us/step - loss: 5.8064e-05 - acc: 0.0000e+00 - val_loss: 5.6954e-05 - val_acc: 0.0000e+00\n",
      "Epoch 46/200\n",
      "291298/291298 [==============================] - 10s 35us/step - loss: 5.6596e-05 - acc: 0.0000e+00 - val_loss: 5.5827e-05 - val_acc: 0.0000e+00\n",
      "Epoch 47/200\n",
      "291298/291298 [==============================] - 10s 35us/step - loss: 5.5599e-05 - acc: 0.0000e+00 - val_loss: 5.5173e-05 - val_acc: 0.0000e+00\n",
      "Epoch 48/200\n",
      "291298/291298 [==============================] - 10s 35us/step - loss: 5.4961e-05 - acc: 0.0000e+00 - val_loss: 5.4811e-05 - val_acc: 0.0000e+00\n",
      "Epoch 49/200\n",
      "291298/291298 [==============================] - 10s 35us/step - loss: 5.4534e-05 - acc: 0.0000e+00 - val_loss: 5.4573e-05 - val_acc: 0.0000e+00\n",
      "Epoch 50/200\n",
      "291298/291298 [==============================] - 10s 35us/step - loss: 5.4217e-05 - acc: 0.0000e+00 - val_loss: 5.4372e-05 - val_acc: 0.0000e+00\n",
      "Epoch 51/200\n",
      "291298/291298 [==============================] - 10s 35us/step - loss: 5.3915e-05 - acc: 0.0000e+00 - val_loss: 5.3935e-05 - val_acc: 0.0000e+00\n",
      "Epoch 52/200\n",
      "291298/291298 [==============================] - 10s 35us/step - loss: 5.3369e-05 - acc: 0.0000e+00 - val_loss: 5.3157e-05 - val_acc: 0.0000e+00\n",
      "Epoch 53/200\n",
      "291298/291298 [==============================] - 10s 35us/step - loss: 5.1809e-05 - acc: 0.0000e+00 - val_loss: 5.1476e-05 - val_acc: 0.0000e+00\n",
      "Epoch 54/200\n",
      "291298/291298 [==============================] - 10s 35us/step - loss: 5.0485e-05 - acc: 0.0000e+00 - val_loss: 5.0545e-05 - val_acc: 0.0000e+00\n",
      "Epoch 55/200\n",
      "291298/291298 [==============================] - 10s 35us/step - loss: 4.9258e-05 - acc: 0.0000e+00 - val_loss: 4.8658e-05 - val_acc: 0.0000e+00\n",
      "Epoch 56/200\n",
      "291298/291298 [==============================] - 10s 35us/step - loss: 4.7169e-05 - acc: 0.0000e+00 - val_loss: 4.6701e-05 - val_acc: 0.0000e+00\n",
      "Epoch 57/200\n",
      "291298/291298 [==============================] - 10s 35us/step - loss: 4.5420e-05 - acc: 0.0000e+00 - val_loss: 4.5580e-05 - val_acc: 0.0000e+00\n",
      "Epoch 58/200\n",
      "291298/291298 [==============================] - 10s 35us/step - loss: 4.3778e-05 - acc: 0.0000e+00 - val_loss: 4.2828e-05 - val_acc: 0.0000e+00\n",
      "Epoch 59/200\n",
      "291298/291298 [==============================] - 10s 35us/step - loss: 4.1135e-05 - acc: 0.0000e+00 - val_loss: 4.1373e-05 - val_acc: 0.0000e+00\n",
      "Epoch 60/200\n",
      "291298/291298 [==============================] - 10s 35us/step - loss: 3.9950e-05 - acc: 0.0000e+00 - val_loss: 4.0347e-05 - val_acc: 0.0000e+00\n",
      "Epoch 61/200\n",
      "291298/291298 [==============================] - 10s 35us/step - loss: 3.9077e-05 - acc: 0.0000e+00 - val_loss: 3.9592e-05 - val_acc: 0.0000e+00\n",
      "Epoch 62/200\n",
      "291298/291298 [==============================] - 10s 35us/step - loss: 3.8284e-05 - acc: 0.0000e+00 - val_loss: 3.8911e-05 - val_acc: 0.0000e+00\n",
      "Epoch 63/200\n",
      "291298/291298 [==============================] - 10s 35us/step - loss: 3.7597e-05 - acc: 0.0000e+00 - val_loss: 3.8225e-05 - val_acc: 0.0000e+00\n",
      "Epoch 64/200\n",
      "291298/291298 [==============================] - 10s 35us/step - loss: 3.7009e-05 - acc: 0.0000e+00 - val_loss: 3.7653e-05 - val_acc: 0.0000e+00\n",
      "Epoch 65/200\n",
      "291298/291298 [==============================] - 10s 35us/step - loss: 3.6499e-05 - acc: 0.0000e+00 - val_loss: 3.7144e-05 - val_acc: 0.0000e+00\n",
      "Epoch 66/200\n",
      "291298/291298 [==============================] - 10s 35us/step - loss: 3.5862e-05 - acc: 0.0000e+00 - val_loss: 3.6820e-05 - val_acc: 0.0000e+00\n",
      "Epoch 67/200\n",
      "291298/291298 [==============================] - 10s 35us/step - loss: 3.5355e-05 - acc: 0.0000e+00 - val_loss: 3.6526e-05 - val_acc: 0.0000e+00\n",
      "Epoch 68/200\n",
      "291298/291298 [==============================] - 10s 35us/step - loss: 3.5005e-05 - acc: 0.0000e+00 - val_loss: 3.6251e-05 - val_acc: 0.0000e+00\n",
      "Epoch 69/200\n",
      "291298/291298 [==============================] - 10s 35us/step - loss: 3.4718e-05 - acc: 0.0000e+00 - val_loss: 3.6110e-05 - val_acc: 0.0000e+00\n",
      "Epoch 70/200\n",
      "291298/291298 [==============================] - 10s 35us/step - loss: 3.4484e-05 - acc: 0.0000e+00 - val_loss: 3.6141e-05 - val_acc: 0.0000e+00\n",
      "Epoch 71/200\n",
      "291298/291298 [==============================] - 10s 35us/step - loss: 3.4286e-05 - acc: 0.0000e+00 - val_loss: 3.6187e-05 - val_acc: 0.0000e+00\n",
      "Epoch 72/200\n",
      "291298/291298 [==============================] - 10s 35us/step - loss: 3.4124e-05 - acc: 0.0000e+00 - val_loss: 3.6247e-05 - val_acc: 0.0000e+00\n",
      "Epoch 73/200\n",
      "291298/291298 [==============================] - 10s 35us/step - loss: 3.3980e-05 - acc: 0.0000e+00 - val_loss: 3.6135e-05 - val_acc: 0.0000e+00\n",
      "Epoch 74/200\n",
      "291298/291298 [==============================] - 10s 35us/step - loss: 3.3849e-05 - acc: 0.0000e+00 - val_loss: 3.5933e-05 - val_acc: 0.0000e+00\n",
      "Epoch 75/200\n",
      "291298/291298 [==============================] - 10s 35us/step - loss: 3.3707e-05 - acc: 0.0000e+00 - val_loss: 3.5508e-05 - val_acc: 0.0000e+00\n",
      "Epoch 76/200\n",
      "291298/291298 [==============================] - 10s 35us/step - loss: 3.3564e-05 - acc: 0.0000e+00 - val_loss: 3.5421e-05 - val_acc: 0.0000e+00\n",
      "Epoch 77/200\n",
      "291298/291298 [==============================] - 10s 35us/step - loss: 3.3451e-05 - acc: 0.0000e+00 - val_loss: 3.5150e-05 - val_acc: 0.0000e+00\n",
      "Epoch 78/200\n",
      "291298/291298 [==============================] - 10s 35us/step - loss: 3.3357e-05 - acc: 0.0000e+00 - val_loss: 3.4650e-05 - val_acc: 0.0000e+00\n",
      "Epoch 79/200\n",
      "291298/291298 [==============================] - 10s 35us/step - loss: 3.3291e-05 - acc: 0.0000e+00 - val_loss: 3.4255e-05 - val_acc: 0.0000e+00\n",
      "Epoch 80/200\n",
      "291298/291298 [==============================] - 10s 35us/step - loss: 3.3228e-05 - acc: 0.0000e+00 - val_loss: 3.4011e-05 - val_acc: 0.0000e+00\n",
      "Epoch 81/200\n",
      "291298/291298 [==============================] - 10s 35us/step - loss: 3.3167e-05 - acc: 0.0000e+00 - val_loss: 3.3870e-05 - val_acc: 0.0000e+00\n",
      "Epoch 82/200\n",
      "291298/291298 [==============================] - 10s 35us/step - loss: 3.3127e-05 - acc: 0.0000e+00 - val_loss: 3.3757e-05 - val_acc: 0.0000e+00\n",
      "Epoch 83/200\n",
      "291298/291298 [==============================] - 10s 35us/step - loss: 3.3078e-05 - acc: 0.0000e+00 - val_loss: 3.3666e-05 - val_acc: 0.0000e+00\n",
      "Epoch 84/200\n",
      "291298/291298 [==============================] - 10s 35us/step - loss: 3.3050e-05 - acc: 6.8658e-06 - val_loss: 3.3589e-05 - val_acc: 0.0000e+00\n",
      "Epoch 85/200\n",
      "291298/291298 [==============================] - 10s 35us/step - loss: 3.3010e-05 - acc: 2.1284e-04 - val_loss: 3.3557e-05 - val_acc: 3.0209e-04\n",
      "Epoch 86/200\n",
      "291298/291298 [==============================] - 10s 35us/step - loss: 3.2967e-05 - acc: 3.0553e-04 - val_loss: 3.3446e-05 - val_acc: 3.5702e-04\n",
      "Epoch 87/200\n",
      "291298/291298 [==============================] - 10s 35us/step - loss: 3.2936e-05 - acc: 3.6732e-04 - val_loss: 3.3294e-05 - val_acc: 3.9821e-04\n",
      "Epoch 88/200\n",
      "291298/291298 [==============================] - 10s 35us/step - loss: 3.2734e-05 - acc: 4.1882e-04 - val_loss: 3.3126e-05 - val_acc: 4.1195e-04\n",
      "Epoch 89/200\n",
      "291298/291298 [==============================] - 10s 35us/step - loss: 3.2654e-05 - acc: 4.4971e-04 - val_loss: 3.3048e-05 - val_acc: 4.5314e-04\n",
      "Epoch 90/200\n",
      "291298/291298 [==============================] - 10s 35us/step - loss: 3.2610e-05 - acc: 4.8747e-04 - val_loss: 3.3016e-05 - val_acc: 5.2180e-04\n",
      "Epoch 91/200\n",
      "291298/291298 [==============================] - 10s 35us/step - loss: 3.2578e-05 - acc: 5.1494e-04 - val_loss: 3.2959e-05 - val_acc: 5.4926e-04\n",
      "Epoch 92/200\n",
      "291298/291298 [==============================] - 10s 35us/step - loss: 3.2556e-05 - acc: 5.9046e-04 - val_loss: 3.2921e-05 - val_acc: 7.9643e-04\n",
      "Epoch 93/200\n",
      "291298/291298 [==============================] - 10s 35us/step - loss: 3.2532e-05 - acc: 7.2778e-04 - val_loss: 3.2850e-05 - val_acc: 8.1016e-04\n",
      "Epoch 94/200\n",
      "291298/291298 [==============================] - 10s 35us/step - loss: 3.2508e-05 - acc: 7.9644e-04 - val_loss: 3.2813e-05 - val_acc: 8.3762e-04\n",
      "Epoch 95/200\n",
      "291298/291298 [==============================] - 10s 35us/step - loss: 3.2490e-05 - acc: 9.2345e-04 - val_loss: 3.2789e-05 - val_acc: 0.0011\n",
      "Epoch 96/200\n",
      "291298/291298 [==============================] - 10s 35us/step - loss: 3.2472e-05 - acc: 0.0012 - val_loss: 3.2784e-05 - val_acc: 0.0015\n",
      "Epoch 97/200\n",
      "291298/291298 [==============================] - 10s 35us/step - loss: 3.2458e-05 - acc: 0.0015 - val_loss: 3.2778e-05 - val_acc: 0.0019\n",
      "Epoch 98/200\n",
      "291298/291298 [==============================] - 10s 35us/step - loss: 3.2446e-05 - acc: 0.0020 - val_loss: 3.2796e-05 - val_acc: 0.0025\n",
      "Epoch 99/200\n",
      "291298/291298 [==============================] - 10s 35us/step - loss: 3.2432e-05 - acc: 0.0030 - val_loss: 3.2735e-05 - val_acc: 0.0034\n",
      "Epoch 100/200\n",
      "291298/291298 [==============================] - 10s 35us/step - loss: 3.2421e-05 - acc: 0.0041 - val_loss: 3.2745e-05 - val_acc: 0.0044\n",
      "Epoch 101/200\n",
      "291298/291298 [==============================] - 10s 35us/step - loss: 3.2412e-05 - acc: 0.0045 - val_loss: 3.2735e-05 - val_acc: 0.0046\n",
      "Epoch 102/200\n",
      "291298/291298 [==============================] - 10s 35us/step - loss: 3.2404e-05 - acc: 0.0048 - val_loss: 3.2702e-05 - val_acc: 0.0048\n",
      "Epoch 103/200\n",
      "291298/291298 [==============================] - 10s 35us/step - loss: 3.2387e-05 - acc: 0.0051 - val_loss: 3.2706e-05 - val_acc: 0.0052\n",
      "Epoch 104/200\n",
      "291298/291298 [==============================] - 10s 35us/step - loss: 3.2378e-05 - acc: 0.0055 - val_loss: 3.2664e-05 - val_acc: 0.0055\n",
      "Epoch 105/200\n",
      "291298/291298 [==============================] - 10s 35us/step - loss: 3.2369e-05 - acc: 0.0057 - val_loss: 3.2744e-05 - val_acc: 0.0056\n",
      "Epoch 106/200\n",
      "291298/291298 [==============================] - 10s 35us/step - loss: 3.2354e-05 - acc: 0.0059 - val_loss: 3.2704e-05 - val_acc: 0.0060\n",
      "Epoch 107/200\n",
      "291298/291298 [==============================] - 10s 35us/step - loss: 3.2346e-05 - acc: 0.0063 - val_loss: 3.2650e-05 - val_acc: 0.0070\n",
      "Epoch 108/200\n",
      "291298/291298 [==============================] - 10s 35us/step - loss: 3.2338e-05 - acc: 0.0070 - val_loss: 3.2656e-05 - val_acc: 0.0071\n",
      "Epoch 109/200\n",
      "291298/291298 [==============================] - 10s 35us/step - loss: 3.2329e-05 - acc: 0.0078 - val_loss: 3.2622e-05 - val_acc: 0.0080\n",
      "Epoch 110/200\n",
      "291298/291298 [==============================] - 10s 35us/step - loss: 3.2320e-05 - acc: 0.0089 - val_loss: 3.2639e-05 - val_acc: 0.0092\n",
      "Epoch 111/200\n",
      "291298/291298 [==============================] - 10s 35us/step - loss: 3.2310e-05 - acc: 0.0099 - val_loss: 3.2619e-05 - val_acc: 0.0105\n",
      "Epoch 112/200\n",
      "291298/291298 [==============================] - 10s 35us/step - loss: 3.2301e-05 - acc: 0.0122 - val_loss: 3.2592e-05 - val_acc: 0.0177\n",
      "Epoch 113/200\n",
      "291298/291298 [==============================] - 10s 35us/step - loss: 3.2295e-05 - acc: 0.0182 - val_loss: 3.2654e-05 - val_acc: 0.0205\n",
      "Epoch 114/200\n",
      "291298/291298 [==============================] - 10s 35us/step - loss: 3.2286e-05 - acc: 0.0227 - val_loss: 3.2553e-05 - val_acc: 0.0245\n",
      "Epoch 115/200\n",
      "291298/291298 [==============================] - 10s 35us/step - loss: 3.2278e-05 - acc: 0.0251 - val_loss: 3.2500e-05 - val_acc: 0.0262\n",
      "Epoch 116/200\n",
      "291298/291298 [==============================] - 10s 35us/step - loss: 3.2269e-05 - acc: 0.0267 - val_loss: 3.2471e-05 - val_acc: 0.0278\n",
      "Epoch 117/200\n",
      "291298/291298 [==============================] - 10s 35us/step - loss: 3.2268e-05 - acc: 0.0284 - val_loss: 3.2480e-05 - val_acc: 0.0294\n",
      "Epoch 118/200\n",
      "291298/291298 [==============================] - 10s 35us/step - loss: 3.2254e-05 - acc: 0.0310 - val_loss: 3.2477e-05 - val_acc: 0.0328\n",
      "Epoch 119/200\n",
      "291298/291298 [==============================] - 11s 38us/step - loss: 3.2251e-05 - acc: 0.0347 - val_loss: 3.2511e-05 - val_acc: 0.0363\n",
      "Epoch 120/200\n",
      "291298/291298 [==============================] - 12s 40us/step - loss: 3.2244e-05 - acc: 0.0383 - val_loss: 3.2444e-05 - val_acc: 0.0397\n",
      "Epoch 121/200\n",
      "291298/291298 [==============================] - 12s 43us/step - loss: 3.2237e-05 - acc: 0.0410 - val_loss: 3.2394e-05 - val_acc: 0.0415\n",
      "Epoch 122/200\n",
      "291298/291298 [==============================] - 12s 43us/step - loss: 3.2228e-05 - acc: 0.0426 - val_loss: 3.2383e-05 - val_acc: 0.0432\n",
      "Epoch 123/200\n",
      "291298/291298 [==============================] - 12s 42us/step - loss: 3.2219e-05 - acc: 0.0448 - val_loss: 3.2392e-05 - val_acc: 0.0457\n",
      "Epoch 124/200\n",
      "291298/291298 [==============================] - 13s 46us/step - loss: 3.2211e-05 - acc: 0.0465 - val_loss: 3.2384e-05 - val_acc: 0.0472\n",
      "Epoch 125/200\n",
      "291298/291298 [==============================] - 12s 42us/step - loss: 3.2203e-05 - acc: 0.0484 - val_loss: 3.2314e-05 - val_acc: 0.0488\n",
      "Epoch 126/200\n",
      "291298/291298 [==============================] - 12s 43us/step - loss: 3.2161e-05 - acc: 0.0506 - val_loss: 3.2249e-05 - val_acc: 0.0522\n",
      "Epoch 127/200\n",
      "291298/291298 [==============================] - 12s 42us/step - loss: 3.2078e-05 - acc: 0.0558 - val_loss: 3.2242e-05 - val_acc: 0.0588\n",
      "Epoch 128/200\n",
      "291298/291298 [==============================] - 12s 43us/step - loss: 3.2031e-05 - acc: 0.0596 - val_loss: 3.2197e-05 - val_acc: 0.0607\n",
      "Epoch 129/200\n",
      "291298/291298 [==============================] - 12s 42us/step - loss: 3.2006e-05 - acc: 0.0604 - val_loss: 3.2192e-05 - val_acc: 0.0610\n",
      "Epoch 130/200\n",
      "291298/291298 [==============================] - 12s 42us/step - loss: 3.1983e-05 - acc: 0.0605 - val_loss: 3.2246e-05 - val_acc: 0.0612\n",
      "Epoch 131/200\n",
      "291298/291298 [==============================] - 12s 43us/step - loss: 3.1966e-05 - acc: 0.0606 - val_loss: 3.2221e-05 - val_acc: 0.0612\n",
      "Epoch 132/200\n",
      "291298/291298 [==============================] - 12s 42us/step - loss: 3.1952e-05 - acc: 0.0606 - val_loss: 3.2165e-05 - val_acc: 0.0612\n",
      "Epoch 133/200\n",
      "291298/291298 [==============================] - 12s 43us/step - loss: 3.1932e-05 - acc: 0.0606 - val_loss: 3.2082e-05 - val_acc: 0.0612\n",
      "Epoch 134/200\n",
      "291298/291298 [==============================] - 12s 42us/step - loss: 3.1894e-05 - acc: 0.0606 - val_loss: 3.2067e-05 - val_acc: 0.0612\n",
      "Epoch 135/200\n",
      "291298/291298 [==============================] - 12s 42us/step - loss: 3.1863e-05 - acc: 0.0606 - val_loss: 3.2063e-05 - val_acc: 0.0612\n",
      "Epoch 136/200\n",
      "291298/291298 [==============================] - 12s 42us/step - loss: 3.1829e-05 - acc: 0.0606 - val_loss: 3.1961e-05 - val_acc: 0.0612\n",
      "Epoch 137/200\n",
      "291298/291298 [==============================] - 12s 42us/step - loss: 3.1799e-05 - acc: 0.0606 - val_loss: 3.1961e-05 - val_acc: 0.0612\n",
      "Epoch 138/200\n",
      "291298/291298 [==============================] - 13s 43us/step - loss: 3.1779e-05 - acc: 0.0606 - val_loss: 3.1894e-05 - val_acc: 0.0612\n",
      "Epoch 139/200\n",
      "291298/291298 [==============================] - 12s 43us/step - loss: 3.1762e-05 - acc: 0.0606 - val_loss: 3.1989e-05 - val_acc: 0.0612\n",
      "Epoch 140/200\n",
      "291298/291298 [==============================] - 13s 45us/step - loss: 3.1737e-05 - acc: 0.0606 - val_loss: 3.1907e-05 - val_acc: 0.0612\n",
      "Epoch 141/200\n",
      "291298/291298 [==============================] - 12s 43us/step - loss: 3.1719e-05 - acc: 0.0606 - val_loss: 3.1943e-05 - val_acc: 0.0612\n",
      "Epoch 142/200\n",
      "291298/291298 [==============================] - 12s 43us/step - loss: 3.1695e-05 - acc: 0.0606 - val_loss: 3.1917e-05 - val_acc: 0.0612\n",
      "Epoch 143/200\n",
      "291298/291298 [==============================] - 12s 43us/step - loss: 3.1673e-05 - acc: 0.0606 - val_loss: 3.1961e-05 - val_acc: 0.0612\n",
      "--- AE spent 1504.2516069412231 seconds ---\n"
     ]
    }
   ],
   "source": [
    "hist_ae_sigmoid_adam_mse = fit_ae(checkpoint_file = \"ae_sigmoid_adam_mse_redds10bal.h5\",\n",
    "                                  autoencoder = ae_sigmoid_adam_mse, \n",
    "                                  epochs = 200, \n",
    "                                  batch_size = 48,\n",
    "                                  shuffle = False)"
   ]
  },
  {
   "cell_type": "code",
   "execution_count": 48,
   "metadata": {},
   "outputs": [
    {
     "name": "stdout",
     "output_type": "stream",
     "text": [
      "Best loss value: 3.167287426632356e-05\n"
     ]
    },
    {
     "data": {
      "image/png": "[encoded data removed]",
      "text/plain": [
       "<Figure size 432x288 with 1 Axes>"
      ]
     },
     "metadata": {
      "needs_background": "light"
     },
     "output_type": "display_data"
    }
   ],
   "source": [
    "best_loss_value_ae_sigmoid_adam_mse  = plot_hist_auto(hist_ae_sigmoid_adam_mse, './Figures/hist_ae_sigmoid_adam_mse.png')"
   ]
  },
  {
   "cell_type": "code",
   "execution_count": 49,
   "metadata": {},
   "outputs": [
    {
     "name": "stdout",
     "output_type": "stream",
     "text": [
      "_________________________________________________________________\n",
      "Layer (type)                 Output Shape              Param #   \n",
      "=================================================================\n",
      "input_4 (InputLayer)         (None, 48)                0         \n",
      "_________________________________________________________________\n",
      "input_layer (Dense)          (None, 32)                1568      \n",
      "_________________________________________________________________\n",
      "dense_4 (Dense)              (None, 16)                528       \n",
      "_________________________________________________________________\n",
      "enc_bottle_neck (Dense)      (None, 8)                 136       \n",
      "_________________________________________________________________\n",
      "dense_5 (Dense)              (None, 16)                144       \n",
      "_________________________________________________________________\n",
      "dense_6 (Dense)              (None, 32)                544       \n",
      "_________________________________________________________________\n",
      "dense_7 (Dense)              (None, 48)                1584      \n",
      "=================================================================\n",
      "Total params: 4,504\n",
      "Trainable params: 4,504\n",
      "Non-trainable params: 0\n",
      "_________________________________________________________________\n",
      "None\n"
     ]
    }
   ],
   "source": [
    "sae_sigmoid_adam_mse,enc_train_x_ssam,enc_test_x_ssam = sae(factor_enc_dim = 1.5,\n",
    "                                                          output_activation = 'sigmoid',\n",
    "                                                          optimizer='Adam',\n",
    "                                                          loss='mean_squared_error')"
   ]
  },
  {
   "cell_type": "code",
   "execution_count": 50,
   "metadata": {},
   "outputs": [],
   "source": [
    "#sae_sigmoid_adam_mse = load_model('sae_sigmoid_adam_mse_redds10bal.h5')"
   ]
  },
  {
   "cell_type": "code",
   "execution_count": 51,
   "metadata": {},
   "outputs": [
    {
     "name": "stdout",
     "output_type": "stream",
     "text": [
      "Thu Jun  6 15:10:25 2019\n",
      "Train on 291298 samples, validate on 72825 samples\n",
      "Epoch 1/200\n",
      "291298/291298 [==============================] - 20s 69us/step - loss: 0.0324 - acc: 0.0519 - val_loss: 0.0244 - val_acc: 0.0482\n",
      "Epoch 2/200\n",
      "291298/291298 [==============================] - 20s 68us/step - loss: 0.0188 - acc: 0.2056 - val_loss: 0.0169 - val_acc: 0.2803\n",
      "Epoch 3/200\n",
      "291298/291298 [==============================] - 20s 68us/step - loss: 0.0168 - acc: 0.2981 - val_loss: 0.0167 - val_acc: 0.3250\n",
      "Epoch 4/200\n",
      "291298/291298 [==============================] - 20s 70us/step - loss: 0.0167 - acc: 0.3164 - val_loss: 0.0166 - val_acc: 0.3005\n",
      "Epoch 5/200\n",
      "291298/291298 [==============================] - 20s 68us/step - loss: 0.0166 - acc: 0.3100 - val_loss: 0.0166 - val_acc: 0.2912\n",
      "Epoch 6/200\n",
      "291298/291298 [==============================] - 20s 68us/step - loss: 0.0165 - acc: 0.3140 - val_loss: 0.0160 - val_acc: 0.2880\n",
      "Epoch 7/200\n",
      "291298/291298 [==============================] - 19s 67us/step - loss: 0.0158 - acc: 0.3469 - val_loss: 0.0156 - val_acc: 0.3597\n",
      "Epoch 8/200\n",
      "291298/291298 [==============================] - 20s 67us/step - loss: 0.0156 - acc: 0.3552 - val_loss: 0.0155 - val_acc: 0.3602\n",
      "Epoch 9/200\n",
      "291298/291298 [==============================] - 20s 67us/step - loss: 0.0156 - acc: 0.3476 - val_loss: 0.0155 - val_acc: 0.3525\n",
      "Epoch 10/200\n",
      "291298/291298 [==============================] - 20s 67us/step - loss: 0.0155 - acc: 0.3423 - val_loss: 0.0151 - val_acc: 0.3733\n",
      "Epoch 11/200\n",
      "291298/291298 [==============================] - 20s 67us/step - loss: 0.0151 - acc: 0.3500 - val_loss: 0.0150 - val_acc: 0.3352\n",
      "Epoch 12/200\n",
      "291298/291298 [==============================] - 20s 68us/step - loss: 0.0151 - acc: 0.3332 - val_loss: 0.0150 - val_acc: 0.2927\n",
      "Epoch 13/200\n",
      "291298/291298 [==============================] - 20s 67us/step - loss: 0.0151 - acc: 0.3188 - val_loss: 0.0150 - val_acc: 0.3368\n",
      "Epoch 14/200\n",
      "291298/291298 [==============================] - 20s 67us/step - loss: 0.0147 - acc: 0.3501 - val_loss: 0.0143 - val_acc: 0.3732\n",
      "Epoch 15/200\n",
      "291298/291298 [==============================] - 20s 67us/step - loss: 0.0144 - acc: 0.3553 - val_loss: 0.0143 - val_acc: 0.3529\n",
      "Epoch 16/200\n",
      "291298/291298 [==============================] - 20s 67us/step - loss: 0.0144 - acc: 0.3478 - val_loss: 0.0140 - val_acc: 0.3420\n",
      "Epoch 17/200\n",
      "291298/291298 [==============================] - 20s 67us/step - loss: 0.0141 - acc: 0.3428 - val_loss: 0.0140 - val_acc: 0.3375\n",
      "Epoch 18/200\n",
      "291298/291298 [==============================] - 20s 67us/step - loss: 0.0141 - acc: 0.3447 - val_loss: 0.0140 - val_acc: 0.3367\n",
      "Epoch 19/200\n",
      "291298/291298 [==============================] - 20s 68us/step - loss: 0.0141 - acc: 0.3396 - val_loss: 0.0140 - val_acc: 0.3388\n",
      "Epoch 20/200\n",
      "291298/291298 [==============================] - 19s 67us/step - loss: 0.0141 - acc: 0.3387 - val_loss: 0.0139 - val_acc: 0.3368\n",
      "Epoch 21/200\n",
      "291298/291298 [==============================] - 19s 67us/step - loss: 0.0137 - acc: 0.3392 - val_loss: 0.0134 - val_acc: 0.3397\n",
      "Epoch 22/200\n",
      "291298/291298 [==============================] - 21s 71us/step - loss: 0.0135 - acc: 0.3390 - val_loss: 0.0134 - val_acc: 0.3339\n",
      "Epoch 23/200\n",
      "291298/291298 [==============================] - 20s 68us/step - loss: 0.0134 - acc: 0.3354 - val_loss: 0.0134 - val_acc: 0.3331\n",
      "Epoch 24/200\n",
      "291298/291298 [==============================] - 20s 69us/step - loss: 0.0134 - acc: 0.3487 - val_loss: 0.0134 - val_acc: 0.3597\n",
      "Epoch 25/200\n",
      "291298/291298 [==============================] - 20s 68us/step - loss: 0.0134 - acc: 0.3610 - val_loss: 0.0134 - val_acc: 0.3614\n",
      "Epoch 26/200\n",
      "291298/291298 [==============================] - 20s 70us/step - loss: 0.0134 - acc: 0.3632 - val_loss: 0.0133 - val_acc: 0.3596\n",
      "Epoch 27/200\n",
      "291298/291298 [==============================] - 21s 70us/step - loss: 0.0134 - acc: 0.3570 - val_loss: 0.0138 - val_acc: 0.3726\n",
      "Epoch 28/200\n",
      "291298/291298 [==============================] - 20s 68us/step - loss: 0.0134 - acc: 0.3535 - val_loss: 0.0133 - val_acc: 0.3524\n",
      "Epoch 29/200\n",
      "291298/291298 [==============================] - 20s 67us/step - loss: 0.0127 - acc: 0.3522 - val_loss: 0.0125 - val_acc: 0.3499\n",
      "Epoch 30/200\n",
      "291298/291298 [==============================] - 20s 67us/step - loss: 0.0125 - acc: 0.3442 - val_loss: 0.0124 - val_acc: 0.3380\n",
      "Epoch 31/200\n",
      "291298/291298 [==============================] - 20s 68us/step - loss: 0.0125 - acc: 0.3400 - val_loss: 0.0125 - val_acc: 0.3432\n",
      "Epoch 32/200\n",
      "291298/291298 [==============================] - 20s 67us/step - loss: 0.0125 - acc: 0.3446 - val_loss: 0.0124 - val_acc: 0.3458\n",
      "Epoch 33/200\n",
      "291298/291298 [==============================] - 20s 67us/step - loss: 0.0125 - acc: 0.3404 - val_loss: 0.0124 - val_acc: 0.3380\n",
      "Epoch 34/200\n",
      "291298/291298 [==============================] - 19s 66us/step - loss: 0.0125 - acc: 0.3324 - val_loss: 0.0124 - val_acc: 0.3365\n",
      "Epoch 35/200\n",
      "291298/291298 [==============================] - 19s 67us/step - loss: 0.0125 - acc: 0.3280 - val_loss: 0.0126 - val_acc: 0.3306\n",
      "Epoch 36/200\n",
      "291298/291298 [==============================] - 19s 67us/step - loss: 0.0125 - acc: 0.3300 - val_loss: 0.0124 - val_acc: 0.3379\n",
      "Epoch 37/200\n",
      "291298/291298 [==============================] - 20s 67us/step - loss: 0.0125 - acc: 0.3294 - val_loss: 0.0124 - val_acc: 0.3282\n",
      "Epoch 38/200\n",
      "291298/291298 [==============================] - 19s 67us/step - loss: 0.0125 - acc: 0.3274 - val_loss: 0.0124 - val_acc: 0.3237\n",
      "Epoch 39/200\n",
      "291298/291298 [==============================] - 19s 67us/step - loss: 0.0125 - acc: 0.3242 - val_loss: 0.0124 - val_acc: 0.3290\n",
      "Epoch 40/200\n",
      "291298/291298 [==============================] - 20s 68us/step - loss: 0.0125 - acc: 0.3186 - val_loss: 0.0124 - val_acc: 0.3157\n",
      "Epoch 41/200\n",
      "291298/291298 [==============================] - 20s 68us/step - loss: 0.0123 - acc: 0.3075 - val_loss: 0.0117 - val_acc: 0.3070\n",
      "Epoch 42/200\n",
      "291298/291298 [==============================] - 19s 67us/step - loss: 0.0118 - acc: 0.3263 - val_loss: 0.0118 - val_acc: 0.3480\n",
      "Epoch 43/200\n",
      "291298/291298 [==============================] - 19s 66us/step - loss: 0.0116 - acc: 0.3338 - val_loss: 0.0115 - val_acc: 0.3331\n",
      "Epoch 44/200\n",
      "291298/291298 [==============================] - 20s 69us/step - loss: 0.0116 - acc: 0.3340 - val_loss: 0.0115 - val_acc: 0.3225\n",
      "Epoch 45/200\n",
      "291298/291298 [==============================] - 19s 66us/step - loss: 0.0116 - acc: 0.3190 - val_loss: 0.0115 - val_acc: 0.3217\n",
      "Epoch 46/200\n",
      "291298/291298 [==============================] - 19s 67us/step - loss: 0.0116 - acc: 0.3123 - val_loss: 0.0115 - val_acc: 0.3129\n",
      "Epoch 47/200\n",
      "291298/291298 [==============================] - 19s 66us/step - loss: 0.0116 - acc: 0.3143 - val_loss: 0.0115 - val_acc: 0.3198\n",
      "Epoch 48/200\n",
      "291298/291298 [==============================] - 19s 66us/step - loss: 0.0116 - acc: 0.3190 - val_loss: 0.0115 - val_acc: 0.3206\n",
      "Epoch 49/200\n",
      "291298/291298 [==============================] - 19s 66us/step - loss: 0.0116 - acc: 0.3109 - val_loss: 0.0115 - val_acc: 0.2981\n",
      "Epoch 50/200\n",
      "291298/291298 [==============================] - 19s 67us/step - loss: 0.0116 - acc: 0.3046 - val_loss: 0.0115 - val_acc: 0.3095\n",
      "--- AE spent 985.656539440155 seconds ---\n"
     ]
    }
   ],
   "source": [
    "hist_sae_sigmoid_adam_mse = fit_ae(checkpoint_file = \"sae_sigmoid_adam_mse_redds10bal.h5\",\n",
    "                                        autoencoder = sae_sigmoid_adam_mse, \n",
    "                                        epochs = 200, \n",
    "                                        batch_size = 48, \n",
    "                                        shuffle = False)"
   ]
  },
  {
   "cell_type": "code",
   "execution_count": 52,
   "metadata": {},
   "outputs": [
    {
     "name": "stdout",
     "output_type": "stream",
     "text": [
      "Best loss value: 0.01160121386875563\n"
     ]
    },
    {
     "data": {
      "image/png": "[encoded data removed]",
      "text/plain": [
       "<Figure size 432x288 with 1 Axes>"
      ]
     },
     "metadata": {
      "needs_background": "light"
     },
     "output_type": "display_data"
    }
   ],
   "source": [
    "best_loss_value_sae_sigmoid_adam_mse  = plot_hist_auto(hist_sae_sigmoid_adam_mse, './Figures/hist_sae_sigmoid_adam_mse.png')"
   ]
  },
  {
   "cell_type": "code",
   "execution_count": 53,
   "metadata": {},
   "outputs": [
    {
     "name": "stdout",
     "output_type": "stream",
     "text": [
      "_________________________________________________________________\n",
      "Layer (type)                 Output Shape              Param #   \n",
      "=================================================================\n",
      "input_5 (InputLayer)         (None, 48)                0         \n",
      "_________________________________________________________________\n",
      "input_layer (Dense)          (None, 32)                1568      \n",
      "_________________________________________________________________\n",
      "dense_8 (Dense)              (None, 16)                528       \n",
      "_________________________________________________________________\n",
      "enc_bottle_neck (Dense)      (None, 8)                 136       \n",
      "_________________________________________________________________\n",
      "dense_9 (Dense)              (None, 16)                144       \n",
      "_________________________________________________________________\n",
      "dense_10 (Dense)             (None, 32)                544       \n",
      "_________________________________________________________________\n",
      "dense_11 (Dense)             (None, 48)                1584      \n",
      "=================================================================\n",
      "Total params: 4,504\n",
      "Trainable params: 4,504\n",
      "Non-trainable params: 0\n",
      "_________________________________________________________________\n",
      "None\n"
     ]
    }
   ],
   "source": [
    "sae_sigmoid_adam_logcosh,enc_train_x_ssal,enc_test_x_ssal = sae(factor_enc_dim = 1.5,\n",
    "                                                              output_activation = 'sigmoid',\n",
    "                                                              optimizer='Adam',\n",
    "                                                              loss='logcosh')"
   ]
  },
  {
   "cell_type": "code",
   "execution_count": 54,
   "metadata": {},
   "outputs": [],
   "source": [
    "# from keras.utils import plot_model \n",
    "# plot_model(sae_sigmoid_adam_logcosh, to_file='sae_sigmoid_adam_logcosh.png')\n",
    "# from PIL import Image\n",
    "# image = Image.open('sae_sigmoid_adam_logcosh.png')\n",
    "# image.show()"
   ]
  },
  {
   "cell_type": "code",
   "execution_count": 55,
   "metadata": {},
   "outputs": [],
   "source": [
    "#sae_sigmoid_adam_logcosh = load_model('sae_sigmoid_adam_logcosh_redds10bal.h5')"
   ]
  },
  {
   "cell_type": "code",
   "execution_count": 56,
   "metadata": {},
   "outputs": [
    {
     "name": "stdout",
     "output_type": "stream",
     "text": [
      "Thu Jun  6 15:26:56 2019\n",
      "Train on 291298 samples, validate on 72825 samples\n",
      "Epoch 1/200\n",
      "291298/291298 [==============================] - 20s 69us/step - loss: 0.0099 - acc: 0.2118 - val_loss: 0.0063 - val_acc: 0.3511\n",
      "Epoch 2/200\n",
      "291298/291298 [==============================] - 20s 68us/step - loss: 0.0058 - acc: 0.3370 - val_loss: 0.0053 - val_acc: 0.3210\n",
      "Epoch 3/200\n",
      "291298/291298 [==============================] - 20s 69us/step - loss: 0.0052 - acc: 0.3228 - val_loss: 0.0050 - val_acc: 0.3269\n",
      "Epoch 4/200\n",
      "291298/291298 [==============================] - 20s 68us/step - loss: 0.0048 - acc: 0.3225 - val_loss: 0.0044 - val_acc: 0.3228\n",
      "Epoch 5/200\n",
      "291298/291298 [==============================] - 20s 68us/step - loss: 0.0044 - acc: 0.3299 - val_loss: 0.0044 - val_acc: 0.3279\n",
      "Epoch 6/200\n",
      "291298/291298 [==============================] - 21s 72us/step - loss: 0.0044 - acc: 0.3326 - val_loss: 0.0043 - val_acc: 0.3320\n",
      "Epoch 7/200\n",
      "291298/291298 [==============================] - 21s 71us/step - loss: 0.0043 - acc: 0.3360 - val_loss: 0.0043 - val_acc: 0.3303\n",
      "Epoch 8/200\n",
      "291298/291298 [==============================] - 20s 69us/step - loss: 0.0042 - acc: 0.3380 - val_loss: 0.0041 - val_acc: 0.3387\n",
      "Epoch 9/200\n",
      "291298/291298 [==============================] - 20s 70us/step - loss: 0.0040 - acc: 0.3513 - val_loss: 0.0038 - val_acc: 0.3486\n",
      "Epoch 10/200\n",
      "291298/291298 [==============================] - 21s 71us/step - loss: 0.0038 - acc: 0.3523 - val_loss: 0.0037 - val_acc: 0.3462\n",
      "Epoch 11/200\n",
      "291298/291298 [==============================] - 21s 72us/step - loss: 0.0037 - acc: 0.3474 - val_loss: 0.0036 - val_acc: 0.3416\n",
      "Epoch 12/200\n",
      "291298/291298 [==============================] - 20s 70us/step - loss: 0.0036 - acc: 0.3429 - val_loss: 0.0036 - val_acc: 0.3377\n",
      "Epoch 13/200\n",
      "291298/291298 [==============================] - 21s 73us/step - loss: 0.0036 - acc: 0.3423 - val_loss: 0.0035 - val_acc: 0.3411\n",
      "Epoch 14/200\n",
      "291298/291298 [==============================] - 20s 70us/step - loss: 0.0036 - acc: 0.3413 - val_loss: 0.0035 - val_acc: 0.3365\n",
      "Epoch 15/200\n",
      "291298/291298 [==============================] - 20s 70us/step - loss: 0.0035 - acc: 0.3399 - val_loss: 0.0035 - val_acc: 0.3355\n",
      "Epoch 16/200\n",
      "291298/291298 [==============================] - 20s 70us/step - loss: 0.0035 - acc: 0.3411 - val_loss: 0.0035 - val_acc: 0.3378\n",
      "Epoch 17/200\n",
      "291298/291298 [==============================] - 20s 70us/step - loss: 0.0034 - acc: 0.3407 - val_loss: 0.0033 - val_acc: 0.3335\n",
      "Epoch 18/200\n",
      "291298/291298 [==============================] - 20s 70us/step - loss: 0.0033 - acc: 0.3395 - val_loss: 0.0032 - val_acc: 0.3397\n",
      "Epoch 19/200\n",
      "291298/291298 [==============================] - 20s 70us/step - loss: 0.0032 - acc: 0.3384 - val_loss: 0.0032 - val_acc: 0.3320\n",
      "Epoch 20/200\n",
      "291298/291298 [==============================] - 20s 70us/step - loss: 0.0032 - acc: 0.3363 - val_loss: 0.0032 - val_acc: 0.3378\n",
      "Epoch 21/200\n",
      "291298/291298 [==============================] - 20s 70us/step - loss: 0.0028 - acc: 0.3376 - val_loss: 0.0026 - val_acc: 0.3400\n",
      "Epoch 22/200\n",
      "291298/291298 [==============================] - 20s 69us/step - loss: 0.0026 - acc: 0.3371 - val_loss: 0.0026 - val_acc: 0.3359\n",
      "Epoch 23/200\n",
      "291298/291298 [==============================] - 20s 70us/step - loss: 0.0027 - acc: 0.3407 - val_loss: 0.0027 - val_acc: 0.3244\n",
      "Epoch 24/200\n",
      "291298/291298 [==============================] - 20s 70us/step - loss: 0.0027 - acc: 0.3326 - val_loss: 0.0027 - val_acc: 0.3438\n",
      "Epoch 25/200\n",
      "291298/291298 [==============================] - 20s 70us/step - loss: 0.0027 - acc: 0.3555 - val_loss: 0.0026 - val_acc: 0.3590\n",
      "Epoch 26/200\n",
      "291298/291298 [==============================] - 21s 71us/step - loss: 0.0026 - acc: 0.3667 - val_loss: 0.0026 - val_acc: 0.3598\n",
      "Epoch 27/200\n",
      "291298/291298 [==============================] - 20s 70us/step - loss: 0.0025 - acc: 0.3619 - val_loss: 0.0025 - val_acc: 0.3579\n",
      "Epoch 28/200\n",
      "291298/291298 [==============================] - 20s 70us/step - loss: 0.0025 - acc: 0.3661 - val_loss: 0.0024 - val_acc: 0.3657\n",
      "Epoch 29/200\n",
      "291298/291298 [==============================] - 20s 70us/step - loss: 0.0024 - acc: 0.3688 - val_loss: 0.0024 - val_acc: 0.3726\n",
      "Epoch 30/200\n",
      "291298/291298 [==============================] - 20s 70us/step - loss: 0.0024 - acc: 0.3723 - val_loss: 0.0024 - val_acc: 0.3725\n",
      "Epoch 31/200\n",
      "291298/291298 [==============================] - 21s 73us/step - loss: 0.0024 - acc: 0.3735 - val_loss: 0.0024 - val_acc: 0.3718\n",
      "Epoch 32/200\n",
      "291298/291298 [==============================] - 20s 70us/step - loss: 0.0024 - acc: 0.3787 - val_loss: 0.0026 - val_acc: 0.4007\n",
      "Epoch 33/200\n",
      "291298/291298 [==============================] - 21s 71us/step - loss: 0.0022 - acc: 0.3951 - val_loss: 0.0022 - val_acc: 0.3840\n",
      "Epoch 34/200\n",
      "291298/291298 [==============================] - 21s 71us/step - loss: 0.0021 - acc: 0.3859 - val_loss: 0.0020 - val_acc: 0.3821\n",
      "Epoch 35/200\n",
      "291298/291298 [==============================] - 21s 70us/step - loss: 0.0020 - acc: 0.3872 - val_loss: 0.0020 - val_acc: 0.4021\n",
      "Epoch 36/200\n",
      "291298/291298 [==============================] - 21s 72us/step - loss: 0.0020 - acc: 0.3906 - val_loss: 0.0020 - val_acc: 0.3814\n",
      "Epoch 37/200\n",
      "291298/291298 [==============================] - 20s 70us/step - loss: 0.0020 - acc: 0.3917 - val_loss: 0.0020 - val_acc: 0.3931\n",
      "Epoch 38/200\n",
      "291298/291298 [==============================] - 20s 70us/step - loss: 0.0020 - acc: 0.3945 - val_loss: 0.0020 - val_acc: 0.4191\n",
      "Epoch 39/200\n",
      "291298/291298 [==============================] - 20s 69us/step - loss: 0.0020 - acc: 0.3947 - val_loss: 0.0020 - val_acc: 0.4005\n",
      "Epoch 40/200\n",
      "291298/291298 [==============================] - 20s 68us/step - loss: 0.0020 - acc: 0.3929 - val_loss: 0.0026 - val_acc: 0.3697\n",
      "Epoch 41/200\n",
      "291298/291298 [==============================] - 20s 68us/step - loss: 0.0020 - acc: 0.3917 - val_loss: 0.0019 - val_acc: 0.3792\n",
      "Epoch 42/200\n",
      "291298/291298 [==============================] - 20s 68us/step - loss: 0.0020 - acc: 0.3918 - val_loss: 0.0020 - val_acc: 0.4076\n",
      "Epoch 43/200\n",
      "291298/291298 [==============================] - 20s 68us/step - loss: 0.0020 - acc: 0.3919 - val_loss: 0.0020 - val_acc: 0.3843\n",
      "Epoch 44/200\n",
      "291298/291298 [==============================] - 20s 68us/step - loss: 0.0020 - acc: 0.3938 - val_loss: 0.0020 - val_acc: 0.3830\n",
      "Epoch 45/200\n",
      "291298/291298 [==============================] - 21s 70us/step - loss: 0.0020 - acc: 0.3960 - val_loss: 0.0019 - val_acc: 0.3887\n",
      "Epoch 46/200\n",
      "291298/291298 [==============================] - 22s 76us/step - loss: 0.0020 - acc: 0.3929 - val_loss: 0.0020 - val_acc: 0.3979\n",
      "Epoch 47/200\n",
      "291298/291298 [==============================] - 21s 74us/step - loss: 0.0020 - acc: 0.3934 - val_loss: 0.0019 - val_acc: 0.3905\n",
      "Epoch 48/200\n",
      "291298/291298 [==============================] - 20s 70us/step - loss: 0.0020 - acc: 0.3957 - val_loss: 0.0022 - val_acc: 0.3849\n",
      "Epoch 49/200\n",
      "291298/291298 [==============================] - 21s 72us/step - loss: 0.0020 - acc: 0.3947 - val_loss: 0.0019 - val_acc: 0.3829\n",
      "Epoch 50/200\n",
      "291298/291298 [==============================] - 20s 69us/step - loss: 0.0020 - acc: 0.3978 - val_loss: 0.0021 - val_acc: 0.3946\n",
      "Epoch 51/200\n",
      "291298/291298 [==============================] - 20s 70us/step - loss: 0.0020 - acc: 0.3977 - val_loss: 0.0020 - val_acc: 0.3852\n",
      "Epoch 52/200\n",
      "291298/291298 [==============================] - 20s 70us/step - loss: 0.0020 - acc: 0.3963 - val_loss: 0.0020 - val_acc: 0.3965\n",
      "--- AE spent 1063.35511469841 seconds ---\n"
     ]
    }
   ],
   "source": [
    "hist_sae_sigmoid_adam_logcosh = fit_ae(checkpoint_file = \"sae_sigmoid_adam_logcosh_redds10bal.h5\",\n",
    "                                        autoencoder = sae_sigmoid_adam_logcosh, \n",
    "                                        epochs = 200, \n",
    "                                        batch_size = 48, \n",
    "                                        shuffle = False)"
   ]
  },
  {
   "cell_type": "code",
   "execution_count": 57,
   "metadata": {},
   "outputs": [
    {
     "name": "stdout",
     "output_type": "stream",
     "text": [
      "Best loss value: 0.0019803600962032515\n"
     ]
    },
    {
     "data": {
      "image/png": "[encoded data removed]",
      "text/plain": [
       "<Figure size 432x288 with 1 Axes>"
      ]
     },
     "metadata": {
      "needs_background": "light"
     },
     "output_type": "display_data"
    }
   ],
   "source": [
    "best_loss_value_sae_sigmoid_adam_logcosh  = plot_hist_auto(hist_sae_sigmoid_adam_logcosh, './Figures/hist_sae_sigmoid_adam_logcosh.png')"
   ]
  },
  {
   "cell_type": "code",
   "execution_count": null,
   "metadata": {},
   "outputs": [],
   "source": []
  },
  {
   "cell_type": "code",
   "execution_count": 58,
   "metadata": {},
   "outputs": [
    {
     "name": "stdout",
     "output_type": "stream",
     "text": [
      "_________________________________________________________________\n",
      "Layer (type)                 Output Shape              Param #   \n",
      "=================================================================\n",
      "input_6 (InputLayer)         (None, 48)                0         \n",
      "_________________________________________________________________\n",
      "encoded_bottle_neck (Dense)  (None, 32)                1568      \n",
      "_________________________________________________________________\n",
      "dense_12 (Dense)             (None, 48)                1584      \n",
      "=================================================================\n",
      "Total params: 3,152\n",
      "Trainable params: 3,152\n",
      "Non-trainable params: 0\n",
      "_________________________________________________________________\n",
      "None\n"
     ]
    }
   ],
   "source": [
    "spae_sigmoid_adam_logcosh,enc_train_x_spaesal,enc_test_x_spaesal = spae(factor_enc_dim = 1.5,\n",
    "                                                              output_activation = 'sigmoid',\n",
    "                                                              optimizer='Adam',\n",
    "                                                              loss='logcosh')"
   ]
  },
  {
   "cell_type": "code",
   "execution_count": 59,
   "metadata": {},
   "outputs": [],
   "source": [
    "#spae_sigmoid_adam_logcosh = load_model('spae_sigmoid_adam_logcosh_redds10bal.h5')"
   ]
  },
  {
   "cell_type": "code",
   "execution_count": 60,
   "metadata": {},
   "outputs": [
    {
     "name": "stdout",
     "output_type": "stream",
     "text": [
      "Thu Jun  6 15:44:45 2019\n",
      "Train on 291298 samples, validate on 72825 samples\n",
      "Epoch 1/200\n",
      "291298/291298 [==============================] - 14s 47us/step - loss: 0.0277 - acc: 0.2502 - val_loss: 0.0203 - val_acc: 0.0612\n",
      "Epoch 2/200\n",
      "291298/291298 [==============================] - 14s 48us/step - loss: 0.0188 - acc: 0.0606 - val_loss: 0.0177 - val_acc: 0.0612\n",
      "Epoch 3/200\n",
      "291298/291298 [==============================] - 14s 48us/step - loss: 0.0172 - acc: 0.0606 - val_loss: 0.0167 - val_acc: 0.0612\n",
      "Epoch 4/200\n",
      "291298/291298 [==============================] - 15s 51us/step - loss: 0.0165 - acc: 0.0606 - val_loss: 0.0162 - val_acc: 0.0612\n",
      "Epoch 5/200\n",
      "291298/291298 [==============================] - 15s 50us/step - loss: 0.0161 - acc: 0.0603 - val_loss: 0.0159 - val_acc: 0.0567\n",
      "Epoch 6/200\n",
      "291298/291298 [==============================] - 14s 48us/step - loss: 0.0158 - acc: 0.0500 - val_loss: 0.0157 - val_acc: 0.0352\n",
      "Epoch 7/200\n",
      "291298/291298 [==============================] - 14s 48us/step - loss: 0.0157 - acc: 0.0335 - val_loss: 0.0156 - val_acc: 0.0254\n",
      "Epoch 8/200\n",
      "291298/291298 [==============================] - 14s 48us/step - loss: 0.0155 - acc: 0.0260 - val_loss: 0.0155 - val_acc: 0.0216\n",
      "Epoch 9/200\n",
      "291298/291298 [==============================] - 14s 48us/step - loss: 0.0154 - acc: 0.0228 - val_loss: 0.0154 - val_acc: 0.0210\n",
      "Epoch 10/200\n",
      "291298/291298 [==============================] - 14s 47us/step - loss: 0.0154 - acc: 0.0213 - val_loss: 0.0153 - val_acc: 0.0210\n",
      "Epoch 11/200\n",
      "291298/291298 [==============================] - 14s 47us/step - loss: 0.0153 - acc: 0.0210 - val_loss: 0.0152 - val_acc: 0.0210\n",
      "Epoch 12/200\n",
      "291298/291298 [==============================] - 14s 48us/step - loss: 0.0152 - acc: 0.0209 - val_loss: 0.0152 - val_acc: 0.0209\n",
      "Epoch 13/200\n",
      "291298/291298 [==============================] - 14s 48us/step - loss: 0.0152 - acc: 0.0209 - val_loss: 0.0152 - val_acc: 0.0208\n",
      "Epoch 14/200\n",
      "291298/291298 [==============================] - 15s 50us/step - loss: 0.0152 - acc: 0.0208 - val_loss: 0.0151 - val_acc: 0.0208\n",
      "Epoch 15/200\n",
      "291298/291298 [==============================] - 14s 48us/step - loss: 0.0151 - acc: 0.0207 - val_loss: 0.0151 - val_acc: 0.0208\n",
      "Epoch 16/200\n",
      "291298/291298 [==============================] - 14s 48us/step - loss: 0.0151 - acc: 0.0207 - val_loss: 0.0151 - val_acc: 0.0208\n",
      "Epoch 17/200\n",
      "291298/291298 [==============================] - 14s 47us/step - loss: 0.0151 - acc: 0.0206 - val_loss: 0.0150 - val_acc: 0.0208\n",
      "Epoch 18/200\n",
      "291298/291298 [==============================] - 14s 48us/step - loss: 0.0151 - acc: 0.0205 - val_loss: 0.0150 - val_acc: 0.0208\n",
      "Epoch 19/200\n",
      "291298/291298 [==============================] - 14s 47us/step - loss: 0.0150 - acc: 0.0204 - val_loss: 0.0150 - val_acc: 0.0207\n",
      "Epoch 20/200\n",
      "291298/291298 [==============================] - 14s 48us/step - loss: 0.0150 - acc: 0.0203 - val_loss: 0.0150 - val_acc: 0.0206\n",
      "Epoch 21/200\n",
      "291298/291298 [==============================] - 14s 47us/step - loss: 0.0150 - acc: 0.0202 - val_loss: 0.0150 - val_acc: 0.0206\n",
      "Epoch 22/200\n",
      "291298/291298 [==============================] - 14s 48us/step - loss: 0.0150 - acc: 0.0202 - val_loss: 0.0149 - val_acc: 0.0205\n",
      "Epoch 23/200\n",
      "291298/291298 [==============================] - 14s 48us/step - loss: 0.0150 - acc: 0.0201 - val_loss: 0.0149 - val_acc: 0.0203\n",
      "Epoch 24/200\n",
      "291298/291298 [==============================] - 14s 47us/step - loss: 0.0149 - acc: 0.0200 - val_loss: 0.0149 - val_acc: 0.0200\n",
      "Epoch 25/200\n",
      "291298/291298 [==============================] - 14s 47us/step - loss: 0.0149 - acc: 0.0199 - val_loss: 0.0149 - val_acc: 0.0198\n",
      "Epoch 26/200\n",
      "291298/291298 [==============================] - 14s 47us/step - loss: 0.0149 - acc: 0.0197 - val_loss: 0.0148 - val_acc: 0.0208\n",
      "Epoch 27/200\n",
      "291298/291298 [==============================] - 14s 48us/step - loss: 0.0148 - acc: 0.0200 - val_loss: 0.0148 - val_acc: 0.0214\n",
      "Epoch 28/200\n",
      "291298/291298 [==============================] - 14s 47us/step - loss: 0.0148 - acc: 0.0212 - val_loss: 0.0148 - val_acc: 0.0229\n",
      "Epoch 29/200\n",
      "291298/291298 [==============================] - 14s 47us/step - loss: 0.0146 - acc: 0.0230 - val_loss: 0.0145 - val_acc: 0.0246\n",
      "Epoch 30/200\n",
      "291298/291298 [==============================] - 14s 47us/step - loss: 0.0145 - acc: 0.0226 - val_loss: 0.0145 - val_acc: 0.0234\n",
      "Epoch 31/200\n",
      "291298/291298 [==============================] - 14s 48us/step - loss: 0.0145 - acc: 0.0211 - val_loss: 0.0145 - val_acc: 0.0222\n",
      "Epoch 32/200\n",
      "291298/291298 [==============================] - 17s 58us/step - loss: 0.0145 - acc: 0.0201 - val_loss: 0.0144 - val_acc: 0.0217\n",
      "Epoch 33/200\n",
      "291298/291298 [==============================] - 16s 56us/step - loss: 0.0145 - acc: 0.0202 - val_loss: 0.0144 - val_acc: 0.0212\n",
      "Epoch 34/200\n",
      "291298/291298 [==============================] - 15s 53us/step - loss: 0.0145 - acc: 0.0206 - val_loss: 0.0144 - val_acc: 0.0206\n",
      "Epoch 35/200\n",
      "291298/291298 [==============================] - 17s 58us/step - loss: 0.0145 - acc: 0.0221 - val_loss: 0.0144 - val_acc: 0.0218\n",
      "Epoch 36/200\n",
      "291298/291298 [==============================] - 17s 59us/step - loss: 0.0144 - acc: 0.0240 - val_loss: 0.0144 - val_acc: 0.0274\n",
      "Epoch 37/200\n",
      "291298/291298 [==============================] - 17s 60us/step - loss: 0.0144 - acc: 0.0266 - val_loss: 0.0144 - val_acc: 0.0279\n",
      "Epoch 38/200\n",
      "291298/291298 [==============================] - 17s 58us/step - loss: 0.0144 - acc: 0.0275 - val_loss: 0.0144 - val_acc: 0.0302\n",
      "Epoch 39/200\n",
      "291298/291298 [==============================] - 17s 58us/step - loss: 0.0144 - acc: 0.0286 - val_loss: 0.0144 - val_acc: 0.0303\n",
      "Epoch 40/200\n",
      "291298/291298 [==============================] - 17s 59us/step - loss: 0.0144 - acc: 0.0290 - val_loss: 0.0144 - val_acc: 0.0316\n",
      "Epoch 41/200\n",
      "291298/291298 [==============================] - 17s 58us/step - loss: 0.0144 - acc: 0.0298 - val_loss: 0.0144 - val_acc: 0.0317\n",
      "Epoch 42/200\n",
      "291298/291298 [==============================] - 17s 59us/step - loss: 0.0144 - acc: 0.0305 - val_loss: 0.0144 - val_acc: 0.0334\n",
      "Epoch 43/200\n",
      "291298/291298 [==============================] - 16s 54us/step - loss: 0.0144 - acc: 0.0308 - val_loss: 0.0144 - val_acc: 0.0333\n",
      "Epoch 44/200\n",
      "291298/291298 [==============================] - 14s 47us/step - loss: 0.0144 - acc: 0.0314 - val_loss: 0.0144 - val_acc: 0.0340\n",
      "Epoch 45/200\n",
      "291298/291298 [==============================] - 14s 47us/step - loss: 0.0144 - acc: 0.0313 - val_loss: 0.0144 - val_acc: 0.0338\n",
      "Epoch 46/200\n",
      "291298/291298 [==============================] - 15s 50us/step - loss: 0.0144 - acc: 0.0312 - val_loss: 0.0144 - val_acc: 0.0323\n",
      "Epoch 47/200\n",
      "291298/291298 [==============================] - 16s 54us/step - loss: 0.0144 - acc: 0.0314 - val_loss: 0.0144 - val_acc: 0.0336\n",
      "Epoch 48/200\n",
      "291298/291298 [==============================] - 16s 56us/step - loss: 0.0144 - acc: 0.0314 - val_loss: 0.0144 - val_acc: 0.0310\n",
      "Epoch 49/200\n",
      "291298/291298 [==============================] - 16s 56us/step - loss: 0.0144 - acc: 0.0313 - val_loss: 0.0143 - val_acc: 0.0326\n",
      "Epoch 50/200\n",
      "291298/291298 [==============================] - 16s 56us/step - loss: 0.0144 - acc: 0.0315 - val_loss: 0.0144 - val_acc: 0.0332\n",
      "Epoch 51/200\n",
      "291298/291298 [==============================] - 16s 55us/step - loss: 0.0143 - acc: 0.0311 - val_loss: 0.0143 - val_acc: 0.0321\n",
      "Epoch 52/200\n",
      "291298/291298 [==============================] - 16s 54us/step - loss: 0.0143 - acc: 0.0311 - val_loss: 0.0143 - val_acc: 0.0310\n",
      "Epoch 53/200\n",
      "291298/291298 [==============================] - 16s 54us/step - loss: 0.0143 - acc: 0.0310 - val_loss: 0.0143 - val_acc: 0.0310\n",
      "Epoch 54/200\n",
      "291298/291298 [==============================] - 16s 54us/step - loss: 0.0143 - acc: 0.0310 - val_loss: 0.0143 - val_acc: 0.0306\n",
      "Epoch 55/200\n",
      "291298/291298 [==============================] - 15s 53us/step - loss: 0.0143 - acc: 0.0307 - val_loss: 0.0143 - val_acc: 0.0331\n",
      "Epoch 56/200\n",
      "291298/291298 [==============================] - 15s 53us/step - loss: 0.0143 - acc: 0.0311 - val_loss: 0.0143 - val_acc: 0.0303\n",
      "Epoch 57/200\n",
      "291298/291298 [==============================] - 15s 51us/step - loss: 0.0143 - acc: 0.0310 - val_loss: 0.0143 - val_acc: 0.0312\n",
      "Epoch 58/200\n",
      "291298/291298 [==============================] - 15s 52us/step - loss: 0.0143 - acc: 0.0309 - val_loss: 0.0143 - val_acc: 0.0334\n",
      "Epoch 59/200\n",
      "291298/291298 [==============================] - 15s 51us/step - loss: 0.0143 - acc: 0.0315 - val_loss: 0.0142 - val_acc: 0.0338\n",
      "Epoch 60/200\n",
      "291298/291298 [==============================] - 15s 51us/step - loss: 0.0143 - acc: 0.0309 - val_loss: 0.0143 - val_acc: 0.0340\n",
      "Epoch 61/200\n",
      "291298/291298 [==============================] - 14s 50us/step - loss: 0.0143 - acc: 0.0314 - val_loss: 0.0142 - val_acc: 0.0342\n",
      "Epoch 62/200\n",
      "291298/291298 [==============================] - 14s 49us/step - loss: 0.0143 - acc: 0.0316 - val_loss: 0.0142 - val_acc: 0.0340\n",
      "Epoch 63/200\n",
      "291298/291298 [==============================] - 14s 49us/step - loss: 0.0143 - acc: 0.0328 - val_loss: 0.0142 - val_acc: 0.0344\n",
      "Epoch 64/200\n",
      "291298/291298 [==============================] - 14s 50us/step - loss: 0.0143 - acc: 0.0323 - val_loss: 0.0142 - val_acc: 0.0341\n",
      "Epoch 65/200\n",
      "291298/291298 [==============================] - 14s 49us/step - loss: 0.0143 - acc: 0.0320 - val_loss: 0.0142 - val_acc: 0.0351\n",
      "Epoch 66/200\n",
      "291298/291298 [==============================] - 14s 48us/step - loss: 0.0143 - acc: 0.0322 - val_loss: 0.0142 - val_acc: 0.0344\n",
      "Epoch 67/200\n",
      "291298/291298 [==============================] - 14s 49us/step - loss: 0.0143 - acc: 0.0321 - val_loss: 0.0142 - val_acc: 0.0334\n",
      "Epoch 68/200\n",
      "291298/291298 [==============================] - 14s 49us/step - loss: 0.0143 - acc: 0.0312 - val_loss: 0.0142 - val_acc: 0.0327\n",
      "Epoch 69/200\n",
      "291298/291298 [==============================] - 14s 48us/step - loss: 0.0143 - acc: 0.0314 - val_loss: 0.0142 - val_acc: 0.0335\n",
      "Epoch 70/200\n",
      "291298/291298 [==============================] - 14s 48us/step - loss: 0.0143 - acc: 0.0322 - val_loss: 0.0142 - val_acc: 0.0334\n",
      "Epoch 71/200\n",
      "291298/291298 [==============================] - 14s 48us/step - loss: 0.0143 - acc: 0.0306 - val_loss: 0.0142 - val_acc: 0.0290\n",
      "Epoch 72/200\n",
      "291298/291298 [==============================] - 14s 47us/step - loss: 0.0142 - acc: 0.0305 - val_loss: 0.0142 - val_acc: 0.0329\n",
      "Epoch 73/200\n",
      "291298/291298 [==============================] - 14s 47us/step - loss: 0.0143 - acc: 0.0303 - val_loss: 0.0142 - val_acc: 0.0311\n",
      "Epoch 74/200\n",
      "291298/291298 [==============================] - 14s 48us/step - loss: 0.0143 - acc: 0.0300 - val_loss: 0.0142 - val_acc: 0.0309\n",
      "Epoch 75/200\n",
      "291298/291298 [==============================] - 14s 48us/step - loss: 0.0143 - acc: 0.0300 - val_loss: 0.0142 - val_acc: 0.0310\n",
      "Epoch 76/200\n",
      "291298/291298 [==============================] - 14s 48us/step - loss: 0.0143 - acc: 0.0308 - val_loss: 0.0142 - val_acc: 0.0315\n",
      "Epoch 77/200\n",
      "291298/291298 [==============================] - 14s 48us/step - loss: 0.0143 - acc: 0.0302 - val_loss: 0.0142 - val_acc: 0.0302\n",
      "Epoch 78/200\n",
      "291298/291298 [==============================] - 14s 48us/step - loss: 0.0143 - acc: 0.0306 - val_loss: 0.0142 - val_acc: 0.0315\n",
      "Epoch 79/200\n",
      "291298/291298 [==============================] - 14s 47us/step - loss: 0.0142 - acc: 0.0303 - val_loss: 0.0142 - val_acc: 0.0308\n",
      "Epoch 80/200\n",
      "291298/291298 [==============================] - 14s 48us/step - loss: 0.0143 - acc: 0.0311 - val_loss: 0.0142 - val_acc: 0.0304\n",
      "Epoch 81/200\n",
      "291298/291298 [==============================] - 14s 48us/step - loss: 0.0142 - acc: 0.0296 - val_loss: 0.0142 - val_acc: 0.0314\n",
      "Epoch 82/200\n",
      "291298/291298 [==============================] - 14s 48us/step - loss: 0.0142 - acc: 0.0296 - val_loss: 0.0142 - val_acc: 0.0302\n",
      "Epoch 83/200\n",
      "291298/291298 [==============================] - 14s 47us/step - loss: 0.0142 - acc: 0.0295 - val_loss: 0.0142 - val_acc: 0.0308\n",
      "Epoch 84/200\n",
      "291298/291298 [==============================] - 14s 48us/step - loss: 0.0142 - acc: 0.0297 - val_loss: 0.0142 - val_acc: 0.0319\n",
      "Epoch 85/200\n",
      "291298/291298 [==============================] - 14s 47us/step - loss: 0.0142 - acc: 0.0299 - val_loss: 0.0142 - val_acc: 0.0290\n",
      "Epoch 86/200\n",
      "291298/291298 [==============================] - 14s 47us/step - loss: 0.0142 - acc: 0.0292 - val_loss: 0.0142 - val_acc: 0.0325\n",
      "Epoch 87/200\n",
      "291298/291298 [==============================] - 14s 48us/step - loss: 0.0142 - acc: 0.0302 - val_loss: 0.0142 - val_acc: 0.0329\n",
      "Epoch 88/200\n",
      "291298/291298 [==============================] - 14s 48us/step - loss: 0.0143 - acc: 0.0304 - val_loss: 0.0142 - val_acc: 0.0329\n",
      "Epoch 89/200\n",
      "291298/291298 [==============================] - 14s 47us/step - loss: 0.0142 - acc: 0.0303 - val_loss: 0.0142 - val_acc: 0.0313\n",
      "Epoch 90/200\n",
      "291298/291298 [==============================] - 14s 47us/step - loss: 0.0142 - acc: 0.0294 - val_loss: 0.0142 - val_acc: 0.0323\n",
      "Epoch 91/200\n",
      "291298/291298 [==============================] - 14s 47us/step - loss: 0.0143 - acc: 0.0315 - val_loss: 0.0142 - val_acc: 0.0332\n",
      "Epoch 92/200\n",
      "291298/291298 [==============================] - 14s 48us/step - loss: 0.0142 - acc: 0.0298 - val_loss: 0.0142 - val_acc: 0.0334\n",
      "Epoch 93/200\n",
      "291298/291298 [==============================] - 14s 48us/step - loss: 0.0142 - acc: 0.0300 - val_loss: 0.0142 - val_acc: 0.0323\n",
      "Epoch 94/200\n",
      "291298/291298 [==============================] - 14s 47us/step - loss: 0.0143 - acc: 0.0308 - val_loss: 0.0142 - val_acc: 0.0239\n",
      "Epoch 95/200\n",
      "291298/291298 [==============================] - 14s 47us/step - loss: 0.0142 - acc: 0.0305 - val_loss: 0.0142 - val_acc: 0.0321\n",
      "Epoch 96/200\n",
      "291298/291298 [==============================] - 14s 48us/step - loss: 0.0143 - acc: 0.0315 - val_loss: 0.0144 - val_acc: 0.0441\n",
      "Epoch 97/200\n",
      "291298/291298 [==============================] - 14s 48us/step - loss: 0.0142 - acc: 0.0301 - val_loss: 0.0142 - val_acc: 0.0326\n",
      "Epoch 98/200\n",
      "291298/291298 [==============================] - 14s 47us/step - loss: 0.0142 - acc: 0.0304 - val_loss: 0.0142 - val_acc: 0.0321\n",
      "Epoch 99/200\n",
      "291298/291298 [==============================] - 14s 47us/step - loss: 0.0142 - acc: 0.0297 - val_loss: 0.0142 - val_acc: 0.0309\n",
      "Epoch 100/200\n",
      "291298/291298 [==============================] - 14s 48us/step - loss: 0.0142 - acc: 0.0296 - val_loss: 0.0142 - val_acc: 0.0321\n",
      "Epoch 101/200\n",
      "291298/291298 [==============================] - 14s 48us/step - loss: 0.0142 - acc: 0.0297 - val_loss: 0.0142 - val_acc: 0.0305\n",
      "Epoch 102/200\n",
      "291298/291298 [==============================] - 14s 47us/step - loss: 0.0142 - acc: 0.0295 - val_loss: 0.0142 - val_acc: 0.0322\n",
      "Epoch 103/200\n",
      "291298/291298 [==============================] - 14s 47us/step - loss: 0.0142 - acc: 0.0295 - val_loss: 0.0142 - val_acc: 0.0306\n",
      "Epoch 104/200\n",
      "291298/291298 [==============================] - 14s 47us/step - loss: 0.0142 - acc: 0.0302 - val_loss: 0.0142 - val_acc: 0.0172\n",
      "Epoch 105/200\n",
      "291298/291298 [==============================] - 14s 48us/step - loss: 0.0143 - acc: 0.0311 - val_loss: 0.0142 - val_acc: 0.0318\n",
      "Epoch 106/200\n",
      "291298/291298 [==============================] - 14s 48us/step - loss: 0.0142 - acc: 0.0298 - val_loss: 0.0152 - val_acc: 0.0750\n",
      "Epoch 107/200\n",
      "291298/291298 [==============================] - 14s 47us/step - loss: 0.0142 - acc: 0.0303 - val_loss: 0.0142 - val_acc: 0.0329\n",
      "Epoch 108/200\n",
      "291298/291298 [==============================] - 14s 48us/step - loss: 0.0143 - acc: 0.0315 - val_loss: 0.0142 - val_acc: 0.0331\n",
      "Epoch 109/200\n",
      "291298/291298 [==============================] - 14s 49us/step - loss: 0.0142 - acc: 0.0303 - val_loss: 0.0142 - val_acc: 0.0323\n",
      "Epoch 110/200\n",
      "291298/291298 [==============================] - 14s 49us/step - loss: 0.0143 - acc: 0.0304 - val_loss: 0.0142 - val_acc: 0.0324\n",
      "Epoch 111/200\n",
      "291298/291298 [==============================] - 14s 49us/step - loss: 0.0142 - acc: 0.0299 - val_loss: 0.0142 - val_acc: 0.0324\n",
      "Epoch 112/200\n",
      "291298/291298 [==============================] - 14s 49us/step - loss: 0.0142 - acc: 0.0303 - val_loss: 0.0142 - val_acc: 0.0328\n",
      "Epoch 113/200\n",
      "291298/291298 [==============================] - 14s 49us/step - loss: 0.0142 - acc: 0.0306 - val_loss: 0.0142 - val_acc: 0.0332\n",
      "--- AE spent 1634.5928556919098 seconds ---\n"
     ]
    }
   ],
   "source": [
    "hist_spae_sigmoid_adam_logcosh = fit_ae(checkpoint_file = \"spae_sigmoid_adam_logcosh_redds10bal.h5\",\n",
    "                                        autoencoder = spae_sigmoid_adam_logcosh, \n",
    "                                        epochs = 200, \n",
    "                                        batch_size = 48, \n",
    "                                        shuffle = False)"
   ]
  },
  {
   "cell_type": "code",
   "execution_count": 61,
   "metadata": {},
   "outputs": [
    {
     "name": "stdout",
     "output_type": "stream",
     "text": [
      "Best loss value: 0.014212557768406998\n"
     ]
    },
    {
     "data": {
      "image/png": "[encoded data removed]",
      "text/plain": [
       "<Figure size 432x288 with 1 Axes>"
      ]
     },
     "metadata": {
      "needs_background": "light"
     },
     "output_type": "display_data"
    }
   ],
   "source": [
    "best_loss_value_spae_sigmoid_adam_logcosh = plot_hist_auto(hist_spae_sigmoid_adam_logcosh, './Figures/spae_sigmoid_adam_logcosh.png')"
   ]
  },
  {
   "cell_type": "code",
   "execution_count": 62,
   "metadata": {},
   "outputs": [],
   "source": [
    "loss_valueDict = {\n",
    "    'loss_value_ae_sigmoid_adam_logcosh': best_loss_value_ae_sigmoid_adam_logcosh,\n",
    "    'loss_value_ae_sigmoid_adam_mse': best_loss_value_ae_sigmoid_adam_mse,\n",
    "    'loss_value_sae_sigmoid_adam_logcosh': best_loss_value_sae_sigmoid_adam_logcosh,\n",
    "    'loss_value_sae_sigmoid_adam_mse': best_loss_value_sae_sigmoid_adam_mse,\n",
    "    'loss_value_spae_sigmoid_adam_logcosh': best_loss_value_spae_sigmoid_adam_logcosh,\n",
    "    'loss_value_ae_siglin_adam_logcosh': best_loss_value_ae_siglin_adam_logcosh\n",
    "    }"
   ]
  },
  {
   "cell_type": "code",
   "execution_count": 63,
   "metadata": {},
   "outputs": [
    {
     "data": {
      "text/plain": [
       "{'loss_value_ae_sigmoid_adam_logcosh': 1.4083044855397788e-05,\n",
       " 'loss_value_ae_sigmoid_adam_mse': 3.167287426632356e-05,\n",
       " 'loss_value_sae_sigmoid_adam_logcosh': 0.0019803600962032515,\n",
       " 'loss_value_sae_sigmoid_adam_mse': 0.01160121386875563,\n",
       " 'loss_value_spae_sigmoid_adam_logcosh': 0.014212557768406998,\n",
       " 'loss_value_ae_siglin_adam_logcosh': 1.8328752667281846e-06}"
      ]
     },
     "execution_count": 63,
     "metadata": {},
     "output_type": "execute_result"
    }
   ],
   "source": [
    "loss_valueDict"
   ]
  },
  {
   "cell_type": "code",
   "execution_count": null,
   "metadata": {},
   "outputs": [],
   "source": []
  },
  {
   "cell_type": "code",
   "execution_count": 64,
   "metadata": {},
   "outputs": [
    {
     "name": "stdout",
     "output_type": "stream",
     "text": [
      "32\n",
      "32\n",
      "32\n",
      "32\n",
      "32\n",
      "32\n",
      "8\n",
      "8\n",
      "8\n",
      "8\n"
     ]
    }
   ],
   "source": [
    "print(enc_train_x_asal.shape[1])\n",
    "print(enc_test_x_asal.shape[1])\n",
    "\n",
    "print(enc_train_x_spaesal.shape[1])\n",
    "print(enc_test_x_spaesal.shape[1])\n",
    "\n",
    "print(enc_train_x_asam.shape[1])\n",
    "print(enc_test_x_asam.shape[1])\n",
    "\n",
    "print(enc_train_x_ssal.shape[1])\n",
    "print(enc_test_x_ssal.shape[1])\n",
    "\n",
    "print(enc_train_x_ssam.shape[1])\n",
    "print(enc_test_x_ssam.shape[1])"
   ]
  },
  {
   "cell_type": "code",
   "execution_count": 65,
   "metadata": {},
   "outputs": [
    {
     "name": "stdout",
     "output_type": "stream",
     "text": [
      "(291298, 32)\n",
      "(91031, 32)\n"
     ]
    }
   ],
   "source": [
    "print(enc_train_x_aslal.shape)\n",
    "print(enc_test_x_aslal.shape)"
   ]
  },
  {
   "cell_type": "code",
   "execution_count": 66,
   "metadata": {},
   "outputs": [
    {
     "name": "stdout",
     "output_type": "stream",
     "text": [
      "_________________________________________________________________\n",
      "Layer (type)                 Output Shape              Param #   \n",
      "=================================================================\n",
      "dense_13 (Dense)             (None, 48)                1584      \n",
      "_________________________________________________________________\n",
      "dense_14 (Dense)             (None, 36)                1764      \n",
      "_________________________________________________________________\n",
      "batch_normalization_1 (Batch (None, 36)                144       \n",
      "_________________________________________________________________\n",
      "dropout_1 (Dropout)          (None, 36)                0         \n",
      "_________________________________________________________________\n",
      "dense_15 (Dense)             (None, 1)                 37        \n",
      "=================================================================\n",
      "Total params: 3,529\n",
      "Trainable params: 3,457\n",
      "Non-trainable params: 72\n",
      "_________________________________________________________________\n",
      "None\n"
     ]
    }
   ],
   "source": [
    "ann36n_unisoftsigbinlosadam = ann_1h_36n(neurons=48,\n",
    "                                      encoded_train_x=enc_train_x_aslal,\n",
    "                                      init_mode='uniform',\n",
    "                                      activation_input='softsign',\n",
    "                                      weight_constraint=5,\n",
    "                                      dropout_rate=0.0,\n",
    "                                      activation_output='sigmoid',\n",
    "                                      loss='binary_crossentropy',\n",
    "                                      optimizer='Adam')"
   ]
  },
  {
   "cell_type": "code",
   "execution_count": null,
   "metadata": {},
   "outputs": [],
   "source": []
  },
  {
   "cell_type": "code",
   "execution_count": 67,
   "metadata": {},
   "outputs": [
    {
     "name": "stdout",
     "output_type": "stream",
     "text": [
      "Thu Jun  6 16:12:00 2019\n",
      "Train on 233038 samples, validate on 58260 samples\n",
      "Epoch 1/200\n",
      "233038/233038 [==============================] - 20s 85us/step - loss: 0.6215 - acc: 0.6359 - val_loss: 0.6199 - val_acc: 0.6574\n",
      "Epoch 2/200\n",
      "233038/233038 [==============================] - 19s 82us/step - loss: 0.6143 - acc: 0.6413 - val_loss: 0.6962 - val_acc: 0.6170\n",
      "Epoch 3/200\n",
      "233038/233038 [==============================] - 19s 82us/step - loss: 0.6074 - acc: 0.6463 - val_loss: 1.3757 - val_acc: 0.5161\n",
      "Epoch 4/200\n",
      "233038/233038 [==============================] - 19s 82us/step - loss: 0.6016 - acc: 0.6520 - val_loss: 1.3239 - val_acc: 0.5159\n",
      "Epoch 5/200\n",
      "233038/233038 [==============================] - 19s 81us/step - loss: 0.5976 - acc: 0.6567 - val_loss: 1.8846 - val_acc: 0.5018\n",
      "Epoch 6/200\n",
      "233038/233038 [==============================] - 19s 81us/step - loss: 0.5947 - acc: 0.6609 - val_loss: 1.5728 - val_acc: 0.5074\n",
      "--- ANN spent 115.0724401473999 seconds ---\n"
     ]
    }
   ],
   "source": [
    "hist_ann36n_unisoftsigbinlosadam = ann_fit(checkpoint_file = \"ann36n_unisoftsigbinlosadam_redds10bal.h5\",\n",
    "                                        ann = ann36n_unisoftsigbinlosadam,\n",
    "                                        enc_train_x = enc_train_x_aslal,\n",
    "                                        train_y = train_y,\n",
    "                                        epochs = 200,\n",
    "                                        shuffle = False,\n",
    "                                        batch_size = 48)"
   ]
  },
  {
   "cell_type": "code",
   "execution_count": 68,
   "metadata": {},
   "outputs": [
    {
     "name": "stdout",
     "output_type": "stream",
     "text": [
      "Best loss value: 0.594657290451849\n"
     ]
    },
    {
     "data": {
      "image/png": "[encoded data removed]",
      "text/plain": [
       "<Figure size 432x288 with 1 Axes>"
      ]
     },
     "metadata": {
      "needs_background": "light"
     },
     "output_type": "display_data"
    }
   ],
   "source": [
    "best_loss_value_ann36n_unisoftsigbinlosadam = plot_hist_auto(hist_ann36n_unisoftsigbinlosadam, './Figures/ann36_unisoftsigbinlosadam.png')"
   ]
  },
  {
   "cell_type": "code",
   "execution_count": 69,
   "metadata": {},
   "outputs": [
    {
     "name": "stdout",
     "output_type": "stream",
     "text": [
      "Overall accuracy of Neural Network model: 0.5031912205732113\n",
      "              precision    recall  f1-score   support\n",
      "\n",
      "           0       1.00      0.01      0.03     45805\n",
      "           1       0.50      1.00      0.67     45226\n",
      "\n",
      "   micro avg       0.50      0.50      0.50     91031\n",
      "   macro avg       0.75      0.51      0.35     91031\n",
      "weighted avg       0.75      0.50      0.34     91031\n",
      "\n"
     ]
    }
   ],
   "source": [
    "pred_ann36n_prob_unisoftsigbinlosadam, pred_ann36n_01_unisoftsigbinlosadam = ann_predict(ann36n_unisoftsigbinlosadam,enc_test_x_aslal)"
   ]
  },
  {
   "cell_type": "code",
   "execution_count": 70,
   "metadata": {},
   "outputs": [
    {
     "data": {
      "image/png": "[encoded data removed]",
      "text/plain": [
       "<Figure size 432x288 with 1 Axes>"
      ]
     },
     "metadata": {
      "needs_background": "light"
     },
     "output_type": "display_data"
    },
    {
     "data": {
      "image/png": "[encoded data removed]",
      "text/plain": [
       "<Figure size 576x432 with 2 Axes>"
      ]
     },
     "metadata": {
      "needs_background": "light"
     },
     "output_type": "display_data"
    }
   ],
   "source": [
    "plot_roc_cm(pred_ann36n_01_unisoftsigbinlosadam, pred_ann36n_01_unisoftsigbinlosadam, './Figures/ROC_ann36n_unisoftsigbinlosadam_redds10bal.png', './Figures/CM_ann36n_unisoftsigbinlosadam_redds10bal.png')"
   ]
  },
  {
   "cell_type": "code",
   "execution_count": null,
   "metadata": {},
   "outputs": [],
   "source": []
  },
  {
   "cell_type": "code",
   "execution_count": null,
   "metadata": {},
   "outputs": [],
   "source": []
  },
  {
   "cell_type": "code",
   "execution_count": 71,
   "metadata": {},
   "outputs": [
    {
     "name": "stdout",
     "output_type": "stream",
     "text": [
      "_________________________________________________________________\n",
      "Layer (type)                 Output Shape              Param #   \n",
      "=================================================================\n",
      "dense_16 (Dense)             (None, 48)                1584      \n",
      "_________________________________________________________________\n",
      "dense_17 (Dense)             (None, 24)                1176      \n",
      "_________________________________________________________________\n",
      "batch_normalization_2 (Batch (None, 24)                96        \n",
      "_________________________________________________________________\n",
      "dropout_2 (Dropout)          (None, 24)                0         \n",
      "_________________________________________________________________\n",
      "dense_18 (Dense)             (None, 1)                 25        \n",
      "=================================================================\n",
      "Total params: 2,881\n",
      "Trainable params: 2,833\n",
      "Non-trainable params: 48\n",
      "_________________________________________________________________\n",
      "None\n"
     ]
    }
   ],
   "source": [
    "ann24n_unisoftsigbinlosadam = ann_1h_24n(neurons=48,\n",
    "                                      encoded_train_x=enc_train_x_aslal,\n",
    "                                      init_mode='uniform',\n",
    "                                      activation_input='softsign',\n",
    "                                      weight_constraint=5,\n",
    "                                      dropout_rate=0.0,\n",
    "                                      activation_output='sigmoid',\n",
    "                                      loss='binary_crossentropy',\n",
    "                                      optimizer='Adam')"
   ]
  },
  {
   "cell_type": "code",
   "execution_count": 72,
   "metadata": {},
   "outputs": [
    {
     "name": "stdout",
     "output_type": "stream",
     "text": [
      "Thu Jun  6 16:13:58 2019\n",
      "Train on 233038 samples, validate on 58260 samples\n",
      "Epoch 1/200\n",
      "233038/233038 [==============================] - 20s 84us/step - loss: 0.6217 - acc: 0.6351 - val_loss: 0.7034 - val_acc: 0.6086\n",
      "Epoch 2/200\n",
      "233038/233038 [==============================] - 19s 82us/step - loss: 0.6129 - acc: 0.6410 - val_loss: 2.2226 - val_acc: 0.5018\n",
      "Epoch 3/200\n",
      "233038/233038 [==============================] - 19s 83us/step - loss: 0.6065 - acc: 0.6477 - val_loss: 1.7373 - val_acc: 0.4982\n",
      "Epoch 4/200\n",
      "233038/233038 [==============================] - 19s 83us/step - loss: 0.6021 - acc: 0.6517 - val_loss: 1.9570 - val_acc: 0.4982\n",
      "Epoch 5/200\n",
      "233038/233038 [==============================] - 19s 81us/step - loss: 0.5976 - acc: 0.6564 - val_loss: 0.5930 - val_acc: 0.6718\n",
      "Epoch 6/200\n",
      "233038/233038 [==============================] - 19s 82us/step - loss: 0.5940 - acc: 0.6610 - val_loss: 0.6451 - val_acc: 0.5898\n",
      "Epoch 7/200\n",
      "233038/233038 [==============================] - 19s 83us/step - loss: 0.5914 - acc: 0.6643 - val_loss: 5.8762 - val_acc: 0.5018\n",
      "Epoch 8/200\n",
      "233038/233038 [==============================] - 19s 82us/step - loss: 0.5900 - acc: 0.6663 - val_loss: 4.5343 - val_acc: 0.5018\n",
      "Epoch 9/200\n",
      "233038/233038 [==============================] - 19s 81us/step - loss: 0.5884 - acc: 0.6682 - val_loss: 0.8893 - val_acc: 0.5066\n",
      "Epoch 10/200\n",
      "233038/233038 [==============================] - 19s 82us/step - loss: 0.5870 - acc: 0.6698 - val_loss: 1.3717 - val_acc: 0.4982\n",
      "--- ANN spent 192.32598733901978 seconds ---\n"
     ]
    }
   ],
   "source": [
    "hist_ann24n_unisoftsigbinlosadam = ann_fit(checkpoint_file = \"ann24n_unisoftsigbinlosadam_redds10bal.h5\",\n",
    "                                        ann = ann24n_unisoftsigbinlosadam,\n",
    "                                        enc_train_x = enc_train_x_aslal,\n",
    "                                        train_y = train_y,\n",
    "                                        epochs = 200,\n",
    "                                        shuffle = True,\n",
    "                                        batch_size = 48)"
   ]
  },
  {
   "cell_type": "code",
   "execution_count": 73,
   "metadata": {},
   "outputs": [
    {
     "name": "stdout",
     "output_type": "stream",
     "text": [
      "Best loss value: 0.5869546256831744\n"
     ]
    },
    {
     "data": {
      "image/png": "[encoded data removed]",
      "text/plain": [
       "<Figure size 432x288 with 1 Axes>"
      ]
     },
     "metadata": {
      "needs_background": "light"
     },
     "output_type": "display_data"
    }
   ],
   "source": [
    "best_loss_value_ann24n_unisoftsigbinlosadam = plot_hist_auto(hist_ann24n_unisoftsigbinlosadam, './Figures/ann24_unisoftsigbinlosadam.png')"
   ]
  },
  {
   "cell_type": "code",
   "execution_count": 74,
   "metadata": {},
   "outputs": [
    {
     "name": "stdout",
     "output_type": "stream",
     "text": [
      "Overall accuracy of Neural Network model: 0.5032131911107205\n",
      "              precision    recall  f1-score   support\n",
      "\n",
      "           0       0.50      1.00      0.67     45805\n",
      "           1       1.00      0.00      0.00     45226\n",
      "\n",
      "   micro avg       0.50      0.50      0.50     91031\n",
      "   macro avg       0.75      0.50      0.33     91031\n",
      "weighted avg       0.75      0.50      0.34     91031\n",
      "\n"
     ]
    }
   ],
   "source": [
    "pred_ann24n_prob_unisoftsigbinlosadam, pred_ann24n_01_unisoftsigbinlosadam = ann_predict(ann24n_unisoftsigbinlosadam,enc_test_x_aslal)"
   ]
  },
  {
   "cell_type": "code",
   "execution_count": 75,
   "metadata": {},
   "outputs": [
    {
     "data": {
      "image/png": "[encoded data removed]",
      "text/plain": [
       "<Figure size 432x288 with 1 Axes>"
      ]
     },
     "metadata": {
      "needs_background": "light"
     },
     "output_type": "display_data"
    },
    {
     "data": {
      "image/png": "[encoded data removed]",
      "text/plain": [
       "<Figure size 576x432 with 2 Axes>"
      ]
     },
     "metadata": {
      "needs_background": "light"
     },
     "output_type": "display_data"
    }
   ],
   "source": [
    "plot_roc_cm(pred_ann24n_01_unisoftsigbinlosadam, pred_ann24n_01_unisoftsigbinlosadam, './Figures/ROC_ann24n_unisoftsigbinlosadam_redds10bal.png', './Figures/CM_ann24n_unisoftsigbinlosadam_redds10bal.png')"
   ]
  },
  {
   "cell_type": "code",
   "execution_count": null,
   "metadata": {},
   "outputs": [],
   "source": []
  },
  {
   "cell_type": "code",
   "execution_count": 76,
   "metadata": {},
   "outputs": [
    {
     "name": "stdout",
     "output_type": "stream",
     "text": [
      "_________________________________________________________________\n",
      "Layer (type)                 Output Shape              Param #   \n",
      "=================================================================\n",
      "dense_19 (Dense)             (None, 48)                1584      \n",
      "_________________________________________________________________\n",
      "dense_20 (Dense)             (None, 36)                1764      \n",
      "_________________________________________________________________\n",
      "dense_21 (Dense)             (None, 24)                888       \n",
      "_________________________________________________________________\n",
      "batch_normalization_3 (Batch (None, 24)                96        \n",
      "_________________________________________________________________\n",
      "dropout_3 (Dropout)          (None, 24)                0         \n",
      "_________________________________________________________________\n",
      "dense_22 (Dense)             (None, 1)                 25        \n",
      "=================================================================\n",
      "Total params: 4,357\n",
      "Trainable params: 4,309\n",
      "Non-trainable params: 48\n",
      "_________________________________________________________________\n",
      "None\n"
     ]
    }
   ],
   "source": [
    "ann_2h_unisoftsigbinlosadam = ann_2h(neurons=48,\n",
    "                                      encoded_train_x=enc_train_x_aslal,\n",
    "                                      init_mode='uniform',\n",
    "                                      activation_input='softsign',\n",
    "                                      weight_constraint=5,\n",
    "                                      dropout_rate=0.0,\n",
    "                                      activation_output='sigmoid',\n",
    "                                      loss='binary_crossentropy',\n",
    "                                      optimizer='Adam')"
   ]
  },
  {
   "cell_type": "code",
   "execution_count": 77,
   "metadata": {},
   "outputs": [
    {
     "name": "stdout",
     "output_type": "stream",
     "text": [
      "Thu Jun  6 16:17:13 2019\n",
      "Train on 233038 samples, validate on 58260 samples\n",
      "Epoch 1/200\n",
      "233038/233038 [==============================] - 21s 89us/step - loss: 0.6221 - acc: 0.6353 - val_loss: 0.7048 - val_acc: 0.6119\n",
      "Epoch 2/200\n",
      "233038/233038 [==============================] - 20s 86us/step - loss: 0.6140 - acc: 0.6407 - val_loss: 1.1699 - val_acc: 0.5378\n",
      "Epoch 3/200\n",
      "233038/233038 [==============================] - 20s 86us/step - loss: 0.6074 - acc: 0.6457 - val_loss: 0.7534 - val_acc: 0.6083\n",
      "Epoch 4/200\n",
      "233038/233038 [==============================] - 20s 88us/step - loss: 0.6000 - acc: 0.6530 - val_loss: 2.4546 - val_acc: 0.4982\n",
      "Epoch 5/200\n",
      "233038/233038 [==============================] - 21s 88us/step - loss: 0.5948 - acc: 0.6602 - val_loss: 1.9418 - val_acc: 0.5038\n",
      "Epoch 6/200\n",
      "233038/233038 [==============================] - 21s 89us/step - loss: 0.5907 - acc: 0.6664 - val_loss: 3.3407 - val_acc: 0.5018\n",
      "--- ANN spent 123.06759738922119 seconds ---\n"
     ]
    }
   ],
   "source": [
    "hist_ann_2h_unisoftsigbinlosadam = ann_fit(checkpoint_file = \"ann_2h_unisoftsigbinlosadam_redds10bal.h5\",\n",
    "                                        ann = ann_2h_unisoftsigbinlosadam,\n",
    "                                        enc_train_x = enc_train_x_aslal,\n",
    "                                        train_y = train_y,\n",
    "                                        epochs = 200,\n",
    "                                        shuffle = True,\n",
    "                                        batch_size = 48)"
   ]
  },
  {
   "cell_type": "code",
   "execution_count": 78,
   "metadata": {},
   "outputs": [
    {
     "name": "stdout",
     "output_type": "stream",
     "text": [
      "Best loss value: 0.5907241650541672\n"
     ]
    },
    {
     "data": {
      "image/png": "[encoded data removed]",
      "text/plain": [
       "<Figure size 432x288 with 1 Axes>"
      ]
     },
     "metadata": {
      "needs_background": "light"
     },
     "output_type": "display_data"
    }
   ],
   "source": [
    "best_loss_value_ann_2h_unisoftsigbinlosadam = plot_hist_auto(hist_ann_2h_unisoftsigbinlosadam, './Figures/ann_2h_unisoftsigbinlosadam.png')"
   ]
  },
  {
   "cell_type": "code",
   "execution_count": 79,
   "metadata": {},
   "outputs": [
    {
     "name": "stdout",
     "output_type": "stream",
     "text": [
      "Overall accuracy of Neural Network model: 0.4968197646955433\n",
      "              precision    recall  f1-score   support\n",
      "\n",
      "           0       0.00      0.00      0.00     45805\n",
      "           1       0.50      1.00      0.66     45226\n",
      "\n",
      "   micro avg       0.50      0.50      0.50     91031\n",
      "   macro avg       0.25      0.50      0.33     91031\n",
      "weighted avg       0.25      0.50      0.33     91031\n",
      "\n"
     ]
    },
    {
     "name": "stderr",
     "output_type": "stream",
     "text": [
      "/home/user/.local/lib/python3.6/site-packages/sklearn/metrics/classification.py:1143: UndefinedMetricWarning: Precision and F-score are ill-defined and being set to 0.0 in labels with no predicted samples.\n",
      "  'precision', 'predicted', average, warn_for)\n",
      "/home/user/.local/lib/python3.6/site-packages/sklearn/metrics/classification.py:1143: UndefinedMetricWarning: Precision and F-score are ill-defined and being set to 0.0 in labels with no predicted samples.\n",
      "  'precision', 'predicted', average, warn_for)\n",
      "/home/user/.local/lib/python3.6/site-packages/sklearn/metrics/classification.py:1143: UndefinedMetricWarning: Precision and F-score are ill-defined and being set to 0.0 in labels with no predicted samples.\n",
      "  'precision', 'predicted', average, warn_for)\n"
     ]
    }
   ],
   "source": [
    "pred_ann_2h_prob_unisoftsigbinlosadam, pred_ann_2h_01_unisoftsigbinlosadam = ann_predict(ann_2h_unisoftsigbinlosadam,enc_test_x_aslal)"
   ]
  },
  {
   "cell_type": "code",
   "execution_count": 80,
   "metadata": {},
   "outputs": [
    {
     "data": {
      "image/png": "[encoded data removed]",
      "text/plain": [
       "<Figure size 432x288 with 1 Axes>"
      ]
     },
     "metadata": {
      "needs_background": "light"
     },
     "output_type": "display_data"
    },
    {
     "data": {
      "image/png": "[encoded data removed]",
      "text/plain": [
       "<Figure size 576x432 with 2 Axes>"
      ]
     },
     "metadata": {
      "needs_background": "light"
     },
     "output_type": "display_data"
    }
   ],
   "source": [
    "plot_roc_cm(pred_ann_2h_01_unisoftsigbinlosadam, pred_ann_2h_01_unisoftsigbinlosadam, './Figures/ROC_ann_2h_unisoftsigbinlosadam_redds10bal.png', './Figures/CM_ann_2h_unisoftsigbinlosadam_redds10bal.png')"
   ]
  },
  {
   "cell_type": "code",
   "execution_count": null,
   "metadata": {},
   "outputs": [],
   "source": []
  },
  {
   "cell_type": "code",
   "execution_count": null,
   "metadata": {},
   "outputs": [],
   "source": []
  },
  {
   "cell_type": "code",
   "execution_count": 81,
   "metadata": {},
   "outputs": [
    {
     "name": "stdout",
     "output_type": "stream",
     "text": [
      "_________________________________________________________________\n",
      "Layer (type)                 Output Shape              Param #   \n",
      "=================================================================\n",
      "dense_23 (Dense)             (None, 48)                2352      \n",
      "_________________________________________________________________\n",
      "dense_24 (Dense)             (None, 24)                1176      \n",
      "_________________________________________________________________\n",
      "batch_normalization_4 (Batch (None, 24)                96        \n",
      "_________________________________________________________________\n",
      "dropout_4 (Dropout)          (None, 24)                0         \n",
      "_________________________________________________________________\n",
      "dense_25 (Dense)             (None, 1)                 25        \n",
      "=================================================================\n",
      "Total params: 3,649\n",
      "Trainable params: 3,601\n",
      "Non-trainable params: 48\n",
      "_________________________________________________________________\n",
      "None\n"
     ]
    }
   ],
   "source": [
    "ann_24n_unisoftsigbinlosadam = ann_1h_24n(neurons=48,\n",
    "                                      encoded_train_x=train_x,\n",
    "                                      init_mode='uniform',\n",
    "                                      activation_input='softsign',\n",
    "                                      weight_constraint=5,\n",
    "                                      dropout_rate=0.0,\n",
    "                                      activation_output='sigmoid',\n",
    "                                      loss='binary_crossentropy',\n",
    "                                      optimizer='Adam')"
   ]
  },
  {
   "cell_type": "code",
   "execution_count": 82,
   "metadata": {},
   "outputs": [
    {
     "name": "stdout",
     "output_type": "stream",
     "text": [
      "Thu Jun  6 16:19:19 2019\n",
      "Train on 233038 samples, validate on 58260 samples\n",
      "Epoch 1/200\n",
      "233038/233038 [==============================] - 20s 86us/step - loss: 0.5200 - acc: 0.7185 - val_loss: 0.4649 - val_acc: 0.7616\n",
      "Epoch 2/200\n",
      "233038/233038 [==============================] - 19s 83us/step - loss: 0.4412 - acc: 0.7772 - val_loss: 0.4013 - val_acc: 0.8051\n",
      "Epoch 3/200\n",
      "233038/233038 [==============================] - 20s 84us/step - loss: 0.3995 - acc: 0.8025 - val_loss: 0.3782 - val_acc: 0.8150\n",
      "Epoch 4/200\n",
      "233038/233038 [==============================] - 20s 85us/step - loss: 0.3726 - acc: 0.8169 - val_loss: 0.3457 - val_acc: 0.8401\n",
      "Epoch 5/200\n",
      "233038/233038 [==============================] - 20s 85us/step - loss: 0.3544 - acc: 0.8275 - val_loss: 0.3181 - val_acc: 0.8445\n",
      "Epoch 6/200\n",
      "233038/233038 [==============================] - 20s 85us/step - loss: 0.3380 - acc: 0.8362 - val_loss: 0.3292 - val_acc: 0.8413\n",
      "Epoch 7/200\n",
      "233038/233038 [==============================] - 20s 86us/step - loss: 0.3268 - acc: 0.8430 - val_loss: 0.2991 - val_acc: 0.8596\n",
      "Epoch 8/200\n",
      "233038/233038 [==============================] - 20s 86us/step - loss: 0.3156 - acc: 0.8486 - val_loss: 0.2919 - val_acc: 0.8616\n",
      "Epoch 9/200\n",
      "233038/233038 [==============================] - 20s 86us/step - loss: 0.3076 - acc: 0.8533 - val_loss: 0.2863 - val_acc: 0.8650\n",
      "Epoch 10/200\n",
      "233038/233038 [==============================] - 20s 87us/step - loss: 0.3014 - acc: 0.8564 - val_loss: 0.2898 - val_acc: 0.8560\n",
      "Epoch 11/200\n",
      "233038/233038 [==============================] - 20s 87us/step - loss: 0.2946 - acc: 0.8596 - val_loss: 0.2734 - val_acc: 0.8704\n",
      "Epoch 12/200\n",
      "233038/233038 [==============================] - 20s 85us/step - loss: 0.2888 - acc: 0.8625 - val_loss: 0.2826 - val_acc: 0.8643\n",
      "Epoch 13/200\n",
      "233038/233038 [==============================] - 20s 86us/step - loss: 0.2851 - acc: 0.8652 - val_loss: 0.2739 - val_acc: 0.8722\n",
      "Epoch 14/200\n",
      "233038/233038 [==============================] - 20s 86us/step - loss: 0.2814 - acc: 0.8667 - val_loss: 0.2655 - val_acc: 0.8725\n",
      "Epoch 15/200\n",
      "233038/233038 [==============================] - 20s 86us/step - loss: 0.2756 - acc: 0.8698 - val_loss: 0.2883 - val_acc: 0.8628\n",
      "Epoch 16/200\n",
      "233038/233038 [==============================] - 20s 85us/step - loss: 0.2702 - acc: 0.8725 - val_loss: 0.2585 - val_acc: 0.8795\n",
      "Epoch 17/200\n",
      "233038/233038 [==============================] - 20s 86us/step - loss: 0.2685 - acc: 0.8734 - val_loss: 0.2406 - val_acc: 0.8895\n",
      "Epoch 18/200\n",
      "233038/233038 [==============================] - 20s 87us/step - loss: 0.2664 - acc: 0.8754 - val_loss: 0.2396 - val_acc: 0.8911\n",
      "Epoch 19/200\n",
      "233038/233038 [==============================] - 20s 87us/step - loss: 0.2624 - acc: 0.8767 - val_loss: 0.2518 - val_acc: 0.8850\n",
      "Epoch 20/200\n",
      "233038/233038 [==============================] - 20s 86us/step - loss: 0.2594 - acc: 0.8784 - val_loss: 0.2448 - val_acc: 0.8869\n",
      "Epoch 21/200\n",
      "233038/233038 [==============================] - 20s 85us/step - loss: 0.2557 - acc: 0.8802 - val_loss: 0.2367 - val_acc: 0.8896\n",
      "Epoch 22/200\n",
      "233038/233038 [==============================] - 20s 85us/step - loss: 0.2547 - acc: 0.8809 - val_loss: 0.2397 - val_acc: 0.8886\n",
      "Epoch 23/200\n",
      "233038/233038 [==============================] - 20s 85us/step - loss: 0.2524 - acc: 0.8825 - val_loss: 0.2342 - val_acc: 0.8930\n",
      "Epoch 24/200\n",
      "233038/233038 [==============================] - 20s 86us/step - loss: 0.2498 - acc: 0.8838 - val_loss: 0.2323 - val_acc: 0.8920\n",
      "Epoch 25/200\n",
      "233038/233038 [==============================] - 20s 85us/step - loss: 0.2488 - acc: 0.8844 - val_loss: 0.2304 - val_acc: 0.8970\n",
      "Epoch 26/200\n",
      "233038/233038 [==============================] - 20s 85us/step - loss: 0.2469 - acc: 0.8856 - val_loss: 0.2246 - val_acc: 0.9012\n",
      "Epoch 27/200\n",
      "233038/233038 [==============================] - 20s 86us/step - loss: 0.2441 - acc: 0.8873 - val_loss: 0.2290 - val_acc: 0.8939\n",
      "Epoch 28/200\n",
      "233038/233038 [==============================] - 20s 85us/step - loss: 0.2435 - acc: 0.8874 - val_loss: 0.2184 - val_acc: 0.9007\n",
      "Epoch 29/200\n",
      "233038/233038 [==============================] - 20s 85us/step - loss: 0.2402 - acc: 0.8896 - val_loss: 0.2391 - val_acc: 0.8906\n",
      "Epoch 30/200\n",
      "233038/233038 [==============================] - 20s 86us/step - loss: 0.2391 - acc: 0.8895 - val_loss: 0.2225 - val_acc: 0.8953\n",
      "Epoch 31/200\n",
      "233038/233038 [==============================] - 20s 86us/step - loss: 0.2363 - acc: 0.8909 - val_loss: 0.2206 - val_acc: 0.9020\n",
      "Epoch 32/200\n",
      "233038/233038 [==============================] - 20s 87us/step - loss: 0.2363 - acc: 0.8914 - val_loss: 0.2233 - val_acc: 0.8971\n",
      "Epoch 33/200\n",
      "233038/233038 [==============================] - 20s 87us/step - loss: 0.2349 - acc: 0.8923 - val_loss: 0.2212 - val_acc: 0.8991\n",
      "--- ANN spent 659.0182974338531 seconds ---\n"
     ]
    }
   ],
   "source": [
    "hist_ann_24n_unisoftsigbinlosadam = ann_fit(checkpoint_file = \"ann_24n_unisoftsigbinlosadam_redds10bal.h5\",\n",
    "                                        ann = ann_24n_unisoftsigbinlosadam,\n",
    "                                        enc_train_x = train_x,\n",
    "                                        train_y = train_y,\n",
    "                                        epochs = 200,\n",
    "                                        shuffle = True,\n",
    "                                        batch_size = 48)"
   ]
  },
  {
   "cell_type": "code",
   "execution_count": 83,
   "metadata": {},
   "outputs": [
    {
     "name": "stdout",
     "output_type": "stream",
     "text": [
      "Best loss value: 0.23489789965443933\n"
     ]
    },
    {
     "data": {
      "image/png": "[encoded data removed]",
      "text/plain": [
       "<Figure size 432x288 with 1 Axes>"
      ]
     },
     "metadata": {
      "needs_background": "light"
     },
     "output_type": "display_data"
    }
   ],
   "source": [
    "best_loss_value_ann_24n_unisoftsigbinlosadam = plot_hist_auto(hist_ann_24n_unisoftsigbinlosadam, './Figures/ann_24_unisoftsigbinlosadam.png')"
   ]
  },
  {
   "cell_type": "code",
   "execution_count": 84,
   "metadata": {},
   "outputs": [
    {
     "name": "stdout",
     "output_type": "stream",
     "text": [
      "Overall accuracy of Neural Network model: 0.9010007579835441\n",
      "              precision    recall  f1-score   support\n",
      "\n",
      "           0       0.92      0.88      0.90     45805\n",
      "           1       0.88      0.92      0.90     45226\n",
      "\n",
      "   micro avg       0.90      0.90      0.90     91031\n",
      "   macro avg       0.90      0.90      0.90     91031\n",
      "weighted avg       0.90      0.90      0.90     91031\n",
      "\n"
     ]
    }
   ],
   "source": [
    "pred_ann_24n_prob_unisoftsigbinlosadam, pred_ann_24n_01_unisoftsigbinlosadam = ann_predict(ann_24n_unisoftsigbinlosadam,test_x)"
   ]
  },
  {
   "cell_type": "code",
   "execution_count": 85,
   "metadata": {},
   "outputs": [
    {
     "data": {
      "image/png": "[encoded data removed]",
      "text/plain": [
       "<Figure size 432x288 with 1 Axes>"
      ]
     },
     "metadata": {
      "needs_background": "light"
     },
     "output_type": "display_data"
    },
    {
     "data": {
      "image/png": "[encoded data removed]",
      "text/plain": [
       "<Figure size 576x432 with 2 Axes>"
      ]
     },
     "metadata": {
      "needs_background": "light"
     },
     "output_type": "display_data"
    }
   ],
   "source": [
    "plot_roc_cm(pred_ann_24n_01_unisoftsigbinlosadam, pred_ann_24n_01_unisoftsigbinlosadam, './Figures/ROC_ann_24n_unisoftsigbinlosadam_redds10bal.png', './Figures/CM_ann_24n_unisoftsigbinlosadam_redds10bal.png')"
   ]
  },
  {
   "cell_type": "code",
   "execution_count": 86,
   "metadata": {},
   "outputs": [],
   "source": [
    "from sklearn.ensemble import RandomForestClassifier"
   ]
  },
  {
   "cell_type": "code",
   "execution_count": 87,
   "metadata": {},
   "outputs": [],
   "source": [
    "clf = RandomForestClassifier(n_estimators=300, \n",
    "                             criterion='gini', \n",
    "                             max_depth=16, \n",
    "#                              min_samples_split=2, \n",
    "                             #min_samples_leaf=1, \n",
    "                             max_features=0.3, \n",
    "                             #bootstrap=True,\n",
    "                             oob_score=True,\n",
    "                             random_state=23)  "
   ]
  },
  {
   "cell_type": "code",
   "execution_count": 88,
   "metadata": {},
   "outputs": [
    {
     "name": "stdout",
     "output_type": "stream",
     "text": [
      "Thu Jun  6 16:30:21 2019\n",
      "--- 1587.528024673462 seconds ---\n",
      "              precision    recall  f1-score   support\n",
      "\n",
      "           0     0.9987    0.9819    0.9903     45805\n",
      "           1     0.9820    0.9987    0.9903     45226\n",
      "\n",
      "   micro avg     0.9903    0.9903    0.9903     91031\n",
      "   macro avg     0.9904    0.9903    0.9903     91031\n",
      "weighted avg     0.9904    0.9903    0.9903     91031\n",
      "\n"
     ]
    }
   ],
   "source": [
    "start_time = time.time()\n",
    "print(time.ctime(start_time))\n",
    "\n",
    "clf.fit(enc_train_x_aslal, train_y)\n",
    "\n",
    "pred_y_RF = cross_val_predict(estimator=clf,\n",
    "                              X=np.array(enc_test_x_aslal),\n",
    "                              y=test_y,\n",
    "                              cv=KFold(n_splits=10, random_state=23),\n",
    "                              n_jobs=2)\n",
    "\n",
    "elapsed_time = (time.time() - start_time)\n",
    "print(\"--- %s seconds ---\" %elapsed_time)\n",
    "\n",
    "print(sm.classification_report(test_y, pred_y_RF,digits=4))"
   ]
  },
  {
   "cell_type": "code",
   "execution_count": 89,
   "metadata": {},
   "outputs": [
    {
     "data": {
      "image/png": "[encoded data removed]",
      "text/plain": [
       "<Figure size 432x288 with 1 Axes>"
      ]
     },
     "metadata": {
      "needs_background": "light"
     },
     "output_type": "display_data"
    },
    {
     "data": {
      "image/png": "[encoded data removed]",
      "text/plain": [
       "<Figure size 576x432 with 2 Axes>"
      ]
     },
     "metadata": {
      "needs_background": "light"
     },
     "output_type": "display_data"
    }
   ],
   "source": [
    "plot_roc_cm(pred_y_RF, pred_y_RF, './Figures/ROC_rf_E100MaxfautoMaxdnoneBootT_redds10bal.png', './Figures/CM_rf_E100MaxfautoMaxdnoneBootT_redds10bal.png')"
   ]
  },
  {
   "cell_type": "code",
   "execution_count": null,
   "metadata": {},
   "outputs": [],
   "source": []
  },
  {
   "cell_type": "code",
   "execution_count": null,
   "metadata": {},
   "outputs": [],
   "source": []
  },
  {
   "cell_type": "code",
   "execution_count": null,
   "metadata": {},
   "outputs": [],
   "source": []
  }
 ],
 "metadata": {
  "kernelspec": {
   "display_name": "Python 3",
   "language": "python",
   "name": "python3"
  },
  "language_info": {
   "codemirror_mode": {
    "name": "ipython",
    "version": 3
   },
   "file_extension": ".py",
   "mimetype": "text/x-python",
   "name": "python",
   "nbconvert_exporter": "python",
   "pygments_lexer": "ipython3",
   "version": "3.6.8"
  }
 },
 "nbformat": 4,
 "nbformat_minor": 2
}
