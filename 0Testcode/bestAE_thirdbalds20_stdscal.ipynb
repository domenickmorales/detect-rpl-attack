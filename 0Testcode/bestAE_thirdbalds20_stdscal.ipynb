{
 "cells": [
  {
   "cell_type": "code",
   "execution_count": 1,
   "metadata": {},
   "outputs": [],
   "source": [
    "import os\n",
    "os.environ[\"CUDA_DEVICE_ORDER\"]=\"PCI_BUS_ID\"\n",
    "os.environ[\"CUDA_VISIBLE_DEVICES\"]=\"0\""
   ]
  },
  {
   "cell_type": "code",
   "execution_count": 2,
   "metadata": {},
   "outputs": [
    {
     "name": "stderr",
     "output_type": "stream",
     "text": [
      "Using TensorFlow backend.\n"
     ]
    }
   ],
   "source": [
    "###################################\n",
    "# TensorFlow wizardry\n",
    "import tensorflow as tf\n",
    "config = tf.ConfigProto()\n",
    " \n",
    "# Don’t pre-allocate memory; allocate as-needed\n",
    "config.gpu_options.allow_growth = True\n",
    " \n",
    "# Only allow a total of half the GPU memory to be allocated\n",
    "config.gpu_options.per_process_gpu_memory_fraction = 0.05\n",
    "#gpu_options = tf.GPUOptions(per_process_gpu_memory_fraction=0.333)\n",
    " \n",
    "# Create a session with the above options specified.\n",
    "from keras import optimizers, regularizers\n",
    "from keras.layers.normalization import BatchNormalization\n",
    "from keras.utils import to_categorical\n",
    "from keras.wrappers.scikit_learn import KerasClassifier\n",
    "from keras import optimizers\n",
    "from keras.constraints import maxnorm\n",
    "from keras.callbacks import ModelCheckpoint, TensorBoard, EarlyStopping\n",
    "\n",
    "from keras.models import Sequential, Model, load_model\n",
    "from keras.layers import Activation, Dense, Dropout, Input\n",
    "from keras import backend as k\n",
    "\n",
    "k.tensorflow_backend.set_session(tf.Session(config=config))\n",
    "#k.tensorflow_backend.set_session(tf.Session(config=tf.ConfigProto(gpu_options=gpu_options))\n",
    "###################################"
   ]
  },
  {
   "cell_type": "code",
   "execution_count": 3,
   "metadata": {},
   "outputs": [],
   "source": [
    "#----------------------------------Import modules------------------------------\n",
    "import numpy as np\n",
    "import pandas as pd\n",
    "import matplotlib.pyplot as plt\n",
    "import seaborn as sns\n",
    "from sklearn.model_selection import train_test_split\n",
    "from sklearn.metrics import confusion_matrix,accuracy_score, roc_curve, auc\n",
    "from sklearn import preprocessing\n",
    "sns.set_style(\"whitegrid\")\n",
    "np.random.seed(23)\n",
    "import time\n",
    "from sklearn.model_selection import GridSearchCV\n",
    "import sklearn.metrics as sm\n",
    "from sklearn.model_selection import KFold\n",
    "from sklearn.model_selection import cross_val_predict\n"
   ]
  },
  {
   "cell_type": "code",
   "execution_count": 4,
   "metadata": {},
   "outputs": [
    {
     "name": "stdout",
     "output_type": "stream",
     "text": [
      "Default GPU Device: /device:GPU:0\n"
     ]
    }
   ],
   "source": [
    "if tf.test.gpu_device_name():\n",
    "    print('Default GPU Device: {}'.format(tf.test.gpu_device_name()))\n",
    "else:\n",
    "    print(\"Please install GPU version of TF\")"
   ]
  },
  {
   "cell_type": "code",
   "execution_count": 5,
   "metadata": {},
   "outputs": [],
   "source": [
    "pathds = '/home/user/01Code/00Datasets_final/'"
   ]
  },
  {
   "cell_type": "code",
   "execution_count": 6,
   "metadata": {},
   "outputs": [],
   "source": [
    "#df_chunk = pd.read_csv(pathds+'SubsetAllSamples/ThirdCloneID10bal_minmax.csv', chunksize=1000)\n",
    "#df = df_chunk.get_chunk(300000)\n",
    "df = pd.read_csv(pathds+'SubsetAllSamples/ThirdCloneID20bal_stdscal.csv')"
   ]
  },
  {
   "cell_type": "code",
   "execution_count": 7,
   "metadata": {},
   "outputs": [
    {
     "data": {
      "text/plain": [
       "(504576, 67)"
      ]
     },
     "execution_count": 7,
     "metadata": {},
     "output_type": "execute_result"
    }
   ],
   "source": [
    "df.shape"
   ]
  },
  {
   "cell_type": "markdown",
   "metadata": {},
   "source": [
    "#### 4.2 Explaining the data"
   ]
  },
  {
   "cell_type": "code",
   "execution_count": 8,
   "metadata": {},
   "outputs": [
    {
     "name": "stdout",
     "output_type": "stream",
     "text": [
      "Class 0: 252288\n",
      "Class 1: 252288\n",
      "Proportion: 1.0 : 1\n"
     ]
    }
   ],
   "source": [
    "#if you don't have an intuitive sense of how imbalanced these two classes are, let's go visual\n",
    "count_classes = pd.value_counts(df['class'], sort = True)\n",
    "print('Class 0:', count_classes[0])\n",
    "print('Class 1:', count_classes[1])\n",
    "print('Proportion:', round(count_classes[0] / count_classes[1], 3), ': 1')"
   ]
  },
  {
   "cell_type": "code",
   "execution_count": 9,
   "metadata": {},
   "outputs": [
    {
     "data": {
      "image/png": "[encoded data removed]",
      "text/plain": [
       "<Figure size 432x288 with 1 Axes>"
      ]
     },
     "metadata": {
      "needs_background": "light"
     },
     "output_type": "display_data"
    }
   ],
   "source": [
    "count_classes.plot(kind = 'bar', rot=0)\n",
    "plt.xticks(range(2), ['Normal [0]','Malicious [1]'])\n",
    "plt.title(\"Frequency by observation number\")\n",
    "plt.xlabel(\"Class\")\n",
    "plt.ylabel(\"Number of Observations\");"
   ]
  },
  {
   "cell_type": "code",
   "execution_count": 10,
   "metadata": {},
   "outputs": [],
   "source": [
    "#set random seed and percentage of test data\n",
    "RANDOM_SEED = 23 #used to help randomly select the data points\n",
    "TEST_PCT = 0.20 # 20% of the data"
   ]
  },
  {
   "cell_type": "code",
   "execution_count": 11,
   "metadata": {},
   "outputs": [],
   "source": [
    "train, test_df = train_test_split(df, test_size=TEST_PCT, random_state=RANDOM_SEED)"
   ]
  },
  {
   "cell_type": "markdown",
   "metadata": {},
   "source": [
    "+ df -> original dataset \n",
    "+ train -> subset of 80% from original dataset \n",
    "+ test_df -> subset of 20% from original dataset "
   ]
  },
  {
   "cell_type": "code",
   "execution_count": 12,
   "metadata": {},
   "outputs": [],
   "source": [
    "train_df, dev_df = train_test_split(train, test_size=TEST_PCT, random_state=RANDOM_SEED)"
   ]
  },
  {
   "cell_type": "markdown",
   "metadata": {},
   "source": [
    "+ train -> subset of 80% from original dataset \n",
    "+ train_df -> subset of 80% from train\n",
    "+ dev_df -> subset of 20% from train"
   ]
  },
  {
   "cell_type": "code",
   "execution_count": 13,
   "metadata": {},
   "outputs": [
    {
     "name": "stdout",
     "output_type": "stream",
     "text": [
      "0.5015514294207997\n",
      "0.4981915473418223\n",
      "0.4964822228387966\n"
     ]
    }
   ],
   "source": [
    "# Check distribution of mal samples in train and test set\n",
    "print(train_df.iloc[:, 66].sum()/train_df.shape[0]) \n",
    "print(dev_df.iloc[:, 66].sum()/dev_df.shape[0]) \n",
    "print(test_df.iloc[:, 66].sum()/test_df.shape[0])"
   ]
  },
  {
   "cell_type": "code",
   "execution_count": 14,
   "metadata": {},
   "outputs": [],
   "source": [
    "train_x = train_df.iloc[:, :66] \n",
    "dev_x = dev_df.iloc[:, :66] \n",
    "test_x = test_df.iloc[:, :66] "
   ]
  },
  {
   "cell_type": "markdown",
   "metadata": {},
   "source": [
    "+ train_x -> features of train_df **Training subset for AE**\n",
    "+ dev_x -> features of dev_df **Validation subset for AE**\n",
    "+ test_x -> features of test_df **Testing subset for ANN**"
   ]
  },
  {
   "cell_type": "code",
   "execution_count": 15,
   "metadata": {},
   "outputs": [],
   "source": [
    "# Define the final train and test sets\n",
    "train_y = train_df.iloc[:,66]\n",
    "dev_y = dev_df.iloc[:,66]\n",
    "test_y = test_df.iloc[:,66]"
   ]
  },
  {
   "cell_type": "markdown",
   "metadata": {},
   "source": [
    "+ train_y -> **Labels for supervised training of ANN**\n",
    "+ dev_y -> labels of dev_df  *not used for AE neither ANN*\n",
    "+ test_y -> labels of test_df  **Ground Truth for predictions of supervised ANN**"
   ]
  },
  {
   "cell_type": "code",
   "execution_count": 16,
   "metadata": {},
   "outputs": [
    {
     "name": "stdout",
     "output_type": "stream",
     "text": [
      "66\n"
     ]
    }
   ],
   "source": [
    "train_x =np.array(train_x)\n",
    "dev_x =np.array(dev_x)\n",
    "test_x = np.array(test_x)\n",
    "\n",
    "train_y = np.array(train_y)\n",
    "dev_y = np.array(dev_y)\n",
    "test_y = np.array(test_y)\n",
    "\n",
    "print(train_x.shape[1])"
   ]
  },
  {
   "cell_type": "markdown",
   "metadata": {},
   "source": [
    "### Autoencoder Function"
   ]
  },
  {
   "cell_type": "markdown",
   "metadata": {},
   "source": [
    "encoding_dim - 2\n",
    "\n",
    "Epoch 94/300 78596/78596 [==============================] - 10s 125us/step \n",
    "- loss: 3.8990e-05 - acc: 0.0237 - \n",
    "        val_loss: 3.9704e-05 - val_acc: 0.0236"
   ]
  },
  {
   "cell_type": "code",
   "execution_count": 17,
   "metadata": {},
   "outputs": [],
   "source": [
    "def ae(factor_enc_dim, enc_activation, dec_activation, \n",
    "                optimizer, loss):\n",
    "\n",
    "    encoding_dim = int(int(train_x.shape[1])/factor_enc_dim)\n",
    "    ### Define input layer\n",
    "    input_data = Input(shape=(train_x.shape[1],))\n",
    "    ### Define encoding layer #RELU\n",
    "    encoded = Dense(encoding_dim, activation=enc_activation, name='encoded_bottle_neck')(input_data)\n",
    "    ### Define decoding layer #SIMOID\n",
    "    decoded = Dense(train_x.shape[1], activation=dec_activation)(encoded)\n",
    "    ### Create the autoencoder model\n",
    "    autoencoder = Model(input_data, decoded)\n",
    "    autoencoder.compile(optimizer=optimizer,\n",
    "                        loss=loss,\n",
    "                        metrics=['accuracy'])\n",
    "    \n",
    "    print(autoencoder.summary())\n",
    "    \n",
    "    encoder = Model(input_data, encoded)\n",
    "    encoded_train_x = encoder.predict(train_x)\n",
    "    encoded_test_x = encoder.predict(test_x)\n",
    "    \n",
    "    return autoencoder,encoded_train_x,encoded_test_x"
   ]
  },
  {
   "cell_type": "code",
   "execution_count": 18,
   "metadata": {},
   "outputs": [],
   "source": [
    "def sae(factor_enc_dim, output_activation,\n",
    "        optimizer, loss):\n",
    "\n",
    "    encoding_dim = int(int(train_x.shape[1])/factor_enc_dim)\n",
    "    ### Define input layer\n",
    "    input_data = Input(shape=(train_x.shape[1],))\n",
    "    ### Define encoding layer\n",
    "    encoded = Dense(encoding_dim, activation='relu', name='input_layer')(input_data)\n",
    "    encoded = Dense(int(encoding_dim/2), activation='relu')(encoded) ##Stacked AE\n",
    "    encoded_bottle_neck = Dense(int(encoding_dim/4), activation='relu', name='enc_bottle_neck')(encoded) ##Stacked AE\n",
    "    \n",
    "    ### Define decoding layer\n",
    "    decoded = Dense(int(encoding_dim/2), activation='relu')(encoded_bottle_neck) ##Stacked AE\n",
    "    decoded = Dense(encoding_dim, activation='relu')(decoded) ##Stacked AE\n",
    "    decoded = Dense(train_x.shape[1], activation=output_activation)(decoded)\n",
    "    \n",
    "    ### Create the autoencoder model\n",
    "    sae = Model(input_data, decoded)\n",
    "    sae.compile(optimizer=optimizer,\n",
    "                loss=loss,\n",
    "                metrics=['accuracy'])\n",
    "    \n",
    "    print(sae.summary())\n",
    "\n",
    "    encoder = Model(input_data, encoded_bottle_neck)\n",
    "    encoded_train_x = encoder.predict(train_x)\n",
    "    encoded_test_x = encoder.predict(test_x)\n",
    "    \n",
    "    return sae,encoded_train_x,encoded_test_x"
   ]
  },
  {
   "cell_type": "code",
   "execution_count": 19,
   "metadata": {},
   "outputs": [],
   "source": [
    "def spae(factor_enc_dim, output_activation, \n",
    "                optimizer, loss):\n",
    "\n",
    "    encoding_dim = int(int(train_x.shape[1])/factor_enc_dim)\n",
    "    ### Define input layer\n",
    "    input_data = Input(shape=(train_x.shape[1],))\n",
    "    ### Define encoding layer\n",
    "    encoded = Dense(encoding_dim, activity_regularizer=regularizers.l1(1e-4), activation='relu', name='encoded_bottle_neck')(input_data)\n",
    "    ### Define decoding layer\n",
    "    decoded = Dense(train_x.shape[1], activation=output_activation)(encoded)\n",
    "    ### Create the autoencoder model\n",
    "    autoencoder = Model(input_data, decoded)\n",
    "    autoencoder.compile(optimizer=optimizer,\n",
    "                        loss=loss,\n",
    "                        metrics=['accuracy'])\n",
    "    \n",
    "    print(autoencoder.summary())\n",
    "    \n",
    "    encoder = Model(input_data, encoded)\n",
    "    encoded_train_x = encoder.predict(train_x)\n",
    "    encoded_test_x = encoder.predict(test_x)\n",
    "    \n",
    "    return autoencoder,encoded_train_x,encoded_test_x"
   ]
  },
  {
   "cell_type": "code",
   "execution_count": null,
   "metadata": {},
   "outputs": [],
   "source": []
  },
  {
   "cell_type": "code",
   "execution_count": 20,
   "metadata": {},
   "outputs": [],
   "source": [
    "def fit_ae(checkpoint_file, autoencoder,\n",
    "           epochs, batch_size, shuffle):\n",
    "    \n",
    "    early_stopping = EarlyStopping(monitor='val_loss', patience=5)\n",
    "\n",
    "    cp = ModelCheckpoint(filepath=checkpoint_file,\n",
    "                                   save_best_only=True,\n",
    "                                   verbose=0)\n",
    "\n",
    "    tb = TensorBoard(log_dir='./logs',\n",
    "                    histogram_freq=0,\n",
    "                    write_graph=True,\n",
    "                    write_images=True)\n",
    "\n",
    "    start_time = time.time()\n",
    "    print(time.ctime(start_time))\n",
    "\n",
    "    hist_auto = autoencoder.fit(train_x, train_x,\n",
    "                    epochs=epochs,\n",
    "                    batch_size=batch_size,\n",
    "                    shuffle=shuffle,\n",
    "                    verbose=1,\n",
    "                    callbacks=[early_stopping, cp, tb],\n",
    "                    validation_data=(dev_x, dev_x))\n",
    "\n",
    "    elapsed_time = (time.time() - start_time)\n",
    "    print(\"--- AE spent %s seconds ---\" % elapsed_time)\n",
    "    \n",
    "    return hist_auto"
   ]
  },
  {
   "cell_type": "code",
   "execution_count": 21,
   "metadata": {},
   "outputs": [],
   "source": [
    "def plot_hist_auto(hist_auto, fig_file):\n",
    "    best_loss_value = hist_auto.history['loss'][-1]\n",
    "    print('Best loss value:', best_loss_value)\n",
    "\n",
    "    # Summarize history for loss\n",
    "    plt.figure()\n",
    "    plt.plot(hist_auto.history['loss'])\n",
    "    plt.plot(hist_auto.history['val_loss'])\n",
    "    plt.title('Autoencoder model loss')\n",
    "    plt.ylabel('loss')\n",
    "    plt.xlabel('epoch')\n",
    "    plt.legend(['train', 'test'], loc='upper right')\n",
    "    plt.savefig(fig_file)\n",
    "    plt.show()\n",
    "    \n",
    "    return best_loss_value"
   ]
  },
  {
   "cell_type": "code",
   "execution_count": 22,
   "metadata": {},
   "outputs": [],
   "source": [
    "def ann_2h(neurons,encoded_train_x,init_mode,activation_input,\n",
    "               weight_constraint,dropout_rate,activation_output,\n",
    "               loss,optimizer):\n",
    "\n",
    "    # create model\n",
    "    model = Sequential()\n",
    "\n",
    "    model.add(Dense(neurons, input_dim=encoded_train_x.shape[1],\n",
    "                    kernel_initializer=init_mode,\n",
    "                    #kernel_regularizer=regularizers.l2(0.02), #from example\n",
    "                    activation=activation_input,\n",
    "                    kernel_constraint=maxnorm(weight_constraint)\n",
    "                    )\n",
    "              )\n",
    "\n",
    "#     #Hidden Layer\n",
    "    model.add(Dense(50, activation=\"relu\", kernel_initializer=init_mode)) #rezvy\n",
    "\n",
    "    model.add(Dense(34, activation=\"relu\", kernel_initializer=init_mode)) #rezvy\n",
    "    model.add(BatchNormalization()) #commented for ex\n",
    "    model.add(Dropout(dropout_rate))\n",
    "    \n",
    "    model.add(Dense(1, activation=activation_output)) #example\n",
    "    \n",
    "    # Compile model\n",
    "    model.compile(loss=loss, \n",
    "                  optimizer=optimizer, \n",
    "                  metrics=['accuracy'])\n",
    "    \n",
    "    print(model.summary())\n",
    "    \n",
    "    return model"
   ]
  },
  {
   "cell_type": "code",
   "execution_count": 23,
   "metadata": {},
   "outputs": [],
   "source": [
    "def ann_2h_(neurons,encoded_train_x,init_mode,activation_input,\n",
    "               dropout_rate,activation_output,\n",
    "               loss,lr):\n",
    "\n",
    "    # create model\n",
    "    model = Sequential()\n",
    "\n",
    "    model.add(Dense(neurons, input_dim=encoded_train_x.shape[1],\n",
    "                    kernel_initializer=init_mode,\n",
    "                    #kernel_regularizer=regularizers.l2(0.02), #from example\n",
    "                    activation=activation_input,\n",
    "#                     kernel_constraint=maxnorm(weight_constraint)\n",
    "#                     kernel_constraint=maxnorm(weight_constraint)\n",
    "                    )\n",
    "              )\n",
    "\n",
    "#     #Hidden Layer\n",
    "    model.add(Dense(50, activation=\"relu\")) #rezvy\n",
    "\n",
    "    model.add(Dense(34, activation=\"relu\")) #rezvy\n",
    "    model.add(BatchNormalization()) #commented for ex\n",
    "    model.add(Dropout(dropout_rate))\n",
    "    \n",
    "    model.add(Dense(1, activation=activation_output)) #example\n",
    "\n",
    "    optimizer = optimizers.Adam(lr=lr)\n",
    "    \n",
    "    # Compile model\n",
    "    model.compile(loss=loss, \n",
    "                  optimizer=optimizer, \n",
    "                  metrics=['accuracy'])\n",
    "    \n",
    "    print(model.summary())\n",
    "    \n",
    "    return model"
   ]
  },
  {
   "cell_type": "code",
   "execution_count": 24,
   "metadata": {},
   "outputs": [],
   "source": [
    "def ann_2h__(neurons,encoded_train_x,activation_input,\n",
    "             activation_output,loss,optimizer):\n",
    "\n",
    "    # create model\n",
    "    model = Sequential()\n",
    "\n",
    "    model.add(Dense(neurons, input_dim=encoded_train_x.shape[1],\n",
    "#                     kernel_initializer=init_mode,\n",
    "                    #kernel_regularizer=regularizers.l2(0.02), #from example\n",
    "                    activation=activation_input,\n",
    "#                     kernel_constraint=maxnorm(weight_constraint)\n",
    "#                     kernel_constraint=maxnorm(weight_constraint)\n",
    "                    )\n",
    "              )\n",
    "\n",
    "#     #Hidden Layer\n",
    "    model.add(Dense(50, activation=\"relu\")) #rezvy\n",
    "\n",
    "    model.add(Dense(34, activation=\"relu\")) #rezvy\n",
    "#     model.add(BatchNormalization()) #commented for ex\n",
    "#     model.add(Dropout(dropout_rate))\n",
    "    \n",
    "    model.add(Dense(1, activation=activation_output)) #example\n",
    "\n",
    "#     optimizer = optimizers.Adam(lr=lr)\n",
    "    \n",
    "    # Compile model\n",
    "    model.compile(loss=loss, \n",
    "                  optimizer=optimizer, \n",
    "                  metrics=['accuracy'])\n",
    "    \n",
    "    print(model.summary())\n",
    "    \n",
    "    return model"
   ]
  },
  {
   "cell_type": "code",
   "execution_count": 25,
   "metadata": {},
   "outputs": [],
   "source": [
    "def ann_1h_36n(neurons,encoded_train_x,init_mode,activation_input,\n",
    "               weight_constraint,dropout_rate,activation_output,\n",
    "               loss,optimizer):\n",
    "\n",
    "    # create model\n",
    "    model = Sequential()\n",
    "\n",
    "    model.add(Dense(neurons, input_dim=encoded_train_x.shape[1],\n",
    "                    kernel_initializer=init_mode,\n",
    "                    #kernel_regularizer=regularizers.l2(0.02), #from example\n",
    "                    activation=activation_input,\n",
    "                    kernel_constraint=maxnorm(weight_constraint)\n",
    "                    )\n",
    "              )\n",
    "\n",
    "#     #Hidden Layer\n",
    "    model.add(Dense(50, activation=\"relu\", kernel_initializer=init_mode)) #rezvy\n",
    "    model.add(BatchNormalization()) #commented for ex\n",
    "    model.add(Dropout(dropout_rate))\n",
    "    \n",
    "    model.add(Dense(1, activation=activation_output)) #example\n",
    "    \n",
    "    # Compile model\n",
    "    model.compile(loss=loss, \n",
    "                  optimizer=optimizer, \n",
    "                  metrics=['accuracy'])\n",
    "    \n",
    "    print(model.summary())\n",
    "    \n",
    "    return model"
   ]
  },
  {
   "cell_type": "code",
   "execution_count": 26,
   "metadata": {},
   "outputs": [],
   "source": [
    "def ann_1h_24n(neurons,encoded_train_x,init_mode,activation_input,\n",
    "               weight_constraint,dropout_rate,activation_output,\n",
    "               loss,optimizer):\n",
    "\n",
    "    # create model\n",
    "    model = Sequential()\n",
    "\n",
    "    model.add(Dense(neurons, input_dim=encoded_train_x.shape[1],\n",
    "                    kernel_initializer=init_mode,\n",
    "                    #kernel_regularizer=regularizers.l2(0.02), #from example\n",
    "                    activation=activation_input,\n",
    "                    kernel_constraint=maxnorm(weight_constraint)\n",
    "                    )\n",
    "              )\n",
    "\n",
    "#     #Hidden Layer\n",
    "    model.add(Dense(50, activation=\"relu\", kernel_initializer=init_mode)) #rezvy\n",
    "    model.add(BatchNormalization()) #commented for ex\n",
    "    model.add(Dropout(dropout_rate))\n",
    "    \n",
    "    model.add(Dense(1, activation=activation_output)) #example\n",
    "    \n",
    "    # Compile model\n",
    "    model.compile(loss=loss, \n",
    "                  optimizer=optimizer, \n",
    "                  metrics=['accuracy'])\n",
    "    \n",
    "    print(model.summary())\n",
    "    \n",
    "    return model"
   ]
  },
  {
   "cell_type": "code",
   "execution_count": 27,
   "metadata": {},
   "outputs": [],
   "source": [
    "def ann_1h_24n_(neurons,encoded_train_x,activation_input,\n",
    "               activation_output,loss,optimizer):\n",
    "\n",
    "    # create model\n",
    "    model = Sequential()\n",
    "\n",
    "    model.add(Dense(neurons, input_dim=encoded_train_x.shape[1],\n",
    "#                     kernel_initializer=init_mode,\n",
    "                    #kernel_regularizer=regularizers.l2(0.02), #from example\n",
    "                    activation=activation_input,\n",
    "#                     kernel_constraint=maxnorm(weight_constraint)\n",
    "                    )\n",
    "              )\n",
    "\n",
    "#     #Hidden Layer\n",
    "    model.add(Dense(50, activation=\"relu\")) #rezvy\n",
    "    \n",
    "#     model.add(BatchNormalization()) #commented for ex\n",
    "#     model.add(Dropout(dropout_rate))\n",
    "    \n",
    "    model.add(Dense(1, activation=activation_output)) #example\n",
    "    \n",
    "    # Compile model\n",
    "    model.compile(loss=loss, \n",
    "                  optimizer=optimizer, \n",
    "                  metrics=['accuracy'])\n",
    "    \n",
    "    print(model.summary())\n",
    "    \n",
    "    return model"
   ]
  },
  {
   "cell_type": "code",
   "execution_count": 28,
   "metadata": {},
   "outputs": [],
   "source": [
    "def ann_fit(checkpoint_file,ann,enc_train_x,train_y,epochs,shuffle,batch_size):\n",
    "    early_stopping = EarlyStopping(monitor='val_loss', patience=5)\n",
    "\n",
    "    cp = ModelCheckpoint(filepath=checkpoint_file,\n",
    "                                   save_best_only=True,\n",
    "                                   verbose=0)\n",
    "\n",
    "    tb = TensorBoard(log_dir='./logs',\n",
    "                    histogram_freq=0,\n",
    "                    write_graph=True,\n",
    "                    write_images=True)\n",
    "\n",
    "    start_time = time.time()\n",
    "    print(time.ctime(start_time))\n",
    "\n",
    "    history = ann.fit(enc_train_x,\n",
    "                      train_y,\n",
    "                      validation_split=0.2,\n",
    "                      callbacks=[early_stopping],\n",
    "                      epochs=epochs,\n",
    "                      shuffle=shuffle,\n",
    "                      batch_size=batch_size,\n",
    "                      verbose=1)\n",
    "\n",
    "    elapsed_time = (time.time() - start_time)\n",
    "    print(\"--- ANN spent %s seconds ---\" % elapsed_time)\n",
    "\n",
    "    return history"
   ]
  },
  {
   "cell_type": "code",
   "execution_count": 123,
   "metadata": {},
   "outputs": [],
   "source": [
    "def ann_predict(ann,enc_test_x):\n",
    "    pred_ann_prob = ann.predict(enc_test_x)\n",
    "    pred_ann_prob.shape\n",
    "    pred_ann_prob = pred_ann_prob[:,0]\n",
    "    pred_ann_01 = np.where(pred_ann_prob > 0.5, 1, 0)\n",
    "    \n",
    "    #Print accuracy\n",
    "    acc_ann = accuracy_score(test_y, pred_ann_01)\n",
    "    print('Overall accuracy of Neural Network model:', acc_ann)\n",
    "\n",
    "    classiBM = \"NN\"\n",
    "    preBM = (sm.precision_score(test_y, pred_ann_01)*100) \n",
    "    recallBM = (sm.recall_score(test_y, pred_ann_01)*100) \n",
    "    f1scoreBM = (sm.f1_score(test_y, pred_ann_01)*100)\n",
    "    print(sm.classification_report(test_y, pred_ann_01,digits=4))\n",
    "    \n",
    "    return pred_ann_prob, pred_ann_01"
   ]
  },
  {
   "cell_type": "code",
   "execution_count": 30,
   "metadata": {},
   "outputs": [],
   "source": [
    "def plot_roc_cm(pred_ann_prob, pred_ann_01, roc_file, cm_file):\n",
    "    false_positive_rate, recall, thresholds = roc_curve(test_y, pred_ann_prob)\n",
    "    roc_auc = auc(false_positive_rate, recall)\n",
    "    plt.figure()\n",
    "    plt.title('Receiver Operating Characteristic (ROC)')\n",
    "    plt.plot(false_positive_rate, recall, 'b', label = 'AUC = %0.3f' %roc_auc)\n",
    "    plt.legend(loc='lower right')\n",
    "    plt.plot([0,1], [0,1], 'r--')\n",
    "    plt.xlim([0.0,1.0])\n",
    "    plt.ylim([0.0,1.0])\n",
    "    plt.ylabel('Recall')\n",
    "    plt.xlabel('Fall-out (1-Specificity)')\n",
    "    plt.savefig(roc_file)\n",
    "    plt.show()\n",
    "    \n",
    "    cm = confusion_matrix(test_y, pred_ann_01)\n",
    "    labels = ['Normal', 'Malicious']\n",
    "    plt.figure(figsize=(8,6))\n",
    "    sns.heatmap(cm,xticklabels=labels, yticklabels=labels, annot=True, fmt='d', cmap=\"RdYlGn\", vmin = 0.2);\n",
    "    plt.title('Confusion Matrix')\n",
    "    plt.ylabel('True Class')\n",
    "    plt.xlabel('Predicted Class')\n",
    "    plt.savefig(cm_file)\n",
    "    plt.show()\n",
    "    "
   ]
  },
  {
   "cell_type": "markdown",
   "metadata": {},
   "source": [
    "loss: 2.7516e-05 - acc: 0.0407 \n",
    "\n",
    "val_loss: 2.7072e-05 - val_acc: 0.0399"
   ]
  },
  {
   "cell_type": "code",
   "execution_count": 126,
   "metadata": {},
   "outputs": [
    {
     "name": "stdout",
     "output_type": "stream",
     "text": [
      "_________________________________________________________________\n",
      "Layer (type)                 Output Shape              Param #   \n",
      "=================================================================\n",
      "input_5 (InputLayer)         (None, 66)                0         \n",
      "_________________________________________________________________\n",
      "encoded_bottle_neck (Dense)  (None, 44)                2948      \n",
      "_________________________________________________________________\n",
      "dense_49 (Dense)             (None, 66)                2970      \n",
      "=================================================================\n",
      "Total params: 5,918\n",
      "Trainable params: 5,918\n",
      "Non-trainable params: 0\n",
      "_________________________________________________________________\n",
      "None\n"
     ]
    }
   ],
   "source": [
    "ae_sigmoid_adam_logcosh,enc_train_x_asal,enc_test_x_asal = ae(factor_enc_dim = 1.5,\n",
    "                                                              enc_activation = 'relu',\n",
    "                                                              dec_activation = 'sigmoid',\n",
    "                                                              optimizer='Adam',\n",
    "                                                              loss='logcosh')"
   ]
  },
  {
   "cell_type": "code",
   "execution_count": 127,
   "metadata": {},
   "outputs": [],
   "source": [
    "#ae_sigmoid_adam_logcosh = load_model('ae_sigmoid_adam_logcosh_redds10bal.h5')"
   ]
  },
  {
   "cell_type": "code",
   "execution_count": 128,
   "metadata": {},
   "outputs": [
    {
     "name": "stdout",
     "output_type": "stream",
     "text": [
      "Tue Jun 11 15:45:03 2019\n",
      "Train on 322928 samples, validate on 80732 samples\n",
      "Epoch 1/200\n",
      "322928/322928 [==============================] - 14s 44us/step - loss: 0.0575 - acc: 0.1564 - val_loss: 0.0523 - val_acc: 0.1469\n",
      "Epoch 2/200\n",
      "322928/322928 [==============================] - 11s 35us/step - loss: 0.0522 - acc: 0.1326 - val_loss: 0.0521 - val_acc: 0.1006\n",
      "Epoch 3/200\n",
      " 40392/322928 [==>...........................] - ETA: 9s - loss: 0.0522 - acc: 0.0964"
     ]
    },
    {
     "ename": "KeyboardInterrupt",
     "evalue": "",
     "output_type": "error",
     "traceback": [
      "\u001b[0;31m---------------------------------------------------------------------------\u001b[0m",
      "\u001b[0;31mKeyboardInterrupt\u001b[0m                         Traceback (most recent call last)",
      "\u001b[0;32m<ipython-input-128-6878f0eade7a>\u001b[0m in \u001b[0;36m<module>\u001b[0;34m\u001b[0m\n\u001b[1;32m      3\u001b[0m                                         \u001b[0mepochs\u001b[0m \u001b[0;34m=\u001b[0m \u001b[0;36m200\u001b[0m\u001b[0;34m,\u001b[0m\u001b[0;34m\u001b[0m\u001b[0;34m\u001b[0m\u001b[0m\n\u001b[1;32m      4\u001b[0m                                         \u001b[0mbatch_size\u001b[0m \u001b[0;34m=\u001b[0m \u001b[0;36m66\u001b[0m\u001b[0;34m,\u001b[0m\u001b[0;34m\u001b[0m\u001b[0;34m\u001b[0m\u001b[0m\n\u001b[0;32m----> 5\u001b[0;31m                                         shuffle = False)\n\u001b[0m",
      "\u001b[0;32m<ipython-input-20-048dcc333f52>\u001b[0m in \u001b[0;36mfit_ae\u001b[0;34m(checkpoint_file, autoencoder, epochs, batch_size, shuffle)\u001b[0m\n\u001b[1;32m     22\u001b[0m                     \u001b[0mverbose\u001b[0m\u001b[0;34m=\u001b[0m\u001b[0;36m1\u001b[0m\u001b[0;34m,\u001b[0m\u001b[0;34m\u001b[0m\u001b[0;34m\u001b[0m\u001b[0m\n\u001b[1;32m     23\u001b[0m                     \u001b[0mcallbacks\u001b[0m\u001b[0;34m=\u001b[0m\u001b[0;34m[\u001b[0m\u001b[0mearly_stopping\u001b[0m\u001b[0;34m,\u001b[0m \u001b[0mcp\u001b[0m\u001b[0;34m,\u001b[0m \u001b[0mtb\u001b[0m\u001b[0;34m]\u001b[0m\u001b[0;34m,\u001b[0m\u001b[0;34m\u001b[0m\u001b[0;34m\u001b[0m\u001b[0m\n\u001b[0;32m---> 24\u001b[0;31m                     validation_data=(dev_x, dev_x))\n\u001b[0m\u001b[1;32m     25\u001b[0m \u001b[0;34m\u001b[0m\u001b[0m\n\u001b[1;32m     26\u001b[0m     \u001b[0melapsed_time\u001b[0m \u001b[0;34m=\u001b[0m \u001b[0;34m(\u001b[0m\u001b[0mtime\u001b[0m\u001b[0;34m.\u001b[0m\u001b[0mtime\u001b[0m\u001b[0;34m(\u001b[0m\u001b[0;34m)\u001b[0m \u001b[0;34m-\u001b[0m \u001b[0mstart_time\u001b[0m\u001b[0;34m)\u001b[0m\u001b[0;34m\u001b[0m\u001b[0;34m\u001b[0m\u001b[0m\n",
      "\u001b[0;32m~/.local/lib/python3.6/site-packages/keras/engine/training.py\u001b[0m in \u001b[0;36mfit\u001b[0;34m(self, x, y, batch_size, epochs, verbose, callbacks, validation_split, validation_data, shuffle, class_weight, sample_weight, initial_epoch, steps_per_epoch, validation_steps, **kwargs)\u001b[0m\n\u001b[1;32m   1037\u001b[0m                                         \u001b[0minitial_epoch\u001b[0m\u001b[0;34m=\u001b[0m\u001b[0minitial_epoch\u001b[0m\u001b[0;34m,\u001b[0m\u001b[0;34m\u001b[0m\u001b[0;34m\u001b[0m\u001b[0m\n\u001b[1;32m   1038\u001b[0m                                         \u001b[0msteps_per_epoch\u001b[0m\u001b[0;34m=\u001b[0m\u001b[0msteps_per_epoch\u001b[0m\u001b[0;34m,\u001b[0m\u001b[0;34m\u001b[0m\u001b[0;34m\u001b[0m\u001b[0m\n\u001b[0;32m-> 1039\u001b[0;31m                                         validation_steps=validation_steps)\n\u001b[0m\u001b[1;32m   1040\u001b[0m \u001b[0;34m\u001b[0m\u001b[0m\n\u001b[1;32m   1041\u001b[0m     def evaluate(self, x=None, y=None,\n",
      "\u001b[0;32m~/.local/lib/python3.6/site-packages/keras/engine/training_arrays.py\u001b[0m in \u001b[0;36mfit_loop\u001b[0;34m(model, f, ins, out_labels, batch_size, epochs, verbose, callbacks, val_f, val_ins, shuffle, callback_metrics, initial_epoch, steps_per_epoch, validation_steps)\u001b[0m\n\u001b[1;32m    197\u001b[0m                     \u001b[0mins_batch\u001b[0m\u001b[0;34m[\u001b[0m\u001b[0mi\u001b[0m\u001b[0;34m]\u001b[0m \u001b[0;34m=\u001b[0m \u001b[0mins_batch\u001b[0m\u001b[0;34m[\u001b[0m\u001b[0mi\u001b[0m\u001b[0;34m]\u001b[0m\u001b[0;34m.\u001b[0m\u001b[0mtoarray\u001b[0m\u001b[0;34m(\u001b[0m\u001b[0;34m)\u001b[0m\u001b[0;34m\u001b[0m\u001b[0;34m\u001b[0m\u001b[0m\n\u001b[1;32m    198\u001b[0m \u001b[0;34m\u001b[0m\u001b[0m\n\u001b[0;32m--> 199\u001b[0;31m                 \u001b[0mouts\u001b[0m \u001b[0;34m=\u001b[0m \u001b[0mf\u001b[0m\u001b[0;34m(\u001b[0m\u001b[0mins_batch\u001b[0m\u001b[0;34m)\u001b[0m\u001b[0;34m\u001b[0m\u001b[0;34m\u001b[0m\u001b[0m\n\u001b[0m\u001b[1;32m    200\u001b[0m                 \u001b[0mouts\u001b[0m \u001b[0;34m=\u001b[0m \u001b[0mto_list\u001b[0m\u001b[0;34m(\u001b[0m\u001b[0mouts\u001b[0m\u001b[0;34m)\u001b[0m\u001b[0;34m\u001b[0m\u001b[0;34m\u001b[0m\u001b[0m\n\u001b[1;32m    201\u001b[0m                 \u001b[0;32mfor\u001b[0m \u001b[0ml\u001b[0m\u001b[0;34m,\u001b[0m \u001b[0mo\u001b[0m \u001b[0;32min\u001b[0m \u001b[0mzip\u001b[0m\u001b[0;34m(\u001b[0m\u001b[0mout_labels\u001b[0m\u001b[0;34m,\u001b[0m \u001b[0mouts\u001b[0m\u001b[0;34m)\u001b[0m\u001b[0;34m:\u001b[0m\u001b[0;34m\u001b[0m\u001b[0;34m\u001b[0m\u001b[0m\n",
      "\u001b[0;32m~/.local/lib/python3.6/site-packages/keras/backend/tensorflow_backend.py\u001b[0m in \u001b[0;36m__call__\u001b[0;34m(self, inputs)\u001b[0m\n\u001b[1;32m   2713\u001b[0m                 \u001b[0;32mreturn\u001b[0m \u001b[0mself\u001b[0m\u001b[0;34m.\u001b[0m\u001b[0m_legacy_call\u001b[0m\u001b[0;34m(\u001b[0m\u001b[0minputs\u001b[0m\u001b[0;34m)\u001b[0m\u001b[0;34m\u001b[0m\u001b[0;34m\u001b[0m\u001b[0m\n\u001b[1;32m   2714\u001b[0m \u001b[0;34m\u001b[0m\u001b[0m\n\u001b[0;32m-> 2715\u001b[0;31m             \u001b[0;32mreturn\u001b[0m \u001b[0mself\u001b[0m\u001b[0;34m.\u001b[0m\u001b[0m_call\u001b[0m\u001b[0;34m(\u001b[0m\u001b[0minputs\u001b[0m\u001b[0;34m)\u001b[0m\u001b[0;34m\u001b[0m\u001b[0;34m\u001b[0m\u001b[0m\n\u001b[0m\u001b[1;32m   2716\u001b[0m         \u001b[0;32melse\u001b[0m\u001b[0;34m:\u001b[0m\u001b[0;34m\u001b[0m\u001b[0;34m\u001b[0m\u001b[0m\n\u001b[1;32m   2717\u001b[0m             \u001b[0;32mif\u001b[0m \u001b[0mpy_any\u001b[0m\u001b[0;34m(\u001b[0m\u001b[0mis_tensor\u001b[0m\u001b[0;34m(\u001b[0m\u001b[0mx\u001b[0m\u001b[0;34m)\u001b[0m \u001b[0;32mfor\u001b[0m \u001b[0mx\u001b[0m \u001b[0;32min\u001b[0m \u001b[0minputs\u001b[0m\u001b[0;34m)\u001b[0m\u001b[0;34m:\u001b[0m\u001b[0;34m\u001b[0m\u001b[0;34m\u001b[0m\u001b[0m\n",
      "\u001b[0;32m~/.local/lib/python3.6/site-packages/keras/backend/tensorflow_backend.py\u001b[0m in \u001b[0;36m_call\u001b[0;34m(self, inputs)\u001b[0m\n\u001b[1;32m   2634\u001b[0m             \u001b[0;32mraise\u001b[0m \u001b[0mTypeError\u001b[0m\u001b[0;34m(\u001b[0m\u001b[0;34m'`inputs` should be a list or tuple.'\u001b[0m\u001b[0;34m)\u001b[0m\u001b[0;34m\u001b[0m\u001b[0;34m\u001b[0m\u001b[0m\n\u001b[1;32m   2635\u001b[0m \u001b[0;34m\u001b[0m\u001b[0m\n\u001b[0;32m-> 2636\u001b[0;31m         \u001b[0msession\u001b[0m \u001b[0;34m=\u001b[0m \u001b[0mget_session\u001b[0m\u001b[0;34m(\u001b[0m\u001b[0;34m)\u001b[0m\u001b[0;34m\u001b[0m\u001b[0;34m\u001b[0m\u001b[0m\n\u001b[0m\u001b[1;32m   2637\u001b[0m         \u001b[0mfeed_arrays\u001b[0m \u001b[0;34m=\u001b[0m \u001b[0;34m[\u001b[0m\u001b[0;34m]\u001b[0m\u001b[0;34m\u001b[0m\u001b[0;34m\u001b[0m\u001b[0m\n\u001b[1;32m   2638\u001b[0m         \u001b[0marray_vals\u001b[0m \u001b[0;34m=\u001b[0m \u001b[0;34m[\u001b[0m\u001b[0;34m]\u001b[0m\u001b[0;34m\u001b[0m\u001b[0;34m\u001b[0m\u001b[0m\n",
      "\u001b[0;32m~/.local/lib/python3.6/site-packages/keras/backend/tensorflow_backend.py\u001b[0m in \u001b[0;36mget_session\u001b[0;34m()\u001b[0m\n\u001b[1;32m    191\u001b[0m             \u001b[0mcandidate_vars\u001b[0m \u001b[0;34m=\u001b[0m \u001b[0;34m[\u001b[0m\u001b[0;34m]\u001b[0m\u001b[0;34m\u001b[0m\u001b[0;34m\u001b[0m\u001b[0m\n\u001b[1;32m    192\u001b[0m             \u001b[0;32mfor\u001b[0m \u001b[0mv\u001b[0m \u001b[0;32min\u001b[0m \u001b[0mvariables\u001b[0m\u001b[0;34m:\u001b[0m\u001b[0;34m\u001b[0m\u001b[0;34m\u001b[0m\u001b[0m\n\u001b[0;32m--> 193\u001b[0;31m                 \u001b[0;32mif\u001b[0m \u001b[0;32mnot\u001b[0m \u001b[0mgetattr\u001b[0m\u001b[0;34m(\u001b[0m\u001b[0mv\u001b[0m\u001b[0;34m,\u001b[0m \u001b[0;34m'_keras_initialized'\u001b[0m\u001b[0;34m,\u001b[0m \u001b[0;32mFalse\u001b[0m\u001b[0;34m)\u001b[0m\u001b[0;34m:\u001b[0m\u001b[0;34m\u001b[0m\u001b[0;34m\u001b[0m\u001b[0m\n\u001b[0m\u001b[1;32m    194\u001b[0m                     \u001b[0mcandidate_vars\u001b[0m\u001b[0;34m.\u001b[0m\u001b[0mappend\u001b[0m\u001b[0;34m(\u001b[0m\u001b[0mv\u001b[0m\u001b[0;34m)\u001b[0m\u001b[0;34m\u001b[0m\u001b[0;34m\u001b[0m\u001b[0m\n\u001b[1;32m    195\u001b[0m             \u001b[0;32mif\u001b[0m \u001b[0mcandidate_vars\u001b[0m\u001b[0;34m:\u001b[0m\u001b[0;34m\u001b[0m\u001b[0;34m\u001b[0m\u001b[0m\n",
      "\u001b[0;31mKeyboardInterrupt\u001b[0m: "
     ]
    }
   ],
   "source": [
    "hist_ae_sigmoid_adam_logcosh = fit_ae(checkpoint_file = \"ae_sigmoid_adam_logcosh_redds20bal.h5\",\n",
    "                                        autoencoder = ae_sigmoid_adam_logcosh, \n",
    "                                        epochs = 200, \n",
    "                                        batch_size = 66, \n",
    "                                        shuffle = False)"
   ]
  },
  {
   "cell_type": "code",
   "execution_count": null,
   "metadata": {},
   "outputs": [],
   "source": [
    "best_loss_value_ae_sigmoid_adam_logcosh = plot_hist_auto(hist_ae_sigmoid_adam_logcosh, './Figures/ae_sigmoid_adam_logcosh.png')"
   ]
  },
  {
   "cell_type": "code",
   "execution_count": null,
   "metadata": {},
   "outputs": [],
   "source": []
  },
  {
   "cell_type": "code",
   "execution_count": null,
   "metadata": {},
   "outputs": [],
   "source": []
  },
  {
   "cell_type": "code",
   "execution_count": null,
   "metadata": {},
   "outputs": [],
   "source": [
    "ae_siglin_adam_logcosh,enc_train_x_aslal,enc_test_x_aslal = ae(factor_enc_dim = 1.5,\n",
    "                                                              enc_activation = 'sigmoid',\n",
    "                                                              dec_activation = 'linear',\n",
    "                                                              optimizer='Adam',\n",
    "                                                              loss='logcosh')"
   ]
  },
  {
   "cell_type": "code",
   "execution_count": null,
   "metadata": {},
   "outputs": [],
   "source": [
    "#ae_siglin_adam_logcosh = load_model('ae_siglin_adam_logcosh_redds10bal.h5')"
   ]
  },
  {
   "cell_type": "code",
   "execution_count": null,
   "metadata": {},
   "outputs": [],
   "source": [
    "hist_ae_siglin_adam_logcosh = fit_ae(checkpoint_file = \"ae_siglin_adam_logcosh_redds20bal.h5\",\n",
    "                                        autoencoder = ae_siglin_adam_logcosh, \n",
    "                                        epochs = 200, \n",
    "                                        batch_size = 66, \n",
    "                                        shuffle = False)"
   ]
  },
  {
   "cell_type": "code",
   "execution_count": null,
   "metadata": {},
   "outputs": [],
   "source": [
    "best_loss_value_ae_siglin_adam_logcosh = plot_hist_auto(hist_ae_siglin_adam_logcosh, './Figures/hist_ae_siglin_adam_logcosh.png')"
   ]
  },
  {
   "cell_type": "code",
   "execution_count": null,
   "metadata": {},
   "outputs": [],
   "source": []
  },
  {
   "cell_type": "code",
   "execution_count": null,
   "metadata": {},
   "outputs": [],
   "source": [
    "ae_sigmoid_adam_mse,enc_train_x_asam,enc_test_x_asam = ae(factor_enc_dim = 1.5,\n",
    "                                                          enc_activation = 'relu',\n",
    "                                                          dec_activation = 'sigmoid',\n",
    "                                                          optimizer='Adam',\n",
    "                                                          loss='mean_squared_error')"
   ]
  },
  {
   "cell_type": "code",
   "execution_count": null,
   "metadata": {},
   "outputs": [],
   "source": [
    "#ae_sigmoid_adam_mse = load_model('ae_sigmoid_adam_mse_redds10bal.h5')"
   ]
  },
  {
   "cell_type": "code",
   "execution_count": null,
   "metadata": {},
   "outputs": [],
   "source": [
    "hist_ae_sigmoid_adam_mse = fit_ae(checkpoint_file = \"ae_sigmoid_adam_mse_redds20bal.h5\",\n",
    "                                  autoencoder = ae_sigmoid_adam_mse, \n",
    "                                  epochs = 200, \n",
    "                                  batch_size = 66,\n",
    "                                  shuffle = False)"
   ]
  },
  {
   "cell_type": "code",
   "execution_count": 42,
   "metadata": {},
   "outputs": [
    {
     "name": "stdout",
     "output_type": "stream",
     "text": [
      "Best loss value: 0.15528448822173077\n"
     ]
    },
    {
     "data": {
      "image/png": "[encoded data removed]",
      "text/plain": [
       "<Figure size 432x288 with 1 Axes>"
      ]
     },
     "metadata": {
      "needs_background": "light"
     },
     "output_type": "display_data"
    }
   ],
   "source": [
    "best_loss_value_ae_sigmoid_adam_mse  = plot_hist_auto(hist_ae_sigmoid_adam_mse, './Figures/hist_ae_sigmoid_adam_mse.png')"
   ]
  },
  {
   "cell_type": "code",
   "execution_count": null,
   "metadata": {},
   "outputs": [],
   "source": []
  },
  {
   "cell_type": "code",
   "execution_count": null,
   "metadata": {},
   "outputs": [],
   "source": []
  },
  {
   "cell_type": "code",
   "execution_count": 43,
   "metadata": {},
   "outputs": [
    {
     "name": "stdout",
     "output_type": "stream",
     "text": [
      "_________________________________________________________________\n",
      "Layer (type)                 Output Shape              Param #   \n",
      "=================================================================\n",
      "input_4 (InputLayer)         (None, 66)                0         \n",
      "_________________________________________________________________\n",
      "encoded_bottle_neck (Dense)  (None, 44)                2948      \n",
      "_________________________________________________________________\n",
      "dense_4 (Dense)              (None, 66)                2970      \n",
      "=================================================================\n",
      "Total params: 5,918\n",
      "Trainable params: 5,918\n",
      "Non-trainable params: 0\n",
      "_________________________________________________________________\n",
      "None\n"
     ]
    }
   ],
   "source": [
    "ae_sigsig_adam_logcosh,enc_train_x_assal,enc_test_x_assal = ae(factor_enc_dim = 1.5,\n",
    "                                                          enc_activation = 'sigmoid',\n",
    "                                                          dec_activation = 'sigmoid',\n",
    "                                                          optimizer='Adam',\n",
    "                                                          loss='logcosh')"
   ]
  },
  {
   "cell_type": "code",
   "execution_count": 44,
   "metadata": {},
   "outputs": [],
   "source": [
    "#ae_sigsig_adam_logcosh = load_model('ae_sigsig_adam_logcosh_redds10bal.h5')"
   ]
  },
  {
   "cell_type": "code",
   "execution_count": 45,
   "metadata": {},
   "outputs": [
    {
     "name": "stdout",
     "output_type": "stream",
     "text": [
      "Sun Jun  9 17:09:33 2019\n",
      "Train on 322928 samples, validate on 80732 samples\n",
      "Epoch 1/200\n",
      "322928/322928 [==============================] - 10s 30us/step - loss: 0.0665 - acc: 0.2593 - val_loss: 0.0563 - val_acc: 0.3233\n",
      "Epoch 2/200\n",
      "322928/322928 [==============================] - 10s 30us/step - loss: 0.0539 - acc: 0.3175 - val_loss: 0.0525 - val_acc: 0.2960\n",
      "Epoch 3/200\n",
      "322928/322928 [==============================] - 10s 30us/step - loss: 0.0524 - acc: 0.2714 - val_loss: 0.0522 - val_acc: 0.2356\n",
      "Epoch 4/200\n",
      "322928/322928 [==============================] - 10s 30us/step - loss: 0.0522 - acc: 0.2033 - val_loss: 0.0521 - val_acc: 0.1740\n",
      "Epoch 5/200\n",
      "322928/322928 [==============================] - 10s 30us/step - loss: 0.0522 - acc: 0.1547 - val_loss: 0.0521 - val_acc: 0.1447\n",
      "Epoch 6/200\n",
      "322928/322928 [==============================] - 9s 29us/step - loss: 0.0522 - acc: 0.1415 - val_loss: 0.0521 - val_acc: 0.1457\n",
      "Epoch 7/200\n",
      "322928/322928 [==============================] - 9s 29us/step - loss: 0.0522 - acc: 0.1444 - val_loss: 0.0521 - val_acc: 0.1470\n",
      "Epoch 8/200\n",
      "322928/322928 [==============================] - 9s 29us/step - loss: 0.0521 - acc: 0.1491 - val_loss: 0.0521 - val_acc: 0.1536\n",
      "Epoch 9/200\n",
      "322928/322928 [==============================] - 9s 29us/step - loss: 0.0521 - acc: 0.1595 - val_loss: 0.0521 - val_acc: 0.1665\n",
      "Epoch 10/200\n",
      "322928/322928 [==============================] - 9s 29us/step - loss: 0.0521 - acc: 0.1687 - val_loss: 0.0521 - val_acc: 0.1787\n",
      "Epoch 11/200\n",
      "322928/322928 [==============================] - 9s 29us/step - loss: 0.0521 - acc: 0.1770 - val_loss: 0.0521 - val_acc: 0.1835\n",
      "Epoch 12/200\n",
      "322928/322928 [==============================] - 9s 29us/step - loss: 0.0521 - acc: 0.1819 - val_loss: 0.0521 - val_acc: 0.1874\n",
      "Epoch 13/200\n",
      "322928/322928 [==============================] - 9s 28us/step - loss: 0.0521 - acc: 0.1837 - val_loss: 0.0521 - val_acc: 0.1882\n",
      "Epoch 14/200\n",
      "322928/322928 [==============================] - 9s 29us/step - loss: 0.0521 - acc: 0.1845 - val_loss: 0.0521 - val_acc: 0.1906\n",
      "Epoch 15/200\n",
      "322928/322928 [==============================] - 9s 29us/step - loss: 0.0521 - acc: 0.1879 - val_loss: 0.0521 - val_acc: 0.1938\n",
      "Epoch 16/200\n",
      "322928/322928 [==============================] - 9s 28us/step - loss: 0.0521 - acc: 0.1911 - val_loss: 0.0521 - val_acc: 0.1983\n",
      "Epoch 17/200\n",
      "322928/322928 [==============================] - 9s 29us/step - loss: 0.0521 - acc: 0.1950 - val_loss: 0.0521 - val_acc: 0.1985\n",
      "Epoch 18/200\n",
      "322928/322928 [==============================] - 9s 28us/step - loss: 0.0521 - acc: 0.1964 - val_loss: 0.0521 - val_acc: 0.1994\n",
      "Epoch 19/200\n",
      "322928/322928 [==============================] - 9s 28us/step - loss: 0.0521 - acc: 0.1959 - val_loss: 0.0521 - val_acc: 0.2016\n",
      "Epoch 20/200\n",
      "322928/322928 [==============================] - 9s 28us/step - loss: 0.0521 - acc: 0.1954 - val_loss: 0.0521 - val_acc: 0.1988\n",
      "Epoch 21/200\n",
      "322928/322928 [==============================] - 9s 28us/step - loss: 0.0521 - acc: 0.1943 - val_loss: 0.0521 - val_acc: 0.2009\n",
      "Epoch 22/200\n",
      "322928/322928 [==============================] - 9s 28us/step - loss: 0.0521 - acc: 0.1938 - val_loss: 0.0521 - val_acc: 0.1993\n",
      "Epoch 23/200\n",
      "322928/322928 [==============================] - 9s 28us/step - loss: 0.0521 - acc: 0.1921 - val_loss: 0.0521 - val_acc: 0.1958\n",
      "Epoch 24/200\n",
      "322928/322928 [==============================] - 9s 28us/step - loss: 0.0521 - acc: 0.1895 - val_loss: 0.0521 - val_acc: 0.1916\n",
      "Epoch 25/200\n",
      "322928/322928 [==============================] - 9s 28us/step - loss: 0.0521 - acc: 0.1862 - val_loss: 0.0521 - val_acc: 0.1900\n",
      "Epoch 26/200\n",
      "322928/322928 [==============================] - 9s 28us/step - loss: 0.0521 - acc: 0.1872 - val_loss: 0.0521 - val_acc: 0.1886\n",
      "Epoch 27/200\n",
      "322928/322928 [==============================] - 9s 28us/step - loss: 0.0521 - acc: 0.1868 - val_loss: 0.0520 - val_acc: 0.1864\n",
      "Epoch 28/200\n",
      "322928/322928 [==============================] - 9s 28us/step - loss: 0.0521 - acc: 0.1855 - val_loss: 0.0520 - val_acc: 0.1858\n",
      "Epoch 29/200\n",
      "322928/322928 [==============================] - 9s 28us/step - loss: 0.0521 - acc: 0.1824 - val_loss: 0.0520 - val_acc: 0.1840\n",
      "Epoch 30/200\n",
      "322928/322928 [==============================] - 9s 28us/step - loss: 0.0521 - acc: 0.1792 - val_loss: 0.0520 - val_acc: 0.1805\n",
      "Epoch 31/200\n",
      "322928/322928 [==============================] - 9s 28us/step - loss: 0.0521 - acc: 0.1756 - val_loss: 0.0520 - val_acc: 0.1728\n",
      "Epoch 32/200\n",
      "322928/322928 [==============================] - 9s 27us/step - loss: 0.0521 - acc: 0.1730 - val_loss: 0.0520 - val_acc: 0.1753\n",
      "Epoch 33/200\n",
      "322928/322928 [==============================] - 9s 27us/step - loss: 0.0521 - acc: 0.1720 - val_loss: 0.0520 - val_acc: 0.1731\n",
      "Epoch 34/200\n",
      "322928/322928 [==============================] - 9s 27us/step - loss: 0.0521 - acc: 0.1709 - val_loss: 0.0520 - val_acc: 0.1707\n",
      "Epoch 35/200\n",
      "322928/322928 [==============================] - 9s 27us/step - loss: 0.0521 - acc: 0.1697 - val_loss: 0.0520 - val_acc: 0.1690\n",
      "Epoch 36/200\n",
      "322928/322928 [==============================] - 9s 27us/step - loss: 0.0521 - acc: 0.1712 - val_loss: 0.0520 - val_acc: 0.1730\n",
      "Epoch 37/200\n",
      "322928/322928 [==============================] - 9s 27us/step - loss: 0.0521 - acc: 0.1729 - val_loss: 0.0520 - val_acc: 0.1737\n",
      "Epoch 38/200\n",
      "322928/322928 [==============================] - 9s 27us/step - loss: 0.0521 - acc: 0.1745 - val_loss: 0.0520 - val_acc: 0.1776\n",
      "Epoch 39/200\n",
      "322928/322928 [==============================] - 9s 27us/step - loss: 0.0521 - acc: 0.1774 - val_loss: 0.0520 - val_acc: 0.1808\n",
      "Epoch 40/200\n",
      "322928/322928 [==============================] - 9s 27us/step - loss: 0.0521 - acc: 0.1803 - val_loss: 0.0520 - val_acc: 0.1829\n",
      "Epoch 41/200\n",
      "322928/322928 [==============================] - 9s 27us/step - loss: 0.0521 - acc: 0.1819 - val_loss: 0.0520 - val_acc: 0.1870\n",
      "Epoch 42/200\n",
      "322928/322928 [==============================] - 9s 27us/step - loss: 0.0521 - acc: 0.1826 - val_loss: 0.0520 - val_acc: 0.1860\n",
      "Epoch 43/200\n",
      "322928/322928 [==============================] - 9s 27us/step - loss: 0.0521 - acc: 0.1839 - val_loss: 0.0520 - val_acc: 0.1865\n",
      "Epoch 44/200\n",
      "322928/322928 [==============================] - 9s 27us/step - loss: 0.0521 - acc: 0.1829 - val_loss: 0.0520 - val_acc: 0.1865\n",
      "Epoch 45/200\n",
      "322928/322928 [==============================] - 9s 27us/step - loss: 0.0521 - acc: 0.1841 - val_loss: 0.0520 - val_acc: 0.1900\n",
      "Epoch 46/200\n",
      "322928/322928 [==============================] - 9s 27us/step - loss: 0.0521 - acc: 0.1868 - val_loss: 0.0520 - val_acc: 0.1910\n",
      "Epoch 47/200\n",
      "322928/322928 [==============================] - 9s 27us/step - loss: 0.0521 - acc: 0.1876 - val_loss: 0.0520 - val_acc: 0.1927\n",
      "Epoch 48/200\n",
      "322928/322928 [==============================] - 9s 27us/step - loss: 0.0521 - acc: 0.1915 - val_loss: 0.0520 - val_acc: 0.1929\n",
      "Epoch 49/200\n",
      "322928/322928 [==============================] - 9s 27us/step - loss: 0.0521 - acc: 0.1931 - val_loss: 0.0520 - val_acc: 0.1956\n",
      "Epoch 50/200\n",
      "322928/322928 [==============================] - 9s 27us/step - loss: 0.0521 - acc: 0.1939 - val_loss: 0.0520 - val_acc: 0.1958\n",
      "Epoch 51/200\n",
      "322928/322928 [==============================] - 9s 27us/step - loss: 0.0521 - acc: 0.1966 - val_loss: 0.0520 - val_acc: 0.1983\n",
      "Epoch 52/200\n",
      "322928/322928 [==============================] - 9s 27us/step - loss: 0.0521 - acc: 0.1981 - val_loss: 0.0520 - val_acc: 0.2015\n",
      "Epoch 53/200\n",
      "322928/322928 [==============================] - 9s 27us/step - loss: 0.0521 - acc: 0.2013 - val_loss: 0.0520 - val_acc: 0.2028\n",
      "Epoch 54/200\n",
      "322928/322928 [==============================] - 9s 26us/step - loss: 0.0521 - acc: 0.2048 - val_loss: 0.0520 - val_acc: 0.2063\n",
      "Epoch 55/200\n",
      "322928/322928 [==============================] - 9s 27us/step - loss: 0.0521 - acc: 0.2067 - val_loss: 0.0520 - val_acc: 0.2132\n",
      "Epoch 56/200\n",
      "322928/322928 [==============================] - 9s 27us/step - loss: 0.0521 - acc: 0.2101 - val_loss: 0.0520 - val_acc: 0.2155\n",
      "Epoch 57/200\n",
      "322928/322928 [==============================] - 9s 27us/step - loss: 0.0521 - acc: 0.2132 - val_loss: 0.0520 - val_acc: 0.2161\n",
      "Epoch 58/200\n",
      "322928/322928 [==============================] - 9s 27us/step - loss: 0.0521 - acc: 0.2150 - val_loss: 0.0520 - val_acc: 0.2179\n",
      "Epoch 59/200\n",
      "322928/322928 [==============================] - 9s 27us/step - loss: 0.0521 - acc: 0.2172 - val_loss: 0.0520 - val_acc: 0.2201\n",
      "Epoch 60/200\n",
      "322928/322928 [==============================] - 9s 26us/step - loss: 0.0521 - acc: 0.2184 - val_loss: 0.0520 - val_acc: 0.2229\n",
      "Epoch 61/200\n",
      "322928/322928 [==============================] - 9s 27us/step - loss: 0.0521 - acc: 0.2206 - val_loss: 0.0520 - val_acc: 0.2250\n",
      "Epoch 62/200\n",
      "322928/322928 [==============================] - 9s 27us/step - loss: 0.0521 - acc: 0.2235 - val_loss: 0.0520 - val_acc: 0.2257\n",
      "Epoch 63/200\n",
      "322928/322928 [==============================] - 9s 27us/step - loss: 0.0521 - acc: 0.2239 - val_loss: 0.0520 - val_acc: 0.2266\n",
      "Epoch 64/200\n",
      "322928/322928 [==============================] - 9s 27us/step - loss: 0.0521 - acc: 0.2265 - val_loss: 0.0520 - val_acc: 0.2285\n",
      "Epoch 65/200\n",
      "322928/322928 [==============================] - 9s 27us/step - loss: 0.0521 - acc: 0.2260 - val_loss: 0.0520 - val_acc: 0.2275\n",
      "Epoch 66/200\n",
      "322928/322928 [==============================] - 9s 27us/step - loss: 0.0521 - acc: 0.2271 - val_loss: 0.0520 - val_acc: 0.2274\n",
      "Epoch 67/200\n",
      "322928/322928 [==============================] - 9s 26us/step - loss: 0.0521 - acc: 0.2285 - val_loss: 0.0520 - val_acc: 0.2313\n",
      "Epoch 68/200\n",
      "322928/322928 [==============================] - 9s 27us/step - loss: 0.0521 - acc: 0.2295 - val_loss: 0.0520 - val_acc: 0.2318\n",
      "Epoch 69/200\n",
      "322928/322928 [==============================] - 9s 26us/step - loss: 0.0521 - acc: 0.2308 - val_loss: 0.0520 - val_acc: 0.2330\n",
      "Epoch 70/200\n",
      "322928/322928 [==============================] - 9s 27us/step - loss: 0.0521 - acc: 0.2328 - val_loss: 0.0520 - val_acc: 0.2359\n",
      "Epoch 71/200\n",
      "322928/322928 [==============================] - 9s 27us/step - loss: 0.0521 - acc: 0.2335 - val_loss: 0.0520 - val_acc: 0.2353\n",
      "Epoch 72/200\n",
      "322928/322928 [==============================] - 9s 27us/step - loss: 0.0521 - acc: 0.2333 - val_loss: 0.0520 - val_acc: 0.2356\n",
      "Epoch 73/200\n",
      "322928/322928 [==============================] - 9s 27us/step - loss: 0.0521 - acc: 0.2332 - val_loss: 0.0520 - val_acc: 0.2349\n",
      "Epoch 74/200\n",
      "322928/322928 [==============================] - 9s 26us/step - loss: 0.0521 - acc: 0.2323 - val_loss: 0.0520 - val_acc: 0.2337\n",
      "Epoch 75/200\n",
      "322928/322928 [==============================] - 9s 27us/step - loss: 0.0521 - acc: 0.2322 - val_loss: 0.0520 - val_acc: 0.2327\n",
      "Epoch 76/200\n",
      "322928/322928 [==============================] - 9s 27us/step - loss: 0.0521 - acc: 0.2321 - val_loss: 0.0520 - val_acc: 0.2318\n",
      "Epoch 77/200\n",
      "322928/322928 [==============================] - 9s 27us/step - loss: 0.0521 - acc: 0.2305 - val_loss: 0.0520 - val_acc: 0.2303\n",
      "Epoch 78/200\n",
      "322928/322928 [==============================] - 9s 27us/step - loss: 0.0521 - acc: 0.2298 - val_loss: 0.0520 - val_acc: 0.2306\n",
      "Epoch 79/200\n",
      "322928/322928 [==============================] - 9s 27us/step - loss: 0.0521 - acc: 0.2297 - val_loss: 0.0520 - val_acc: 0.2312\n",
      "Epoch 80/200\n",
      "322928/322928 [==============================] - 9s 26us/step - loss: 0.0521 - acc: 0.2300 - val_loss: 0.0520 - val_acc: 0.2303\n",
      "Epoch 81/200\n",
      "322928/322928 [==============================] - 9s 26us/step - loss: 0.0521 - acc: 0.2299 - val_loss: 0.0520 - val_acc: 0.2298\n",
      "Epoch 82/200\n",
      "322928/322928 [==============================] - 9s 27us/step - loss: 0.0521 - acc: 0.2299 - val_loss: 0.0520 - val_acc: 0.2291\n",
      "Epoch 83/200\n",
      "322928/322928 [==============================] - 9s 27us/step - loss: 0.0521 - acc: 0.2301 - val_loss: 0.0520 - val_acc: 0.2304\n",
      "Epoch 84/200\n",
      "322928/322928 [==============================] - 9s 26us/step - loss: 0.0521 - acc: 0.2288 - val_loss: 0.0520 - val_acc: 0.2291\n",
      "Epoch 85/200\n",
      "322928/322928 [==============================] - 9s 27us/step - loss: 0.0521 - acc: 0.2283 - val_loss: 0.0520 - val_acc: 0.2282\n",
      "Epoch 86/200\n",
      "322928/322928 [==============================] - 9s 26us/step - loss: 0.0521 - acc: 0.2290 - val_loss: 0.0520 - val_acc: 0.2275\n",
      "Epoch 87/200\n",
      "322928/322928 [==============================] - 9s 26us/step - loss: 0.0521 - acc: 0.2289 - val_loss: 0.0520 - val_acc: 0.2308\n",
      "Epoch 88/200\n",
      "322928/322928 [==============================] - 9s 26us/step - loss: 0.0521 - acc: 0.2303 - val_loss: 0.0520 - val_acc: 0.2281\n",
      "Epoch 89/200\n",
      "322928/322928 [==============================] - 9s 26us/step - loss: 0.0521 - acc: 0.2291 - val_loss: 0.0520 - val_acc: 0.2280\n",
      "Epoch 90/200\n",
      "322928/322928 [==============================] - 9s 26us/step - loss: 0.0521 - acc: 0.2294 - val_loss: 0.0520 - val_acc: 0.2289\n",
      "Epoch 91/200\n",
      "322928/322928 [==============================] - 9s 26us/step - loss: 0.0521 - acc: 0.2305 - val_loss: 0.0520 - val_acc: 0.2299\n",
      "Epoch 92/200\n",
      "322928/322928 [==============================] - 9s 26us/step - loss: 0.0521 - acc: 0.2316 - val_loss: 0.0520 - val_acc: 0.2321\n",
      "Epoch 93/200\n",
      "322928/322928 [==============================] - 9s 26us/step - loss: 0.0521 - acc: 0.2334 - val_loss: 0.0520 - val_acc: 0.2327\n",
      "Epoch 94/200\n",
      "322928/322928 [==============================] - 9s 26us/step - loss: 0.0521 - acc: 0.2339 - val_loss: 0.0520 - val_acc: 0.2342\n",
      "Epoch 95/200\n",
      "322928/322928 [==============================] - 9s 27us/step - loss: 0.0521 - acc: 0.2338 - val_loss: 0.0520 - val_acc: 0.2335\n",
      "Epoch 96/200\n",
      "322928/322928 [==============================] - 9s 26us/step - loss: 0.0521 - acc: 0.2345 - val_loss: 0.0520 - val_acc: 0.2328\n",
      "Epoch 97/200\n",
      "322928/322928 [==============================] - 9s 26us/step - loss: 0.0521 - acc: 0.2347 - val_loss: 0.0520 - val_acc: 0.2331\n",
      "Epoch 98/200\n",
      "322928/322928 [==============================] - 9s 26us/step - loss: 0.0521 - acc: 0.2348 - val_loss: 0.0520 - val_acc: 0.2331\n",
      "Epoch 99/200\n",
      "322928/322928 [==============================] - 8s 26us/step - loss: 0.0521 - acc: 0.2345 - val_loss: 0.0520 - val_acc: 0.2344\n",
      "Epoch 100/200\n",
      "322928/322928 [==============================] - 9s 26us/step - loss: 0.0521 - acc: 0.2358 - val_loss: 0.0520 - val_acc: 0.2352\n",
      "Epoch 101/200\n",
      "322928/322928 [==============================] - 8s 26us/step - loss: 0.0521 - acc: 0.2348 - val_loss: 0.0520 - val_acc: 0.2339\n",
      "Epoch 102/200\n",
      "322928/322928 [==============================] - 9s 26us/step - loss: 0.0521 - acc: 0.2342 - val_loss: 0.0520 - val_acc: 0.2324\n",
      "Epoch 103/200\n",
      "322928/322928 [==============================] - 9s 26us/step - loss: 0.0521 - acc: 0.2333 - val_loss: 0.0520 - val_acc: 0.2317\n",
      "Epoch 104/200\n",
      "322928/322928 [==============================] - 8s 26us/step - loss: 0.0521 - acc: 0.2335 - val_loss: 0.0520 - val_acc: 0.2320\n",
      "Epoch 105/200\n",
      "322928/322928 [==============================] - 9s 26us/step - loss: 0.0521 - acc: 0.2340 - val_loss: 0.0520 - val_acc: 0.2326\n",
      "Epoch 106/200\n",
      "322928/322928 [==============================] - 8s 26us/step - loss: 0.0521 - acc: 0.2348 - val_loss: 0.0520 - val_acc: 0.2322\n",
      "Epoch 107/200\n",
      "322928/322928 [==============================] - 9s 26us/step - loss: 0.0521 - acc: 0.2349 - val_loss: 0.0520 - val_acc: 0.2329\n",
      "Epoch 108/200\n",
      "322928/322928 [==============================] - 8s 26us/step - loss: 0.0521 - acc: 0.2340 - val_loss: 0.0520 - val_acc: 0.2322\n",
      "Epoch 109/200\n",
      "322928/322928 [==============================] - 9s 26us/step - loss: 0.0521 - acc: 0.2333 - val_loss: 0.0520 - val_acc: 0.2320\n",
      "Epoch 110/200\n",
      "322928/322928 [==============================] - 8s 26us/step - loss: 0.0521 - acc: 0.2325 - val_loss: 0.0520 - val_acc: 0.2316\n",
      "Epoch 111/200\n",
      "322928/322928 [==============================] - 8s 26us/step - loss: 0.0521 - acc: 0.2271 - val_loss: 0.0520 - val_acc: 0.2268\n",
      "Epoch 112/200\n",
      "322928/322928 [==============================] - 8s 26us/step - loss: 0.0521 - acc: 0.2285 - val_loss: 0.0520 - val_acc: 0.2262\n",
      "Epoch 113/200\n",
      "322928/322928 [==============================] - 9s 26us/step - loss: 0.0521 - acc: 0.2283 - val_loss: 0.0520 - val_acc: 0.2247\n",
      "Epoch 114/200\n",
      "322928/322928 [==============================] - 8s 26us/step - loss: 0.0521 - acc: 0.2260 - val_loss: 0.0520 - val_acc: 0.2225\n",
      "Epoch 115/200\n",
      "322928/322928 [==============================] - 8s 26us/step - loss: 0.0521 - acc: 0.2250 - val_loss: 0.0520 - val_acc: 0.2220\n",
      "Epoch 116/200\n",
      "322928/322928 [==============================] - 8s 26us/step - loss: 0.0521 - acc: 0.2247 - val_loss: 0.0520 - val_acc: 0.2217\n",
      "Epoch 117/200\n",
      "322928/322928 [==============================] - 9s 26us/step - loss: 0.0521 - acc: 0.2237 - val_loss: 0.0520 - val_acc: 0.2197\n",
      "Epoch 118/200\n",
      "322928/322928 [==============================] - 8s 26us/step - loss: 0.0521 - acc: 0.2231 - val_loss: 0.0520 - val_acc: 0.2212\n",
      "Epoch 119/200\n",
      "322928/322928 [==============================] - 8s 26us/step - loss: 0.0521 - acc: 0.2219 - val_loss: 0.0520 - val_acc: 0.2197\n",
      "Epoch 120/200\n",
      "322928/322928 [==============================] - 8s 26us/step - loss: 0.0521 - acc: 0.2228 - val_loss: 0.0520 - val_acc: 0.2204\n",
      "Epoch 121/200\n",
      "322928/322928 [==============================] - 8s 26us/step - loss: 0.0521 - acc: 0.2218 - val_loss: 0.0520 - val_acc: 0.2206\n",
      "Epoch 122/200\n",
      "322928/322928 [==============================] - 8s 26us/step - loss: 0.0521 - acc: 0.2207 - val_loss: 0.0520 - val_acc: 0.2196\n",
      "Epoch 123/200\n",
      "322928/322928 [==============================] - 8s 26us/step - loss: 0.0521 - acc: 0.2207 - val_loss: 0.0520 - val_acc: 0.2201\n",
      "Epoch 124/200\n",
      "322928/322928 [==============================] - 8s 26us/step - loss: 0.0521 - acc: 0.2205 - val_loss: 0.0520 - val_acc: 0.2198\n",
      "Epoch 125/200\n",
      "322928/322928 [==============================] - 8s 26us/step - loss: 0.0521 - acc: 0.2220 - val_loss: 0.0520 - val_acc: 0.2211\n",
      "Epoch 126/200\n",
      "322928/322928 [==============================] - 8s 26us/step - loss: 0.0521 - acc: 0.2222 - val_loss: 0.0520 - val_acc: 0.2222\n",
      "Epoch 127/200\n",
      "322928/322928 [==============================] - 8s 26us/step - loss: 0.0521 - acc: 0.2221 - val_loss: 0.0520 - val_acc: 0.2208\n",
      "Epoch 128/200\n",
      "322928/322928 [==============================] - 8s 26us/step - loss: 0.0521 - acc: 0.2217 - val_loss: 0.0520 - val_acc: 0.2209\n",
      "Epoch 129/200\n",
      "322928/322928 [==============================] - 8s 26us/step - loss: 0.0521 - acc: 0.2214 - val_loss: 0.0520 - val_acc: 0.2206\n",
      "Epoch 130/200\n",
      "322928/322928 [==============================] - 8s 26us/step - loss: 0.0521 - acc: 0.2217 - val_loss: 0.0520 - val_acc: 0.2209\n",
      "Epoch 131/200\n",
      "322928/322928 [==============================] - 8s 26us/step - loss: 0.0521 - acc: 0.2212 - val_loss: 0.0520 - val_acc: 0.2197\n",
      "Epoch 132/200\n",
      "322928/322928 [==============================] - 8s 26us/step - loss: 0.0521 - acc: 0.2216 - val_loss: 0.0520 - val_acc: 0.2207\n",
      "Epoch 133/200\n",
      "322928/322928 [==============================] - 8s 26us/step - loss: 0.0521 - acc: 0.2220 - val_loss: 0.0520 - val_acc: 0.2209\n",
      "Epoch 134/200\n",
      "322928/322928 [==============================] - 8s 26us/step - loss: 0.0521 - acc: 0.2219 - val_loss: 0.0520 - val_acc: 0.2198\n",
      "Epoch 135/200\n",
      "322928/322928 [==============================] - 8s 26us/step - loss: 0.0521 - acc: 0.2210 - val_loss: 0.0520 - val_acc: 0.2206\n",
      "Epoch 136/200\n",
      "322928/322928 [==============================] - 8s 26us/step - loss: 0.0521 - acc: 0.2216 - val_loss: 0.0520 - val_acc: 0.2211\n",
      "Epoch 137/200\n",
      "322928/322928 [==============================] - 8s 26us/step - loss: 0.0521 - acc: 0.2219 - val_loss: 0.0520 - val_acc: 0.2204\n",
      "Epoch 138/200\n",
      "322928/322928 [==============================] - 8s 26us/step - loss: 0.0521 - acc: 0.2222 - val_loss: 0.0520 - val_acc: 0.2212\n",
      "Epoch 139/200\n",
      "322928/322928 [==============================] - 8s 26us/step - loss: 0.0521 - acc: 0.2221 - val_loss: 0.0520 - val_acc: 0.2206\n",
      "Epoch 140/200\n",
      "322928/322928 [==============================] - 8s 26us/step - loss: 0.0521 - acc: 0.2232 - val_loss: 0.0520 - val_acc: 0.2224\n",
      "Epoch 141/200\n",
      "322928/322928 [==============================] - 8s 26us/step - loss: 0.0521 - acc: 0.2232 - val_loss: 0.0520 - val_acc: 0.2214\n",
      "Epoch 142/200\n",
      "322928/322928 [==============================] - 8s 26us/step - loss: 0.0521 - acc: 0.2223 - val_loss: 0.0520 - val_acc: 0.2222\n",
      "Epoch 143/200\n",
      "322928/322928 [==============================] - 8s 26us/step - loss: 0.0521 - acc: 0.2223 - val_loss: 0.0520 - val_acc: 0.2201\n",
      "Epoch 144/200\n",
      "322928/322928 [==============================] - 8s 26us/step - loss: 0.0521 - acc: 0.2208 - val_loss: 0.0520 - val_acc: 0.2198\n",
      "Epoch 145/200\n",
      "322928/322928 [==============================] - 8s 26us/step - loss: 0.0521 - acc: 0.2204 - val_loss: 0.0520 - val_acc: 0.2189\n",
      "Epoch 146/200\n",
      "322928/322928 [==============================] - 8s 26us/step - loss: 0.0521 - acc: 0.2205 - val_loss: 0.0520 - val_acc: 0.2200\n",
      "Epoch 147/200\n",
      "322928/322928 [==============================] - 8s 26us/step - loss: 0.0521 - acc: 0.2204 - val_loss: 0.0520 - val_acc: 0.2201\n",
      "Epoch 148/200\n",
      "322928/322928 [==============================] - 8s 26us/step - loss: 0.0521 - acc: 0.2205 - val_loss: 0.0520 - val_acc: 0.2192\n",
      "Epoch 149/200\n",
      "322928/322928 [==============================] - 8s 26us/step - loss: 0.0521 - acc: 0.2212 - val_loss: 0.0520 - val_acc: 0.2201\n",
      "Epoch 150/200\n",
      "322928/322928 [==============================] - 8s 26us/step - loss: 0.0521 - acc: 0.2203 - val_loss: 0.0520 - val_acc: 0.2199\n",
      "Epoch 151/200\n",
      "322928/322928 [==============================] - 8s 26us/step - loss: 0.0521 - acc: 0.2196 - val_loss: 0.0520 - val_acc: 0.2174\n",
      "Epoch 152/200\n",
      "322928/322928 [==============================] - 8s 26us/step - loss: 0.0521 - acc: 0.2192 - val_loss: 0.0520 - val_acc: 0.2177\n",
      "Epoch 153/200\n",
      "322928/322928 [==============================] - 8s 26us/step - loss: 0.0521 - acc: 0.2193 - val_loss: 0.0520 - val_acc: 0.2185\n",
      "Epoch 154/200\n",
      "322928/322928 [==============================] - 8s 26us/step - loss: 0.0521 - acc: 0.2193 - val_loss: 0.0520 - val_acc: 0.2177\n",
      "Epoch 155/200\n",
      "322928/322928 [==============================] - 8s 26us/step - loss: 0.0521 - acc: 0.2190 - val_loss: 0.0520 - val_acc: 0.2182\n",
      "Epoch 156/200\n",
      "322928/322928 [==============================] - 8s 26us/step - loss: 0.0521 - acc: 0.2194 - val_loss: 0.0520 - val_acc: 0.2182\n",
      "Epoch 157/200\n",
      "322928/322928 [==============================] - 8s 26us/step - loss: 0.0521 - acc: 0.2199 - val_loss: 0.0520 - val_acc: 0.2196\n",
      "Epoch 158/200\n",
      "322928/322928 [==============================] - 8s 26us/step - loss: 0.0521 - acc: 0.2203 - val_loss: 0.0520 - val_acc: 0.2199\n",
      "Epoch 159/200\n",
      "322928/322928 [==============================] - 8s 26us/step - loss: 0.0521 - acc: 0.2202 - val_loss: 0.0520 - val_acc: 0.2190\n",
      "Epoch 160/200\n",
      "322928/322928 [==============================] - 8s 26us/step - loss: 0.0521 - acc: 0.2203 - val_loss: 0.0520 - val_acc: 0.2199\n",
      "Epoch 161/200\n",
      "322928/322928 [==============================] - 8s 26us/step - loss: 0.0521 - acc: 0.2201 - val_loss: 0.0520 - val_acc: 0.2188\n",
      "Epoch 162/200\n",
      "322928/322928 [==============================] - 8s 26us/step - loss: 0.0521 - acc: 0.2200 - val_loss: 0.0520 - val_acc: 0.2192\n",
      "Epoch 163/200\n",
      "322928/322928 [==============================] - 8s 26us/step - loss: 0.0521 - acc: 0.2197 - val_loss: 0.0520 - val_acc: 0.2194\n",
      "Epoch 164/200\n",
      "322928/322928 [==============================] - 8s 26us/step - loss: 0.0521 - acc: 0.2197 - val_loss: 0.0520 - val_acc: 0.2184\n",
      "Epoch 165/200\n",
      "322928/322928 [==============================] - 8s 26us/step - loss: 0.0521 - acc: 0.2187 - val_loss: 0.0520 - val_acc: 0.2175\n",
      "Epoch 166/200\n",
      "322928/322928 [==============================] - 8s 26us/step - loss: 0.0521 - acc: 0.2188 - val_loss: 0.0520 - val_acc: 0.2181\n",
      "Epoch 167/200\n",
      "322928/322928 [==============================] - 8s 26us/step - loss: 0.0521 - acc: 0.2187 - val_loss: 0.0520 - val_acc: 0.2171\n",
      "Epoch 168/200\n",
      "322928/322928 [==============================] - 8s 26us/step - loss: 0.0521 - acc: 0.2185 - val_loss: 0.0520 - val_acc: 0.2179\n",
      "Epoch 169/200\n",
      "322928/322928 [==============================] - 8s 26us/step - loss: 0.0521 - acc: 0.2187 - val_loss: 0.0520 - val_acc: 0.2174\n",
      "Epoch 170/200\n",
      "322928/322928 [==============================] - 8s 26us/step - loss: 0.0521 - acc: 0.2186 - val_loss: 0.0520 - val_acc: 0.2182\n",
      "Epoch 171/200\n",
      "322928/322928 [==============================] - 8s 26us/step - loss: 0.0521 - acc: 0.2179 - val_loss: 0.0520 - val_acc: 0.2173\n",
      "Epoch 172/200\n",
      "322928/322928 [==============================] - 8s 26us/step - loss: 0.0521 - acc: 0.2173 - val_loss: 0.0520 - val_acc: 0.2171\n",
      "Epoch 173/200\n",
      "322928/322928 [==============================] - 8s 26us/step - loss: 0.0521 - acc: 0.2172 - val_loss: 0.0520 - val_acc: 0.2168\n",
      "Epoch 174/200\n",
      "322928/322928 [==============================] - 8s 26us/step - loss: 0.0521 - acc: 0.2164 - val_loss: 0.0520 - val_acc: 0.2172\n",
      "Epoch 175/200\n",
      "322928/322928 [==============================] - 8s 26us/step - loss: 0.0521 - acc: 0.2169 - val_loss: 0.0520 - val_acc: 0.2181\n",
      "Epoch 176/200\n",
      "322928/322928 [==============================] - 8s 26us/step - loss: 0.0521 - acc: 0.2169 - val_loss: 0.0520 - val_acc: 0.2170\n",
      "Epoch 177/200\n",
      "322928/322928 [==============================] - 8s 26us/step - loss: 0.0521 - acc: 0.2168 - val_loss: 0.0520 - val_acc: 0.2168\n",
      "Epoch 178/200\n",
      "322928/322928 [==============================] - 8s 26us/step - loss: 0.0521 - acc: 0.2172 - val_loss: 0.0520 - val_acc: 0.2180\n",
      "Epoch 179/200\n",
      "322928/322928 [==============================] - 8s 26us/step - loss: 0.0521 - acc: 0.2173 - val_loss: 0.0520 - val_acc: 0.2186\n",
      "Epoch 180/200\n",
      "322928/322928 [==============================] - 8s 26us/step - loss: 0.0521 - acc: 0.2181 - val_loss: 0.0520 - val_acc: 0.2187\n",
      "Epoch 181/200\n",
      "322928/322928 [==============================] - 8s 26us/step - loss: 0.0521 - acc: 0.2187 - val_loss: 0.0520 - val_acc: 0.2183\n",
      "Epoch 182/200\n",
      "322928/322928 [==============================] - 8s 26us/step - loss: 0.0521 - acc: 0.2187 - val_loss: 0.0520 - val_acc: 0.2191\n",
      "Epoch 183/200\n",
      "322928/322928 [==============================] - 8s 26us/step - loss: 0.0521 - acc: 0.2195 - val_loss: 0.0520 - val_acc: 0.2193\n",
      "Epoch 184/200\n",
      "322928/322928 [==============================] - 8s 26us/step - loss: 0.0521 - acc: 0.2193 - val_loss: 0.0520 - val_acc: 0.2210\n",
      "Epoch 185/200\n",
      "322928/322928 [==============================] - 8s 26us/step - loss: 0.0521 - acc: 0.2203 - val_loss: 0.0520 - val_acc: 0.2211\n",
      "Epoch 186/200\n",
      "322928/322928 [==============================] - 8s 26us/step - loss: 0.0521 - acc: 0.2204 - val_loss: 0.0520 - val_acc: 0.2218\n",
      "Epoch 187/200\n",
      "322928/322928 [==============================] - 8s 26us/step - loss: 0.0521 - acc: 0.2212 - val_loss: 0.0520 - val_acc: 0.2227\n",
      "Epoch 188/200\n",
      "322928/322928 [==============================] - 8s 26us/step - loss: 0.0521 - acc: 0.2214 - val_loss: 0.0520 - val_acc: 0.2222\n",
      "Epoch 189/200\n",
      "322928/322928 [==============================] - 8s 26us/step - loss: 0.0521 - acc: 0.2219 - val_loss: 0.0520 - val_acc: 0.2223\n",
      "Epoch 190/200\n",
      "322928/322928 [==============================] - 8s 26us/step - loss: 0.0521 - acc: 0.2228 - val_loss: 0.0520 - val_acc: 0.2238\n",
      "Epoch 191/200\n",
      "322928/322928 [==============================] - 8s 26us/step - loss: 0.0521 - acc: 0.2233 - val_loss: 0.0520 - val_acc: 0.2239\n",
      "Epoch 192/200\n",
      "322928/322928 [==============================] - 8s 26us/step - loss: 0.0521 - acc: 0.2231 - val_loss: 0.0520 - val_acc: 0.2238\n",
      "Epoch 193/200\n",
      "322928/322928 [==============================] - 8s 26us/step - loss: 0.0521 - acc: 0.2233 - val_loss: 0.0520 - val_acc: 0.2237\n",
      "Epoch 194/200\n",
      "322928/322928 [==============================] - 8s 26us/step - loss: 0.0521 - acc: 0.2237 - val_loss: 0.0520 - val_acc: 0.2250\n",
      "Epoch 195/200\n",
      "322928/322928 [==============================] - 8s 26us/step - loss: 0.0521 - acc: 0.2249 - val_loss: 0.0520 - val_acc: 0.2269\n",
      "Epoch 196/200\n",
      "322928/322928 [==============================] - 8s 26us/step - loss: 0.0521 - acc: 0.2265 - val_loss: 0.0520 - val_acc: 0.2284\n",
      "Epoch 197/200\n",
      "322928/322928 [==============================] - 8s 26us/step - loss: 0.0521 - acc: 0.2280 - val_loss: 0.0520 - val_acc: 0.2290\n",
      "Epoch 198/200\n",
      "322928/322928 [==============================] - 8s 26us/step - loss: 0.0521 - acc: 0.2291 - val_loss: 0.0520 - val_acc: 0.2305\n",
      "Epoch 199/200\n",
      "322928/322928 [==============================] - 8s 26us/step - loss: 0.0521 - acc: 0.2298 - val_loss: 0.0520 - val_acc: 0.2310\n",
      "Epoch 200/200\n",
      "322928/322928 [==============================] - 8s 26us/step - loss: 0.0521 - acc: 0.2307 - val_loss: 0.0520 - val_acc: 0.2333\n",
      "--- AE spent 1729.107471704483 seconds ---\n"
     ]
    }
   ],
   "source": [
    "hist_ae_sigsig_adam_logcosh = fit_ae(checkpoint_file = \"ae_sigsig_adam_logcosh_redds20bal.h5\",\n",
    "                                  autoencoder = ae_sigsig_adam_logcosh, \n",
    "                                  epochs = 200, \n",
    "                                  batch_size = 66,\n",
    "                                  shuffle = False)"
   ]
  },
  {
   "cell_type": "code",
   "execution_count": 46,
   "metadata": {},
   "outputs": [
    {
     "name": "stdout",
     "output_type": "stream",
     "text": [
      "Best loss value: 0.05208804453885328\n"
     ]
    },
    {
     "data": {
      "image/png": "[encoded data removed]",
      "text/plain": [
       "<Figure size 432x288 with 1 Axes>"
      ]
     },
     "metadata": {
      "needs_background": "light"
     },
     "output_type": "display_data"
    }
   ],
   "source": [
    "best_loss_value_ae_sigsig_adam_logcosh  = plot_hist_auto(hist_ae_sigsig_adam_logcosh, './Figures/hist_ae_sigsig_adam_logcosh.png')"
   ]
  },
  {
   "cell_type": "code",
   "execution_count": 47,
   "metadata": {},
   "outputs": [],
   "source": [
    "loss_valueDict = {\n",
    "    'loss_value_ae_sigmoid_adam_logcosh': best_loss_value_ae_sigmoid_adam_logcosh,\n",
    "    'loss_value_ae_sigmoid_adam_mse': best_loss_value_ae_sigmoid_adam_mse,\n",
    "    'loss_value_ae_siglin_adam_logcosh': best_loss_value_ae_siglin_adam_logcosh,\n",
    "    'loss_value_ae_sigsig_adam_logcosh': best_loss_value_ae_sigsig_adam_logcosh\n",
    "    }"
   ]
  },
  {
   "cell_type": "code",
   "execution_count": 48,
   "metadata": {},
   "outputs": [
    {
     "data": {
      "text/plain": [
       "{'loss_value_ae_sigmoid_adam_logcosh': 0.05211055273531513,\n",
       " 'loss_value_ae_sigmoid_adam_mse': 0.15528448822173077,\n",
       " 'loss_value_ae_siglin_adam_logcosh': 0.0007420364132673449,\n",
       " 'loss_value_ae_sigsig_adam_logcosh': 0.05208804453885328}"
      ]
     },
     "execution_count": 48,
     "metadata": {},
     "output_type": "execute_result"
    }
   ],
   "source": [
    "loss_valueDict"
   ]
  },
  {
   "cell_type": "code",
   "execution_count": null,
   "metadata": {},
   "outputs": [],
   "source": []
  },
  {
   "cell_type": "code",
   "execution_count": 129,
   "metadata": {},
   "outputs": [
    {
     "name": "stdout",
     "output_type": "stream",
     "text": [
      "(322928, 44)\n",
      "(100916, 44)\n",
      "(322928, 44)\n",
      "(100916, 44)\n",
      "(322928, 44)\n",
      "(100916, 44)\n",
      "(322928, 44)\n",
      "(100916, 44)\n"
     ]
    }
   ],
   "source": [
    "print(enc_train_x_asal.shape)\n",
    "print(enc_test_x_asal.shape)\n",
    "\n",
    "print(enc_train_x_asam.shape)\n",
    "print(enc_test_x_asam.shape)\n",
    "\n",
    "print(enc_train_x_aslal.shape)\n",
    "print(enc_test_x_aslal.shape)\n",
    "\n",
    "print(enc_train_x_assal.shape)\n",
    "print(enc_test_x_assal.shape)"
   ]
  },
  {
   "cell_type": "markdown",
   "metadata": {},
   "source": [
    "#### ====================== Fail ANN ======================"
   ]
  },
  {
   "cell_type": "code",
   "execution_count": 50,
   "metadata": {},
   "outputs": [
    {
     "name": "stdout",
     "output_type": "stream",
     "text": [
      "_________________________________________________________________\n",
      "Layer (type)                 Output Shape              Param #   \n",
      "=================================================================\n",
      "dense_5 (Dense)              (None, 66)                2970      \n",
      "_________________________________________________________________\n",
      "dense_6 (Dense)              (None, 50)                3350      \n",
      "_________________________________________________________________\n",
      "batch_normalization_1 (Batch (None, 50)                200       \n",
      "_________________________________________________________________\n",
      "dropout_1 (Dropout)          (None, 50)                0         \n",
      "_________________________________________________________________\n",
      "dense_7 (Dense)              (None, 1)                 51        \n",
      "=================================================================\n",
      "Total params: 6,571\n",
      "Trainable params: 6,471\n",
      "Non-trainable params: 100\n",
      "_________________________________________________________________\n",
      "None\n"
     ]
    }
   ],
   "source": [
    "ann36n_unisoftsigbinlosadam = ann_1h_36n(neurons=66,\n",
    "                                      encoded_train_x=enc_train_x_asal,\n",
    "                                      init_mode='uniform',\n",
    "                                      activation_input='softsign',\n",
    "                                      weight_constraint=5,\n",
    "                                      dropout_rate=0.0,\n",
    "                                      activation_output='sigmoid',\n",
    "                                      loss='binary_crossentropy',\n",
    "                                      optimizer='Adam')"
   ]
  },
  {
   "cell_type": "code",
   "execution_count": 51,
   "metadata": {},
   "outputs": [
    {
     "name": "stdout",
     "output_type": "stream",
     "text": [
      "Sun Jun  9 17:38:22 2019\n",
      "Train on 258342 samples, validate on 64586 samples\n",
      "Epoch 1/200\n",
      "258342/258342 [==============================] - 13s 49us/step - loss: 0.3337 - acc: 0.8517 - val_loss: 0.2142 - val_acc: 0.9109\n",
      "Epoch 2/200\n",
      "258342/258342 [==============================] - 12s 47us/step - loss: 0.1977 - acc: 0.9170 - val_loss: 0.1672 - val_acc: 0.9280\n",
      "Epoch 3/200\n",
      "258342/258342 [==============================] - 12s 47us/step - loss: 0.1688 - acc: 0.9288 - val_loss: 0.1763 - val_acc: 0.9230\n",
      "Epoch 4/200\n",
      "258342/258342 [==============================] - 12s 47us/step - loss: 0.1499 - acc: 0.9365 - val_loss: 0.1264 - val_acc: 0.9436\n",
      "Epoch 5/200\n",
      "258342/258342 [==============================] - 12s 47us/step - loss: 0.1384 - acc: 0.9412 - val_loss: 0.1263 - val_acc: 0.9476\n",
      "Epoch 6/200\n",
      "258342/258342 [==============================] - 12s 47us/step - loss: 0.1276 - acc: 0.9446 - val_loss: 0.1211 - val_acc: 0.9505\n",
      "Epoch 7/200\n",
      "258342/258342 [==============================] - 12s 47us/step - loss: 0.1200 - acc: 0.9484 - val_loss: 0.0990 - val_acc: 0.9573\n",
      "Epoch 8/200\n",
      "258342/258342 [==============================] - 12s 47us/step - loss: 0.1150 - acc: 0.9504 - val_loss: 0.1049 - val_acc: 0.9529\n",
      "Epoch 9/200\n",
      "258342/258342 [==============================] - 12s 47us/step - loss: 0.1101 - acc: 0.9524 - val_loss: 0.1006 - val_acc: 0.9557\n",
      "Epoch 10/200\n",
      "258342/258342 [==============================] - 12s 47us/step - loss: 0.1047 - acc: 0.9541 - val_loss: 0.1031 - val_acc: 0.9533\n",
      "Epoch 11/200\n",
      "258342/258342 [==============================] - 12s 47us/step - loss: 0.1004 - acc: 0.9560 - val_loss: 0.0963 - val_acc: 0.9577\n",
      "Epoch 12/200\n",
      "258342/258342 [==============================] - 12s 47us/step - loss: 0.0970 - acc: 0.9580 - val_loss: 0.0861 - val_acc: 0.9626\n",
      "Epoch 13/200\n",
      "258342/258342 [==============================] - 12s 47us/step - loss: 0.0925 - acc: 0.9596 - val_loss: 0.0821 - val_acc: 0.9618\n",
      "Epoch 14/200\n",
      "258342/258342 [==============================] - 12s 47us/step - loss: 0.0908 - acc: 0.9603 - val_loss: 0.0843 - val_acc: 0.9610\n",
      "Epoch 15/200\n",
      "258342/258342 [==============================] - 12s 47us/step - loss: 0.0875 - acc: 0.9615 - val_loss: 0.0874 - val_acc: 0.9631\n",
      "Epoch 16/200\n",
      "258342/258342 [==============================] - 12s 47us/step - loss: 0.0855 - acc: 0.9628 - val_loss: 0.0759 - val_acc: 0.9659\n",
      "Epoch 17/200\n",
      "258342/258342 [==============================] - 12s 47us/step - loss: 0.0835 - acc: 0.9630 - val_loss: 0.0765 - val_acc: 0.9671\n",
      "Epoch 18/200\n",
      "258342/258342 [==============================] - 12s 47us/step - loss: 0.0805 - acc: 0.9645 - val_loss: 0.0935 - val_acc: 0.9613\n",
      "Epoch 19/200\n",
      "258342/258342 [==============================] - 12s 47us/step - loss: 0.0792 - acc: 0.9656 - val_loss: 0.0651 - val_acc: 0.9698\n",
      "Epoch 20/200\n",
      "258342/258342 [==============================] - 12s 47us/step - loss: 0.0768 - acc: 0.9662 - val_loss: 0.0765 - val_acc: 0.9675\n",
      "Epoch 21/200\n",
      "258342/258342 [==============================] - 12s 46us/step - loss: 0.0750 - acc: 0.9669 - val_loss: 0.0671 - val_acc: 0.9699\n",
      "Epoch 22/200\n",
      "258342/258342 [==============================] - 12s 46us/step - loss: 0.0732 - acc: 0.9677 - val_loss: 0.0706 - val_acc: 0.9672\n",
      "Epoch 23/200\n",
      "258342/258342 [==============================] - 12s 47us/step - loss: 0.0721 - acc: 0.9685 - val_loss: 0.0668 - val_acc: 0.9696\n",
      "Epoch 24/200\n",
      "258342/258342 [==============================] - 12s 47us/step - loss: 0.0703 - acc: 0.9690 - val_loss: 0.0606 - val_acc: 0.9716\n",
      "Epoch 25/200\n",
      "258342/258342 [==============================] - 12s 47us/step - loss: 0.0688 - acc: 0.9697 - val_loss: 0.0654 - val_acc: 0.9722\n",
      "Epoch 26/200\n",
      "258342/258342 [==============================] - 12s 47us/step - loss: 0.0683 - acc: 0.9700 - val_loss: 0.0594 - val_acc: 0.9732\n",
      "Epoch 27/200\n",
      "258342/258342 [==============================] - 12s 48us/step - loss: 0.0671 - acc: 0.9705 - val_loss: 0.0601 - val_acc: 0.9720\n",
      "Epoch 28/200\n",
      "258342/258342 [==============================] - 12s 47us/step - loss: 0.0658 - acc: 0.9710 - val_loss: 0.0558 - val_acc: 0.9768\n",
      "Epoch 29/200\n",
      "258342/258342 [==============================] - 12s 47us/step - loss: 0.0640 - acc: 0.9719 - val_loss: 0.0555 - val_acc: 0.9766\n",
      "Epoch 30/200\n",
      "258342/258342 [==============================] - 12s 47us/step - loss: 0.0636 - acc: 0.9721 - val_loss: 0.0568 - val_acc: 0.9743\n",
      "Epoch 31/200\n",
      "258342/258342 [==============================] - 12s 47us/step - loss: 0.0630 - acc: 0.9722 - val_loss: 0.0526 - val_acc: 0.9777\n",
      "Epoch 32/200\n",
      "258342/258342 [==============================] - 12s 47us/step - loss: 0.0617 - acc: 0.9728 - val_loss: 0.0513 - val_acc: 0.9782\n",
      "Epoch 33/200\n",
      "258342/258342 [==============================] - 12s 48us/step - loss: 0.0614 - acc: 0.9731 - val_loss: 0.0491 - val_acc: 0.9777\n",
      "Epoch 34/200\n",
      "258342/258342 [==============================] - 13s 49us/step - loss: 0.0597 - acc: 0.9738 - val_loss: 0.0608 - val_acc: 0.9706\n",
      "Epoch 35/200\n",
      "258342/258342 [==============================] - 13s 49us/step - loss: 0.0591 - acc: 0.9741 - val_loss: 0.0523 - val_acc: 0.9777\n",
      "Epoch 36/200\n",
      "258342/258342 [==============================] - 13s 49us/step - loss: 0.0575 - acc: 0.9748 - val_loss: 0.0538 - val_acc: 0.9775\n",
      "Epoch 37/200\n",
      "258342/258342 [==============================] - 13s 49us/step - loss: 0.0578 - acc: 0.9750 - val_loss: 0.0503 - val_acc: 0.9775\n",
      "Epoch 38/200\n",
      "258342/258342 [==============================] - 13s 49us/step - loss: 0.0566 - acc: 0.9752 - val_loss: 0.0513 - val_acc: 0.9778\n",
      "--- ANN spent 463.2063593864441 seconds ---\n"
     ]
    }
   ],
   "source": [
    "hist_ann36n_unisoftsigbinlosadam = ann_fit(checkpoint_file = \"ann36n_unisoftsigbinlosadam_redds20bal.h5\",\n",
    "                                        ann = ann36n_unisoftsigbinlosadam,\n",
    "                                        enc_train_x = enc_train_x_asal,\n",
    "                                        train_y = train_y,\n",
    "                                        epochs = 200,\n",
    "                                        shuffle = True,\n",
    "                                        batch_size = 66)"
   ]
  },
  {
   "cell_type": "code",
   "execution_count": 52,
   "metadata": {},
   "outputs": [
    {
     "name": "stdout",
     "output_type": "stream",
     "text": [
      "Best loss value: 0.056647425761245006\n"
     ]
    },
    {
     "data": {
      "image/png": "[encoded data removed]",
      "text/plain": [
       "<Figure size 432x288 with 1 Axes>"
      ]
     },
     "metadata": {
      "needs_background": "light"
     },
     "output_type": "display_data"
    }
   ],
   "source": [
    "best_loss_value_ann36n_unisoftsigbinlosadam = plot_hist_auto(hist_ann36n_unisoftsigbinlosadam, './Figures/ann36_unisoftsigbinlosadam.png')"
   ]
  },
  {
   "cell_type": "code",
   "execution_count": 130,
   "metadata": {},
   "outputs": [
    {
     "name": "stdout",
     "output_type": "stream",
     "text": [
      "Overall accuracy of Neural Network model: 0.5011791985413612\n",
      "              precision    recall  f1-score   support\n",
      "\n",
      "           0     0.5035    0.6791    0.5782     50813\n",
      "           1     0.4964    0.3207    0.3896     50103\n",
      "\n",
      "   micro avg     0.5012    0.5012    0.5012    100916\n",
      "   macro avg     0.4999    0.4999    0.4839    100916\n",
      "weighted avg     0.4999    0.5012    0.4846    100916\n",
      "\n"
     ]
    }
   ],
   "source": [
    "pred_ann36n_prob_unisoftsigbinlosadam, pred_ann36n_01_unisoftsigbinlosadam = ann_predict(ann36n_unisoftsigbinlosadam,enc_test_x_asal)"
   ]
  },
  {
   "cell_type": "code",
   "execution_count": 54,
   "metadata": {},
   "outputs": [
    {
     "data": {
      "image/png": "[encoded data removed]",
      "text/plain": [
       "<Figure size 432x288 with 1 Axes>"
      ]
     },
     "metadata": {
      "needs_background": "light"
     },
     "output_type": "display_data"
    },
    {
     "data": {
      "image/png": "[encoded data removed]",
      "text/plain": [
       "<Figure size 576x432 with 2 Axes>"
      ]
     },
     "metadata": {
      "needs_background": "light"
     },
     "output_type": "display_data"
    }
   ],
   "source": [
    "plot_roc_cm(pred_ann36n_01_unisoftsigbinlosadam, pred_ann36n_01_unisoftsigbinlosadam, './Figures/ROC_ann36n_unisoftsigbinlosadam_redds10bal.png', './Figures/CM_ann36n_unisoftsigbinlosadam_redds10bal.png')"
   ]
  },
  {
   "cell_type": "code",
   "execution_count": null,
   "metadata": {},
   "outputs": [],
   "source": []
  },
  {
   "cell_type": "code",
   "execution_count": 55,
   "metadata": {},
   "outputs": [
    {
     "name": "stdout",
     "output_type": "stream",
     "text": [
      "_________________________________________________________________\n",
      "Layer (type)                 Output Shape              Param #   \n",
      "=================================================================\n",
      "dense_8 (Dense)              (None, 66)                2970      \n",
      "_________________________________________________________________\n",
      "dense_9 (Dense)              (None, 50)                3350      \n",
      "_________________________________________________________________\n",
      "batch_normalization_2 (Batch (None, 50)                200       \n",
      "_________________________________________________________________\n",
      "dropout_2 (Dropout)          (None, 50)                0         \n",
      "_________________________________________________________________\n",
      "dense_10 (Dense)             (None, 1)                 51        \n",
      "=================================================================\n",
      "Total params: 6,571\n",
      "Trainable params: 6,471\n",
      "Non-trainable params: 100\n",
      "_________________________________________________________________\n",
      "None\n"
     ]
    }
   ],
   "source": [
    "ann36n_unisoftsigbinlosadam2 = ann_1h_36n(neurons=66,\n",
    "                                      encoded_train_x=enc_train_x_asam,\n",
    "                                      init_mode='uniform',\n",
    "                                      activation_input='softsign',\n",
    "                                      weight_constraint=5,\n",
    "                                      dropout_rate=0.0,\n",
    "                                      activation_output='sigmoid',\n",
    "                                      loss='binary_crossentropy',\n",
    "                                      optimizer='Adam')"
   ]
  },
  {
   "cell_type": "code",
   "execution_count": 56,
   "metadata": {},
   "outputs": [
    {
     "name": "stdout",
     "output_type": "stream",
     "text": [
      "Sun Jun  9 17:46:08 2019\n",
      "Train on 258342 samples, validate on 64586 samples\n",
      "Epoch 1/200\n",
      "258342/258342 [==============================] - 14s 56us/step - loss: 0.3320 - acc: 0.8542 - val_loss: 0.2301 - val_acc: 0.9169\n",
      "Epoch 2/200\n",
      "258342/258342 [==============================] - 14s 54us/step - loss: 0.1904 - acc: 0.9238 - val_loss: 0.1797 - val_acc: 0.9255\n",
      "Epoch 3/200\n",
      "258342/258342 [==============================] - 14s 54us/step - loss: 0.1574 - acc: 0.9352 - val_loss: 0.1347 - val_acc: 0.9447\n",
      "Epoch 4/200\n",
      "258342/258342 [==============================] - 14s 54us/step - loss: 0.1400 - acc: 0.9415 - val_loss: 0.1276 - val_acc: 0.9510\n",
      "Epoch 5/200\n",
      "258342/258342 [==============================] - 14s 54us/step - loss: 0.1289 - acc: 0.9462 - val_loss: 0.1274 - val_acc: 0.9483\n",
      "Epoch 6/200\n",
      "258342/258342 [==============================] - 14s 54us/step - loss: 0.1193 - acc: 0.9492 - val_loss: 0.1037 - val_acc: 0.9588\n",
      "Epoch 7/200\n",
      "258342/258342 [==============================] - 14s 53us/step - loss: 0.1127 - acc: 0.9518 - val_loss: 0.0979 - val_acc: 0.9582\n",
      "Epoch 8/200\n",
      "258342/258342 [==============================] - 14s 54us/step - loss: 0.1081 - acc: 0.9542 - val_loss: 0.1015 - val_acc: 0.9552\n",
      "Epoch 9/200\n",
      "258342/258342 [==============================] - 14s 53us/step - loss: 0.1008 - acc: 0.9570 - val_loss: 0.1036 - val_acc: 0.9558\n",
      "Epoch 10/200\n",
      "258342/258342 [==============================] - 14s 53us/step - loss: 0.0962 - acc: 0.9585 - val_loss: 0.0890 - val_acc: 0.9612\n",
      "Epoch 11/200\n",
      "258342/258342 [==============================] - 14s 53us/step - loss: 0.0944 - acc: 0.9591 - val_loss: 0.0829 - val_acc: 0.9626\n",
      "Epoch 12/200\n",
      "258342/258342 [==============================] - 14s 52us/step - loss: 0.0894 - acc: 0.9616 - val_loss: 0.0882 - val_acc: 0.9634\n",
      "Epoch 13/200\n",
      "258342/258342 [==============================] - 14s 52us/step - loss: 0.0875 - acc: 0.9620 - val_loss: 0.0916 - val_acc: 0.9564\n",
      "Epoch 14/200\n",
      "258342/258342 [==============================] - 14s 53us/step - loss: 0.0833 - acc: 0.9645 - val_loss: 0.0837 - val_acc: 0.9627\n",
      "Epoch 15/200\n",
      "258342/258342 [==============================] - 13s 52us/step - loss: 0.0814 - acc: 0.9649 - val_loss: 0.0768 - val_acc: 0.9659\n",
      "Epoch 16/200\n",
      "258342/258342 [==============================] - 13s 52us/step - loss: 0.0793 - acc: 0.9660 - val_loss: 0.0760 - val_acc: 0.9704\n",
      "Epoch 17/200\n",
      "258342/258342 [==============================] - 13s 52us/step - loss: 0.0763 - acc: 0.9671 - val_loss: 0.0653 - val_acc: 0.9731\n",
      "Epoch 18/200\n",
      "258342/258342 [==============================] - 13s 52us/step - loss: 0.0752 - acc: 0.9679 - val_loss: 0.0599 - val_acc: 0.9738\n",
      "Epoch 19/200\n",
      "258342/258342 [==============================] - 13s 51us/step - loss: 0.0717 - acc: 0.9696 - val_loss: 0.0670 - val_acc: 0.9727\n",
      "Epoch 20/200\n",
      "258342/258342 [==============================] - 13s 51us/step - loss: 0.0711 - acc: 0.9698 - val_loss: 0.0643 - val_acc: 0.9731\n",
      "Epoch 21/200\n",
      "258342/258342 [==============================] - 13s 50us/step - loss: 0.0690 - acc: 0.9705 - val_loss: 0.0584 - val_acc: 0.9740\n",
      "Epoch 22/200\n",
      "258342/258342 [==============================] - 13s 50us/step - loss: 0.0673 - acc: 0.9713 - val_loss: 0.0582 - val_acc: 0.9770\n",
      "Epoch 23/200\n",
      "258342/258342 [==============================] - 13s 50us/step - loss: 0.0655 - acc: 0.9721 - val_loss: 0.0620 - val_acc: 0.9740\n",
      "Epoch 24/200\n",
      "258342/258342 [==============================] - 13s 50us/step - loss: 0.0644 - acc: 0.9722 - val_loss: 0.0611 - val_acc: 0.9715\n",
      "Epoch 25/200\n",
      "258342/258342 [==============================] - 13s 50us/step - loss: 0.0637 - acc: 0.9730 - val_loss: 0.0584 - val_acc: 0.9746\n",
      "Epoch 26/200\n",
      "258342/258342 [==============================] - 13s 50us/step - loss: 0.0624 - acc: 0.9735 - val_loss: 0.0588 - val_acc: 0.9765\n",
      "Epoch 27/200\n",
      "258342/258342 [==============================] - 13s 49us/step - loss: 0.0608 - acc: 0.9741 - val_loss: 0.0535 - val_acc: 0.9779\n",
      "Epoch 28/200\n",
      "258342/258342 [==============================] - 13s 49us/step - loss: 0.0575 - acc: 0.9756 - val_loss: 0.0558 - val_acc: 0.9772\n",
      "Epoch 29/200\n",
      "258342/258342 [==============================] - 13s 49us/step - loss: 0.0583 - acc: 0.9753 - val_loss: 0.0498 - val_acc: 0.9808\n",
      "Epoch 30/200\n",
      "258342/258342 [==============================] - 13s 49us/step - loss: 0.0572 - acc: 0.9763 - val_loss: 0.0487 - val_acc: 0.9819\n",
      "Epoch 31/200\n",
      "258342/258342 [==============================] - 13s 49us/step - loss: 0.0560 - acc: 0.9767 - val_loss: 0.0485 - val_acc: 0.9818\n",
      "Epoch 32/200\n",
      "258342/258342 [==============================] - 13s 49us/step - loss: 0.0548 - acc: 0.9772 - val_loss: 0.0473 - val_acc: 0.9806\n",
      "Epoch 33/200\n",
      "258342/258342 [==============================] - 13s 49us/step - loss: 0.0543 - acc: 0.9770 - val_loss: 0.0428 - val_acc: 0.9812\n",
      "Epoch 34/200\n",
      "258342/258342 [==============================] - 13s 49us/step - loss: 0.0542 - acc: 0.9773 - val_loss: 0.0470 - val_acc: 0.9820\n",
      "Epoch 35/200\n",
      "258342/258342 [==============================] - 13s 49us/step - loss: 0.0512 - acc: 0.9791 - val_loss: 0.0528 - val_acc: 0.9792\n",
      "Epoch 36/200\n",
      "258342/258342 [==============================] - 13s 49us/step - loss: 0.0509 - acc: 0.9788 - val_loss: 0.0413 - val_acc: 0.9840\n",
      "Epoch 37/200\n",
      "258342/258342 [==============================] - 13s 49us/step - loss: 0.0493 - acc: 0.9793 - val_loss: 0.0417 - val_acc: 0.9838\n",
      "Epoch 38/200\n",
      "258342/258342 [==============================] - 13s 49us/step - loss: 0.0494 - acc: 0.9794 - val_loss: 0.0472 - val_acc: 0.9800\n",
      "Epoch 39/200\n",
      "258342/258342 [==============================] - 13s 48us/step - loss: 0.0477 - acc: 0.9799 - val_loss: 0.0418 - val_acc: 0.9850\n",
      "Epoch 40/200\n",
      "258342/258342 [==============================] - 13s 49us/step - loss: 0.0475 - acc: 0.9803 - val_loss: 0.0478 - val_acc: 0.9807\n",
      "Epoch 41/200\n",
      "258342/258342 [==============================] - 13s 49us/step - loss: 0.0473 - acc: 0.9805 - val_loss: 0.0365 - val_acc: 0.9854\n",
      "Epoch 42/200\n",
      "258342/258342 [==============================] - 12s 48us/step - loss: 0.0459 - acc: 0.9810 - val_loss: 0.0480 - val_acc: 0.9807\n",
      "Epoch 43/200\n",
      "258342/258342 [==============================] - 12s 48us/step - loss: 0.0451 - acc: 0.9811 - val_loss: 0.0397 - val_acc: 0.9839\n",
      "Epoch 44/200\n",
      "258342/258342 [==============================] - 12s 48us/step - loss: 0.0449 - acc: 0.9814 - val_loss: 0.0388 - val_acc: 0.9839\n",
      "Epoch 45/200\n",
      "258342/258342 [==============================] - 12s 47us/step - loss: 0.0435 - acc: 0.9820 - val_loss: 0.0399 - val_acc: 0.9849\n",
      "Epoch 46/200\n",
      "258342/258342 [==============================] - 12s 48us/step - loss: 0.0434 - acc: 0.9819 - val_loss: 0.0385 - val_acc: 0.9836\n",
      "--- ANN spent 602.6653192043304 seconds ---\n"
     ]
    }
   ],
   "source": [
    "hist_ann36n_unisoftsigbinlosadam2 = ann_fit(checkpoint_file = \"ann36n_unisoftsigbinlosadam2_redds20bal.h5\",\n",
    "                                        ann = ann36n_unisoftsigbinlosadam2,\n",
    "                                        enc_train_x = enc_train_x_asam,\n",
    "                                        train_y = train_y,\n",
    "                                        epochs = 200,\n",
    "                                        shuffle = True,\n",
    "                                        batch_size = 66)"
   ]
  },
  {
   "cell_type": "code",
   "execution_count": 57,
   "metadata": {},
   "outputs": [
    {
     "name": "stdout",
     "output_type": "stream",
     "text": [
      "Best loss value: 0.04343031212755191\n"
     ]
    },
    {
     "data": {
      "image/png": "[encoded data removed]",
      "text/plain": [
       "<Figure size 432x288 with 1 Axes>"
      ]
     },
     "metadata": {
      "needs_background": "light"
     },
     "output_type": "display_data"
    }
   ],
   "source": [
    "best_loss_value_ann36n_unisoftsigbinlosadam2 = plot_hist_auto(hist_ann36n_unisoftsigbinlosadam2, './Figures/ann36_unisoftsigbinlosadam2.png')"
   ]
  },
  {
   "cell_type": "code",
   "execution_count": 125,
   "metadata": {},
   "outputs": [
    {
     "name": "stdout",
     "output_type": "stream",
     "text": [
      "Overall accuracy of Neural Network model: 0.9836101311982243\n",
      "              precision    recall  f1-score   support\n",
      "\n",
      "           0     0.9802    0.9874    0.9838     50813\n",
      "           1     0.9871    0.9798    0.9834     50103\n",
      "\n",
      "   micro avg     0.9836    0.9836    0.9836    100916\n",
      "   macro avg     0.9837    0.9836    0.9836    100916\n",
      "weighted avg     0.9836    0.9836    0.9836    100916\n",
      "\n"
     ]
    }
   ],
   "source": [
    "pred_ann36n_prob_unisoftsigbinlosadam, pred_ann36n_01_unisoftsigbinlosadam2 = ann_predict(ann36n_unisoftsigbinlosadam2,enc_test_x_asam)"
   ]
  },
  {
   "cell_type": "code",
   "execution_count": 59,
   "metadata": {},
   "outputs": [
    {
     "data": {
      "image/png": "[encoded data removed]",
      "text/plain": [
       "<Figure size 432x288 with 1 Axes>"
      ]
     },
     "metadata": {
      "needs_background": "light"
     },
     "output_type": "display_data"
    },
    {
     "data": {
      "image/png": "[encoded data removed]",
      "text/plain": [
       "<Figure size 576x432 with 2 Axes>"
      ]
     },
     "metadata": {
      "needs_background": "light"
     },
     "output_type": "display_data"
    }
   ],
   "source": [
    "plot_roc_cm(pred_ann36n_01_unisoftsigbinlosadam, pred_ann36n_01_unisoftsigbinlosadam, './Figures/ROC_ann36n_unisoftsigbinlosadam_redds10bal.png', './Figures/CM_ann36n_unisoftsigbinlosadam_redds10bal.png')"
   ]
  },
  {
   "cell_type": "code",
   "execution_count": null,
   "metadata": {},
   "outputs": [],
   "source": []
  },
  {
   "cell_type": "code",
   "execution_count": null,
   "metadata": {},
   "outputs": [],
   "source": []
  },
  {
   "cell_type": "raw",
   "metadata": {},
   "source": [
    "ann24n_unisoftsigbinlosadam = ann_1h_24n(neurons=66,\n",
    "                                      encoded_train_x=enc_train_x_asam,\n",
    "                                      init_mode='uniform',\n",
    "                                      activation_input='softsign',\n",
    "                                      weight_constraint=5,\n",
    "                                      dropout_rate=0.0,\n",
    "                                      activation_output='sigmoid',\n",
    "                                      loss='binary_crossentropy',\n",
    "                                      optimizer='Adam')"
   ]
  },
  {
   "cell_type": "raw",
   "metadata": {},
   "source": [
    "hist_ann24n_unisoftsigbinlosadam = ann_fit(checkpoint_file = \"ann24n_unisoftsigbinlosadam_redds20bal.h5\",\n",
    "                                        ann = ann24n_unisoftsigbinlosadam,\n",
    "                                        enc_train_x = enc_train_x_asam,\n",
    "                                        train_y = train_y,\n",
    "                                        epochs = 200,\n",
    "                                        shuffle = True,\n",
    "                                        batch_size = 66)"
   ]
  },
  {
   "cell_type": "raw",
   "metadata": {},
   "source": [
    "best_loss_value_ann24n_unisoftsigbinlosadam = plot_hist_auto(hist_ann24n_unisoftsigbinlosadam, './Figures/ann24_unisoftsigbinlosadam.png')"
   ]
  },
  {
   "cell_type": "raw",
   "metadata": {},
   "source": [
    "pred_ann24n_prob_unisoftsigbinlosadam, pred_ann24n_01_unisoftsigbinlosadam = ann_predict(ann24n_unisoftsigbinlosadam,enc_test_x_asam)"
   ]
  },
  {
   "cell_type": "raw",
   "metadata": {},
   "source": [
    "plot_roc_cm(pred_ann24n_01_unisoftsigbinlosadam, pred_ann24n_01_unisoftsigbinlosadam, './Figures/ROC_ann24n_unisoftsigbinlosadam_redds10bal.png', './Figures/CM_ann24n_unisoftsigbinlosadam_redds10bal.png')"
   ]
  },
  {
   "cell_type": "code",
   "execution_count": 65,
   "metadata": {},
   "outputs": [
    {
     "name": "stdout",
     "output_type": "stream",
     "text": [
      "_________________________________________________________________\n",
      "Layer (type)                 Output Shape              Param #   \n",
      "=================================================================\n",
      "dense_14 (Dense)             (None, 66)                2970      \n",
      "_________________________________________________________________\n",
      "dense_15 (Dense)             (None, 50)                3350      \n",
      "_________________________________________________________________\n",
      "dense_16 (Dense)             (None, 34)                1734      \n",
      "_________________________________________________________________\n",
      "batch_normalization_4 (Batch (None, 34)                136       \n",
      "_________________________________________________________________\n",
      "dropout_4 (Dropout)          (None, 34)                0         \n",
      "_________________________________________________________________\n",
      "dense_17 (Dense)             (None, 1)                 35        \n",
      "=================================================================\n",
      "Total params: 8,225\n",
      "Trainable params: 8,157\n",
      "Non-trainable params: 68\n",
      "_________________________________________________________________\n",
      "None\n"
     ]
    }
   ],
   "source": [
    "ann_2h_unisoftsigbinlosadam = ann_2h(neurons=66,\n",
    "                                      encoded_train_x=enc_train_x_asam,\n",
    "                                      init_mode='uniform',\n",
    "                                      activation_input='softsign',\n",
    "                                      weight_constraint=5,\n",
    "                                      dropout_rate=0.0,\n",
    "                                      activation_output='sigmoid',\n",
    "                                      loss='binary_crossentropy',\n",
    "                                      optimizer='Adam')"
   ]
  },
  {
   "cell_type": "code",
   "execution_count": 66,
   "metadata": {},
   "outputs": [
    {
     "name": "stdout",
     "output_type": "stream",
     "text": [
      "Sun Jun  9 18:04:59 2019\n",
      "Train on 258342 samples, validate on 64586 samples\n",
      "Epoch 1/200\n",
      "258342/258342 [==============================] - 16s 63us/step - loss: 0.3004 - acc: 0.8613 - val_loss: 0.1651 - val_acc: 0.9338\n",
      "Epoch 2/200\n",
      "258342/258342 [==============================] - 16s 60us/step - loss: 0.1453 - acc: 0.9382 - val_loss: 0.1356 - val_acc: 0.9434\n",
      "Epoch 3/200\n",
      "258342/258342 [==============================] - 15s 60us/step - loss: 0.1147 - acc: 0.9513 - val_loss: 0.1009 - val_acc: 0.9579\n",
      "Epoch 4/200\n",
      "258342/258342 [==============================] - 16s 60us/step - loss: 0.0994 - acc: 0.9575 - val_loss: 0.0796 - val_acc: 0.9632\n",
      "Epoch 5/200\n",
      "258342/258342 [==============================] - 15s 60us/step - loss: 0.0894 - acc: 0.9616 - val_loss: 0.0757 - val_acc: 0.9679\n",
      "Epoch 6/200\n",
      "258342/258342 [==============================] - 15s 59us/step - loss: 0.0823 - acc: 0.9646 - val_loss: 0.0820 - val_acc: 0.9639\n",
      "Epoch 7/200\n",
      "258342/258342 [==============================] - 15s 59us/step - loss: 0.0757 - acc: 0.9672 - val_loss: 0.0578 - val_acc: 0.9752\n",
      "Epoch 8/200\n",
      "258342/258342 [==============================] - 15s 59us/step - loss: 0.0715 - acc: 0.9689 - val_loss: 0.0728 - val_acc: 0.9646\n",
      "Epoch 9/200\n",
      "258342/258342 [==============================] - 15s 59us/step - loss: 0.0672 - acc: 0.9711 - val_loss: 0.0617 - val_acc: 0.9727\n",
      "Epoch 10/200\n",
      "258342/258342 [==============================] - 15s 59us/step - loss: 0.0634 - acc: 0.9728 - val_loss: 0.0601 - val_acc: 0.9744\n",
      "Epoch 11/200\n",
      "258342/258342 [==============================] - 15s 59us/step - loss: 0.0600 - acc: 0.9745 - val_loss: 0.0521 - val_acc: 0.9771\n",
      "Epoch 12/200\n",
      "258342/258342 [==============================] - 15s 59us/step - loss: 0.0574 - acc: 0.9756 - val_loss: 0.0498 - val_acc: 0.9787\n",
      "Epoch 13/200\n",
      "258342/258342 [==============================] - 15s 58us/step - loss: 0.0551 - acc: 0.9767 - val_loss: 0.0546 - val_acc: 0.9755\n",
      "Epoch 14/200\n",
      "258342/258342 [==============================] - 15s 58us/step - loss: 0.0523 - acc: 0.9780 - val_loss: 0.0488 - val_acc: 0.9794\n",
      "Epoch 15/200\n",
      "258342/258342 [==============================] - 15s 58us/step - loss: 0.0500 - acc: 0.9786 - val_loss: 0.0533 - val_acc: 0.9789\n",
      "Epoch 16/200\n",
      "258342/258342 [==============================] - 15s 57us/step - loss: 0.0480 - acc: 0.9797 - val_loss: 0.0413 - val_acc: 0.9840\n",
      "Epoch 17/200\n",
      "258342/258342 [==============================] - 15s 57us/step - loss: 0.0464 - acc: 0.9806 - val_loss: 0.0440 - val_acc: 0.9815\n",
      "Epoch 18/200\n",
      "258342/258342 [==============================] - 15s 57us/step - loss: 0.0443 - acc: 0.9815 - val_loss: 0.0391 - val_acc: 0.9842\n",
      "Epoch 19/200\n",
      "258342/258342 [==============================] - 15s 57us/step - loss: 0.0435 - acc: 0.9821 - val_loss: 0.0349 - val_acc: 0.9869\n",
      "Epoch 20/200\n",
      "258342/258342 [==============================] - 15s 57us/step - loss: 0.0425 - acc: 0.9822 - val_loss: 0.0350 - val_acc: 0.9852\n",
      "Epoch 21/200\n",
      "258342/258342 [==============================] - 15s 56us/step - loss: 0.0403 - acc: 0.9833 - val_loss: 0.0359 - val_acc: 0.9839\n",
      "Epoch 22/200\n",
      "258342/258342 [==============================] - 15s 56us/step - loss: 0.0405 - acc: 0.9831 - val_loss: 0.0346 - val_acc: 0.9853\n",
      "Epoch 23/200\n",
      "258342/258342 [==============================] - 14s 56us/step - loss: 0.0389 - acc: 0.9840 - val_loss: 0.0351 - val_acc: 0.9844\n",
      "Epoch 24/200\n",
      "258342/258342 [==============================] - 15s 56us/step - loss: 0.0376 - acc: 0.9845 - val_loss: 0.0318 - val_acc: 0.9877\n",
      "Epoch 25/200\n",
      "258342/258342 [==============================] - 14s 56us/step - loss: 0.0372 - acc: 0.9848 - val_loss: 0.0441 - val_acc: 0.9824\n",
      "Epoch 26/200\n",
      "258342/258342 [==============================] - 14s 56us/step - loss: 0.0356 - acc: 0.9853 - val_loss: 0.0325 - val_acc: 0.9850\n",
      "Epoch 27/200\n",
      "258342/258342 [==============================] - 14s 55us/step - loss: 0.0343 - acc: 0.9857 - val_loss: 0.0291 - val_acc: 0.9874\n",
      "Epoch 28/200\n",
      "258342/258342 [==============================] - 14s 55us/step - loss: 0.0343 - acc: 0.9857 - val_loss: 0.0295 - val_acc: 0.9874\n",
      "Epoch 29/200\n",
      "258342/258342 [==============================] - 14s 55us/step - loss: 0.0331 - acc: 0.9862 - val_loss: 0.0289 - val_acc: 0.9877\n",
      "Epoch 30/200\n",
      "258342/258342 [==============================] - 14s 55us/step - loss: 0.0327 - acc: 0.9865 - val_loss: 0.0275 - val_acc: 0.9889\n",
      "Epoch 31/200\n",
      "258342/258342 [==============================] - 14s 55us/step - loss: 0.0318 - acc: 0.9869 - val_loss: 0.0313 - val_acc: 0.9886\n",
      "Epoch 32/200\n",
      "258342/258342 [==============================] - 14s 55us/step - loss: 0.0313 - acc: 0.9872 - val_loss: 0.0328 - val_acc: 0.9870\n",
      "Epoch 33/200\n",
      "258342/258342 [==============================] - 14s 55us/step - loss: 0.0305 - acc: 0.9877 - val_loss: 0.0266 - val_acc: 0.9900\n",
      "Epoch 34/200\n",
      "258342/258342 [==============================] - 14s 55us/step - loss: 0.0305 - acc: 0.9873 - val_loss: 0.0264 - val_acc: 0.9895\n",
      "Epoch 35/200\n",
      "258342/258342 [==============================] - 14s 55us/step - loss: 0.0301 - acc: 0.9875 - val_loss: 0.0298 - val_acc: 0.9868\n",
      "Epoch 36/200\n",
      "258342/258342 [==============================] - 14s 55us/step - loss: 0.0283 - acc: 0.9884 - val_loss: 0.0259 - val_acc: 0.9887\n",
      "Epoch 37/200\n",
      "258342/258342 [==============================] - 14s 55us/step - loss: 0.0284 - acc: 0.9883 - val_loss: 0.0255 - val_acc: 0.9892\n",
      "Epoch 38/200\n",
      "258342/258342 [==============================] - 14s 55us/step - loss: 0.0277 - acc: 0.9890 - val_loss: 0.0229 - val_acc: 0.9899\n",
      "Epoch 39/200\n",
      "258342/258342 [==============================] - 14s 54us/step - loss: 0.0273 - acc: 0.9887 - val_loss: 0.0239 - val_acc: 0.9909\n",
      "Epoch 40/200\n",
      "258342/258342 [==============================] - 14s 54us/step - loss: 0.0270 - acc: 0.9890 - val_loss: 0.0306 - val_acc: 0.9881\n",
      "Epoch 41/200\n",
      "258342/258342 [==============================] - 14s 54us/step - loss: 0.0266 - acc: 0.9893 - val_loss: 0.0253 - val_acc: 0.9899\n",
      "Epoch 42/200\n",
      "258342/258342 [==============================] - 14s 54us/step - loss: 0.0265 - acc: 0.9894 - val_loss: 0.0224 - val_acc: 0.9915\n",
      "Epoch 43/200\n",
      "258342/258342 [==============================] - 14s 54us/step - loss: 0.0265 - acc: 0.9892 - val_loss: 0.0263 - val_acc: 0.9904\n",
      "Epoch 44/200\n",
      "258342/258342 [==============================] - 14s 54us/step - loss: 0.0241 - acc: 0.9902 - val_loss: 0.0259 - val_acc: 0.9903\n",
      "Epoch 45/200\n",
      "258342/258342 [==============================] - 14s 54us/step - loss: 0.0255 - acc: 0.9898 - val_loss: 0.0210 - val_acc: 0.9918\n",
      "Epoch 46/200\n",
      "258342/258342 [==============================] - 14s 54us/step - loss: 0.0249 - acc: 0.9898 - val_loss: 0.0196 - val_acc: 0.9924\n",
      "Epoch 47/200\n",
      "258342/258342 [==============================] - 14s 54us/step - loss: 0.0234 - acc: 0.9906 - val_loss: 0.0234 - val_acc: 0.9912\n",
      "Epoch 48/200\n",
      "258342/258342 [==============================] - 14s 54us/step - loss: 0.0244 - acc: 0.9901 - val_loss: 0.0220 - val_acc: 0.9911\n",
      "Epoch 49/200\n",
      "258342/258342 [==============================] - 14s 54us/step - loss: 0.0236 - acc: 0.9904 - val_loss: 0.0217 - val_acc: 0.9922\n",
      "Epoch 50/200\n",
      "258342/258342 [==============================] - 14s 54us/step - loss: 0.0238 - acc: 0.9904 - val_loss: 0.0271 - val_acc: 0.9896\n",
      "Epoch 51/200\n",
      "258342/258342 [==============================] - 14s 54us/step - loss: 0.0229 - acc: 0.9906 - val_loss: 0.0190 - val_acc: 0.9920\n",
      "Epoch 52/200\n",
      "258342/258342 [==============================] - 14s 54us/step - loss: 0.0229 - acc: 0.9905 - val_loss: 0.0248 - val_acc: 0.9893\n",
      "Epoch 53/200\n",
      "258342/258342 [==============================] - 14s 54us/step - loss: 0.0222 - acc: 0.9909 - val_loss: 0.0207 - val_acc: 0.9916\n",
      "Epoch 54/200\n",
      "258342/258342 [==============================] - 14s 54us/step - loss: 0.0226 - acc: 0.9908 - val_loss: 0.0206 - val_acc: 0.9912\n",
      "Epoch 55/200\n",
      "258342/258342 [==============================] - 14s 54us/step - loss: 0.0217 - acc: 0.9912 - val_loss: 0.0274 - val_acc: 0.9909\n",
      "Epoch 56/200\n",
      "258342/258342 [==============================] - 14s 54us/step - loss: 0.0223 - acc: 0.9910 - val_loss: 0.0205 - val_acc: 0.9921\n",
      "--- ANN spent 811.8460967540741 seconds ---\n"
     ]
    }
   ],
   "source": [
    "hist_ann_2h_unisoftsigbinlosadam = ann_fit(checkpoint_file = \"ann_2h_unisoftsigbinlosadam_redds20bal.h5\",\n",
    "                                        ann = ann_2h_unisoftsigbinlosadam,\n",
    "                                        enc_train_x = enc_train_x_asam,\n",
    "                                        train_y = train_y,\n",
    "                                        epochs = 200,\n",
    "                                        shuffle = True,\n",
    "                                        batch_size = 66)"
   ]
  },
  {
   "cell_type": "code",
   "execution_count": 67,
   "metadata": {},
   "outputs": [],
   "source": [
    "# hist_ann_2h_unisoftsigbinlosadam.model.get_weights()"
   ]
  },
  {
   "cell_type": "code",
   "execution_count": 68,
   "metadata": {},
   "outputs": [
    {
     "name": "stdout",
     "output_type": "stream",
     "text": [
      "Best loss value: 0.02233836304477448\n"
     ]
    },
    {
     "data": {
      "image/png": "[encoded data removed]",
      "text/plain": [
       "<Figure size 432x288 with 1 Axes>"
      ]
     },
     "metadata": {
      "needs_background": "light"
     },
     "output_type": "display_data"
    }
   ],
   "source": [
    "best_loss_value_ann_2h_unisoftsigbinlosadam = plot_hist_auto(hist_ann_2h_unisoftsigbinlosadam, './Figures/ann_2h_unisoftsigbinlosadam.png')"
   ]
  },
  {
   "cell_type": "code",
   "execution_count": 124,
   "metadata": {},
   "outputs": [
    {
     "name": "stdout",
     "output_type": "stream",
     "text": [
      "Overall accuracy of Neural Network model: 0.9916068809703119\n",
      "              precision    recall  f1-score   support\n",
      "\n",
      "           0     0.9956    0.9877    0.9916     50813\n",
      "           1     0.9876    0.9956    0.9916     50103\n",
      "\n",
      "   micro avg     0.9916    0.9916    0.9916    100916\n",
      "   macro avg     0.9916    0.9916    0.9916    100916\n",
      "weighted avg     0.9916    0.9916    0.9916    100916\n",
      "\n"
     ]
    }
   ],
   "source": [
    "pred_ann_2h_prob_unisoftsigbinlosadam, pred_ann_2h_01_unisoftsigbinlosadam = ann_predict(ann_2h_unisoftsigbinlosadam,enc_test_x_asam)"
   ]
  },
  {
   "cell_type": "code",
   "execution_count": 70,
   "metadata": {},
   "outputs": [
    {
     "data": {
      "image/png": "[encoded data removed]",
      "text/plain": [
       "<Figure size 432x288 with 1 Axes>"
      ]
     },
     "metadata": {
      "needs_background": "light"
     },
     "output_type": "display_data"
    },
    {
     "data": {
      "image/png": "[encoded data removed]",
      "text/plain": [
       "<Figure size 576x432 with 2 Axes>"
      ]
     },
     "metadata": {
      "needs_background": "light"
     },
     "output_type": "display_data"
    }
   ],
   "source": [
    "plot_roc_cm(pred_ann_2h_01_unisoftsigbinlosadam, pred_ann_2h_01_unisoftsigbinlosadam, './Figures/ROC_ann_2h_unisoftsigbinlosadam_redds10bal.png', './Figures/CM_ann_2h_unisoftsigbinlosadam_redds10bal.png')"
   ]
  },
  {
   "cell_type": "code",
   "execution_count": null,
   "metadata": {},
   "outputs": [],
   "source": []
  },
  {
   "cell_type": "code",
   "execution_count": null,
   "metadata": {},
   "outputs": [],
   "source": []
  },
  {
   "cell_type": "code",
   "execution_count": 71,
   "metadata": {},
   "outputs": [
    {
     "name": "stdout",
     "output_type": "stream",
     "text": [
      "_________________________________________________________________\n",
      "Layer (type)                 Output Shape              Param #   \n",
      "=================================================================\n",
      "dense_18 (Dense)             (None, 66)                2970      \n",
      "_________________________________________________________________\n",
      "dense_19 (Dense)             (None, 50)                3350      \n",
      "_________________________________________________________________\n",
      "dense_20 (Dense)             (None, 34)                1734      \n",
      "_________________________________________________________________\n",
      "batch_normalization_5 (Batch (None, 34)                136       \n",
      "_________________________________________________________________\n",
      "dropout_5 (Dropout)          (None, 34)                0         \n",
      "_________________________________________________________________\n",
      "dense_21 (Dense)             (None, 1)                 35        \n",
      "=================================================================\n",
      "Total params: 8,225\n",
      "Trainable params: 8,157\n",
      "Non-trainable params: 68\n",
      "_________________________________________________________________\n",
      "None\n"
     ]
    }
   ],
   "source": [
    "ann_2h_unisoftsigbinlosadam2 = ann_2h_(neurons=66,\n",
    "                                      encoded_train_x=enc_train_x_asal,\n",
    "#                                       init_mode='glorot_uniform',\n",
    "                                       init_mode='VarianceScaling',\n",
    "#                                       activation_input='softsign',\n",
    "                                      activation_input='relu',\n",
    "#                                       weight_constraint=5,\n",
    "                                      dropout_rate=0.0,\n",
    "                                      activation_output='sigmoid',\n",
    "                                      loss='binary_crossentropy',\n",
    "                                      lr=0.05)"
   ]
  },
  {
   "cell_type": "code",
   "execution_count": 72,
   "metadata": {},
   "outputs": [
    {
     "name": "stdout",
     "output_type": "stream",
     "text": [
      "Sun Jun  9 18:18:34 2019\n",
      "Train on 258342 samples, validate on 64586 samples\n",
      "Epoch 1/200\n",
      "258342/258342 [==============================] - 16s 62us/step - loss: 0.3307 - acc: 0.8452 - val_loss: 0.2036 - val_acc: 0.9189\n",
      "Epoch 2/200\n",
      "258342/258342 [==============================] - 15s 59us/step - loss: 0.1917 - acc: 0.9174 - val_loss: 0.3866 - val_acc: 0.8756\n",
      "Epoch 3/200\n",
      "258342/258342 [==============================] - 15s 59us/step - loss: 0.1552 - acc: 0.9329 - val_loss: 0.1216 - val_acc: 0.9477\n",
      "Epoch 4/200\n",
      "258342/258342 [==============================] - 15s 58us/step - loss: 0.1343 - acc: 0.9427 - val_loss: 0.1168 - val_acc: 0.9487\n",
      "Epoch 5/200\n",
      "258342/258342 [==============================] - 15s 59us/step - loss: 0.1195 - acc: 0.9488 - val_loss: 0.1500 - val_acc: 0.9331\n",
      "Epoch 6/200\n",
      "258342/258342 [==============================] - 15s 59us/step - loss: 0.1123 - acc: 0.9529 - val_loss: 0.1045 - val_acc: 0.9577\n",
      "Epoch 7/200\n",
      "258342/258342 [==============================] - 15s 58us/step - loss: 0.1039 - acc: 0.9553 - val_loss: 0.0923 - val_acc: 0.9568\n",
      "Epoch 8/200\n",
      "258342/258342 [==============================] - 15s 58us/step - loss: 0.1054 - acc: 0.9547 - val_loss: 0.1110 - val_acc: 0.9510\n",
      "Epoch 9/200\n",
      "258342/258342 [==============================] - 15s 58us/step - loss: 0.0990 - acc: 0.9580 - val_loss: 0.0859 - val_acc: 0.9667\n",
      "Epoch 10/200\n",
      "258342/258342 [==============================] - 15s 57us/step - loss: 0.0902 - acc: 0.9620 - val_loss: 0.0832 - val_acc: 0.9630\n",
      "Epoch 11/200\n",
      "258342/258342 [==============================] - 15s 58us/step - loss: 0.0873 - acc: 0.9629 - val_loss: 0.0818 - val_acc: 0.9669\n",
      "Epoch 12/200\n",
      "258342/258342 [==============================] - 15s 57us/step - loss: 0.0828 - acc: 0.9652 - val_loss: 0.0642 - val_acc: 0.9730\n",
      "Epoch 13/200\n",
      "258342/258342 [==============================] - 15s 57us/step - loss: 0.0808 - acc: 0.9663 - val_loss: 0.0835 - val_acc: 0.9652\n",
      "Epoch 14/200\n",
      "258342/258342 [==============================] - 15s 57us/step - loss: 0.0781 - acc: 0.9677 - val_loss: 0.0662 - val_acc: 0.9702\n",
      "Epoch 15/200\n",
      "258342/258342 [==============================] - 15s 56us/step - loss: 0.0768 - acc: 0.9678 - val_loss: 0.0708 - val_acc: 0.9689\n",
      "Epoch 16/200\n",
      "258342/258342 [==============================] - 15s 56us/step - loss: 0.0740 - acc: 0.9694 - val_loss: 0.0607 - val_acc: 0.9752\n",
      "Epoch 17/200\n",
      "258342/258342 [==============================] - 15s 56us/step - loss: 0.0701 - acc: 0.9713 - val_loss: 0.0932 - val_acc: 0.9604\n",
      "Epoch 18/200\n",
      "258342/258342 [==============================] - 15s 56us/step - loss: 0.0699 - acc: 0.9715 - val_loss: 0.0684 - val_acc: 0.9731\n",
      "Epoch 19/200\n",
      "258342/258342 [==============================] - 14s 56us/step - loss: 0.0662 - acc: 0.9724 - val_loss: 0.0553 - val_acc: 0.9768\n",
      "Epoch 20/200\n",
      "258342/258342 [==============================] - 14s 56us/step - loss: 0.0661 - acc: 0.9729 - val_loss: 0.0550 - val_acc: 0.9778\n",
      "Epoch 21/200\n",
      "258342/258342 [==============================] - 14s 56us/step - loss: 0.0647 - acc: 0.9733 - val_loss: 0.0644 - val_acc: 0.9733\n",
      "Epoch 22/200\n",
      "258342/258342 [==============================] - 14s 55us/step - loss: 0.0639 - acc: 0.9736 - val_loss: 0.0704 - val_acc: 0.9737\n",
      "Epoch 23/200\n",
      "258342/258342 [==============================] - 14s 55us/step - loss: 0.0625 - acc: 0.9746 - val_loss: 0.0554 - val_acc: 0.9788\n",
      "Epoch 24/200\n",
      "258342/258342 [==============================] - 14s 55us/step - loss: 0.0611 - acc: 0.9748 - val_loss: 0.0608 - val_acc: 0.9766\n",
      "Epoch 25/200\n",
      "258342/258342 [==============================] - 14s 54us/step - loss: 0.0601 - acc: 0.9756 - val_loss: 0.0553 - val_acc: 0.9777\n",
      "--- ANN spent 369.3155093193054 seconds ---\n"
     ]
    }
   ],
   "source": [
    "hist_ann_2h_unisoftsigbinlosadam2 = ann_fit(checkpoint_file = \"ann_2h_unisoftsigbinlosadam2_redds20bal.h5\",\n",
    "                                        ann = ann_2h_unisoftsigbinlosadam2,\n",
    "                                        enc_train_x = enc_train_x_asal,\n",
    "                                        train_y = train_y,\n",
    "                                        epochs = 200,\n",
    "                                        shuffle = True,\n",
    "                                        batch_size = 66)"
   ]
  },
  {
   "cell_type": "code",
   "execution_count": 73,
   "metadata": {},
   "outputs": [
    {
     "name": "stdout",
     "output_type": "stream",
     "text": [
      "Best loss value: 0.06010033188310186\n"
     ]
    },
    {
     "data": {
      "image/png": "[encoded data removed]",
      "text/plain": [
       "<Figure size 432x288 with 1 Axes>"
      ]
     },
     "metadata": {
      "needs_background": "light"
     },
     "output_type": "display_data"
    }
   ],
   "source": [
    "best_loss_value_ann_2h_unisoftsigbinlosadam2 = plot_hist_auto(hist_ann_2h_unisoftsigbinlosadam2, './Figures/ann_2h_unisoftsigbinlosadam2.png')"
   ]
  },
  {
   "cell_type": "code",
   "execution_count": 132,
   "metadata": {},
   "outputs": [
    {
     "name": "stdout",
     "output_type": "stream",
     "text": [
      "Overall accuracy of Neural Network model: 0.4792897062903801\n",
      "              precision    recall  f1-score   support\n",
      "\n",
      "           0     0.4878    0.6831    0.5692     50813\n",
      "           1     0.4589    0.2726    0.3420     50103\n",
      "\n",
      "   micro avg     0.4793    0.4793    0.4793    100916\n",
      "   macro avg     0.4734    0.4778    0.4556    100916\n",
      "weighted avg     0.4735    0.4793    0.4564    100916\n",
      "\n"
     ]
    }
   ],
   "source": [
    "pred_ann_2h_prob_unisoftsigbinlosadam2, pred_ann_2h_01_unisoftsigbinlosadam2 = ann_predict(ann_2h_unisoftsigbinlosadam2,enc_test_x_asal)"
   ]
  },
  {
   "cell_type": "code",
   "execution_count": 75,
   "metadata": {},
   "outputs": [
    {
     "data": {
      "image/png": "[encoded data removed]",
      "text/plain": [
       "<Figure size 432x288 with 1 Axes>"
      ]
     },
     "metadata": {
      "needs_background": "light"
     },
     "output_type": "display_data"
    },
    {
     "data": {
      "image/png": "[encoded data removed]",
      "text/plain": [
       "<Figure size 576x432 with 2 Axes>"
      ]
     },
     "metadata": {
      "needs_background": "light"
     },
     "output_type": "display_data"
    }
   ],
   "source": [
    "plot_roc_cm(pred_ann_2h_01_unisoftsigbinlosadam2, pred_ann_2h_01_unisoftsigbinlosadam2, './Figures/ROC_ann_2h_unisoftsigbinlosadam2_redds10bal.png', './Figures/CM_ann_2h_unisoftsigbinlosadam2_redds10bal.png')"
   ]
  },
  {
   "cell_type": "code",
   "execution_count": null,
   "metadata": {},
   "outputs": [],
   "source": []
  },
  {
   "cell_type": "code",
   "execution_count": null,
   "metadata": {},
   "outputs": [],
   "source": []
  },
  {
   "cell_type": "code",
   "execution_count": 76,
   "metadata": {},
   "outputs": [
    {
     "name": "stdout",
     "output_type": "stream",
     "text": [
      "_________________________________________________________________\n",
      "Layer (type)                 Output Shape              Param #   \n",
      "=================================================================\n",
      "dense_22 (Dense)             (None, 66)                2970      \n",
      "_________________________________________________________________\n",
      "dense_23 (Dense)             (None, 50)                3350      \n",
      "_________________________________________________________________\n",
      "dense_24 (Dense)             (None, 34)                1734      \n",
      "_________________________________________________________________\n",
      "batch_normalization_6 (Batch (None, 34)                136       \n",
      "_________________________________________________________________\n",
      "dropout_6 (Dropout)          (None, 34)                0         \n",
      "_________________________________________________________________\n",
      "dense_25 (Dense)             (None, 1)                 35        \n",
      "=================================================================\n",
      "Total params: 8,225\n",
      "Trainable params: 8,157\n",
      "Non-trainable params: 68\n",
      "_________________________________________________________________\n",
      "None\n"
     ]
    }
   ],
   "source": [
    "ann_2h_unisoftsigbinlosadam3 = ann_2h(neurons=66,\n",
    "                                      encoded_train_x=enc_train_x_asam,\n",
    "                                      init_mode='uniform',\n",
    "                                      activation_input='relu',\n",
    "                                      weight_constraint=5,\n",
    "                                      dropout_rate=0.0,\n",
    "                                      activation_output='sigmoid',\n",
    "                                      loss='binary_crossentropy',\n",
    "                                      optimizer='Adam')"
   ]
  },
  {
   "cell_type": "code",
   "execution_count": 77,
   "metadata": {},
   "outputs": [
    {
     "name": "stdout",
     "output_type": "stream",
     "text": [
      "Sun Jun  9 18:24:46 2019\n",
      "Train on 258342 samples, validate on 64586 samples\n",
      "Epoch 1/200\n",
      "258342/258342 [==============================] - 16s 64us/step - loss: 0.2493 - acc: 0.8870 - val_loss: 0.1350 - val_acc: 0.9392\n",
      "Epoch 2/200\n",
      "258342/258342 [==============================] - 16s 61us/step - loss: 0.1268 - acc: 0.9452 - val_loss: 0.0976 - val_acc: 0.9570\n",
      "Epoch 3/200\n",
      "258342/258342 [==============================] - 16s 61us/step - loss: 0.1012 - acc: 0.9557 - val_loss: 0.0824 - val_acc: 0.9653\n",
      "Epoch 4/200\n",
      "258342/258342 [==============================] - 16s 61us/step - loss: 0.0866 - acc: 0.9616 - val_loss: 0.0782 - val_acc: 0.9661\n",
      "Epoch 5/200\n",
      "258342/258342 [==============================] - 16s 60us/step - loss: 0.0757 - acc: 0.9667 - val_loss: 0.0765 - val_acc: 0.9678\n",
      "Epoch 6/200\n",
      "258342/258342 [==============================] - 15s 60us/step - loss: 0.0676 - acc: 0.9707 - val_loss: 0.0657 - val_acc: 0.9717\n",
      "Epoch 7/200\n",
      "258342/258342 [==============================] - 16s 60us/step - loss: 0.0626 - acc: 0.9730 - val_loss: 0.0698 - val_acc: 0.9734\n",
      "Epoch 8/200\n",
      "258342/258342 [==============================] - 15s 60us/step - loss: 0.0583 - acc: 0.9750 - val_loss: 0.0577 - val_acc: 0.9767\n",
      "Epoch 9/200\n",
      "258342/258342 [==============================] - 15s 59us/step - loss: 0.0536 - acc: 0.9769 - val_loss: 0.0429 - val_acc: 0.9829\n",
      "Epoch 10/200\n",
      "258342/258342 [==============================] - 16s 64us/step - loss: 0.0506 - acc: 0.9786 - val_loss: 0.0620 - val_acc: 0.9756\n",
      "Epoch 11/200\n",
      "258342/258342 [==============================] - 17s 65us/step - loss: 0.0482 - acc: 0.9794 - val_loss: 0.0386 - val_acc: 0.9831\n",
      "Epoch 12/200\n",
      "258342/258342 [==============================] - 15s 59us/step - loss: 0.0461 - acc: 0.9803 - val_loss: 0.0522 - val_acc: 0.9778\n",
      "Epoch 13/200\n",
      "258342/258342 [==============================] - 15s 59us/step - loss: 0.0436 - acc: 0.9816 - val_loss: 0.0508 - val_acc: 0.9793\n",
      "Epoch 14/200\n",
      "258342/258342 [==============================] - 15s 58us/step - loss: 0.0416 - acc: 0.9824 - val_loss: 0.0469 - val_acc: 0.9809\n",
      "Epoch 15/200\n",
      "258342/258342 [==============================] - 16s 60us/step - loss: 0.0406 - acc: 0.9829 - val_loss: 0.0412 - val_acc: 0.9831\n",
      "Epoch 16/200\n",
      "258342/258342 [==============================] - 15s 58us/step - loss: 0.0381 - acc: 0.9840 - val_loss: 0.0382 - val_acc: 0.9841\n",
      "Epoch 17/200\n",
      "258342/258342 [==============================] - 16s 62us/step - loss: 0.0370 - acc: 0.9845 - val_loss: 0.0362 - val_acc: 0.9839\n",
      "Epoch 18/200\n",
      "258342/258342 [==============================] - 15s 58us/step - loss: 0.0356 - acc: 0.9854 - val_loss: 0.0325 - val_acc: 0.9857\n",
      "Epoch 19/200\n",
      "258342/258342 [==============================] - 15s 58us/step - loss: 0.0342 - acc: 0.9857 - val_loss: 0.0268 - val_acc: 0.9884\n",
      "Epoch 20/200\n",
      "258342/258342 [==============================] - 14s 56us/step - loss: 0.0330 - acc: 0.9861 - val_loss: 0.0299 - val_acc: 0.9886\n",
      "Epoch 21/200\n",
      "258342/258342 [==============================] - 14s 56us/step - loss: 0.0330 - acc: 0.9864 - val_loss: 0.0313 - val_acc: 0.9870\n",
      "Epoch 22/200\n",
      "258342/258342 [==============================] - 14s 56us/step - loss: 0.0323 - acc: 0.9864 - val_loss: 0.0276 - val_acc: 0.9894\n",
      "Epoch 23/200\n",
      "258342/258342 [==============================] - 14s 56us/step - loss: 0.0307 - acc: 0.9872 - val_loss: 0.0420 - val_acc: 0.9867\n",
      "Epoch 24/200\n",
      "258342/258342 [==============================] - 14s 56us/step - loss: 0.0301 - acc: 0.9876 - val_loss: 0.0288 - val_acc: 0.9875\n",
      "--- ANN spent 368.3335909843445 seconds ---\n"
     ]
    }
   ],
   "source": [
    "hist_ann_2h_unisoftsigbinlosadam3 = ann_fit(checkpoint_file = \"ann_2h_unisoftsigbinlosadam3_redds20bal.h5\",\n",
    "                                        ann = ann_2h_unisoftsigbinlosadam3,\n",
    "                                        enc_train_x = enc_train_x_asam,\n",
    "                                        train_y = train_y,\n",
    "                                        epochs = 200,\n",
    "                                        shuffle = True,\n",
    "                                        batch_size = 66)"
   ]
  },
  {
   "cell_type": "code",
   "execution_count": 78,
   "metadata": {},
   "outputs": [],
   "source": [
    "# hist_ann_2h_unisoftsigbinlosadam.model.get_weights()"
   ]
  },
  {
   "cell_type": "code",
   "execution_count": 79,
   "metadata": {},
   "outputs": [
    {
     "name": "stdout",
     "output_type": "stream",
     "text": [
      "Best loss value: 0.03006593302809917\n"
     ]
    },
    {
     "data": {
      "image/png": "[encoded data removed]",
      "text/plain": [
       "<Figure size 432x288 with 1 Axes>"
      ]
     },
     "metadata": {
      "needs_background": "light"
     },
     "output_type": "display_data"
    }
   ],
   "source": [
    "best_loss_value_ann_2h_unisoftsigbinlosadam3 = plot_hist_auto(hist_ann_2h_unisoftsigbinlosadam3, './Figures/ann_2h_unisoftsigbinlosadam3.png')"
   ]
  },
  {
   "cell_type": "code",
   "execution_count": 131,
   "metadata": {},
   "outputs": [
    {
     "name": "stdout",
     "output_type": "stream",
     "text": [
      "Overall accuracy of Neural Network model: 0.9873459114511078\n",
      "              precision    recall  f1-score   support\n",
      "\n",
      "           0     0.9870    0.9879    0.9874     50813\n",
      "           1     0.9877    0.9868    0.9873     50103\n",
      "\n",
      "   micro avg     0.9873    0.9873    0.9873    100916\n",
      "   macro avg     0.9873    0.9873    0.9873    100916\n",
      "weighted avg     0.9873    0.9873    0.9873    100916\n",
      "\n"
     ]
    }
   ],
   "source": [
    "pred_ann_2h_prob_unisoftsigbinlosadam3, pred_ann_2h_01_unisoftsigbinlosadam3 = ann_predict(ann_2h_unisoftsigbinlosadam3,enc_test_x_asam)"
   ]
  },
  {
   "cell_type": "code",
   "execution_count": 81,
   "metadata": {},
   "outputs": [
    {
     "data": {
      "image/png": "[encoded data removed]",
      "text/plain": [
       "<Figure size 432x288 with 1 Axes>"
      ]
     },
     "metadata": {
      "needs_background": "light"
     },
     "output_type": "display_data"
    },
    {
     "data": {
      "image/png": "[encoded data removed]",
      "text/plain": [
       "<Figure size 576x432 with 2 Axes>"
      ]
     },
     "metadata": {
      "needs_background": "light"
     },
     "output_type": "display_data"
    }
   ],
   "source": [
    "plot_roc_cm(pred_ann_2h_01_unisoftsigbinlosadam3, pred_ann_2h_01_unisoftsigbinlosadam3, './Figures/ROC_ann_2h_unisoftsigbinlosadam3_redds10bal.png', './Figures/CM_ann_2h_unisoftsigbinlosadam3_redds10bal.png')"
   ]
  },
  {
   "cell_type": "markdown",
   "metadata": {},
   "source": [
    "#### >>>>>>>>>>>>>>>>>>>"
   ]
  },
  {
   "cell_type": "code",
   "execution_count": 82,
   "metadata": {},
   "outputs": [
    {
     "name": "stdout",
     "output_type": "stream",
     "text": [
      "_________________________________________________________________\n",
      "Layer (type)                 Output Shape              Param #   \n",
      "=================================================================\n",
      "dense_26 (Dense)             (None, 66)                2970      \n",
      "_________________________________________________________________\n",
      "dense_27 (Dense)             (None, 50)                3350      \n",
      "_________________________________________________________________\n",
      "dense_28 (Dense)             (None, 34)                1734      \n",
      "_________________________________________________________________\n",
      "batch_normalization_7 (Batch (None, 34)                136       \n",
      "_________________________________________________________________\n",
      "dropout_7 (Dropout)          (None, 34)                0         \n",
      "_________________________________________________________________\n",
      "dense_29 (Dense)             (None, 1)                 35        \n",
      "=================================================================\n",
      "Total params: 8,225\n",
      "Trainable params: 8,157\n",
      "Non-trainable params: 68\n",
      "_________________________________________________________________\n",
      "None\n"
     ]
    }
   ],
   "source": [
    "ann_2h_unisoftsigbinlosadam4 = ann_2h(neurons=66,\n",
    "                                      encoded_train_x=enc_train_x_asal,\n",
    "                                      init_mode='uniform',\n",
    "                                      activation_input='relu',\n",
    "                                      weight_constraint=5,\n",
    "                                      dropout_rate=0.0,\n",
    "                                      activation_output='sigmoid',\n",
    "                                      loss='binary_crossentropy',\n",
    "                                      optimizer='Adam')"
   ]
  },
  {
   "cell_type": "code",
   "execution_count": 83,
   "metadata": {},
   "outputs": [
    {
     "name": "stdout",
     "output_type": "stream",
     "text": [
      "Sun Jun  9 18:30:58 2019\n",
      "Train on 258342 samples, validate on 64586 samples\n",
      "Epoch 1/200\n",
      "258342/258342 [==============================] - 17s 65us/step - loss: 0.2639 - acc: 0.8787 - val_loss: 0.1499 - val_acc: 0.9369\n",
      "Epoch 2/200\n",
      "258342/258342 [==============================] - 16s 61us/step - loss: 0.1394 - acc: 0.9387 - val_loss: 0.1161 - val_acc: 0.9512\n",
      "Epoch 3/200\n",
      "258342/258342 [==============================] - 16s 62us/step - loss: 0.1118 - acc: 0.9500 - val_loss: 0.1043 - val_acc: 0.9551\n",
      "Epoch 4/200\n",
      "258342/258342 [==============================] - 16s 62us/step - loss: 0.0980 - acc: 0.9555 - val_loss: 0.0809 - val_acc: 0.9636\n",
      "Epoch 5/200\n",
      "258342/258342 [==============================] - 16s 62us/step - loss: 0.0879 - acc: 0.9605 - val_loss: 0.0667 - val_acc: 0.9700\n",
      "Epoch 6/200\n",
      "258342/258342 [==============================] - 16s 61us/step - loss: 0.0797 - acc: 0.9643 - val_loss: 0.0839 - val_acc: 0.9631\n",
      "Epoch 7/200\n",
      "258342/258342 [==============================] - 16s 61us/step - loss: 0.0738 - acc: 0.9673 - val_loss: 0.0788 - val_acc: 0.9638\n",
      "Epoch 8/200\n",
      "258342/258342 [==============================] - 16s 61us/step - loss: 0.0692 - acc: 0.9692 - val_loss: 0.0577 - val_acc: 0.9719\n",
      "Epoch 9/200\n",
      "258342/258342 [==============================] - 16s 60us/step - loss: 0.0637 - acc: 0.9718 - val_loss: 0.0574 - val_acc: 0.9741\n",
      "Epoch 10/200\n",
      "258342/258342 [==============================] - 16s 60us/step - loss: 0.0617 - acc: 0.9728 - val_loss: 0.0501 - val_acc: 0.9782\n",
      "Epoch 11/200\n",
      "258342/258342 [==============================] - 15s 60us/step - loss: 0.0585 - acc: 0.9743 - val_loss: 0.0473 - val_acc: 0.9797\n",
      "Epoch 12/200\n",
      "258342/258342 [==============================] - 15s 60us/step - loss: 0.0556 - acc: 0.9757 - val_loss: 0.0472 - val_acc: 0.9790\n",
      "Epoch 13/200\n",
      "258342/258342 [==============================] - 15s 60us/step - loss: 0.0525 - acc: 0.9772 - val_loss: 0.0431 - val_acc: 0.9800\n",
      "Epoch 14/200\n",
      "258342/258342 [==============================] - 15s 59us/step - loss: 0.0511 - acc: 0.9778 - val_loss: 0.0452 - val_acc: 0.9815\n",
      "Epoch 15/200\n",
      "258342/258342 [==============================] - 15s 59us/step - loss: 0.0497 - acc: 0.9784 - val_loss: 0.0438 - val_acc: 0.9795\n",
      "Epoch 16/200\n",
      "258342/258342 [==============================] - 15s 59us/step - loss: 0.0472 - acc: 0.9799 - val_loss: 0.0482 - val_acc: 0.9788\n",
      "Epoch 17/200\n",
      "258342/258342 [==============================] - 15s 58us/step - loss: 0.0453 - acc: 0.9806 - val_loss: 0.0369 - val_acc: 0.9835\n",
      "Epoch 18/200\n",
      "258342/258342 [==============================] - 15s 58us/step - loss: 0.0434 - acc: 0.9815 - val_loss: 0.0381 - val_acc: 0.9827\n",
      "Epoch 19/200\n",
      "258342/258342 [==============================] - 15s 58us/step - loss: 0.0420 - acc: 0.9821 - val_loss: 0.0370 - val_acc: 0.9844\n",
      "Epoch 20/200\n",
      "258342/258342 [==============================] - 15s 58us/step - loss: 0.0399 - acc: 0.9829 - val_loss: 0.0320 - val_acc: 0.9854\n",
      "Epoch 21/200\n",
      "258342/258342 [==============================] - 15s 58us/step - loss: 0.0392 - acc: 0.9829 - val_loss: 0.0483 - val_acc: 0.9807\n",
      "Epoch 22/200\n",
      "258342/258342 [==============================] - 15s 58us/step - loss: 0.0385 - acc: 0.9837 - val_loss: 0.0433 - val_acc: 0.9809\n",
      "Epoch 23/200\n",
      "258342/258342 [==============================] - 15s 57us/step - loss: 0.0377 - acc: 0.9839 - val_loss: 0.0359 - val_acc: 0.9835\n",
      "Epoch 24/200\n",
      "258342/258342 [==============================] - 15s 57us/step - loss: 0.0356 - acc: 0.9848 - val_loss: 0.0358 - val_acc: 0.9841\n",
      "Epoch 25/200\n",
      "258342/258342 [==============================] - 15s 57us/step - loss: 0.0361 - acc: 0.9851 - val_loss: 0.0333 - val_acc: 0.9847\n",
      "--- ANN spent 385.1213176250458 seconds ---\n"
     ]
    }
   ],
   "source": [
    "hist_ann_2h_unisoftsigbinlosadam4 = ann_fit(checkpoint_file = \"ann_2h_unisoftsigbinlosadam4_redds20bal.h5\",\n",
    "                                        ann = ann_2h_unisoftsigbinlosadam4,\n",
    "                                        enc_train_x = enc_train_x_asal,\n",
    "                                        train_y = train_y,\n",
    "                                        epochs = 200,\n",
    "                                        shuffle = True,\n",
    "                                        batch_size = 66)"
   ]
  },
  {
   "cell_type": "code",
   "execution_count": 84,
   "metadata": {},
   "outputs": [],
   "source": [
    "# hist_ann_2h_unisoftsigbinlosadam.model.get_weights()"
   ]
  },
  {
   "cell_type": "code",
   "execution_count": 85,
   "metadata": {},
   "outputs": [
    {
     "name": "stdout",
     "output_type": "stream",
     "text": [
      "Best loss value: 0.03610239725743729\n"
     ]
    },
    {
     "data": {
      "image/png": "[encoded data removed]",
      "text/plain": [
       "<Figure size 432x288 with 1 Axes>"
      ]
     },
     "metadata": {
      "needs_background": "light"
     },
     "output_type": "display_data"
    }
   ],
   "source": [
    "best_loss_value_ann_2h_unisoftsigbinlosadam4 = plot_hist_auto(hist_ann_2h_unisoftsigbinlosadam4, './Figures/ann_2h_unisoftsigbinlosadam4.png')"
   ]
  },
  {
   "cell_type": "code",
   "execution_count": 86,
   "metadata": {},
   "outputs": [
    {
     "name": "stdout",
     "output_type": "stream",
     "text": [
      "Overall accuracy of Neural Network model: 0.9852154266915059\n",
      "              precision    recall  f1-score   support\n",
      "\n",
      "           0       0.99      0.98      0.99     50813\n",
      "           1       0.98      0.99      0.99     50103\n",
      "\n",
      "   micro avg       0.99      0.99      0.99    100916\n",
      "   macro avg       0.99      0.99      0.99    100916\n",
      "weighted avg       0.99      0.99      0.99    100916\n",
      "\n"
     ]
    }
   ],
   "source": [
    "pred_ann_2h_prob_unisoftsigbinlosadam4, pred_ann_2h_01_unisoftsigbinlosadam4 = ann_predict(ann_2h_unisoftsigbinlosadam4,enc_test_x_asal)"
   ]
  },
  {
   "cell_type": "code",
   "execution_count": 87,
   "metadata": {},
   "outputs": [
    {
     "data": {
      "image/png": "[encoded data removed]",
      "text/plain": [
       "<Figure size 432x288 with 1 Axes>"
      ]
     },
     "metadata": {
      "needs_background": "light"
     },
     "output_type": "display_data"
    },
    {
     "data": {
      "image/png": "[encoded data removed]",
      "text/plain": [
       "<Figure size 576x432 with 2 Axes>"
      ]
     },
     "metadata": {
      "needs_background": "light"
     },
     "output_type": "display_data"
    }
   ],
   "source": [
    "plot_roc_cm(pred_ann_2h_01_unisoftsigbinlosadam4, pred_ann_2h_01_unisoftsigbinlosadam4, './Figures/ROC_ann_2h_unisoftsigbinlosadam4_redds10bal.png', './Figures/CM_ann_2h_unisoftsigbinlosadam4_redds10bal.png')"
   ]
  },
  {
   "cell_type": "code",
   "execution_count": null,
   "metadata": {},
   "outputs": [],
   "source": []
  },
  {
   "cell_type": "raw",
   "metadata": {},
   "source": [
    "ann_2h__(neurons,encoded_train_x,activation_input,\n",
    "               dropout_rate,activation_output,\n",
    "               loss,optimizer)"
   ]
  },
  {
   "cell_type": "raw",
   "metadata": {},
   "source": [
    "ann_2h_unisoftsigbinlosadam5 = ann_2h__(neurons=66,\n",
    "                                      encoded_train_x=enc_train_x_asal,\n",
    "                                      activation_input='relu',\n",
    "#                                       dropout_rate=0.0,\n",
    "                                      activation_output='sigmoid',\n",
    "                                      loss='binary_crossentropy',\n",
    "                                      optimizer='Adam')"
   ]
  },
  {
   "cell_type": "raw",
   "metadata": {},
   "source": [
    "hist_ann_2h_unisoftsigbinlosadam5 = ann_fit(checkpoint_file = \"ann_2h_unisoftsigbinlosadam5_redds20bal.h5\",\n",
    "                                        ann = ann_2h_unisoftsigbinlosadam5,\n",
    "                                        enc_train_x = enc_train_x_asal,\n",
    "                                        train_y = train_y,\n",
    "                                        epochs = 200,\n",
    "                                        shuffle = True,\n",
    "                                        batch_size = 66)"
   ]
  },
  {
   "cell_type": "raw",
   "metadata": {},
   "source": [
    "# hist_ann_2h_unisoftsigbinlosadam.model.get_weights()"
   ]
  },
  {
   "cell_type": "raw",
   "metadata": {},
   "source": [
    "best_loss_value_ann_2h_unisoftsigbinlosadam5 = plot_hist_auto(hist_ann_2h_unisoftsigbinlosadam5, './Figures/ann_2h_unisoftsigbinlosadam5.png')"
   ]
  },
  {
   "cell_type": "raw",
   "metadata": {},
   "source": [
    "pred_ann_2h_prob_unisoftsigbinlosadam5, pred_ann_2h_01_unisoftsigbinlosadam5 = ann_predict(ann_2h_unisoftsigbinlosadam5,enc_test_x_asal)"
   ]
  },
  {
   "cell_type": "raw",
   "metadata": {},
   "source": [
    "plot_roc_cm(pred_ann_2h_01_unisoftsigbinlosadam5, pred_ann_2h_01_unisoftsigbinlosadam5, './Figures/ROC_ann_2h_unisoftsigbinlosadam5_redds10bal.png', './Figures/CM_ann_2h_unisoftsigbinlosadam5_redds10bal.png')"
   ]
  },
  {
   "cell_type": "raw",
   "metadata": {},
   "source": []
  },
  {
   "cell_type": "raw",
   "metadata": {},
   "source": []
  },
  {
   "cell_type": "raw",
   "metadata": {},
   "source": [
    "ann_2h_unisoftsigbinlosadam6 = ann_2h__(neurons=66,\n",
    "                                      encoded_train_x=enc_train_x_asam,\n",
    "                                      activation_input='relu',\n",
    "#                                       dropout_rate=0.0,\n",
    "                                      activation_output='sigmoid',\n",
    "                                      loss='binary_crossentropy',\n",
    "                                      optimizer='Adam')"
   ]
  },
  {
   "cell_type": "raw",
   "metadata": {},
   "source": [
    "hist_ann_2h_unisoftsigbinlosadam6 = ann_fit(checkpoint_file = \"ann_2h_unisoftsigbinlosadam6_redds20bal.h5\",\n",
    "                                        ann = ann_2h_unisoftsigbinlosadam6,\n",
    "                                        enc_train_x = enc_train_x_asam,\n",
    "                                        train_y = train_y,\n",
    "                                        epochs = 200,\n",
    "                                        shuffle = True,\n",
    "                                        batch_size = 66)"
   ]
  },
  {
   "cell_type": "raw",
   "metadata": {},
   "source": [
    "# hist_ann_2h_unisoftsigbinlosadam.model.get_weights()"
   ]
  },
  {
   "cell_type": "raw",
   "metadata": {},
   "source": [
    "best_loss_value_ann_2h_unisoftsigbinlosadam6 = plot_hist_auto(hist_ann_2h_unisoftsigbinlosadam6, './Figures/ann_2h_unisoftsigbinlosadam6.png')"
   ]
  },
  {
   "cell_type": "raw",
   "metadata": {},
   "source": [
    "pred_ann_2h_prob_unisoftsigbinlosadam6, pred_ann_2h_01_unisoftsigbinlosadam6 = ann_predict(ann_2h_unisoftsigbinlosadam6,enc_test_x_asam)"
   ]
  },
  {
   "cell_type": "raw",
   "metadata": {},
   "source": [
    "plot_roc_cm(pred_ann_2h_01_unisoftsigbinlosadam6, pred_ann_2h_01_unisoftsigbinlosadam6, './Figures/ROC_ann_2h_unisoftsigbinlosadam6_redds10bal.png', './Figures/CM_ann_2h_unisoftsigbinlosadam6_redds10bal.png')"
   ]
  },
  {
   "cell_type": "raw",
   "metadata": {},
   "source": []
  },
  {
   "cell_type": "raw",
   "metadata": {},
   "source": [
    "enc_train_x_assal.shape"
   ]
  },
  {
   "cell_type": "raw",
   "metadata": {},
   "source": [
    "ann_2h_unisoftsigbinlosadam7 = ann_2h__(neurons=66,\n",
    "                                      encoded_train_x=enc_train_x_asal,\n",
    "                                      activation_input='tanh',\n",
    "#                                       dropout_rate=0.0,\n",
    "                                      activation_output='sigmoid',\n",
    "                                      loss='binary_crossentropy',\n",
    "                                      optimizer='Adam')"
   ]
  },
  {
   "cell_type": "raw",
   "metadata": {},
   "source": [
    "hist_ann_2h_unisoftsigbinlosadam7 = ann_fit(checkpoint_file = \"ann_2h_unisoftsigbinlosadam7_redds20bal.h5\",\n",
    "                                        ann = ann_2h_unisoftsigbinlosadam7,\n",
    "                                        enc_train_x = enc_train_x_asal,\n",
    "                                        train_y = train_y,\n",
    "                                        epochs = 200,\n",
    "                                        shuffle = True,\n",
    "                                        batch_size = 66)"
   ]
  },
  {
   "cell_type": "raw",
   "metadata": {},
   "source": [
    "# hist_ann_2h_unisoftsigbinlosadam.model.get_weights()"
   ]
  },
  {
   "cell_type": "raw",
   "metadata": {},
   "source": [
    "best_loss_value_ann_2h_unisoftsigbinlosadam7 = plot_hist_auto(hist_ann_2h_unisoftsigbinlosadam7, './Figures/ann_2h_unisoftsigbinlosadam7.png')"
   ]
  },
  {
   "cell_type": "raw",
   "metadata": {},
   "source": [
    "pred_ann_2h_prob_unisoftsigbinlosadam7, pred_ann_2h_01_unisoftsigbinlosadam7 = ann_predict(ann_2h_unisoftsigbinlosadam7,enc_test_x_asal)"
   ]
  },
  {
   "cell_type": "raw",
   "metadata": {},
   "source": [
    "plot_roc_cm(pred_ann_2h_01_unisoftsigbinlosadam7, pred_ann_2h_01_unisoftsigbinlosadam7, './Figures/ROC_ann_2h_unisoftsigbinlosadam7_redds10bal.png', './Figures/CM_ann_2h_unisoftsigbinlosadam7_redds10bal.png')"
   ]
  },
  {
   "cell_type": "raw",
   "metadata": {},
   "source": []
  },
  {
   "cell_type": "raw",
   "metadata": {},
   "source": []
  },
  {
   "cell_type": "raw",
   "metadata": {},
   "source": [
    "from keras.utils import to_categorical\n",
    "train_y_ = to_categorical(train_y)"
   ]
  },
  {
   "cell_type": "raw",
   "metadata": {},
   "source": [
    "ann_2h_unisoftsigbinlosadam8 = ann_2h__(neurons=66,\n",
    "                                      encoded_train_x=enc_train_x_asal,\n",
    "                                      activation_input='tanh',\n",
    "#                                       dropout_rate=0.0,\n",
    "                                      activation_output='sigmoid',\n",
    "                                      loss='mean_squared_error',\n",
    "                                      optimizer='Adam')"
   ]
  },
  {
   "cell_type": "raw",
   "metadata": {},
   "source": [
    "hist_ann_2h_unisoftsigbinlosadam8 = ann_fit(checkpoint_file = \"ann_2h_unisoftsigbinlosadam8_redds20bal.h5\",\n",
    "                                        ann = ann_2h_unisoftsigbinlosadam8,\n",
    "                                        enc_train_x = enc_train_x_asal,\n",
    "                                        train_y = train_y,\n",
    "                                        epochs = 200,\n",
    "                                        shuffle = True,\n",
    "                                        batch_size = 66)"
   ]
  },
  {
   "cell_type": "raw",
   "metadata": {},
   "source": [
    "# hist_ann_2h_unisoftsigbinlosadam.model.get_weights()"
   ]
  },
  {
   "cell_type": "raw",
   "metadata": {},
   "source": [
    "best_loss_value_ann_2h_unisoftsigbinlosadam8 = plot_hist_auto(hist_ann_2h_unisoftsigbinlosadam8, './Figures/ann_2h_unisoftsigbinlosadam8.png')"
   ]
  },
  {
   "cell_type": "raw",
   "metadata": {},
   "source": [
    "pred_ann_2h_prob_unisoftsigbinlosadam8, pred_ann_2h_01_unisoftsigbinlosadam8 = ann_predict(ann_2h_unisoftsigbinlosadam8,enc_test_x_asal)"
   ]
  },
  {
   "cell_type": "raw",
   "metadata": {},
   "source": [
    "plot_roc_cm(pred_ann_2h_01_unisoftsigbinlosadam8, pred_ann_2h_01_unisoftsigbinlosadam8, './Figures/ROC_ann_2h_unisoftsigbinlosadam8_redds10bal.png', './Figures/CM_ann_2h_unisoftsigbinlosadam8_redds10bal.png')"
   ]
  },
  {
   "cell_type": "code",
   "execution_count": null,
   "metadata": {},
   "outputs": [],
   "source": []
  },
  {
   "cell_type": "code",
   "execution_count": 114,
   "metadata": {},
   "outputs": [
    {
     "name": "stdout",
     "output_type": "stream",
     "text": [
      "_________________________________________________________________\n",
      "Layer (type)                 Output Shape              Param #   \n",
      "=================================================================\n",
      "dense_46 (Dense)             (None, 66)                4422      \n",
      "_________________________________________________________________\n",
      "dense_47 (Dense)             (None, 50)                3350      \n",
      "_________________________________________________________________\n",
      "batch_normalization_8 (Batch (None, 50)                200       \n",
      "_________________________________________________________________\n",
      "dropout_8 (Dropout)          (None, 50)                0         \n",
      "_________________________________________________________________\n",
      "dense_48 (Dense)             (None, 1)                 51        \n",
      "=================================================================\n",
      "Total params: 8,023\n",
      "Trainable params: 7,923\n",
      "Non-trainable params: 100\n",
      "_________________________________________________________________\n",
      "None\n"
     ]
    }
   ],
   "source": [
    "ann_24n_unisoftsigbinlosadam = ann_1h_24n(neurons=66,\n",
    "                                      encoded_train_x=train_x,\n",
    "                                      init_mode='uniform',\n",
    "                                      activation_input='softsign',\n",
    "                                      weight_constraint=5,\n",
    "                                      dropout_rate=0.0,\n",
    "                                      activation_output='sigmoid',\n",
    "                                      loss='binary_crossentropy',\n",
    "                                      optimizer='Adam')"
   ]
  },
  {
   "cell_type": "code",
   "execution_count": 115,
   "metadata": {},
   "outputs": [
    {
     "name": "stdout",
     "output_type": "stream",
     "text": [
      "Sun Jun  9 18:59:03 2019\n",
      "Train on 258342 samples, validate on 64586 samples\n",
      "Epoch 1/200\n",
      "258342/258342 [==============================] - 17s 66us/step - loss: 0.2193 - acc: 0.9044 - val_loss: 0.1344 - val_acc: 0.9420\n",
      "Epoch 2/200\n",
      "258342/258342 [==============================] - 16s 62us/step - loss: 0.1253 - acc: 0.9466 - val_loss: 0.1067 - val_acc: 0.9603\n",
      "Epoch 3/200\n",
      "258342/258342 [==============================] - 16s 61us/step - loss: 0.0921 - acc: 0.9618 - val_loss: 0.0754 - val_acc: 0.9699\n",
      "Epoch 4/200\n",
      "258342/258342 [==============================] - 16s 61us/step - loss: 0.0729 - acc: 0.9702 - val_loss: 0.0601 - val_acc: 0.9752\n",
      "Epoch 5/200\n",
      "258342/258342 [==============================] - 16s 61us/step - loss: 0.0628 - acc: 0.9746 - val_loss: 0.0482 - val_acc: 0.9807\n",
      "Epoch 6/200\n",
      "258342/258342 [==============================] - 16s 61us/step - loss: 0.0551 - acc: 0.9776 - val_loss: 0.0554 - val_acc: 0.9788\n",
      "Epoch 7/200\n",
      "258342/258342 [==============================] - 16s 61us/step - loss: 0.0517 - acc: 0.9788 - val_loss: 0.0555 - val_acc: 0.9791\n",
      "Epoch 8/200\n",
      "258342/258342 [==============================] - 16s 61us/step - loss: 0.0482 - acc: 0.9806 - val_loss: 0.0355 - val_acc: 0.9847\n",
      "Epoch 9/200\n",
      "258342/258342 [==============================] - 16s 60us/step - loss: 0.0451 - acc: 0.9816 - val_loss: 0.0373 - val_acc: 0.9841\n",
      "Epoch 10/200\n",
      "258342/258342 [==============================] - 15s 60us/step - loss: 0.0432 - acc: 0.9825 - val_loss: 0.0319 - val_acc: 0.9857\n",
      "Epoch 11/200\n",
      "258342/258342 [==============================] - 15s 60us/step - loss: 0.0399 - acc: 0.9839 - val_loss: 0.0376 - val_acc: 0.9850\n",
      "Epoch 12/200\n",
      "258342/258342 [==============================] - 15s 59us/step - loss: 0.0371 - acc: 0.9853 - val_loss: 0.0384 - val_acc: 0.9836\n",
      "Epoch 13/200\n",
      "258342/258342 [==============================] - 15s 59us/step - loss: 0.0375 - acc: 0.9851 - val_loss: 0.0307 - val_acc: 0.9872\n",
      "Epoch 14/200\n",
      "258342/258342 [==============================] - 15s 59us/step - loss: 0.0343 - acc: 0.9862 - val_loss: 0.0277 - val_acc: 0.9887\n",
      "Epoch 15/200\n",
      "258342/258342 [==============================] - 15s 59us/step - loss: 0.0335 - acc: 0.9868 - val_loss: 0.0279 - val_acc: 0.9905\n",
      "Epoch 16/200\n",
      "258342/258342 [==============================] - 15s 58us/step - loss: 0.0328 - acc: 0.9869 - val_loss: 0.0255 - val_acc: 0.9906\n",
      "Epoch 17/200\n",
      "258342/258342 [==============================] - 15s 57us/step - loss: 0.0312 - acc: 0.9873 - val_loss: 0.0300 - val_acc: 0.9886\n",
      "Epoch 18/200\n",
      "258342/258342 [==============================] - 14s 56us/step - loss: 0.0307 - acc: 0.9878 - val_loss: 0.0290 - val_acc: 0.9878\n",
      "Epoch 19/200\n",
      "258342/258342 [==============================] - 14s 56us/step - loss: 0.0303 - acc: 0.9881 - val_loss: 0.0236 - val_acc: 0.9904\n",
      "Epoch 20/200\n",
      "258342/258342 [==============================] - 14s 56us/step - loss: 0.0274 - acc: 0.9891 - val_loss: 0.0257 - val_acc: 0.9882\n",
      "Epoch 21/200\n",
      "258342/258342 [==============================] - 14s 56us/step - loss: 0.0298 - acc: 0.9882 - val_loss: 0.0214 - val_acc: 0.9914\n",
      "Epoch 22/200\n",
      "258342/258342 [==============================] - 14s 55us/step - loss: 0.0278 - acc: 0.9891 - val_loss: 0.0192 - val_acc: 0.9929\n",
      "Epoch 23/200\n",
      "258342/258342 [==============================] - 14s 56us/step - loss: 0.0264 - acc: 0.9898 - val_loss: 0.0274 - val_acc: 0.9919\n",
      "Epoch 24/200\n",
      "258342/258342 [==============================] - 14s 55us/step - loss: 0.0270 - acc: 0.9898 - val_loss: 0.0186 - val_acc: 0.9936\n",
      "Epoch 25/200\n",
      "258342/258342 [==============================] - 14s 55us/step - loss: 0.0241 - acc: 0.9906 - val_loss: 0.0235 - val_acc: 0.9910\n",
      "Epoch 26/200\n",
      "258342/258342 [==============================] - 14s 55us/step - loss: 0.0252 - acc: 0.9905 - val_loss: 0.0161 - val_acc: 0.9941\n",
      "Epoch 27/200\n",
      "258342/258342 [==============================] - 14s 55us/step - loss: 0.0245 - acc: 0.9905 - val_loss: 0.0188 - val_acc: 0.9932\n",
      "Epoch 28/200\n",
      "258342/258342 [==============================] - 14s 55us/step - loss: 0.0237 - acc: 0.9907 - val_loss: 0.0207 - val_acc: 0.9926\n",
      "Epoch 29/200\n",
      "258342/258342 [==============================] - 14s 55us/step - loss: 0.0227 - acc: 0.9913 - val_loss: 0.0209 - val_acc: 0.9906\n",
      "Epoch 30/200\n",
      "258342/258342 [==============================] - 14s 55us/step - loss: 0.0225 - acc: 0.9914 - val_loss: 0.0167 - val_acc: 0.9945\n",
      "Epoch 31/200\n",
      "258342/258342 [==============================] - 14s 55us/step - loss: 0.0219 - acc: 0.9916 - val_loss: 0.0166 - val_acc: 0.9941\n",
      "--- ANN spent 465.3785617351532 seconds ---\n"
     ]
    }
   ],
   "source": [
    "hist_ann_24n_unisoftsigbinlosadam = ann_fit(checkpoint_file = \"ann_24n_unisoftsigbinlosadam_redds20bal.h5\",\n",
    "                                        ann = ann_24n_unisoftsigbinlosadam,\n",
    "                                        enc_train_x = train_x,\n",
    "                                        train_y = train_y,\n",
    "                                        epochs = 200,\n",
    "                                        shuffle = True,\n",
    "                                        batch_size = 66)"
   ]
  },
  {
   "cell_type": "code",
   "execution_count": 116,
   "metadata": {},
   "outputs": [
    {
     "name": "stdout",
     "output_type": "stream",
     "text": [
      "Best loss value: 0.021915465629069406\n"
     ]
    },
    {
     "data": {
      "image/png": "[encoded data removed]",
      "text/plain": [
       "<Figure size 432x288 with 1 Axes>"
      ]
     },
     "metadata": {
      "needs_background": "light"
     },
     "output_type": "display_data"
    }
   ],
   "source": [
    "best_loss_value_ann_24n_unisoftsigbinlosadam = plot_hist_auto(hist_ann_24n_unisoftsigbinlosadam, './Figures/ann_24_unisoftsigbinlosadam.png')"
   ]
  },
  {
   "cell_type": "code",
   "execution_count": 117,
   "metadata": {},
   "outputs": [
    {
     "name": "stdout",
     "output_type": "stream",
     "text": [
      "Overall accuracy of Neural Network model: 0.9941139165246343\n",
      "              precision    recall  f1-score   support\n",
      "\n",
      "           0       1.00      0.99      0.99     50813\n",
      "           1       0.99      1.00      0.99     50103\n",
      "\n",
      "   micro avg       0.99      0.99      0.99    100916\n",
      "   macro avg       0.99      0.99      0.99    100916\n",
      "weighted avg       0.99      0.99      0.99    100916\n",
      "\n"
     ]
    }
   ],
   "source": [
    "pred_ann_24n_prob_unisoftsigbinlosadam, pred_ann_24n_01_unisoftsigbinlosadam = ann_predict(ann_24n_unisoftsigbinlosadam,test_x)"
   ]
  },
  {
   "cell_type": "code",
   "execution_count": 118,
   "metadata": {},
   "outputs": [
    {
     "data": {
      "image/png": "[encoded data removed]",
      "text/plain": [
       "<Figure size 432x288 with 1 Axes>"
      ]
     },
     "metadata": {
      "needs_background": "light"
     },
     "output_type": "display_data"
    },
    {
     "data": {
      "image/png": "[encoded data removed]",
      "text/plain": [
       "<Figure size 576x432 with 2 Axes>"
      ]
     },
     "metadata": {
      "needs_background": "light"
     },
     "output_type": "display_data"
    }
   ],
   "source": [
    "plot_roc_cm(pred_ann_24n_01_unisoftsigbinlosadam, pred_ann_24n_01_unisoftsigbinlosadam, './Figures/ROC_ann_24n_unisoftsigbinlosadam_redds10bal.png', './Figures/CM_ann_24n_unisoftsigbinlosadam_redds10bal.png')"
   ]
  },
  {
   "cell_type": "code",
   "execution_count": 119,
   "metadata": {},
   "outputs": [],
   "source": [
    "from sklearn.ensemble import RandomForestClassifier"
   ]
  },
  {
   "cell_type": "code",
   "execution_count": 120,
   "metadata": {},
   "outputs": [],
   "source": [
    "clf = RandomForestClassifier(n_estimators=300, \n",
    "                             criterion='gini', \n",
    "                             max_depth=16, \n",
    "#                              min_samples_split=2, \n",
    "                             #min_samples_leaf=1, \n",
    "                             max_features=0.3, \n",
    "                             #bootstrap=True,\n",
    "                             oob_score=True,\n",
    "                             random_state=23)  "
   ]
  },
  {
   "cell_type": "code",
   "execution_count": 121,
   "metadata": {},
   "outputs": [
    {
     "name": "stdout",
     "output_type": "stream",
     "text": [
      "Sun Jun  9 19:06:51 2019\n",
      "--- 2495.179598093033 seconds ---\n",
      "              precision    recall  f1-score   support\n",
      "\n",
      "           0     0.9963    0.9981    0.9972     50813\n",
      "           1     0.9980    0.9962    0.9971     50103\n",
      "\n",
      "   micro avg     0.9972    0.9972    0.9972    100916\n",
      "   macro avg     0.9972    0.9971    0.9972    100916\n",
      "weighted avg     0.9972    0.9972    0.9972    100916\n",
      "\n"
     ]
    }
   ],
   "source": [
    "start_time = time.time()\n",
    "print(time.ctime(start_time))\n",
    "\n",
    "clf.fit(enc_train_x_asam, train_y)\n",
    "\n",
    "pred_y_RF = cross_val_predict(estimator=clf,\n",
    "                              X=np.array(enc_test_x_asam),\n",
    "                              y=test_y,\n",
    "                              cv=KFold(n_splits=5, random_state=23),\n",
    "                              n_jobs=2)\n",
    "\n",
    "elapsed_time = (time.time() - start_time)\n",
    "print(\"--- %s seconds ---\" %elapsed_time)\n",
    "\n",
    "print(sm.classification_report(test_y, pred_y_RF,digits=4))"
   ]
  },
  {
   "cell_type": "code",
   "execution_count": 122,
   "metadata": {},
   "outputs": [
    {
     "data": {
      "image/png": "[encoded data removed]",
      "text/plain": [
       "<Figure size 432x288 with 1 Axes>"
      ]
     },
     "metadata": {
      "needs_background": "light"
     },
     "output_type": "display_data"
    },
    {
     "data": {
      "image/png": "[encoded data removed]",
      "text/plain": [
       "<Figure size 576x432 with 2 Axes>"
      ]
     },
     "metadata": {
      "needs_background": "light"
     },
     "output_type": "display_data"
    }
   ],
   "source": [
    "plot_roc_cm(pred_y_RF, pred_y_RF, './Figures/ROC_rf_E100MaxfautoMaxdnoneBootT_redds10bal.png', './Figures/CM_rf_E100MaxfautoMaxdnoneBootT_redds10bal.png')"
   ]
  },
  {
   "cell_type": "code",
   "execution_count": null,
   "metadata": {},
   "outputs": [],
   "source": []
  },
  {
   "cell_type": "code",
   "execution_count": null,
   "metadata": {},
   "outputs": [],
   "source": []
  },
  {
   "cell_type": "code",
   "execution_count": null,
   "metadata": {},
   "outputs": [],
   "source": []
  }
 ],
 "metadata": {
  "kernelspec": {
   "display_name": "Python 3",
   "language": "python",
   "name": "python3"
  },
  "language_info": {
   "codemirror_mode": {
    "name": "ipython",
    "version": 3
   },
   "file_extension": ".py",
   "mimetype": "text/x-python",
   "name": "python",
   "nbconvert_exporter": "python",
   "pygments_lexer": "ipython3",
   "version": "3.6.8"
  }
 },
 "nbformat": 4,
 "nbformat_minor": 2
}
