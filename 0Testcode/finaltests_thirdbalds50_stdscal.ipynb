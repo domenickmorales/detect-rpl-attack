{
 "cells": [
  {
   "cell_type": "code",
   "execution_count": 1,
   "metadata": {},
   "outputs": [],
   "source": [
    "import os\n",
    "os.environ[\"CUDA_DEVICE_ORDER\"]=\"PCI_BUS_ID\"\n",
    "os.environ[\"CUDA_VISIBLE_DEVICES\"]=\"0\""
   ]
  },
  {
   "cell_type": "code",
   "execution_count": 2,
   "metadata": {},
   "outputs": [
    {
     "name": "stderr",
     "output_type": "stream",
     "text": [
      "Using TensorFlow backend.\n"
     ]
    }
   ],
   "source": [
    "###################################\n",
    "# TensorFlow wizardry\n",
    "import tensorflow as tf\n",
    "config = tf.ConfigProto()\n",
    " \n",
    "# Don’t pre-allocate memory; allocate as-needed\n",
    "config.gpu_options.allow_growth = True\n",
    " \n",
    "# Only allow a total of half the GPU memory to be allocated\n",
    "config.gpu_options.per_process_gpu_memory_fraction = 0.05\n",
    "#gpu_options = tf.GPUOptions(per_process_gpu_memory_fraction=0.333)\n",
    " \n",
    "# Create a session with the above options specified.\n",
    "from keras import optimizers, regularizers\n",
    "from keras.layers.normalization import BatchNormalization\n",
    "from keras.utils import to_categorical\n",
    "from keras.wrappers.scikit_learn import KerasClassifier\n",
    "from keras import optimizers\n",
    "from keras.constraints import maxnorm\n",
    "from keras.callbacks import ModelCheckpoint, TensorBoard, EarlyStopping\n",
    "\n",
    "from keras.models import Sequential, Model, load_model\n",
    "from keras.layers import Activation, Dense, Dropout, Input\n",
    "from keras import backend as k\n",
    "\n",
    "k.tensorflow_backend.set_session(tf.Session(config=config))\n",
    "#k.tensorflow_backend.set_session(tf.Session(config=tf.ConfigProto(gpu_options=gpu_options))\n",
    "###################################"
   ]
  },
  {
   "cell_type": "code",
   "execution_count": 3,
   "metadata": {},
   "outputs": [],
   "source": [
    "#----------------------------------Import modules------------------------------\n",
    "import numpy as np\n",
    "import pandas as pd\n",
    "import matplotlib.pyplot as plt\n",
    "import seaborn as sns\n",
    "from sklearn.model_selection import train_test_split\n",
    "from sklearn.metrics import confusion_matrix,accuracy_score, roc_curve, auc\n",
    "from sklearn import preprocessing\n",
    "sns.set_style(\"whitegrid\")\n",
    "np.random.seed(23)\n",
    "import time\n",
    "from sklearn.model_selection import GridSearchCV\n",
    "import sklearn.metrics as sm\n",
    "from sklearn.model_selection import KFold\n",
    "from sklearn.model_selection import cross_val_predict\n",
    "\n",
    "\n",
    "neurons=120\n",
    "batch_size=120\n",
    "dsnum=50"
   ]
  },
  {
   "cell_type": "code",
   "execution_count": 4,
   "metadata": {},
   "outputs": [
    {
     "name": "stdout",
     "output_type": "stream",
     "text": [
      "Default GPU Device: /device:GPU:0\n"
     ]
    }
   ],
   "source": [
    "if tf.test.gpu_device_name():\n",
    "    print('Default GPU Device: {}'.format(tf.test.gpu_device_name()))\n",
    "else:\n",
    "    print(\"Please install GPU version of TF\")"
   ]
  },
  {
   "cell_type": "code",
   "execution_count": 5,
   "metadata": {},
   "outputs": [],
   "source": [
    "pathds = '/home/user/01Code/00Datasets_final/'"
   ]
  },
  {
   "cell_type": "code",
   "execution_count": 6,
   "metadata": {},
   "outputs": [],
   "source": [
    "#df_chunk = pd.read_csv(pathds+'SubsetAllSamples/ThirdCloneID10bal_minmax.csv', chunksize=1000)\n",
    "#df = df_chunk.get_chunk(300000)\n",
    "df = pd.read_csv(pathds+\"SubsetAllSamples/ThirdCloneID\"+str(dsnum)+\"bal_stdscal.csv\")"
   ]
  },
  {
   "cell_type": "code",
   "execution_count": 7,
   "metadata": {},
   "outputs": [
    {
     "data": {
      "text/plain": [
       "(520692, 121)"
      ]
     },
     "execution_count": 7,
     "metadata": {},
     "output_type": "execute_result"
    }
   ],
   "source": [
    "df.shape"
   ]
  },
  {
   "cell_type": "markdown",
   "metadata": {},
   "source": [
    "#### 4.2 Explaining the data"
   ]
  },
  {
   "cell_type": "code",
   "execution_count": 8,
   "metadata": {},
   "outputs": [
    {
     "name": "stdout",
     "output_type": "stream",
     "text": [
      "Class 0: 260346\n",
      "Class 1: 260346\n",
      "Proportion: 1.0 : 1\n"
     ]
    }
   ],
   "source": [
    "#if you don't have an intuitive sense of how imbalanced these two classes are, let's go visual\n",
    "count_classes = pd.value_counts(df['class'], sort = True)\n",
    "print('Class 0:', count_classes[0])\n",
    "print('Class 1:', count_classes[1])\n",
    "print('Proportion:', round(count_classes[0] / count_classes[1], 3), ': 1')"
   ]
  },
  {
   "cell_type": "code",
   "execution_count": 9,
   "metadata": {},
   "outputs": [
    {
     "data": {
      "image/png": "[encoded data removed]",
      "text/plain": [
       "<Figure size 432x288 with 1 Axes>"
      ]
     },
     "metadata": {
      "needs_background": "light"
     },
     "output_type": "display_data"
    }
   ],
   "source": [
    "count_classes.plot(kind = 'bar', rot=0)\n",
    "plt.xticks(range(2), ['Normal [0]','Malicious [1]'])\n",
    "plt.title(\"Frequency by observation number\")\n",
    "plt.xlabel(\"Class\")\n",
    "plt.ylabel(\"Number of Observations\");"
   ]
  },
  {
   "cell_type": "code",
   "execution_count": 10,
   "metadata": {},
   "outputs": [],
   "source": [
    "#set random seed and percentage of test data\n",
    "RANDOM_SEED = 23 #used to help randomly select the data points\n",
    "TEST_PCT = 0.20 # 20% of the data"
   ]
  },
  {
   "cell_type": "code",
   "execution_count": 11,
   "metadata": {},
   "outputs": [],
   "source": [
    "train, test_df = train_test_split(df, test_size=TEST_PCT, random_state=RANDOM_SEED)"
   ]
  },
  {
   "cell_type": "markdown",
   "metadata": {},
   "source": [
    "+ df -> original dataset \n",
    "+ train -> subset of 80% from original dataset \n",
    "+ test_df -> subset of 20% from original dataset "
   ]
  },
  {
   "cell_type": "code",
   "execution_count": 12,
   "metadata": {},
   "outputs": [],
   "source": [
    "train_df, dev_df = train_test_split(train, test_size=TEST_PCT, random_state=RANDOM_SEED)"
   ]
  },
  {
   "cell_type": "markdown",
   "metadata": {},
   "source": [
    "+ train -> subset of 80% from original dataset \n",
    "+ train_df -> subset of 80% from train\n",
    "+ dev_df -> subset of 20% from train"
   ]
  },
  {
   "cell_type": "code",
   "execution_count": 13,
   "metadata": {},
   "outputs": [
    {
     "name": "stdout",
     "output_type": "stream",
     "text": [
      "0.5004261167559911\n",
      "0.4992017860786691\n",
      "0.4992750074419766\n"
     ]
    }
   ],
   "source": [
    "# Check distribution of mal samples in train and test set\n",
    "print(train_df.iloc[:, batch_size].sum()/train_df.shape[0]) \n",
    "print(dev_df.iloc[:, batch_size].sum()/dev_df.shape[0]) \n",
    "print(test_df.iloc[:, batch_size].sum()/test_df.shape[0])"
   ]
  },
  {
   "cell_type": "code",
   "execution_count": 14,
   "metadata": {},
   "outputs": [],
   "source": [
    "train_x = train_df.iloc[:, :batch_size] \n",
    "dev_x = dev_df.iloc[:, :batch_size] \n",
    "test_x = test_df.iloc[:, :batch_size] "
   ]
  },
  {
   "cell_type": "markdown",
   "metadata": {},
   "source": [
    "+ train_x -> features of train_df **Training subset for AE**\n",
    "+ dev_x -> features of dev_df **Validation subset for AE**\n",
    "+ test_x -> features of test_df **Testing subset for ANN**"
   ]
  },
  {
   "cell_type": "code",
   "execution_count": 15,
   "metadata": {},
   "outputs": [],
   "source": [
    "# Define the final train and test sets\n",
    "train_y = train_df.iloc[:,batch_size]\n",
    "dev_y = dev_df.iloc[:,batch_size]\n",
    "test_y = test_df.iloc[:,batch_size]"
   ]
  },
  {
   "cell_type": "markdown",
   "metadata": {},
   "source": [
    "+ train_y -> **Labels for supervised training of ANN**\n",
    "+ dev_y -> labels of dev_df  *not used for AE neither ANN*\n",
    "+ test_y -> labels of test_df  **Ground Truth for predictions of supervised ANN**"
   ]
  },
  {
   "cell_type": "code",
   "execution_count": 16,
   "metadata": {},
   "outputs": [
    {
     "name": "stdout",
     "output_type": "stream",
     "text": [
      "120\n"
     ]
    }
   ],
   "source": [
    "train_x =np.array(train_x)\n",
    "dev_x =np.array(dev_x)\n",
    "test_x = np.array(test_x)\n",
    "\n",
    "train_y = np.array(train_y)\n",
    "dev_y = np.array(dev_y)\n",
    "test_y = np.array(test_y)\n",
    "\n",
    "print(train_x.shape[1])"
   ]
  },
  {
   "cell_type": "markdown",
   "metadata": {},
   "source": [
    "### Autoencoder Function"
   ]
  },
  {
   "cell_type": "code",
   "execution_count": 17,
   "metadata": {},
   "outputs": [],
   "source": [
    "def ae(factor_enc_dim, enc_activation, dec_activation, \n",
    "                optimizer, loss):\n",
    "\n",
    "    encoding_dim = int(int(train_x.shape[1])/factor_enc_dim)\n",
    "    ### Define input layer\n",
    "    input_data = Input(shape=(train_x.shape[1],))\n",
    "    ### Define encoding layer #RELU\n",
    "    encoded = Dense(encoding_dim, activation=enc_activation, name='encoded_bottle_neck')(input_data)\n",
    "    ### Define decoding layer #SIMOID\n",
    "    decoded = Dense(train_x.shape[1], activation=dec_activation)(encoded)\n",
    "    ### Create the autoencoder model\n",
    "    autoencoder = Model(input_data, decoded)\n",
    "    autoencoder.compile(optimizer=optimizer,\n",
    "                        loss=loss,\n",
    "                        metrics=['accuracy'])\n",
    "    \n",
    "    print(autoencoder.summary())\n",
    "    \n",
    "    encoder = Model(input_data, encoded)\n",
    "    encoded_train_x = encoder.predict(train_x)\n",
    "    encoded_test_x = encoder.predict(test_x)\n",
    "    \n",
    "    return autoencoder,encoded_train_x,encoded_test_x"
   ]
  },
  {
   "cell_type": "code",
   "execution_count": 18,
   "metadata": {},
   "outputs": [],
   "source": [
    "def sae(factor_enc_dim, output_activation,\n",
    "        optimizer, loss):\n",
    "\n",
    "    encoding_dim = int(int(train_x.shape[1])/factor_enc_dim)\n",
    "    ### Define input layer\n",
    "    input_data = Input(shape=(train_x.shape[1],))\n",
    "    ### Define encoding layer\n",
    "    encoded = Dense(encoding_dim, activation='relu', name='input_layer')(input_data)\n",
    "    encoded = Dense(int(encoding_dim/2), activation='relu')(encoded) ##Stacked AE\n",
    "    encoded_bottle_neck = Dense(int(encoding_dim/4), activation='relu', name='enc_bottle_neck')(encoded) ##Stacked AE\n",
    "    \n",
    "    ### Define decoding layer\n",
    "    decoded = Dense(int(encoding_dim/2), activation='relu')(encoded_bottle_neck) ##Stacked AE\n",
    "    decoded = Dense(encoding_dim, activation='relu')(decoded) ##Stacked AE\n",
    "    decoded = Dense(train_x.shape[1], activation=output_activation)(decoded)\n",
    "    \n",
    "    ### Create the autoencoder model\n",
    "    sae = Model(input_data, decoded)\n",
    "    sae.compile(optimizer=optimizer,\n",
    "                loss=loss,\n",
    "                metrics=['accuracy'])\n",
    "    \n",
    "    print(sae.summary())\n",
    "\n",
    "    encoder = Model(input_data, encoded_bottle_neck)\n",
    "    encoded_train_x = encoder.predict(train_x)\n",
    "    encoded_test_x = encoder.predict(test_x)\n",
    "    \n",
    "    return sae,encoded_train_x,encoded_test_x"
   ]
  },
  {
   "cell_type": "code",
   "execution_count": 93,
   "metadata": {},
   "outputs": [],
   "source": [
    "def spae(factor_enc_dim,dec_activation,enc_activation,\n",
    "         optimizer,loss):\n",
    "\n",
    "    encoding_dim = int(int(train_x.shape[1])/factor_enc_dim)\n",
    "    ### Define input layer\n",
    "    input_data = Input(shape=(train_x.shape[1],))\n",
    "    ### Define encoding layer\n",
    "    encoded = Dense(encoding_dim, activity_regularizer=regularizers.l1(1e-4), activation=enc_activation, name='encoded_bottle_neck')(input_data)\n",
    "    ### Define decoding layer\n",
    "    decoded = Dense(train_x.shape[1], activation=dec_activation)(encoded)\n",
    "    ### Create the autoencoder model\n",
    "    autoencoder = Model(input_data, decoded)\n",
    "    autoencoder.compile(optimizer=optimizer,\n",
    "                        loss=loss,\n",
    "                        metrics=['accuracy'])\n",
    "    \n",
    "    print(autoencoder.summary())\n",
    "    \n",
    "    encoder = Model(input_data, encoded)\n",
    "    encoded_train_x = encoder.predict(train_x)\n",
    "    encoded_test_x = encoder.predict(test_x)\n",
    "    \n",
    "    return autoencoder,encoded_train_x,encoded_test_x"
   ]
  },
  {
   "cell_type": "code",
   "execution_count": null,
   "metadata": {},
   "outputs": [],
   "source": []
  },
  {
   "cell_type": "code",
   "execution_count": 20,
   "metadata": {},
   "outputs": [],
   "source": [
    "def fit_ae(checkpoint_file, autoencoder,\n",
    "           epochs, batch_size, shuffle):\n",
    "    \n",
    "    early_stopping = EarlyStopping(monitor='val_loss', patience=5)\n",
    "\n",
    "    cp = ModelCheckpoint(filepath=checkpoint_file,\n",
    "                                   save_best_only=True,\n",
    "                                   verbose=0)\n",
    "\n",
    "    tb = TensorBoard(log_dir='./logs',\n",
    "                    histogram_freq=0,\n",
    "                    write_graph=True,\n",
    "                    write_images=True)\n",
    "\n",
    "    start_time = time.time()\n",
    "    print(time.ctime(start_time))\n",
    "\n",
    "    hist_auto = autoencoder.fit(train_x, train_x,\n",
    "                    epochs=epochs,\n",
    "                    batch_size=batch_size,\n",
    "                    shuffle=shuffle,\n",
    "                    verbose=1,\n",
    "                    callbacks=[early_stopping, cp, tb],\n",
    "                    validation_data=(dev_x, dev_x))\n",
    "\n",
    "    elapsed_time = (time.time() - start_time)\n",
    "    print(\"--- AE spent %s seconds ---\" % elapsed_time)\n",
    "    \n",
    "    return hist_auto"
   ]
  },
  {
   "cell_type": "code",
   "execution_count": 21,
   "metadata": {},
   "outputs": [],
   "source": [
    "def plot_hist_auto(hist_auto, fig_file):\n",
    "    best_loss_value = hist_auto.history['loss'][-1]\n",
    "    print('Best loss value:', best_loss_value)\n",
    "\n",
    "    # Summarize history for loss\n",
    "    plt.figure()\n",
    "    plt.plot(hist_auto.history['loss'])\n",
    "    plt.plot(hist_auto.history['val_loss'])\n",
    "    plt.title('Autoencoder model loss')\n",
    "    plt.ylabel('loss')\n",
    "    plt.xlabel('epoch')\n",
    "    plt.legend(['train', 'test'], loc='upper right')\n",
    "    plt.savefig(fig_file)\n",
    "    plt.show()\n",
    "    \n",
    "    return best_loss_value"
   ]
  },
  {
   "cell_type": "code",
   "execution_count": null,
   "metadata": {},
   "outputs": [],
   "source": []
  },
  {
   "cell_type": "code",
   "execution_count": 22,
   "metadata": {},
   "outputs": [],
   "source": [
    "def ann_2h(neurons,encoded_train_x,init_mode,activation_input,\n",
    "               weight_constraint,dropout_rate,activation_output,\n",
    "               loss,optimizer):\n",
    "\n",
    "    # create model\n",
    "    model = Sequential()\n",
    "\n",
    "    model.add(Dense(neurons, input_dim=encoded_train_x.shape[1],\n",
    "                    kernel_initializer=init_mode,\n",
    "                    #kernel_regularizer=regularizers.l2(0.02), #from example\n",
    "                    activation=activation_input,\n",
    "                    kernel_constraint=maxnorm(weight_constraint)\n",
    "                    )\n",
    "              )\n",
    "\n",
    "#     #Hidden Layer\n",
    "    model.add(Dense(int(neurons-int(neurons/4)), activation=\"relu\", kernel_initializer=init_mode)) #rezvy\n",
    "\n",
    "    model.add(Dense(int(neurons-int((neurons/4)*2)), activation=\"relu\", kernel_initializer=init_mode)) #rezvy\n",
    "    model.add(BatchNormalization()) #commented for ex\n",
    "    model.add(Dropout(dropout_rate))\n",
    "    \n",
    "    model.add(Dense(1, activation=activation_output)) #example\n",
    "    \n",
    "    # Compile model\n",
    "    model.compile(loss=loss, \n",
    "                  optimizer=optimizer, \n",
    "                  metrics=['accuracy'])\n",
    "    \n",
    "    print(model.summary())\n",
    "    \n",
    "    return model"
   ]
  },
  {
   "cell_type": "code",
   "execution_count": 23,
   "metadata": {},
   "outputs": [],
   "source": [
    "def ann_2h_(neurons,encoded_train_x,init_mode,activation_input,\n",
    "               dropout_rate,activation_output,\n",
    "               loss,lr):\n",
    "\n",
    "    # create model\n",
    "    model = Sequential()\n",
    "\n",
    "    model.add(Dense(neurons, input_dim=encoded_train_x.shape[1],\n",
    "                    kernel_initializer=init_mode,\n",
    "                    #kernel_regularizer=regularizers.l2(0.02), #from example\n",
    "                    activation=activation_input,\n",
    "#                     kernel_constraint=maxnorm(weight_constraint)\n",
    "#                     kernel_constraint=maxnorm(weight_constraint)\n",
    "                    )\n",
    "              )\n",
    "\n",
    "#     #Hidden Layer\n",
    "    model.add(Dense(int(neurons-int(neurons/4)), activation=\"relu\")) #rezvy\n",
    "\n",
    "    model.add(Dense(int(neurons-int((neurons/4)*2)), activation=\"relu\")) #rezvy\n",
    "    model.add(BatchNormalization()) #commented for ex\n",
    "    model.add(Dropout(dropout_rate))\n",
    "    \n",
    "    model.add(Dense(1, activation=activation_output)) #example\n",
    "\n",
    "    optimizer = optimizers.Adam(lr=lr)\n",
    "    \n",
    "    # Compile model\n",
    "    model.compile(loss=loss, \n",
    "                  optimizer=optimizer, \n",
    "                  metrics=['accuracy'])\n",
    "    \n",
    "    print(model.summary())\n",
    "    \n",
    "    return model"
   ]
  },
  {
   "cell_type": "code",
   "execution_count": 24,
   "metadata": {},
   "outputs": [],
   "source": [
    "def ann_2h__(neurons,encoded_train_x,activation_input,\n",
    "             activation_output,loss,optimizer):\n",
    "\n",
    "    # create model\n",
    "    model = Sequential()\n",
    "\n",
    "    model.add(Dense(neurons, input_dim=encoded_train_x.shape[1],\n",
    "#                     kernel_initializer=init_mode,\n",
    "                    #kernel_regularizer=regularizers.l2(0.02), #from example\n",
    "                    activation=activation_input,\n",
    "#                     kernel_constraint=maxnorm(weight_constraint)\n",
    "#                     kernel_constraint=maxnorm(weight_constraint)\n",
    "                    )\n",
    "              )\n",
    "\n",
    "#     #Hidden Layer\n",
    "    model.add(Dense(int(neurons-int(neurons/4)), activation=\"relu\")) #rezvy\n",
    "\n",
    "    model.add(Dense(int(neurons-int((neurons/4)*2)), activation=\"relu\")) #rezvy\n",
    "#     model.add(BatchNormalization()) #commented for ex\n",
    "#     model.add(Dropout(dropout_rate))\n",
    "    \n",
    "    model.add(Dense(1, activation=activation_output)) #example\n",
    "\n",
    "#     optimizer = optimizers.Adam(lr=lr)\n",
    "    \n",
    "    # Compile model\n",
    "    model.compile(loss=loss, \n",
    "                  optimizer=optimizer, \n",
    "                  metrics=['accuracy'])\n",
    "    \n",
    "    print(model.summary())\n",
    "    \n",
    "    return model"
   ]
  },
  {
   "cell_type": "code",
   "execution_count": 25,
   "metadata": {},
   "outputs": [],
   "source": [
    "def ann_1h_36n(neurons,encoded_train_x,init_mode,activation_input,\n",
    "               weight_constraint,dropout_rate,activation_output,\n",
    "               loss,optimizer):\n",
    "\n",
    "    # create model\n",
    "    model = Sequential()\n",
    "\n",
    "    model.add(Dense(neurons, input_dim=encoded_train_x.shape[1],\n",
    "                    kernel_initializer=init_mode,\n",
    "                    #kernel_regularizer=regularizers.l2(0.02), #from example\n",
    "                    activation=activation_input,\n",
    "                    kernel_constraint=maxnorm(weight_constraint)\n",
    "                    )\n",
    "              )\n",
    "\n",
    "#     #Hidden Layer\n",
    "    model.add(Dense(int(neurons-int(neurons/4)), activation=\"relu\", kernel_initializer=init_mode)) #rezvy\n",
    "    model.add(BatchNormalization()) #commented for ex\n",
    "    model.add(Dropout(dropout_rate))\n",
    "    \n",
    "    model.add(Dense(1, activation=activation_output)) #example\n",
    "    \n",
    "    # Compile model\n",
    "    model.compile(loss=loss, \n",
    "                  optimizer=optimizer, \n",
    "                  metrics=['accuracy'])\n",
    "    \n",
    "    print(model.summary())\n",
    "    \n",
    "    return model"
   ]
  },
  {
   "cell_type": "code",
   "execution_count": 26,
   "metadata": {},
   "outputs": [],
   "source": [
    "def ann_1h_24n(neurons,encoded_train_x,init_mode,activation_input,\n",
    "               weight_constraint,dropout_rate,activation_output,\n",
    "               loss,optimizer):\n",
    "\n",
    "    # create model\n",
    "    model = Sequential()\n",
    "\n",
    "    model.add(Dense(neurons, input_dim=encoded_train_x.shape[1],\n",
    "                    kernel_initializer=init_mode,\n",
    "                    #kernel_regularizer=regularizers.l2(0.02), #from example\n",
    "                    activation=activation_input,\n",
    "                    kernel_constraint=maxnorm(weight_constraint)\n",
    "                    )\n",
    "              )\n",
    "\n",
    "#     #Hidden Layer\n",
    "    model.add(Dense(int(neurons-int(neurons/4)), activation=\"relu\", kernel_initializer=init_mode)) #rezvy\n",
    "    model.add(BatchNormalization()) #commented for ex\n",
    "    model.add(Dropout(dropout_rate))\n",
    "    \n",
    "    model.add(Dense(1, activation=activation_output)) #example\n",
    "    \n",
    "    # Compile model\n",
    "    model.compile(loss=loss, \n",
    "                  optimizer=optimizer, \n",
    "                  metrics=['accuracy'])\n",
    "    \n",
    "    print(model.summary())\n",
    "    \n",
    "    return model"
   ]
  },
  {
   "cell_type": "code",
   "execution_count": 27,
   "metadata": {},
   "outputs": [],
   "source": [
    "def ann_1h_24n_(neurons,encoded_train_x,activation_input,\n",
    "               activation_output,loss,optimizer):\n",
    "\n",
    "    # create model\n",
    "    model = Sequential()\n",
    "\n",
    "    model.add(Dense(neurons, input_dim=encoded_train_x.shape[1],\n",
    "#                     kernel_initializer=init_mode,\n",
    "                    #kernel_regularizer=regularizers.l2(0.02), #from example\n",
    "                    activation=activation_input,\n",
    "#                     kernel_constraint=maxnorm(weight_constraint)\n",
    "                    )\n",
    "              )\n",
    "\n",
    "#     #Hidden Layer\n",
    "    model.add(Dense(int(neurons-int(neurons/4)), activation=\"relu\")) #rezvy\n",
    "    \n",
    "#     model.add(BatchNormalization()) #commented for ex\n",
    "#     model.add(Dropout(dropout_rate))\n",
    "    \n",
    "    model.add(Dense(1, activation=activation_output)) #example\n",
    "    \n",
    "    # Compile model\n",
    "    model.compile(loss=loss, \n",
    "                  optimizer=optimizer, \n",
    "                  metrics=['accuracy'])\n",
    "    \n",
    "    print(model.summary())\n",
    "    \n",
    "    return model"
   ]
  },
  {
   "cell_type": "code",
   "execution_count": 28,
   "metadata": {},
   "outputs": [],
   "source": [
    "def ann_fit(checkpoint_file,ann,enc_train_x,train_y,epochs,shuffle,batch_size):\n",
    "    early_stopping = EarlyStopping(monitor='val_loss', patience=5)\n",
    "\n",
    "    cp = ModelCheckpoint(filepath=checkpoint_file,\n",
    "                                   save_best_only=True,\n",
    "                                   verbose=0)\n",
    "\n",
    "    tb = TensorBoard(log_dir='./logs',\n",
    "                    histogram_freq=0,\n",
    "                    write_graph=True,\n",
    "                    write_images=True)\n",
    "\n",
    "    start_time = time.time()\n",
    "    print(time.ctime(start_time))\n",
    "\n",
    "    history = ann.fit(enc_train_x,\n",
    "                      train_y,\n",
    "                      validation_split=0.2,\n",
    "                      callbacks=[early_stopping],\n",
    "                      epochs=epochs,\n",
    "                      shuffle=shuffle,\n",
    "                      batch_size=batch_size,\n",
    "                      verbose=1)\n",
    "\n",
    "    elapsed_time = (time.time() - start_time)\n",
    "    print(\"--- ANN spent %s seconds ---\" % elapsed_time)\n",
    "\n",
    "    return history"
   ]
  },
  {
   "cell_type": "code",
   "execution_count": 29,
   "metadata": {},
   "outputs": [],
   "source": [
    "def ann_predict(ann,enc_test_x):\n",
    "    pred_ann_prob = ann.predict(enc_test_x)\n",
    "    pred_ann_prob.shape\n",
    "    pred_ann_prob = pred_ann_prob[:,0]\n",
    "    pred_ann_01 = np.where(pred_ann_prob > 0.5, 1, 0)\n",
    "    \n",
    "    #Print accuracy\n",
    "    acc_ann = accuracy_score(test_y, pred_ann_01)\n",
    "    print('Overall accuracy of Neural Network model:', acc_ann)\n",
    "\n",
    "    classiBM = \"NN\"\n",
    "    preBM = (sm.precision_score(test_y, pred_ann_01)*100) \n",
    "    recallBM = (sm.recall_score(test_y, pred_ann_01)*100) \n",
    "    f1scoreBM = (sm.f1_score(test_y, pred_ann_01)*100)\n",
    "    print(sm.classification_report(test_y, pred_ann_01,digits=4))\n",
    "    \n",
    "    return pred_ann_prob, pred_ann_01"
   ]
  },
  {
   "cell_type": "code",
   "execution_count": 30,
   "metadata": {},
   "outputs": [],
   "source": [
    "def ann_predict_(ann,enc_test_x):\n",
    "    #pred_ann_prob = ann.predict(enc_test_x)\n",
    "    \n",
    "    start_time = time.time()\n",
    "    print(time.ctime(start_time))    \n",
    "    \n",
    "    pred_ann_prob = cross_val_predict(estimator=ann,\n",
    "                              X=np.array(enc_test_x),\n",
    "                              y=test_y,\n",
    "                              cv=KFold(n_splits=5, random_state=23))\n",
    "\n",
    "    elapsed_time = (time.time() - start_time)\n",
    "    print(\"--- %s seconds ---\" %elapsed_time)\n",
    "    \n",
    "    pred_ann_prob.shape\n",
    "    pred_ann_prob = pred_ann_prob[:,0]\n",
    "    pred_ann_01 = np.where(pred_ann_prob > 0.5, 1, 0)\n",
    "    \n",
    "    #Print accuracy\n",
    "    acc_ann = accuracy_score(test_y, pred_ann_01)\n",
    "    print('Overall accuracy of Neural Network model:', acc_ann)\n",
    "\n",
    "    classiBM = \"NN\"\n",
    "    preBM = (sm.precision_score(test_y, pred_ann_01)*100) \n",
    "    recallBM = (sm.recall_score(test_y, pred_ann_01)*100) \n",
    "    f1scoreBM = (sm.f1_score(test_y, pred_ann_01)*100)\n",
    "    print(sm.classification_report(test_y, pred_ann_01,digits=4))\n",
    "    \n",
    "    return pred_ann_prob, pred_ann_01"
   ]
  },
  {
   "cell_type": "code",
   "execution_count": 31,
   "metadata": {},
   "outputs": [],
   "source": [
    "def plot_roc_cm(pred_ann_prob, pred_ann_01, roc_file, cm_file):\n",
    "    false_positive_rate, recall, thresholds = roc_curve(test_y, pred_ann_prob)\n",
    "    roc_auc = auc(false_positive_rate, recall)\n",
    "    plt.figure()\n",
    "    plt.title('Receiver Operating Characteristic (ROC)')\n",
    "    plt.plot(false_positive_rate, recall, 'b', label = 'AUC = %0.3f' %roc_auc)\n",
    "    plt.legend(loc='lower right')\n",
    "    plt.plot([0,1], [0,1], 'r--')\n",
    "    plt.xlim([0.0,1.0])\n",
    "    plt.ylim([0.0,1.0])\n",
    "    plt.ylabel('Recall')\n",
    "    plt.xlabel('Fall-out (1-Specificity)')\n",
    "    plt.savefig(roc_file)\n",
    "    plt.show()\n",
    "    \n",
    "    cm = confusion_matrix(test_y, pred_ann_01)\n",
    "    labels = ['Normal', 'Malicious']\n",
    "    plt.figure(figsize=(8,6))\n",
    "    sns.heatmap(cm,xticklabels=labels, yticklabels=labels, annot=True, fmt='d', cmap=\"RdYlGn\", vmin = 0.2);\n",
    "    plt.title('Confusion Matrix')\n",
    "    plt.ylabel('True Class')\n",
    "    plt.xlabel('Predicted Class')\n",
    "    plt.savefig(cm_file)\n",
    "    plt.show()\n",
    "    "
   ]
  },
  {
   "cell_type": "code",
   "execution_count": 32,
   "metadata": {},
   "outputs": [
    {
     "name": "stdout",
     "output_type": "stream",
     "text": [
      "WARNING:tensorflow:From /home/user/anaconda3/envs/deepl/lib/python3.6/site-packages/tensorflow/python/framework/op_def_library.py:263: colocate_with (from tensorflow.python.framework.ops) is deprecated and will be removed in a future version.\n",
      "Instructions for updating:\n",
      "Colocations handled automatically by placer.\n",
      "_________________________________________________________________\n",
      "Layer (type)                 Output Shape              Param #   \n",
      "=================================================================\n",
      "input_1 (InputLayer)         (None, 120)               0         \n",
      "_________________________________________________________________\n",
      "encoded_bottle_neck (Dense)  (None, 80)                9680      \n",
      "_________________________________________________________________\n",
      "dense_1 (Dense)              (None, 120)               9720      \n",
      "=================================================================\n",
      "Total params: 19,400\n",
      "Trainable params: 19,400\n",
      "Non-trainable params: 0\n",
      "_________________________________________________________________\n",
      "None\n"
     ]
    }
   ],
   "source": [
    "ae_sigmoid_adam_logcosh,enc_train_x_asal,enc_test_x_asal = ae(factor_enc_dim = 1.5,\n",
    "                                                              enc_activation = 'relu',\n",
    "                                                              dec_activation = 'sigmoid',\n",
    "                                                              optimizer='Adam',\n",
    "                                                              loss='logcosh')"
   ]
  },
  {
   "cell_type": "code",
   "execution_count": 33,
   "metadata": {},
   "outputs": [],
   "source": [
    "#ae_sigmoid_adam_logcosh = load_model('ae_sigmoid_adam_logcosh_redds10bal.h5')"
   ]
  },
  {
   "cell_type": "code",
   "execution_count": 34,
   "metadata": {},
   "outputs": [
    {
     "name": "stdout",
     "output_type": "stream",
     "text": [
      "Wed Jun 12 16:37:31 2019\n",
      "WARNING:tensorflow:From /home/user/anaconda3/envs/deepl/lib/python3.6/site-packages/tensorflow/python/ops/math_ops.py:3066: to_int32 (from tensorflow.python.ops.math_ops) is deprecated and will be removed in a future version.\n",
      "Instructions for updating:\n",
      "Use tf.cast instead.\n",
      "Train on 333242 samples, validate on 83311 samples\n",
      "Epoch 1/200\n",
      "333242/333242 [==============================] - 6s 19us/step - loss: 0.0340 - acc: 0.2612 - val_loss: 0.0288 - val_acc: 0.3228\n",
      "Epoch 2/200\n",
      "333242/333242 [==============================] - 6s 18us/step - loss: 0.0284 - acc: 0.3361 - val_loss: 0.0282 - val_acc: 0.3421\n",
      "Epoch 3/200\n",
      "333242/333242 [==============================] - 6s 18us/step - loss: 0.0282 - acc: 0.3301 - val_loss: 0.0282 - val_acc: 0.3370\n",
      "Epoch 4/200\n",
      "333242/333242 [==============================] - 6s 18us/step - loss: 0.0282 - acc: 0.3128 - val_loss: 0.0281 - val_acc: 0.2961\n",
      "Epoch 5/200\n",
      "333242/333242 [==============================] - 6s 17us/step - loss: 0.0282 - acc: 0.2803 - val_loss: 0.0281 - val_acc: 0.2602\n",
      "Epoch 6/200\n",
      "333242/333242 [==============================] - 6s 18us/step - loss: 0.0281 - acc: 0.2520 - val_loss: 0.0281 - val_acc: 0.2567\n",
      "Epoch 7/200\n",
      "333242/333242 [==============================] - 6s 18us/step - loss: 0.0281 - acc: 0.2467 - val_loss: 0.0281 - val_acc: 0.2299\n",
      "Epoch 8/200\n",
      "333242/333242 [==============================] - 6s 18us/step - loss: 0.0281 - acc: 0.2207 - val_loss: 0.0281 - val_acc: 0.2108\n",
      "Epoch 9/200\n",
      "333242/333242 [==============================] - 6s 17us/step - loss: 0.0281 - acc: 0.2167 - val_loss: 0.0281 - val_acc: 0.1848\n",
      "Epoch 10/200\n",
      "333242/333242 [==============================] - 6s 18us/step - loss: 0.0281 - acc: 0.2264 - val_loss: 0.0281 - val_acc: 0.2345\n",
      "Epoch 11/200\n",
      "333242/333242 [==============================] - 6s 17us/step - loss: 0.0281 - acc: 0.2182 - val_loss: 0.0281 - val_acc: 0.1668\n",
      "Epoch 12/200\n",
      "333242/333242 [==============================] - 6s 17us/step - loss: 0.0281 - acc: 0.1692 - val_loss: 0.0281 - val_acc: 0.1697\n",
      "Epoch 13/200\n",
      "333242/333242 [==============================] - 6s 18us/step - loss: 0.0281 - acc: 0.1725 - val_loss: 0.0281 - val_acc: 0.1763\n",
      "Epoch 14/200\n",
      "333242/333242 [==============================] - 6s 18us/step - loss: 0.0281 - acc: 0.1726 - val_loss: 0.0281 - val_acc: 0.1696\n",
      "Epoch 15/200\n",
      "333242/333242 [==============================] - 6s 18us/step - loss: 0.0281 - acc: 0.1830 - val_loss: 0.0281 - val_acc: 0.2079\n",
      "Epoch 16/200\n",
      "333242/333242 [==============================] - 6s 18us/step - loss: 0.0281 - acc: 0.2017 - val_loss: 0.0281 - val_acc: 0.2040\n",
      "Epoch 17/200\n",
      "333242/333242 [==============================] - 6s 18us/step - loss: 0.0281 - acc: 0.1849 - val_loss: 0.0281 - val_acc: 0.1778\n",
      "Epoch 18/200\n",
      "333242/333242 [==============================] - 6s 18us/step - loss: 0.0281 - acc: 0.1698 - val_loss: 0.0281 - val_acc: 0.1744\n",
      "Epoch 19/200\n",
      "333242/333242 [==============================] - 6s 18us/step - loss: 0.0281 - acc: 0.1652 - val_loss: 0.0281 - val_acc: 0.1610\n",
      "Epoch 20/200\n",
      "333242/333242 [==============================] - 6s 18us/step - loss: 0.0281 - acc: 0.1607 - val_loss: 0.0281 - val_acc: 0.1683\n",
      "Epoch 21/200\n",
      "333242/333242 [==============================] - 6s 18us/step - loss: 0.0281 - acc: 0.1608 - val_loss: 0.0281 - val_acc: 0.1783\n",
      "Epoch 22/200\n",
      "333242/333242 [==============================] - 6s 18us/step - loss: 0.0281 - acc: 0.1728 - val_loss: 0.0281 - val_acc: 0.1654\n",
      "Epoch 23/200\n",
      "333242/333242 [==============================] - 6s 17us/step - loss: 0.0281 - acc: 0.1616 - val_loss: 0.0281 - val_acc: 0.1590\n",
      "Epoch 24/200\n",
      "333242/333242 [==============================] - 6s 18us/step - loss: 0.0281 - acc: 0.1618 - val_loss: 0.0281 - val_acc: 0.1603\n",
      "Epoch 25/200\n",
      "333242/333242 [==============================] - 6s 17us/step - loss: 0.0281 - acc: 0.1645 - val_loss: 0.0281 - val_acc: 0.1625\n",
      "Epoch 26/200\n",
      "333242/333242 [==============================] - 6s 18us/step - loss: 0.0281 - acc: 0.1611 - val_loss: 0.0281 - val_acc: 0.1599\n",
      "Epoch 27/200\n",
      "333242/333242 [==============================] - 6s 18us/step - loss: 0.0281 - acc: 0.1604 - val_loss: 0.0281 - val_acc: 0.1698\n",
      "Epoch 28/200\n",
      "333242/333242 [==============================] - 6s 17us/step - loss: 0.0281 - acc: 0.1610 - val_loss: 0.0281 - val_acc: 0.1606\n",
      "Epoch 29/200\n",
      "333242/333242 [==============================] - 6s 18us/step - loss: 0.0281 - acc: 0.1588 - val_loss: 0.0281 - val_acc: 0.1561\n",
      "Epoch 30/200\n",
      "333242/333242 [==============================] - 6s 18us/step - loss: 0.0281 - acc: 0.1558 - val_loss: 0.0281 - val_acc: 0.1539\n",
      "--- AE spent 177.59705233573914 seconds ---\n"
     ]
    }
   ],
   "source": [
    "hist_ae_sigmoid_adam_logcosh = fit_ae(checkpoint_file = \"ae_sigmoid_adam_logcosh_redds\"+str(dsnum)+\"bal.h5\",\n",
    "                                        autoencoder = ae_sigmoid_adam_logcosh, \n",
    "                                        epochs = 200, \n",
    "                                        batch_size = batch_size, \n",
    "                                        shuffle = False)"
   ]
  },
  {
   "cell_type": "code",
   "execution_count": 35,
   "metadata": {},
   "outputs": [
    {
     "name": "stdout",
     "output_type": "stream",
     "text": [
      "Best loss value: 0.0281253159796056\n"
     ]
    },
    {
     "data": {
      "image/png": "[encoded data removed]",
      "text/plain": [
       "<Figure size 432x288 with 1 Axes>"
      ]
     },
     "metadata": {
      "needs_background": "light"
     },
     "output_type": "display_data"
    }
   ],
   "source": [
    "best_loss_value_ae_sigmoid_adam_logcosh = plot_hist_auto(hist_ae_sigmoid_adam_logcosh, './Figures/ae_sigmoid_adam_logcosh'+str(dsnum)+'.png')"
   ]
  },
  {
   "cell_type": "code",
   "execution_count": null,
   "metadata": {},
   "outputs": [],
   "source": []
  },
  {
   "cell_type": "code",
   "execution_count": null,
   "metadata": {},
   "outputs": [],
   "source": []
  },
  {
   "cell_type": "code",
   "execution_count": 36,
   "metadata": {},
   "outputs": [
    {
     "name": "stdout",
     "output_type": "stream",
     "text": [
      "_________________________________________________________________\n",
      "Layer (type)                 Output Shape              Param #   \n",
      "=================================================================\n",
      "input_2 (InputLayer)         (None, 120)               0         \n",
      "_________________________________________________________________\n",
      "encoded_bottle_neck (Dense)  (None, 80)                9680      \n",
      "_________________________________________________________________\n",
      "dense_2 (Dense)              (None, 120)               9720      \n",
      "=================================================================\n",
      "Total params: 19,400\n",
      "Trainable params: 19,400\n",
      "Non-trainable params: 0\n",
      "_________________________________________________________________\n",
      "None\n"
     ]
    }
   ],
   "source": [
    "ae_siglin_adam_logcosh,enc_train_x_aslal,enc_test_x_aslal = ae(factor_enc_dim = 1.5,\n",
    "                                                              enc_activation = 'sigmoid',\n",
    "                                                              dec_activation = 'linear',\n",
    "                                                              optimizer='Adam',\n",
    "                                                              loss='logcosh')"
   ]
  },
  {
   "cell_type": "code",
   "execution_count": 37,
   "metadata": {},
   "outputs": [],
   "source": [
    "#ae_siglin_adam_logcosh = load_model('ae_siglin_adam_logcosh_redds10bal.h5')"
   ]
  },
  {
   "cell_type": "code",
   "execution_count": 38,
   "metadata": {},
   "outputs": [
    {
     "name": "stdout",
     "output_type": "stream",
     "text": [
      "Wed Jun 12 16:40:33 2019\n",
      "Train on 333242 samples, validate on 83311 samples\n",
      "Epoch 1/200\n",
      "333242/333242 [==============================] - 6s 18us/step - loss: 0.0059 - acc: 0.6832 - val_loss: 0.0013 - val_acc: 0.7699\n",
      "Epoch 2/200\n",
      "333242/333242 [==============================] - 6s 17us/step - loss: 9.6493e-04 - acc: 0.7996 - val_loss: 9.4743e-04 - val_acc: 0.7731\n",
      "Epoch 3/200\n",
      "333242/333242 [==============================] - 6s 17us/step - loss: 8.1733e-04 - acc: 0.8191 - val_loss: 8.9535e-04 - val_acc: 0.7553\n",
      "Epoch 4/200\n",
      "333242/333242 [==============================] - 6s 17us/step - loss: 7.5778e-04 - acc: 0.8315 - val_loss: 8.5612e-04 - val_acc: 0.7666\n",
      "Epoch 5/200\n",
      "333242/333242 [==============================] - 6s 18us/step - loss: 7.1603e-04 - acc: 0.8325 - val_loss: 8.2112e-04 - val_acc: 0.7744\n",
      "Epoch 6/200\n",
      "333242/333242 [==============================] - 6s 17us/step - loss: 6.8143e-04 - acc: 0.8323 - val_loss: 7.8850e-04 - val_acc: 0.7753\n",
      "Epoch 7/200\n",
      "333242/333242 [==============================] - 6s 17us/step - loss: 6.5235e-04 - acc: 0.8319 - val_loss: 7.6551e-04 - val_acc: 0.7714\n",
      "Epoch 8/200\n",
      "333242/333242 [==============================] - 6s 17us/step - loss: 6.3164e-04 - acc: 0.8315 - val_loss: 7.4940e-04 - val_acc: 0.7656\n",
      "Epoch 9/200\n",
      "333242/333242 [==============================] - 6s 18us/step - loss: 6.1683e-04 - acc: 0.8311 - val_loss: 7.3634e-04 - val_acc: 0.7644\n",
      "Epoch 10/200\n",
      "333242/333242 [==============================] - 6s 17us/step - loss: 6.0555e-04 - acc: 0.8311 - val_loss: 7.2258e-04 - val_acc: 0.7664\n",
      "Epoch 11/200\n",
      "333242/333242 [==============================] - 6s 18us/step - loss: 5.9636e-04 - acc: 0.8313 - val_loss: 7.1036e-04 - val_acc: 0.7656\n",
      "Epoch 12/200\n",
      "333242/333242 [==============================] - 6s 18us/step - loss: 5.8870e-04 - acc: 0.8316 - val_loss: 6.9904e-04 - val_acc: 0.7638\n",
      "Epoch 13/200\n",
      "333242/333242 [==============================] - 6s 18us/step - loss: 5.8217e-04 - acc: 0.8320 - val_loss: 6.8873e-04 - val_acc: 0.7650\n",
      "Epoch 14/200\n",
      "333242/333242 [==============================] - 6s 17us/step - loss: 5.7658e-04 - acc: 0.8317 - val_loss: 6.7916e-04 - val_acc: 0.7637\n",
      "Epoch 15/200\n",
      "333242/333242 [==============================] - 6s 18us/step - loss: 5.7181e-04 - acc: 0.8317 - val_loss: 6.7152e-04 - val_acc: 0.7551\n",
      "Epoch 16/200\n",
      "333242/333242 [==============================] - 6s 17us/step - loss: 5.6774e-04 - acc: 0.8306 - val_loss: 6.6617e-04 - val_acc: 0.7638\n",
      "Epoch 17/200\n",
      "333242/333242 [==============================] - 6s 17us/step - loss: 5.6423e-04 - acc: 0.8290 - val_loss: 6.6266e-04 - val_acc: 0.7706\n",
      "Epoch 18/200\n",
      "333242/333242 [==============================] - 6s 18us/step - loss: 5.6117e-04 - acc: 0.8293 - val_loss: 6.5891e-04 - val_acc: 0.7492\n",
      "Epoch 19/200\n",
      "333242/333242 [==============================] - 6s 18us/step - loss: 5.5853e-04 - acc: 0.8286 - val_loss: 6.5328e-04 - val_acc: 0.7494\n",
      "Epoch 20/200\n",
      "333242/333242 [==============================] - 6s 17us/step - loss: 5.5625e-04 - acc: 0.8300 - val_loss: 6.4767e-04 - val_acc: 0.8145\n",
      "Epoch 21/200\n",
      "333242/333242 [==============================] - 6s 18us/step - loss: 5.5420e-04 - acc: 0.8323 - val_loss: 6.4290e-04 - val_acc: 0.9140\n",
      "Epoch 22/200\n",
      "333242/333242 [==============================] - 6s 17us/step - loss: 5.5235e-04 - acc: 0.8321 - val_loss: 6.3878e-04 - val_acc: 0.7495\n",
      "Epoch 23/200\n",
      "333242/333242 [==============================] - 6s 17us/step - loss: 5.5070e-04 - acc: 0.8322 - val_loss: 6.3518e-04 - val_acc: 0.8030\n",
      "Epoch 24/200\n",
      "333242/333242 [==============================] - 6s 17us/step - loss: 5.4922e-04 - acc: 0.8337 - val_loss: 6.3203e-04 - val_acc: 0.7891\n",
      "Epoch 25/200\n",
      "333242/333242 [==============================] - 6s 18us/step - loss: 5.4787e-04 - acc: 0.8315 - val_loss: 6.2912e-04 - val_acc: 0.9199\n",
      "Epoch 26/200\n",
      "333242/333242 [==============================] - 6s 17us/step - loss: 5.4666e-04 - acc: 0.8334 - val_loss: 6.2649e-04 - val_acc: 0.7911\n",
      "Epoch 27/200\n",
      "333242/333242 [==============================] - 6s 18us/step - loss: 5.4563e-04 - acc: 0.8300 - val_loss: 6.2421e-04 - val_acc: 0.7495\n",
      "Epoch 28/200\n",
      "333242/333242 [==============================] - 6s 18us/step - loss: 5.4473e-04 - acc: 0.8333 - val_loss: 6.2241e-04 - val_acc: 0.7497\n",
      "Epoch 29/200\n",
      "333242/333242 [==============================] - 6s 18us/step - loss: 5.4393e-04 - acc: 0.8337 - val_loss: 6.2105e-04 - val_acc: 0.9151\n",
      "Epoch 30/200\n",
      "333242/333242 [==============================] - 6s 18us/step - loss: 5.4319e-04 - acc: 0.8358 - val_loss: 6.2010e-04 - val_acc: 0.7541\n",
      "Epoch 31/200\n",
      "333242/333242 [==============================] - 6s 18us/step - loss: 5.4250e-04 - acc: 0.8319 - val_loss: 6.1929e-04 - val_acc: 0.7566\n",
      "Epoch 32/200\n",
      "333242/333242 [==============================] - 6s 18us/step - loss: 5.4188e-04 - acc: 0.8351 - val_loss: 6.1839e-04 - val_acc: 0.8608\n",
      "Epoch 33/200\n",
      "333242/333242 [==============================] - 6s 18us/step - loss: 5.4130e-04 - acc: 0.8321 - val_loss: 6.1722e-04 - val_acc: 0.7604\n",
      "Epoch 34/200\n",
      "333242/333242 [==============================] - 6s 18us/step - loss: 5.4074e-04 - acc: 0.8294 - val_loss: 6.1572e-04 - val_acc: 0.8458\n",
      "Epoch 35/200\n",
      "333242/333242 [==============================] - 6s 18us/step - loss: 5.4019e-04 - acc: 0.8310 - val_loss: 6.1461e-04 - val_acc: 0.7503\n",
      "Epoch 36/200\n",
      "333242/333242 [==============================] - 6s 17us/step - loss: 5.3966e-04 - acc: 0.8324 - val_loss: 6.1347e-04 - val_acc: 0.7846\n",
      "Epoch 37/200\n",
      "333242/333242 [==============================] - 6s 18us/step - loss: 5.3915e-04 - acc: 0.8343 - val_loss: 6.1230e-04 - val_acc: 0.7497\n",
      "Epoch 38/200\n",
      "333242/333242 [==============================] - 6s 17us/step - loss: 5.3867e-04 - acc: 0.8344 - val_loss: 6.1120e-04 - val_acc: 0.7552\n",
      "Epoch 39/200\n",
      "333242/333242 [==============================] - 6s 17us/step - loss: 5.3821e-04 - acc: 0.8328 - val_loss: 6.1044e-04 - val_acc: 0.7563\n",
      "Epoch 40/200\n",
      "333242/333242 [==============================] - 6s 18us/step - loss: 5.3778e-04 - acc: 0.8326 - val_loss: 6.0987e-04 - val_acc: 0.7497\n",
      "Epoch 41/200\n",
      "333242/333242 [==============================] - 6s 18us/step - loss: 5.3736e-04 - acc: 0.8350 - val_loss: 6.0915e-04 - val_acc: 0.9190\n",
      "Epoch 42/200\n",
      "333242/333242 [==============================] - 6s 18us/step - loss: 5.3696e-04 - acc: 0.8328 - val_loss: 6.0847e-04 - val_acc: 0.7530\n",
      "Epoch 43/200\n",
      "333242/333242 [==============================] - 6s 18us/step - loss: 5.3656e-04 - acc: 0.8316 - val_loss: 6.0781e-04 - val_acc: 0.8712\n",
      "Epoch 44/200\n",
      "333242/333242 [==============================] - 6s 18us/step - loss: 5.3617e-04 - acc: 0.8316 - val_loss: 6.0711e-04 - val_acc: 0.8620\n",
      "Epoch 45/200\n",
      "333242/333242 [==============================] - 6s 17us/step - loss: 5.3578e-04 - acc: 0.8310 - val_loss: 6.0636e-04 - val_acc: 0.9034\n",
      "Epoch 46/200\n",
      "333242/333242 [==============================] - 6s 17us/step - loss: 5.3538e-04 - acc: 0.8334 - val_loss: 6.0569e-04 - val_acc: 0.8866\n",
      "Epoch 47/200\n",
      "333242/333242 [==============================] - 6s 17us/step - loss: 5.3503e-04 - acc: 0.8319 - val_loss: 6.0546e-04 - val_acc: 0.7527\n",
      "Epoch 48/200\n",
      "333242/333242 [==============================] - 6s 17us/step - loss: 5.3468e-04 - acc: 0.8310 - val_loss: 6.0547e-04 - val_acc: 0.7480\n",
      "Epoch 49/200\n",
      "333242/333242 [==============================] - 6s 18us/step - loss: 5.3431e-04 - acc: 0.8293 - val_loss: 6.0527e-04 - val_acc: 0.7481\n",
      "Epoch 50/200\n",
      "333242/333242 [==============================] - 6s 18us/step - loss: 5.3390e-04 - acc: 0.8293 - val_loss: 6.0476e-04 - val_acc: 0.8713\n",
      "Epoch 51/200\n",
      "333242/333242 [==============================] - 6s 18us/step - loss: 5.3355e-04 - acc: 0.8312 - val_loss: 6.0396e-04 - val_acc: 0.7485\n",
      "Epoch 52/200\n",
      "333242/333242 [==============================] - 6s 18us/step - loss: 5.3326e-04 - acc: 0.8313 - val_loss: 6.0325e-04 - val_acc: 0.7488\n",
      "Epoch 53/200\n",
      "333242/333242 [==============================] - 6s 18us/step - loss: 5.3300e-04 - acc: 0.8320 - val_loss: 6.0273e-04 - val_acc: 0.8943\n",
      "Epoch 54/200\n",
      "333242/333242 [==============================] - 6s 17us/step - loss: 5.3276e-04 - acc: 0.8299 - val_loss: 6.0234e-04 - val_acc: 0.8610\n",
      "Epoch 55/200\n",
      "333242/333242 [==============================] - 6s 18us/step - loss: 5.3254e-04 - acc: 0.8342 - val_loss: 6.0206e-04 - val_acc: 0.7870\n",
      "Epoch 56/200\n",
      "333242/333242 [==============================] - 6s 17us/step - loss: 5.3235e-04 - acc: 0.8346 - val_loss: 6.0186e-04 - val_acc: 0.7660\n",
      "Epoch 57/200\n",
      "333242/333242 [==============================] - 6s 18us/step - loss: 5.3216e-04 - acc: 0.8318 - val_loss: 6.0170e-04 - val_acc: 0.8102\n",
      "Epoch 58/200\n",
      "333242/333242 [==============================] - 6s 17us/step - loss: 5.3198e-04 - acc: 0.8327 - val_loss: 6.0155e-04 - val_acc: 0.8933\n",
      "Epoch 59/200\n",
      "333242/333242 [==============================] - 6s 17us/step - loss: 5.3180e-04 - acc: 0.8314 - val_loss: 6.0142e-04 - val_acc: 0.8955\n",
      "Epoch 60/200\n",
      "333242/333242 [==============================] - 6s 17us/step - loss: 5.3161e-04 - acc: 0.8318 - val_loss: 6.0131e-04 - val_acc: 0.8606\n",
      "Epoch 61/200\n",
      "333242/333242 [==============================] - 6s 17us/step - loss: 5.3141e-04 - acc: 0.8311 - val_loss: 6.0125e-04 - val_acc: 0.7495\n",
      "Epoch 62/200\n",
      "333242/333242 [==============================] - 6s 17us/step - loss: 5.3119e-04 - acc: 0.8315 - val_loss: 6.0122e-04 - val_acc: 0.7562\n",
      "Epoch 63/200\n",
      "333242/333242 [==============================] - 6s 18us/step - loss: 5.3096e-04 - acc: 0.8312 - val_loss: 6.0116e-04 - val_acc: 0.7992\n",
      "Epoch 64/200\n",
      "333242/333242 [==============================] - 6s 17us/step - loss: 5.3066e-04 - acc: 0.8309 - val_loss: 6.0110e-04 - val_acc: 0.7465\n",
      "Epoch 65/200\n",
      "333242/333242 [==============================] - 6s 17us/step - loss: 5.3031e-04 - acc: 0.8324 - val_loss: 6.0107e-04 - val_acc: 0.8613\n",
      "Epoch 66/200\n",
      "333242/333242 [==============================] - 6s 17us/step - loss: 5.3016e-04 - acc: 0.8309 - val_loss: 6.0011e-04 - val_acc: 0.7672\n",
      "Epoch 67/200\n",
      "333242/333242 [==============================] - 6s 17us/step - loss: 5.2970e-04 - acc: 0.8300 - val_loss: 6.0241e-04 - val_acc: 0.9138\n",
      "Epoch 68/200\n",
      "333242/333242 [==============================] - 6s 17us/step - loss: 5.3001e-04 - acc: 0.8315 - val_loss: 6.0358e-04 - val_acc: 0.7822\n",
      "Epoch 69/200\n",
      "333242/333242 [==============================] - 6s 17us/step - loss: 5.2980e-04 - acc: 0.8311 - val_loss: 6.0434e-04 - val_acc: 0.7472\n",
      "Epoch 70/200\n",
      "333242/333242 [==============================] - 6s 17us/step - loss: 5.2956e-04 - acc: 0.8298 - val_loss: 6.0481e-04 - val_acc: 0.9133\n",
      "Epoch 71/200\n",
      "333242/333242 [==============================] - 6s 17us/step - loss: 5.2921e-04 - acc: 0.8307 - val_loss: 6.0487e-04 - val_acc: 0.7523\n",
      "--- AE spent 415.3283987045288 seconds ---\n"
     ]
    }
   ],
   "source": [
    "hist_ae_siglin_adam_logcosh = fit_ae(checkpoint_file = \"ae_siglin_adam_logcosh_redds\"+str(dsnum)+\"bal.h5\",\n",
    "                                        autoencoder = ae_siglin_adam_logcosh, \n",
    "                                        epochs = 200, \n",
    "                                        batch_size = batch_size, \n",
    "                                        shuffle = False)"
   ]
  },
  {
   "cell_type": "code",
   "execution_count": 39,
   "metadata": {},
   "outputs": [
    {
     "name": "stdout",
     "output_type": "stream",
     "text": [
      "Best loss value: 0.00052920762953814\n"
     ]
    },
    {
     "data": {
      "image/png": "[encoded data removed]",
      "text/plain": [
       "<Figure size 432x288 with 1 Axes>"
      ]
     },
     "metadata": {
      "needs_background": "light"
     },
     "output_type": "display_data"
    }
   ],
   "source": [
    "best_loss_value_ae_siglin_adam_logcosh = plot_hist_auto(hist_ae_siglin_adam_logcosh, './Figures/hist_ae_siglin_adam_logcosh'+str(dsnum)+'.png')"
   ]
  },
  {
   "cell_type": "code",
   "execution_count": null,
   "metadata": {},
   "outputs": [],
   "source": []
  },
  {
   "cell_type": "code",
   "execution_count": 40,
   "metadata": {},
   "outputs": [
    {
     "name": "stdout",
     "output_type": "stream",
     "text": [
      "_________________________________________________________________\n",
      "Layer (type)                 Output Shape              Param #   \n",
      "=================================================================\n",
      "input_3 (InputLayer)         (None, 120)               0         \n",
      "_________________________________________________________________\n",
      "encoded_bottle_neck (Dense)  (None, 80)                9680      \n",
      "_________________________________________________________________\n",
      "dense_3 (Dense)              (None, 120)               9720      \n",
      "=================================================================\n",
      "Total params: 19,400\n",
      "Trainable params: 19,400\n",
      "Non-trainable params: 0\n",
      "_________________________________________________________________\n",
      "None\n"
     ]
    }
   ],
   "source": [
    "ae_sigmoid_adam_mse,enc_train_x_asam,enc_test_x_asam = ae(factor_enc_dim = 1.5,\n",
    "                                                          enc_activation = 'relu',\n",
    "                                                          dec_activation = 'sigmoid',\n",
    "                                                          optimizer='Adam',\n",
    "                                                          loss='mean_squared_error')"
   ]
  },
  {
   "cell_type": "code",
   "execution_count": 41,
   "metadata": {},
   "outputs": [],
   "source": [
    "#ae_sigmoid_adam_mse = load_model('ae_sigmoid_adam_mse_redds10bal.h5')"
   ]
  },
  {
   "cell_type": "code",
   "execution_count": 42,
   "metadata": {},
   "outputs": [
    {
     "name": "stdout",
     "output_type": "stream",
     "text": [
      "Wed Jun 12 16:47:33 2019\n",
      "Train on 333242 samples, validate on 83311 samples\n",
      "Epoch 1/200\n",
      "333242/333242 [==============================] - 6s 17us/step - loss: 0.0975 - acc: 0.2216 - val_loss: 0.0842 - val_acc: 0.2706\n",
      "Epoch 2/200\n",
      "333242/333242 [==============================] - 6s 17us/step - loss: 0.0858 - acc: 0.2862 - val_loss: 0.0836 - val_acc: 0.3171\n",
      "Epoch 3/200\n",
      "333242/333242 [==============================] - 6s 17us/step - loss: 0.0855 - acc: 0.2823 - val_loss: 0.0835 - val_acc: 0.2649\n",
      "Epoch 4/200\n",
      "333242/333242 [==============================] - 6s 17us/step - loss: 0.0854 - acc: 0.2425 - val_loss: 0.0834 - val_acc: 0.2200\n",
      "Epoch 5/200\n",
      "333242/333242 [==============================] - 6s 17us/step - loss: 0.0854 - acc: 0.2068 - val_loss: 0.0834 - val_acc: 0.1914\n",
      "Epoch 6/200\n",
      "333242/333242 [==============================] - 6s 17us/step - loss: 0.0854 - acc: 0.1639 - val_loss: 0.0834 - val_acc: 0.1808\n",
      "Epoch 7/200\n",
      "333242/333242 [==============================] - 6s 17us/step - loss: 0.0854 - acc: 0.1831 - val_loss: 0.0834 - val_acc: 0.1691\n",
      "Epoch 8/200\n",
      "333242/333242 [==============================] - 6s 17us/step - loss: 0.0854 - acc: 0.1594 - val_loss: 0.0834 - val_acc: 0.1658\n",
      "Epoch 9/200\n",
      "333242/333242 [==============================] - 6s 17us/step - loss: 0.0854 - acc: 0.1602 - val_loss: 0.0834 - val_acc: 0.1626\n",
      "Epoch 10/200\n",
      "333242/333242 [==============================] - 6s 18us/step - loss: 0.0854 - acc: 0.1630 - val_loss: 0.0834 - val_acc: 0.1925\n",
      "Epoch 11/200\n",
      "333242/333242 [==============================] - 6s 18us/step - loss: 0.0854 - acc: 0.2045 - val_loss: 0.0834 - val_acc: 0.2055\n",
      "Epoch 12/200\n",
      "333242/333242 [==============================] - 6s 17us/step - loss: 0.0854 - acc: 0.2229 - val_loss: 0.0834 - val_acc: 0.2193\n",
      "Epoch 13/200\n",
      "333242/333242 [==============================] - 6s 17us/step - loss: 0.0854 - acc: 0.2081 - val_loss: 0.0834 - val_acc: 0.1511\n",
      "Epoch 14/200\n",
      "333242/333242 [==============================] - 6s 18us/step - loss: 0.0854 - acc: 0.1545 - val_loss: 0.0834 - val_acc: 0.1603\n",
      "Epoch 15/200\n",
      "333242/333242 [==============================] - 6s 18us/step - loss: 0.0854 - acc: 0.1651 - val_loss: 0.0834 - val_acc: 0.1690\n",
      "Epoch 16/200\n",
      "333242/333242 [==============================] - 6s 17us/step - loss: 0.0854 - acc: 0.1692 - val_loss: 0.0834 - val_acc: 0.1734\n",
      "Epoch 17/200\n",
      "333242/333242 [==============================] - 6s 17us/step - loss: 0.0854 - acc: 0.1735 - val_loss: 0.0834 - val_acc: 0.1671\n",
      "Epoch 18/200\n",
      "333242/333242 [==============================] - 6s 18us/step - loss: 0.0854 - acc: 0.1676 - val_loss: 0.0834 - val_acc: 0.1532\n",
      "Epoch 19/200\n",
      "333242/333242 [==============================] - 6s 17us/step - loss: 0.0854 - acc: 0.1550 - val_loss: 0.0834 - val_acc: 0.1543\n",
      "Epoch 20/200\n",
      "333242/333242 [==============================] - 6s 17us/step - loss: 0.0854 - acc: 0.1543 - val_loss: 0.0834 - val_acc: 0.1474\n",
      "Epoch 21/200\n",
      "333242/333242 [==============================] - 6s 17us/step - loss: 0.0854 - acc: 0.1491 - val_loss: 0.0834 - val_acc: 0.1513\n",
      "Epoch 22/200\n",
      "333242/333242 [==============================] - 6s 18us/step - loss: 0.0854 - acc: 0.1449 - val_loss: 0.0834 - val_acc: 0.1440\n",
      "Epoch 23/200\n",
      "333242/333242 [==============================] - 6s 17us/step - loss: 0.0854 - acc: 0.1426 - val_loss: 0.0834 - val_acc: 0.1470\n",
      "Epoch 24/200\n",
      "333242/333242 [==============================] - 6s 18us/step - loss: 0.0854 - acc: 0.1418 - val_loss: 0.0834 - val_acc: 0.1376\n",
      "Epoch 25/200\n",
      "333242/333242 [==============================] - 6s 18us/step - loss: 0.0854 - acc: 0.1372 - val_loss: 0.0834 - val_acc: 0.1391\n",
      "Epoch 26/200\n",
      "333242/333242 [==============================] - 6s 18us/step - loss: 0.0854 - acc: 0.1378 - val_loss: 0.0834 - val_acc: 0.1379\n",
      "Epoch 27/200\n",
      "333242/333242 [==============================] - 6s 18us/step - loss: 0.0854 - acc: 0.1386 - val_loss: 0.0834 - val_acc: 0.1374\n",
      "Epoch 28/200\n",
      "333242/333242 [==============================] - 6s 17us/step - loss: 0.0854 - acc: 0.1400 - val_loss: 0.0834 - val_acc: 0.1602\n",
      "Epoch 29/200\n",
      "333242/333242 [==============================] - 6s 18us/step - loss: 0.0854 - acc: 0.1613 - val_loss: 0.0834 - val_acc: 0.1455\n",
      "Epoch 30/200\n",
      "333242/333242 [==============================] - 6s 18us/step - loss: 0.0854 - acc: 0.1404 - val_loss: 0.0834 - val_acc: 0.1366\n",
      "Epoch 31/200\n",
      "333242/333242 [==============================] - 6s 18us/step - loss: 0.0854 - acc: 0.1376 - val_loss: 0.0834 - val_acc: 0.1506\n",
      "Epoch 32/200\n",
      "333242/333242 [==============================] - 6s 18us/step - loss: 0.0854 - acc: 0.1441 - val_loss: 0.0834 - val_acc: 0.1386\n",
      "Epoch 33/200\n",
      "333242/333242 [==============================] - 6s 18us/step - loss: 0.0854 - acc: 0.1364 - val_loss: 0.0834 - val_acc: 0.1300\n",
      "Epoch 34/200\n",
      "333242/333242 [==============================] - 6s 18us/step - loss: 0.0854 - acc: 0.1344 - val_loss: 0.0834 - val_acc: 0.1504\n",
      "--- AE spent 198.4555950164795 seconds ---\n"
     ]
    }
   ],
   "source": [
    "hist_ae_sigmoid_adam_mse = fit_ae(checkpoint_file = \"ae_sigmoid_adam_mse_redds\"+str(dsnum)+\"bal.h5\",\n",
    "                                  autoencoder = ae_sigmoid_adam_mse, \n",
    "                                  epochs = 200, \n",
    "                                  batch_size = batch_size,\n",
    "                                  shuffle = False)"
   ]
  },
  {
   "cell_type": "code",
   "execution_count": 43,
   "metadata": {},
   "outputs": [
    {
     "name": "stdout",
     "output_type": "stream",
     "text": [
      "Best loss value: 0.08539347873476365\n"
     ]
    },
    {
     "data": {
      "image/png": "[encoded data removed]",
      "text/plain": [
       "<Figure size 432x288 with 1 Axes>"
      ]
     },
     "metadata": {
      "needs_background": "light"
     },
     "output_type": "display_data"
    }
   ],
   "source": [
    "best_loss_value_ae_sigmoid_adam_mse  = plot_hist_auto(hist_ae_sigmoid_adam_mse, './Figures/hist_ae_sigmoid_adam_mse.png')"
   ]
  },
  {
   "cell_type": "code",
   "execution_count": null,
   "metadata": {},
   "outputs": [],
   "source": []
  },
  {
   "cell_type": "code",
   "execution_count": null,
   "metadata": {},
   "outputs": [],
   "source": []
  },
  {
   "cell_type": "code",
   "execution_count": 44,
   "metadata": {},
   "outputs": [
    {
     "name": "stdout",
     "output_type": "stream",
     "text": [
      "_________________________________________________________________\n",
      "Layer (type)                 Output Shape              Param #   \n",
      "=================================================================\n",
      "input_4 (InputLayer)         (None, 120)               0         \n",
      "_________________________________________________________________\n",
      "encoded_bottle_neck (Dense)  (None, 80)                9680      \n",
      "_________________________________________________________________\n",
      "dense_4 (Dense)              (None, 120)               9720      \n",
      "=================================================================\n",
      "Total params: 19,400\n",
      "Trainable params: 19,400\n",
      "Non-trainable params: 0\n",
      "_________________________________________________________________\n",
      "None\n"
     ]
    }
   ],
   "source": [
    "ae_sigsig_adam_logcosh,enc_train_x_assal,enc_test_x_assal = ae(factor_enc_dim = 1.5,\n",
    "                                                          enc_activation = 'sigmoid',\n",
    "                                                          dec_activation = 'sigmoid',\n",
    "                                                          optimizer='Adam',\n",
    "                                                          loss='logcosh')"
   ]
  },
  {
   "cell_type": "code",
   "execution_count": 45,
   "metadata": {},
   "outputs": [],
   "source": [
    "#ae_sigsig_adam_logcosh = load_model('ae_sigsig_adam_logcosh_redds10bal.h5')"
   ]
  },
  {
   "cell_type": "code",
   "execution_count": 46,
   "metadata": {},
   "outputs": [
    {
     "name": "stdout",
     "output_type": "stream",
     "text": [
      "Wed Jun 12 16:50:56 2019\n",
      "Train on 333242 samples, validate on 83311 samples\n",
      "Epoch 1/200\n",
      "333242/333242 [==============================] - 6s 18us/step - loss: 0.0387 - acc: 0.1551 - val_loss: 0.0336 - val_acc: 0.3076\n",
      "Epoch 2/200\n",
      "333242/333242 [==============================] - 6s 17us/step - loss: 0.0316 - acc: 0.3796 - val_loss: 0.0298 - val_acc: 0.4098\n",
      "Epoch 3/200\n",
      "333242/333242 [==============================] - 6s 18us/step - loss: 0.0289 - acc: 0.4053 - val_loss: 0.0284 - val_acc: 0.3858\n",
      "Epoch 4/200\n",
      "333242/333242 [==============================] - 6s 18us/step - loss: 0.0283 - acc: 0.3846 - val_loss: 0.0281 - val_acc: 0.3846\n",
      "Epoch 5/200\n",
      "333242/333242 [==============================] - 6s 18us/step - loss: 0.0282 - acc: 0.3749 - val_loss: 0.0281 - val_acc: 0.3643\n",
      "Epoch 6/200\n",
      "333242/333242 [==============================] - 6s 18us/step - loss: 0.0281 - acc: 0.3630 - val_loss: 0.0281 - val_acc: 0.3520\n",
      "Epoch 7/200\n",
      "333242/333242 [==============================] - 6s 18us/step - loss: 0.0281 - acc: 0.3528 - val_loss: 0.0281 - val_acc: 0.3462\n",
      "Epoch 8/200\n",
      "333242/333242 [==============================] - 6s 18us/step - loss: 0.0281 - acc: 0.3444 - val_loss: 0.0281 - val_acc: 0.3427\n",
      "Epoch 9/200\n",
      "333242/333242 [==============================] - 6s 17us/step - loss: 0.0281 - acc: 0.3403 - val_loss: 0.0281 - val_acc: 0.3362\n",
      "Epoch 10/200\n",
      "333242/333242 [==============================] - 6s 18us/step - loss: 0.0281 - acc: 0.3385 - val_loss: 0.0281 - val_acc: 0.3331\n",
      "Epoch 11/200\n",
      "333242/333242 [==============================] - 6s 18us/step - loss: 0.0281 - acc: 0.3373 - val_loss: 0.0281 - val_acc: 0.3371\n",
      "Epoch 12/200\n",
      "333242/333242 [==============================] - 6s 18us/step - loss: 0.0281 - acc: 0.3402 - val_loss: 0.0281 - val_acc: 0.3474\n",
      "Epoch 13/200\n",
      "333242/333242 [==============================] - 6s 18us/step - loss: 0.0281 - acc: 0.3441 - val_loss: 0.0281 - val_acc: 0.3428\n",
      "Epoch 14/200\n",
      "333242/333242 [==============================] - 6s 18us/step - loss: 0.0281 - acc: 0.3430 - val_loss: 0.0281 - val_acc: 0.3385\n",
      "Epoch 15/200\n",
      "333242/333242 [==============================] - 6s 18us/step - loss: 0.0281 - acc: 0.3436 - val_loss: 0.0281 - val_acc: 0.3436\n",
      "Epoch 16/200\n",
      "333242/333242 [==============================] - 6s 18us/step - loss: 0.0281 - acc: 0.3316 - val_loss: 0.0281 - val_acc: 0.3351\n",
      "Epoch 17/200\n",
      "333242/333242 [==============================] - 6s 18us/step - loss: 0.0281 - acc: 0.3299 - val_loss: 0.0281 - val_acc: 0.3395\n",
      "Epoch 18/200\n",
      "333242/333242 [==============================] - 6s 17us/step - loss: 0.0281 - acc: 0.3297 - val_loss: 0.0281 - val_acc: 0.3228\n",
      "Epoch 19/200\n",
      "333242/333242 [==============================] - 6s 18us/step - loss: 0.0281 - acc: 0.3216 - val_loss: 0.0281 - val_acc: 0.3129\n",
      "Epoch 20/200\n",
      "333242/333242 [==============================] - 6s 18us/step - loss: 0.0281 - acc: 0.3191 - val_loss: 0.0281 - val_acc: 0.3138\n",
      "Epoch 21/200\n",
      "333242/333242 [==============================] - 6s 18us/step - loss: 0.0281 - acc: 0.3206 - val_loss: 0.0281 - val_acc: 0.3174\n",
      "Epoch 22/200\n",
      "333242/333242 [==============================] - 6s 18us/step - loss: 0.0281 - acc: 0.3207 - val_loss: 0.0281 - val_acc: 0.3157\n",
      "Epoch 23/200\n",
      "333242/333242 [==============================] - 6s 18us/step - loss: 0.0281 - acc: 0.3225 - val_loss: 0.0281 - val_acc: 0.3177\n",
      "Epoch 24/200\n",
      "333242/333242 [==============================] - 6s 18us/step - loss: 0.0281 - acc: 0.3240 - val_loss: 0.0281 - val_acc: 0.3209\n",
      "Epoch 25/200\n",
      "333242/333242 [==============================] - 6s 18us/step - loss: 0.0281 - acc: 0.3266 - val_loss: 0.0281 - val_acc: 0.3213\n",
      "Epoch 26/200\n",
      "333242/333242 [==============================] - 6s 18us/step - loss: 0.0281 - acc: 0.3231 - val_loss: 0.0281 - val_acc: 0.3200\n",
      "Epoch 27/200\n",
      "333242/333242 [==============================] - 6s 18us/step - loss: 0.0281 - acc: 0.3231 - val_loss: 0.0281 - val_acc: 0.3277\n",
      "Epoch 28/200\n",
      "333242/333242 [==============================] - 6s 18us/step - loss: 0.0281 - acc: 0.3242 - val_loss: 0.0281 - val_acc: 0.3132\n",
      "Epoch 29/200\n",
      "333242/333242 [==============================] - 6s 18us/step - loss: 0.0281 - acc: 0.3180 - val_loss: 0.0280 - val_acc: 0.3197\n",
      "Epoch 30/200\n",
      "333242/333242 [==============================] - 6s 18us/step - loss: 0.0281 - acc: 0.3212 - val_loss: 0.0280 - val_acc: 0.3204\n",
      "Epoch 31/200\n",
      "333242/333242 [==============================] - 6s 18us/step - loss: 0.0281 - acc: 0.3211 - val_loss: 0.0280 - val_acc: 0.3178\n",
      "Epoch 32/200\n",
      "333242/333242 [==============================] - 6s 18us/step - loss: 0.0281 - acc: 0.3226 - val_loss: 0.0280 - val_acc: 0.3235\n",
      "Epoch 33/200\n",
      "333242/333242 [==============================] - 6s 18us/step - loss: 0.0281 - acc: 0.3249 - val_loss: 0.0280 - val_acc: 0.3258\n",
      "Epoch 34/200\n",
      "333242/333242 [==============================] - 6s 18us/step - loss: 0.0281 - acc: 0.3277 - val_loss: 0.0280 - val_acc: 0.3280\n",
      "Epoch 35/200\n",
      "333242/333242 [==============================] - 6s 18us/step - loss: 0.0281 - acc: 0.3295 - val_loss: 0.0280 - val_acc: 0.3297\n",
      "Epoch 36/200\n",
      "333242/333242 [==============================] - 6s 18us/step - loss: 0.0281 - acc: 0.3342 - val_loss: 0.0280 - val_acc: 0.3343\n",
      "Epoch 37/200\n",
      "333242/333242 [==============================] - 6s 18us/step - loss: 0.0281 - acc: 0.3335 - val_loss: 0.0280 - val_acc: 0.3328\n",
      "Epoch 38/200\n",
      "333242/333242 [==============================] - 6s 18us/step - loss: 0.0281 - acc: 0.3353 - val_loss: 0.0280 - val_acc: 0.3352\n",
      "Epoch 39/200\n",
      "333242/333242 [==============================] - 6s 18us/step - loss: 0.0281 - acc: 0.3367 - val_loss: 0.0280 - val_acc: 0.3408\n",
      "Epoch 40/200\n",
      "333242/333242 [==============================] - 6s 18us/step - loss: 0.0281 - acc: 0.3409 - val_loss: 0.0280 - val_acc: 0.3427\n",
      "Epoch 41/200\n",
      "333242/333242 [==============================] - 6s 18us/step - loss: 0.0281 - acc: 0.3416 - val_loss: 0.0280 - val_acc: 0.3426\n",
      "Epoch 42/200\n",
      "333242/333242 [==============================] - 6s 18us/step - loss: 0.0281 - acc: 0.3413 - val_loss: 0.0280 - val_acc: 0.3403\n",
      "Epoch 43/200\n",
      "333242/333242 [==============================] - 6s 18us/step - loss: 0.0281 - acc: 0.3400 - val_loss: 0.0280 - val_acc: 0.3343\n",
      "Epoch 44/200\n",
      "333242/333242 [==============================] - 6s 18us/step - loss: 0.0281 - acc: 0.3379 - val_loss: 0.0280 - val_acc: 0.3399\n",
      "Epoch 45/200\n",
      "333242/333242 [==============================] - 6s 18us/step - loss: 0.0281 - acc: 0.3417 - val_loss: 0.0280 - val_acc: 0.3406\n",
      "Epoch 46/200\n",
      "333242/333242 [==============================] - 6s 18us/step - loss: 0.0281 - acc: 0.3403 - val_loss: 0.0280 - val_acc: 0.3418\n",
      "Epoch 47/200\n",
      "333242/333242 [==============================] - 6s 18us/step - loss: 0.0281 - acc: 0.3403 - val_loss: 0.0280 - val_acc: 0.3389\n",
      "Epoch 48/200\n",
      "333242/333242 [==============================] - 6s 18us/step - loss: 0.0281 - acc: 0.3376 - val_loss: 0.0280 - val_acc: 0.3353\n",
      "Epoch 49/200\n",
      "333242/333242 [==============================] - 6s 18us/step - loss: 0.0281 - acc: 0.3368 - val_loss: 0.0280 - val_acc: 0.3418\n",
      "Epoch 50/200\n",
      "333242/333242 [==============================] - 6s 18us/step - loss: 0.0281 - acc: 0.3410 - val_loss: 0.0280 - val_acc: 0.3372\n",
      "Epoch 51/200\n",
      "333242/333242 [==============================] - 6s 18us/step - loss: 0.0281 - acc: 0.3379 - val_loss: 0.0280 - val_acc: 0.3367\n",
      "Epoch 52/200\n",
      "333242/333242 [==============================] - 6s 18us/step - loss: 0.0281 - acc: 0.3381 - val_loss: 0.0280 - val_acc: 0.3361\n",
      "Epoch 53/200\n",
      "333242/333242 [==============================] - 6s 18us/step - loss: 0.0281 - acc: 0.3381 - val_loss: 0.0280 - val_acc: 0.3358\n",
      "Epoch 54/200\n",
      "333242/333242 [==============================] - 6s 18us/step - loss: 0.0281 - acc: 0.3376 - val_loss: 0.0280 - val_acc: 0.3409\n",
      "Epoch 55/200\n",
      "333242/333242 [==============================] - 6s 18us/step - loss: 0.0281 - acc: 0.3407 - val_loss: 0.0280 - val_acc: 0.3325\n",
      "Epoch 56/200\n",
      "333242/333242 [==============================] - 6s 18us/step - loss: 0.0281 - acc: 0.3364 - val_loss: 0.0280 - val_acc: 0.3345\n",
      "Epoch 57/200\n",
      "333242/333242 [==============================] - 6s 18us/step - loss: 0.0281 - acc: 0.3348 - val_loss: 0.0280 - val_acc: 0.3328\n",
      "Epoch 58/200\n",
      "333242/333242 [==============================] - 6s 18us/step - loss: 0.0281 - acc: 0.3342 - val_loss: 0.0280 - val_acc: 0.3319\n",
      "Epoch 59/200\n",
      "333242/333242 [==============================] - 6s 18us/step - loss: 0.0281 - acc: 0.3339 - val_loss: 0.0280 - val_acc: 0.3317\n",
      "Epoch 60/200\n",
      "333242/333242 [==============================] - 6s 18us/step - loss: 0.0281 - acc: 0.3341 - val_loss: 0.0280 - val_acc: 0.3337\n",
      "Epoch 61/200\n",
      "333242/333242 [==============================] - 6s 18us/step - loss: 0.0281 - acc: 0.3343 - val_loss: 0.0280 - val_acc: 0.3309\n",
      "Epoch 62/200\n",
      "333242/333242 [==============================] - 6s 18us/step - loss: 0.0281 - acc: 0.3338 - val_loss: 0.0280 - val_acc: 0.3308\n",
      "Epoch 63/200\n",
      "333242/333242 [==============================] - 6s 18us/step - loss: 0.0281 - acc: 0.3332 - val_loss: 0.0280 - val_acc: 0.3355\n",
      "Epoch 64/200\n",
      "333242/333242 [==============================] - 6s 18us/step - loss: 0.0281 - acc: 0.3363 - val_loss: 0.0280 - val_acc: 0.3340\n",
      "Epoch 65/200\n",
      "333242/333242 [==============================] - 6s 18us/step - loss: 0.0281 - acc: 0.3354 - val_loss: 0.0280 - val_acc: 0.3376\n",
      "Epoch 66/200\n",
      "333242/333242 [==============================] - 6s 18us/step - loss: 0.0281 - acc: 0.3366 - val_loss: 0.0280 - val_acc: 0.3347\n",
      "Epoch 67/200\n",
      "333242/333242 [==============================] - 6s 18us/step - loss: 0.0281 - acc: 0.3360 - val_loss: 0.0280 - val_acc: 0.3318\n",
      "--- AE spent 401.88628363609314 seconds ---\n"
     ]
    }
   ],
   "source": [
    "hist_ae_sigsig_adam_logcosh = fit_ae(checkpoint_file = \"ae_sigsig_adam_logcosh_redds\"+str(dsnum)+\"bal.h5\",\n",
    "                                  autoencoder = ae_sigsig_adam_logcosh, \n",
    "                                  epochs = 200, \n",
    "                                  batch_size = batch_size,\n",
    "                                  shuffle = False)"
   ]
  },
  {
   "cell_type": "code",
   "execution_count": 47,
   "metadata": {},
   "outputs": [
    {
     "name": "stdout",
     "output_type": "stream",
     "text": [
      "Best loss value: 0.02808571490340787\n"
     ]
    },
    {
     "data": {
      "image/png": "[encoded data removed]",
      "text/plain": [
       "<Figure size 432x288 with 1 Axes>"
      ]
     },
     "metadata": {
      "needs_background": "light"
     },
     "output_type": "display_data"
    }
   ],
   "source": [
    "best_loss_value_ae_sigsig_adam_logcosh  = plot_hist_auto(hist_ae_sigsig_adam_logcosh, './Figures/hist_ae_sigsig_adam_logcosh'+str(dsnum)+'.png')"
   ]
  },
  {
   "cell_type": "code",
   "execution_count": 94,
   "metadata": {},
   "outputs": [
    {
     "name": "stdout",
     "output_type": "stream",
     "text": [
      "_________________________________________________________________\n",
      "Layer (type)                 Output Shape              Param #   \n",
      "=================================================================\n",
      "input_5 (InputLayer)         (None, 120)               0         \n",
      "_________________________________________________________________\n",
      "encoded_bottle_neck (Dense)  (None, 80)                9680      \n",
      "_________________________________________________________________\n",
      "dense_30 (Dense)             (None, 120)               9720      \n",
      "=================================================================\n",
      "Total params: 19,400\n",
      "Trainable params: 19,400\n",
      "Non-trainable params: 0\n",
      "_________________________________________________________________\n",
      "None\n"
     ]
    }
   ],
   "source": [
    "spae_sigmoid_adam_mse,enc_train_x_spsam,enc_test_x_spsam = spae(factor_enc_dim = 1.5,\n",
    "                                                          enc_activation = 'relu',\n",
    "                                                          dec_activation = 'sigmoid',\n",
    "                                                          optimizer='Adam',\n",
    "                                                          loss='mean_squared_error')"
   ]
  },
  {
   "cell_type": "code",
   "execution_count": 95,
   "metadata": {},
   "outputs": [],
   "source": [
    "#spae_sigmoid_adam_mse = load_model('spae_sigmoid_adam_mse_redds20bal.h5')"
   ]
  },
  {
   "cell_type": "code",
   "execution_count": 96,
   "metadata": {},
   "outputs": [
    {
     "name": "stdout",
     "output_type": "stream",
     "text": [
      "Thu Jun 13 12:13:27 2019\n",
      "Train on 333242 samples, validate on 83311 samples\n",
      "Epoch 1/200\n",
      "333242/333242 [==============================] - 8s 23us/step - loss: 0.1790 - acc: 0.0473 - val_loss: 0.1470 - val_acc: 0.0804\n",
      "Epoch 2/200\n",
      "333242/333242 [==============================] - 8s 23us/step - loss: 0.1434 - acc: 0.0385 - val_loss: 0.1368 - val_acc: 0.0257\n",
      "Epoch 3/200\n",
      "333242/333242 [==============================] - 8s 24us/step - loss: 0.1356 - acc: 0.0301 - val_loss: 0.1310 - val_acc: 0.0305\n",
      "Epoch 4/200\n",
      "333242/333242 [==============================] - 8s 25us/step - loss: 0.1314 - acc: 0.0244 - val_loss: 0.1281 - val_acc: 0.0243\n",
      "Epoch 5/200\n",
      "333242/333242 [==============================] - 7s 22us/step - loss: 0.1292 - acc: 0.0301 - val_loss: 0.1264 - val_acc: 0.0396\n",
      "Epoch 6/200\n",
      "333242/333242 [==============================] - 8s 24us/step - loss: 0.1278 - acc: 0.0478 - val_loss: 0.1252 - val_acc: 0.0552\n",
      "Epoch 7/200\n",
      "333242/333242 [==============================] - 8s 23us/step - loss: 0.1267 - acc: 0.0623 - val_loss: 0.1241 - val_acc: 0.0659\n",
      "Epoch 8/200\n",
      "333242/333242 [==============================] - 7s 22us/step - loss: 0.1256 - acc: 0.0713 - val_loss: 0.1232 - val_acc: 0.0702\n",
      "Epoch 9/200\n",
      "333242/333242 [==============================] - 7s 21us/step - loss: 0.1249 - acc: 0.0754 - val_loss: 0.1225 - val_acc: 0.0743\n",
      "Epoch 10/200\n",
      "333242/333242 [==============================] - 7s 22us/step - loss: 0.1242 - acc: 0.0785 - val_loss: 0.1220 - val_acc: 0.0766\n",
      "Epoch 11/200\n",
      "333242/333242 [==============================] - 7s 22us/step - loss: 0.1237 - acc: 0.0836 - val_loss: 0.1215 - val_acc: 0.0849\n",
      "Epoch 12/200\n",
      "333242/333242 [==============================] - 7s 21us/step - loss: 0.1233 - acc: 0.0933 - val_loss: 0.1211 - val_acc: 0.0949\n",
      "Epoch 13/200\n",
      "333242/333242 [==============================] - 7s 21us/step - loss: 0.1229 - acc: 0.1040 - val_loss: 0.1207 - val_acc: 0.1074\n",
      "Epoch 14/200\n",
      "333242/333242 [==============================] - 7s 21us/step - loss: 0.1225 - acc: 0.1137 - val_loss: 0.1204 - val_acc: 0.1165\n",
      "Epoch 15/200\n",
      "333242/333242 [==============================] - 7s 21us/step - loss: 0.1222 - acc: 0.1215 - val_loss: 0.1202 - val_acc: 0.1239\n",
      "Epoch 16/200\n",
      "333242/333242 [==============================] - 7s 21us/step - loss: 0.1220 - acc: 0.1279 - val_loss: 0.1199 - val_acc: 0.1307\n",
      "Epoch 17/200\n",
      "333242/333242 [==============================] - 7s 21us/step - loss: 0.1218 - acc: 0.1332 - val_loss: 0.1197 - val_acc: 0.1351\n",
      "Epoch 18/200\n",
      "333242/333242 [==============================] - 7s 21us/step - loss: 0.1216 - acc: 0.1383 - val_loss: 0.1195 - val_acc: 0.1415\n",
      "Epoch 19/200\n",
      "333242/333242 [==============================] - 7s 21us/step - loss: 0.1214 - acc: 0.1476 - val_loss: 0.1193 - val_acc: 0.1567\n",
      "Epoch 20/200\n",
      "333242/333242 [==============================] - 7s 21us/step - loss: 0.1212 - acc: 0.1554 - val_loss: 0.1191 - val_acc: 0.1521\n",
      "Epoch 21/200\n",
      "333242/333242 [==============================] - 7s 21us/step - loss: 0.1210 - acc: 0.1384 - val_loss: 0.1189 - val_acc: 0.1346\n",
      "Epoch 22/200\n",
      "333242/333242 [==============================] - 7s 22us/step - loss: 0.1208 - acc: 0.1327 - val_loss: 0.1187 - val_acc: 0.1343\n",
      "Epoch 23/200\n",
      "333242/333242 [==============================] - 7s 21us/step - loss: 0.1207 - acc: 0.1328 - val_loss: 0.1186 - val_acc: 0.1348\n",
      "Epoch 24/200\n",
      "333242/333242 [==============================] - 7s 22us/step - loss: 0.1206 - acc: 0.1333 - val_loss: 0.1185 - val_acc: 0.1350\n",
      "Epoch 25/200\n",
      "333242/333242 [==============================] - 7s 21us/step - loss: 0.1204 - acc: 0.1341 - val_loss: 0.1184 - val_acc: 0.1353\n",
      "Epoch 26/200\n",
      "333242/333242 [==============================] - 7s 21us/step - loss: 0.1203 - acc: 0.1343 - val_loss: 0.1182 - val_acc: 0.1381\n",
      "Epoch 27/200\n",
      "333242/333242 [==============================] - 7s 21us/step - loss: 0.1202 - acc: 0.1376 - val_loss: 0.1181 - val_acc: 0.1813\n",
      "Epoch 28/200\n",
      "333242/333242 [==============================] - 7s 21us/step - loss: 0.1201 - acc: 0.1819 - val_loss: 0.1180 - val_acc: 0.1825\n",
      "Epoch 29/200\n",
      "333242/333242 [==============================] - 7s 21us/step - loss: 0.1200 - acc: 0.1828 - val_loss: 0.1179 - val_acc: 0.1836\n",
      "Epoch 30/200\n",
      "333242/333242 [==============================] - 7s 21us/step - loss: 0.1200 - acc: 0.1849 - val_loss: 0.1179 - val_acc: 0.1863\n",
      "Epoch 31/200\n",
      "333242/333242 [==============================] - 7s 21us/step - loss: 0.1199 - acc: 0.1856 - val_loss: 0.1178 - val_acc: 0.1857\n",
      "Epoch 32/200\n",
      "333242/333242 [==============================] - 7s 21us/step - loss: 0.1198 - acc: 0.1884 - val_loss: 0.1177 - val_acc: 0.1897\n",
      "Epoch 33/200\n",
      "333242/333242 [==============================] - 7s 21us/step - loss: 0.1198 - acc: 0.1895 - val_loss: 0.1177 - val_acc: 0.1896\n",
      "Epoch 34/200\n",
      "333242/333242 [==============================] - 7s 21us/step - loss: 0.1197 - acc: 0.1917 - val_loss: 0.1176 - val_acc: 0.1917\n",
      "Epoch 35/200\n",
      "333242/333242 [==============================] - 7s 22us/step - loss: 0.1196 - acc: 0.1931 - val_loss: 0.1175 - val_acc: 0.1956\n",
      "Epoch 36/200\n",
      "333242/333242 [==============================] - 7s 21us/step - loss: 0.1196 - acc: 0.1951 - val_loss: 0.1175 - val_acc: 0.1962\n",
      "Epoch 37/200\n",
      "333242/333242 [==============================] - 7s 21us/step - loss: 0.1195 - acc: 0.1975 - val_loss: 0.1174 - val_acc: 0.1976\n",
      "Epoch 38/200\n",
      "333242/333242 [==============================] - 7s 21us/step - loss: 0.1195 - acc: 0.1985 - val_loss: 0.1174 - val_acc: 0.2011\n",
      "Epoch 39/200\n",
      "333242/333242 [==============================] - 7s 21us/step - loss: 0.1194 - acc: 0.2006 - val_loss: 0.1173 - val_acc: 0.2025\n",
      "Epoch 40/200\n",
      "333242/333242 [==============================] - 7s 21us/step - loss: 0.1194 - acc: 0.2020 - val_loss: 0.1173 - val_acc: 0.2034\n",
      "Epoch 41/200\n",
      "333242/333242 [==============================] - 7s 21us/step - loss: 0.1193 - acc: 0.2030 - val_loss: 0.1173 - val_acc: 0.2049\n",
      "Epoch 42/200\n",
      "333242/333242 [==============================] - 7s 21us/step - loss: 0.1193 - acc: 0.2045 - val_loss: 0.1172 - val_acc: 0.2051\n",
      "Epoch 43/200\n",
      "333242/333242 [==============================] - 7s 21us/step - loss: 0.1193 - acc: 0.2056 - val_loss: 0.1172 - val_acc: 0.2065\n",
      "Epoch 44/200\n",
      "333242/333242 [==============================] - 7s 21us/step - loss: 0.1192 - acc: 0.2071 - val_loss: 0.1171 - val_acc: 0.2072\n",
      "Epoch 45/200\n",
      "333242/333242 [==============================] - 7s 21us/step - loss: 0.1192 - acc: 0.2082 - val_loss: 0.1171 - val_acc: 0.2096\n",
      "Epoch 46/200\n",
      "333242/333242 [==============================] - 7s 21us/step - loss: 0.1192 - acc: 0.2083 - val_loss: 0.1171 - val_acc: 0.2105\n",
      "Epoch 47/200\n",
      "333242/333242 [==============================] - 7s 21us/step - loss: 0.1191 - acc: 0.2098 - val_loss: 0.1170 - val_acc: 0.2116\n",
      "Epoch 48/200\n",
      "333242/333242 [==============================] - 7s 21us/step - loss: 0.1191 - acc: 0.2119 - val_loss: 0.1170 - val_acc: 0.2128\n",
      "Epoch 49/200\n",
      "333242/333242 [==============================] - 7s 21us/step - loss: 0.1191 - acc: 0.2128 - val_loss: 0.1170 - val_acc: 0.2132\n",
      "Epoch 50/200\n",
      "333242/333242 [==============================] - 7s 21us/step - loss: 0.1190 - acc: 0.2130 - val_loss: 0.1169 - val_acc: 0.2133\n",
      "Epoch 51/200\n",
      "333242/333242 [==============================] - 7s 22us/step - loss: 0.1190 - acc: 0.2144 - val_loss: 0.1169 - val_acc: 0.2144\n",
      "Epoch 52/200\n",
      "333242/333242 [==============================] - 7s 21us/step - loss: 0.1190 - acc: 0.2154 - val_loss: 0.1169 - val_acc: 0.2139\n",
      "Epoch 53/200\n",
      "333242/333242 [==============================] - 7s 21us/step - loss: 0.1190 - acc: 0.2160 - val_loss: 0.1169 - val_acc: 0.2151\n",
      "Epoch 54/200\n",
      "333242/333242 [==============================] - 7s 21us/step - loss: 0.1189 - acc: 0.2173 - val_loss: 0.1169 - val_acc: 0.2144\n",
      "Epoch 55/200\n",
      "333242/333242 [==============================] - 7s 21us/step - loss: 0.1189 - acc: 0.2167 - val_loss: 0.1169 - val_acc: 0.2158\n",
      "Epoch 56/200\n",
      "333242/333242 [==============================] - 7s 21us/step - loss: 0.1189 - acc: 0.2179 - val_loss: 0.1168 - val_acc: 0.2169\n",
      "Epoch 57/200\n",
      "333242/333242 [==============================] - 7s 21us/step - loss: 0.1189 - acc: 0.2182 - val_loss: 0.1168 - val_acc: 0.2163\n",
      "Epoch 58/200\n",
      "333242/333242 [==============================] - 7s 22us/step - loss: 0.1188 - acc: 0.2187 - val_loss: 0.1168 - val_acc: 0.2178\n",
      "Epoch 59/200\n",
      "333242/333242 [==============================] - 7s 22us/step - loss: 0.1188 - acc: 0.2203 - val_loss: 0.1168 - val_acc: 0.2155\n",
      "Epoch 60/200\n",
      "333242/333242 [==============================] - 7s 21us/step - loss: 0.1188 - acc: 0.2200 - val_loss: 0.1168 - val_acc: 0.2186\n",
      "Epoch 61/200\n",
      "333242/333242 [==============================] - 7s 21us/step - loss: 0.1188 - acc: 0.2204 - val_loss: 0.1167 - val_acc: 0.2175\n",
      "Epoch 62/200\n",
      "333242/333242 [==============================] - 7s 21us/step - loss: 0.1188 - acc: 0.2220 - val_loss: 0.1167 - val_acc: 0.2136\n",
      "Epoch 63/200\n",
      "333242/333242 [==============================] - 7s 21us/step - loss: 0.1188 - acc: 0.2220 - val_loss: 0.1167 - val_acc: 0.2176\n",
      "Epoch 64/200\n",
      "333242/333242 [==============================] - 7s 21us/step - loss: 0.1187 - acc: 0.2223 - val_loss: 0.1167 - val_acc: 0.2192\n",
      "Epoch 65/200\n",
      "333242/333242 [==============================] - 7s 21us/step - loss: 0.1187 - acc: 0.2222 - val_loss: 0.1167 - val_acc: 0.2202\n",
      "Epoch 66/200\n",
      "333242/333242 [==============================] - 7s 21us/step - loss: 0.1187 - acc: 0.2237 - val_loss: 0.1167 - val_acc: 0.2219\n",
      "Epoch 67/200\n",
      "333242/333242 [==============================] - 7s 21us/step - loss: 0.1187 - acc: 0.2247 - val_loss: 0.1167 - val_acc: 0.2218\n",
      "Epoch 68/200\n",
      "333242/333242 [==============================] - 7s 21us/step - loss: 0.1187 - acc: 0.2243 - val_loss: 0.1166 - val_acc: 0.2209\n",
      "Epoch 69/200\n",
      "333242/333242 [==============================] - 7s 21us/step - loss: 0.1187 - acc: 0.2255 - val_loss: 0.1166 - val_acc: 0.2194\n",
      "Epoch 70/200\n",
      "333242/333242 [==============================] - 7s 21us/step - loss: 0.1186 - acc: 0.2257 - val_loss: 0.1166 - val_acc: 0.2210\n",
      "Epoch 71/200\n",
      "333242/333242 [==============================] - 7s 21us/step - loss: 0.1186 - acc: 0.2263 - val_loss: 0.1166 - val_acc: 0.2227\n",
      "Epoch 72/200\n",
      "333242/333242 [==============================] - 7s 21us/step - loss: 0.1186 - acc: 0.2265 - val_loss: 0.1166 - val_acc: 0.2217\n",
      "Epoch 73/200\n",
      "333242/333242 [==============================] - 7s 21us/step - loss: 0.1186 - acc: 0.2260 - val_loss: 0.1166 - val_acc: 0.2251\n",
      "Epoch 74/200\n",
      "333242/333242 [==============================] - 7s 21us/step - loss: 0.1186 - acc: 0.2279 - val_loss: 0.1166 - val_acc: 0.2231\n",
      "Epoch 75/200\n",
      "333242/333242 [==============================] - 7s 22us/step - loss: 0.1186 - acc: 0.2264 - val_loss: 0.1166 - val_acc: 0.2243\n",
      "Epoch 76/200\n",
      "333242/333242 [==============================] - 7s 21us/step - loss: 0.1186 - acc: 0.2294 - val_loss: 0.1165 - val_acc: 0.2224\n",
      "Epoch 77/200\n",
      "333242/333242 [==============================] - 7s 22us/step - loss: 0.1186 - acc: 0.2275 - val_loss: 0.1166 - val_acc: 0.2259\n",
      "Epoch 78/200\n",
      "333242/333242 [==============================] - 7s 21us/step - loss: 0.1185 - acc: 0.2296 - val_loss: 0.1165 - val_acc: 0.2249\n",
      "Epoch 79/200\n",
      "333242/333242 [==============================] - 7s 21us/step - loss: 0.1185 - acc: 0.2286 - val_loss: 0.1165 - val_acc: 0.2234\n",
      "Epoch 80/200\n",
      "333242/333242 [==============================] - 7s 22us/step - loss: 0.1185 - acc: 0.2299 - val_loss: 0.1166 - val_acc: 0.2089\n",
      "Epoch 81/200\n",
      "333242/333242 [==============================] - 7s 21us/step - loss: 0.1185 - acc: 0.2306 - val_loss: 0.1165 - val_acc: 0.2234\n",
      "Epoch 82/200\n",
      "333242/333242 [==============================] - 7s 21us/step - loss: 0.1185 - acc: 0.2309 - val_loss: 0.1165 - val_acc: 0.2267\n",
      "Epoch 83/200\n",
      "333242/333242 [==============================] - 7s 21us/step - loss: 0.1185 - acc: 0.2311 - val_loss: 0.1165 - val_acc: 0.2257\n",
      "Epoch 84/200\n",
      "333242/333242 [==============================] - 7s 21us/step - loss: 0.1185 - acc: 0.2318 - val_loss: 0.1165 - val_acc: 0.2241\n",
      "Epoch 85/200\n",
      "333242/333242 [==============================] - 7s 21us/step - loss: 0.1185 - acc: 0.2323 - val_loss: 0.1165 - val_acc: 0.2251\n",
      "Epoch 86/200\n",
      "333242/333242 [==============================] - 7s 21us/step - loss: 0.1185 - acc: 0.2312 - val_loss: 0.1164 - val_acc: 0.2274\n",
      "Epoch 87/200\n",
      "333242/333242 [==============================] - 7s 21us/step - loss: 0.1184 - acc: 0.2326 - val_loss: 0.1164 - val_acc: 0.2281\n",
      "Epoch 88/200\n",
      "333242/333242 [==============================] - 7s 21us/step - loss: 0.1184 - acc: 0.2332 - val_loss: 0.1164 - val_acc: 0.2295\n",
      "Epoch 89/200\n",
      "333242/333242 [==============================] - 7s 21us/step - loss: 0.1184 - acc: 0.2315 - val_loss: 0.1164 - val_acc: 0.2275\n",
      "Epoch 90/200\n",
      "333242/333242 [==============================] - 7s 21us/step - loss: 0.1184 - acc: 0.2321 - val_loss: 0.1164 - val_acc: 0.2170\n",
      "Epoch 91/200\n",
      "333242/333242 [==============================] - 7s 22us/step - loss: 0.1184 - acc: 0.2356 - val_loss: 0.1164 - val_acc: 0.2253\n",
      "Epoch 92/200\n",
      "333242/333242 [==============================] - 7s 21us/step - loss: 0.1184 - acc: 0.2347 - val_loss: 0.1164 - val_acc: 0.2285\n",
      "Epoch 93/200\n",
      "333242/333242 [==============================] - 7s 22us/step - loss: 0.1184 - acc: 0.2347 - val_loss: 0.1165 - val_acc: 0.2281\n",
      "Epoch 94/200\n",
      "333242/333242 [==============================] - 7s 21us/step - loss: 0.1184 - acc: 0.2352 - val_loss: 0.1164 - val_acc: 0.2287\n",
      "Epoch 95/200\n",
      "333242/333242 [==============================] - 7s 21us/step - loss: 0.1184 - acc: 0.2351 - val_loss: 0.1164 - val_acc: 0.2288\n",
      "Epoch 96/200\n",
      "333242/333242 [==============================] - 7s 21us/step - loss: 0.1184 - acc: 0.2344 - val_loss: 0.1164 - val_acc: 0.2144\n",
      "Epoch 97/200\n",
      "333242/333242 [==============================] - 7s 21us/step - loss: 0.1183 - acc: 0.2365 - val_loss: 0.1164 - val_acc: 0.2280\n",
      "Epoch 98/200\n",
      "333242/333242 [==============================] - 7s 22us/step - loss: 0.1183 - acc: 0.2359 - val_loss: 0.1163 - val_acc: 0.2284\n",
      "Epoch 99/200\n",
      "333242/333242 [==============================] - 7s 21us/step - loss: 0.1183 - acc: 0.2358 - val_loss: 0.1164 - val_acc: 0.2200\n",
      "Epoch 100/200\n",
      "333242/333242 [==============================] - 7s 21us/step - loss: 0.1183 - acc: 0.2375 - val_loss: 0.1163 - val_acc: 0.2312\n",
      "Epoch 101/200\n",
      "333242/333242 [==============================] - 7s 21us/step - loss: 0.1183 - acc: 0.2372 - val_loss: 0.1163 - val_acc: 0.2322\n",
      "Epoch 102/200\n",
      "333242/333242 [==============================] - 7s 21us/step - loss: 0.1183 - acc: 0.2371 - val_loss: 0.1163 - val_acc: 0.2298\n",
      "Epoch 103/200\n",
      "333242/333242 [==============================] - 7s 21us/step - loss: 0.1183 - acc: 0.2379 - val_loss: 0.1163 - val_acc: 0.2315\n",
      "Epoch 104/200\n",
      "333242/333242 [==============================] - 7s 21us/step - loss: 0.1183 - acc: 0.2371 - val_loss: 0.1163 - val_acc: 0.2319\n",
      "Epoch 105/200\n",
      "333242/333242 [==============================] - 7s 21us/step - loss: 0.1183 - acc: 0.2366 - val_loss: 0.1164 - val_acc: 0.2141\n",
      "Epoch 106/200\n",
      "333242/333242 [==============================] - 8s 25us/step - loss: 0.1183 - acc: 0.2373 - val_loss: 0.1163 - val_acc: 0.2321\n",
      "Epoch 107/200\n",
      "333242/333242 [==============================] - 8s 25us/step - loss: 0.1183 - acc: 0.2383 - val_loss: 0.1163 - val_acc: 0.2320\n",
      "Epoch 108/200\n",
      "333242/333242 [==============================] - 8s 24us/step - loss: 0.1182 - acc: 0.2377 - val_loss: 0.1162 - val_acc: 0.2307\n",
      "Epoch 109/200\n",
      "333242/333242 [==============================] - 8s 25us/step - loss: 0.1182 - acc: 0.2365 - val_loss: 0.1162 - val_acc: 0.2278\n",
      "Epoch 110/200\n",
      "333242/333242 [==============================] - 7s 22us/step - loss: 0.1182 - acc: 0.2366 - val_loss: 0.1162 - val_acc: 0.2178\n",
      "Epoch 111/200\n",
      "333242/333242 [==============================] - 8s 24us/step - loss: 0.1181 - acc: 0.2370 - val_loss: 0.1161 - val_acc: 0.2195\n",
      "Epoch 112/200\n",
      "333242/333242 [==============================] - 7s 22us/step - loss: 0.1181 - acc: 0.2375 - val_loss: 0.1161 - val_acc: 0.2303\n",
      "Epoch 113/200\n",
      "333242/333242 [==============================] - 8s 23us/step - loss: 0.1180 - acc: 0.2397 - val_loss: 0.1160 - val_acc: 0.2315\n",
      "Epoch 114/200\n",
      "333242/333242 [==============================] - 8s 23us/step - loss: 0.1180 - acc: 0.2408 - val_loss: 0.1160 - val_acc: 0.2339\n",
      "Epoch 115/200\n",
      "333242/333242 [==============================] - 7s 22us/step - loss: 0.1180 - acc: 0.2416 - val_loss: 0.1161 - val_acc: 0.2347\n",
      "Epoch 116/200\n",
      "333242/333242 [==============================] - 7s 22us/step - loss: 0.1179 - acc: 0.2406 - val_loss: 0.1160 - val_acc: 0.2299\n",
      "Epoch 117/200\n",
      "333242/333242 [==============================] - 7s 22us/step - loss: 0.1179 - acc: 0.2439 - val_loss: 0.1159 - val_acc: 0.2350\n",
      "Epoch 118/200\n",
      "333242/333242 [==============================] - 9s 26us/step - loss: 0.1178 - acc: 0.2432 - val_loss: 0.1159 - val_acc: 0.2388\n",
      "Epoch 119/200\n",
      "333242/333242 [==============================] - 9s 28us/step - loss: 0.1178 - acc: 0.2440 - val_loss: 0.1158 - val_acc: 0.2367\n",
      "Epoch 120/200\n",
      "333242/333242 [==============================] - 7s 22us/step - loss: 0.1178 - acc: 0.2443 - val_loss: 0.1157 - val_acc: 0.2398\n",
      "Epoch 121/200\n",
      "333242/333242 [==============================] - 8s 24us/step - loss: 0.1178 - acc: 0.2447 - val_loss: 0.1158 - val_acc: 0.2373\n",
      "Epoch 122/200\n",
      "333242/333242 [==============================] - 7s 22us/step - loss: 0.1177 - acc: 0.2450 - val_loss: 0.1157 - val_acc: 0.2279\n",
      "Epoch 123/200\n",
      "333242/333242 [==============================] - 8s 23us/step - loss: 0.1177 - acc: 0.2448 - val_loss: 0.1157 - val_acc: 0.2390\n",
      "Epoch 124/200\n",
      "333242/333242 [==============================] - 7s 22us/step - loss: 0.1177 - acc: 0.2461 - val_loss: 0.1158 - val_acc: 0.2303\n",
      "Epoch 125/200\n",
      "333242/333242 [==============================] - 8s 23us/step - loss: 0.1177 - acc: 0.2460 - val_loss: 0.1156 - val_acc: 0.2407\n",
      "Epoch 126/200\n",
      "333242/333242 [==============================] - 8s 24us/step - loss: 0.1177 - acc: 0.2451 - val_loss: 0.1157 - val_acc: 0.2322\n",
      "Epoch 127/200\n",
      "333242/333242 [==============================] - 8s 24us/step - loss: 0.1176 - acc: 0.2462 - val_loss: 0.1155 - val_acc: 0.2457\n",
      "Epoch 128/200\n",
      "333242/333242 [==============================] - 8s 23us/step - loss: 0.1176 - acc: 0.2471 - val_loss: 0.1156 - val_acc: 0.2341\n",
      "Epoch 129/200\n",
      "333242/333242 [==============================] - 7s 22us/step - loss: 0.1176 - acc: 0.2473 - val_loss: 0.1155 - val_acc: 0.2414\n",
      "Epoch 130/200\n",
      "333242/333242 [==============================] - 8s 23us/step - loss: 0.1176 - acc: 0.2500 - val_loss: 0.1155 - val_acc: 0.2431\n",
      "Epoch 131/200\n",
      "333242/333242 [==============================] - 7s 22us/step - loss: 0.1176 - acc: 0.2487 - val_loss: 0.1155 - val_acc: 0.2459\n",
      "Epoch 132/200\n",
      "333242/333242 [==============================] - 7s 22us/step - loss: 0.1176 - acc: 0.2488 - val_loss: 0.1156 - val_acc: 0.2356\n",
      "Epoch 133/200\n",
      "333242/333242 [==============================] - 7s 22us/step - loss: 0.1175 - acc: 0.2490 - val_loss: 0.1156 - val_acc: 0.2339\n",
      "Epoch 134/200\n",
      "333242/333242 [==============================] - 7s 22us/step - loss: 0.1175 - acc: 0.2492 - val_loss: 0.1155 - val_acc: 0.2465\n",
      "Epoch 135/200\n",
      "333242/333242 [==============================] - 7s 22us/step - loss: 0.1174 - acc: 0.2498 - val_loss: 0.1153 - val_acc: 0.2442\n",
      "Epoch 136/200\n",
      "333242/333242 [==============================] - 7s 22us/step - loss: 0.1174 - acc: 0.2486 - val_loss: 0.1155 - val_acc: 0.2353\n",
      "Epoch 137/200\n",
      "333242/333242 [==============================] - 7s 22us/step - loss: 0.1174 - acc: 0.2495 - val_loss: 0.1154 - val_acc: 0.2446\n",
      "Epoch 138/200\n",
      "333242/333242 [==============================] - 7s 22us/step - loss: 0.1174 - acc: 0.2488 - val_loss: 0.1153 - val_acc: 0.2486\n",
      "Epoch 139/200\n",
      "333242/333242 [==============================] - 7s 22us/step - loss: 0.1174 - acc: 0.2487 - val_loss: 0.1153 - val_acc: 0.2421\n",
      "Epoch 140/200\n",
      "333242/333242 [==============================] - 7s 21us/step - loss: 0.1173 - acc: 0.2499 - val_loss: 0.1153 - val_acc: 0.2395\n",
      "Epoch 141/200\n",
      "333242/333242 [==============================] - 7s 21us/step - loss: 0.1174 - acc: 0.2484 - val_loss: 0.1155 - val_acc: 0.2355\n",
      "Epoch 142/200\n",
      "333242/333242 [==============================] - 7s 21us/step - loss: 0.1173 - acc: 0.2491 - val_loss: 0.1154 - val_acc: 0.2399\n",
      "Epoch 143/200\n",
      "333242/333242 [==============================] - 7s 22us/step - loss: 0.1173 - acc: 0.2504 - val_loss: 0.1155 - val_acc: 0.2346\n",
      "--- AE spent 1044.6541819572449 seconds ---\n"
     ]
    }
   ],
   "source": [
    "hist_spae_sigmoid_adam_mse = fit_ae(checkpoint_file = \"spae_sigmoid_adam_mse_redds\"+str(dsnum)+\"bal.h5\",\n",
    "                                  autoencoder = spae_sigmoid_adam_mse, \n",
    "                                  epochs = 200, \n",
    "                                  batch_size = batch_size,\n",
    "                                  shuffle = False)"
   ]
  },
  {
   "cell_type": "code",
   "execution_count": 97,
   "metadata": {},
   "outputs": [
    {
     "name": "stdout",
     "output_type": "stream",
     "text": [
      "Best loss value: 0.11730431866487269\n"
     ]
    },
    {
     "data": {
      "image/png": "[encoded data removed]",
      "text/plain": [
       "<Figure size 432x288 with 1 Axes>"
      ]
     },
     "metadata": {
      "needs_background": "light"
     },
     "output_type": "display_data"
    }
   ],
   "source": [
    "best_loss_value_spae_sigmoid_adam_mse  = plot_hist_auto(hist_spae_sigmoid_adam_mse, './Figures/hist_spae_sigmoid_adam_mse.png')"
   ]
  },
  {
   "cell_type": "code",
   "execution_count": 98,
   "metadata": {},
   "outputs": [],
   "source": [
    "loss_valueDict = {\n",
    "    'loss_value_ae_sigmoid_adam_logcosh': best_loss_value_ae_sigmoid_adam_logcosh,\n",
    "    'loss_value_ae_sigmoid_adam_mse': best_loss_value_ae_sigmoid_adam_mse,\n",
    "    'loss_value_ae_siglin_adam_logcosh': best_loss_value_ae_siglin_adam_logcosh,\n",
    "    'loss_value_ae_sigsig_adam_logcosh': best_loss_value_ae_sigsig_adam_logcosh,\n",
    "    'loss_value_spae_sigmoid_adam_mse': best_loss_value_spae_sigmoid_adam_mse\n",
    "    }"
   ]
  },
  {
   "cell_type": "code",
   "execution_count": 99,
   "metadata": {},
   "outputs": [
    {
     "data": {
      "text/plain": [
       "{'loss_value_ae_sigmoid_adam_logcosh': 0.0281253159796056,\n",
       " 'loss_value_ae_sigmoid_adam_mse': 0.08539347873476365,\n",
       " 'loss_value_ae_siglin_adam_logcosh': 0.00052920762953814,\n",
       " 'loss_value_ae_sigsig_adam_logcosh': 0.02808571490340787,\n",
       " 'loss_value_spae_sigmoid_adam_mse': 0.11730431866487269}"
      ]
     },
     "execution_count": 99,
     "metadata": {},
     "output_type": "execute_result"
    }
   ],
   "source": [
    "loss_valueDict"
   ]
  },
  {
   "cell_type": "code",
   "execution_count": null,
   "metadata": {},
   "outputs": [],
   "source": []
  },
  {
   "cell_type": "code",
   "execution_count": 100,
   "metadata": {},
   "outputs": [
    {
     "name": "stdout",
     "output_type": "stream",
     "text": [
      "(333242, 80)\n",
      "(104139, 80)\n",
      "(333242, 80)\n",
      "(104139, 80)\n",
      "(333242, 80)\n",
      "(104139, 80)\n",
      "(333242, 80)\n",
      "(104139, 80)\n",
      "(333242, 80)\n",
      "(104139, 80)\n"
     ]
    }
   ],
   "source": [
    "print(enc_train_x_asal.shape)\n",
    "print(enc_test_x_asal.shape)\n",
    "\n",
    "print(enc_train_x_asam.shape)\n",
    "print(enc_test_x_asam.shape)\n",
    "\n",
    "print(enc_train_x_aslal.shape)\n",
    "print(enc_test_x_aslal.shape)  \n",
    "\n",
    "print(enc_train_x_assal.shape)\n",
    "print(enc_test_x_assal.shape)\n",
    "\n",
    "print(enc_train_x_spsam.shape)\n",
    "print(enc_test_x_spsam.shape)"
   ]
  },
  {
   "cell_type": "code",
   "execution_count": null,
   "metadata": {},
   "outputs": [],
   "source": []
  },
  {
   "cell_type": "code",
   "execution_count": 51,
   "metadata": {},
   "outputs": [
    {
     "name": "stdout",
     "output_type": "stream",
     "text": [
      "_________________________________________________________________\n",
      "Layer (type)                 Output Shape              Param #   \n",
      "=================================================================\n",
      "dense_5 (Dense)              (None, 120)               9720      \n",
      "_________________________________________________________________\n",
      "dense_6 (Dense)              (None, 90)                10890     \n",
      "_________________________________________________________________\n",
      "batch_normalization_1 (Batch (None, 90)                360       \n",
      "_________________________________________________________________\n",
      "dropout_1 (Dropout)          (None, 90)                0         \n",
      "_________________________________________________________________\n",
      "dense_7 (Dense)              (None, 1)                 91        \n",
      "=================================================================\n",
      "Total params: 21,061\n",
      "Trainable params: 20,881\n",
      "Non-trainable params: 180\n",
      "_________________________________________________________________\n",
      "None\n"
     ]
    }
   ],
   "source": [
    "ann36n_unisoftsigbinlosadam = ann_1h_36n(neurons=neurons,\n",
    "                                      encoded_train_x=enc_train_x_asal,\n",
    "                                      init_mode='uniform',\n",
    "                                      activation_input='softsign',\n",
    "                                      weight_constraint=5,\n",
    "                                      dropout_rate=0.0,\n",
    "                                      activation_output='sigmoid',\n",
    "                                      loss='binary_crossentropy',\n",
    "                                      optimizer='Adam')"
   ]
  },
  {
   "cell_type": "code",
   "execution_count": 52,
   "metadata": {},
   "outputs": [
    {
     "name": "stdout",
     "output_type": "stream",
     "text": [
      "Wed Jun 12 16:57:39 2019\n",
      "Train on 266593 samples, validate on 66649 samples\n",
      "Epoch 1/200\n",
      "266593/266593 [==============================] - 8s 31us/step - loss: 0.1344 - acc: 0.9470 - val_loss: 0.0579 - val_acc: 0.9780\n",
      "Epoch 2/200\n",
      "266593/266593 [==============================] - 8s 29us/step - loss: 0.0420 - acc: 0.9841 - val_loss: 0.0421 - val_acc: 0.9839\n",
      "Epoch 3/200\n",
      "266593/266593 [==============================] - 8s 29us/step - loss: 0.0321 - acc: 0.9876 - val_loss: 0.0317 - val_acc: 0.9867\n",
      "Epoch 4/200\n",
      "266593/266593 [==============================] - 8s 29us/step - loss: 0.0258 - acc: 0.9897 - val_loss: 0.0237 - val_acc: 0.9902\n",
      "Epoch 5/200\n",
      "266593/266593 [==============================] - 8s 29us/step - loss: 0.0233 - acc: 0.9908 - val_loss: 0.0254 - val_acc: 0.9912\n",
      "Epoch 6/200\n",
      "266593/266593 [==============================] - 8s 30us/step - loss: 0.0212 - acc: 0.9916 - val_loss: 0.0236 - val_acc: 0.9907\n",
      "Epoch 7/200\n",
      "266593/266593 [==============================] - 8s 30us/step - loss: 0.0197 - acc: 0.9922 - val_loss: 0.0187 - val_acc: 0.9943\n",
      "Epoch 8/200\n",
      "266593/266593 [==============================] - 8s 29us/step - loss: 0.0179 - acc: 0.9929 - val_loss: 0.0134 - val_acc: 0.9949\n",
      "Epoch 9/200\n",
      "266593/266593 [==============================] - 8s 30us/step - loss: 0.0172 - acc: 0.9931 - val_loss: 0.0266 - val_acc: 0.9905\n",
      "Epoch 10/200\n",
      "266593/266593 [==============================] - 8s 30us/step - loss: 0.0163 - acc: 0.9934 - val_loss: 0.0122 - val_acc: 0.9949\n",
      "Epoch 11/200\n",
      "266593/266593 [==============================] - 8s 30us/step - loss: 0.0150 - acc: 0.9939 - val_loss: 0.0113 - val_acc: 0.9957\n",
      "Epoch 12/200\n",
      "266593/266593 [==============================] - 8s 30us/step - loss: 0.0141 - acc: 0.9942 - val_loss: 0.0132 - val_acc: 0.9945\n",
      "Epoch 13/200\n",
      "266593/266593 [==============================] - 8s 30us/step - loss: 0.0132 - acc: 0.9946 - val_loss: 0.0140 - val_acc: 0.9946\n",
      "Epoch 14/200\n",
      "266593/266593 [==============================] - 8s 30us/step - loss: 0.0132 - acc: 0.9947 - val_loss: 0.0095 - val_acc: 0.9956\n",
      "Epoch 15/200\n",
      "266593/266593 [==============================] - 8s 30us/step - loss: 0.0127 - acc: 0.9950 - val_loss: 0.0103 - val_acc: 0.9957\n",
      "Epoch 16/200\n",
      "266593/266593 [==============================] - 8s 30us/step - loss: 0.0117 - acc: 0.9953 - val_loss: 0.0151 - val_acc: 0.9933\n",
      "Epoch 17/200\n",
      "266593/266593 [==============================] - 8s 30us/step - loss: 0.0114 - acc: 0.9954 - val_loss: 0.0100 - val_acc: 0.9954\n",
      "Epoch 18/200\n",
      "266593/266593 [==============================] - 8s 30us/step - loss: 0.0113 - acc: 0.9955 - val_loss: 0.0091 - val_acc: 0.9963\n",
      "Epoch 19/200\n",
      "266593/266593 [==============================] - 8s 30us/step - loss: 0.0104 - acc: 0.9958 - val_loss: 0.0416 - val_acc: 0.9884\n",
      "Epoch 20/200\n",
      "266593/266593 [==============================] - 8s 30us/step - loss: 0.0108 - acc: 0.9956 - val_loss: 0.0103 - val_acc: 0.9957\n",
      "Epoch 21/200\n",
      "266593/266593 [==============================] - 8s 30us/step - loss: 0.0102 - acc: 0.9958 - val_loss: 0.0078 - val_acc: 0.9973\n",
      "Epoch 22/200\n",
      "266593/266593 [==============================] - 8s 29us/step - loss: 0.0098 - acc: 0.9961 - val_loss: 0.0107 - val_acc: 0.9958\n",
      "Epoch 23/200\n",
      "266593/266593 [==============================] - 8s 30us/step - loss: 0.0093 - acc: 0.9964 - val_loss: 0.0087 - val_acc: 0.9966\n",
      "Epoch 24/200\n",
      "266593/266593 [==============================] - 8s 30us/step - loss: 0.0094 - acc: 0.9963 - val_loss: 0.0085 - val_acc: 0.9969\n",
      "Epoch 25/200\n",
      "266593/266593 [==============================] - 8s 30us/step - loss: 0.0092 - acc: 0.9964 - val_loss: 0.0087 - val_acc: 0.9965\n",
      "Epoch 26/200\n",
      "266593/266593 [==============================] - 8s 30us/step - loss: 0.0090 - acc: 0.9964 - val_loss: 0.0090 - val_acc: 0.9967\n",
      "--- ANN spent 206.982754945755 seconds ---\n"
     ]
    }
   ],
   "source": [
    "hist_ann36n_unisoftsigbinlosadam = ann_fit(checkpoint_file = \"ann36n_unisoftsigbinlosadam_redds\"+str(dsnum)+\"bal.h5\",\n",
    "                                        ann = ann36n_unisoftsigbinlosadam,\n",
    "                                        enc_train_x = enc_train_x_asal,\n",
    "                                        train_y = train_y,\n",
    "                                        epochs = 200,\n",
    "                                        shuffle = True,\n",
    "                                        batch_size = batch_size)"
   ]
  },
  {
   "cell_type": "code",
   "execution_count": 53,
   "metadata": {},
   "outputs": [
    {
     "name": "stdout",
     "output_type": "stream",
     "text": [
      "Best loss value: 0.009021469406846613\n"
     ]
    },
    {
     "data": {
      "image/png": "[encoded data removed]",
      "text/plain": [
       "<Figure size 432x288 with 1 Axes>"
      ]
     },
     "metadata": {
      "needs_background": "light"
     },
     "output_type": "display_data"
    }
   ],
   "source": [
    "best_loss_value_ann36n_unisoftsigbinlosadam = plot_hist_auto(hist_ann36n_unisoftsigbinlosadam, './Figures/ann36_unisoftsigbinlosadam'+str(dsnum)+'.png')"
   ]
  },
  {
   "cell_type": "code",
   "execution_count": 54,
   "metadata": {},
   "outputs": [
    {
     "name": "stdout",
     "output_type": "stream",
     "text": [
      "Overall accuracy of Neural Network model: 0.9964758639894756\n",
      "              precision    recall  f1-score   support\n",
      "\n",
      "           0     0.9989    0.9940    0.9965     52145\n",
      "           1     0.9940    0.9989    0.9965     51994\n",
      "\n",
      "   micro avg     0.9965    0.9965    0.9965    104139\n",
      "   macro avg     0.9965    0.9965    0.9965    104139\n",
      "weighted avg     0.9965    0.9965    0.9965    104139\n",
      "\n"
     ]
    }
   ],
   "source": [
    "pred_ann36n_prob_unisoftsigbinlosadam, pred_ann36n_01_unisoftsigbinlosadam = ann_predict(ann36n_unisoftsigbinlosadam,enc_test_x_asal)"
   ]
  },
  {
   "cell_type": "code",
   "execution_count": 55,
   "metadata": {},
   "outputs": [
    {
     "data": {
      "image/png": "[encoded data removed]",
      "text/plain": [
       "<Figure size 432x288 with 1 Axes>"
      ]
     },
     "metadata": {
      "needs_background": "light"
     },
     "output_type": "display_data"
    },
    {
     "data": {
      "image/png": "[encoded data removed]",
      "text/plain": [
       "<Figure size 576x432 with 2 Axes>"
      ]
     },
     "metadata": {
      "needs_background": "light"
     },
     "output_type": "display_data"
    }
   ],
   "source": [
    "plot_roc_cm(pred_ann36n_01_unisoftsigbinlosadam, pred_ann36n_01_unisoftsigbinlosadam, './Figures/ROC_ann36n_unisoftsigbinlosadam_redds'+str(dsnum)+'bal.png', './Figures/CM_ann36n_unisoftsigbinlosadam_redds'+str(dsnum)+'bal.png')"
   ]
  },
  {
   "cell_type": "code",
   "execution_count": null,
   "metadata": {},
   "outputs": [],
   "source": []
  },
  {
   "cell_type": "code",
   "execution_count": 56,
   "metadata": {},
   "outputs": [
    {
     "name": "stdout",
     "output_type": "stream",
     "text": [
      "_________________________________________________________________\n",
      "Layer (type)                 Output Shape              Param #   \n",
      "=================================================================\n",
      "dense_8 (Dense)              (None, 120)               9720      \n",
      "_________________________________________________________________\n",
      "dense_9 (Dense)              (None, 90)                10890     \n",
      "_________________________________________________________________\n",
      "batch_normalization_2 (Batch (None, 90)                360       \n",
      "_________________________________________________________________\n",
      "dropout_2 (Dropout)          (None, 90)                0         \n",
      "_________________________________________________________________\n",
      "dense_10 (Dense)             (None, 1)                 91        \n",
      "=================================================================\n",
      "Total params: 21,061\n",
      "Trainable params: 20,881\n",
      "Non-trainable params: 180\n",
      "_________________________________________________________________\n",
      "None\n"
     ]
    }
   ],
   "source": [
    "ann36n_unisoftsigbinlosadam2 = ann_1h_36n(neurons=neurons,\n",
    "                                      encoded_train_x=enc_train_x_asam,\n",
    "                                      init_mode='uniform',\n",
    "                                      activation_input='softsign',\n",
    "                                      weight_constraint=5,\n",
    "                                      dropout_rate=0.0,\n",
    "                                      activation_output='sigmoid',\n",
    "                                      loss='binary_crossentropy',\n",
    "                                      optimizer='Adam')"
   ]
  },
  {
   "cell_type": "code",
   "execution_count": 57,
   "metadata": {},
   "outputs": [
    {
     "name": "stdout",
     "output_type": "stream",
     "text": [
      "Wed Jun 12 17:01:08 2019\n",
      "Train on 266593 samples, validate on 66649 samples\n",
      "Epoch 1/200\n",
      "266593/266593 [==============================] - 8s 32us/step - loss: 0.1439 - acc: 0.9427 - val_loss: 0.0618 - val_acc: 0.9799\n",
      "Epoch 2/200\n",
      "266593/266593 [==============================] - 8s 30us/step - loss: 0.0431 - acc: 0.9842 - val_loss: 0.0549 - val_acc: 0.9807\n",
      "Epoch 3/200\n",
      "266593/266593 [==============================] - 8s 30us/step - loss: 0.0338 - acc: 0.9874 - val_loss: 0.0333 - val_acc: 0.9889\n",
      "Epoch 4/200\n",
      "266593/266593 [==============================] - 8s 30us/step - loss: 0.0284 - acc: 0.9891 - val_loss: 0.0214 - val_acc: 0.9925\n",
      "Epoch 5/200\n",
      "266593/266593 [==============================] - 8s 30us/step - loss: 0.0244 - acc: 0.9906 - val_loss: 0.0274 - val_acc: 0.9888\n",
      "Epoch 6/200\n",
      "266593/266593 [==============================] - 8s 30us/step - loss: 0.0217 - acc: 0.9915 - val_loss: 0.0240 - val_acc: 0.9911\n",
      "Epoch 7/200\n",
      "266593/266593 [==============================] - 8s 30us/step - loss: 0.0205 - acc: 0.9920 - val_loss: 0.0185 - val_acc: 0.9931\n",
      "Epoch 8/200\n",
      "266593/266593 [==============================] - 8s 30us/step - loss: 0.0188 - acc: 0.9927 - val_loss: 0.0221 - val_acc: 0.9923\n",
      "Epoch 9/200\n",
      "266593/266593 [==============================] - 8s 30us/step - loss: 0.0179 - acc: 0.9931 - val_loss: 0.0191 - val_acc: 0.9926\n",
      "Epoch 10/200\n",
      "266593/266593 [==============================] - 8s 30us/step - loss: 0.0161 - acc: 0.9934 - val_loss: 0.0137 - val_acc: 0.9939\n",
      "Epoch 11/200\n",
      "266593/266593 [==============================] - 8s 30us/step - loss: 0.0166 - acc: 0.9936 - val_loss: 0.0160 - val_acc: 0.9935\n",
      "Epoch 12/200\n",
      "266593/266593 [==============================] - 8s 30us/step - loss: 0.0153 - acc: 0.9941 - val_loss: 0.0158 - val_acc: 0.9933\n",
      "Epoch 13/200\n",
      "266593/266593 [==============================] - 8s 30us/step - loss: 0.0145 - acc: 0.9943 - val_loss: 0.0120 - val_acc: 0.9950\n",
      "Epoch 14/200\n",
      "266593/266593 [==============================] - 8s 30us/step - loss: 0.0138 - acc: 0.9945 - val_loss: 0.0189 - val_acc: 0.9943\n",
      "Epoch 15/200\n",
      "266593/266593 [==============================] - 8s 30us/step - loss: 0.0137 - acc: 0.9947 - val_loss: 0.0146 - val_acc: 0.9941\n",
      "Epoch 16/200\n",
      "266593/266593 [==============================] - 8s 30us/step - loss: 0.0133 - acc: 0.9947 - val_loss: 0.0210 - val_acc: 0.9921\n",
      "Epoch 17/200\n",
      "266593/266593 [==============================] - 8s 30us/step - loss: 0.0121 - acc: 0.9953 - val_loss: 0.0115 - val_acc: 0.9946\n",
      "Epoch 18/200\n",
      "266593/266593 [==============================] - 8s 30us/step - loss: 0.0120 - acc: 0.9951 - val_loss: 0.0114 - val_acc: 0.9956\n",
      "Epoch 19/200\n",
      "266593/266593 [==============================] - 8s 30us/step - loss: 0.0114 - acc: 0.9955 - val_loss: 0.0159 - val_acc: 0.9939\n",
      "Epoch 20/200\n",
      "266593/266593 [==============================] - 8s 30us/step - loss: 0.0112 - acc: 0.9957 - val_loss: 0.0172 - val_acc: 0.9946\n",
      "Epoch 21/200\n",
      "266593/266593 [==============================] - 8s 30us/step - loss: 0.0107 - acc: 0.9959 - val_loss: 0.0081 - val_acc: 0.9970\n",
      "Epoch 22/200\n",
      "266593/266593 [==============================] - 8s 30us/step - loss: 0.0107 - acc: 0.9958 - val_loss: 0.0124 - val_acc: 0.9960\n",
      "Epoch 23/200\n",
      "266593/266593 [==============================] - 8s 30us/step - loss: 0.0100 - acc: 0.9961 - val_loss: 0.0115 - val_acc: 0.9961\n",
      "Epoch 24/200\n",
      "266593/266593 [==============================] - 8s 30us/step - loss: 0.0096 - acc: 0.9962 - val_loss: 0.0110 - val_acc: 0.9962\n",
      "Epoch 25/200\n",
      "266593/266593 [==============================] - 8s 30us/step - loss: 0.0096 - acc: 0.9963 - val_loss: 0.0106 - val_acc: 0.9956\n",
      "Epoch 26/200\n",
      "266593/266593 [==============================] - 8s 30us/step - loss: 0.0096 - acc: 0.9962 - val_loss: 0.0099 - val_acc: 0.9961\n",
      "--- ANN spent 209.00182437896729 seconds ---\n"
     ]
    }
   ],
   "source": [
    "hist_ann36n_unisoftsigbinlosadam2 = ann_fit(checkpoint_file = \"ann36n_unisoftsigbinlosadam2_redds\"+str(dsnum)+\"bal.h5\",\n",
    "                                        ann = ann36n_unisoftsigbinlosadam2,\n",
    "                                        enc_train_x = enc_train_x_asam,\n",
    "                                        train_y = train_y,\n",
    "                                        epochs = 200,\n",
    "                                        shuffle = True,\n",
    "                                        batch_size = batch_size)"
   ]
  },
  {
   "cell_type": "code",
   "execution_count": 58,
   "metadata": {},
   "outputs": [
    {
     "name": "stdout",
     "output_type": "stream",
     "text": [
      "Best loss value: 0.009551970867291081\n"
     ]
    },
    {
     "data": {
      "image/png": "[encoded data removed]",
      "text/plain": [
       "<Figure size 432x288 with 1 Axes>"
      ]
     },
     "metadata": {
      "needs_background": "light"
     },
     "output_type": "display_data"
    }
   ],
   "source": [
    "best_loss_value_ann36n_unisoftsigbinlosadam2 = plot_hist_auto(hist_ann36n_unisoftsigbinlosadam2, './Figures/ann36_unisoftsigbinlosadam2'+str(dsnum)+'.png')"
   ]
  },
  {
   "cell_type": "code",
   "execution_count": 59,
   "metadata": {},
   "outputs": [
    {
     "name": "stdout",
     "output_type": "stream",
     "text": [
      "Overall accuracy of Neural Network model: 0.996341428283352\n",
      "              precision    recall  f1-score   support\n",
      "\n",
      "           0     0.9967    0.9960    0.9963     52145\n",
      "           1     0.9959    0.9967    0.9963     51994\n",
      "\n",
      "   micro avg     0.9963    0.9963    0.9963    104139\n",
      "   macro avg     0.9963    0.9963    0.9963    104139\n",
      "weighted avg     0.9963    0.9963    0.9963    104139\n",
      "\n"
     ]
    }
   ],
   "source": [
    "pred_ann36n_prob_unisoftsigbinlosadam, pred_ann36n_01_unisoftsigbinlosadam2 = ann_predict(ann36n_unisoftsigbinlosadam2,enc_test_x_asam)"
   ]
  },
  {
   "cell_type": "code",
   "execution_count": 60,
   "metadata": {},
   "outputs": [
    {
     "data": {
      "image/png": "[encoded data removed]",
      "text/plain": [
       "<Figure size 432x288 with 1 Axes>"
      ]
     },
     "metadata": {
      "needs_background": "light"
     },
     "output_type": "display_data"
    },
    {
     "data": {
      "image/png": "[encoded data removed]",
      "text/plain": [
       "<Figure size 576x432 with 2 Axes>"
      ]
     },
     "metadata": {
      "needs_background": "light"
     },
     "output_type": "display_data"
    }
   ],
   "source": [
    "plot_roc_cm(pred_ann36n_01_unisoftsigbinlosadam, pred_ann36n_01_unisoftsigbinlosadam, './Figures/ROC_ann36n_unisoftsigbinlosadam_redds'+str(dsnum)+'bal.png', './Figures/CM_ann36n_unisoftsigbinlosadam_redds'+str(dsnum)+'bal.png')"
   ]
  },
  {
   "cell_type": "code",
   "execution_count": null,
   "metadata": {},
   "outputs": [],
   "source": []
  },
  {
   "cell_type": "code",
   "execution_count": 61,
   "metadata": {},
   "outputs": [
    {
     "name": "stdout",
     "output_type": "stream",
     "text": [
      "_________________________________________________________________\n",
      "Layer (type)                 Output Shape              Param #   \n",
      "=================================================================\n",
      "dense_11 (Dense)             (None, 120)               9720      \n",
      "_________________________________________________________________\n",
      "dense_12 (Dense)             (None, 90)                10890     \n",
      "_________________________________________________________________\n",
      "dense_13 (Dense)             (None, 60)                5460      \n",
      "_________________________________________________________________\n",
      "batch_normalization_3 (Batch (None, 60)                240       \n",
      "_________________________________________________________________\n",
      "dropout_3 (Dropout)          (None, 60)                0         \n",
      "_________________________________________________________________\n",
      "dense_14 (Dense)             (None, 1)                 61        \n",
      "=================================================================\n",
      "Total params: 26,371\n",
      "Trainable params: 26,251\n",
      "Non-trainable params: 120\n",
      "_________________________________________________________________\n",
      "None\n"
     ]
    }
   ],
   "source": [
    "ann_2h_unisoftsigbinlosadam = ann_2h(neurons=neurons,\n",
    "                                      encoded_train_x=enc_train_x_asam,\n",
    "                                      init_mode='uniform',\n",
    "                                      activation_input='softsign',\n",
    "                                      weight_constraint=5,\n",
    "                                      dropout_rate=0.0,\n",
    "                                      activation_output='sigmoid',\n",
    "                                      loss='binary_crossentropy',\n",
    "                                      optimizer='Adam')"
   ]
  },
  {
   "cell_type": "code",
   "execution_count": 62,
   "metadata": {},
   "outputs": [
    {
     "name": "stdout",
     "output_type": "stream",
     "text": [
      "Wed Jun 12 17:04:40 2019\n",
      "Train on 266593 samples, validate on 66649 samples\n",
      "Epoch 1/200\n",
      "266593/266593 [==============================] - 9s 34us/step - loss: 0.1287 - acc: 0.9445 - val_loss: 0.0576 - val_acc: 0.9755\n",
      "Epoch 2/200\n",
      "266593/266593 [==============================] - 9s 33us/step - loss: 0.0401 - acc: 0.9830 - val_loss: 0.0253 - val_acc: 0.9894\n",
      "Epoch 3/200\n",
      "266593/266593 [==============================] - 9s 32us/step - loss: 0.0309 - acc: 0.9876 - val_loss: 0.0209 - val_acc: 0.9915\n",
      "Epoch 4/200\n",
      "266593/266593 [==============================] - 9s 32us/step - loss: 0.0256 - acc: 0.9897 - val_loss: 0.0493 - val_acc: 0.9833\n",
      "Epoch 5/200\n",
      "266593/266593 [==============================] - 9s 32us/step - loss: 0.0214 - acc: 0.9914 - val_loss: 0.0184 - val_acc: 0.9921\n",
      "Epoch 6/200\n",
      "266593/266593 [==============================] - 9s 32us/step - loss: 0.0185 - acc: 0.9925 - val_loss: 0.0204 - val_acc: 0.9918\n",
      "Epoch 7/200\n",
      "266593/266593 [==============================] - 9s 32us/step - loss: 0.0182 - acc: 0.9926 - val_loss: 0.0151 - val_acc: 0.9931\n",
      "Epoch 8/200\n",
      "266593/266593 [==============================] - 9s 32us/step - loss: 0.0163 - acc: 0.9934 - val_loss: 0.0128 - val_acc: 0.9938\n",
      "Epoch 9/200\n",
      "266593/266593 [==============================] - 9s 32us/step - loss: 0.0144 - acc: 0.9940 - val_loss: 0.0113 - val_acc: 0.9955\n",
      "Epoch 10/200\n",
      "266593/266593 [==============================] - 9s 32us/step - loss: 0.0141 - acc: 0.9943 - val_loss: 0.0098 - val_acc: 0.9960\n",
      "Epoch 11/200\n",
      "266593/266593 [==============================] - 9s 32us/step - loss: 0.0137 - acc: 0.9946 - val_loss: 0.0152 - val_acc: 0.9938\n",
      "Epoch 12/200\n",
      "266593/266593 [==============================] - 9s 33us/step - loss: 0.0116 - acc: 0.9953 - val_loss: 0.0096 - val_acc: 0.9959\n",
      "Epoch 13/200\n",
      "266593/266593 [==============================] - 9s 33us/step - loss: 0.0112 - acc: 0.9954 - val_loss: 0.0095 - val_acc: 0.9963\n",
      "Epoch 14/200\n",
      "266593/266593 [==============================] - 9s 33us/step - loss: 0.0107 - acc: 0.9956 - val_loss: 0.0068 - val_acc: 0.9974\n",
      "Epoch 15/200\n",
      "266593/266593 [==============================] - 9s 33us/step - loss: 0.0103 - acc: 0.9960 - val_loss: 0.0072 - val_acc: 0.9976\n",
      "Epoch 16/200\n",
      "266593/266593 [==============================] - 9s 33us/step - loss: 0.0098 - acc: 0.9961 - val_loss: 0.0098 - val_acc: 0.9961\n",
      "Epoch 17/200\n",
      "266593/266593 [==============================] - 9s 33us/step - loss: 0.0096 - acc: 0.9961 - val_loss: 0.0065 - val_acc: 0.9972\n",
      "Epoch 18/200\n",
      "266593/266593 [==============================] - 9s 33us/step - loss: 0.0088 - acc: 0.9964 - val_loss: 0.0139 - val_acc: 0.9939\n",
      "Epoch 19/200\n",
      "266593/266593 [==============================] - 9s 33us/step - loss: 0.0085 - acc: 0.9966 - val_loss: 0.0068 - val_acc: 0.9970\n",
      "Epoch 20/200\n",
      "266593/266593 [==============================] - 9s 33us/step - loss: 0.0084 - acc: 0.9967 - val_loss: 0.0060 - val_acc: 0.9976\n",
      "Epoch 21/200\n",
      "266593/266593 [==============================] - 9s 32us/step - loss: 0.0075 - acc: 0.9970 - val_loss: 0.0127 - val_acc: 0.9954\n",
      "Epoch 22/200\n",
      "266593/266593 [==============================] - 9s 33us/step - loss: 0.0079 - acc: 0.9968 - val_loss: 0.0056 - val_acc: 0.9978\n",
      "Epoch 23/200\n",
      "266593/266593 [==============================] - 9s 33us/step - loss: 0.0076 - acc: 0.9971 - val_loss: 0.0056 - val_acc: 0.9978\n",
      "Epoch 24/200\n",
      "266593/266593 [==============================] - 9s 32us/step - loss: 0.0074 - acc: 0.9971 - val_loss: 0.0073 - val_acc: 0.9976\n",
      "Epoch 25/200\n",
      "266593/266593 [==============================] - 9s 32us/step - loss: 0.0070 - acc: 0.9973 - val_loss: 0.0064 - val_acc: 0.9976\n",
      "Epoch 26/200\n",
      "266593/266593 [==============================] - 9s 32us/step - loss: 0.0066 - acc: 0.9973 - val_loss: 0.0062 - val_acc: 0.9977\n",
      "Epoch 27/200\n",
      "266593/266593 [==============================] - 9s 32us/step - loss: 0.0074 - acc: 0.9971 - val_loss: 0.0105 - val_acc: 0.9965\n",
      "--- ANN spent 234.92981672286987 seconds ---\n"
     ]
    }
   ],
   "source": [
    "hist_ann_2h_unisoftsigbinlosadam = ann_fit(checkpoint_file = \"ann_2h_unisoftsigbinlosadam_redds\"+str(dsnum)+\"bal.h5\",\n",
    "                                        ann = ann_2h_unisoftsigbinlosadam,\n",
    "                                        enc_train_x = enc_train_x_asam,\n",
    "                                        train_y = train_y,\n",
    "                                        epochs = 200,\n",
    "                                        shuffle = True,\n",
    "                                        batch_size = batch_size)"
   ]
  },
  {
   "cell_type": "code",
   "execution_count": 63,
   "metadata": {},
   "outputs": [],
   "source": [
    "# hist_ann_2h_unisoftsigbinlosadam.model.get_weights()"
   ]
  },
  {
   "cell_type": "code",
   "execution_count": 64,
   "metadata": {},
   "outputs": [
    {
     "name": "stdout",
     "output_type": "stream",
     "text": [
      "Best loss value: 0.007363949135565513\n"
     ]
    },
    {
     "data": {
      "image/png": "[encoded data removed]",
      "text/plain": [
       "<Figure size 432x288 with 1 Axes>"
      ]
     },
     "metadata": {
      "needs_background": "light"
     },
     "output_type": "display_data"
    }
   ],
   "source": [
    "best_loss_value_ann_2h_unisoftsigbinlosadam = plot_hist_auto(hist_ann_2h_unisoftsigbinlosadam, './Figures/ann_2h_unisoftsigbinlosadam.png')"
   ]
  },
  {
   "cell_type": "code",
   "execution_count": 65,
   "metadata": {},
   "outputs": [
    {
     "name": "stdout",
     "output_type": "stream",
     "text": [
      "Overall accuracy of Neural Network model: 0.9964758639894756\n",
      "              precision    recall  f1-score   support\n",
      "\n",
      "           0     0.9976    0.9954    0.9965     52145\n",
      "           1     0.9954    0.9976    0.9965     51994\n",
      "\n",
      "   micro avg     0.9965    0.9965    0.9965    104139\n",
      "   macro avg     0.9965    0.9965    0.9965    104139\n",
      "weighted avg     0.9965    0.9965    0.9965    104139\n",
      "\n"
     ]
    }
   ],
   "source": [
    "pred_ann_2h_prob_unisoftsigbinlosadam, pred_ann_2h_01_unisoftsigbinlosadam = ann_predict(ann_2h_unisoftsigbinlosadam,enc_test_x_asam)"
   ]
  },
  {
   "cell_type": "code",
   "execution_count": 66,
   "metadata": {},
   "outputs": [
    {
     "data": {
      "image/png": "[encoded data removed]",
      "text/plain": [
       "<Figure size 432x288 with 1 Axes>"
      ]
     },
     "metadata": {
      "needs_background": "light"
     },
     "output_type": "display_data"
    },
    {
     "data": {
      "image/png": "[encoded data removed]",
      "text/plain": [
       "<Figure size 576x432 with 2 Axes>"
      ]
     },
     "metadata": {
      "needs_background": "light"
     },
     "output_type": "display_data"
    }
   ],
   "source": [
    "plot_roc_cm(pred_ann_2h_01_unisoftsigbinlosadam, pred_ann_2h_01_unisoftsigbinlosadam, './Figures/ROC_ann_2h_unisoftsigbinlosadam_redds'+str(dsnum)+'bal.png', './Figures/CM_ann_2h_unisoftsigbinlosadam_redds'+str(dsnum)+'bal.png')"
   ]
  },
  {
   "cell_type": "code",
   "execution_count": null,
   "metadata": {},
   "outputs": [],
   "source": []
  },
  {
   "cell_type": "code",
   "execution_count": 67,
   "metadata": {},
   "outputs": [
    {
     "name": "stdout",
     "output_type": "stream",
     "text": [
      "_________________________________________________________________\n",
      "Layer (type)                 Output Shape              Param #   \n",
      "=================================================================\n",
      "dense_15 (Dense)             (None, 120)               9720      \n",
      "_________________________________________________________________\n",
      "dense_16 (Dense)             (None, 90)                10890     \n",
      "_________________________________________________________________\n",
      "dense_17 (Dense)             (None, 60)                5460      \n",
      "_________________________________________________________________\n",
      "batch_normalization_4 (Batch (None, 60)                240       \n",
      "_________________________________________________________________\n",
      "dropout_4 (Dropout)          (None, 60)                0         \n",
      "_________________________________________________________________\n",
      "dense_18 (Dense)             (None, 1)                 61        \n",
      "=================================================================\n",
      "Total params: 26,371\n",
      "Trainable params: 26,251\n",
      "Non-trainable params: 120\n",
      "_________________________________________________________________\n",
      "None\n"
     ]
    }
   ],
   "source": [
    "ann_2h_unisoftsigbinlosadam2 = ann_2h_(neurons=neurons,\n",
    "                                      encoded_train_x=enc_train_x_asal,\n",
    "#                                       init_mode='glorot_uniform',\n",
    "                                       init_mode='VarianceScaling',\n",
    "#                                       activation_input='softsign',\n",
    "                                      activation_input='relu',\n",
    "#                                       weight_constraint=5,\n",
    "                                      dropout_rate=0.0,\n",
    "                                      activation_output='sigmoid',\n",
    "                                      loss='binary_crossentropy',\n",
    "                                      lr=0.05)"
   ]
  },
  {
   "cell_type": "code",
   "execution_count": 68,
   "metadata": {},
   "outputs": [
    {
     "name": "stdout",
     "output_type": "stream",
     "text": [
      "Wed Jun 12 17:08:38 2019\n",
      "Train on 266593 samples, validate on 66649 samples\n",
      "Epoch 1/200\n",
      "266593/266593 [==============================] - 9s 35us/step - loss: 0.1612 - acc: 0.9288 - val_loss: 0.0638 - val_acc: 0.9756\n",
      "Epoch 2/200\n",
      "266593/266593 [==============================] - 9s 32us/step - loss: 0.0550 - acc: 0.9787 - val_loss: 0.0699 - val_acc: 0.9704\n",
      "Epoch 3/200\n",
      "266593/266593 [==============================] - 8s 32us/step - loss: 0.0431 - acc: 0.9833 - val_loss: 0.0370 - val_acc: 0.9862\n",
      "Epoch 4/200\n",
      "266593/266593 [==============================] - 9s 32us/step - loss: 0.0355 - acc: 0.9864 - val_loss: 0.0646 - val_acc: 0.9811\n",
      "Epoch 5/200\n",
      "266593/266593 [==============================] - 8s 31us/step - loss: 0.0298 - acc: 0.9884 - val_loss: 0.0376 - val_acc: 0.9867\n",
      "Epoch 6/200\n",
      "266593/266593 [==============================] - 8s 30us/step - loss: 0.0286 - acc: 0.9888 - val_loss: 0.0173 - val_acc: 0.9929\n",
      "Epoch 7/200\n",
      "266593/266593 [==============================] - 8s 30us/step - loss: 0.0259 - acc: 0.9902 - val_loss: 0.0232 - val_acc: 0.9918\n",
      "Epoch 8/200\n",
      "266593/266593 [==============================] - 8s 30us/step - loss: 0.0223 - acc: 0.9911 - val_loss: 0.0215 - val_acc: 0.9910\n",
      "Epoch 9/200\n",
      "266593/266593 [==============================] - 8s 31us/step - loss: 0.0213 - acc: 0.9915 - val_loss: 0.0144 - val_acc: 0.9938\n",
      "Epoch 10/200\n",
      "266593/266593 [==============================] - 8s 29us/step - loss: 0.0199 - acc: 0.9919 - val_loss: 0.0128 - val_acc: 0.9948\n",
      "Epoch 11/200\n",
      "266593/266593 [==============================] - 8s 30us/step - loss: 0.0198 - acc: 0.9922 - val_loss: 0.0150 - val_acc: 0.9930\n",
      "Epoch 12/200\n",
      "266593/266593 [==============================] - 8s 30us/step - loss: 0.0169 - acc: 0.9931 - val_loss: 0.0222 - val_acc: 0.9928\n",
      "Epoch 13/200\n",
      "266593/266593 [==============================] - 8s 30us/step - loss: 0.0179 - acc: 0.9932 - val_loss: 0.0133 - val_acc: 0.9941\n",
      "Epoch 14/200\n",
      "266593/266593 [==============================] - 8s 30us/step - loss: 0.0158 - acc: 0.9940 - val_loss: 0.0119 - val_acc: 0.9947\n",
      "Epoch 15/200\n",
      "266593/266593 [==============================] - 8s 30us/step - loss: 0.0152 - acc: 0.9941 - val_loss: 0.0073 - val_acc: 0.9970\n",
      "Epoch 16/200\n",
      "266593/266593 [==============================] - 8s 30us/step - loss: 0.0146 - acc: 0.9945 - val_loss: 0.0188 - val_acc: 0.9923\n",
      "Epoch 17/200\n",
      "266593/266593 [==============================] - 8s 30us/step - loss: 0.0150 - acc: 0.9941 - val_loss: 0.0203 - val_acc: 0.9932\n",
      "Epoch 18/200\n",
      "266593/266593 [==============================] - 8s 29us/step - loss: 0.0140 - acc: 0.9946 - val_loss: 0.0301 - val_acc: 0.9920\n",
      "Epoch 19/200\n",
      "266593/266593 [==============================] - 8s 29us/step - loss: 0.0130 - acc: 0.9950 - val_loss: 0.0114 - val_acc: 0.9951\n",
      "Epoch 20/200\n",
      "266593/266593 [==============================] - 8s 29us/step - loss: 0.0144 - acc: 0.9944 - val_loss: 0.0084 - val_acc: 0.9967\n",
      "--- ANN spent 162.80723762512207 seconds ---\n"
     ]
    }
   ],
   "source": [
    "hist_ann_2h_unisoftsigbinlosadam2 = ann_fit(checkpoint_file = \"ann_2h_unisoftsigbinlosadam2_redds\"+str(dsnum)+\"bal.h5\",\n",
    "                                        ann = ann_2h_unisoftsigbinlosadam2,\n",
    "                                        enc_train_x = enc_train_x_asal,\n",
    "                                        train_y = train_y,\n",
    "                                        epochs = 200,\n",
    "                                        shuffle = True,\n",
    "                                        batch_size = batch_size)"
   ]
  },
  {
   "cell_type": "code",
   "execution_count": 69,
   "metadata": {},
   "outputs": [
    {
     "name": "stdout",
     "output_type": "stream",
     "text": [
      "Best loss value: 0.014385565811895812\n"
     ]
    },
    {
     "data": {
      "image/png": "[encoded data removed]",
      "text/plain": [
       "<Figure size 432x288 with 1 Axes>"
      ]
     },
     "metadata": {
      "needs_background": "light"
     },
     "output_type": "display_data"
    }
   ],
   "source": [
    "best_loss_value_ann_2h_unisoftsigbinlosadam2 = plot_hist_auto(hist_ann_2h_unisoftsigbinlosadam2, './Figures/ann_2h_unisoftsigbinlosadam2'+str(dsnum)+'.png')"
   ]
  },
  {
   "cell_type": "code",
   "execution_count": 70,
   "metadata": {},
   "outputs": [
    {
     "name": "stdout",
     "output_type": "stream",
     "text": [
      "Overall accuracy of Neural Network model: 0.9963894410355391\n",
      "              precision    recall  f1-score   support\n",
      "\n",
      "           0     0.9985    0.9942    0.9964     52145\n",
      "           1     0.9943    0.9985    0.9964     51994\n",
      "\n",
      "   micro avg     0.9964    0.9964    0.9964    104139\n",
      "   macro avg     0.9964    0.9964    0.9964    104139\n",
      "weighted avg     0.9964    0.9964    0.9964    104139\n",
      "\n"
     ]
    }
   ],
   "source": [
    "pred_ann_2h_prob_unisoftsigbinlosadam2, pred_ann_2h_01_unisoftsigbinlosadam2 = ann_predict(ann_2h_unisoftsigbinlosadam2,enc_test_x_asal)"
   ]
  },
  {
   "cell_type": "code",
   "execution_count": 71,
   "metadata": {},
   "outputs": [
    {
     "data": {
      "image/png": "[encoded data removed]",
      "text/plain": [
       "<Figure size 432x288 with 1 Axes>"
      ]
     },
     "metadata": {
      "needs_background": "light"
     },
     "output_type": "display_data"
    },
    {
     "data": {
      "image/png": "[encoded data removed]",
      "text/plain": [
       "<Figure size 576x432 with 2 Axes>"
      ]
     },
     "metadata": {
      "needs_background": "light"
     },
     "output_type": "display_data"
    }
   ],
   "source": [
    "plot_roc_cm(pred_ann_2h_01_unisoftsigbinlosadam2, pred_ann_2h_01_unisoftsigbinlosadam2, './Figures/ROC_ann_2h_unisoftsigbinlosadam2_redds'+str(dsnum)+'bal.png', './Figures/CM_ann_2h_unisoftsigbinlosadam2_redds'+str(dsnum)+'bal.png')"
   ]
  },
  {
   "cell_type": "code",
   "execution_count": null,
   "metadata": {},
   "outputs": [],
   "source": []
  },
  {
   "cell_type": "markdown",
   "metadata": {},
   "source": [
    "### **BEST with ae encoding ---------------------------------**"
   ]
  },
  {
   "cell_type": "code",
   "execution_count": 72,
   "metadata": {},
   "outputs": [
    {
     "name": "stdout",
     "output_type": "stream",
     "text": [
      "_________________________________________________________________\n",
      "Layer (type)                 Output Shape              Param #   \n",
      "=================================================================\n",
      "dense_19 (Dense)             (None, 120)               9720      \n",
      "_________________________________________________________________\n",
      "dense_20 (Dense)             (None, 90)                10890     \n",
      "_________________________________________________________________\n",
      "dense_21 (Dense)             (None, 60)                5460      \n",
      "_________________________________________________________________\n",
      "batch_normalization_5 (Batch (None, 60)                240       \n",
      "_________________________________________________________________\n",
      "dropout_5 (Dropout)          (None, 60)                0         \n",
      "_________________________________________________________________\n",
      "dense_22 (Dense)             (None, 1)                 61        \n",
      "=================================================================\n",
      "Total params: 26,371\n",
      "Trainable params: 26,251\n",
      "Non-trainable params: 120\n",
      "_________________________________________________________________\n",
      "None\n"
     ]
    }
   ],
   "source": [
    "ann_2h_unisoftsigbinlosadam3 = ann_2h(neurons=neurons,\n",
    "                                      encoded_train_x=enc_train_x_asam,\n",
    "                                      init_mode='uniform',\n",
    "                                      activation_input='relu',\n",
    "                                      weight_constraint=5,\n",
    "                                      dropout_rate=0.0,\n",
    "                                      activation_output='sigmoid',\n",
    "                                      loss='binary_crossentropy',\n",
    "                                      optimizer='Adam')"
   ]
  },
  {
   "cell_type": "code",
   "execution_count": 73,
   "metadata": {},
   "outputs": [
    {
     "name": "stdout",
     "output_type": "stream",
     "text": [
      "Wed Jun 12 17:11:23 2019\n",
      "Train on 266593 samples, validate on 66649 samples\n",
      "Epoch 1/200\n",
      "266593/266593 [==============================] - 9s 35us/step - loss: 0.1106 - acc: 0.9521 - val_loss: 0.0409 - val_acc: 0.9814\n",
      "Epoch 2/200\n",
      "266593/266593 [==============================] - 8s 31us/step - loss: 0.0393 - acc: 0.9829 - val_loss: 0.0338 - val_acc: 0.9847\n",
      "Epoch 3/200\n",
      "266593/266593 [==============================] - 8s 32us/step - loss: 0.0307 - acc: 0.9869 - val_loss: 0.0215 - val_acc: 0.9908\n",
      "Epoch 4/200\n",
      "266593/266593 [==============================] - 8s 31us/step - loss: 0.0246 - acc: 0.9897 - val_loss: 0.0185 - val_acc: 0.9922\n",
      "Epoch 5/200\n",
      "266593/266593 [==============================] - 8s 32us/step - loss: 0.0216 - acc: 0.9912 - val_loss: 0.0143 - val_acc: 0.9936\n",
      "Epoch 6/200\n",
      "266593/266593 [==============================] - 8s 31us/step - loss: 0.0180 - acc: 0.9927 - val_loss: 0.0303 - val_acc: 0.9883\n",
      "Epoch 7/200\n",
      "266593/266593 [==============================] - 8s 31us/step - loss: 0.0162 - acc: 0.9931 - val_loss: 0.0220 - val_acc: 0.9909\n",
      "Epoch 8/200\n",
      "266593/266593 [==============================] - 8s 31us/step - loss: 0.0147 - acc: 0.9943 - val_loss: 0.0114 - val_acc: 0.9953\n",
      "Epoch 9/200\n",
      "266593/266593 [==============================] - 8s 31us/step - loss: 0.0137 - acc: 0.9945 - val_loss: 0.0102 - val_acc: 0.9958\n",
      "Epoch 10/200\n",
      "266593/266593 [==============================] - 8s 31us/step - loss: 0.0125 - acc: 0.9950 - val_loss: 0.0102 - val_acc: 0.9956\n",
      "Epoch 11/200\n",
      "266593/266593 [==============================] - 8s 31us/step - loss: 0.0126 - acc: 0.9948 - val_loss: 0.0077 - val_acc: 0.9964\n",
      "Epoch 12/200\n",
      "266593/266593 [==============================] - 8s 31us/step - loss: 0.0107 - acc: 0.9956 - val_loss: 0.0099 - val_acc: 0.9963\n",
      "Epoch 13/200\n",
      "266593/266593 [==============================] - 8s 32us/step - loss: 0.0104 - acc: 0.9958 - val_loss: 0.0094 - val_acc: 0.9962\n",
      "Epoch 14/200\n",
      "266593/266593 [==============================] - 8s 31us/step - loss: 0.0091 - acc: 0.9963 - val_loss: 0.0074 - val_acc: 0.9972\n",
      "Epoch 15/200\n",
      "266593/266593 [==============================] - 8s 31us/step - loss: 0.0087 - acc: 0.9965 - val_loss: 0.0059 - val_acc: 0.9972\n",
      "Epoch 16/200\n",
      "266593/266593 [==============================] - 8s 31us/step - loss: 0.0087 - acc: 0.9964 - val_loss: 0.0059 - val_acc: 0.9979\n",
      "Epoch 17/200\n",
      "266593/266593 [==============================] - 8s 31us/step - loss: 0.0076 - acc: 0.9968 - val_loss: 0.0052 - val_acc: 0.9980\n",
      "Epoch 18/200\n",
      "266593/266593 [==============================] - 8s 31us/step - loss: 0.0087 - acc: 0.9966 - val_loss: 0.0054 - val_acc: 0.9979\n",
      "Epoch 19/200\n",
      "266593/266593 [==============================] - 8s 30us/step - loss: 0.0070 - acc: 0.9973 - val_loss: 0.0086 - val_acc: 0.9961\n",
      "Epoch 20/200\n",
      "266593/266593 [==============================] - 8s 30us/step - loss: 0.0071 - acc: 0.9971 - val_loss: 0.0048 - val_acc: 0.9982\n",
      "Epoch 21/200\n",
      "266593/266593 [==============================] - 8s 30us/step - loss: 0.0068 - acc: 0.9974 - val_loss: 0.0053 - val_acc: 0.9981\n",
      "Epoch 22/200\n",
      "266593/266593 [==============================] - 8s 30us/step - loss: 0.0062 - acc: 0.9975 - val_loss: 0.0050 - val_acc: 0.9980\n",
      "Epoch 23/200\n",
      "266593/266593 [==============================] - 8s 31us/step - loss: 0.0061 - acc: 0.9976 - val_loss: 0.0047 - val_acc: 0.9982\n",
      "Epoch 24/200\n",
      "266593/266593 [==============================] - 8s 31us/step - loss: 0.0059 - acc: 0.9975 - val_loss: 0.0067 - val_acc: 0.9973\n",
      "Epoch 25/200\n",
      "266593/266593 [==============================] - 8s 30us/step - loss: 0.0055 - acc: 0.9978 - val_loss: 0.0042 - val_acc: 0.9983\n",
      "Epoch 26/200\n",
      "266593/266593 [==============================] - 8s 30us/step - loss: 0.0054 - acc: 0.9978 - val_loss: 0.0044 - val_acc: 0.9985\n",
      "Epoch 27/200\n",
      "266593/266593 [==============================] - 8s 30us/step - loss: 0.0055 - acc: 0.9979 - val_loss: 0.0033 - val_acc: 0.9986\n",
      "Epoch 28/200\n",
      "266593/266593 [==============================] - 8s 30us/step - loss: 0.0054 - acc: 0.9979 - val_loss: 0.0060 - val_acc: 0.9977\n",
      "Epoch 29/200\n",
      "266593/266593 [==============================] - 8s 30us/step - loss: 0.0047 - acc: 0.9982 - val_loss: 0.0045 - val_acc: 0.9981\n",
      "Epoch 30/200\n",
      "266593/266593 [==============================] - 8s 30us/step - loss: 0.0053 - acc: 0.9978 - val_loss: 0.0050 - val_acc: 0.9980\n",
      "Epoch 31/200\n",
      "266593/266593 [==============================] - 8s 30us/step - loss: 0.0048 - acc: 0.9981 - val_loss: 0.0053 - val_acc: 0.9981\n",
      "Epoch 32/200\n",
      "266593/266593 [==============================] - 8s 30us/step - loss: 0.0047 - acc: 0.9981 - val_loss: 0.0029 - val_acc: 0.9989\n",
      "Epoch 33/200\n",
      "266593/266593 [==============================] - 8s 30us/step - loss: 0.0045 - acc: 0.9983 - val_loss: 0.0070 - val_acc: 0.9976\n",
      "Epoch 34/200\n",
      "266593/266593 [==============================] - 8s 30us/step - loss: 0.0048 - acc: 0.9982 - val_loss: 0.0034 - val_acc: 0.9988\n",
      "Epoch 35/200\n",
      "266593/266593 [==============================] - 8s 29us/step - loss: 0.0044 - acc: 0.9983 - val_loss: 0.0030 - val_acc: 0.9988\n",
      "Epoch 36/200\n",
      "266593/266593 [==============================] - 8s 29us/step - loss: 0.0046 - acc: 0.9982 - val_loss: 0.0034 - val_acc: 0.9986\n",
      "Epoch 37/200\n",
      "266593/266593 [==============================] - 8s 29us/step - loss: 0.0047 - acc: 0.9982 - val_loss: 0.0048 - val_acc: 0.9980\n",
      "--- ANN spent 302.80623745918274 seconds ---\n"
     ]
    }
   ],
   "source": [
    "hist_ann_2h_unisoftsigbinlosadam3 = ann_fit(checkpoint_file = \"ann_2h_unisoftsigbinlosadam3_redds\"+str(dsnum)+\"bal.h5\",\n",
    "                                        ann = ann_2h_unisoftsigbinlosadam3,\n",
    "                                        enc_train_x = enc_train_x_asam,\n",
    "                                        train_y = train_y,\n",
    "                                        epochs = 200,\n",
    "                                        shuffle = True,\n",
    "                                        batch_size = batch_size)"
   ]
  },
  {
   "cell_type": "code",
   "execution_count": 74,
   "metadata": {},
   "outputs": [],
   "source": [
    "# hist_ann_2h_unisoftsigbinlosadam.model.get_weights()"
   ]
  },
  {
   "cell_type": "code",
   "execution_count": 75,
   "metadata": {},
   "outputs": [
    {
     "name": "stdout",
     "output_type": "stream",
     "text": [
      "Best loss value: 0.004661762159987606\n"
     ]
    },
    {
     "data": {
      "image/png": "[encoded data removed]",
      "text/plain": [
       "<Figure size 432x288 with 1 Axes>"
      ]
     },
     "metadata": {
      "needs_background": "light"
     },
     "output_type": "display_data"
    }
   ],
   "source": [
    "best_loss_value_ann_2h_unisoftsigbinlosadam3 = plot_hist_auto(hist_ann_2h_unisoftsigbinlosadam3, './Figures/ann_2h_unisoftsigbinlosadam3'+str(dsnum)+'.png')"
   ]
  },
  {
   "cell_type": "code",
   "execution_count": 76,
   "metadata": {},
   "outputs": [
    {
     "name": "stdout",
     "output_type": "stream",
     "text": [
      "Overall accuracy of Neural Network model: 0.9977818108489614\n",
      "              precision    recall  f1-score   support\n",
      "\n",
      "           0     0.9984    0.9972    0.9978     52145\n",
      "           1     0.9972    0.9984    0.9978     51994\n",
      "\n",
      "   micro avg     0.9978    0.9978    0.9978    104139\n",
      "   macro avg     0.9978    0.9978    0.9978    104139\n",
      "weighted avg     0.9978    0.9978    0.9978    104139\n",
      "\n"
     ]
    }
   ],
   "source": [
    "pred_ann_2h_prob_unisoftsigbinlosadam3, pred_ann_2h_01_unisoftsigbinlosadam3 = ann_predict(ann_2h_unisoftsigbinlosadam3,enc_test_x_asam)"
   ]
  },
  {
   "cell_type": "code",
   "execution_count": 77,
   "metadata": {},
   "outputs": [
    {
     "data": {
      "image/png": "[encoded data removed]",
      "text/plain": [
       "<Figure size 432x288 with 1 Axes>"
      ]
     },
     "metadata": {
      "needs_background": "light"
     },
     "output_type": "display_data"
    },
    {
     "data": {
      "image/png": "[encoded data removed]",
      "text/plain": [
       "<Figure size 576x432 with 2 Axes>"
      ]
     },
     "metadata": {
      "needs_background": "light"
     },
     "output_type": "display_data"
    }
   ],
   "source": [
    "plot_roc_cm(pred_ann_2h_01_unisoftsigbinlosadam3, pred_ann_2h_01_unisoftsigbinlosadam3, './Figures/ROC_ann_2h_unisoftsigbinlosadam3_redds'+str(dsnum)+'bal.png', './Figures/CM_ann_2h_unisoftsigbinlosadam3_redds'+str(dsnum)+'bal.png')"
   ]
  },
  {
   "cell_type": "markdown",
   "metadata": {},
   "source": [
    "### **BEST with spae encoding ---------------------------------**"
   ]
  },
  {
   "cell_type": "code",
   "execution_count": 101,
   "metadata": {},
   "outputs": [
    {
     "name": "stdout",
     "output_type": "stream",
     "text": [
      "_________________________________________________________________\n",
      "Layer (type)                 Output Shape              Param #   \n",
      "=================================================================\n",
      "dense_31 (Dense)             (None, 120)               9720      \n",
      "_________________________________________________________________\n",
      "dense_32 (Dense)             (None, 90)                10890     \n",
      "_________________________________________________________________\n",
      "dense_33 (Dense)             (None, 60)                5460      \n",
      "_________________________________________________________________\n",
      "batch_normalization_8 (Batch (None, 60)                240       \n",
      "_________________________________________________________________\n",
      "dropout_8 (Dropout)          (None, 60)                0         \n",
      "_________________________________________________________________\n",
      "dense_34 (Dense)             (None, 1)                 61        \n",
      "=================================================================\n",
      "Total params: 26,371\n",
      "Trainable params: 26,251\n",
      "Non-trainable params: 120\n",
      "_________________________________________________________________\n",
      "None\n"
     ]
    }
   ],
   "source": [
    "sp_ann_2h_unisoftsigbinlosadam = ann_2h(neurons=neurons,\n",
    "                                      encoded_train_x=enc_train_x_spsam,\n",
    "                                      init_mode='uniform',\n",
    "                                      activation_input='relu',\n",
    "                                      weight_constraint=5,\n",
    "                                      dropout_rate=0.0,\n",
    "                                      activation_output='sigmoid',\n",
    "                                      loss='binary_crossentropy',\n",
    "                                      optimizer='Adam')"
   ]
  },
  {
   "cell_type": "code",
   "execution_count": 102,
   "metadata": {},
   "outputs": [
    {
     "name": "stdout",
     "output_type": "stream",
     "text": [
      "Thu Jun 13 12:30:52 2019\n",
      "Train on 266593 samples, validate on 66649 samples\n",
      "Epoch 1/200\n",
      "266593/266593 [==============================] - 10s 37us/step - loss: 0.1047 - acc: 0.9562 - val_loss: 0.0448 - val_acc: 0.9828\n",
      "Epoch 2/200\n",
      "266593/266593 [==============================] - 9s 34us/step - loss: 0.0380 - acc: 0.9842 - val_loss: 0.0336 - val_acc: 0.9854\n",
      "Epoch 3/200\n",
      "266593/266593 [==============================] - 9s 34us/step - loss: 0.0288 - acc: 0.9884 - val_loss: 0.0182 - val_acc: 0.9920\n",
      "Epoch 4/200\n",
      "266593/266593 [==============================] - 9s 34us/step - loss: 0.0239 - acc: 0.9900 - val_loss: 0.0174 - val_acc: 0.9929\n",
      "Epoch 5/200\n",
      "266593/266593 [==============================] - 9s 34us/step - loss: 0.0197 - acc: 0.9918 - val_loss: 0.0174 - val_acc: 0.9922\n",
      "Epoch 6/200\n",
      "266593/266593 [==============================] - 9s 34us/step - loss: 0.0188 - acc: 0.9922 - val_loss: 0.0412 - val_acc: 0.9827\n",
      "Epoch 7/200\n",
      "266593/266593 [==============================] - 9s 34us/step - loss: 0.0167 - acc: 0.9931 - val_loss: 0.0192 - val_acc: 0.9927\n",
      "Epoch 8/200\n",
      "266593/266593 [==============================] - 9s 34us/step - loss: 0.0147 - acc: 0.9938 - val_loss: 0.0108 - val_acc: 0.9951\n",
      "Epoch 9/200\n",
      "266593/266593 [==============================] - 9s 35us/step - loss: 0.0138 - acc: 0.9942 - val_loss: 0.0128 - val_acc: 0.9950\n",
      "Epoch 10/200\n",
      "266593/266593 [==============================] - 9s 35us/step - loss: 0.0126 - acc: 0.9948 - val_loss: 0.0092 - val_acc: 0.9962\n",
      "Epoch 11/200\n",
      "266593/266593 [==============================] - 10s 38us/step - loss: 0.0123 - acc: 0.9949 - val_loss: 0.0267 - val_acc: 0.9910\n",
      "Epoch 12/200\n",
      "266593/266593 [==============================] - 10s 39us/step - loss: 0.0108 - acc: 0.9954 - val_loss: 0.0087 - val_acc: 0.9963\n",
      "Epoch 13/200\n",
      "266593/266593 [==============================] - 10s 39us/step - loss: 0.0109 - acc: 0.9953 - val_loss: 0.0089 - val_acc: 0.9964\n",
      "Epoch 14/200\n",
      "266593/266593 [==============================] - 10s 39us/step - loss: 0.0105 - acc: 0.9958 - val_loss: 0.0188 - val_acc: 0.9936\n",
      "Epoch 15/200\n",
      "266593/266593 [==============================] - 10s 38us/step - loss: 0.0097 - acc: 0.9959 - val_loss: 0.0089 - val_acc: 0.9965\n",
      "Epoch 16/200\n",
      "266593/266593 [==============================] - 10s 38us/step - loss: 0.0088 - acc: 0.9963 - val_loss: 0.0120 - val_acc: 0.9956\n",
      "Epoch 17/200\n",
      "266593/266593 [==============================] - 10s 38us/step - loss: 0.0088 - acc: 0.9963 - val_loss: 0.0069 - val_acc: 0.9974\n",
      "Epoch 18/200\n",
      "266593/266593 [==============================] - 10s 39us/step - loss: 0.0080 - acc: 0.9966 - val_loss: 0.0111 - val_acc: 0.9955\n",
      "Epoch 19/200\n",
      "266593/266593 [==============================] - 10s 39us/step - loss: 0.0080 - acc: 0.9968 - val_loss: 0.0075 - val_acc: 0.9975\n",
      "Epoch 20/200\n",
      "266593/266593 [==============================] - 10s 39us/step - loss: 0.0073 - acc: 0.9970 - val_loss: 0.0106 - val_acc: 0.9962\n",
      "Epoch 21/200\n",
      "266593/266593 [==============================] - 10s 39us/step - loss: 0.0071 - acc: 0.9970 - val_loss: 0.0053 - val_acc: 0.9979\n",
      "Epoch 22/200\n",
      "266593/266593 [==============================] - 10s 39us/step - loss: 0.0069 - acc: 0.9973 - val_loss: 0.0049 - val_acc: 0.9979\n",
      "Epoch 23/200\n",
      "266593/266593 [==============================] - 10s 39us/step - loss: 0.0065 - acc: 0.9973 - val_loss: 0.0055 - val_acc: 0.9976\n",
      "Epoch 24/200\n",
      "266593/266593 [==============================] - 10s 39us/step - loss: 0.0063 - acc: 0.9976 - val_loss: 0.0050 - val_acc: 0.9980\n",
      "Epoch 25/200\n",
      "266593/266593 [==============================] - 11s 39us/step - loss: 0.0062 - acc: 0.9975 - val_loss: 0.0055 - val_acc: 0.9982\n",
      "Epoch 26/200\n",
      "266593/266593 [==============================] - 10s 39us/step - loss: 0.0061 - acc: 0.9975 - val_loss: 0.0052 - val_acc: 0.9977\n",
      "Epoch 27/200\n",
      "266593/266593 [==============================] - 10s 39us/step - loss: 0.0060 - acc: 0.9976 - val_loss: 0.0056 - val_acc: 0.9980\n",
      "--- ANN spent 267.99476432800293 seconds ---\n"
     ]
    }
   ],
   "source": [
    "hist_sp_ann_2h_unisoftsigbinlosadam = ann_fit(checkpoint_file = \"ann_2h_unisoftsigbinlosadam3_redds\"+str(dsnum)+\"bal.h5\",\n",
    "                                        ann = sp_ann_2h_unisoftsigbinlosadam,\n",
    "                                        enc_train_x = enc_train_x_spsam,\n",
    "                                        train_y = train_y,\n",
    "                                        epochs = 200,\n",
    "                                        shuffle = True,\n",
    "                                        batch_size = batch_size)"
   ]
  },
  {
   "cell_type": "code",
   "execution_count": 103,
   "metadata": {},
   "outputs": [],
   "source": [
    "# hist_ann_2h_unisoftsigbinlosadam.model.get_weights()"
   ]
  },
  {
   "cell_type": "code",
   "execution_count": 104,
   "metadata": {},
   "outputs": [
    {
     "name": "stdout",
     "output_type": "stream",
     "text": [
      "Best loss value: 0.0059646206174904645\n"
     ]
    },
    {
     "data": {
      "image/png": "[encoded data removed]",
      "text/plain": [
       "<Figure size 432x288 with 1 Axes>"
      ]
     },
     "metadata": {
      "needs_background": "light"
     },
     "output_type": "display_data"
    }
   ],
   "source": [
    "best_loss_value_sp_ann_2h_unisoftsigbinlosadam = plot_hist_auto(hist_sp_ann_2h_unisoftsigbinlosadam, './Figures/sp_ann_2h_unisoftsigbinlosadam'+str(dsnum)+'.png')"
   ]
  },
  {
   "cell_type": "code",
   "execution_count": 105,
   "metadata": {},
   "outputs": [
    {
     "name": "stdout",
     "output_type": "stream",
     "text": [
      "Overall accuracy of Neural Network model: 0.9977818108489614\n",
      "              precision    recall  f1-score   support\n",
      "\n",
      "           0     0.9992    0.9964    0.9978     52145\n",
      "           1     0.9964    0.9992    0.9978     51994\n",
      "\n",
      "   micro avg     0.9978    0.9978    0.9978    104139\n",
      "   macro avg     0.9978    0.9978    0.9978    104139\n",
      "weighted avg     0.9978    0.9978    0.9978    104139\n",
      "\n"
     ]
    }
   ],
   "source": [
    "pred_sp_ann_2h_prob_unisoftsigbinlosadam, pred_sp_ann_2h_01_unisoftsigbinlosadam = ann_predict(sp_ann_2h_unisoftsigbinlosadam,enc_test_x_spsam)"
   ]
  },
  {
   "cell_type": "code",
   "execution_count": 106,
   "metadata": {},
   "outputs": [
    {
     "data": {
      "image/png": "[encoded data removed]",
      "text/plain": [
       "<Figure size 432x288 with 1 Axes>"
      ]
     },
     "metadata": {
      "needs_background": "light"
     },
     "output_type": "display_data"
    },
    {
     "data": {
      "image/png": "[encoded data removed]",
      "text/plain": [
       "<Figure size 576x432 with 2 Axes>"
      ]
     },
     "metadata": {
      "needs_background": "light"
     },
     "output_type": "display_data"
    }
   ],
   "source": [
    "plot_roc_cm(pred_sp_ann_2h_01_unisoftsigbinlosadam, pred_sp_ann_2h_01_unisoftsigbinlosadam, './Figures/ROC_sp_ann_2h_unisoftsigbinlosadam_redds'+str(dsnum)+'bal.png', './Figures/CM_sp_ann_2h_unisoftsigbinlosadam_redds'+str(dsnum)+'bal.png')"
   ]
  },
  {
   "cell_type": "code",
   "execution_count": null,
   "metadata": {},
   "outputs": [],
   "source": []
  },
  {
   "cell_type": "code",
   "execution_count": 78,
   "metadata": {},
   "outputs": [
    {
     "name": "stdout",
     "output_type": "stream",
     "text": [
      "_________________________________________________________________\n",
      "Layer (type)                 Output Shape              Param #   \n",
      "=================================================================\n",
      "dense_23 (Dense)             (None, 120)               9720      \n",
      "_________________________________________________________________\n",
      "dense_24 (Dense)             (None, 90)                10890     \n",
      "_________________________________________________________________\n",
      "dense_25 (Dense)             (None, 60)                5460      \n",
      "_________________________________________________________________\n",
      "batch_normalization_6 (Batch (None, 60)                240       \n",
      "_________________________________________________________________\n",
      "dropout_6 (Dropout)          (None, 60)                0         \n",
      "_________________________________________________________________\n",
      "dense_26 (Dense)             (None, 1)                 61        \n",
      "=================================================================\n",
      "Total params: 26,371\n",
      "Trainable params: 26,251\n",
      "Non-trainable params: 120\n",
      "_________________________________________________________________\n",
      "None\n"
     ]
    }
   ],
   "source": [
    "ann_2h_unisoftsigbinlosadam4 = ann_2h(neurons=neurons,\n",
    "                                      encoded_train_x=enc_train_x_asal,\n",
    "                                      init_mode='uniform',\n",
    "                                      activation_input='relu',\n",
    "                                      weight_constraint=5,\n",
    "                                      dropout_rate=0.0,\n",
    "                                      activation_output='sigmoid',\n",
    "                                      loss='binary_crossentropy',\n",
    "                                      optimizer='Adam')"
   ]
  },
  {
   "cell_type": "code",
   "execution_count": 79,
   "metadata": {},
   "outputs": [
    {
     "name": "stdout",
     "output_type": "stream",
     "text": [
      "Wed Jun 12 17:16:29 2019\n",
      "Train on 266593 samples, validate on 66649 samples\n",
      "Epoch 1/200\n",
      "266593/266593 [==============================] - 9s 35us/step - loss: 0.1024 - acc: 0.9555 - val_loss: 0.0440 - val_acc: 0.9809\n",
      "Epoch 2/200\n",
      "266593/266593 [==============================] - 8s 32us/step - loss: 0.0361 - acc: 0.9844 - val_loss: 0.0332 - val_acc: 0.9878\n",
      "Epoch 3/200\n",
      "266593/266593 [==============================] - 8s 32us/step - loss: 0.0275 - acc: 0.9884 - val_loss: 0.0273 - val_acc: 0.9884\n",
      "Epoch 4/200\n",
      "266593/266593 [==============================] - 8s 31us/step - loss: 0.0246 - acc: 0.9896 - val_loss: 0.0166 - val_acc: 0.9932\n",
      "Epoch 5/200\n",
      "266593/266593 [==============================] - 8s 32us/step - loss: 0.0207 - acc: 0.9913 - val_loss: 0.0460 - val_acc: 0.9836\n",
      "Epoch 6/200\n",
      "266593/266593 [==============================] - 8s 31us/step - loss: 0.0184 - acc: 0.9923 - val_loss: 0.0149 - val_acc: 0.9939\n",
      "Epoch 7/200\n",
      "266593/266593 [==============================] - 8s 32us/step - loss: 0.0171 - acc: 0.9928 - val_loss: 0.0133 - val_acc: 0.9945\n",
      "Epoch 8/200\n",
      "266593/266593 [==============================] - 8s 32us/step - loss: 0.0148 - acc: 0.9937 - val_loss: 0.0189 - val_acc: 0.9924\n",
      "Epoch 9/200\n",
      "266593/266593 [==============================] - 8s 31us/step - loss: 0.0150 - acc: 0.9938 - val_loss: 0.0157 - val_acc: 0.9940\n",
      "Epoch 10/200\n",
      "266593/266593 [==============================] - 8s 31us/step - loss: 0.0126 - acc: 0.9948 - val_loss: 0.0116 - val_acc: 0.9960\n",
      "Epoch 11/200\n",
      "266593/266593 [==============================] - 8s 32us/step - loss: 0.0127 - acc: 0.9948 - val_loss: 0.0114 - val_acc: 0.9953\n",
      "Epoch 12/200\n",
      "266593/266593 [==============================] - 8s 32us/step - loss: 0.0106 - acc: 0.9956 - val_loss: 0.0093 - val_acc: 0.9961\n",
      "Epoch 13/200\n",
      "266593/266593 [==============================] - 8s 32us/step - loss: 0.0103 - acc: 0.9959 - val_loss: 0.0143 - val_acc: 0.9944\n",
      "Epoch 14/200\n",
      "266593/266593 [==============================] - 8s 31us/step - loss: 0.0105 - acc: 0.9957 - val_loss: 0.0081 - val_acc: 0.9971\n",
      "Epoch 15/200\n",
      "266593/266593 [==============================] - 8s 31us/step - loss: 0.0094 - acc: 0.9960 - val_loss: 0.0070 - val_acc: 0.9972\n",
      "Epoch 16/200\n",
      "266593/266593 [==============================] - 8s 31us/step - loss: 0.0092 - acc: 0.9963 - val_loss: 0.0087 - val_acc: 0.9961\n",
      "Epoch 17/200\n",
      "266593/266593 [==============================] - 8s 31us/step - loss: 0.0085 - acc: 0.9964 - val_loss: 0.0103 - val_acc: 0.9958\n",
      "Epoch 18/200\n",
      "266593/266593 [==============================] - 8s 31us/step - loss: 0.0077 - acc: 0.9969 - val_loss: 0.0089 - val_acc: 0.9969\n",
      "Epoch 19/200\n",
      "266593/266593 [==============================] - 8s 32us/step - loss: 0.0076 - acc: 0.9969 - val_loss: 0.0077 - val_acc: 0.9969\n",
      "Epoch 20/200\n",
      "266593/266593 [==============================] - 8s 31us/step - loss: 0.0074 - acc: 0.9970 - val_loss: 0.0074 - val_acc: 0.9970\n",
      "--- ANN spent 168.85932898521423 seconds ---\n"
     ]
    }
   ],
   "source": [
    "hist_ann_2h_unisoftsigbinlosadam4 = ann_fit(checkpoint_file = \"ann_2h_unisoftsigbinlosadam4_redds\"+str(dsnum)+\"bal.h5\",\n",
    "                                        ann = ann_2h_unisoftsigbinlosadam4,\n",
    "                                        enc_train_x = enc_train_x_asal,\n",
    "                                        train_y = train_y,\n",
    "                                        epochs = 200,\n",
    "                                        shuffle = True,\n",
    "                                        batch_size = batch_size)"
   ]
  },
  {
   "cell_type": "code",
   "execution_count": 80,
   "metadata": {},
   "outputs": [],
   "source": [
    "# hist_ann_2h_unisoftsigbinlosadam.model.get_weights()"
   ]
  },
  {
   "cell_type": "code",
   "execution_count": 81,
   "metadata": {},
   "outputs": [
    {
     "name": "stdout",
     "output_type": "stream",
     "text": [
      "Best loss value: 0.007400599754867796\n"
     ]
    },
    {
     "data": {
      "image/png": "[encoded data removed]",
      "text/plain": [
       "<Figure size 432x288 with 1 Axes>"
      ]
     },
     "metadata": {
      "needs_background": "light"
     },
     "output_type": "display_data"
    }
   ],
   "source": [
    "best_loss_value_ann_2h_unisoftsigbinlosadam4 = plot_hist_auto(hist_ann_2h_unisoftsigbinlosadam4, './Figures/ann_2h_unisoftsigbinlosadam4'+str(dsnum)+'.png')"
   ]
  },
  {
   "cell_type": "code",
   "execution_count": 82,
   "metadata": {},
   "outputs": [
    {
     "name": "stdout",
     "output_type": "stream",
     "text": [
      "Overall accuracy of Neural Network model: 0.997042414465282\n",
      "              precision    recall  f1-score   support\n",
      "\n",
      "           0     0.9979    0.9962    0.9970     52145\n",
      "           1     0.9962    0.9979    0.9970     51994\n",
      "\n",
      "   micro avg     0.9970    0.9970    0.9970    104139\n",
      "   macro avg     0.9970    0.9970    0.9970    104139\n",
      "weighted avg     0.9970    0.9970    0.9970    104139\n",
      "\n"
     ]
    }
   ],
   "source": [
    "pred_ann_2h_prob_unisoftsigbinlosadam4, pred_ann_2h_01_unisoftsigbinlosadam4 = ann_predict(ann_2h_unisoftsigbinlosadam4,enc_test_x_asal)"
   ]
  },
  {
   "cell_type": "code",
   "execution_count": 83,
   "metadata": {},
   "outputs": [
    {
     "data": {
      "image/png": "[encoded data removed]",
      "text/plain": [
       "<Figure size 432x288 with 1 Axes>"
      ]
     },
     "metadata": {
      "needs_background": "light"
     },
     "output_type": "display_data"
    },
    {
     "data": {
      "image/png": "[encoded data removed]",
      "text/plain": [
       "<Figure size 576x432 with 2 Axes>"
      ]
     },
     "metadata": {
      "needs_background": "light"
     },
     "output_type": "display_data"
    }
   ],
   "source": [
    "plot_roc_cm(pred_ann_2h_01_unisoftsigbinlosadam4, pred_ann_2h_01_unisoftsigbinlosadam4, './Figures/ROC_ann_2h_unisoftsigbinlosadam4_redds'+str(dsnum)+'bal.png', './Figures/CM_ann_2h_unisoftsigbinlosadam4_redds'+str(dsnum)+'bal.png')"
   ]
  },
  {
   "cell_type": "code",
   "execution_count": null,
   "metadata": {},
   "outputs": [],
   "source": []
  },
  {
   "cell_type": "code",
   "execution_count": 84,
   "metadata": {},
   "outputs": [
    {
     "name": "stdout",
     "output_type": "stream",
     "text": [
      "_________________________________________________________________\n",
      "Layer (type)                 Output Shape              Param #   \n",
      "=================================================================\n",
      "dense_27 (Dense)             (None, 120)               14520     \n",
      "_________________________________________________________________\n",
      "dense_28 (Dense)             (None, 90)                10890     \n",
      "_________________________________________________________________\n",
      "batch_normalization_7 (Batch (None, 90)                360       \n",
      "_________________________________________________________________\n",
      "dropout_7 (Dropout)          (None, 90)                0         \n",
      "_________________________________________________________________\n",
      "dense_29 (Dense)             (None, 1)                 91        \n",
      "=================================================================\n",
      "Total params: 25,861\n",
      "Trainable params: 25,681\n",
      "Non-trainable params: 180\n",
      "_________________________________________________________________\n",
      "None\n"
     ]
    }
   ],
   "source": [
    "ann_24n_unisoftsigbinlosadam = ann_1h_24n(neurons=neurons,\n",
    "                                      encoded_train_x=train_x,\n",
    "                                      init_mode='uniform',\n",
    "                                      activation_input='softsign',\n",
    "                                      weight_constraint=5,\n",
    "                                      dropout_rate=0.0,\n",
    "                                      activation_output='sigmoid',\n",
    "                                      loss='binary_crossentropy',\n",
    "                                      optimizer='Adam')"
   ]
  },
  {
   "cell_type": "code",
   "execution_count": 85,
   "metadata": {},
   "outputs": [
    {
     "name": "stdout",
     "output_type": "stream",
     "text": [
      "Wed Jun 12 17:19:21 2019\n",
      "Train on 266593 samples, validate on 66649 samples\n",
      "Epoch 1/200\n",
      "266593/266593 [==============================] - 10s 38us/step - loss: 0.0607 - acc: 0.9764 - val_loss: 0.0213 - val_acc: 0.9916\n",
      "Epoch 2/200\n",
      "266593/266593 [==============================] - 9s 35us/step - loss: 0.0219 - acc: 0.9909 - val_loss: 0.0164 - val_acc: 0.9919\n",
      "Epoch 3/200\n",
      "266593/266593 [==============================] - 9s 34us/step - loss: 0.0178 - acc: 0.9927 - val_loss: 0.0162 - val_acc: 0.9934\n",
      "Epoch 4/200\n",
      "266593/266593 [==============================] - 9s 35us/step - loss: 0.0153 - acc: 0.9939 - val_loss: 0.0136 - val_acc: 0.9945\n",
      "Epoch 5/200\n",
      "266593/266593 [==============================] - 9s 35us/step - loss: 0.0136 - acc: 0.9941 - val_loss: 0.0110 - val_acc: 0.9948\n",
      "Epoch 6/200\n",
      "266593/266593 [==============================] - 9s 35us/step - loss: 0.0121 - acc: 0.9949 - val_loss: 0.0120 - val_acc: 0.9939\n",
      "Epoch 7/200\n",
      "266593/266593 [==============================] - 9s 34us/step - loss: 0.0113 - acc: 0.9953 - val_loss: 0.0092 - val_acc: 0.9961\n",
      "Epoch 8/200\n",
      "266593/266593 [==============================] - 9s 35us/step - loss: 0.0098 - acc: 0.9962 - val_loss: 0.0084 - val_acc: 0.9961\n",
      "Epoch 9/200\n",
      "266593/266593 [==============================] - 9s 35us/step - loss: 0.0095 - acc: 0.9963 - val_loss: 0.0127 - val_acc: 0.9949\n",
      "Epoch 10/200\n",
      "266593/266593 [==============================] - 9s 35us/step - loss: 0.0085 - acc: 0.9965 - val_loss: 0.0070 - val_acc: 0.9968\n",
      "Epoch 11/200\n",
      "266593/266593 [==============================] - 9s 35us/step - loss: 0.0081 - acc: 0.9968 - val_loss: 0.0073 - val_acc: 0.9965\n",
      "Epoch 12/200\n",
      "266593/266593 [==============================] - 9s 35us/step - loss: 0.0081 - acc: 0.9968 - val_loss: 0.0069 - val_acc: 0.9974\n",
      "Epoch 13/200\n",
      "266593/266593 [==============================] - 9s 35us/step - loss: 0.0072 - acc: 0.9972 - val_loss: 0.0061 - val_acc: 0.9973\n",
      "Epoch 14/200\n",
      "266593/266593 [==============================] - 9s 35us/step - loss: 0.0070 - acc: 0.9972 - val_loss: 0.0058 - val_acc: 0.9977\n",
      "Epoch 15/200\n",
      "266593/266593 [==============================] - 9s 34us/step - loss: 0.0068 - acc: 0.9974 - val_loss: 0.0075 - val_acc: 0.9971\n",
      "Epoch 16/200\n",
      "266593/266593 [==============================] - 9s 35us/step - loss: 0.0065 - acc: 0.9975 - val_loss: 0.0040 - val_acc: 0.9986\n",
      "Epoch 17/200\n",
      "266593/266593 [==============================] - 9s 35us/step - loss: 0.0059 - acc: 0.9976 - val_loss: 0.0042 - val_acc: 0.9983\n",
      "Epoch 18/200\n",
      "266593/266593 [==============================] - 9s 35us/step - loss: 0.0057 - acc: 0.9978 - val_loss: 0.0047 - val_acc: 0.9985\n",
      "Epoch 19/200\n",
      "266593/266593 [==============================] - 9s 34us/step - loss: 0.0057 - acc: 0.9979 - val_loss: 0.0047 - val_acc: 0.9983\n",
      "Epoch 20/200\n",
      "266593/266593 [==============================] - 9s 34us/step - loss: 0.0051 - acc: 0.9980 - val_loss: 0.0038 - val_acc: 0.9985\n",
      "Epoch 21/200\n",
      "266593/266593 [==============================] - 9s 34us/step - loss: 0.0051 - acc: 0.9980 - val_loss: 0.0047 - val_acc: 0.9984\n",
      "Epoch 22/200\n",
      "266593/266593 [==============================] - 9s 34us/step - loss: 0.0048 - acc: 0.9982 - val_loss: 0.0037 - val_acc: 0.9984\n",
      "Epoch 23/200\n",
      "266593/266593 [==============================] - 9s 33us/step - loss: 0.0050 - acc: 0.9981 - val_loss: 0.0034 - val_acc: 0.9989\n",
      "Epoch 24/200\n",
      "266593/266593 [==============================] - 9s 33us/step - loss: 0.0047 - acc: 0.9982 - val_loss: 0.0043 - val_acc: 0.9987\n",
      "Epoch 25/200\n",
      "266593/266593 [==============================] - 9s 33us/step - loss: 0.0043 - acc: 0.9983 - val_loss: 0.0069 - val_acc: 0.9971\n",
      "Epoch 26/200\n",
      "266593/266593 [==============================] - 9s 33us/step - loss: 0.0041 - acc: 0.9984 - val_loss: 0.0042 - val_acc: 0.9986\n",
      "Epoch 27/200\n",
      "266593/266593 [==============================] - 9s 33us/step - loss: 0.0044 - acc: 0.9984 - val_loss: 0.0028 - val_acc: 0.9989\n",
      "Epoch 28/200\n",
      "266593/266593 [==============================] - 9s 33us/step - loss: 0.0039 - acc: 0.9985 - val_loss: 0.0038 - val_acc: 0.9987\n",
      "Epoch 29/200\n",
      "266593/266593 [==============================] - 9s 33us/step - loss: 0.0041 - acc: 0.9984 - val_loss: 0.0047 - val_acc: 0.9978\n",
      "Epoch 30/200\n",
      "266593/266593 [==============================] - 9s 32us/step - loss: 0.0041 - acc: 0.9985 - val_loss: 0.0048 - val_acc: 0.9985\n",
      "Epoch 31/200\n",
      "266593/266593 [==============================] - 9s 33us/step - loss: 0.0034 - acc: 0.9987 - val_loss: 0.0028 - val_acc: 0.9987\n",
      "Epoch 32/200\n",
      "266593/266593 [==============================] - 9s 33us/step - loss: 0.0039 - acc: 0.9985 - val_loss: 0.0043 - val_acc: 0.9988\n",
      "--- ANN spent 292.3414168357849 seconds ---\n"
     ]
    }
   ],
   "source": [
    "hist_ann_24n_unisoftsigbinlosadam = ann_fit(checkpoint_file = \"ann_24n_unisoftsigbinlosadam_redds\"+str(dsnum)+\"bal.h5\",\n",
    "                                        ann = ann_24n_unisoftsigbinlosadam,\n",
    "                                        enc_train_x = train_x,\n",
    "                                        train_y = train_y,\n",
    "                                        epochs = 200,\n",
    "                                        shuffle = True,\n",
    "                                        batch_size = batch_size)"
   ]
  },
  {
   "cell_type": "code",
   "execution_count": 86,
   "metadata": {},
   "outputs": [
    {
     "name": "stdout",
     "output_type": "stream",
     "text": [
      "Best loss value: 0.003940822466012469\n"
     ]
    },
    {
     "data": {
      "image/png": "[encoded data removed]",
      "text/plain": [
       "<Figure size 432x288 with 1 Axes>"
      ]
     },
     "metadata": {
      "needs_background": "light"
     },
     "output_type": "display_data"
    }
   ],
   "source": [
    "best_loss_value_ann_24n_unisoftsigbinlosadam = plot_hist_auto(hist_ann_24n_unisoftsigbinlosadam, './Figures/ann_24_unisoftsigbinlosadam'+str(dsnum)+'.png')"
   ]
  },
  {
   "cell_type": "code",
   "execution_count": 87,
   "metadata": {},
   "outputs": [
    {
     "name": "stdout",
     "output_type": "stream",
     "text": [
      "Overall accuracy of Neural Network model: 0.9989053092501369\n",
      "              precision    recall  f1-score   support\n",
      "\n",
      "           0     1.0000    0.9979    0.9989     52145\n",
      "           1     0.9979    1.0000    0.9989     51994\n",
      "\n",
      "   micro avg     0.9989    0.9989    0.9989    104139\n",
      "   macro avg     0.9989    0.9989    0.9989    104139\n",
      "weighted avg     0.9989    0.9989    0.9989    104139\n",
      "\n"
     ]
    }
   ],
   "source": [
    "pred_ann_24n_prob_unisoftsigbinlosadam, pred_ann_24n_01_unisoftsigbinlosadam = ann_predict(ann_24n_unisoftsigbinlosadam,test_x)"
   ]
  },
  {
   "cell_type": "code",
   "execution_count": 88,
   "metadata": {},
   "outputs": [
    {
     "data": {
      "image/png": "[encoded data removed]",
      "text/plain": [
       "<Figure size 432x288 with 1 Axes>"
      ]
     },
     "metadata": {
      "needs_background": "light"
     },
     "output_type": "display_data"
    },
    {
     "data": {
      "image/png": "[encoded data removed]",
      "text/plain": [
       "<Figure size 576x432 with 2 Axes>"
      ]
     },
     "metadata": {
      "needs_background": "light"
     },
     "output_type": "display_data"
    }
   ],
   "source": [
    "plot_roc_cm(pred_ann_24n_01_unisoftsigbinlosadam, pred_ann_24n_01_unisoftsigbinlosadam, './Figures/ROC_ann_24n_unisoftsigbinlosadam_redds'+str(dsnum)+'bal.png', './Figures/CM_ann_24n_unisoftsigbinlosadam_redds'+str(dsnum)+'bal.png')"
   ]
  },
  {
   "cell_type": "code",
   "execution_count": 89,
   "metadata": {},
   "outputs": [],
   "source": [
    "from sklearn.ensemble import RandomForestClassifier"
   ]
  },
  {
   "cell_type": "code",
   "execution_count": 90,
   "metadata": {},
   "outputs": [],
   "source": [
    "clf = RandomForestClassifier(n_estimators=300, \n",
    "                             criterion='gini', \n",
    "                             max_depth=16, \n",
    "#                              min_samples_split=2, \n",
    "                             #min_samples_leaf=1, \n",
    "                             max_features=0.3, \n",
    "                             #bootstrap=True,\n",
    "                             oob_score=True,\n",
    "                             random_state=23)  "
   ]
  },
  {
   "cell_type": "code",
   "execution_count": 91,
   "metadata": {},
   "outputs": [
    {
     "name": "stdout",
     "output_type": "stream",
     "text": [
      "Wed Jun 12 17:24:17 2019\n",
      "--- 2626.282263994217 seconds ---\n",
      "              precision    recall  f1-score   support\n",
      "\n",
      "           0     0.9971    0.9994    0.9983     52145\n",
      "           1     0.9994    0.9971    0.9983     51994\n",
      "\n",
      "   micro avg     0.9983    0.9983    0.9983    104139\n",
      "   macro avg     0.9983    0.9983    0.9983    104139\n",
      "weighted avg     0.9983    0.9983    0.9983    104139\n",
      "\n"
     ]
    }
   ],
   "source": [
    "start_time = time.time()\n",
    "print(time.ctime(start_time))\n",
    "\n",
    "clf.fit(enc_train_x_asam, train_y)\n",
    "\n",
    "pred_y_RF = cross_val_predict(estimator=clf,\n",
    "                              X=np.array(enc_test_x_asam),\n",
    "                              y=test_y,\n",
    "                              cv=KFold(n_splits=5, random_state=23),\n",
    "                              n_jobs=2)\n",
    "\n",
    "elapsed_time = (time.time() - start_time)\n",
    "print(\"--- %s seconds ---\" %elapsed_time)\n",
    "\n",
    "print(sm.classification_report(test_y, pred_y_RF,digits=4))"
   ]
  },
  {
   "cell_type": "code",
   "execution_count": 92,
   "metadata": {},
   "outputs": [
    {
     "data": {
      "image/png": "[encoded data removed]",
      "text/plain": [
       "<Figure size 432x288 with 1 Axes>"
      ]
     },
     "metadata": {
      "needs_background": "light"
     },
     "output_type": "display_data"
    },
    {
     "data": {
      "image/png": "[encoded data removed]",
      "text/plain": [
       "<Figure size 576x432 with 2 Axes>"
      ]
     },
     "metadata": {
      "needs_background": "light"
     },
     "output_type": "display_data"
    }
   ],
   "source": [
    "plot_roc_cm(pred_y_RF, pred_y_RF, './Figures/ROC_rf_E100MaxfautoMaxdnoneBootT_redds'+str(dsnum)+'bal.png', './Figures/CM_rf_E100MaxfautoMaxdnoneBootT_redds'+str(dsnum)+'bal.png')"
   ]
  },
  {
   "cell_type": "code",
   "execution_count": null,
   "metadata": {},
   "outputs": [],
   "source": []
  },
  {
   "cell_type": "code",
   "execution_count": null,
   "metadata": {},
   "outputs": [],
   "source": []
  },
  {
   "cell_type": "code",
   "execution_count": null,
   "metadata": {},
   "outputs": [],
   "source": []
  }
 ],
 "metadata": {
  "kernelspec": {
   "display_name": "Python 3",
   "language": "python",
   "name": "python3"
  },
  "language_info": {
   "codemirror_mode": {
    "name": "ipython",
    "version": 3
   },
   "file_extension": ".py",
   "mimetype": "text/x-python",
   "name": "python",
   "nbconvert_exporter": "python",
   "pygments_lexer": "ipython3",
   "version": "3.6.8"
  }
 },
 "nbformat": 4,
 "nbformat_minor": 2
}
